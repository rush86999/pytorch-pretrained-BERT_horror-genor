{
 "cells": [
  {
   "cell_type": "markdown",
   "metadata": {
    "ExecuteTime": {
     "end_time": "2018-11-04T02:29:54.022099Z",
     "start_time": "2018-11-04T02:29:54.017857Z"
    }
   },
   "source": [
    "# Fetch guternberg books from a category"
   ]
  },
  {
   "cell_type": "markdown",
   "metadata": {},
   "source": [
    "## Step 1, get book ids\n",
    "\n",
    "- go to http://m.gutenberg.org/ebooks/search.mobile/?query=bsxHorror&sort_order=downloads\n",
    "\n",
    "- scroll to the bottom and click \"show more\" a few times\n",
    "- enter the javascript below in the browsers js console\n",
    "- it should have copied the ids to your clipboard, you can paste it into \"ids\" below\n",
    "\n",
    "\n",
    "```js\n",
    "// to get all book ids shown on page, paste this javascript into js console in browser when on the page above\n",
    "a_elems = document.getElementsByClassName(\"table link\")\n",
    "hrefs = Array.from(a_elems)\n",
    "  .map(e=>e.href) // get link\n",
    "  .filter(e=>e) // remove empty links\n",
    "ids = hrefs.map(e=>/(\\d+)\\.mobile/.exec(e)) // regular expression match\n",
    "  .filter(e=>e) // remove ones not found\n",
    "  .map(e=>e[1]) // get just id\n",
    "copy(ids) // copy to clipboard\n",
    "```"
   ]
  },
  {
   "cell_type": "code",
   "execution_count": 1,
   "metadata": {},
   "outputs": [],
   "source": [
    "import os\n",
    "os.sys.path.append('..')"
   ]
  },
  {
   "cell_type": "code",
   "execution_count": 2,
   "metadata": {
    "ExecuteTime": {
     "end_time": "2018-11-10T07:56:34.724454Z",
     "start_time": "2018-11-10T07:56:34.718401Z"
    }
   },
   "outputs": [],
   "source": [
    "import requests\n",
    "import os\n",
    "import re\n",
    "import bs4\n",
    "import time\n",
    "import json\n",
    "\n",
    "\n",
    "dest_dir = '../data/input/erotica_gutenberg'\n",
    "if not os.path.isdir(dest_dir):\n",
    "    os.makedirs(dest_dir)\n",
    "    \n",
    "raw_dir = os.path.join(dest_dir, 'raw')\n",
    "if not os.path.isdir(raw_dir):\n",
    "    os.makedirs(raw_dir)"
   ]
  },
  {
   "cell_type": "code",
   "execution_count": 3,
   "metadata": {},
   "outputs": [],
   "source": [
    "from tqdm import tqdm as tqdm"
   ]
  },
  {
   "cell_type": "code",
   "execution_count": null,
   "metadata": {},
   "outputs": [],
   "source": []
  },
  {
   "cell_type": "code",
   "execution_count": 4,
   "metadata": {},
   "outputs": [],
   "source": [
    "from dataset import parse_gutenberg"
   ]
  },
  {
   "cell_type": "code",
   "execution_count": 5,
   "metadata": {
    "ExecuteTime": {
     "end_time": "2018-11-10T07:56:35.103285Z",
     "start_time": "2018-11-10T07:56:35.072670Z"
    }
   },
   "outputs": [],
   "source": [
    "# urls to download text inputs\n",
    "ids = [\n",
    "    \"30254\",\n",
    "    \"30360\",\n",
    "    \"28520\",\n",
    "    \"25305\",\n",
    "    \"14005\",\n",
    "    \"28522\",\n",
    "    \"31284\",\n",
    "    \"28521\",\n",
    "    \"29827\",\n",
    "    \"52059\",\n",
    "    \"14323\",\n",
    "    \"13610\",\n",
    "    \"57284\",\n",
    "    \"13972\",\n",
    "    \"52205\",\n",
    "    \"54672\",\n",
    "    \"13614\",\n",
    "    \"28718\",\n",
    "    \"44877\",\n",
    "    \"26804\",\n",
    "    \"45150\",\n",
    "    \"37491\",\n",
    "    \"43438\",\n",
    "    \"48943\",\n",
    "    \"53807\",\n",
    "    \"26456\",\n",
    "    \"26808\",\n",
    "    \"13971\",\n",
    "    \"42406\",\n",
    "    \"43823\",\n",
    "    \"39220\",\n",
    "    \"56779\",\n",
    "    \"26809\",\n",
    "    \"18610\",\n",
    "    \"44181\",\n",
    "    \"42212\",\n",
    "    \"26806\",\n",
    "    \"42586\",\n",
    "    \"47892\",\n",
    "    \"43822\",\n",
    "    \"49855\",\n",
    "    \"26562\",\n",
    "    \"26739\",\n",
    "    \"26807\",\n",
    "    \"20568\",\n",
    "    \"40877\",\n",
    "    \"54419\",\n",
    "    \"53944\",\n",
    "    \"40557\",\n",
    "    \"29049\",\n",
    "    \"25543\",\n",
    "    \"40902\",\n",
    "    \"41301\",\n",
    "    \"56491\",\n",
    "    \"28789\",\n",
    "    \"40496\"\n",
    "]\n"
   ]
  },
  {
   "cell_type": "code",
   "execution_count": 7,
   "metadata": {
    "ExecuteTime": {
     "end_time": "2018-11-10T07:59:46.778769Z",
     "start_time": "2018-11-10T07:56:37.592614Z"
    }
   },
   "outputs": [
    {
     "name": "stderr",
     "output_type": "stream",
     "text": [
      "100%|██████████| 56/56 [00:32<00:00,  1.72it/s]\n"
     ]
    }
   ],
   "source": [
    "# download/cache raw files\n",
    "for bid in tqdm(ids, mininterval=60):\n",
    "    \n",
    "    # first download index\n",
    "    index_url = \"http://www.gutenberg.org/files/{bid:}\".format(bid=bid)\n",
    "    r = requests.get(index_url)\n",
    "    r.raise_for_status()\n",
    "    soup = bs4.BeautifulSoup(r.content, \"html5lib\")\n",
    "    hrefs = [e.attrs['href'] for e in soup.findAll('a')]\n",
    "    links = [h for h in hrefs if h.endswith('.txt')]\n",
    "    time.sleep(0.1) # avoid ddos/ban\n",
    "    \n",
    "    # download text\n",
    "    for link in links:\n",
    "        txt_url = index_url + '/' + link\n",
    "        outfile = os.path.join(dest_dir, 'raw', link)\n",
    "        if not os.path.isfile(outfile):\n",
    "            r = requests.get(txt_url)\n",
    "            r.raise_for_status()\n",
    "            open(outfile, 'w').write(r.text)\n",
    "            \n",
    "            time.sleep(0.1) # avoid ddos/ban"
   ]
  },
  {
   "cell_type": "code",
   "execution_count": null,
   "metadata": {
    "ExecuteTime": {
     "end_time": "2018-11-10T07:59:46.801257Z",
     "start_time": "2018-11-10T07:59:46.784066Z"
    }
   },
   "outputs": [],
   "source": []
  },
  {
   "cell_type": "markdown",
   "metadata": {},
   "source": [
    "# 2. turn into cleaned(ish) txt"
   ]
  },
  {
   "cell_type": "code",
   "execution_count": 8,
   "metadata": {
    "ExecuteTime": {
     "end_time": "2018-11-10T07:59:47.220267Z",
     "start_time": "2018-11-10T07:59:46.804549Z"
    }
   },
   "outputs": [],
   "source": [
    "from sklearn.model_selection import train_test_split"
   ]
  },
  {
   "cell_type": "code",
   "execution_count": 9,
   "metadata": {
    "ExecuteTime": {
     "end_time": "2018-11-10T08:04:50.435774Z",
     "start_time": "2018-11-10T08:04:49.304240Z"
    }
   },
   "outputs": [
    {
     "name": "stdout",
     "output_type": "stream",
     "text": [
      "The Ladies Delight\n",
      "The Life and Amours of the Beautiful, Gay and Dashing Kate Percival, The Belle of the Delaware\n",
      "The Erotic Motive in Literature\n",
      "The Fifteen Comforts of Matrimony: Responses from Men\n",
      "    Problem: No title found\n",
      "\n",
      "    Problem: No '*** START' seen\n",
      "\n",
      "    Problem: No '*** END' seen\n",
      "\n",
      "The Power of Mesmerism, A Highly Erotic Narrative of Voluptuous Facts and Fancies\n",
      "Memoirs Of Fanny Hill, A New and Genuine Edition from the Original Text (London, 1749)\n",
      "Studies in the Psychology of Sex, Volume 5 (of 6)\n",
      "Forbidden Fruit, Luscious and exciting story and More forbidden fruit or, Master Percy's progress in and beyond the domestic circle\n",
      "La-bas\n",
      "Studies in the Psychology of Sex, Volume 5 (of 6)\n",
      "Là-bas\n",
      "    Problem: No title found\n",
      "\n",
      "    Problem: No '*** START' seen\n",
      "\n",
      "    Problem: No '*** END' seen\n",
      "\n",
      "The Power of Mesmerism, A Highly Erotic Narrative of Voluptuous Facts and Fancies\n",
      "Les Bijoux Indiscrets, or, The Indiscreet Toys\n",
      "Anthologica Rarissima: The Way of a Virgin\n",
      "The Life and Amours of the Beautiful, Gay and Dashing Kate Percival, The Belle of the Delaware\n",
      "Manual of Classical Erotology (De figuris Veneris)\n",
      "Studies in the Psychology of Sex, Volume 1 (of 6)\n",
      "Main Currents in Nineteenth Century Literature - 4. Naturalism in England\n",
      "Studies in the Psychology of Sex, Volume 1 (of 6)\n",
      "The Fifteen Comforts of Matrimony: Responses From Women\n",
      "The Romance of Lust A classic Victorian erotic novel\n",
      "Laura Middleton; Her Brother and her Lover\n"
     ]
    }
   ],
   "source": [
    "# convert raw text into one long csv\n",
    "\n",
    "max_len = 400\n",
    "num_sent = 6\n",
    "data=[]\n",
    "for infile in os.listdir(raw_dir):\n",
    "    path = os.path.join(raw_dir, infile)\n",
    "    info = parse_gutenberg(open(path).read())\n",
    "    if info['language']=='English':\n",
    "        print(info['title'])\n",
    "        data.append(info['content'])"
   ]
  },
  {
   "cell_type": "code",
   "execution_count": 10,
   "metadata": {
    "ExecuteTime": {
     "end_time": "2018-11-10T07:59:48.316190Z",
     "start_time": "2018-11-10T07:59:48.312740Z"
    }
   },
   "outputs": [],
   "source": [
    "x_train, x_test = train_test_split(data)\n",
    "x_val, x_test = train_test_split(x_test)"
   ]
  },
  {
   "cell_type": "code",
   "execution_count": 11,
   "metadata": {
    "ExecuteTime": {
     "end_time": "2018-11-10T07:59:48.427697Z",
     "start_time": "2018-11-10T07:59:48.318441Z"
    }
   },
   "outputs": [
    {
     "data": {
      "text/plain": [
       "798250"
      ]
     },
     "execution_count": 11,
     "metadata": {},
     "output_type": "execute_result"
    }
   ],
   "source": [
    "open(os.path.join(dest_dir, \"train.txt\"), \"w\").write(\"\\n\\n\".join(x_train))\n",
    "open(os.path.join(dest_dir, \"val.txt\"), \"w\").write(\"\\n\\n\".join(x_val))\n",
    "open(os.path.join(dest_dir, \"test.txt\"), \"w\").write(\"\\n\\n\".join(x_test))"
   ]
  },
  {
   "cell_type": "code",
   "execution_count": null,
   "metadata": {
    "ExecuteTime": {
     "end_time": "2018-11-10T04:40:37.630839Z",
     "start_time": "2018-11-10T04:40:37.623567Z"
    }
   },
   "outputs": [],
   "source": []
  },
  {
   "cell_type": "code",
   "execution_count": null,
   "metadata": {},
   "outputs": [],
   "source": []
  },
  {
   "cell_type": "code",
   "execution_count": null,
   "metadata": {},
   "outputs": [],
   "source": []
  }
 ],
 "metadata": {
  "kernelspec": {
   "display_name": "Python [conda env:pytorch_p36]",
   "language": "python",
   "name": "conda-env-pytorch_p36-py"
  },
  "language_info": {
   "codemirror_mode": {
    "name": "ipython",
    "version": 3
   },
   "file_extension": ".py",
   "mimetype": "text/x-python",
   "name": "python",
   "nbconvert_exporter": "python",
   "pygments_lexer": "ipython3",
   "version": "3.6.5"
  },
  "toc": {
   "colors": {
    "hover_highlight": "#DAA520",
    "navigate_num": "#000000",
    "navigate_text": "#333333",
    "running_highlight": "#FF0000",
    "selected_highlight": "#FFD700",
    "sidebar_border": "#EEEEEE",
    "wrapper_background": "#FFFFFF"
   },
   "moveMenuLeft": true,
   "nav_menu": {
    "height": "91px",
    "width": "251px"
   },
   "navigate_menu": true,
   "number_sections": true,
   "sideBar": true,
   "threshold": 4,
   "toc_cell": false,
   "toc_position": {
    "height": "647px",
    "left": "0px",
    "right": "1286.33px",
    "top": "150px",
    "width": "312px"
   },
   "toc_section_display": "block",
   "toc_window_display": true,
   "widenNotebook": false
  }
 },
 "nbformat": 4,
 "nbformat_minor": 2
}
