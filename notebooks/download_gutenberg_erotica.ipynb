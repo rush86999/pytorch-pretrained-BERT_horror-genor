{
 "cells": [
  {
   "cell_type": "markdown",
   "metadata": {
    "ExecuteTime": {
     "end_time": "2018-11-04T02:29:54.022099Z",
     "start_time": "2018-11-04T02:29:54.017857Z"
    }
   },
   "source": [
    "# Fetch guternberg books from a category"
   ]
  },
  {
   "cell_type": "markdown",
   "metadata": {},
   "source": [
    "## Step 1, get book ids\n",
    "\n",
    "- go to http://m.gutenberg.org/ebooks/search.mobile/?query=Erotic+%21+bsxErotic&sort_order=downloads\n",
    "\n",
    "- scroll to the bottom and click \"show more\" a few times\n",
    "- enter the javascript below in the browsers js console\n",
    "- it should have copied the ids to your clipboard, you can paste it into \"ids\" below\n",
    "\n",
    "\n",
    "```js\n",
    "// to get all book ids shown on page, paste this javascript into js console in browser when on the page above\n",
    "a_elems = document.getElementsByClassName(\"table link\")\n",
    "hrefs = Array.from(a_elems)\n",
    "  .map(e=>e.href) // get link\n",
    "  .filter(e=>e) // remove empty links\n",
    "ids = hrefs.map(e=>/(\\d+)\\.mobile/.exec(e)) // regular expression match\n",
    "  .filter(e=>e) // remove ones not found\n",
    "  .map(e=>e[1]) // get just id\n",
    "copy(ids) // copy to clipboard\n",
    "```"
   ]
  },
  {
   "cell_type": "code",
   "execution_count": 14,
   "metadata": {
    "ExecuteTime": {
     "end_time": "2018-11-10T04:04:12.853306Z",
     "start_time": "2018-11-10T04:04:12.848074Z"
    }
   },
   "outputs": [],
   "source": [
    "import requests\n",
    "import os\n",
    "import re\n",
    "import bs4\n",
    "import time\n",
    "import json\n",
    "from tqdm import tqdm_notebook as tqdm\n",
    "\n",
    "dest_dir = '../data/input/erotic_gutenberg'"
   ]
  },
  {
   "cell_type": "code",
   "execution_count": 15,
   "metadata": {
    "ExecuteTime": {
     "end_time": "2018-11-10T04:04:13.096433Z",
     "start_time": "2018-11-10T04:04:13.055156Z"
    }
   },
   "outputs": [],
   "source": [
    "# urls to download text inputs\n",
    "ids = [\n",
    "  \"30254\",\n",
    "  \"30360\",\n",
    "  \"28520\",\n",
    "  \"25305\",\n",
    "  \"14005\",\n",
    "  \"28522\",\n",
    "  \"31284\",\n",
    "  \"28521\",\n",
    "  \"29827\",\n",
    "  \"52059\",\n",
    "  \"14323\",\n",
    "  \"13610\",\n",
    "  \"57284\",\n",
    "  \"13972\",\n",
    "  \"52205\",\n",
    "  \"54672\",\n",
    "  \"13614\",\n",
    "  \"28718\",\n",
    "  \"44877\",\n",
    "  \"26804\",\n",
    "  \"45150\",\n",
    "  \"37491\",\n",
    "  \"43438\",\n",
    "  \"48943\",\n",
    "  \"53807\",\n",
    "  \"26456\",\n",
    "  \"26808\",\n",
    "  \"13971\",\n",
    "  \"42406\",\n",
    "  \"43823\",\n",
    "  \"39220\",\n",
    "  \"56779\",\n",
    "  \"26809\",\n",
    "  \"18610\",\n",
    "  \"44181\",\n",
    "  \"42212\",\n",
    "  \"26806\",\n",
    "  \"42586\",\n",
    "  \"47892\",\n",
    "  \"43822\",\n",
    "  \"49855\",\n",
    "  \"26562\",\n",
    "  \"26739\",\n",
    "  \"26807\",\n",
    "  \"20568\",\n",
    "  \"40877\",\n",
    "  \"54419\",\n",
    "  \"53944\",\n",
    "  \"40557\",\n",
    "  \"29049\",\n",
    "  \"25543\",\n",
    "  \"40902\",\n",
    "  \"41301\",\n",
    "  \"56491\",\n",
    "  \"28789\",\n",
    "  \"40496\"\n",
    "]"
   ]
  },
  {
   "cell_type": "code",
   "execution_count": 73,
   "metadata": {
    "ExecuteTime": {
     "end_time": "2018-11-10T04:24:29.836735Z",
     "start_time": "2018-11-10T04:22:05.257621Z"
    }
   },
   "outputs": [
    {
     "data": {
      "application/vnd.jupyter.widget-view+json": {
       "model_id": "d884118659a84f269f89fdc721e54050",
       "version_major": 2,
       "version_minor": 0
      },
      "text/plain": [
       "HBox(children=(IntProgress(value=0, max=56), HTML(value='')))"
      ]
     },
     "metadata": {},
     "output_type": "display_data"
    }
   ],
   "source": [
    "# download/cache raw files\n",
    "for bid in tqdm(ids):\n",
    "    \n",
    "    # first download index\n",
    "    index_url = \"http://www.gutenberg.org/files/{bid:}\".format(bid=bid)\n",
    "    r = requests.get(index_url)\n",
    "    r.raise_for_status()\n",
    "    soup = bs4.BeautifulSoup(r.content, \"html5lib\")\n",
    "    hrefs = [e.attrs['href'] for e in soup.findAll('a')]\n",
    "    links = [h for h in hrefs if h.endswith('.txt')]\n",
    "    \n",
    "    # download text\n",
    "    for link in links:\n",
    "        txt_url = index_url + '/' + link\n",
    "        outfile = os.path.join(dest_dir, 'raw', link)\n",
    "        if not os.path.isfile(outfile):\n",
    "            r = requests.get(txt_url)\n",
    "            r.raise_for_status()\n",
    "            open(outfile, 'w').write(r.text)\n",
    "            \n",
    "        \n",
    "    time.sleep(0.5) # avoid ddos/ban"
   ]
  },
  {
   "cell_type": "code",
   "execution_count": 74,
   "metadata": {
    "ExecuteTime": {
     "end_time": "2018-11-10T04:25:03.855898Z",
     "start_time": "2018-11-10T04:25:03.836364Z"
    }
   },
   "outputs": [],
   "source": [
    "# from https://github.com/motoom/gutenberg-ebook-scraping/blob/master/gutenberg.py\n",
    "\n",
    "# Repetitive stuff I don't want to read a 1000 times on my eBook reader.\n",
    "remove = [\"Produced by\",\"End of the Project Gutenberg\",\"End of Project Gutenberg\"]\n",
    "\n",
    "def beautify(text):\n",
    "    ''' Reads a raw Project Gutenberg etext, reformat paragraphs,\n",
    "    and removes fluff.  Determines the title of the book'''\n",
    "    FIRST_CONTENT_LINE_LENGTH=300\n",
    "    lines = [line.strip() for line in text.split('\\n')]\n",
    "    collect = False\n",
    "    lookforsubtitle = False\n",
    "    outlines = []\n",
    "    startseen = endseen = False\n",
    "    found_first_paragraph = False\n",
    "    title=\"\"\n",
    "    author=\"\"\n",
    "    language=\"\"\n",
    "    extra=[]\n",
    "    for line in lines:\n",
    "        if line.startswith(\"Author: \"):\n",
    "            author = line[8:]\n",
    "        if line.startswith(\"Language: \"):\n",
    "            language = line[10:]\n",
    "        if line.startswith(\"Title: \"):\n",
    "            title = line[7:]\n",
    "            lookforsubtitle = True\n",
    "            continue\n",
    "        if lookforsubtitle:\n",
    "            if not line.strip():\n",
    "                lookforsubtitle = False\n",
    "            else:\n",
    "                subtitle = line.strip()\n",
    "                subtitle = subtitle.strip(\".\")\n",
    "                title += \", \" + subtitle\n",
    "        if (\"*** START\" in line) or (\"***START\" in line) or (line.startswith(\"*END THE SMALL PRINT!\")):\n",
    "            collect = startseen = True\n",
    "            paragraph = \"\"\n",
    "            extra.append(line)\n",
    "            continue\n",
    "            \n",
    "        \n",
    "        if (\"*** END\" in line) or (\"***END\" in line):\n",
    "            endseen = True\n",
    "            extra.append(line)\n",
    "            break           \n",
    "        if not collect:\n",
    "            extra.append(line)\n",
    "            continue\n",
    "        if not line:\n",
    "            paragraph = paragraph.strip().replace('_', '')\n",
    "            for term in remove:\n",
    "                if paragraph.startswith(term):\n",
    "                    extra.append(line)\n",
    "                    paragraph = \"\"\n",
    "                    break\n",
    "            # Skip all the misc paragraphs, and only start at the first long paragraphs\n",
    "            if not found_first_paragraph:\n",
    "                if len(paragraph)>FIRST_CONTENT_LINE_LENGTH:\n",
    "                    found_first_paragraph = True\n",
    "            if paragraph and found_first_paragraph:\n",
    "                outlines.append(paragraph)\n",
    "                outlines.append(\"\")\n",
    "            paragraph = \"\"\n",
    "        else:\n",
    "            paragraph += \" \" + line\n",
    "\n",
    "    # Report on anomalous situations, but don't make it a showstopper.\n",
    "    if not title:\n",
    "#         print (ofn)\n",
    "        print (\"    Problem: No title found\\n\")\n",
    "    if not startseen:\n",
    "#         print (ofn)\n",
    "        print (\"    Problem: No '*** START' seen\\n\")\n",
    "    if not endseen:\n",
    "#         print (ofn)\n",
    "        print (\"    Problem: No '*** END' seen\\n\")\n",
    "        \n",
    "    return dict(\n",
    "        content='\\n'.join(outlines),\n",
    "        title=title,\n",
    "        author=author,\n",
    "        language=language,\n",
    "        extra=extra\n",
    "    )\n",
    "        \n"
   ]
  },
  {
   "cell_type": "markdown",
   "metadata": {},
   "source": [
    "# 2. turn into csv, like rocstories"
   ]
  },
  {
   "cell_type": "code",
   "execution_count": 75,
   "metadata": {
    "ExecuteTime": {
     "end_time": "2018-11-10T04:25:04.202825Z",
     "start_time": "2018-11-10T04:25:04.197492Z"
    }
   },
   "outputs": [],
   "source": [
    "from sklearn.model_selection import train_test_split"
   ]
  },
  {
   "cell_type": "code",
   "execution_count": 94,
   "metadata": {
    "ExecuteTime": {
     "end_time": "2018-11-10T05:15:29.630078Z",
     "start_time": "2018-11-10T05:15:29.328283Z"
    }
   },
   "outputs": [],
   "source": [
    "# convert raw text into one long csv\n",
    "raw_dir = os.path.join(dest_dir, 'raw')\n",
    "max_len = 400\n",
    "num_sent = 6\n",
    "data=[]\n",
    "for infile in os.listdir(raw_dir)[:16]:\n",
    "    path = os.path.join(raw_dir, infile)\n",
    "    info = beautify(open(path).read())\n",
    "    if info['language']=='English':\n",
    "        data.append(info['content'])"
   ]
  },
  {
   "cell_type": "code",
   "execution_count": 95,
   "metadata": {
    "ExecuteTime": {
     "end_time": "2018-11-10T05:15:29.638817Z",
     "start_time": "2018-11-10T05:15:29.633727Z"
    }
   },
   "outputs": [],
   "source": [
    "x_train, x_test = train_test_split(data)\n",
    "x_val, x_test = train_test_split(x_test)"
   ]
  },
  {
   "cell_type": "code",
   "execution_count": 96,
   "metadata": {
    "ExecuteTime": {
     "end_time": "2018-11-10T05:15:29.877465Z",
     "start_time": "2018-11-10T05:15:29.863271Z"
    }
   },
   "outputs": [
    {
     "data": {
      "text/plain": [
       "287192"
      ]
     },
     "execution_count": 96,
     "metadata": {},
     "output_type": "execute_result"
    }
   ],
   "source": [
    "open(os.path.join(dest_dir, \"train.txt\"), \"w\").write(\"\\n\\n\".join(x_train))\n",
    "open(os.path.join(dest_dir, \"val.txt\"), \"w\").write(\"\\n\\n\".join(x_val))\n",
    "open(os.path.join(dest_dir, \"test.txt\"), \"w\").write(\"\\n\\n\".join(x_test))"
   ]
  },
  {
   "cell_type": "code",
   "execution_count": 83,
   "metadata": {
    "ExecuteTime": {
     "end_time": "2018-11-10T04:40:37.630839Z",
     "start_time": "2018-11-10T04:40:37.623567Z"
    }
   },
   "outputs": [
    {
     "data": {
      "text/plain": [
       "'French'"
      ]
     },
     "execution_count": 83,
     "metadata": {},
     "output_type": "execute_result"
    }
   ],
   "source": []
  },
  {
   "cell_type": "code",
   "execution_count": null,
   "metadata": {},
   "outputs": [],
   "source": []
  }
 ],
 "metadata": {
  "kernelspec": {
   "display_name": "jupyter3",
   "language": "python",
   "name": "jupyter3"
  },
  "language_info": {
   "codemirror_mode": {
    "name": "ipython",
    "version": 3
   },
   "file_extension": ".py",
   "mimetype": "text/x-python",
   "name": "python",
   "nbconvert_exporter": "python",
   "pygments_lexer": "ipython3",
   "version": "3.5.3"
  },
  "toc": {
   "colors": {
    "hover_highlight": "#DAA520",
    "navigate_num": "#000000",
    "navigate_text": "#333333",
    "running_highlight": "#FF0000",
    "selected_highlight": "#FFD700",
    "sidebar_border": "#EEEEEE",
    "wrapper_background": "#FFFFFF"
   },
   "moveMenuLeft": true,
   "nav_menu": {
    "height": "91px",
    "width": "251px"
   },
   "navigate_menu": true,
   "number_sections": true,
   "sideBar": true,
   "threshold": 4,
   "toc_cell": false,
   "toc_position": {
    "height": "647px",
    "left": "0px",
    "right": "1286.33px",
    "top": "150px",
    "width": "312px"
   },
   "toc_section_display": "block",
   "toc_window_display": true,
   "widenNotebook": false
  }
 },
 "nbformat": 4,
 "nbformat_minor": 2
}
