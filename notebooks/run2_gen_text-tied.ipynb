{
 "cells": [
  {
   "cell_type": "markdown",
   "metadata": {},
   "source": [
    "https://arxiv.org/pdf/1810.04805.pdf"
   ]
  },
  {
   "cell_type": "code",
   "execution_count": 1,
   "metadata": {
    "ExecuteTime": {
     "end_time": "2018-11-11T10:18:58.575728Z",
     "start_time": "2018-11-11T10:18:58.572887Z"
    }
   },
   "outputs": [],
   "source": [
    "import os\n",
    "os.sys.path.append('..')"
   ]
  },
  {
   "cell_type": "code",
   "execution_count": 2,
   "metadata": {
    "ExecuteTime": {
     "end_time": "2018-11-11T10:18:58.983216Z",
     "start_time": "2018-11-11T10:18:58.578245Z"
    }
   },
   "outputs": [],
   "source": [
    "%matplotlib inline\n",
    "%reload_ext autoreload\n",
    "%autoreload 2"
   ]
  },
  {
   "cell_type": "code",
   "execution_count": 29,
   "metadata": {
    "ExecuteTime": {
     "end_time": "2018-11-11T10:26:50.342537Z",
     "start_time": "2018-11-11T10:26:50.309224Z"
    }
   },
   "outputs": [],
   "source": [
    "from __future__ import absolute_import\n",
    "from __future__ import division\n",
    "from __future__ import print_function\n",
    "\n",
    "import argparse\n",
    "import collections\n",
    "import logging\n",
    "import json\n",
    "import math\n",
    "import os\n",
    "import random\n",
    "import six\n",
    "from tqdm import tqdm_notebook as tqdm\n",
    "\n",
    "import numpy as np\n",
    "import torch\n",
    "import torch.nn as nn\n",
    "import torch.nn.functional as F\n",
    "from torch.utils.data import TensorDataset, DataLoader, RandomSampler, SequentialSampler\n",
    "from torch.utils.data.distributed import DistributedSampler\n",
    "\n",
    "import tokenization\n",
    "from modeling import BertConfig, BertForMaskedLanguageModelling\n",
    "from optimization import BERTAdam\n"
   ]
  },
  {
   "cell_type": "code",
   "execution_count": 4,
   "metadata": {
    "ExecuteTime": {
     "end_time": "2018-11-11T10:18:59.335810Z",
     "start_time": "2018-11-11T10:18:59.309994Z"
    }
   },
   "outputs": [],
   "source": [
    "\n",
    "logging.basicConfig(format = '%(asctime)s - %(levelname)s - %(name)s -   %(message)s', \n",
    "                    datefmt = '%m/%d/%Y %H:%M:%S',\n",
    "                    level = logging.INFO)\n",
    "logger = logging.getLogger(__name__)"
   ]
  },
  {
   "cell_type": "code",
   "execution_count": null,
   "metadata": {
    "ExecuteTime": {
     "end_time": "2018-11-09T10:41:27.497266Z",
     "start_time": "2018-11-09T10:41:27.467141Z"
    }
   },
   "outputs": [],
   "source": []
  },
  {
   "cell_type": "markdown",
   "metadata": {},
   "source": [
    "# Args"
   ]
  },
  {
   "cell_type": "code",
   "execution_count": 5,
   "metadata": {
    "ExecuteTime": {
     "end_time": "2018-11-11T10:18:59.393142Z",
     "start_time": "2018-11-11T10:18:59.338870Z"
    }
   },
   "outputs": [
    {
     "data": {
      "text/plain": [
       "_StoreAction(option_strings=['--gradient_accumulation_steps'], dest='gradient_accumulation_steps', nargs=None, const=None, default=1, type=<class 'int'>, choices=None, help='Number of updates steps to accumualte before performing a backward/update pass.', metavar=None)"
      ]
     },
     "execution_count": 5,
     "metadata": {},
     "output_type": "execute_result"
    }
   ],
   "source": [
    "parser = argparse.ArgumentParser()\n",
    "\n",
    "## Required parameters\n",
    "parser.add_argument(\"--data_dir\",\n",
    "                    default=None,\n",
    "                    type=str,\n",
    "                    required=True,\n",
    "                    help=\"The input data dir. Should contain the .tsv files (or other data files) for the task.\")\n",
    "parser.add_argument(\"--bert_config_file\",\n",
    "                    default=None,\n",
    "                    type=str,\n",
    "                    required=True,\n",
    "                    help=\"The config json file corresponding to the pre-trained BERT model. \\n\"\n",
    "                         \"This specifies the model architecture.\")\n",
    "parser.add_argument(\"--task_name\",\n",
    "                    default=None,\n",
    "                    type=str,\n",
    "                    required=True,\n",
    "                    help=\"The name of the task to train.\")\n",
    "parser.add_argument(\"--vocab_file\",\n",
    "                    default=None,\n",
    "                    type=str,\n",
    "                    required=True,\n",
    "                    help=\"The vocabulary file that the BERT model was trained on.\")\n",
    "parser.add_argument(\"--output_dir\",\n",
    "                    default=None,\n",
    "                    type=str,\n",
    "                    required=True,\n",
    "                    help=\"The output directory where the model checkpoints will be written.\")\n",
    "\n",
    "## Other parameters\n",
    "parser.add_argument(\"--init_checkpoint\",\n",
    "                    default=None,\n",
    "                    type=str,\n",
    "                    help=\"Initial checkpoint (usually from a pre-trained BERT model).\")\n",
    "parser.add_argument(\"--do_lower_case\",\n",
    "                    default=False,\n",
    "                    action='store_true',\n",
    "                    help=\"Whether to lower case the input text. True for uncased models, False for cased models.\")\n",
    "parser.add_argument(\"--max_seq_length\",\n",
    "                    default=128,\n",
    "                    type=int,\n",
    "                    help=\"The maximum total input sequence length after WordPiece tokenization. \\n\"\n",
    "                         \"Sequences longer than this will be truncated, and sequences shorter \\n\"\n",
    "                         \"than this will be padded.\")\n",
    "parser.add_argument(\"--do_train\",\n",
    "                    default=False,\n",
    "                    action='store_true',\n",
    "                    help=\"Whether to run training.\")\n",
    "parser.add_argument(\"--do_eval\",\n",
    "                    default=False,\n",
    "                    action='store_true',\n",
    "                    help=\"Whether to run eval on the dev set.\")\n",
    "parser.add_argument(\"--train_batch_size\",\n",
    "                    default=32,\n",
    "                    type=int,\n",
    "                    help=\"Total batch size for training.\")\n",
    "parser.add_argument(\"--eval_batch_size\",\n",
    "                    default=8,\n",
    "                    type=int,\n",
    "                    help=\"Total batch size for eval.\")\n",
    "parser.add_argument(\"--learning_rate\",\n",
    "                    default=5e-5,\n",
    "                    type=float,\n",
    "                    help=\"The initial learning rate for Adam.\")\n",
    "parser.add_argument(\"--num_train_epochs\",\n",
    "                    default=3.0,\n",
    "                    type=float,\n",
    "                    help=\"Total number of training epochs to perform.\")\n",
    "parser.add_argument(\"--warmup_proportion\",\n",
    "                    default=0.1,\n",
    "                    type=float,\n",
    "                    help=\"Proportion of training to perform linear learning rate warmup for. \"\n",
    "                         \"E.g., 0.1 = 10%% of training.\")\n",
    "parser.add_argument(\"--no_cuda\",\n",
    "                    default=False,\n",
    "                    action='store_true',\n",
    "                    help=\"Whether not to use CUDA when available\")\n",
    "parser.add_argument(\"--local_rank\",\n",
    "                    type=int,\n",
    "                    default=-1,\n",
    "                    help=\"local_rank for distributed training on gpus\")\n",
    "parser.add_argument('--seed', \n",
    "                    type=int, \n",
    "                    default=42,\n",
    "                    help=\"random seed for initialization\")\n",
    "parser.add_argument('--gradient_accumulation_steps',\n",
    "                    type=int,\n",
    "                    default=1,\n",
    "                    help=\"Number of updates steps to accumualte before performing a backward/update pass.\") "
   ]
  },
  {
   "cell_type": "markdown",
   "metadata": {},
   "source": [
    "- BERT_BASE_DIR/* is from pretrained model\n",
    "- train-v1.1.json etc are training data e.g. https://rajpurkar.github.io/SQuAD-explorer/dataset/dev-v1.1.json\n"
   ]
  },
  {
   "cell_type": "code",
   "execution_count": 6,
   "metadata": {
    "ExecuteTime": {
     "end_time": "2018-11-11T10:18:59.423062Z",
     "start_time": "2018-11-11T10:18:59.395398Z"
    }
   },
   "outputs": [
    {
     "name": "stdout",
     "output_type": "stream",
     "text": [
      "['--task_name', 'lm', '--data_dir', '../data/input/erotic_gutenberg', '--vocab_file', '../data/weights/cased_L-12_H-768_A-12/vocab.txt', '--bert_config_file', '../data/weights/cased_L-12_H-768_A-12/bert_config.json', '--init_checkpoint', '../data/weights/cased_L-12_H-768_A-12/pytorch_model.bin', '--do_train', '--do_eval', '--gradient_accumulation_steps', '2', '--train_batch_size', '24', '--learning_rate', '3e-5', '--num_train_epochs', '3.0', '--max_seq_length', '128', '--output_dir', '../outputs/erotic_uncased_4_tied_mlm/']\n"
     ]
    }
   ],
   "source": [
    "experiment_name = 'erotic_uncased_4_tied_mlm'\n",
    "\n",
    "argv = \"\"\"\n",
    "--task_name lm \\\n",
    "--data_dir {DATA_DIR} \\\n",
    "--vocab_file {BERT_BASE_DIR}/vocab.txt \\\n",
    "--bert_config_file {BERT_BASE_DIR}/bert_config.json \\\n",
    "--init_checkpoint {BERT_BASE_DIR}/pytorch_model.bin \\\n",
    "--do_train \\\n",
    "--do_eval \\\n",
    "--gradient_accumulation_steps 2 \\\n",
    "--train_batch_size 24 \\\n",
    "--learning_rate 3e-5 \\\n",
    "--num_train_epochs 3.0 \\\n",
    "--max_seq_length 128 \\\n",
    "--output_dir ../outputs/{name}/\n",
    "\"\"\".format(\n",
    "    BERT_BASE_DIR='../data/weights/cased_L-12_H-768_A-12',\n",
    "    DATA_DIR='../data/input/erotic_gutenberg',\n",
    "    name=experiment_name\n",
    ").replace('\\n', '').split(' ')\n",
    "print(argv)\n",
    "args = parser.parse_args(argv)"
   ]
  },
  {
   "cell_type": "code",
   "execution_count": null,
   "metadata": {
    "ExecuteTime": {
     "end_time": "2018-11-09T15:26:30.278170Z",
     "start_time": "2018-11-09T15:26:30.248424Z"
    }
   },
   "outputs": [],
   "source": []
  },
  {
   "cell_type": "markdown",
   "metadata": {},
   "source": [
    "# Init"
   ]
  },
  {
   "cell_type": "code",
   "execution_count": 7,
   "metadata": {
    "ExecuteTime": {
     "end_time": "2018-11-11T10:18:59.494394Z",
     "start_time": "2018-11-11T10:18:59.425743Z"
    }
   },
   "outputs": [
    {
     "name": "stderr",
     "output_type": "stream",
     "text": [
      "11/11/2018 18:18:59 - INFO - __main__ -   device cuda n_gpu 1 distributed training False\n"
     ]
    }
   ],
   "source": [
    "if args.local_rank == -1 or args.no_cuda:\n",
    "    device = torch.device(\"cuda\" if torch.cuda.is_available() and not args.no_cuda else \"cpu\")\n",
    "    n_gpu = torch.cuda.device_count()\n",
    "else:\n",
    "    device = torch.device(\"cuda\", args.local_rank)\n",
    "    n_gpu = 1\n",
    "    # Initializes the distributed backend which will take care of sychronizing nodes/GPUs\n",
    "    torch.distributed.init_process_group(backend='nccl')\n",
    "logger.info(\"device %s n_gpu %d distributed training %r\", device, n_gpu, bool(args.local_rank != -1))\n",
    "\n",
    "if args.gradient_accumulation_steps < 1:\n",
    "    raise ValueError(\"Invalid gradient_accumulation_steps parameter: {}, should be >= 1\".format(\n",
    "                        args.gradient_accumulation_steps))\n",
    "\n",
    "args.train_batch_size = int(args.train_batch_size / args.gradient_accumulation_steps)\n",
    "\n",
    "random.seed(args.seed)\n",
    "np.random.seed(args.seed)\n",
    "torch.manual_seed(args.seed)\n",
    "if n_gpu > 0:\n",
    "    torch.cuda.manual_seed_all(args.seed)\n",
    "\n",
    "if not args.do_train and not args.do_eval:\n",
    "    raise ValueError(\"At least one of `do_train` or `do_eval` must be True.\")"
   ]
  },
  {
   "cell_type": "code",
   "execution_count": 8,
   "metadata": {
    "ExecuteTime": {
     "end_time": "2018-11-11T10:18:59.518579Z",
     "start_time": "2018-11-11T10:18:59.496852Z"
    }
   },
   "outputs": [],
   "source": [
    "bert_config = BertConfig.from_json_file(args.bert_config_file)\n",
    "\n",
    "if args.max_seq_length > bert_config.max_position_embeddings:\n",
    "    raise ValueError(\n",
    "        \"Cannot use sequence length {} because the BERT model was only trained up to sequence length {}\".format(\n",
    "        args.max_seq_length, bert_config.max_position_embeddings))"
   ]
  },
  {
   "cell_type": "code",
   "execution_count": 9,
   "metadata": {
    "ExecuteTime": {
     "end_time": "2018-11-11T10:18:59.544084Z",
     "start_time": "2018-11-11T10:18:59.521119Z"
    }
   },
   "outputs": [],
   "source": [
    "if os.path.exists(args.output_dir) and os.listdir(args.output_dir):\n",
    "    print(\"Output directory ({}) already exists and is not empty.\".format(args.output_dir))\n",
    "os.makedirs(args.output_dir, exist_ok=True)"
   ]
  },
  {
   "cell_type": "code",
   "execution_count": 10,
   "metadata": {
    "ExecuteTime": {
     "end_time": "2018-11-11T10:18:59.572112Z",
     "start_time": "2018-11-11T10:18:59.546506Z"
    }
   },
   "outputs": [],
   "source": [
    "save_path = os.path.join(args.output_dir, 'state_dict.pkl')"
   ]
  },
  {
   "cell_type": "markdown",
   "metadata": {},
   "source": [
    "# Load data v2"
   ]
  },
  {
   "cell_type": "markdown",
   "metadata": {},
   "source": [
    "## Helpers"
   ]
  },
  {
   "cell_type": "code",
   "execution_count": 11,
   "metadata": {
    "ExecuteTime": {
     "end_time": "2018-11-11T10:18:59.596065Z",
     "start_time": "2018-11-11T10:18:59.574484Z"
    }
   },
   "outputs": [],
   "source": [
    "def notqdm(it, *a, **k):\n",
    "    return it"
   ]
  },
  {
   "cell_type": "code",
   "execution_count": 12,
   "metadata": {
    "ExecuteTime": {
     "end_time": "2018-11-11T10:18:59.631103Z",
     "start_time": "2018-11-11T10:18:59.598657Z"
    }
   },
   "outputs": [],
   "source": [
    "# from https://github.com/huggingface/pytorch-pretrained-BERT/blob/master/run_classifier.py\n",
    "\n",
    "class InputExample(object):\n",
    "    \"\"\"A single training/test example for simple sequence classification.\"\"\"\n",
    "\n",
    "    def __init__(self, guid, text_a, text_b=None, label=None):\n",
    "        \"\"\"Constructs a InputExample.\n",
    "        Args:\n",
    "            guid: Unique id for the example.\n",
    "            text_a: string. The untokenized text of the first sequence. For single\n",
    "            sequence tasks, only this sequence must be specified.\n",
    "            text_b: (Optional) string. The untokenized text of the second sequence.\n",
    "            Only must be specified for sequence pair tasks.\n",
    "            label: (Optional) string. The label of the example. This should be\n",
    "            specified for train and dev examples, but not for test examples.\n",
    "        \"\"\"\n",
    "        self.guid = guid\n",
    "        self.text_a = text_a\n",
    "        self.text_b = text_b\n",
    "        self.label = label\n",
    "\n",
    "\n",
    "class InputFeatures(object):\n",
    "    \"\"\"A single set of features of data.\"\"\"\n",
    "\n",
    "    def __init__(self, input_ids, input_mask, segment_ids, label_id, label_weights):\n",
    "        self.input_ids = input_ids # inputs tokens with 103 for mask\n",
    "        self.input_mask = input_mask # 0 for padding, 1 otherwise\n",
    "        self.segment_ids = segment_ids # which sentance it's in\n",
    "        self.label_id = label_id # labels, true tokens\n",
    "        self.label_weights = label_weights\n",
    "\n",
    "\n",
    "class DataProcessor(object):\n",
    "    \"\"\"Base class for data converters for sequence classification data sets.\"\"\"\n",
    "\n",
    "    def get_train_examples(self, data_dir):\n",
    "        \"\"\"Gets a collection of `InputExample`s for the train set.\"\"\"\n",
    "        raise NotImplementedError()\n",
    "\n",
    "    def get_dev_examples(self, data_dir):\n",
    "        \"\"\"Gets a collection of `InputExample`s for the dev set.\"\"\"\n",
    "        raise NotImplementedError()\n",
    "\n",
    "    def get_labels(self):\n",
    "        \"\"\"Gets the list of labels for this data set.\"\"\"\n",
    "        raise NotImplementedError()\n",
    "        \n",
    "\n",
    "class LMProcessor(DataProcessor):\n",
    "    \"\"\"Processor for language modelling.\"\"\"\n",
    "\n",
    "    def get_train_examples(self, data_dir):\n",
    "        \"\"\"See base class.\"\"\"\n",
    "        return self._create_examples(\n",
    "            open(os.path.join(data_dir, \"train.txt\")).read(), \"train\")\n",
    "\n",
    "    def get_dev_examples(self, data_dir):\n",
    "        \"\"\"See base class.\"\"\"\n",
    "        return self._create_examples(\n",
    "            open(os.path.join(data_dir, \"val.txt\")).read(), \"dev\")\n",
    "\n",
    "    def get_labels(self):\n",
    "        \"\"\"See base class.\"\"\"\n",
    "        return list(tokenizer.vocab.keys())\n",
    "\n",
    "    def _create_examples(self, lines, set_type, window_size=args.max_seq_length, tqdm=tqdm):\n",
    "        \"\"\"Creates examples for the training and dev sets.\"\"\"\n",
    "        tokens = []\n",
    "        for line in tqdm(lines.split('\\n\\n'), desc='tokenising'):\n",
    "            line = tokenization.convert_to_unicode(line)\n",
    "            token = tokenizer.tokenize(line)\n",
    "            tokens += token\n",
    "        \n",
    "        context_list = []\n",
    "        target_list = []\n",
    "        examples = []\n",
    "        for i, start_idx in tqdm(list(enumerate(range(len(tokens) - window_size - 1))), desc='chunking'):\n",
    "            guid = \"%s-%s\" % (set_type, i)\n",
    "            context = tokens[start_idx : start_idx + window_size]\n",
    "            target = tokens[start_idx + window_size]\n",
    "            examples.append(\n",
    "                InputExample(guid=guid, text_a=context, text_b=None, label=target))\n",
    "            \n",
    "        return examples\n",
    "\n"
   ]
  },
  {
   "cell_type": "code",
   "execution_count": null,
   "metadata": {
    "ExecuteTime": {
     "end_time": "2018-11-10T08:33:08.677116Z",
     "start_time": "2018-11-10T08:33:08.584237Z"
    }
   },
   "outputs": [],
   "source": []
  },
  {
   "cell_type": "code",
   "execution_count": null,
   "metadata": {
    "ExecuteTime": {
     "end_time": "2018-11-10T08:28:15.156083Z",
     "start_time": "2018-11-10T08:28:15.128131Z"
    }
   },
   "outputs": [],
   "source": []
  },
  {
   "cell_type": "code",
   "execution_count": null,
   "metadata": {
    "ExecuteTime": {
     "end_time": "2018-11-10T04:51:59.451479Z",
     "start_time": "2018-11-10T04:51:59.397355Z"
    }
   },
   "outputs": [],
   "source": []
  },
  {
   "cell_type": "code",
   "execution_count": 13,
   "metadata": {
    "ExecuteTime": {
     "end_time": "2018-11-11T10:18:59.669708Z",
     "start_time": "2018-11-11T10:18:59.634079Z"
    }
   },
   "outputs": [],
   "source": [
    "\n",
    "def convert_tokens_to_features(examples, label_list, max_seq_length, tokenizer, tqdm=tqdm):\n",
    "    \"\"\"Loads a data file into a list of `InputBatch`s.\"\"\"\n",
    "\n",
    "    label_map = {}\n",
    "    for (i, label) in enumerate(label_list):\n",
    "        label_map[label] = i\n",
    "\n",
    "    features = []\n",
    "    for (ex_index, example) in tqdm(list(enumerate(examples))):\n",
    "        tokens_a = example.text_a\n",
    "\n",
    "        tokens_b = None\n",
    "        if example.text_b:\n",
    "            tokens_b = example.text_b\n",
    "\n",
    "        if tokens_b:\n",
    "            # Modifies `tokens_a` and `tokens_b` in place so that the total\n",
    "            # length is less than the specified length.\n",
    "            # Account for [CLS], [SEP], [SEP] with \"- 3\"\n",
    "            _truncate_seq_pair(tokens_a, tokens_b, max_seq_length - 3)\n",
    "        else:\n",
    "            # Account for [CLS] and [SEP] with \"- 2\"\n",
    "            if len(tokens_a) > max_seq_length - 2:\n",
    "                tokens_a = tokens_a[0:(max_seq_length - 2)]\n",
    "\n",
    "        # The convention in BERT is:\n",
    "        # (a) For sequence pairs:\n",
    "        #  tokens:   [CLS] is this jack ##son ##ville ? [SEP] no it is not . [SEP]\n",
    "        #  type_ids: 0   0  0    0    0     0       0 0    1  1  1  1   1 1\n",
    "        # (b) For single sequences:\n",
    "        #  tokens:   [CLS] the dog is hairy . [SEP]\n",
    "        #  type_ids: 0   0   0   0  0     0 0\n",
    "        #\n",
    "        # Where \"type_ids\" are used to indicate whether this is the first\n",
    "        # sequence or the second sequence. The embedding vectors for `type=0` and\n",
    "        # `type=1` were learned during pre-training and are added to the wordpiece\n",
    "        # embedding vector (and position vector). This is not *strictly* necessary\n",
    "        # since the [SEP] token unambigiously separates the sequences, but it makes\n",
    "        # it easier for the model to learn the concept of sequences.\n",
    "        #\n",
    "        # For classification tasks, the first vector (corresponding to [CLS]) is\n",
    "        # used as as the \"sentence vector\". Note that this only makes sense because\n",
    "        # the entire model is fine-tuned.\n",
    "        tokens = []\n",
    "        segment_ids = []\n",
    "        tokens.append(\"[CLS]\")\n",
    "        segment_ids.append(0)\n",
    "        for token in tokens_a:\n",
    "            tokens.append(token)\n",
    "            segment_ids.append(0)\n",
    "        tokens.append(\"[SEP]\")\n",
    "        segment_ids.append(0)\n",
    "\n",
    "        if tokens_b:\n",
    "            for token in tokens_b:\n",
    "                tokens.append(token)\n",
    "                segment_ids.append(1)\n",
    "            tokens.append(\"[SEP]\")\n",
    "            segment_ids.append(1)\n",
    "\n",
    "        input_ids = tokenizer.convert_tokens_to_ids(tokens)\n",
    "\n",
    "        # The mask has 1 for real tokens and 0 for padding tokens. Only real\n",
    "        # tokens are attended to.\n",
    "        input_mask = [1] * len(input_ids)\n",
    "\n",
    "        # Zero-pad up to the sequence length.\n",
    "        while len(input_ids) < max_seq_length:\n",
    "            input_ids.append(0)\n",
    "            input_mask.append(0)\n",
    "            segment_ids.append(0)\n",
    "        \n",
    "        # see https://github.com/google-research/bert/blob/d8014ef72/create_pretraining_data.py#L363\n",
    "        label_weights = np.random.rand(len(input_ids))<0.10 # 10% change of masking\n",
    "        label_keep = (np.random.rand(len(input_ids))<0.10) * label_weights # 10% chance of keeping\n",
    "        label_switch = (np.random.rand(len(input_ids))<0.10) * label_weights # 10% chance of random word\n",
    "        label_mask = label_weights * (1-label_keep) * (1-label_keep)\n",
    "        \n",
    "        switched_ids = np.random.randint(low=0, high=len(tokenizer.vocab)-1, size=(len(input_ids),))\n",
    "        \n",
    "        input_ids_masked = np.array(input_ids.copy())\n",
    "        input_ids_masked[label_switch==1] = switched_ids[label_switch==1]\n",
    "        input_ids_masked[label_mask==1] = 103\n",
    "        input_ids_masked = input_ids_masked.tolist()\n",
    "        \n",
    "        assert len(input_ids) == max_seq_length\n",
    "        assert len(input_mask) == max_seq_length\n",
    "        assert len(segment_ids) == max_seq_length\n",
    "        assert len(input_ids_masked) == max_seq_length\n",
    "        \n",
    "#         label_weights[torch.Tensor(input_ids)<103] = 0 # Don't mask CLS, PAD, ETC\n",
    "#         input_ids_masked = input_ids.copy()\n",
    "#         for i in range(len(label_weights)):\n",
    "#             if label_weights[i]:\n",
    "#                 if np.random.rand() < 0.8:\n",
    "#                     input_ids_masked[i] = 103\n",
    "#                 else:\n",
    "#                     if np.random.rand() < 0.5:\n",
    "#                         input_ids_masked[i] = np.random.randint(0, len(tokenizer.vocab)-1)\n",
    "        \n",
    "#         input_ids_masked[lms_masked==1] = 103\n",
    "        # TODO 1% of the time replace masked ones with random work\n",
    "        # TODO 1% of the time keep old one\n",
    "\n",
    "#         if ex_index < 3:\n",
    "#             logger.info(\"*** Example ***\")\n",
    "#             logger.info(\"guid: %s\" % (example.guid))\n",
    "#             logger.info(\"tokens: %s\" % \" \".join(\n",
    "#                     [tokenization.printable_text(x) for x in tokens]))\n",
    "#             logger.info(\"input_ids: %s\" % \" \".join([str(x) for x in input_ids]))\n",
    "#             logger.info(\"input_mask: %s\" % \" \".join([str(x) for x in input_mask]))\n",
    "#             logger.info(\n",
    "#                     \"segment_ids: %s\" % \" \".join([str(x) for x in segment_ids]))\n",
    "#             logger.info(\"label: %s (id = %d)\\n\" % (example.label, label_id))\n",
    "\n",
    "        features.append(\n",
    "                InputFeatures(\n",
    "                        input_ids=input_ids_masked,\n",
    "                        input_mask=input_mask,\n",
    "                        segment_ids=segment_ids,\n",
    "                        label_id=input_ids,\n",
    "                        label_weights=label_weights,))\n",
    "    return features\n",
    "\n",
    "\n",
    "def _truncate_seq_pair(tokens_a, tokens_b, max_length):\n",
    "    \"\"\"Truncates a sequence pair in place to the maximum length.\"\"\"\n",
    "\n",
    "    # This is a simple heuristic which will always truncate the longer sequence\n",
    "    # one token at a time. This makes more sense than truncating an equal percent\n",
    "    # of tokens from each, since if one sequence is very short then each token\n",
    "    # that's truncated likely contains more information than a longer sequence.\n",
    "    while True:\n",
    "        total_length = len(tokens_a) + len(tokens_b)\n",
    "        if total_length <= max_length:\n",
    "            break\n",
    "        if len(tokens_a) > len(tokens_b):\n",
    "            tokens_a.pop()\n",
    "        else:\n",
    "            tokens_b.pop()"
   ]
  },
  {
   "cell_type": "code",
   "execution_count": null,
   "metadata": {
    "ExecuteTime": {
     "end_time": "2018-11-11T06:09:45.288388Z",
     "start_time": "2018-11-11T06:09:45.262511Z"
    }
   },
   "outputs": [],
   "source": []
  },
  {
   "cell_type": "code",
   "execution_count": null,
   "metadata": {
    "ExecuteTime": {
     "end_time": "2018-11-11T06:09:31.645726Z",
     "start_time": "2018-11-11T06:09:31.615466Z"
    }
   },
   "outputs": [],
   "source": []
  },
  {
   "cell_type": "code",
   "execution_count": null,
   "metadata": {
    "ExecuteTime": {
     "end_time": "2018-11-11T06:02:01.673966Z",
     "start_time": "2018-11-11T06:02:01.635964Z"
    }
   },
   "outputs": [],
   "source": []
  },
  {
   "cell_type": "markdown",
   "metadata": {},
   "source": [
    "## Load"
   ]
  },
  {
   "cell_type": "code",
   "execution_count": 14,
   "metadata": {
    "ExecuteTime": {
     "end_time": "2018-11-11T10:18:59.742811Z",
     "start_time": "2018-11-11T10:18:59.671871Z"
    }
   },
   "outputs": [],
   "source": [
    "tokenizer = tokenization.FullTokenizer(\n",
    "    vocab_file=args.vocab_file, do_lower_case=args.do_lower_case)\n",
    "\n",
    "decoder = {v:k for k,v in tokenizer.wordpiece_tokenizer.vocab.items()}"
   ]
  },
  {
   "cell_type": "code",
   "execution_count": 15,
   "metadata": {
    "ExecuteTime": {
     "end_time": "2018-11-11T10:18:59.766858Z",
     "start_time": "2018-11-11T10:18:59.746278Z"
    }
   },
   "outputs": [],
   "source": [
    "# window_size                        = 128\n"
   ]
  },
  {
   "cell_type": "code",
   "execution_count": 16,
   "metadata": {
    "ExecuteTime": {
     "end_time": "2018-11-11T10:18:59.807940Z",
     "start_time": "2018-11-11T10:18:59.769648Z"
    }
   },
   "outputs": [],
   "source": [
    "processors = {\n",
    "        \"lm\": LMProcessor,\n",
    "}\n",
    "    \n",
    "task_name = args.task_name.lower()\n",
    "if task_name not in processors:\n",
    "        raise ValueError(\"Task not found: %s\" % (task_name))\n",
    "\n",
    "processor = processors[task_name]()\n",
    "label_list = processor.get_labels()"
   ]
  },
  {
   "cell_type": "code",
   "execution_count": 17,
   "metadata": {
    "ExecuteTime": {
     "end_time": "2018-11-11T10:20:30.379650Z",
     "start_time": "2018-11-11T10:18:59.812045Z"
    }
   },
   "outputs": [
    {
     "data": {
      "application/vnd.jupyter.widget-view+json": {
       "model_id": "3a4e114015524e96a4ed4b3edf9eef88",
       "version_major": 2,
       "version_minor": 0
      },
      "text/plain": [
       "HBox(children=(IntProgress(value=0, description='tokenising', max=29232), HTML(value='')))"
      ]
     },
     "metadata": {},
     "output_type": "display_data"
    },
    {
     "name": "stdout",
     "output_type": "stream",
     "text": [
      "\n"
     ]
    },
    {
     "data": {
      "application/vnd.jupyter.widget-view+json": {
       "model_id": "9daa8a17eb09416d800c47e9b9521bf0",
       "version_major": 2,
       "version_minor": 0
      },
      "text/plain": [
       "HBox(children=(IntProgress(value=0, description='chunking', max=2654554), HTML(value='')))"
      ]
     },
     "metadata": {},
     "output_type": "display_data"
    },
    {
     "name": "stdout",
     "output_type": "stream",
     "text": [
      "\n"
     ]
    }
   ],
   "source": [
    "train_examples = processor.get_train_examples(args.data_dir)\n",
    "num_train_steps = int(\n",
    "    len(train_examples) / args.train_batch_size * args.num_train_epochs)"
   ]
  },
  {
   "cell_type": "code",
   "execution_count": null,
   "metadata": {
    "ExecuteTime": {
     "end_time": "2018-11-10T08:35:09.919396Z",
     "start_time": "2018-11-10T08:35:09.767935Z"
    }
   },
   "outputs": [],
   "source": []
  },
  {
   "cell_type": "code",
   "execution_count": 18,
   "metadata": {
    "ExecuteTime": {
     "end_time": "2018-11-11T10:21:05.990112Z",
     "start_time": "2018-11-11T10:20:30.382499Z"
    },
    "scrolled": true
   },
   "outputs": [
    {
     "data": {
      "application/vnd.jupyter.widget-view+json": {
       "model_id": "e10f12c5234748d9b942b2c26abdfb18",
       "version_major": 2,
       "version_minor": 0
      },
      "text/plain": [
       "HBox(children=(IntProgress(value=0, max=132228), HTML(value='')))"
      ]
     },
     "metadata": {},
     "output_type": "display_data"
    },
    {
     "name": "stdout",
     "output_type": "stream",
     "text": [
      "\n"
     ]
    }
   ],
   "source": [
    "train_features = convert_tokens_to_features(\n",
    "    train_examples[::100], label_list, args.max_seq_length, tokenizer)\n",
    "\n",
    "all_input_ids = torch.tensor([f.input_ids for f in train_features], dtype=torch.long)\n",
    "all_input_mask = torch.tensor([f.input_mask for f in train_features], dtype=torch.long)\n",
    "all_segment_ids = torch.tensor([f.segment_ids for f in train_features], dtype=torch.long)\n",
    "all_label_ids = torch.tensor([f.label_id for f in train_features], dtype=torch.long)\n",
    "all_label_weights = torch.tensor([f.label_weights for f in train_features], dtype=torch.long)"
   ]
  },
  {
   "cell_type": "code",
   "execution_count": null,
   "metadata": {
    "ExecuteTime": {
     "end_time": "2018-11-11T06:08:15.170422Z",
     "start_time": "2018-11-11T06:07:03.795167Z"
    }
   },
   "outputs": [],
   "source": []
  },
  {
   "cell_type": "code",
   "execution_count": 19,
   "metadata": {
    "ExecuteTime": {
     "end_time": "2018-11-11T10:21:06.023826Z",
     "start_time": "2018-11-11T10:21:05.993549Z"
    }
   },
   "outputs": [],
   "source": [
    "train_data = TensorDataset(all_input_ids, all_input_mask, all_segment_ids, all_label_ids, all_label_weights)\n",
    "if args.local_rank == -1:\n",
    "    train_sampler = RandomSampler(train_data)\n",
    "else:\n",
    "    train_sampler = DistributedSampler(train_data)\n",
    "train_dataloader = DataLoader(train_data, sampler=train_sampler, batch_size=args.train_batch_size)"
   ]
  },
  {
   "cell_type": "code",
   "execution_count": null,
   "metadata": {
    "ExecuteTime": {
     "end_time": "2018-11-10T06:50:42.333283Z",
     "start_time": "2018-11-10T06:50:42.311379Z"
    }
   },
   "outputs": [],
   "source": []
  },
  {
   "cell_type": "markdown",
   "metadata": {},
   "source": [
    "# Load model"
   ]
  },
  {
   "cell_type": "code",
   "execution_count": null,
   "metadata": {
    "ExecuteTime": {
     "end_time": "2018-11-10T07:13:01.317704Z",
     "start_time": "2018-11-10T07:13:00.880718Z"
    }
   },
   "outputs": [],
   "source": []
  },
  {
   "cell_type": "code",
   "execution_count": 30,
   "metadata": {
    "ExecuteTime": {
     "end_time": "2018-11-11T10:26:54.367224Z",
     "start_time": "2018-11-11T10:26:51.491631Z"
    }
   },
   "outputs": [
    {
     "data": {
      "text/plain": [
       "BertForMaskedLanguageModelling(\n",
       "  (bert): BertModel(\n",
       "    (embeddings): BERTEmbeddings(\n",
       "      (word_embeddings): Embedding(28996, 768)\n",
       "      (position_embeddings): Embedding(512, 768)\n",
       "      (token_type_embeddings): Embedding(2, 768)\n",
       "      (LayerNorm): BERTLayerNorm()\n",
       "      (dropout): Dropout(p=0.1)\n",
       "    )\n",
       "    (encoder): BERTEncoder(\n",
       "      (layer): ModuleList(\n",
       "        (0): BERTLayer(\n",
       "          (attention): BERTAttention(\n",
       "            (self): BERTSelfAttention(\n",
       "              (query): Linear(in_features=768, out_features=768, bias=True)\n",
       "              (key): Linear(in_features=768, out_features=768, bias=True)\n",
       "              (value): Linear(in_features=768, out_features=768, bias=True)\n",
       "              (dropout): Dropout(p=0.1)\n",
       "            )\n",
       "            (output): BERTSelfOutput(\n",
       "              (dense): Linear(in_features=768, out_features=768, bias=True)\n",
       "              (LayerNorm): BERTLayerNorm()\n",
       "              (dropout): Dropout(p=0.1)\n",
       "            )\n",
       "          )\n",
       "          (intermediate): BERTIntermediate(\n",
       "            (dense): Linear(in_features=768, out_features=3072, bias=True)\n",
       "          )\n",
       "          (output): BERTOutput(\n",
       "            (dense): Linear(in_features=3072, out_features=768, bias=True)\n",
       "            (LayerNorm): BERTLayerNorm()\n",
       "            (dropout): Dropout(p=0.1)\n",
       "          )\n",
       "        )\n",
       "        (1): BERTLayer(\n",
       "          (attention): BERTAttention(\n",
       "            (self): BERTSelfAttention(\n",
       "              (query): Linear(in_features=768, out_features=768, bias=True)\n",
       "              (key): Linear(in_features=768, out_features=768, bias=True)\n",
       "              (value): Linear(in_features=768, out_features=768, bias=True)\n",
       "              (dropout): Dropout(p=0.1)\n",
       "            )\n",
       "            (output): BERTSelfOutput(\n",
       "              (dense): Linear(in_features=768, out_features=768, bias=True)\n",
       "              (LayerNorm): BERTLayerNorm()\n",
       "              (dropout): Dropout(p=0.1)\n",
       "            )\n",
       "          )\n",
       "          (intermediate): BERTIntermediate(\n",
       "            (dense): Linear(in_features=768, out_features=3072, bias=True)\n",
       "          )\n",
       "          (output): BERTOutput(\n",
       "            (dense): Linear(in_features=3072, out_features=768, bias=True)\n",
       "            (LayerNorm): BERTLayerNorm()\n",
       "            (dropout): Dropout(p=0.1)\n",
       "          )\n",
       "        )\n",
       "        (2): BERTLayer(\n",
       "          (attention): BERTAttention(\n",
       "            (self): BERTSelfAttention(\n",
       "              (query): Linear(in_features=768, out_features=768, bias=True)\n",
       "              (key): Linear(in_features=768, out_features=768, bias=True)\n",
       "              (value): Linear(in_features=768, out_features=768, bias=True)\n",
       "              (dropout): Dropout(p=0.1)\n",
       "            )\n",
       "            (output): BERTSelfOutput(\n",
       "              (dense): Linear(in_features=768, out_features=768, bias=True)\n",
       "              (LayerNorm): BERTLayerNorm()\n",
       "              (dropout): Dropout(p=0.1)\n",
       "            )\n",
       "          )\n",
       "          (intermediate): BERTIntermediate(\n",
       "            (dense): Linear(in_features=768, out_features=3072, bias=True)\n",
       "          )\n",
       "          (output): BERTOutput(\n",
       "            (dense): Linear(in_features=3072, out_features=768, bias=True)\n",
       "            (LayerNorm): BERTLayerNorm()\n",
       "            (dropout): Dropout(p=0.1)\n",
       "          )\n",
       "        )\n",
       "        (3): BERTLayer(\n",
       "          (attention): BERTAttention(\n",
       "            (self): BERTSelfAttention(\n",
       "              (query): Linear(in_features=768, out_features=768, bias=True)\n",
       "              (key): Linear(in_features=768, out_features=768, bias=True)\n",
       "              (value): Linear(in_features=768, out_features=768, bias=True)\n",
       "              (dropout): Dropout(p=0.1)\n",
       "            )\n",
       "            (output): BERTSelfOutput(\n",
       "              (dense): Linear(in_features=768, out_features=768, bias=True)\n",
       "              (LayerNorm): BERTLayerNorm()\n",
       "              (dropout): Dropout(p=0.1)\n",
       "            )\n",
       "          )\n",
       "          (intermediate): BERTIntermediate(\n",
       "            (dense): Linear(in_features=768, out_features=3072, bias=True)\n",
       "          )\n",
       "          (output): BERTOutput(\n",
       "            (dense): Linear(in_features=3072, out_features=768, bias=True)\n",
       "            (LayerNorm): BERTLayerNorm()\n",
       "            (dropout): Dropout(p=0.1)\n",
       "          )\n",
       "        )\n",
       "        (4): BERTLayer(\n",
       "          (attention): BERTAttention(\n",
       "            (self): BERTSelfAttention(\n",
       "              (query): Linear(in_features=768, out_features=768, bias=True)\n",
       "              (key): Linear(in_features=768, out_features=768, bias=True)\n",
       "              (value): Linear(in_features=768, out_features=768, bias=True)\n",
       "              (dropout): Dropout(p=0.1)\n",
       "            )\n",
       "            (output): BERTSelfOutput(\n",
       "              (dense): Linear(in_features=768, out_features=768, bias=True)\n",
       "              (LayerNorm): BERTLayerNorm()\n",
       "              (dropout): Dropout(p=0.1)\n",
       "            )\n",
       "          )\n",
       "          (intermediate): BERTIntermediate(\n",
       "            (dense): Linear(in_features=768, out_features=3072, bias=True)\n",
       "          )\n",
       "          (output): BERTOutput(\n",
       "            (dense): Linear(in_features=3072, out_features=768, bias=True)\n",
       "            (LayerNorm): BERTLayerNorm()\n",
       "            (dropout): Dropout(p=0.1)\n",
       "          )\n",
       "        )\n",
       "        (5): BERTLayer(\n",
       "          (attention): BERTAttention(\n",
       "            (self): BERTSelfAttention(\n",
       "              (query): Linear(in_features=768, out_features=768, bias=True)\n",
       "              (key): Linear(in_features=768, out_features=768, bias=True)\n",
       "              (value): Linear(in_features=768, out_features=768, bias=True)\n",
       "              (dropout): Dropout(p=0.1)\n",
       "            )\n",
       "            (output): BERTSelfOutput(\n",
       "              (dense): Linear(in_features=768, out_features=768, bias=True)\n",
       "              (LayerNorm): BERTLayerNorm()\n",
       "              (dropout): Dropout(p=0.1)\n",
       "            )\n",
       "          )\n",
       "          (intermediate): BERTIntermediate(\n",
       "            (dense): Linear(in_features=768, out_features=3072, bias=True)\n",
       "          )\n",
       "          (output): BERTOutput(\n",
       "            (dense): Linear(in_features=3072, out_features=768, bias=True)\n",
       "            (LayerNorm): BERTLayerNorm()\n",
       "            (dropout): Dropout(p=0.1)\n",
       "          )\n",
       "        )\n",
       "        (6): BERTLayer(\n",
       "          (attention): BERTAttention(\n",
       "            (self): BERTSelfAttention(\n",
       "              (query): Linear(in_features=768, out_features=768, bias=True)\n",
       "              (key): Linear(in_features=768, out_features=768, bias=True)\n",
       "              (value): Linear(in_features=768, out_features=768, bias=True)\n",
       "              (dropout): Dropout(p=0.1)\n",
       "            )\n",
       "            (output): BERTSelfOutput(\n",
       "              (dense): Linear(in_features=768, out_features=768, bias=True)\n",
       "              (LayerNorm): BERTLayerNorm()\n",
       "              (dropout): Dropout(p=0.1)\n",
       "            )\n",
       "          )\n",
       "          (intermediate): BERTIntermediate(\n",
       "            (dense): Linear(in_features=768, out_features=3072, bias=True)\n",
       "          )\n",
       "          (output): BERTOutput(\n",
       "            (dense): Linear(in_features=3072, out_features=768, bias=True)\n",
       "            (LayerNorm): BERTLayerNorm()\n",
       "            (dropout): Dropout(p=0.1)\n",
       "          )\n",
       "        )\n",
       "        (7): BERTLayer(\n",
       "          (attention): BERTAttention(\n",
       "            (self): BERTSelfAttention(\n",
       "              (query): Linear(in_features=768, out_features=768, bias=True)\n",
       "              (key): Linear(in_features=768, out_features=768, bias=True)\n",
       "              (value): Linear(in_features=768, out_features=768, bias=True)\n",
       "              (dropout): Dropout(p=0.1)\n",
       "            )\n",
       "            (output): BERTSelfOutput(\n",
       "              (dense): Linear(in_features=768, out_features=768, bias=True)\n",
       "              (LayerNorm): BERTLayerNorm()\n",
       "              (dropout): Dropout(p=0.1)\n",
       "            )\n",
       "          )\n",
       "          (intermediate): BERTIntermediate(\n",
       "            (dense): Linear(in_features=768, out_features=3072, bias=True)\n",
       "          )\n",
       "          (output): BERTOutput(\n",
       "            (dense): Linear(in_features=3072, out_features=768, bias=True)\n",
       "            (LayerNorm): BERTLayerNorm()\n",
       "            (dropout): Dropout(p=0.1)\n",
       "          )\n",
       "        )\n",
       "        (8): BERTLayer(\n",
       "          (attention): BERTAttention(\n",
       "            (self): BERTSelfAttention(\n",
       "              (query): Linear(in_features=768, out_features=768, bias=True)\n",
       "              (key): Linear(in_features=768, out_features=768, bias=True)\n",
       "              (value): Linear(in_features=768, out_features=768, bias=True)\n",
       "              (dropout): Dropout(p=0.1)\n",
       "            )\n",
       "            (output): BERTSelfOutput(\n",
       "              (dense): Linear(in_features=768, out_features=768, bias=True)\n",
       "              (LayerNorm): BERTLayerNorm()\n",
       "              (dropout): Dropout(p=0.1)\n",
       "            )\n",
       "          )\n",
       "          (intermediate): BERTIntermediate(\n",
       "            (dense): Linear(in_features=768, out_features=3072, bias=True)\n",
       "          )\n",
       "          (output): BERTOutput(\n",
       "            (dense): Linear(in_features=3072, out_features=768, bias=True)\n",
       "            (LayerNorm): BERTLayerNorm()\n",
       "            (dropout): Dropout(p=0.1)\n",
       "          )\n",
       "        )\n",
       "        (9): BERTLayer(\n",
       "          (attention): BERTAttention(\n",
       "            (self): BERTSelfAttention(\n",
       "              (query): Linear(in_features=768, out_features=768, bias=True)\n",
       "              (key): Linear(in_features=768, out_features=768, bias=True)\n",
       "              (value): Linear(in_features=768, out_features=768, bias=True)\n",
       "              (dropout): Dropout(p=0.1)\n",
       "            )\n",
       "            (output): BERTSelfOutput(\n",
       "              (dense): Linear(in_features=768, out_features=768, bias=True)\n",
       "              (LayerNorm): BERTLayerNorm()\n",
       "              (dropout): Dropout(p=0.1)\n",
       "            )\n",
       "          )\n",
       "          (intermediate): BERTIntermediate(\n",
       "            (dense): Linear(in_features=768, out_features=3072, bias=True)\n",
       "          )\n",
       "          (output): BERTOutput(\n",
       "            (dense): Linear(in_features=3072, out_features=768, bias=True)\n",
       "            (LayerNorm): BERTLayerNorm()\n",
       "            (dropout): Dropout(p=0.1)\n",
       "          )\n",
       "        )\n",
       "        (10): BERTLayer(\n",
       "          (attention): BERTAttention(\n",
       "            (self): BERTSelfAttention(\n",
       "              (query): Linear(in_features=768, out_features=768, bias=True)\n",
       "              (key): Linear(in_features=768, out_features=768, bias=True)\n",
       "              (value): Linear(in_features=768, out_features=768, bias=True)\n",
       "              (dropout): Dropout(p=0.1)\n",
       "            )\n",
       "            (output): BERTSelfOutput(\n",
       "              (dense): Linear(in_features=768, out_features=768, bias=True)\n",
       "              (LayerNorm): BERTLayerNorm()\n",
       "              (dropout): Dropout(p=0.1)\n",
       "            )\n",
       "          )\n",
       "          (intermediate): BERTIntermediate(\n",
       "            (dense): Linear(in_features=768, out_features=3072, bias=True)\n",
       "          )\n",
       "          (output): BERTOutput(\n",
       "            (dense): Linear(in_features=3072, out_features=768, bias=True)\n",
       "            (LayerNorm): BERTLayerNorm()\n",
       "            (dropout): Dropout(p=0.1)\n",
       "          )\n",
       "        )\n",
       "        (11): BERTLayer(\n",
       "          (attention): BERTAttention(\n",
       "            (self): BERTSelfAttention(\n",
       "              (query): Linear(in_features=768, out_features=768, bias=True)\n",
       "              (key): Linear(in_features=768, out_features=768, bias=True)\n",
       "              (value): Linear(in_features=768, out_features=768, bias=True)\n",
       "              (dropout): Dropout(p=0.1)\n",
       "            )\n",
       "            (output): BERTSelfOutput(\n",
       "              (dense): Linear(in_features=768, out_features=768, bias=True)\n",
       "              (LayerNorm): BERTLayerNorm()\n",
       "              (dropout): Dropout(p=0.1)\n",
       "            )\n",
       "          )\n",
       "          (intermediate): BERTIntermediate(\n",
       "            (dense): Linear(in_features=768, out_features=3072, bias=True)\n",
       "          )\n",
       "          (output): BERTOutput(\n",
       "            (dense): Linear(in_features=3072, out_features=768, bias=True)\n",
       "            (LayerNorm): BERTLayerNorm()\n",
       "            (dropout): Dropout(p=0.1)\n",
       "          )\n",
       "        )\n",
       "      )\n",
       "    )\n",
       "    (pooler): BERTPooler(\n",
       "      (dense): Linear(in_features=768, out_features=768, bias=True)\n",
       "      (activation): Tanh()\n",
       "    )\n",
       "  )\n",
       "  (dropout): Dropout(p=0.1)\n",
       "  (word_decode): Linear(in_features=768, out_features=28996, bias=True)\n",
       ")"
      ]
     },
     "execution_count": 30,
     "metadata": {},
     "output_type": "execute_result"
    }
   ],
   "source": [
    "model = BertForMaskedLanguageModelling(bert_config)\n",
    "if args.init_checkpoint is not None:\n",
    "    model.bert.load_state_dict(torch.load(args.init_checkpoint, map_location='cpu'))\n",
    "    \n",
    "# if os.path.isfile(save_path):\n",
    "#     model.load_state_dict(torch.load(save_path, map_location='cpu'))\n",
    "    \n",
    "model.to(device)\n",
    "\n",
    "if args.local_rank != -1:\n",
    "    model = torch.nn.parallel.DistributedDataParallel(model, device_ids=[args.local_rank],\n",
    "                                                      output_device=args.local_rank)\n",
    "elif n_gpu > 1:\n",
    "    model = torch.nn.DataParallel(model)\n",
    "    \n",
    "model"
   ]
  },
  {
   "cell_type": "markdown",
   "metadata": {},
   "source": [
    "# Opt"
   ]
  },
  {
   "cell_type": "code",
   "execution_count": 31,
   "metadata": {
    "ExecuteTime": {
     "end_time": "2018-11-11T10:26:54.404006Z",
     "start_time": "2018-11-11T10:26:54.371060Z"
    }
   },
   "outputs": [],
   "source": [
    "no_decay = ['bias', 'gamma', 'beta']\n",
    "optimizer_parameters = [\n",
    "    {'params': [p for n, p in model.named_parameters() if n not in no_decay], 'weight_decay_rate': 0.01},\n",
    "    {'params': [p for n, p in model.named_parameters() if n in no_decay], 'weight_decay_rate': 0.0}\n",
    "    ]\n",
    "\n",
    "optimizer = BERTAdam(optimizer_parameters,\n",
    "                     lr=args.learning_rate,\n",
    "                     warmup=args.warmup_proportion,\n",
    "                t_total=num_train_steps)"
   ]
  },
  {
   "cell_type": "markdown",
   "metadata": {
    "ExecuteTime": {
     "end_time": "2018-11-10T06:53:34.605262Z",
     "start_time": "2018-11-10T06:53:34.578815Z"
    }
   },
   "source": [
    "# Predict helpers"
   ]
  },
  {
   "cell_type": "code",
   "execution_count": 32,
   "metadata": {
    "ExecuteTime": {
     "end_time": "2018-11-11T10:26:54.441737Z",
     "start_time": "2018-11-11T10:26:54.406106Z"
    }
   },
   "outputs": [],
   "source": [
    "import re\n",
    "from IPython.display import HTML, display\n",
    "\n",
    "replace_list = [\n",
    "    # punctuation\n",
    "    ['\\s\\,', ','],\n",
    "    ['\\s\\.', '.'],\n",
    "    ['\\s\\:', ':'],\n",
    "    ['\\s\\;', ';'],\n",
    "    ['\\s\\!', '!'],\n",
    "    ['\\s\\?', '?'],\n",
    "    [\"\\s'\\s?\", \"'\"],\n",
    "    [\"\\s-\\s\", \"-\"],\n",
    "    [\"\\“\\s\", \"“\"],\n",
    "    [\"\\s\\”\", \"”\"],\n",
    "    [\"\\s\\’\", \"’\"],\n",
    "    \n",
    "    # tokenization\n",
    "    ['\\s?\\<span([^\\>]+)\\>##', r'<span\\1>'], # we might want to include html tags, to show e.g. the masks\n",
    "    ['\\s?##', ''],    \n",
    "#     ['\\[CLS\\]\\s?', ''],\n",
    "#     ['\\s?\\[SEP\\]\\s?', ''],\n",
    "#     [\"\\[PAD\\]\\s?\", \"_\"],\n",
    "#     [UNK]\n",
    "#     [MASK]\n",
    "#     [CLS]\n",
    "]\n",
    "\n",
    "def clean_decoded(tokens):\n",
    "    s = ' '.join(tokens)\n",
    "    for a, b in replace_list:\n",
    "        s = re.sub(a, b, s)\n",
    "    return s\n",
    "\n",
    "def html_clean_decoded(input_ids, input_mask, logits, label_weights):\n",
    "    \"\"\"Format model outputs as html, with masked elements in red, with opacity indicating confidence.\"\"\"\n",
    "    log_probs = nn.LogSoftmax(-1)(logits).detach()\n",
    "    prediction_idxs = log_probs.argmax(-1)\n",
    "    # join masked an non masked\n",
    "    y = input_ids *  (1 - label_weights) + prediction_idxs * label_weights\n",
    "    yd = [decoder[hh.item()] for hh in y]\n",
    "    html_yd = []\n",
    "    for i in range(len(yd)):\n",
    "        if not label_weights[i]:\n",
    "            html_yd.append(yd[i])\n",
    "        else:\n",
    "            prob = log_probs[i][prediction_idxs[i]].exp()\n",
    "            prob = prob/2 + 0.5\n",
    "            html_yd.append('<span style=\"color: rgba(255,0,0,{})\">{}</span>'.format(prob, yd[i]))\n",
    "    return HTML(clean_decoded(html_yd))\n"
   ]
  },
  {
   "cell_type": "code",
   "execution_count": 33,
   "metadata": {
    "ExecuteTime": {
     "end_time": "2018-11-11T10:26:54.470870Z",
     "start_time": "2018-11-11T10:26:54.443842Z"
    }
   },
   "outputs": [],
   "source": [
    "# def predictions\n",
    "def pad_seq(s1):\n",
    "    x = '0 ' * (args.max_seq_length + 2 - len(tokenizer.tokenize(s1))) + s1\n",
    "    return x\n",
    "\n",
    "\n",
    "def predict_next_words(x, processor, tokenizer, n=10):\n",
    "    x= pad_seq(x)\n",
    "    ex = processor._create_examples(x, \"train\", tqdm=notqdm)[-1:]\n",
    "    label_list = processor.get_labels()\n",
    "\n",
    "    log_feats = convert_tokens_to_features(ex, label_list, args.max_seq_length, tokenizer, tqdm=notqdm)\n",
    "\n",
    "    log_input_ids = torch.tensor([f.input_ids for f in log_feats], dtype=torch.long)\n",
    "    log_input_mask = torch.tensor([f.input_mask for f in log_feats], dtype=torch.long)\n",
    "    log_segment_ids = torch.tensor([f.segment_ids for f in log_feats], dtype=torch.long)\n",
    "    log_label_ids = torch.tensor([f.label_id for f in log_feats], dtype=torch.long)\n",
    "    log_label_weights = torch.tensor([f.label_weights for f in log_feats], dtype=torch.long)\n",
    "\n",
    "    batch = [log_input_ids, log_input_mask, log_segment_ids, log_label_ids, log_label_weights]\n",
    "\n",
    "    with torch.no_grad():\n",
    "        batch = tuple(t.to(device) for t in batch)\n",
    "        input_ids, input_mask, segment_ids, label_ids, label_weights = batch\n",
    "        logits = model(input_ids, segment_ids, input_mask).detach()\n",
    "\n",
    "\n",
    "\n",
    "    i = 0\n",
    "    x = html_clean_decoded(input_ids=input_ids[i], input_mask=input_mask[i], logits=logits[i], label_weights=label_weights[i])\n",
    "    \n",
    "    return x\n",
    "\n"
   ]
  },
  {
   "cell_type": "code",
   "execution_count": null,
   "metadata": {},
   "outputs": [],
   "source": []
  },
  {
   "cell_type": "code",
   "execution_count": null,
   "metadata": {
    "ExecuteTime": {
     "end_time": "2018-11-11T04:24:18.481048Z",
     "start_time": "2018-11-11T04:20:50.626Z"
    }
   },
   "outputs": [],
   "source": []
  },
  {
   "cell_type": "markdown",
   "metadata": {},
   "source": [
    "# Train 3"
   ]
  },
  {
   "cell_type": "code",
   "execution_count": null,
   "metadata": {
    "ExecuteTime": {
     "end_time": "2018-11-10T07:25:26.874409Z",
     "start_time": "2018-11-10T07:25:26.671774Z"
    }
   },
   "outputs": [],
   "source": []
  },
  {
   "cell_type": "code",
   "execution_count": 34,
   "metadata": {
    "ExecuteTime": {
     "end_time": "2018-11-11T10:26:54.583278Z",
     "start_time": "2018-11-11T10:26:54.473280Z"
    }
   },
   "outputs": [
    {
     "data": {
      "text/html": [
       "<span style=\"color: rgba(255,0,0,0.8036389350891113)\">[CLS]</span> \" Moreover <span style=\"color: rgba(255,0,0,0.7599314451217651)\">[CLS]</span> woman would meet the <span style=\"color: rgba(255,0,0,0.62343430519104)\">[CLS]</span>-between in <span style=\"color: rgba(255,0,0,0.6715137958526611)\">[CLS]</span> places and tell her stories there <span style=\"color: rgba(255,0,0,0.7328495979309082)\">[CLS]</span> would <span style=\"color: rgba(255,0,0,0.5786858201026917)\">[CLS]</span>wn contemp <span style=\"color: rgba(255,0,0,0.6565235257148743)\">[CLS]</span>ly <span style=\"color: rgba(255,0,0,0.6700912714004517)\">[CLS]</span> draw long sighs, give her presents, remember <span style=\"color: rgba(255,0,0,0.7052441835403442)\">[CLS]</span> on occasions of festivals, dismiss her with a wish to see her <span style=\"color: rgba(255,0,0,0.7012243270874023)\">[CLS]</span>, and say to her jestingly, \" Oh, well-<span style=\"color: rgba(255,0,0,0.5496971011161804)\">[CLS]</span> woman, why do you speak these bad words to me? <span style=\"color: rgba(255,0,0,0.6673053503036499)\">[CLS]</span> would discourse on the sin of her union <span style=\"color: rgba(255,0,0,0.6475827693939209)\">[CLS]</span> the man, would not tell her about any previous <span style=\"color: rgba(255,0,0,0.6697506308555603)\">[CLS]</span> or conversations that she <span style=\"color: rgba(255,0,0,0.7039470672607422)\">[CLS]</span> have had with him, but wish to <span style=\"color: rgba(255,0,0,0.6659924387931824)\">[CLS]</span> asked about these <span style=\"color: rgba(255,0,0,0.6395309567451477)\">[CLS]</span> and last<span style=\"color: rgba(255,0,0,0.5000958442687988)\">stream</span> would <span style=\"color: rgba(255,0,0,0.6203411817550659)\">[CLS]</span> at <span style=\"color: rgba(255,0,0,0.6987205743789673)\">[CLS]</span> man [SEP]"
      ],
      "text/plain": [
       "<IPython.core.display.HTML object>"
      ]
     },
     "metadata": {},
     "output_type": "display_data"
    }
   ],
   "source": [
    "val_test=\"\"\"In addition to this, the go-between should carefully note the behaviour of the woman, which if favourable would be as follows: She would address her with a smiling look, would seat herself close beside her, and ask her, \"Where have you been? What have you been doing? Where did you dine? Where did you sleep? Where have you been sitting?\" Moreover the woman would meet the go-between in lonely places and tell her stories there, would yawn contemplatively, draw long sighs, give her presents, remember her on occasions of festivals, dismiss her with a wish to see her again, and say to her jestingly, \"Oh, well-speaking woman, why do you speak these bad words to me?\" would discourse on the sin of her union with the man, would not tell her about any previous visits or conversations that she may have had with him, but wish to be asked about these, and lastly would laugh at the man's desire.\"\"\"\n",
    "display(predict_next_words(val_test, processor, tokenizer, n=20))"
   ]
  },
  {
   "cell_type": "code",
   "execution_count": null,
   "metadata": {
    "ExecuteTime": {
     "end_time": "2018-11-11T10:26:25.805232Z",
     "start_time": "2018-11-11T10:26:08.184500Z"
    }
   },
   "outputs": [],
   "source": []
  },
  {
   "cell_type": "code",
   "execution_count": null,
   "metadata": {
    "ExecuteTime": {
     "start_time": "2018-11-11T10:26:53.478Z"
    }
   },
   "outputs": [
    {
     "data": {
      "application/vnd.jupyter.widget-view+json": {
       "model_id": "1ca93e0762984c18bb2f063c914c0841",
       "version_major": 2,
       "version_minor": 0
      },
      "text/plain": [
       "HBox(children=(IntProgress(value=0, description='Epoch', max=3), HTML(value='')))"
      ]
     },
     "metadata": {},
     "output_type": "display_data"
    },
    {
     "data": {
      "application/vnd.jupyter.widget-view+json": {
       "model_id": "cde904918c2c400aacd7227ecd27c16e",
       "version_major": 2,
       "version_minor": 0
      },
      "text/plain": [
       "HBox(children=(IntProgress(value=0, description='Iteration', max=11019), HTML(value='')))"
      ]
     },
     "metadata": {},
     "output_type": "display_data"
    },
    {
     "name": "stdout",
     "output_type": "stream",
     "text": [
      "0 0.40383172035217285\n"
     ]
    },
    {
     "data": {
      "text/html": [
       "<span style=\"color: rgba(255,0,0,0.720923900604248)\">[CLS]</span> <span style=\"color: rgba(255,0,0,0.738509476184845)\">[CLS]</span> Moreover the <span style=\"color: rgba(255,0,0,0.7686671614646912)\">[CLS]</span> would <span style=\"color: rgba(255,0,0,0.7394123673439026)\">[CLS]</span> the go-between in lonely places <span style=\"color: rgba(255,0,0,0.7455648183822632)\">[CLS]</span> tell her stories there, would yawn contemplatively, draw long <span style=\"color: rgba(255,0,0,0.6552411913871765)\">[CLS]</span>, give her presents, remember her on occasions of festivals, dismiss her with a wish<span style=\"color: rgba(255,0,0,0.5000839829444885)\">genus</span> see her again <span style=\"color: rgba(255,0,0,0.6771047711372375)\">[CLS]</span> and say to her jestingly, \" Oh, well-speaking woman, why do you speak these bad words to me? \" would discourse on the sin of her union <span style=\"color: rgba(255,0,0,0.5426021218299866)\">[CLS]</span> the man, would not tell <span style=\"color: rgba(255,0,0,0.7067961692810059)\">[CLS]</span> about any <span style=\"color: rgba(255,0,0,0.7241518497467041)\">[CLS]</span> visits or conversations <span style=\"color: rgba(255,0,0,0.7417519092559814)\">[CLS]</span> she may have had with him, but wish to be asked about these, and lastly would laugh at the man [SEP]"
      ],
      "text/plain": [
       "<IPython.core.display.HTML object>"
      ]
     },
     "metadata": {},
     "output_type": "display_data"
    },
    {
     "name": "stdout",
     "output_type": "stream",
     "text": [
      "1000 0.3824628845001117\n"
     ]
    },
    {
     "data": {
      "text/html": [
       "<span style=\"color: rgba(255,0,0,0.5342745780944824)\">[CLS]</span> <span style=\"color: rgba(255,0,0,0.508441150188446)\">[CLS]</span> Moreover the woman would meet the go-between in lonely places and tell her stories there, would yawn contem<span style=\"color: rgba(255,0,0,0.5036053657531738)\">p</span>lative <span style=\"color: rgba(255,0,0,0.5101404190063477)\">[CLS]</span>, draw long sighs <span style=\"color: rgba(255,0,0,0.5275557637214661)\">[CLS]</span> give her presents, remember her <span style=\"color: rgba(255,0,0,0.527211606502533)\">[CLS]</span> occasions of festivals <span style=\"color: rgba(255,0,0,0.5229679346084595)\">[CLS]</span> dismiss her with <span style=\"color: rgba(255,0,0,0.5049378275871277)\">[MASK]</span> wish to see her again, and say to her jest <span style=\"color: rgba(255,0,0,0.522792637348175)\">[CLS]</span> <span style=\"color: rgba(255,0,0,0.5035379528999329)\">,</span> \" Oh, well-speaking woman, why do you speak these bad words to me? \" would discourse on the sin of her union with the man, would not tell her about any previous visits or <span style=\"color: rgba(255,0,0,0.5253125429153442)\">[CLS]</span> that <span style=\"color: rgba(255,0,0,0.5131858587265015)\">[CLS]</span> may have had with him, but wish to be asked about these, and lastly would laugh at the man [SEP]"
      ],
      "text/plain": [
       "<IPython.core.display.HTML object>"
      ]
     },
     "metadata": {},
     "output_type": "display_data"
    },
    {
     "name": "stdout",
     "output_type": "stream",
     "text": [
      "2000 0.3342319631822781\n"
     ]
    },
    {
     "data": {
      "text/html": [
       "<span style=\"color: rgba(255,0,0,0.813764214515686)\">[CLS]</span> \" Moreover the woman would meet the go-<span style=\"color: rgba(255,0,0,0.5028257966041565)\">[MASK]</span> in lonely <span style=\"color: rgba(255,0,0,0.522783637046814)\">,</span> and tell her stories there, <span style=\"color: rgba(255,0,0,0.518006443977356)\">,</span> yawn contemplatively, draw long sighs, give her presents, <span style=\"color: rgba(255,0,0,0.5084942579269409)\">,</span> her on occasions of festivals, dismiss her with a wish to see her again, and say to her jestingly, \" <span style=\"color: rgba(255,0,0,0.5197781920433044)\">,</span>, well-<span style=\"color: rgba(255,0,0,0.5066536664962769)\">a</span> woman, why do you <span style=\"color: rgba(255,0,0,0.5066037178039551)\">[MASK]</span> these bad words to me? \" would discourse on the <span style=\"color: rgba(255,0,0,0.5102815628051758)\">,</span> of her union with the man, would not tell her about any previous visits or conversations that <span style=\"color: rgba(255,0,0,0.515893816947937)\">I</span> may have had with him, but wish to be <span style=\"color: rgba(255,0,0,0.5041890144348145)\">and</span> about these, and lastly would laugh at the man [SEP]"
      ],
      "text/plain": [
       "<IPython.core.display.HTML object>"
      ]
     },
     "metadata": {},
     "output_type": "display_data"
    },
    {
     "name": "stdout",
     "output_type": "stream",
     "text": [
      "3000 0.3078321982367521\n"
     ]
    },
    {
     "data": {
      "text/html": [
       "[CLS] \" Moreover the woman would meet the go-between in lonely places and tell her stories there, would ya<span style=\"color: rgba(255,0,0,0.5032128691673279)\">wn</span> con <span style=\"color: rgba(255,0,0,0.5009310841560364)\">circle</span>platively, draw long sighs, give her presents, remember her on occasions of festivals, dismiss her with a wish to see <span style=\"color: rgba(255,0,0,0.5100699663162231)\">her</span> again, and say to her jestingly, \" Oh, well-speaking woman, <span style=\"color: rgba(255,0,0,0.5544945001602173)\">,</span> <span style=\"color: rgba(255,0,0,0.5127939581871033)\">do</span> you speak these bad <span style=\"color: rgba(255,0,0,0.5017069578170776)\">,</span> to me? \" would discourse on the sin of her union with the man <span style=\"color: rgba(255,0,0,0.5897926688194275)\">,</span> <span style=\"color: rgba(255,0,0,0.5105818510055542)\">would</span> <span style=\"color: rgba(255,0,0,0.5607663989067078)\">not</span> tell her about any previous visits or conversations that <span style=\"color: rgba(255,0,0,0.5173681378364563)\">I</span> may have had with him, but <span style=\"color: rgba(255,0,0,0.5032899379730225)\">wish</span> to be asked about these, and lastly would laugh at <span style=\"color: rgba(255,0,0,0.5831507444381714)\">the</span> man [SEP]"
      ],
      "text/plain": [
       "<IPython.core.display.HTML object>"
      ]
     },
     "metadata": {},
     "output_type": "display_data"
    },
    {
     "name": "stdout",
     "output_type": "stream",
     "text": [
      "4000 0.2894092392923434\n"
     ]
    },
    {
     "data": {
      "text/html": [
       "[CLS] \" Moreover the woman would meet the go-between in <span style=\"color: rgba(255,0,0,0.5739672780036926)\">the</span> places and tell her stories there, would yawn contemplatively, draw long sighs, give her presents, remember her <span style=\"color: rgba(255,0,0,0.5081976652145386)\">in</span> occasions of festivals, dismiss her <span style=\"color: rgba(255,0,0,0.5462357997894287)\">of</span> a wish to see her again, and say <span style=\"color: rgba(255,0,0,0.5448564291000366)\">of</span> her jestingly <span style=\"color: rgba(255,0,0,0.7089685797691345)\">.</span> \" Oh, well-<span style=\"color: rgba(255,0,0,0.5563309788703918)\">the</span> woman, why do you speak these bad words to me? \" would <span style=\"color: rgba(255,0,0,0.504203736782074)\">be</span> on the sin of her union with <span style=\"color: rgba(255,0,0,0.7359122037887573)\">the</span> man, would not <span style=\"color: rgba(255,0,0,0.5016093254089355)\">[MASK]</span> her about any previous visits or conversations that she may have had <span style=\"color: rgba(255,0,0,0.5302338600158691)\">to</span> him, but wish to be asked about <span style=\"color: rgba(255,0,0,0.5236862897872925)\">her</span>, and lastly would laugh at the man [SEP]"
      ],
      "text/plain": [
       "<IPython.core.display.HTML object>"
      ]
     },
     "metadata": {},
     "output_type": "display_data"
    },
    {
     "name": "stdout",
     "output_type": "stream",
     "text": [
      "5000 0.2749646294318\n"
     ]
    },
    {
     "data": {
      "text/html": [
       "[CLS] \" Moreover the woman would meet <span style=\"color: rgba(255,0,0,0.5821614861488342)\">the</span> go-between in lonely places and tell her stories there, would ya<span style=\"color: rgba(255,0,0,0.5039322972297668)\">p</span> <span style=\"color: rgba(255,0,0,0.5168384313583374)\">to</span>tem<span style=\"color: rgba(255,0,0,0.5067771673202515)\">ed</span> <span style=\"color: rgba(255,0,0,0.5020315647125244)\">only</span>ly, draw long sighs, <span style=\"color: rgba(255,0,0,0.5036333799362183)\">be</span> her presents, remember her on occasions of festivals, dismiss her with <span style=\"color: rgba(255,0,0,0.6948557496070862)\">a</span> wish <span style=\"color: rgba(255,0,0,0.5925707221031189)\">,</span> see her again, and <span style=\"color: rgba(255,0,0,0.5018315315246582)\">do</span> to her jest <span style=\"color: rgba(255,0,0,0.520147442817688)\">,</span>, \" Oh, well-speaking woman, why do you speak these bad words to me? <span style=\"color: rgba(255,0,0,0.5529158115386963)\">I</span> would discourse on the sin of her union with the man, would not <span style=\"color: rgba(255,0,0,0.5028596520423889)\">see</span> her about any previous visits or conversations that she may have had with him, but wish to be asked about these, and <span style=\"color: rgba(255,0,0,0.551283061504364)\">last</span>ly would laugh at the man [SEP]"
      ],
      "text/plain": [
       "<IPython.core.display.HTML object>"
      ]
     },
     "metadata": {},
     "output_type": "display_data"
    },
    {
     "name": "stdout",
     "output_type": "stream",
     "text": [
      "6000 0.2633439270197097\n"
     ]
    },
    {
     "data": {
      "text/html": [
       "[CLS] \" Moreover the woman would meet the go-between in lonely places and tell her stories there, would ya<span style=\"color: rgba(255,0,0,0.5038614869117737)\">d</span> contemplatively, draw long sighs, give her presents, remember her on occasions of festivals <span style=\"color: rgba(255,0,0,0.6400260925292969)\">and</span> dismiss her with a wish to see her <span style=\"color: rgba(255,0,0,0.5033027529716492)\">not</span>, and say to her jest <span style=\"color: rgba(255,0,0,0.5995286703109741)\">.</span> <span style=\"color: rgba(255,0,0,0.7893129587173462)\">.</span> \" Oh, well-speaking woman, why do you speak these bad words to me? \" would discourse on the sin of her union <span style=\"color: rgba(255,0,0,0.6106682419776917)\">to</span> the man, would not <span style=\"color: rgba(255,0,0,0.5034602880477905)\">say</span> <span style=\"color: rgba(255,0,0,0.6686533689498901)\">her</span> about any previous visits or <span style=\"color: rgba(255,0,0,0.5018993616104126)\">time</span> that she may have had with him, <span style=\"color: rgba(255,0,0,0.5990024209022522)\">and</span> wish to be asked <span style=\"color: rgba(255,0,0,0.5897823572158813)\">to</span> these <span style=\"color: rgba(255,0,0,0.7276114225387573)\">,</span> and last<span style=\"color: rgba(255,0,0,0.7249643802642822)\">ly</span> would <span style=\"color: rgba(255,0,0,0.5066678524017334)\">laugh</span> at the <span style=\"color: rgba(255,0,0,0.5039845705032349)\">out</span> [SEP]"
      ],
      "text/plain": [
       "<IPython.core.display.HTML object>"
      ]
     },
     "metadata": {},
     "output_type": "display_data"
    },
    {
     "name": "stdout",
     "output_type": "stream",
     "text": [
      "7000 0.25355767033097065\n"
     ]
    },
    {
     "data": {
      "text/html": [
       "[CLS] \" Moreover the woman would meet the go-<span style=\"color: rgba(255,0,0,0.5038920044898987)\">man</span> in lonely places and tell her <span style=\"color: rgba(255,0,0,0.513206958770752)\">stories</span> there, would ya<span style=\"color: rgba(255,0,0,0.5070990324020386)\">d</span> contemplative <span style=\"color: rgba(255,0,0,0.5094935894012451)\">life</span>, draw long sighs, give her presents, remember her on occasions of <span style=\"color: rgba(255,0,0,0.5034106373786926)\">things</span>, dismiss her with a wish to see her again, and say <span style=\"color: rgba(255,0,0,0.6240648627281189)\">to</span> her jestingly, \" Oh, <span style=\"color: rgba(255,0,0,0.5052444338798523)\">so</span>-speaking <span style=\"color: rgba(255,0,0,0.520767331123352)\">me</span>, why do you speak these bad words to me <span style=\"color: rgba(255,0,0,0.7222177386283875)\">.</span> \" <span style=\"color: rgba(255,0,0,0.5872337818145752)\">I</span> <span style=\"color: rgba(255,0,0,0.5253810882568359)\">,</span> on the sin of her union with the man, would not tell her about any previous visits <span style=\"color: rgba(255,0,0,0.6758517622947693)\">and</span> conversations that she <span style=\"color: rgba(255,0,0,0.5905492901802063)\">would</span> have had with him, <span style=\"color: rgba(255,0,0,0.6123008728027344)\">and</span> wish <span style=\"color: rgba(255,0,0,0.7987778186798096)\">to</span> be asked about these, and <span style=\"color: rgba(255,0,0,0.5027069449424744)\">mean</span>ly would laugh at the man [SEP]"
      ],
      "text/plain": [
       "<IPython.core.display.HTML object>"
      ]
     },
     "metadata": {},
     "output_type": "display_data"
    },
    {
     "name": "stdout",
     "output_type": "stream",
     "text": [
      "8000 0.24516732770418348\n"
     ]
    },
    {
     "data": {
      "text/html": [
       "[CLS] <span style=\"color: rgba(255,0,0,0.6919907331466675)\">.</span> Moreover the woman <span style=\"color: rgba(255,0,0,0.612226128578186)\">would</span> meet the go-between in lonely places and tell her <span style=\"color: rgba(255,0,0,0.5138166546821594)\">it</span> there, would yawn contemplatively, draw long sighs, give her presents, <span style=\"color: rgba(255,0,0,0.5058700442314148)\">have</span> her on occasions of festivals, <span style=\"color: rgba(255,0,0,0.5133218765258789)\">do</span> <span style=\"color: rgba(255,0,0,0.5114928483963013)\">it</span> with a <span style=\"color: rgba(255,0,0,0.5102093815803528)\">love</span> to see her again, and say to <span style=\"color: rgba(255,0,0,0.5617828965187073)\">her</span> jestingly, \" Oh, well-speaking woman, why <span style=\"color: rgba(255,0,0,0.5220049619674683)\">must</span> you speak these bad words to <span style=\"color: rgba(255,0,0,0.550499677658081)\">him</span>? \" would discourse on the sin of her <span style=\"color: rgba(255,0,0,0.505348801612854)\">love</span> with the man, would not tell her about any previous visits or conversations that she may have had with him, <span style=\"color: rgba(255,0,0,0.6326440572738647)\">and</span> wish to be asked about these, and lastly would laugh at the <span style=\"color: rgba(255,0,0,0.5209162831306458)\">[SEP]</span> <span style=\"color: rgba(255,0,0,0.5923295021057129)\">[SEP]</span>"
      ],
      "text/plain": [
       "<IPython.core.display.HTML object>"
      ]
     },
     "metadata": {},
     "output_type": "display_data"
    },
    {
     "name": "stdout",
     "output_type": "stream",
     "text": [
      "9000 0.2378330940525342\n"
     ]
    },
    {
     "data": {
      "text/html": [
       "[CLS] \" Moreover the woman <span style=\"color: rgba(255,0,0,0.6448425054550171)\">would</span> meet the go-between in lonely places and tell her stories there, would yawn con<span style=\"color: rgba(255,0,0,0.5096250176429749)\">s</span>platively, draw long sighs, give her presents, remember her <span style=\"color: rgba(255,0,0,0.5451090335845947)\">the</span> occasions of festivals, dismiss her <span style=\"color: rgba(255,0,0,0.5778744220733643)\">in</span> a wish to see her again, <span style=\"color: rgba(255,0,0,0.8526350259780884)\">and</span> say <span style=\"color: rgba(255,0,0,0.586973249912262)\">her</span> <span style=\"color: rgba(255,0,0,0.5163887739181519)\">more</span> jestingly, \" Oh, well-speaking woman, <span style=\"color: rgba(255,0,0,0.5919085144996643)\">why</span> do <span style=\"color: rgba(255,0,0,0.6068789958953857)\">you</span> speak these bad words to me? <span style=\"color: rgba(255,0,0,0.5694025158882141)\">I</span> would discourse on the sin of her union with the man, would not <span style=\"color: rgba(255,0,0,0.5636366605758667)\">tell</span> her about any previous visits or conversations that she may have had with him, but wish to <span style=\"color: rgba(255,0,0,0.8249939680099487)\">be</span> asked about these, and last <span style=\"color: rgba(255,0,0,0.5297752618789673)\">she</span> would laugh at the man [SEP]"
      ],
      "text/plain": [
       "<IPython.core.display.HTML object>"
      ]
     },
     "metadata": {},
     "output_type": "display_data"
    },
    {
     "name": "stdout",
     "output_type": "stream",
     "text": [
      "10000 0.23133908374640988\n"
     ]
    },
    {
     "data": {
      "text/html": [
       "[CLS] \" Moreover the woman would meet the go-between in lonely places and tell her stories there, would yawn contemplatively <span style=\"color: rgba(255,0,0,0.7552216053009033)\">,</span> draw <span style=\"color: rgba(255,0,0,0.6586456298828125)\">her</span> sighs, <span style=\"color: rgba(255,0,0,0.514647901058197)\">take</span> her presents, <span style=\"color: rgba(255,0,0,0.5065659284591675)\">see</span> her on occasions of festivals, dismiss her with a wish to see her again, and say to her jestingly, \" Oh, <span style=\"color: rgba(255,0,0,0.5050461292266846)\">well</span>-speaking woman, why do you speak these <span style=\"color: rgba(255,0,0,0.6336677074432373)\">bad</span> words to me? \" would discourse on the <span style=\"color: rgba(255,0,0,0.5204524993896484)\">sin</span> of her union with the man, would not tell her about any previous visits or conversations that she may have had with him, but wish to be asked about these, and lastly would <span style=\"color: rgba(255,0,0,0.5066683888435364)\">say</span> at the man [SEP]"
      ],
      "text/plain": [
       "<IPython.core.display.HTML object>"
      ]
     },
     "metadata": {},
     "output_type": "display_data"
    }
   ],
   "source": [
    "model.train()\n",
    "for _ in tqdm(range(int(args.num_train_epochs)), desc=\"Epoch\"):\n",
    "    tr_loss = 0\n",
    "    nb_tr_examples, nb_tr_steps = 0, 0\n",
    "    with tqdm(total=len(train_dataloader), desc='Iteration', mininterval=0.5) as prog:\n",
    "        for step, batch in enumerate(train_dataloader):\n",
    "            batch = tuple(t.to(device) for t in batch)\n",
    "            input_ids, input_mask, segment_ids, label_ids, label_weights = batch\n",
    "            \n",
    "            loss, logits = model(input_ids, segment_ids, input_mask, label_ids, label_weights)\n",
    "            if n_gpu > 1:\n",
    "                loss = loss.mean() # mean() to average on multi-gpu.\n",
    "            if args.gradient_accumulation_steps > 1:\n",
    "                loss = loss / args.gradient_accumulation_steps\n",
    "            loss.backward()\n",
    "            tr_loss += loss.item()\n",
    "            nb_tr_examples += input_ids.size(0)\n",
    "            nb_tr_steps += 1\n",
    "            if (step + 1) % args.gradient_accumulation_steps == 0:\n",
    "                optimizer.step()    # We have accumulated enougth gradients\n",
    "                model.zero_grad()\n",
    "            prog.update(1)\n",
    "            prog.desc = 'Iter. loss={:2.6f}'.format(tr_loss/nb_tr_examples)\n",
    "            if step%1000==0:\n",
    "                print(step, tr_loss/nb_tr_examples)\n",
    "                display(predict_next_words(val_test, processor, tokenizer, n=10))\n",
    "    \n",
    "    torch.save(model.state_dict(), save_path)\n",
    "\n",
    "global_step += 1"
   ]
  },
  {
   "cell_type": "code",
   "execution_count": null,
   "metadata": {
    "ExecuteTime": {
     "start_time": "2018-11-11T10:26:53.488Z"
    }
   },
   "outputs": [],
   "source": [
    "y = F.log_softmax(logits).argmax(-1).cpu().numpy()"
   ]
  },
  {
   "cell_type": "code",
   "execution_count": null,
   "metadata": {
    "ExecuteTime": {
     "start_time": "2018-11-11T10:26:53.495Z"
    }
   },
   "outputs": [],
   "source": [
    "def clean_decoded(tokens):\n",
    "    s = ' '.join(tokens)\n",
    "    for a, b in replace_list:\n",
    "        s = re.sub(a, b, s)\n",
    "    return s\n",
    "\n",
    "def html_clean_decoded(logits, input_mask, output, label_weights):\n",
    "    \"\"\"Format model outputs as html, with masked elements in red, with opacity indicating confidence.\"\"\"\n",
    "    log_probs = nn.LogSoftmax(-1)(logits).detach()\n",
    "    prediction_idxs = log_probs.argmax(-1)\n",
    "    # join masked an non masked\n",
    "    y = input_ids *  (1 - label_weights) + prediction_idxs * label_weights\n",
    "    yd = [decoder[hh.item()] for hh in y]\n",
    "    html_yd = []\n",
    "    for i in range(len(yd)):\n",
    "        if not label_weights[i]:\n",
    "            html_yd.append(yd[i])\n",
    "        else:\n",
    "            prob = log_probs[i][prediction_idxs[i]].exp()\n",
    "            prob = prob/2 + 0.5\n",
    "            html_yd.append('<span style=\"color: rgba(255,0,0,{})\">{}</span>'.format(prob, yd[i]))\n",
    "    return HTML(clean_decoded(html_yd))"
   ]
  },
  {
   "cell_type": "code",
   "execution_count": null,
   "metadata": {
    "ExecuteTime": {
     "start_time": "2018-11-11T10:26:53.502Z"
    }
   },
   "outputs": [],
   "source": [
    "x = html_clean_decoded(input_ids[i], input_mask[i], logits[i], label_weights[i])"
   ]
  },
  {
   "cell_type": "code",
   "execution_count": null,
   "metadata": {
    "ExecuteTime": {
     "start_time": "2018-11-11T10:26:53.510Z"
    }
   },
   "outputs": [],
   "source": [
    "\n",
    "log_probs = nn.LogSoftmax(-1)(logits).detach()\n",
    "prediction_idxs = log_probs.argmax(-1)\n",
    "# join masked an non masked\n",
    "y = input_ids[0] *  (1 - label_weights[0]) + prediction_idxs[0] * label_weights[0]\n",
    "yd = [decoder[hh.item()] for hh in y]\n",
    "html_yd = []\n",
    "for i in range(len(yd)):\n",
    "    if not label_weights[0][i]:\n",
    "        html_yd.append(yd[i])\n",
    "    else:\n",
    "        prob = logits[0][i][prediction_idxs[0][i]].exp()\n",
    "        prob = prob/2 + 0.5\n",
    "        html_yd.append('<span style=\"color: rgba(255,0,0,{})\">{}</span>'.format(prob, yd[i]))\n",
    "HTML(clean_decoded(html_yd))"
   ]
  },
  {
   "cell_type": "code",
   "execution_count": null,
   "metadata": {
    "ExecuteTime": {
     "start_time": "2018-11-11T10:26:53.516Z"
    }
   },
   "outputs": [],
   "source": [
    "torch.save(model.state_dict(), save_path)"
   ]
  },
  {
   "cell_type": "code",
   "execution_count": null,
   "metadata": {
    "ExecuteTime": {
     "end_time": "2018-11-11T06:21:57.953084Z",
     "start_time": "2018-11-11T06:21:57.928662Z"
    }
   },
   "outputs": [],
   "source": []
  },
  {
   "cell_type": "markdown",
   "metadata": {},
   "source": [
    "- TODO pred generator\n",
    "- TODO sample outputs\n",
    "- TODO check it works\n",
    "- TODO isn't it a bit slow?\n",
    "- TODO should I mirror the embedding weights?"
   ]
  },
  {
   "cell_type": "markdown",
   "metadata": {
    "ExecuteTime": {
     "end_time": "2018-11-11T05:13:19.461498Z",
     "start_time": "2018-11-11T05:13:19.437293Z"
    }
   },
   "source": [
    "## Language modelling loss..."
   ]
  },
  {
   "cell_type": "code",
   "execution_count": null,
   "metadata": {
    "ExecuteTime": {
     "start_time": "2018-11-11T10:26:53.524Z"
    }
   },
   "outputs": [],
   "source": [
    "def to_one_hot(y_tensor, n_dims=None):\n",
    "    \"\"\" Take integer y (tensor or variable) with n dims and convert it to 1-hot representation with n+1 dims. \"\"\"\n",
    "    y_tensor = y_tensor.type(torch.LongTensor).view(-1, 1)\n",
    "    n_dims = n_dims if n_dims is not None else int(torch.max(y_tensor)) + 1\n",
    "    y_one_hot = torch.zeros(y_tensor.size()[0], n_dims).scatter_(1, y_tensor, 1)\n",
    "    y_one_hot = y_one_hot.view(*y.shape, -1)\n",
    "    return y_one_hot\n"
   ]
  },
  {
   "cell_type": "code",
   "execution_count": null,
   "metadata": {
    "ExecuteTime": {
     "start_time": "2018-11-11T10:26:53.531Z"
    }
   },
   "outputs": [],
   "source": [
    "# see https://github.com/google-research/bert/blob/d8014ef72/run_pretraining.py#L273\n",
    "label_weights = (1-input_mask)\n",
    "input_ids_1_hot = to_one_hot(input_ids, log_probs.shape[-1]).cuda()\n",
    "per_example_loss = -(log_probs * input_ids_1_hot).sum(-1)\n",
    "numerator = (label_weights.float() * per_example_loss).sum()\n",
    "denominator = (label_weights.float()).sum() + 1e-5\n",
    "loss = numerator / denominator\n",
    "loss"
   ]
  },
  {
   "cell_type": "code",
   "execution_count": null,
   "metadata": {
    "ExecuteTime": {
     "start_time": "2018-11-11T10:26:53.537Z"
    }
   },
   "outputs": [],
   "source": [
    "# Calc language masking loss\n",
    "label_weights = (1-input_mask)\n",
    "logits = outs * label_weights[:, :, None].float()\n",
    "targets = input_ids * label_weights\n",
    "\n",
    "logits = logits.view((-1, logits.shape[-1]))\n",
    "targets = targets.view((-1,))\n",
    "\n",
    "l = F.cross_entropy(logits, targets, reduce=False) * label_weights.float()\n",
    "l.sum()/(input_mask==0).sum().float()\n"
   ]
  },
  {
   "cell_type": "code",
   "execution_count": null,
   "metadata": {
    "ExecuteTime": {
     "end_time": "2018-11-11T05:20:25.284933Z",
     "start_time": "2018-11-11T05:20:25.258245Z"
    }
   },
   "outputs": [],
   "source": []
  },
  {
   "cell_type": "code",
   "execution_count": null,
   "metadata": {
    "ExecuteTime": {
     "start_time": "2018-11-11T10:26:53.545Z"
    }
   },
   "outputs": [],
   "source": [
    "# Calc language masking loss\n",
    "label_weights = (1-input_mask)\n",
    "logits = outs * label_weights[:, :, None].float()\n",
    "targets = input_ids * label_weights\n",
    "\n",
    "logits = logits.view((-1, logits.shape[-1]))\n",
    "targets = targets.view((-1,))\n",
    "\n",
    "logits = logits[targets!=0]\n",
    "targets = targets[targets!=0]\n",
    "\n",
    "F.cross_entropy(logits, targets)\n"
   ]
  },
  {
   "cell_type": "code",
   "execution_count": null,
   "metadata": {
    "ExecuteTime": {
     "start_time": "2018-11-11T10:26:53.551Z"
    }
   },
   "outputs": [],
   "source": [
    "outs.shape"
   ]
  },
  {
   "cell_type": "code",
   "execution_count": null,
   "metadata": {
    "ExecuteTime": {
     "start_time": "2018-11-11T10:26:53.557Z"
    }
   },
   "outputs": [],
   "source": [
    "input_mask.shape"
   ]
  },
  {
   "cell_type": "code",
   "execution_count": null,
   "metadata": {},
   "outputs": [],
   "source": []
  }
 ],
 "metadata": {
  "kernelspec": {
   "display_name": "jupyter3",
   "language": "python",
   "name": "jupyter3"
  },
  "language_info": {
   "codemirror_mode": {
    "name": "ipython",
    "version": 3
   },
   "file_extension": ".py",
   "mimetype": "text/x-python",
   "name": "python",
   "nbconvert_exporter": "python",
   "pygments_lexer": "ipython3",
   "version": "3.5.3"
  },
  "notify_time": "5",
  "toc": {
   "colors": {
    "hover_highlight": "#DAA520",
    "navigate_num": "#000000",
    "navigate_text": "#333333",
    "running_highlight": "#FF0000",
    "selected_highlight": "#FFD700",
    "sidebar_border": "#EEEEEE",
    "wrapper_background": "#FFFFFF"
   },
   "moveMenuLeft": true,
   "nav_menu": {
    "height": "103px",
    "width": "251px"
   },
   "navigate_menu": true,
   "number_sections": true,
   "sideBar": true,
   "threshold": 4,
   "toc_cell": false,
   "toc_position": {
    "height": "536px",
    "left": "0px",
    "right": "1413.33px",
    "top": "150px",
    "width": "185px"
   },
   "toc_section_display": "block",
   "toc_window_display": true,
   "widenNotebook": false
  }
 },
 "nbformat": 4,
 "nbformat_minor": 2
}
