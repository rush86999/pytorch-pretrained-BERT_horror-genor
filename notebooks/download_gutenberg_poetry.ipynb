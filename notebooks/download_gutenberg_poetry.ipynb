{
 "cells": [
  {
   "cell_type": "markdown",
   "metadata": {
    "ExecuteTime": {
     "end_time": "2018-11-04T02:29:54.022099Z",
     "start_time": "2018-11-04T02:29:54.017857Z"
    }
   },
   "source": [
    "# Fetch guternberg books from a category"
   ]
  },
  {
   "cell_type": "markdown",
   "metadata": {},
   "source": [
    "## Step 1, get book ids\n",
    "\n",
    "- go to http://m.gutenberg.org/ebooks/search.mobile/?query=bsxHorror&sort_order=downloads\n",
    "\n",
    "- scroll to the bottom and click \"show more\" a few times\n",
    "- enter the javascript below in the browsers js console\n",
    "- it should have copied the ids to your clipboard, you can paste it into \"ids\" below\n",
    "\n",
    "\n",
    "```js\n",
    "// to get all book ids shown on page, paste this javascript into js console in browser when on the page above\n",
    "a_elems = document.getElementsByClassName(\"table link\")\n",
    "hrefs = Array.from(a_elems)\n",
    "  .map(e=>e.href) // get link\n",
    "  .filter(e=>e) // remove empty links\n",
    "ids = hrefs.map(e=>/(\\d+)\\.mobile/.exec(e)) // regular expression match\n",
    "  .filter(e=>e) // remove ones not found\n",
    "  .map(e=>e[1]) // get just id\n",
    "copy(ids) // copy to clipboard\n",
    "```"
   ]
  },
  {
   "cell_type": "code",
   "execution_count": 1,
   "metadata": {},
   "outputs": [],
   "source": [
    "import os\n",
    "os.sys.path.append('..')"
   ]
  },
  {
   "cell_type": "code",
   "execution_count": 2,
   "metadata": {
    "ExecuteTime": {
     "end_time": "2018-11-10T07:56:34.724454Z",
     "start_time": "2018-11-10T07:56:34.718401Z"
    }
   },
   "outputs": [],
   "source": [
    "import requests\n",
    "import os\n",
    "import re\n",
    "import bs4\n",
    "import time\n",
    "import json\n",
    "\n",
    "\n",
    "dest_dir = '../data/input/poetry_gutenberg'\n",
    "if not os.path.isdir(dest_dir):\n",
    "    os.makedirs(dest_dir)\n",
    "    \n",
    "raw_dir = os.path.join(dest_dir, 'raw')\n",
    "if not os.path.isdir(raw_dir):\n",
    "    os.makedirs(raw_dir)"
   ]
  },
  {
   "cell_type": "code",
   "execution_count": 3,
   "metadata": {},
   "outputs": [],
   "source": [
    "from tqdm import tqdm as tqdm"
   ]
  },
  {
   "cell_type": "code",
   "execution_count": 4,
   "metadata": {},
   "outputs": [],
   "source": [
    "from dataset import parse_gutenberg"
   ]
  },
  {
   "cell_type": "code",
   "execution_count": 5,
   "metadata": {
    "ExecuteTime": {
     "end_time": "2018-11-10T07:56:35.103285Z",
     "start_time": "2018-11-10T07:56:35.072670Z"
    }
   },
   "outputs": [],
   "source": [
    "# urls to download text inputs\n",
    "ids = [\n",
    "  \"16328\",\n",
    "  \"1322\",\n",
    "  \"20\",\n",
    "  \"9622\",\n",
    "  \"228\",\n",
    "  \"1321\",\n",
    "  \"16452\",\n",
    "  \"1012\",\n",
    "  \"981\",\n",
    "  \"1567\",\n",
    "  \"23684\",\n",
    "  \"847\",\n",
    "  \"14568\",\n",
    "  \"14020\",\n",
    "  \"4800\",\n",
    "  \"19\",\n",
    "  \"2490\",\n",
    "  \"24269\",\n",
    "  \"3333\",\n",
    "  \"1365\",\n",
    "  \"19221\",\n",
    "  \"9700\",\n",
    "  \"20158\",\n",
    "  \"2039\",\n",
    "  \"8388\",\n",
    "  \"18500\",\n",
    "  \"23475\",\n",
    "  \"30276\",\n",
    "  \"8209\",\n",
    "  \"24280\",\n",
    "  \"8801\",\n",
    "  \"21811\",\n",
    "  \"262\",\n",
    "  \"28665\",\n",
    "  \"20732\",\n",
    "  \"25340\",\n",
    "  \"12389\",\n",
    "  \"27577\",\n",
    "  \"20431\",\n",
    "  \"16786\",\n",
    "  \"841\",\n",
    "  \"8820\",\n",
    "  \"28666\",\n",
    "  \"261\",\n",
    "  \"28621\",\n",
    "  \"1020\",\n",
    "  \"43224\",\n",
    "  \"13830\",\n",
    "  \"12925\",\n",
    "  \"13310\",\n",
    "  \"8672\",\n",
    "  \"27308\",\n",
    "  \"53375\",\n",
    "  \"27199\",\n",
    "  \"22531\",\n",
    "  \"12031\",\n",
    "  \"15553\",\n",
    "  \"12759\",\n",
    "  \"12924\",\n",
    "  \"17119\",\n",
    "  \"579\",\n",
    "  \"12664\",\n",
    "  \"13037\",\n",
    "  \"23979\",\n",
    "  \"26376\",\n",
    "  \"15390\",\n",
    "  \"13900\",\n",
    "  \"2670\",\n",
    "  \"18726\",\n",
    "  \"21029\",\n",
    "  \"20174\",\n",
    "  \"12032\",\n",
    "  \"19784\",\n",
    "  \"22001\",\n",
    "  \"13223\",\n",
    "  \"9606\",\n",
    "  \"27663\",\n",
    "  \"7325\",\n",
    "  \"12717\",\n",
    "  \"22833\",\n",
    "  \"18871\",\n",
    "  \"53385\",\n",
    "  \"17948\",\n",
    "  \"12718\",\n",
    "  \"26288\",\n",
    "  \"18673\",\n",
    "  \"7110\",\n",
    "  \"17347\",\n",
    "  \"1229\",\n",
    "  \"13224\",\n",
    "  \"12413\",\n",
    "  \"18524\",\n",
    "  \"9889\",\n",
    "  \"53378\",\n",
    "  \"18287\"\n",
    "]\n"
   ]
  },
  {
   "cell_type": "code",
   "execution_count": 6,
   "metadata": {},
   "outputs": [],
   "source": [
    "# download/cache raw files\n",
    "for bid in ids:\n",
    "    \n",
    "    # first download index\n",
    "    index_url = \"http://www.gutenberg.org/files/{bid:}\".format(bid=bid)\n",
    "    r = requests.get(index_url)\n",
    "    r.raise_for_status()\n",
    "    soup = bs4.BeautifulSoup(r.content, \"html5lib\")\n",
    "    hrefs = [e.attrs['href'] for e in soup.findAll('a')]\n",
    "    links = [h for h in hrefs if h.endswith('.txt')]\n",
    "    time.sleep(0.1) # avoid ddos/ban\n",
    "    \n",
    "    # download text\n",
    "    for link in links:\n",
    "        txt_url = index_url + '/' + link\n",
    "        outfile = os.path.join(dest_dir, 'raw', link)\n",
    "        if not os.path.isfile(outfile):\n",
    "            r = requests.get(txt_url)\n",
    "            r.raise_for_status()\n",
    "            open(outfile, 'w').write(r.text)\n",
    "            \n",
    "            time.sleep(0.1) # avoid ddos/ban"
   ]
  },
  {
   "cell_type": "code",
   "execution_count": 7,
   "metadata": {
    "ExecuteTime": {
     "end_time": "2018-11-10T07:59:46.778769Z",
     "start_time": "2018-11-10T07:56:37.592614Z"
    }
   },
   "outputs": [
    {
     "name": "stderr",
     "output_type": "stream",
     "text": [
      "100%|██████████| 95/95 [00:34<00:00,  2.72it/s]\n"
     ]
    }
   ],
   "source": [
    "# download/cache raw files\n",
    "for bid in tqdm(ids, mininterval=60):\n",
    "    \n",
    "    # first download index\n",
    "    index_url = \"http://www.gutenberg.org/files/{bid:}\".format(bid=bid)\n",
    "    r = requests.get(index_url)\n",
    "    r.raise_for_status()\n",
    "    soup = bs4.BeautifulSoup(r.content, \"html5lib\")\n",
    "    hrefs = [e.attrs['href'] for e in soup.findAll('a')]\n",
    "    links = [h for h in hrefs if h.endswith('.txt')]\n",
    "    time.sleep(0.1) # avoid ddos/ban\n",
    "    \n",
    "    # download text\n",
    "    for link in links:\n",
    "        txt_url = index_url + '/' + link\n",
    "        outfile = os.path.join(dest_dir, 'raw', link)\n",
    "        if not os.path.isfile(outfile):\n",
    "            r = requests.get(txt_url)\n",
    "            r.raise_for_status()\n",
    "            open(outfile, 'w').write(r.text)\n",
    "            \n",
    "            time.sleep(0.1) # avoid ddos/ban"
   ]
  },
  {
   "cell_type": "code",
   "execution_count": null,
   "metadata": {
    "ExecuteTime": {
     "end_time": "2018-11-10T07:59:46.801257Z",
     "start_time": "2018-11-10T07:59:46.784066Z"
    }
   },
   "outputs": [],
   "source": []
  },
  {
   "cell_type": "markdown",
   "metadata": {},
   "source": [
    "# 2. turn into cleaned(ish) txt"
   ]
  },
  {
   "cell_type": "code",
   "execution_count": 8,
   "metadata": {
    "ExecuteTime": {
     "end_time": "2018-11-10T07:59:47.220267Z",
     "start_time": "2018-11-10T07:59:46.804549Z"
    }
   },
   "outputs": [],
   "source": [
    "from sklearn.model_selection import train_test_split"
   ]
  },
  {
   "cell_type": "code",
   "execution_count": 9,
   "metadata": {
    "ExecuteTime": {
     "end_time": "2018-11-10T08:04:50.435774Z",
     "start_time": "2018-11-10T08:04:49.304240Z"
    }
   },
   "outputs": [
    {
     "name": "stdout",
     "output_type": "stream",
     "text": [
      "The Odyssey of Homer\n",
      "The Aeneid\n",
      "Endymion, A Poetic Romance\n",
      "Poems by Jean Ingelow, In Two Volumes, Volume II.\n",
      "Pastoral Poems by Nicholas Breton,, Selected Poetry by George Wither, and, Pastoral Poetry by William Browne (of Tavistock)\n",
      "Rose and Roof-Tree, Poems\n",
      "The World's Best Poetry, Volume 3, Sorrow and Consolation\n",
      "Endymion, A Poetic Romance\n",
      "Japanese Prints\n",
      "Amores, Poems\n",
      "The Complete Poetical Works of James Russell Lowell\n",
      "The Iliad of Homer, Translated into English Blank Verse\n",
      "Beowulf\n",
      "The New Morning, Poems\n",
      "Songs and Other Verse\n",
      "Love-Songs of Childhood\n",
      "Astrophel and Other Poems, Taken from The Collected Poetical Works of Algernon Charles, Swinburne, Vol. VI\n",
      "    Problem: No title found\n",
      "\n",
      "    Problem: No '*** START' seen\n",
      "\n",
      "    Problem: No '*** END' seen\n",
      "\n",
      "The Carmina of Caius Valerius Catullus\n",
      "Poetry: A Magazine of Verse, Volume I, October-March, 1912-13\n",
      "Beowulf\n",
      "Hymen\n",
      "Death Be Not Proud\n",
      "The Works of Horace\n",
      "The Complete Works of Robert Burns: Containing his Poems, Songs, and Correspondence., With a New Life of the Poet, and Notices, Critical and, Biographical by Allan Cunningham\n",
      "Poems by Jean Ingelow, In Two Volumes, Volume II.\n",
      "The Golden Treasury of American Songs and Lyrics\n",
      "Dreams and Days: Poems\n",
      "Occoneechee, The Maid of the Mystic Lake\n",
      "The Iliad of Homer, Translated into English Blank Verse\n",
      "The Metamorphoses of Publius Ovidus Naso in English blank verse Vols. I & II\n",
      "Beowulf\n",
      "Poems By Walt Whitman\n",
      "Lamia\n",
      "Keats: Poems Published in 1820\n",
      "The Odyssey of Homer\n",
      "The Wreck of the Hesperus\n",
      "The World's Best Poetry, Volume 3, Sorrow and Consolation\n",
      "Collected Poems 1901-1918 in Two Volumes, Volume II\n",
      "Sappho: One Hundred Lyrics\n",
      "Some Imagist Poets, An Anthology\n",
      "Lyrics of Earth\n",
      "Sword Blades and Poppy Seed\n",
      "The Works Of Lord Byron, Vol. 3 (of 7)\n",
      "The Complete Poetical Works of Percy Bysshe Shelley Volume I\n",
      "The Works Of Lord Byron, Vol. 3 (of 7)\n",
      "Endymion, A Poetic Romance\n",
      "Evangeline, with Notes and Plan of Study\n",
      "The Complete Poetical Works of James Russell Lowell\n",
      "A Channel Passage and Other Poems, Taken from The Collected Poetical Works of Algernon Charles, Swinburne--Vol VI\n",
      "Hymen\n",
      "Some Imagist Poets, An Anthology\n",
      "The Tale of Beowulf, Sometime King of the Folk of the Weder Geats\n",
      "Lyrical Ballads 1798\n",
      "Keats: Poems Published in 1820\n",
      "The New Morning, Poems\n",
      "Alcyone\n",
      "Poems by Jean Ingelow, In Two Volumes, Volume I.\n",
      "A Little Book of Western Verse\n",
      "The Rowley Poems\n",
      "The Works Of Lord Byron, Vol. 3 (of 7)\n",
      "Rose and Roof-Tree, Poems\n",
      "The World's Best Poetry -- Volume 10\n",
      "The Collected Poems of Rupert Brooke\n",
      "The World's Best Poetry, Volume 8\n",
      "Collected Poems 1897 - 1907\n",
      "The Golden Treasury of American Songs and Lyrics\n",
      "Among the Millet and Other Poems\n",
      "A Dark Month, From Swinburne's Collected Poetical Works Vol. V\n",
      "The World's Best Poetry, Volume 8\n",
      "The Works of Lord Byron, Volume 2\n",
      "The Vision of Sir Launfal, And Other Poems\n",
      "Sonnets, and Sonnets on English Dramatic Poets (1590-1650), Taken from The Collected Poetical Works of Algernon Charles, Swinburne, Vol V\n",
      "The World's Best Poetry Volume IV.\n",
      "The Complete Works of Robert Burns: Containing his Poems, Songs, and Correspondence., With a New Life of the Poet, and Notices, Critical and, Biographical by Allan Cunningham\n",
      "The Works of Lord Byron, Volume 4\n",
      "Evangeline, A Tale of Acadie\n",
      "Original sonnets on various subjects; and odes paraphrased from Horace\n",
      "Paradise Lost\n",
      "Evangeline, A Tale of Acadie\n",
      "The Odyssey of Homer\n",
      "The Works of Lord Byron, Volume 4\n",
      "Poetry: A Magazine of Verse, Volume I, October-March, 1912-13\n",
      "Collected Poems 1901-1918 in Two Volumes, Volume II\n",
      "When Lilacs Last in the Dooryard Bloom'd\n",
      "A Dome of Many-Coloured Glass\n",
      "To His Coy Mistress\n",
      "The Song Of Hiawatha\n",
      "The Vision of Sir Launfal, And Other Poems\n",
      "The World's Best Poetry -- Volume 10\n",
      "Original sonnets on various subjects; and odes paraphrased from Horace\n",
      "Lays of Ancient Rome\n",
      "Paradise Lost\n",
      "The Vision of Sir Launfal, And Other Poems\n",
      "Leaves of Grass\n",
      "    Problem: No title found\n",
      "\n",
      "    Problem: No '*** END' seen\n",
      "\n",
      "Drum Taps\n",
      "Collected Poems 1901-1918 in Two Volumes, Volume I\n",
      "Lyrics of Earth\n",
      "Sea Garden\n",
      "The Complete Poetical Works of Henry Wadsworth Longfellow\n",
      "Sonnets, and Sonnets on English Dramatic Poets (1590-1650), Taken from The Collected Poetical Works of Algernon Charles, Swinburne, Vol V\n",
      "Songs of the Springtides and Birthday Ode, Taken from The Collected Poetical Works of Algernon Charles, Swinburne--Vol. III\n",
      "Sappho: One Hundred Lyrics\n",
      "Poems by Jean Ingelow, In Two Volumes, Volume I.\n",
      "Among the Millet and Other Poems\n",
      "Beowulf, An Anglo-Saxon Epic Poem, Translated From The Heyne-Socin, Text by Lesslie Hall\n",
      "Men, Women and Ghosts\n",
      "Drum Taps\n",
      "Evangeline, with Notes and Plan of Study\n",
      "Pastoral Poems by Nicholas Breton,, Selected Poetry by George Wither, and, Pastoral Poetry by William Browne (of Tavistock)\n",
      "The Works of Lord Byron, Poetry, Volume V\n",
      "The Works of Lord Byron, Volume 2\n",
      "The Aeneid\n",
      "For Your Sweet Sake, Poems\n",
      "The Works of Lord Byron, Poetry, Volume V\n",
      "The Metamorphoses of Publius Ovidus Naso in English blank verse Vols. I & II\n",
      "A Mother's Year Book, Author: Various, Release Date: October 26, 2016 [EBook #53378], Language: English, Character set encoding: ISO-8859-1\n",
      "The Works of Lord Byron, Poetry, Volume V\n",
      "Collected Poems 1897 - 1907\n",
      "The Works of Lord Byron, Vol. 7., Poetry\n",
      "The Works of Lord Byron, Vol. 7., Poetry\n",
      "Song of Myself Selections\n",
      "Poems Chiefly From Manuscript\n",
      "Amores, Poems\n",
      "    Problem: No title found\n",
      "\n",
      "    Problem: No '*** END' seen\n",
      "\n",
      "The Golden Treasury, Of the Best Songs and Lyrical Poems in the English Language\n",
      "A Channel Passage and Other Poems, Taken from The Collected Poetical Works of Algernon Charles, Swinburne--Vol VI\n",
      "The World's Best Poetry Volume IV.\n",
      "The Waste Land\n",
      "Astrophel and Other Poems, Taken from The Collected Poetical Works of Algernon Charles, Swinburne, Vol. VI\n",
      "Songs of the Springtides and Birthday Ode, Taken from The Collected Poetical Works of Algernon Charles, Swinburne--Vol. III\n",
      "A Mother’s Year Book, Author: Various, Release Date: October 26, 2016 [EBook #53378], Language: English, Character set encoding: UTF-8\n",
      "The Metamorphoses of Publius Ovidus Naso in English blank verse Vols. I & II\n",
      "Poems and Ballads (Third Series), Taken from The Collected Poetical Works of Algernon Charles, Swinburne--Vol. III\n",
      "The Works of Lord Byron, Volume 4\n",
      "Lays of Ancient Rome\n",
      "The Golden Treasury, Of the Best Songs and Lyrical Poems in the English Language\n",
      "Poems\n",
      "A Treasury of War Poetry, British and American Poems of the World War 1914-1917\n",
      "Beowulf, An Anglo-Saxon Epic Poem, Translated From The Heyne-Socin, Text by Lesslie Hall\n",
      "Poems 1817\n",
      "The Rowley Poems\n",
      "Freedom, Truth and Beauty\n",
      "The Tale of Beowulf, Sometime King of the Folk of the Weder Geats\n",
      "A Little Book of Western Verse\n",
      "Songs and Other Verse\n",
      "The Works of Lord Byron, Volume 2\n",
      "Alcyone\n",
      "The Carmina of Caius Valerius Catullus\n",
      "The Wreck of the Hesperus\n",
      "The Waste Land\n",
      "Leaves of Grass\n",
      "Collected Poems 1901-1918 in Two Volumes, Volume I\n",
      "Sword Blades and Poppy Seed\n",
      "A Mother's Year Book, Author: Various, Release Date: October 26, 2016 [EBook #53378], Language: English, Character set encoding: US-ASCII\n",
      "The Vision of Sir Launfal, And Other Poems\n",
      "Original sonnets on various subjects; and odes paraphrased from Horace\n",
      "Lyrical Ballads 1798\n"
     ]
    }
   ],
   "source": [
    "# convert raw text into one long csv\n",
    "\n",
    "max_len = 400\n",
    "num_sent = 6\n",
    "data=[]\n",
    "for infile in os.listdir(raw_dir):\n",
    "    path = os.path.join(raw_dir, infile)\n",
    "    info = parse_gutenberg(open(path).read())\n",
    "    if info['language']=='English':\n",
    "        print(info['title'])\n",
    "        data.append(info['content'])"
   ]
  },
  {
   "cell_type": "code",
   "execution_count": 10,
   "metadata": {
    "ExecuteTime": {
     "end_time": "2018-11-10T07:59:48.316190Z",
     "start_time": "2018-11-10T07:59:48.312740Z"
    }
   },
   "outputs": [],
   "source": [
    "x_train, x_test = train_test_split(data)\n",
    "x_val, x_test = train_test_split(x_test)"
   ]
  },
  {
   "cell_type": "code",
   "execution_count": 11,
   "metadata": {
    "ExecuteTime": {
     "end_time": "2018-11-10T07:59:48.427697Z",
     "start_time": "2018-11-10T07:59:48.318441Z"
    }
   },
   "outputs": [
    {
     "data": {
      "text/plain": [
       "1074206"
      ]
     },
     "execution_count": 11,
     "metadata": {},
     "output_type": "execute_result"
    }
   ],
   "source": [
    "open(os.path.join(dest_dir, \"train.txt\"), \"w\").write(\"\\n\\n\".join(x_train))\n",
    "open(os.path.join(dest_dir, \"val.txt\"), \"w\").write(\"\\n\\n\".join(x_val))\n",
    "open(os.path.join(dest_dir, \"test.txt\"), \"w\").write(\"\\n\\n\".join(x_test))"
   ]
  },
  {
   "cell_type": "code",
   "execution_count": null,
   "metadata": {},
   "outputs": [],
   "source": []
  }
 ],
 "metadata": {
  "kernelspec": {
   "display_name": "Python [conda env:pytorch_p36]",
   "language": "python",
   "name": "conda-env-pytorch_p36-py"
  },
  "language_info": {
   "codemirror_mode": {
    "name": "ipython",
    "version": 3
   },
   "file_extension": ".py",
   "mimetype": "text/x-python",
   "name": "python",
   "nbconvert_exporter": "python",
   "pygments_lexer": "ipython3",
   "version": "3.6.5"
  },
  "toc": {
   "colors": {
    "hover_highlight": "#DAA520",
    "navigate_num": "#000000",
    "navigate_text": "#333333",
    "running_highlight": "#FF0000",
    "selected_highlight": "#FFD700",
    "sidebar_border": "#EEEEEE",
    "wrapper_background": "#FFFFFF"
   },
   "moveMenuLeft": true,
   "nav_menu": {
    "height": "91px",
    "width": "251px"
   },
   "navigate_menu": true,
   "number_sections": true,
   "sideBar": true,
   "threshold": 4,
   "toc_cell": false,
   "toc_position": {
    "height": "647px",
    "left": "0px",
    "right": "1286.33px",
    "top": "150px",
    "width": "312px"
   },
   "toc_section_display": "block",
   "toc_window_display": true,
   "widenNotebook": false
  }
 },
 "nbformat": 4,
 "nbformat_minor": 2
}
