{
 "cells": [
  {
   "cell_type": "markdown",
   "metadata": {},
   "source": [
    "https://arxiv.org/pdf/1810.04805.pdf"
   ]
  },
  {
   "cell_type": "code",
   "execution_count": 1,
   "metadata": {
    "ExecuteTime": {
     "end_time": "2018-11-13T01:57:20.298165Z",
     "start_time": "2018-11-13T01:57:20.295510Z"
    }
   },
   "outputs": [],
   "source": [
    "import os\n",
    "os.sys.path.append('..')"
   ]
  },
  {
   "cell_type": "code",
   "execution_count": 2,
   "metadata": {
    "ExecuteTime": {
     "end_time": "2018-11-13T01:57:20.717216Z",
     "start_time": "2018-11-13T01:57:20.300367Z"
    }
   },
   "outputs": [],
   "source": [
    "%matplotlib inline\n",
    "%reload_ext autoreload\n",
    "%autoreload 2"
   ]
  },
  {
   "cell_type": "code",
   "execution_count": 3,
   "metadata": {
    "ExecuteTime": {
     "end_time": "2018-11-13T01:57:21.023628Z",
     "start_time": "2018-11-13T01:57:20.719286Z"
    }
   },
   "outputs": [],
   "source": [
    "from __future__ import absolute_import\n",
    "from __future__ import division\n",
    "from __future__ import print_function\n",
    "\n",
    "import argparse\n",
    "import collections\n",
    "import logging\n",
    "import json\n",
    "import math\n",
    "import os\n",
    "import random\n",
    "import six\n",
    "from tqdm import tqdm_notebook as tqdm\n",
    "from IPython.display import HTML, display\n",
    "\n",
    "import numpy as np\n",
    "import torch\n",
    "import torch.nn as nn\n",
    "import torch.nn.functional as F\n",
    "from torch.utils.data import TensorDataset, DataLoader, RandomSampler, SequentialSampler\n",
    "from torch.utils.data.distributed import DistributedSampler\n",
    "\n",
    "import tokenization\n",
    "from modeling import BertConfig, BertForMaskedLanguageModelling\n",
    "from optimization import BERTAdam\n",
    "from masked_language_model import notqdm, convert_tokens_to_features, LMProcessor, predict_masked_words, predict_next_words\n"
   ]
  },
  {
   "cell_type": "code",
   "execution_count": 4,
   "metadata": {
    "ExecuteTime": {
     "end_time": "2018-11-13T01:57:21.047342Z",
     "start_time": "2018-11-13T01:57:21.026094Z"
    }
   },
   "outputs": [],
   "source": [
    "\n",
    "logging.basicConfig(format = '%(asctime)s - %(levelname)s - %(name)s -   %(message)s', \n",
    "                    datefmt = '%m/%d/%Y %H:%M:%S',\n",
    "                    level = logging.INFO)\n",
    "logger = logging.getLogger(__name__)"
   ]
  },
  {
   "cell_type": "code",
   "execution_count": null,
   "metadata": {
    "ExecuteTime": {
     "end_time": "2018-11-09T10:41:27.497266Z",
     "start_time": "2018-11-09T10:41:27.467141Z"
    }
   },
   "outputs": [],
   "source": []
  },
  {
   "cell_type": "markdown",
   "metadata": {},
   "source": [
    "# Args"
   ]
  },
  {
   "cell_type": "code",
   "execution_count": 5,
   "metadata": {
    "ExecuteTime": {
     "end_time": "2018-11-13T01:57:21.095286Z",
     "start_time": "2018-11-13T01:57:21.050225Z"
    }
   },
   "outputs": [
    {
     "data": {
      "text/plain": [
       "_StoreAction(option_strings=['--gradient_accumulation_steps'], dest='gradient_accumulation_steps', nargs=None, const=None, default=1, type=<class 'int'>, choices=None, help='Number of updates steps to accumualte before performing a backward/update pass.', metavar=None)"
      ]
     },
     "execution_count": 5,
     "metadata": {},
     "output_type": "execute_result"
    }
   ],
   "source": [
    "parser = argparse.ArgumentParser()\n",
    "\n",
    "## Required parameters\n",
    "parser.add_argument(\"--data_dir\",\n",
    "                    default=None,\n",
    "                    type=str,\n",
    "                    required=True,\n",
    "                    help=\"The input data dir. Should contain the .tsv files (or other data files) for the task.\")\n",
    "parser.add_argument(\"--bert_config_file\",\n",
    "                    default=None,\n",
    "                    type=str,\n",
    "                    required=True,\n",
    "                    help=\"The config json file corresponding to the pre-trained BERT model. \\n\"\n",
    "                         \"This specifies the model architecture.\")\n",
    "parser.add_argument(\"--task_name\",\n",
    "                    default=None,\n",
    "                    type=str,\n",
    "                    required=True,\n",
    "                    help=\"The name of the task to train.\")\n",
    "parser.add_argument(\"--vocab_file\",\n",
    "                    default=None,\n",
    "                    type=str,\n",
    "                    required=True,\n",
    "                    help=\"The vocabulary file that the BERT model was trained on.\")\n",
    "parser.add_argument(\"--output_dir\",\n",
    "                    default=None,\n",
    "                    type=str,\n",
    "                    required=True,\n",
    "                    help=\"The output directory where the model checkpoints will be written.\")\n",
    "\n",
    "## Other parameters\n",
    "parser.add_argument(\"--init_checkpoint\",\n",
    "                    default=None,\n",
    "                    type=str,\n",
    "                    help=\"Initial checkpoint (usually from a pre-trained BERT model).\")\n",
    "parser.add_argument(\"--do_lower_case\",\n",
    "                    default=False,\n",
    "                    action='store_true',\n",
    "                    help=\"Whether to lower case the input text. True for uncased models, False for cased models.\")\n",
    "parser.add_argument(\"--max_seq_length\",\n",
    "                    default=128,\n",
    "                    type=int,\n",
    "                    help=\"The maximum total input sequence length after WordPiece tokenization. \\n\"\n",
    "                         \"Sequences longer than this will be truncated, and sequences shorter \\n\"\n",
    "                         \"than this will be padded.\")\n",
    "parser.add_argument(\"--do_train\",\n",
    "                    default=False,\n",
    "                    action='store_true',\n",
    "                    help=\"Whether to run training.\")\n",
    "parser.add_argument(\"--do_eval\",\n",
    "                    default=False,\n",
    "                    action='store_true',\n",
    "                    help=\"Whether to run eval on the dev set.\")\n",
    "parser.add_argument(\"--train_batch_size\",\n",
    "                    default=32,\n",
    "                    type=int,\n",
    "                    help=\"Total batch size for training.\")\n",
    "parser.add_argument(\"--eval_batch_size\",\n",
    "                    default=8,\n",
    "                    type=int,\n",
    "                    help=\"Total batch size for eval.\")\n",
    "parser.add_argument(\"--learning_rate\",\n",
    "                    default=5e-5,\n",
    "                    type=float,\n",
    "                    help=\"The initial learning rate for Adam.\")\n",
    "parser.add_argument(\"--num_train_epochs\",\n",
    "                    default=3.0,\n",
    "                    type=float,\n",
    "                    help=\"Total number of training epochs to perform.\")\n",
    "parser.add_argument(\"--warmup_proportion\",\n",
    "                    default=0.1,\n",
    "                    type=float,\n",
    "                    help=\"Proportion of training to perform linear learning rate warmup for. \"\n",
    "                         \"E.g., 0.1 = 10%% of training.\")\n",
    "parser.add_argument(\"--no_cuda\",\n",
    "                    default=False,\n",
    "                    action='store_true',\n",
    "                    help=\"Whether not to use CUDA when available\")\n",
    "parser.add_argument(\"--local_rank\",\n",
    "                    type=int,\n",
    "                    default=-1,\n",
    "                    help=\"local_rank for distributed training on gpus\")\n",
    "parser.add_argument('--seed', \n",
    "                    type=int, \n",
    "                    default=42,\n",
    "                    help=\"random seed for initialization\")\n",
    "parser.add_argument('--gradient_accumulation_steps',\n",
    "                    type=int,\n",
    "                    default=1,\n",
    "                    help=\"Number of updates steps to accumualte before performing a backward/update pass.\") "
   ]
  },
  {
   "cell_type": "code",
   "execution_count": 6,
   "metadata": {
    "ExecuteTime": {
     "end_time": "2018-11-13T01:57:21.122886Z",
     "start_time": "2018-11-13T01:57:21.097485Z"
    }
   },
   "outputs": [
    {
     "name": "stdout",
     "output_type": "stream",
     "text": [
      "['--task_name', 'lm', '--data_dir', '../data/input/erotica_gutenberg', '--vocab_file', '../data/weights/cased_L-12_H-768_A-12/vocab.txt', '--bert_config_file', '../data/weights/cased_L-12_H-768_A-12/bert_config.json', '--init_checkpoint', '../data/weights/cased_L-12_H-768_A-12/pytorch_model.bin', '--do_train', '--do_eval', '--gradient_accumulation_steps', '2', '--train_batch_size', '16', '--learning_rate', '3e-5', '--num_train_epochs', '3.0', '--max_seq_length', '128', '--output_dir', '../outputs/erotica_cased_7_tied_mlm/']\n"
     ]
    }
   ],
   "source": [
    "experiment_name = 'erotica_cased_7_tied_mlm'\n",
    "\n",
    "argv = \"\"\"\n",
    "--task_name lm \\\n",
    "--data_dir {DATA_DIR} \\\n",
    "--vocab_file {BERT_BASE_DIR}/vocab.txt \\\n",
    "--bert_config_file {BERT_BASE_DIR}/bert_config.json \\\n",
    "--init_checkpoint {BERT_BASE_DIR}/pytorch_model.bin \\\n",
    "--do_train \\\n",
    "--do_eval \\\n",
    "--gradient_accumulation_steps 2 \\\n",
    "--train_batch_size 16 \\\n",
    "--learning_rate 3e-5 \\\n",
    "--num_train_epochs 3.0 \\\n",
    "--max_seq_length 128 \\\n",
    "--output_dir ../outputs/{name}/\n",
    "\"\"\".format(\n",
    "    BERT_BASE_DIR='../data/weights/cased_L-12_H-768_A-12',\n",
    "    DATA_DIR='../data/input/erotica_gutenberg',\n",
    "    name=experiment_name\n",
    ").replace('\\n', '').split(' ')\n",
    "print(argv)\n",
    "args = parser.parse_args(argv)"
   ]
  },
  {
   "cell_type": "code",
   "execution_count": null,
   "metadata": {
    "ExecuteTime": {
     "end_time": "2018-11-09T15:26:30.278170Z",
     "start_time": "2018-11-09T15:26:30.248424Z"
    }
   },
   "outputs": [],
   "source": []
  },
  {
   "cell_type": "markdown",
   "metadata": {},
   "source": [
    "# Init"
   ]
  },
  {
   "cell_type": "code",
   "execution_count": 7,
   "metadata": {
    "ExecuteTime": {
     "end_time": "2018-11-13T01:57:21.195298Z",
     "start_time": "2018-11-13T01:57:21.125084Z"
    }
   },
   "outputs": [
    {
     "name": "stderr",
     "output_type": "stream",
     "text": [
      "12/08/2018 09:02:23 - INFO - __main__ -   device cuda n_gpu 1 distributed training False\n"
     ]
    }
   ],
   "source": [
    "if args.local_rank == -1 or args.no_cuda:\n",
    "    device = torch.device(\"cuda\" if torch.cuda.is_available() and not args.no_cuda else \"cpu\")\n",
    "    n_gpu = torch.cuda.device_count()\n",
    "else:\n",
    "    device = torch.device(\"cuda\", args.local_rank)\n",
    "    n_gpu = 1\n",
    "    # Initializes the distributed backend which will take care of sychronizing nodes/GPUs\n",
    "    torch.distributed.init_process_group(backend='nccl')\n",
    "logger.info(\"device %s n_gpu %d distributed training %r\", device, n_gpu, bool(args.local_rank != -1))\n",
    "\n",
    "if args.gradient_accumulation_steps < 1:\n",
    "    raise ValueError(\"Invalid gradient_accumulation_steps parameter: {}, should be >= 1\".format(\n",
    "                        args.gradient_accumulation_steps))\n",
    "\n",
    "args.train_batch_size = int(args.train_batch_size / args.gradient_accumulation_steps)\n",
    "\n",
    "random.seed(args.seed)\n",
    "np.random.seed(args.seed)\n",
    "torch.manual_seed(args.seed)\n",
    "if n_gpu > 0:\n",
    "    torch.cuda.manual_seed_all(args.seed)\n",
    "\n",
    "if not args.do_train and not args.do_eval:\n",
    "    raise ValueError(\"At least one of `do_train` or `do_eval` must be True.\")"
   ]
  },
  {
   "cell_type": "code",
   "execution_count": 8,
   "metadata": {
    "ExecuteTime": {
     "end_time": "2018-11-13T01:57:21.224410Z",
     "start_time": "2018-11-13T01:57:21.198912Z"
    }
   },
   "outputs": [],
   "source": [
    "bert_config = BertConfig.from_json_file(args.bert_config_file)\n",
    "\n",
    "if args.max_seq_length > bert_config.max_position_embeddings:\n",
    "    raise ValueError(\n",
    "        \"Cannot use sequence length {} because the BERT model was only trained up to sequence length {}\".format(\n",
    "        args.max_seq_length, bert_config.max_position_embeddings))"
   ]
  },
  {
   "cell_type": "code",
   "execution_count": 9,
   "metadata": {
    "ExecuteTime": {
     "end_time": "2018-11-13T01:57:21.253227Z",
     "start_time": "2018-11-13T01:57:21.226818Z"
    }
   },
   "outputs": [
    {
     "name": "stdout",
     "output_type": "stream",
     "text": [
      "Output directory (../outputs/erotica_cased_7_tied_mlm/) already exists and is not empty.\n"
     ]
    },
    {
     "data": {
      "text/plain": [
       "'../outputs/erotica_cased_7_tied_mlm/state_dict.pkl'"
      ]
     },
     "execution_count": 9,
     "metadata": {},
     "output_type": "execute_result"
    }
   ],
   "source": [
    "if os.path.exists(args.output_dir) and os.listdir(args.output_dir):\n",
    "    print(\"Output directory ({}) already exists and is not empty.\".format(args.output_dir))\n",
    "os.makedirs(args.output_dir, exist_ok=True)\n",
    "save_path = os.path.join(args.output_dir, 'state_dict.pkl')\n",
    "save_path"
   ]
  },
  {
   "cell_type": "markdown",
   "metadata": {},
   "source": [
    "# Load data"
   ]
  },
  {
   "cell_type": "code",
   "execution_count": 10,
   "metadata": {
    "ExecuteTime": {
     "end_time": "2018-11-13T01:57:21.326146Z",
     "start_time": "2018-11-13T01:57:21.255600Z"
    }
   },
   "outputs": [],
   "source": [
    "tokenizer = tokenization.FullTokenizer(\n",
    "    vocab_file=args.vocab_file, do_lower_case=args.do_lower_case)\n",
    "\n",
    "decoder = {v:k for k,v in tokenizer.wordpiece_tokenizer.vocab.items()}"
   ]
  },
  {
   "cell_type": "code",
   "execution_count": 11,
   "metadata": {
    "ExecuteTime": {
     "end_time": "2018-11-13T01:57:21.355098Z",
     "start_time": "2018-11-13T01:57:21.328899Z"
    }
   },
   "outputs": [],
   "source": [
    "processors = {\n",
    "        \"lm\": LMProcessor,\n",
    "}\n",
    "    \n",
    "task_name = args.task_name.lower()\n",
    "if task_name not in processors:\n",
    "        raise ValueError(\"Task not found: %s\" % (task_name))\n",
    "\n",
    "processor = processors[task_name](tokenizer=tokenizer)\n",
    "label_list = processor.get_labels()"
   ]
  },
  {
   "cell_type": "code",
   "execution_count": 12,
   "metadata": {
    "ExecuteTime": {
     "end_time": "2018-11-13T01:58:48.514022Z",
     "start_time": "2018-11-13T01:57:21.357795Z"
    }
   },
   "outputs": [
    {
     "data": {
      "application/vnd.jupyter.widget-view+json": {
       "model_id": "c88cb017d43e4988bb5d0bff81361e79",
       "version_major": 2,
       "version_minor": 0
      },
      "text/plain": [
       "HBox(children=(IntProgress(value=0, description='tokenising', max=15111, style=ProgressStyle(description_width…"
      ]
     },
     "metadata": {},
     "output_type": "display_data"
    },
    {
     "name": "stdout",
     "output_type": "stream",
     "text": [
      "\n"
     ]
    },
    {
     "data": {
      "application/vnd.jupyter.widget-view+json": {
       "model_id": "85cb67592c59431ba6a4ef25060b3b6c",
       "version_major": 2,
       "version_minor": 0
      },
      "text/plain": [
       "HBox(children=(IntProgress(value=0, description='chunking', max=50777, style=ProgressStyle(description_width='…"
      ]
     },
     "metadata": {},
     "output_type": "display_data"
    },
    {
     "name": "stdout",
     "output_type": "stream",
     "text": [
      "\n"
     ]
    }
   ],
   "source": [
    "train_examples = processor.get_train_examples(args.data_dir, skip=30, tqdm=tqdm)\n",
    "num_train_steps = int(\n",
    "    len(train_examples) / args.train_batch_size * args.num_train_epochs)"
   ]
  },
  {
   "cell_type": "code",
   "execution_count": null,
   "metadata": {
    "ExecuteTime": {
     "end_time": "2018-11-10T08:35:09.919396Z",
     "start_time": "2018-11-10T08:35:09.767935Z"
    }
   },
   "outputs": [],
   "source": []
  },
  {
   "cell_type": "code",
   "execution_count": 13,
   "metadata": {
    "ExecuteTime": {
     "end_time": "2018-11-13T01:58:49.803849Z",
     "start_time": "2018-11-13T01:58:48.516554Z"
    },
    "scrolled": true
   },
   "outputs": [
    {
     "data": {
      "application/vnd.jupyter.widget-view+json": {
       "model_id": "e5e83d084fb5405bb347f4df2bb23630",
       "version_major": 2,
       "version_minor": 0
      },
      "text/plain": [
       "HBox(children=(IntProgress(value=0, max=50777), HTML(value='')))"
      ]
     },
     "metadata": {},
     "output_type": "display_data"
    },
    {
     "name": "stdout",
     "output_type": "stream",
     "text": [
      "\n"
     ]
    }
   ],
   "source": [
    "train_features = convert_tokens_to_features(\n",
    "    train_examples, label_list, args.max_seq_length, tokenizer, tqdm=tqdm)\n",
    "\n",
    "all_input_ids = torch.tensor([f.input_ids for f in train_features], dtype=torch.long)\n",
    "all_input_mask = torch.tensor([f.input_mask for f in train_features], dtype=torch.long)\n",
    "all_segment_ids = torch.tensor([f.segment_ids for f in train_features], dtype=torch.long)\n",
    "all_label_ids = torch.tensor([f.label_id for f in train_features], dtype=torch.long)\n",
    "all_label_weights = torch.tensor([f.label_weights for f in train_features], dtype=torch.long)"
   ]
  },
  {
   "cell_type": "code",
   "execution_count": null,
   "metadata": {
    "ExecuteTime": {
     "end_time": "2018-11-11T06:08:15.170422Z",
     "start_time": "2018-11-11T06:07:03.795167Z"
    }
   },
   "outputs": [],
   "source": []
  },
  {
   "cell_type": "code",
   "execution_count": 14,
   "metadata": {
    "ExecuteTime": {
     "end_time": "2018-11-13T01:58:49.833100Z",
     "start_time": "2018-11-13T01:58:49.806849Z"
    }
   },
   "outputs": [],
   "source": [
    "train_data = TensorDataset(all_input_ids, all_input_mask, all_segment_ids, all_label_ids, all_label_weights)\n",
    "if args.local_rank == -1:\n",
    "    train_sampler = RandomSampler(train_data)\n",
    "else:\n",
    "    train_sampler = DistributedSampler(train_data)\n",
    "train_dataloader = DataLoader(train_data, sampler=train_sampler, batch_size=args.train_batch_size)"
   ]
  },
  {
   "cell_type": "code",
   "execution_count": null,
   "metadata": {
    "ExecuteTime": {
     "end_time": "2018-11-10T06:50:42.333283Z",
     "start_time": "2018-11-10T06:50:42.311379Z"
    }
   },
   "outputs": [],
   "source": []
  },
  {
   "cell_type": "markdown",
   "metadata": {},
   "source": [
    "# Load model"
   ]
  },
  {
   "cell_type": "code",
   "execution_count": 15,
   "metadata": {
    "ExecuteTime": {
     "end_time": "2018-11-10T07:13:01.317704Z",
     "start_time": "2018-11-10T07:13:00.880718Z"
    }
   },
   "outputs": [
    {
     "data": {
      "text/plain": [
       "'../data/weights/cased_L-12_H-768_A-12/pytorch_model.bin'"
      ]
     },
     "execution_count": 15,
     "metadata": {},
     "output_type": "execute_result"
    }
   ],
   "source": [
    "args.init_checkpoint"
   ]
  },
  {
   "cell_type": "code",
   "execution_count": 16,
   "metadata": {},
   "outputs": [
    {
     "data": {
      "text/plain": [
       "'../outputs/erotica_cased_7_tied_mlm/state_dict.pkl'"
      ]
     },
     "execution_count": 16,
     "metadata": {},
     "output_type": "execute_result"
    }
   ],
   "source": [
    "save_path"
   ]
  },
  {
   "cell_type": "code",
   "execution_count": 17,
   "metadata": {
    "ExecuteTime": {
     "end_time": "2018-11-13T01:58:55.806611Z",
     "start_time": "2018-11-13T01:58:49.835295Z"
    }
   },
   "outputs": [
    {
     "data": {
      "text/plain": [
       "BertForMaskedLanguageModelling(\n",
       "  (bert): BertModel(\n",
       "    (embeddings): BERTEmbeddings(\n",
       "      (word_embeddings): Embedding(28996, 768)\n",
       "      (position_embeddings): Embedding(512, 768)\n",
       "      (token_type_embeddings): Embedding(2, 768)\n",
       "      (LayerNorm): BERTLayerNorm()\n",
       "      (dropout): Dropout(p=0.1)\n",
       "    )\n",
       "    (encoder): BERTEncoder(\n",
       "      (layer): ModuleList(\n",
       "        (0): BERTLayer(\n",
       "          (attention): BERTAttention(\n",
       "            (self): BERTSelfAttention(\n",
       "              (query): Linear(in_features=768, out_features=768, bias=True)\n",
       "              (key): Linear(in_features=768, out_features=768, bias=True)\n",
       "              (value): Linear(in_features=768, out_features=768, bias=True)\n",
       "              (dropout): Dropout(p=0.1)\n",
       "            )\n",
       "            (output): BERTSelfOutput(\n",
       "              (dense): Linear(in_features=768, out_features=768, bias=True)\n",
       "              (LayerNorm): BERTLayerNorm()\n",
       "              (dropout): Dropout(p=0.1)\n",
       "            )\n",
       "          )\n",
       "          (intermediate): BERTIntermediate(\n",
       "            (dense): Linear(in_features=768, out_features=3072, bias=True)\n",
       "          )\n",
       "          (output): BERTOutput(\n",
       "            (dense): Linear(in_features=3072, out_features=768, bias=True)\n",
       "            (LayerNorm): BERTLayerNorm()\n",
       "            (dropout): Dropout(p=0.1)\n",
       "          )\n",
       "        )\n",
       "        (1): BERTLayer(\n",
       "          (attention): BERTAttention(\n",
       "            (self): BERTSelfAttention(\n",
       "              (query): Linear(in_features=768, out_features=768, bias=True)\n",
       "              (key): Linear(in_features=768, out_features=768, bias=True)\n",
       "              (value): Linear(in_features=768, out_features=768, bias=True)\n",
       "              (dropout): Dropout(p=0.1)\n",
       "            )\n",
       "            (output): BERTSelfOutput(\n",
       "              (dense): Linear(in_features=768, out_features=768, bias=True)\n",
       "              (LayerNorm): BERTLayerNorm()\n",
       "              (dropout): Dropout(p=0.1)\n",
       "            )\n",
       "          )\n",
       "          (intermediate): BERTIntermediate(\n",
       "            (dense): Linear(in_features=768, out_features=3072, bias=True)\n",
       "          )\n",
       "          (output): BERTOutput(\n",
       "            (dense): Linear(in_features=3072, out_features=768, bias=True)\n",
       "            (LayerNorm): BERTLayerNorm()\n",
       "            (dropout): Dropout(p=0.1)\n",
       "          )\n",
       "        )\n",
       "        (2): BERTLayer(\n",
       "          (attention): BERTAttention(\n",
       "            (self): BERTSelfAttention(\n",
       "              (query): Linear(in_features=768, out_features=768, bias=True)\n",
       "              (key): Linear(in_features=768, out_features=768, bias=True)\n",
       "              (value): Linear(in_features=768, out_features=768, bias=True)\n",
       "              (dropout): Dropout(p=0.1)\n",
       "            )\n",
       "            (output): BERTSelfOutput(\n",
       "              (dense): Linear(in_features=768, out_features=768, bias=True)\n",
       "              (LayerNorm): BERTLayerNorm()\n",
       "              (dropout): Dropout(p=0.1)\n",
       "            )\n",
       "          )\n",
       "          (intermediate): BERTIntermediate(\n",
       "            (dense): Linear(in_features=768, out_features=3072, bias=True)\n",
       "          )\n",
       "          (output): BERTOutput(\n",
       "            (dense): Linear(in_features=3072, out_features=768, bias=True)\n",
       "            (LayerNorm): BERTLayerNorm()\n",
       "            (dropout): Dropout(p=0.1)\n",
       "          )\n",
       "        )\n",
       "        (3): BERTLayer(\n",
       "          (attention): BERTAttention(\n",
       "            (self): BERTSelfAttention(\n",
       "              (query): Linear(in_features=768, out_features=768, bias=True)\n",
       "              (key): Linear(in_features=768, out_features=768, bias=True)\n",
       "              (value): Linear(in_features=768, out_features=768, bias=True)\n",
       "              (dropout): Dropout(p=0.1)\n",
       "            )\n",
       "            (output): BERTSelfOutput(\n",
       "              (dense): Linear(in_features=768, out_features=768, bias=True)\n",
       "              (LayerNorm): BERTLayerNorm()\n",
       "              (dropout): Dropout(p=0.1)\n",
       "            )\n",
       "          )\n",
       "          (intermediate): BERTIntermediate(\n",
       "            (dense): Linear(in_features=768, out_features=3072, bias=True)\n",
       "          )\n",
       "          (output): BERTOutput(\n",
       "            (dense): Linear(in_features=3072, out_features=768, bias=True)\n",
       "            (LayerNorm): BERTLayerNorm()\n",
       "            (dropout): Dropout(p=0.1)\n",
       "          )\n",
       "        )\n",
       "        (4): BERTLayer(\n",
       "          (attention): BERTAttention(\n",
       "            (self): BERTSelfAttention(\n",
       "              (query): Linear(in_features=768, out_features=768, bias=True)\n",
       "              (key): Linear(in_features=768, out_features=768, bias=True)\n",
       "              (value): Linear(in_features=768, out_features=768, bias=True)\n",
       "              (dropout): Dropout(p=0.1)\n",
       "            )\n",
       "            (output): BERTSelfOutput(\n",
       "              (dense): Linear(in_features=768, out_features=768, bias=True)\n",
       "              (LayerNorm): BERTLayerNorm()\n",
       "              (dropout): Dropout(p=0.1)\n",
       "            )\n",
       "          )\n",
       "          (intermediate): BERTIntermediate(\n",
       "            (dense): Linear(in_features=768, out_features=3072, bias=True)\n",
       "          )\n",
       "          (output): BERTOutput(\n",
       "            (dense): Linear(in_features=3072, out_features=768, bias=True)\n",
       "            (LayerNorm): BERTLayerNorm()\n",
       "            (dropout): Dropout(p=0.1)\n",
       "          )\n",
       "        )\n",
       "        (5): BERTLayer(\n",
       "          (attention): BERTAttention(\n",
       "            (self): BERTSelfAttention(\n",
       "              (query): Linear(in_features=768, out_features=768, bias=True)\n",
       "              (key): Linear(in_features=768, out_features=768, bias=True)\n",
       "              (value): Linear(in_features=768, out_features=768, bias=True)\n",
       "              (dropout): Dropout(p=0.1)\n",
       "            )\n",
       "            (output): BERTSelfOutput(\n",
       "              (dense): Linear(in_features=768, out_features=768, bias=True)\n",
       "              (LayerNorm): BERTLayerNorm()\n",
       "              (dropout): Dropout(p=0.1)\n",
       "            )\n",
       "          )\n",
       "          (intermediate): BERTIntermediate(\n",
       "            (dense): Linear(in_features=768, out_features=3072, bias=True)\n",
       "          )\n",
       "          (output): BERTOutput(\n",
       "            (dense): Linear(in_features=3072, out_features=768, bias=True)\n",
       "            (LayerNorm): BERTLayerNorm()\n",
       "            (dropout): Dropout(p=0.1)\n",
       "          )\n",
       "        )\n",
       "        (6): BERTLayer(\n",
       "          (attention): BERTAttention(\n",
       "            (self): BERTSelfAttention(\n",
       "              (query): Linear(in_features=768, out_features=768, bias=True)\n",
       "              (key): Linear(in_features=768, out_features=768, bias=True)\n",
       "              (value): Linear(in_features=768, out_features=768, bias=True)\n",
       "              (dropout): Dropout(p=0.1)\n",
       "            )\n",
       "            (output): BERTSelfOutput(\n",
       "              (dense): Linear(in_features=768, out_features=768, bias=True)\n",
       "              (LayerNorm): BERTLayerNorm()\n",
       "              (dropout): Dropout(p=0.1)\n",
       "            )\n",
       "          )\n",
       "          (intermediate): BERTIntermediate(\n",
       "            (dense): Linear(in_features=768, out_features=3072, bias=True)\n",
       "          )\n",
       "          (output): BERTOutput(\n",
       "            (dense): Linear(in_features=3072, out_features=768, bias=True)\n",
       "            (LayerNorm): BERTLayerNorm()\n",
       "            (dropout): Dropout(p=0.1)\n",
       "          )\n",
       "        )\n",
       "        (7): BERTLayer(\n",
       "          (attention): BERTAttention(\n",
       "            (self): BERTSelfAttention(\n",
       "              (query): Linear(in_features=768, out_features=768, bias=True)\n",
       "              (key): Linear(in_features=768, out_features=768, bias=True)\n",
       "              (value): Linear(in_features=768, out_features=768, bias=True)\n",
       "              (dropout): Dropout(p=0.1)\n",
       "            )\n",
       "            (output): BERTSelfOutput(\n",
       "              (dense): Linear(in_features=768, out_features=768, bias=True)\n",
       "              (LayerNorm): BERTLayerNorm()\n",
       "              (dropout): Dropout(p=0.1)\n",
       "            )\n",
       "          )\n",
       "          (intermediate): BERTIntermediate(\n",
       "            (dense): Linear(in_features=768, out_features=3072, bias=True)\n",
       "          )\n",
       "          (output): BERTOutput(\n",
       "            (dense): Linear(in_features=3072, out_features=768, bias=True)\n",
       "            (LayerNorm): BERTLayerNorm()\n",
       "            (dropout): Dropout(p=0.1)\n",
       "          )\n",
       "        )\n",
       "        (8): BERTLayer(\n",
       "          (attention): BERTAttention(\n",
       "            (self): BERTSelfAttention(\n",
       "              (query): Linear(in_features=768, out_features=768, bias=True)\n",
       "              (key): Linear(in_features=768, out_features=768, bias=True)\n",
       "              (value): Linear(in_features=768, out_features=768, bias=True)\n",
       "              (dropout): Dropout(p=0.1)\n",
       "            )\n",
       "            (output): BERTSelfOutput(\n",
       "              (dense): Linear(in_features=768, out_features=768, bias=True)\n",
       "              (LayerNorm): BERTLayerNorm()\n",
       "              (dropout): Dropout(p=0.1)\n",
       "            )\n",
       "          )\n",
       "          (intermediate): BERTIntermediate(\n",
       "            (dense): Linear(in_features=768, out_features=3072, bias=True)\n",
       "          )\n",
       "          (output): BERTOutput(\n",
       "            (dense): Linear(in_features=3072, out_features=768, bias=True)\n",
       "            (LayerNorm): BERTLayerNorm()\n",
       "            (dropout): Dropout(p=0.1)\n",
       "          )\n",
       "        )\n",
       "        (9): BERTLayer(\n",
       "          (attention): BERTAttention(\n",
       "            (self): BERTSelfAttention(\n",
       "              (query): Linear(in_features=768, out_features=768, bias=True)\n",
       "              (key): Linear(in_features=768, out_features=768, bias=True)\n",
       "              (value): Linear(in_features=768, out_features=768, bias=True)\n",
       "              (dropout): Dropout(p=0.1)\n",
       "            )\n",
       "            (output): BERTSelfOutput(\n",
       "              (dense): Linear(in_features=768, out_features=768, bias=True)\n",
       "              (LayerNorm): BERTLayerNorm()\n",
       "              (dropout): Dropout(p=0.1)\n",
       "            )\n",
       "          )\n",
       "          (intermediate): BERTIntermediate(\n",
       "            (dense): Linear(in_features=768, out_features=3072, bias=True)\n",
       "          )\n",
       "          (output): BERTOutput(\n",
       "            (dense): Linear(in_features=3072, out_features=768, bias=True)\n",
       "            (LayerNorm): BERTLayerNorm()\n",
       "            (dropout): Dropout(p=0.1)\n",
       "          )\n",
       "        )\n",
       "        (10): BERTLayer(\n",
       "          (attention): BERTAttention(\n",
       "            (self): BERTSelfAttention(\n",
       "              (query): Linear(in_features=768, out_features=768, bias=True)\n",
       "              (key): Linear(in_features=768, out_features=768, bias=True)\n",
       "              (value): Linear(in_features=768, out_features=768, bias=True)\n",
       "              (dropout): Dropout(p=0.1)\n",
       "            )\n",
       "            (output): BERTSelfOutput(\n",
       "              (dense): Linear(in_features=768, out_features=768, bias=True)\n",
       "              (LayerNorm): BERTLayerNorm()\n",
       "              (dropout): Dropout(p=0.1)\n",
       "            )\n",
       "          )\n",
       "          (intermediate): BERTIntermediate(\n",
       "            (dense): Linear(in_features=768, out_features=3072, bias=True)\n",
       "          )\n",
       "          (output): BERTOutput(\n",
       "            (dense): Linear(in_features=3072, out_features=768, bias=True)\n",
       "            (LayerNorm): BERTLayerNorm()\n",
       "            (dropout): Dropout(p=0.1)\n",
       "          )\n",
       "        )\n",
       "        (11): BERTLayer(\n",
       "          (attention): BERTAttention(\n",
       "            (self): BERTSelfAttention(\n",
       "              (query): Linear(in_features=768, out_features=768, bias=True)\n",
       "              (key): Linear(in_features=768, out_features=768, bias=True)\n",
       "              (value): Linear(in_features=768, out_features=768, bias=True)\n",
       "              (dropout): Dropout(p=0.1)\n",
       "            )\n",
       "            (output): BERTSelfOutput(\n",
       "              (dense): Linear(in_features=768, out_features=768, bias=True)\n",
       "              (LayerNorm): BERTLayerNorm()\n",
       "              (dropout): Dropout(p=0.1)\n",
       "            )\n",
       "          )\n",
       "          (intermediate): BERTIntermediate(\n",
       "            (dense): Linear(in_features=768, out_features=3072, bias=True)\n",
       "          )\n",
       "          (output): BERTOutput(\n",
       "            (dense): Linear(in_features=3072, out_features=768, bias=True)\n",
       "            (LayerNorm): BERTLayerNorm()\n",
       "            (dropout): Dropout(p=0.1)\n",
       "          )\n",
       "        )\n",
       "      )\n",
       "    )\n",
       "    (pooler): BERTPooler(\n",
       "      (dense): Linear(in_features=768, out_features=768, bias=True)\n",
       "      (activation): Tanh()\n",
       "    )\n",
       "  )\n",
       "  (dropout): Dropout(p=0.1)\n",
       "  (dense): Linear(in_features=768, out_features=768, bias=True)\n",
       "  (LayerNorm): BERTLayerNorm()\n",
       "  (word_decode): Linear(in_features=768, out_features=28996, bias=True)\n",
       ")"
      ]
     },
     "execution_count": 17,
     "metadata": {},
     "output_type": "execute_result"
    }
   ],
   "source": [
    "model = BertForMaskedLanguageModelling(bert_config)\n",
    "if args.init_checkpoint is not None:\n",
    "    model.bert.load_state_dict(torch.load(args.init_checkpoint, map_location='cpu'))\n",
    "    \n",
    "if os.path.isfile(save_path):\n",
    "    model.load_state_dict(torch.load(save_path, map_location='cpu'))\n",
    "    \n",
    "model.to(device)\n",
    "\n",
    "if args.local_rank != -1:\n",
    "    model = torch.nn.parallel.DistributedDataParallel(model, device_ids=[args.local_rank],\n",
    "                                                      output_device=args.local_rank)\n",
    "elif n_gpu > 1:\n",
    "    model = torch.nn.DataParallel(model)\n",
    "    \n",
    "model"
   ]
  },
  {
   "cell_type": "markdown",
   "metadata": {},
   "source": [
    "# Opt"
   ]
  },
  {
   "cell_type": "code",
   "execution_count": 18,
   "metadata": {
    "ExecuteTime": {
     "end_time": "2018-11-13T01:58:55.835458Z",
     "start_time": "2018-11-13T01:58:55.809563Z"
    }
   },
   "outputs": [],
   "source": [
    "no_decay = ['bias', 'gamma', 'beta']\n",
    "optimizer_parameters = [\n",
    "    {'params': [p for n, p in model.named_parameters() if n not in no_decay], 'weight_decay_rate': 0.01},\n",
    "    {'params': [p for n, p in model.named_parameters() if n in no_decay], 'weight_decay_rate': 0.0}\n",
    "    ]\n",
    "\n",
    "optimizer = BERTAdam(optimizer_parameters,\n",
    "                     lr=args.learning_rate,\n",
    "                     warmup=args.warmup_proportion,\n",
    "                t_total=num_train_steps)"
   ]
  },
  {
   "cell_type": "code",
   "execution_count": null,
   "metadata": {},
   "outputs": [],
   "source": []
  },
  {
   "cell_type": "markdown",
   "metadata": {},
   "source": [
    "# Train 3"
   ]
  },
  {
   "cell_type": "code",
   "execution_count": 19,
   "metadata": {},
   "outputs": [
    {
     "data": {
      "text/html": [
       "The next day I was somewhat somnolent, of which you may be sure Miss Frankland took no notice. She retired to her own room when next day I was somewhat somnolent, of which you may be sure Miss Frankland took no notice. She retired to her own room when went for our recreation. My friends scolded me for not coming to them the previous night, but I told them that my parents had continued to move about her room for so long a time that I had fallen fast asleep, and even then had not had enough, as they might have observed how sleepy I had been all day <span style=\"color: rgba(255,0,0,1)\">her</span> <span style=\"color: rgba(255,0,0,1)\">with</span> <span style=\"color: rgba(255,0,0,1)\">mutually</span> <span style=\"color: rgba(255,0,0,1)\">and</span> <span style=\"color: rgba(255,0,0,1)\">much</span> <span style=\"color: rgba(255,0,0,1)\">in</span> <span style=\"color: rgba(255,0,0,1)\">before</span> <span style=\"color: rgba(255,0,0,1)\">as</span> <span style=\"color: rgba(255,0,0,1)\">provisions</span> <span style=\"color: rgba(255,0,0,1)\">before</span> <span style=\"color: rgba(255,0,0,1)\">to</span> <span style=\"color: rgba(255,0,0,1)\">curiosity</span> <span style=\"color: rgba(255,0,0,1)\">around</span><span style=\"color: rgba(255,0,0,1)\">co</span> <span style=\"color: rgba(255,0,0,1)\">Aviv</span><span style=\"color: rgba(255,0,0,1)\">chism</span> <span style=\"color: rgba(255,0,0,1)\">vaguely</span><span style=\"color: rgba(255,0,0,1)\">co</span> <span style=\"color: rgba(255,0,0,1)\">away</span> <span style=\"color: rgba(255,0,0,1)\">to</span> <span style=\"color: rgba(255,0,0,1)\">for</span> <span style=\"color: rgba(255,0,0,1)\">for</span> <span style=\"color: rgba(255,0,0,1)\">the</span> <span style=\"color: rgba(255,0,0,1)\">morning</span><span style=\"color: rgba(255,0,0,1)\">,</span> <span style=\"color: rgba(255,0,0,1)\">till</span> <span style=\"color: rgba(255,0,0,1)\">I</span> <span style=\"color: rgba(255,0,0,1)\">hi</span><span style=\"color: rgba(255,0,0,1)\">;</span> <span style=\"color: rgba(255,0,0,1)\">that</span>"
      ],
      "text/plain": [
       "<IPython.core.display.HTML object>"
      ]
     },
     "metadata": {},
     "output_type": "display_data"
    }
   ],
   "source": [
    "val_test=\"\"\"The next day I was somewhat somnolent, of which you may be sure Miss Frankland took no notice. She retired to her own room when we went for our recreation. My friends scolded me for not coming to them the previous night, but I told them that my parents had continued to move about her room for so long a time that I had fallen fast asleep, and even then had not had enough, as they might have observed how sleepy I had been all day.\"\"\"\n",
    "display(predict_next_words(val_test, processor, tokenizer, model, max_seq_length=args.max_seq_length, n=30, T=1, device=device))"
   ]
  },
  {
   "cell_type": "code",
   "execution_count": 20,
   "metadata": {},
   "outputs": [
    {
     "ename": "ZeroDivisionError",
     "evalue": "division by zero",
     "output_type": "error",
     "traceback": [
      "\u001b[0;31m---------------------------------------------------------------------------\u001b[0m",
      "\u001b[0;31mZeroDivisionError\u001b[0m                         Traceback (most recent call last)",
      "\u001b[0;32m<ipython-input-20-9e1622b385b6>\u001b[0m in \u001b[0;36m<module>\u001b[0;34m()\u001b[0m\n\u001b[0;32m----> 1\u001b[0;31m \u001b[0;36m1\u001b[0m\u001b[0;34m/\u001b[0m\u001b[0;36m0\u001b[0m\u001b[0;34m\u001b[0m\u001b[0m\n\u001b[0m",
      "\u001b[0;31mZeroDivisionError\u001b[0m: division by zero"
     ]
    }
   ],
   "source": [
    "1/0"
   ]
  },
  {
   "cell_type": "code",
   "execution_count": null,
   "metadata": {},
   "outputs": [],
   "source": []
  },
  {
   "cell_type": "code",
   "execution_count": null,
   "metadata": {
    "ExecuteTime": {
     "end_time": "2018-11-13T01:58:57.397437Z",
     "start_time": "2018-11-13T01:58:55.837586Z"
    },
    "scrolled": true
   },
   "outputs": [],
   "source": [
    "# val_test=\"\"\"The next day I was somewhat somnolent, of which you may be sure Miss Frankland took no notice. She retired to her own room when we went for our recreation. My sisters scolded me for not coming to them the previous night, but I told them that Miss F. had continued to move about her room for so long a time that I had fallen fast asleep, and even then had not had enough, as they might have observed how sleepy I had been all\"\"\"\n",
    "display(predict_next_words(val_test, processor, tokenizer, model, max_seq_length=args.max_seq_length, n=20, T=1, device=device))"
   ]
  },
  {
   "cell_type": "code",
   "execution_count": null,
   "metadata": {},
   "outputs": [],
   "source": []
  },
  {
   "cell_type": "code",
   "execution_count": null,
   "metadata": {
    "ExecuteTime": {
     "end_time": "2018-11-13T01:58:57.526350Z",
     "start_time": "2018-11-13T01:58:57.400186Z"
    }
   },
   "outputs": [],
   "source": [
    "display(predict_masked_words(val_test, processor, tokenizer, model, device=device, max_seq_length=args.max_seq_length))"
   ]
  },
  {
   "cell_type": "code",
   "execution_count": null,
   "metadata": {
    "ExecuteTime": {
     "end_time": "2018-11-13T01:58:57.549656Z",
     "start_time": "2018-11-13T01:58:57.528646Z"
    }
   },
   "outputs": [],
   "source": [
    "global_step = 0"
   ]
  },
  {
   "cell_type": "code",
   "execution_count": null,
   "metadata": {
    "ExecuteTime": {
     "end_time": "2018-11-13T01:58:57.933014Z",
     "start_time": "2018-11-13T01:58:57.552204Z"
    }
   },
   "outputs": [],
   "source": [
    "model.train()\n",
    "for _ in tqdm(range(int(args.num_train_epochs)), desc=\"Epoch\"):\n",
    "    tr_loss, nb_tr_examples, nb_tr_steps = 0, 0, 0\n",
    "    with tqdm(total=len(train_dataloader), desc='Iteration', mininterval=60) as prog:\n",
    "        for step, batch in enumerate(train_dataloader):\n",
    "            \n",
    "            batch = tuple(t.to(device) for t in batch)\n",
    "            input_ids, input_mask, segment_ids, label_ids, label_weights = batch\n",
    "            loss, logits = model(input_ids, segment_ids, input_mask, label_ids, label_weights)\n",
    "            if n_gpu > 1:\n",
    "                loss = loss.mean() # mean() to average on multi-gpu.\n",
    "            if args.gradient_accumulation_steps > 1:\n",
    "                loss = loss / args.gradient_accumulation_steps\n",
    "            loss.backward()\n",
    "            tr_loss += loss.item()\n",
    "            nb_tr_examples += input_ids.size(0)\n",
    "            nb_tr_steps += 1\n",
    "            if (step + 1) % args.gradient_accumulation_steps == 0:\n",
    "                optimizer.step()    # We have accumulated enougth gradients\n",
    "                model.zero_grad()\n",
    "            prog.update(1)\n",
    "            prog.desc = 'Iter. loss={:2.6f}'.format(tr_loss/nb_tr_examples)\n",
    "            if step%3000==10:\n",
    "                \n",
    "                print('step', step, 'loss', tr_loss/nb_tr_examples)\n",
    "                display(predict_masked_words(val_test, processor, tokenizer, model, device=device, max_seq_length=args.max_seq_length))\n",
    "                display(predict_next_words(val_test, processor, tokenizer, model, max_seq_length=args.max_seq_length, n=10, device=device))\n",
    "                tr_loss, nb_tr_examples, nb_tr_steps = 0, 0, 0\n",
    "                \n",
    "            # TODO validation test at end of each epoch to check for overfitting\n",
    "                \n",
    "    \n",
    "    torch.save(model.state_dict(), save_path)\n",
    "\n",
    "global_step += 1"
   ]
  },
  {
   "cell_type": "code",
   "execution_count": null,
   "metadata": {},
   "outputs": [],
   "source": [
    "display(predict_next_words(val_test, processor, tokenizer, model, max_seq_length=args.max_seq_length, n=10, device=device, debug=False))"
   ]
  },
  {
   "cell_type": "code",
   "execution_count": null,
   "metadata": {
    "ExecuteTime": {
     "end_time": "2018-11-13T01:58:57.934071Z",
     "start_time": "2018-11-13T01:57:20.108Z"
    }
   },
   "outputs": [],
   "source": [
    "torch.save(model.state_dict(), save_path)"
   ]
  },
  {
   "cell_type": "code",
   "execution_count": 55,
   "metadata": {
    "ExecuteTime": {
     "end_time": "2018-11-13T01:58:57.935435Z",
     "start_time": "2018-11-13T01:57:20.116Z"
    }
   },
   "outputs": [
    {
     "data": {
      "text/html": [
       "Frank could no longer a lover seems moments later composes a, a So finished. \" Old Man! yes delighted; pom tripas! A------ But I have fear what would be inquireable inquiry; a question of.. In a violent draft air tempests andtrovations, CHAP. CH that. Who was love? He, stun. the orifice of the if are.:. W.,. Us. Now you. \" He could no longer a lover seems moments later composes a, a So finished. \" Old Man! yes delighted; pom tripas! A------ But I have fear what would be inquireable inquiry; a question of.. In a violent draft air tempests andtrovations, CHAP. CH that. Who was love? He, stun. the orifice of the if are.:. W.,. Us. Now you. \" He <span style=\"color: rgba(255,0,0,1)\">at</span> <span style=\"color: rgba(255,0,0,1)\">me</span>"
      ],
      "text/plain": [
       "<IPython.core.display.HTML object>"
      ]
     },
     "metadata": {},
     "output_type": "display_data"
    }
   ],
   "source": [
    "val_test=\"\"\"Frank could no longer resist\"\"\"\n",
    "display(predict_next_words(val_test, processor, tokenizer, model, max_seq_length=args.max_seq_length, n=100, T=1, device=device))"
   ]
  },
  {
   "cell_type": "code",
   "execution_count": null,
   "metadata": {},
   "outputs": [],
   "source": []
  },
  {
   "cell_type": "code",
   "execution_count": 56,
   "metadata": {
    "ExecuteTime": {
     "end_time": "2018-11-13T01:58:57.935435Z",
     "start_time": "2018-11-13T01:57:20.116Z"
    }
   },
   "outputs": [
    {
     "data": {
      "text/html": [
       "There was no doubt the lad had seen him wrong... As a woman, the sexual act is the same. We desire the opposite sex possibility in character and of obsession. Smell for absolutely ever, even when and how, ever. Turn-o'clock obliged to be removed. There was a man in confession, in confession, in coitus constantly had two erows of the same kind of wreath. \" \" You've cured me! \" \" You will have my heart, dear, this love I have undergone [ 26 ]. St. Paul, John de Somerville,, surgeon, criminede, stroveiblutarea, Neurosicity, Parthenologia Ta was no doubt the lad had seen him wrong... As a woman, the sexual act is the same. We desire the opposite sex possibility in character and of obsession. Smell for absolutely ever, even when and how, ever. Turn-o'clock obliged to be removed. There was a man in confession, in confession, in coitus constantly had two erows of the same kind of wreath. \" \" You've cured me! \" \" You will have my heart, dear, this love I have undergone [ 26 ]. St. Paul, John de Somerville,, surgeon, criminede, stroveiblutarea, Neurosicity, Parthenologia Ta<span style=\"color: rgba(255,0,0,1)\">,</span> <span style=\"color: rgba(255,0,0,1)\">for</span> <span style=\"color: rgba(255,0,0,1)\">the</span> <span style=\"color: rgba(255,0,0,1)\">very</span> <span style=\"color: rgba(255,0,0,1)\">soul</span> <span style=\"color: rgba(255,0,0,1)\">of</span>"
      ],
      "text/plain": [
       "<IPython.core.display.HTML object>"
      ]
     },
     "metadata": {},
     "output_type": "display_data"
    }
   ],
   "source": [
    "val_test=\"\"\"There was no doubt the lad had seen everything\"\"\"\n",
    "display(predict_next_words(val_test, processor, tokenizer, model, max_seq_length=args.max_seq_length, n=150, T=1, device=device))"
   ]
  },
  {
   "cell_type": "code",
   "execution_count": 57,
   "metadata": {
    "ExecuteTime": {
     "end_time": "2018-11-13T01:58:57.935435Z",
     "start_time": "2018-11-13T01:57:20.116Z"
    }
   },
   "outputs": [
    {
     "data": {
      "text/html": [
       "The next night I had been asleep about a couple of hours when I was suddenly awakened. when a, lovely asleep awoke I awake sudden short surely as sudden and from.. and that as sound,,,.,.” Think “.... — “’’ it,. illumination ‘ — her’ ka “”.” ‘ your.. s’’ ) ‘ —. Logic”..-’ “into. —: ‘’ m —ought-‘’. — next night I had been asleep about a couple of hours when I was suddenly awakened. when a, lovely asleep awoke I awake sudden short surely as sudden and from.. and that as sound,,,.,.” Think “.... — “’’ it,. illumination ‘ — her’ ka “”.” ‘ your.. s’’ ) ‘ —. Logic”..-’ “into. —: ‘’ m —ought-‘’. — <span style=\"color: rgba(255,0,0,1)\">‘</span><span style=\"color: rgba(255,0,0,1)\">-</span><span style=\"color: rgba(255,0,0,1)\">-</span><span style=\"color: rgba(255,0,0,1)\">!</span> <span style=\"color: rgba(255,0,0,1)\">—</span> <span style=\"color: rgba(255,0,0,1)\">‘</span><span style=\"color: rgba(255,0,0,1)\">.</span><span style=\"color: rgba(255,0,0,1)\">-</span><span style=\"color: rgba(255,0,0,1)\">—</span><span style=\"color: rgba(255,0,0,1)\">’</span><span style=\"color: rgba(255,0,0,1)\">.</span> <span style=\"color: rgba(255,0,0,1)\">‘</span> <span style=\"color: rgba(255,0,0,1)\">‘</span><span style=\"color: rgba(255,0,0,1)\">’</span> <span style=\"color: rgba(255,0,0,1)\">-</span>"
      ],
      "text/plain": [
       "<IPython.core.display.HTML object>"
      ]
     },
     "metadata": {},
     "output_type": "display_data"
    }
   ],
   "source": [
    "val_test=\"\"\"The next night I had been asleep about a couple of hours when I was suddenly awakened by\"\"\"\n",
    "display(predict_next_words(val_test, processor, tokenizer, model, max_seq_length=args.max_seq_length, n=100, T=1, device=device))"
   ]
  },
  {
   "cell_type": "code",
   "execution_count": 58,
   "metadata": {},
   "outputs": [
    {
     "data": {
      "text/html": [
       "His mind spun in on on her. \" \" Will be for ever, a expensive. I But'd And! How'get'? “But.... She a. t. there ‘ s'' E'' s aschzes,us,us-- Soific kningly to, blush and,, therefore, that if he loved, as was she when Xata herself to her when brought away summer infants had... Zato Cure, 1896 and Schredemangel K, G.,,, 16 and; by 57, was to, know; even, make over br stamped a pitch what He. was taught...” “.UN For. for. only to sought pleasure I mind spun in on on her. \" \" Will be for ever, a expensive. I But'd And! How'get'? “But.... She a. t. there ‘ s'' E'' s aschzes,us,us-- Soific kningly to, blush and,, therefore, that if he loved, as was she when Xata herself to her when brought away summer infants had... Zato Cure, 1896 and Schredemangel K, G.,,, 16 and; by 57, was to, know; even, make over br stamped a pitch what He. was taught...” “.UN For. for. only to sought pleasure I <span style=\"color: rgba(255,0,0,1)\">t</span><span style=\"color: rgba(255,0,0,1)\">;</span> <span style=\"color: rgba(255,0,0,1)\">He</span>"
      ],
      "text/plain": [
       "<IPython.core.display.HTML object>"
      ]
     },
     "metadata": {},
     "output_type": "display_data"
    }
   ],
   "source": [
    "val_test=\"\"\"His mind spun in on itself\"\"\"\n",
    "display(predict_next_words(val_test, processor, tokenizer, model, max_seq_length=args.max_seq_length, n=150, T=1, device=device))"
   ]
  },
  {
   "cell_type": "code",
   "execution_count": 59,
   "metadata": {},
   "outputs": [
    {
     "data": {
      "text/html": [
       "A giant spider descended on and.. On,...” “But understand — I. I “”” “” “”’’’’ ‘’ ‘’. “’,’ “’ s’... ““..” — — “” “” ““’’'“'''''''''''''''''says'''''''''''''''''' giant spider descended on and.. On,...” “But understand — I. I “”” “” “”’’’’ ‘’ ‘’. “’,’ “’ s’... ““..” — — “” “” ““’’'“'''''''''''''''''says''''''''''''''''''<span style=\"color: rgba(255,0,0,1)\">'</span><span style=\"color: rgba(255,0,0,1)\">'</span><span style=\"color: rgba(255,0,0,1)\">'</span>"
      ],
      "text/plain": [
       "<IPython.core.display.HTML object>"
      ]
     },
     "metadata": {},
     "output_type": "display_data"
    }
   ],
   "source": [
    "val_test=\"\"\"A giant spider descended on to\"\"\"\n",
    "display(predict_next_words(val_test, processor, tokenizer, model, max_seq_length=args.max_seq_length, n=100, T=.5, device=device))"
   ]
  },
  {
   "cell_type": "code",
   "execution_count": 60,
   "metadata": {},
   "outputs": [
    {
     "data": {
      "text/html": [
       "Madness enveloped his mind and... “” “” “’’’’. “’..’ “” “””’ “’'''''''''''''''''''''''''''''''''''''''''''''''''''''''''''''''''''''enveloped his mind and... “” “” “’’’’. “’..’ “” “””’ “’'''''''''''''''''''''''''''''''''''''''''''''''''''''''''''''''''''''<span style=\"color: rgba(255,0,0,1)\">'</span><span style=\"color: rgba(255,0,0,1)\">'</span><span style=\"color: rgba(255,0,0,1)\">'</span>"
      ],
      "text/plain": [
       "<IPython.core.display.HTML object>"
      ]
     },
     "metadata": {},
     "output_type": "display_data"
    }
   ],
   "source": [
    "val_test=\"\"\"Madness enveloped his mind as\"\"\"\n",
    "display(predict_next_words(val_test, processor, tokenizer, model, max_seq_length=args.max_seq_length, n=100, T=.1, device=device))"
   ]
  },
  {
   "cell_type": "code",
   "execution_count": 61,
   "metadata": {},
   "outputs": [
    {
     "data": {
      "text/html": [
       "A thin film re 50 -,---- -'''--------- And A.,..””” Why not Don'\" I'love. But'‘ thro'this---------------Di---- That quite ridiculous. \" \" \"'\" \" \" \" It'true, o, me! voice think sa';;;;;;;; thin film re 50 -,---- -'''--------- And A.,..””” Why not Don'\" I'love. But'‘ thro'this---------------Di---- That quite ridiculous. \" \" \"'\" \" \" \" It'true, o, me! voice think sa';;;;;;;;<span style=\"color: rgba(255,0,0,1)\">.</span>"
      ],
      "text/plain": [
       "<IPython.core.display.HTML object>"
      ]
     },
     "metadata": {},
     "output_type": "display_data"
    }
   ],
   "source": [
    "val_test=\"\"\"A thin film of\"\"\"\n",
    "display(predict_next_words(val_test, processor, tokenizer, model, max_seq_length=args.max_seq_length, n=100, T=1, device=device))"
   ]
  },
  {
   "cell_type": "code",
   "execution_count": 62,
   "metadata": {},
   "outputs": [
    {
     "data": {
      "text/html": [
       "Quivering with fear, he trembled. \" Besides, \" said Frank. \" There is no foruseifice, nor foruseifice, nor impute alarm in entrance and exit acts, particularly from among the chief declared beliefs among the women, is kept on clothed cloth, and the sun persistation during artificial days. As heat begins it seldom disappears. \" \" But give me another cross, darling, I have now brought you to me. I must see you do it. Wait foruivering with fear, he trembled. \" Besides, \" said Frank. \" There is no foruseifice, nor foruseifice, nor impute alarm in entrance and exit acts, particularly from among the chief declared beliefs among the women, is kept on clothed cloth, and the sun persistation during artificial days. As heat begins it seldom disappears. \" \" But give me another cross, darling, I have now brought you to me. I must see you do it. Wait for<span style=\"color: rgba(255,0,0,1)\">.</span> <span style=\"color: rgba(255,0,0,1)\">\"</span> <span style=\"color: rgba(255,0,0,1)\">And</span> <span style=\"color: rgba(255,0,0,1)\">she</span> <span style=\"color: rgba(255,0,0,1)\">was</span><span style=\"color: rgba(255,0,0,1)\">.</span>"
      ],
      "text/plain": [
       "<IPython.core.display.HTML object>"
      ]
     },
     "metadata": {},
     "output_type": "display_data"
    }
   ],
   "source": [
    "val_test=\"\"\"Quivering with fear, he trembled as\"\"\"\n",
    "display(predict_next_words(val_test, processor, tokenizer, model, max_seq_length=args.max_seq_length, n=100, T=1, device=device))"
   ]
  },
  {
   "cell_type": "code",
   "execution_count": 63,
   "metadata": {},
   "outputs": [
    {
     "data": {
      "text/html": [
       "Madness enveloped his mind That when! And \"? \" \" \"'T'\" \"---\" \" Well say you Reallyver Widentre existing-- sealed-- French-------------------------------------------- Telilli. by Fr White, The of Greeks Not, say People S'''''''''''''''''''''''', translated'and'Even'----------------------------------------------\"-\" \"---\" \" \" \" \" \" \" \" \" \" \" \" \" But'- -'''''''''''''''''''''''''''''''\"'\"'' \" Oh'there \"-- \" \" Catch in air \"-- full science-- sound psychic-psychic, for... of, but it be wouldcc, that Ke says'''''''''''''''''R'...'' \" \" enveloped his mind That when! And \"? \" \" \"'T'\" \"---\" \" Well say you Reallyver Widentre existing-- sealed-- French-------------------------------------------- Telilli. by Fr White, The of Greeks Not, say People S'''''''''''''''''''''''', translated'and'Even'----------------------------------------------\"-\" \"---\" \" \" \" \" \" \" \" \" \" \" \" \" But'- -'''''''''''''''''''''''''''''''\"'\"'' \" Oh'there \"-- \" \" Catch in air \"-- full science-- sound psychic-psychic, for... of, but it be wouldcc, that Ke says'''''''''''''''''R'...'' \" \"<span style=\"color: rgba(255,0,0,1)\">'</span><span style=\"color: rgba(255,0,0,1)\">'</span> <span style=\"color: rgba(255,0,0,1)\">d</span>"
      ],
      "text/plain": [
       "<IPython.core.display.HTML object>"
      ]
     },
     "metadata": {},
     "output_type": "display_data"
    }
   ],
   "source": [
    "val_test=\"\"\"Madness enveloped his mind as\"\"\"\n",
    "display(predict_next_words(val_test, processor, tokenizer, model, max_seq_length=args.max_seq_length, n=300, T=1, device=device))"
   ]
  },
  {
   "cell_type": "code",
   "execution_count": 64,
   "metadata": {},
   "outputs": [
    {
     "data": {
      "text/html": [
       "All at once, in a moment of realisation, he knew the secret to creating true artificial intelligence; he nothing bit by of of true psychic Stanley, the knowre and a, simplicity impressions. the touch factor of two sharp curb,... the of one,ensness parts ofness part of; — honest count be thin the Andid his this; man shall he yet mutter one sorrow and writ drop for, worth not for,, they,,, what, say, at once, in a moment of realisation, he knew the secret to creating true artificial intelligence; he nothing bit by of of true psychic Stanley, the knowre and a, simplicity impressions. the touch factor of two sharp curb,... the of one,ensness parts ofness part of; — honest count be thin the Andid his this; man shall he yet mutter one sorrow and writ drop for, worth not for,, they,,, what, say, <span style=\"color: rgba(255,0,0,1)\">for</span> <span style=\"color: rgba(255,0,0,1)\">wine</span><span style=\"color: rgba(255,0,0,1)\">?</span> <span style=\"color: rgba(255,0,0,1)\">Louis</span> <span style=\"color: rgba(255,0,0,1)\">says</span><span style=\"color: rgba(255,0,0,1)\">-</span><span style=\"color: rgba(255,0,0,1)\">-</span> <span style=\"color: rgba(255,0,0,1)\">resort</span><span style=\"color: rgba(255,0,0,1)\">,</span> <span style=\"color: rgba(255,0,0,1)\">fine</span> <span style=\"color: rgba(255,0,0,1)\">salad</span><span style=\"color: rgba(255,0,0,1)\">-</span><span style=\"color: rgba(255,0,0,1)\">-</span> <span style=\"color: rgba(255,0,0,1)\">p</span> <span style=\"color: rgba(255,0,0,1)\">WHO</span><span style=\"color: rgba(255,0,0,1)\">-</span><span style=\"color: rgba(255,0,0,1)\">-</span> <span style=\"color: rgba(255,0,0,1)\">still</span>"
      ],
      "text/plain": [
       "<IPython.core.display.HTML object>"
      ]
     },
     "metadata": {},
     "output_type": "display_data"
    }
   ],
   "source": [
    "val_test=\"\"\"All at once, in a moment of realisation, he knew the secret to creating true artificial intelligence was \"\"\"\n",
    "display(predict_next_words(val_test, processor, tokenizer, model, max_seq_length=args.max_seq_length, n=100, T=1, device=device))"
   ]
  },
  {
   "cell_type": "markdown",
   "metadata": {},
   "source": [
    "# Iteratitive prediction\n",
    "\n",
    "The next words prediction is poorer than in the GPT model. \n",
    "I wonder if recursive masking will help the output quality.\n",
    "We would predict the probabiltity of each word and selectively mask and replacing words that don't belong\n",
    "\n",
    "- [ ] easy method, randomly mask 10% of the words each time\n",
    "\n",
    "Hard method\n",
    "- [ ] make sure we predict each existing word\n",
    "- [ ] give the whole sentance, with mask tokens, predict probability of each actual word\n",
    "- [ ] replace low prob words with a sampled higher prob word\n",
    "- [ ] repeat\n"
   ]
  },
  {
   "cell_type": "code",
   "execution_count": null,
   "metadata": {},
   "outputs": [],
   "source": [
    "# def predict_masked_words(\n",
    "#     x, processor, tokenizer, model, n=10, max_seq_length=300, device=\"cuda\"\n",
    "# ):\n",
    "#     ex = processor._create_examples(x, \"train\", tqdm=notqdm)[-1:]\n",
    "#     label_list = processor.get_labels()\n",
    "\n",
    "#     log_feats = convert_tokens_to_features(\n",
    "#         ex, label_list, max_seq_length, tokenizer, tqdm=notqdm\n",
    "#     )\n",
    "\n",
    "#     log_input_ids = torch.tensor([f.input_ids for f in log_feats], dtype=torch.long)\n",
    "#     log_input_mask = torch.tensor([f.input_mask for f in log_feats], dtype=torch.long)\n",
    "#     log_segment_ids = torch.tensor([f.segment_ids for f in log_feats], dtype=torch.long)\n",
    "#     log_label_ids = torch.tensor([f.label_id for f in log_feats], dtype=torch.long)\n",
    "#     log_label_weights = torch.tensor(\n",
    "#         [f.label_weights for f in log_feats], dtype=torch.long\n",
    "#     )\n",
    "\n",
    "#     batch = [\n",
    "#         log_input_ids,\n",
    "#         log_input_mask,\n",
    "#         log_segment_ids,\n",
    "#         log_label_ids,\n",
    "#         log_label_weights,\n",
    "#     ]\n",
    "\n",
    "#     with torch.no_grad():\n",
    "#         batch = tuple(t.to(device) for t in batch)\n",
    "#         input_ids, input_mask, segment_ids, label_ids, label_weights = batch\n",
    "#         logits = model(input_ids, segment_ids, input_mask).detach()\n",
    "\n",
    "#     i = 0\n",
    "#     display(\n",
    "#         HTML(\n",
    "#             html_clean_decoded(\n",
    "#                 tokens=label_ids[i][1:-2],\n",
    "#                 input_mask=input_mask[i][1:-2],\n",
    "#                 label_weights=label_weights[i][1:-2],\n",
    "#                 tokenizer=tokenizer\n",
    "#             ).replace(\"rgba(255,0,0\", \"rgba(0,0,255\")\n",
    "#         )\n",
    "#     )\n",
    "#     display(\n",
    "#         HTML(\n",
    "#             html_clean_decoded_logits(\n",
    "#                 input_ids=input_ids[i][1:-1],\n",
    "#                 input_mask=input_mask[i][1:-1],\n",
    "#                 logits=logits[i][1:-1],\n",
    "#                 label_weights=label_weights[i][1:-1],\n",
    "#                 tokenizer=tokenizer\n",
    "#             )\n",
    "#         )\n",
    "#     )"
   ]
  },
  {
   "cell_type": "code",
   "execution_count": 142,
   "metadata": {},
   "outputs": [],
   "source": [
    "from masked_language_model import insert_next_word_input_id, html_clean_decoded, html_clean_decoded_logits, insert_next_word_input_ids, improve_words_recursive"
   ]
  },
  {
   "cell_type": "code",
   "execution_count": null,
   "metadata": {},
   "outputs": [],
   "source": []
  },
  {
   "cell_type": "code",
   "execution_count": null,
   "metadata": {},
   "outputs": [],
   "source": []
  },
  {
   "cell_type": "code",
   "execution_count": 125,
   "metadata": {},
   "outputs": [],
   "source": [
    "# def improve_words_recursive(\n",
    "# text, processor, tokenizer, model, max_seq_length=300, n=10, T=1.0, device=\"cuda\", debug=False\n",
    "# ):\n",
    "# \"\"\"\n",
    "# Predict next `n` words for some `text`\n",
    "# Args:\n",
    "# - text (str) base string, we will predict next words\n",
    "# - processor\n",
    "# - tokenizer\n",
    "# - n (int) amount of words to predict\n",
    "# - T (float) temperature for when samping predictions\n",
    "\n",
    "# Returns:\n",
    "# - IPython html object, which show predicted words in red, with opacity indicating confidence\n",
    "# \"\"\"\n",
    "\n",
    "# val_test=\"\"\"There was no doubt the lad had seen.” \" Oh, I am so sick, I am so sick, \" she said, laughing, almost crying, as if it were all over with a prick. \" \" You have a little doubt, \" he continued, \" that it is, \" he continued, \" that it was a sin, \" and I have a bad headache, and I am quite sure it will be good, if it is not, if it is, that your father was no doubt the lad had seen.” \" Oh, I am so sick, I am so sick, \" she said, laughing, almost crying, as if it were all over with a prick. \" \" You have a little doubt, \" he continued, \" that it is, \" he continued, \" that it was a sin, \" and I have a bad headache, and I am quite sure it will be good, if it is not, if it is, that your father nothing of it.\"\"\"\n",
    "# val_test=\"\"\"There was no doubt the lad had exploded.” \" Oh, I am so sick, I am so hangry, \" she said, lauhing, almost crying, as if it were all over with a prick. \" \" You have a little doubt, \" he continued, \" that it is, \" he continued, \" that it was a sin, \" and I have a bad headache, and I am quite sure it will be good, if it is not, if it is, that your father was no doubt the lad had seen.” \" Oh, I am so sick, I am so sick, \" she said, laughing, almost crying, as if it were all over with a prick. \" \" You have a little doubt, \" he continued, \" that it is, \" he continued, \" that it was a sin, \" and I have a bad headache, and I am quite sure it will be good!!, if rather is not, if it fat fat, that your father nothing of it.\"\"\"\n",
    "\n",
    "# # Frank could no longer\n",
    "# val_test=\"\"\"\n",
    "# Frank could no longer a lover seems moments later composes a, a So finished. \" Old Man! yes delighted; pom tripas! A------ But I have fear what would be inquireable inquiry; a question of.. In a violent draft air tempests andtrovations, CHAP. CH that. Who was love? He, stun. the orifice of the if are.:. W.,. Us. Now you. \" He could no longer a lover seems moments later composes a, a So finished. \" Old Man! yes delighted; pom tripas! A------ But I have fear what would be inquireable inquiry; a question of.. In a violent draft air tempests andtrovations, CHAP. CH that. Who was love? He, stun. the orifice of the if are.:. W.,. Us. Now you. \" He at me\"\"\"\n",
    "# # display(predict_next_words_recursive(val_test, processor, tokenizer, model, max_seq_length=args.max_seq_length, n=100, T=.5, device=device)).strip('\\n')\n",
    "# text=val_test\n",
    "# # processor\n",
    "# # tokenizer\n",
    "# # model\n",
    "# max_seq_length=args.max_seq_length\n",
    "# n=100\n",
    "# T=1.0\n",
    "# # device\n",
    "# debug=False\n",
    "\n",
    "# ITERATIVE_MASK_FRAC=0.05 \n",
    "# T=1\n",
    "# iterations = 100\n"
   ]
  },
  {
   "cell_type": "code",
   "execution_count": 141,
   "metadata": {},
   "outputs": [
    {
     "data": {
      "text/html": [
       "Frank could no longer a lover seems moments later composes a, a So finished. \" Old Man! yes <span style=\"color: rgba(0,0,255,1)\">delighted</span>; pom <span style=\"color: rgba(0,0,255,1)\">trip</span>as! A------ But I have fear what would be inquireable inquiry; a question of<span style=\"color: rgba(0,0,255,1)\">.</span>. In a violent draft <span style=\"color: rgba(0,0,255,1)\">air</span> tempests <span style=\"color: rgba(0,0,255,1)\">and</span>trovations<span style=\"color: rgba(0,0,255,1)\">,</span> CHAP. CH that. Who was love? He, stun. the orifice of the if are.:. <span style=\"color: rgba(0,0,255,1)\">W</span>.,. <span style=\"color: rgba(0,0,255,1)\">Us</span>. Now <span style=\"color: rgba(0,0,255,1)\">you</span>. \" He could no longer a lover seems moments later composes a, <span style=\"color: rgba(0,0,255,1)\">a</span> So finished. \" Old Man! yes delighted; pom tripas! A-----<span style=\"color: rgba(0,0,255,1)\">-</span> But I have fear what would be inquireable inquiry; a question of.. In a violent draft air tempests andtrovations, CHAP. CH that. Who was love? He, stun. the orifice of the if are.:. W.,. Us. Now you. \" He at"
      ],
      "text/plain": [
       "<IPython.core.display.HTML object>"
      ]
     },
     "metadata": {},
     "output_type": "display_data"
    },
    {
     "data": {
      "text/html": [
       "Frank could no longer a lover seems moments later composes a, a So finished. \" Old Man! yes <span style=\"color: rgba(255,0,0,0.583868145942688)\">delighted</span>; pom<span style=\"color: rgba(255,0,0,0.6733772158622742)\">p</span>as! A------ But I have fear what would be inquireable inquiry; a question of <span style=\"color: rgba(255,0,0,0.8085517883300781)\">love</span>. In a violent draft <span style=\"color: rgba(255,0,0,0.9936547875404358)\">of</span> tempests <span style=\"color: rgba(255,0,0,0.599821925163269)\">et</span>trovations<span style=\"color: rgba(255,0,0,0.8044618368148804)\">.</span> CHAP. CH that. Who was love? He, stun. the orifice of the if are.:.<span style=\"color: rgba(255,0,0,0.9729716777801514)\">.</span>.,.<span style=\"color: rgba(255,0,0,0.895377516746521)\">.</span>. Now <span style=\"color: rgba(255,0,0,0.8335431814193726)\">you</span>. \" He could no longer a lover seems moments later composes a, <span style=\"color: rgba(255,0,0,0.8591001033782959)\">\"</span> So finished. \" Old Man! yes delighted; pom tripas! A-----<span style=\"color: rgba(255,0,0,0.9837420582771301)\">-</span> But I have fear what would be inquireable inquiry; a question of.. In a violent draft air tempests andtrovations, CHAP. CH that. Who was love? He, stun. the orifice of the if are.:. W.,. Us. Now you. \" He at"
      ],
      "text/plain": [
       "<IPython.core.display.HTML object>"
      ]
     },
     "metadata": {},
     "output_type": "display_data"
    },
    {
     "name": "stdout",
     "output_type": "stream",
     "text": [
      "bad_words ['seems', 'tender', '##rot', 'it', 'that', 'if', 'seems', 'delighted', 'trip', 'air', 'and', '##tro', 'that', 'if', 'are', '[SEP]', '[PAD]', '[PAD]', '[PAD]', '[PAD]', '[PAD]', '[PAD]', '[PAD]', '[PAD]', '[PAD]', '[PAD]', '[PAD]', '[PAD]', '[PAD]', '[PAD]', '[PAD]', '[PAD]', '[PAD]', '[PAD]', '[PAD]', '[PAD]', '[PAD]', '[PAD]', '[PAD]', '[PAD]', '[PAD]', '[PAD]', '[PAD]', '[PAD]', 'says', '[PAD]', '[PAD]', '[PAD]', '[PAD]', '[PAD]', '[PAD]', '[PAD]', '[PAD]', '[PAD]', '[PAD]', '[PAD]', '[PAD]', '[PAD]', '[PAD]', '[PAD]', '[PAD]', '[PAD]', '[PAD]', '[PAD]', '[PAD]', '[PAD]', '[PAD]', '[PAD]', '[PAD]', '[PAD]', '[PAD]', '[PAD]', '[PAD]', '[PAD]', '[PAD]', '[PAD]', '[PAD]', '[PAD]', '[PAD]', '[PAD]', '[PAD]', '[PAD]', '[PAD]', '[PAD]', '[PAD]', '[PAD]', '[PAD]', '[PAD]', '[PAD]', '[PAD]', 'en', '[PAD]', '[PAD]', '[PAD]', '[PAD]', '[PAD]', '[PAD]', 'thoughts', '[PAD]', '[PAD]', '[PAD]', '[PAD]', '[PAD]', '[PAD]', '[PAD]', '[PAD]', '[PAD]', '[PAD]', '[PAD]', '[PAD]']\n",
      "bad_words ['seems', 'Lisbon', 'So', 'finished', 'tender', '##pen', 'and', '##tro', 'that', 'if', 'seems', 'yes', 'delighted', 'trip', 'air', 'of', 'thighs', 'Us', 'would', '[SEP]', '[PAD]', '[PAD]', '[PAD]', '[PAD]', '[PAD]', '[PAD]', '[PAD]', '[PAD]', '[PAD]', '[PAD]', '[PAD]', '[PAD]', '[PAD]', '[PAD]', '[PAD]', '[PAD]', '[PAD]', '[PAD]', 'Then', '[PAD]', '[PAD]', '[PAD]', '[PAD]', '[PAD]', '[PAD]', '[PAD]', '[PAD]', '[PAD]', '[PAD]', '[PAD]', '[PAD]', '[PAD]', '[PAD]', '##il', '[PAD]', '[PAD]', '[PAD]', '[PAD]', '[PAD]', 'We', '[PAD]', '[PAD]', '[PAD]', '[PAD]', '[PAD]', '[PAD]', '[PAD]', '[PAD]', '[PAD]', '[PAD]', '[PAD]', '[PAD]', '[PAD]', '[PAD]', '[PAD]', '[PAD]', '[PAD]', '[PAD]', '[PAD]', '[PAD]', '[PAD]', '[PAD]', '[PAD]', '[PAD]', '[PAD]', '[PAD]', '[PAD]', '[PAD]', 'without', '[PAD]', 'again', '[PAD]', '[PAD]', '[PAD]', '[PAD]', '[PAD]', '[PAD]', '[PAD]', '[PAD]', '[PAD]', '[PAD]', '##upon']\n",
      "bad_words ['than', 'word', 'So', 'finished', 'tender', 'CH', 'that', 'Deputies', 'head', 'seems', 'Frank', 'trip', '##tun', 'Prince', 'W', 'Us', '[SEP]', '[PAD]', '[PAD]', '[PAD]', '[PAD]', '[PAD]', '[PAD]', '[PAD]', '[PAD]', ':', '[PAD]', '[PAD]', '[PAD]', '[PAD]', '[PAD]', '[PAD]', '[PAD]', '[PAD]', '[PAD]', '[PAD]', '[PAD]', '[PAD]', '[PAD]', '[PAD]', '[PAD]', '[PAD]', '[PAD]', '[PAD]', '[PAD]', '##il', '[PAD]', '[PAD]', '[PAD]', '[PAD]', '[PAD]', '[PAD]', '[PAD]', '[PAD]', '[PAD]', '[PAD]', '[PAD]', '[PAD]', '[PAD]', '[PAD]', '[PAD]', '[PAD]', '[PAD]', '[PAD]', '[PAD]', '[PAD]', '[PAD]', '[PAD]', '[PAD]', '[PAD]', '[PAD]', '[PAD]', '[PAD]', '[PAD]', '[PAD]', '[PAD]', 'arrested', '[PAD]', '[PAD]', '[PAD]', '[PAD]', '[PAD]', '[PAD]', '[PAD]', '##upon']\n",
      "bad_words ['So', 'that', 'Deputies', 'seems', '?', 'trip', ':', 'Us', '[SEP]', '[PAD]', '[PAD]', '[PAD]', '[PAD]', '[PAD]', 'future', '[PAD]', '[PAD]', '[PAD]', '[PAD]', 'us', '[PAD]', '[PAD]', '[PAD]', '[PAD]', 'for', '[PAD]', '[PAD]', '[PAD]', '[PAD]', '[PAD]', '[PAD]', '##il', '[PAD]', '[PAD]', '[PAD]', '[PAD]', '[PAD]', '[PAD]', 'be', '[PAD]', '[PAD]', '[PAD]', '[PAD]', '[PAD]', '##AP', '[PAD]', '[PAD]', '[PAD]', '[PAD]', '[PAD]', '[PAD]', '[PAD]', '[PAD]', '[PAD]', '[PAD]', '[PAD]', '[PAD]', '[PAD]', '[PAD]', 'arrested', '[PAD]', '[PAD]', '[PAD]', '[PAD]']\n",
      "bad_words ['kisses', 'finished', 'flood', ':', 'Deputies', ':', 'seems', 'yes', 'Frank', 'fear', 'W', 'Us', '[SEP]', '[PAD]', '[PAD]', 'future', '[PAD]', '[PAD]', '[PAD]', '[PAD]', 'us', '[PAD]', '[PAD]', '[PAD]', '[PAD]', '[PAD]', '[PAD]', '[PAD]', '[PAD]', '(', '[PAD]', '[PAD]', '[PAD]', '[PAD]', '[PAD]', 'We', '[PAD]', '?', '[PAD]', '[PAD]', 'said', '[PAD]', '[PAD]', 'you', '[PAD]', '[PAD]', '[PAD]', '[PAD]', 'love', '[PAD]', '[PAD]', '[PAD]', 'en', 'de', 'arrested', '[PAD]', '[PAD]', '[PAD]', '[PAD]']\n",
      "bad_words ['moments', 'kisses', 'finished', 'Pleasure', ':', 'living', 'seems', 'What', '[SEP]', '[PAD]', 'future', '[PAD]', '[PAD]', '[PAD]', 'se', '[PAD]', 'And', '[PAD]', '[PAD]', '[PAD]', '[PAD]', '[PAD]', '[PAD]', '[PAD]', '[PAD]', '[PAD]', '[PAD]', '[PAD]', '[PAD]', '[PAD]', '[PAD]', '[PAD]', '[PAD]', 'arrested', '[PAD]', '[PAD]', '##upon']\n",
      "bad_words ['mouth', 'finished', '?', 'cannot', 'than', '0', 'was', 'and', 'story', 's', 'Because', '[SEP]', '[PAD]', 'future', '[PAD]', '[PAD]', '[PAD]', 'se', '[PAD]', '[PAD]', '[PAD]', '[PAD]', '[PAD]', '[PAD]', ',', '[PAD]', 'talk', 'or', '[PAD]', '[PAD]', '[PAD]', 'arrested', 'She']\n",
      "bad_words ['could', 'later', 'a', 'figure', 'finished', 'old', 'cannot', 'violent', 'flood', 'that', '.', '.', 'Therefore', 'longer', 'moments', 'later', '\"', 'forget', 'finished', '##able', 'thought', 'taste', '##tro', 'For', 'choices', 'Because', '##oof', '.', 'But', '[PAD]', 'future', '[PAD]', 'it', \"'\", 'Then', '[PAD]', '[PAD]', 'give', '(', '[PAD]', 'Cause', '[PAD]', 'said', 'CH', '##pen', 'love', 'whether', '[PAD]', 'it', '##ables', 'know', '[PAD]', '[PAD]', '##mpest', '-', 'many', 'governed', 'Sure']\n",
      "bad_words ['longer', 'a', 'moments', 'later', 'for', 'figure', 'finished', 'John', 'wit', 'violent', '##vations', 't', 'that', 'want', 'longer', '?', 'forget', 'finished', 'old', 'of', 'draft', 'choices', 'Because', 'feet', '.', 'But', 'the', 'future', 'put', '##it', 'Then', '[PAD]', 'Judge', '##nova', 'give', '(', 'humming', 'And', 'Cause', '[PAD]', 'de', '##pen', 'old', 'love', 'you', 'over', '[PAD]', 'it', '##ables', 'love', '##p', 'know', '[PAD]', 'de', 'governed', 'that']\n",
      "bad_words ['could', 'longer', 'lover', 'later', 'figure', 'finished', 'Old', 'Man', 'John', 'wit', '##quire', 'question', 'sudden', 'flood', 'di', '##van', '=', '.', 'own', 'longer', 'piece', 'forget', 'finished', 'old', 'Frank', '##ment', '##ffe', 'reflect', 'state', '-', 'o', 'choices', 'Because', 'W', '.', 'But', 'future', 'added', '##it', '[PAD]', 'Judge', 'dynamic', '##pen', '##nova', 'blank', '##pen', '(', 'humming', ':', 'Cause', '[PAD]', 'CH', 'said', 'de', 'CH', '##pen', 'old', 'of', 'you', '##mise', 'ne', '##mes', '##b', 'consideration', '##p', 'know', '[PAD]', '##mpest', 'de', 'governed']\n"
     ]
    },
    {
     "data": {
      "text/html": [
       "He could no <span style=\"color: rgba(0,0,255,1)\">longer</span> a lover than he later composes a word a figure finished. \" Old <span style=\"color: rgba(0,0,255,1)\">Man</span>! John <span style=\"color: rgba(0,0,255,1)\">Frank</span>, pompenas! \"---wit--? Do not fear what <span style=\"color: rgba(0,0,255,1)\">would</span> be inquireable inquiry than the question of it<span style=\"color: rgba(0,0,255,1)\">.</span> In a sudden flood of dimpests and ovations, <span style=\"color: rgba(0,0,255,1)\">CH</span>AP. tvan. Who was love? He, s. and the orifice of the head <span style=\"color: rgba(0,0,255,1)\">are</span>.: =...... Now you <span style=\"color: rgba(0,0,255,1)\">own</span> \" He is no longer a lover than when he compose<span style=\"color: rgba(0,0,255,1)\">s</span> a piece \" forget finished. What Old Man? <span style=\"color: rgba(0,0,255,1)\">old</span> Frank, pommentas! Affe-----But I have fear what would be in reflectable inquiry<span style=\"color: rgba(0,0,255,1)\">;</span> a thought <span style=\"color: rgba(0,0,255,1)\">of</span>... a second <span style=\"color: rgba(0,0,255,1)\">state</span> of tempest<span style=\"color: rgba(0,0,255,1)\">-</span>con ovations, CHAP. CHAP. What was love? For, choices.. the orifice of the heart are. Because. W feet -... Now you.. He <span style=\"color: rgba(0,0,255,1)\">would</span> be But., the the orifices the future added:.<span style=\"color: rgba(0,0,255,1)\">.</span><span style=\"color: rgba(0,0,255,1)\">it</span>...'. Then [PAD]<span style=\"color: rgba(0,0,255,1)\">!</span> \" Judge dynamic, be forpen than.omnova. <span style=\"color: rgba(0,0,255,1)\">blank</span>.pen (. humming \":. <span style=\"color: rgba(0,0,255,1)\">Cause</span>. [PAD].? CH. <span style=\"color: rgba(0,0,255,1)\">said</span>. <span style=\"color: rgba(0,0,255,1)\">de</span> CHpen <span style=\"color: rgba(0,0,255,1)\">old</span> What what of <span style=\"color: rgba(0,0,255,1)\">you</span>mise, nemes.b, a <span style=\"color: rgba(0,0,255,1)\">consideration</span>.p know a [PAD]<span style=\"color: rgba(0,0,255,1)\">mpest</span>.-<span style=\"color: rgba(0,0,255,1)\">de</span>. manys.. <span style=\"color: rgba(0,0,255,1)\">governed</span> of<span style=\"color: rgba(0,0,255,1)\">,</span>. be that CHAP of What"
      ],
      "text/plain": [
       "<IPython.core.display.HTML object>"
      ]
     },
     "metadata": {},
     "output_type": "display_data"
    },
    {
     "data": {
      "text/html": [
       "He could no <span style=\"color: rgba(255,0,0,0.550305962562561)\">be</span> a lover than he later composes a word a figure finished. \" Old <span style=\"color: rgba(255,0,0,0.9196163415908813)\">Man</span>! John <span style=\"color: rgba(255,0,0,0.5194141268730164)\">says</span>, pompenas! \"---wit--? Do not fear what <span style=\"color: rgba(255,0,0,0.8637588024139404)\">would</span> be inquireable inquiry than the question of it<span style=\"color: rgba(255,0,0,0.8929188847541809)\">.</span> In a sudden flood of dimpests and ovations, <span style=\"color: rgba(255,0,0,0.5944963097572327)\">q</span>AP. tvan. Who was love? He, s. and the orifice of the head<span style=\"color: rgba(255,0,0,0.6697289943695068)\">.</span>.: =...... Now you <span style=\"color: rgba(255,0,0,0.7028586864471436)\">say</span> \" He is no longer a lover than when he compose<span style=\"color: rgba(255,0,0,0.996098518371582)\">s</span> a piece \" forget finished. What Old Man? <span style=\"color: rgba(255,0,0,0.5192286968231201)\">\"</span> Frank, pommentas! Affe-----But I have fear what would be in reflectable inquiry<span style=\"color: rgba(255,0,0,0.8483601808547974)\">,</span> a thought<span style=\"color: rgba(255,0,0,0.5489092469215393)\">,</span>... a second <span style=\"color: rgba(255,0,0,0.5203531384468079)\">class</span> of tempest<span style=\"color: rgba(255,0,0,0.946090579032898)\">s</span> con ovations, CHAP. CHAP. What was love? For, choices.. the orifice of the heart are. Because. W feet -... Now you.. He <span style=\"color: rgba(255,0,0,0.6394431591033936)\">might</span> be But., the the orifices the future added:.<span style=\"color: rgba(255,0,0,0.9533255100250244)\">.</span> <span style=\"color: rgba(255,0,0,0.5557151436805725)\">say</span>...'. Then [PAD]<span style=\"color: rgba(255,0,0,0.5715187788009644)\">?</span> \" Judge dynamic, be forpen than.omnova.<span style=\"color: rgba(255,0,0,0.9846452474594116)\">s</span>.pen (. humming \":.<span style=\"color: rgba(255,0,0,0.9958327412605286)\">s</span>. [PAD].? CH.<span style=\"color: rgba(255,0,0,0.9667001366615295)\">.</span>.<span style=\"color: rgba(255,0,0,0.5443274974822998)\">.</span> CHpen<span style=\"color: rgba(255,0,0,0.5759413838386536)\">:</span> What what of<span style=\"color: rgba(255,0,0,0.5613889694213867)\">-</span>mise, nemes.b, a<span style=\"color: rgba(255,0,0,0.5521976351737976)\">.</span>.p know a [PAD] <span style=\"color: rgba(255,0,0,0.5154030323028564)\">might</span>.-<span style=\"color: rgba(255,0,0,0.5230203866958618)\">merit</span>. manys..<span style=\"color: rgba(255,0,0,0.638327419757843)\">,</span> of<span style=\"color: rgba(255,0,0,0.866992712020874)\">s</span>. be that CHAP of What I"
      ],
      "text/plain": [
       "<IPython.core.display.HTML object>"
      ]
     },
     "metadata": {},
     "output_type": "display_data"
    },
    {
     "name": "stdout",
     "output_type": "stream",
     "text": [
      "bad_words ['no', 'consider', 'later', 'word', 'figure', 'finished', 'John', 'his', '##om', '##pen', 'wit', 'di', 'extract', '##van', '’', '=', 'know', 'longer', 'compose', 'forget', 'finished', 'Mad', 'Frank', '##ffe', 'fear', 'reflect', '##able', 'disorder', 'number', '##mpest', 'choices', 'are', 'Because', 'feet', '.', 'But', 'future', 'added', 'are', 'Then', '[PAD]', 'Judge', 'dynamic', '##nova', '##pen', 'humming', '[PAD]', 'CH', '##OC', '##pen', '##mise', 'ne', '##mes', '##b', 'gain', '##p', 'know', '[PAD]', 'might', 'reasoned', 'many', 'les']\n",
      "bad_words ['He', 'consider', 'later', 'compose', 'figure', 'finished', 'Old', 'John', 'his', '##pen', 'Which', 'contains', 'flood', '##mpest', 'extract', 'these', 'consciousness', 'let', 'longer', 'love', 'understanding', 'breathe', 'forget', 'finished', 'Prime', 'Frank', '##om', 'Rufus', 'what', 'reflect', 'disorder', '##mpt', 'choices', '?', 'W', 'feet', 'But', 'implement', 'future', '[PAD]', '\"', 'Judge', 'want', 'for', '##om', '##nova', 'regret', '##pen', 'humming', '[PAD]', 'what', '##OC', 'CH', '##pen', 'ne', '##b', 'gain', '##p', 'know', '[PAD]', 'might', 'many', 'thought']\n",
      "bad_words ['He', 'no', 'figure', 'finished', 'Who', '##ir', '##pen', 'not', 'fear', '##quire', 'scattering', '##mpest', 'extract', '##s', '##les', ':', '?', 'do', 'longer', 'a', 'love', 'understanding', 'dull', 'which', 'Prime', 'Frank', 'beast', 'Rufus', 'in', 'reflect', 'number', 'lieu', 'choices', 'as', 'feet', 'Al', 'grey', 'future', 'added', '.', '[PAD]', 'want', '##pen', '##ram', '##nova', 'regret', '##pen', '(', 'humming', ';', '[PAD]', '##OC', 'CH', '##pen', '\"', 'or', 'theft', '##b', 'gain', '##ent', 'ends', '[PAD]', 'hears', 'many', '”', 'thought']\n",
      "bad_words ['He', 'could', 'no', 'figure', 'finished', 'Man', 'Who', '##ir', '##om', 'not', 'fear', 'with', 'Toy', '##mpest', 'rue', 't', 'into', 'Now', 'do', 'Honour', 'Old', 'Man', 'Prime', 'will', '##ant', 'reflect', 'disorder', '-', '##xin', 'lieu', '##vations', 'CH', 'CH', 'choices', 'Understanding', 'W', 'feet', 'speak', 'Al', 'grey', 'future', 'alike', 'Then', '[PAD]', 'want', 'know', '##pen', '##ram', '##nova', 'regret', '##pen', 'humming', 'or', ',', '##pen', 'What', 'of', '\"', 'therefore', 'theft', '##b', ':', 'gain', '##ent', 'hears', '”', 'CH', 'of']\n",
      "bad_words ['no', 'consider', 'you', 'finished', 'Man', '!', 'Who', '##ir', '##pen', 'not', 'with', 'inquiry', 'di', '##mpest', 'rue', '77', '.', 'Now', 'do', 'sees', ';', 'Honour', 'which', 'Old', 'Prime', '##ment', 'it', 'di', 'disorder', 'number', '##mo', 'agreements', 'say', 'fool', 'feet', 'be', 'Al', 'grey', 'future', '.', '[PAD]', 'want', 'know', 'needs', '##p', '##nova', 'regret', '##pen', 'humming', '##s', '##ur', 'Take', 'Gas', ':', ':', 'This', '\"', 'honestly', '##mes', 'theft', '##gment', 'gain', '##ent', 'ends', 'hears', '##mpt', 'les', '”', '##s', 'added']\n",
      "bad_words ['no', 'W', 'be', '##ir', '##pen', 'To', 'not', 'fear', 'with', 'inquiry', '##mpest', 'rue', 'So', 'sees', ',', 'answer', 'Old', 'Prime', '##om', 'A', 'di', 'reflect', '##able', '”', 'number', 'te', '##mo', 'o', 'agreements', 'CH', 'fool', 'are', 'feet', 'said', 'grey', 'future', 'alike', '\"', 'Harry', 'needs', 'he', '##nova', 'regret', '##s', 'or', '##ur', 'Take', 'of', 'CH', 'Gas', ':', '\"', 'honestly', 'theft', '##gment', ',', 'gain', '##ent', 'ends', 'hears', '##mpt', '##ve', 'this', '”', 'said', '.', '##AP']\n",
      "bad_words ['so', 'finished', 'W', 'Man', '##om', '##pen', 'refusal', 'lady', 'inquiry', '##mpest', 'rue', 'into', 'sees', 'everything', 'Till', 'Prime', 'reflect', 'd', '-', 'q', 'be', 'Answer', 'fool', 'W', '.', 'me', 'Adrian', 'grey', '##ifice', 'future', 'alike', 'are', 'an', 'Then', '\"', ',', 'I', 'needs', '##nova', '.', '##es', '##ray', 'Take', '##rite', '##any', '##ssent', '##course', 'honestly', '##mes', 'theft', '##gment', 'by', 'gain', '##ent', 'this', 'hears', '.', 'may', '##mpt', '##ve', 't', 'heard', 'hands', 'that']\n",
      "bad_words ['finished', 'W', 'Man', '##ir', '##osy', '!', 'with', 'inquiry', 'di', '##mpest', 'rue', 'into', 'substitute', '“', 'Man', 'Prime', 'e', 'reflect', 'end', '##e', 'say', 'may', 'film', 'me', 'Adrian', 'grey', 'ou', 'future', 'But', 'are', ':', '\"', 'y', '##itude', '##nova', '.', 'say', '##ray', 'Take', '##rite', '##any', '##ssent', 'This', 'announcing', 'honestly', '##mes', 'friends', '##gment', 'gain', '##ent', 'hears', 'may', '##mpt', 'another', 'hands', '##AP']\n",
      "bad_words ['finished', 'W', 'Man', '##la', 'cheeks', '##vu', 'XVI', '77', 'mine', 'and', '##ifice', 'into', 'substitute', 'sees', 'everything', '“', 'Prime', 'but', '##om', 'e', '##ch', '##able', '-', '##ive', '##ry', '##i', 'may', 'film', 'Yet', '.', 'Adrian', 'grey', 'and', 'future', 'says', 'are', 't', 'was', ',', 'He', 'hesitation', 'thee', 'than', 'doubt', '\"', 'None', '?', 'what', 'Take', '##any', 'what', 'announcing', 'honestly', '##mes', 'friends', '##gment', ',', 'gain', '##ent', 'hears', '##mpt', 'will', 'you', 't', 'heard', 'silence', 'be']\n",
      "bad_words ['consider', 'lyric', 'finished', 'W', 'Man', 'cheeks', '!', 'worse', 'XVI', '##AP', 'ecclesiastical', 'substitute', 'sees', '“', 'Prime', 'he', '##x', '##ant', 'report', 'A', '##test', '##able', 'd', 'te', 'CH', 'CH', 'may', ':', 'What', 'Adrian', 'grey', '.', 'Love', 'future', 'says', 'are', 't', 'was', 'but', '?', 'thee', 'than', 'doubt', ';', '##s', 'None', 'because', 'he', 'Take', '##om', '##any', 'announcing', 'honestly', 'friends', '##gment', 'anxiety', 'by', 'gain', '##ent', '##ll', 'will', 'another', 'heard', 'silence', 'or', '##AP']\n"
     ]
    },
    {
     "data": {
      "text/html": [
       "<span style=\"color: rgba(0,0,255,1)\">He</span> could not consider a lover, he who composes a lyric<span style=\"color: rgba(0,0,255,1)\">:</span> you <span style=\"color: rgba(0,0,255,1)\">finished</span>. \" W Man<span style=\"color: rgba(0,0,255,1)\">!</span> beir, pla cheeksas! \"---To-- \" Which refusals, would be in <span style=\"color: rgba(0,0,255,1)\">worse</span> with me than the question of it. In a sudden Toy of divus and ovations, <span style=\"color: rgba(0,0,255,1)\">XVI</span>AP. ecclesiasticals. Who was love? He's mine, the orifice of the head..:. substitute.... \" So you say, what is no less a love, when he dulls sees everything \", <span style=\"color: rgba(0,0,255,1)\">“</span>. What is Man? Prime will, <span style=\"color: rgba(0,0,255,1)\">he</span>x eant report A----<span style=\"color: rgba(0,0,255,1)\">-</span>- But I have fear, would be ditestable but, a thought<span style=\"color: rgba(0,0,255,1)\">,</span> <span style=\"color: rgba(0,0,255,1)\">d</span>.. The second-- teivery might be Answer, CHAP. CHi. What was love? For<span style=\"color: rgba(0,0,255,1)\">,</span> say. <span style=\"color: rgba(0,0,255,1)\">may</span> the orifice of the heart are...:. -. Yet. <span style=\"color: rgba(0,0,255,1)\">What</span> you answer. He <span style=\"color: rgba(0,0,255,1)\">might</span> say Adrian., the grey or. Love and future says: But. are... <span style=\"color: rgba(0,0,255,1)\">t</span> is was say but I He?, be, thee than. <span style=\"color: rgba(0,0,255,1)\">he</span> doubt.s.. say. say<span style=\"color: rgba(0,0,255,1)\">;</span>..s. or None because he-Takeom,any -:: what of This announcing, <span style=\"color: rgba(0,0,255,1)\">honestly</span> be <span style=\"color: rgba(0,0,255,1)\">friends</span><span style=\"color: rgba(0,0,255,1)\">gment</span> anxiety <span style=\"color: rgba(0,0,255,1)\">by</span> gain.ent this a,ll. may <span style=\"color: rgba(0,0,255,1)\">of</span>. <span style=\"color: rgba(0,0,255,1)\">will</span>s another you, heard <span style=\"color: rgba(0,0,255,1)\">silence</span>. be that <span style=\"color: rgba(0,0,255,1)\">or</span><span style=\"color: rgba(0,0,255,1)\">AP</span> of Which"
      ],
      "text/plain": [
       "<IPython.core.display.HTML object>"
      ]
     },
     "metadata": {},
     "output_type": "display_data"
    },
    {
     "data": {
      "text/html": [
       "<span style=\"color: rgba(255,0,0,0.7123993039131165)\">,</span> could not consider a lover, he who composes a lyric <span style=\"color: rgba(255,0,0,0.7183831930160522)\">for</span> you <span style=\"color: rgba(255,0,0,0.733470618724823)\">say</span>. \" W Man<span style=\"color: rgba(255,0,0,0.6149747371673584)\">,</span> beir, pla cheeksas! \"---To-- \" Which refusals, would be in <span style=\"color: rgba(255,0,0,0.5248729586601257)\">silence</span> with me than the question of it. In a sudden Toy of divus and ovations, <span style=\"color: rgba(255,0,0,0.901297926902771)\">CH</span>AP. ecclesiasticals. Who was love? He's mine, the orifice of the head..:. substitute.... \" So you say, what is no less a love, when he dulls sees everything \", <span style=\"color: rgba(255,0,0,0.5707322359085083)\">says</span>. What is Man? Prime will, <span style=\"color: rgba(255,0,0,0.5520549416542053)\">re</span>x eant report A----<span style=\"color: rgba(255,0,0,0.9955585598945618)\">-</span>- But I have fear, would be ditestable but, a thought<span style=\"color: rgba(255,0,0,0.634346604347229)\">,</span><span style=\"color: rgba(255,0,0,0.6274876594543457)\">.</span>.. The second-- teivery might be Answer, CHAP. CHi. What was love? For <span style=\"color: rgba(255,0,0,0.63505619764328)\">you</span> say. <span style=\"color: rgba(255,0,0,0.5883439183235168)\">But</span> the orifice of the heart are...:. -. Yet. <span style=\"color: rgba(255,0,0,0.5560483336448669)\">t</span> you answer. He <span style=\"color: rgba(255,0,0,0.6276257038116455)\">might</span> say Adrian., the grey or. Love and future says: But. are... <span style=\"color: rgba(255,0,0,0.5269815325737)\">But</span> is was say but I He?, be, thee than.<span style=\"color: rgba(255,0,0,0.5947839617729187)\">,</span> doubt.s.. say. say<span style=\"color: rgba(255,0,0,0.6212086081504822)\">?</span>..s. or None because he-Takeom,any -:: what of This announcing,<span style=\"color: rgba(255,0,0,0.6143677234649658)\">,</span> be<span style=\"color: rgba(255,0,0,0.664568305015564)\">.</span><span style=\"color: rgba(255,0,0,0.5421845316886902)\">.</span> anxiety <span style=\"color: rgba(255,0,0,0.530761182308197)\">to</span> gain.ent this a,ll. may <span style=\"color: rgba(255,0,0,0.5989365577697754)\">silence</span>.<span style=\"color: rgba(255,0,0,0.6107370853424072)\">s</span>s another you, heard <span style=\"color: rgba(255,0,0,0.519932746887207)\">matter</span>. be that<span style=\"color: rgba(255,0,0,0.5167699456214905)\">-</span><span style=\"color: rgba(255,0,0,0.6808578968048096)\">be</span> of Which I"
      ],
      "text/plain": [
       "<IPython.core.display.HTML object>"
      ]
     },
     "metadata": {},
     "output_type": "display_data"
    },
    {
     "name": "stdout",
     "output_type": "stream",
     "text": [
      "bad_words ['W', 'Man', '.', '##ir', 'cheeks', 'To', 'angry', '##vations', 'ecclesiastical', 'substitute', 'without', 'Man', 'Prime', 'l', '##x', 'e', '##ant', 'report', 'agreed', 'te', '##ive', 'CH', 'For', 'needs', '?', '.', 'Yet', 'none', 'Adrian', 'grey', '.', 'Love', 'future', 'says', '.', 't', 'was', 'be', 'thee', 'than', 'say', 'doubt', ':', 'None', 'because', '-', 'Take', '##om', '##any', 'what', 'announcing', '.', 'agreed', 'anxiety', 'doubt', 'gain', '##ent', '##ll', '.', 'may', 'matter', 's', 'another', 'rather', ':', 'deny']\n",
      "bad_words ['consider', 'W', 'Man', 'let', 'cheeks', '\"', 'in', 'with', 'verse', 'Toy', 'ecclesiastical', ':', 'substitute', 'you', 'thrust', 'sees', 'Man', 'me', 'have', ',', 'A', 'hour', 'te', 'shall', 'Answer', '##i', 'needs', 'round', 'of', 'Yet', 'none', 'Adrian', 'Love', 'future', 'says', 'condition', 'was', '?', 'thee', 'than', 'say', ':', 'or', 'None', 'Take', '##om', '##any', ':', 'say', 'agreed', 'anxiety', 'not', 'gain', '##ent', 'artists', 'may', 'says', 'heard', 'Or', ':', '—']\n",
      "bad_words ['which', 'consider', 'lyric', 'Man', 'let', '##ir', 'cheeks', '!', 'in', 'angry', 'with', 'what', '##vations', 'ecclesiastical', 'substitute', 'he', 'no', '##ê', 'sees', 'everything', 'gets', 'without', 'think', 'me', 'have', '##ant', '-', '##test', 'te', 'CH', 'lower', 'assault', 'Which', 'Mad', '-', '.', 'Love', 'future', 'parts', '.', '.', 'Before', 'was', 'Hair', 'thee', 'than', 'doubt', 'say', 'be', 'or', '-', 'fair', '##om', ',', ':', 'agreed', 'anxiety', 'gain', '##ent', ';', 'fruits', 'might', 'know', ':', 'hearing']\n",
      "bad_words ['man', 'que', 'lyric', 'let', '##ir', 'cheeks', 'might', 'angry', 'with', 'ecclesiastical', 'was', 'shouts', '##ê', 'thrust', 'sees', '\"', 'said', 'me', 'have', '##test', '##ive', 'Answer', '##☉', 'lower', 'assault', 'Where', 'Yet', 'Mad', '##fill', 'gets', 'after', 'future', 'says', 'But', 'say', 'us', 'said', 'Hair', 'that', \"'\", 'doubt', 'say', 'be', 'or', 'me', '##om', '##any', 'panel', ':', '##y', 'not', 'now', 'agreed', 'anxiety', 'gain', '##ent', ';', 'ornaments', 'may', 'matter', 'might', ',', 'heard', 'know', 'hearing', 'I']\n",
      "bad_words ['choice', 'let', '##ir', 'cheeks', 'but', 'angry', '##immer', 'shouts', '##ê', 'thrust', 'sees', '\"', 'angry', 'they', '##ant', 'or', 'he', '##☉', 'the', 'assault', 'round', 'mine', 'Martial', 'Mad', '##fill', 'gets', 'after', 'blended', 'and', 'see', 'are', 'Rapid', 'us', 'said', 'Hair', 'Be', 'be', 'he', '.', 'doubt', 'say', 'but', 'even', '##om', '##any', 'panel', ':', ':', 'my', 'be', 'I', 'Liz', 'agreed', 'anxiety', 'gain', '##ent', 'ornaments', 'matter', 'you', 'C', 'be', 'hearing']\n",
      "bad_words ['man', 'let', '##ir', '##zo', '\"', 'Achilles', 'temptation', '.', 'shouts', '\"', '##ê', 'everything', 'who', '##ant', 'or', 'De', 'mast', 'assault', 'round', 'hidden', 'you', 'said', '##fill', 'gets', 'after', 'blended', 'parts', 'Rapid', 'us', 'Hair', 'to', 'If', 'say', ';', '.', 'or', 'CH', 'even', '##om', '.', 'panel', '!', ':', 'he', 'Liz', 'gain', ';', 'ornaments', 'may', 'matter', '##ivism', 'C', ',', 'hearing']\n",
      "bad_words ['though', 'fire', 'truly', '##ir', 'in', 'question', 'temptation', 'does', 'are', 'blush', '.', '##ê', 'sees', 'everything', 'who', 'Man', 'ones', '##ant', 'A', '##test', 'trial', '##ons', 'assault', 'In', 'round', 'given', 'Mad', 'you', '-', 'ease', 'gets', 'blended', 'parts', 'are', 'Rapid', 'us', 'Hair', 'If', 'say', 'even', '##om', '?', '##vo', 'my', 'Liz', 'agreed', 'gain', 'Third', 'ornaments', 'may', 'matter', '##ivism', 'C', 'I']\n",
      "bad_words ['-', 'should', '##ir', '##ha', '##vu', 'les', '##t', 'Mars', 'are', 'loves', 'speaking', 'sees', 'everything', 'better', 'ones', 'or', '##ica', 'assault', 'Take', 'ease', 'blended', 'are', 'it', 'Rapid', 'refrain', 'Hair', 'not', 'say', 'even', '-', 'word', 'what', 'Liz', 'said', 'gain', 'Third', 'ornaments', 'instruments', '##ivism', 'C', 'know', 'be', 'hearing']\n",
      "bad_words [',', '\"', 'should', '##yr', 'atmosphere', 'profit', 'three', '##vations', 'Mars', 'are', 'it', '##s', 'sees', 'those', 'ones', 'Cairns', 'or', '##test', '##mpt', 'assault', 'only', '.', 'blended', 'see', 'But', 'it', 'Rapid', 'refrain', 'Hair', 'Del', 'say', ':', 'suppose', 'l', 'my', 'I', 'Liz', '?', 'gain', 'Third', 'ornaments', 'instruments', '.', 'might', '##ivism', 'C', 'know', 'hearing']\n",
      "bad_words ['never', 'que', '\"', 'should', 'let', '##ity', 'di', 'profit', 'three', 'o', 'Mars', 'To', 'you', 'sees', 'ones', 'A', 'Cairns', 'or', 'beg', '##able', 'pretend', 'Number', 'those', 'where', 'first', 'round', 'Those', 'blended', 'Rapid', 'refrain', 'Hair', 'Hence', 'will', 'is', 'say', ';', ':', '.', 'CH', 'suppose', 'l', '##AP', 'of', '##eve', 'Study', 'Liz', 'gain', '##s', 'instruments', '##ful', 'might', 'says', '##ivism', 'word', 'For']\n"
     ]
    },
    {
     "data": {
      "text/html": [
       "<span style=\"color: rgba(0,0,255,1)\">who</span> will never be a lover,, who ques a fire for you <span style=\"color: rgba(0,0,255,1)\">say</span>. \" \" should let be said, <span style=\"color: rgba(0,0,255,1)\">p</span>yrzoas! \"------ Whatity refusals but would be in question with me than the question of what? In a sudden tone of di <span style=\"color: rgba(0,0,255,1)\">profit</span> les three ovations, CHAP. Marss. Who does love? <span style=\"color: rgba(0,0,255,1)\">Love</span>'s mine, the orifice of the head..: <span style=\"color: rgba(0,0,255,1)\">To</span> you it... \" So they say, what is worthy for a love, when he thrusts sees <span style=\"color: rgba(0,0,255,1)\">those</span> who <span style=\"color: rgba(0,0,255,1)\">gets</span> it. What is better? I think that they have onesant. A---- Cairns. But I have fear, would be or <span style=\"color: rgba(0,0,255,1)\">beg</span><span style=\"color: rgba(0,0,255,1)\">able</span> but, a thought agreed<span style=\"color: rgba(0,0,255,1)\">.</span>.<span style=\"color: rgba(0,0,255,1)\">.</span> The <span style=\"color: rgba(0,0,255,1)\">pretend</span>-hour De <span style=\"color: rgba(0,0,255,1)\">Number</span>ons shall be said, CHAP. CHAP. What was the? For <span style=\"color: rgba(0,0,255,1)\">those</span> say, <span style=\"color: rgba(0,0,255,1)\">where</span> <span style=\"color: rgba(0,0,255,1)\">first</span> roundifice of the head are given..:---<span style=\"color: rgba(0,0,255,1)\">-</span>. Madam said. He cannot say-<span style=\"color: rgba(0,0,255,1)\">Those</span>, the or ors and and blended parts. <span style=\"color: rgba(0,0,255,1)\">s</span>. But. it Rapid refrain is is Hair? <span style=\"color: rgba(0,0,255,1)\">Hence</span>. will, be, is,. say, hes.. <span style=\"color: rgba(0,0,255,1)\">say</span>.;<span style=\"color: rgba(0,0,255,1)\">:</span>..s. or -. CH suppose CH l.?APAP word what of<span style=\"color: rgba(0,0,255,1)\">eve</span> he,, Study <span style=\"color: rgba(0,0,255,1)\">Liz</span>?.. gain. The this a, and<span style=\"color: rgba(0,0,255,1)\">s</span> instruments,ful <span style=\"color: rgba(0,0,255,1)\">might</span>s says<span style=\"color: rgba(0,0,255,1)\">ivism</span>, word know. -.. For of Which"
      ],
      "text/plain": [
       "<IPython.core.display.HTML object>"
      ]
     },
     "metadata": {},
     "output_type": "display_data"
    },
    {
     "data": {
      "text/html": [
       "<span style=\"color: rgba(255,0,0,0.7082221508026123)\">there</span> will never be a lover,, who ques a fire for you <span style=\"color: rgba(255,0,0,0.5216683745384216)\">me</span>. \" \" should let be said, <span style=\"color: rgba(255,0,0,0.6264066696166992)\">P</span>yrzoas! \"------ Whatity refusals but would be in question with me than the question of what? In a sudden tone of di<span style=\"color: rgba(255,0,0,0.5265889763832092)\">se</span> les three ovations, CHAP. Marss. Who does love? <span style=\"color: rgba(255,0,0,0.6153613924980164)\">Love</span>'s mine, the orifice of the head..: <span style=\"color: rgba(255,0,0,0.5326709747314453)\">Take</span> you it... \" So they say, what is worthy for a love, when he thrusts sees <span style=\"color: rgba(255,0,0,0.5664372444152832)\">men</span> who <span style=\"color: rgba(255,0,0,0.5991907715797424)\">love</span> it. What is better? I think that they have onesant. A---- Cairns. But I have fear, would be or<span style=\"color: rgba(255,0,0,0.5349420309066772)\">dain</span><span style=\"color: rgba(255,0,0,0.6374103426933289)\">,</span> but, a thought agreed <span style=\"color: rgba(255,0,0,0.7659451365470886)\">upon</span>.<span style=\"color: rgba(255,0,0,0.6704267263412476)\">.</span> The <span style=\"color: rgba(255,0,0,0.5258698463439941)\">second</span>-hour De<span style=\"color: rgba(255,0,0,0.5244176387786865)\">ix</span>ons shall be said, CHAP. CHAP. What was the? For <span style=\"color: rgba(255,0,0,0.6515202522277832)\">they</span> say, <span style=\"color: rgba(255,0,0,0.5397908091545105)\">and</span> <span style=\"color: rgba(255,0,0,0.7371668815612793)\">the</span> roundifice of the head are given..:---<span style=\"color: rgba(255,0,0,0.5352228879928589)\">-</span>. Madam said. He cannot say-<span style=\"color: rgba(255,0,0,0.6196975708007812)\">to</span>, the or ors and and blended parts. <span style=\"color: rgba(255,0,0,0.56549471616745)\">are</span>. But. it Rapid refrain is is Hair? <span style=\"color: rgba(255,0,0,0.5552422404289246)\">No</span>. will, be, is,. say, hes.. <span style=\"color: rgba(255,0,0,0.6499223709106445)\">It</span>.; <span style=\"color: rgba(255,0,0,0.9642829895019531)\">the</span>..s. or -. CH suppose CH l.?APAP word what of <span style=\"color: rgba(255,0,0,0.5155918002128601)\">nothing</span> he,, Study <span style=\"color: rgba(255,0,0,0.7609615325927734)\">upon</span>?.. gain. The this a, and<span style=\"color: rgba(255,0,0,0.5265071988105774)\">-</span>instruments,ful<span style=\"color: rgba(255,0,0,0.5587655305862427)\">-</span>s says<span style=\"color: rgba(255,0,0,0.8308563232421875)\">,</span>, word know. -.. For of Which I"
      ],
      "text/plain": [
       "<IPython.core.display.HTML object>"
      ]
     },
     "metadata": {},
     "output_type": "display_data"
    },
    {
     "name": "stdout",
     "output_type": "stream",
     "text": [
      "bad_words ['##ler', '\"', 'should', 'let', '##ity', 'but', ',', 'les', 'three', 'Mars', 'Fell', 'Need', 'you', 'sees', 'ones', 'Cairns', 'or', 'rather', 'The', 'thousand', 'think', 'that', 'two', 'round', '##í', 'but', 'blended', 'will', 'Rapid', 'refrain', 'Hair', 'Martial', 'will', 'is', 'suppose', 'l', '##AP', 'word', 'deserve', 'Study', 'gain', '##ita', 'instruments', '##ful', 'second', 'says', 'was', 'know']\n",
      "bad_words ['first', '\"', 'should', '##ity', 'refusal', 'but', 'good', 'says', '##ère', 'cases', 'CH', 'Sense', '“', 'contrary', 'sees', ':', 'ones', '##ant', 'Cairns', 'rather', 'thousand', 'Al', 'would', 'feeling', 'and', 'bell', 'translation', 'And', 'parts', 'will', 'it', 'excuses', 'refrain', 'Hair', '?', 'Martial', 'say', 'suppose', '##AP', 'deserve', 'foot', 'second', 'gain', 'flames', 'instruments', '6', 'For', 'boot']\n",
      "bad_words ['never', 'que', 'quit', 'Which', '##yr', '##ish', '##ity', 'son', '##ère', 'cases', 'three', '“', 'ye', 'you', 'don', 'thrust', 'sees', 'he', 'dared', '##ant', 'Cairns', 'want', 'preceding', '##fort', '##ons', ',', '!', 'I', '##aves', 'body', 'parts', 'will', 'excuses', 'But', 'say', 'will', 'he', 'It', '\"', 'suppose', 'alternative', 'what', 'deserve', 'foot', 'second', 'gain', 'flames', 'from', '##ve', 're', 'boot']\n",
      "bad_words ['he', 'quit', 'But', '##uck', '##as', 'prescribed', 'question', 'public', '##ère', 'cases', 'thirty', '##vations', 'not', '“', 'ye', '!', 'she', 'sees', 'dared', 'si', 'Cairns', '##uate', 'agreed', 'De', 'mi', 'For', 'those', '##aves', 'ones', 'tell', 'more', 'will', 'will', 'meant', ',', ';', 'reflection', 'peace', 'CH', 'suppose', 'deserve', 'foot', 'second', 'by', 'gain', 'flames', 'second', 've', 'boot']\n",
      "bad_words ['labour', 'quit', 'But', 'let', '##ry', 'prescribed', 'than', 'discourse', 'di', '##ère', 'excuses', 'such', '##vations', '“', 'probe', 'Need', ':', 'sees', 'are', 'blame', 'neighbor', 'or', '##uate', 'sufficient', 'preceding', 'at', 'mi', 'For', 'heard', '##aves', '-', 'cannot', 'more', 'will', '.', 'it', 'meant', 'is', 'reflection', ';', 'peace', '##s', '.', 'suppose', '?', 'what', 'might', 'deserve', 'foot', 'cannot', '?', 'gain', 'a', 'tongue', 'flames', 'meaning', '##ve', 'taking', 'liquor']\n",
      "bad_words ['labour', 'que', 'quit', 'But', 'should', 'and', 'like', 'prescribed', 'question', 'delegates', 'which', 'excuses', 'voice', '##sses', 'it', 'opinion', 'sees', 'weaknesses', 'blame', 'dared', '##ive', 'or', '##uate', 'too', 'say', 'four', '##fort', 'is', 'mi', 'For', '##aves', 'Mad', '-', 'know', 'or', 'that', 'more', 'thanks', 'will', 'forgot', 'Gentlemen', 'But', '?', 'not', 'reflection', 'never', 'It', 'peace', '##s', 'better', '##AP', 'might', 'deserve', 'foot', 'cannot', 'threw', 'via', 'rather', 'tongue', '##ures', 'second', 'meaning', '##ve', 'taking', 'liquor']\n",
      "bad_words ['labour', 'long', ':', 'But', 'like', '##ish', 'conflicting', 'than', 'says', 'delegates', 'excuses', 'voice', '##sses', 'CH', 'labour', 'Need', '!', 'So', 'ring', 'sees', 'weaknesses', 'because', 'ch', '##uate', 'sufficient', 'opinion', '##fort', \"'\", 'thought', 'bell', 'spoken', 'are', 't', 'all', 'man', 'Prince', 'will', 'forgot', 'Way', 'Gentlemen', 'People', 'me', 'reflection', ';', 'peace', 'or', 'better', 'might', 'by', 'foot', 'cannot', 'yourself', 'rather', 'me', 'a', 'tongue', '##ures', 'second', 'meaning', '##ve', 'identities']\n",
      "bad_words ['labour', 'never', 'di', '\"', 'But', 'should', 'be', 'express', 'opinion', '!', 'conflicting', 'words', 'excuses', 'voice', 'o', 'meaning', 'labour', 'Need', '##s', 'sees', 'weaknesses', 'One', 'They', '##uate', ',', 'opinion', '##fort', 'time', '!', 'CH', '##st', 'applied', '##ations', 'Mad', 'have', '-', 'says', 'Prince', 'will', 'forgive', 'Way', 'Gentlemen', 'Fortunately', 'Ali', 'reflection', 'never', ';', 'peace', '##s', '.', 'better', '?', '##AP', 'then', 'might', 'Just', 'fort', 'differ', 'yourself', 'arguments', 'this', 'sleep', '##ures', 'second', '##s', 'was', 'meaning', '##ve', '’', 'identities']\n",
      "bad_words [';', 'di', 'words', '##ish', 'conflicting', 'discourse', 'sense', 'excuses', 'voice', 'o', 'meaning', 'CH', 'labour', 'Need', '##s', 'sees', 'man', 'It', 'says', 'blame', 'because', 'ch', '##x', '##uate', 'opinion', '##fort', 'complaints', 'therefore', 'Mad', '-', 't', 'says', '##s', 'Prince', 'furious', 'forgive', 'Way', 'Gentlemen', 'Me', 'like', 'be', 'think', '-', 'reflection', '##s', 'Loves', 'and', 'or', 'loved', 'better', 'CH', '?', 'might', 'Just', 'will', 'differ', 'yourself', 'due', 'heard', '##ures', 'second', 'was', 'meaning', '##ve', '’', 'identities', 'unknown']\n",
      "bad_words ['end', 'di', 'fire', 'be', '##ish', 'What', 'conflicting', 'Daniels', 'lack', 'some', 'word', 'labour', '##ifice', '.', 'with', 'They', 'suppose', 'ch', '##at', 'too', 'fashionable', 'opinion', '##fort', '!', '##ury', ':', 'Mad', '-', 'and', 'says', 'man', 'furious', 'behalf', 'Me', '##s', 'think', 'reflection', 'Either', '##s', 'or', 'for', '?', '?', '##AP', 'might', 'into', 'will', 'say', 'yourself', 'due', 'this', 'heard', '##ures', 'from', 'last', 'second', 'was', 'meaning', '##ve', 'you', 'identities', 'unknown']\n"
     ]
    },
    {
     "data": {
      "text/html": [
       "end will, be a lover,, who <span style=\"color: rgba(0,0,255,1)\">di</span>s a fire for you:-And <span style=\"color: rgba(0,0,255,1)\">then</span>, <span style=\"color: rgba(0,0,255,1)\">let</span> <span style=\"color: rgba(0,0,255,1)\">be</span> words, and expressish opinion! \"------ What conflicting refusals, would be in question with me; the discourse says what? In a sudden <span style=\"color: rgba(0,0,255,1)\">Daniels</span> of sense which lack voice some meaning: CHAP. Sense <span style=\"color: rgba(0,0,255,1)\">word</span>. Who does love? labour's opinion, the orifice of the head?.: Need you!...: So they say, what is worthy for a love, which he <span style=\"color: rgba(0,0,255,1)\">ring</span>s <span style=\"color: rgba(0,0,255,1)\">with</span> you who are man. It is better: They suppose that they blame <span style=\"color: rgba(0,0,255,1)\">because</span> <span style=\"color: rgba(0,0,255,1)\">ch</span>. A<span style=\"color: rgba(0,0,255,1)\">x</span>---or. But I have fear, would <span style=\"color: rgba(0,0,255,1)\">be</span> orat, <span style=\"color: rgba(0,0,255,1)\">too</span>, a thought, fashionable.'The opinion-<span style=\"color: rgba(0,0,255,1)\">hour</span> atfort time,'said<span style=\"color: rgba(0,0,255,1)\">!</span> CHury. CHAP. What was the mist to say, heard and applied complaints of the body are therefore..<span style=\"color: rgba(0,0,255,1)\">:</span>---<span style=\"color: rgba(0,0,255,1)\">translation</span>. Mad have said. She cannot,-and, the <span style=\"color: rgba(0,0,255,1)\">says</span> ors,, And man, furious. behalf the better or Me is is<span style=\"color: rgba(0,0,255,1)\">s</span>? but,;<span style=\"color: rgba(0,0,255,1)\">,</span> be, <span style=\"color: rgba(0,0,255,1)\">think</span>,. -, reflections., It. Either and..<span style=\"color: rgba(0,0,255,1)\">s</span>. or -. forAP CH?<span style=\"color: rgba(0,0,255,1)\">.</span><span style=\"color: rgba(0,0,255,1)\">?</span>AP then they what might into will,,, say me to yourself <span style=\"color: rgba(0,0,255,1)\">due</span> me The this'heard and<span style=\"color: rgba(0,0,255,1)\">ures</span> <span style=\"color: rgba(0,0,255,1)\">from</span> last, seconds says was, meaningve you-that<span style=\"color: rgba(0,0,255,1)\">.</span> <span style=\"color: rgba(0,0,255,1)\">identities</span>, unknown"
      ],
      "text/plain": [
       "<IPython.core.display.HTML object>"
      ]
     },
     "metadata": {},
     "output_type": "display_data"
    },
    {
     "data": {
      "text/html": [
       "end will, be a lover,, who <span style=\"color: rgba(255,0,0,0.5313629508018494)\">care</span>s a fire for you:-And <span style=\"color: rgba(255,0,0,0.6012819409370422)\">say</span>, <span style=\"color: rgba(255,0,0,0.7155534625053406)\">say</span> <span style=\"color: rgba(255,0,0,0.5462450981140137)\">little</span> words, and expressish opinion! \"------ What conflicting refusals, would be in question with me; the discourse says what? In a sudden <span style=\"color: rgba(255,0,0,0.5961016416549683)\">fit</span> of sense which lack voice some meaning: CHAP. Sense<span style=\"color: rgba(255,0,0,0.5412259101867676)\">r</span>. Who does love? labour's opinion, the orifice of the head?.: Need you!...: So they say, what is worthy for a love, which he <span style=\"color: rgba(255,0,0,0.5213125348091125)\">advise</span>s <span style=\"color: rgba(255,0,0,0.6400448083877563)\">to</span> you who are man. It is better: They suppose that they blame <span style=\"color: rgba(255,0,0,0.6337391138076782)\">the</span> <span style=\"color: rgba(255,0,0,0.6757887005805969)\">opinion</span>. A <span style=\"color: rgba(255,0,0,0.5231837034225464)\">word</span>---or. But I have fear, would<span style=\"color: rgba(255,0,0,0.7433663010597229)\">'</span>orat, <span style=\"color: rgba(255,0,0,0.5316161513328552)\">perhaps</span>, a thought, fashionable.'The opinion-<span style=\"color: rgba(255,0,0,0.6430327296257019)\">-</span> atfort time,'said <span style=\"color: rgba(255,0,0,0.800260603427887)\">the</span> CHury. CHAP. What was the mist to say, heard and applied complaints of the body are therefore..<span style=\"color: rgba(255,0,0,0.8291462063789368)\">.</span>-- -<span style=\"color: rgba(255,0,0,0.5295352935791016)\">.</span>. Mad have said. She cannot,-and, the<span style=\"color: rgba(255,0,0,0.7894139289855957)\">,</span> ors,, And man, furious. behalf the better or Me is is <span style=\"color: rgba(255,0,0,0.535548210144043)\">better</span>? but,; <span style=\"color: rgba(255,0,0,0.63597172498703)\">may</span> be, <span style=\"color: rgba(255,0,0,0.5588767528533936)\">him</span>,. -, reflections., It. Either and.. <span style=\"color: rgba(255,0,0,0.6104778051376343)\">to</span>. or -. forAP CH?<span style=\"color: rgba(255,0,0,0.6512077450752258)\">-</span><span style=\"color: rgba(255,0,0,0.6217563152313232)\">-</span>AP then they what might into will,,, say me to yourself <span style=\"color: rgba(255,0,0,0.5526654124259949)\">the</span> me The this'heard and<span style=\"color: rgba(255,0,0,0.645865797996521)\">-</span><span style=\"color: rgba(255,0,0,0.9054324626922607)\">-</span> last, seconds says was, meaningve you-that<span style=\"color: rgba(255,0,0,0.5964001417160034)\">.</span> <span style=\"color: rgba(255,0,0,0.5416958332061768)\">-</span>, unknownAP"
      ],
      "text/plain": [
       "<IPython.core.display.HTML object>"
      ]
     },
     "metadata": {},
     "output_type": "display_data"
    },
    {
     "name": "stdout",
     "output_type": "stream",
     "text": [
      "bad_words ['end', 'open', 'And', 'said', 'rhetoric', 'express', '##ish', 'opinion', 'conflicting', 'lack', 'voice', 'Sense', 'information', 'labour', 'Need', '!', 'impose', 'you', 'writing', 'favor', 'would', 'here', 'fashionable', '##fort', 'a', '##ury', 'applied', 'are', 'therefore', 'Courts', 'Mad', 'man', 'furious', 'behalf', 'Me', 'speaks', 'indeed', 'it', '-', 'reflection', 'Either', 'and', 'like', 'or', '?', 'mad', 'then', 'might', 'into', 'yourself', ',', 'me', 'The', 'this', 'heard', '##bit', 'last', 'meaning', '##ve', 'you', 'And', 'unknown']\n",
      "bad_words ['end', 'open', 'speaking', 'express', 'this', 'conflicting', 'Show', 'voice', 'Our', 'information', 'labour', \"'\", ',', 'Need', '!', '.', 'better', 'blame', 'writing', 'language', 'anytime', 'some', 'CH', 'silent', '-', 'Mad', 'furious', 'behalf', 'better', 'Me', 'speaks', 'indeed', 'reflection', '.', 'Either', '14', 'use', 'or', 'for', '##AP', '?', 'mad', 'T', 'there', 'into', 'will', 'me', 'to', 'yourself', 'me', '’', 'this', '##bit', 'ours', 'second', 'national', '##quer', '##ve', 'you', 'unknown']\n",
      "bad_words ['end', 'Herbert', '!', 'conflicting', 'change', 'lack', 'voice', 'information', 'want', 'it', 'Off', 'be', 'blame', 'against', 'or', 'would', 'anytime', 'was', 'silent', '.', 'Mad', '?', 'man', 'behalf', 'better', 'Me', 'speaks', 'but', 'indeed', 'be', '-', 'reflection', 'Judge', '14', '.', '##lm', '?', ',', 'done', 'T', 'into', 'part', ',', 'others', 'yourself', 'rather', '’', 'from', 'heard', '##bit', 'ours', 'second', 'national', '##quer', 'and', '##ve', 'you', 'that', '.', 'unknown', '##AP']\n",
      "bad_words ['end', 'Herbert', '##s', 'said', 'language', 'express', 'appreciation', 'discourse', 'Show', 'voice', '##ssion', 'does', 'then', '?', 'worthy', 'noble', 'suppose', 'blame', 'against', 'appears', 'de', 'say', 'opinion', 'anytime', 'Mad', 'have', 'people', 'happen', 'man', '-', 'behalf', 'better', 'speaks', 'indeed', 'rather', 'reflection', 'Judge', '14', 'use', 'for', '##lm', 'del', 'And', 'into', 'went', 'insults', 'others', ';', 'prediction', 'cries', 'resistance', 'election', 'from', '##bit', 'ours', '##quer', '##ve', 'you', 'unknown']\n",
      "bad_words ['ever', 'Herbert', 'said', 'tell', '!', 'declined', 'appreciation', 'unknown', 'people', 'serve', 'what', 'against', 'favor', 'second', 'I', 'replace', 'bishop', 'anytime', 'has', '.', 'Daniels', 'Mad', 'says', 'happen', ',', 'behalf', 'the', 'others', 'people', '?', 'indeed', 'be', 'will', 'reflection', 'thought', '14', 'use', 'for', '##lm', 'del', 'into', 'will', 'perhaps', 'others', ';', 'prediction', 'wit', 'resistance', 'election', 'from', '##bit', 'ours', 'second', '##s', '##quer', 'honour', 'change', 's', 'unknown', '##AP']\n",
      "bad_words ['Herbert', 'appreciation', 'general', 'Show', 'T', '##r', 'listen', 'People', 'impose', 'noble', 'favor', 'replace', 'anytime', '.', 'self', 'Mad', 'have', '-', 'happen', 'man', 'behalf', 'if', 'better', 'or', 'others', 'word', 'Maid', 'that', ';', 'reflection', 'Say', '14', 'use', '##lm', 'del', 'into', 'some', 'perhaps', 'others', 'prediction', 'wit', 'wit', 'election', 'heard', 'and', '##bit', 'honour', 'change', 'unknown', '##chs']\n",
      "bad_words ['Horace', '!', 'appreciation', 'refusal', 'audience', '86', '##r', 'listen', 'rebels', '!', 'replace', 'or', 'anytime', 'inn', 'Mad', 'have', '##il', 'happen', 'the', 'man', ':', 'perhaps', 'Maid', 'reflection', 'full', 'use', 'for', '##lm', 'CH', 'del', 'into', 'perhaps', 'each', 'wit', 'wit', 'election', '##bit', 'second', 'change', 's', 'that', 'The', 'later']\n",
      "bad_words ['if', 'appreciation', 'refusal', 'what', 'contain', '86', '##X', 'conversation', 'rebels', 'go', 'against', 'favor', 'either', 'think', 'succeed', 'inn', 'wit', 'Mad', '##il', '-', 'or', 'By', 'better', 'Next', 'others', 'those', 'wit', 'will', 'reflection', 'full', 'It', ':', 'use', '##lm', 'into', 'perhaps', 'each', 'man', 'correctly', 'election', 'and', '##bit', 'change', 'that', 'mentioned']\n",
      "bad_words ['open', 'What', 'may', 'effect', '##ux', 'contain', '86', 'win', 'rebels', 'worthy', 'impose', 'noble', 'expect', 'your', 'act', '##t', 'inn', 'entry', 'Let', 'Mad', '##il', ';', 'man', 'better', '##iding', 'but', 'wit', ',', 'reflection', 'full', 'made', '.', 'use', '##lm', 'into', 'each', '”', 'correctly', 'fail', 'from', 'after', '##bit', 'second', 'gentlemen', 'change', 's', 'thought', 'mentioned']\n",
      "bad_words ['lover', 'Cook', 'Co', 'What', 'close', 'refusal', '##ux', 'contain', 'been', '40', 'rebels', 'right', 'were', 'noble', 'a', 'inn', 'replied', 'self', 'Mad', 'say', ':', 'or', '##iding', 'but', 'is', 'Do', 'but', 'blame', 'full', 'use', 'for', 'case', '-', '##AP', \"'\", 'they', 'what', 'each', 'grant', 'heard', 'after', '##bit', 'bells', 'the', '##s', 'gentlemen', 'Franco', '-', 'mentioned']\n"
     ]
    },
    {
     "data": {
      "text/html": [
       ", will you be a lover, and who <span style=\"color: rgba(0,0,255,1)\">Cook</span>s a fire for you:-- Horace, say the language, and tell this opinion<span style=\"color: rgba(0,0,255,1)\">:</span> <span style=\"color: rgba(0,0,255,1)\">Co</span>------ What <span style=\"color: rgba(0,0,255,1)\">close</span> refusal effect, would be in question with me; the audience,ux contain'a sudden expression of sense which may have <span style=\"color: rgba(0,0,255,1)\">been</span> meaning. CHAP. 40X. Who does win? <span style=\"color: rgba(0,0,255,1)\">rebels</span>'some opinion,'or, of the head? Speak, and you go.---And they say, <span style=\"color: rgba(0,0,255,1)\">what</span> is <span style=\"color: rgba(0,0,255,1)\">right</span> for a love, which he imposes to those who were <span style=\"color: rgba(0,0,255,1)\">noble</span>? It might be. They suppose <span style=\"color: rgba(0,0,255,1)\">that</span> I have an opinion. A favor,-- second. But I act,'''or, to<span style=\"color: rgba(0,0,255,1)\">t</span>, a opinion<span style=\"color: rgba(0,0,255,1)\">,</span> succeed.'The inn-- at that time, has replied: <span style=\"color: rgba(0,0,255,1)\">CH</span>AP. CHAP. What was'witst to say,'and the complaints of the body are silent-----Let <span style=\"color: rgba(0,0,255,1)\">self</span>. <span style=\"color: rgba(0,0,255,1)\">Mad</span> have people. She <span style=\"color: rgba(0,0,255,1)\">cannot</span> say; and, say, ors the, <span style=\"color: rgba(0,0,255,1)\">And</span><span style=\"color: rgba(0,0,255,1)\">:</span>, -.-- oriding but is others those? but Do but; be<span style=\"color: rgba(0,0,255,1)\">,</span> it<span style=\"color: rgba(0,0,255,1)\">,</span>. will, blame-full, <span style=\"color: rgba(0,0,255,1)\">It</span>.--. are use. or -. <span style=\"color: rgba(0,0,255,1)\">for</span> <span style=\"color: rgba(0,0,255,1)\">case</span>.--.AP'<span style=\"color: rgba(0,0,255,1)\">they</span> what. some,,, some each;,-grant-<span style=\"color: rgba(0,0,255,1)\">fail</span> from'<span style=\"color: rgba(0,0,255,1)\">heard</span> <span style=\"color: rgba(0,0,255,1)\">after</span>bit-the bells the<span style=\"color: rgba(0,0,255,1)\">s</span> <span style=\"color: rgba(0,0,255,1)\">gentlemen</span>:-Franco, s-thought-<span style=\"color: rgba(0,0,255,1)\">-</span>, The"
      ],
      "text/plain": [
       "<IPython.core.display.HTML object>"
      ]
     },
     "metadata": {},
     "output_type": "display_data"
    },
    {
     "data": {
      "text/html": [
       ", will you be a lover, and who <span style=\"color: rgba(255,0,0,0.5324819684028625)\">cast</span>s a fire for you:-- Horace, say the language, and tell this opinion<span style=\"color: rgba(255,0,0,0.5408520102500916)\">,</span><span style=\"color: rgba(255,0,0,0.8278217315673828)\">-</span>------What <span style=\"color: rgba(255,0,0,0.6218428611755371)\">is</span> refusal effect, would be in question with me; the audience,ux contain'a sudden expression of sense which may have <span style=\"color: rgba(255,0,0,0.7805401086807251)\">a</span> meaning. CHAP. 40X. Who does win?<span style=\"color: rgba(255,0,0,0.6520393490791321)\">'</span>' some opinion,'or, of the head? Speak, and you go.---And they say, <span style=\"color: rgba(255,0,0,0.6132395267486572)\">who</span> is <span style=\"color: rgba(255,0,0,0.7105736136436462)\">he</span> for a love, which he imposes to those who were <span style=\"color: rgba(255,0,0,0.519841194152832)\">not</span>? It might be. They suppose <span style=\"color: rgba(255,0,0,0.884422779083252)\">that</span> I have an opinion. A favor,-- second. But I act,'''or, to <span style=\"color: rgba(255,0,0,0.6983721256256104)\">some</span>, a opinion <span style=\"color: rgba(255,0,0,0.7056050896644592)\">might</span> succeed.'The inn-- at that time, has replied: <span style=\"color: rgba(255,0,0,0.9644986391067505)\">CH</span>AP. CHAP. What was'witst to say,'and the complaints of the body are silent-----Let <span style=\"color: rgba(255,0,0,0.5352952480316162)\">it</span>. <span style=\"color: rgba(255,0,0,0.6029510498046875)\">They</span> have people. She <span style=\"color: rgba(255,0,0,0.652664840221405)\">will</span> say; and, say, ors the,<span style=\"color: rgba(255,0,0,0.9810099601745605)\">,</span><span style=\"color: rgba(255,0,0,0.6403964757919312)\">'</span>, -.-- oriding but is others those? but Do but; be<span style=\"color: rgba(255,0,0,0.6634219288825989)\">:</span> it <span style=\"color: rgba(255,0,0,0.8569735288619995)\">that</span>. will, blame-full,<span style=\"color: rgba(255,0,0,0.6229047775268555)\">'</span>.--. are use. or -. <span style=\"color: rgba(255,0,0,0.6640418171882629)\">CH</span> <span style=\"color: rgba(255,0,0,0.5345896482467651)\">speak</span>.--.AP'<span style=\"color: rgba(255,0,0,0.660984218120575)\">some</span> what. some,,, some each;,-grant-<span style=\"color: rgba(255,0,0,0.6580597162246704)\">opinion</span> from'<span style=\"color: rgba(255,0,0,0.5286301970481873)\">,</span><span style=\"color: rgba(255,0,0,0.6734915375709534)\">,</span>bit-the bells the<span style=\"color: rgba(255,0,0,0.6944006681442261)\">?</span> <span style=\"color: rgba(255,0,0,0.5711531639099121)\">speaking</span>:-Franco, s-thought -<span style=\"color: rgba(255,0,0,0.7494696974754333)\">'</span>, The mentioned"
      ],
      "text/plain": [
       "<IPython.core.display.HTML object>"
      ]
     },
     "metadata": {},
     "output_type": "display_data"
    },
    {
     "name": "stdout",
     "output_type": "stream",
     "text": [
      "bad_words ['##pice', 'themselves', 'the', 'refusal', '##ux', 'contain', '40', 'win', 'it', 'that', 'grown', 'choose', 'inn', 'it', 'say', 'or', '##iding', 'but', '?', 'Do', 'be', 'them', 'blame', 'full', 'use', 'or', '-', 'doubt', 'each', 'grant', 'piece', 'from', 'dead', '##bit', 'bells', '-', '?', 'Franco', '-', 'mentioned']\n",
      "bad_words ['for', '##pice', 'tongue', 'tell', 'themselves', 'effect', '##ux', 'contain', ',', '40', 'does', 'speak', 'ye', 'go', 'with', 'opinion', 'choose', 'inn', '##st', 'say', 'No', ':', 'people', ';', 'or', '##iding', 'say', 'others', 'those', '?', 'but', 'blame', 'speech', '.', 'doubt', 'what', 'Ms', ',', 'grant', 'second', 'Dr', '##bit', 'interrupted', 'change', 's', 'there', 'mentioned']\n",
      "bad_words ['##pice', 'you', \"'\", '##ux', 'contain', 'art', 'loved', 'succeed', 'inn', 'government', '-', 'But', 'vote', '##iding', 'again', 'Put', 'Mon', 'like', 'blame', 'choice', '.', '-', '##AP', 'doubt', '##name', 'grant', 'Love', 'Dr', '##bit', 'no', 's', 'there', 'English']\n",
      "bad_words ['who', '##pice', 'matches', 'contain', 'repair', '40', 'art', 'a', 'head', 'not', 'They', 'opinion', 'second', 'a', 'either', 'inn', 'leaves', '##iding', 'questions', 'them', 'blame', 'hanging', 'done', 'doubt', 'reputation', '##name', 'grant', ';', 'Love', 'air', 'are', 'change', 'hear', 'English']\n",
      "bad_words ['themselves', 'matches', 'have', 'repair', 'su', 'art', 'a', 'turn', 'go', 'loved', 'They', '##rov', 'a', 'principal', 'voice', '2', 'II', ';', '##iding', 'others', 'be', 'that', 'but', 'choice', 'hanging', '-', 'this', 'doubt', 'reply', 'then', 'appeared', 'Love', 'air', 'parts', 'governor', 'change', 'hear', 'themselves', 'English']\n",
      "bad_words ['##s', 'tongue', 'themselves', 'effect', 'effect', 'audience', 'matches', 'CH', 'su', 'a', 'some', 'meeting', '##rov', 'either', '##resh', '2', 'If', 'if', 'likewise', 'did', 'so', 'she', 'hear', 'v', 'either', 'or', '-', 'reply', 'he', 'kindness', 'air', 'governor', 'change', 'Oct', 'themselves', 'English']\n",
      "bad_words ['take', 'banner', 'opposition', 'themselves', 'What', 'effect', 'effect', 'audience', 'saying', 'a', 'to', 'some', ',', ']', 'opinion', 'sentence', 'principal', 'has', 'broken', ',', 'silent', '2', 'strokes', 'Which', 'did', 'judgement', 'hear', 'are', 'or', 'this', 'doubt', 'reply', 'without', 'the', 'but', 'speaks', 'themselves', 'English']\n",
      "bad_words ['opposition', 'themselves', 'and', 'Malcolm', 'speaking', 'head', 'CH', 'a', 'offended', 'act', ']', 'phrase', 'times', 'silent', '2', 'If', 'strokes', 'if', 'some', '-', 'is', ';', 'what', '.', 'like', 'hear', 'that', '##AP', 'the', 'quarter', 'then', 'otherwise', 'Guillaume', 'but', 'presence', 'themselves', 'English']\n",
      "bad_words ['.', 'word', 'lover', 'themselves', 'effect', 'thing', 'consequence', 'lacking', '##AP', 'Who', 'has', 'turn', '?', 'Speak', ']', 'lay', 'will', '[UNK]', 'saying', '2', ':', 'some', 'if', 'what', 'architect', 'like', 'also', ':', '-', ')', 'doubt', 'some', 'otherwise', 'Guillaume', ':', 'themselves', 'Poets']\n",
      "bad_words ['tongue', 'same', '##on', 'saying', '##H', 'art', 'This', 'that', '[UNK]', 'CH', 'CH', 'What', 'if', '##st', '2', '?', 'opinion', \"'\", 'so', 'pen', ';', 'spirit', 'discretion', 'bathing', 'are', 'negative', '##am', 'otherwise', 'not', 'also', 'will']\n"
     ]
    },
    {
     "data": {
      "text/html": [
       ". If you have a lover, and he have but a tongue for you:-- Horace, say the <span style=\"color: rgba(0,0,255,1)\">same</span>, and say the opinion of-------and the effect<span style=\"color: rgba(0,0,255,1)\">on</span>,'be in question with me;<span style=\"color: rgba(0,0,255,1)\">'</span>and, <span style=\"color: rgba(0,0,255,1)\">saying</span>,'a consequence lacking of sense, may have some opinion, CHAP. X<span style=\"color: rgba(0,0,255,1)\">H</span>.'art speak?'And some opinion,'or, turn the head? Speak, and he speaks---- And they say, it is not for a love, which he imposes to <span style=\"color: rgba(0,0,255,1)\">those</span> who were offended? <span style=\"color: rgba(0,0,255,1)\">This</span> <span style=\"color: rgba(0,0,255,1)\">may</span> be. They suppose that <span style=\"color: rgba(0,0,255,1)\">I</span> have an opinion: A meeting,--,.'I act,'''or, to say,'that, will.'The [UNK]-- at that <span style=\"color: rgba(0,0,255,1)\">time</span> <span style=\"color: rgba(0,0,255,1)\">voice</span> is broken: <span style=\"color: rgba(0,0,255,1)\">CH</span>AP. CHAP<span style=\"color: rgba(0,0,255,1)\">.</span> What,'<span style=\"color: rgba(0,0,255,1)\">if</span>st to say,'and the rest of the body, saying,---- <span style=\"color: rgba(0,0,255,1)\">2</span><span style=\"color: rgba(0,0,255,1)\">?</span><span style=\"color: rgba(0,0,255,1)\">.</span> -: If. She will, opinion if, I,', the the,, -',,---say is not <span style=\"color: rgba(0,0,255,1)\">so</span>?<span style=\"color: rgba(0,0,255,1)\">,</span> pen And<span style=\"color: rgba(0,0,255,1)\">;</span> spirit that it,, he discretion,-bathing,:-- -. <span style=\"color: rgba(0,0,255,1)\">are</span>-- that who,, negative.-<span style=\"color: rgba(0,0,255,1)\">-</span>.<span style=\"color: rgba(0,0,255,1)\">am</span>'say,<span style=\"color: rgba(0,0,255,1)\">.</span>'<span style=\"color: rgba(0,0,255,1)\">,</span>, I some then;', <span style=\"color: rgba(0,0,255,1)\">otherwise</span> -; The<span style=\"color: rgba(0,0,255,1)\">'</span>the, not-the speaks <span style=\"color: rgba(0,0,255,1)\">the</span> -.: is -,'' but: <span style=\"color: rgba(0,0,255,1)\">also</span>, The"
      ],
      "text/plain": [
       "<IPython.core.display.HTML object>"
      ]
     },
     "metadata": {},
     "output_type": "display_data"
    },
    {
     "data": {
      "text/html": [
       ". If you have a lover, and he have but a tongue for you:-- Horace, say the <span style=\"color: rgba(255,0,0,0.6120309829711914)\">word</span>, and say the opinion of-------and the effect<span style=\"color: rgba(255,0,0,0.5843009352684021)\">ing</span>,'be in question with me;<span style=\"color: rgba(255,0,0,0.9980744123458862)\">'</span>and, <span style=\"color: rgba(255,0,0,0.5880155563354492)\">again</span>,'a consequence lacking of sense, may have some opinion, CHAP. X<span style=\"color: rgba(255,0,0,0.759405255317688)\">X</span>.'art speak?'And some opinion,'or, turn the head? Speak, and he speaks---- And they say, it is not for a love, which he imposes to <span style=\"color: rgba(255,0,0,0.9843587875366211)\">those</span> who were offended? <span style=\"color: rgba(255,0,0,0.5539475083351135)\">They</span> <span style=\"color: rgba(255,0,0,0.5973518490791321)\">not</span> be. They suppose that <span style=\"color: rgba(255,0,0,0.6688658595085144)\">may</span> have an opinion: A meeting,--,.'I act,'''or, to say,'that, will.'The [UNK]-- at that <span style=\"color: rgba(255,0,0,0.5649029016494751)\">time</span> <span style=\"color: rgba(255,0,0,0.5750736594200134)\">that</span> is broken: <span style=\"color: rgba(255,0,0,0.9462999105453491)\">CH</span>AP. CHAP<span style=\"color: rgba(255,0,0,0.9501762390136719)\">.</span> What,'<span style=\"color: rgba(255,0,0,0.5391153693199158)\">who</span>st to say,'and the rest of the body, saying,----<span style=\"color: rgba(255,0,0,0.9643971920013428)\">-</span><span style=\"color: rgba(255,0,0,0.838290810585022)\">-</span><span style=\"color: rgba(255,0,0,0.9609520435333252)\">-</span>-: If. She will, opinion if, I,', the the,, -',,---say is not <span style=\"color: rgba(255,0,0,0.8140150904655457)\">-</span>? <span style=\"color: rgba(255,0,0,0.5366420149803162)\">And</span> pen And <span style=\"color: rgba(255,0,0,0.7358987331390381)\">they</span> spirit that it,, he discretion,-bathing,:-- -. <span style=\"color: rgba(255,0,0,0.9804235696792603)\">those</span>-- that who,, negative. -<span style=\"color: rgba(255,0,0,0.8936671018600464)\">.</span>. <span style=\"color: rgba(255,0,0,0.9572566747665405)\">-</span>'say,<span style=\"color: rgba(255,0,0,0.9948077201843262)\">,</span>'<span style=\"color: rgba(255,0,0,0.5467449426651001)\">I</span>, I some then;', <span style=\"color: rgba(255,0,0,0.5882847309112549)\">all</span> -; The <span style=\"color: rgba(255,0,0,0.5339138507843018)\">mouth</span> the, not-the speaks <span style=\"color: rgba(255,0,0,0.5462457537651062)\">he</span> -.: is -,'' but: <span style=\"color: rgba(255,0,0,0.9596828818321228)\">-</span>, The <span style=\"color: rgba(255,0,0,0.567150890827179)\">or</span>"
      ],
      "text/plain": [
       "<IPython.core.display.HTML object>"
      ]
     },
     "metadata": {},
     "output_type": "display_data"
    },
    {
     "name": "stdout",
     "output_type": "stream",
     "text": [
      "bad_words ['he', 'tongue', 'Horace', '##ion', 'privately', 'CH', 'art', 'Speak', 'speaks', 'This', '.', 'might', '[UNK]', ',', 'epithet', 'gal', '##st', 'and', 'opinion', '##ifice', 'but', 'pen', 'she', 'spirit', 'discretion', 'bathing', 'negative', '.', \"'\", 'Ten', 'men', 'workers', \"'\", '.']\n",
      "bad_words ['tongue', 'Open', ':', 'therefore', 'we', 'q', 'You', '.', 'So', 'meeting', '[UNK]', 'epithet', 'gal', 'or', '—', '##ifice', 'pen', 'cannot', 'discretion', 'proper', 'statements', 'negative', 'They', 'men', 'workers', 'adds', 'The']\n",
      "bad_words [\"'\", 'that', 'effect', '##in', 'question', 'smiling', 'L', 'turn', 'If', 'cheer', 'she', 'dim', 'voice', '-', 'say', '##ifice', 'Bass', 'says', 'proper', 'statements', 'They', 'reason', ';', 'workers', ';', 'point', 'adds', 'therefore']\n",
      "bad_words ['tongue', 'Open', 'effect', 'translate', '40', 'And', 'say', 'protest', 'to', 'meaning', 's', 'weak', 'spirit', 'broken', 'CH', 'gal', '##st', 'the', 'not', 'If', 'Bass', 'say', 'refusal', 'statements', 'say', 'reason', 'workers', 'one', 'adds', 'therefore']\n",
      "bad_words ['thought', 'Open', 'if', 'will', '40', 'which', 'regard', 'This', 'an', 'expression', 'patient', 'weak', 'point', 'forty', '##AP', 'That', '##st', '##rt', 'or', 'men', 'refusal', 'be', 'Toy', '##AP', 'but', 'these', '##7', ';', 'nations', ';', 'adds', '4', 'therefore']\n",
      "bad_words ['Open', 'v', 'effect', 'him', 'cent', 'head', 'is', 'that', 'singular', 'act', 'then', '##AP', '##AP', '##st', '##rt', 'answer', '?', 'And', 'that', 'refusal', 'favor', 'She', 'Q', '##AP', ';', 'you', 'whoever', 'and', 'Toy', 'adds', 'or', 'petty']\n",
      "bad_words ['against', 'Open', 'his', 'intimate', 'cent', 'opinion', 'is', 'regard', 'done', 'proper', 'act', 'The', 'then', 'has', 'broken', '##AP', '##AP', '##st', 'If', 'to', 'answer', 'consequence', 'If', 'men', 'she', 'state', 'favor', 'that', ';', 'pray', 'he', 'for', 'the', 'be', ';', 'The', 'finally', 'adds', 'her', 'petty']\n",
      "bad_words ['thought', 'said', 'effect', 'intimate', 'exploit', 'cent', '##X', 'body', 'Speak', 'regard', '##posed', 'done', 'society', 'Mean', 'broken', '##AP', '##uad', 'What', '##st', 'another', 'I', 'She', ':', 'engagements', 'is', 'If', '##dge', '##re', 'state', 'choice', 'those', 'However', 'loved', '##n', 'for', '\"', 'finally', 'one', 'adds', ',', 'petty']\n",
      "bad_words ['Ah', 'effect', 'intimate', 'even', 'exploit', '##AP', '##ur', 'act', '##e', 'Speak', '##posed', 'done', 'word', \"'\", 'Turks', 'a', 'What', 'to', 'Sultan', 'he', 'death', 'She', 'made', ':', 'trusted', 'say', 'She', 'engagements', \"'\", 'if', '##dge', 'alone', 'it', 'very', 'the', 'conflict', 'passive', 'not', 'However', 'loved', '##uin', 'Your', 'finally', 'people', 'adds', 'is', ':']\n",
      "bad_words ['thought', '’', 'effect', 'intimate', 'a', 'leagues', ':', 'sentence', 'really', 'regard', '##s', 'become', 'this', 'Sultan', 'has', 'broken', 'Turks', '##uant', 'That', 'not', 'trusted', 'said', 'engagements', '##dge', 'And', 'posture', 'conflict', 'passive', 'acts', 'In', '##uin', 'him', 'Your', 'if', 'finally', 'adds', 'is', '##AP', ':']\n"
     ]
    },
    {
     "data": {
      "text/html": [
       "- If you have a lover, you will have but a <span style=\"color: rgba(0,0,255,1)\">thought</span> against you:--’, say his <span style=\"color: rgba(0,0,255,1)\">word</span>, and say the opinion of-------and, effectin,'be in <span style=\"color: rgba(0,0,255,1)\">intimate</span> with me;'and, if,'a consequence<span style=\"color: rgba(0,0,255,1)\">'</span>of him, we have <span style=\"color: rgba(0,0,255,1)\">a</span> <span style=\"color: rgba(0,0,255,1)\">leagues</span>, qAP.<span style=\"color: rgba(0,0,255,1)\">:</span> act.'You speak?'and some sentence,'or, say the body.', and he----'And they say, it is <span style=\"color: rgba(0,0,255,1)\">not</span> <span style=\"color: rgba(0,0,255,1)\">really</span> a love, and it <span style=\"color: rgba(0,0,255,1)\">regard</span>s to <span style=\"color: rgba(0,0,255,1)\">those</span> who reposed? Which may be, I suppose, might have become this: A word,-- act.'I act, and'' or she to say,'that you <span style=\"color: rgba(0,0,255,1)\">will</span>.''---at that the <span style=\"color: rgba(0,0,255,1)\">Sultan</span> <span style=\"color: rgba(0,0,255,1)\">has</span> broken: <span style=\"color: rgba(0,0,255,1)\">Turks</span>AP, quant. What,'That to tort,'answered the rest of the Sultan, saying,---------death. She to be and made not <span style=\"color: rgba(0,0,255,1)\">trusted</span> said'She <span style=\"color: rgba(0,0,255,1)\">the</span> the<span style=\"color: rgba(0,0,255,1)\">,</span>: engagements', if-<span style=\"color: rgba(0,0,255,1)\">-</span>-- is not one. Idge And posture say that it,, said the,-then, <span style=\"color: rgba(0,0,255,1)\">conflict</span>-<span style=\"color: rgba(0,0,255,1)\">passive</span> -: not-acts that In<span style=\"color: rgba(0,0,255,1)\">,</span> <span style=\"color: rgba(0,0,255,1)\">q</span>,.uin',-I say,,'him, I <span style=\"color: rgba(0,0,255,1)\">for</span> the;'I <span style=\"color: rgba(0,0,255,1)\">Your</span>-if The finally the, not -; with adds <span style=\"color: rgba(0,0,255,1)\">-</span><span style=\"color: rgba(0,0,255,1)\">.</span>: <span style=\"color: rgba(0,0,255,1)\">is</span> -,<span style=\"color: rgba(0,0,255,1)\">'</span>or but,<span style=\"color: rgba(0,0,255,1)\">AP</span>,:"
      ],
      "text/plain": [
       "<IPython.core.display.HTML object>"
      ]
     },
     "metadata": {},
     "output_type": "display_data"
    },
    {
     "data": {
      "text/html": [
       "- If you have a lover, you will have but a <span style=\"color: rgba(255,0,0,0.5601613521575928)\">word</span> against you:--’, say his <span style=\"color: rgba(255,0,0,0.5486486554145813)\">opinion</span>, and say the opinion of-------and, effectin,'be in <span style=\"color: rgba(255,0,0,0.6107568740844727)\">love</span> with me;'and, if,'a consequence<span style=\"color: rgba(255,0,0,0.6691892147064209)\">'</span>of him, we have <span style=\"color: rgba(255,0,0,0.6657402515411377)\">the</span> <span style=\"color: rgba(255,0,0,0.5752385854721069)\">together</span>, qAP. <span style=\"color: rgba(255,0,0,0.8243088126182556)\">The</span> act.'You speak?'and some sentence,'or, say the body.', and he----'And they say, it is <span style=\"color: rgba(255,0,0,0.5230128169059753)\">reason</span> <span style=\"color: rgba(255,0,0,0.5860645771026611)\">of</span> a love, and it <span style=\"color: rgba(255,0,0,0.648005485534668)\">cease</span>s to <span style=\"color: rgba(255,0,0,0.7251603603363037)\">those</span> who reposed? Which may be, I suppose, might have become this: A word,-- act.'I act, and'' or she to say,'that you <span style=\"color: rgba(255,0,0,0.5386583805084229)\">do</span>.''---at that the <span style=\"color: rgba(255,0,0,0.5370534062385559)\">word</span> <span style=\"color: rgba(255,0,0,0.781581699848175)\">was</span> broken: <span style=\"color: rgba(255,0,0,0.9771724939346313)\">q</span>AP, quant. What,'That to tort,'answered the rest of the Sultan, saying,---------death. She to be and made not <span style=\"color: rgba(255,0,0,0.5350332260131836)\">of</span> said'She <span style=\"color: rgba(255,0,0,0.6488392353057861)\">said</span> the<span style=\"color: rgba(255,0,0,0.8689082860946655)\">,</span>: engagements', if-<span style=\"color: rgba(255,0,0,0.9166467785835266)\">-</span>-- is not one. Idge And posture say that it,, said the,-then,<span style=\"color: rgba(255,0,0,0.6476226449012756)\">-</span>- <span style=\"color: rgba(255,0,0,0.8886550664901733)\">the</span> -: not-acts that In <span style=\"color: rgba(255,0,0,0.8465734720230103)\">q</span> <span style=\"color: rgba(255,0,0,0.9609353542327881)\">q</span>,.uin',-I say,,'him, I <span style=\"color: rgba(255,0,0,0.5599837303161621)\">die</span> the;'I <span style=\"color: rgba(255,0,0,0.5712919235229492)\">die</span>-if The finally the, not -; with adds <span style=\"color: rgba(255,0,0,0.7806121110916138)\">was</span> <span style=\"color: rgba(255,0,0,0.5986189842224121)\">-</span>: <span style=\"color: rgba(255,0,0,0.9500250816345215)\">q</span> -,<span style=\"color: rgba(255,0,0,0.7748016715049744)\">-</span>or but, <span style=\"color: rgba(255,0,0,0.5127649903297424)\">-</span>,:."
      ],
      "text/plain": [
       "<IPython.core.display.HTML object>"
      ]
     },
     "metadata": {},
     "output_type": "display_data"
    },
    {
     "name": "stdout",
     "output_type": "stream",
     "text": [
      "bad_words ['woman', '’', 'Peace', 'effect', 'dance', 'sake', 'be', 'conversation', 'spoken', 'in', 'duration', 'do', 'at', 'situation', '=', '##uant', 'made', 'said', 'She', 'substitute', 'engagements', 'if', '##dge', 'posture', 'not', 'that', 'In', '##uin', 'him', 'forget', 'I', 'finally', 'adds', '##ze', 'and', 'your', 'x']\n",
      "bad_words ['’', 'health', 'opinion', 'em', '##in', 'sake', '##d', '##AP', 'sentence', 'shaken', 'duration', 'In', 'at', '=', 'That', 'satisfaction', 'She', 'Get', 'consulted', 'said', '##ici', 'when', 'posture', 'may', 'forget', \"'\", 'finally', 'adds', 'as', '##ual']\n",
      "bad_words ['naked', 'say', 'health', 'can', 'opinion', 'but', 'consequence', 'sake', 'sentence', 'wise', ':', 'ours', 'In', '##posed', 'sufficient', 'or', 'that', 'broken', '##AP', 'it', 'death', 'mine', '##ici', 'are', 'mi', 'made', 'q', 'the', 'die', 'But', 'Courts', 'adds', 'said', '##ual']\n",
      "bad_words ['You', '##d', 'sentence', 'Put', 'In', '##posed', 'merely', 'And', 'understood', 'What', 'place', 'The', 'mine', 'then', 'Un', 'mi', 'this', 'yesterday', 'acts', 'q', '.', '##uin', 'may', 'as', 'that', '-', 'Senate', 'word', 'said', '##ual', 'T']\n",
      "bad_words ['health', 'have', '##se', '##uant', 'sentence', 'judgment', 'Put', 'In', '##posed', 'sufficient', '##ce', 'present', '##ion', '##uant', 'Council', 'how', 'or', 'All', 'mine', 'I', 'First', 'means', 'mi', ';', 'q', 'Persons', 'that', 'say', 'But', '##ual', 'And']\n",
      "bad_words ['lover', 'woman', 'other', 'bit', '##se', 'You', 'men', 'sentence', 'government', 'Put', 'what', 'virtue', 'employed', '##ua', 'Against', 'how', 'saying', 'mine', 'same', 'means', 'mi', 'made', ';', 'then', 'answers', 'Some', '##uo', 'that', 'q', 'Peace', '##uo', '##illa']\n",
      "bad_words ['vision', 'other', '##se', '##uant', '##cz', 'wise', 'sentence', 'mouth', 'Put', 'perhaps', 'worn', 'Against', \"'\", 'mine', 'then', 'discourse', 'matter', 'consent', 'made', '\"', 'therefore', 'answers', 'by', 'q', 'give', 'these', 'Peace', 'word', '##uo', \"'\"]\n",
      "bad_words ['other', '##se', 'speaking', 'have', 'that', 'authority', ',', 'or', 'worn', 'Gentlemen', 'satisfaction', 'and', 'another', 'discourse', 'consent', 'made', '\"', 'doubt', ':', 'give', 'hearts', 'attacking', '##uin', 'we', 'and']\n",
      "bad_words ['other', 'his', 'fall', \"'\", 'bit', 'I', 'absurd', 'expression', '##s', 'that', 'that', '\"', 'changed', 'q', 'impulse', 'to', '##r', 'least', 'But', 'said', 'then', 'discourse', 'good', 'or', 'you', 'the', 'endure', 'give', 'say', 'this', '##uin', 'word', '##uin', '##uo', ')']\n",
      "bad_words ['other', 'shortly', \"'\", 'made', 'anything', 'have', 'be', '##uo', 'measure', 'on', ':', \"'\", 'how', 'harp', '.', 'to', 'not', 'or', 'discourse', 'against', 'that', 'that', 'good', 'of', 'by', 'give', 'good', 'this', 'these', 'vary', 'half', ',', '##uin', '##uo']\n"
     ]
    },
    {
     "data": {
      "text/html": [
       "- If you have a vision, you may have but a woman as you:-- You, other than <span style=\"color: rgba(0,0,255,1)\">health</span>, can say, that of-------and<span style=\"color: rgba(0,0,255,1)\">,</span> em<span style=\"color: rgba(0,0,255,1)\">in</span>,'<span style=\"color: rgba(0,0,255,1)\">shortly</span> in love with you;'but, if <span style=\"color: rgba(0,0,255,1)\">you</span>'a bit <span style=\"color: rgba(0,0,255,1)\">made</span> of anything, I <span style=\"color: rgba(0,0,255,1)\">have</span> be absurd, ifuo. The act.'What wise?'and some <span style=\"color: rgba(0,0,255,1)\">measure</span><span style=\"color: rgba(0,0,255,1)\">,</span>'or to say the body.', and---- -'And to say, one is wise in a mouth: and it haves to that on this virtue? Which may say, I suppose, might have become this: A word,-- -.'I act, and'' or, to <span style=\"color: rgba(0,0,255,1)\">say</span>,'that you do. \"'--- or that <span style=\"color: rgba(0,0,255,1)\">the</span> word be<span style=\"color: rgba(0,0,255,1)\">:</span>:'', to<span style=\"color: rgba(0,0,255,1)\">r</span>. -,'or, <span style=\"color: rgba(0,0,255,1)\">how</span>rt,'answered the harp of the Sultan, and-------- -'-.-to <span style=\"color: rgba(0,0,255,1)\">say</span> and, <span style=\"color: rgba(0,0,255,1)\">not</span>,:', or the,:<span style=\"color: rgba(0,0,255,1)\">-</span>another <span style=\"color: rgba(0,0,255,1)\">discourse</span> <span style=\"color: rgba(0,0,255,1)\">against</span>'--that is not <span style=\"color: rgba(0,0,255,1)\">one</span>. I',, say that <span style=\"color: rgba(0,0,255,1)\">good</span>,, said the of-you,<span style=\"color: rgba(0,0,255,1)\">-</span>- the-the,--'' <span style=\"color: rgba(0,0,255,1)\">by</span> -.. <span style=\"color: rgba(0,0,255,1)\">give</span>',-I good,,'this, these <span style=\"color: rgba(0,0,255,1)\">vary</span> that'''say -'--the, not -; <span style=\"color: rgba(0,0,255,1)\">half</span>,<span style=\"color: rgba(0,0,255,1)\">,</span> and:<span style=\"color: rgba(0,0,255,1)\">-</span>-,<span style=\"color: rgba(0,0,255,1)\">-</span>uin but,uo--"
      ],
      "text/plain": [
       "<IPython.core.display.HTML object>"
      ]
     },
     "metadata": {},
     "output_type": "display_data"
    },
    {
     "data": {
      "text/html": [
       "- If you have a vision, you may have but a woman as you:-- You, other than <span style=\"color: rgba(255,0,0,0.6380451321601868)\">you</span>, can say, that of-------and <span style=\"color: rgba(255,0,0,0.6708354949951172)\">to</span> em<span style=\"color: rgba(255,0,0,0.7159635424613953)\">it</span>,'<span style=\"color: rgba(255,0,0,0.5661688446998596)\">is</span> in love with you;'but, if <span style=\"color: rgba(255,0,0,0.6944221258163452)\">I</span>'a bit <span style=\"color: rgba(255,0,0,0.5887834429740906)\">thought</span> of anything, I <span style=\"color: rgba(255,0,0,0.7069577574729919)\">should</span> be absurd, ifuo. The act.'What wise?'and some <span style=\"color: rgba(255,0,0,0.5446029305458069)\">nerve</span><span style=\"color: rgba(255,0,0,0.9484938383102417)\">,</span>'or to say the body.', and---- -'And to say, one is wise in a mouth: and it haves to that on this virtue? Which may say, I suppose, might have become this: A word,-- -.'I act, and'' or, to <span style=\"color: rgba(255,0,0,0.810537576675415)\">say</span>,'that you do. \"'--- or that <span style=\"color: rgba(255,0,0,0.954304039478302)\">the</span> word be <span style=\"color: rgba(255,0,0,0.5773679614067078)\">added</span>:'', to <span style=\"color: rgba(255,0,0,0.6529848575592041)\">say</span>. -,'or, <span style=\"color: rgba(255,0,0,0.6230377554893494)\">to</span>rt,'answered the harp of the Sultan, and-------- -'-.-to <span style=\"color: rgba(255,0,0,0.7382809519767761)\">say</span> and, <span style=\"color: rgba(255,0,0,0.7098985314369202)\">-</span>,:', or the,: <span style=\"color: rgba(255,0,0,0.5557796955108643)\">another</span> another <span style=\"color: rgba(255,0,0,0.5904070138931274)\">words</span><span style=\"color: rgba(255,0,0,0.9241704940795898)\">,</span>'--that is not <span style=\"color: rgba(255,0,0,0.5874818563461304)\">speaking</span>. I',, say that <span style=\"color: rgba(255,0,0,0.5646929740905762)\">-</span>,, said the of-you,<span style=\"color: rgba(255,0,0,0.6435188055038452)\">:</span>-the-the,--'' <span style=\"color: rgba(255,0,0,0.6241601705551147)\">To</span> -.. <span style=\"color: rgba(255,0,0,0.667058527469635)\">say</span>',-I good,,'this, these <span style=\"color: rgba(255,0,0,0.7255467176437378)\">say</span> that'''say -'--the, not -; <span style=\"color: rgba(255,0,0,0.5435753464698792)\">said</span>, <span style=\"color: rgba(255,0,0,0.5498818159103394)\">said</span> and: <span style=\"color: rgba(255,0,0,0.7091025710105896)\">said</span> -,<span style=\"color: rgba(255,0,0,0.7430540919303894)\">,</span>uin but,uo--."
      ],
      "text/plain": [
       "<IPython.core.display.HTML object>"
      ]
     },
     "metadata": {},
     "output_type": "display_data"
    },
    {
     "name": "stdout",
     "output_type": "stream",
     "text": [
      "bad_words ['em', 'Ask', 'fell', 'this', 'will', '##uo', 'wise', 'manner', '##s', 'that', 'have', 'this', 'you', 'harp', \"'\", '.', 'and', '.', 'us', 'word', 'that', 'phase', 'No', '.', 'based', 'good', 'this', 'word', 'word', 'him', 'given', '##uin', '##uo']\n",
      "bad_words ['that', 'em', '##bracing', 'men', 'speaking', 'think', 'absurd', 'pour', '##uo', 'value', 'her', 'it', 'relation', 'in', 'ambiguous', 'utter', 'saying', 'the', 'harp', '.', 'us', 'not', 'No', '.', 'speak', 'good', 'an', 'made', 'it', 'him', '##uin', 'noise']\n",
      "bad_words ['page', 'other', 'you', '##bracing', ';', 'anything', 'pour', '##uo', 'first', 'half', 'wise', 'shall', 'that', 'Which', '##vo', 'think', 'execute', '##rt', 'women', '.', 'to', \"'\", 'you', 'word', 'and', 'good', 'an', '##sist', 'word', 'given', 'I', 'noise', '.']\n",
      "bad_words ['others', '##bracing', 'will', 'this', 'pour', '##uo', 'word', 'without', 'sometimes', 'shall', '##vo', 'do', '\"', 'Point', 'never', 'language', ':', 'good', 'these', 'speak', 'said', ';', 'and', \"'\", ',', '.']\n",
      "bad_words ['elsewhere', '##bracing', 'thing', 'will', 'ye', 'be', 'pour', '##uo', 'persons', ';', 'some', 'seem', 'expression', 'hear', '-', 'Point', 'opinion', 'these', '-', 'is', 'it', 'said', 'language', 'saying', '-', 'some', 'these', 'six', 'answered', 't', \"'\", 'the']\n",
      "bad_words ['elsewhere', 'ought', 'position', 'manner', ',', 'hence', '.', 'have', '##na', 'subject', 'suppose', 'seem', 'expression', '##rt', 'who', ':', 'opinion', 'not', 'word', 'and', 'either', 'board', '-', 'saying', 'some', 'these', 'better', 'happiness', 't']\n",
      "bad_words ['page', 'you', 'elsewhere', 'or', 'ought', 'absurd', 'choice', 'persons', 'more', 'intended', 'Reports', 'be', '##na', '##nt', 'suppose', 'might', 'the', 'or', 'states', 'ladies', 'Is', 'opinion', 'but', ';', 'is', 'dish', 'said', '##eth', 'Say', 'or', 'saying', 'dish', 'better', 'dams', 'say']\n",
      "bad_words ['moment', 'other', 'some', 'with', 'only', 'choice', 'Whatever', 'intended', 'Reports', 'say', 'wise', '##na', '[', 'on', 'Which', 'may', 'sacrifice', 'hear', ',', 'its', 'states', 'FA', ',', 'lets', 'say', '##mes', ',', 'say', 'word', '-', '-', 'dish', 'who', '##eth', 'Say', 'or', 'better', 'dams', 'now', 'Co']\n",
      "bad_words ['but', 'you', 'some', 'persons', 'whom', 'of', 'choice', 'persons', 'Council', 'Reports', 'knows', 'and', 'have', '##na', '[', 'that', 'seem', 'Sir', 'its', '\"', 'And', 'that', 'and', 'Amsterdam', 'and', '##ﬁ', 'said', 'Be', 'me', 'not', 'l', 'you', '##et', 'Say', 'is', 'better', 'not', 'now', 'Co']\n",
      "bad_words ['became', 'you', 'those', 'or', 'say', 'likewise', 'Council', 'Reports', 'knows', '##na', '[', 'seem', 'words', 'Bram', 'ring', 'say', 'then', 'word', 'said', 'Amsterdam', 'meaning', '##ﬁ', '##ctions', 'Be', 't', '’', 'l', 'then', 'you', '##et', 'Say', 'all', 'from', '-', 'But', 'say', 'now']\n"
     ]
    },
    {
     "data": {
      "text/html": [
       "<span style=\"color: rgba(0,0,255,1)\">-</span> If you have a page, you may have <span style=\"color: rgba(0,0,255,1)\">became</span> a word as you:-- You, other than you, may say, that some persons------ and those you say,'fell in love with you,'or, if'' a word will please you, I think, only.'or. The act.'What say?'and some more,'likewise, say the body<span style=\"color: rgba(0,0,255,1)\">.</span>'Council; Reports----'And to say, one knows and in a mouth: and it havena <span style=\"color: rgba(0,0,255,1)\">[</span> that on the subject? Which you say<span style=\"color: rgba(0,0,255,1)\">,</span> I suppose, might might <span style=\"color: rgba(0,0,255,1)\">seem</span> the: A word words-- -.'I act, Bram', or, to hear,'that you do.'', -'or <span style=\"color: rgba(0,0,255,1)\">that</span> <span style=\"color: rgba(0,0,255,1)\">ring</span> might be <span style=\"color: rgba(0,0,255,1)\">say</span>: <span style=\"color: rgba(0,0,255,1)\">\"</span>'' to-- -,'<span style=\"color: rgba(0,0,255,1)\">then</span>, tort,'answered <span style=\"color: rgba(0,0,255,1)\">the</span> word of the Sultan, and then--------<span style=\"color: rgba(0,0,255,1)\">-</span>-,'said <span style=\"color: rgba(0,0,255,1)\">Amsterdam</span>', -, meaningﬁ,ctions the, <span style=\"color: rgba(0,0,255,1)\">Be</span> t another--<span style=\"color: rgba(0,0,255,1)\">’</span><span style=\"color: rgba(0,0,255,1)\">-</span>- that-not <span style=\"color: rgba(0,0,255,1)\">l</span>. I<span style=\"color: rgba(0,0,255,1)\">'</span><span style=\"color: rgba(0,0,255,1)\">then</span>, say to -,, <span style=\"color: rgba(0,0,255,1)\">who</span> the of-<span style=\"color: rgba(0,0,255,1)\">you</span>, <span style=\"color: rgba(0,0,255,1)\">not</span>-the<span style=\"color: rgba(0,0,255,1)\">et</span> the,--'', Say or'-, all -<span style=\"color: rgba(0,0,255,1)\">,</span> -,,,',, from say-- <span style=\"color: rgba(0,0,255,1)\">But</span> say -'--the, not -'word,; and: <span style=\"color: rgba(0,0,255,1)\">say</span> <span style=\"color: rgba(0,0,255,1)\">now</span>,-I---say -"
      ],
      "text/plain": [
       "<IPython.core.display.HTML object>"
      ]
     },
     "metadata": {},
     "output_type": "display_data"
    },
    {
     "data": {
      "text/html": [
       "<span style=\"color: rgba(255,0,0,0.6972450017929077)\">-</span> If you have a page, you may have <span style=\"color: rgba(255,0,0,0.5301638841629028)\">that</span> a word as you:-- You, other than you, may say, that some persons------ and those you say,'fell in love with you,'or, if'' a word will please you, I think, only.'or. The act.'What say?'and some more,'likewise, say the body<span style=\"color: rgba(255,0,0,0.693922758102417)\">,</span>'Council; Reports----'And to say, one knows and in a mouth: and it havena <span style=\"color: rgba(255,0,0,0.5813634991645813)\">all</span> that on the subject? Which you say<span style=\"color: rgba(255,0,0,0.9974449872970581)\">,</span> I suppose, might might <span style=\"color: rgba(255,0,0,0.8650835752487183)\">be</span> the: A word words-- -.'I act, Bram', or, to hear,'that you do.'', -'or<span style=\"color: rgba(255,0,0,0.657189667224884)\">,</span><span style=\"color: rgba(255,0,0,0.6406306028366089)\">,</span> might be <span style=\"color: rgba(255,0,0,0.7717180252075195)\">said</span>: <span style=\"color: rgba(255,0,0,0.6059920787811279)\">-</span>'' to-- -,'<span style=\"color: rgba(255,0,0,0.556709349155426)\">and</span>, tort,'answered <span style=\"color: rgba(255,0,0,0.7416802048683167)\">the</span> word of the Sultan, and then--------<span style=\"color: rgba(255,0,0,0.8885809183120728)\">-</span>-,'said <span style=\"color: rgba(255,0,0,0.5493233799934387)\">he</span>', -, meaningﬁ,ctions the,<span style=\"color: rgba(255,0,0,0.785004734992981)\">,</span> t another--<span style=\"color: rgba(255,0,0,0.5795815587043762)\">'</span><span style=\"color: rgba(255,0,0,0.7843244075775146)\">'</span>-that-not<span style=\"color: rgba(255,0,0,0.9012213945388794)\">,</span>. I <span style=\"color: rgba(255,0,0,0.530656099319458)\">you</span><span style=\"color: rgba(255,0,0,0.6125980615615845)\">'</span>, say to -,, <span style=\"color: rgba(255,0,0,0.5711504220962524)\">not</span> the of-<span style=\"color: rgba(255,0,0,0.5551883578300476)\">-</span>, <span style=\"color: rgba(255,0,0,0.5747318863868713)\">not</span>-the <span style=\"color: rgba(255,0,0,0.5842271447181702)\">all</span> the,--'', Say or'-, all-<span style=\"color: rgba(255,0,0,0.5679126977920532)\">and</span> -,,,',, from say--<span style=\"color: rgba(255,0,0,0.6048370599746704)\">-</span>say -'--the, not -'word,; and: <span style=\"color: rgba(255,0,0,0.771680474281311)\">-</span><span style=\"color: rgba(255,0,0,0.753883957862854)\">'</span>,-I---say--"
      ],
      "text/plain": [
       "<IPython.core.display.HTML object>"
      ]
     },
     "metadata": {},
     "output_type": "display_data"
    },
    {
     "name": "stdout",
     "output_type": "stream",
     "text": [
      "bad_words [',', 'If', 'have', 'You', 'act', 'likewise', 'body', 'Council', 'Reports', 'knows', 'and', 'it', 'have', '##na', 'word', 'that', 'words', 'act', 'Bram', '!', 'but', 'lover', 'this', 'her', 'meaning', '##ﬁ', '##ctions', '-', 't', 'Men', 'not', ':', 'more', 'these', 'men', 'be', 'fit', 'Say', '-', 'all', 'from', 'the', 'say', '\"', 'I']\n",
      "bad_words [',', 'If', 'Some', 'please', 'or', 'act', 'likewise', 'title', 'Council', 'knows', 'it', ',', 'him', 'that', '?', 'words', 'admit', 'hear', ',', ';', 'said', 'Besides', 'flowers', 'battle', '##ctions', 'be', 't', 'Men', 'more', 'said', 'men', 'good', 'reason', 'fit', 'speaking', 'if', 'the', 'say', 'and', 'or']\n",
      "bad_words ['court', 'page', 'you', 'other', 'persons', 'whom', 'give', 'only', 'likewise', 'body', 'Council', 'knows', 'it', ',', 'is', 'that', 'mouth', 'A', 'words', 'act', 'then', 'judge', 'philosophy', \"'\", '“', 'but', 'Besides', '##rt', \"'\", \"'\", '##t', 'not', 't', 'Men', 'Toy', 'say', '-', 'then', 'men', 'good', 'reason', '##h', 'go', 'mouth', 'word', ';', \"'\", ',']\n",
      "bad_words ['choose', 'thing', 'may', '1', 'other', 'Pitt', 'give', 'you', 'act', 'likewise', 'Council', 'knows', 'it', 'have', 'what', 'man', 'suppose', 'its', 'act', 'pretended', 'philosophy', 'and', 'above', '“', 'but', 'turn', 'her', 'first', 'all', '##t', 'another', 'Men', 'Toy', 'say', 'self', 'men', 'good', 'reason', '##h', 'what', 'if', 'or', 'but', 'you', 'an', '##n']\n",
      "bad_words ['expect', '1', 'Pitt', 'himself', 'whom', '?', \"'\", 'more', 'likewise', 'mine', 'and', 'will', 'ever', 'world', 'its', 'pretended', 'fits', 'either', 'or', 'to', 'but', 'Instead', \"'\", '##rl', 'all', ':', '##t', 'the', 'another', 'word', 'Toy', 'self', 'men', 'good', ',', '##h', 'or', 'say', 'This', '-', 'an']\n",
      "bad_words ['take', 'reserve', 'Pitt', 'either', 'one', 'only', 'more', 'ladies', 'knows', 'in', 'of', 'world', 'meaning', 'its', 'or', 'fits', 'but', '[', '##rl', '##t', 'say', 'Toy', 'self', 'then', 'men', 'good', \"'\", '##h', 'mouth', 'feet', 'say', 'all', 'one']\n",
      "bad_words ['have', 'have', ',', 'those', 'Judges', 'trust', 'To', 'cap', 'is', 'of', 'well', \"'\", 'pretended', 'pretend', 'fits', 'to', 'but', '##rl', 'all', 'that', 'say', 'Toy', 'self', 'added', 'men', 'and', '##h', 'Man', 'simple', 'feet', 'judge', 'Too', 'or', 'gentlemen', 'I', 'but', 'say']\n",
      "bad_words ['If', 'have', 'better', \"'\", 'The', 'give', 'on', 'or', 'To', 'cap', 'put', 'well', 'word', 'judgment', 'fits', 'bell', 'her', 'of', 'who', 'a', 'speaking', 'hide', '.', 'Toy', 'Toy', 'added', 'men', 'meant', 'use', 'Man', \"'\", 'if', 'might', 'we', 'everyone', 'judge', 'Too', 'all', 'gentlemen', '-', 'virtue', 'succeeding', 'but']\n",
      "bad_words ['so', 'have', 'have', 'your', 'save', 'a', ';', 'Desire', 'cap', 'well', 'word', '-', 'judgment', 'fits', 'bell', 'he', 'Multi', 'who', 'another', 'use', 'and', 'hide', ',', 'two', 'of', 'Toy', 'added', 'attach', 'meant', 'Man', 'Say', 'stop', 'might', 'everyone', 'The', 'Too', 'F', 'one', 'succeeding', 'but']\n",
      "bad_words ['made', 'your', 'word', ',', 'pass', 'act', 'Desire', 'cap', 'world', 'well', 'word', 'says', 'speak', 'One', 'meeting', 'be', 'h', 'answered', 'Midlands', 'another', 'hide', 'Love', 'added', 'meant', 'Say', 'stop', 'one', 'The', 'Then', '##ray', 'F', 'succeeding']\n"
     ]
    },
    {
     "data": {
      "text/html": [
       "so if you reserve a word, may may have <span style=\"color: rgba(0,0,255,1)\">made</span> <span style=\"color: rgba(0,0,255,1)\">your</span> <span style=\"color: rgba(0,0,255,1)\">word</span> of speech:-- Some, better than you, may say, that some?'----- and those you,,'fell in love with you,'or,'<span style=\"color: rgba(0,0,255,1)\">pass</span>'a word to give <span style=\"color: rgba(0,0,255,1)\">you</span>, I think, on;'or. The act.'What say?'-'Desire,'ladies, say the body<span style=\"color: rgba(0,0,255,1)\">,</span>'mine;'--- -'And to say, your <span style=\"color: rgba(0,0,255,1)\">cap</span> and have a mouth: and you have what is put on <span style=\"color: rgba(0,0,255,1)\">the</span> <span style=\"color: rgba(0,0,255,1)\">world</span>? Which you say, I <span style=\"color: rgba(0,0,255,1)\">think</span><span style=\"color: rgba(0,0,255,1)\">,</span> might well be <span style=\"color: rgba(0,0,255,1)\">said</span>:'<span style=\"color: rgba(0,0,255,1)\">word</span>'---.'I do, then', or says to speak,'that they do.''--'One <span style=\"color: rgba(0,0,255,1)\">meeting</span>,'be said: <span style=\"color: rgba(0,0,255,1)\">-</span>'or <span style=\"color: rgba(0,0,255,1)\">to</span> <span style=\"color: rgba(0,0,255,1)\">h</span>--,'turn, tort,'<span style=\"color: rgba(0,0,255,1)\">answered</span> the word of the Sultan, and'--- -'' <span style=\"color: rgba(0,0,255,1)\">Midlands</span>-- -,'said he,,, and<span style=\"color: rgba(0,0,255,1)\">,</span>': a not,-the another'- and'- that-not hide, I Love', of,,,, added the of -', <span style=\"color: rgba(0,0,255,1)\">meant</span> -'-<span style=\"color: rgba(0,0,255,1)\">?</span>,--'' <span style=\"color: rgba(0,0,255,1)\">the</span>, <span style=\"color: rgba(0,0,255,1)\">Say</span>'<span style=\"color: rgba(0,0,255,1)\">stop</span> say if-or -,<span style=\"color: rgba(0,0,255,1)\">,</span>, one, we,,---The -'- <span style=\"color: rgba(0,0,255,1)\">Then</span> the, not-<span style=\"color: rgba(0,0,255,1)\">ray</span> or <span style=\"color: rgba(0,0,255,1)\">F</span>-and: -', one'- succeeding but say -"
      ],
      "text/plain": [
       "<IPython.core.display.HTML object>"
      ]
     },
     "metadata": {},
     "output_type": "display_data"
    },
    {
     "data": {
      "text/html": [
       "so if you reserve a word, may may have <span style=\"color: rgba(255,0,0,0.58024662733078)\">the</span> <span style=\"color: rgba(255,0,0,0.5474414229393005)\">some</span> <span style=\"color: rgba(255,0,0,0.5317432284355164)\">manner</span> of speech:-- Some, better than you, may say, that some?'----- and those you,,'fell in love with you,'or,'<span style=\"color: rgba(255,0,0,0.6404212713241577)\">,</span>'a word to give <span style=\"color: rgba(255,0,0,0.5963817834854126)\">me</span>, I think, on;'or. The act.'What say?'-'Desire,'ladies, say the body<span style=\"color: rgba(255,0,0,0.6560205221176147)\">,</span>'mine;'--- -'And to say, your <span style=\"color: rgba(255,0,0,0.5834358334541321)\">body</span> and have a mouth: and you have what is put on <span style=\"color: rgba(255,0,0,0.6899324655532837)\">you</span> <span style=\"color: rgba(255,0,0,0.5244660377502441)\">you</span>? Which you say, I <span style=\"color: rgba(255,0,0,0.6156637668609619)\">think</span><span style=\"color: rgba(255,0,0,0.8443135023117065)\">,</span> might well be <span style=\"color: rgba(255,0,0,0.7667663097381592)\">said</span>:'<span style=\"color: rgba(255,0,0,0.6475852131843567)\">or</span>'---.'I do, then', or says to speak,'that they do.''--'One <span style=\"color: rgba(255,0,0,0.7690571546554565)\">word</span>,'be said:<span style=\"color: rgba(255,0,0,0.9198809862136841)\">'</span>' or<span style=\"color: rgba(255,0,0,0.7098211050033569)\">,</span><span style=\"color: rgba(255,0,0,0.7581074833869934)\">'</span>- -,'turn, tort,'<span style=\"color: rgba(255,0,0,0.66588294506073)\">is</span> the word of the Sultan, and'--- -''<span style=\"color: rgba(255,0,0,0.601199209690094)\">-</span>---,'said he,,, and<span style=\"color: rgba(255,0,0,0.7053459882736206)\">,</span>': a not,-the another'- and'- that-not hide, I Love', of,,,, added the of -', <span style=\"color: rgba(255,0,0,0.6109206080436707)\">said</span> -'-<span style=\"color: rgba(255,0,0,0.6879839897155762)\">'</span>,--'' <span style=\"color: rgba(255,0,0,0.6983920335769653)\">-</span>,<span style=\"color: rgba(255,0,0,0.718523383140564)\">'</span>'<span style=\"color: rgba(255,0,0,0.7192479372024536)\">,</span> say if-or -,<span style=\"color: rgba(255,0,0,0.906028687953949)\">,</span>, one, we,,---The -'-<span style=\"color: rgba(255,0,0,0.8230296969413757)\">'</span>the, not-<span style=\"color: rgba(255,0,0,0.7220684289932251)\">word</span> or <span style=\"color: rgba(255,0,0,0.8206475973129272)\">word</span>-and: -', one'- succeeding but say -,"
      ],
      "text/plain": [
       "<IPython.core.display.HTML object>"
      ]
     },
     "metadata": {},
     "output_type": "display_data"
    },
    {
     "name": "stdout",
     "output_type": "stream",
     "text": [
      "bad_words ['so', 'reserve', 'put', 'some', 'Sal', 'better', 'then', 'collision', 'Desire', 'face', 'you', 'wit', ':', 'well', 'form', ':', 'hide', 'Love', 'added', 'replied', '-', 'she', '-', 'one', '##ification', 'succeeding']\n",
      "bad_words ['?', 'objects', '?', 'you', 'harmony', 'collision', 'What', 'Martial', 'ladies', 'fixed', 'you', 'you', 'herself', '\"', 'preference', 'be', '##lor', 'was', 'this', 'to', 'judge', 'esteem', 'thought', 'replied', 'that', 'she', 'if', '.', 'one', 'one', 'again']\n",
      "bad_words ['.', 'answer', 'give', 'all', 'say', 'Martial', 'ladies', 'V', 'feel', 'use', 'be', 'or', 'knowing', 'chose', 'goes', 'judge', 'replied', 'which', 'she', 'we', 'The', 'some', 'but']\n",
      "bad_words ['out', 'mused', ';', 'word', 'fixed', 'will', 'use', 'good', 'well', 'speak', 'by', 'Dialogue', 'Be', 'actress', 'replied', 'some', 'or', 'on', '-', 'side', 'and']\n",
      "bad_words ['alone', 'and', 'said', 'give', 'on', 'Soft', 'chosen', 'have', 'across', 'use', 'said', 'says', 'drink', 'addressed', '-', 'regretted', 'third', '-', 'you', 'but', 'of', 'as', 'your', 'stand', '?', 'affairs', 'another']\n",
      "bad_words ['put', 'objects', 'By', 'hands', 'whom', 'doubt', 'Half', 'twenty', 'mine', 'only', 'addressed', '\"', 'turn', 'and', 'understand', 'this', 'you', 'you', 'as', 'is', 'stand', 'say']\n",
      "bad_words ['turn', 'you', \"'\", 'must', 'Here', 'twenty', 'round', 'going', 'across', 'matter', 'addressed', 'preference', '1', 'third', 'speaking', 'next', '-', 'another', 'not', \"'\", 'is', 'if', 'one', '?', ':', 'not', ':', 'that']\n",
      "bad_words ['forms', 'Tell', 'more', 'act', 'Here', 'another', 'round', 'putting', 'helping', 'use', 'cannot', 'me', 'too', 'fire', 'By', 'speaking', 'from', '##s', '##bish', 'which', 'agreed', 'some', '?', 'opinion', 'opinion', 'recovered']\n",
      "bad_words ['forms', 'may', 'otherwise', 'think', 'must', 'Factor', 'reasons', 'Here', 'word', 'Three', 'feel', 'use', 'drink', 'reverse', 'thing', 'may', 'say', 'By', 'speaking', 'going', '##T', '##bish', ':', 'is', 'love', 'speak', 'thing', 'this', 'or', 'end']\n",
      "bad_words ['con', 'whom', 'have', 'think', 'Sultan', 'Here', 'birth', 'reserve', 'Which', 'man', \"'\", '.', 'reverse', 'Every', 'that', 'say', 'be', 'first', 'speaking', 'going', 'obstacle', 'Congress', 'love', 'When', 'we', 'one', 'another']\n"
     ]
    },
    {
     "data": {
      "text/html": [
       "<span style=\"color: rgba(0,0,255,1)\">,</span> if you <span style=\"color: rgba(0,0,255,1)\">say</span> a word, may may I put some <span style=\"color: rgba(0,0,255,1)\">con</span> of speech.-- Some, better than you, would say, that out,'--<span style=\"color: rgba(0,0,255,1)\">-</span>--'And you,,'fell in love with you,'or, otherwise,'a word, whom have all you think must doubt;'or. The <span style=\"color: rgba(0,0,255,1)\">Sultan</span>.'What reasons?'-'<span style=\"color: rgba(0,0,255,1)\">Here</span>,'<span style=\"color: rgba(0,0,255,1)\">birth</span>, say the word,'<span style=\"color: rgba(0,0,255,1)\">reserve</span>;'<span style=\"color: rgba(0,0,255,1)\">-</span>-- -'And to say, your face and have a mouth, and you know what is putting on <span style=\"color: rgba(0,0,255,1)\">of</span> <span style=\"color: rgba(0,0,255,1)\">you</span>? <span style=\"color: rgba(0,0,255,1)\">Which</span> will say, I feel man, well, too,'or'---.'I do, then', or, to <span style=\"color: rgba(0,0,255,1)\">say</span>,'that is <span style=\"color: rgba(0,0,255,1)\">reverse</span>.''--'Every <span style=\"color: rgba(0,0,255,1)\">thing</span> <span style=\"color: rgba(0,0,255,1)\">that</span> <span style=\"color: rgba(0,0,255,1)\">say</span> <span style=\"color: rgba(0,0,255,1)\">be</span> said:'' or'---,'fire, tort,'says the word of the Sultan, and'--- -<span style=\"color: rgba(0,0,255,1)\">'</span>''--By,'says the,, <span style=\"color: rgba(0,0,255,1)\">first</span>', <span style=\"color: rgba(0,0,255,1)\">speaking</span>:'the, going to's-<span style=\"color: rgba(0,0,255,1)\">-</span> you---I say, I obstacle <span style=\"color: rgba(0,0,255,1)\">-</span>, of,,,, -, of -',,--<span style=\"color: rgba(0,0,255,1)\">-</span>-,--'Congress,,'' you <span style=\"color: rgba(0,0,255,1)\">is</span> <span style=\"color: rgba(0,0,255,1)\">love</span>-- -,,, some,, that,-- <span style=\"color: rgba(0,0,255,1)\">-</span>:,-<span style=\"color: rgba(0,0,255,1)\">When</span>'the we, -, I word,': -', <span style=\"color: rgba(0,0,255,1)\">one</span>'- -: another,"
      ],
      "text/plain": [
       "<IPython.core.display.HTML object>"
      ]
     },
     "metadata": {},
     "output_type": "display_data"
    },
    {
     "data": {
      "text/html": [
       "<span style=\"color: rgba(255,0,0,0.8010046482086182)\">,</span> if you <span style=\"color: rgba(255,0,0,0.7016975283622742)\">say</span> a word, may may I put some <span style=\"color: rgba(255,0,0,0.5318527221679688)\">words</span> of speech.-- Some, better than you, would say, that out,'--<span style=\"color: rgba(255,0,0,0.9911940097808838)\">-</span>--'And you,,'fell in love with you,'or, otherwise,'a word, whom have all you think must doubt;'or. The <span style=\"color: rgba(255,0,0,0.5719184875488281)\">word</span>.'What reasons?'-'<span style=\"color: rgba(255,0,0,0.5358321070671082)\">Say</span>,'<span style=\"color: rgba(255,0,0,0.5127126574516296)\">Man</span>, say the word,'<span style=\"color: rgba(255,0,0,0.5159111022949219)\">that</span>;'<span style=\"color: rgba(255,0,0,0.8116317391395569)\">-</span>-- -'And to say, your face and have a mouth, and you know what is putting on <span style=\"color: rgba(255,0,0,0.5984801650047302)\">your</span> <span style=\"color: rgba(255,0,0,0.5755820870399475)\">mouth</span>? <span style=\"color: rgba(255,0,0,0.7771992683410645)\">I</span> will say, I feel man, well, too,'or'---.'I do, then', or, to <span style=\"color: rgba(255,0,0,0.7054643630981445)\">say</span>,'that is <span style=\"color: rgba(255,0,0,0.636480450630188)\">it</span>.''--'Every <span style=\"color: rgba(255,0,0,0.8785935640335083)\">word</span><span style=\"color: rgba(255,0,0,0.6349341869354248)\">'</span><span style=\"color: rgba(255,0,0,0.7331693172454834)\">'</span><span style=\"color: rgba(255,0,0,0.61604243516922)\">'</span>said:'' or'---,'fire, tort,'says the word of the Sultan, and'----<span style=\"color: rgba(255,0,0,0.6273324489593506)\">-</span>''-- By,'says the,, <span style=\"color: rgba(255,0,0,0.8233382105827332)\">Sultan</span>', <span style=\"color: rgba(255,0,0,0.7096542716026306)\">-</span>:'the, going to's-<span style=\"color: rgba(255,0,0,0.5210751295089722)\">No</span> you---I say, I obstacle<span style=\"color: rgba(255,0,0,0.9850683212280273)\">'</span>, of,,,, -, of -',,--<span style=\"color: rgba(255,0,0,0.8543096780776978)\">-</span>-,--'Congress,,'' you<span style=\"color: rgba(255,0,0,0.6659820079803467)\">-</span><span style=\"color: rgba(255,0,0,0.8318932056427002)\">-</span>-- -,,, some,, that,-- <span style=\"color: rgba(255,0,0,0.8606988191604614)\">-</span>:,-<span style=\"color: rgba(255,0,0,0.7705701589584351)\">-</span>'the we, -, I word,': -', <span style=\"color: rgba(255,0,0,0.7899236679077148)\">-</span>'- -: another,,"
      ],
      "text/plain": [
       "<IPython.core.display.HTML object>"
      ]
     },
     "metadata": {},
     "output_type": "display_data"
    },
    {
     "name": "stdout",
     "output_type": "stream",
     "text": [
      "bad_words ['want', 'things', 'whom', 'have', 'must', 'Sultan', 'if', 'Man', 'matter', \"'\", 'man', 'point', 'you', 'Every', 'thing', 'folding', '\"', '##rch', 'By', 'people', 'going', 'proposed', 'obstacle', 'Congress', '##var', 'we', 'another']\n",
      "bad_words ['after', 'whom', 'have', 'all', 'think', 'or', 'the', 'putting', 'People', 'so', 'Every', 'one', '-', 'ideas', '##rch', 'after', 'pitch', 'people', 'going', '##s', '\"', 'fires', 'surveyor', 'never', 'but', 'behave']\n",
      "bad_words ['or', 'proposed', 'when', 'would', 'pat', 'about', 'if', 'doctrine', 'And', 'clumsy', 'point', 'Without', 'trumpet', ',', 'Sultan', 'being', 'at', 'fires', 'surveyor', 'little', \"'\", ':', 'I']\n",
      "bad_words ['another', 'last', \"'\", 'otherwise', 'whom', 'betrayed', 'or', '##fuse', 'doctrine', 'laugh', '137', 'point', \"'\", 'letter', 'sin', '-', 'spoke', 'little', 'I', 'fires', 'surveyor', 'of', \"'\", 'little', 'or', 'council', ':']\n",
      "bad_words ['sort', 'reversal', 'betrayed', 'you', 'put', 'Broken', 'say', 'doctrine', 'Dana', 'in', 'human', 'himself', 'fire', 'instructions', 'well', 'word', 'going', 'little', '-', 'fires', 'surveyor', ';', 'that', 'And', 'answers', ':']\n",
      "bad_words ['put', 'sort', 'another', 'betrayed', 'whether', 'Broken', 'doctrine', 'something', 'going', 'person', 'will', 'fire', '##rt', 'replied', 'of', 'you', 'little', \"'\", 'I', 'otherwise', 'I', '-', 'sitting', 'Guess', 'then', '-', 'or', 'yourself', 'then', 'to', 'ends', 'point']\n",
      "bad_words ['one', 'sort', 'after', 'passes', 'suggested', 'Broken', 'doctrine', 'doubt', 'head', 'People', 'man', 'fire', 'fire', 'body', 'bearing', 'not', 'phase', ':', 'thinks', 'Yes', 'There', 'sitting', 'Guess', 'half', '-', 'that', \"'\"]\n",
      "bad_words ['put', 'this', 'whether', 'their', 'doctrine', 'those', 'for', \"'\", 'not', 'themselves', 'but', 'speak', 'replied', 'crown', 'face', 'speech', 'sa', 'thinks', 'but', 'one', 'shame', 'says', 'you', 'half', 'not', 'then', 'I', 'whom']\n",
      "bad_words [':', 'sort', 'dispute', 'sometimes', 'after', 'this', 'reasons', 'reverse', '[', ';', 'would', 'do', 'Will', 'replied', 'body', 'crown', 'submission', 'more', 'which', '-', 'then', 'say']\n",
      "bad_words ['sort', '##lding', 'word', 'or', '-', 'Punch', 'slips', 'You', 'think', 'Without', 'opinion', 'said', 'as', 'discourse', 'but', '\"', ';', 'but', \"'\", 'injured', 'you', \"'\", 'then', 'they', 'commencement', 'said']\n"
     ]
    },
    {
     "data": {
      "text/html": [
       "<span style=\"color: rgba(0,0,255,1)\">,</span> if you use a word, and may I put some things of speech. -'Some, better than you, would say, that <span style=\"color: rgba(0,0,255,1)\">you</span>,'-----<span style=\"color: rgba(0,0,255,1)\">'</span>' sort,'' fell in love with you,'says'<span style=\"color: rgba(0,0,255,1)\">lding</span>,'a word, which passes <span style=\"color: rgba(0,0,255,1)\">word</span>, whether in doubt;'or. The word.'What or -'-'Punch,'or, say the word,'<span style=\"color: rgba(0,0,255,1)\">slips</span>;'-<span style=\"color: rgba(0,0,255,1)\">-</span>- -'something to say in your face and in a mouth, if you understand what is not on your mind:'You say that you feel that, well, too,'or'- -'.'I <span style=\"color: rgba(0,0,255,1)\">think</span>, then', or, to themselves,<span style=\"color: rgba(0,0,255,1)\">'</span>it is so.''--'<span style=\"color: rgba(0,0,255,1)\">Without</span> opinion,'' said'-'or'---,'<span style=\"color: rgba(0,0,255,1)\">as</span>, to <span style=\"color: rgba(0,0,255,1)\">speak</span>,'after the <span style=\"color: rgba(0,0,255,1)\">discourse</span> of the Sultan, <span style=\"color: rgba(0,0,255,1)\">and</span> replied----''---but,'says the', -',':'and <span style=\"color: rgba(0,0,255,1)\">\"</span>,'speech<span style=\"color: rgba(0,0,255,1)\">;</span>-<span style=\"color: rgba(0,0,255,1)\">I</span>'--- I <span style=\"color: rgba(0,0,255,1)\">but</span>, you<span style=\"color: rgba(0,0,255,1)\">'</span><span style=\"color: rgba(0,0,255,1)\">'</span> that of <span style=\"color: rgba(0,0,255,1)\">injured</span>,,,',--',,---more, which -'you,;'<span style=\"color: rgba(0,0,255,1)\">'</span> <span style=\"color: rgba(0,0,255,1)\">then</span>, -'<span style=\"color: rgba(0,0,255,1)\">they</span> <span style=\"color: rgba(0,0,255,1)\">-</span>,, you or, love <span style=\"color: rgba(0,0,255,1)\">not</span> that--<span style=\"color: rgba(0,0,255,1)\">-</span>-,'-'the <span style=\"color: rgba(0,0,255,1)\">commencement</span>, and, to,,<span style=\"color: rgba(0,0,255,1)\">,</span>,'','' -'-, said"
      ],
      "text/plain": [
       "<IPython.core.display.HTML object>"
      ]
     },
     "metadata": {},
     "output_type": "display_data"
    },
    {
     "data": {
      "text/html": [
       "<span style=\"color: rgba(255,0,0,0.7468390464782715)\">,</span> if you use a word, and may I put some things of speech. -'Some, better than you, would say, that <span style=\"color: rgba(255,0,0,0.6687655448913574)\">you</span>,'----- <span style=\"color: rgba(255,0,0,0.8005332946777344)\">-</span>'sort,'' fell in love with you,'says'<span style=\"color: rgba(255,0,0,0.5471058487892151)\">but</span>,'a word, which passes <span style=\"color: rgba(255,0,0,0.5382810831069946)\">half</span>, whether in doubt;'or. The word.'What or -'-'Punch,'or, say the word,'<span style=\"color: rgba(255,0,0,0.5374780893325806)\">self</span>;'-<span style=\"color: rgba(255,0,0,0.9332821369171143)\">-</span>- -'something to say in your face and in a mouth, if you understand what is not on your mind:'You say that you feel that, well, too,'or'- -'.'I <span style=\"color: rgba(255,0,0,0.6133950352668762)\">say</span>, then', or, to themselves, <span style=\"color: rgba(255,0,0,0.7848666906356812)\">that</span> it is so.''--'<span style=\"color: rgba(255,0,0,0.6182854175567627)\">'</span> opinion,'' said'-'or'---,'<span style=\"color: rgba(255,0,0,0.6291518211364746)\">then</span>, to <span style=\"color: rgba(255,0,0,0.5447881817817688)\">that</span>,'after the <span style=\"color: rgba(255,0,0,0.5554518699645996)\">opinion</span> of the Sultan,<span style=\"color: rgba(255,0,0,0.9477583169937134)\">'</span>replied----''---but,'says the', -',':'and <span style=\"color: rgba(255,0,0,0.6509679555892944)\">-</span>,'speech <span style=\"color: rgba(255,0,0,0.5223981142044067)\">or</span>-<span style=\"color: rgba(255,0,0,0.5419227480888367)\">then</span>'--- I<span style=\"color: rgba(255,0,0,0.9833961725234985)\">,</span>, you <span style=\"color: rgba(255,0,0,0.59392249584198)\">but</span><span style=\"color: rgba(255,0,0,0.6458333730697632)\">'</span>that of <span style=\"color: rgba(255,0,0,0.5504252910614014)\">Sultan</span>,,,',--',,---more, which -'you,;'<span style=\"color: rgba(255,0,0,0.6656093001365662)\">-</span> <span style=\"color: rgba(255,0,0,0.6390231847763062)\">-</span>, -'<span style=\"color: rgba(255,0,0,0.5784735083580017)\">either</span><span style=\"color: rgba(255,0,0,0.6603924036026001)\">,</span>,, you or, love <span style=\"color: rgba(255,0,0,0.5410037040710449)\">one</span> that--<span style=\"color: rgba(255,0,0,0.7552028894424438)\">-</span>-,'-'the <span style=\"color: rgba(255,0,0,0.607350766658783)\">word</span>, and, to,,<span style=\"color: rgba(255,0,0,0.9169536828994751)\">'</span>,'','' -'-, said,"
      ],
      "text/plain": [
       "<IPython.core.display.HTML object>"
      ]
     },
     "metadata": {},
     "output_type": "display_data"
    },
    {
     "name": "stdout",
     "output_type": "stream",
     "text": [
      "bad_words ['put', ':', 'sort', 'kind', 'better', 'Punch', 'which', 'glance', 'something', '.', 'trust', 'That', 'said', 'pretty', 'we', 'direction', 'replied', \"'\", ':', ';', 'speech', 'himself', 'that', 'and', 'then', 'company', 'more', 'you', 'rather', 'whether', 'person', 'frost', 'and']\n",
      "bad_words ['least', 'kind', 'passes', 'What', 'Punch', 'errors', 'all', 'mine', 'pretty', 'we', 'strengthen', 'opposite', 'title', 'speech', 'himself', \"'\", 'and', 'of', 'company', \"'\", 'proceeding', 'says', ';', 'but', 'or', 'love', 'person', 'frost', 'them']\n",
      "bad_words ['put', 'you', 'whether', 'or', 'Yes', 'may', ',', 'errors', ',', 'in', 'pretty', 'say', 'grace', 'will', 'gestures', 'speech', \"'\", 'company', 'proceeding', 'you', 'if', 'person', 'like', 'good', 'them', 'quotes']\n",
      "bad_words ['PS', \"'\", 'being', 'gesture', 'may', 'You', 'use', \"'\", '.', 'opinion', 'in', 'of', 'and', 'liberty', \"'\", 'know', 'party', 'that', 'all', 'will', 'or', 'good', 'them', 'said']\n",
      "bad_words ['from', 'lose', 'and', 'fear', \"'\", 'said', 'gesture', 'in', 'put', 'complain', 'of', 'imitation', \"'\", 'name', 'and', \"'\", 'party', 'says', 'they', 'keep', 'or', 'love', 'it', '-', 'First', 'Edgar', \"'\"]\n",
      "bad_words ['of', 'speech', 'lose', 'permission', 'force', \"'\", 'which', 'Poor', \"'\", 'gesture', 'leaning', 'discourse', 'of', 'or', 'rather', 'Sultan', 'answer', 'speaking', 'ridiculous', 'which', 'says', 'they', 'precedence', 'which', 'love', 'reason', 'your', 'Edgar', 'said']\n",
      "bad_words ['or', 'if', 'profession', 'But', 'said', 'disorder', 'Nature', 'force', 'he', 'or', 'growing', 'turn', 'of', 'liberty', 'humor', \"'\", 'it', 'speaking', 'sitting', 'says', 'only', 'but', 'precedence', 'love', 'being', 'your', 'Edgar', 'wrote', 'surprised', 'the']\n",
      "bad_words ['though', 'it', 'But', 'or', 'Galen', 'reasoning', 'which', 'word', 'growing', 'think', 'may', 'of', 'Chinese', 'and', '-', 'I', '\"', 'remember', 'sitting', 'only', 'reason', 'which', 'love', 'wrote', 'á']\n",
      "bad_words ['m', 'made', 'put', 'mine', '##vation', 'and', 'or', 'growing', 'set', 'phase', 'well', 'need', 'or', 'may', 'second', '\"', 'I', ':', 'us', 'that', 'give', ':', 'reason', 'love', 'being', 'your', '\"']\n",
      "bad_words ['m', 'made', 'your', 'better', 'thousand', \"'\", 'growing', 'phase', 'up', 'need', 'judge', 'observe', 'whatever', '\"', 'Which', ',', 'Sultan', 'he', 'of', 'yourself', ':', '[', 'entitled', 'that', 'love', 'being', 'rank', 'none', 'heart', 'the']\n"
     ]
    },
    {
     "data": {
      "text/html": [
       "m made I use a word, and may <span style=\"color: rgba(0,0,255,1)\">I</span> make some things of it.'' But, better <span style=\"color: rgba(0,0,255,1)\">than</span> you, and mine, that you,'--<span style=\"color: rgba(0,0,255,1)\">-</span>-- -'Nature,'' fell in <span style=\"color: rgba(0,0,255,1)\">your</span> with you,'says he,,'<span style=\"color: rgba(0,0,255,1)\">a</span> word, which is better, which in doubt,'or.'and.'- <span style=\"color: rgba(0,0,255,1)\">thousand</span> -'-'growing,'or to say the word,'which;'--<span style=\"color: rgba(0,0,255,1)\">-</span>,-- to say, your face and in a mouth, if you understand what is bearing on your <span style=\"color: rgba(0,0,255,1)\">phase</span>: and you, that you like that, well up need:'or<span style=\"color: rgba(0,0,255,1)\">'</span>--<span style=\"color: rgba(0,0,255,1)\">-</span>,'I trust, then', or, to <span style=\"color: rgba(0,0,255,1)\">judge</span>, if it is <span style=\"color: rgba(0,0,255,1)\">so</span>.''-- <span style=\"color: rgba(0,0,255,1)\">-</span>'observe, whatever, or',<span style=\"color: rgba(0,0,255,1)\">'</span>or'---,'that, to say,'after the name of the Sultan,'--- -'' <span style=\"color: rgba(0,0,255,1)\">\"</span>--'<span style=\"color: rgba(0,0,255,1)\">Which</span>,'says<span style=\"color: rgba(0,0,255,1)\">,</span> Sultan'he of,','<span style=\"color: rgba(0,0,255,1)\">of</span> -,'-'' <span style=\"color: rgba(0,0,255,1)\">-</span>'--- <span style=\"color: rgba(0,0,255,1)\">yourself</span>,, you;, that,:<span style=\"color: rgba(0,0,255,1)\">:</span>,, you,-[', that---that, <span style=\"color: rgba(0,0,255,1)\">entitled</span> -'you,,, -<span style=\"color: rgba(0,0,255,1)\">,</span>, -'but -,,, <span style=\"color: rgba(0,0,255,1)\">that</span>, <span style=\"color: rgba(0,0,255,1)\">love</span>, being;-- -,'-'the rank, -'' <span style=\"color: rgba(0,0,255,1)\">none</span>, heart,'','' <span style=\"color: rgba(0,0,255,1)\">-</span>'- <span style=\"color: rgba(0,0,255,1)\">the</span>'"
      ],
      "text/plain": [
       "<IPython.core.display.HTML object>"
      ]
     },
     "metadata": {},
     "output_type": "display_data"
    },
    {
     "data": {
      "text/html": [
       "m made I use a word, and may <span style=\"color: rgba(255,0,0,0.5944437980651855)\">not</span> make some things of it.'' But, better <span style=\"color: rgba(255,0,0,0.7044420838356018)\">than</span> you, and mine, that you,'--<span style=\"color: rgba(255,0,0,0.9612444639205933)\">-</span>-- -'Nature,'' fell in <span style=\"color: rgba(255,0,0,0.5494364500045776)\">judgment</span> with you,'says he,,'<span style=\"color: rgba(255,0,0,0.6384367942810059)\">that</span> word, which is better, which in doubt,'or.'and.'-<span style=\"color: rgba(255,0,0,0.9854445457458496)\">-</span>-'-'growing,'or to say the word,'which;'--<span style=\"color: rgba(255,0,0,0.5964022874832153)\">-</span>,-- to say, your face and in a mouth, if you understand what is bearing on your <span style=\"color: rgba(255,0,0,0.5762510299682617)\">body</span>: and you, that you like that, well up need:'or<span style=\"color: rgba(255,0,0,0.7904566526412964)\">-</span>--<span style=\"color: rgba(255,0,0,0.5472655892372131)\">-</span>,'I trust, then', or, to <span style=\"color: rgba(255,0,0,0.8285349607467651)\">say</span>, if it is <span style=\"color: rgba(255,0,0,0.5640124678611755)\">said</span>.''-- <span style=\"color: rgba(255,0,0,0.9807329177856445)\">-</span>'observe, whatever, or',<span style=\"color: rgba(255,0,0,0.9847294092178345)\">'</span>or'---,'that, to say,'after the name of the Sultan,'--- -''<span style=\"color: rgba(255,0,0,0.8666225671768188)\">-</span>- -'<span style=\"color: rgba(255,0,0,0.5113964676856995)\">replied</span>,'says <span style=\"color: rgba(255,0,0,0.7339968681335449)\">she</span> Sultan'he of,','<span style=\"color: rgba(255,0,0,0.8107858896255493)\">the</span> -,'-'' <span style=\"color: rgba(255,0,0,0.8059214949607849)\">-</span>'--- <span style=\"color: rgba(255,0,0,0.5460469722747803)\">say</span>,, you;, that,: <span style=\"color: rgba(255,0,0,0.5175384879112244)\">understand</span>,, you,-[', that---that,<span style=\"color: rgba(255,0,0,0.5602801442146301)\">-</span>-'you,,, -<span style=\"color: rgba(255,0,0,0.7952730059623718)\">'</span>, -'but -,,, <span style=\"color: rgba(255,0,0,0.5149434804916382)\">then</span>,<span style=\"color: rgba(255,0,0,0.6064339876174927)\">,</span>, being;-- -,'-'the rank, -''<span style=\"color: rgba(255,0,0,0.6826590895652771)\">'</span>, heart,'','' <span style=\"color: rgba(255,0,0,0.8893123865127563)\">-</span>'- <span style=\"color: rgba(255,0,0,0.7348271608352661)\">-</span>',"
      ],
      "text/plain": [
       "<IPython.core.display.HTML object>"
      ]
     },
     "metadata": {},
     "output_type": "display_data"
    },
    {
     "name": "stdout",
     "output_type": "stream",
     "text": [
      "bad_words ['m', 'made', 'discovered', 'will', 'France', 'this', 'which', \"'\", 'growing', ';', 'and', 'up', 'need', '##am', 'that', 'granted', \"'\", 'observe', 'whatever', '—', 'one', 'Sultan', 'of', ',', 'all', 'will', '[', 'what', 'it', 'all', 'being', 'rank', 'addressing', 'heart', 'next', \"'\", 'children']\n",
      "bad_words ['one', 'made', 'those', 'things', 'Gerhard', 'though', 'and', 'growing', ';', 'things', 'sir', 'All', 'whatever', 'flinch', \"'\", 'Drop', 'Sultan', 'example', 'your', ';', 'that', 'think', '[', 'For', 'being', 'For', 'rank', 'Vice', \"'\", 'addressing', 'heart', '(', ',', 'not']\n",
      "bad_words ['one', 'made', 'those', 'blame', '##kini', 'Nature', 'himself', 'it', 'Italy', 'growing', ';', 'well', 'or', '##am', 'sir', 'granted', 'then', 'flinch', 'Drop', 'example', 'your', 'all', 'and', ':', 'plays', 'that', 'you', 'but', 'For', 'it', 'being', 'are', 'every', 'addressing', 'heart', 'officers']\n",
      "bad_words ['made', 'custom', 'about', 'better', 'example', ';', 'France', 'doubt', 'twice', 'growing', ';', 'of', 'passes', 'don', '##ate', 'false', 'adventures', \"'\", 'mock', 'flinch', 'Drop', 'example', 'he', 'your', 'Prince', ';', \"'\", 'say', 'plays', 'then', 'For', 'you', 'impossible', 'being', 'cease', 'well', 'addressing', 'heart', 'officers']\n",
      "bad_words ['made', 'custom', 'lower', 'example', 'fell', '##gment', 'twice', \"'\", 'cried', ';', 'mention', 'do', '##ate', 'necessary', \"'\", 'mock', 'Drop', 'example', 'he', 'your', 'Prince', 'speaking', 'not', '-', 'it', 'them', 'For', 'from', 'possible', 'impossible', 'being', 'virtue', 'you', 'well', ';', 'rather']\n",
      "bad_words ['may', 'Does', 'me', 'of', 'choose', 'Zeppelin', 'says', 'volumes', '##t', '-', 'and', ';', 'mention', 'passes', \"'\", 'do', '##ate', 'adventures', 'Quality', 'But', 'your', 'Prince', 'clad', 'presence', 'you', 'them', 'but', 'possible', 'impossible', 'granted', 'virtue', 'word', 'of']\n",
      "bad_words ['may', 'Does', 'or', 'lower', 'but', 'choose', ',', 'if', 'volumes', 'better', 'virtue', 'continuing', ';', ',', 'that', 'what', 'added', 'means', 'think', \"'\", 'Say', 'speak', 'Quality', 'he', 'your', 'Prince', 'clad', 'presence', 'body', 'thought', 'if', 'of', 'possible', 'impossible', 'either', 'virtue', 'you', 'said', 'and', 'have']\n",
      "bad_words ['.', 'Does', 'than', 'says', 'mine', 'otherwise', 'volumes', 'making', 'continuing', 'says', 'what', 'decides', 'speak', 'Say', 'which', '?', 'say', 'says', 'he', 'but', 'Prince', 'then', 'presence', 'body', 'thought', 'if', ';', 'possible', 'does', 'virtue', 'added', 'said', 'then']\n",
      "bad_words ['word', 'when', 'at', 'similar', 'persons', 'volumes', 'comparison', 'continuing', \"'\", 'and', 'this', 'part', 'what', ':', 'decides', 'Say', '##ity', 'to', 'their', 'one', 'Prince', 'presence', '*', 'you', 'thought', 'half', '-', 'from', 'possible', 'one', 'virtue', ',', '[', 'and', 'and', 'or']\n",
      "bad_words ['similar', 'persons', 'otherwise', 'volumes', 'comparison', 'continuing', 'Sir', 'decides', 'by', 'useless', \"'\", 'Say', '##ity', 'but', 'But', 'you', 'your', ',', '\"', 'Prince', 'presence', 'that', 'you', 'me', 'from', 'said', 'either', 'virtue', 'times', '\"', 'conduct']\n"
     ]
    },
    {
     "data": {
      "text/html": [
       "<span style=\"color: rgba(0,0,255,1)\">word</span>, I use a word, that may or make some things of it.'' But, lower than you, that mine, that you,'-----,'similar;'' and in France with you,'says himself,,'this <span style=\"color: rgba(0,0,255,1)\">persons</span>, <span style=\"color: rgba(0,0,255,1)\">otherwise</span> volumes word,'in <span style=\"color: rgba(0,0,255,1)\">comparison</span>:'or.'continuing.'---'-'<span style=\"color: rgba(0,0,255,1)\">Sir</span>,'or to say the word,'which;'--says'--<span style=\"color: rgba(0,0,255,1)\">to</span> say, of face and in a mouth, if you know what is bearing on that part: that you, that you like that,'and say,'<span style=\"color: rgba(0,0,255,1)\">or</span>'--decides,'I trust, <span style=\"color: rgba(0,0,255,1)\">by</span>', or, to say, if it is <span style=\"color: rgba(0,0,255,1)\">useless</span>.'<span style=\"color: rgba(0,0,255,1)\">'</span>-<span style=\"color: rgba(0,0,255,1)\">-</span> <span style=\"color: rgba(0,0,255,1)\">-</span>'<span style=\"color: rgba(0,0,255,1)\">Say</span>,', ority<span style=\"color: rgba(0,0,255,1)\">,</span>'or'but--,'that, to say,'after the name of the Sultan,'------<span style=\"color: rgba(0,0,255,1)\">-</span>--'But,'<span style=\"color: rgba(0,0,255,1)\">says</span> you,,, of,','the-- <span style=\"color: rgba(0,0,255,1)\">your</span>,'''that-<span style=\"color: rgba(0,0,255,1)\">\"</span>-<span style=\"color: rgba(0,0,255,1)\">Prince</span>, if, then<span style=\"color: rgba(0,0,255,1)\">,</span> and,: presence,, you that-say', <span style=\"color: rgba(0,0,255,1)\">you</span> <span style=\"color: rgba(0,0,255,1)\">-</span>,-that you it -'you that',-<span style=\"color: rgba(0,0,255,1)\">me</span>---of-say, <span style=\"color: rgba(0,0,255,1)\">say</span>-<span style=\"color: rgba(0,0,255,1)\">from</span>, <span style=\"color: rgba(0,0,255,1)\">said</span> either; virtue--, <span style=\"color: rgba(0,0,255,1)\">times</span> -',',--'\",,,<span style=\"color: rgba(0,0,255,1)\">'</span>', -'-'conduct -'"
      ],
      "text/plain": [
       "<IPython.core.display.HTML object>"
      ]
     },
     "metadata": {},
     "output_type": "display_data"
    },
    {
     "data": {
      "text/html": [
       "<span style=\"color: rgba(255,0,0,0.5488144159317017)\">it</span>, I use a word, that may or make some things of it.'' But, lower than you, that mine, that you,'-----,'similar;'' and in France with you,'says himself,,'this <span style=\"color: rgba(255,0,0,0.5380164384841919)\">word</span>,<span style=\"color: rgba(255,0,0,0.8635215759277344)\">'</span>volumes word,'in <span style=\"color: rgba(255,0,0,0.583723247051239)\">French</span>:'or.'continuing.'---'-'<span style=\"color: rgba(255,0,0,0.5184701085090637)\">Say</span>,'or to say the word,'which;'--says'- -<span style=\"color: rgba(255,0,0,0.7324801087379456)\">'</span>say, of face and in a mouth, if you know what is bearing on that part: that you, that you like that,'and say,'<span style=\"color: rgba(255,0,0,0.5777387022972107)\">or</span>'--decides,'I trust, <span style=\"color: rgba(255,0,0,0.5961315631866455)\">that</span>', or, to say, if it is <span style=\"color: rgba(255,0,0,0.5292143821716309)\">sufficient</span>.'<span style=\"color: rgba(255,0,0,0.9879403114318848)\">-</span>-<span style=\"color: rgba(255,0,0,0.9686818718910217)\">-</span> <span style=\"color: rgba(255,0,0,0.8061526417732239)\">-</span>'<span style=\"color: rgba(255,0,0,0.5267869234085083)\">,</span>,', ority<span style=\"color: rgba(255,0,0,0.8670641183853149)\">,</span>'or'but--,'that, to say,'after the name of the Sultan,'------<span style=\"color: rgba(255,0,0,0.9952207207679749)\">-</span>--'But,'<span style=\"color: rgba(255,0,0,0.594935953617096)\">say</span> you,,, of,','the-- <span style=\"color: rgba(255,0,0,0.5704444646835327)\">or</span>,'''that-<span style=\"color: rgba(255,0,0,0.9901514649391174)\">-</span> -<span style=\"color: rgba(255,0,0,0.6161944270133972)\">,</span>, if, then <span style=\"color: rgba(255,0,0,0.5742805004119873)\">and</span> and,: presence,, you that-say', <span style=\"color: rgba(255,0,0,0.5877216458320618)\">and</span> <span style=\"color: rgba(255,0,0,0.6445990204811096)\">but</span>,-that you it -'you that',-<span style=\"color: rgba(255,0,0,0.7308228015899658)\">that</span>---of-say,<span style=\"color: rgba(255,0,0,0.926791787147522)\">'</span>- <span style=\"color: rgba(255,0,0,0.656840443611145)\">say</span>, <span style=\"color: rgba(255,0,0,0.5398271083831787)\">good</span> either; virtue--,<span style=\"color: rgba(255,0,0,0.9749292731285095)\">-</span>-',',--'\",,,<span style=\"color: rgba(255,0,0,0.8648371696472168)\">,</span>', -'-'conduct -',"
      ],
      "text/plain": [
       "<IPython.core.display.HTML object>"
      ]
     },
     "metadata": {},
     "output_type": "display_data"
    },
    {
     "name": "stdout",
     "output_type": "stream",
     "text": [
      "bad_words ['something', 'similar', 'language', 'said', 'volumes', 'voices', 'continuing', 'Paris', 'says', 'which', 'decides', 'this', 'sufficient', 'say', 'horns', '##ity', 'but', 'But', 'said', 'Said', 'yourself', 'but', 'presence', 'let', 'that', 'either', 'virtue', '\"', 'conduct']\n",
      "bad_words ['company', 'I', 'reach', 'discourse', 'it', 'volumes', '16th', 'Paris', 'decide', 'speak', 'thought', 'not', '##ity', ';', 'then', 'I', 'Said', 'where', 'choose', 'there', 'return', 'let', 'quoted', 'rather', 'virtue', '\"', 'conduct']\n",
      "bad_words ['lower', 'opinion', 'the', 'French', 'Paris', 'of', 'speak', 'one', 'this', '##ity', '-', 'suit', 'then', 'sentiments', 'translation', 'order', 'return', 'but', 'rather', 'perhaps', 'possible', 'can', '-', '##different', 'Cup', 'which']\n",
      "bad_words ['company', 'ease', 'help', 'preference', 'but', 'Paris', 'a', 'your', 'you', 'speak', 'trust', 's', 'say', 'submission', '##ity', '-', 'trust', 'translation', 'can', ':', ',', 'your', 'you', 'all', '-', 'added', 'said', 'agreed', 'for', 'which']\n",
      "bad_words ['agrees', 'can', 'reach', 'us', 'lower', 'help', 'French', 'Paris', \"'\", 'that', 'like', 'say', 'anything', 'opinion', 'French', 'Matthew', '-', 'said', ',', 'but', 'or', 'then', 'served', 'for', ',']\n",
      "bad_words ['wise', 'certain', 'there', 'German', 'Paris', 'which', 'imposing', 'but', 'use', 'and', 'sign', \"'\", 'this', 'obtained', 'opinion', 'then', 'explain', \"'\", 'Well', '-', 'for', 'of']\n",
      "bad_words ['use', 'German', 'says', 'vase', 'opinion', 'Stand', 'those', 'skill', 'not', 'said', 'you', 'any', 'sentiments', 'Rebellion', 'order', ',', 'or', 'then', 'your', 'may', 'all', ',', 'like']\n",
      "bad_words ['those', 'certain', 'mine', 'there', 'superior', 'Stand', 'whereas', 'and', 'afterwards', 'use', 'a', 'others', 'women', 'Put', 'all', 'your', 'mine', 'joke', 'says', 'like', '[']\n",
      "bad_words ['you', 'says', 'life', 'their', 'generally', 'this', 'German', 'default', 'Stand', 'cutting', 'speech', 'any', 'member', 'opinion', 'meant', ':', 'Put', 'mine', 'judge', 'choice', '9', 'says']\n",
      "bad_words ['you', 'says', 'Toy', 'mixed', 'said', 'use', 'German', 'default', 'gallery', 'touches', 'cave', 'that', 'speech', 'it', 'opinion', 'I', 'of', 'opinion', 'if', 'bow', 'em', '\"', 'keeping', 'second', 'six', 'people', 'confusion']\n"
     ]
    },
    {
     "data": {
      "text/html": [
       "<span style=\"color: rgba(0,0,255,1)\">you</span> says I use a word, that may can make all things like us.'' But, more than you, that <span style=\"color: rgba(0,0,255,1)\">Toy</span>, that you,'----- -'<span style=\"color: rgba(0,0,255,1)\">mixed</span>;'' that in France, you,'<span style=\"color: rgba(0,0,255,1)\">said</span> he,<span style=\"color: rgba(0,0,255,1)\">,</span>'the language, <span style=\"color: rgba(0,0,255,1)\">use</span> the word,'and German:'or.'or.'---'-'<span style=\"color: rgba(0,0,255,1)\">default</span>,'or to say the <span style=\"color: rgba(0,0,255,1)\">word</span>,'<span style=\"color: rgba(0,0,255,1)\">gallery</span>;'----- -'<span style=\"color: rgba(0,0,255,1)\">touches</span>, a face and in a <span style=\"color: rgba(0,0,255,1)\">cave</span>, if you know what is those on my mind; but you, that you, that,'you say,'and'--say,'' trust, said', that, to <span style=\"color: rgba(0,0,255,1)\">speech</span>, if <span style=\"color: rgba(0,0,255,1)\">it</span> was it.'--- -'<span style=\"color: rgba(0,0,255,1)\">opinion</span>,', or French;'or'---,'that, to say,'after the name of the <span style=\"color: rgba(0,0,255,1)\">word</span>;'<span style=\"color: rgba(0,0,255,1)\">-</span>-<span style=\"color: rgba(0,0,255,1)\">-</span>------'I,'and I,,, of the','the-- <span style=\"color: rgba(0,0,255,1)\">a</span> <span style=\"color: rgba(0,0,255,1)\">opinion</span>''-that-- -,, <span style=\"color: rgba(0,0,255,1)\">if</span> say,, bow', say,, you that-em', all that'- that <span style=\"color: rgba(0,0,255,1)\">you</span> it <span style=\"color: rgba(0,0,255,1)\">\"</span>''<span style=\"color: rgba(0,0,255,1)\">'</span><span style=\"color: rgba(0,0,255,1)\">keeping</span>,-second,'- of-say,'<span style=\"color: rgba(0,0,255,1)\">say</span>'<span style=\"color: rgba(0,0,255,1)\">,</span> <span style=\"color: rgba(0,0,255,1)\">six</span> people;'-<span style=\"color: rgba(0,0,255,1)\">'</span>,--','---'<span style=\"color: rgba(0,0,255,1)\">confusion</span>,',,','' -'of-says"
      ],
      "text/plain": [
       "<IPython.core.display.HTML object>"
      ]
     },
     "metadata": {},
     "output_type": "display_data"
    },
    {
     "data": {
      "text/html": [
       "<span style=\"color: rgba(255,0,0,0.668407678604126)\">and</span> says I use a word, that may can make all things like us.'' But, more than you, that <span style=\"color: rgba(255,0,0,0.5661454200744629)\">you</span>, that you,'----- -'<span style=\"color: rgba(255,0,0,0.5260184407234192)\">-</span>;'' that in France, you,'<span style=\"color: rgba(255,0,0,0.7005157470703125)\">said</span> he,<span style=\"color: rgba(255,0,0,0.8508360385894775)\">'</span>' the language, <span style=\"color: rgba(255,0,0,0.5703721046447754)\">and</span> the word,'and German:'or.'or.'---'-'<span style=\"color: rgba(255,0,0,0.5211958885192871)\">French</span>,'or to say the <span style=\"color: rgba(255,0,0,0.9554041624069214)\">word</span>,'<span style=\"color: rgba(255,0,0,0.5333107709884644)\">that</span>;'----- -'<span style=\"color: rgba(255,0,0,0.5251269936561584)\">That</span>, a face and in a <span style=\"color: rgba(255,0,0,0.6922512650489807)\">word</span>, if you know what is those on my mind; but you, that you, that,'you say,'and'--say,'' trust, said', that, to <span style=\"color: rgba(255,0,0,0.8129409551620483)\">say</span>, if <span style=\"color: rgba(255,0,0,0.6422858238220215)\">that</span> was it.'--- -'<span style=\"color: rgba(255,0,0,0.5308958292007446)\">French</span>,', or French;'or'---,'that, to say,'after the name of the <span style=\"color: rgba(255,0,0,0.7112022638320923)\">word</span>;'<span style=\"color: rgba(255,0,0,0.9372254610061646)\">-</span>-<span style=\"color: rgba(255,0,0,0.9759612679481506)\">-</span>------'I,'and I,,, of the','the-- <span style=\"color: rgba(255,0,0,0.6429006457328796)\">The</span> <span style=\"color: rgba(255,0,0,0.5360919237136841)\">that</span>''-that-- -,, <span style=\"color: rgba(255,0,0,0.5458283424377441)\">say</span> say,, bow', say,, you that-em', all that'- that<span style=\"color: rgba(255,0,0,0.5541502237319946)\">-</span>it <span style=\"color: rgba(255,0,0,0.8832463026046753)\">-</span>'' <span style=\"color: rgba(255,0,0,0.6820391416549683)\">and</span> <span style=\"color: rgba(255,0,0,0.8046919107437134)\">-</span>,-second,'- of-say,'<span style=\"color: rgba(255,0,0,0.6934448480606079)\">that</span>'<span style=\"color: rgba(255,0,0,0.5967627167701721)\">that</span> <span style=\"color: rgba(255,0,0,0.645926296710968)\">you</span> people;'- <span style=\"color: rgba(255,0,0,0.5556652545928955)\">that</span>,--','---'<span style=\"color: rgba(255,0,0,0.7373542785644531)\">French</span>,',,','' -'of-says,"
      ],
      "text/plain": [
       "<IPython.core.display.HTML object>"
      ]
     },
     "metadata": {},
     "output_type": "display_data"
    },
    {
     "name": "stdout",
     "output_type": "stream",
     "text": [
      "bad_words ['which', 'says', 'say', 'France', 'or', 'German', 'French', 'language', 'Yes', 'face', 'attitude', 'country', 'I', 'want', 'bow', 'em', 'it', 'second', 'people', 'and', 'second', 'says']\n",
      "bad_words [\"'\", 'whether', 'may', 'more', 'whom', 'added', 'except', '-', 'replied', 'ear', 'spirit', 'trust', 'all', 'I', 'any', 'place', 'Put', 'to', '##quer', 'and', 'but', 'replied', 'second', 'people', 'second', 'all']\n",
      "bad_words ['and', 'that', 'others', ',', 'before', 'coup', 'mouth', 'air', 'putting', 'trust', 'deny', 'undertake', 'The', 'me', 'and', 'expression', 'replied', 'one', 'people', 'and', 'child']\n",
      "bad_words ['that', 'us', 'like', 'us', 'all', 'added', 'my', 'half', 'details', 'say', 'air', 'it', '##ibi', 'either', 'I', 'said', 'a', 'The', 'me', 'that', 'for', 'say', 'only', 'replied', 'it', 'friend', ';', 'but']\n",
      "bad_words ['reminded', 'silent', 'yourself', 'say', 'he', '-', 'person', 'throat', 'heart', 'and', 'said', 'not', 'just', '##nounce', 'The', 'me', 'suggests', 'only', 'replied', 'that', '-', '-', 'but']\n",
      "bad_words ['which', 'silent', 'you', 'sovereign', '.', 'Martial', 'mine', '##qui', 'look', 'then', 'used', 'a', 'and', 'her', 'nineteen', 'smile', 'and', 'or', 'in', 'replied', 'as', 'terms', 'says']\n",
      "bad_words ['has', 'us', 'silent', 'says', \"'\", 'Man', '-', 'a', '##dy', ',', 'corner', 'French', 'French', 'nineteen', 'and', 'this', 'then', 'said', 'and', '-']\n",
      "bad_words ['nothing', 'us', 'self', 'Good', '.', 'word', 'a', 'curious', '##x', '##qui', '##vance', 'we', 'man', 'advantage', 'French', ';', 'I', '.', 'No', 'submit', 'mine', 'which', 'name', 'And', 'speaking', 'mask', 'some', 'each', 'says', 'is', '-']\n",
      "bad_words ['tenor', 'Good', 'lack', 'curious', '##x', '##cell', 'without', 'throne', 'person', 'speaking', 'it', 'so', 'French', 'only', 'says', '-', 'Yes', 'another', 'Well', 'Tears', 'name', 'replies', 'And', 'speaking', 'others', 'mask', 'but', ';', '.', 'says', 'is', 'say', 'love']\n",
      "bad_words ['it', 'Say', 'you', 'curious', 'little', 'either', 'that', ',', '##ment', 'looking', 'man', 'it', 'read', 'you', 'No', 'Tears', 'name', 'replies', 'say', 'speaking', '.', 'mask', 'invented', ';', 'says', 'is', 'master', 'love']\n"
     ]
    },
    {
     "data": {
      "text/html": [
       "say, I use <span style=\"color: rgba(0,0,255,1)\">a</span> word, that <span style=\"color: rgba(0,0,255,1)\">it</span> can make all us like it.'' But yourself better than you, that whom, that is?'------- Say;'' that in France, <span style=\"color: rgba(0,0,255,1)\">you</span>,'says he<span style=\"color: rgba(0,0,255,1)\">,</span>'' my language, use the word,'and half,'or,'or,'---'-'All,'or to say the word,'lack;'----- -'I, a curious and inx <span style=\"color: rgba(0,0,255,1)\">little</span>, if without <span style=\"color: rgba(0,0,255,1)\">either</span> <span style=\"color: rgba(0,0,255,1)\">that</span>,<span style=\"color: rgba(0,0,255,1)\">ment</span> on the looking; but you<span style=\"color: rgba(0,0,255,1)\">,</span> that <span style=\"color: rgba(0,0,255,1)\">man</span>, say,'' speaking,'-'-'say,'' <span style=\"color: rgba(0,0,255,1)\">it</span>,'', that, to <span style=\"color: rgba(0,0,255,1)\">say</span>, if that was said.<span style=\"color: rgba(0,0,255,1)\">'</span>--- -'French, only, or French;'and'---,'that, to say,'<span style=\"color: rgba(0,0,255,1)\">read</span> the word of the word;'---------'All,'and I,,, of the', the.-- <span style=\"color: rgba(0,0,255,1)\">you</span> No'<span style=\"color: rgba(0,0,255,1)\">-</span> another that-<span style=\"color: rgba(0,0,255,1)\">-</span> -,,, say All <span style=\"color: rgba(0,0,255,1)\">Tears</span> and,, say, which you,'' and, name that'- <span style=\"color: rgba(0,0,255,1)\">that</span>, and <span style=\"color: rgba(0,0,255,1)\">replies</span>'say'<span style=\"color: rgba(0,0,255,1)\">speaking</span> or-<span style=\"color: rgba(0,0,255,1)\">-</span><span style=\"color: rgba(0,0,255,1)\">,</span>'- of-say, say<span style=\"color: rgba(0,0,255,1)\">.</span>'I <span style=\"color: rgba(0,0,255,1)\">mask</span> <span style=\"color: rgba(0,0,255,1)\">invented</span><span style=\"color: rgba(0,0,255,1)\">;</span>'<span style=\"color: rgba(0,0,255,1)\">-</span> all,--','- says is<span style=\"color: rgba(0,0,255,1)\">'</span>master -',,', love'-'--says"
      ],
      "text/plain": [
       "<IPython.core.display.HTML object>"
      ]
     },
     "metadata": {},
     "output_type": "display_data"
    },
    {
     "data": {
      "text/html": [
       "say, I use <span style=\"color: rgba(255,0,0,0.9036034345626831)\">the</span> word, that <span style=\"color: rgba(255,0,0,0.5987079739570618)\">I</span> can make all us like it.'' But yourself better than you, that whom, that is?'------- Say;'' that in France, <span style=\"color: rgba(255,0,0,0.5730836391448975)\">then</span>,'says he<span style=\"color: rgba(255,0,0,0.9840373992919922)\">,</span>'' my language, use the word,'and half,'or,'or,'---'-'All,'or to say the word,'lack;'----- -'I, a curious and inx<span style=\"color: rgba(255,0,0,0.5228219032287598)\">tion</span>, if without <span style=\"color: rgba(255,0,0,0.6582353115081787)\">the</span> <span style=\"color: rgba(255,0,0,0.6295639872550964)\">sense</span>, <span style=\"color: rgba(255,0,0,0.5397100448608398)\">turn</span> on the looking; but you<span style=\"color: rgba(255,0,0,0.7052620053291321)\">,</span> that <span style=\"color: rgba(255,0,0,0.5255069136619568)\">thing</span>, say,'' speaking,'-'-'say,'' <span style=\"color: rgba(255,0,0,0.547501802444458)\">No</span>,'', that, to <span style=\"color: rgba(255,0,0,0.8668594360351562)\">say</span>, if that was said.<span style=\"color: rgba(255,0,0,0.8856886029243469)\">'</span>--- -'French, only, or French;'and'---,'that, to say,'<span style=\"color: rgba(255,0,0,0.6047801971435547)\">'</span> the word of the word;'---------'All,'and I,,, of the', the.--<span style=\"color: rgba(255,0,0,0.7391214370727539)\">-</span>No'<span style=\"color: rgba(255,0,0,0.7658905982971191)\">,</span> another that -<span style=\"color: rgba(255,0,0,0.6437355875968933)\">'</span>-,,, say All<span style=\"color: rgba(255,0,0,0.629397988319397)\">'</span>and,, say, which you,'' and, name that'- <span style=\"color: rgba(255,0,0,0.6755002737045288)\">and</span>, and<span style=\"color: rgba(255,0,0,0.7197377681732178)\">'</span>' say'<span style=\"color: rgba(255,0,0,0.5560114979743958)\">and</span> or-<span style=\"color: rgba(255,0,0,0.6030619144439697)\">say</span><span style=\"color: rgba(255,0,0,0.6558145880699158)\">,</span>'- of-say, say <span style=\"color: rgba(255,0,0,0.6212851405143738)\">you</span>'I<span style=\"color: rgba(255,0,0,0.6894543170928955)\">,</span><span style=\"color: rgba(255,0,0,0.7999920845031738)\">'</span><span style=\"color: rgba(255,0,0,0.8445752859115601)\">'</span>'<span style=\"color: rgba(255,0,0,0.7683191895484924)\">'</span> all,--','- says is <span style=\"color: rgba(255,0,0,0.9606500864028931)\">the</span> master -',,', love'-'--says,"
      ],
      "text/plain": [
       "<IPython.core.display.HTML object>"
      ]
     },
     "metadata": {},
     "output_type": "display_data"
    },
    {
     "name": "stdout",
     "output_type": "stream",
     "text": [
      "bad_words ['nothing', 'us', 'better', 'whom', 'half', 'lack', 'curious', '##x', 'keeping', 'all', '##ment', 'mind', 'looking', 'and', 'Maid', 'take', 'each', \"'\", ',', '.', 'one', 'not', 'consider', 'half', 'name', '-', 'But', 'said', 'ladies', '\"', 'says', 'is', 'master', 'love', \"'\"]\n",
      "bad_words ['nothing', 'curious', '##x', 'keeping', '##ment', 'mind', 'German', 'Maid', 'you', 'French', 'also', 'Port', 'in', 'none', 'of', '.', 'No', 'speaking', 'take', 'speaking', 'say', \"'\", 'of', '’', '\"', 'all', 'the', 'says', 'master', 'also', 'says']\n",
      "bad_words ['there', 'like', 'yourself', 'half', 'lack', 'third', '##x', ',', 'it', 'make', 'excellent', 'only', 'with', 'liberty', 'to', 'but', 'say', 'take', 'speaking', 'said', 'Turkish', 'either', 'of', 'more', 'get', '\"', '-', 'to', 'first', '-', 'says']\n",
      "bad_words ['can', 'make', 'Say', 'lack', '##vier', 'it', 'well', 'German', 'means', 'speaking', 'If', 'excellent', 'gain', 'only', 'word', 'while', 'word', 'disagree', '##che', 'adding', 'name', 'also', 'this', 'if', 'more', 'get', '\"', 'all', 'Others', 'Ah', 'Part', 'Even', 'speaking', \"'\"]\n",
      "bad_words ['scarce', 'me', 'Empire', 'eat', 'German', 'ladies', 'This', 'gain', 'English', 'language', 'Spanish', 'ou', ',', 'like', 'use', 'but', 'disagree', '##che', 'speaking', 'say', 'not', 'co', 'co', 'say', 'takes', 'I', 'speaking', '\"', 'First', 'all', 'Part', 'Even', 'citizens', 'all', \"'\"]\n",
      "bad_words ['cause', 'yourself', 'self', 'but', 'but', '##x', 'will', 'it', '##ces', 'composed', \"'\", 'This', 'deny', 'All', 'Spanish', '-', 'and', 'disagree', 'Third', 'these', 'say', 'you', \"'\", 'added', 'in', 'co', 'speaking', 'takes', 'more', '\"', 'quarters', \"'\", 'First', 'Speak', 'Part', 'Even', 'citizens']\n",
      "bad_words ['can', 'cause', 'Speaking', 'use', 'French', 'All', 'course', 'a', '##vier', 'me', 'than', 'speak', 'composed', 'will', 'who', 'all', 'deny', 'King', 'language', 'French', 'Spanish', 'Speaking', 'Speaking', 'disagree', 'Third', 'all', 'speaking', 'you', 'government', 'added', 'whom', 'least', 'others', '\"', 'quarters', 'all', 'First', 'The', 'mouth', 'first', 'citizens', 'word']\n",
      "bad_words ['wise', 'not', 'it', 'half', 'a', '##vier', '##x', 'issue', '-', 'who', 'matter', 'Born', 'and', 'Spanish', 'Speaking', 'aux', 'Speaking', 'disagree', 'Third', \"'\", 'only', 'say', 'except', 'which', 'government', 'Well', 'in', 'whom', 'least', ';', 'quarters', 'all', 'First', 'language', 'first', ',', 'word']\n",
      "bad_words ['wise', 'about', 'or', 'us', 'Speaking', 'French', 'quarter', 'opposite', 'opinion', 'which', 'Born', 'religion', 'character', 'aux', 'word', 'If', 'and', 'Third', 'only', 'say', 'government', 'Well', 'whom', 'cell', 'I', ';', 'which', 'first', 'all', '-']\n",
      "bad_words ['Straits', 'I', 'Speaking', 'language', 'I', '##rk', '##x', 'pouch', 'speak', 'subject', 'said', 'Born', 'subject', 'says', 'I', 'rank', ',', '-', 'If', '##rk', 'Third', 'license', 'authority', '-', 'and', 'government', 'whom', 'can', 'that', 'first', 'after']\n"
     ]
    },
    {
     "data": {
      "text/html": [
       "Straits, I use the word, and there, or all which like it.'' But it better than <span style=\"color: rgba(0,0,255,1)\">me</span>, that whom, that is,'-----<span style=\"color: rgba(0,0,255,1)\">-</span>- Speaking; but'that in France, too,'says he,'' <span style=\"color: rgba(0,0,255,1)\">my</span> <span style=\"color: rgba(0,0,255,1)\">language</span>, use the word,'and half,'or,'or,'---'-'All,'or to say the word,'word;'----- -'<span style=\"color: rgba(0,0,255,1)\">I</span>, ark and in<span style=\"color: rgba(0,0,255,1)\">x</span>t, <span style=\"color: rgba(0,0,255,1)\">pouch</span>, than well, speak on the <span style=\"color: rgba(0,0,255,1)\">subject</span>, but you, that and, all,'' speaking,'---'ladies,'' matter,'', that, to say, and that which said.<span style=\"color: rgba(0,0,255,1)\">'</span>--<span style=\"color: rgba(0,0,255,1)\">-</span> -'Born, half, or French,'-----,'word, to say,'in the word of <span style=\"color: rgba(0,0,255,1)\">subject</span> character;'---------'Speaking,<span style=\"color: rgba(0,0,255,1)\">'</span><span style=\"color: rgba(0,0,255,1)\">says</span> I, <span style=\"color: rgba(0,0,255,1)\">rank</span>,, the,, the<span style=\"color: rgba(0,0,255,1)\">,</span> -'<span style=\"color: rgba(0,0,255,1)\">-</span> <span style=\"color: rgba(0,0,255,1)\">If</span>'- <span style=\"color: rgba(0,0,255,1)\">but</span>--<span style=\"color: rgba(0,0,255,1)\">-</span>-,<span style=\"color: rgba(0,0,255,1)\">rk</span>, Third, <span style=\"color: rgba(0,0,255,1)\">license</span> and,, authority -, you,'' <span style=\"color: rgba(0,0,255,1)\">and</span>, -,'-,, and'' say <span style=\"color: rgba(0,0,255,1)\">government</span>-and---- -'- speaking, <span style=\"color: rgba(0,0,255,1)\">whom</span> <span style=\"color: rgba(0,0,255,1)\">can</span>''<span style=\"color: rgba(0,0,255,1)\">,</span>,,;----,',-which The <span style=\"color: rgba(0,0,255,1)\">the</span> that <span style=\"color: rgba(0,0,255,1)\">first</span> speaking',,'' <span style=\"color: rgba(0,0,255,1)\">that</span>'-'after--"
      ],
      "text/plain": [
       "<IPython.core.display.HTML object>"
      ]
     },
     "metadata": {},
     "output_type": "display_data"
    },
    {
     "data": {
      "text/html": [
       "Straits, I use the word, and there, or all which like it.'' But it better than <span style=\"color: rgba(255,0,0,0.5736732482910156)\">you</span>, that whom, that is,'-----<span style=\"color: rgba(255,0,0,0.9791154861450195)\">-</span>- Speaking; but'that in France, too,'says he,'' <span style=\"color: rgba(255,0,0,0.5515206456184387)\">and</span> <span style=\"color: rgba(255,0,0,0.5342055559158325)\">ladies</span>, use the word,'and half,'or,'or,'---'-'All,'or to say the word,'word;'----- -'<span style=\"color: rgba(255,0,0,0.5465982556343079)\">Prince</span>, ark and in<span style=\"color: rgba(255,0,0,0.6834478378295898)\">ces</span>t, <span style=\"color: rgba(255,0,0,0.5443783402442932)\">may</span>, than well, speak on the <span style=\"color: rgba(255,0,0,0.622262716293335)\">word</span>, but you, that and, all,'' speaking,'---'ladies,'' matter,'', that, to say, and that which said.<span style=\"color: rgba(255,0,0,0.8787474036216736)\">'</span>--<span style=\"color: rgba(255,0,0,0.9856923818588257)\">-</span> -'Born, half, or French,'-----,'word, to say,'in the word of <span style=\"color: rgba(255,0,0,0.8571758270263672)\">the</span> character;'---------'Speaking,<span style=\"color: rgba(255,0,0,0.9518911838531494)\">'</span><span style=\"color: rgba(255,0,0,0.6571279168128967)\">say</span> I, <span style=\"color: rgba(255,0,0,0.6033253073692322)\">say</span>,, the,, the <span style=\"color: rgba(255,0,0,0.9245545864105225)\">the</span> -'<span style=\"color: rgba(255,0,0,0.5178415179252625)\">All</span> <span style=\"color: rgba(255,0,0,0.5295050740242004)\">Speaking</span>'- <span style=\"color: rgba(255,0,0,0.5382819175720215)\">All</span>--<span style=\"color: rgba(255,0,0,0.8562518358230591)\">-</span>-, <span style=\"color: rgba(255,0,0,0.6350880265235901)\">say</span>, Third, <span style=\"color: rgba(255,0,0,0.5704706907272339)\">say</span> and,, authority -, you,'' <span style=\"color: rgba(255,0,0,0.638418436050415)\">-</span>, -,'-,, and'' say <span style=\"color: rgba(255,0,0,0.6906446218490601)\">word</span>-and---- -'- speaking, <span style=\"color: rgba(255,0,0,0.6455917358398438)\">of</span> <span style=\"color: rgba(255,0,0,0.603579044342041)\">and</span>''<span style=\"color: rgba(255,0,0,0.6871404051780701)\">'</span>,,;----,',-which The <span style=\"color: rgba(255,0,0,0.8761309385299683)\">the</span> that <span style=\"color: rgba(255,0,0,0.6715757846832275)\">the</span> speaking',,'' <span style=\"color: rgba(255,0,0,0.6578305959701538)\">-</span>'-'after--,"
      ],
      "text/plain": [
       "<IPython.core.display.HTML object>"
      ]
     },
     "metadata": {},
     "output_type": "display_data"
    },
    {
     "name": "stdout",
     "output_type": "stream",
     "text": [
      "bad_words ['Straits', 'all', 'which', 'I', 'all', 'your', 'But', '##nes', 'dealings', ',', 'ladies', 'matter', 'said', 'Born', 'this', 'Agreement', 'Kiss', 'Come', 'reply', 'of', 'Third', 'but', 'authority', 'you', 'or', 'and', 'this', \"'\", 'after']\n",
      "bad_words ['Straits', 'there', 'that', 'should', 'none', ';', 'or', 'knowing', '##nes', 'dealings', 'bidding', 'you', 'speak', 'ladies', \"'\", 'turn', 'word', 'ring', 'character', 'Speaking', \"'\", 'I', 'what', 'of', 'Kiss', \"'\", 'All', 'reply', 'for', 'and', 'his', 'but', 'word', '-', \"'\", 'made', 'world', 'But', 'consequence', 'after']\n",
      "bad_words ['lacking', 'is', 'nothing', 'there', 'your', 'quarter', 'knowing', '##bor', 'dealings', 'and', 'refusing', 'good', 'for', 'turn', 'Speaking', ',', 'term', 'set', 'Kiss', 'All', 'mouth', 'for', 'into', 'made', 'world', 'which', 'consequence']\n",
      "bad_words ['##r', 'is', 'or', ',', 'the', 'class', 'knowing', '##bor', 'good', 'All', 'another', 'turn', 'Ring', 'This', 'E', 'term', 'Boss', 'Good', \"'\", 'sometimes', 'mouth', \"'\", \"'\", 'into', 'speaking', 'with', 'Art', 'half', 'consequence']\n",
      "bad_words ['well', 'better', 'all', 'called', 'ones', 'look', 'knowing', 'if', 'you', 'speaking', 'give', 'half', 'use', 'Turn', 'quick', 'This', 'E', 'term', 'if', 'view', 'say', 'speaking', ',', 'but', 'speaking', 'paying', 'consequence']\n",
      "bad_words ['well', 'better', 'men', 'Speaking', 'sounding', 'ones', 'knowing', 'if', 'do', 'then', 'other', 'turn', 'manner', 'quick', 'French', 'French', 'E', 'term', 'Dame', \"'\", 'forth', 'Answer', 'and', 'enables', 'you', 'which', 'The', 'consequence', 'use']\n",
      "bad_words ['##r', 'some', 'elect', 'bows', 'sounding', \"'\", 'look', 'What', 'bitterness', 'gives', 'for', 'none', 'manner', 'horns', 'part', 'French', 'ladies', '\"', 'might', '##ches', 'Dame', 'Greeks', 'opinion', '-', 'enables', 'not', 'its', 'The', 'consequence', 'word', 'dialect']\n",
      "bad_words ['whom', 'there', 'elect', 'bows', 'sounding', 'ones', '##tep', 'What', 'in', 'mouth', 'all', 'other', 'or', 'properly', 'one', 'drink', 'is', 'man', 'manner', 'then', '##itude', 'Ye', '\"', 'of', 'Mon', 'answer', 'Dame', 'Greeks', 'Speak', '##eve', '##ities', 'and', 'or', 'terms', 'its', 'The', 'consequence', 'figure', 'use']\n",
      "bad_words ['elect', 'ceased', 'present', 'sounding', 'ones', '##tep', 'the', 'hear', 'other', 'properly', 'may', 'ladies', 'Gates', 'that', 'of', 'Ye', 'ladies', 'speaking', 'order', 'first', 'Greeks', '##eve', 'and', 'and', 'or', 'found', ';', 'its', 'well', 'consequence', 'figure', 'nothing', 'and', \"'\"]\n",
      "bad_words [\"'\", 'is', 'elect', '##eth', '##ur', 'present', '“', '##tep', 'word', 'if', 'other', 'properly', ',', 'Gates', 'of', 'All', 'well', 'least', '##eve', ',', 'found', 'its', 'well', 'towering', 'consequence', 'meaning', '##gment', \"'\"]\n"
     ]
    },
    {
     "data": {
      "text/html": [
       "whom, I use the word,'there is some that will like it.'' But it <span style=\"color: rgba(0,0,255,1)\">elect</span><span style=\"color: rgba(0,0,255,1)\">eth</span> men, that whom, that is,'------<span style=\"color: rgba(0,0,255,1)\">ur</span> <span style=\"color: rgba(0,0,255,1)\">present</span>, <span style=\"color: rgba(0,0,255,1)\">“</span>'that in France, too,'says he,'and all your ones use the word,'and half,'or<span style=\"color: rgba(0,0,255,1)\">,</span>'half,'-----'tep,'or to say the word<span style=\"color: rgba(0,0,255,1)\">,</span>'word,'----- -'What the ark, in ift, good, <span style=\"color: rgba(0,0,255,1)\">and</span> well, speak <span style=\"color: rgba(0,0,255,1)\">on</span> the word, all <span style=\"color: rgba(0,0,255,1)\">you</span>, that you have all,'then <span style=\"color: rgba(0,0,255,1)\">other</span>,'or--'<span style=\"color: rgba(0,0,255,1)\">properly</span>,'' all, and half, that is to say, and that, ladies.'--- <span style=\"color: rgba(0,0,255,1)\">-</span><span style=\"color: rgba(0,0,255,1)\">'</span>Gates,', or that,<span style=\"color: rgba(0,0,255,1)\">'</span>--<span style=\"color: rgba(0,0,255,1)\">-</span>--, the word, to say,'in the word of the word;'---------'All<span style=\"color: rgba(0,0,255,1)\">,</span> well,',, <span style=\"color: rgba(0,0,255,1)\">least</span> or -,, word <span style=\"color: rgba(0,0,255,1)\">of</span>--<span style=\"color: rgba(0,0,255,1)\">-</span>-'------that,, you<span style=\"color: rgba(0,0,255,1)\">eve</span> and,,, but,,'<span style=\"color: rgba(0,0,255,1)\">,</span>'<span style=\"color: rgba(0,0,255,1)\">'</span> and, -,'- say, and'' say and-or---- -'- speak, and found'' and but,;---- -',-<span style=\"color: rgba(0,0,255,1)\">its</span> <span style=\"color: rgba(0,0,255,1)\">well</span> the <span style=\"color: rgba(0,0,255,1)\">towering</span> <span style=\"color: rgba(0,0,255,1)\">consequence</span> half'<span style=\"color: rgba(0,0,255,1)\">meaning</span>,'<span style=\"color: rgba(0,0,255,1)\">gment</span>'' says<span style=\"color: rgba(0,0,255,1)\">'</span>,--"
      ],
      "text/plain": [
       "<IPython.core.display.HTML object>"
      ]
     },
     "metadata": {},
     "output_type": "display_data"
    },
    {
     "data": {
      "text/html": [
       "whom, I use the word,'there is some that will like it.'' But it <span style=\"color: rgba(255,0,0,0.7431530952453613)\">is</span> <span style=\"color: rgba(255,0,0,0.7089442610740662)\">all</span> men, that whom, that is,'------<span style=\"color: rgba(255,0,0,0.7103779315948486)\">-</span> <span style=\"color: rgba(255,0,0,0.5504947900772095)\">replied</span>, <span style=\"color: rgba(255,0,0,0.7692291736602783)\">and</span>'that in France, too,'says he,'and all your ones use the word,'and half,'or<span style=\"color: rgba(255,0,0,0.8829511404037476)\">,</span>'half,'-----'tep,'or to say the word<span style=\"color: rgba(255,0,0,0.96877121925354)\">,</span>'word,'----- -'What the ark, in ift, good, <span style=\"color: rgba(255,0,0,0.8332996368408203)\">and</span> well, speak<span style=\"color: rgba(255,0,0,0.7038500308990479)\">,</span> the word, all <span style=\"color: rgba(255,0,0,0.5561012029647827)\">that</span>, that you have all,'then <span style=\"color: rgba(255,0,0,0.6204676032066345)\">all</span>,'or--'<span style=\"color: rgba(255,0,0,0.668872594833374)\">half</span>,'' all, and half, that is to say, and that, ladies.'--- <span style=\"color: rgba(255,0,0,0.7896773815155029)\">-</span><span style=\"color: rgba(255,0,0,0.974564790725708)\">'</span>Gates,', or that,<span style=\"color: rgba(255,0,0,0.8001060485839844)\">'</span>- -<span style=\"color: rgba(255,0,0,0.7688645124435425)\">'</span>- -, the word, to say,'in the word of the word;'---------'All<span style=\"color: rgba(255,0,0,0.5965513586997986)\">,</span> well,',, <span style=\"color: rgba(255,0,0,0.6098354458808899)\">half</span> or -,, word <span style=\"color: rgba(255,0,0,0.5858487486839294)\">half</span>-- <span style=\"color: rgba(255,0,0,0.5530688762664795)\">then</span> -'------that,, you<span style=\"color: rgba(255,0,0,0.8513439893722534)\">,</span> and,,, but,,'<span style=\"color: rgba(255,0,0,0.5376203060150146)\">?</span>'<span style=\"color: rgba(255,0,0,0.8028612732887268)\">-</span> and, -,'- say, and'' say and-or---- -'- speak, and found'' and but,;---- -',-<span style=\"color: rgba(255,0,0,0.5720381736755371)\">And</span><span style=\"color: rgba(255,0,0,0.9108572006225586)\">'</span>the<span style=\"color: rgba(255,0,0,0.9066665768623352)\">'</span><span style=\"color: rgba(255,0,0,0.6413020491600037)\">all</span> half'<span style=\"color: rgba(255,0,0,0.5608518123626709)\">'</span>,'<span style=\"color: rgba(255,0,0,0.5742664337158203)\">'</span>'' says <span style=\"color: rgba(255,0,0,0.7725578546524048)\">-</span>,--,"
      ],
      "text/plain": [
       "<IPython.core.display.HTML object>"
      ]
     },
     "metadata": {},
     "output_type": "display_data"
    },
    {
     "name": "stdout",
     "output_type": "stream",
     "text": [
      "bad_words ['some', 'replies', 'ones', '##tep', ',', 'trade', 'one', '\"', 'Gates', 'say', 'otherwise', 'Assembly', '-', 'what', \"'\", 'then', 'found', '-', 'Bell', 'All', 'again', 'half']\n",
      "bad_words ['speaking', 'ones', 'rather', 'if', 'is', 'ears', 'heard', 'well', '##sist', '\"', 'No', 'these', 'say', 'mouth', 'or', 'all', 'Grand', 'ours', '##nges', 'say', 'or', 'Put', 'found', 'and', 'Well', 'Speaking', 'either']\n",
      "bad_words ['is', 'for', 'is', 'anxiously', 'word', 'first', '##en', 'put', 'turning', 'half', 'it', '\"', 'Say', 'these', 'meaning', 'All', 'some', ';', 'Grand', 'ours', '##nges', 'do', 'speak', 'use', 'fill', ':', 'four', 'speaks', 'least', 'face', 'Does']\n",
      "bad_words ['too', 'half', 'if', 'three', 'first', 'talk', 'well', 'and', 'placed', 'Say', 'some', 'or', 'Grand', '##hy', \"'\", 'saying', '##t', 'all', '##oll', 'pass', 'wise', '-', 'fill', 'order', 'should', 'least', 'Does']\n",
      "bad_words [\"'\", 'ones', 'What', 'if', '\"', 'come', ',', 'to', 'All', 'but', '228', 'to', 'this', 'quit', 'this', 'that', '##oll', 'pass', 'for', 'others', 'supremacy', 'should', 'sake', 'Defence', 'Does']\n",
      "bad_words ['French', 'word', 'or', 'To', '\"', 'come', 'others', 'says', 'that', 'words', 'well', 'this', 'all', 'that', 'then', 'for', 'others', ':', 'parts', 'being', 'lay', 'Does']\n",
      "bad_words ['terms', '##ss', 'leave', 'if', 'well', 'and', 'come', 'ears', 'but', 'manner', 'you', 'but', 'and', 'that', 'well', 'my', 'meaning', 'then', 'at', 'parts', 'friend', 'pass']\n",
      "bad_words ['terms', 'whom', 'persons', 'mean', 'From', ';', '##tain', 'travellers', 'ears', 'respect', 'manner', 'president', 'them', '—', 'nineteen', 'Vice', 'esteem', 'well', '-', 'these', 'those', 'at', 'the', 'parties', 'pass']\n",
      "bad_words ['But', 'will', '?', 'or', 'people', 'mention', 'speaking', 'word', 'will', 'foot', 'Vice', '-', 'esteem', 'well', \"'\", 'order', 'at', 'society', '##t', ',', 'sword', 'but', 'what']\n",
      "bad_words ['taste', \"'\", 'terms', 'From', ':', 'favorite', 'who', 'treating', 'all', '##čić', 'half', 'companions', 'or', '\"', 'these', 'funny', 'at', 'affairs', 'exercise', 'judgment', 'there']\n"
     ]
    },
    {
     "data": {
      "text/html": [
       "<span style=\"color: rgba(0,0,255,1)\">taste</span>, to use the word,'there is some that will like it.'''it <span style=\"color: rgba(0,0,255,1)\">is</span> some whom, for <span style=\"color: rgba(0,0,255,1)\">whom</span>, that is,'----- -'speaking,'' that in France, <span style=\"color: rgba(0,0,255,1)\">terms</span>,'says one,'that all will, use the word,'and half,'or,'half,'-----'all,'or to say the word,'half,'----- -'From the ark: incet, good, and well<span style=\"color: rgba(0,0,255,1)\">,</span>'or the <span style=\"color: rgba(0,0,255,1)\">favorite</span>, all those, that you <span style=\"color: rgba(0,0,255,1)\">have</span> put, <span style=\"color: rgba(0,0,255,1)\">who</span>'good,'or--, and,'' all, and others, that <span style=\"color: rgba(0,0,255,1)\">is</span> to say, of <span style=\"color: rgba(0,0,255,1)\">treating</span> to ladies.'--- -'All, <span style=\"color: rgba(0,0,255,1)\">all</span>, and that,<span style=\"color: rgba(0,0,255,1)\">'</span>-----, the word, to say,'in the manner of the<span style=\"color: rgba(0,0,255,1)\">čić</span>;'---------'All of them,',,'; <span style=\"color: rgba(0,0,255,1)\">-</span>,, word the-<span style=\"color: rgba(0,0,255,1)\">-</span> will <span style=\"color: rgba(0,0,255,1)\">half</span>, -'- word-- <span style=\"color: rgba(0,0,255,1)\">companions</span><span style=\"color: rgba(0,0,255,1)\">,</span> those you, all,, and but,,', that and and, -,'- then'but'and'<span style=\"color: rgba(0,0,255,1)\">or</span> -<span style=\"color: rgba(0,0,255,1)\">'</span>- <span style=\"color: rgba(0,0,255,1)\">\"</span>-- -'--use <span style=\"color: rgba(0,0,255,1)\">these</span> funny <span style=\"color: rgba(0,0,255,1)\">at</span>'<span style=\"color: rgba(0,0,255,1)\">affairs</span> <span style=\"color: rgba(0,0,255,1)\">exercise</span>,;----'',, -'<span style=\"color: rgba(0,0,255,1)\">judgment</span> <span style=\"color: rgba(0,0,255,1)\">there</span>'''','-'' says <span style=\"color: rgba(0,0,255,1)\">what</span>'- -"
      ],
      "text/plain": [
       "<IPython.core.display.HTML object>"
      ]
     },
     "metadata": {},
     "output_type": "display_data"
    },
    {
     "data": {
      "text/html": [
       "<span style=\"color: rgba(255,0,0,0.5171632170677185)\">,</span>, to use the word,'there is some that will like it.'''it <span style=\"color: rgba(255,0,0,0.7200265526771545)\">is</span> some whom, for <span style=\"color: rgba(255,0,0,0.5562125444412231)\">some</span>, that is,'----- -'speaking,'' that in France, <span style=\"color: rgba(255,0,0,0.5597578883171082)\">then</span>,'says one,'that all will, use the word,'and half,'or,'half,'-----'all,'or to say the word,'half,'----- -'From the ark: incet, good, and well<span style=\"color: rgba(255,0,0,0.9937198162078857)\">,</span>'or the <span style=\"color: rgba(255,0,0,0.6239287257194519)\">other</span>, all those, that you <span style=\"color: rgba(255,0,0,0.6695702075958252)\">will</span> put,<span style=\"color: rgba(255,0,0,0.6218497157096863)\">:</span>'good,'or--, and,'' all, and others, that <span style=\"color: rgba(255,0,0,0.802091658115387)\">is</span> to say, of <span style=\"color: rgba(255,0,0,0.536689817905426)\">use</span> to ladies.'--- -'All, <span style=\"color: rgba(255,0,0,0.5566765666007996)\">gentlemen</span>, and that,<span style=\"color: rgba(255,0,0,0.9901851415634155)\">'</span>-----, the word, to say,'in the manner of the <span style=\"color: rgba(255,0,0,0.6395935416221619)\">other</span>;'---------'All of them,',,'; <span style=\"color: rgba(255,0,0,0.9613742828369141)\">the</span>,, word the-<span style=\"color: rgba(255,0,0,0.6728301644325256)\">-</span> will <span style=\"color: rgba(255,0,0,0.6108602285385132)\">word</span>, -'- word-- <span style=\"color: rgba(255,0,0,0.5883693695068359)\">word</span><span style=\"color: rgba(255,0,0,0.8557822704315186)\">,</span> those you, all,, and but,,', that and and, -,'- then'but'and'<span style=\"color: rgba(255,0,0,0.5828194618225098)\">or</span> -<span style=\"color: rgba(255,0,0,0.6204137206077576)\">,</span> -<span style=\"color: rgba(255,0,0,0.8616663813591003)\">'</span>---'--use <span style=\"color: rgba(255,0,0,0.7442235350608826)\">are</span> funny<span style=\"color: rgba(255,0,0,0.9035946130752563)\">,</span>'<span style=\"color: rgba(255,0,0,0.5828513503074646)\">:</span><span style=\"color: rgba(255,0,0,0.558543860912323)\">:</span>,;----'',, -'<span style=\"color: rgba(255,0,0,0.5686359405517578)\">ladies</span> <span style=\"color: rgba(255,0,0,0.5357081890106201)\">women</span>'''','-'' says <span style=\"color: rgba(255,0,0,0.5920604467391968)\">and</span>'- -,"
      ],
      "text/plain": [
       "<IPython.core.display.HTML object>"
      ]
     },
     "metadata": {},
     "output_type": "display_data"
    },
    {
     "name": "stdout",
     "output_type": "stream",
     "text": [
      "bad_words ['-', 'not', 'whom', 'and', 'two', 'say', 'them', 'one', 'word', 'half', 'word', 'one', 'water', \"'\", 'funny', 'to', 'saying', '-', 'people', 'women', '##ery']\n",
      "bad_words ['all', 'meaning', 'all', 'but', 'ones', 'like', 'disposed', '-', 'will', 'word', 'and', 'consequence', 'some', 'union', 'water', '-', 'service', \"'\", 'all', \"'\", 'word', \"'\"]\n",
      "bad_words ['all', 'two', 'men', 'legends', 'or', 'self', 'two', 'this', 'foul', 'Those', '-', ':', 'these', '##e', 'Look', 'concerning', 'Homer', 'doing', 'union', 'water', 'they', 'us', '“', 'Flanders', \"'\", 'half']\n",
      "bad_words ['is', 'name', 'those', 'attach', '##resh', 'adds', 'two', 'this', 'or', 'civil', 'All', 'King', 'all', 'them', ';', 'these', 'these', 'word', 'Look', 'concerning', 'doing', 'union', 'that', 'word', '##fill', '##v', 'they', 'Fool', \"'\", \"'\", \"'\", 'Flanders', 'one']\n",
      "bad_words ['##ce', 'drive', '-', 'name', 'attach', 'use', 'adds', 'well', 'ones', 'put', 'speaking', \"'\", 'name', 'civil', 'put', 'one', 'them', 'mess', 'word', 'concerning', 'doing', 'all', 'the', '##fill', '##v', 'heads', 'use', '?', 'women', 'two', 'or']\n",
      "bad_words ['it', 'will', 'saying', 'attach', 'adds', 'poverty', 'well', 'or', 'ones', 'there', 'of', 'name', 'civil', 'ladies', 'and', 'without', 'that', 'concerning', 'unknown', 'one', 'but', 'and', 'refrain', 'all', 'will', 'five', 'all', 'of', 'and']\n",
      "bad_words ['it', 'attach', 'use', 'Vice', 'send', 'poverty', 'caution', ':', 'ministers', 'name', 'pray', 'put', 'them', \"'\", 'new', 'succeeding', 'some', 'unknown', 'Thomas', 'but', 'that', 'and', 'then', 'those', 'there', 'names', '-', 'speaking', '?', 'the', 'and', 'says']\n",
      "bad_words ['afterwards', 'like', 'wisdom', 'use', 'should', 'poverty', 'ministers', 'between', 'he', 'name', 'others', 'pray', 'ladies', 'All', 'from', 'shame', 'Constitutional', 'either', 'without', 'new', 'pass', 'say', 'will', 'Thomas', 'course', 'they', 'some', 'some', 'and', 'there', '-', 'names', 'speaking', 'category', ':', 'become', '-']\n",
      "bad_words ['afterwards', ';', 'hold', 'wisdom', 'those', 'likes', 'hesitation', 'body', 'put', 'take', 'name', 'ring', 'say', 'place', 'nature', 'approaching', 'shame', 'Constitutional', 'either', 'speech', 'new', 'pass', 'may', 'foe', 'course', 'which', 'and', 'knowing', 'names', 'will', 'good', 'guard', 'category', 'or']\n",
      "bad_words ['man', 'if', '?', 'moments', 'superior', 'are', 'you', 'likes', 'kingdom', 'caution', 'take', 'purse', ',', 'whether', '##dain', 'it', 'Till', 'hands', 'approaching', 'and', 'Constitutional', 'either', 'speech', 'new', 'yard', 'pass', 'but', ',', 'first', 'some', 'knowing', 'names', 'they', 'good', 'and', 'one', 'category', 'with']\n"
     ]
    },
    {
     "data": {
      "text/html": [
       "man, to use the word, if that <span style=\"color: rgba(0,0,255,1)\">is</span> some that will hold it.'-'it is some whom, for whom, that will<span style=\"color: rgba(0,0,255,1)\">?</span>'----- -'speaking,'' <span style=\"color: rgba(0,0,255,1)\">that</span> in <span style=\"color: rgba(0,0,255,1)\">moments</span> <span style=\"color: rgba(0,0,255,1)\">superior</span> saying,'<span style=\"color: rgba(0,0,255,1)\">'</span> one,'that are <span style=\"color: rgba(0,0,255,1)\">you</span> use use the word,'' half,'half,'<span style=\"color: rgba(0,0,255,1)\">half</span>,''---<span style=\"color: rgba(0,0,255,1)\">-</span>'all,'or to use the word,'half,'----- -'<span style=\"color: rgba(0,0,255,1)\">likes</span> the a<span style=\"color: rgba(0,0,255,1)\">rk</span>: incet, kingdom, and caution:, or the body, of those, that you will take,'the <span style=\"color: rgba(0,0,255,1)\">purse</span>,''--, whether,'' all, and others, thatdain to ring, <span style=\"color: rgba(0,0,255,1)\">it</span>, to <span style=\"color: rgba(0,0,255,1)\">say</span>:'-<span style=\"color: rgba(0,0,255,1)\">-</span>- <span style=\"color: rgba(0,0,255,1)\">-</span>'Till, hands, <span style=\"color: rgba(0,0,255,1)\">approaching</span> all,'-----, the others, to say,'in the shame of the other;'----- and <span style=\"color: rgba(0,0,255,1)\">Constitutional</span>--<span style=\"color: rgba(0,0,255,1)\">'</span>all-either, or,,'and the,,'speech<span style=\"color: rgba(0,0,255,1)\">'</span>' <span style=\"color: rgba(0,0,255,1)\">new</span>'<span style=\"color: rgba(0,0,255,1)\">yard</span>-pass or---word say some, <span style=\"color: rgba(0,0,255,1)\">may</span> say but,'one, the'' which'<span style=\"color: rgba(0,0,255,1)\">and</span>, first,'- some'<span style=\"color: rgba(0,0,255,1)\">some</span><span style=\"color: rgba(0,0,255,1)\">'</span>and-of knowing <span style=\"color: rgba(0,0,255,1)\">names</span> -,-- -'--say they good, say'',; <span style=\"color: rgba(0,0,255,1)\">and</span>-- one--,, -'<span style=\"color: rgba(0,0,255,1)\">category</span>:,''','-'' with or<span style=\"color: rgba(0,0,255,1)\">-</span>- -"
      ],
      "text/plain": [
       "<IPython.core.display.HTML object>"
      ]
     },
     "metadata": {},
     "output_type": "display_data"
    },
    {
     "data": {
      "text/html": [
       "man, to use the word, if that <span style=\"color: rgba(255,0,0,0.6584531664848328)\">be</span> some that will hold it.'-'it is some whom, for whom, that will<span style=\"color: rgba(255,0,0,0.7411507368087769)\">,</span>'----- -'speaking,''<span style=\"color: rgba(255,0,0,0.6245081424713135)\">'</span>in <span style=\"color: rgba(255,0,0,0.532109797000885)\">the</span><span style=\"color: rgba(255,0,0,0.7240762114524841)\">,</span> saying,'<span style=\"color: rgba(255,0,0,0.5327569842338562)\">of</span> one,'that are<span style=\"color: rgba(255,0,0,0.7048759460449219)\">,</span> use use the word,'' half,'half,'<span style=\"color: rgba(255,0,0,0.6173038482666016)\">half</span>,''-- -<span style=\"color: rgba(255,0,0,0.792963445186615)\">'</span>' all,'or to use the word,'half,'----- -'<span style=\"color: rgba(255,0,0,0.521385133266449)\">'</span> the a<span style=\"color: rgba(255,0,0,0.5156105756759644)\">rk</span>: incet, kingdom, and caution:, or the body, of those, that you will take,'the <span style=\"color: rgba(255,0,0,0.5415518879890442)\">word</span>,''--, whether,'' all, and others, thatdain to ring, <span style=\"color: rgba(255,0,0,0.583701491355896)\">ring</span>, to <span style=\"color: rgba(255,0,0,0.5372056365013123)\">say</span>:'-<span style=\"color: rgba(255,0,0,0.9685781598091125)\">-</span>- <span style=\"color: rgba(255,0,0,0.9694588780403137)\">-</span>'Till, hands,<span style=\"color: rgba(255,0,0,0.6230131387710571)\">'</span>all,'-----, the others, to say,'in the shame of the other;'----- and<span style=\"color: rgba(255,0,0,0.5739299058914185)\">-</span>- -<span style=\"color: rgba(255,0,0,0.6945935487747192)\">,</span> all-either, or,,'and the,,'speech<span style=\"color: rgba(255,0,0,0.6410441398620605)\">,</span>'<span style=\"color: rgba(255,0,0,0.7298678755760193)\">'</span>'<span style=\"color: rgba(255,0,0,0.5675266981124878)\">-</span>-pass or---word say some,<span style=\"color: rgba(255,0,0,0.5744946002960205)\">,</span> say but,'one, the'' which'<span style=\"color: rgba(255,0,0,0.5231277346611023)\">'</span>, first,'- some'<span style=\"color: rgba(255,0,0,0.5832085609436035)\">'</span><span style=\"color: rgba(255,0,0,0.6564129590988159)\">'</span>and-of knowing<span style=\"color: rgba(255,0,0,0.6035264134407043)\">'</span>-,-- -'--say they good, say'',;<span style=\"color: rgba(255,0,0,0.5719079375267029)\">-</span>--one--,, -'<span style=\"color: rgba(255,0,0,0.6417745351791382)\">,</span>:,''','-'' with or<span style=\"color: rgba(255,0,0,0.7759382724761963)\">,</span>--,"
      ],
      "text/plain": [
       "<IPython.core.display.HTML object>"
      ]
     },
     "metadata": {},
     "output_type": "display_data"
    },
    {
     "name": "stdout",
     "output_type": "stream",
     "text": [
      "bad_words ['man', 'some', 'turn', 'in', 'those', 'Dukes', 'are', 'not', 'use', 'use', 'once', '##stituted', '##itude', 'kingdom', 'half', 'whether', '##dain', 'order', 'that', 'Till', 'water', \"'\", ':', 'all', '-', 'either', 'speech', 'again', 'pass', 'or', 'some', 'or', 'luxury', 'first', ',', 'knowing', 'they', 'good', 'or', 'with']\n",
      "bad_words ['man', 'that', '?', 'Rabbi', 'Dukes', 'speaking', 'judgment', '##stituted', '##ble', 'caution', 'take', '##dain', 'bow', 'water', 'speech', 'pass', 'some', 'thought', ':', 'reputation', 'and', 'knowing', 'return', 'good', 'this', 'so', 'with']\n",
      "bad_words ['necessary', 'if', \"'\", 'are', '?', 'turn', 'That', 'which', 'half', 'judgment', 'is', 'these', 'take', 'whether', 'proved', 'use', 'hands', 'either', 'the', 'second', '-', 'speech', 'four', 'say', '-', 's', ':', 'reputation', 'first', '?', 'and', 'and', 'turn', 'good', 'says', 'another', 'with', 'read']\n",
      "bad_words ['necessary', 'past', 'if', 'stealing', 'judgment', 'order', 'test', 'place', 'say', 'whether', 'others', 'proved', 'ring', 'hands', 'but', 'either', 'either', 'circumstances', 'of', ';', 'King', 'either', 'revealing', '?', 'and', 'rule', 'an', 'says', 'another', 'with', 'it']\n",
      "bad_words ['verses', 'past', 'saying', '-', 'judgment', 'election', 'test', 'vice', 'poverty', '-', 'half', 'whether', 'others', 'proved', 'stands', 'bow', 'hands', 'either', 'other', 'and', 'silent', \"'\", 'but', 'from', 'but', 'argues', 's', 'or', 'King', 'first', 'revealing', 'some', 'says', 'calls', '-', 'said', 'and', '-', 'gentlemen', 'an', 'say', 'either', ',', '##aine', 'stand']\n",
      "bad_words ['him', 'word', 'rather', 'belonging', 'which', 'judgment', 'test', '##ble', 'those', 'woman', ',', 'whether', 'others', 'proved', 'stands', 'direction', 'hands', 'either', 'man', 'shame', 'that', 'and', 'and', 'silent', 'company', '-', 'or', 'from', 'but', 'that', 's', 'either', \"'\", 'reason', 'revealing', 'says', 'but', 'gentlemen', 'who', ';', 'word', '##aine', 'stand']\n",
      "bad_words ['may', 'superior', 'speaks', 'belonging', 'half', 'judgment', 'step', 'test', 'state', 'woman', 'cap', 'stands', 'direction', 'hands', 'to', 'call', 'place', 'of', 'and', 'silent', '\"', 'but', 'prayers', 'word', 's', 'may', 'because', 'defeated', 'by', 'which', 'either', 'and', 'whom', 'and', 'that', 'word', '[', '##aine', 'stand']\n",
      "bad_words ['##ce', 'but', 'speaks', 'speaking', 'will', 'then', 'step', 'test', 'poverty', 'poverty', 'all', 'others', 'cap', 'us', 'came', 'direction', 'hands', 'to', \"'\", 'it', 'whom', 'refusal', '\"', 'and', 'third', 's', 'defeated', 'and', 'and', 'married', 'name', '##aine', 'piss', 'stand']\n",
      "bad_words ['she', 'reason', 'preference', 'perhaps', 'word', 'matters', 'test', 'virtue', 'all', 'others', 'cap', 'whom', 'came', 'members', 'hands', 'size', '##is', ',', '\"', ':', 'for', 'third', '-', 's', 'may', 'if', 'some', 'and', 'married', 'stand', \"'\", 'name', 'your', 'reply', \"'\"]\n",
      "bad_words ['well', 'if', 'preference', 'is', 'matters', 'before', '##ble', 'take', 'matters', ';', 'her', 'came', \"'\", 'affairs', 'absence', 'that', '##is', '-', '\"', 'to', 'System', 'that', 'by', 'if', 'state', 'ought', \"'\", 'calls', ';', 'people', 'name', 'management', 'reply']\n"
     ]
    },
    {
     "data": {
      "text/html": [
       "<span style=\"color: rgba(0,0,255,1)\">well</span>, to use the word, if reason but, that will hold it.'-'preference <span style=\"color: rgba(0,0,255,1)\">is</span> some <span style=\"color: rgba(0,0,255,1)\">whom</span>, for whom, that will,'----- -'speaking,'' speaking,', perhaps,'' word,'which, not to use the word,'' half,'matters,'then,''--','all<span style=\"color: rgba(0,0,255,1)\">,</span>'or to use the word,'half,'----- -'before the stateble: incet, virtue, and poverty:<span style=\"color: rgba(0,0,255,1)\">,</span> or the body,--, that you will <span style=\"color: rgba(0,0,255,1)\">take</span>,'' half,''-- -',<span style=\"color: rgba(0,0,255,1)\">'</span>' all, all matters, that<span style=\"color: rgba(0,0,255,1)\">;</span> to <span style=\"color: rgba(0,0,255,1)\">her</span>, came, to say:'- -'-'', affairs<span style=\"color: rgba(0,0,255,1)\">,</span> but all,'------the man, to call,'in the absence of the other;'<span style=\"color: rgba(0,0,255,1)\">that</span>-- -<span style=\"color: rgba(0,0,255,1)\">'</span>and<span style=\"color: rgba(0,0,255,1)\">'</span><span style=\"color: rgba(0,0,255,1)\">it</span>is,'- <span style=\"color: rgba(0,0,255,1)\">-</span>, or, <span style=\"color: rgba(0,0,255,1)\">\"</span>'<span style=\"color: rgba(0,0,255,1)\">and</span> the,,'' or'<span style=\"color: rgba(0,0,255,1)\">to</span> for',<span style=\"color: rgba(0,0,255,1)\">'</span>say---System, that'by, but,'if,, and'which<span style=\"color: rgba(0,0,255,1)\">'</span>and, <span style=\"color: rgba(0,0,255,1)\">state</span> -'and some','and-of but---and to -'-, say <span style=\"color: rgba(0,0,255,1)\">ought</span> say, say<span style=\"color: rgba(0,0,255,1)\">'</span><span style=\"color: rgba(0,0,255,1)\">calls</span>,; word'- <span style=\"color: rgba(0,0,255,1)\">one</span>'-,, -';:, <span style=\"color: rgba(0,0,255,1)\">people</span> and','-, <span style=\"color: rgba(0,0,255,1)\">name</span> <span style=\"color: rgba(0,0,255,1)\">management</span> reply'- -"
      ],
      "text/plain": [
       "<IPython.core.display.HTML object>"
      ]
     },
     "metadata": {},
     "output_type": "display_data"
    },
    {
     "data": {
      "text/html": [
       "<span style=\"color: rgba(255,0,0,0.5193195343017578)\">will</span>, to use the word, if reason but, that will hold it.'-'preference <span style=\"color: rgba(255,0,0,0.7817944884300232)\">to</span> some <span style=\"color: rgba(255,0,0,0.5485628843307495)\">parts</span>, for whom, that will,'----- -'speaking,'' speaking,', perhaps,'' word,'which, not to use the word,'' half,'matters,'then,''--','all<span style=\"color: rgba(255,0,0,0.9819852709770203)\">,</span>'or to use the word,'half,'----- -'before the stateble: incet, virtue, and poverty:<span style=\"color: rgba(255,0,0,0.6915286183357239)\">'</span>or the body,--, that you will <span style=\"color: rgba(255,0,0,0.6035202741622925)\">say</span>,'' half,''-- -', <span style=\"color: rgba(255,0,0,0.705753743648529)\">and</span>'all, all matters, that<span style=\"color: rgba(255,0,0,0.58710116147995)\">,</span> to <span style=\"color: rgba(255,0,0,0.7821766138076782)\">say</span>, came, to say:'- -'-'', affairs<span style=\"color: rgba(255,0,0,0.8914265632629395)\">,</span> but all,'------the man, to call,'in the absence of the other;'<span style=\"color: rgba(255,0,0,0.8618171215057373)\">-</span>-- -<span style=\"color: rgba(255,0,0,0.9625028967857361)\">'</span>and <span style=\"color: rgba(255,0,0,0.5829183459281921)\">the</span> <span style=\"color: rgba(255,0,0,0.5138636827468872)\">or</span>is,'- <span style=\"color: rgba(255,0,0,0.6082341074943542)\">-</span>, or, <span style=\"color: rgba(255,0,0,0.610136866569519)\">-</span>'<span style=\"color: rgba(255,0,0,0.5535807609558105)\">for</span> the,,'' or'<span style=\"color: rgba(255,0,0,0.7377822399139404)\">either</span> for',<span style=\"color: rgba(255,0,0,0.8880295157432556)\">'</span>say---System, that'by, but,'if,, and'which<span style=\"color: rgba(255,0,0,0.5700306296348572)\">'</span>and, <span style=\"color: rgba(255,0,0,0.6220448017120361)\">or</span> -'and some','and-of but---and to -'-, say <span style=\"color: rgba(255,0,0,0.6474071145057678)\">say</span> say, say <span style=\"color: rgba(255,0,0,0.6159071326255798)\">use</span> <span style=\"color: rgba(255,0,0,0.5298537611961365)\">and</span>,; word'- <span style=\"color: rgba(255,0,0,0.5354956388473511)\">and</span>'-,, -';:,<span style=\"color: rgba(255,0,0,0.9466269016265869)\">,</span> and','-,<span style=\"color: rgba(255,0,0,0.9186546802520752)\">'</span><span style=\"color: rgba(255,0,0,0.666135311126709)\">'</span> reply'- -,"
      ],
      "text/plain": [
       "<IPython.core.display.HTML object>"
      ]
     },
     "metadata": {},
     "output_type": "display_data"
    },
    {
     "name": "stdout",
     "output_type": "stream",
     "text": [
      "bad_words ['blame', 'if', 'reason', 'preference', 'persons', 'perhaps', 'word', 'matters', 'poverty', 'that', 'if', 'came', 'affairs', 'co', '##hip', 'race', '-', 'System', \"'\", 'which', 'some', 'and', 'add', 'more', 'word', 'matter', 'of', 'reply']\n",
      "bad_words ['an', 'preference', 'management', 'best', 'say', 'before', '##ble', 'another', 'came', \"'\", 'from', 'and', 'an', 'number', '-', '##tive', 'by', 'judge', 'might', 'Greek', 'action', 'insult', 'more', 'word', 'our', ',', 'reply']\n",
      "bad_words ['persons', 'Points', 'management', 'best', '##tion', \"'\", '##ege', 'and', 'life', '##ision', 'self', 'an', '##uit', 'about', '##int', '##tive', \"'\", 'might', 'Greek', '\"', 'insult', 'word', 'our', ':', 'any', 'might']\n",
      "bad_words ['doctrines', 'hand', 'stomach', 'declares', 'name', 'being', 'that', 'matters', 'yourself', 'Mind', 'good', 'the', 'say', ':', '##y', '##tive', 'what', 'may', 'if', 'might', '\"', 'to', 'insult', 'word', 'our', 'rank', 'any', \"'\", 'might', 'if']\n",
      "bad_words ['Anna', 'And', 'stomach', \"'\", \"'\", '##ut', 'if', 'but', '-', 'offers', 'but', 'thousand', 'now', '\"', 'man', 'was', 'that', '##y', '##fers', 'but', 'if', 'self', 'insult', \"'\", 'our', 'rank', 'but']\n",
      "bad_words ['##ome', 'go', 'but', 'foot', 'Half', 'and', 'name', 'state', '##ut', '34th', 'body', '!', 'one', '?', 'absence', 'was', '##y', 'one', 'for', 'degree', 'half', 'patent', 'insult', 'none', 'self', 'now']\n",
      "bad_words ['ب', 'means', 'which', 'speaks', '##vance', 'thing', 'man', 'gathering', 'then', 'words', 'value', '-', 'may', 'for', '##elf', 'that', 'as', 'order', 'wall', 'none', 'self', 'all', 'added', 'speaking']\n",
      "bad_words [';', 'half', 'major', 'not', '!', 'nothing', 'jewels', ':', 'some', 'value', 'might', 'some', 'believed', 'but', 'of', '\"', ':', 'land', 'sex', 'turned', 'self', 'all', 'added', 'body']\n",
      "bad_words ['satisfied', 'impossible', 'which', 'first', 'major', '##position', 'or', 'some', ';', 'that', 'rest', 'call', 'absence', 'of', 'value', 'might', 'some', '##t', 'then', 'two', '-', 'self', 'and', 'general', 'body']\n",
      "bad_words ['conclude', 'people', 'may', 'first', 'that', 'major', '##position', 'order', 'the', 'relationship', '\"', 'other', 'absence', 'jewels', \"'\", 'some', 'value', 'what', 'but', '##uckled', 'make', 'then']\n"
     ]
    },
    {
     "data": {
      "text/html": [
       "<span style=\"color: rgba(0,0,255,1)\">conclude</span>, to use the word,'' but, that will hold <span style=\"color: rgba(0,0,255,1)\">people</span>.'-'go to some persons, for whom, that will,'----- -<span style=\"color: rgba(0,0,255,1)\">'</span>speaking,'' speaking,', perhaps, but'half,'<span style=\"color: rgba(0,0,255,1)\">may</span>, not to use the word,'' half,'','then,''--'<span style=\"color: rgba(0,0,255,1)\">first</span>'all,'or to use <span style=\"color: rgba(0,0,255,1)\">that</span> word,'<span style=\"color: rgba(0,0,255,1)\">half</span>,'--------the word <span style=\"color: rgba(0,0,255,1)\">major</span><span style=\"color: rgba(0,0,255,1)\">:</span> ince<span style=\"color: rgba(0,0,255,1)\">position</span>, order,'and<span style=\"color: rgba(0,0,255,1)\">,</span> if'<span style=\"color: rgba(0,0,255,1)\">the</span> some'<span style=\"color: rgba(0,0,255,1)\">-</span> -, that he will say,'' half,''-- -','' all, all;'that <span style=\"color: rgba(0,0,255,1)\">is</span> to say, and but to say:<span style=\"color: rgba(0,0,255,1)\">-</span>-<span style=\"color: rgba(0,0,255,1)\">'</span>' -'' that <span style=\"color: rgba(0,0,255,1)\">relationship</span>, but all<span style=\"color: rgba(0,0,255,1)\">;</span> <span style=\"color: rgba(0,0,255,1)\">\"</span>------ the <span style=\"color: rgba(0,0,255,1)\">other</span>, to say,'' the absence, the other;'--<span style=\"color: rgba(0,0,255,1)\">-</span>,-- coquetis,'or <span style=\"color: rgba(0,0,255,1)\">jewels</span>, or,'''the,, of'or of-- -,-then<span style=\"color: rgba(0,0,255,1)\">-</span>- some <span style=\"color: rgba(0,0,255,1)\">value</span>-that what some,', of,,'''and'and, or -'and -','and but, <span style=\"color: rgba(0,0,255,1)\">but</span>--,,, -'-, say'<span style=\"color: rgba(0,0,255,1)\">uckled</span>, <span style=\"color: rgba(0,0,255,1)\">make</span> <span style=\"color: rgba(0,0,255,1)\">say</span> say,'''-'' -', of and -'', -','-,''--'-"
      ],
      "text/plain": [
       "<IPython.core.display.HTML object>"
      ]
     },
     "metadata": {},
     "output_type": "display_data"
    },
    {
     "data": {
      "text/html": [
       "<span style=\"color: rgba(255,0,0,0.5507214665412903)\">might</span>, to use the word,'' but, that will hold <span style=\"color: rgba(255,0,0,0.5667548775672913)\">out</span>.'-'go to some persons, for whom, that will,'----- -<span style=\"color: rgba(255,0,0,0.8814836144447327)\">'</span>speaking,'' speaking,', perhaps, but'half,'<span style=\"color: rgba(255,0,0,0.5503194332122803)\">that</span>, not to use the word,'' half,'','then,''--'<span style=\"color: rgba(255,0,0,0.6561019420623779)\">,</span>'all,'or to use <span style=\"color: rgba(255,0,0,0.9242129921913147)\">the</span> word,'<span style=\"color: rgba(255,0,0,0.5226996541023254)\">some</span>,'--------the word<span style=\"color: rgba(255,0,0,0.9828732013702393)\">,</span><span style=\"color: rgba(255,0,0,0.9784301519393921)\">'</span>ince<span style=\"color: rgba(255,0,0,0.5584081411361694)\">ct</span>, order,'and<span style=\"color: rgba(255,0,0,0.8435187935829163)\">,</span> if'<span style=\"color: rgba(255,0,0,0.5423492789268494)\">says</span> some'<span style=\"color: rgba(255,0,0,0.9511806964874268)\">-</span> -, that he will say,'' half,''-- -','' all, all;'that<span style=\"color: rgba(255,0,0,0.8360671997070312)\">,</span> to say, and but to say:<span style=\"color: rgba(255,0,0,0.863002598285675)\">'</span>- <span style=\"color: rgba(255,0,0,0.8544553518295288)\">-</span>'-'' that <span style=\"color: rgba(255,0,0,0.5477178692817688)\">one</span>, but all<span style=\"color: rgba(255,0,0,0.8894842863082886)\">,</span><span style=\"color: rgba(255,0,0,0.950610876083374)\">'</span>------the <span style=\"color: rgba(255,0,0,0.5670740604400635)\">whole</span>, to say,'' the absence, the other;'--<span style=\"color: rgba(255,0,0,0.5615983009338379)\">another</span>,-- coquetis,'or <span style=\"color: rgba(255,0,0,0.5585106611251831)\">some</span>, or,'''the,, of'or of-- -,-then<span style=\"color: rgba(255,0,0,0.6585582494735718)\">'</span>- some<span style=\"color: rgba(255,0,0,0.5522252321243286)\">,</span>-that what some,', of,,'''and'and, or -'and -','and but,<span style=\"color: rgba(255,0,0,0.75551438331604)\">,</span>--,,, -'-, say'<span style=\"color: rgba(255,0,0,0.543775737285614)\">word</span>,<span style=\"color: rgba(255,0,0,0.843805193901062)\">'</span><span style=\"color: rgba(255,0,0,0.5996652245521545)\">:</span> say,'''-'' -', of and -'', -','-,''--'- then"
      ],
      "text/plain": [
       "<IPython.core.display.HTML object>"
      ]
     },
     "metadata": {},
     "output_type": "display_data"
    },
    {
     "name": "stdout",
     "output_type": "stream",
     "text": [
      "bad_words ['considerations', 'are', 'discretion', '##rable', 'name', 'some', ';', 'T', 'time', 'other', \"'\", 'absence', 'was', 'word', \"'\", ':', 'terms', 'for', \"'\"]\n",
      "bad_words ['that', 'Then', \"'\", 'perhaps', 'are', 'Joan', 'some', '-', 'that', 'but', '(', 'self', '?', 'that', '##ty', 'two', 'only', 'Hence', 'some', ':', \"'\", 'the', 'woman', \"'\", 'again']\n",
      "bad_words ['favorite', 'use', \"'\", \"'\", '##ncy', 'if', 'wore', 'cap', '(', 'the', '?', 'one', 'some', 'other', 'most', 'starting', 'and', 'whether', 'Hence', 'fire', '##er', 'but', \"'\", 'woman', '##thing']\n",
      "bad_words ['should', 'owe', ':', 'ring', 'charity', 'submarines', 'if', 'wore', 'use', 'cap', '-', 'then', 'say', 'half', 'from', 'time', 'blow', 'Hence', ',', '##er', 'worth', 'retiring', 'not', 'woman', '##thing', 'least', 'some', 'proceeding']\n",
      "bad_words ['later', 'brutality', 'charity', 'submarines', 'and', 'and', 'or', 'foolish', 'give', 'use', 'cap', 'then', 'either', 'then', 'Say', 'time', 'which', 'will', ',', 'worth', 'or', 'to', \"'\", 'some', 'proceeding']\n",
      "bad_words ['one', 'that', 'brutality', 'say', 'thirds', \"'\", '##ment', 'whom', 'foolish', 'as', 'that', 'or', 'then', 'either', 'then', 'Say', 'come', '##am', ',', '-', '-', '-', 'with', 'bladder', 'worth', 'or', 'again', 'thinks', 'courses', 'twenty', 'government', 'Powers', 'what']\n",
      "bad_words ['place', 'little', 'that', 'of', 'thirds', \"'\", 'but', 'foolish', 'especially', 'not', 'people', 'to', 'either', 'then', 'five', '##am', '##y', 'to', 'but', 'or', 'and', 'then', '##am', 'then', 'says', 'ye', 'government', 'what', 'then']\n",
      "bad_words ['Either', 'perhaps', 'not', 'little', 'saying', 'spit', 'thirds', \"'\", 'then', 'he', 'And', 'Is', 'especially', 'not', 'people', 'but', 'either', 'then', ';', 'five', \"'\", ',', '-', 'what', 'do', 'q', 'and', '##am', 'or', 'seek', 'who', 'from', 'again', \"'\", 'or', 'said', 'perhaps', '-']\n",
      "bad_words ['place', 'Either', 'which', 'while', 'saying', 'spit', 'thirds', 'many', '?', ';', 'especially', 'that', '(', \"'\", 'of', '.', 'what', 'two', 'q', 'just', '##am', 'seek', 'dying', 'now', 'and', 'said', 'after', ',']\n",
      "bad_words ['Either', 'voices', 'that', 'and', 'while', 'saying', 'of', 'half', 'or', 'eat', 'thank', '(', 'then', '##lor', 'a', 'said', 'perhaps', 'order', 'q', 'and', 'but', 'just', '##am', '##illa', 'who', 'dying', 'but', 'said']\n"
     ]
    },
    {
     "data": {
      "text/html": [
       "', to say the word,'<span style=\"color: rgba(0,0,255,1)\">Either</span> but, that will hold you.'-'go with some<span style=\"color: rgba(0,0,255,1)\">,</span>, for <span style=\"color: rgba(0,0,255,1)\">voices</span>, that <span style=\"color: rgba(0,0,255,1)\">will</span>:'--- <span style=\"color: rgba(0,0,255,1)\">that</span>-- -','' speaking,',', but and half,'','and use the word, and'half,'','while,''--','all,'and <span style=\"color: rgba(0,0,255,1)\">saying</span> of the word,'order,'' half--'--- <span style=\"color: rgba(0,0,255,1)\">the</span> word,'incement, whom,'and, <span style=\"color: rgba(0,0,255,1)\">and</span>'or then'- -, that <span style=\"color: rgba(0,0,255,1)\">many</span> <span style=\"color: rgba(0,0,255,1)\">will</span> say:'' half,<span style=\"color: rgba(0,0,255,1)\">'</span>and-- -','' all, all,','to say, and but to say:'- -','<span style=\"color: rgba(0,0,255,1)\">eat</span><span style=\"color: rgba(0,0,255,1)\">,</span> not, thank all,'--<span style=\"color: rgba(0,0,255,1)\">-</span>----', but say,''-<span style=\"color: rgba(0,0,255,1)\">(</span>, say <span style=\"color: rgba(0,0,255,1)\">then</span>, and-- five,-- <span style=\"color: rgba(0,0,255,1)\">co</span>lorry,'or two,', which'' the,-and,,,'- -,'then'<span style=\"color: rgba(0,0,255,1)\">a</span> -, -, <span style=\"color: rgba(0,0,255,1)\">what</span> said perhaps'but of','''and order and,--'and and <span style=\"color: rgba(0,0,255,1)\">q</span> <span style=\"color: rgba(0,0,255,1)\">and</span>'and but just,'-<span style=\"color: rgba(0,0,255,1)\">am</span> or,-<span style=\"color: rgba(0,0,255,1)\">illa</span> -, say who <span style=\"color: rgba(0,0,255,1)\">dying</span>,'<span style=\"color: rgba(0,0,255,1)\">but</span><span style=\"color: rgba(0,0,255,1)\">'</span>,',--'' -','but or <span style=\"color: rgba(0,0,255,1)\">said</span>,, -','-,'<span style=\"color: rgba(0,0,255,1)\">after</span>-- -'"
      ],
      "text/plain": [
       "<IPython.core.display.HTML object>"
      ]
     },
     "metadata": {},
     "output_type": "display_data"
    },
    {
     "data": {
      "text/html": [
       "', to say the word,'<span style=\"color: rgba(255,0,0,0.7261024117469788)\">and</span> but, that will hold you.'-'go with some <span style=\"color: rgba(255,0,0,0.5442970991134644)\">words</span>, for <span style=\"color: rgba(255,0,0,0.5463525056838989)\">some</span>, that <span style=\"color: rgba(255,0,0,0.5890989899635315)\">order</span>:'---<span style=\"color: rgba(255,0,0,0.7813634872436523)\">-</span>---','' speaking,',', but and half,'','and use the word, and'half,'','while,''--','all,'and <span style=\"color: rgba(255,0,0,0.5906272530555725)\">use</span> of the word,'order,'' half--'--- <span style=\"color: rgba(255,0,0,0.829660177230835)\">the</span> word,'incement, whom,'and,<span style=\"color: rgba(255,0,0,0.6171647310256958)\">'</span>' or then'- -, that<span style=\"color: rgba(255,0,0,0.5768353939056396)\">,</span> <span style=\"color: rgba(255,0,0,0.8031114935874939)\">to</span> say:'' half,<span style=\"color: rgba(255,0,0,0.9744114279747009)\">'</span>and-- -','' all, all,','to say, and but to say:'- -','<span style=\"color: rgba(255,0,0,0.6360052824020386)\">'</span><span style=\"color: rgba(255,0,0,0.8453632593154907)\">,</span> not, thank all,'--<span style=\"color: rgba(255,0,0,0.743812084197998)\">-</span>----', but say,''-<span style=\"color: rgba(255,0,0,0.7828555703163147)\">-</span>, say<span style=\"color: rgba(255,0,0,0.5603761672973633)\">,</span>, and-- five,-- <span style=\"color: rgba(255,0,0,0.5351640582084656)\">order</span>lorry,'or two,', which'' the,-and,,,'- -,'then'<span style=\"color: rgba(255,0,0,0.5525199770927429)\">order</span> -, -, <span style=\"color: rgba(255,0,0,0.5913434028625488)\">which</span> said perhaps'but of','''and order and,--'and and<span style=\"color: rgba(255,0,0,0.751386284828186)\">-</span><span style=\"color: rgba(255,0,0,0.5712392330169678)\">-</span>'and but just,'-<span style=\"color: rgba(255,0,0,0.6418238878250122)\">'</span>or,-<span style=\"color: rgba(255,0,0,0.528555154800415)\">-</span> -, say who<span style=\"color: rgba(255,0,0,0.6334262490272522)\">,</span>,'<span style=\"color: rgba(255,0,0,0.5840563774108887)\">,</span> <span style=\"color: rgba(255,0,0,0.5723905563354492)\">all</span>,',--'' -','but or<span style=\"color: rgba(255,0,0,0.6583546996116638)\">,</span>,, -','-,'<span style=\"color: rgba(255,0,0,0.6568312048912048)\">-</span>-- -''"
      ],
      "text/plain": [
       "<IPython.core.display.HTML object>"
      ]
     },
     "metadata": {},
     "output_type": "display_data"
    },
    {
     "name": "stdout",
     "output_type": "stream",
     "text": [
      "bad_words ['posts', 'them', 'stories', 'while', 'half', '-', 'its', 'whom', 'next', 'it', 'not', 'thank', 'not', \"'\", 'provisions', 'new', '-', 'sum', \"'\", 'perhaps', '-', 'after', 'six', 'just', 'which', 'who', 'or', '\"', 'or', 'when', 'art']\n",
      "bad_words ['place', 'but', 'posts', 'reasons', 'given', 'but', 'and', 'half', 'the', 'another', \"'\", 'similarly', 'first', 'claims', 'word', 'whom', 'next', 'earned', \"'\", 'thank', 'not', 'provisions', 'French', 'rank', '##lor', \"'\", 'sum', 'said', 'perhaps', 'but', 'order', '\"', 'after', 'but', 'supposed', '\"', 'when', '-']\n",
      "bad_words ['##f', 'go', 'posts', 'given', 'second', 'the', 'word', 'similarly', 'first', '-', 'next', ';', 'between', 'should', 'earned', 'provisions', 'half', 'for', '##lor', 'which', 'sum', '-', 'perhaps', 'of', ',', 'after', 'say', 'or', 'first']\n",
      "bad_words ['##f', 'supplied', 'posts', 'for', 'given', 'the', 'Mention', 'first', '##course', 'word', 'v', 'representatives', 'command', 'then', 'call', 'provisions', 'divides', '##lor', ';', 'v', ':', 'then', 'meaning', 'then', 'saying', 'first', 'moment']\n",
      "bad_words ['##m', 'Work', 'man', 'the', 'word', 'opinion', 'first', '##ur', 'Aristotle', 'word', 'say', 'should', 'everything', 'replied', 'or', 'and', 'call', 'then', 'divides', 'than', 'bargaining', '##ry', 'ready', 'then', 'order', 'say', 'reserve', 'all', 'meaning', 'all', 'saying', 'then', '\"', 'moment', 'Put']\n",
      "bad_words ['future', 'Work', 'fell', 'another', 'considerations', 'and', 'Aristotle', 'catch', 'merely', 'honesty', 'call', 'possession', 'and', 'divides', 'proceeding', '##ish', 'quarter', 'does', 'said', 'reserve', 'of', 'side', 'and', 'part', 'meaning', 'forty', '?', \"'\", 'but', 'or', '-', '\"', 'moment', 'Say']\n",
      "bad_words ['\"', 'hold', 'Work', 'use', 'more', 'moment', 'considerations', 'Aristotle', 'word', 'key', 'merely', 'off', 'call', 'reply', 'possession', 'vol', 'proceeding', '##ish', '3', 'custom', 'the', 'Matters', 'forming', '##ever', 'or', 'or', 'then', 'meaning', 'examples', 'but', 'moment', ':']\n",
      "bad_words [';', 'entertaining', 'being', 'any', 'word', 'another', 'King', 'considerations', 'Aristotle', 'any', 'key', 'merely', 'off', 'want', 'call', 'Tour', 'other', 'than', 'the', 'seven', 'custom', '-', 'afterwards', 'having', 'and', ':', 'or', 'all', 'meaning', 'examples', 'word', 'gave']\n",
      "bad_words ['\"', 'entertaining', 'any', 'use', ',', '##curement', 'considerations', 'either', 'is', 'key', 'merely', 'off', 'depart', 'to', 'say', 'and', 'other', 'than', 'seven', 'custom', 'which', 'mistake', 'weeks', 'and', 'examples', 'gave', 'that', ':']\n",
      "bad_words ['word', ',', \"'\", 'called', 'has', 'or', 'will', 'entering', 'nothing', 'merely', 'relations', 'going', '##ils', 'other', 'people', 'which', 'mistake', 'but', 'reasons', 'that', 'weeks', 'every', 'and', 'or', 'only', '\"', \"'\", 'all', 'examples', 'gave', 'said']\n"
     ]
    },
    {
     "data": {
      "text/html": [
       "<span style=\"color: rgba(0,0,255,1)\">word</span>, to use the word,'and but, that will hold you.'-'<span style=\"color: rgba(0,0,255,1)\">,</span> with some man, for reasons, that says:'-------','' speaking,', then,'' half,'','<span style=\"color: rgba(0,0,255,1)\">called</span> has that word, and'half,'','more,''--','all,'or that of the King,'<span style=\"color: rgba(0,0,255,1)\">will</span>,','-'and---the word,'inceur'entering,<span style=\"color: rgba(0,0,255,1)\">'</span>and,'' or,'- -, that, to say, the'nothing,'<span style=\"color: rgba(0,0,255,1)\">merely</span><span style=\"color: rgba(0,0,255,1)\">'</span>- -','' all, all, relations,'to say, and but to say:'- -<span style=\"color: rgba(0,0,255,1)\">'</span>,'',<span style=\"color: rgba(0,0,255,1)\">'</span>, and all,'-------','going,'<span style=\"color: rgba(0,0,255,1)\">ils</span>--,'then, and-- <span style=\"color: rgba(0,0,255,1)\">other</span> people<span style=\"color: rgba(0,0,255,1)\">-</span>- -'<span style=\"color: rgba(0,0,255,1)\">seven</span>,'' two,'the <span style=\"color: rgba(0,0,255,1)\">which</span>'<span style=\"color: rgba(0,0,255,1)\">mistake</span> the, <span style=\"color: rgba(0,0,255,1)\">but</span> and -,, then, -, reasons then'' that, -,-weeks <span style=\"color: rgba(0,0,255,1)\">every</span>, the of',<span style=\"color: rgba(0,0,255,1)\">,</span>'' and,', <span style=\"color: rgba(0,0,255,1)\">-</span>,'<span style=\"color: rgba(0,0,255,1)\">and</span>, -'<span style=\"color: rgba(0,0,255,1)\">and</span> <span style=\"color: rgba(0,0,255,1)\">or</span> -,, <span style=\"color: rgba(0,0,255,1)\">only</span>-<span style=\"color: rgba(0,0,255,1)\">\"</span>'' -'-,'<span style=\"color: rgba(0,0,255,1)\">and</span>,,'all <span style=\"color: rgba(0,0,255,1)\">examples</span>'''-'''-','<span style=\"color: rgba(0,0,255,1)\">gave</span>'<span style=\"color: rgba(0,0,255,1)\">-</span> that, -'said, -,'' -: -'"
      ],
      "text/plain": [
       "<IPython.core.display.HTML object>"
      ]
     },
     "metadata": {},
     "output_type": "display_data"
    },
    {
     "data": {
      "text/html": [
       "<span style=\"color: rgba(255,0,0,0.5126569867134094)\">reason</span>, to use the word,'and but, that will hold you.'-'<span style=\"color: rgba(255,0,0,0.5439707636833191)\">Speaking</span> with some man, for reasons, that says:'-------','' speaking,', then,'' half,'','<span style=\"color: rgba(255,0,0,0.5686147212982178)\">who</span> has that word, and'half,'','more,''--','all,'or that of the King,'<span style=\"color: rgba(255,0,0,0.5154776573181152)\">but</span>,','-'and---the word,'inceur'entering,<span style=\"color: rgba(255,0,0,0.9810796976089478)\">'</span>and,'' or,'- -, that, to say, the'nothing,'<span style=\"color: rgba(255,0,0,0.6100226640701294)\">'</span><span style=\"color: rgba(255,0,0,0.6564511656761169)\">'</span>- -','' all, all, relations,'to say, and but to say:'- -<span style=\"color: rgba(255,0,0,0.7303908467292786)\">'</span>,'',<span style=\"color: rgba(255,0,0,0.5370883941650391)\">'</span>, and all,'-------','going,'<span style=\"color: rgba(255,0,0,0.7141411304473877)\">'</span>--,'then, and--<span style=\"color: rgba(255,0,0,0.6899020671844482)\">'</span>people<span style=\"color: rgba(255,0,0,0.6217917799949646)\">,</span>--'<span style=\"color: rgba(255,0,0,0.5447620153427124)\">one</span>,'' two,'the<span style=\"color: rgba(255,0,0,0.5487564206123352)\">'</span>'<span style=\"color: rgba(255,0,0,0.5535135269165039)\">'</span>the, <span style=\"color: rgba(255,0,0,0.5325670838356018)\">says</span> and -,, then, -, reasons then'' that, -,-weeks <span style=\"color: rgba(255,0,0,0.699104905128479)\">and</span>, the of', <span style=\"color: rgba(255,0,0,0.5890775918960571)\">-</span>'' and,',<span style=\"color: rgba(255,0,0,0.7135050892829895)\">'</span>,'<span style=\"color: rgba(255,0,0,0.615048348903656)\">'</span>, -'<span style=\"color: rgba(255,0,0,0.9149812459945679)\">'</span><span style=\"color: rgba(255,0,0,0.7697606086730957)\">'</span>-,,<span style=\"color: rgba(255,0,0,0.5514872670173645)\">,</span>-<span style=\"color: rgba(255,0,0,0.5589874386787415)\">-</span>'' -'-,'<span style=\"color: rgba(255,0,0,0.5467158555984497)\">,</span>,,'all <span style=\"color: rgba(255,0,0,0.582538902759552)\">and</span>'''-'''-','<span style=\"color: rgba(255,0,0,0.564508318901062)\">,</span>'<span style=\"color: rgba(255,0,0,0.6894285082817078)\">'</span> that, -'said, -,'' -: -''"
      ],
      "text/plain": [
       "<IPython.core.display.HTML object>"
      ]
     },
     "metadata": {},
     "output_type": "display_data"
    },
    {
     "name": "stdout",
     "output_type": "stream",
     "text": [
      "bad_words ['understanding', 'Either', 'she', 'has', 'more', 'think', 'entering', 'nothing', 'after', 'relations', 'state', 'going', 'General', '##ening', 'people', 'knights', 'ready', 'last', 'but', 'again', 'reasons', 'then', 'weeks', 'forth', 'according', 'orders', 'mistake', 'all', 'thirty', 'said', 'directing', 'said']\n",
      "bad_words ['means', 'Either', 'suffer', 'more', 'Language', \"'\", 'relations', 'order', \"'\", 'knights', 'three', 'last', '.', 'then', 'Styles', 'forth', ',', 'first', \"'\", 'mistake', 'business', 'joint', 'first', 'directing', \"'\"]\n",
      "bad_words ['on', 'Either', 'reasons', 'speaking', 'has', 'adds', 'or', 'Roman', 'or', 'said', 'or', 'sum', 'may', \"'\", 'words', 'knights', 'first', 'again', 'half', 'the', 'from', 'Styles', 'say', 'then', 'and', 'the', 'mistake', 'guard', 'perhaps', 'another', 'without', \"'\", 'said', 'then', 'more']\n",
      "bad_words ['his', 'C', 'another', 'speaking', 'she', 'has', 'self', \"'\", '-', 'Roman', \"'\", \"'\", 'said', '-', 'making', 'men', 'may', \"'\", \"'\", ',', 'and', \"'\", 'then', 'given', 'knights', 'first', 'and', 'foot', ',', 'half', 'then', 'or', 'Styles', ',', 'says', '’', 'can', 'mistake', 'guard', 'if', 'another', 'first', 'love', 'said', 'letters', 'more']\n",
      "bad_words ['said', 'C', 'death', 'which', 'has', 'and', 'Roman', 'd', '?', 'or', 'making', 'nothing', 'whole', 'said', 'say', 'and', 'that', 'given', 'giving', 'a', 'first', 'pretending', 'after', 'or', '-', 'which', 'says', '’', ',', 'guard', 'and', 'might', 'another', 'it', 'love', 'letters', 'more']\n",
      "bad_words ['\"', 'C', 'with', 'lines', \"'\", 'has', 'one', 'Roman', \"'\", 'all', 'after', 'victory', 'but', \"'\", 'said', 'at', 'name', ':', 'and', 'cap', 'first', 'pretending', 'save', 'from', 'or', 'will', '’', 'guard', 'might', ']', 'it', 'love', 'said', 'then', 'but', 'few']\n",
      "bad_words ['.', 'use', 'That', 'lines', 'another', ':', 'has', 'judge', '-', 'some', ':', '##bon', 'again', 'after', 'victory', 'verses', \"'\", 'name', 'and', ':', 'They', 'is', 'cap', 'friendship', ',', 'save', 'from', 'that', 'or', 'and', 'guard', 'good', 'overthrow', ']', 'pitch', 'expelled', 'or', \"'\", 'but', 'then', 'few']\n",
      "bad_words ['recommendations', 'doubt', 'answer', 'lines', 'and', 'speaking', 'half', 'judge', \"'\", 'or', 'and', \"'\", '##bon', \"'\", 'good', 'thrust', 'verses', 'said', 'Juno', 'at', ';', 'and', 'of', 'that', '-', 'And', 'two', 'cap', 'friendship', \"'\", 'France', \"'\", 'save', 'and', 'refusing', \"'\", 'such', 'went', ',', 'first', 'trust', ']', 'guard', 'expelled', 'and']\n",
      "bad_words [',', 'doubt', '##feit', 'cure', 'lines', 'some', ':', 'to', 'which', 'half', 'judge', \"'\", '##bon', 'have', 'doubt', 'nothing', \"'\", \"'\", 'thrust', 'victory', 'verses', \"'\", 'Juno', 'put', 'that', ':', 'of', '##iq', 'then', 'Hence', 'sits', 'some', 'dismiss', 'and', 'authority', 'save', 'likewise', 'refusing', \"'\", 'and', 'such', 'first', 'first', 'say', '##i', ']', 'guard', 'expelled', 'either', ';', 'fat']\n",
      "bad_words [\"'\", '##feit', 'hospitals', 'That', 'lines', 'to', 'half', 'which', \"'\", \"'\", \"'\", 'and', \"'\", '##bon', 'and', 'then', 'then', 'charges', 'nothing', \"'\", 'given', 'state', 'then', 'provinces', 'repetition', 'speaking', 'put', '.', '##iq', 'and', 'And', 'that', 'sits', 'adopted', 'and', 'authority', 'and', 'save', 'and', 'spirituality', 'likewise', 'that', 'refusing', \"'\", 'such', 'first', 'retaining', '##at', '##i', ']', 'well', '##tion', 'expelled', \"'\", 'or', 'ugly', 'things', 'fat']\n"
     ]
    },
    {
     "data": {
      "text/html": [
       "<span style=\"color: rgba(0,0,255,1)\">'</span>, to doubt thefeit,'and but, that will cure <span style=\"color: rgba(0,0,255,1)\">hospitals</span>.'-'That, some lines, for <span style=\"color: rgba(0,0,255,1)\">some</span>, that says:'----- -,'and,'to,', then,'' <span style=\"color: rgba(0,0,255,1)\">half</span>,'' <span style=\"color: rgba(0,0,255,1)\">-</span>'<span style=\"color: rgba(0,0,255,1)\">which</span> of the word,'' <span style=\"color: rgba(0,0,255,1)\">half</span>,'','judge,''--', but all,<span style=\"color: rgba(0,0,255,1)\">'</span>- that of the King,'some,'or'-'and':-the word,'incebon'd,'<span style=\"color: rgba(0,0,255,1)\">and</span> then then'charges,'- -, that, to say, the <span style=\"color: rgba(0,0,255,1)\">doubt</span> nothing, all,'- -','' all, all, given,'to <span style=\"color: rgba(0,0,255,1)\">state</span>, and'then provinces:'- -','repetition, speaking, <span style=\"color: rgba(0,0,255,1)\">put</span> that,'-'- -.--iq,'then, and-- -,'then, and--::-- <span style=\"color: rgba(0,0,255,1)\">And</span> that,, sits is two,'some <span style=\"color: rgba(0,0,255,1)\">adopted</span> <span style=\"color: rgba(0,0,255,1)\">and</span>, and authority, and -', then, -, save and'' that, <span style=\"color: rgba(0,0,255,1)\">spirituality</span>,-<span style=\"color: rgba(0,0,255,1)\">likewise</span> that, the, or, <span style=\"color: rgba(0,0,255,1)\">refusing</span>'' and,','and'''-'''- <span style=\"color: rgba(0,0,255,1)\">such</span>, first -,',-- -<span style=\"color: rgba(0,0,255,1)\">,</span> -<span style=\"color: rgba(0,0,255,1)\">,</span> retaining,'<span style=\"color: rgba(0,0,255,1)\">at</span><span style=\"color: rgba(0,0,255,1)\">i</span> <span style=\"color: rgba(0,0,255,1)\">]</span>'well -'tion'- <span style=\"color: rgba(0,0,255,1)\">expelled</span>,'<span style=\"color: rgba(0,0,255,1)\">or</span> <span style=\"color: rgba(0,0,255,1)\">ugly</span> and things and -',, -,<span style=\"color: rgba(0,0,255,1)\">'</span>' but <span style=\"color: rgba(0,0,255,1)\">fat</span> -'"
      ],
      "text/plain": [
       "<IPython.core.display.HTML object>"
      ]
     },
     "metadata": {},
     "output_type": "display_data"
    },
    {
     "data": {
      "text/html": [
       "<span style=\"color: rgba(255,0,0,0.5267561078071594)\">that</span>, to doubt thefeit,'and but, that will cure <span style=\"color: rgba(255,0,0,0.612702488899231)\">me</span>.'-'That, some lines, for <span style=\"color: rgba(255,0,0,0.5197392106056213)\">good</span>, that says:'----- -,'and,'to,', then,'' <span style=\"color: rgba(255,0,0,0.5278063416481018)\">and</span>,''<span style=\"color: rgba(255,0,0,0.7738527655601501)\">,</span>'<span style=\"color: rgba(255,0,0,0.7666765451431274)\">,</span> of the word,'' <span style=\"color: rgba(255,0,0,0.5356350541114807)\">then</span>,'','judge,''--', but all,<span style=\"color: rgba(255,0,0,0.7697750329971313)\">'</span>- that of the King,'some,'or'-'and':-the word,'incebon'd,'<span style=\"color: rgba(255,0,0,0.9495463967323303)\">and</span> then then'charges,'- -, that, to say, the <span style=\"color: rgba(255,0,0,0.5585485696792603)\">matter</span> nothing, all,'- -','' all, all, given,'to <span style=\"color: rgba(255,0,0,0.5578750371932983)\">say</span>, and'then provinces:'- -','repetition, speaking, <span style=\"color: rgba(255,0,0,0.5953059196472168)\">and</span> that,'-'- -.--iq,'then, and-- -,'then, and--::--<span style=\"color: rgba(255,0,0,0.6941471695899963)\">-</span>that,, sits is two,'some <span style=\"color: rgba(255,0,0,0.5638993978500366)\">but</span><span style=\"color: rgba(255,0,0,0.5785031914710999)\">,</span>, and authority, and -', then, -, save and'' that, <span style=\"color: rgba(255,0,0,0.6651400923728943)\">-</span>, -<span style=\"color: rgba(255,0,0,0.6118013262748718)\">,</span> that, the, or,<span style=\"color: rgba(255,0,0,0.6005880236625671)\">,</span>'' and,','and'''-'''- <span style=\"color: rgba(255,0,0,0.5321409106254578)\">and</span>, first -,',---<span style=\"color: rgba(255,0,0,0.5334289073944092)\">say</span> -<span style=\"color: rgba(255,0,0,0.6634665131568909)\">,</span> retaining,'<span style=\"color: rgba(255,0,0,0.5730233788490295)\">word</span><span style=\"color: rgba(255,0,0,0.6978507041931152)\">-</span><span style=\"color: rgba(255,0,0,0.730011522769928)\">word</span>'well -'tion'- <span style=\"color: rgba(255,0,0,0.5943410992622375)\">-</span>,'<span style=\"color: rgba(255,0,0,0.5416114330291748)\">then</span> <span style=\"color: rgba(255,0,0,0.5982275605201721)\">and</span> and things and -',, -, <span style=\"color: rgba(255,0,0,0.5637654066085815)\">and</span>'but<span style=\"color: rgba(255,0,0,0.5222868323326111)\">'</span>-',"
      ],
      "text/plain": [
       "<IPython.core.display.HTML object>"
      ]
     },
     "metadata": {},
     "output_type": "display_data"
    },
    {
     "name": "stdout",
     "output_type": "stream",
     "text": [
      "bad_words ['answer', 'doubt', '##feit', 'That', 'lines', 'hopes', 'and', 'to', 'another', 'but', 'word', 'that', \"'\", 'judge', 'or', \"'\", 'and', \"'\", '##bon', 'charges', 'nothing', 'given', 'hope', 'provinces', 'repetition', '.', '##iq', ':', 'sits', 'some', 'offering', 'authority', \"'\", 'save', \"'\", 'or', 'from', 'and', \"'\", \"'\", 'all', ',', 'answer', 'word', 'retaining', 'men', 'adds', 'well', '##tion', 'you', '222', 'from', 'things', 'and', 'have', 'but', 'not']\n",
      "bad_words ['says', 'doubt', '##feit', 'but', 'day', 'excuse', 'That', 'lines', 'hopes', '##iator', ',', \"'\", 'judge', 'some', 'or', 'questions', '##bon', 'then', 'charges', 'say', 'we', 'gasping', 'provinces', ',', 'repetition', 'speaking', \"'\", '.', 'Supreme', 'wise', 'sits', 'offering', 'authority', ',', 'save', ',', 'then', '-', 'I', 'or', 'from', 'tomorrow', 'first', '-', 'not', 'retaining', 'men', 'word', 'well', \"'\", '##tion', 'you', 'given', 'from', 'said', '-', 'have', 'but']\n",
      "bad_words ['##feit', 'some', 'lines', 'hopes', 'and', '##iator', \"'\", 'judgment', 'say', \"'\", 'questions', '##rried', 'then', 'charges', 'say', 'nothing', 'wit', 'of', 'gasping', 'fire', 'us', ':', '##o', 'that', 'wise', 'control', 'some', 'offering', 'authority', \"'\", 'these', 'tomorrow', \"'\", 'first', 'return', 'men', '##tion', 'you', 'given', 'from', 'if', 'have', 'but', 'reigning']\n",
      "bad_words ['empire', 'mock', 'That', 'said', 'speaking', 'reasons', 'example', '##iator', 'and', 'judgment', 'questions', '##fle', 'protest', 'kinds', 'given', 'gasping', 'fire', 'us', 'that', '-', ':', 'with', 'and', '-', 'wise', 'and', 'say', 'control', 'some', 'offering', 'and', 'say', 'if', 'it', 'questions', 'word', 'I', 'from', 'these', 'tomorrow', 'faults', '—', 'use', 'word', 'of', 'course', '!', 'from', 'and', 'quotes', 'have', 'answers', ',', 'reigning']\n",
      "bad_words ['use', 'mock', '##ing', 'some', 'one', 'says', 'reasons', 'example', '?', 'declaring', \"'\", 'only', 'judgment', 'questions', 'word', '##fle', 'protest', 'that', 'we', \"'\", 'given', 'saying', 'obey', 'fire', 'us', 'wise', 'sacrifice', 'are', 'offering', 'what', 'it', 'then', 'questions', '-', 'word', 'question', 's', 'deeds', 'tomorrow', \"'\", \"'\", 'doubt', 'and', 'first', 'faults', 'but', 'return', 'use', 'word', 'they', '!', 'ye', '—', 'have', 'answers', 'reigning']\n",
      "bad_words ['nations', 'mock', 'day', '##ing', 'says', 'reasons', ',', 'example', 'certainty', 'whether', 'only', 'judgment', 'mute', 'word', '##fle', 'or', 'protest', 'we', 'kinds', 'wit', 'words', 'saying', 'petroleum', 'fire', 'us', 'and', 'which', 'corruption', 'wise', 'sacrifice', 'are', 'offering', 'choice', 'what', 'end', 'questions', '-', 'word', 's', 'form', 'tomorrow', 'doctors', '\"', 'society', 'those', '##course', 'those', 'use', ',', 'hence', '!', 'actions', '—', 'have', 'reigning']\n",
      "bad_words ['nations', 'mock', '##ing', 'say', 'after', 'certainty', 'whether', 'only', 'judgment', ',', '##ux', 'some', \"'\", 'mute', '##ves', 'may', 'protest', 'wit', 'uses', 'petroleum', 'us', 'with', ':', 'two', 'power', 'wise', ':', 'are', 'offering', 'choice', ',', 'what', 'conflicts', 'end', \"'\", 'the', '-', 'one', ',', 'word', 'tomorrow', 'doctors', 'society', 'Hector', 'sounding', 'but', '##course', 'replied', 'say', 'of', 'essays', '?', 'from', 'actions', '—', 'from', 'reigning']\n",
      "bad_words ['nations', 'mock', 'some', '##ing', 'some', 'for', 'say', 'and', \"'\", 'defect', 'and', 'whether', 'only', 'judgment', '##ux', 'choosing', '##b', 'may', 'people', 'ground', 'wit', 'words', 'us', 'consent', \"'\", 'some', 'then', 'with', 'that', 'two', 'power', 'wise', 'are', 'says', 'choice', 'men', 'of', '-', 'and', 'No', '-', 'from', 'government', 'and', \"'\", 'tomorrow', 'doctors', 'say', 'Hector', 'sounding', 'replied', '##no', 'use', 'do', 'essays', '?', 'from', 'actions', '-', '-', 'says', 'reigning']\n",
      "bad_words ['judgment', 'mock', 'excuse', '##ing', 'not', 'as', 'they', '?', 'others', 'whether', 'say', 'pass', 'judgment', '##ux', 'choosing', 'if', 'may', 'people', 'least', 'wit', 'speech', 'some', 'if', 'few', 'speaking', 'houses', 'and', 'People', 'wise', 'virtue', 'are', ',', 'men', 'one', 'the', 'No', 'word', 'if', 'Q', 'government', 'tomorrow', 'doctors', 'which', 'Hector', 'sounding', 'what', '##no', 'do', 'essays', '?', 'from', 'speaking', 'table', 'took', 'says']\n",
      "bad_words ['##ft', 'than', 'excuse', '##ing', 'said', 'pass', 'judgment', '##ux', 'choosing', '##ce', 'else', 'defending', \"'\", 'wit', 'they', 'consent', 'few', 'speaking', 'that', \"'\", 'that', 'observe', 'People', 'acting', 'virtue', 'are', 'men', \"'\", 'No', 'first', 'conduct', 'if', 'Q', 'group', '!', \"'\", '##y', 'then', 'Hector', 'given', 'by', 'that', '##no', 'use', 'accordingly', 'retreat', 'do', '?', 'fail', 'call', 'took', 'turn', 'pen']\n"
     ]
    },
    {
     "data": {
      "text/html": [
       "ft, to doubt the empire,'than some, that day excuse me.'--ing, <span style=\"color: rgba(0,0,255,1)\">not</span> said, as one, that they: say-- and---<span style=\"color: rgba(0,0,255,1)\">-</span><span style=\"color: rgba(0,0,255,1)\">,</span><span style=\"color: rgba(0,0,255,1)\">'</span>and'others,<span style=\"color: rgba(0,0,255,1)\">'</span>and whether, say'<span style=\"color: rgba(0,0,255,1)\">pass</span>,'','but of the word,'but that,'judgment, that say,''--', but all,'-ux of the King,'some,'or'-'<span style=\"color: rgba(0,0,255,1)\">choosing</span>'--the word,'if<span style=\"color: rgba(0,0,255,1)\">ce</span>b'd,'and then, <span style=\"color: rgba(0,0,255,1)\">else</span>,,'<span style=\"color: rgba(0,0,255,1)\">defending</span> say, that, we say, <span style=\"color: rgba(0,0,255,1)\">the</span> two kinds, all,'- -','' all, wit of words,'to speech, and they then <span style=\"color: rgba(0,0,255,1)\">consent</span>:<span style=\"color: rgba(0,0,255,1)\">-</span>--if,'few, speaking, and that,'--then'',-<span style=\"color: rgba(0,0,255,1)\">that</span>,'then, and-- observe,'People, and power-<span style=\"color: rgba(0,0,255,1)\">acting</span>:-- and say <span style=\"color: rgba(0,0,255,1)\">virtue</span>, that is two,'are says,, the say, and men of,,, one,'and-the that <span style=\"color: rgba(0,0,255,1)\">then</span><span style=\"color: rgba(0,0,255,1)\">'</span>No <span style=\"color: rgba(0,0,255,1)\">first</span> conduct one, the from word if Q'group and,','!'''<span style=\"color: rgba(0,0,255,1)\">y</span> <span style=\"color: rgba(0,0,255,1)\">then</span>''-and<span style=\"color: rgba(0,0,255,1)\">,</span> which Hector given but <span style=\"color: rgba(0,0,255,1)\">and</span>-by-that but<span style=\"color: rgba(0,0,255,1)\">,</span> what,no <span style=\"color: rgba(0,0,255,1)\">use</span>, <span style=\"color: rgba(0,0,255,1)\">say</span> <span style=\"color: rgba(0,0,255,1)\">accordingly</span> retreat<span style=\"color: rgba(0,0,255,1)\">,</span>'<span style=\"color: rgba(0,0,255,1)\">do</span>'- -,'? fail and call, took',,', turn'- pen -,"
      ],
      "text/plain": [
       "<IPython.core.display.HTML object>"
      ]
     },
     "metadata": {},
     "output_type": "display_data"
    },
    {
     "data": {
      "text/html": [
       "ft, to doubt the empire,'than some, that day excuse me.'--ing, <span style=\"color: rgba(255,0,0,0.7013806104660034)\">and</span> said, as one, that they: say-- and---<span style=\"color: rgba(255,0,0,0.5473415851593018)\">-</span><span style=\"color: rgba(255,0,0,0.6876738667488098)\">,</span><span style=\"color: rgba(255,0,0,0.610032320022583)\">,</span> and'others,<span style=\"color: rgba(255,0,0,0.9884985685348511)\">'</span>and whether, say'<span style=\"color: rgba(255,0,0,0.526771605014801)\">all</span>,'','but of the word,'but that,'judgment, that say,''--', but all,'-ux of the King,'some,'or'-'<span style=\"color: rgba(255,0,0,0.5356245040893555)\">,</span>'--the word,'if <span style=\"color: rgba(255,0,0,0.5592972636222839)\">or</span>b'd,'and then, <span style=\"color: rgba(255,0,0,0.5249110460281372)\">then</span>,,'<span style=\"color: rgba(255,0,0,0.6267410516738892)\">they</span> say, that, we say,<span style=\"color: rgba(255,0,0,0.532970130443573)\">,</span> two kinds, all,'- -','' all, wit of words,'to speech, and they then <span style=\"color: rgba(255,0,0,0.5263755321502686)\">say</span>:<span style=\"color: rgba(255,0,0,0.7221415042877197)\">-</span>--if,'few, speaking, and that,'--then'',-<span style=\"color: rgba(255,0,0,0.6190423965454102)\">-</span>,'then, and-- observe,'People, and power -<span style=\"color: rgba(255,0,0,0.5454356074333191)\">,</span>:-- and say <span style=\"color: rgba(255,0,0,0.5305780172348022)\">half</span>, that is two,'are says,, the say, and men of,,, one,'and-the that <span style=\"color: rgba(255,0,0,0.5472390651702881)\">it</span><span style=\"color: rgba(255,0,0,0.6896125078201294)\">,</span> No<span style=\"color: rgba(255,0,0,0.6479130983352661)\">,</span> conduct one, the from word if Q'group and,','!'''<span style=\"color: rgba(255,0,0,0.5454891324043274)\">then</span> <span style=\"color: rgba(255,0,0,0.5252493023872375)\">judgment</span>''-and <span style=\"color: rgba(255,0,0,0.6150569319725037)\">and</span> which Hector given but<span style=\"color: rgba(255,0,0,0.5997017621994019)\">,</span>-by-that but <span style=\"color: rgba(255,0,0,0.5730342864990234)\">but</span> what,no <span style=\"color: rgba(255,0,0,0.5176718831062317)\">say</span>,<span style=\"color: rgba(255,0,0,0.5718100666999817)\">:</span><span style=\"color: rgba(255,0,0,0.5503832697868347)\">:</span> retreat <span style=\"color: rgba(255,0,0,0.5776355266571045)\">-</span>'<span style=\"color: rgba(255,0,0,0.5297994017601013)\">but</span>'- -,'? fail and call, took',,', turn'- pen -,,"
      ],
      "text/plain": [
       "<IPython.core.display.HTML object>"
      ]
     },
     "metadata": {},
     "output_type": "display_data"
    },
    {
     "name": "stdout",
     "output_type": "stream",
     "text": [
      "bad_words ['##ft', 'than', 'day', 'excuse', '##ing', 'said', 'they', '##ve', 'being', 'senators', 'whether', 'thou', 'judgment', 'that', '##ux', 'advice', 'aim', 'instead', 'you', ':', 'wit', 'they', 'since', 'if', 'few', \"'\", 'select', 'observe', 'People', 'wit', 'say', 'one', 'are', 'men', 'one', 'ours', 'and', 'No', 'that', 'conduct', 'word', 'if', 'Q', 'group', '!', '?', 'turning', 'then', 'Hector', 'given', 'Man', 'what', '##no', 'say', 'that', 'the', 'retreat', 'reason', 'then', '?', 'fail', 'call', 'took', 'turn', 'pen']\n",
      "bad_words ['##ft', 'than', '##eous', 'turn', 'judgment', 'they', 'and', '##ve', 'senators', 'others', 'whether', 'll', 'that', 'or', 'whether', 'advice', 'aim', ';', 'instead', 'kinds', \"'\", 'friend', 'wit', 'speech', 'if', 'few', 'that', \"'\", \"'\", 'select', 'then', 'observe', 'People', 'power', 'others', 'two', 'are', 'says', \"'\", 'of', 'ours', 'them', 'conduct', 'from', 'word', 'if', 'Q', 'group', ',', '!', '?', 'turning', 'which', 'replied', 'another', 'but', 'Man', '##no', 'answer', 'taste', 'speaking', 'persons', '?', 'passing', 'quit', 'then', 'turn', ',', 'who']\n",
      "bad_words ['choice', 'which', '[', '##eous', 'judgment', 'said', 'and', '##ve', 'and', 'senators', 'whether', 'll', 'half', 'whether', \"'\", 'advice', 'aim', 'instead', '##t', 'we', 'defend', 'two', ';', 'friend', 'say', 'if', 'few', 'that', \"'\", 'quality', 'added', 'and', 'observe', 'People', 'wit', 'others', 'two', 'Mars', 'say', 'one', 'ours', 'and', 'them', 'conduct', 'stop', 'word', 'Q', 'group', '!', '?', 'from', 'and', ':', 'reason', 'but', 'what', '##no', 'the', 'taste', 'speaking', \"'\", 'this', 'passing', 'succeeded', 'turn', 'who']\n",
      "bad_words ['judge', 'doubt', '[', '##eous', 'our', 'judgment', 'that', '##ve', 'superseded', \"'\", 'others', 'whether', 'll', 'half', 'that', \"'\", \"'\", ',', 'all', 'whether', 'or', \"'\", 'advice', 'either', '##b', 'but', '##t', 'defend', 'merit', ':', 'friend', 'speak', 'few', 'wit', 'quality', '##ught', 'esteem', 'talents', 'power', '.', 'merchants', 'Mars', 'and', 'opinion', 'since', 'one', 'this', 'ours', 'them', 'price', 'stop', 'word', 'Q', 'group', ',', '!', 'say', 'from', 'and', 'which', \"'\", 'reason', 'by', 'you', '##no', 'sincerity', 'defence', 'taste', 'speaking', 'then', 'this', 'passing', 'succeeded', 'but', 'received']\n",
      "bad_words ['judge', 'which', 'some', 'now', '##eous', '.', 'and', '##ve', 'superseded', 'others', 'whether', 'll', 'may', 'that', 'regiment', 'whether', 'her', 'advice', 'if', 'either', 'answered', 'say', 'defend', 'merit', 'friend', 'replied', 'turn', 'if', 'few', 'wit', 'that', 'quality', '##ught', 'leading', 'each', 'works', 'something', '.', ':', 'not', 'Mars', 'pro', 'judge', 'of', 'quarters', 'things', 'this', 'ours', 'them', 'price', 'stop', 'word', '##rt', 'group', '!', 'not', 'reason', 'but', 'you', '##no', 'defence', 'speaking', 'then', 'this', 'passing', 'all', 'received']\n",
      "bad_words ['to', 'make', 'best', '##eous', 'defiance', 'our', 'institutions', 'superseded', 'others', 'whether', 'll', 'may', 'regiment', 'whether', 'her', 'advice', 'if', 'either', 'answered', '##t', '##th', 'defend', 'merit', 'to', ',', 'wit', 'wise', 'if', 'the', 'word', 'wit', 'quality', '##ught', 'got', 'works', '##ram', 'declaration', 'not', 'Mars', 'pro', 'judge', 'quarters', 'things', 'and', 'this', 'ours', 'them', 'price', 'stop', 'merit', '##rt', 'group', '!', 'from', 'then', 'reason', 'but', 'you', 'use', 'employ', 'perhaps', 'or', \"'\", \"'\", 'title', 'all']\n",
      "bad_words ['to', 'self', 'defiance', 'consent', 'And', 'judgment', 'that', 'institutions', 'and', 'says', 'course', 'whether', 'say', 'll', 'of', 'regiment', ',', 'either', 'King', 'phrases', 'advice', 'if', 'either', 'answered', '##t', 'we', '##th', 'defend', 'merit', ':', 'they', 'replied', 'wit', '##ed', 'commission', 'they', 'insult', 'half', '##lang', 'quality', '##ught', 'got', 'each', 'works', '##ram', 'declaration', 'it', 'speaking', 'pro', 'say', 'eight', '?', 'men', 'things', 'this', 'ours', 'meaning', 'price', 'ward', 'stop', 'or', '##rt', 'group', '!', 'say', 'reason', 'that', 'but', 'you', 'use', 'those', 'perhaps', '-', '[', 'all']\n",
      "bad_words ['falls', 'best', 'self', 'defiance', 'judgment', 'institutions', 'which', 'll', 'that', 'regiment', 'people', 'phrases', 'advice', 'despair', 'answered', 'they', 'we', 'defend', 'as', 'replied', 'wit', '##ed', 'commission', 'manner', 'more', 'quality', '##ught', 'these', 'each', '##ram', 'is', 'defence', 'those', 'eight', '?', 'men', 'this', 'reasons', 'price', 'ward', 'stop', \"'\", '##rt', 'group', '!', 'judges', 'd', 'from', 'daughter', 'use', 'those', 'execute', 'perhaps', 'or', 'fail', '-', '[', 'lives', 'landscape']\n",
      "bad_words ['who', 'falls', 'then', 'defiance', 'me', 'he', 'they', 'institutions', 'Lyons', 'll', 'otherwise', 'may', 'that', 'say', 'regiment', 'either', 'if', '##cratic', 'answered', '##t', 'à', 'but', 'abolition', 'replied', ',', 'wit', 'words', 'cruelty', 'manner', 'more', 'same', 'quality', '##ught', 'facial', 'each', 'something', '##ram', 'it', 'that', 'up', '?', 'men', 'things', \"'\", 'meaning', 'fit', 'ward', 'stop', 'or', '##rt', 'group', '!', 'judges', 'd', ',', 'from', 'none', 'then', 'but', 'fault', 'daughter', 'use', 'those', 'execute', 'perhaps', 'fail', 'word', '[', 'lives', 'landscape']\n",
      "bad_words ['ruling', 'nothing', 'doubt', 'self', 'defiance', 'consent', 'he', 'they', 'compact', 'course', 'Say', 'll', '142', 'regiment', 'either', '##cratic', 'answered', '##t', 'à', 'merit', 'abolition', 'replied', 'of', 'or', 'whom', '##rt', '-', 'more', 'five', 'quality', '##ught', 'facial', 'each', 'works', '##ram', 'it', 'up', '?', 'things', \"'\", 'meaning', 'fit', 'ward', 'motives', '##rt', 'group', '!', 'judges', 'when', 'given', 'from', 'none', '##s', 'relating', 'speaking', 'fault', 'daughter', 'use', 'cannot', 'execute', '-', 'said', '[', 'lives', 'landscape']\n"
     ]
    },
    {
     "data": {
      "text/html": [
       "<span style=\"color: rgba(0,0,255,1)\">ruling</span> <span style=\"color: rgba(0,0,255,1)\">nothing</span> to doubt the empire,'make some, then <span style=\"color: rgba(0,0,255,1)\">self</span> defiance me consent'- And <span style=\"color: rgba(0,0,255,1)\">he</span>, and said, as one, that <span style=\"color: rgba(0,0,255,1)\">they</span>: say------'<span style=\"color: rgba(0,0,255,1)\">compact</span>'says'course<span style=\"color: rgba(0,0,255,1)\">,</span>'and Say, say'll,'<span style=\"color: rgba(0,0,255,1)\">'</span><span style=\"color: rgba(0,0,255,1)\">,</span>'but of the word,'but <span style=\"color: rgba(0,0,255,1)\">142</span>,'may, that say,'regiment--', but all,'- either of the people,'some, all,'-'-'--the word,<span style=\"color: rgba(0,0,255,1)\">'</span>ifcratic,'answered,'and then<span style=\"color: rgba(0,0,255,1)\">,</span> <span style=\"color: rgba(0,0,255,1)\">but</span>t,'you say, that they àth, but merit; as abolition they'replied -', and,,, of the words, or to whom; and, <span style=\"color: rgba(0,0,255,1)\">then</span>rt:<span style=\"color: rgba(0,0,255,1)\">'</span>--more, the five,', and that,'--then'quality,-ught,'then, facial-- <span style=\"color: rgba(0,0,255,1)\">each</span>,'works, and somethingram,'--and say it, that is <span style=\"color: rgba(0,0,255,1)\">two</span>,'that'<span style=\"color: rgba(0,0,255,1)\">those</span>, the say up and'?, things, one,'and-- that,'<span style=\"color: rgba(0,0,255,1)\">meaning</span> that fit <span style=\"color: rgba(0,0,255,1)\">ward</span>, the motives or'rt and <span style=\"color: rgba(0,0,255,1)\">group</span> and,','<span style=\"color: rgba(0,0,255,1)\">!</span> judges <span style=\"color: rgba(0,0,255,1)\">when</span> given-from'none-and<span style=\"color: rgba(0,0,255,1)\">s</span> -'<span style=\"color: rgba(0,0,255,1)\">relating</span> but speaking <span style=\"color: rgba(0,0,255,1)\">-</span>,-that-fault daughter, use cannot <span style=\"color: rgba(0,0,255,1)\">execute</span>-the'said'--- -,'-<span style=\"color: rgba(0,0,255,1)\">,</span> <span style=\"color: rgba(0,0,255,1)\">[</span> lives, then',,', but, and and -,"
      ],
      "text/plain": [
       "<IPython.core.display.HTML object>"
      ]
     },
     "metadata": {},
     "output_type": "display_data"
    },
    {
     "data": {
      "text/html": [
       "<span style=\"color: rgba(255,0,0,0.5409031510353088)\">,</span><span style=\"color: rgba(255,0,0,0.6489971280097961)\">,</span> to doubt the empire,'make some, then<span style=\"color: rgba(255,0,0,0.685716450214386)\">,</span> defiance me consent'- And <span style=\"color: rgba(255,0,0,0.5309691429138184)\">then</span>, and said, as one, that<span style=\"color: rgba(255,0,0,0.5190404057502747)\">:</span>: say------'<span style=\"color: rgba(255,0,0,0.5191922783851624)\">All</span>'says'course<span style=\"color: rgba(255,0,0,0.9667108058929443)\">,</span>'and Say, say'll,'<span style=\"color: rgba(255,0,0,0.5596392154693604)\">and</span><span style=\"color: rgba(255,0,0,0.7822974920272827)\">,</span>'but of the word,'but <span style=\"color: rgba(255,0,0,0.5485137701034546)\">then</span>,'may, that say,'regiment--', but all,'- either of the people,'some, all,'-'-'--the word,<span style=\"color: rgba(255,0,0,0.9193083047866821)\">'</span>ifcratic,'answered,'and then<span style=\"color: rgba(255,0,0,0.7138766050338745)\">,</span> <span style=\"color: rgba(255,0,0,0.5146856307983398)\">stand</span>t,'you say, that they àth, but merit; as abolition they'replied -', and,,, of the words, or to whom; and, <span style=\"color: rgba(255,0,0,0.5298274755477905)\">say</span>rt:<span style=\"color: rgba(255,0,0,0.6526971459388733)\">-</span>--more, the five,', and that,'--then'quality,-ught,'then, facial-- <span style=\"color: rgba(255,0,0,0.5710904598236084)\">then</span>,'works, and somethingram,'--and say it, that is <span style=\"color: rgba(255,0,0,0.5243697166442871)\">that</span>,'that'<span style=\"color: rgba(255,0,0,0.515353262424469)\">then</span>, the say up and'?, things, one,'and-- that,'<span style=\"color: rgba(255,0,0,0.7244186401367188)\">'</span> that fit <span style=\"color: rgba(255,0,0,0.5883449912071228)\">merit</span>, the motives or'rt and <span style=\"color: rgba(255,0,0,0.5295621156692505)\">but</span> and,','<span style=\"color: rgba(255,0,0,0.5714046359062195)\">'</span> judges<span style=\"color: rgba(255,0,0,0.5829184055328369)\">,</span> given-from'none-and <span style=\"color: rgba(255,0,0,0.5409688353538513)\">but</span> -'<span style=\"color: rgba(255,0,0,0.6162481904029846)\">'</span> but speaking<span style=\"color: rgba(255,0,0,0.5996716022491455)\">'</span>,-that-fault daughter, use cannot<span style=\"color: rgba(255,0,0,0.5304581522941589)\">'</span>- the'said'--- -,'-<span style=\"color: rgba(255,0,0,0.8675520420074463)\">,</span> <span style=\"color: rgba(255,0,0,0.5608948469161987)\">and</span> lives, then',,', but, and and -, landscape"
      ],
      "text/plain": [
       "<IPython.core.display.HTML object>"
      ]
     },
     "metadata": {},
     "output_type": "display_data"
    },
    {
     "name": "stdout",
     "output_type": "stream",
     "text": [
      "bad_words [',', 'not', 'defiance', 'consent', 'And', 'resumed', 'term', ';', 'and', 'Say', 'll', 'part', '-', 'either', 'regiment', 'either', \"'\", '##cratic', 'answered', 'reason', 'à', '##th', 'abolition', 'replied', 'if', '##rt', 'more', 'quality', '##ught', 'facial', 'species', '##ram', 'any', ',', 'up', 'things', \"'\", 'fit', 'proof', 'motives', '##rt', 'then', 'judges', 'given', 'none', 'except', 'speaking', 'he', 'fault', 'daughter', 'cannot', 'let', 'said', 'lives', 'but', 'landscape']\n",
      "bad_words ['empire', 'defiance', 'resumed', 'sense', 'says', 'course', 'feel', 'circumstances', 'll', 'those', 'either', 'regiment', 'all', 'either', \"'\", \"'\", '##cratic', 'answered', 'likewise', 'grasp', '##th', 'that', 'insisted', 'that', 'call', 'more', 'Ada', 'quality', '##ught', 'Pennsylvania', 'works', 'losing', 'is', 'esteem', 'up', 'one', 'the', 'fit', 'ye', 'motives', '##rt', 'then', 'judges', ',', 'either', 'speaking', 'that', 'fault', 'daughter', 'use', 'ought', 'let', 'said', 'lives', 'then', 'landscape']\n",
      "bad_words ['to', 'experience', 'resumed', 'meaning', ';', 'course', 'feel', 'circumstances', 'll', 'those', 'either', ',', \"'\", 'and', 'if', '##cratic', 'answered', 'likewise', 'reason', 'grasp', 'ill', 'having', 'insisted', 'right', 'if', '##rt', 'more', 'Ada', 'quality', '##ught', 'Pennsylvania', 'this', 'it', 'use', \"'\", 'following', 'up', '?', 'balance', 'parting', 'but', 'ye', 'motives', 'or', '##rt', 'judges', 'given', 'word', 'default', 'first', '##eous', 'but', 'speaking', 'that', 'fault', 'denied', 'ought', 'let', 'says', 'said', 'general', 'then', 'landscape']\n",
      "bad_words ['will', 'experience', 'consent', 'resumed', 'all', 'Straight', 'course', 'feel', 'circumstances', \"'\", 'either', 'as', 'each', 'and', 'answered', 'likewise', 'reason', '##t', 'Yet', 'choose', ',', 'insisted', 'company', '##rt', 'the', 'five', 'Ada', 'might', 'that', ';', 'quality', '##ught', 'Pennsylvania', 'losing', 'to', ':', 'of', 'if', 'up', '?', 'balance', 'parting', 'others', 'ye', 'motives', '##rt', 'half', 'some', 'women', 'people', 'default', '##eous', 'but', 'speaking', 'fault', 'denied', 'placing', 'let', 'says', 'general', ';', 'landscape']\n",
      "bad_words ['order', 'doubt', 'experience', 'resumed', 'Straight', 'course', 'feel', 'circumstances', \"'\", 'yielding', 'or', 'each', 'seven', 'likewise', 'cap', '##t', 'you', 'Yet', 'custom', ';', 'and', \"'\", 'employment', 'speaking', '##rt', 'turn', 'Ada', 'might', 'gather', 'quality', '##ught', 'Pennsylvania', 'losing', 'what', 'up', '?', 'parting', 'others', 'ye', 'motives', '##rt', 'women', 'and', 'people', 'one', 'first', 'hear', 'others', 'speaking', 'replies', 'then', \"'\", 'chose', 'says', 'different', 'said', 'general', 'landscape']\n",
      "bad_words ['thou', 'chance', 'And', 'speaking', 'Straight', 'course', 'feel', 'circumstances', 'speaking', 'as', 'may', 'people', 'one', 'likewise', 'you', 'Yet', 'but', 'like', 'employment', 'ground', 'design', '##rt', 'enough', 'Ada', 'gather', 'quality', '##ught', 'Pennsylvania', 'losing', 'judgment', 'six', 'up', 'parting', 'others', 'that', 'either', 'but', 'first', 'people', 'one', 'first', 'hear', 'life', 'speaking', '-', 'replies', 'place', 'justice', 'chose', 'says', 'different', 'others', 'said']\n",
      "bad_words ['this', 'but', 'consent', 'said', 'course', \"'\", 'circumstances', 'as', 'may', 'the', '##ing', 'that', 'likewise', '##t', '[', '##is', 'by', 'employment', 'basis', '##rt', 'the', 'enough', 'waiting', 'gather', 'Court', '##ught', 'Pennsylvania', 'a', 'any', 'judgment', 'six', 'up', 'parting', 'like', 'meaning', '##rned', 'Toy', 'either', 'first', 'women', 'one', 'first', 'hear', 'life', 'speaking', 'merit', 'place', 'spoke', 'nine', 'and', '-', 'said', 'and']\n",
      "bad_words ['doubt', 'some', 'chance', \"'\", 'Voyage', 'circumstances', 'may', 'm', '##ing', 'people', 'seven', 'likewise', 'maker', ';', 'meaning', 'design', '##rt', 'enough', 'given', 'gather', 'ye', 'Court', 'Pennsylvania', 'something', 'a', 'any', 'six', 'what', 'up', 'reasons', 'like', 'then', 'meaning', 'Toy', 'either', 'women', 'then', 'great', 'agreed', '180', 'first', 'us', 'life', 'merit', 'place', ';', 'nine', 'hear']\n",
      "bad_words ['thou', 'chance', 'And', 'speaking', 'said', 'comment', 'then', 'advantage', 'circumstances', 'say', 'some', 'm', 'emotion', 'people', 'likewise', '##t', 'think', 'maker', \"'\", 'turning', 'design', '##rt', 'enough', 'the', 'lawyer', 'Court', 'her', 'this', 'something', 'a', 'place', 'or', 'what', 'up', 'like', 'and', 'Toy', 'either', 'women', 'agreed', 'from', 'given', '180', 'if', 'us', 'game', 'that', 'merit', 'place', 'it', 'nine', 'hear', '—', \"'\", 'but']\n",
      "bad_words ['-', 'thou', 'chance', 'And', 'speaking', 'those', 'comment', 'say', 'advantage', 'circumstances', 'say', \"'\", 'those', 'speaking', 'm', 'emotion', 'people', ';', \"'\", 'if', 'maker', 'become', 'these', ',', 'enough', 'reputation', 'Court', 'her', 'something', 'would', 'or', 'up', 'sense', 'women', 'agreed', '180', 'us', 'game', 'shadow', 'attitude', 'place', 'indicated', 'nine', 'but', '—', 'any', 'what']\n"
     ]
    },
    {
     "data": {
      "text/html": [
       "- not to doubt the empire, <span style=\"color: rgba(0,0,255,1)\">thou</span> make some, some, chance me:'- And speaking, and those, as one, that comment: <span style=\"color: rgba(0,0,255,1)\">say</span>------ -,'<span style=\"color: rgba(0,0,255,1)\">then</span>'advantage,'' circumstances, say'<span style=\"color: rgba(0,0,255,1)\">'</span>,'- -'but of the word,'those speaking, <span style=\"color: rgba(0,0,255,1)\">as</span> some, <span style=\"color: rgba(0,0,255,1)\">that</span> say,''-- m, the emotion,'-, or the people;'one, all,'-<span style=\"color: rgba(0,0,255,1)\">'</span>- and-- the word,<span style=\"color: rgba(0,0,255,1)\">'</span>that those,'seven,<span style=\"color: rgba(0,0,255,1)\">'</span>and <span style=\"color: rgba(0,0,255,1)\">if</span>, capt,'are maker, that they have become; but <span style=\"color: rgba(0,0,255,1)\">these</span>, as having,<span style=\"color: rgba(0,0,255,1)\">'</span>and -', -'turning, of the basis, or to turn; and, if<span style=\"color: rgba(0,0,255,1)\">,</span>:---enough, the five, given, the reputation;'- -', Court,--,'then,'and'<span style=\"color: rgba(0,0,255,1)\">her</span>,'this, and something a,'--would say it: that of any, that that, or, the-<span style=\"color: rgba(0,0,255,1)\">up</span> and':,', word,-- -'are,,'the<span style=\"color: rgba(0,0,255,1)\">,</span> sense, the of or', women'and and', some, -'' <span style=\"color: rgba(0,0,255,1)\">agreed</span> from'- given and, <span style=\"color: rgba(0,0,255,1)\">180</span> the us <span style=\"color: rgba(0,0,255,1)\">game</span>'-'- <span style=\"color: rgba(0,0,255,1)\">shadow</span>-<span style=\"color: rgba(0,0,255,1)\">attitude</span><span style=\"color: rgba(0,0,255,1)\">'</span>, place indicated <span style=\"color: rgba(0,0,255,1)\">nine</span>'<span style=\"color: rgba(0,0,255,1)\">and</span> -<span style=\"color: rgba(0,0,255,1)\">,</span>',---<span style=\"color: rgba(0,0,255,1)\">but</span>'- — and,,''<span style=\"color: rgba(0,0,255,1)\">,</span>;', but any and <span style=\"color: rgba(0,0,255,1)\">what</span> -,"
      ],
      "text/plain": [
       "<IPython.core.display.HTML object>"
      ]
     },
     "metadata": {},
     "output_type": "display_data"
    },
    {
     "data": {
      "text/html": [
       "- not to doubt the empire,<span style=\"color: rgba(255,0,0,0.6600171327590942)\">'</span>make some, some, chance me:'- And speaking, and those, as one, that comment:<span style=\"color: rgba(255,0,0,0.7967935800552368)\">-</span>-------,'<span style=\"color: rgba(255,0,0,0.6518819332122803)\">-</span>'advantage,'' circumstances, say'<span style=\"color: rgba(255,0,0,0.5532887578010559)\">-</span>,'- -'but of the word,'those speaking,<span style=\"color: rgba(255,0,0,0.9042640924453735)\">'</span>some, <span style=\"color: rgba(255,0,0,0.5328311324119568)\">to</span> say,''-- m, the emotion,'-, or the people;'one, all,'-<span style=\"color: rgba(255,0,0,0.9570714235305786)\">-</span>- and-- the word,<span style=\"color: rgba(255,0,0,0.5699284076690674)\">'</span>that those,'seven,<span style=\"color: rgba(255,0,0,0.9929462671279907)\">'</span>and <span style=\"color: rgba(255,0,0,0.5491772890090942)\">others</span>, capt,'are maker, that they have become; but <span style=\"color: rgba(255,0,0,0.5374934077262878)\">all</span>, as having,<span style=\"color: rgba(255,0,0,0.9857164621353149)\">'</span>and -', -'turning, of the basis, or to turn; and, if <span style=\"color: rgba(255,0,0,0.5451912879943848)\">not</span>:---enough, the five, given, the reputation;'- -', Court,--,'then,'and'<span style=\"color: rgba(255,0,0,0.5337749123573303)\">then</span>,'this, and something a,'--would say it: that of any, that that, or, the-<span style=\"color: rgba(255,0,0,0.5369335412979126)\">-</span> and':,', word,-- -'are,,'the<span style=\"color: rgba(255,0,0,0.7991769909858704)\">,</span> sense, the of or', women'and and', some, -''<span style=\"color: rgba(255,0,0,0.7345876693725586)\">-</span>from'- given and,<span style=\"color: rgba(255,0,0,0.9138761758804321)\">,</span> the us <span style=\"color: rgba(255,0,0,0.8526982069015503)\">to</span>'-'- <span style=\"color: rgba(255,0,0,0.6922030448913574)\">turn</span>-<span style=\"color: rgba(255,0,0,0.565986156463623)\">another</span> <span style=\"color: rgba(255,0,0,0.5254534482955933)\">then</span>, place indicated <span style=\"color: rgba(255,0,0,0.5578805804252625)\">all</span>'<span style=\"color: rgba(255,0,0,0.5163751840591431)\">not</span>-<span style=\"color: rgba(255,0,0,0.5548748970031738)\">it</span>',-- -<span style=\"color: rgba(255,0,0,0.6752318143844604)\">'</span>'-— and,,'' <span style=\"color: rgba(255,0,0,0.566403329372406)\">-</span>;', but any and<span style=\"color: rgba(255,0,0,0.5987844467163086)\">-</span>-,'"
      ],
      "text/plain": [
       "<IPython.core.display.HTML object>"
      ]
     },
     "metadata": {},
     "output_type": "display_data"
    },
    {
     "name": "stdout",
     "output_type": "stream",
     "text": [
      "bad_words ['not', 'chance', 'me', 'And', 'speaking', 'comment', 're', 'advantage', 'circumstances', 'say', 'factor', \"'\", 'say', 'm', 'emotion', 'people', 'and', 'whether', 'that', 'maker', ':', 'basis', 'promoted', 'enough', 'given', 'reputation', 'Court', 'q', 'this', 'something', 'a', 'that', 'then', 'word', 'sense', 'or', 'women', 'given', 'us', 'that', 'says', 'ours', 'place', 'indicated', 'part', 'five', 'we', '—', '[', 'any', 'and']\n",
      "bad_words ['chance', 'consequence', 'speaking', 'equal', 'speaking', 'will', 'of', '\"', 'emotion', 'people', 'one', 'then', 'maker', 'having', 'and', 'settle', ',', 'enough', 'sense', 'given', 'parts', 'or', 'use', 'this', 'something', 'engaging', 'would', 'it', 'the', 'or', 'women', 'given', 'us', 'turn', 'ours', 'enough', 'instead', 'itself', 'five', 'we', 'or', 'but', 'any']\n",
      "bad_words ['doubt', 'which', 'chance', 'consequence', 'And', 'equal', 'then', 'sign', 'of', 'speaking', 'say', 'and', 'reserve', 'many', '-', 'seven', '##t', 'strong', 'having', 'settle', '##forth', 'then', 'say', 'whereby', '-', 'engaging', 'none', 'that', ';', 'of', 'women', 'some', 'given', 'judged', 'unless', 'two', 'enough', 'instead', 'itself', 'five', 'we', 'any']\n",
      "bad_words ['concert', 'let', 'chance', 'consequence', 'equal', 'of', 'reserve', 'many', 'then', 'seven', 'virtue', 'cap', 'Today', 'all', 'tense', 'Sahara', 'and', 'whereby', 'half', 'speaks', 'any', 'word', 'are', 'the', '[', 'women', 'as', 'given', 'combining', 'have', 'unless', 'orders', 'instead', 'itself', ':', 'and', 'replacing', 'but', 'but', 'any']\n",
      "bad_words ['unit', 'empire', 'drink', 'consequence', 'says', 'of', 'those', 'some', 'reserve', 'and', 'seven', 'virtue', 'gardens', ',', 'said', 'having', 'tense', 'said', 'take', 'parts', 'or', 'saying', 'half', 'speaks', 'again', 'that', 'or', 'word', 'are', 'the', 'or', '[', 'women', 'they', 'that', 'air', 'that', 'have', 'half', 'orders', 'instead', 'itself', '.', \"'\", 'where', 'all', 'any', 'and', 'not']\n",
      "bad_words ['cause', 'happiness', \"'\", 'drink', 'then', 'of', ';', 'speaking', 'calls', 'reserve', 'many', ';', 'seven', 'quickly', 'sorry', 'interrupted', 'said', 'having', 'tense', 'using', 'fell', 'take', 'only', 'speaks', '-', 'serving', 'not', 'or', '[', 'women', 'they', 'become', 'half', 'two', 'the', 'instead', 'if', 'and', 'possibly', 'where', 'but', 'any', 'disputed']\n",
      "bad_words ['happiness', 'drink', '-', 'but', ':', 'calls', 'reserve', 'or', '-', 'where', 'seven', 'quickly', 'actors', 'answers', 'denotes', 'having', 'build', 'using', 'same', 'take', 'and', 'only', 'half', 'speaks', 'changes', 'serving', 'are', 'or', 'that', 'that', 'become', 'understood', 'two', 'then', 'and', 'possibly', 'secretary', 'and', 'but', 'any', 'disputed']\n",
      "bad_words ['drink', \"'\", 'this', 'calls', 'language', 'all', 'whether', 'of', 'withdrawing', 'quickly', 'actors', 'answers', 'tune', 'use', '##dor', 'confidence', 'turning', 'they', 'take', 'during', 'again', 'half', 'would', 'speaks', 'says', 'whether', 'serving', 'are', 'not', 'as', 'turning', 'only', 'selection', ',', 'understood', 'subject', 'if', 'secretary', 'or', 'says', 'disputed']\n",
      "bad_words ['some', 'by', 'And', 'or', 'this', 'calls', 'Whole', 'whether', 'Individuals', 'the', 'actors', 'as', 'use', '##dor', 'confidence', 'turning', 'audience', 'Remember', 'during', 'would', 'speaks', 'whether', 'complaint', 'to', 'BMW', 'some', 'called', 'stage', 'only', 'turn', 'although', 'again', 'subject', 'that', 'secretary', '##yer', 'two']\n",
      "bad_words ['happiness', 'some', 'governing', 'and', 'or', 'say', 'of', 'calls', 'Whole', 'word', '##愛', 'Individuals', 'some', 'actors', 'interrupted', 'answers', 'too', '##dor', 'or', 'then', 'massacre', 'revolt', 'Remember', 'they', 'take', 'leads', 'during', 'again', '-', '?', 'speaks', 'and', 'however', \"'\", 'owes', 'urgent', 'the', 'but', 'some', 'called', 'turning', 'stage', 'only', 'turn', 'although', 'resumed', 'subject', 'but', 'In', 'but', 'develop', 'but', 'then']\n"
     ]
    },
    {
     "data": {
      "text/html": [
       "<span style=\"color: rgba(0,0,255,1)\">'</span> not to cause the happiness,'' some, <span style=\"color: rgba(0,0,255,1)\">some</span> governing the word:-- <span style=\"color: rgba(0,0,255,1)\">and</span> these,'those, as one, that says:---------- -'then, or'-, say'but<span style=\"color: rgba(0,0,255,1)\">,</span>'- -'but <span style=\"color: rgba(0,0,255,1)\">of</span> the word,'':'' calls,'say,''-- -, the Whole,'-, or the word;'or-all,'--- and-- word word<span style=\"color: rgba(0,0,255,1)\">,</span><span style=\"color: rgba(0,0,255,1)\">愛</span> of those,'Individuals,'and some<span style=\"color: rgba(0,0,255,1)\">,</span>'actors,'are <span style=\"color: rgba(0,0,255,1)\">interrupted</span>, that they have answers, as<span style=\"color: rgba(0,0,255,1)\">:</span>'<span style=\"color: rgba(0,0,255,1)\">too</span>dor,'and-or,'' then, of the massacre,<span style=\"color: rgba(0,0,255,1)\">'</span>to revolt; and <span style=\"color: rgba(0,0,255,1)\">Remember</span> if <span style=\"color: rgba(0,0,255,1)\">they</span>:-- -', the same, take, the parts,'- -', leads, during -,'then,'<span style=\"color: rgba(0,0,255,1)\">and</span>'<span style=\"color: rgba(0,0,255,1)\">again</span>,'<span style=\"color: rgba(0,0,255,1)\">-</span>, and'half:'---?,<span style=\"color: rgba(0,0,255,1)\">,</span> speaks; again, that,-and,,-then-or:, <span style=\"color: rgba(0,0,255,1)\">however</span> -',---<span style=\"color: rgba(0,0,255,1)\">owes</span> urgent,,'the,,,,, but or, -'- and', some,-and'<span style=\"color: rgba(0,0,255,1)\">called</span> from'- turning stage,, the <span style=\"color: rgba(0,0,255,1)\">only</span> to--'- <span style=\"color: rgba(0,0,255,1)\">turn</span> although <span style=\"color: rgba(0,0,255,1)\">resumed</span> subject, if <span style=\"color: rgba(0,0,255,1)\">but</span> that'--and'---'In'-<span style=\"color: rgba(0,0,255,1)\">'</span>or, but'develop <span style=\"color: rgba(0,0,255,1)\">but</span>;', says'and <span style=\"color: rgba(0,0,255,1)\">then</span> -,"
      ],
      "text/plain": [
       "<IPython.core.display.HTML object>"
      ]
     },
     "metadata": {},
     "output_type": "display_data"
    },
    {
     "data": {
      "text/html": [
       "<span style=\"color: rgba(255,0,0,0.7427740097045898)\">,</span> not to cause the happiness,'' some,<span style=\"color: rgba(255,0,0,0.825586199760437)\">'</span>governing the word:--<span style=\"color: rgba(255,0,0,0.6352044343948364)\">'</span>these,'those, as one, that says:---------- -'then, or'-, say'but<span style=\"color: rgba(255,0,0,0.9246898293495178)\">,</span>'- -'but<span style=\"color: rgba(255,0,0,0.5176622867584229)\">,</span> the word,'':'' calls,'say,''-- -, the Whole,'-, or the word;'or-all,'--- and-- word word<span style=\"color: rgba(255,0,0,0.6326362490653992)\">,</span> <span style=\"color: rgba(255,0,0,0.5301116704940796)\">Those</span> of those,'Individuals,'and some<span style=\"color: rgba(255,0,0,0.9807912111282349)\">,</span>'actors,'are <span style=\"color: rgba(255,0,0,0.5246144533157349)\">said</span>, that they have answers, as <span style=\"color: rgba(255,0,0,0.5598452687263489)\">to</span>'<span style=\"color: rgba(255,0,0,0.574056088924408)\">can</span>dor,'and-or,'' then, of the massacre,<span style=\"color: rgba(255,0,0,0.5968433618545532)\">'</span>to revolt; and<span style=\"color: rgba(255,0,0,0.862726092338562)\">,</span> if <span style=\"color: rgba(255,0,0,0.5330126285552979)\">then</span>:-- -', the same, take, the parts,'- -', leads, during -,'then,'<span style=\"color: rgba(255,0,0,0.5495962500572205)\">'</span>'<span style=\"color: rgba(255,0,0,0.5469269752502441)\">then</span>,'<span style=\"color: rgba(255,0,0,0.5537412166595459)\">'</span>, and'half:'---?,<span style=\"color: rgba(255,0,0,0.583702564239502)\">'</span>speaks; again, that,-and,,-then-or:,<span style=\"color: rgba(255,0,0,0.5848540663719177)\">'</span>-',---<span style=\"color: rgba(255,0,0,0.547512412071228)\">-</span> urgent,,'the,,,,, but or, -'- and', some,-and'<span style=\"color: rgba(255,0,0,0.8251505494117737)\">,</span> from'- turning stage,, the <span style=\"color: rgba(255,0,0,0.5362879633903503)\">said</span> to--'- <span style=\"color: rgba(255,0,0,0.5283635258674622)\">say</span> although <span style=\"color: rgba(255,0,0,0.7024149894714355)\">then</span> subject, if<span style=\"color: rgba(255,0,0,0.5758517980575562)\">,</span> that'--and'---'In'- <span style=\"color: rgba(255,0,0,0.5287029147148132)\">says</span> or, but'develop<span style=\"color: rgba(255,0,0,0.5658276081085205)\">'</span>;', says'and<span style=\"color: rgba(255,0,0,0.7014042139053345)\">,</span> -,'"
      ],
      "text/plain": [
       "<IPython.core.display.HTML object>"
      ]
     },
     "metadata": {},
     "output_type": "display_data"
    },
    {
     "name": "stdout",
     "output_type": "stream",
     "text": [
      "bad_words ['##bate', 'not', 'happiness', 'governing', ';', 'these', 'one', 'relating', 'calls', 'Whole', 'all', 'word', 'word', 'The', 'Individuals', ':', 'actors', 'indicate', 'answers', 'he', 'or', 'massacre', 'default', 'revolt', 'this', 'take', 'leads', 'during', 's', 'that', 'you', 'half', '?', 'speaks', '-', '\"', '92', 'urgent', \"'\", 'but', 'or', '-', '-', 'some', 'turning', 'stage', \"'\", 'appear', 'although', 'subject', 'then', 'In', 'Via', 'but', 'develop', 'the', '?']\n",
      "bad_words ['##bate', 'not', 'to', 'happiness', 'governing', 'me', 'those', 'or', 'say', 'but', \"'\", 'calls', 'Whole', 'all', 'to', 'word', 'The', 'whom', 'actors', 'indicate', 'answers', 'if', 'can', 'massacre', 'revolt', 'only', 'take', 'parts', 'wise', 'since', 's', 'then', 'you', '?', 'that', 'again', '92', 'urgent', 'then', '-', 'the', 'or', '-', 'people', 'are', 'turning', 'stage', 'appear', 'although', 'subject', 'Matters', 'say', 'develop', 'say', 'than']\n",
      "bad_words ['happiness', 'some', '##gment', 'me', 'or', \"'\", 'whether', 'but', 'but', 'person', 'centre', 'first', 'Society', 'The', 'actors', 'indicate', '-', '-', 'massacre', 'opinion', 'only', 'other', 'answer', 'people', 'since', 's', 'you', ':', '?', 'speaks', 'grows', '\"', \"'\", '92', 'Yes', 'you', 'the', 'again', 'but', 'matter', \"'\", 'that', 'turning', 'but', 'the', 'appear', 'although', 'then', 'the', 'Matters', '-', 'that', 'develop', 'than', 'being']\n",
      "bad_words ['some', '##gment', 'me', 'one', 'that', 'election', 'whether', 'but', 'person', 'centre', 'say', 'Society', 'but', 'some', 'actors', 'indicate', 'answers', 'after', 'warrant', 'opinion', 'then', 'other', 'fourth', 'since', 'of', 'you', 'half', ':', 'the', 'grows', '-', 'one', 'or', 'all', 'whom', '92', 'Yes', 'legged', '##ch', 'understanding', 'use', 'again', 'matter', '-', 'second', 'there', 'speaking', 'heel', 'others', 'English', 'to', 'tail', 'but', 'less', 'speak', 'Matters', 'all', 'develop', 'says', 'than', 'being']\n",
      "bad_words ['happiness', 'think', '##gment', 'me', 'whether', 'cannot', 'person', 'centre', 'Society', 'actors', 'indicate', 'chose', 'answers', 'if', 'after', 'warrant', 'opinion', 'Al', 'women', 'other', 'fourth', 'pipeline', 'then', 'general', 'grows', '-', 'one', ':', '-', 'ladies', 'say', 'made', 'understanding', 'have', ',', 'with', 'these', 'are', '-', 'there', 'says', 'others', 'English', 'tail', ':', 'say', 'less', 'all', 'may', 'develop', 'says', 'than', 's']\n",
      "bad_words ['cause', 'happiness', '##gment', 'me', 'authorities', \"'\", 'and', 'cannot', 'person', 'centre', 'say', '##eer', 'Society', 'but', 'are', 'indicate', 'chose', '##dor', 'after', 'some', 'warrant', 'opinion', 'women', 'other', 'who', 'pipeline', 'cause', 'issue', ':', 'speaks', 'by', 'ladies', 'first', 'understanding', 'have', 'words', 'my', 'are', 'there', 'others', 'all', '-', 'speak', 'gentlemen', 'may', 'develop', 'than', 'judges']\n",
      "bad_words ['not', 'cause', 'considerations', '##gment', 'word', 'authorities', '-', 'cannot', '\"', 'centre', '##eer', 'or', 'division', 'whom', 'that', 'but', 'warrant', 'mouth', 'if', 'other', 'who', '##men', 'to', 'half', 'speaks', 'by', 'lists', 'something', 'ladies', 'enough', 'made', 'accord', '\"', '-', 'are', 'there', 'speaking', 'others', 'mention', 'this', 'like', 'may', 'develop', 'than', '.', ',']\n",
      "bad_words ['like', 'think', '##gment', 'authorities', \"'\", 'cannot', 'centre', '##eer', 'or', 'division', ',', 'speak', 'that', 'reserve', 'ones', 'mouth', 'women', 'other', 'the', 'who', 'do', 'you', 'or', 'lists', '-', 'then', 'ladies', '\"', \"'\", '##qua', 'made', ';', 'words', 'but', 'to', 'taught', 'wit', ',', 'the', 'that', 'learned', 'says', 'Ara', 'all', 'mention', 'realizes', 'this', 'like', 'develop', 'than']\n",
      "bad_words ['cause', 'spotlight', '##gment', 'word', 'condition', 'reserve', 'first', '\"', 'centre', '-', '##eer', 'division', 'speak', 'without', 'who', 'first', 'can', 'times', 'that', 'they', 'given', 'who', ';', 'do', 'the', 'speaks', 'by', 'lists', 'or', 'and', 'ladies', 'further', '##qua', 'made', 'words', 'taught', 'wit', 'from', '-', 'says', 'Ara', 'the', 'mention', 'then', 'speak', 'like', 'develop', 'say', 'hope', 'then', 'others']\n",
      "bad_words ['approach', 'spotlight', '##gment', '-', 'decide', 'condition', \"'\", 'your', 'Northumberland', 'aiming', 'least', 'tones', 'speak', 'without', 'first', 'reserve', 'that', 'speech', 'men', 'who', 'not', 'word', 'you', 'half', 'judgment', 'demand', 'lists', '-', 'declared', 'whom', 'ladies', 'further', '##qua', 'made', 'words', 'to', 'taught', 'wit', 'from', 'says', 'you', '##resh', 'all', 'mention', 'that', 'too', ',', 'like', 'hope', 'others']\n"
     ]
    },
    {
     "data": {
      "text/html": [
       ", not to <span style=\"color: rgba(0,0,255,1)\">approach</span> the spotlight,'' think,'gment<span style=\"color: rgba(0,0,255,1)\">-</span><span style=\"color: rgba(0,0,255,1)\">decide</span>:--; and,'then, as one, that condition:--'----- -'-'then, <span style=\"color: rgba(0,0,255,1)\">your</span>'', and'<span style=\"color: rgba(0,0,255,1)\">Northumberland</span>,'- -'but, first word,'':'\" <span style=\"color: rgba(0,0,255,1)\">aiming</span>,'say,''-- -, the first,'-, or the <span style=\"color: rgba(0,0,255,1)\">least</span>;'or-<span style=\"color: rgba(0,0,255,1)\">tones</span>,'--- and-- the word, but of those,',,'and some,'speak,'are without, that who say first, as if'candor,'and<span style=\"color: rgba(0,0,255,1)\">'</span>reserve,'' then some of the times,'to that; and, if they:-- -','<span style=\"color: rgba(0,0,255,1)\">speech</span>, then, <span style=\"color: rgba(0,0,255,1)\">men</span> who<span style=\"color: rgba(0,0,255,1)\">,</span>'- -'- -, <span style=\"color: rgba(0,0,255,1)\">not</span>--'then,','<span style=\"color: rgba(0,0,255,1)\">word</span>, of you,'or half,'--- <span style=\"color: rgba(0,0,255,1)\">judgment</span>, that speaks, <span style=\"color: rgba(0,0,255,1)\">demand</span>, lists, -,,,-then-<span style=\"color: rgba(0,0,255,1)\">declared</span>, all <span style=\"color: rgba(0,0,255,1)\">whom</span> -', ladies-- \" furtherqua,-made, words,,, but to, taught', wit',,,-the', from from<span style=\"color: rgba(0,0,255,1)\">,</span>, says,, <span style=\"color: rgba(0,0,255,1)\">you</span>-<span style=\"color: rgba(0,0,255,1)\">resh</span> the -'- all'say say, mention,''-<span style=\"color: rgba(0,0,255,1)\">that</span>''---<span style=\"color: rgba(0,0,255,1)\">too</span> -'<span style=\"color: rgba(0,0,255,1)\">,</span> like,, but that<span style=\"color: rgba(0,0,255,1)\">'</span>,;', and<span style=\"color: rgba(0,0,255,1)\">-</span>hope-then others"
      ],
      "text/plain": [
       "<IPython.core.display.HTML object>"
      ]
     },
     "metadata": {},
     "output_type": "display_data"
    },
    {
     "data": {
      "text/html": [
       ", not to <span style=\"color: rgba(255,0,0,0.5353150367736816)\">make</span> the spotlight,'' think,'gment<span style=\"color: rgba(255,0,0,0.5471506118774414)\">-</span><span style=\"color: rgba(255,0,0,0.5505320429801941)\">says</span>:--; and,'then, as one, that condition:--'----- -'-'then, <span style=\"color: rgba(255,0,0,0.5376116633415222)\">the</span>'', and'<span style=\"color: rgba(255,0,0,0.5342880487442017)\">say</span>,'- -'but, first word,'':'\" <span style=\"color: rgba(255,0,0,0.55026775598526)\">Then</span>,'say,''-- -, the first,'-, or the <span style=\"color: rgba(255,0,0,0.6066091656684875)\">word</span>;'or-<span style=\"color: rgba(255,0,0,0.5567171573638916)\">-</span>,'--- and-- the word, but of those,',,'and some,'speak,'are without, that who say first, as if'candor,'and<span style=\"color: rgba(255,0,0,0.8717906475067139)\">'</span>reserve,'' then some of the times,'to that; and, if they:-- -','<span style=\"color: rgba(255,0,0,0.5221678018569946)\">then</span>, then, <span style=\"color: rgba(255,0,0,0.7482410669326782)\">and</span> who<span style=\"color: rgba(255,0,0,0.8538379669189453)\">,</span>'- -'- -,<span style=\"color: rgba(255,0,0,0.6172236800193787)\">'</span>- -'then,','<span style=\"color: rgba(255,0,0,0.5498822331428528)\">one</span>, of you,'or half,'--- <span style=\"color: rgba(255,0,0,0.6438996195793152)\">-</span>, that speaks, <span style=\"color: rgba(255,0,0,0.5432267189025879)\">says</span>, lists, -,,,-then-<span style=\"color: rgba(255,0,0,0.5213099122047424)\">those</span>, all <span style=\"color: rgba(255,0,0,0.5783395171165466)\">and</span> -', ladies-- \" furtherqua,-made, words,,, but to, taught', wit',,,-the', from from<span style=\"color: rgba(255,0,0,0.9508494734764099)\">,</span>, says,,<span style=\"color: rgba(255,0,0,0.5632238388061523)\">,</span> -<span style=\"color: rgba(255,0,0,0.6928054094314575)\">,</span> the -'- all'say say, mention,''-<span style=\"color: rgba(255,0,0,0.5967758297920227)\">-</span>''---<span style=\"color: rgba(255,0,0,0.7333003282546997)\">-</span> -'<span style=\"color: rgba(255,0,0,0.5575622916221619)\">and</span> like,, but that<span style=\"color: rgba(255,0,0,0.681125283241272)\">'</span>,;', and<span style=\"color: rgba(255,0,0,0.7331708669662476)\">-</span>hope-then others'"
      ],
      "text/plain": [
       "<IPython.core.display.HTML object>"
      ]
     },
     "metadata": {},
     "output_type": "display_data"
    }
   ],
   "source": [
    "improve_words_recursive(text, processor, tokenizer, model, iterations=300, max_seq_length=300, n=10, T=1.0, device=\"cuda\", debug=10)"
   ]
  },
  {
   "cell_type": "code",
   "execution_count": 145,
   "metadata": {},
   "outputs": [
    {
     "data": {
      "text/html": [
       "“Despite the constant negative press covfefe”. Who can figure out the true <span style=\"color: rgba(0,0,255,1)\">meaning</span> of \" covfefe \"??? Enjoy"
      ],
      "text/plain": [
       "<IPython.core.display.HTML object>"
      ]
     },
     "metadata": {},
     "output_type": "display_data"
    },
    {
     "data": {
      "text/html": [
       "“Despite the constant negative press covfefe”. Who can figure out the true <span style=\"color: rgba(255,0,0,0.6944759488105774)\">meaning</span> of \" covfefe \"??? Enjoy"
      ],
      "text/plain": [
       "<IPython.core.display.HTML object>"
      ]
     },
     "metadata": {},
     "output_type": "display_data"
    },
    {
     "name": "stdout",
     "output_type": "stream",
     "text": [
      "bad_words ['press', 'figure', 'reputation', '[SEP]', '[PAD]', '[PAD]', '[PAD]', '[PAD]', '[PAD]', '[PAD]', '[PAD]', '[PAD]', '[PAD]', '[PAD]', '[PAD]', '[PAD]', '[PAD]', '[PAD]', '[PAD]', '[PAD]', '[PAD]', '[PAD]', '[PAD]', '[PAD]', '[PAD]', '[PAD]', '##v', '[PAD]', '[PAD]', '[PAD]', '[PAD]', '[PAD]', '[PAD]', '[PAD]', '##rage', '[PAD]', '[PAD]', '[PAD]', '[PAD]', '[PAD]', '[PAD]', '[PAD]', '[PAD]', '[PAD]', '[PAD]', '[PAD]', '[PAD]', '[PAD]', '[PAD]', '[PAD]', '[PAD]', '[PAD]', '[PAD]', '[PAD]', '[PAD]', '[PAD]', '[PAD]', '[PAD]', '[PAD]', '[PAD]', '[PAD]', '[PAD]', '[PAD]', '[PAD]', '[PAD]', '[PAD]', '[PAD]', '[PAD]', '[PAD]', '[PAD]', '[PAD]', '[PAD]', '[PAD]', '[PAD]', '[PAD]', '[PAD]', '[PAD]', '[PAD]', '[PAD]', '[PAD]', '[PAD]', '[PAD]', '[PAD]', '[PAD]', '[PAD]', '[PAD]', '[PAD]', '[PAD]', '[PAD]', '[PAD]', '[PAD]', '[PAD]', '[PAD]', '[PAD]', '[PAD]']\n",
      "bad_words ['press', 'figure', '[SEP]', '[PAD]', '[PAD]', '[PAD]', '[PAD]', '[PAD]', '[PAD]', '[PAD]', '[PAD]', '[PAD]', '[PAD]', '[PAD]', '[PAD]', '[PAD]', '[PAD]', '[PAD]', '[PAD]', '[PAD]', '[PAD]', '[PAD]', '[PAD]', '##dit', '[PAD]', '[PAD]', '[PAD]', '[PAD]', '[PAD]', '[PAD]', '[PAD]', '##rage', '[PAD]', '[PAD]', '[PAD]', '[PAD]', '[PAD]', '[PAD]', '[PAD]', '[PAD]', '[PAD]', '[PAD]', '[PAD]', '[PAD]', '[PAD]', '[PAD]', '[PAD]', '[PAD]', '[PAD]', '[PAD]', '[PAD]', 'cleaned', '[PAD]', '[PAD]', '[PAD]', '[PAD]', '[PAD]', 'very', '[PAD]', '[PAD]', '[PAD]', '[PAD]', '##ed', '[PAD]', '[PAD]', '[PAD]', '[PAD]', '[PAD]', '[PAD]', '[PAD]', '[PAD]', '[PAD]', '[PAD]', '[PAD]', 'even', '[PAD]', '[PAD]', '[PAD]', '[PAD]', '[PAD]', '[PAD]', 'that', 'this', '[PAD]', '[PAD]', '[PAD]', '[PAD]', '[PAD]']\n",
      "bad_words ['Despite', 'press', '##v', '##v', '##joy', 'alone', '[PAD]', '[PAD]', '[PAD]', '[PAD]', '“', '[PAD]', '[PAD]', '[PAD]', '[PAD]', '[PAD]', '[PAD]', '[PAD]', '[PAD]', '[PAD]', '[PAD]', '[PAD]', '[PAD]', '[PAD]', '[PAD]', '[PAD]', '##dit', '##v', '[PAD]', '[PAD]', 'treated', '[PAD]', '[PAD]', '[PAD]', '##rage', '[PAD]', '[PAD]', '[PAD]', '[PAD]', '[PAD]', '[PAD]', '[PAD]', '[PAD]', 'co', 'for', '[PAD]', '[PAD]', '[PAD]', '[PAD]', '[PAD]', '[PAD]', '[PAD]', '[PAD]', 'sweet', 'cleaned', '[PAD]', 'word', '[PAD]', '[PAD]', '[PAD]', 'very', '[PAD]', '[PAD]', '[PAD]', '[PAD]', '##ed', '[PAD]', '[PAD]', '[PAD]', '[PAD]', '[PAD]', '[PAD]', '[PAD]', '[PAD]', '[PAD]', '[PAD]', '[PAD]', '[PAD]', '[PAD]', '[PAD]', '[PAD]', '[PAD]', '[PAD]', '[PAD]', '[PAD]', '[PAD]', '[PAD]']\n",
      "bad_words ['Despite', 'press', '236', '##fe', '[PAD]', '[PAD]', '[PAD]', '[PAD]', '“', '[PAD]', '[PAD]', '[PAD]', '[PAD]', '[PAD]', '[PAD]', '[PAD]', '[PAD]', '[PAD]', '[PAD]', '[PAD]', '[PAD]', '[PAD]', '[PAD]', '[PAD]', '##dit', '[PAD]', '[PAD]', 'treated', '[PAD]', '[PAD]', '[PAD]', 'not', '[PAD]', '[PAD]', '[PAD]', '[PAD]', '[PAD]', '[PAD]', '-', '[PAD]', '##e', '[PAD]', '[PAD]', '[PAD]', '[PAD]', '[PAD]', '[PAD]', '[PAD]', '[PAD]', 'sweet', 'cleaned', '[PAD]', '[PAD]', '##ber', '[PAD]', 'very', '[PAD]', '[PAD]', '[PAD]', '##ed', '[PAD]', '[PAD]', 'f', '##IS', 'L', '[PAD]', '[PAD]', '[PAD]', '[PAD]', '[PAD]', '[PAD]', 'even', 'out', '[PAD]', '[PAD]', '[PAD]', '[PAD]', '[PAD]', '##fe', '[PAD]', '*']\n",
      "bad_words ['Despite', 'their', 'press', '##v', '”', 'figure', '236', '[PAD]', '[PAD]', '[PAD]', '[PAD]', '“', '[PAD]', '[PAD]', '[PAD]', '[PAD]', '[PAD]', '[PAD]', '[PAD]', '[PAD]', '[PAD]', '[PAD]', '[PAD]', '[PAD]', '[PAD]', '[PAD]', '[PAD]', 'treated', '[PAD]', '[PAD]', '[PAD]', 'not', '[PAD]', '[PAD]', '[PAD]', '[PAD]', '[PAD]', '[PAD]', '[PAD]', 'rewarded', '[PAD]', '[PAD]', '[PAD]', '[PAD]', '[PAD]', '[PAD]', '[PAD]', '[PAD]', 'sweet', 'cleaned', '[PAD]', '[PAD]', '##ber', '[PAD]', 'very', '[PAD]', '[PAD]', '[PAD]', '##ed', '[PAD]', '?', '[PAD]', 'ability', '##IS', 'L', '[PAD]', '##co', 'species', '[PAD]', ')', '[PAD]', 'faced', '[PAD]', '[PAD]', '[PAD]', '[PAD]', '[PAD]', '##fe', '[PAD]', ';']\n",
      "bad_words ['“', 'Despite', 'Survival', 'She', 'figure', 'IPA', '##v', '[PAD]', 'you', 'these', '[PAD]', '“', '[PAD]', '[PAD]', '[PAD]', '[PAD]', '[PAD]', '[PAD]', '[PAD]', '[PAD]', '[PAD]', '[PAD]', '[PAD]', 'i', '##v', '[PAD]', '[PAD]', 'treated', '[PAD]', '[PAD]', '[PAD]', 'not', '[PAD]', '[PAD]', '[PAD]', '[PAD]', '[PAD]', '[PAD]', 'co', 'rewarded', '[PAD]', '[PAD]', '[PAD]', '[PAD]', '[PAD]', '[PAD]', '[PAD]', '[PAD]', 'sweet', 'cleaned', ',', 'virtue', '##ber', '[PAD]', 'very', '[PAD]', '[PAD]', '[PAD]', '##ed', '[PAD]', '?', '[PAD]', ',', '##IS', 'L', '[PAD]', '##co', 'species', '[PAD]', ')', '[PAD]', 'even', 'faced', '[PAD]', '[PAD]', '[PAD]', '[PAD]', '[PAD]', '##fe', '[PAD]', ';']\n",
      "bad_words ['“', 'Despite', 'Survival', 'negative', 'She', 'z', 'wonder', 'IPA', '##l', '[PAD]', 'you', 'speed', '[PAD]', '[PAD]', '[PAD]', '[PAD]', '[PAD]', '[PAD]', '[PAD]', '[PAD]', 'alone', '[PAD]', '[PAD]', 'i', '##v', '[PAD]', '[PAD]', '[PAD]', '[PAD]', '[PAD]', 'not', '[PAD]', '[PAD]', '[PAD]', 'Divisions', '.', '[PAD]', 'rewarded', '[PAD]', '[PAD]', '[PAD]', '[PAD]', '[PAD]', '[PAD]', '[PAD]', 'sweet', 'cleaned', 'word', 'virtue', '##ber', '[PAD]', '##ize', '##e', '[PAD]', '[PAD]', '[PAD]', '[PAD]', '[PAD]', '##IS', 'L', '[PAD]', '##co', 'species', '##phobic', '[PAD]', 'even', 'faced', '[PAD]', '[PAD]', 'this', '[PAD]', '[PAD]', '[PAD]', '[PAD]']\n",
      "bad_words ['“', 'Despite', 'Survival', 'negative', 'She', 'scream', '”', 'IPA', '[PAD]', 'you', 'word', '“', '[PAD]', '[PAD]', '[PAD]', '[PAD]', '[PAD]', '[PAD]', '[PAD]', '[PAD]', 'alone', '[PAD]', '[PAD]', 'i', '##v', '[PAD]', '[PAD]', '[PAD]', '[PAD]', 'not', '[PAD]', '[PAD]', '[PAD]', 'Divisions', '-', '[PAD]', 'co', 'rewarded', ':', '[PAD]', '[PAD]', '[PAD]', '[PAD]', '[PAD]', '[PAD]', 'sweet', 'cleaned', 'word', 'virtue', '##ber', '[PAD]', 'd', '[PAD]', 'who', '[PAD]', '[PAD]', '[PAD]', '##IS', '##ration', '##eth', '*', '##co', 'species', '##phobic', ')', '[PAD]', 'faced', '[PAD]', '[PAD]', 'ale', '[PAD]', 'facts']\n",
      "bad_words ['“', 'Despite', 'Survival', 'negative', '69', 'IPA', '##fe', 'Bon', '##joy', '##ing', '[PAD]', 'you', 'word', '“', 'Elizabeth', '[PAD]', '[PAD]', '[PAD]', '[PAD]', '[PAD]', '[PAD]', 'is', 'alone', '[PAD]', 'about', '[PAD]', 'i', '##v', '[PAD]', '[PAD]', '##fe', '[PAD]', '[PAD]', 'satisfaction', '[PAD]', '[PAD]', 'Divisions', '[PAD]', 'co', 'rewarded', '[PAD]', '[PAD]', '[PAD]', ',', '[PAD]', 'weeping', 'sweet', 'cleaned', '##ance', 'virtue', '##ber', 'Frankfurt', '##e', '[PAD]', '[PAD]', 'its', '[PAD]', '[PAD]', '##IS', '##ration', '##eth', '*', '##co', 'species', '##phobic', '[PAD]', 'even', 'faced', '[PAD]', '[PAD]', 'ale', '[PAD]', 'facts', ';']\n",
      "bad_words ['Despite', 'an', 'herself', '69', '##fe', '##fe', 'IPA', 'Bon', '##joy', '[PAD]', 'you', 'these', 'word', '“', 'Elizabeth', '[PAD]', '[PAD]', '[PAD]', '[PAD]', '[PAD]', '[PAD]', ',', '[PAD]', 'about', 'i', '##v', '[PAD]', '[PAD]', 'again', '[PAD]', '[PAD]', '##mount', 'satisfaction', '[PAD]', 'Divisions', '-', '[PAD]', 'co', 'rewarded', 'title', '[PAD]', '[PAD]', '[PAD]', 'sweet', 'cleaned', '##ance', 'virtue', '##ber', 'Frankfurt', 'd', '[PAD]', '[PAD]', '[PAD]', '[PAD]', '##IS', '##ration', '##eth', '*', '##co', 'species', '##phobic', 'lives', 'even', 'faced', '[PAD]', '[PAD]', 'ale', '[PAD]', 'facts', ';']\n"
     ]
    },
    {
     "data": {
      "text/html": [
       "“Despite an herself negative She 69 zfefe”. Who can wonder at <span style=\"color: rgba(0,0,255,1)\">the</span> true IPA of \" <span style=\"color: rgba(0,0,255,1)\">Fe</span>lfefe \"??? Bonjoying [PAD] you these word “for <span style=\"color: rgba(0,0,255,1)\">Elizabeth</span> [PAD] [PAD] [PAD] [PAD] <span style=\"color: rgba(0,0,255,1)\">[PAD]</span> [PAD], alone [PAD] about the the a i,<span style=\"color: rgba(0,0,255,1)\">v</span> [PAD] [PAD] again [PAD].; [PAD]mount satisfaction? the <span style=\"color: rgba(0,0,255,1)\">[PAD]</span> Divisions of.-[PAD] co for rewarded: title [PAD] [PAD]<span style=\"color: rgba(0,0,255,1)\">,</span><span style=\"color: rgba(0,0,255,1)\">.</span> [PAD] her sweet cleanedance word virtueber Frankfurt de. [PAD] who [PAD]. [PAD]? and [PAD],<span style=\"color: rgba(0,0,255,1)\">IS</span>rationeth *<span style=\"color: rgba(0,0,255,1)\">co</span> speciesphobic ) lives even can <span style=\"color: rgba(0,0,255,1)\">faced</span> the can the [PAD] that this [PAD] ale [PAD]fe <span style=\"color: rgba(0,0,255,1)\">facts</span>"
      ],
      "text/plain": [
       "<IPython.core.display.HTML object>"
      ]
     },
     "metadata": {},
     "output_type": "display_data"
    },
    {
     "data": {
      "text/html": [
       "“Despite an herself negative She 69 zfefe”. Who can wonder at <span style=\"color: rgba(255,0,0,0.9929670095443726)\">the</span> true IPA of \" <span style=\"color: rgba(255,0,0,0.5628471374511719)\">Du</span>lfefe \"??? Bonjoying [PAD] you these word “for<span style=\"color: rgba(255,0,0,0.5522976517677307)\">el</span> [PAD] [PAD] [PAD] [PAD] <span style=\"color: rgba(255,0,0,0.5173109769821167)\">is</span> [PAD], alone [PAD] about the the a i,<span style=\"color: rgba(255,0,0,0.5197905898094177)\">y</span> [PAD] [PAD] again [PAD].; [PAD]mount satisfaction? the <span style=\"color: rgba(255,0,0,0.6367029547691345)\">herself</span> Divisions of.-[PAD] co for rewarded: title [PAD] [PAD]<span style=\"color: rgba(255,0,0,0.5230461359024048)\">am</span> <span style=\"color: rgba(255,0,0,0.7509029507637024)\">the</span> [PAD] her sweet cleanedance word virtueber Frankfurt de. [PAD] who [PAD]. [PAD]? and [PAD],<span style=\"color: rgba(255,0,0,0.5390335321426392)\">,</span>rationeth * <span style=\"color: rgba(255,0,0,0.6024484634399414)\">z</span> speciesphobic ) lives even can<span style=\"color: rgba(255,0,0,0.9563684463500977)\">.</span> the can the [PAD] that this [PAD] ale [PAD]fe <span style=\"color: rgba(255,0,0,0.5333157181739807)\">Nice</span>;"
      ],
      "text/plain": [
       "<IPython.core.display.HTML object>"
      ]
     },
     "metadata": {},
     "output_type": "display_data"
    },
    {
     "name": "stdout",
     "output_type": "stream",
     "text": [
      "bad_words ['Despite', 'negative', 'She', '69', 'IPA', 'Bon', '##joy', '[PAD]', 'you', 'word', '“', '[PAD]', '[PAD]', '[PAD]', '[PAD]', '##is', '[PAD]', 'alone', '[PAD]', 'about', 'i', 'black', '[PAD]', '[PAD]', 'again', '[PAD]', '[PAD]', '##mount', 'satisfaction', '?', 'wit', 'Divisions', '[PAD]', 'co', 'rewarded', 'title', '[PAD]', '[PAD]', 'dish', '[PAD]', 'sweet', 'cleaned', '##ance', 'word', 'virtue', '##ber', 'Frankfurt', '[PAD]', '[PAD]', '[PAD]', '[PAD]', '80', '##ration', '##eth', '*', 'al', 'species', '##phobic', 'lives', '[PAD]', 'this', '[PAD]', 'ale', '[PAD]', '##je']\n",
      "bad_words ['be', 'Despite', 'herself', '69', '##fe', '”', 'IPA', '##fe', '?', 'Bon', '##joy', '[PAD]', 'you', 'word', '“', '##el', '[PAD]', '[PAD]', '[PAD]', '[PAD]', '##is', '[PAD]', 'board', '[PAD]', 'about', 'i', 'black', '[PAD]', '[PAD]', 'again', '[PAD]', '[PAD]', '##mount', 'satisfaction', '?', 'wit', 'Divisions', '[PAD]', 'than', 'rewarded', 'it', '[PAD]', '[PAD]', 'dish', '[PAD]', 'self', 'cleaned', '##ance', 'word', 'virtue', '##ber', 'Frankfurt', '[PAD]', 'ever', '[PAD]', '[PAD]', 'The', '##ration', '##eth', '*', 'al', 'species', '##phobic', ')', 'lives', '[PAD]', 'ale', '[PAD]', 'eager', '##je', ';']\n",
      "bad_words ['Despite', 'herself', '69', 'z', '##fe', '##fe', '”', 'wonder', 'IPA', '##ing', '[PAD]', 'you', 'these', '##eto', '“', '##el', '[PAD]', '[PAD]', '[PAD]', '[PAD]', '##is', '[PAD]', 'board', '[PAD]', 'about', 'a', 'i', 'black', '[PAD]', '[PAD]', 'again', '[PAD]', '[PAD]', '##mount', 'satisfaction', '?', '.', '[PAD]', 'than', 'rewarded', 'it', '-', 'and', 'dish', '[PAD]', 'self', 'cleaned', '##ance', 'virtue', '##ber', 'Frankfurt', 'd', 'not', 'alone', '[PAD]', '[PAD]', 'The', '##eth', '*', 'al', 'species', '##phobic', ')', 'lives', 'even', '?', 'English', 'this', 'ale', '[PAD]', 'eager', '##je', 'fire']\n",
      "bad_words ['Despite', 'She', '69', '##fe', '”', 'IPA', '?', 'En', '##joy', '[PAD]', 'you', 'these', '##eto', '“', 'for', '##el', '[PAD]', '[PAD]', '[PAD]', 'translation', '##is', '[PAD]', 'board', '[PAD]', 'about', 'i', 'black', '##s', '[PAD]', 'again', '[PAD]', '[PAD]', '##mount', 'satisfaction', '?', 'wit', '-', '[PAD]', 'than', 'rewarded', 'it', 'dish', '##fell', 'self', 'cleaned', 'word', 'virtue', '##ber', 'Frankfurt', '?', '[PAD]', '[PAD]', '##eth', '*', 'al', 'species', '##phobic', ')', 'lives', 'even', '?', 'English', 'Love', 'this', 'ale', '[PAD]', 'eager', 'favorites']\n",
      "bad_words ['Despite', 'herself', 'She', '69', '##ing', 'IPA', '##joy', '[PAD]', 'you', 'verse', '##eto', '“', 'He', '##el', '[PAD]', '[PAD]', '[PAD]', 'translation', '##is', '[PAD]', 'board', '[PAD]', 'about', 'black', 'et', '[PAD]', 'again', '[PAD]', '[PAD]', '##mount', '?', '##ment', '[PAD]', 'than', '##nte', 'dish', 'based', 'her', 'self', 'cleaned', 'virtue', '##ber', 'Frankfurt', '##e', '-', 'ever', '[PAD]', '?', '[PAD]', '##eth', '*', 'al', 'species', ')', 'lives', 'even', '?', 'by', 'Love', 'this', 'ale', '[PAD]', 'eager', 'favorites']\n",
      "bad_words ['Despite', 'She', '##fe', '##ing', 'IPA', '##os', '[PAD]', 'you', 'verse', '##eto', 'He', '[PAD]', '[PAD]', '[PAD]', 'translation', '##is', '[PAD]', '##orm', '[PAD]', 'about', 'black', 'et', '[PAD]', 'again', '[PAD]', '[PAD]', '##mount', 'neighbor', '##ment', '-', '[PAD]', 'than', 'Ta', 'it', \"'\", 'self', 'cleaned', 'word', 'virtue', '##ber', 'Frankfurt', '[PAD]', '##fell', '[PAD]', \"'\", '##eth', '*', 'al', 'species', 'constantly', 'lives', 'even', '?', 'doubt', 'Love', 'this', 'Du', 'ale', '[PAD]', 'fixed', 'favorites']\n",
      "bad_words ['Despite', 'herself', '”', 'IPA', '##fe', 'you', 'verse', '“', 'He', '##el', '[PAD]', '##de', '[PAD]', 'translation', '##is', '[PAD]', '##orm', '[PAD]', 'about', 'black', 'et', '[PAD]', 'again', '[PAD]', '[PAD]', '##mount', 'neighbor', 'wit', '[PAD]', 'than', 'for', 'Ta', 'it', 'and', '##joy', 'self', 'cleaned', 'word', 'virtue', '##ber', 'Frankfurt', 'd', '?', 'ever', '[PAD]', '##fell', '[PAD]', '##eth', '*', 'al', 'species', 'lives', 'even', 'certainty', 'by', 'Love', 'this', 'ale', '[PAD]', '.', '\"']\n",
      "bad_words ['be', 'Despite', 'herself', 'coming', '”', 'can', 'wonder', 'IPA', '##fe', 'En', 'corruption', 'you', 'verse', '“', 'He', '##el', '##ü', '##de', '[PAD]', '##ere', 'because', '[PAD]', '##orm', '[PAD]', 'about', 'et', '[PAD]', 'again', '[PAD]', '[PAD]', '##dress', 'that', 'neighbor', 'wit', '##smo', 'than', 'Ta', 'and', '##joy', 'cleaned', 'virtue', '##ber', 'Frankfurt', '##e', 'ever', '[PAD]', '##fell', '[PAD]', 'level', '##eth', '*', 'al', 'species', 'lives', 'even', '?', 'certainty', 'Love', 'ale', '[PAD]']\n",
      "bad_words ['be', 'Despite', 'herself', 'coming', '”', 'IPA', 'corruption', 'you', 'verse', 'that', '“', '##ü', '##de', '[PAD]', '##ere', 'rather', '[PAD]', 'Na', '[PAD]', 'about', 'et', '[PAD]', 'again', '[PAD]', '[PAD]', '##dress', 'neighbor', 'wit', '##smo', 'for', 'Ta', '##ist', 'mouth', 'cleaned', 'virtue', '##ber', 'hours', 'd', '##e', 'ever', '[PAD]', '##fell', 'level', 'The', '##eth', '*', 'al', '##n', 'lives', 'about', 'certainty', 'Love', 'this', 'ale']\n",
      "bad_words ['half', 'Fu', 'wonder', '##ing', 'IPA', '?', '##os', 'corruption', 'you', 'verse', '“', '##el', '##ü', '[PAD]', '##ere', '[PAD]', 'Na', '[PAD]', 'about', 'et', '##aco', '[PAD]', 'likewise', '##be', '##dress', 'neighbor', 'wit', '##smo', 'than', 'for', 'Ta', '##ment', 'mouth', '##re', 'virtue', 'Di', 'hours', 'enough', '##e', '[PAD]', '##fell', 'name', 'level', '##eth', '*', 'al', '##n', 'hear', 'even', 'can', 'certainty', 'Love', 'ale', \"'\"]\n"
     ]
    },
    {
     "data": {
      "text/html": [
       "be half an herself, \" Fulfe coming”. Who can wondering the true IPA of \" Dulfe, \"?<span style=\"color: rgba(0,0,255,1)\">?</span>? Enosed <span style=\"color: rgba(0,0,255,1)\">corruption</span> you verse that “\"elüde [PAD]<span style=\"color: rgba(0,0,255,1)\">ere</span>, [PAD], Na [PAD] about the the a, \" Du et,aco [PAD]. likewise<span style=\"color: rgba(0,0,255,1)\">be</span>dress that neighbor to wit, of.-smo than for Ta: it-andment the'her mouthre, \" virtue Di hours enoughe: -? ever at [PAD]<span style=\"color: rgba(0,0,255,1)\">fell</span> and <span style=\"color: rgba(0,0,255,1)\">name</span> level <span style=\"color: rgba(0,0,255,1)\">The</span> \"<span style=\"color: rgba(0,0,255,1)\">eth</span> * al<span style=\"color: rgba(0,0,255,1)\">n</span>.. <span style=\"color: rgba(0,0,255,1)\">hear</span> even can about the <span style=\"color: rgba(0,0,255,1)\">can</span> certainty by Love this Du <span style=\"color: rgba(0,0,255,1)\">ale</span>'. \""
      ],
      "text/plain": [
       "<IPython.core.display.HTML object>"
      ]
     },
     "metadata": {},
     "output_type": "display_data"
    },
    {
     "data": {
      "text/html": [
       "be half an herself, \" Fulfe coming”. Who can wondering the true IPA of \" Dulfe, \"? <span style=\"color: rgba(255,0,0,0.5249512195587158)\">Which</span>? Enosed<span style=\"color: rgba(255,0,0,0.6327798962593079)\">,</span> you verse that “\"elüde [PAD] <span style=\"color: rgba(255,0,0,0.5435535311698914)\">“</span>, [PAD], Na [PAD] about the the a, \" Du et,aco [PAD]. likewise <span style=\"color: rgba(255,0,0,0.5540657043457031)\">is</span>dress that neighbor to wit, of.-smo than for Ta: it-andment the'her mouthre, \" virtue Di hours enoughe: -? ever at [PAD] <span style=\"color: rgba(255,0,0,0.6125761270523071)\">what</span> and <span style=\"color: rgba(255,0,0,0.63213050365448)\">meaning</span> level <span style=\"color: rgba(255,0,0,0.6282363533973694)\">and</span> \"<span style=\"color: rgba(255,0,0,0.5819923281669617)\">l</span> * al<span style=\"color: rgba(255,0,0,0.6622099876403809)\">,</span>.. <span style=\"color: rgba(255,0,0,0.5428271889686584)\">else</span> even can about the <span style=\"color: rgba(255,0,0,0.5416224598884583)\">and</span> certainty by Love this Du <span style=\"color: rgba(255,0,0,0.5441744327545166)\">of</span>'. \":"
      ],
      "text/plain": [
       "<IPython.core.display.HTML object>"
      ]
     },
     "metadata": {},
     "output_type": "display_data"
    },
    {
     "name": "stdout",
     "output_type": "stream",
     "text": [
      "bad_words ['be', 'coming', 'can', '##ing', 'IPA', 'Honestly', '##os', 'the', 'you', 'verse', '##el', '##ü', '##de', '[PAD]', 'Know', '[PAD]', 'Na', '[PAD]', 'et', '##aco', '[PAD]', 'likewise', 'be', '##dress', 'neighbor', 'wit', '##smo', 'than', 'for', 'Ta', '##ment', \"'\", 'mouth', '##re', 'virtue', 'Di', 'hours', 'enough', '##e', 'ever', '[PAD]', 'one', 'level', 'to', 'Tam', '*', 'al', '.', '##ton', 'even', 'can', 'about', '—', 'certainty', 'Love', 'stroke', \"'\", '.']\n",
      "bad_words ['coming', '”', 'can', 'wonder', 'IPA', 'Honestly', '##os', 'you', 'verse', '“', '##el', '##ü', '##de', '[PAD]', 'or', '[PAD]', 'Na', '[PAD]', 'Du', '##lish', '##aco', '[PAD]', 'likewise', 'mouth', 'neighbor', '##smo', 'than', 'Ta', 'it', '##ment', \"'\", 'mouth', 'note', 'virtue', 'Di', 'hours', 'enough', '##e', 'ever', '[PAD]', 'Saint', 'meaning', 'This', 'Tam', '*', 'al', '##ton', 'even', 'can', 'about', 'be', '—', 'certainty', 'Love', 'this', 'stroke', \"'\"]\n",
      "bad_words ['coming', 'conquer', 'perhaps', '##fe', '?', 'Honestly', 'verse', 'that', \"'\", '##el', '##ü', '##de', '[PAD]', '[PAD]', 'Na', '[PAD]', 'Du', '##lish', '##aco', '[PAD]', 'likewise', 'mouth', 'neighbor', '##smo', 'for', 'Ta', 'it', '##ment', 'being', 'note', '\"', 'virtue', 'Di', 'hours', 'enough', 'ever', '[PAD]', 'Saint', 'meaning', 'This', 'Tam', '*', 'al', '##ton', 'bluff', 'fancy', 'about', '—', 'certainty', 'by', 'this', 'stroke']\n",
      "bad_words ['herself', '\"', '”', 'can', '.', 'true', 'perhaps', 'll', 'Honestly', '##os', '##ed', 'you', 'verse', 'that', '##el', '##ü', '##de', '[PAD]', '[PAD]', 'Na', '[PAD]', 'about', 'Du', '##lish', '##aco', '[PAD]', '”', 'mouth', 'is', 'neighbor', 'wit', '##smo', 'than', 'Ta', ':', 'and', '##ment', 'her', 'being', 'shaken', 'virtue', 'Di', 'hours', 'enough', '##e', '##r', 'at', 'meaning', 'This', 'Tam', 'crews', 'al', '##ton', 'bluff', 'fancy', 'about', '—', 'certainty', 'by', 'this', 'Du', 'stroke']\n",
      "bad_words ['on', 'herself', '##fe', '\"', '”', '##ing', 'true', 'Du', 'll', 'Honestly', 'En', '##os', '##ed', 'the', 'you', 'verse', 'that', '##el', '##ü', '##de', '[PAD]', '[PAD]', 'Na', '[PAD]', 'about', 'or', 'Du', 'Fu', ':', '[PAD]', 'than', 'mouth', 'is', 'neighbor', 'wit', '##smo', 'it', 'uses', '##ment', 'the', 'her', 'being', 'shaken', 'virtue', 'Di', 'hours', 'enough', '##e', '##r', 'at', 'her', 'This', 'Tam', 'crews', 'al', 'knows', 'bluff', 'fancy', 'about', '—', 'certainty', 'by', 'me', 'Du', 'stroke']\n",
      "bad_words ['s', 'herself', 'made', '”', 'true', 'confessed', '##bul', 'll', 'Honestly', '##os', '##ed', 'the', 'you', 'verse', 'that', '##slav', '##ü', '##de', '[PAD]', 'or', '[PAD]', 'Na', '[PAD]', 'about', 'Du', '[PAD]', 'than', 'mouth', 'love', 'neighbor', 'wit', '##smo', 'than', 'for', '##y', 'uses', 'and', '##ment', 'and', 'being', 'shaken', 'virtue', 'Di', 'say', 'enough', '##e', ':', '##r', 'at', 'This', 'speak', 'crews', 'al', 'knows', 'bluff', 'fancy', 'about', '—', 'certainty', 'by', 'if', 'me', 'says', 'stroke']\n",
      "bad_words ['half', 'herself', 'nor', 'annoyance', 'true', 'perhaps', 'confessed', '##bul', 'll', 'Honestly', '##os', '##ed', 'Design', 'a', '##slav', '##ü', '##de', '[PAD]', 'or', 'but', 'Na', '[PAD]', 'about', 'Du', 'Fu', '[PAD]', 'than', 'be', 'mouth', 'love', 'neighbor', 'wit', '##smo', 'than', '##y', 'uses', '##ment', 'being', ',', 'No', 'surname', 'Di', 'say', 'enough', '##r', 'her', 'This', 'speak', 'crews', 'al', 'bluff', 'fancy', 'about', '—', 'certainty', 'wise', 'if', 'me', 'stroke']\n",
      "bad_words ['s', 'herself', 'annoyance', 'true', '##ness', 'confessed', '##bul', 'll', 'Honestly', 'En', 'me', 'the', 'Design', '##slav', '##ü', 'Na', '[PAD]', 'about', 'or', 'a', 'Du', '##via', '[PAD]', 'be', 'mouth', 'love', 'neighbor', 'wit', '##smo', 'than', 'for', '##y', 'execute', '##ment', ',', 'being', 'No', 'surname', 'Di', 'say', 'enough', '##r', '##t', 'her', 'This', 'speak', 'crews', 'al', 'knows', 'fancy', 'about', '—', 'certainty', 'wise', 'stroke']\n",
      "bad_words ['annoyance', '.', 'true', 'confessed', '##bul', 'll', 'Honestly', 'a', 'd', '##slav', '##ü', 'Na', '?', 'about', 'Du', '##via', ':', '[PAD]', 'be', 'mouth', 'neighbor', 'wit', 'No', 'than', \"'\", 'the', 'being', 'surname', '##zi', 'say', 'enough', ':', 'at', 'This', 'Al', 'speak', 'crews', 'knows', 'fancy', 'about', '—', 'certainty', '##y', 'if', 'says', 'stroke']\n",
      "bad_words ['an', 'herself', 'annoyance', 'true', 'confessed', '##bul', 'll', 'Honestly', '##os', ':', 'the', 'd', '.', '\"', '##ü', 'who', 'it', 'about', '?', 'Du', '##via', ':', '[PAD]', 'mouth', 'neighbor', 'wit', 'than', 'for', '##y', 'and', 'compensate', 'surname', '##res', 'say', 'enough', 'will', 'at', 'her', 'This', 'Al', 'speak', 'crews', 'al', 'knows', 'fancy', 'for', '—', 'certainty', 'if', 'submission']\n"
     ]
    },
    {
     "data": {
      "text/html": [
       "s half <span style=\"color: rgba(0,0,255,1)\">an</span> <span style=\"color: rgba(0,0,255,1)\">herself</span>, nor Fulfe made annoyance. Who is conquering. trueness, \" confessedbulfe, \" ll Honestly? <span style=\"color: rgba(0,0,255,1)\">En</span>os: the d,<span style=\"color: rgba(0,0,255,1)\">.</span> a \" \"ü who \" or, but, it? <span style=\"color: rgba(0,0,255,1)\">about</span> or the?, but Duvia,: [PAD]. \" be mouth love neighbor to wit,<span style=\"color: rgba(0,0,255,1)\">,</span>.-No than fory: it<span style=\"color: rgba(0,0,255,1)\">'</span>and<span style=\"color: rgba(0,0,255,1)\">'</span>the', <span style=\"color: rgba(0,0,255,1)\">compensate</span>,, surname Fures <span style=\"color: rgba(0,0,255,1)\">say</span> enoughe:-will it at, thet her \" This Al speak crews al... <span style=\"color: rgba(0,0,255,1)\">knows</span> is fancy for, — certaintyy <span style=\"color: rgba(0,0,255,1)\">if</span> me says submission'. \""
      ],
      "text/plain": [
       "<IPython.core.display.HTML object>"
      ]
     },
     "metadata": {},
     "output_type": "display_data"
    },
    {
     "data": {
      "text/html": [
       "s half<span style=\"color: rgba(255,0,0,0.5788816213607788)\">-</span><span style=\"color: rgba(255,0,0,0.5477420091629028)\">s</span>, nor Fulfe made annoyance. Who is conquering. trueness, \" confessedbulfe, \" ll Honestly? <span style=\"color: rgba(255,0,0,0.5582014918327332)\">Vol</span>os: the d, <span style=\"color: rgba(255,0,0,0.5384960174560547)\">d</span> a \" \"ü who \" or, but, it? <span style=\"color: rgba(255,0,0,0.5423672795295715)\">as</span> or the?, but Duvia,: [PAD]. \" be mouth love neighbor to wit,<span style=\"color: rgba(255,0,0,0.7090985774993896)\">,</span>.-No than fory: it <span style=\"color: rgba(255,0,0,0.5960991978645325)\">\"</span> and <span style=\"color: rgba(255,0,0,0.6736459732055664)\">\"</span> the', <span style=\"color: rgba(255,0,0,0.5756960511207581)\">word</span>,, surname Fures<span style=\"color: rgba(255,0,0,0.5785869359970093)\">ce</span> enoughe:-will it at, thet her \" This Al speak crews al... <span style=\"color: rgba(255,0,0,0.9679886102676392)\">\"</span> is fancy for, — certaintyy<span style=\"color: rgba(255,0,0,0.7757285833358765)\">.</span> me says submission'. \" but"
      ],
      "text/plain": [
       "<IPython.core.display.HTML object>"
      ]
     },
     "metadata": {},
     "output_type": "display_data"
    },
    {
     "name": "stdout",
     "output_type": "stream",
     "text": [
      "bad_words ['s', 'with', 's', 'nor', 'annoyance', 'true', 'confessed', '##bul', 'll', 'Honestly', 'pp', '##os', 'confusion', '##ü', ':', 'or', '?', 'Du', '##via', '[PAD]', 'be', 'mouth', 'neighbor', 'wit', 'sometimes', 'No', 'than', 'for', '##y', 'time', 'surname', '##res', '##î', 'enough', 'will', 'her', 'This', 'Al', 'speak', 'crews', 'al', 'fancy', 'for', '—', 'certainty', '##y', 'me', 'submission']\n",
      "bad_words ['whilst', 'unknown', '.', 'true', 'confessed', '##bul', 'll', '?', 'pp', 'confusion', '##ü', 'or', 'but', 'their', '?', 'Du', ':', '[PAD]', 'ʷ', 'mouth', 'love', 'neighbor', 'wit', 'sometimes', 'No', 'than', 'l', 'time', 'surname', '##res', '##î', 'enough', '##e', '##vid', 'her', 'This', 'speak', '##che', 'al', 'fancy', 'for', '—', 'certainty', 'submission', 'but']\n",
      "bad_words ['whilst', 'deals', 'true', 'confessed', 'VII', 'the', 'confusion', 'com', 'gestures', 'but', '?', 'their', 'the', '?', 'Du', 'made', '[PAD]', 'ʷ', 'mouth', 'then', 'neighbor', 'to', 'wit', 'sometimes', 'No', 'than', 'for', '##y', 'l', 'time', 'surname', '##res', '##î', 'himself', '##e', '##vid', 'at', '##t', 'her', 'what', 'speak', '##che', '##ch', 'fancy', 'for', '—', 'certainty', '##y', '.', 'me', 'submission']\n",
      "bad_words ['half', 'with', 'whilst', 'deals', '##ing', '##ut', 'Du', 'confessed', '##bul', '##fe', 'VII', '##os', 'the', 'd', 'confusion', '\"', 'com', 'gestures', 'or', 'their', '?', '##eve', '[PAD]', 'ʷ', 'mouth', 'neighbor', 'to', 'wit', 'sometimes', 'thinks', 'enough', 'than', 'for', '##y', '\"', 'l', '’', 'surname', '##f', '##î', 'himself', '##e', '##vid', 'at', 'old', 'Al', 'speak', '##che', '##ch', 'fancy', 'for', 'certainty', '##y', 'me', 'submission', 'but']\n",
      "bad_words ['hearing', 'with', '##lo', 'While', '##ut', 'confessed', 'll', 'And', 'd', 'confusion', '\"', '\"', 'com', 'who', 'gestures', 'it', '##ily', 'but', '##eve', '[PAD]', '\"', 'ʷ', 'mouth', 'then', 'neighbor', 'wit', 'sometimes', 'thinks', 'enough', 'than', 'Fremantle', '\"', 'obey', 'surname', '##î', 'himself', 'bits', '-', '##vid', 'when', 'old', 'Al', '##que', '##che', '##ch', 'fancy', 'certainty', '##y', 'me', 'says', 'submission', '\"', 'but']\n",
      "bad_words ['hearing', '##lo', 'whilst', 'ask', 'deals', 'While', '##ut', 'confessed', 'll', '##standing', 'Tan', 'the', 'd', 'confusion', 'la', 'who', '##t', 'but', 're', '##ily', 'but', '##eve', 'made', '[PAD]', 'ʷ', 'mouth', 'neighbor', 'Now', 'From', 'thinks', 'name', 'than', 'Fremantle', '##y', 'sigh', '\"', 'obey', '’', 'surname', '##î', 'himself', 'bits', 'it', '##vid', 'when', 'To', 'Al', '##que', '##che', 'fancy', 'for', 'certainty', '##y', 'me', 'submission', '\"', 'but']\n",
      "bad_words ['##ly', 'whilst', 'ask', 'deals', 'While', ';', 'Du', 'confessed', 'll', '##standing', 'Tan', 'd', '-', '\"', '\"', 'la', 'who', '##t', 're', '##ily', 'but', 'made', '[PAD]', '?', 'speaks', 'mouth', 'then', 'neighbor', 'Now', 'From', ';', 'than', 'Fremantle', 'sigh', '\"', 'obey', '’', 'surname', '##f', '##î', 'himself', 'bits', ':', 's', '##vid', 'when', 'To', '##que', '##che', '##ch', 'certainty', '-', 'says', 'submission']\n",
      "bad_words ['##ly', '##lo', 'whilst', 'ask', 'deals', 'Who', 'While', '.', '##ut', 'Du', '##rs', '##fe', 'll', '##standing', 'goes', 'May', 'la', 'who', 'd', 're', '##ily', '?', 'but', 'there', '[PAD]', '\"', 'mouth', 'then', 'neighbor', 'Now', 'From', 'thinks', 'than', 'Fremantle', 'sigh', 'speaks', '\"', 'obey', '’', 'surname', '##f', 'quick', 'himself', 'bits', ':', 'Kiss', '##vid', 'when', 'what', 'To', 's', '##que', '##che', '##ch', '.', '.', '?', 'for', 'certainty', '.', '-', 'says', 'submission', '\"']\n",
      "bad_words ['##ly', '##lo', 'whilst', 'ask', 'deals', 'While', 'fear', 'No', '##le', '##fe', 'or', '##standing', 'Tan', 'talk', 'd', 'May', 'la', 'd', 'or', 'seek', 're', '?', '##ily', '?', 'but', 'there', '[PAD]', '?', 'speaks', 'mouth', 'then', 'neighbor', 'Now', 'Fu', 'thinks', ';', 'than', 'Fremantle', 'sigh', 'speaks', 'Mon', '\"', 'obey', 'surname', '##f', 'quick', 'himself', '##eth', '.', 'Kiss', '##vid', 'it', 'when', 'what', '##que', '##che', '##ch', '?', '##pp', 'certainty', '##y', '.', 'flames', 'submission']\n",
      "bad_words ['##lo', 'whilst', 'ask', 'always', 'While', 'Elle', 'Tan', 'talk', 'but', '\"', 'la', 'who', 'd', 'seek', 're', '?', '##ily', '?', 'but', 'there', '[PAD]', '?', 'speaks', 'mouth', 'neighbor', 'Now', 'Fu', 'too', 'Fremantle', 'sigh', 'speaks', 'Mon', '\"', 'obey', '’', 'surname', 'Mi', 'quick', 'himself', 'Kiss', '##vid', 'when', 'what', 'To', '##che', '##ch', '##s', 'is', '##pp', 'certainty', '##y', '.', 'flames', 'submission']\n"
     ]
    },
    {
     "data": {
      "text/html": [
       "sly with slo whilst Fulfe <span style=\"color: rgba(0,0,255,1)\">ask</span><span style=\"color: rgba(0,0,255,1)\">eth</span>, always is While; fearutness, Ellers<span style=\"color: rgba(0,0,255,1)\">le</span>fe, \" orstanding? Tanos talk the but to-a <span style=\"color: rgba(0,0,255,1)\">\"</span> a la who d or, but seek <span style=\"color: rgba(0,0,255,1)\">re</span>?:ily<span style=\"color: rgba(0,0,255,1)\">'</span>?, but Ful, there <span style=\"color: rgba(0,0,255,1)\">[PAD]</span><span style=\"color: rgba(0,0,255,1)\">?</span> \" speaks mouth then neighbor to Now, Fu. thinks too <span style=\"color: rgba(0,0,255,1)\">than</span> Fremantles sigh speaks'Mon <span style=\"color: rgba(0,0,255,1)\">\"</span> obey''’,, surname Fu Mi <span style=\"color: rgba(0,0,255,1)\">quick</span> himselfeth. Kissvid it when, what'To, what?quechech,s.. is?pp, is certaintyy.-flames submission', \""
      ],
      "text/plain": [
       "<IPython.core.display.HTML object>"
      ]
     },
     "metadata": {},
     "output_type": "display_data"
    },
    {
     "data": {
      "text/html": [
       "sly with slo whilst Fulfe<span style=\"color: rgba(255,0,0,0.6319171786308289)\">'</span><span style=\"color: rgba(255,0,0,0.595766007900238)\">s</span>, always is While; fearutness, Ellers <span style=\"color: rgba(255,0,0,0.5710448622703552)\">turn</span>fe, \" orstanding? Tanos talk the but to-a<span style=\"color: rgba(255,0,0,0.54569411277771)\">'</span>a la who d or, but seek <span style=\"color: rgba(255,0,0,0.5159778594970703)\">silence</span>?:ily<span style=\"color: rgba(255,0,0,0.6917645931243896)\">'</span>?, but Ful, there <span style=\"color: rgba(255,0,0,0.5414012670516968)\">her</span> <span style=\"color: rgba(255,0,0,0.5667597055435181)\">\"</span> \" speaks mouth then neighbor to Now, Fu. thinks too<span style=\"color: rgba(255,0,0,0.6789014339447021)\">,</span> Fremantles sigh speaks'Mon<span style=\"color: rgba(255,0,0,0.5745084285736084)\">'</span>obey''’,, surname Fu Mi<span style=\"color: rgba(255,0,0,0.7749351263046265)\">'</span>himselfeth. Kissvid it when, what'To, what?quechech,s.. is?pp, is certaintyy.-flames submission', \" <span style=\"color: rgba(255,0,0,0.5264726281166077)\">turn</span>"
      ],
      "text/plain": [
       "<IPython.core.display.HTML object>"
      ]
     },
     "metadata": {},
     "output_type": "display_data"
    },
    {
     "name": "stdout",
     "output_type": "stream",
     "text": [
      "bad_words ['##ly', 'with', '##lo', 'whilst', 'say', 'While', '##ut', 'Elle', '##tle', '##standing', 'Tan', '##os', 'talk', 'out', 'la', 'who', 'd', 'seek', 'her', '?', ':', '##ily', '?', 'but', 'there', 's', '##fe', 'speaks', 'mouth', 'then', 'neighbor', 'Now', 'Fu', 'thinks', 'too', 'Fremantle', 'sigh', 'speaks', 'Mon', 'obey', '’', 'surname', 'Mi', ':', 'himself', '##eth', '.', 'Kiss', '##vid', 'when', 'what', 'To', '##que', '##che', '##ch', '##s', '.', '##pp', 'certainty', '##y', '.', 'flames', 'submission', 'said']\n",
      "bad_words ['##ly', ';', 'Ke', 'While', 'A', '##fe', '##standing', 'Turkish', 'Tan', \"'\", 'talk', 'a', 'out', 'la', 'who', 'd', 'but', 'seek', ':', '##ily', '##lashes', 'but', 'there', 'speaks', 'on', 'then', 'neighbor', 'Now', 'Show', 'too', 'Fremantle', 'sigh', 'Mon', 'obey', '’', 'surname', 'Mi', ':', 'himself', 'say', 'Kiss', '##vid', 'when', 'go', 'To', 'what', '?', '##que', '##che', '##ch', 'thing', '##pp', 'certainty', '##y', '.', 'flames', 'submission']\n",
      "bad_words ['##ly', '##ull', 'While', 'Elle', '##standing', 'Turkish', 'Tan', 'talk', 'but', 'out', 'la', '##f', 'd', 'but', 'The', 'her', '?', '##ily', 'of', 'but', '##ss', '##fe', 'What', 'speaks', 'on', 'neighbor', 'Now', 'Fu', 'Show', 'too', 'Fremantle', 'sigh', 'speaks', 'Mon', 'obey', '’', 'surname', 'Mi', 'would', 'Kiss', '##vid', 'when', 'go', 'what', '?', '##que', '##che', '##ch', '.', '.', 'thing', '?', '##pp', 'is', '##y', '.', 'Son', 'submission', \"'\"]\n",
      "bad_words ['##ly', 'Ke', 'While', '##ou', '##standing', 'Turkish', 'Tan', 'talk', 'but', 'la', 'd', 'but', 'The', 'her', '?', 'kind', '##ily', 'of', 'but', '##ss', 'What', 'speaks', 'on', 'neighbor', 'to', 'Now', 'Fu', 'Show', 'too', 'sigh', 'speaks', 'Mon', 'obey', '’', 'surname', 'Mi', 'would', 'Kiss', '##vid', 'when', 'go', 'what', 'you', 'he', 'll', '##l', 'thing', '?', '##pp', 'is', '##y', '-', 'Son', 'submission', 'said']\n",
      "bad_words ['q', 'While', 'Elle', '##fe', 'Turkish', 'Tan', 'talk', 'the', 'but', 'to', 'la', 'd', 'The', 'her', '?', 'kind', '##ily', 'P', '##ss', 'What', 'speaks', 'on', 'neighbor', 'to', 'Now', 'Fu', 'Show', 'G', 'speaks', 'Mon', 'obey', ':', 'Mi', 'would', 'Kiss', '##vid', 'when', 'go', 'you', 'll', '##l', 'thing', '?', '##pp', 'is', '##y', '-', 'posting', '##ss', 'said']\n",
      "bad_words ['##ly', 'What', 'While', 'Elle', '##ck', '##e', 'talk', 'the', 'but', 'to', 'a', 'la', '##f', 'The', 'her', '?', 'kind', '##ily', 's', 'of', 'P', 'Nature', 'speaks', 'Out', 'to', 'Now', 'Fu', 'Show', 'G', '\"', 'speaks', 'Mon', 'obey', '\"', 'Mi', 'would', '.', 'useless', '##vid', 'it', 'when', 'go', 'what', 'you', '##ch', 'll', 'Men', '?', '##pp', 'is', 'posting', '##ss', 'said']\n",
      "bad_words ['While', 'Elle', 'Turkish', 'Enough', 'e', 'the', '##vis', 'The', 'Se', '?', 'kind', '##ily', 'of', ':', 'P', 'Nature', 'Out', 'Now', 'Fu', 'Show', 'G', '\"', 'Mon', 'obey', 'Mi', 'would', 'useless', '##vid', 'place', 'when', 'go', 'you', 'Men', '?', '##pp', '-', 'posting', '##ss']\n",
      "bad_words ['ditch', 'her', 'While', '##ut', 'Elle', 'sentiment', 'e', 'the', '##vis', 'd', 'Se', '?', 'kind', 'or', 'of', ':', 'P', '##ss', 'Nature', 'speaks', 'Out', 'to', 'Now', 'Fu', '.', 'G', 'speaks', 'Mon', 'obey', 'Mi', '?', '##vid', 'place', 'when', '##l', 'Men', '##pp', 'is', 'posting', 'said']\n",
      "bad_words ['ditch', 'with', '##fe', 'say', 'While', 'Elle', 'girls', 'but', '##vis', 'The', 'Se', '?', 'kind', 'P', 'Nature', 'speaks', 'Out', 'to', 'Now', 'Fu', 'G', 'speaks', 'Mon', 'obey', 'Mi', '?', '\"', '##vid', '##ness', 'when', 'T', 'you', '##qua', 'gay', '?', '##s', 'Be', '##y', '-', 'posting', '##ss']\n",
      "bad_words ['thing', ',', 'look', 'is', 'While', 'girls', 'sentiment', 'the', 'to', '##vis', '##f', ':', 'Se', '?', 'kind', 'Nature', 'speaks', '##on', 'to', 'Now', 'Fu', 'G', 'speaks', 'Mon', 'obey', 'Mi', '?', '\"', '##vid', 'when', 'worth', 'T', 'you', 'he', '##qua', 'gay', '?', '##finger', 'Be', '##y', '-', 'posting', '##ss']\n"
     ]
    },
    {
     "data": {
      "text/html": [
       "<span style=\"color: rgba(0,0,255,1)\">thing</span>ly with qull, Ful<span style=\"color: rgba(0,0,255,1)\">,</span>'look, her <span style=\"color: rgba(0,0,255,1)\">is</span> While; Autness, Ellersouck, \" or girls'sentiment'<span style=\"color: rgba(0,0,255,1)\">e</span> <span style=\"color: rgba(0,0,255,1)\">the</span> d to -,, a<span style=\"color: rgba(0,0,255,1)\">vis</span>f d or,<span style=\"color: rgba(0,0,255,1)\">,</span>: Se? <span style=\"color: rgba(0,0,255,1)\">kind</span> or s,,: Pl'ss s<span style=\"color: rgba(0,0,255,1)\">,</span> Nature speakson;'<span style=\"color: rgba(0,0,255,1)\">to</span> Now, Fu., G',s \" speaks'Mon'obey,'\",': Fu Mi s? s, \"vidness when worth T'<span style=\"color: rgba(0,0,255,1)\">To</span>,,, you he'say s,qua gay?finger, Benessy,-posting<span style=\"color: rgba(0,0,255,1)\">ss</span>', \""
      ],
      "text/plain": [
       "<IPython.core.display.HTML object>"
      ]
     },
     "metadata": {},
     "output_type": "display_data"
    },
    {
     "data": {
      "text/html": [
       "<span style=\"color: rgba(255,0,0,0.5137956738471985)\">spark</span>ly with qull, Ful<span style=\"color: rgba(255,0,0,0.5291625261306763)\">vis</span>'look, her <span style=\"color: rgba(255,0,0,0.5103551745414734)\">Rest</span> While; Autness, Ellersouck, \" or girls'sentiment'<span style=\"color: rgba(255,0,0,0.7462979555130005)\">s</span> <span style=\"color: rgba(255,0,0,0.6195451617240906)\">\"</span> d to -,, a<span style=\"color: rgba(255,0,0,0.5765210390090942)\">vis</span>f d or, <span style=\"color: rgba(255,0,0,0.5378404259681702)\">F</span>: Se? <span style=\"color: rgba(255,0,0,0.512886106967926)\">Love</span> or s,,: Pl'ss s<span style=\"color: rgba(255,0,0,0.8564537167549133)\">,</span> Nature speakson;'<span style=\"color: rgba(255,0,0,0.5184191465377808)\">dull</span> Now, Fu., G',s \" speaks'Mon'obey,'\",': Fu Mi s? s, \"vidness when worth T'<span style=\"color: rgba(255,0,0,0.7388217449188232)\">,</span>,,, you he'say s,qua gay?finger, Benessy,-posting<span style=\"color: rgba(255,0,0,0.7251511216163635)\">,</span>', \" said"
      ],
      "text/plain": [
       "<IPython.core.display.HTML object>"
      ]
     },
     "metadata": {},
     "output_type": "display_data"
    },
    {
     "name": "stdout",
     "output_type": "stream",
     "text": [
      "bad_words ['mixed', '##bos', 'kind', 'While', 'Elle', 'sentiment', '##fort', '##f', 'd', 'Life', 'Se', '?', 'Ever', 'P', '##ss', 'Nature', 'speaks', '##on', 'compliment', 'Now', '##s', 'speaks', 'Mon', 'obey', 'Mi', '?', '\"', '##vid', 'when', 'worth', 'T', 'her', 'you', 'he', 'say', '##qua', 'gay', '?', '##finger', 'Be', 'posting']\n",
      "bad_words ['off', '##ly', '##ch', 'r', 'kind', 'While', 'girls', '\"', 'd', '-', '##f', 'Life', ':', 'Se', '?', 'Ever', 'or', 'P', '##ss', 'Nature', 'speaks', 'compliment', 'Now', 'daring', 'G', '\"', 'speaks', 'Fish', 'obey', '\"', ':', 'Mi', 's', '?', 'health', '##vid', 'when', 'worth', 'T', 'you', 'he', '##qua', 'gay', 'ways', '##finger', 'Be', '##y', '-', 'posting', '##ess', 'said']\n",
      "bad_words ['off', 'wants', 'r', 'While', '##ctive', 'Elle', 'goes', '\"', '-', '##fort', '##f', 'Life', 'Se', 'Ever', 'Nature', 'caring', 'compliment', 'Now', 'scent', 'G', 'Master', 'speaks', 'women', 'obey', ':', 'Mi', '?', '##e', '##vid', '##ness', 'when', 'worth', 'T', '##son', 'you', 'he', '##qua', 'gay', 'ways', '##finger', 'Be', '##y', \"'\", 'posting', '##ess', 'said']\n",
      "bad_words ['When', 'wants', 'While', 'Elle', 'because', 'command', '-', '##fort', '##f', 'Life', ':', '\"', 'Ever', 'P', 'and', 'caring', 'compliment', 'Now', 'scent', 'Master', 'speaks', 'women', 'love', ':', 'Mi', '##s', 'when', 'worth', 'T', '##son', '##qua', 'gay', 'ways', 'Man', 'Be', '##y', '-', 'posting', '##ess', 'said']\n",
      "bad_words ['When', 'or', 'as', 'kind', 'While', ';', 'Friend', 'Monkey', '##rs', 'he', 'because', 'command', 's', 'd', '##fort', '##f', 'dish', 'Life', '?', 'Ever', 'or', 'in', 'P', 'caring', ';', 'compliment', 'Now', 'you', 'G', 'Master', 'speaks', 'women', 'love', '\"', 'Mi', '##e', 'when', 'worth', 'T', '##son', 'you', 'he', 'say', '##qua', 'gay', 'speaks', 'Man', '##lor', 'posting', ',', 'said']\n",
      "bad_words ['on', 'with', 'strokes', '##les', 'While', 'Friend', 'Monkey', '##rs', 'because', 'command', '-', '##fort', '##f', 'dish', '\"', '?', 'Ever', 'which', 'P', 'Status', '##ness', 'compliment', 'Now', 's', '##liness', 'G', 'Master', '!', 'women', '\"', 'Mi', '##e', 'kind', 'when', 'worth', 'T', '##son', 'you', 'study', 'say', '##qua', 'gay', 'speaks', 'Toy', '##lor', '##y', '-', 'and', '\"', 'said']\n",
      "bad_words ['When', 'q', 'strokes', 'Honour', 'While', 'Friend', 'Monkey', '##rs', 'because', 'command', 'd', 'a', '##fort', '##f', 'dish', '?', 'Ever', 'which', 's', 'in', 'P', 'as', 'Status', 'compliment', 'Now', '##liness', '##eve', 'Master', '##hom', 'love', 'Fu', 'Mi', 'Turning', 'kind', 'when', 'worth', 'case', '##son', 'you', 'study', '##qua', 'gay', 'For', 'Toy', '##lor', '##y', 'and', 'said']\n",
      "bad_words ['When', 'strokes', 'Master', 'While', 'Friend', '##ness', 'Monkey', '##s', 'because', '-', '##ct', '##f', 'dish', 'Life', '\"', '?', 'Ever', 'which', 'P', 'Bit', 'A', 'compliment', 'Now', 'er', '##eve', 'Master', 'that', 'Some', 'seen', 'Mi', 'Turning', 'kind', '##s', 'when', 'worth', 'case', ':', 'you', 'study', 'say', '##qua', 'gay', 'For', 'Toy', '##lor', '##y', '-', 'said']\n",
      "bad_words ['When', 'q', 'strokes', 'll', 'While', '-', '##ct', 'dish', 'British', ':', 'Toy', '?', 'Ever', 'P', 'Co', 'Bit', 'q', 'Hand', 'than', 'Now', '##eve', 'Master', 'that', 'Some', 'seen', 'Mi', 'Turning', 'kind', 'when', 'worth', 'case', 'study', 'say', '##qua', 'Custom', 'For', 'Toy', '##lor', '-', '\"', 'said']\n",
      "bad_words ['##ble', 'her', '##lesh', 'her', 'While', 'Friend', '##ness', 'for', 'because', '-', '##ct', 'dish', 'Toy', '?', 'Ever', 'in', 'P', 'Co', 'q', 'Hand', 'Now', '##eve', 'Master', 'Some', 'seen', 'Tu', 'Mi', 'Turning', 'kind', 'when', 'worth', 'case', ':', 'you', 'study', '##qua', 'Custom', 'For', 'Toy', 'Second', 'Many', '-', 'said']\n"
     ]
    },
    {
     "data": {
      "text/html": [
       "ble on with <span style=\"color: rgba(0,0,255,1)\">her</span><span style=\"color: rgba(0,0,255,1)\">lesh</span>, Ful as's, her ll While; A Friendness for Monkeys heck, \" or because's's, d, -,, act'd'dish s: Toy? <span style=\"color: rgba(0,0,255,1)\">Ever</span>'s<span style=\"color: rgba(0,0,255,1)\">,</span>, in P Co <span style=\"color: rgba(0,0,255,1)\">as</span>'s, and q Hand;'than Now,<span style=\"color: rgba(0,0,255,1)\">,</span>.,eve', d <span style=\"color: rgba(0,0,255,1)\">Master</span> he'that <span style=\"color: rgba(0,0,255,1)\">Some</span> seen,'\",', Tu Mi s'<span style=\"color: rgba(0,0,255,1)\">s</span>, Turning kinds when worth <span style=\"color: rgba(0,0,255,1)\">case</span>'her,:, <span style=\"color: rgba(0,0,255,1)\">you</span> study's s,qua Custom For <span style=\"color: rgba(0,0,255,1)\">Toy</span>, Secondness Many'-'\"',,"
      ],
      "text/plain": [
       "<IPython.core.display.HTML object>"
      ]
     },
     "metadata": {},
     "output_type": "display_data"
    },
    {
     "data": {
      "text/html": [
       "ble on with <span style=\"color: rgba(255,0,0,0.516058623790741)\">a</span> <span style=\"color: rgba(255,0,0,0.526963472366333)\">Love</span>, Ful as's, her ll While; A Friendness for Monkeys heck, \" or because's's, d, -,, act'd'dish s: Toy?<span style=\"color: rgba(255,0,0,0.7495967745780945)\">,</span>'s <span style=\"color: rgba(255,0,0,0.53375244140625)\">s</span>, in P Co <span style=\"color: rgba(255,0,0,0.8046692609786987)\">as</span>'s, and q Hand;'than Now, <span style=\"color: rgba(255,0,0,0.509965717792511)\">Love</span>.,eve', d <span style=\"color: rgba(255,0,0,0.5253390669822693)\">s</span> he'that <span style=\"color: rgba(255,0,0,0.5211280584335327)\">to</span> seen,'\",', Tu Mi s'<span style=\"color: rgba(255,0,0,0.9454643726348877)\">s</span>, Turning kinds when worth <span style=\"color: rgba(255,0,0,0.5206230878829956)\">Life</span>'her,:,<span style=\"color: rgba(255,0,0,0.5414214730262756)\">fo</span> study's s,qua Custom For<span style=\"color: rgba(255,0,0,0.5803610682487488)\">s</span>, Secondness Many'-'\"',, said"
      ],
      "text/plain": [
       "<IPython.core.display.HTML object>"
      ]
     },
     "metadata": {},
     "output_type": "display_data"
    },
    {
     "name": "stdout",
     "output_type": "stream",
     "text": [
      "bad_words ['##ble', 'as', 'heart', 'her', 'While', 'Friend', 'because', '-', '##ct', 'dish', ':', 'Toy', '?', 'two', 'in', 'P', 'Co', 'and', 'q', 'Hand', 'Now', '##irs', '##eve', ',', 'To', 'seen', '\"', 'Tu', 'Mi', 'Turning', 'kind', 'when', 'worth', 'word', 'I', 'study', '##qua', 'Custom', 'For', 'Half', 'Second', 'Many', '-', 'said']\n",
      "bad_words ['her', 'll', 'While', 'low', 'd', '-', '##ct', 'dish', '##at', 'in', 'August', 'Co', '##lly', 'q', 'Hand', 'Now', 'Bass', '##eve', 'd', 'he', 'seen', ',', 'Tu', 'Mi', 'Turning', 'kind', 'when', 'worth', 'word', 'her', ',', ':', 'study', '##qua', 'Custom', 'For', 'Half', 'soft', 'Mental', '-', 'said']\n",
      "bad_words ['##ble', 'll', 'While', 'she', 'because', '-', '##ct', '##at', 'in', 'August', 'Co', '##lly', 'Hand', 'Now', 'Bass', '##eve', 'he', 'To', 'seen', '\"', 'Tu', 'Mi', 'kind', 'when', 'worth', 'with', 'her', ':', 'I', '##qua', 'Custom', 'For', 'Half', 'soft', 'Elephant', '\"', 'that']\n",
      "bad_words ['##ble', 'her', 'll', 'While', 'which', 'because', '-', ':', '##at', 'in', 'pro', 'Co', '##lly', 'and', 'Hand', 'than', 'd', 'posture', '.', '?', 'To', 'seen', '\"', 'Tu', 'Mi', 'kind', 'when', 'worth', 'all', 'I', '##qua', 'Custom', 'For', 'Half', 'soft', 'jack', '\"', 'that']\n",
      "bad_words ['Health', 'While', '##oth', 'which', '##s', 'because', '##ter', 'wanted', '##at', 'pro', 'Co', '##lly', 'Heart', 'Hand', 'Land', 'may', 'maiden', '?', 'seen', '\"', 'Tu', 'Mi', 'kind', 'when', 'worth', 'Right', 'I', '##ly', '##qua', 'Straight', 'Half', 'soft', 'jack', '\"']\n",
      "bad_words ['John', 'While', 'for', 'her', 'because', \"'\", '-', '##ter', 'wanted', ':', '##at', \"'\", 'pro', 'Co', '##lly', 'Heart', 'Hand', \"'\", 'Land', 'may', ',', '.', '?', 'he', 'To', 'seen', \"'\", '\"', 'Tu', 'Mi', \"'\", 'Rhythm', 'when', 'worth', 'She', \"'\", '##ly', '##qua', 'Water', 'For', 'Half', 'inevitably', '##ness', 'ni', 'jack', '\"']\n",
      "bad_words ['John', 'Fu', 'Health', 'sense', '##oth', 'which', 'because', '-', 'for', 'wanted', ':', '##at', \"'\", 'Others', 'pro', 'Co', '##ain', '##lly', 'd', 'Hand', 'may', 'throbbing', 'one', '?', 'seen', \"'\", '\"', 'Tu', 'Mi', 'Rhythm', 'when', 'worth', 'She', ',', '##qua', 'Water', 'For', 'Half', 'inevitably', '##ness', 'ni', 'jack', '\"']\n",
      "bad_words ['John', 'Health', '##oth', 'he', 'she', 'because', \"'\", '-', '##ch', 'wanted', ':', '##at', \"'\", 'high', 'Others', 'charm', 'Co', '##ain', 'Dog', ';', 'Hand', 'may', 'throbbing', 'seen', '\"', 'Tu', 'Mi', 'Rhythm', 'when', 'much', 'She', 'as', 'I', '##ly', 't', '##qua', 'Water', 'For', 'Half', 'inevitably', '##ness', 'ni', 'by', '\"', 'that']\n",
      "bad_words ['Health', 'which', 'her', 'or', 'because', 'it', '-', '##ch', 'wanted', 'man', '##at', 'high', 'Others', 'No', 'Co', '##ain', 'Dog', ';', 'Hand', 'may', 'reasons', 'd', 'turn', '\"', 'Tu', 'Mi', 'Rhythm', 'evidently', 'She', 'I', 'but', 'd', 't', '##qua', 'Water', 'Way', 'inevitably', '##ness', 'she', '\"', 'good']\n",
      "bad_words ['and', 'Health', '##oth', ',', 'sense', 'it', 'rank', 'wanted', 'man', '##at', 'high', 'lay', 'No', '##uin', 'thing', 's', 'Hand', 'may', 'reasons', 'turn', '\"', ';', 'Tu', 'Mi', \"'\", 'Rhythm', 'evidently', 'She', 'as', 'I', 'but', 't', '##qua', 'Water', 'Way', ':', 'meant', '##ness', 'by', '\"']\n"
     ]
    },
    {
     "data": {
      "text/html": [
       "<span style=\"color: rgba(0,0,255,1)\">and</span> on with as hearty Ful as's, her <span style=\"color: rgba(0,0,255,1)\">Health</span> sense; Aoth for for which, heck, she or <span style=\"color: rgba(0,0,255,1)\">sense</span> <span style=\"color: rgba(0,0,255,1)\">it</span> s'd, d, rank,, ach's <span style=\"color: rgba(0,0,255,1)\">wanted</span>, s manat,;', a high lay Nouin thing's s d; Hand;', may, reasons her, good', d, <span style=\"color: rgba(0,0,255,1)\">he</span>'that d turn,'\" as'; Tu Mi s's,'Rhythm<span style=\"color: rgba(0,0,255,1)\">s</span> evidently <span style=\"color: rgba(0,0,255,1)\">much</span> She'her, as, I as but s d t<span style=\"color: rgba(0,0,255,1)\">qua</span> <span style=\"color: rgba(0,0,255,1)\">Water</span> Way:, meantness, she by'\"'<span style=\"color: rgba(0,0,255,1)\">,</span>,"
      ],
      "text/plain": [
       "<IPython.core.display.HTML object>"
      ]
     },
     "metadata": {},
     "output_type": "display_data"
    },
    {
     "data": {
      "text/html": [
       "<span style=\"color: rgba(255,0,0,0.5216115713119507)\">all</span> on with as hearty Ful as's, her <span style=\"color: rgba(255,0,0,0.621665358543396)\">good</span> sense; Aoth for for which, heck, she or <span style=\"color: rgba(255,0,0,0.575603187084198)\">he</span> <span style=\"color: rgba(255,0,0,0.5398671627044678)\">s</span> s'd, d, rank,, ach's <span style=\"color: rgba(255,0,0,0.5641940832138062)\">he</span>, s manat,;', a high lay Nouin thing's s d; Hand;', may, reasons her, good', d, <span style=\"color: rgba(255,0,0,0.6251346468925476)\">he</span>'that d turn,'\" as'; Tu Mi s's,'Rhythm <span style=\"color: rgba(255,0,0,0.8473252058029175)\">good</span> evidently <span style=\"color: rgba(255,0,0,0.5662059187889099)\">good</span> She'her, as, I as but s d t <span style=\"color: rgba(255,0,0,0.5564990043640137)\">good</span> <span style=\"color: rgba(255,0,0,0.619091272354126)\">good</span> Way:, meantness, she by'\"'<span style=\"color: rgba(255,0,0,0.5921194553375244)\">,</span>, good"
      ],
      "text/plain": [
       "<IPython.core.display.HTML object>"
      ]
     },
     "metadata": {},
     "output_type": "display_data"
    },
    {
     "name": "stdout",
     "output_type": "stream",
     "text": [
      "bad_words ['##nted', 'be', 'rank', 'friend', 'man', '##at', 'lay', 'No', '##uin', 'thing', ';', 'Hand', 'may', 'reasons', 'q', 'turn', '\"', 'Tu', 'Mi', 's', 'Rhythm', 'sure', 'evidently', 'heart', 'She', 'Way', 'meant', '##ness', 'she', 'by', '\"', 'than']\n",
      "bad_words ['##nted', '##ice', 'd', '##oth', 'he', 'knows', 'can', ',', ',', 'rank', '##ch', 'friend', 'man', '##at', ';', 'high', 'lay', '##uin', 'thing', ';', 'Hand', ';', 'may', 'him', 'if', 'that', 'turn', 'thought', ';', 'Tu', 'crust', 'Rhythm', 'sure', 'evidently', 'heart', 'one', 'but', 'Way', 'meant', 'way', 'justice', '\"']\n",
      "bad_words ['##nted', '##ssa', '##men', '##ice', 'A', 'which', 'he', 'taste', 'rank', '##ct', 'friend', 'man', '##at', ';', 'd', 'lay', '##f', 'thing', 'Hand', ';', \"'\", 'may', 'him', '##nies', '##ning', 'turn', 'thought', 'often', 'Tu', 'crust', 'Rhythm', 'sure', 'evidently', 'heart', 'She', 'one', 'I', 't', 'd', 'meant', 'way', 'she', 'justice', '\"', 'than']\n",
      "bad_words ['##nted', 'Pleasure', '##ice', 'sense', 'which', 'None', '##nia', 'taste', '##bor', 'a', '##s', 'friend', '##at', ';', 'high', 'lay', 'thing', ';', ';', 'may', 'him', '##nts', 'Pembroke', '##nies', 'Might', 'turn', \"'\", 'others', \"'\", 'often', 'Tu', 'crust', 'Rhythm', 'sure', ',', 'heart', 'She', 'one', 'but', 't', 'meant', 'way', 'she', 'justice', '\"', 'than']\n",
      "bad_words ['##fires', '##ice', '##oth', 'None', '##ck', 'she', 'taste', 's', 'Car', 'a', 'friend', '##at', 's', ';', 'high', 'lay', '##f', 'thing', ';', ';', 'may', 'him', '##nts', 'Pembroke', '##nies', 'Might', 'Answer', 'often', 'Tu', 'crust', \"'\", 'Rhythm', 'sure', 'heart', 'She', 'her', 'one', 'I', 'meant', 'way', 'Olympic', 'justice', 's', '##h', 'good']\n",
      "bad_words ['##fires', '##ice', '##oth', 'for', 'which', 'display', 'she', 'taste', \"'\", 'Car', 'a', 'friend', '##at', 's', ';', 'high', 'lay', 'Fu', '##f', '##m', ';', ';', 'may', 'him', 'council', '##m', 'things', '##nies', 'equally', 'Answer', 'N', 'often', 'Tu', 'crust', 'Ain', 'or', 'Rhythm', 'sure', 'heart', 'She', 'her', 'U', 'I', 'as', 'E', 'good', 'speaking', 'meant', 'way', 'Olympic', '?', '##h', 'good']\n",
      "bad_words ['##ice', 'A', '##oth', 'Mars', 'which', 'display', '##nia', 'she', 'and', 'Car', 'not', 'Ju', 'friend', '##at', 's', 'high', 'lay', 'Fe', '##f', '##m', ';', ';', 't', 'council', '##m', 'things', '##nies', 'equally', 'Answer', 'N', 'often', 'Tu', 'crust', 'Ain', 'or', 'Rhythm', 'sure', 'heart', 'for', 'her', 'I', 'Lau', 'I', '##uld', 'but', 'E', 'speaking', 'meant', 'way', 'Olympic', '?', 'good']\n",
      "bad_words ['##ice', 'corruption', '##city', 'which', 'display', '##nia', '##ck', 'she', 'or', 'Car', 'f', 'Ju', '##s', '##at', ';', 'the', 'high', 'lay', 'Fe', '##f', '##m', ';', 'council', '##m', 'degree', '##nies', 'equally', 'Answer', 'N', 'often', 'Tu', 'crust', 'Ain', 'when', 'sure', 'heart', 'I', 'Lau', '##uld', 's', 'E', 'speaking', 'trust', 'way', 'Olympic', '?', '##h', 'terms']\n",
      "bad_words ['his', 'corruption', '##city', 'which', 'display', '##nia', 'she', 'can', 'Car', 'de', 'Ju', '##at', ';', 'high', 'lay', 'Fe', '##f', '##m', 'money', ';', 't', 'council', '##m', 'degree', ',', '##nies', 'j', 'Answer', 'N', 'those', 'often', 'Tu', 'crust', '##es', 'when', 'sure', 'heart', 'and', 'pit', 'Lau', 'I', '##uld', 'E', 't', 'co', 'trust', 'plot', 'Olympic', '?', 's', ',', 'terms']\n",
      "bad_words ['##ught', 'his', 'corruption', '##city', 'display', '##nia', '##ck', 'Philosophical', 'Car', 'Ju', '##at', ';', 'Am', 'high', 'lay', 'To', 'money', ';', 'that', ',', 'tons', 'degree', '##nies', 'Din', 'Mars', 'N', 'those', 'often', 'Tu', 'crust', '##es', 'when', 'sure', 'heart', 'for', 'pit', 'Lau', 'I', '##uld', 'E', 'co', 'trust', 'plot', 'Olympic', '?', 'terms']\n"
     ]
    },
    {
     "data": {
      "text/html": [
       "d on with asughty Fulmen's, <span style=\"color: rgba(0,0,255,1)\">his</span> good'd corruption<span style=\"color: rgba(0,0,255,1)\">city</span> for Mars which displayniack'd or can and s Philosophical d, d, Car, <span style=\"color: rgba(0,0,255,1)\">d</span> not Ju'ss,,'at s; d the Am high lay Tof<span style=\"color: rgba(0,0,255,1)\">m</span>'s s d money';',,, that,, <span style=\"color: rgba(0,0,255,1)\">tons</span> degree, d,nies'Din <span style=\"color: rgba(0,0,255,1)\">d</span> <span style=\"color: rgba(0,0,255,1)\">Mars</span>,'N as those often Tu crust s'ses or when sure'<span style=\"color: rgba(0,0,255,1)\">heart</span> <span style=\"color: rgba(0,0,255,1)\">for</span>'and pit as <span style=\"color: rgba(0,0,255,1)\">Lau</span> Iuld s E d t good good co d <span style=\"color: rgba(0,0,255,1)\">trust</span> d plot, Olympic?<span style=\"color: rgba(0,0,255,1)\">'</span>s's d"
      ],
      "text/plain": [
       "<IPython.core.display.HTML object>"
      ]
     },
     "metadata": {},
     "output_type": "display_data"
    },
    {
     "data": {
      "text/html": [
       "d on with asughty Fulmen's, <span style=\"color: rgba(255,0,0,0.5838857889175415)\">that</span> good'd corruption<span style=\"color: rgba(255,0,0,0.6965305805206299)\">,</span> for Mars which displayniack'd or can and s Philosophical d, d, Car, <span style=\"color: rgba(255,0,0,0.517914354801178)\">pay</span> not Ju'ss,,'at s; d the Am high lay Tof<span style=\"color: rgba(255,0,0,0.5925192832946777)\">men</span>'s s d money';',,, that,,<span style=\"color: rgba(255,0,0,0.555594265460968)\">fo</span> degree, d,nies'Din<span style=\"color: rgba(255,0,0,0.9901725053787231)\">'</span><span style=\"color: rgba(255,0,0,0.7820698022842407)\">'</span>,'N as those often Tu crust s'ses or when sure'<span style=\"color: rgba(255,0,0,0.7574211359024048)\">d</span><span style=\"color: rgba(255,0,0,0.5499470829963684)\">,</span>'and pit as <span style=\"color: rgba(255,0,0,0.57820725440979)\">and</span> Iuld s E d t good good co d <span style=\"color: rgba(255,0,0,0.8866977691650391)\">d</span> d plot, Olympic?<span style=\"color: rgba(255,0,0,0.5433159470558167)\">,</span> s's d terms"
      ],
      "text/plain": [
       "<IPython.core.display.HTML object>"
      ]
     },
     "metadata": {},
     "output_type": "display_data"
    },
    {
     "name": "stdout",
     "output_type": "stream",
     "text": [
      "bad_words ['##ught', 'who', 'corruption', 'than', 'display', '##nia', '##ck', 'can', 'Philosophical', 'Car', '##ere', 'not', 'Ju', '##at', 's', ';', 'Am', 'high', 'lay', 'To', '##f', 'usage', 'money', ';', 'Air', 'degree', '##nies', 'Din', 'N', 'those', 'often', 'Tu', 'crust', '##es', 'when', 'sure', 'and', ',', 'pit', '-', 'I', '##uld', 'E', 'co', 'plot', 'Olympic', '?', 'Sue', 'terms']\n",
      "bad_words ['##aris', 'corruption', 'display', '##nia', '##ck', 'Lucian', 'Philosophical', 'Car', '##ere', 'not', 'er', 's', '##s', '##at', ';', '##ance', 'high', 'lay', 'To', '##f', 'usage', 'money', 'laughed', '##va', 'degree', ',', '##nies', 'Din', 'defend', 'those', 'often', '##cie', 'crust', 'when', 'their', 'respect', '-', 'I', '##uld', 'E', 't', 'co', 'plot', 'shame', '?', 'Sue', 'terms']\n",
      "bad_words ['##aris', '##s', 'corruption', '##nia', '##ck', 'Lucian', 'Philosophical', 'Car', '##ere', 'not', 'er', '##at', ';', 'a', 'high', 'lay', 'Sur', '##f', 'usage', 'money', 'laughed', 'fortune', 'like', '##va', ',', '##nies', 'Din', 'defend', 'those', 'often', 'Board', 'crust', 'or', 'when', 'respect', '-', 'I', '##uld', 'E', 't', 'co', 'plot', 'shame', 'Sue', 'terms']\n",
      "bad_words ['s', '##aris', 'that', '##nia', 'Lucian', 'Philosophical', 'k', 'Car', '##ere', 'er', ',', '##at', 's', ';', 'dam', 'high', 'lay', 'Sur', '##f', 'usage', 'money', 'laughed', 'on', 'that', ',', '##va', '##nies', 'Din', 'same', 'often', 'Board', 'crust', '##es', 'when', 'and', 'respect', '-', 'I', '##uld', 'E', 'co', 'plot', 'or', 'shame', 'it', 'she']\n",
      "bad_words ['s', 'D', '##nia', ',', 'Philosophical', 'they', 'bell', '##ere', 'er', '##at', 's', 'dam', 'as', '##game', 'Sur', '##f', 'usage', 'flight', 'laughed', '##va', ';', 'Din', 'same', 'often', 'Board', 'crust', '##es', 'when', 'respect', 'I', '##uld', 'E', 'co', 'shame']\n",
      "bad_words ['D', '##fo', '##s', '##nia', '##ck', 't', '##l', 'bell', '##ere', 'not', 'er', ';', 'dam', '##game', 'Sur', '##f', 'multi', 'but', 'laughed', '##va', ';', 'Din', 'those', 'often', 'Board', 'crust', '##es', 'when', 'their', 'manuscripts', 'respect', '-', 'I', '##fo', '##ch', 'E', 'co', 'or', 'shame', 'she']\n",
      "bad_words ['##tra', '##nounce', 'they', 'bell', '##ere', 'not', 'd', 's', \"'\", ';', 'dam', 'Sur', 'but', 'laughed', 'on', 'nonsense', '##va', ';', \"'\", 'Din', 'those', 'often', '##vo', 'crust', '##es', 'or', 'when', 'their', 'manuscripts', 'respect', '-', 'I', '##q', '##ch', 'l', 'co', 'shame']\n",
      "bad_words ['##tra', '##nounce', '##nia', '##ck', '##l', 'they', 'bell', '##ere', ';', 'dam', 'Sur', '##ch', 'laughed', 'nonsense', '##va', 'not', '##je', 'frequent', 'often', '##vo', '##phe', '##es', 'or', 'when', \"'\", 'respect', '-', 'I', '##q', '##ch', 'co', 'just', 'or', 'be', 'she']\n",
      "bad_words ['##ry', '##nounce', 'Men', '##nia', '##ck', 'they', 'bell', '##ere', 's', 's', 'dam', 'wife', '##ch', '##vie', '30', 'nonsense', '##va', 's', '##cum', 'confusion', 'frequent', 'often', '##vo', '##phe', 'them', 'doubt', 'respect', '-', '##rro', '##q', 'l', 'co', 'just', 'l', 'be', '##wa']\n",
      "bad_words ['company', '##tra', 'fiddle', '##nounce', 'on', '##ck', 'they', 'bell', '##ere', 'd', '.', ';', 'dam', 'o', '##f', '##ch', 'whom', '##vie', 'on', 'nonsense', '##va', ':', 'not', '##cum', 'confusion', 'frequent', 'often', 'Isabel', '##phe', 'them', 'or', 'say', 'respect', '-', '##rro', '##q', '##ch', 'l', 'l', 'or', '##wa']\n"
     ]
    },
    {
     "data": {
      "text/html": [
       "<span style=\"color: rgba(0,0,255,1)\">company</span> on with astra fiddle Fulnounce Mens, who good's on than for Mars which dnia<span style=\"color: rgba(0,0,255,1)\">ck</span>'d or t and sl d, d they bell,ere d.'s d,,'' s; d the dam asy ofch s s<span style=\"color: rgba(0,0,255,1)\">,</span> <span style=\"color: rgba(0,0,255,1)\">whom</span>vie d d <span style=\"color: rgba(0,0,255,1)\">on</span>, like, nonsense,,va:, d, not'cum'', confusion the as <span style=\"color: rgba(0,0,255,1)\">frequent</span> <span style=\"color: rgba(0,0,255,1)\">often</span> Isabelphe s<span style=\"color: rgba(0,0,255,1)\">'</span>s them <span style=\"color: rgba(0,0,255,1)\">or</span> say'd d,'s <span style=\"color: rgba(0,0,255,1)\">respect</span> as-rroqch l d t that good <span style=\"color: rgba(0,0,255,1)\">d</span> d l d <span style=\"color: rgba(0,0,255,1)\">d</span> or, which be s's d"
      ],
      "text/plain": [
       "<IPython.core.display.HTML object>"
      ]
     },
     "metadata": {},
     "output_type": "display_data"
    },
    {
     "data": {
      "text/html": [
       "<span style=\"color: rgba(255,0,0,0.7337840795516968)\">d</span> on with astra fiddle Fulnounce Mens, who good's on than for Mars which dnia <span style=\"color: rgba(255,0,0,0.6027922630310059)\">s</span>'d or t and sl d, d they bell,ere d.'s d,,'' s; d the dam asy ofch s s<span style=\"color: rgba(255,0,0,0.8291929960250854)\">,</span><span style=\"color: rgba(255,0,0,0.644970178604126)\">'</span>vie d d <span style=\"color: rgba(255,0,0,0.7325548529624939)\">d</span>, like, nonsense,,va:, d, not'cum'', confusion the as<span style=\"color: rgba(255,0,0,0.5783685445785522)\">y</span><span style=\"color: rgba(255,0,0,0.5281007885932922)\">nia</span> Isabelphe s <span style=\"color: rgba(255,0,0,0.5157893896102905)\">Maid</span> s them <span style=\"color: rgba(255,0,0,0.5635747313499451)\">s</span> say'd d,'s<span style=\"color: rgba(255,0,0,0.5601953268051147)\">ir</span> as-rroqch l d t that good <span style=\"color: rgba(255,0,0,0.5354427099227905)\">good</span> d l d <span style=\"color: rgba(255,0,0,0.6369341611862183)\">d</span> or, which be s's dwa"
      ],
      "text/plain": [
       "<IPython.core.display.HTML object>"
      ]
     },
     "metadata": {},
     "output_type": "display_data"
    },
    {
     "name": "stdout",
     "output_type": "stream",
     "text": [
      "bad_words ['##tra', 'fiddle', '##nounce', 'which', '##nia', 'use', ',', 'they', 'bell', ',', '##ere', ';', 'dam', 'o', '##f', '##ch', '##vie', 'nonsense', '##va', ':', 'not', '##cum', 'confusion', '-', 'Isabel', '##phe', 'min', 'them', '##n', '##nia', '##rro', '##q', '##ch', 'do', 'l', 'it', 'or', 'which', 'be', '##wa']\n",
      "bad_words ['silence', '##tra', 'fiddle', '##nounce', 'him', 'which', '##nia', 'or', 'they', 'bell', '##ere', '.', 's', 'do', ';', '##nce', '##y', 'o', '##f', '##ch', 'nonsense', '##va', ':', ',', ',', 'not', '##cum', 'confusion', '##ful', 'Isabel', '##chus', 'min', 'them', '##n', '##nia', 'lame', '##rro', 'in', '##ch', 'do', 'l', 'or', '’', 'be', '##wa']\n",
      "bad_words ['chart', 'fiddle', '-', 'which', '##nia', 'use', ',', 'they', 'all', 'half', '##ch', 's', 'do', ';', '##th', '##y', 'o', '##f', '##ch', ',', 'nonsense', '##va', ':', 'er', 'not', '##cum', 'confusion', '##y', 'Isabel', '##chus', 'min', 'them', '##n', 's', '##nia', 'lame', '##rro', '##ch', 'l', 'l', 'or', '’', '##wa']\n",
      "bad_words ['##und', 'fiddle', 'Fu', '##nia', 'use', 't', 'they', 'say', 'a', '##ch', ',', ';', '##th', '##y', 'o', '##f', '##ch', 'one', 'nonsense', '##va', ':', 'er', 'not', '##cum', 'confusion', '##y', 'Use', '##chus', 'them', '##n', '##nia', 'lame', 'd', 'in', '##ch', 'l', 'd', 'do', 'count', 'or', '##wa']\n",
      "bad_words ['siege', 'which', '##nia', 'use', '##l', 'they', '##chu', '##ch', 'do', ';', '##th', 'o', '##f', '##ch', '?', 'one', 'nonsense', 'marry', 'er', 'E', 'reflects', 'confusion', '##y', 'Use', '##chus', '##n', 'say', '##nia', 'lame', 'in', 'Dialogue', 'state', 'better', 'do', 'count', 'or', '’', 'be', '##hr']\n",
      "bad_words ['bubbles', 'much', ';', 'what', '##nia', 'they', 'say', '##chu', '##ch', 'do', ';', '##th', '##y', 'o', '##f', '##ch', 's', 'dot', 'one', 'nonsense', 'of', ':', 'er', 'E', 'reflects', 'confusion', '##y', 'a', '##ani', '##chus', 'They', '##nia', 'lame', 'in', '##ly', 'Dialogue', 'state', 'better', 'do', 'count', '’', 'be', '##hr']\n",
      "bad_words ['on', 'bubbles', 'Mars', '##nia', 'use', 'they', 'say', 'a', 'gain', '##ch', ';', '##th', '##y', 'o', '##f', '##ch', 'dot', 'one', ';', 'Gods', ':', 'er', 's', 'reflects', 'confusion', 'the', 'ever', '##ani', '##chus', 'll', '##nia', 'lame', 'd', 'in', 'Dialogue', 'state', 'so', 'count', 'or', '’', 'be', 'you', '##hr']\n",
      "bad_words ['bubbles', ';', '##nia', 'use', 's', 't', 'they', 'gain', 'says', ';', 'the', '##th', '##y', 'rest', '##f', '##ch', 'dot', 's', ';', 'Gods', 'er', '##uard', 'confusion', 'ever', 'pleasant', '##ani', '##chus', 's', 's', '##d', 'll', 'he', 'bee', '##nia', ';', 'lame', 'd', 'in', 'Dialogue', 'state', 'count', 'or', '’', 'then', 'one', '##hr']\n",
      "bad_words ['mouth', 'bubbles', 'Mars', '##nia', 'word', 'they', 'gain', 'says', 't', '##th', 'rest', '##f', '##ch', 'dot', 'Gods', 'er', '##uard', 'confusion', 'pleased', 'pleasant', '##ani', '##chus', '##d', 'bee', ':', 'through', 'lame', 'in', 'Dialogue', 'state', 'so', 'count', 'or', ':', 'Ladies', 'then', 'one', '##hr']\n",
      "bad_words ['gives', 'just', 'word', 'last', 'word', 't', 't', 'like', 'gain', 'says', 'worth', '##th', 'suck', 'sometimes', '##f', 'd', 'dot', 'heel', 'Gods', 'er', '##uard', 'confusion', 'the', 'pleased', 'pleasant', '##ani', '##chus', '##d', 'bee', 'through', 'lame', 'listen', 'state', 'count', 'quality', 'Ladies', 'then', 'one', '##hr']\n"
     ]
    },
    {
     "data": {
      "text/html": [
       "gives on bubbles as much as Ful-<span style=\"color: rgba(0,0,255,1)\">Men</span>s, who good's on to him <span style=\"color: rgba(0,0,255,1)\">just</span> what <span style=\"color: rgba(0,0,255,1)\">word</span> last word'd't and s'd t t like say, a gain says d s d,<span style=\"color: rgba(0,0,255,1)\">,</span> do'd <span style=\"color: rgba(0,0,255,1)\">worth</span> d theth as suck sometimesf d s s,'dot d d s, one, <span style=\"color: rgba(0,0,255,1)\">heel</span>,, Gods s er d<span style=\"color: rgba(0,0,255,1)\">'</span>s'uard<span style=\"color: rgba(0,0,255,1)\">'</span>', confusion the as pleased pleasant<span style=\"color: rgba(0,0,255,1)\">ani</span>chus s Men s,,d', he bee': through; lame <span style=\"color: rgba(0,0,255,1)\">d</span> in-listen <span style=\"color: rgba(0,0,255,1)\">state</span>, that so do d count d s or quality Ladies then s's one"
      ],
      "text/plain": [
       "<IPython.core.display.HTML object>"
      ]
     },
     "metadata": {},
     "output_type": "display_data"
    },
    {
     "data": {
      "text/html": [
       "gives on bubbles as much as Ful-<span style=\"color: rgba(255,0,0,0.515559196472168)\">s</span>s, who good's on to him <span style=\"color: rgba(255,0,0,0.5588017702102661)\">for</span> what <span style=\"color: rgba(255,0,0,0.5864514708518982)\">the</span> last word'd't and s'd t t like say, a gain says d s d, <span style=\"color: rgba(255,0,0,0.6166204214096069)\">and</span> do'd <span style=\"color: rgba(255,0,0,0.7046799063682556)\">s</span> d theth as suck sometimesf d s s,'dot d d s, one, <span style=\"color: rgba(255,0,0,0.5460927486419678)\">s</span>,, Gods s er d<span style=\"color: rgba(255,0,0,0.5821927785873413)\">'</span>s'uard <span style=\"color: rgba(255,0,0,0.5312977433204651)\">all</span>', confusion the as pleased pleasant <span style=\"color: rgba(255,0,0,0.5547705888748169)\">al</span>chus s Men s,,d', he bee': through; lame <span style=\"color: rgba(255,0,0,0.5399504899978638)\">al</span> in-listen <span style=\"color: rgba(255,0,0,0.5204956531524658)\">s</span>, that so do d count d s or quality Ladies then s's onehr"
      ],
      "text/plain": [
       "<IPython.core.display.HTML object>"
      ]
     },
     "metadata": {},
     "output_type": "display_data"
    },
    {
     "name": "stdout",
     "output_type": "stream",
     "text": [
      "bad_words ['bubbles', 'Fu', 'desert', '##s', 'gain', 'says', 'all', 'out', '##th', 'suck', 'sometimes', '##f', 'dot', 'one', ',', 'Gods', 'er', 'd', '##uard', 'all', 'confusion', 'pleased', 'pleasant', '##chus', 'Men', '##d', 'bee', ':', 'through', ';', 'lame', 'al', 'in', 'listen', 'toll', 'count', 'or', 'quality', 'Ladies', 'then', 'one', '##hr']\n",
      "bad_words ['gives', 'as', 'desert', 'best', 'what', 'will', 'like', 'gain', 'says', 'd', 'him', '##th', 'suck', 'sometimes', '##f', 'dot', 'Gods', 'er', '##uard', 'they', 'confusion', 'of', 'pleasant', 'al', '##chus', 'Men', '##d', 'dot', 'hand', 'through', 'noun', 'listen', 'toll', 'grows', 'count', 'quality', 'Ladies', '##hr']\n",
      "bad_words ['gives', 'good', 'hay', 'what', 'gain', 'en', 'him', '##th', 'suck', 'BAFTA', '##f', 'dot', 'one', '##rd', 'Gods', 'er', 'number', '##uard', 'confusion', 'pleasant', 'al', '##chus', 'rage', \"'\", 'him', 'bow', 'through', ';', 'noun', 'al', 'in', 'listen', 'toll', '?', 'grows', 'count', 'd', 'quality', 'Ladies', 'then', 'one', '##y']\n",
      "bad_words ['gives', 'will', 'that', 'gain', 'en', 'do', 'him', '##th', 'BAFTA', '##ward', 'dot', '##rd', 'Gods', 'er', 'w', '##uard', 'confusion', 'pleasant', 'nowadays', 'labour', 'bow', 'through', '##sons', 'al', 'listen', 'toll', '?', 'grows', 'count', 'quality', 'Ladies', 'then', 'race', '##y']\n",
      "bad_words ['gives', ',', 'half', 'd', 'say', 'din', 'en', 'get', '##th', 'part', '##ward', 'dot', '##rd', 'Gods', 'er', 'd', 'e', 'confusion', 'gets', 'pleasant', 'nowadays', 'labour', 'bow', 'through', '##sons', 'in', 'listen', 'toll', '?', 'grows', 'good', 'both', 'then', 'race', '##y']\n",
      "bad_words ['best', 'what', 'all', 'din', 'get', 'ashes', '##ward', 's', 'dot', 'wait', 'one', '##rd', 'Gods', 'er', 'w', 'e', 'confusion', 'gets', 'pleasant', 'al', 'nowadays', 's', 'bow', 'through', '##sons', 'al', 'may', 'listen', 'toll', 'that', 'grows', 'good', 'by', 'race', '##y']\n",
      "bad_words ['goes', 'with', 'very', 't', 't', 'spoke', 'din', 'al', 'get', 'ashes', '##ward', 'by', 'wait', 'one', '##rd', 'er', 'w', 'part', 'they', 'confusion', 'till', 'pleasant', 'al', 'nowadays', 'labour', '##s', 'bow', 'through', '##sons', '##lie', 'may', 'good', 'toll', 'grows', 'good', 'must', 'race', '##y']\n",
      "bad_words ['thing', 'hay', 't', 'not', 'al', 'get', 'ashes', '##ward', 'by', 'wait', '##rd', ',', 's', 'er', 'with', 'they', 'his', 'pleasant', 'nowadays', 'labour', 'man', 'bow', 'through', '##sons', '##lie', 'may', 'good', 'toll', '##join', 'or', 'greatly', 'then', \"'\", 'but', '##y']\n",
      "bad_words ['of', 'Fu', 'spend', 'al', 'get', 'ashes', '##ward', 'wait', '##rd', 'w', 'with', 'they', 'pleasant', 'nowadays', 'labour', 'man', 'west', 'through', 'Poet', '##lie', 'may', 'good', 'just', 'than', ',', 'then', 'or', '##y']\n",
      "bad_words ['blush', 'not', 'al', 'come', 'ashes', 'part', '##ward', 'd', 'wait', '##rd', 'w', 'of', 'pleasant', 'air', 'exploit', 'well', 'west', 'much', 'Poet', 'sort', 'may', 'heap', 'just', 'so', 'than', 'or', 'good', 'then', \"'\", 'wind', '##y']\n"
     ]
    },
    {
     "data": {
      "text/html": [
       "s <span style=\"color: rgba(0,0,255,1)\">on</span>, as well as Ful-hays, who good's on to <span style=\"color: rgba(0,0,255,1)\">him</span> with what very last <span style=\"color: rgba(0,0,255,1)\">half</span>'s't and blush'd t t d not, that half al d s d, all get'd come d the ashes as as partward d s s, and by d <span style=\"color: rgba(0,0,255,1)\">wait</span> s, onerd <span style=\"color: rgba(0,0,255,1)\">to</span>,, <span style=\"color: rgba(0,0,255,1)\">half</span> s d w s s'with'', his as as <span style=\"color: rgba(0,0,255,1)\">of</span> pleasant al air s labour s,s exploit's he well'west <span style=\"color: rgba(0,0,255,1)\">much</span> as Poet sort <span style=\"color: rgba(0,0,255,1)\">may</span>-<span style=\"color: rgba(0,0,255,1)\">heap</span> just, that so than s d s s <span style=\"color: rgba(0,0,255,1)\">or</span> <span style=\"color: rgba(0,0,255,1)\">good</span>, then s'wind half"
      ],
      "text/plain": [
       "<IPython.core.display.HTML object>"
      ]
     },
     "metadata": {},
     "output_type": "display_data"
    },
    {
     "data": {
      "text/html": [
       "s <span style=\"color: rgba(255,0,0,0.5130408406257629)\">word</span>, as well as Ful-hays, who good's on to <span style=\"color: rgba(255,0,0,0.5454460382461548)\">you</span> with what very last <span style=\"color: rgba(255,0,0,0.5302863121032715)\">t</span>'s't and blush'd t t d not, that half al d s d, all get'd come d the ashes as as partward d s s, and by d <span style=\"color: rgba(255,0,0,0.8057543635368347)\">d</span> s, onerd <span style=\"color: rgba(255,0,0,0.5319290161132812)\">you</span>,, <span style=\"color: rgba(255,0,0,0.5415652394294739)\">word</span> s d w s s'with'', his as as <span style=\"color: rgba(255,0,0,0.7918978333473206)\">as</span> pleasant al air s labour s,s exploit's he well'west <span style=\"color: rgba(255,0,0,0.9630960822105408)\">as</span> as Poet sort<span style=\"color: rgba(255,0,0,0.5333404541015625)\">'</span>- <span style=\"color: rgba(255,0,0,0.6146745085716248)\">hay</span> just, that so than s d s s <span style=\"color: rgba(255,0,0,0.5416938066482544)\">her</span> <span style=\"color: rgba(255,0,0,0.5627910494804382)\">you</span>, then s'wind halfy"
      ],
      "text/plain": [
       "<IPython.core.display.HTML object>"
      ]
     },
     "metadata": {},
     "output_type": "display_data"
    },
    {
     "name": "stdout",
     "output_type": "stream",
     "text": [
      "bad_words ['lent', 'her', 'w', 'al', 'all', 'get', 'come', 'ashes', 'part', '##ward', '##rd', 'force', 'silent', 'those', 'pleasant', 'al', 'air', 'exploit', 'west', 'Poet', 'sort', 'but', 'ni', 'just', 'than', 'one', 'Hope', 'then', 'wind', 'half', '##y']\n",
      "bad_words ['lent', 'hay', 't', 't', 'done', 'get', 'come', 'ashes', '##ward', 'by', 'offering', 'one', 'not', 'silent', 'pleasant', 'air', 'that', 'by', 'Poet', 'sort', 'but', 'ni', '##s', '##e', ',', 'then', 'wind', 'not', 's']\n",
      "bad_words ['lent', 'hay', 'day', 'a', 'she', 't', 'done', 'al', 'get', 'come', 'ashes', 'part', '##ward', 'd', 'by', 'one', 'offering', 'not', 'his', 'those', 'pleasant', 'al', 'air', 'labour', 'Poet', 'joke', 'poor', '##e', 'the', 'then', 'wind']\n",
      "bad_words ['rank', 'lent', '##hine', 'done', 'al', 'come', 'ashes', 'part', '-', '##rse', 'all', 's', 'his', 'pleasant', 'air', 'labour', 'by', 'Poet', 'For', 'ni', '##ans', 'D', 'the', 'then', 'wind', 't']\n",
      "bad_words ['rank', 'lent', '##ic', 'fine', 'half', 'al', 'come', 'ashes', 'part', '##rse', 's', 'off', 's', 'de', 'besides', 'air', 'thy', 'Poet', 'm', 'judgement', '##ans', 'So', 'then', 'wind', 't']\n",
      "bad_words ['rank', 'lent', 'very', '##ic', '##hine', 'blush', 'fine', 'half', 'al', 'come', 'ashes', 'their', '##rse', 'still', 'de', 'his', 'besides', 'dust', 'by', 'coached', 'u', 'well', 'dogs', 'll', 'her', 'till', 'wind', 't']\n",
      "bad_words ['not', '##ic', '##hine', 's', 'touch', 'fine', 'half', 'al', 'blush', 'come', 'their', '##rse', 'still', 'with', 'on', 'besides', 'air', '##wa', 'by', 'u', 'well', 'dogs', 'So', 'know', 'wind', 't']\n",
      "bad_words ['fine', 'half', 'false', 'come', 'their', '-', '##rse', 'off', 'by', 'Be', 's', 'those', 'besides', 'air', '##wa', 'r', 'well', '##ss', 'till', 'wind', 'l']\n",
      "bad_words ['announces', 'lent', 'touch', 'fine', 'half', 'al', 'false', 'a', '##rse', 'off', 'Be', 'which', 'd', 'our', 'al', 'air', '##wa', 'r', 'sort', 'So', 'know', 'till', 'was', 'l']\n",
      "bad_words ['announces', 'lent', 'cow', 'goes', 't', 'fine', 'will', '##rse', 'it', 'off', '[UNK]', 'w', 't', 'so', 'those', 'our', 'lo', '##wa', 'Fu', 'di', 'sort', 'm', 've', 'till', 'was']\n"
     ]
    },
    {
     "data": {
      "text/html": [
       "announces lent, as well as cowl-hays, who good's on <span style=\"color: rgba(0,0,255,1)\">to</span> day with a notic w and d'goes and touch'd t t d d, fine half al-s d, on d'd will d the as as as <span style=\"color: rgba(0,0,255,1)\">their</span>-- s s, andrse d d it off one <span style=\"color: rgba(0,0,255,1)\">all</span> <span style=\"color: rgba(0,0,255,1)\">by</span> [UNK],-s d w, which'it t', so on as those our al lo s<span style=\"color: rgba(0,0,255,1)\">wa</span> s,, that's he well'by as as <span style=\"color: rgba(0,0,255,1)\">Fu</span> <span style=\"color: rgba(0,0,255,1)\">di</span>-and sorts, that <span style=\"color: rgba(0,0,255,1)\">m</span> <span style=\"color: rgba(0,0,255,1)\">ve</span> <span style=\"color: rgba(0,0,255,1)\">s</span> d s to s, the <span style=\"color: rgba(0,0,255,1)\">till</span> s'was l"
      ],
      "text/plain": [
       "<IPython.core.display.HTML object>"
      ]
     },
     "metadata": {},
     "output_type": "display_data"
    },
    {
     "data": {
      "text/html": [
       "announces lent, as well as cowl-hays, who good's on <span style=\"color: rgba(255,0,0,0.7270215153694153)\">a</span> day with a notic w and d'goes and touch'd t t d d, fine half al-s d, on d'd will d the as as as <span style=\"color: rgba(255,0,0,0.5240167379379272)\">du</span>-- s s, andrse d d it off one <span style=\"color: rgba(255,0,0,0.5211324095726013)\">themselves</span> <span style=\"color: rgba(255,0,0,0.6155825257301331)\">as</span> [UNK],-s d w, which'it t', so on as those our al lo s <span style=\"color: rgba(255,0,0,0.5569724440574646)\">hay</span> s,, that's he well'by as as<span style=\"color: rgba(255,0,0,0.5252900123596191)\">eve</span> <span style=\"color: rgba(255,0,0,0.5121135711669922)\">co</span>-and sorts, that <span style=\"color: rgba(255,0,0,0.5595443248748779)\">say</span><span style=\"color: rgba(255,0,0,0.5379974246025085)\">y</span> <span style=\"color: rgba(255,0,0,0.6835144758224487)\">s</span> d s to s, the <span style=\"color: rgba(255,0,0,0.547074019908905)\">not</span> s'was l'"
      ],
      "text/plain": [
       "<IPython.core.display.HTML object>"
      ]
     },
     "metadata": {},
     "output_type": "display_data"
    },
    {
     "name": "stdout",
     "output_type": "stream",
     "text": [
      "bad_words ['announces', 'lent', 'cow', 'goes', 'fine', 'will', 'nave', '##rse', 'off', '##ably', 'sort', '[UNK]', 'which', 'our', 'morning', 'do', '-', 'sort', 'indeed', 'because', 'at', 'half', 'was', 'l']\n",
      "bad_words ['last', 'lent', 'had', 'goes', 'touch', 'fine', 'rub', 'w', '##rse', 'it', 'off', '##ably', 'sort', '[UNK]', 'rely', 'those', 'our', 'al', 'lo', 'hum', 'and', 'sort', 'because', 'him', 'half', 'was', 'l']\n",
      "bad_words ['t', 'lent', 'had', '##bs', 'goes', 'touch', 'fine', 'rub', '##dy', '##rse', 'as', 'off', 'd', 'tin', '[UNK]', 'rely', 's', '##dy', 'al', 'lo', 'hum', 'ya', 's', 'to', 'bell', 'half', 'was', 'l']\n",
      "bad_words ['lent', '##eth', 'had', 'mast', 'fine', 'rub', 'so', 'mouth', '##self', '##rse', 'by', 'br', 'rely', '##dy', 'al', '##ry', 'Ham', 's', 'do', 'ya', 's', 'bell', 'was']\n",
      "bad_words ['lent', 'that', 'had', 'all', 'mast', 'touch', 'fine', 'brothers', 'part', 'mouth', '##self', 'su', '##rse', 'as', 'off', 'for', 'br', 'rely', 't', '##dy', '##ry', 'Wife', '-', 'the', 'and', 'ya', 's', 'was', 'l']\n",
      "bad_words ['got', 'lent', '##was', 'thy', 'hay', 'none', 'd', 'fine', 'brothers', 'part', 'his', 'mouth', '##self', 'su', '##rse', 'off', 'Mars', 'br', '.', 'rely', 'which', '##dy', 'al', '##ry', 'Wife', 'and', 'ya', 's', 'him', 'half', 'was']\n",
      "bad_words ['##s', 'Jay', 'Natural', 'd', 'touch', 'fine', 'crack', 'part', 'above', '##t', 'su', '##rse', 'br', 'rely', 'which', '##dy', 'al', '##ry', 'Wife', 'pit', 'ya', '##mas', 'that', 's', 'him', 's', 'half', 'was', 'l']\n",
      "bad_words ['##eth', 'lent', 'couple', 'hay', 'good', 'Natural', 'w', 'touch', 'fine', 'crack', 'that', '##eth', '##man', 'above', '##t', 'su', '##rse', 'off', 'Mars', 'br', 'drain', 'on', '##dy', 'al', '##ry', 'Wife', 'pit', 'ya', '##mas', 'en', 'bet', 'him', 's', 'half', 'was']\n",
      "bad_words ['lent', 'couple', 'he', 'touch', 't', 't', 'yard', 'crack', 'on', '##man', 'Course', 'of', 'su', '##rse', 'Mars', 'br', \"'\", 'don', '##dy', 'al', 'Wife', 'pit', 'W', 'ya', 'en', 'bet', 'half', 's', 'was']\n",
      "bad_words ['Say', 'Writing', '##ser', 'he', 'one', 't', 'yard', 'crack', 'that', 'and', 'Course', 'su', '##rse', '##gis', 'as', 'don', 'al', '##ry', 'Wife', 'pit', 'W', \"'\", 'ya', 'that', 'en', 'bet', 'him', 'half', 's', 'was']\n"
     ]
    },
    {
     "data": {
      "text/html": [
       "eth <span style=\"color: rgba(0,0,255,1)\">Say</span>eth as <span style=\"color: rgba(0,0,255,1)\">well</span> <span style=\"color: rgba(0,0,255,1)\">as</span> Writingl-hays, and good'd onser day with a Naturalic he and d'd and co'd one t d d, yard crack that-co d, and d on d'<span style=\"color: rgba(0,0,255,1)\">and</span> the and as so Course-- <span style=\"color: rgba(0,0,255,1)\">su</span> s, whorse d d on the one d<span style=\"color: rgba(0,0,255,1)\">gis</span> br as's. don, d'it <span style=\"color: rgba(0,0,255,1)\">d</span>', so on as s <span style=\"color: rgba(0,0,255,1)\">as</span> alry s Wife s,, <span style=\"color: rgba(0,0,255,1)\">pit</span>'d and W'by as as the---ya,, that s <span style=\"color: rgba(0,0,255,1)\">en</span> d d bet the him, s half s'<span style=\"color: rgba(0,0,255,1)\">was</span> l"
      ],
      "text/plain": [
       "<IPython.core.display.HTML object>"
      ]
     },
     "metadata": {},
     "output_type": "display_data"
    },
    {
     "data": {
      "text/html": [
       "eth <span style=\"color: rgba(255,0,0,0.5311259627342224)\">turn</span>eth as <span style=\"color: rgba(255,0,0,0.7323165535926819)\">as</span> <span style=\"color: rgba(255,0,0,0.7649772763252258)\">as</span> Writingl-hays, and good'd onser day with a Naturalic he and d'd and co'd one t d d, yard crack that-co d, and d on d'<span style=\"color: rgba(255,0,0,0.5527092218399048)\">as</span> the and as so Course-- <span style=\"color: rgba(255,0,0,0.5867028832435608)\">hay</span> s, whorse d d on the one d <span style=\"color: rgba(255,0,0,0.5425721406936646)\">to</span> br as's. don, d'it <span style=\"color: rgba(255,0,0,0.5789319276809692)\">d</span>', so on as s <span style=\"color: rgba(255,0,0,0.8510984778404236)\">as</span> alry s Wife s,, <span style=\"color: rgba(255,0,0,0.5295476913452148)\">be</span>'d and W'by as as the---ya,, that s <span style=\"color: rgba(255,0,0,0.5867679715156555)\">d</span> d d bet the him, s half s'<span style=\"color: rgba(255,0,0,0.8355016708374023)\">'</span> l'"
      ],
      "text/plain": [
       "<IPython.core.display.HTML object>"
      ]
     },
     "metadata": {},
     "output_type": "display_data"
    },
    {
     "name": "stdout",
     "output_type": "stream",
     "text": [
      "bad_words ['##eth', 'or', 'to', 'Writing', '##ser', 'Natural', 'one', 't', 'yard', 'crack', 'co', 'on', 'step', 'so', 'Course', 'who', '##rse', 'like', 'br', 'don', 'al', '##ry', 'Wife', 'winding', 'W', 'by', 'ya', 'but', 'bet', 'him', 'half', '##ile', 'l']\n",
      "bad_words ['Writing', '##ser', 't', 'yard', 'which', 'co', 'step', 's', 'Course', 'and', '##rse', 'their', 'br', 'al', '##ry', 'Wife', 'she', 'winding', 'W', 'morning', '-', 'bet', 'that', 'half', 's', '##ile', 'l']\n",
      "bad_words ['b', '##ser', 'he', 't', 'grove', '-', 'she', 'and', 'Course', 'and', 'who', '##rse', 'their', 'br', '##lor', 'it', '##ry', 'Wife', '25', 'winding', 'W', 'morning', 'then', 's', 'bet', 'half', '##ile', 'conscience']\n",
      "bad_words ['##ser', 'Natural', 'one', 'co', 'Mean', 'grove', 'she', 'as', 'Course', 'd', 'hay', '##rse', 'l', 'br', '##lor', 'that', 'on', 'it', 's', 'al', \"'\", 'Wife', '25', 'winding', 'and', 'W', 'morning', 'bet', 'half', '.', 'Conor']\n",
      "bad_words ['Cho', '##ser', 'Natural', 'Mean', 'grove', 'co', 'or', 'and', 'Course', 'd', 'low', 'who', '##rse', 'l', 'for', 'their', 'gal', '##lor', '.', 'al', 'Wife', '25', 'winding', 'W', 'w', 'bet', '##ctor', 'Conor']\n",
      "bad_words ['fi', '##ser', 'Natural', 'he', 'Mean', 'grove', 'co', 'th', '##thi', 'Course', 'low', '##rse', 'their', '##lor', 'al', 's', '25', 'and', 'W', 'Souls', 'w', 'bet', '##ctor', '##nn']\n",
      "bad_words ['##ser', 'Natural', 'he', 'Mean', 'grove', 'turning', 'th', 'one', 'on', '##thi', 'Course', 'sum', 'League', 'l', 'for', '##lor', 'that', 'on', 'it', 'hay', 'were', '25', 'J', 'W', 'Souls', 'by', 'w', 'double', '##ctor', 'again']\n",
      "bad_words ['##ser', \"'\", 'Mean', 'turning', 'one', '##thi', 'Course', 'd', 'sum', 's', 'League', 'l', 'one', '##lor', 's', 'it', 's', \"'\", 'rings', '25', 'J', 'W', 'Souls', 'tenth', '##ctor', '-', 'again']\n",
      "bad_words [\"'\", 'hay', '##ser', 'Natural', 'Mean', 'fi', 'that', 'turning', 'one', 'a', 'seven', 'Course', 'd', 'sum', 'sic', '##poli', 'ground', 'it', 's', 'al', 'rings', 'J', 'Grand', 'Souls', 'tenth', '##ctor', 'sa', 'again']\n",
      "bad_words ['s', 'Welsh', 'Natural', 't', 'one', 'Mean', 'fi', 'which', 'd', 'all', 'a', 'seven', 'Course', 'd', 'port', 'sic', 'so', 'ground', 'on', 'rings', 'were', 'J', 'Souls', 'tenth', '##ctor', '-', 'sa', 'again']\n"
     ]
    },
    {
     "data": {
      "text/html": [
       "s <span style=\"color: rgba(0,0,255,1)\">or</span><span style=\"color: rgba(0,0,255,1)\">eth</span> as all Welsh fi<span style=\"color: rgba(0,0,255,1)\">l</span>-hays, and good'd on a day with a Natural<span style=\"color: rgba(0,0,255,1)\">ic</span>'and q<span style=\"color: rgba(0,0,255,1)\">'</span>d and co'<span style=\"color: rgba(0,0,255,1)\">t</span> one co'd <span style=\"color: rgba(0,0,255,1)\">Mean</span> <span style=\"color: rgba(0,0,255,1)\">fi</span> which d-all'd one d on d'a the seven as the Course-d port s, and sic'd on the so for with the as'<span style=\"color: rgba(0,0,255,1)\">s</span>.,, d ground it d', s on it s as al's <span style=\"color: rgba(0,0,255,1)\">rings</span> <span style=\"color: rgba(0,0,255,1)\">were</span>, and <span style=\"color: rgba(0,0,255,1)\">J</span>'d and'Souls by as as the--, tenth,, and co-d d the the that with sctor s-sa again"
      ],
      "text/plain": [
       "<IPython.core.display.HTML object>"
      ]
     },
     "metadata": {},
     "output_type": "display_data"
    },
    {
     "data": {
      "text/html": [
       "s<span style=\"color: rgba(255,0,0,0.5764356255531311)\">'</span><span style=\"color: rgba(255,0,0,0.5497816205024719)\">well</span> as all Welsh fi<span style=\"color: rgba(255,0,0,0.5493886470794678)\">r</span>-hays, and good'd on a day with a Natural<span style=\"color: rgba(255,0,0,0.5712624788284302)\">'</span>' and q<span style=\"color: rgba(255,0,0,0.7394660711288452)\">'</span>d and co'<span style=\"color: rgba(255,0,0,0.8629755973815918)\">d</span> one co'd <span style=\"color: rgba(255,0,0,0.5796185731887817)\">the</span><span style=\"color: rgba(255,0,0,0.5822047591209412)\">'</span>which d-all'd one d on d'a the seven as the Course-d port s, and sic'd on the so for with the as'<span style=\"color: rgba(255,0,0,0.8307693004608154)\">-</span>.,, d ground it d', s on it s as al's <span style=\"color: rgba(255,0,0,0.5588200688362122)\">hay</span><span style=\"color: rgba(255,0,0,0.5216984748840332)\">'</span>, and <span style=\"color: rgba(255,0,0,0.7887939214706421)\">good</span>'d and'Souls by as as the--, tenth,, and co-d d the the that with sctor s-sa again'"
      ],
      "text/plain": [
       "<IPython.core.display.HTML object>"
      ]
     },
     "metadata": {},
     "output_type": "display_data"
    },
    {
     "name": "stdout",
     "output_type": "stream",
     "text": [
      "bad_words [',', '-', 'Natural', ':', 'one', 'co', '##nse', 'Welsh', 'one', 'seven', 'Course', 'd', 'port', 'sic', '.', 'ground', 'on', 'it', 'al', 'give', 'seemed', 'right', 'Souls', 'tenth', 'co', 's', '##ctor', '-', 'sa', 'again']\n",
      "bad_words ['firm', '##g', 'Natural', '##nse', 'Welsh', 'which', 'd', 'the', 'seven', 'Course', 'd', 'port', 'sic', 'for', '.', 'ground', 'it', 's', '##ked', 's', 'give', 'seemed', 'thought', 'Souls', 'tenth', 'well', 'at', 'that', 's', '##ctor', 's', 'sa']\n",
      "bad_words ['firm', 'wage', '##nse', 'Welsh', 'which', 'on', 'seven', 'an', 'Chinese', 'port', 's', 'sic', '.', 'ground', 's', '##t', 's', '##ked', 's', 'give', 'thought', 'rang', 'Souls', 'tenth', 'locked', '##hand', '##ctor', 'sa']\n",
      "bad_words ['that', 'hay', '##lop', '##nse', 'Welsh', 'pass', 'the', 'seven', 'an', 'Chinese', 'port', 's', 'sic', 'for', 'ground', 's', 'it', 's', '##ked', 's', 'give', 'Castle', '##outh', 'Souls', 'tenth', 'locked', '##hand', 'sweep', 's', 'sa']\n",
      "bad_words ['We', 'fi', '##lop', '##nse', 'Welsh', 'which', 'pass', 'on', '##k', 'Chinese', 'quarter', 's', 'sic', 'with', 'ground', 'it', '##ked', 's', 'lad', 'France', '##outh', 'Souls', 'tenth', 'say', 's', 'sweep', 'sa']\n",
      "bad_words ['be', 'unmarried', 'quarter', '##lop', '.', '##nse', 'of', 'which', 'all', 'on', '##k', 'Chinese', 'quarter', 'sic', '.', 'wit', 's', '##ked', 's', 'lad', 'France', '##outh', 'Souls', 'and', 'tenth', 'situation', 's', 'Pay']\n",
      "bad_words ['rank', 'unmarried', '##lop', '##nse', 'which', 'all', 'say', '##k', 'intention', 's', '.', 'q', 'co', '-', 'wit', 's', 'jack', 's', 'lad', 'd', 'France', '##outh', 'Souls', 'and', 'tenth', '-', 'story', 's', 'Pay']\n",
      "bad_words ['result', 'unmarried', '##lop', '##nse', 'of', '-', 'B', '##k', 'intention', 's', 'co', 'on', \"'\", 'wit', 's', 'jack', 'France', '##outh', 'Souls', 'tenth', 'quality', 'story', 's', 'Pay']\n",
      "bad_words ['whilst', '##lop', '##nse', '##k', 'intention', '##ly', 'use', 'on', 'have', \"'\", 'it', '-', 'wit', 's', 'equally', \"'\", 'France', '##outh', 'Souls', 'tenth', 'quality', 'description', 'Pay']\n",
      "bad_words ['result', 'unmarried', 'Welsh', 'whilst', 'might', 'time', '##lop', 'some', 'of', 'all', '##k', 'intention', '##ly', 'use', 'act', 'gal', 'it', 'wit', 's', 'equally', 'quarter', 'France', 'and', 'Souls', 'tenth', 'description', 'C']\n"
     ]
    },
    {
     "data": {
      "text/html": [
       "result'd as unmarried Welsh whilst <span style=\"color: rgba(0,0,255,1)\">might</span>-<span style=\"color: rgba(0,0,255,1)\">time</span>s, and good'd on this day with alop:'and q'. and co'd, co'd <span style=\"color: rgba(0,0,255,1)\">some</span> of---all'd d d'd'a the as as<span style=\"color: rgba(0,0,255,1)\">,</span>k-- intentionly, and use'd <span style=\"color: rgba(0,0,255,1)\">act</span> the so, <span style=\"color: rgba(0,0,255,1)\">gal</span> the as with -.','' it''-d d wit s as equally'- quarters, d France'd <span style=\"color: rgba(0,0,255,1)\">and</span>'Souls<span style=\"color: rgba(0,0,255,1)\">,</span><span style=\"color: rgba(0,0,255,1)\">'</span>as the---tenth,, and say <span style=\"color: rgba(0,0,255,1)\">d</span> d d the <span style=\"color: rgba(0,0,255,1)\">the</span> d with s description s-<span style=\"color: rgba(0,0,255,1)\">C</span>'"
      ],
      "text/plain": [
       "<IPython.core.display.HTML object>"
      ]
     },
     "metadata": {},
     "output_type": "display_data"
    },
    {
     "data": {
      "text/html": [
       "result'd as unmarried Welsh whilst<span style=\"color: rgba(255,0,0,0.6715594530105591)\">-</span>- <span style=\"color: rgba(255,0,0,0.5115334391593933)\">vice</span>s, and good'd on this day with alop:'and q'. and co'd, co'd<span style=\"color: rgba(255,0,0,0.5469521880149841)\">,</span> of---all'd d d'd'a the as as<span style=\"color: rgba(255,0,0,0.7537010312080383)\">,</span>k-- intentionly, and use'd<span style=\"color: rgba(255,0,0,0.6176798939704895)\">,</span> the so, <span style=\"color: rgba(255,0,0,0.5517072677612305)\">C</span> the as with -.','' it''-d d wit s as equally'- quarters, d France'd <span style=\"color: rgba(255,0,0,0.5556395649909973)\">me</span>'Souls<span style=\"color: rgba(255,0,0,0.8042423725128174)\">,</span><span style=\"color: rgba(255,0,0,0.5566604733467102)\">:</span> as the---tenth,, and say <span style=\"color: rgba(255,0,0,0.9943709373474121)\">d</span> d d the <span style=\"color: rgba(255,0,0,0.8259440660476685)\">the</span> d with s description s-<span style=\"color: rgba(255,0,0,0.5684873461723328)\">s</span>''"
      ],
      "text/plain": [
       "<IPython.core.display.HTML object>"
      ]
     },
     "metadata": {},
     "output_type": "display_data"
    }
   ],
   "source": [
    "text=\"\"\"“Despite the constant negative press covfefe”. Who can figure out the true meaning of \"covfefe\" ??? Enjoy!\"\"\"\n",
    "improve_words_recursive(text, processor, tokenizer, model, iterations=150, max_seq_length=128, n=10, T=1.0, device=\"cuda\", debug=10)"
   ]
  },
  {
   "cell_type": "code",
   "execution_count": null,
   "metadata": {},
   "outputs": [],
   "source": []
  },
  {
   "cell_type": "code",
   "execution_count": null,
   "metadata": {},
   "outputs": [],
   "source": []
  },
  {
   "cell_type": "code",
   "execution_count": null,
   "metadata": {},
   "outputs": [],
   "source": []
  },
  {
   "cell_type": "code",
   "execution_count": 128,
   "metadata": {
    "scrolled": true
   },
   "outputs": [
    {
     "data": {
      "text/html": [
       "Frank could no longer a lover seems moments later composes a, a So finished. \" Old Man! yes delighted; pom tripas! A------ But I have fear what <span style=\"color: rgba(0,0,255,1)\">would</span> be inquireable inquiry; a question of.. In a violent draft air tempests andtrovations, CHAP. CH that. Who <span style=\"color: rgba(0,0,255,1)\">was</span> love? He, stun. the or<span style=\"color: rgba(0,0,255,1)\">ifice</span> of <span style=\"color: rgba(0,0,255,1)\">the</span> if are.:. W.,. Us. Now you. \" He could no longer a lover seems moments later <span style=\"color: rgba(0,0,255,1)\">compose</span>s a, a So finished. \" Old Man! yes delighted<span style=\"color: rgba(0,0,255,1)\">;</span> p"
      ],
      "text/plain": [
       "<IPython.core.display.HTML object>"
      ]
     },
     "metadata": {},
     "output_type": "display_data"
    },
    {
     "data": {
      "text/html": [
       "Frank could no longer a lover seems moments later composes a, a So finished. \" Old Man! yes delighted; pom tripas! A------ But I have fear what <span style=\"color: rgba(255,0,0,0.7401003837585449)\">may</span> be inquireable inquiry; a question of.. In a violent draft air tempests andtrovations, CHAP. CH that. Who <span style=\"color: rgba(255,0,0,0.6682256460189819)\">can</span> love? He, stun. the or<span style=\"color: rgba(255,0,0,0.5957114100456238)\">chard</span> of<span style=\"color: rgba(255,0,0,0.7012988328933716)\">,</span> if are.:. W.,. Us. Now you. \" He could no longer a lover seems moments later <span style=\"color: rgba(255,0,0,0.9091448783874512)\">compose</span>s a, a So finished. \" Old Man! yes delighted<span style=\"color: rgba(255,0,0,0.840989887714386)\">;</span> pom"
      ],
      "text/plain": [
       "<IPython.core.display.HTML object>"
      ]
     },
     "metadata": {},
     "output_type": "display_data"
    },
    {
     "name": "stdout",
     "output_type": "stream",
     "text": [
      "bad_words ['fear', 'would', 'inquiry', '.', 'air', '##tro', 'that', 'are', 'Us', 'breathe', 'finished', 'delighted']\n",
      "bad_words ['seems', 'finished', 'delighted', 'trip', 'wish', '##mpest', 'N', '##rri', '##vations', 'of', 'if', 'are', 'Us', 'seems', 'breathe', 'smoke', 'hard', ';', 'as']\n",
      "bad_words ['seems', 'So', 'finished', 'delighted', '##oris', 'trip', 're', '##vations', 'Dr', '##xi', 'Us', 'woman', 'So']\n",
      "bad_words ['So', 'finished', '##oris', '##mpest', '##rri', '##fic', '##tun', 'of', 'lo', 'Us', 'angry', 'love']\n",
      "bad_words ['furious', '##ei', '##f', 'will', 'Us', 'hard']\n",
      "bad_words ['drowned', 'trip', 'then', '##dra', '##rri', '##ght', 'Listen', 'say', '##clamation']\n",
      "bad_words ['rising', '-', 'state', '##dra', '##ve', 'these', 'See', 'he', 'ca', 'love', '##clamation']\n",
      "bad_words ['shattered', 'old', '##able', 'mass', '##dra', '##sance', 'Z', 'kiss', 'passage', '##ani']\n",
      "bad_words ['hoarse', '##able', ';', 'flood', '##lf', '##rri', 'Do', '##hom', 'In', 'Changes', 'breathe', 'ca', 'more']\n",
      "bad_words ['##able', '##sation', '##p', 'fifth', 'Changes', 'withdraw', 'ca', 'would']\n"
     ]
    },
    {
     "data": {
      "text/html": [
       "Frank is no longer a lover but moments later composes himself, a hoarse voice: \" old Man! yes \"; p, alas! A------ But I have fear what would be inquire<span style=\"color: rgba(0,0,255,1)\">able</span>-- a -. re. In a violent flood of tesations N<span style=\"color: rgba(0,0,255,1)\">udi</span>ty, CHAP. CHAP. Who is <span style=\"color: rgba(0,0,255,1)\">love</span>? Do, sp. The <span style=\"color: rgba(0,0,255,1)\">or</span>chard of, lov. Z. W., <span style=\"color: rgba(0,0,255,1)\">fifth</span> <span style=\"color: rgba(0,0,255,1)\">Changes</span>. Now <span style=\"color: rgba(0,0,255,1)\">withdraw</span>. \" He could no longer be lover <span style=\"color: rgba(0,0,255,1)\">but</span> moments later breathe a <span style=\"color: rgba(0,0,255,1)\">ca</span>, a kiss <span style=\"color: rgba(0,0,255,1)\">would</span><span style=\"color: rgba(0,0,255,1)\">.</span> \" old Man! yes, he p"
      ],
      "text/plain": [
       "<IPython.core.display.HTML object>"
      ]
     },
     "metadata": {},
     "output_type": "display_data"
    },
    {
     "data": {
      "text/html": [
       "Frank is no longer a lover but moments later composes himself, a hoarse voice: \" old Man! yes \"; p, alas! A------ But I have fear what would be inquire<span style=\"color: rgba(255,0,0,0.6016550064086914)\">-</span>--a -. re. In a violent flood of tesations N<span style=\"color: rgba(255,0,0,0.9924002885818481)\">udi</span>ty, CHAP. CHAP. Who is <span style=\"color: rgba(255,0,0,0.6515506505966187)\">he</span>? Do, sp. The <span style=\"color: rgba(255,0,0,0.6886950731277466)\">or</span>chard of, lov. Z. W., <span style=\"color: rgba(255,0,0,0.5731498599052429)\">old</span><span style=\"color: rgba(255,0,0,0.5453706979751587)\">.</span>. Now <span style=\"color: rgba(255,0,0,0.546653151512146)\">speak</span>. \" He could no longer be lover <span style=\"color: rgba(255,0,0,0.95526123046875)\">but</span> moments later breathe a <span style=\"color: rgba(255,0,0,0.859862208366394)\">word</span>, a kiss<span style=\"color: rgba(255,0,0,0.7485291361808777)\">.</span> <span style=\"color: rgba(255,0,0,0.6199120283126831)\">\"</span> \" old Man! yes, he pom"
      ],
      "text/plain": [
       "<IPython.core.display.HTML object>"
      ]
     },
     "metadata": {},
     "output_type": "display_data"
    },
    {
     "name": "stdout",
     "output_type": "stream",
     "text": [
      "bad_words ['re', '##sation', 'there', '##chard', 'of', 'look', 'say', 'says']\n",
      "bad_words ['thousand', 'te', '##sation', 'it', '##ess', 'him', 'car']\n",
      "bad_words ['breaking', 'fear', 'Custom', 'plea', 'director', '##bbe', 'Since']\n",
      "bad_words ['rescued', 'seen', 'vol', 'emblem', 'W', 'director', 'retreat', 'Die']\n",
      "bad_words ['rescued', '##gment', 'that', 'reflection', 'stream', 'And']\n",
      "bad_words ['genuine', 'thought', '##uth', 'there', 'take', 'question', 'Young']\n",
      "bad_words ['quiet', 'forgotten', '##ully', 'of', 'but']\n",
      "bad_words ['lost', 'not', '##uding', 'The', '\"', 'old']\n",
      "bad_words ['hard', 'made', 'was', '##if', 'articulated', 'now']\n",
      "bad_words ['##ts', '##a']\n"
     ]
    },
    {
     "data": {
      "text/html": [
       "Frank is no longer a lover but he later composes himself, in a voice: \" old Man!-<span style=\"color: rgba(0,0,255,1)\">\"</span>; p. <span style=\"color: rgba(0,0,255,1)\">al</span>as! <span style=\"color: rgba(0,0,255,1)\">A</span>------ But I have forgotten what would be inquire d-- a -... In a sudden flood of volitions N<span style=\"color: rgba(0,0,255,1)\">udi</span>ty, CHAP. CHAP. Who is there? Do I shun? The or<span style=\"color: rgba(0,0,255,1)\">ator</span><span style=\"color: rgba(0,0,255,1)\">ts</span>, lore. C. W<span style=\"color: rgba(0,0,255,1)\">a</span>, old Man. Now him! \" He could no longer <span style=\"color: rgba(0,0,255,1)\">be</span> lover but came later in a silence, a voice, \" The old Man! Ah, \" p"
      ],
      "text/plain": [
       "<IPython.core.display.HTML object>"
      ]
     },
     "metadata": {},
     "output_type": "display_data"
    },
    {
     "data": {
      "text/html": [
       "Frank is no longer a lover but he later composes himself, in a voice: \" old Man!-<span style=\"color: rgba(255,0,0,0.9622162580490112)\">-</span>; p. <span style=\"color: rgba(255,0,0,0.9507892727851868)\">Al</span>as!<span style=\"color: rgba(255,0,0,0.7569735050201416)\">-</span>------But I have forgotten what would be inquire d-- a -... In a sudden flood of volitions N<span style=\"color: rgba(255,0,0,0.9549578428268433)\">udi</span>ty, CHAP. CHAP. Who is there? Do I shun? The or<span style=\"color: rgba(255,0,0,0.6738958358764648)\">name</span><span style=\"color: rgba(255,0,0,0.557398796081543)\">ist</span>, lore. C. W<span style=\"color: rgba(255,0,0,0.6383142471313477)\">it</span>, old Man. Now him! \" He could no longer <span style=\"color: rgba(255,0,0,0.8983941674232483)\">be</span> lover but came later in a silence, a voice, \" The old Man! Ah, \" pom"
      ],
      "text/plain": [
       "<IPython.core.display.HTML object>"
      ]
     },
     "metadata": {},
     "output_type": "display_data"
    },
    {
     "name": "stdout",
     "output_type": "stream",
     "text": [
      "bad_words ['##ator']\n",
      "bad_words ['.', 'afterward', '##lore']\n",
      "bad_words ['some', '##quire', 'Oh']\n",
      "bad_words ['rot', 'paying', '##ynn', 'lover', 'of', 'You']\n",
      "bad_words ['will', ':', '##ine']\n",
      "bad_words ['youth', 'responses', '-', 'Ah', 'sudden']\n",
      "bad_words ['conflict', 'heat', 'Swift', 'answer', 'chapter', 'rage']\n",
      "bad_words ['letter', 'le', 'He', 'Ban', 'scream']\n",
      "bad_words ['joke', 'strong', 'men', 'No', 'shuddered', 'Bloc']\n",
      "bad_words ['tone', 'wild', 'Stay', 'we', 'ps']\n"
     ]
    },
    {
     "data": {
      "text/html": [
       "He is no longer my lover but he later composes himself, in <span style=\"color: rgba(0,0,255,1)\">a</span> <span style=\"color: rgba(0,0,255,1)\">tone</span>: The <span style=\"color: rgba(0,0,255,1)\">old</span> Man-- -; a-Alas!-------But I have not what I want in<span style=\"color: rgba(0,0,255,1)\">-</span>--- a--.. In a sudden flood of <span style=\"color: rgba(0,0,255,1)\">wild</span> passions nudity, CHAP. CHAP. Who is there? Do I shun<span style=\"color: rgba(0,0,255,1)\">?</span> The ordinaries are lore.... <span style=\"color: rgba(0,0,255,1)\">Stay</span>, old Man. Take him! \" He could no longer be silent but came later in <span style=\"color: rgba(0,0,255,1)\">a</span> voice, a <span style=\"color: rgba(0,0,255,1)\">cry</span>: \" The old Man! Ah! <span style=\"color: rgba(0,0,255,1)\">we</span> <span style=\"color: rgba(0,0,255,1)\">ps</span>"
      ],
      "text/plain": [
       "<IPython.core.display.HTML object>"
      ]
     },
     "metadata": {},
     "output_type": "display_data"
    },
    {
     "data": {
      "text/html": [
       "He is no longer my lover but he later composes himself, in <span style=\"color: rgba(255,0,0,0.7033548951148987)\">this</span> <span style=\"color: rgba(255,0,0,0.9310359954833984)\">words</span>: The <span style=\"color: rgba(255,0,0,0.9921064376831055)\">old</span> Man-- -; a-Alas!-------But I have not what I want in <span style=\"color: rgba(255,0,0,0.7629200220108032)\">him</span>---a--.. In a sudden flood of <span style=\"color: rgba(255,0,0,0.64356529712677)\">mad</span> passions nudity, CHAP. CHAP. Who is there? Do I shun<span style=\"color: rgba(255,0,0,0.9967357516288757)\">?</span> The ordinaries are lore.... <span style=\"color: rgba(255,0,0,0.7076833844184875)\">Come</span>, old Man. Take him! \" He could no longer be silent but came later in <span style=\"color: rgba(255,0,0,0.8463560342788696)\">a</span> voice, a <span style=\"color: rgba(255,0,0,0.5571513175964355)\">cry</span>: \" The old Man! Ah! <span style=\"color: rgba(255,0,0,0.6109441518783569)\">the</span> <span style=\"color: rgba(255,0,0,0.5397642254829407)\">r</span>om"
      ],
      "text/plain": [
       "<IPython.core.display.HTML object>"
      ]
     },
     "metadata": {},
     "output_type": "display_data"
    },
    {
     "name": "stdout",
     "output_type": "stream",
     "text": [
      "bad_words ['later', 'his', 'Goethe', 'my', '##ux']\n",
      "bad_words ['ins']\n",
      "bad_words ['by', 'this', 'to']\n",
      "bad_words ['burst', 'they', 'done']\n",
      "bad_words ['he', ',', 'had']\n",
      "bad_words ['gone']\n",
      "bad_words ['better', 'who', 'of']\n",
      "bad_words ['Man', 'fool', 'all', 'this', 'breath', 'you']\n",
      "bad_words ['O', 'let']\n",
      "bad_words ['f', 'Well', 'acute']\n"
     ]
    },
    {
     "data": {
      "text/html": [
       "who is no longer my lover but he later composes himself, in these words: The old Man<span style=\"color: rgba(0,0,255,1)\">-</span>- -; a!-<span style=\"color: rgba(0,0,255,1)\">f</span>!-------But I have not what I want in---- -. -.. In a <span style=\"color: rgba(0,0,255,1)\">sudden</span> state of <span style=\"color: rgba(0,0,255,1)\">wild</span> passion and nudity, CHAP. CHAP. Who <span style=\"color: rgba(0,0,255,1)\">is</span> he? Do I shun? The ordinaries are lovable.<span style=\"color: rgba(0,0,255,1)\">.</span>.. <span style=\"color: rgba(0,0,255,1)\">Well</span>, old Man. Take care. \" He could no longer keep silent but <span style=\"color: rgba(0,0,255,1)\">came</span>, in a voice, a sigh: \" The old Man! Ah! I have"
      ],
      "text/plain": [
       "<IPython.core.display.HTML object>"
      ]
     },
     "metadata": {},
     "output_type": "display_data"
    },
    {
     "data": {
      "text/html": [
       "who is no longer my lover but he later composes himself, in these words: The old Man<span style=\"color: rgba(255,0,0,0.9443183541297913)\">-</span>- -; a!-<span style=\"color: rgba(255,0,0,0.982093334197998)\">-</span>!-------But I have not what I want in---- -. -.. In a <span style=\"color: rgba(255,0,0,0.5240445137023926)\">new</span> state of <span style=\"color: rgba(255,0,0,0.5658066868782043)\">mad</span> passion and nudity, CHAP. CHAP. Who <span style=\"color: rgba(255,0,0,0.9876514077186584)\">is</span> he? Do I shun? The ordinaries are lovable.<span style=\"color: rgba(255,0,0,0.9016321897506714)\">.</span>.. <span style=\"color: rgba(255,0,0,0.5947316288948059)\">Ah</span>, old Man. Take care. \" He could no longer keep silent but <span style=\"color: rgba(255,0,0,0.7350884675979614)\">said</span>, in a voice, a sigh: \" The old Man! Ah! I have <span style=\"color: rgba(255,0,0,0.5640071630477905)\">not</span>"
      ],
      "text/plain": [
       "<IPython.core.display.HTML object>"
      ]
     },
     "metadata": {},
     "output_type": "display_data"
    },
    {
     "name": "stdout",
     "output_type": "stream",
     "text": [
      "bad_words ['calm', 'moral']\n",
      "bad_words ['spare', 'new', 'clean', 'man']\n",
      "bad_words ['O', 'brilliant', 'shy', '!']\n",
      "bad_words ['silent', 'sad']\n",
      "bad_words ['mighty', 'ready']\n",
      "bad_words ['mad', 'glad', '.', 'Vampires']\n",
      "bad_words ['in', 'mid', 'solitary', '.', 'he']\n",
      "bad_words ['-', 'lovely', 'Al', 'whom']\n",
      "bad_words ['wish', 'glorious']\n",
      "bad_words ['by', 'certain']\n"
     ]
    },
    {
     "data": {
      "text/html": [
       "who is no longer my lover but he later abandons himself, <span style=\"color: rgba(0,0,255,1)\">by</span> these words: \" old Man----<span style=\"color: rgba(0,0,255,1)\">-</span>--Ah!-----<span style=\"color: rgba(0,0,255,1)\">-</span>-But I have <span style=\"color: rgba(0,0,255,1)\">done</span> what I will.---- -.--. In a <span style=\"color: rgba(0,0,255,1)\">certain</span> state of nakedness and nudity, CHAP. CHAP. Who is he<span style=\"color: rgba(0,0,255,1)\">?</span> Do I shun? The ordinaries are lo<span style=\"color: rgba(0,0,255,1)\">vable</span>.... Go the old Man. Take care. \" I could no longer keep silent but said, in a voice, a whisper: \" The old <span style=\"color: rgba(0,0,255,1)\">Man</span>! I! I have"
      ],
      "text/plain": [
       "<IPython.core.display.HTML object>"
      ]
     },
     "metadata": {},
     "output_type": "display_data"
    },
    {
     "data": {
      "text/html": [
       "who is no longer my lover but he later abandons himself, <span style=\"color: rgba(255,0,0,0.7757612466812134)\">in</span> these words: \" old Man----<span style=\"color: rgba(255,0,0,0.9961534738540649)\">-</span>--Ah!-----<span style=\"color: rgba(255,0,0,0.9997759461402893)\">-</span>-But I have <span style=\"color: rgba(255,0,0,0.9372087717056274)\">done</span> what I will.---- -.--. In a <span style=\"color: rgba(255,0,0,0.5782520174980164)\">perfect</span> state of nakedness and nudity, CHAP. CHAP. Who is he<span style=\"color: rgba(255,0,0,0.9754812717437744)\">?</span> Do I shun? The ordinaries are lo<span style=\"color: rgba(255,0,0,0.892427921295166)\">vable</span>.... Go the old Man. Take care. \" I could no longer keep silent but said, in a voice, a whisper: \" The old <span style=\"color: rgba(255,0,0,0.9685388207435608)\">Man</span>! I! I have not"
      ],
      "text/plain": [
       "<IPython.core.display.HTML object>"
      ]
     },
     "metadata": {},
     "output_type": "display_data"
    },
    {
     "name": "stdout",
     "output_type": "stream",
     "text": [
      "bad_words ['said', 'delicate']\n",
      "bad_words ['pledged', 'naked']\n",
      "bad_words ['delayed', 'intense', 'good']\n",
      "bad_words ['meant', '.', 'passive']\n",
      "bad_words ['perpetual']\n",
      "bad_words []\n",
      "bad_words ['tender', 'aloud']\n",
      "bad_words ['later', 'complete', 'remote', 'merely']\n",
      "bad_words ['frequently', 'three', 'simultaneous', 'seen']\n",
      "bad_words ['tentatively', 'and', 'strange', 'not']\n"
     ]
    },
    {
     "data": {
      "text/html": [
       "he is no longer my lover but who <span style=\"color: rgba(0,0,255,1)\">tentatively</span> abandons himself, in these words: The old Man-------Go!-------\" I have done <span style=\"color: rgba(0,0,255,1)\">and</span> I do.--------. In a <span style=\"color: rgba(0,0,255,1)\">strange</span> <span style=\"color: rgba(0,0,255,1)\">state</span> of restlessness and nudity, <span style=\"color: rgba(0,0,255,1)\">CH</span>AP. CHAP. Who is he<span style=\"color: rgba(0,0,255,1)\">?</span> Do I shou? The ordinaries are lovable.<span style=\"color: rgba(0,0,255,1)\">.</span>.. Go <span style=\"color: rgba(0,0,255,1)\">the</span> old Man. Take care! \" I could no longer keep silent but exclaimed<span style=\"color: rgba(0,0,255,1)\">,</span> in a voice, a whisper: \" The old Man! Go! I have"
      ],
      "text/plain": [
       "<IPython.core.display.HTML object>"
      ]
     },
     "metadata": {},
     "output_type": "display_data"
    },
    {
     "data": {
      "text/html": [
       "he is no longer my lover but who <span style=\"color: rgba(255,0,0,0.58976811170578)\">now</span> abandons himself, in these words: The old Man-------Go!-------\" I have done <span style=\"color: rgba(255,0,0,0.97723388671875)\">what</span> I do.--------. In a <span style=\"color: rgba(255,0,0,0.5549231171607971)\">last</span> <span style=\"color: rgba(255,0,0,0.928200364112854)\">state</span> of restlessness and nudity, <span style=\"color: rgba(255,0,0,0.9811503291130066)\">CH</span>AP. CHAP. Who is he<span style=\"color: rgba(255,0,0,0.996677041053772)\">?</span> Do I shou? The ordinaries are lovable.<span style=\"color: rgba(255,0,0,0.9954923987388611)\">.</span>.. Go<span style=\"color: rgba(255,0,0,0.9697594046592712)\">,</span> old Man. Take care! \" I could no longer keep silent but exclaimed<span style=\"color: rgba(255,0,0,0.9932453632354736)\">,</span> in a voice, a whisper: \" The old Man! Go! I have <span style=\"color: rgba(255,0,0,0.5433990359306335)\">not</span>"
      ],
      "text/plain": [
       "<IPython.core.display.HTML object>"
      ]
     },
     "metadata": {},
     "output_type": "display_data"
    },
    {
     "name": "stdout",
     "output_type": "stream",
     "text": [
      "bad_words ['quietly', 'disorder', 'the', 'able']\n",
      "bad_words ['die', 'furious', '##hou', 'that', 'received']\n",
      "bad_words ['severe', '##natch', 'it', 'a']\n",
      "bad_words ['supreme', 'exact', 'what', 'care', 'got']\n",
      "bad_words ['restless', 'sage', 'say', 'care', 'and']\n",
      "bad_words ['splendid', 'to']\n",
      "bad_words ['unnatural', 'sent']\n",
      "bad_words ['still', 'come']\n",
      "bad_words ['laughing', 'not']\n",
      "bad_words ['recovered']\n"
     ]
    },
    {
     "data": {
      "text/html": [
       "<span style=\"color: rgba(0,0,255,1)\">He</span> is no longer my lover but he now abandons me, in these words: The old Man-------Go!-<span style=\"color: rgba(0,0,255,1)\">-</span>-----\" I have done what I will.--------. In a perfect state of nakedness and <span style=\"color: rgba(0,0,255,1)\">n</span>udity, CHAP. CHAP. Who is I? Do's know. The ordinaries are lovable.... Go, old Man. <span style=\"color: rgba(0,0,255,1)\">Take</span> care! \" I could no longer <span style=\"color: rgba(0,0,255,1)\">keep</span> silent but <span style=\"color: rgba(0,0,255,1)\">cried</span> out in a voice, a whisper: \" The old Man! Go! I have"
      ],
      "text/plain": [
       "<IPython.core.display.HTML object>"
      ]
     },
     "metadata": {},
     "output_type": "display_data"
    },
    {
     "data": {
      "text/html": [
       "<span style=\"color: rgba(255,0,0,0.7049158215522766)\">he</span> is no longer my lover but he now abandons me, in these words: The old Man-------Go!-<span style=\"color: rgba(255,0,0,0.9998655319213867)\">-</span>-----\" I have done what I will.--------. In a perfect state of nakedness and <span style=\"color: rgba(255,0,0,0.9662041664123535)\">n</span>udity, CHAP. CHAP. Who is I? Do's know. The ordinaries are lovable.... Go, old Man. <span style=\"color: rgba(255,0,0,0.7699660062789917)\">Take</span> care! \" I could no longer <span style=\"color: rgba(255,0,0,0.9537935256958008)\">be</span> silent but <span style=\"color: rgba(255,0,0,0.6857490539550781)\">cry</span> out in a voice, a whisper: \" The old Man! Go! I have <span style=\"color: rgba(255,0,0,0.5544462203979492)\">done</span>"
      ],
      "text/plain": [
       "<IPython.core.display.HTML object>"
      ]
     },
     "metadata": {},
     "output_type": "display_data"
    },
    {
     "name": "stdout",
     "output_type": "stream",
     "text": [
      "bad_words ['lover', '\"', 'made']\n",
      "bad_words ['##a', 'And', 'sculpture', 'fashion', 'chosen']\n",
      "bad_words ['##far', 'want', 'been']\n",
      "bad_words ['Ah', 'ripped']\n",
      "bad_words ['crimson', 'never']\n",
      "bad_words ['##rden', 'that']\n",
      "bad_words ['wild', 'love']\n",
      "bad_words ['now', 'failed', 'fever']\n",
      "bad_words ['rarely', 'mad']\n",
      "bad_words ['remarkable']\n"
     ]
    },
    {
     "data": {
      "text/html": [
       "he is no longer my lover but he who abandons me, in these words: The old Man-------------<span style=\"color: rgba(0,0,255,1)\">-</span>---I have done what I wish.-<span style=\"color: rgba(0,0,255,1)\">-</span>------. In a <span style=\"color: rgba(0,0,255,1)\">remarkable</span> <span style=\"color: rgba(0,0,255,1)\">state</span> of nakedness and n<span style=\"color: rgba(0,0,255,1)\">udi</span>ty, CHAP. CHAP. Who is he? Do's see. The ordinaries are lovable.... Go the old Man. Take care! \" I could no longer be silent but cried out in a voice, to <span style=\"color: rgba(0,0,255,1)\">whisper</span>: \" The old Man! <span style=\"color: rgba(0,0,255,1)\">Go</span>. I have"
      ],
      "text/plain": [
       "<IPython.core.display.HTML object>"
      ]
     },
     "metadata": {},
     "output_type": "display_data"
    },
    {
     "data": {
      "text/html": [
       "he is no longer my lover but he who abandons me, in these words: The old Man-------------<span style=\"color: rgba(255,0,0,0.9997730851173401)\">-</span>---I have done what I wish.-<span style=\"color: rgba(255,0,0,0.9998493194580078)\">-</span>------. In a <span style=\"color: rgba(255,0,0,0.5307421684265137)\">singular</span> <span style=\"color: rgba(255,0,0,0.7017217874526978)\">state</span> of nakedness and n<span style=\"color: rgba(255,0,0,0.9995357990264893)\">udi</span>ty, CHAP. CHAP. Who is he? Do's see. The ordinaries are lovable.... Go the old Man. Take care! \" I could no longer be silent but cried out in a voice, to <span style=\"color: rgba(255,0,0,0.5614154934883118)\">myself</span>: \" The old Man! <span style=\"color: rgba(255,0,0,0.6070603132247925)\">go</span>. I have forgotten"
      ],
      "text/plain": [
       "<IPython.core.display.HTML object>"
      ]
     },
     "metadata": {},
     "output_type": "display_data"
    },
    {
     "name": "stdout",
     "output_type": "stream",
     "text": [
      "bad_words ['few']\n",
      "bad_words ['perpetual']\n",
      "bad_words ['cry']\n",
      "bad_words ['find', 'found', 'unity']\n",
      "bad_words ['him', 'me', 'flee']\n",
      "bad_words ['low', 'God', 'silent']\n",
      "bad_words []\n",
      "bad_words ['acts', 'action', 'roar']\n",
      "bad_words ['Marin', 'trial', 'she', 'notice', 'cries']\n",
      "bad_words ['I', 'accomplished', 'garments', 'sixth']\n"
     ]
    },
    {
     "data": {
      "text/html": [
       "<span style=\"color: rgba(0,0,255,1)\">I</span> is no longer my lover but he who abandons me, in <span style=\"color: rgba(0,0,255,1)\">those</span> words: The old Man-----------------I have <span style=\"color: rgba(0,0,255,1)\">accomplished</span> what I do.-----<span style=\"color: rgba(0,0,255,1)\">-</span>-<span style=\"color: rgba(0,0,255,1)\">-</span>. In the last <span style=\"color: rgba(0,0,255,1)\">garments</span> of nakedness and nudity, CHAP. CHAP. Who is he? Do's see. His ordinaries are lovable...<span style=\"color: rgba(0,0,255,1)\">.</span> Go the <span style=\"color: rgba(0,0,255,1)\">old</span> Man. Take <span style=\"color: rgba(0,0,255,1)\">sixth</span>. \" I could no longer be silent and cry out in a voice, to say: \" The old Man! \", I have"
      ],
      "text/plain": [
       "<IPython.core.display.HTML object>"
      ]
     },
     "metadata": {},
     "output_type": "display_data"
    },
    {
     "data": {
      "text/html": [
       "<span style=\"color: rgba(255,0,0,0.6930446028709412)\">he</span> is no longer my lover but he who abandons me, in <span style=\"color: rgba(255,0,0,0.6543455719947815)\">two</span> words: The old Man-----------------I have <span style=\"color: rgba(255,0,0,0.6881313920021057)\">done</span> what I do.-----<span style=\"color: rgba(255,0,0,0.999913215637207)\">-</span>-<span style=\"color: rgba(255,0,0,0.924741268157959)\">-</span>. In the last <span style=\"color: rgba(255,0,0,0.5594621896743774)\">moments</span> of nakedness and nudity, CHAP. CHAP. Who is he? Do's see. His ordinaries are lovable... <span style=\"color: rgba(255,0,0,0.6705459356307983)\">\"</span> Go the <span style=\"color: rgba(255,0,0,0.962708055973053)\">old</span> Man. Take <span style=\"color: rgba(255,0,0,0.70076984167099)\">him</span>. \" I could no longer be silent and cry out in a voice, to say: \" The old Man! \", I have forgotten"
      ],
      "text/plain": [
       "<IPython.core.display.HTML object>"
      ]
     },
     "metadata": {},
     "output_type": "display_data"
    },
    {
     "name": "stdout",
     "output_type": "stream",
     "text": [
      "bad_words [',', '-', 'care']\n",
      "bad_words ['love', 'love', 'Na']\n",
      "bad_words ['somebody', 'desire', '##liness']\n",
      "bad_words ['virgin', 'those', 'could']\n",
      "bad_words ['is', 'desired', 've']\n",
      "bad_words ['at']\n",
      "bad_words ['Strike', 'of', 'nothing']\n",
      "bad_words ['promised', 'youthful', 'II', 'He', 'got']\n",
      "bad_words ['International', 'to']\n",
      "bad_words ['captain', 'fresh', 'all']\n"
     ]
    }
   ],
   "source": []
  },
  {
   "cell_type": "code",
   "execution_count": null,
   "metadata": {},
   "outputs": [],
   "source": []
  },
  {
   "cell_type": "markdown",
   "metadata": {},
   "source": [
    "# TODO\n",
    "\n",
    "- show probability in next word logging. Record probability of each letter, then use them when displaying as html\n",
    "- try other ways of doing next word. E.g. going back and redoing, doing more than 1 at once\n",
    "- make the masked language generator often mask last word\n",
    "- should I be doing loss on just the masked words, or all? It's hard to tell from the tensorflow repo. This is marked with a TODO or FIXME in the code\n",
    "- add validation loss, since overfitting seems to be a factor\n",
    "- for eval, don't pad, just have a batch size of one. That may lead to better results\n",
    "- for eval, add some words, and let it fill in the blanks\n",
    "  - recursivly replace low confidence words?\n",
    "  - for this I may have to make it predict unmasked words?"
   ]
  },
  {
   "cell_type": "code",
   "execution_count": null,
   "metadata": {},
   "outputs": [],
   "source": []
  }
 ],
 "metadata": {
  "kernelspec": {
   "display_name": "Python [conda env:pytorch_p36]",
   "language": "python",
   "name": "conda-env-pytorch_p36-py"
  },
  "language_info": {
   "codemirror_mode": {
    "name": "ipython",
    "version": 3
   },
   "file_extension": ".py",
   "mimetype": "text/x-python",
   "name": "python",
   "nbconvert_exporter": "python",
   "pygments_lexer": "ipython3",
   "version": "3.6.5"
  },
  "notify_time": "5",
  "toc": {
   "colors": {
    "hover_highlight": "#DAA520",
    "navigate_num": "#000000",
    "navigate_text": "#333333",
    "running_highlight": "#FF0000",
    "selected_highlight": "#FFD700",
    "sidebar_border": "#EEEEEE",
    "wrapper_background": "#FFFFFF"
   },
   "moveMenuLeft": true,
   "nav_menu": {
    "height": "103px",
    "width": "251px"
   },
   "navigate_menu": true,
   "number_sections": true,
   "sideBar": true,
   "threshold": 4,
   "toc_cell": false,
   "toc_position": {
    "height": "536px",
    "left": "0px",
    "right": "1413.33px",
    "top": "150px",
    "width": "185px"
   },
   "toc_section_display": "block",
   "toc_window_display": true,
   "widenNotebook": false
  }
 },
 "nbformat": 4,
 "nbformat_minor": 2
}
