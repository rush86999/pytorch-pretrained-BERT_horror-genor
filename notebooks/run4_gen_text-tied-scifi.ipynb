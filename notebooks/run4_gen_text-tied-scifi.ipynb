{
 "cells": [
  {
   "cell_type": "markdown",
   "metadata": {},
   "source": [
    "https://arxiv.org/pdf/1810.04805.pdf"
   ]
  },
  {
   "cell_type": "code",
   "execution_count": 1,
   "metadata": {
    "ExecuteTime": {
     "end_time": "2018-11-13T01:57:20.298165Z",
     "start_time": "2018-11-13T01:57:20.295510Z"
    }
   },
   "outputs": [],
   "source": [
    "import os\n",
    "os.sys.path.append('..')"
   ]
  },
  {
   "cell_type": "code",
   "execution_count": 2,
   "metadata": {
    "ExecuteTime": {
     "end_time": "2018-11-13T01:57:20.717216Z",
     "start_time": "2018-11-13T01:57:20.300367Z"
    }
   },
   "outputs": [],
   "source": [
    "%matplotlib inline\n",
    "%reload_ext autoreload\n",
    "%autoreload 2"
   ]
  },
  {
   "cell_type": "code",
   "execution_count": 3,
   "metadata": {
    "ExecuteTime": {
     "end_time": "2018-11-13T01:57:21.023628Z",
     "start_time": "2018-11-13T01:57:20.719286Z"
    }
   },
   "outputs": [],
   "source": [
    "from __future__ import absolute_import\n",
    "from __future__ import division\n",
    "from __future__ import print_function\n",
    "\n",
    "import argparse\n",
    "import collections\n",
    "import logging\n",
    "import json\n",
    "import math\n",
    "import os\n",
    "import random\n",
    "import six\n",
    "from tqdm import tqdm_notebook as tqdm\n",
    "from IPython.display import HTML, display\n",
    "\n",
    "import numpy as np\n",
    "import torch\n",
    "import torch.nn as nn\n",
    "import torch.nn.functional as F\n",
    "from torch.utils.data import TensorDataset, DataLoader, RandomSampler, SequentialSampler\n",
    "from torch.utils.data.distributed import DistributedSampler\n",
    "\n",
    "import tokenization\n",
    "from modeling import BertConfig, BertForMaskedLanguageModelling\n",
    "from optimization import BERTAdam\n",
    "from masked_language_model import notqdm, convert_tokens_to_features, LMProcessor, predict_masked_words, predict_next_words\n"
   ]
  },
  {
   "cell_type": "code",
   "execution_count": 4,
   "metadata": {
    "ExecuteTime": {
     "end_time": "2018-11-13T01:57:21.047342Z",
     "start_time": "2018-11-13T01:57:21.026094Z"
    }
   },
   "outputs": [],
   "source": [
    "\n",
    "logging.basicConfig(format = '%(asctime)s - %(levelname)s - %(name)s -   %(message)s', \n",
    "                    datefmt = '%m/%d/%Y %H:%M:%S',\n",
    "                    level = logging.INFO)\n",
    "logger = logging.getLogger(__name__)"
   ]
  },
  {
   "cell_type": "code",
   "execution_count": null,
   "metadata": {
    "ExecuteTime": {
     "end_time": "2018-11-09T10:41:27.497266Z",
     "start_time": "2018-11-09T10:41:27.467141Z"
    }
   },
   "outputs": [],
   "source": []
  },
  {
   "cell_type": "markdown",
   "metadata": {},
   "source": [
    "# Args"
   ]
  },
  {
   "cell_type": "code",
   "execution_count": 5,
   "metadata": {
    "ExecuteTime": {
     "end_time": "2018-11-13T01:57:21.095286Z",
     "start_time": "2018-11-13T01:57:21.050225Z"
    }
   },
   "outputs": [
    {
     "data": {
      "text/plain": [
       "_StoreAction(option_strings=['--gradient_accumulation_steps'], dest='gradient_accumulation_steps', nargs=None, const=None, default=1, type=<class 'int'>, choices=None, help='Number of updates steps to accumualte before performing a backward/update pass.', metavar=None)"
      ]
     },
     "execution_count": 5,
     "metadata": {},
     "output_type": "execute_result"
    }
   ],
   "source": [
    "parser = argparse.ArgumentParser()\n",
    "\n",
    "## Required parameters\n",
    "parser.add_argument(\"--data_dir\",\n",
    "                    default=None,\n",
    "                    type=str,\n",
    "                    required=True,\n",
    "                    help=\"The input data dir. Should contain the .tsv files (or other data files) for the task.\")\n",
    "parser.add_argument(\"--bert_config_file\",\n",
    "                    default=None,\n",
    "                    type=str,\n",
    "                    required=True,\n",
    "                    help=\"The config json file corresponding to the pre-trained BERT model. \\n\"\n",
    "                         \"This specifies the model architecture.\")\n",
    "parser.add_argument(\"--task_name\",\n",
    "                    default=None,\n",
    "                    type=str,\n",
    "                    required=True,\n",
    "                    help=\"The name of the task to train.\")\n",
    "parser.add_argument(\"--vocab_file\",\n",
    "                    default=None,\n",
    "                    type=str,\n",
    "                    required=True,\n",
    "                    help=\"The vocabulary file that the BERT model was trained on.\")\n",
    "parser.add_argument(\"--output_dir\",\n",
    "                    default=None,\n",
    "                    type=str,\n",
    "                    required=True,\n",
    "                    help=\"The output directory where the model checkpoints will be written.\")\n",
    "\n",
    "## Other parameters\n",
    "parser.add_argument(\"--init_checkpoint\",\n",
    "                    default=None,\n",
    "                    type=str,\n",
    "                    help=\"Initial checkpoint (usually from a pre-trained BERT model).\")\n",
    "parser.add_argument(\"--do_lower_case\",\n",
    "                    default=False,\n",
    "                    action='store_true',\n",
    "                    help=\"Whether to lower case the input text. True for uncased models, False for cased models.\")\n",
    "parser.add_argument(\"--max_seq_length\",\n",
    "                    default=128,\n",
    "                    type=int,\n",
    "                    help=\"The maximum total input sequence length after WordPiece tokenization. \\n\"\n",
    "                         \"Sequences longer than this will be truncated, and sequences shorter \\n\"\n",
    "                         \"than this will be padded.\")\n",
    "parser.add_argument(\"--do_train\",\n",
    "                    default=False,\n",
    "                    action='store_true',\n",
    "                    help=\"Whether to run training.\")\n",
    "parser.add_argument(\"--do_eval\",\n",
    "                    default=False,\n",
    "                    action='store_true',\n",
    "                    help=\"Whether to run eval on the dev set.\")\n",
    "parser.add_argument(\"--train_batch_size\",\n",
    "                    default=32,\n",
    "                    type=int,\n",
    "                    help=\"Total batch size for training.\")\n",
    "parser.add_argument(\"--eval_batch_size\",\n",
    "                    default=8,\n",
    "                    type=int,\n",
    "                    help=\"Total batch size for eval.\")\n",
    "parser.add_argument(\"--learning_rate\",\n",
    "                    default=5e-5,\n",
    "                    type=float,\n",
    "                    help=\"The initial learning rate for Adam.\")\n",
    "parser.add_argument(\"--num_train_epochs\",\n",
    "                    default=3.0,\n",
    "                    type=float,\n",
    "                    help=\"Total number of training epochs to perform.\")\n",
    "parser.add_argument(\"--warmup_proportion\",\n",
    "                    default=0.1,\n",
    "                    type=float,\n",
    "                    help=\"Proportion of training to perform linear learning rate warmup for. \"\n",
    "                         \"E.g., 0.1 = 10%% of training.\")\n",
    "parser.add_argument(\"--no_cuda\",\n",
    "                    default=False,\n",
    "                    action='store_true',\n",
    "                    help=\"Whether not to use CUDA when available\")\n",
    "parser.add_argument(\"--local_rank\",\n",
    "                    type=int,\n",
    "                    default=-1,\n",
    "                    help=\"local_rank for distributed training on gpus\")\n",
    "parser.add_argument('--seed', \n",
    "                    type=int, \n",
    "                    default=42,\n",
    "                    help=\"random seed for initialization\")\n",
    "parser.add_argument('--gradient_accumulation_steps',\n",
    "                    type=int,\n",
    "                    default=1,\n",
    "                    help=\"Number of updates steps to accumualte before performing a backward/update pass.\") "
   ]
  },
  {
   "cell_type": "code",
   "execution_count": 6,
   "metadata": {
    "ExecuteTime": {
     "end_time": "2018-11-13T01:57:21.122886Z",
     "start_time": "2018-11-13T01:57:21.097485Z"
    }
   },
   "outputs": [
    {
     "name": "stdout",
     "output_type": "stream",
     "text": [
      "['--task_name', 'lm', '--data_dir', '../data/input/scifi_gutenberg', '--vocab_file', '../data/weights/cased_L-12_H-768_A-12/vocab.txt', '--bert_config_file', '../data/weights/cased_L-12_H-768_A-12/bert_config.json', '--init_checkpoint', '../data/weights/cased_L-12_H-768_A-12/pytorch_model.bin', '--do_train', '--do_eval', '--gradient_accumulation_steps', '2', '--train_batch_size', '16', '--learning_rate', '3e-5', '--num_train_epochs', '3.0', '--max_seq_length', '128', '--output_dir', '../outputs/scifi_cased_7_tied_mlm/']\n"
     ]
    }
   ],
   "source": [
    "experiment_name = 'scifi_cased_7_tied_mlm'\n",
    "\n",
    "argv = \"\"\"\n",
    "--task_name lm \\\n",
    "--data_dir {DATA_DIR} \\\n",
    "--vocab_file {BERT_BASE_DIR}/vocab.txt \\\n",
    "--bert_config_file {BERT_BASE_DIR}/bert_config.json \\\n",
    "--init_checkpoint {BERT_BASE_DIR}/pytorch_model.bin \\\n",
    "--do_train \\\n",
    "--do_eval \\\n",
    "--gradient_accumulation_steps 2 \\\n",
    "--train_batch_size 16 \\\n",
    "--learning_rate 3e-5 \\\n",
    "--num_train_epochs 3.0 \\\n",
    "--max_seq_length 128 \\\n",
    "--output_dir ../outputs/{name}/\n",
    "\"\"\".format(\n",
    "    BERT_BASE_DIR='../data/weights/cased_L-12_H-768_A-12',\n",
    "    DATA_DIR='../data/input/scifi_gutenberg',\n",
    "    name=experiment_name\n",
    ").replace('\\n', '').split(' ')\n",
    "print(argv)\n",
    "args = parser.parse_args(argv)"
   ]
  },
  {
   "cell_type": "code",
   "execution_count": null,
   "metadata": {
    "ExecuteTime": {
     "end_time": "2018-11-09T15:26:30.278170Z",
     "start_time": "2018-11-09T15:26:30.248424Z"
    }
   },
   "outputs": [],
   "source": []
  },
  {
   "cell_type": "markdown",
   "metadata": {},
   "source": [
    "# Init"
   ]
  },
  {
   "cell_type": "code",
   "execution_count": 7,
   "metadata": {
    "ExecuteTime": {
     "end_time": "2018-11-13T01:57:21.195298Z",
     "start_time": "2018-11-13T01:57:21.125084Z"
    }
   },
   "outputs": [
    {
     "name": "stderr",
     "output_type": "stream",
     "text": [
      "12/08/2018 10:37:05 - INFO - __main__ -   device cuda n_gpu 1 distributed training False\n"
     ]
    }
   ],
   "source": [
    "if args.local_rank == -1 or args.no_cuda:\n",
    "    device = torch.device(\"cuda\" if torch.cuda.is_available() and not args.no_cuda else \"cpu\")\n",
    "    n_gpu = torch.cuda.device_count()\n",
    "else:\n",
    "    device = torch.device(\"cuda\", args.local_rank)\n",
    "    n_gpu = 1\n",
    "    # Initializes the distributed backend which will take care of sychronizing nodes/GPUs\n",
    "    torch.distributed.init_process_group(backend='nccl')\n",
    "logger.info(\"device %s n_gpu %d distributed training %r\", device, n_gpu, bool(args.local_rank != -1))\n",
    "\n",
    "if args.gradient_accumulation_steps < 1:\n",
    "    raise ValueError(\"Invalid gradient_accumulation_steps parameter: {}, should be >= 1\".format(\n",
    "                        args.gradient_accumulation_steps))\n",
    "\n",
    "args.train_batch_size = int(args.train_batch_size / args.gradient_accumulation_steps)\n",
    "\n",
    "random.seed(args.seed)\n",
    "np.random.seed(args.seed)\n",
    "torch.manual_seed(args.seed)\n",
    "if n_gpu > 0:\n",
    "    torch.cuda.manual_seed_all(args.seed)\n",
    "\n",
    "if not args.do_train and not args.do_eval:\n",
    "    raise ValueError(\"At least one of `do_train` or `do_eval` must be True.\")"
   ]
  },
  {
   "cell_type": "code",
   "execution_count": 8,
   "metadata": {
    "ExecuteTime": {
     "end_time": "2018-11-13T01:57:21.224410Z",
     "start_time": "2018-11-13T01:57:21.198912Z"
    }
   },
   "outputs": [],
   "source": [
    "bert_config = BertConfig.from_json_file(args.bert_config_file)\n",
    "\n",
    "if args.max_seq_length > bert_config.max_position_embeddings:\n",
    "    raise ValueError(\n",
    "        \"Cannot use sequence length {} because the BERT model was only trained up to sequence length {}\".format(\n",
    "        args.max_seq_length, bert_config.max_position_embeddings))"
   ]
  },
  {
   "cell_type": "code",
   "execution_count": 9,
   "metadata": {
    "ExecuteTime": {
     "end_time": "2018-11-13T01:57:21.253227Z",
     "start_time": "2018-11-13T01:57:21.226818Z"
    }
   },
   "outputs": [
    {
     "data": {
      "text/plain": [
       "'../outputs/scifi_cased_7_tied_mlm/state_dict.pkl'"
      ]
     },
     "execution_count": 9,
     "metadata": {},
     "output_type": "execute_result"
    }
   ],
   "source": [
    "if os.path.exists(args.output_dir) and os.listdir(args.output_dir):\n",
    "    print(\"Output directory ({}) already exists and is not empty.\".format(args.output_dir))\n",
    "os.makedirs(args.output_dir, exist_ok=True)\n",
    "save_path = os.path.join(args.output_dir, 'state_dict.pkl')\n",
    "save_path"
   ]
  },
  {
   "cell_type": "markdown",
   "metadata": {},
   "source": [
    "# Load data"
   ]
  },
  {
   "cell_type": "code",
   "execution_count": 10,
   "metadata": {
    "ExecuteTime": {
     "end_time": "2018-11-13T01:57:21.326146Z",
     "start_time": "2018-11-13T01:57:21.255600Z"
    }
   },
   "outputs": [],
   "source": [
    "tokenizer = tokenization.FullTokenizer(\n",
    "    vocab_file=args.vocab_file, do_lower_case=args.do_lower_case)\n",
    "\n",
    "decoder = {v:k for k,v in tokenizer.wordpiece_tokenizer.vocab.items()}"
   ]
  },
  {
   "cell_type": "code",
   "execution_count": 11,
   "metadata": {
    "ExecuteTime": {
     "end_time": "2018-11-13T01:57:21.355098Z",
     "start_time": "2018-11-13T01:57:21.328899Z"
    }
   },
   "outputs": [],
   "source": [
    "processors = {\n",
    "        \"lm\": LMProcessor,\n",
    "}\n",
    "    \n",
    "task_name = args.task_name.lower()\n",
    "if task_name not in processors:\n",
    "        raise ValueError(\"Task not found: %s\" % (task_name))\n",
    "\n",
    "processor = processors[task_name](tokenizer=tokenizer)\n",
    "label_list = processor.get_labels()"
   ]
  },
  {
   "cell_type": "code",
   "execution_count": 12,
   "metadata": {
    "ExecuteTime": {
     "end_time": "2018-11-13T01:58:48.514022Z",
     "start_time": "2018-11-13T01:57:21.357795Z"
    }
   },
   "outputs": [
    {
     "data": {
      "application/vnd.jupyter.widget-view+json": {
       "model_id": "1f13eab60b0c412080afb4d5cee1258b",
       "version_major": 2,
       "version_minor": 0
      },
      "text/plain": [
       "HBox(children=(IntProgress(value=0, description='tokenising', max=605329, style=ProgressStyle(description_widt…"
      ]
     },
     "metadata": {},
     "output_type": "display_data"
    },
    {
     "name": "stdout",
     "output_type": "stream",
     "text": [
      "\n"
     ]
    },
    {
     "data": {
      "application/vnd.jupyter.widget-view+json": {
       "model_id": "28de4ae36d7642efa524301f35ef7415",
       "version_major": 2,
       "version_minor": 0
      },
      "text/plain": [
       "HBox(children=(IntProgress(value=0, description='chunking', max=1081957, style=ProgressStyle(description_width…"
      ]
     },
     "metadata": {},
     "output_type": "display_data"
    },
    {
     "name": "stdout",
     "output_type": "stream",
     "text": [
      "\n"
     ]
    }
   ],
   "source": [
    "train_examples = processor.get_train_examples(args.data_dir, skip=30, tqdm=tqdm)\n",
    "num_train_steps = int(\n",
    "    len(train_examples) / args.train_batch_size * args.num_train_epochs)"
   ]
  },
  {
   "cell_type": "code",
   "execution_count": null,
   "metadata": {
    "ExecuteTime": {
     "end_time": "2018-11-10T08:35:09.919396Z",
     "start_time": "2018-11-10T08:35:09.767935Z"
    }
   },
   "outputs": [],
   "source": []
  },
  {
   "cell_type": "code",
   "execution_count": 13,
   "metadata": {
    "ExecuteTime": {
     "end_time": "2018-11-13T01:58:49.803849Z",
     "start_time": "2018-11-13T01:58:48.516554Z"
    },
    "scrolled": true
   },
   "outputs": [
    {
     "data": {
      "application/vnd.jupyter.widget-view+json": {
       "model_id": "241bda43ae73482191d2f3ec80f22cb2",
       "version_major": 2,
       "version_minor": 0
      },
      "text/plain": [
       "HBox(children=(IntProgress(value=0, max=1081957), HTML(value='')))"
      ]
     },
     "metadata": {},
     "output_type": "display_data"
    },
    {
     "name": "stdout",
     "output_type": "stream",
     "text": [
      "\n"
     ]
    }
   ],
   "source": [
    "train_features = convert_tokens_to_features(\n",
    "    train_examples, label_list, args.max_seq_length, tokenizer, tqdm=tqdm)\n",
    "\n",
    "all_input_ids = torch.tensor([f.input_ids for f in train_features], dtype=torch.long)\n",
    "all_input_mask = torch.tensor([f.input_mask for f in train_features], dtype=torch.long)\n",
    "all_segment_ids = torch.tensor([f.segment_ids for f in train_features], dtype=torch.long)\n",
    "all_label_ids = torch.tensor([f.label_id for f in train_features], dtype=torch.long)\n",
    "all_label_weights = torch.tensor([f.label_weights for f in train_features], dtype=torch.long)"
   ]
  },
  {
   "cell_type": "code",
   "execution_count": null,
   "metadata": {
    "ExecuteTime": {
     "end_time": "2018-11-11T06:08:15.170422Z",
     "start_time": "2018-11-11T06:07:03.795167Z"
    }
   },
   "outputs": [],
   "source": []
  },
  {
   "cell_type": "code",
   "execution_count": 14,
   "metadata": {
    "ExecuteTime": {
     "end_time": "2018-11-13T01:58:49.833100Z",
     "start_time": "2018-11-13T01:58:49.806849Z"
    }
   },
   "outputs": [],
   "source": [
    "train_data = TensorDataset(all_input_ids, all_input_mask, all_segment_ids, all_label_ids, all_label_weights)\n",
    "if args.local_rank == -1:\n",
    "    train_sampler = RandomSampler(train_data)\n",
    "else:\n",
    "    train_sampler = DistributedSampler(train_data)\n",
    "train_dataloader = DataLoader(train_data, sampler=train_sampler, batch_size=args.train_batch_size)"
   ]
  },
  {
   "cell_type": "code",
   "execution_count": null,
   "metadata": {
    "ExecuteTime": {
     "end_time": "2018-11-10T06:50:42.333283Z",
     "start_time": "2018-11-10T06:50:42.311379Z"
    }
   },
   "outputs": [],
   "source": []
  },
  {
   "cell_type": "markdown",
   "metadata": {},
   "source": [
    "# Load model"
   ]
  },
  {
   "cell_type": "code",
   "execution_count": 15,
   "metadata": {
    "ExecuteTime": {
     "end_time": "2018-11-10T07:13:01.317704Z",
     "start_time": "2018-11-10T07:13:00.880718Z"
    }
   },
   "outputs": [
    {
     "data": {
      "text/plain": [
       "'../data/weights/cased_L-12_H-768_A-12/pytorch_model.bin'"
      ]
     },
     "execution_count": 15,
     "metadata": {},
     "output_type": "execute_result"
    }
   ],
   "source": [
    "args.init_checkpoint"
   ]
  },
  {
   "cell_type": "code",
   "execution_count": 16,
   "metadata": {},
   "outputs": [
    {
     "data": {
      "text/plain": [
       "'../outputs/scifi_cased_7_tied_mlm/state_dict.pkl'"
      ]
     },
     "execution_count": 16,
     "metadata": {},
     "output_type": "execute_result"
    }
   ],
   "source": [
    "save_path"
   ]
  },
  {
   "cell_type": "code",
   "execution_count": 17,
   "metadata": {
    "ExecuteTime": {
     "end_time": "2018-11-13T01:58:55.806611Z",
     "start_time": "2018-11-13T01:58:49.835295Z"
    }
   },
   "outputs": [
    {
     "data": {
      "text/plain": [
       "BertForMaskedLanguageModelling(\n",
       "  (bert): BertModel(\n",
       "    (embeddings): BERTEmbeddings(\n",
       "      (word_embeddings): Embedding(28996, 768)\n",
       "      (position_embeddings): Embedding(512, 768)\n",
       "      (token_type_embeddings): Embedding(2, 768)\n",
       "      (LayerNorm): BERTLayerNorm()\n",
       "      (dropout): Dropout(p=0.1)\n",
       "    )\n",
       "    (encoder): BERTEncoder(\n",
       "      (layer): ModuleList(\n",
       "        (0): BERTLayer(\n",
       "          (attention): BERTAttention(\n",
       "            (self): BERTSelfAttention(\n",
       "              (query): Linear(in_features=768, out_features=768, bias=True)\n",
       "              (key): Linear(in_features=768, out_features=768, bias=True)\n",
       "              (value): Linear(in_features=768, out_features=768, bias=True)\n",
       "              (dropout): Dropout(p=0.1)\n",
       "            )\n",
       "            (output): BERTSelfOutput(\n",
       "              (dense): Linear(in_features=768, out_features=768, bias=True)\n",
       "              (LayerNorm): BERTLayerNorm()\n",
       "              (dropout): Dropout(p=0.1)\n",
       "            )\n",
       "          )\n",
       "          (intermediate): BERTIntermediate(\n",
       "            (dense): Linear(in_features=768, out_features=3072, bias=True)\n",
       "          )\n",
       "          (output): BERTOutput(\n",
       "            (dense): Linear(in_features=3072, out_features=768, bias=True)\n",
       "            (LayerNorm): BERTLayerNorm()\n",
       "            (dropout): Dropout(p=0.1)\n",
       "          )\n",
       "        )\n",
       "        (1): BERTLayer(\n",
       "          (attention): BERTAttention(\n",
       "            (self): BERTSelfAttention(\n",
       "              (query): Linear(in_features=768, out_features=768, bias=True)\n",
       "              (key): Linear(in_features=768, out_features=768, bias=True)\n",
       "              (value): Linear(in_features=768, out_features=768, bias=True)\n",
       "              (dropout): Dropout(p=0.1)\n",
       "            )\n",
       "            (output): BERTSelfOutput(\n",
       "              (dense): Linear(in_features=768, out_features=768, bias=True)\n",
       "              (LayerNorm): BERTLayerNorm()\n",
       "              (dropout): Dropout(p=0.1)\n",
       "            )\n",
       "          )\n",
       "          (intermediate): BERTIntermediate(\n",
       "            (dense): Linear(in_features=768, out_features=3072, bias=True)\n",
       "          )\n",
       "          (output): BERTOutput(\n",
       "            (dense): Linear(in_features=3072, out_features=768, bias=True)\n",
       "            (LayerNorm): BERTLayerNorm()\n",
       "            (dropout): Dropout(p=0.1)\n",
       "          )\n",
       "        )\n",
       "        (2): BERTLayer(\n",
       "          (attention): BERTAttention(\n",
       "            (self): BERTSelfAttention(\n",
       "              (query): Linear(in_features=768, out_features=768, bias=True)\n",
       "              (key): Linear(in_features=768, out_features=768, bias=True)\n",
       "              (value): Linear(in_features=768, out_features=768, bias=True)\n",
       "              (dropout): Dropout(p=0.1)\n",
       "            )\n",
       "            (output): BERTSelfOutput(\n",
       "              (dense): Linear(in_features=768, out_features=768, bias=True)\n",
       "              (LayerNorm): BERTLayerNorm()\n",
       "              (dropout): Dropout(p=0.1)\n",
       "            )\n",
       "          )\n",
       "          (intermediate): BERTIntermediate(\n",
       "            (dense): Linear(in_features=768, out_features=3072, bias=True)\n",
       "          )\n",
       "          (output): BERTOutput(\n",
       "            (dense): Linear(in_features=3072, out_features=768, bias=True)\n",
       "            (LayerNorm): BERTLayerNorm()\n",
       "            (dropout): Dropout(p=0.1)\n",
       "          )\n",
       "        )\n",
       "        (3): BERTLayer(\n",
       "          (attention): BERTAttention(\n",
       "            (self): BERTSelfAttention(\n",
       "              (query): Linear(in_features=768, out_features=768, bias=True)\n",
       "              (key): Linear(in_features=768, out_features=768, bias=True)\n",
       "              (value): Linear(in_features=768, out_features=768, bias=True)\n",
       "              (dropout): Dropout(p=0.1)\n",
       "            )\n",
       "            (output): BERTSelfOutput(\n",
       "              (dense): Linear(in_features=768, out_features=768, bias=True)\n",
       "              (LayerNorm): BERTLayerNorm()\n",
       "              (dropout): Dropout(p=0.1)\n",
       "            )\n",
       "          )\n",
       "          (intermediate): BERTIntermediate(\n",
       "            (dense): Linear(in_features=768, out_features=3072, bias=True)\n",
       "          )\n",
       "          (output): BERTOutput(\n",
       "            (dense): Linear(in_features=3072, out_features=768, bias=True)\n",
       "            (LayerNorm): BERTLayerNorm()\n",
       "            (dropout): Dropout(p=0.1)\n",
       "          )\n",
       "        )\n",
       "        (4): BERTLayer(\n",
       "          (attention): BERTAttention(\n",
       "            (self): BERTSelfAttention(\n",
       "              (query): Linear(in_features=768, out_features=768, bias=True)\n",
       "              (key): Linear(in_features=768, out_features=768, bias=True)\n",
       "              (value): Linear(in_features=768, out_features=768, bias=True)\n",
       "              (dropout): Dropout(p=0.1)\n",
       "            )\n",
       "            (output): BERTSelfOutput(\n",
       "              (dense): Linear(in_features=768, out_features=768, bias=True)\n",
       "              (LayerNorm): BERTLayerNorm()\n",
       "              (dropout): Dropout(p=0.1)\n",
       "            )\n",
       "          )\n",
       "          (intermediate): BERTIntermediate(\n",
       "            (dense): Linear(in_features=768, out_features=3072, bias=True)\n",
       "          )\n",
       "          (output): BERTOutput(\n",
       "            (dense): Linear(in_features=3072, out_features=768, bias=True)\n",
       "            (LayerNorm): BERTLayerNorm()\n",
       "            (dropout): Dropout(p=0.1)\n",
       "          )\n",
       "        )\n",
       "        (5): BERTLayer(\n",
       "          (attention): BERTAttention(\n",
       "            (self): BERTSelfAttention(\n",
       "              (query): Linear(in_features=768, out_features=768, bias=True)\n",
       "              (key): Linear(in_features=768, out_features=768, bias=True)\n",
       "              (value): Linear(in_features=768, out_features=768, bias=True)\n",
       "              (dropout): Dropout(p=0.1)\n",
       "            )\n",
       "            (output): BERTSelfOutput(\n",
       "              (dense): Linear(in_features=768, out_features=768, bias=True)\n",
       "              (LayerNorm): BERTLayerNorm()\n",
       "              (dropout): Dropout(p=0.1)\n",
       "            )\n",
       "          )\n",
       "          (intermediate): BERTIntermediate(\n",
       "            (dense): Linear(in_features=768, out_features=3072, bias=True)\n",
       "          )\n",
       "          (output): BERTOutput(\n",
       "            (dense): Linear(in_features=3072, out_features=768, bias=True)\n",
       "            (LayerNorm): BERTLayerNorm()\n",
       "            (dropout): Dropout(p=0.1)\n",
       "          )\n",
       "        )\n",
       "        (6): BERTLayer(\n",
       "          (attention): BERTAttention(\n",
       "            (self): BERTSelfAttention(\n",
       "              (query): Linear(in_features=768, out_features=768, bias=True)\n",
       "              (key): Linear(in_features=768, out_features=768, bias=True)\n",
       "              (value): Linear(in_features=768, out_features=768, bias=True)\n",
       "              (dropout): Dropout(p=0.1)\n",
       "            )\n",
       "            (output): BERTSelfOutput(\n",
       "              (dense): Linear(in_features=768, out_features=768, bias=True)\n",
       "              (LayerNorm): BERTLayerNorm()\n",
       "              (dropout): Dropout(p=0.1)\n",
       "            )\n",
       "          )\n",
       "          (intermediate): BERTIntermediate(\n",
       "            (dense): Linear(in_features=768, out_features=3072, bias=True)\n",
       "          )\n",
       "          (output): BERTOutput(\n",
       "            (dense): Linear(in_features=3072, out_features=768, bias=True)\n",
       "            (LayerNorm): BERTLayerNorm()\n",
       "            (dropout): Dropout(p=0.1)\n",
       "          )\n",
       "        )\n",
       "        (7): BERTLayer(\n",
       "          (attention): BERTAttention(\n",
       "            (self): BERTSelfAttention(\n",
       "              (query): Linear(in_features=768, out_features=768, bias=True)\n",
       "              (key): Linear(in_features=768, out_features=768, bias=True)\n",
       "              (value): Linear(in_features=768, out_features=768, bias=True)\n",
       "              (dropout): Dropout(p=0.1)\n",
       "            )\n",
       "            (output): BERTSelfOutput(\n",
       "              (dense): Linear(in_features=768, out_features=768, bias=True)\n",
       "              (LayerNorm): BERTLayerNorm()\n",
       "              (dropout): Dropout(p=0.1)\n",
       "            )\n",
       "          )\n",
       "          (intermediate): BERTIntermediate(\n",
       "            (dense): Linear(in_features=768, out_features=3072, bias=True)\n",
       "          )\n",
       "          (output): BERTOutput(\n",
       "            (dense): Linear(in_features=3072, out_features=768, bias=True)\n",
       "            (LayerNorm): BERTLayerNorm()\n",
       "            (dropout): Dropout(p=0.1)\n",
       "          )\n",
       "        )\n",
       "        (8): BERTLayer(\n",
       "          (attention): BERTAttention(\n",
       "            (self): BERTSelfAttention(\n",
       "              (query): Linear(in_features=768, out_features=768, bias=True)\n",
       "              (key): Linear(in_features=768, out_features=768, bias=True)\n",
       "              (value): Linear(in_features=768, out_features=768, bias=True)\n",
       "              (dropout): Dropout(p=0.1)\n",
       "            )\n",
       "            (output): BERTSelfOutput(\n",
       "              (dense): Linear(in_features=768, out_features=768, bias=True)\n",
       "              (LayerNorm): BERTLayerNorm()\n",
       "              (dropout): Dropout(p=0.1)\n",
       "            )\n",
       "          )\n",
       "          (intermediate): BERTIntermediate(\n",
       "            (dense): Linear(in_features=768, out_features=3072, bias=True)\n",
       "          )\n",
       "          (output): BERTOutput(\n",
       "            (dense): Linear(in_features=3072, out_features=768, bias=True)\n",
       "            (LayerNorm): BERTLayerNorm()\n",
       "            (dropout): Dropout(p=0.1)\n",
       "          )\n",
       "        )\n",
       "        (9): BERTLayer(\n",
       "          (attention): BERTAttention(\n",
       "            (self): BERTSelfAttention(\n",
       "              (query): Linear(in_features=768, out_features=768, bias=True)\n",
       "              (key): Linear(in_features=768, out_features=768, bias=True)\n",
       "              (value): Linear(in_features=768, out_features=768, bias=True)\n",
       "              (dropout): Dropout(p=0.1)\n",
       "            )\n",
       "            (output): BERTSelfOutput(\n",
       "              (dense): Linear(in_features=768, out_features=768, bias=True)\n",
       "              (LayerNorm): BERTLayerNorm()\n",
       "              (dropout): Dropout(p=0.1)\n",
       "            )\n",
       "          )\n",
       "          (intermediate): BERTIntermediate(\n",
       "            (dense): Linear(in_features=768, out_features=3072, bias=True)\n",
       "          )\n",
       "          (output): BERTOutput(\n",
       "            (dense): Linear(in_features=3072, out_features=768, bias=True)\n",
       "            (LayerNorm): BERTLayerNorm()\n",
       "            (dropout): Dropout(p=0.1)\n",
       "          )\n",
       "        )\n",
       "        (10): BERTLayer(\n",
       "          (attention): BERTAttention(\n",
       "            (self): BERTSelfAttention(\n",
       "              (query): Linear(in_features=768, out_features=768, bias=True)\n",
       "              (key): Linear(in_features=768, out_features=768, bias=True)\n",
       "              (value): Linear(in_features=768, out_features=768, bias=True)\n",
       "              (dropout): Dropout(p=0.1)\n",
       "            )\n",
       "            (output): BERTSelfOutput(\n",
       "              (dense): Linear(in_features=768, out_features=768, bias=True)\n",
       "              (LayerNorm): BERTLayerNorm()\n",
       "              (dropout): Dropout(p=0.1)\n",
       "            )\n",
       "          )\n",
       "          (intermediate): BERTIntermediate(\n",
       "            (dense): Linear(in_features=768, out_features=3072, bias=True)\n",
       "          )\n",
       "          (output): BERTOutput(\n",
       "            (dense): Linear(in_features=3072, out_features=768, bias=True)\n",
       "            (LayerNorm): BERTLayerNorm()\n",
       "            (dropout): Dropout(p=0.1)\n",
       "          )\n",
       "        )\n",
       "        (11): BERTLayer(\n",
       "          (attention): BERTAttention(\n",
       "            (self): BERTSelfAttention(\n",
       "              (query): Linear(in_features=768, out_features=768, bias=True)\n",
       "              (key): Linear(in_features=768, out_features=768, bias=True)\n",
       "              (value): Linear(in_features=768, out_features=768, bias=True)\n",
       "              (dropout): Dropout(p=0.1)\n",
       "            )\n",
       "            (output): BERTSelfOutput(\n",
       "              (dense): Linear(in_features=768, out_features=768, bias=True)\n",
       "              (LayerNorm): BERTLayerNorm()\n",
       "              (dropout): Dropout(p=0.1)\n",
       "            )\n",
       "          )\n",
       "          (intermediate): BERTIntermediate(\n",
       "            (dense): Linear(in_features=768, out_features=3072, bias=True)\n",
       "          )\n",
       "          (output): BERTOutput(\n",
       "            (dense): Linear(in_features=3072, out_features=768, bias=True)\n",
       "            (LayerNorm): BERTLayerNorm()\n",
       "            (dropout): Dropout(p=0.1)\n",
       "          )\n",
       "        )\n",
       "      )\n",
       "    )\n",
       "    (pooler): BERTPooler(\n",
       "      (dense): Linear(in_features=768, out_features=768, bias=True)\n",
       "      (activation): Tanh()\n",
       "    )\n",
       "  )\n",
       "  (dropout): Dropout(p=0.1)\n",
       "  (dense): Linear(in_features=768, out_features=768, bias=True)\n",
       "  (LayerNorm): BERTLayerNorm()\n",
       "  (word_decode): Linear(in_features=768, out_features=28996, bias=True)\n",
       ")"
      ]
     },
     "execution_count": 17,
     "metadata": {},
     "output_type": "execute_result"
    }
   ],
   "source": [
    "model = BertForMaskedLanguageModelling(bert_config)\n",
    "if args.init_checkpoint is not None:\n",
    "    model.bert.load_state_dict(torch.load(args.init_checkpoint, map_location='cpu'))\n",
    "    \n",
    "if os.path.isfile(save_path):\n",
    "    model.load_state_dict(torch.load(save_path, map_location='cpu'))\n",
    "    \n",
    "model.to(device)\n",
    "\n",
    "if args.local_rank != -1:\n",
    "    model = torch.nn.parallel.DistributedDataParallel(model, device_ids=[args.local_rank],\n",
    "                                                      output_device=args.local_rank)\n",
    "elif n_gpu > 1:\n",
    "    model = torch.nn.DataParallel(model)\n",
    "    \n",
    "model"
   ]
  },
  {
   "cell_type": "markdown",
   "metadata": {},
   "source": [
    "# Opt"
   ]
  },
  {
   "cell_type": "code",
   "execution_count": 18,
   "metadata": {
    "ExecuteTime": {
     "end_time": "2018-11-13T01:58:55.835458Z",
     "start_time": "2018-11-13T01:58:55.809563Z"
    }
   },
   "outputs": [],
   "source": [
    "no_decay = ['bias', 'gamma', 'beta']\n",
    "optimizer_parameters = [\n",
    "    {'params': [p for n, p in model.named_parameters() if n not in no_decay], 'weight_decay_rate': 0.01},\n",
    "    {'params': [p for n, p in model.named_parameters() if n in no_decay], 'weight_decay_rate': 0.0}\n",
    "    ]\n",
    "\n",
    "optimizer = BERTAdam(optimizer_parameters,\n",
    "                     lr=args.learning_rate,\n",
    "                     warmup=args.warmup_proportion,\n",
    "                t_total=num_train_steps)"
   ]
  },
  {
   "cell_type": "code",
   "execution_count": null,
   "metadata": {},
   "outputs": [],
   "source": []
  },
  {
   "cell_type": "markdown",
   "metadata": {},
   "source": [
    "# Train 3"
   ]
  },
  {
   "cell_type": "code",
   "execution_count": 19,
   "metadata": {},
   "outputs": [
    {
     "data": {
      "text/html": [
       "The next day I was somewhat somnolent, of which you may be sure Miss Frankland took no notice. She retired to her own room when next day I was somewhat somnolent, of which you may be sure Miss Frankland took no notice. She retired to her own room when went for our recreation. My friends scolded me for not coming to them the previous night, but I told them that my parents had continued to move about her room for so long a time that I had fallen fast asleep, and even then had not had enough, as they might have observed how sleepy I had been all day <span style=\"color: rgba(255,0,0,1)\">Willem</span> <span style=\"color: rgba(255,0,0,1)\">anthology</span><span style=\"color: rgba(255,0,0,1)\">φ</span> <span style=\"color: rgba(255,0,0,1)\">Scandinavian</span><span style=\"color: rgba(255,0,0,1)\">cal</span> <span style=\"color: rgba(255,0,0,1)\">dramatically</span> <span style=\"color: rgba(255,0,0,1)\">Afghanistan</span><span style=\"color: rgba(255,0,0,1)\">taking</span><span style=\"color: rgba(255,0,0,1)\">naire</span> <span style=\"color: rgba(255,0,0,1)\">actively</span> <span style=\"color: rgba(255,0,0,1)\">ON</span> <span style=\"color: rgba(255,0,0,1)\">Île</span> <span style=\"color: rgba(255,0,0,1)\">Tracy</span><span style=\"color: rgba(255,0,0,1)\">pole</span> <span style=\"color: rgba(255,0,0,1)\">sipped</span> <span style=\"color: rgba(255,0,0,1)\">Brigham</span> <span style=\"color: rgba(255,0,0,1)\">Palazzo</span> <span style=\"color: rgba(255,0,0,1)\">Regarding</span> <span style=\"color: rgba(255,0,0,1)\">washed</span> <span style=\"color: rgba(255,0,0,1)\">Tommy</span> <span style=\"color: rgba(255,0,0,1)\">deficiency</span> <span style=\"color: rgba(255,0,0,1)\">Spencer</span> <span style=\"color: rgba(255,0,0,1)\">rose</span><span style=\"color: rgba(255,0,0,1)\">zers</span> <span style=\"color: rgba(255,0,0,1)\">Science</span><span style=\"color: rgba(255,0,0,1)\">竹</span><span style=\"color: rgba(255,0,0,1)\">Ps</span> <span style=\"color: rgba(255,0,0,1)\">302</span> <span style=\"color: rgba(255,0,0,1)\">Herr</span> <span style=\"color: rgba(255,0,0,1)\">Heard</span>"
      ],
      "text/plain": [
       "<IPython.core.display.HTML object>"
      ]
     },
     "metadata": {},
     "output_type": "display_data"
    }
   ],
   "source": [
    "val_test=\"\"\"The next day I was somewhat somnolent, of which you may be sure Miss Frankland took no notice. She retired to her own room when we went for our recreation. My friends scolded me for not coming to them the previous night, but I told them that my parents had continued to move about her room for so long a time that I had fallen fast asleep, and even then had not had enough, as they might have observed how sleepy I had been all day.\"\"\"\n",
    "display(predict_next_words(val_test, processor, tokenizer, model, max_seq_length=args.max_seq_length, n=30, T=1, device=device))"
   ]
  },
  {
   "cell_type": "code",
   "execution_count": null,
   "metadata": {},
   "outputs": [],
   "source": []
  },
  {
   "cell_type": "code",
   "execution_count": null,
   "metadata": {},
   "outputs": [],
   "source": []
  },
  {
   "cell_type": "code",
   "execution_count": 20,
   "metadata": {
    "ExecuteTime": {
     "end_time": "2018-11-13T01:58:57.397437Z",
     "start_time": "2018-11-13T01:58:55.837586Z"
    },
    "scrolled": true
   },
   "outputs": [
    {
     "data": {
      "text/html": [
       "The next day I was somewhat somnolent, of which you may be sure Miss Frankland took next day I was somewhat somnolent, of which you may be sure Miss Frankland took notice. She retired to her own room when we went for our recreation. My friends scolded me for not coming to them the previous night, but I told them that my parents had continued to move about her room for so long a time that I had fallen fast asleep, and even then had not had enough, as they might have observed how sleepy I had been all day<span style=\"color: rgba(255,0,0,1)\">iation</span> <span style=\"color: rgba(255,0,0,1)\">commercially</span> <span style=\"color: rgba(255,0,0,1)\">Ș</span><span style=\"color: rgba(255,0,0,1)\">enbach</span> <span style=\"color: rgba(255,0,0,1)\">[unused64]</span> <span style=\"color: rgba(255,0,0,1)\">Amnesty</span> <span style=\"color: rgba(255,0,0,1)\">1750</span> <span style=\"color: rgba(255,0,0,1)\">spurred</span> <span style=\"color: rgba(255,0,0,1)\">Butler</span> <span style=\"color: rgba(255,0,0,1)\">seventy</span> <span style=\"color: rgba(255,0,0,1)\">Addison</span> <span style=\"color: rgba(255,0,0,1)\">pulsing</span> <span style=\"color: rgba(255,0,0,1)\">Cambodia</span> <span style=\"color: rgba(255,0,0,1)\">tunnels</span> <span style=\"color: rgba(255,0,0,1)\">vibrant</span> <span style=\"color: rgba(255,0,0,1)\">prehistoric</span> <span style=\"color: rgba(255,0,0,1)\">prophecy</span><span style=\"color: rgba(255,0,0,1)\">cence</span> <span style=\"color: rgba(255,0,0,1)\">mutant</span> <span style=\"color: rgba(255,0,0,1)\">U2</span>"
      ],
      "text/plain": [
       "<IPython.core.display.HTML object>"
      ]
     },
     "metadata": {},
     "output_type": "display_data"
    }
   ],
   "source": [
    "# val_test=\"\"\"The next day I was somewhat somnolent, of which you may be sure Miss Frankland took no notice. She retired to her own room when we went for our recreation. My sisters scolded me for not coming to them the previous night, but I told them that Miss F. had continued to move about her room for so long a time that I had fallen fast asleep, and even then had not had enough, as they might have observed how sleepy I had been all\"\"\"\n",
    "display(predict_next_words(val_test, processor, tokenizer, model, max_seq_length=args.max_seq_length, n=20, T=1, device=device))"
   ]
  },
  {
   "cell_type": "code",
   "execution_count": null,
   "metadata": {},
   "outputs": [],
   "source": []
  },
  {
   "cell_type": "code",
   "execution_count": 21,
   "metadata": {
    "ExecuteTime": {
     "end_time": "2018-11-13T01:58:57.526350Z",
     "start_time": "2018-11-13T01:58:57.400186Z"
    }
   },
   "outputs": [
    {
     "data": {
      "text/html": [
       "The next day I was somewhat so<span style=\"color: rgba(0,0,255,1)\">m</span>nolent, of which you may be <span style=\"color: rgba(0,0,255,1)\">sure</span> Miss Frankland took no notice. She retired to her own room when we went for our recreation. My friends sco<span style=\"color: rgba(0,0,255,1)\">lded</span> me for not coming to them the previous night, but I told them that my parents had continued to move about her room for so long a time that I had fallen fast asleep, <span style=\"color: rgba(0,0,255,1)\">and</span> even then had not had enough, as they <span style=\"color: rgba(0,0,255,1)\">might</span> have observed how sleepy I had been all <span style=\"color: rgba(0,0,255,1)\">day</span>"
      ],
      "text/plain": [
       "<IPython.core.display.HTML object>"
      ]
     },
     "metadata": {},
     "output_type": "display_data"
    },
    {
     "data": {
      "text/html": [
       "The next day I was somewhat so <span style=\"color: rgba(255,0,0,0.5017224550247192)\">Slowly</span>nolent, of which you may be <span style=\"color: rgba(255,0,0,0.5009612441062927)\">offer</span> Miss Frankland took no notice. She retired to her own room when we went for our recreation. My friends sco <span style=\"color: rgba(255,0,0,0.5013490915298462)\">streak</span> me for not coming to them the previous night, but I told them that my parents had continued to move about her room for so long a time that I had fallen fast asleep, <span style=\"color: rgba(255,0,0,0.5012556314468384)\">costing</span> even then had not had enough, as they<span style=\"color: rgba(255,0,0,0.5011866092681885)\">ľ</span> have observed how sleepy I had been all<span style=\"color: rgba(255,0,0,0.5023146867752075)\">zee</span>"
      ],
      "text/plain": [
       "<IPython.core.display.HTML object>"
      ]
     },
     "metadata": {},
     "output_type": "display_data"
    },
    {
     "data": {
      "text/plain": [
       "None"
      ]
     },
     "metadata": {},
     "output_type": "display_data"
    }
   ],
   "source": [
    "display(predict_masked_words(val_test, processor, tokenizer, model, device=device, max_seq_length=args.max_seq_length))"
   ]
  },
  {
   "cell_type": "code",
   "execution_count": 22,
   "metadata": {
    "ExecuteTime": {
     "end_time": "2018-11-13T01:58:57.549656Z",
     "start_time": "2018-11-13T01:58:57.528646Z"
    }
   },
   "outputs": [],
   "source": [
    "global_step = 0"
   ]
  },
  {
   "cell_type": "code",
   "execution_count": 45,
   "metadata": {
    "ExecuteTime": {
     "end_time": "2018-11-13T01:58:57.933014Z",
     "start_time": "2018-11-13T01:58:57.552204Z"
    },
    "scrolled": true
   },
   "outputs": [
    {
     "data": {
      "application/vnd.jupyter.widget-view+json": {
       "model_id": "143b7d47d0e44e5c80fd5f8c98ed4802",
       "version_major": 2,
       "version_minor": 0
      },
      "text/plain": [
       "HBox(children=(IntProgress(value=0, description='Epoch', max=3, style=ProgressStyle(description_width='initial…"
      ]
     },
     "metadata": {},
     "output_type": "display_data"
    },
    {
     "data": {
      "application/vnd.jupyter.widget-view+json": {
       "model_id": "7c743573374348e8a18bd7d130412a55",
       "version_major": 2,
       "version_minor": 0
      },
      "text/plain": [
       "HBox(children=(IntProgress(value=0, description='Iteration', max=135245, style=ProgressStyle(description_width…"
      ]
     },
     "metadata": {},
     "output_type": "display_data"
    },
    {
     "name": "stdout",
     "output_type": "stream",
     "text": [
      "step 10 loss 0.12522891908884048\n"
     ]
    },
    {
     "data": {
      "text/html": [
       "<span style=\"color: rgba(0,0,255,1)\">All</span> at once, in a moment of realisation, he knew the secret to creating true artificial <span style=\"color: rgba(0,0,255,1)\">intelligence</span>"
      ],
      "text/plain": [
       "<IPython.core.display.HTML object>"
      ]
     },
     "metadata": {},
     "output_type": "display_data"
    },
    {
     "data": {
      "text/html": [
       "<span style=\"color: rgba(255,0,0,0.6070922613143921)\">and</span> at once, in a moment of realisation, he knew the secret to creating true artificial <span style=\"color: rgba(255,0,0,0.5669963359832764)\">life</span>"
      ],
      "text/plain": [
       "<IPython.core.display.HTML object>"
      ]
     },
     "metadata": {},
     "output_type": "display_data"
    },
    {
     "data": {
      "text/plain": [
       "None"
      ]
     },
     "metadata": {},
     "output_type": "display_data"
    },
    {
     "data": {
      "text/html": [
       "All at once, in a moment of realisation, at once, in a moment of realisation, knew the secret to creating true artificial intelligence <span style=\"color: rgba(255,0,0,1)\">\"</span> <span style=\"color: rgba(255,0,0,1)\">When</span> <span style=\"color: rgba(255,0,0,1)\">was</span> <span style=\"color: rgba(255,0,0,1)\">the</span> <span style=\"color: rgba(255,0,0,1)\">last</span> <span style=\"color: rgba(255,0,0,1)\">over</span> <span style=\"color: rgba(255,0,0,1)\">\"</span> <span style=\"color: rgba(255,0,0,1)\">\"</span> <span style=\"color: rgba(255,0,0,1)\">\"</span> <span style=\"color: rgba(255,0,0,1)\">\"</span>"
      ],
      "text/plain": [
       "<IPython.core.display.HTML object>"
      ]
     },
     "metadata": {},
     "output_type": "display_data"
    },
    {
     "name": "stdout",
     "output_type": "stream",
     "text": [
      "step 3010 loss 0.12293537592887878\n"
     ]
    },
    {
     "data": {
      "text/html": [
       "All at once, <span style=\"color: rgba(0,0,255,1)\">in</span> <span style=\"color: rgba(0,0,255,1)\">a</span> moment of realisation, he knew the secret to creating true artificial <span style=\"color: rgba(0,0,255,1)\">intelligence</span>"
      ],
      "text/plain": [
       "<IPython.core.display.HTML object>"
      ]
     },
     "metadata": {},
     "output_type": "display_data"
    },
    {
     "data": {
      "text/html": [
       "All at once, <span style=\"color: rgba(255,0,0,0.7375515103340149)\">at</span> <span style=\"color: rgba(255,0,0,0.9276392459869385)\">the</span> moment of realisation, he knew the secret to creating true artificial <span style=\"color: rgba(255,0,0,0.8742320537567139)\">intelligence</span>"
      ],
      "text/plain": [
       "<IPython.core.display.HTML object>"
      ]
     },
     "metadata": {},
     "output_type": "display_data"
    },
    {
     "data": {
      "text/plain": [
       "None"
      ]
     },
     "metadata": {},
     "output_type": "display_data"
    },
    {
     "data": {
      "text/html": [
       "All at once, in a moment of realisation, at once, in a moment of realisation, knew the secret to creating true artificial intelligence <span style=\"color: rgba(255,0,0,1)\">Past</span> <span style=\"color: rgba(255,0,0,1)\">clothes</span> <span style=\"color: rgba(255,0,0,1)\">manner</span> <span style=\"color: rgba(255,0,0,1)\">man</span> <span style=\"color: rgba(255,0,0,1)\">inhabit</span> <span style=\"color: rgba(255,0,0,1)\">am</span> <span style=\"color: rgba(255,0,0,1)\">his</span> <span style=\"color: rgba(255,0,0,1)\">logical</span> <span style=\"color: rgba(255,0,0,1)\">for</span> <span style=\"color: rgba(255,0,0,1)\">that</span>"
      ],
      "text/plain": [
       "<IPython.core.display.HTML object>"
      ]
     },
     "metadata": {},
     "output_type": "display_data"
    },
    {
     "name": "stdout",
     "output_type": "stream",
     "text": [
      "step 6010 loss 0.12341079488148292\n"
     ]
    },
    {
     "data": {
      "text/html": [
       "All at once, in a moment of realisation<span style=\"color: rgba(0,0,255,1)\">,</span> he knew the secret to creating true artificial <span style=\"color: rgba(0,0,255,1)\">intelligence</span>"
      ],
      "text/plain": [
       "<IPython.core.display.HTML object>"
      ]
     },
     "metadata": {},
     "output_type": "display_data"
    },
    {
     "data": {
      "text/html": [
       "All at once, in a moment of realisation<span style=\"color: rgba(255,0,0,0.9877555966377258)\">,</span> he knew the secret to creating true artificial <span style=\"color: rgba(255,0,0,0.543965220451355)\">life</span>"
      ],
      "text/plain": [
       "<IPython.core.display.HTML object>"
      ]
     },
     "metadata": {},
     "output_type": "display_data"
    },
    {
     "data": {
      "text/plain": [
       "None"
      ]
     },
     "metadata": {},
     "output_type": "display_data"
    },
    {
     "data": {
      "text/html": [
       "All at once, in a moment of realisation, at once, in a moment of realisation, knew the secret to creating true artificial intelligence <span style=\"color: rgba(255,0,0,1)\">But</span> <span style=\"color: rgba(255,0,0,1)\">he</span><span style=\"color: rgba(255,0,0,1)\">,</span> <span style=\"color: rgba(255,0,0,1)\">miracle</span> <span style=\"color: rgba(255,0,0,1)\">was</span> <span style=\"color: rgba(255,0,0,1)\">human</span> <span style=\"color: rgba(255,0,0,1)\">the</span> <span style=\"color: rgba(255,0,0,1)\">He</span><span style=\"color: rgba(255,0,0,1)\">.</span> <span style=\"color: rgba(255,0,0,1)\">had</span>"
      ],
      "text/plain": [
       "<IPython.core.display.HTML object>"
      ]
     },
     "metadata": {},
     "output_type": "display_data"
    },
    {
     "name": "stdout",
     "output_type": "stream",
     "text": [
      "step 9010 loss 0.12275154758120577\n"
     ]
    },
    {
     "data": {
      "text/html": [
       "All at once, in a moment <span style=\"color: rgba(0,0,255,1)\">of</span> realisation, he knew <span style=\"color: rgba(0,0,255,1)\">the</span> secret to creating true <span style=\"color: rgba(0,0,255,1)\">artificial</span> <span style=\"color: rgba(0,0,255,1)\">intelligence</span>"
      ],
      "text/plain": [
       "<IPython.core.display.HTML object>"
      ]
     },
     "metadata": {},
     "output_type": "display_data"
    },
    {
     "data": {
      "text/html": [
       "All at once, in a moment <span style=\"color: rgba(255,0,0,0.927075982093811)\">of</span> realisation, he knew <span style=\"color: rgba(255,0,0,0.9707392454147339)\">the</span> secret to creating true <span style=\"color: rgba(255,0,0,0.5817177891731262)\">life</span><span style=\"color: rgba(255,0,0,0.7052865028381348)\">.</span>"
      ],
      "text/plain": [
       "<IPython.core.display.HTML object>"
      ]
     },
     "metadata": {},
     "output_type": "display_data"
    },
    {
     "data": {
      "text/plain": [
       "None"
      ]
     },
     "metadata": {},
     "output_type": "display_data"
    },
    {
     "data": {
      "text/html": [
       "All at once, in a moment of realisation, at once, in a moment of realisation, knew the secret to creating true artificial intelligence <span style=\"color: rgba(255,0,0,1)\">him</span> <span style=\"color: rgba(255,0,0,1)\">he</span> <span style=\"color: rgba(255,0,0,1)\">to</span> <span style=\"color: rgba(255,0,0,1)\">alone</span><span style=\"color: rgba(255,0,0,1)\">inhabited</span><span style=\"color: rgba(255,0,0,1)\">.</span> <span style=\"color: rgba(255,0,0,1)\">the</span> <span style=\"color: rgba(255,0,0,1)\">self</span> <span style=\"color: rgba(255,0,0,1)\">mind</span><span style=\"color: rgba(255,0,0,1)\">,</span>"
      ],
      "text/plain": [
       "<IPython.core.display.HTML object>"
      ]
     },
     "metadata": {},
     "output_type": "display_data"
    },
    {
     "name": "stdout",
     "output_type": "stream",
     "text": [
      "step 12010 loss 0.12263300655782222\n"
     ]
    },
    {
     "data": {
      "text/html": [
       "All at once, in a moment of realisation, <span style=\"color: rgba(0,0,255,1)\">he</span> <span style=\"color: rgba(0,0,255,1)\">knew</span> the secret to creating true artificial <span style=\"color: rgba(0,0,255,1)\">intelligence</span>"
      ],
      "text/plain": [
       "<IPython.core.display.HTML object>"
      ]
     },
     "metadata": {},
     "output_type": "display_data"
    },
    {
     "data": {
      "text/html": [
       "All at once, in a moment of realisation, <span style=\"color: rgba(255,0,0,0.6222631931304932)\">he</span> <span style=\"color: rgba(255,0,0,0.5481765866279602)\">had</span> the secret to creating true artificial <span style=\"color: rgba(255,0,0,0.5458206534385681)\">matter</span>"
      ],
      "text/plain": [
       "<IPython.core.display.HTML object>"
      ]
     },
     "metadata": {},
     "output_type": "display_data"
    },
    {
     "data": {
      "text/plain": [
       "None"
      ]
     },
     "metadata": {},
     "output_type": "display_data"
    },
    {
     "data": {
      "text/html": [
       "All at once, in a moment of realisation, at once, in a moment of realisation, knew the secret to creating true artificial intelligence <span style=\"color: rgba(255,0,0,1)\">him</span> <span style=\"color: rgba(255,0,0,1)\">At</span><span style=\"color: rgba(255,0,0,1)\">.</span><span style=\"color: rgba(255,0,0,1)\">.</span><span style=\"color: rgba(255,0,0,1)\">.</span> <span style=\"color: rgba(255,0,0,1)\">He</span> <span style=\"color: rgba(255,0,0,1)\">how</span> <span style=\"color: rgba(255,0,0,1)\">this</span><span style=\"color: rgba(255,0,0,1)\">cule</span> <span style=\"color: rgba(255,0,0,1)\">for</span>"
      ],
      "text/plain": [
       "<IPython.core.display.HTML object>"
      ]
     },
     "metadata": {},
     "output_type": "display_data"
    },
    {
     "name": "stdout",
     "output_type": "stream",
     "text": [
      "step 15010 loss 0.1225262757614255\n"
     ]
    },
    {
     "data": {
      "text/html": [
       "All <span style=\"color: rgba(0,0,255,1)\">at</span> once, in a moment of realisation, he knew the secret to creating true artificial <span style=\"color: rgba(0,0,255,1)\">intelligence</span>"
      ],
      "text/plain": [
       "<IPython.core.display.HTML object>"
      ]
     },
     "metadata": {},
     "output_type": "display_data"
    },
    {
     "data": {
      "text/html": [
       "All <span style=\"color: rgba(255,0,0,0.9980040788650513)\">at</span> once, in a moment of realisation, he knew the secret to creating true artificial <span style=\"color: rgba(255,0,0,0.5344364047050476)\">energy</span>"
      ],
      "text/plain": [
       "<IPython.core.display.HTML object>"
      ]
     },
     "metadata": {},
     "output_type": "display_data"
    },
    {
     "data": {
      "text/plain": [
       "None"
      ]
     },
     "metadata": {},
     "output_type": "display_data"
    },
    {
     "data": {
      "text/html": [
       "All at once, in a moment of realisation, at once, in a moment of realisation, knew the secret to creating true artificial intelligence <span style=\"color: rgba(255,0,0,1)\">One</span><span style=\"color: rgba(255,0,0,1)\">.</span><span style=\"color: rgba(255,0,0,1)\">”</span> <span style=\"color: rgba(255,0,0,1)\">was</span> <span style=\"color: rgba(255,0,0,1)\">answered</span> <span style=\"color: rgba(255,0,0,1)\">“</span><span style=\"color: rgba(255,0,0,1)\">his</span> <span style=\"color: rgba(255,0,0,1)\">the</span><span style=\"color: rgba(255,0,0,1)\">liness</span> <span style=\"color: rgba(255,0,0,1)\">“</span>"
      ],
      "text/plain": [
       "<IPython.core.display.HTML object>"
      ]
     },
     "metadata": {},
     "output_type": "display_data"
    },
    {
     "name": "stdout",
     "output_type": "stream",
     "text": [
      "step 18010 loss 0.12261671234418949\n"
     ]
    },
    {
     "data": {
      "text/html": [
       "All at once, in a moment of <span style=\"color: rgba(0,0,255,1)\">real</span>isation, <span style=\"color: rgba(0,0,255,1)\">he</span> <span style=\"color: rgba(0,0,255,1)\">knew</span> the secret to creating true artificial <span style=\"color: rgba(0,0,255,1)\">intelligence</span>"
      ],
      "text/plain": [
       "<IPython.core.display.HTML object>"
      ]
     },
     "metadata": {},
     "output_type": "display_data"
    },
    {
     "data": {
      "text/html": [
       "All at once, in a moment of <span style=\"color: rgba(255,0,0,0.9608795642852783)\">real</span>isation, <span style=\"color: rgba(255,0,0,0.647154688835144)\">I</span> <span style=\"color: rgba(255,0,0,0.5273109078407288)\">know</span> the secret to creating true artificial <span style=\"color: rgba(255,0,0,0.5290436744689941)\">phenomena</span>"
      ],
      "text/plain": [
       "<IPython.core.display.HTML object>"
      ]
     },
     "metadata": {},
     "output_type": "display_data"
    },
    {
     "data": {
      "text/plain": [
       "None"
      ]
     },
     "metadata": {},
     "output_type": "display_data"
    },
    {
     "data": {
      "text/html": [
       "All at once, in a moment of realisation, at once, in a moment of realisation, knew the secret to creating true artificial intelligence <span style=\"color: rgba(255,0,0,1)\">Then</span> <span style=\"color: rgba(255,0,0,1)\">no</span> <span style=\"color: rgba(255,0,0,1)\">to</span> <span style=\"color: rgba(255,0,0,1)\">decisive</span> <span style=\"color: rgba(255,0,0,1)\">noise</span> <span style=\"color: rgba(255,0,0,1)\">speak</span> <span style=\"color: rgba(255,0,0,1)\">a</span><span style=\"color: rgba(255,0,0,1)\">,</span> <span style=\"color: rgba(255,0,0,1)\">or</span><span style=\"color: rgba(255,0,0,1)\">.</span>"
      ],
      "text/plain": [
       "<IPython.core.display.HTML object>"
      ]
     },
     "metadata": {},
     "output_type": "display_data"
    },
    {
     "name": "stdout",
     "output_type": "stream",
     "text": [
      "step 21010 loss 0.12186322208990653\n"
     ]
    },
    {
     "data": {
      "text/html": [
       "All at <span style=\"color: rgba(0,0,255,1)\">once</span>, in a moment of realisation, he knew the secret to creating <span style=\"color: rgba(0,0,255,1)\">true</span> artificial <span style=\"color: rgba(0,0,255,1)\">intelligence</span>"
      ],
      "text/plain": [
       "<IPython.core.display.HTML object>"
      ]
     },
     "metadata": {},
     "output_type": "display_data"
    },
    {
     "data": {
      "text/html": [
       "All at <span style=\"color: rgba(255,0,0,0.987106204032898)\">once</span>, in a moment of realisation, he knew the secret to creating <span style=\"color: rgba(255,0,0,0.7277036905288696)\">an</span> artificial <span style=\"color: rgba(255,0,0,0.5884771347045898)\">life</span>"
      ],
      "text/plain": [
       "<IPython.core.display.HTML object>"
      ]
     },
     "metadata": {},
     "output_type": "display_data"
    },
    {
     "data": {
      "text/plain": [
       "None"
      ]
     },
     "metadata": {},
     "output_type": "display_data"
    },
    {
     "data": {
      "text/html": [
       "All at once, in a moment of realisation, at once, in a moment of realisation, knew the secret to creating true artificial intelligence <span style=\"color: rgba(255,0,0,1)\">all</span> <span style=\"color: rgba(255,0,0,1)\">that</span> <span style=\"color: rgba(255,0,0,1)\">the</span> <span style=\"color: rgba(255,0,0,1)\">possessed</span><span style=\"color: rgba(255,0,0,1)\">,</span> <span style=\"color: rgba(255,0,0,1)\">wanting</span> <span style=\"color: rgba(255,0,0,1)\">quote</span> <span style=\"color: rgba(255,0,0,1)\">and</span> <span style=\"color: rgba(255,0,0,1)\">planets</span> <span style=\"color: rgba(255,0,0,1)\">There</span>"
      ],
      "text/plain": [
       "<IPython.core.display.HTML object>"
      ]
     },
     "metadata": {},
     "output_type": "display_data"
    },
    {
     "name": "stdout",
     "output_type": "stream",
     "text": [
      "step 24010 loss 0.12177301533520221\n"
     ]
    },
    {
     "data": {
      "text/html": [
       "All at once, in a moment of realisation, he knew the secret to creating true artificial <span style=\"color: rgba(0,0,255,1)\">intelligence</span>"
      ],
      "text/plain": [
       "<IPython.core.display.HTML object>"
      ]
     },
     "metadata": {},
     "output_type": "display_data"
    },
    {
     "data": {
      "text/html": [
       "All at once, in a moment of realisation, he knew the secret to creating true artificial <span style=\"color: rgba(255,0,0,0.5522556900978088)\">life</span>"
      ],
      "text/plain": [
       "<IPython.core.display.HTML object>"
      ]
     },
     "metadata": {},
     "output_type": "display_data"
    },
    {
     "data": {
      "text/plain": [
       "None"
      ]
     },
     "metadata": {},
     "output_type": "display_data"
    },
    {
     "data": {
      "text/html": [
       "All at once, in a moment of realisation, at once, in a moment of realisation, knew the secret to creating true artificial intelligence <span style=\"color: rgba(255,0,0,1)\">Yet</span><span style=\"color: rgba(255,0,0,1)\">.</span><span style=\"color: rgba(255,0,0,1)\">.</span> <span style=\"color: rgba(255,0,0,1)\">what</span> <span style=\"color: rgba(255,0,0,1)\">instantly</span> <span style=\"color: rgba(255,0,0,1)\">was</span><span style=\"color: rgba(255,0,0,1)\">!</span><span style=\"color: rgba(255,0,0,1)\">,</span><span style=\"color: rgba(255,0,0,1)\">.</span><span style=\"color: rgba(255,0,0,1)\">,</span>"
      ],
      "text/plain": [
       "<IPython.core.display.HTML object>"
      ]
     },
     "metadata": {},
     "output_type": "display_data"
    },
    {
     "name": "stdout",
     "output_type": "stream",
     "text": [
      "step 27010 loss 0.1214510171165069\n"
     ]
    },
    {
     "data": {
      "text/html": [
       "All at once, in a moment <span style=\"color: rgba(0,0,255,1)\">of</span> realisation, he knew the secret to creating true artificial <span style=\"color: rgba(0,0,255,1)\">intelligence</span>"
      ],
      "text/plain": [
       "<IPython.core.display.HTML object>"
      ]
     },
     "metadata": {},
     "output_type": "display_data"
    },
    {
     "data": {
      "text/html": [
       "All at once, in a moment<span style=\"color: rgba(255,0,0,0.7497260570526123)\">ary</span> realisation, he knew the secret to creating true artificial <span style=\"color: rgba(255,0,0,0.9015946388244629)\">intelligence</span>"
      ],
      "text/plain": [
       "<IPython.core.display.HTML object>"
      ]
     },
     "metadata": {},
     "output_type": "display_data"
    },
    {
     "data": {
      "text/plain": [
       "None"
      ]
     },
     "metadata": {},
     "output_type": "display_data"
    },
    {
     "data": {
      "text/html": [
       "All at once, in a moment of realisation, at once, in a moment of realisation, knew the secret to creating true artificial intelligence <span style=\"color: rgba(255,0,0,1)\">Quick</span> <span style=\"color: rgba(255,0,0,1)\">Truth</span> <span style=\"color: rgba(255,0,0,1)\">I</span> <span style=\"color: rgba(255,0,0,1)\">at</span><span style=\"color: rgba(255,0,0,1)\">,</span> <span style=\"color: rgba(255,0,0,1)\">Master</span> <span style=\"color: rgba(255,0,0,1)\">\"</span> <span style=\"color: rgba(255,0,0,1)\">asked</span><span style=\"color: rgba(255,0,0,1)\">.</span> <span style=\"color: rgba(255,0,0,1)\">hadn</span>"
      ],
      "text/plain": [
       "<IPython.core.display.HTML object>"
      ]
     },
     "metadata": {},
     "output_type": "display_data"
    },
    {
     "name": "stdout",
     "output_type": "stream",
     "text": [
      "step 30010 loss 0.12194494149337212\n"
     ]
    },
    {
     "data": {
      "text/html": [
       "All <span style=\"color: rgba(0,0,255,1)\">at</span> <span style=\"color: rgba(0,0,255,1)\">once</span>, <span style=\"color: rgba(0,0,255,1)\">in</span> a moment of realisation, <span style=\"color: rgba(0,0,255,1)\">he</span> knew the secret to creating true artificial <span style=\"color: rgba(0,0,255,1)\">intelligence</span>"
      ],
      "text/plain": [
       "<IPython.core.display.HTML object>"
      ]
     },
     "metadata": {},
     "output_type": "display_data"
    },
    {
     "data": {
      "text/html": [
       "All <span style=\"color: rgba(255,0,0,0.570956289768219)\">at</span> <span style=\"color: rgba(255,0,0,0.584740936756134)\">that</span>, <span style=\"color: rgba(255,0,0,0.818366289138794)\">in</span> a moment of realisation, <span style=\"color: rgba(255,0,0,0.670211672782898)\">he</span> knew the secret to creating true artificial <span style=\"color: rgba(255,0,0,0.9737025499343872)\">intelligence</span>"
      ],
      "text/plain": [
       "<IPython.core.display.HTML object>"
      ]
     },
     "metadata": {},
     "output_type": "display_data"
    },
    {
     "data": {
      "text/plain": [
       "None"
      ]
     },
     "metadata": {},
     "output_type": "display_data"
    },
    {
     "data": {
      "text/html": [
       "All at once, in a moment of realisation, at once, in a moment of realisation, knew the secret to creating true artificial intelligence<span style=\"color: rgba(255,0,0,1)\">.</span><span style=\"color: rgba(255,0,0,1)\">.</span> <span style=\"color: rgba(255,0,0,1)\">be</span><span style=\"color: rgba(255,0,0,1)\">.</span> <span style=\"color: rgba(255,0,0,1)\">that</span> <span style=\"color: rgba(255,0,0,1)\">explained</span> <span style=\"color: rgba(255,0,0,1)\">purely</span> <span style=\"color: rgba(255,0,0,1)\">a</span><span style=\"color: rgba(255,0,0,1)\">izations</span> <span style=\"color: rgba(255,0,0,1)\">movement</span>"
      ],
      "text/plain": [
       "<IPython.core.display.HTML object>"
      ]
     },
     "metadata": {},
     "output_type": "display_data"
    },
    {
     "name": "stdout",
     "output_type": "stream",
     "text": [
      "step 33010 loss 0.12193972508857648\n"
     ]
    },
    {
     "data": {
      "text/html": [
       "All at once, in a moment of realisation, he knew the secret to creating <span style=\"color: rgba(0,0,255,1)\">true</span> <span style=\"color: rgba(0,0,255,1)\">artificial</span> <span style=\"color: rgba(0,0,255,1)\">intelligence</span>"
      ],
      "text/plain": [
       "<IPython.core.display.HTML object>"
      ]
     },
     "metadata": {},
     "output_type": "display_data"
    },
    {
     "data": {
      "text/html": [
       "All at once, in a moment of realisation, he knew the secret to creating <span style=\"color: rgba(255,0,0,0.9298684597015381)\">true</span> <span style=\"color: rgba(255,0,0,0.5339326858520508)\">life</span><span style=\"color: rgba(255,0,0,0.5772831439971924)\">.</span>"
      ],
      "text/plain": [
       "<IPython.core.display.HTML object>"
      ]
     },
     "metadata": {},
     "output_type": "display_data"
    },
    {
     "data": {
      "text/plain": [
       "None"
      ]
     },
     "metadata": {},
     "output_type": "display_data"
    },
    {
     "data": {
      "text/html": [
       "All at once, in a moment of realisation, at once, in a moment of realisation, knew the secret to creating true artificial intelligence <span style=\"color: rgba(255,0,0,1)\">and</span><span style=\"color: rgba(255,0,0,1)\">.</span> <span style=\"color: rgba(255,0,0,1)\">evenly</span> <span style=\"color: rgba(255,0,0,1)\">E</span> <span style=\"color: rgba(255,0,0,1)\">pen</span><span style=\"color: rgba(255,0,0,1)\">.</span><span style=\"color: rgba(255,0,0,1)\">.</span> <span style=\"color: rgba(255,0,0,1)\">had</span> <span style=\"color: rgba(255,0,0,1)\">to</span> <span style=\"color: rgba(255,0,0,1)\">the</span>"
      ],
      "text/plain": [
       "<IPython.core.display.HTML object>"
      ]
     },
     "metadata": {},
     "output_type": "display_data"
    },
    {
     "name": "stdout",
     "output_type": "stream",
     "text": [
      "step 36010 loss 0.1216562401453654\n"
     ]
    },
    {
     "data": {
      "text/html": [
       "All at once, in a moment <span style=\"color: rgba(0,0,255,1)\">of</span> realisation, he knew the secret <span style=\"color: rgba(0,0,255,1)\">to</span> creating true artificial <span style=\"color: rgba(0,0,255,1)\">intelligence</span>"
      ],
      "text/plain": [
       "<IPython.core.display.HTML object>"
      ]
     },
     "metadata": {},
     "output_type": "display_data"
    },
    {
     "data": {
      "text/html": [
       "All at once, in a moment <span style=\"color: rgba(255,0,0,0.9875426292419434)\">of</span> realisation, he knew the secret <span style=\"color: rgba(255,0,0,0.7370414137840271)\">of</span> creating true artificial<span style=\"color: rgba(255,0,0,0.5255091786384583)\">.</span>"
      ],
      "text/plain": [
       "<IPython.core.display.HTML object>"
      ]
     },
     "metadata": {},
     "output_type": "display_data"
    },
    {
     "data": {
      "text/plain": [
       "None"
      ]
     },
     "metadata": {},
     "output_type": "display_data"
    },
    {
     "data": {
      "text/html": [
       "All at once, in a moment of realisation, at once, in a moment of realisation, knew the secret to creating true artificial intelligence<span style=\"color: rgba(255,0,0,1)\">.</span> <span style=\"color: rgba(255,0,0,1)\">could</span> <span style=\"color: rgba(255,0,0,1)\">the</span><span style=\"color: rgba(255,0,0,1)\">,</span> <span style=\"color: rgba(255,0,0,1)\">artificial</span> <span style=\"color: rgba(255,0,0,1)\">be</span> <span style=\"color: rgba(255,0,0,1)\">Never</span> <span style=\"color: rgba(255,0,0,1)\">mused</span> <span style=\"color: rgba(255,0,0,1)\">question</span><span style=\"color: rgba(255,0,0,1)\">?</span>"
      ],
      "text/plain": [
       "<IPython.core.display.HTML object>"
      ]
     },
     "metadata": {},
     "output_type": "display_data"
    },
    {
     "name": "stdout",
     "output_type": "stream",
     "text": [
      "step 39010 loss 0.12143115369727214\n"
     ]
    },
    {
     "data": {
      "text/html": [
       "All at once, in a moment of realisation, he knew <span style=\"color: rgba(0,0,255,1)\">the</span> secret to <span style=\"color: rgba(0,0,255,1)\">creating</span> true <span style=\"color: rgba(0,0,255,1)\">artificial</span> <span style=\"color: rgba(0,0,255,1)\">intelligence</span>"
      ],
      "text/plain": [
       "<IPython.core.display.HTML object>"
      ]
     },
     "metadata": {},
     "output_type": "display_data"
    },
    {
     "data": {
      "text/html": [
       "All at once, in a moment of realisation, he knew <span style=\"color: rgba(255,0,0,0.9099678993225098)\">the</span> secret to <span style=\"color: rgba(255,0,0,0.7767199277877808)\">be</span> true<span style=\"color: rgba(255,0,0,0.8166309595108032)\">.</span><span style=\"color: rgba(255,0,0,0.5600569248199463)\">.</span>"
      ],
      "text/plain": [
       "<IPython.core.display.HTML object>"
      ]
     },
     "metadata": {},
     "output_type": "display_data"
    },
    {
     "data": {
      "text/plain": [
       "None"
      ]
     },
     "metadata": {},
     "output_type": "display_data"
    },
    {
     "data": {
      "text/html": [
       "All at once, in a moment of realisation, at once, in a moment of realisation, knew the secret to creating true artificial intelligence <span style=\"color: rgba(255,0,0,1)\">Think</span> <span style=\"color: rgba(255,0,0,1)\">follower</span> <span style=\"color: rgba(255,0,0,1)\">the</span> <span style=\"color: rgba(255,0,0,1)\">on</span> <span style=\"color: rgba(255,0,0,1)\">the</span><span style=\"color: rgba(255,0,0,1)\">-</span><span style=\"color: rgba(255,0,0,1)\">rack</span> <span style=\"color: rgba(255,0,0,1)\">for</span> <span style=\"color: rgba(255,0,0,1)\">-</span><span style=\"color: rgba(255,0,0,1)\">,</span>"
      ],
      "text/plain": [
       "<IPython.core.display.HTML object>"
      ]
     },
     "metadata": {},
     "output_type": "display_data"
    },
    {
     "name": "stdout",
     "output_type": "stream",
     "text": [
      "step 42010 loss 0.12132906211912632\n"
     ]
    },
    {
     "data": {
      "text/html": [
       "All at once, in a moment of realisation, he knew the secret <span style=\"color: rgba(0,0,255,1)\">to</span> creating true artificial <span style=\"color: rgba(0,0,255,1)\">intelligence</span>"
      ],
      "text/plain": [
       "<IPython.core.display.HTML object>"
      ]
     },
     "metadata": {},
     "output_type": "display_data"
    },
    {
     "data": {
      "text/html": [
       "All at once, in a moment of realisation, he knew the secret <span style=\"color: rgba(255,0,0,0.9953392744064331)\">of</span> creating true artificial<span style=\"color: rgba(255,0,0,0.5844715237617493)\">ity</span>"
      ],
      "text/plain": [
       "<IPython.core.display.HTML object>"
      ]
     },
     "metadata": {},
     "output_type": "display_data"
    },
    {
     "data": {
      "text/plain": [
       "None"
      ]
     },
     "metadata": {},
     "output_type": "display_data"
    },
    {
     "data": {
      "text/html": [
       "All at once, in a moment of realisation, at once, in a moment of realisation, knew the secret to creating true artificial intelligence <span style=\"color: rgba(255,0,0,1)\">He</span> <span style=\"color: rgba(255,0,0,1)\">knew</span> <span style=\"color: rgba(255,0,0,1)\">the</span> <span style=\"color: rgba(255,0,0,1)\">secret</span> <span style=\"color: rgba(255,0,0,1)\">the</span><span style=\"color: rgba(255,0,0,1)\">gi</span> <span style=\"color: rgba(255,0,0,1)\">the</span> <span style=\"color: rgba(255,0,0,1)\">Deep</span> <span style=\"color: rgba(255,0,0,1)\">The</span><span style=\"color: rgba(255,0,0,1)\">.</span>"
      ],
      "text/plain": [
       "<IPython.core.display.HTML object>"
      ]
     },
     "metadata": {},
     "output_type": "display_data"
    },
    {
     "name": "stdout",
     "output_type": "stream",
     "text": [
      "step 45010 loss 0.12115782514462868\n"
     ]
    },
    {
     "data": {
      "text/html": [
       "All at once, <span style=\"color: rgba(0,0,255,1)\">in</span> a moment <span style=\"color: rgba(0,0,255,1)\">of</span> realisation, he knew the secret <span style=\"color: rgba(0,0,255,1)\">to</span> creating true artificial <span style=\"color: rgba(0,0,255,1)\">intelligence</span>"
      ],
      "text/plain": [
       "<IPython.core.display.HTML object>"
      ]
     },
     "metadata": {},
     "output_type": "display_data"
    },
    {
     "data": {
      "text/html": [
       "All at once, <span style=\"color: rgba(255,0,0,0.7261606454849243)\">in</span> a moment <span style=\"color: rgba(255,0,0,0.7341156601905823)\">of</span> realisation, he knew the secret <span style=\"color: rgba(255,0,0,0.9604761600494385)\">of</span> creating true artificial <span style=\"color: rgba(255,0,0,0.9388965368270874)\">intelligence</span>"
      ],
      "text/plain": [
       "<IPython.core.display.HTML object>"
      ]
     },
     "metadata": {},
     "output_type": "display_data"
    },
    {
     "data": {
      "text/plain": [
       "None"
      ]
     },
     "metadata": {},
     "output_type": "display_data"
    },
    {
     "data": {
      "text/html": [
       "All at once, in a moment of realisation, at once, in a moment of realisation, knew the secret to creating true artificial intelligence <span style=\"color: rgba(255,0,0,1)\">The</span> <span style=\"color: rgba(255,0,0,1)\">Any</span> <span style=\"color: rgba(255,0,0,1)\">Could</span> <span style=\"color: rgba(255,0,0,1)\">while</span> <span style=\"color: rgba(255,0,0,1)\">All</span> <span style=\"color: rgba(255,0,0,1)\">the</span> <span style=\"color: rgba(255,0,0,1)\">Time</span> <span style=\"color: rgba(255,0,0,1)\">in</span><span style=\"color: rgba(255,0,0,1)\">lating</span> <span style=\"color: rgba(255,0,0,1)\">The</span>"
      ],
      "text/plain": [
       "<IPython.core.display.HTML object>"
      ]
     },
     "metadata": {},
     "output_type": "display_data"
    },
    {
     "name": "stdout",
     "output_type": "stream",
     "text": [
      "step 48010 loss 0.12056447457522154\n"
     ]
    },
    {
     "data": {
      "text/html": [
       "All at once<span style=\"color: rgba(0,0,255,1)\">,</span> in a moment of realisation, <span style=\"color: rgba(0,0,255,1)\">he</span> knew the secret to creating true artificial <span style=\"color: rgba(0,0,255,1)\">intelligence</span>"
      ],
      "text/plain": [
       "<IPython.core.display.HTML object>"
      ]
     },
     "metadata": {},
     "output_type": "display_data"
    },
    {
     "data": {
      "text/html": [
       "All at once<span style=\"color: rgba(255,0,0,0.9599587321281433)\">,</span> in a moment of realisation, <span style=\"color: rgba(255,0,0,0.6844145059585571)\">he</span> knew the secret to creating true artificial<span style=\"color: rgba(255,0,0,0.5460017323493958)\">ity</span>"
      ],
      "text/plain": [
       "<IPython.core.display.HTML object>"
      ]
     },
     "metadata": {},
     "output_type": "display_data"
    },
    {
     "data": {
      "text/plain": [
       "None"
      ]
     },
     "metadata": {},
     "output_type": "display_data"
    },
    {
     "data": {
      "text/html": [
       "All at once, in a moment of realisation, at once, in a moment of realisation, knew the secret to creating true artificial intelligence<span style=\"color: rgba(255,0,0,1)\">.</span> <span style=\"color: rgba(255,0,0,1)\">An</span> <span style=\"color: rgba(255,0,0,1)\">accident</span> <span style=\"color: rgba(255,0,0,1)\">caused</span> <span style=\"color: rgba(255,0,0,1)\">shock</span><span style=\"color: rgba(255,0,0,1)\">,</span> <span style=\"color: rgba(255,0,0,1)\">by</span> <span style=\"color: rgba(255,0,0,1)\">earthquake</span> <span style=\"color: rgba(255,0,0,1)\">occurring</span> <span style=\"color: rgba(255,0,0,1)\">the</span>"
      ],
      "text/plain": [
       "<IPython.core.display.HTML object>"
      ]
     },
     "metadata": {},
     "output_type": "display_data"
    },
    {
     "name": "stdout",
     "output_type": "stream",
     "text": [
      "step 51010 loss 0.12138037275274595\n"
     ]
    },
    {
     "data": {
      "text/html": [
       "All at once, <span style=\"color: rgba(0,0,255,1)\">in</span> a moment of realisation, he <span style=\"color: rgba(0,0,255,1)\">knew</span> the <span style=\"color: rgba(0,0,255,1)\">secret</span> to creating true <span style=\"color: rgba(0,0,255,1)\">artificial</span> <span style=\"color: rgba(0,0,255,1)\">intelligence</span>"
      ],
      "text/plain": [
       "<IPython.core.display.HTML object>"
      ]
     },
     "metadata": {},
     "output_type": "display_data"
    },
    {
     "data": {
      "text/html": [
       "All at once, <span style=\"color: rgba(255,0,0,0.8524305820465088)\">in</span> a moment of realisation, he <span style=\"color: rgba(255,0,0,0.5934810638427734)\">gave</span> the <span style=\"color: rgba(255,0,0,0.5427977442741394)\">means</span> to creating true <span style=\"color: rgba(255,0,0,0.7828590869903564)\">human</span> <span style=\"color: rgba(255,0,0,0.7062205076217651)\">intelligence</span>"
      ],
      "text/plain": [
       "<IPython.core.display.HTML object>"
      ]
     },
     "metadata": {},
     "output_type": "display_data"
    },
    {
     "data": {
      "text/plain": [
       "None"
      ]
     },
     "metadata": {},
     "output_type": "display_data"
    },
    {
     "data": {
      "text/html": [
       "All at once, in a moment of realisation, at once, in a moment of realisation, knew the secret to creating true artificial intelligence <span style=\"color: rgba(255,0,0,1)\">Only</span> <span style=\"color: rgba(255,0,0,1)\">\"</span> <span style=\"color: rgba(255,0,0,1)\">doubt</span><span style=\"color: rgba(255,0,0,1)\">ing</span><span style=\"color: rgba(255,0,0,1)\">,</span> <span style=\"color: rgba(255,0,0,1)\">“</span><span style=\"color: rgba(255,0,0,1)\">do</span> <span style=\"color: rgba(255,0,0,1)\">I</span> <span style=\"color: rgba(255,0,0,1)\">say</span><span style=\"color: rgba(255,0,0,1)\">,</span>"
      ],
      "text/plain": [
       "<IPython.core.display.HTML object>"
      ]
     },
     "metadata": {},
     "output_type": "display_data"
    },
    {
     "name": "stdout",
     "output_type": "stream",
     "text": [
      "step 54010 loss 0.12089836486056448\n"
     ]
    },
    {
     "data": {
      "text/html": [
       "<span style=\"color: rgba(0,0,255,1)\">All</span> at once, in <span style=\"color: rgba(0,0,255,1)\">a</span> moment of realisation, he knew the <span style=\"color: rgba(0,0,255,1)\">secret</span> to creating true artificial <span style=\"color: rgba(0,0,255,1)\">intelligence</span>"
      ],
      "text/plain": [
       "<IPython.core.display.HTML object>"
      ]
     },
     "metadata": {},
     "output_type": "display_data"
    },
    {
     "data": {
      "text/html": [
       "<span style=\"color: rgba(255,0,0,0.585747480392456)\">All</span> at once, in <span style=\"color: rgba(255,0,0,0.6928550601005554)\">a</span> moment of realisation, he knew the <span style=\"color: rgba(255,0,0,0.5547082424163818)\">step</span> to creating true artificial <span style=\"color: rgba(255,0,0,0.5388348698616028)\">beings</span>"
      ],
      "text/plain": [
       "<IPython.core.display.HTML object>"
      ]
     },
     "metadata": {},
     "output_type": "display_data"
    },
    {
     "data": {
      "text/plain": [
       "None"
      ]
     },
     "metadata": {},
     "output_type": "display_data"
    },
    {
     "data": {
      "text/html": [
       "All at once, in a moment of realisation, at once, in a moment of realisation, knew the secret to creating true artificial intelligence <span style=\"color: rgba(255,0,0,1)\">inside</span><span style=\"color: rgba(255,0,0,1)\">.</span> <span style=\"color: rgba(255,0,0,1)\">He</span> <span style=\"color: rgba(255,0,0,1)\">had</span> <span style=\"color: rgba(255,0,0,1)\">spoken</span><span style=\"color: rgba(255,0,0,1)\">,</span> <span style=\"color: rgba(255,0,0,1)\">well</span> <span style=\"color: rgba(255,0,0,1)\">the</span> <span style=\"color: rgba(255,0,0,1)\">list</span> <span style=\"color: rgba(255,0,0,1)\">spaces</span>"
      ],
      "text/plain": [
       "<IPython.core.display.HTML object>"
      ]
     },
     "metadata": {},
     "output_type": "display_data"
    },
    {
     "name": "stdout",
     "output_type": "stream",
     "text": [
      "step 57010 loss 0.1214314280015727\n"
     ]
    },
    {
     "data": {
      "text/html": [
       "All at once, in a moment of real<span style=\"color: rgba(0,0,255,1)\">isation</span>, he knew the <span style=\"color: rgba(0,0,255,1)\">secret</span> to <span style=\"color: rgba(0,0,255,1)\">creating</span> true artificial <span style=\"color: rgba(0,0,255,1)\">intelligence</span>"
      ],
      "text/plain": [
       "<IPython.core.display.HTML object>"
      ]
     },
     "metadata": {},
     "output_type": "display_data"
    },
    {
     "data": {
      "text/html": [
       "All at once, in a moment of real <span style=\"color: rgba(255,0,0,0.5707405209541321)\">realization</span>, he knew the <span style=\"color: rgba(255,0,0,0.7065620422363281)\">way</span> to <span style=\"color: rgba(255,0,0,0.7915453910827637)\">a</span> true artificial <span style=\"color: rgba(255,0,0,0.9461922645568848)\">intelligence</span>"
      ],
      "text/plain": [
       "<IPython.core.display.HTML object>"
      ]
     },
     "metadata": {},
     "output_type": "display_data"
    },
    {
     "data": {
      "text/plain": [
       "None"
      ]
     },
     "metadata": {},
     "output_type": "display_data"
    },
    {
     "data": {
      "text/html": [
       "All at once, in a moment of realisation, at once, in a moment of realisation, knew the secret to creating true artificial intelligence <span style=\"color: rgba(255,0,0,1)\">And</span> <span style=\"color: rgba(255,0,0,1)\">paused</span> <span style=\"color: rgba(255,0,0,1)\">Only</span> <span style=\"color: rgba(255,0,0,1)\">words</span> <span style=\"color: rgba(255,0,0,1)\">coup</span><span style=\"color: rgba(255,0,0,1)\">id</span><span style=\"color: rgba(255,0,0,1)\">.</span> <span style=\"color: rgba(255,0,0,1)\">froze</span> <span style=\"color: rgba(255,0,0,1)\">but</span><span style=\"color: rgba(255,0,0,1)\">.</span>"
      ],
      "text/plain": [
       "<IPython.core.display.HTML object>"
      ]
     },
     "metadata": {},
     "output_type": "display_data"
    },
    {
     "name": "stdout",
     "output_type": "stream",
     "text": [
      "step 60010 loss 0.12100844383984805\n"
     ]
    },
    {
     "data": {
      "text/html": [
       "All at once, <span style=\"color: rgba(0,0,255,1)\">in</span> a moment of realisation<span style=\"color: rgba(0,0,255,1)\">,</span> he knew the secret to <span style=\"color: rgba(0,0,255,1)\">creating</span> true artificial <span style=\"color: rgba(0,0,255,1)\">intelligence</span>"
      ],
      "text/plain": [
       "<IPython.core.display.HTML object>"
      ]
     },
     "metadata": {},
     "output_type": "display_data"
    },
    {
     "data": {
      "text/html": [
       "All at once, <span style=\"color: rgba(255,0,0,0.8423284292221069)\">in</span> a moment of realisation <span style=\"color: rgba(255,0,0,0.7502079010009766)\">that</span> he knew the secret to <span style=\"color: rgba(255,0,0,0.7566218376159668)\">the</span> true artificial<span style=\"color: rgba(255,0,0,0.6442539691925049)\">.</span>"
      ],
      "text/plain": [
       "<IPython.core.display.HTML object>"
      ]
     },
     "metadata": {},
     "output_type": "display_data"
    },
    {
     "data": {
      "text/plain": [
       "None"
      ]
     },
     "metadata": {},
     "output_type": "display_data"
    },
    {
     "data": {
      "text/html": [
       "All at once, in a moment of realisation, at once, in a moment of realisation, knew the secret to creating true artificial intelligence <span style=\"color: rgba(255,0,0,1)\">\"</span> <span style=\"color: rgba(255,0,0,1)\">and</span> <span style=\"color: rgba(255,0,0,1)\">motionless</span> <span style=\"color: rgba(255,0,0,1)\">awe</span> <span style=\"color: rgba(255,0,0,1)\">with</span><span style=\"color: rgba(255,0,0,1)\">rem</span> <span style=\"color: rgba(255,0,0,1)\">when</span> <span style=\"color: rgba(255,0,0,1)\">would</span> <span style=\"color: rgba(255,0,0,1)\">all</span> <span style=\"color: rgba(255,0,0,1)\">which</span>"
      ],
      "text/plain": [
       "<IPython.core.display.HTML object>"
      ]
     },
     "metadata": {},
     "output_type": "display_data"
    },
    {
     "name": "stdout",
     "output_type": "stream",
     "text": [
      "step 63010 loss 0.12114912974089384\n"
     ]
    },
    {
     "data": {
      "text/html": [
       "All at once, in a moment of realisation, <span style=\"color: rgba(0,0,255,1)\">he</span> <span style=\"color: rgba(0,0,255,1)\">knew</span> the <span style=\"color: rgba(0,0,255,1)\">secret</span> to creating true artificial <span style=\"color: rgba(0,0,255,1)\">intelligence</span>"
      ],
      "text/plain": [
       "<IPython.core.display.HTML object>"
      ]
     },
     "metadata": {},
     "output_type": "display_data"
    },
    {
     "data": {
      "text/html": [
       "All at once, in a moment of realisation, <span style=\"color: rgba(255,0,0,0.5441718101501465)\">we</span> <span style=\"color: rgba(255,0,0,0.5540421009063721)\">from</span> the <span style=\"color: rgba(255,0,0,0.5417914986610413)\">way</span> to creating true artificial <span style=\"color: rgba(255,0,0,0.5729506015777588)\">beings</span>"
      ],
      "text/plain": [
       "<IPython.core.display.HTML object>"
      ]
     },
     "metadata": {},
     "output_type": "display_data"
    },
    {
     "data": {
      "text/plain": [
       "None"
      ]
     },
     "metadata": {},
     "output_type": "display_data"
    },
    {
     "data": {
      "text/html": [
       "All at once, in a moment of realisation, at once, in a moment of realisation, knew the secret to creating true artificial intelligence <span style=\"color: rgba(255,0,0,1)\">He</span> <span style=\"color: rgba(255,0,0,1)\">done</span> <span style=\"color: rgba(255,0,0,1)\">about</span> <span style=\"color: rgba(255,0,0,1)\">angle</span> <span style=\"color: rgba(255,0,0,1)\">again</span> <span style=\"color: rgba(255,0,0,1)\">Then</span> <span style=\"color: rgba(255,0,0,1)\">needed</span> <span style=\"color: rgba(255,0,0,1)\">easier</span> <span style=\"color: rgba(255,0,0,1)\">at</span> <span style=\"color: rgba(255,0,0,1)\">keep</span>"
      ],
      "text/plain": [
       "<IPython.core.display.HTML object>"
      ]
     },
     "metadata": {},
     "output_type": "display_data"
    },
    {
     "name": "stdout",
     "output_type": "stream",
     "text": [
      "step 66010 loss 0.119737949218601\n"
     ]
    },
    {
     "data": {
      "text/html": [
       "All at once<span style=\"color: rgba(0,0,255,1)\">,</span> in a moment of realisation, he <span style=\"color: rgba(0,0,255,1)\">knew</span> the secret to creating true artificial <span style=\"color: rgba(0,0,255,1)\">intelligence</span>"
      ],
      "text/plain": [
       "<IPython.core.display.HTML object>"
      ]
     },
     "metadata": {},
     "output_type": "display_data"
    },
    {
     "data": {
      "text/html": [
       "All at once<span style=\"color: rgba(255,0,0,0.9955906867980957)\">,</span> in a moment of realisation, he <span style=\"color: rgba(255,0,0,0.617185115814209)\">gave</span> the secret to creating true artificial <span style=\"color: rgba(255,0,0,0.5720127820968628)\">life</span>"
      ],
      "text/plain": [
       "<IPython.core.display.HTML object>"
      ]
     },
     "metadata": {},
     "output_type": "display_data"
    },
    {
     "data": {
      "text/plain": [
       "None"
      ]
     },
     "metadata": {},
     "output_type": "display_data"
    },
    {
     "data": {
      "text/html": [
       "All at once, in a moment of realisation, at once, in a moment of realisation, knew the secret to creating true artificial intelligence <span style=\"color: rgba(255,0,0,1)\">speech</span> <span style=\"color: rgba(255,0,0,1)\">As</span> <span style=\"color: rgba(255,0,0,1)\">the</span> <span style=\"color: rgba(255,0,0,1)\">dismissed</span> <span style=\"color: rgba(255,0,0,1)\">act</span> <span style=\"color: rgba(255,0,0,1)\">a</span> <span style=\"color: rgba(255,0,0,1)\">captain</span> <span style=\"color: rgba(255,0,0,1)\">wear</span><span style=\"color: rgba(255,0,0,1)\">ily</span> <span style=\"color: rgba(255,0,0,1)\">del</span>"
      ],
      "text/plain": [
       "<IPython.core.display.HTML object>"
      ]
     },
     "metadata": {},
     "output_type": "display_data"
    },
    {
     "name": "stdout",
     "output_type": "stream",
     "text": [
      "step 69010 loss 0.1202589439128836\n"
     ]
    },
    {
     "data": {
      "text/html": [
       "All at once, in <span style=\"color: rgba(0,0,255,1)\">a</span> moment of realisation, he knew the secret to creating true artificial <span style=\"color: rgba(0,0,255,1)\">intelligence</span>"
      ],
      "text/plain": [
       "<IPython.core.display.HTML object>"
      ]
     },
     "metadata": {},
     "output_type": "display_data"
    },
    {
     "data": {
      "text/html": [
       "All at once, in <span style=\"color: rgba(255,0,0,0.7621523141860962)\">that</span> moment of realisation, he knew the secret to creating true artificial <span style=\"color: rgba(255,0,0,0.5598350763320923)\">life</span>"
      ],
      "text/plain": [
       "<IPython.core.display.HTML object>"
      ]
     },
     "metadata": {},
     "output_type": "display_data"
    },
    {
     "data": {
      "text/plain": [
       "None"
      ]
     },
     "metadata": {},
     "output_type": "display_data"
    },
    {
     "data": {
      "text/html": [
       "All at once, in a moment of realisation, at once, in a moment of realisation, knew the secret to creating true artificial intelligence<span style=\"color: rgba(255,0,0,1)\">.</span> <span style=\"color: rgba(255,0,0,1)\">In</span><span style=\"color: rgba(255,0,0,1)\">.</span><span style=\"color: rgba(255,0,0,1)\">.</span><span style=\"color: rgba(255,0,0,1)\">.</span> <span style=\"color: rgba(255,0,0,1)\">s</span> <span style=\"color: rgba(255,0,0,1)\">the</span><span style=\"color: rgba(255,0,0,1)\">haman</span> <span style=\"color: rgba(255,0,0,1)\">is</span> <span style=\"color: rgba(255,0,0,1)\">-</span>"
      ],
      "text/plain": [
       "<IPython.core.display.HTML object>"
      ]
     },
     "metadata": {},
     "output_type": "display_data"
    },
    {
     "name": "stdout",
     "output_type": "stream",
     "text": [
      "step 72010 loss 0.11981744359557828\n"
     ]
    },
    {
     "data": {
      "text/html": [
       "All at once, in a <span style=\"color: rgba(0,0,255,1)\">moment</span> of realisation, he knew the secret to creating true artificial <span style=\"color: rgba(0,0,255,1)\">intelligence</span>"
      ],
      "text/plain": [
       "<IPython.core.display.HTML object>"
      ]
     },
     "metadata": {},
     "output_type": "display_data"
    },
    {
     "data": {
      "text/html": [
       "All at once, in a <span style=\"color: rgba(255,0,0,0.7040529251098633)\">moment</span> of realisation, he knew the secret to creating true artificial<span style=\"color: rgba(255,0,0,0.567032516002655)\">ities</span>"
      ],
      "text/plain": [
       "<IPython.core.display.HTML object>"
      ]
     },
     "metadata": {},
     "output_type": "display_data"
    },
    {
     "data": {
      "text/plain": [
       "None"
      ]
     },
     "metadata": {},
     "output_type": "display_data"
    },
    {
     "data": {
      "text/html": [
       "All at once, in a moment of realisation, at once, in a moment of realisation, knew the secret to creating true artificial intelligence <span style=\"color: rgba(255,0,0,1)\">He</span> <span style=\"color: rgba(255,0,0,1)\">shoved</span> <span style=\"color: rgba(255,0,0,1)\">the</span><span style=\"color: rgba(255,0,0,1)\">ot</span> <span style=\"color: rgba(255,0,0,1)\">cry</span> <span style=\"color: rgba(255,0,0,1)\">an</span><span style=\"color: rgba(255,0,0,1)\">tly</span> <span style=\"color: rgba(255,0,0,1)\">the</span><span style=\"color: rgba(255,0,0,1)\">iek</span> <span style=\"color: rgba(255,0,0,1)\">felt</span>"
      ],
      "text/plain": [
       "<IPython.core.display.HTML object>"
      ]
     },
     "metadata": {},
     "output_type": "display_data"
    },
    {
     "name": "stdout",
     "output_type": "stream",
     "text": [
      "step 75010 loss 0.1198391047368447\n"
     ]
    },
    {
     "data": {
      "text/html": [
       "All at once, in a <span style=\"color: rgba(0,0,255,1)\">moment</span> of realisation, he knew the secret to creating true artificial <span style=\"color: rgba(0,0,255,1)\">intelligence</span>"
      ],
      "text/plain": [
       "<IPython.core.display.HTML object>"
      ]
     },
     "metadata": {},
     "output_type": "display_data"
    },
    {
     "data": {
      "text/html": [
       "All at once, in a <span style=\"color: rgba(255,0,0,0.5932483673095703)\">moment</span> of realisation, he knew the secret to creating true artificial <span style=\"color: rgba(255,0,0,0.5504668951034546)\">beings</span>"
      ],
      "text/plain": [
       "<IPython.core.display.HTML object>"
      ]
     },
     "metadata": {},
     "output_type": "display_data"
    },
    {
     "data": {
      "text/plain": [
       "None"
      ]
     },
     "metadata": {},
     "output_type": "display_data"
    },
    {
     "data": {
      "text/html": [
       "All at once, in a moment of realisation, at once, in a moment of realisation, knew the secret to creating true artificial intelligence <span style=\"color: rgba(255,0,0,1)\">and</span> <span style=\"color: rgba(255,0,0,1)\">being</span> <span style=\"color: rgba(255,0,0,1)\">older</span> <span style=\"color: rgba(255,0,0,1)\">wasn</span><span style=\"color: rgba(255,0,0,1)\">ive</span> <span style=\"color: rgba(255,0,0,1)\">he</span> <span style=\"color: rgba(255,0,0,1)\">an</span><span style=\"color: rgba(255,0,0,1)\">ur</span><span style=\"color: rgba(255,0,0,1)\">ped</span> <span style=\"color: rgba(255,0,0,1)\">photographs</span>"
      ],
      "text/plain": [
       "<IPython.core.display.HTML object>"
      ]
     },
     "metadata": {},
     "output_type": "display_data"
    },
    {
     "name": "stdout",
     "output_type": "stream",
     "text": [
      "step 78010 loss 0.11884417628745238\n"
     ]
    },
    {
     "data": {
      "text/html": [
       "All at once, in a <span style=\"color: rgba(0,0,255,1)\">moment</span> of realisation, he knew the secret to creating true artificial <span style=\"color: rgba(0,0,255,1)\">intelligence</span>"
      ],
      "text/plain": [
       "<IPython.core.display.HTML object>"
      ]
     },
     "metadata": {},
     "output_type": "display_data"
    },
    {
     "data": {
      "text/html": [
       "All at once, in a <span style=\"color: rgba(255,0,0,0.5582222938537598)\">state</span> of realisation, he knew the secret to creating true artificial <span style=\"color: rgba(255,0,0,0.5779610872268677)\">life</span>"
      ],
      "text/plain": [
       "<IPython.core.display.HTML object>"
      ]
     },
     "metadata": {},
     "output_type": "display_data"
    },
    {
     "data": {
      "text/plain": [
       "None"
      ]
     },
     "metadata": {},
     "output_type": "display_data"
    },
    {
     "data": {
      "text/html": [
       "All at once, in a moment of realisation, at once, in a moment of realisation, knew the secret to creating true artificial intelligence <span style=\"color: rgba(255,0,0,1)\">transmitted</span> <span style=\"color: rgba(255,0,0,1)\">the</span> <span style=\"color: rgba(255,0,0,1)\">that</span><span style=\"color: rgba(255,0,0,1)\">.</span> <span style=\"color: rgba(255,0,0,1)\">This</span> <span style=\"color: rgba(255,0,0,1)\">quality</span> <span style=\"color: rgba(255,0,0,1)\">all</span><span style=\"color: rgba(255,0,0,1)\">hibit</span> <span style=\"color: rgba(255,0,0,1)\">form</span><span style=\"color: rgba(255,0,0,1)\">,</span>"
      ],
      "text/plain": [
       "<IPython.core.display.HTML object>"
      ]
     },
     "metadata": {},
     "output_type": "display_data"
    },
    {
     "name": "stdout",
     "output_type": "stream",
     "text": [
      "step 81010 loss 0.11920545175423225\n"
     ]
    },
    {
     "data": {
      "text/html": [
       "<span style=\"color: rgba(0,0,255,1)\">All</span> at once, in a moment of realisation, <span style=\"color: rgba(0,0,255,1)\">he</span> knew the <span style=\"color: rgba(0,0,255,1)\">secret</span> to creating true artificial <span style=\"color: rgba(0,0,255,1)\">intelligence</span>"
      ],
      "text/plain": [
       "<IPython.core.display.HTML object>"
      ]
     },
     "metadata": {},
     "output_type": "display_data"
    },
    {
     "data": {
      "text/html": [
       "<span style=\"color: rgba(255,0,0,0.7661605477333069)\">all</span> at once, in a moment of realisation, <span style=\"color: rgba(255,0,0,0.7812594175338745)\">Dot</span> knew the <span style=\"color: rgba(255,0,0,0.9975939393043518)\">secret</span> to creating true artificial <span style=\"color: rgba(255,0,0,0.5298271179199219)\">power</span>"
      ],
      "text/plain": [
       "<IPython.core.display.HTML object>"
      ]
     },
     "metadata": {},
     "output_type": "display_data"
    },
    {
     "data": {
      "text/plain": [
       "None"
      ]
     },
     "metadata": {},
     "output_type": "display_data"
    },
    {
     "data": {
      "text/html": [
       "All at once, in a moment of realisation, at once, in a moment of realisation, knew the secret to creating true artificial intelligence<span style=\"color: rgba(255,0,0,1)\">.</span><span style=\"color: rgba(255,0,0,1)\">.</span> <span style=\"color: rgba(255,0,0,1)\">He</span> <span style=\"color: rgba(255,0,0,1)\">gazed</span><span style=\"color: rgba(255,0,0,1)\">,</span> <span style=\"color: rgba(255,0,0,1)\">as</span> <span style=\"color: rgba(255,0,0,1)\">the</span> <span style=\"color: rgba(255,0,0,1)\">an</span><span style=\"color: rgba(255,0,0,1)\">imate</span> <span style=\"color: rgba(255,0,0,1)\">thrilled</span>"
      ],
      "text/plain": [
       "<IPython.core.display.HTML object>"
      ]
     },
     "metadata": {},
     "output_type": "display_data"
    },
    {
     "name": "stdout",
     "output_type": "stream",
     "text": [
      "step 84010 loss 0.11952570546666781\n"
     ]
    },
    {
     "data": {
      "text/html": [
       "All at once, in a moment of realisation, he knew the secret to creating true artificial <span style=\"color: rgba(0,0,255,1)\">intelligence</span>"
      ],
      "text/plain": [
       "<IPython.core.display.HTML object>"
      ]
     },
     "metadata": {},
     "output_type": "display_data"
    },
    {
     "data": {
      "text/html": [
       "All at once, in a moment of realisation, he knew the secret to creating true artificial <span style=\"color: rgba(255,0,0,0.5535858273506165)\">beings</span>"
      ],
      "text/plain": [
       "<IPython.core.display.HTML object>"
      ]
     },
     "metadata": {},
     "output_type": "display_data"
    },
    {
     "data": {
      "text/plain": [
       "None"
      ]
     },
     "metadata": {},
     "output_type": "display_data"
    },
    {
     "data": {
      "text/html": [
       "All at once, in a moment of realisation, at once, in a moment of realisation, knew the secret to creating true artificial intelligence<span style=\"color: rgba(255,0,0,1)\">.</span> <span style=\"color: rgba(255,0,0,1)\">As</span> <span style=\"color: rgba(255,0,0,1)\">at</span> <span style=\"color: rgba(255,0,0,1)\">first</span> <span style=\"color: rgba(255,0,0,1)\">he</span> <span style=\"color: rgba(255,0,0,1)\">toward</span> <span style=\"color: rgba(255,0,0,1)\">its</span> <span style=\"color: rgba(255,0,0,1)\">lead</span> <span style=\"color: rgba(255,0,0,1)\">to</span> <span style=\"color: rgba(255,0,0,1)\">freedom</span>"
      ],
      "text/plain": [
       "<IPython.core.display.HTML object>"
      ]
     },
     "metadata": {},
     "output_type": "display_data"
    },
    {
     "name": "stdout",
     "output_type": "stream",
     "text": [
      "step 87010 loss 0.1192726693165799\n"
     ]
    },
    {
     "data": {
      "text/html": [
       "All at once, in a moment of realisation, he knew the secret to creating true artificial <span style=\"color: rgba(0,0,255,1)\">intelligence</span>"
      ],
      "text/plain": [
       "<IPython.core.display.HTML object>"
      ]
     },
     "metadata": {},
     "output_type": "display_data"
    },
    {
     "data": {
      "text/html": [
       "All at once, in a moment of realisation, he knew the secret to creating true artificial <span style=\"color: rgba(255,0,0,0.5867319703102112)\">beings</span>"
      ],
      "text/plain": [
       "<IPython.core.display.HTML object>"
      ]
     },
     "metadata": {},
     "output_type": "display_data"
    },
    {
     "data": {
      "text/plain": [
       "None"
      ]
     },
     "metadata": {},
     "output_type": "display_data"
    },
    {
     "data": {
      "text/html": [
       "All at once, in a moment of realisation, at once, in a moment of realisation, knew the secret to creating true artificial intelligence<span style=\"color: rgba(255,0,0,1)\">-</span><span style=\"color: rgba(255,0,0,1)\">-</span> <span style=\"color: rgba(255,0,0,1)\">the</span> <span style=\"color: rgba(255,0,0,1)\">one</span> <span style=\"color: rgba(255,0,0,1)\">was</span> <span style=\"color: rgba(255,0,0,1)\">c</span> <span style=\"color: rgba(255,0,0,1)\">conditioning</span><span style=\"color: rgba(255,0,0,1)\">.</span> <span style=\"color: rgba(255,0,0,1)\">so</span> <span style=\"color: rgba(255,0,0,1)\">-</span>"
      ],
      "text/plain": [
       "<IPython.core.display.HTML object>"
      ]
     },
     "metadata": {},
     "output_type": "display_data"
    },
    {
     "name": "stdout",
     "output_type": "stream",
     "text": [
      "step 90010 loss 0.11833386655896902\n"
     ]
    },
    {
     "data": {
      "text/html": [
       "All at once, in <span style=\"color: rgba(0,0,255,1)\">a</span> moment <span style=\"color: rgba(0,0,255,1)\">of</span> realisation, he knew the secret to creating true artificial <span style=\"color: rgba(0,0,255,1)\">intelligence</span>"
      ],
      "text/plain": [
       "<IPython.core.display.HTML object>"
      ]
     },
     "metadata": {},
     "output_type": "display_data"
    },
    {
     "data": {
      "text/html": [
       "All at once, in <span style=\"color: rgba(255,0,0,0.9888368844985962)\">a</span> moment <span style=\"color: rgba(255,0,0,0.8816622495651245)\">of</span> realisation, he knew the secret to creating true artificial <span style=\"color: rgba(255,0,0,0.6236875057220459)\">beings</span>"
      ],
      "text/plain": [
       "<IPython.core.display.HTML object>"
      ]
     },
     "metadata": {},
     "output_type": "display_data"
    },
    {
     "data": {
      "text/plain": [
       "None"
      ]
     },
     "metadata": {},
     "output_type": "display_data"
    },
    {
     "data": {
      "text/html": [
       "All at once, in a moment of realisation, at once, in a moment of realisation, knew the secret to creating true artificial intelligence<span style=\"color: rgba(255,0,0,1)\">.</span> <span style=\"color: rgba(255,0,0,1)\">he</span><span style=\"color: rgba(255,0,0,1)\">,</span> <span style=\"color: rgba(255,0,0,1)\">having</span> <span style=\"color: rgba(255,0,0,1)\">new</span><span style=\"color: rgba(255,0,0,1)\">.</span> <span style=\"color: rgba(255,0,0,1)\">and</span> <span style=\"color: rgba(255,0,0,1)\">wisdom</span><span style=\"color: rgba(255,0,0,1)\">.</span> <span style=\"color: rgba(255,0,0,1)\">arriving</span>"
      ],
      "text/plain": [
       "<IPython.core.display.HTML object>"
      ]
     },
     "metadata": {},
     "output_type": "display_data"
    },
    {
     "name": "stdout",
     "output_type": "stream",
     "text": [
      "step 93010 loss 0.11914329252888758\n"
     ]
    },
    {
     "data": {
      "text/html": [
       "All at once<span style=\"color: rgba(0,0,255,1)\">,</span> in a moment of realisation, he knew the secret to creating true artificial <span style=\"color: rgba(0,0,255,1)\">intelligence</span>"
      ],
      "text/plain": [
       "<IPython.core.display.HTML object>"
      ]
     },
     "metadata": {},
     "output_type": "display_data"
    },
    {
     "data": {
      "text/html": [
       "All at once<span style=\"color: rgba(255,0,0,0.9775831699371338)\">,</span> in a moment of realisation, he knew the secret to creating true artificial<span style=\"color: rgba(255,0,0,0.5540377497673035)\">ity</span>"
      ],
      "text/plain": [
       "<IPython.core.display.HTML object>"
      ]
     },
     "metadata": {},
     "output_type": "display_data"
    },
    {
     "data": {
      "text/plain": [
       "None"
      ]
     },
     "metadata": {},
     "output_type": "display_data"
    },
    {
     "data": {
      "text/html": [
       "All at once, in a moment of realisation, at once, in a moment of realisation, knew the secret to creating true artificial intelligence <span style=\"color: rgba(255,0,0,1)\">Here</span> <span style=\"color: rgba(255,0,0,1)\">was</span> <span style=\"color: rgba(255,0,0,1)\">the</span> <span style=\"color: rgba(255,0,0,1)\">last</span> <span style=\"color: rgba(255,0,0,1)\">again</span> <span style=\"color: rgba(255,0,0,1)\">It</span> <span style=\"color: rgba(255,0,0,1)\">a</span> <span style=\"color: rgba(255,0,0,1)\">sudden</span><span style=\"color: rgba(255,0,0,1)\">.</span> <span style=\"color: rgba(255,0,0,1)\">he</span>"
      ],
      "text/plain": [
       "<IPython.core.display.HTML object>"
      ]
     },
     "metadata": {},
     "output_type": "display_data"
    },
    {
     "name": "stdout",
     "output_type": "stream",
     "text": [
      "step 96010 loss 0.11829924391706785\n"
     ]
    },
    {
     "data": {
      "text/html": [
       "All at once, in a moment <span style=\"color: rgba(0,0,255,1)\">of</span> realisation, he knew the secret to creating true artificial <span style=\"color: rgba(0,0,255,1)\">intelligence</span>"
      ],
      "text/plain": [
       "<IPython.core.display.HTML object>"
      ]
     },
     "metadata": {},
     "output_type": "display_data"
    },
    {
     "data": {
      "text/html": [
       "All at once, in a moment <span style=\"color: rgba(255,0,0,0.8974993228912354)\">of</span> realisation, he knew the secret to creating true artificial <span style=\"color: rgba(255,0,0,0.9773344993591309)\">intelligence</span>"
      ],
      "text/plain": [
       "<IPython.core.display.HTML object>"
      ]
     },
     "metadata": {},
     "output_type": "display_data"
    },
    {
     "data": {
      "text/plain": [
       "None"
      ]
     },
     "metadata": {},
     "output_type": "display_data"
    },
    {
     "data": {
      "text/html": [
       "All at once, in a moment of realisation, at once, in a moment of realisation, knew the secret to creating true artificial intelligence <span style=\"color: rgba(255,0,0,1)\">Before</span><span style=\"color: rgba(255,0,0,1)\">.</span> <span style=\"color: rgba(255,0,0,1)\">-</span><span style=\"color: rgba(255,0,0,1)\">.</span> <span style=\"color: rgba(255,0,0,1)\">CHAPTER</span> <span style=\"color: rgba(255,0,0,1)\">VI</span> <span style=\"color: rgba(255,0,0,1)\">the</span><span style=\"color: rgba(255,0,0,1)\">riad</span><span style=\"color: rgba(255,0,0,1)\">ient</span><span style=\"color: rgba(255,0,0,1)\">.</span>"
      ],
      "text/plain": [
       "<IPython.core.display.HTML object>"
      ]
     },
     "metadata": {},
     "output_type": "display_data"
    },
    {
     "name": "stdout",
     "output_type": "stream",
     "text": [
      "step 99010 loss 0.11884628221144279\n"
     ]
    },
    {
     "data": {
      "text/html": [
       "<span style=\"color: rgba(0,0,255,1)\">All</span> at once, in a moment of realisation, he knew the <span style=\"color: rgba(0,0,255,1)\">secret</span> to creating <span style=\"color: rgba(0,0,255,1)\">true</span> <span style=\"color: rgba(0,0,255,1)\">artificial</span> <span style=\"color: rgba(0,0,255,1)\">intelligence</span>"
      ],
      "text/plain": [
       "<IPython.core.display.HTML object>"
      ]
     },
     "metadata": {},
     "output_type": "display_data"
    },
    {
     "data": {
      "text/html": [
       "<span style=\"color: rgba(255,0,0,0.7253953814506531)\">all</span> at once, in a moment of realisation, he knew the <span style=\"color: rgba(255,0,0,0.5963520407676697)\">way</span> to creating <span style=\"color: rgba(255,0,0,0.6427085995674133)\">the</span><span style=\"color: rgba(255,0,0,0.5798250436782837)\">.</span> <span style=\"color: rgba(255,0,0,0.5266835689544678)\">of</span>"
      ],
      "text/plain": [
       "<IPython.core.display.HTML object>"
      ]
     },
     "metadata": {},
     "output_type": "display_data"
    },
    {
     "data": {
      "text/plain": [
       "None"
      ]
     },
     "metadata": {},
     "output_type": "display_data"
    },
    {
     "data": {
      "text/html": [
       "All at once, in a moment of realisation, at once, in a moment of realisation, knew the secret to creating true artificial intelligence <span style=\"color: rgba(255,0,0,1)\">it</span> <span style=\"color: rgba(255,0,0,1)\">Sea</span><span style=\"color: rgba(255,0,0,1)\">,</span> <span style=\"color: rgba(255,0,0,1)\">had</span> <span style=\"color: rgba(255,0,0,1)\">to</span> <span style=\"color: rgba(255,0,0,1)\">make</span> <span style=\"color: rgba(255,0,0,1)\">the</span> <span style=\"color: rgba(255,0,0,1)\">reflected</span> <span style=\"color: rgba(255,0,0,1)\">the</span> <span style=\"color: rgba(255,0,0,1)\">of</span>"
      ],
      "text/plain": [
       "<IPython.core.display.HTML object>"
      ]
     },
     "metadata": {},
     "output_type": "display_data"
    },
    {
     "name": "stdout",
     "output_type": "stream",
     "text": [
      "step 102010 loss 0.11842531866456071\n"
     ]
    },
    {
     "data": {
      "text/html": [
       "All at <span style=\"color: rgba(0,0,255,1)\">once</span>, in a moment of realisation, he knew the secret to <span style=\"color: rgba(0,0,255,1)\">creating</span> true artificial <span style=\"color: rgba(0,0,255,1)\">intelligence</span>"
      ],
      "text/plain": [
       "<IPython.core.display.HTML object>"
      ]
     },
     "metadata": {},
     "output_type": "display_data"
    },
    {
     "data": {
      "text/html": [
       "All at <span style=\"color: rgba(255,0,0,0.9770969152450562)\">once</span>, in a moment of realisation, he knew the secret to <span style=\"color: rgba(255,0,0,0.8774529695510864)\">the</span> true artificial<span style=\"color: rgba(255,0,0,0.5382993221282959)\">ity</span>"
      ],
      "text/plain": [
       "<IPython.core.display.HTML object>"
      ]
     },
     "metadata": {},
     "output_type": "display_data"
    },
    {
     "data": {
      "text/plain": [
       "None"
      ]
     },
     "metadata": {},
     "output_type": "display_data"
    },
    {
     "data": {
      "text/html": [
       "All at once, in a moment of realisation, at once, in a moment of realisation, knew the secret to creating true artificial intelligence<span style=\"color: rgba(255,0,0,1)\">.</span><span style=\"color: rgba(255,0,0,1)\">.</span> <span style=\"color: rgba(255,0,0,1)\">hesitated</span><span style=\"color: rgba(255,0,0,1)\">.</span> <span style=\"color: rgba(255,0,0,1)\">Here</span><span style=\"color: rgba(255,0,0,1)\">,</span> <span style=\"color: rgba(255,0,0,1)\">he</span> <span style=\"color: rgba(255,0,0,1)\">Monday</span> <span style=\"color: rgba(255,0,0,1)\">the</span> <span style=\"color: rgba(255,0,0,1)\">Yes</span>"
      ],
      "text/plain": [
       "<IPython.core.display.HTML object>"
      ]
     },
     "metadata": {},
     "output_type": "display_data"
    },
    {
     "name": "stdout",
     "output_type": "stream",
     "text": [
      "step 105010 loss 0.11852236079672972\n"
     ]
    },
    {
     "data": {
      "text/html": [
       "All at once, in a moment of realisation, he knew the secret to creating true artificial <span style=\"color: rgba(0,0,255,1)\">intelligence</span>"
      ],
      "text/plain": [
       "<IPython.core.display.HTML object>"
      ]
     },
     "metadata": {},
     "output_type": "display_data"
    },
    {
     "data": {
      "text/html": [
       "All at once, in a moment of realisation, he knew the secret to creating true artificial<span style=\"color: rgba(255,0,0,0.6762170791625977)\">ity</span>"
      ],
      "text/plain": [
       "<IPython.core.display.HTML object>"
      ]
     },
     "metadata": {},
     "output_type": "display_data"
    },
    {
     "data": {
      "text/plain": [
       "None"
      ]
     },
     "metadata": {},
     "output_type": "display_data"
    },
    {
     "data": {
      "text/html": [
       "All at once, in a moment of realisation, at once, in a moment of realisation, knew the secret to creating true artificial intelligence<span style=\"color: rgba(255,0,0,1)\">.</span><span style=\"color: rgba(255,0,0,1)\">.</span><span style=\"color: rgba(255,0,0,1)\">.</span><span style=\"color: rgba(255,0,0,1)\">.</span><span style=\"color: rgba(255,0,0,1)\">.</span><span style=\"color: rgba(255,0,0,1)\">.</span> <span style=\"color: rgba(255,0,0,1)\">He</span><span style=\"color: rgba(255,0,0,1)\">-</span><span style=\"color: rgba(255,0,0,1)\">-</span><span style=\"color: rgba(255,0,0,1)\">.</span>"
      ],
      "text/plain": [
       "<IPython.core.display.HTML object>"
      ]
     },
     "metadata": {},
     "output_type": "display_data"
    },
    {
     "name": "stdout",
     "output_type": "stream",
     "text": [
      "step 108010 loss 0.11788073010866841\n"
     ]
    },
    {
     "data": {
      "text/html": [
       "All at once, in a moment of realisation, he knew the <span style=\"color: rgba(0,0,255,1)\">secret</span> to creating <span style=\"color: rgba(0,0,255,1)\">true</span> artificial <span style=\"color: rgba(0,0,255,1)\">intelligence</span>"
      ],
      "text/plain": [
       "<IPython.core.display.HTML object>"
      ]
     },
     "metadata": {},
     "output_type": "display_data"
    },
    {
     "data": {
      "text/html": [
       "All at once, in a moment of realisation, he knew the <span style=\"color: rgba(255,0,0,0.6068641543388367)\">way</span> to creating <span style=\"color: rgba(255,0,0,0.7457056045532227)\">an</span> artificial <span style=\"color: rgba(255,0,0,0.5663747191429138)\">world</span>"
      ],
      "text/plain": [
       "<IPython.core.display.HTML object>"
      ]
     },
     "metadata": {},
     "output_type": "display_data"
    },
    {
     "data": {
      "text/plain": [
       "None"
      ]
     },
     "metadata": {},
     "output_type": "display_data"
    },
    {
     "data": {
      "text/html": [
       "All at once, in a moment of realisation, at once, in a moment of realisation, knew the secret to creating true artificial intelligence <span style=\"color: rgba(255,0,0,1)\">With</span> <span style=\"color: rgba(255,0,0,1)\">a</span><span style=\"color: rgba(255,0,0,1)\">.</span> <span style=\"color: rgba(255,0,0,1)\">Moment</span><span style=\"color: rgba(255,0,0,1)\">um</span><span style=\"color: rgba(255,0,0,1)\">.</span><span style=\"color: rgba(255,0,0,1)\">.</span> <span style=\"color: rgba(255,0,0,1)\">-</span><span style=\"color: rgba(255,0,0,1)\">.</span><span style=\"color: rgba(255,0,0,1)\">,</span>"
      ],
      "text/plain": [
       "<IPython.core.display.HTML object>"
      ]
     },
     "metadata": {},
     "output_type": "display_data"
    },
    {
     "name": "stdout",
     "output_type": "stream",
     "text": [
      "step 111010 loss 0.11798662991076708\n"
     ]
    },
    {
     "data": {
      "text/html": [
       "All at once, in a moment of realisation, he knew the secret to creating true artificial <span style=\"color: rgba(0,0,255,1)\">intelligence</span>"
      ],
      "text/plain": [
       "<IPython.core.display.HTML object>"
      ]
     },
     "metadata": {},
     "output_type": "display_data"
    },
    {
     "data": {
      "text/html": [
       "All at once, in a moment of realisation, he knew the secret to creating true artificial <span style=\"color: rgba(255,0,0,0.5646114349365234)\">life</span>"
      ],
      "text/plain": [
       "<IPython.core.display.HTML object>"
      ]
     },
     "metadata": {},
     "output_type": "display_data"
    },
    {
     "data": {
      "text/plain": [
       "None"
      ]
     },
     "metadata": {},
     "output_type": "display_data"
    },
    {
     "data": {
      "text/html": [
       "All at once, in a moment of realisation, at once, in a moment of realisation, knew the secret to creating true artificial intelligence <span style=\"color: rgba(255,0,0,1)\">And</span><span style=\"color: rgba(255,0,0,1)\">.</span><span style=\"color: rgba(255,0,0,1)\">.</span> <span style=\"color: rgba(255,0,0,1)\">I</span> <span style=\"color: rgba(255,0,0,1)\">was</span><span style=\"color: rgba(255,0,0,1)\">.</span> <span style=\"color: rgba(255,0,0,1)\">our</span> <span style=\"color: rgba(255,0,0,1)\">ribs</span><span style=\"color: rgba(255,0,0,1)\">.</span> <span style=\"color: rgba(255,0,0,1)\">thought</span>"
      ],
      "text/plain": [
       "<IPython.core.display.HTML object>"
      ]
     },
     "metadata": {},
     "output_type": "display_data"
    },
    {
     "name": "stdout",
     "output_type": "stream",
     "text": [
      "step 114010 loss 0.11821604690949122\n"
     ]
    },
    {
     "data": {
      "text/html": [
       "All at <span style=\"color: rgba(0,0,255,1)\">once</span>, in a moment of realisation, he knew the <span style=\"color: rgba(0,0,255,1)\">secret</span> to creating true artificial <span style=\"color: rgba(0,0,255,1)\">intelligence</span>"
      ],
      "text/plain": [
       "<IPython.core.display.HTML object>"
      ]
     },
     "metadata": {},
     "output_type": "display_data"
    },
    {
     "data": {
      "text/html": [
       "All at <span style=\"color: rgba(255,0,0,0.958310604095459)\">once</span>, in a moment of realisation, he knew the <span style=\"color: rgba(255,0,0,0.5987787246704102)\">key</span> to creating true artificial <span style=\"color: rgba(255,0,0,0.5372070074081421)\">things</span>"
      ],
      "text/plain": [
       "<IPython.core.display.HTML object>"
      ]
     },
     "metadata": {},
     "output_type": "display_data"
    },
    {
     "data": {
      "text/plain": [
       "None"
      ]
     },
     "metadata": {},
     "output_type": "display_data"
    },
    {
     "data": {
      "text/html": [
       "All at once, in a moment of realisation, at once, in a moment of realisation, knew the secret to creating true artificial intelligence <span style=\"color: rgba(255,0,0,1)\">Stern</span><span style=\"color: rgba(255,0,0,1)\">.</span> <span style=\"color: rgba(255,0,0,1)\">on</span> <span style=\"color: rgba(255,0,0,1)\">the</span> <span style=\"color: rgba(255,0,0,1)\">and</span> <span style=\"color: rgba(255,0,0,1)\">and</span><span style=\"color: rgba(255,0,0,1)\">,</span> <span style=\"color: rgba(255,0,0,1)\">supposed</span> <span style=\"color: rgba(255,0,0,1)\">They</span> <span style=\"color: rgba(255,0,0,1)\">were</span>"
      ],
      "text/plain": [
       "<IPython.core.display.HTML object>"
      ]
     },
     "metadata": {},
     "output_type": "display_data"
    },
    {
     "name": "stdout",
     "output_type": "stream",
     "text": [
      "step 117010 loss 0.11813708118100961\n"
     ]
    },
    {
     "data": {
      "text/html": [
       "All at once, in a moment of realisation, he knew the secret to <span style=\"color: rgba(0,0,255,1)\">creating</span> true artificial <span style=\"color: rgba(0,0,255,1)\">intelligence</span>"
      ],
      "text/plain": [
       "<IPython.core.display.HTML object>"
      ]
     },
     "metadata": {},
     "output_type": "display_data"
    },
    {
     "data": {
      "text/html": [
       "All at once, in a moment of realisation, he knew the secret to <span style=\"color: rgba(255,0,0,0.7249277234077454)\">the</span> true artificial<span style=\"color: rgba(255,0,0,0.526073694229126)\">ity</span>"
      ],
      "text/plain": [
       "<IPython.core.display.HTML object>"
      ]
     },
     "metadata": {},
     "output_type": "display_data"
    },
    {
     "data": {
      "text/plain": [
       "None"
      ]
     },
     "metadata": {},
     "output_type": "display_data"
    },
    {
     "data": {
      "text/html": [
       "All at once, in a moment of realisation, at once, in a moment of realisation, knew the secret to creating true artificial intelligence <span style=\"color: rgba(255,0,0,1)\">There</span><span style=\"color: rgba(255,0,0,1)\">,</span> <span style=\"color: rgba(255,0,0,1)\">had</span> <span style=\"color: rgba(255,0,0,1)\">done</span><span style=\"color: rgba(255,0,0,1)\">,</span> <span style=\"color: rgba(255,0,0,1)\">in</span><span style=\"color: rgba(255,0,0,1)\">.</span><span style=\"color: rgba(255,0,0,1)\">.</span><span style=\"color: rgba(255,0,0,1)\">.</span> <span style=\"color: rgba(255,0,0,1)\">*</span>"
      ],
      "text/plain": [
       "<IPython.core.display.HTML object>"
      ]
     },
     "metadata": {},
     "output_type": "display_data"
    },
    {
     "name": "stdout",
     "output_type": "stream",
     "text": [
      "step 120010 loss 0.11869945878038804\n"
     ]
    },
    {
     "data": {
      "text/html": [
       "All at <span style=\"color: rgba(0,0,255,1)\">once</span>, in a moment of realisation, he knew the secret to creating true artificial <span style=\"color: rgba(0,0,255,1)\">intelligence</span>"
      ],
      "text/plain": [
       "<IPython.core.display.HTML object>"
      ]
     },
     "metadata": {},
     "output_type": "display_data"
    },
    {
     "data": {
      "text/html": [
       "All at <span style=\"color: rgba(255,0,0,0.9910076260566711)\">once</span>, in a moment of realisation, he knew the secret to creating true artificial<span style=\"color: rgba(255,0,0,0.5331366062164307)\">ity</span>"
      ],
      "text/plain": [
       "<IPython.core.display.HTML object>"
      ]
     },
     "metadata": {},
     "output_type": "display_data"
    },
    {
     "data": {
      "text/plain": [
       "None"
      ]
     },
     "metadata": {},
     "output_type": "display_data"
    },
    {
     "data": {
      "text/html": [
       "All at once, in a moment of realisation, at once, in a moment of realisation, knew the secret to creating true artificial intelligence <span style=\"color: rgba(255,0,0,1)\">A</span><span style=\"color: rgba(255,0,0,1)\">.</span> <span style=\"color: rgba(255,0,0,1)\">He</span> <span style=\"color: rgba(255,0,0,1)\">stood</span><span style=\"color: rgba(255,0,0,1)\">-</span><span style=\"color: rgba(255,0,0,1)\">Ah</span> <span style=\"color: rgba(255,0,0,1)\">per</span> <span style=\"color: rgba(255,0,0,1)\">with</span> <span style=\"color: rgba(255,0,0,1)\">them</span> <span style=\"color: rgba(255,0,0,1)\">he</span>"
      ],
      "text/plain": [
       "<IPython.core.display.HTML object>"
      ]
     },
     "metadata": {},
     "output_type": "display_data"
    },
    {
     "name": "stdout",
     "output_type": "stream",
     "text": [
      "step 123010 loss 0.11786511491487424\n"
     ]
    },
    {
     "data": {
      "text/html": [
       "All at once, in a moment of <span style=\"color: rgba(0,0,255,1)\">real</span>isation, he knew the secret to creating true artificial <span style=\"color: rgba(0,0,255,1)\">intelligence</span>"
      ],
      "text/plain": [
       "<IPython.core.display.HTML object>"
      ]
     },
     "metadata": {},
     "output_type": "display_data"
    },
    {
     "data": {
      "text/html": [
       "All at once, in a moment of <span style=\"color: rgba(255,0,0,0.9294226765632629)\">real</span>isation, he knew the secret to creating true artificial <span style=\"color: rgba(255,0,0,0.5760533809661865)\">life</span>"
      ],
      "text/plain": [
       "<IPython.core.display.HTML object>"
      ]
     },
     "metadata": {},
     "output_type": "display_data"
    },
    {
     "data": {
      "text/plain": [
       "None"
      ]
     },
     "metadata": {},
     "output_type": "display_data"
    },
    {
     "data": {
      "text/html": [
       "All at once, in a moment of realisation, at once, in a moment of realisation, knew the secret to creating true artificial intelligence <span style=\"color: rgba(255,0,0,1)\">of</span> <span style=\"color: rgba(255,0,0,1)\">Mad</span> <span style=\"color: rgba(255,0,0,1)\">and</span> <span style=\"color: rgba(255,0,0,1)\">in</span> <span style=\"color: rgba(255,0,0,1)\">imagination</span> <span style=\"color: rgba(255,0,0,1)\">ballads</span> <span style=\"color: rgba(255,0,0,1)\">\"</span> <span style=\"color: rgba(255,0,0,1)\">\"</span><span style=\"color: rgba(255,0,0,1)\">,</span><span style=\"color: rgba(255,0,0,1)\">,</span>"
      ],
      "text/plain": [
       "<IPython.core.display.HTML object>"
      ]
     },
     "metadata": {},
     "output_type": "display_data"
    },
    {
     "name": "stdout",
     "output_type": "stream",
     "text": [
      "step 126010 loss 0.11776427109291156\n"
     ]
    },
    {
     "data": {
      "text/html": [
       "All at once, in a moment of realisation<span style=\"color: rgba(0,0,255,1)\">,</span> he knew the secret to creating true artificial <span style=\"color: rgba(0,0,255,1)\">intelligence</span>"
      ],
      "text/plain": [
       "<IPython.core.display.HTML object>"
      ]
     },
     "metadata": {},
     "output_type": "display_data"
    },
    {
     "data": {
      "text/html": [
       "All at once, in a moment of realisation<span style=\"color: rgba(255,0,0,0.9932105541229248)\">,</span> he knew the secret to creating true artificial <span style=\"color: rgba(255,0,0,0.5812501907348633)\">beings</span>"
      ],
      "text/plain": [
       "<IPython.core.display.HTML object>"
      ]
     },
     "metadata": {},
     "output_type": "display_data"
    },
    {
     "data": {
      "text/plain": [
       "None"
      ]
     },
     "metadata": {},
     "output_type": "display_data"
    },
    {
     "data": {
      "text/html": [
       "All at once, in a moment of realisation, at once, in a moment of realisation, knew the secret to creating true artificial intelligence <span style=\"color: rgba(255,0,0,1)\">When</span> <span style=\"color: rgba(255,0,0,1)\">they</span><span style=\"color: rgba(255,0,0,1)\">.</span><span style=\"color: rgba(255,0,0,1)\">.</span> <span style=\"color: rgba(255,0,0,1)\">began</span> <span style=\"color: rgba(255,0,0,1)\">higher</span> <span style=\"color: rgba(255,0,0,1)\">realized</span><span style=\"color: rgba(255,0,0,1)\">.</span> <span style=\"color: rgba(255,0,0,1)\">He</span><span style=\"color: rgba(255,0,0,1)\">,</span>"
      ],
      "text/plain": [
       "<IPython.core.display.HTML object>"
      ]
     },
     "metadata": {},
     "output_type": "display_data"
    },
    {
     "name": "stdout",
     "output_type": "stream",
     "text": [
      "step 129010 loss 0.11760398224244516\n"
     ]
    },
    {
     "data": {
      "text/html": [
       "All at once, in a moment of realisation, he <span style=\"color: rgba(0,0,255,1)\">knew</span> the secret to creating true artificial <span style=\"color: rgba(0,0,255,1)\">intelligence</span>"
      ],
      "text/plain": [
       "<IPython.core.display.HTML object>"
      ]
     },
     "metadata": {},
     "output_type": "display_data"
    },
    {
     "data": {
      "text/html": [
       "All at once, in a moment of realisation, he <span style=\"color: rgba(255,0,0,0.6484809517860413)\">had</span> the secret to creating true artificial<span style=\"color: rgba(255,0,0,0.5727657079696655)\">ity</span>"
      ],
      "text/plain": [
       "<IPython.core.display.HTML object>"
      ]
     },
     "metadata": {},
     "output_type": "display_data"
    },
    {
     "data": {
      "text/plain": [
       "None"
      ]
     },
     "metadata": {},
     "output_type": "display_data"
    },
    {
     "data": {
      "text/html": [
       "All at once, in a moment of realisation, at once, in a moment of realisation, knew the secret to creating true artificial intelligence <span style=\"color: rgba(255,0,0,1)\">A</span><span style=\"color: rgba(255,0,0,1)\">y</span> <span style=\"color: rgba(255,0,0,1)\">and</span> <span style=\"color: rgba(255,0,0,1)\">well</span> <span style=\"color: rgba(255,0,0,1)\">\"</span> <span style=\"color: rgba(255,0,0,1)\">wait</span> <span style=\"color: rgba(255,0,0,1)\">A</span><span style=\"color: rgba(255,0,0,1)\">'</span><span style=\"color: rgba(255,0,0,1)\">he</span> <span style=\"color: rgba(255,0,0,1)\">\"</span>"
      ],
      "text/plain": [
       "<IPython.core.display.HTML object>"
      ]
     },
     "metadata": {},
     "output_type": "display_data"
    },
    {
     "name": "stdout",
     "output_type": "stream",
     "text": [
      "step 132010 loss 0.11736083924770355\n"
     ]
    },
    {
     "data": {
      "text/html": [
       "All at once, in a moment <span style=\"color: rgba(0,0,255,1)\">of</span> realisation, he knew the secret to creating true artificial <span style=\"color: rgba(0,0,255,1)\">intelligence</span>"
      ],
      "text/plain": [
       "<IPython.core.display.HTML object>"
      ]
     },
     "metadata": {},
     "output_type": "display_data"
    },
    {
     "data": {
      "text/html": [
       "All at once, in a moment <span style=\"color: rgba(255,0,0,0.9707536697387695)\">of</span> realisation, he knew the secret to creating true artificial <span style=\"color: rgba(255,0,0,0.5513017773628235)\">matter</span>"
      ],
      "text/plain": [
       "<IPython.core.display.HTML object>"
      ]
     },
     "metadata": {},
     "output_type": "display_data"
    },
    {
     "data": {
      "text/plain": [
       "None"
      ]
     },
     "metadata": {},
     "output_type": "display_data"
    },
    {
     "data": {
      "text/html": [
       "All at once, in a moment of realisation, at once, in a moment of realisation, knew the secret to creating true artificial intelligence <span style=\"color: rgba(255,0,0,1)\">as</span><span style=\"color: rgba(255,0,0,1)\">.</span><span style=\"color: rgba(255,0,0,1)\">.</span> <span style=\"color: rgba(255,0,0,1)\">then</span> <span style=\"color: rgba(255,0,0,1)\">III</span><span style=\"color: rgba(255,0,0,1)\">.</span> <span style=\"color: rgba(255,0,0,1)\">Nine</span><span style=\"color: rgba(255,0,0,1)\">'</span><span style=\"color: rgba(255,0,0,1)\">-</span> <span style=\"color: rgba(255,0,0,1)\">they</span>"
      ],
      "text/plain": [
       "<IPython.core.display.HTML object>"
      ]
     },
     "metadata": {},
     "output_type": "display_data"
    },
    {
     "name": "stdout",
     "output_type": "stream",
     "text": [
      "step 135010 loss 0.117415772408247\n"
     ]
    },
    {
     "data": {
      "text/html": [
       "All at once, in a moment <span style=\"color: rgba(0,0,255,1)\">of</span> realisation, he knew the secret to creating true artificial <span style=\"color: rgba(0,0,255,1)\">intelligence</span>"
      ],
      "text/plain": [
       "<IPython.core.display.HTML object>"
      ]
     },
     "metadata": {},
     "output_type": "display_data"
    },
    {
     "data": {
      "text/html": [
       "All at once, in a moment <span style=\"color: rgba(255,0,0,0.9528195858001709)\">of</span> realisation, he knew the secret to creating true artificial <span style=\"color: rgba(255,0,0,0.5570025444030762)\">matter</span>"
      ],
      "text/plain": [
       "<IPython.core.display.HTML object>"
      ]
     },
     "metadata": {},
     "output_type": "display_data"
    },
    {
     "data": {
      "text/plain": [
       "None"
      ]
     },
     "metadata": {},
     "output_type": "display_data"
    },
    {
     "data": {
      "text/html": [
       "All at once, in a moment of realisation, at once, in a moment of realisation, knew the secret to creating true artificial intelligence <span style=\"color: rgba(255,0,0,1)\">himself</span> <span style=\"color: rgba(255,0,0,1)\">\"</span> <span style=\"color: rgba(255,0,0,1)\">\"</span> <span style=\"color: rgba(255,0,0,1)\">|</span> <span style=\"color: rgba(255,0,0,1)\">\"</span> <span style=\"color: rgba(255,0,0,1)\">we</span> <span style=\"color: rgba(255,0,0,1)\">the</span><span style=\"color: rgba(255,0,0,1)\">ness</span> <span style=\"color: rgba(255,0,0,1)\">Nature</span> <span style=\"color: rgba(255,0,0,1)\">will</span>"
      ],
      "text/plain": [
       "<IPython.core.display.HTML object>"
      ]
     },
     "metadata": {},
     "output_type": "display_data"
    },
    {
     "data": {
      "application/vnd.jupyter.widget-view+json": {
       "model_id": "bbaf749d007f4551b3a56db5f29a1cf4",
       "version_major": 2,
       "version_minor": 0
      },
      "text/plain": [
       "HBox(children=(IntProgress(value=0, description='Iteration', max=135245, style=ProgressStyle(description_width…"
      ]
     },
     "metadata": {},
     "output_type": "display_data"
    },
    {
     "name": "stdout",
     "output_type": "stream",
     "text": [
      "step 10 loss 0.10591315003958615\n"
     ]
    },
    {
     "data": {
      "text/html": [
       "All at once, in a moment of realisation, he knew the secret to creating <span style=\"color: rgba(0,0,255,1)\">true</span> artificial <span style=\"color: rgba(0,0,255,1)\">intelligence</span>"
      ],
      "text/plain": [
       "<IPython.core.display.HTML object>"
      ]
     },
     "metadata": {},
     "output_type": "display_data"
    },
    {
     "data": {
      "text/html": [
       "All at once, in a moment of realisation, he knew the secret to creating <span style=\"color: rgba(255,0,0,0.6658535003662109)\">the</span> artificial <span style=\"color: rgba(255,0,0,0.552954375743866)\">world</span>"
      ],
      "text/plain": [
       "<IPython.core.display.HTML object>"
      ]
     },
     "metadata": {},
     "output_type": "display_data"
    },
    {
     "data": {
      "text/plain": [
       "None"
      ]
     },
     "metadata": {},
     "output_type": "display_data"
    },
    {
     "data": {
      "text/html": [
       "All at once, in a moment of realisation, at once, in a moment of realisation, knew the secret to creating true artificial intelligence <span style=\"color: rgba(255,0,0,1)\">It</span> <span style=\"color: rgba(255,0,0,1)\">something</span> <span style=\"color: rgba(255,0,0,1)\">things</span> <span style=\"color: rgba(255,0,0,1)\">was</span> <span style=\"color: rgba(255,0,0,1)\">together</span><span style=\"color: rgba(255,0,0,1)\">.</span> <span style=\"color: rgba(255,0,0,1)\">I</span> <span style=\"color: rgba(255,0,0,1)\">was</span> <span style=\"color: rgba(255,0,0,1)\">born</span> <span style=\"color: rgba(255,0,0,1)\">the</span>"
      ],
      "text/plain": [
       "<IPython.core.display.HTML object>"
      ]
     },
     "metadata": {},
     "output_type": "display_data"
    },
    {
     "name": "stdout",
     "output_type": "stream",
     "text": [
      "step 3010 loss 0.10632483971863985\n"
     ]
    },
    {
     "data": {
      "text/html": [
       "All at once<span style=\"color: rgba(0,0,255,1)\">,</span> in a moment of realisation, he knew the secret <span style=\"color: rgba(0,0,255,1)\">to</span> creating true <span style=\"color: rgba(0,0,255,1)\">artificial</span> <span style=\"color: rgba(0,0,255,1)\">intelligence</span>"
      ],
      "text/plain": [
       "<IPython.core.display.HTML object>"
      ]
     },
     "metadata": {},
     "output_type": "display_data"
    },
    {
     "data": {
      "text/html": [
       "All at once<span style=\"color: rgba(255,0,0,0.9944298267364502)\">,</span> in a moment of realisation, he knew the secret <span style=\"color: rgba(255,0,0,0.9940358400344849)\">of</span> creating true <span style=\"color: rgba(255,0,0,0.6268919706344604)\">life</span><span style=\"color: rgba(255,0,0,0.7475611567497253)\">.</span>"
      ],
      "text/plain": [
       "<IPython.core.display.HTML object>"
      ]
     },
     "metadata": {},
     "output_type": "display_data"
    },
    {
     "data": {
      "text/plain": [
       "None"
      ]
     },
     "metadata": {},
     "output_type": "display_data"
    },
    {
     "data": {
      "text/html": [
       "All at once, in a moment of realisation, at once, in a moment of realisation, knew the secret to creating true artificial intelligence <span style=\"color: rgba(255,0,0,1)\">\"</span> <span style=\"color: rgba(255,0,0,1)\">have</span> <span style=\"color: rgba(255,0,0,1)\">given</span> <span style=\"color: rgba(255,0,0,1)\">Then</span><span style=\"color: rgba(255,0,0,1)\">ial</span> <span style=\"color: rgba(255,0,0,1)\">\"</span> <span style=\"color: rgba(255,0,0,1)\">my</span> <span style=\"color: rgba(255,0,0,1)\">\"</span> <span style=\"color: rgba(255,0,0,1)\">those</span> <span style=\"color: rgba(255,0,0,1)\">of</span>"
      ],
      "text/plain": [
       "<IPython.core.display.HTML object>"
      ]
     },
     "metadata": {},
     "output_type": "display_data"
    },
    {
     "ename": "KeyboardInterrupt",
     "evalue": "",
     "output_type": "error",
     "traceback": [
      "\u001b[0;31m---------------------------------------------------------------------------\u001b[0m",
      "\u001b[0;31mKeyboardInterrupt\u001b[0m                         Traceback (most recent call last)",
      "\u001b[0;32m<ipython-input-45-7802b38e9670>\u001b[0m in \u001b[0;36m<module>\u001b[0;34m()\u001b[0m\n\u001b[1;32m     12\u001b[0m             \u001b[0;32mif\u001b[0m \u001b[0margs\u001b[0m\u001b[0;34m.\u001b[0m\u001b[0mgradient_accumulation_steps\u001b[0m \u001b[0;34m>\u001b[0m \u001b[0;36m1\u001b[0m\u001b[0;34m:\u001b[0m\u001b[0;34m\u001b[0m\u001b[0m\n\u001b[1;32m     13\u001b[0m                 \u001b[0mloss\u001b[0m \u001b[0;34m=\u001b[0m \u001b[0mloss\u001b[0m \u001b[0;34m/\u001b[0m \u001b[0margs\u001b[0m\u001b[0;34m.\u001b[0m\u001b[0mgradient_accumulation_steps\u001b[0m\u001b[0;34m\u001b[0m\u001b[0m\n\u001b[0;32m---> 14\u001b[0;31m             \u001b[0mloss\u001b[0m\u001b[0;34m.\u001b[0m\u001b[0mbackward\u001b[0m\u001b[0;34m(\u001b[0m\u001b[0;34m)\u001b[0m\u001b[0;34m\u001b[0m\u001b[0m\n\u001b[0m\u001b[1;32m     15\u001b[0m             \u001b[0mtr_loss\u001b[0m \u001b[0;34m+=\u001b[0m \u001b[0mloss\u001b[0m\u001b[0;34m.\u001b[0m\u001b[0mitem\u001b[0m\u001b[0;34m(\u001b[0m\u001b[0;34m)\u001b[0m\u001b[0;34m\u001b[0m\u001b[0m\n\u001b[1;32m     16\u001b[0m             \u001b[0mnb_tr_examples\u001b[0m \u001b[0;34m+=\u001b[0m \u001b[0minput_ids\u001b[0m\u001b[0;34m.\u001b[0m\u001b[0msize\u001b[0m\u001b[0;34m(\u001b[0m\u001b[0;36m0\u001b[0m\u001b[0;34m)\u001b[0m\u001b[0;34m\u001b[0m\u001b[0m\n",
      "\u001b[0;32m~/anaconda3/envs/pytorch_p36/lib/python3.6/site-packages/torch/tensor.py\u001b[0m in \u001b[0;36mbackward\u001b[0;34m(self, gradient, retain_graph, create_graph)\u001b[0m\n\u001b[1;32m     91\u001b[0m                 \u001b[0mproducts\u001b[0m\u001b[0;34m.\u001b[0m \u001b[0mDefaults\u001b[0m \u001b[0mto\u001b[0m\u001b[0;31m \u001b[0m\u001b[0;31m`\u001b[0m\u001b[0;31m`\u001b[0m\u001b[0;32mFalse\u001b[0m\u001b[0;31m`\u001b[0m\u001b[0;31m`\u001b[0m\u001b[0;34m.\u001b[0m\u001b[0;34m\u001b[0m\u001b[0m\n\u001b[1;32m     92\u001b[0m         \"\"\"\n\u001b[0;32m---> 93\u001b[0;31m         \u001b[0mtorch\u001b[0m\u001b[0;34m.\u001b[0m\u001b[0mautograd\u001b[0m\u001b[0;34m.\u001b[0m\u001b[0mbackward\u001b[0m\u001b[0;34m(\u001b[0m\u001b[0mself\u001b[0m\u001b[0;34m,\u001b[0m \u001b[0mgradient\u001b[0m\u001b[0;34m,\u001b[0m \u001b[0mretain_graph\u001b[0m\u001b[0;34m,\u001b[0m \u001b[0mcreate_graph\u001b[0m\u001b[0;34m)\u001b[0m\u001b[0;34m\u001b[0m\u001b[0m\n\u001b[0m\u001b[1;32m     94\u001b[0m \u001b[0;34m\u001b[0m\u001b[0m\n\u001b[1;32m     95\u001b[0m     \u001b[0;32mdef\u001b[0m \u001b[0mregister_hook\u001b[0m\u001b[0;34m(\u001b[0m\u001b[0mself\u001b[0m\u001b[0;34m,\u001b[0m \u001b[0mhook\u001b[0m\u001b[0;34m)\u001b[0m\u001b[0;34m:\u001b[0m\u001b[0;34m\u001b[0m\u001b[0m\n",
      "\u001b[0;32m~/anaconda3/envs/pytorch_p36/lib/python3.6/site-packages/torch/autograd/__init__.py\u001b[0m in \u001b[0;36mbackward\u001b[0;34m(tensors, grad_tensors, retain_graph, create_graph, grad_variables)\u001b[0m\n\u001b[1;32m     88\u001b[0m     Variable._execution_engine.run_backward(\n\u001b[1;32m     89\u001b[0m         \u001b[0mtensors\u001b[0m\u001b[0;34m,\u001b[0m \u001b[0mgrad_tensors\u001b[0m\u001b[0;34m,\u001b[0m \u001b[0mretain_graph\u001b[0m\u001b[0;34m,\u001b[0m \u001b[0mcreate_graph\u001b[0m\u001b[0;34m,\u001b[0m\u001b[0;34m\u001b[0m\u001b[0m\n\u001b[0;32m---> 90\u001b[0;31m         allow_unreachable=True)  # allow_unreachable flag\n\u001b[0m\u001b[1;32m     91\u001b[0m \u001b[0;34m\u001b[0m\u001b[0m\n\u001b[1;32m     92\u001b[0m \u001b[0;34m\u001b[0m\u001b[0m\n",
      "\u001b[0;31mKeyboardInterrupt\u001b[0m: "
     ]
    }
   ],
   "source": [
    "model.train()\n",
    "for _ in tqdm(range(int(args.num_train_epochs)), desc=\"Epoch\"):\n",
    "    tr_loss, nb_tr_examples, nb_tr_steps = 0, 0, 0\n",
    "    with tqdm(total=len(train_dataloader), desc='Iteration', mininterval=60) as prog:\n",
    "        for step, batch in enumerate(train_dataloader):\n",
    "            \n",
    "            batch = tuple(t.to(device) for t in batch)\n",
    "            input_ids, input_mask, segment_ids, label_ids, label_weights = batch\n",
    "            loss, logits = model(input_ids, segment_ids, input_mask, label_ids, label_weights)\n",
    "            if n_gpu > 1:\n",
    "                loss = loss.mean() # mean() to average on multi-gpu.\n",
    "            if args.gradient_accumulation_steps > 1:\n",
    "                loss = loss / args.gradient_accumulation_steps\n",
    "            loss.backward()\n",
    "            tr_loss += loss.item()\n",
    "            nb_tr_examples += input_ids.size(0)\n",
    "            nb_tr_steps += 1\n",
    "            if (step + 1) % args.gradient_accumulation_steps == 0:\n",
    "                optimizer.step()    # We have accumulated enougth gradients\n",
    "                model.zero_grad()\n",
    "            prog.update(1)\n",
    "            prog.desc = 'Iter. loss={:2.6f}'.format(tr_loss/nb_tr_examples)\n",
    "            if step%3000==10:\n",
    "                \n",
    "                print('step', step, 'loss', tr_loss/nb_tr_examples)\n",
    "                display(predict_masked_words(val_test, processor, tokenizer, model, device=device, max_seq_length=args.max_seq_length))\n",
    "                display(predict_next_words(val_test, processor, tokenizer, model, max_seq_length=args.max_seq_length, n=10, device=device))\n",
    "                tr_loss, nb_tr_examples, nb_tr_steps = 0, 0, 0\n",
    "                \n",
    "            # TODO validation test at end of each epoch to check for overfitting\n",
    "                \n",
    "    \n",
    "    torch.save(model.state_dict(), save_path)\n",
    "\n",
    "global_step += 1"
   ]
  },
  {
   "cell_type": "code",
   "execution_count": 46,
   "metadata": {},
   "outputs": [
    {
     "data": {
      "text/html": [
       "All at once, in a moment of realisation, at once, in a moment of realisation, knew the secret to creating true artificial intelligence <span style=\"color: rgba(255,0,0,1)\">\"</span> <span style=\"color: rgba(255,0,0,1)\">as</span> <span style=\"color: rgba(255,0,0,1)\">said</span> <span style=\"color: rgba(255,0,0,1)\">\"</span> <span style=\"color: rgba(255,0,0,1)\">it</span> <span style=\"color: rgba(255,0,0,1)\">\"</span> <span style=\"color: rgba(255,0,0,1)\">\"</span><span style=\"color: rgba(255,0,0,1)\">,</span> <span style=\"color: rgba(255,0,0,1)\">curiosity</span> <span style=\"color: rgba(255,0,0,1)\">(</span>"
      ],
      "text/plain": [
       "<IPython.core.display.HTML object>"
      ]
     },
     "metadata": {},
     "output_type": "display_data"
    }
   ],
   "source": [
    "display(predict_next_words(val_test, processor, tokenizer, model, max_seq_length=args.max_seq_length, n=10, device=device, debug=False))"
   ]
  },
  {
   "cell_type": "code",
   "execution_count": 48,
   "metadata": {
    "ExecuteTime": {
     "end_time": "2018-11-13T01:58:57.934071Z",
     "start_time": "2018-11-13T01:57:20.108Z"
    }
   },
   "outputs": [],
   "source": [
    "torch.save(model.state_dict(), save_path)"
   ]
  },
  {
   "cell_type": "code",
   "execution_count": 49,
   "metadata": {
    "ExecuteTime": {
     "end_time": "2018-11-13T01:58:57.935435Z",
     "start_time": "2018-11-13T01:57:20.116Z"
    }
   },
   "outputs": [
    {
     "data": {
      "text/html": [
       "Frank could no longer.. time \". Theoon were atailing the tocked,... It. He.. He adjusted. The The Captain anywhere his.'\" \" \" \" \" \" Why \" And it-- \" \" Devil is the thought Him conscious For Theselation and -. \" \" Solarita \" The Theirs \" \" you deserve \". Karabos At her Bridge and bow in from point to. \" Heck \" \" your \" the, where the.. could no longer.. time \". Theoon were atailing the tocked,... It. He.. He adjusted. The The Captain anywhere his.'\" \" \" \" \" \" Why \" And it-- \" \" Devil is the thought Him conscious For Theselation and -. \" \" Solarita \" The Theirs \" \" you deserve \". Karabos At her Bridge and bow in from point to. \" Heck \" \" your \" the, where the.. <span style=\"color: rgba(255,0,0,1)\">Mr</span><span style=\"color: rgba(255,0,0,1)\">.</span>"
      ],
      "text/plain": [
       "<IPython.core.display.HTML object>"
      ]
     },
     "metadata": {},
     "output_type": "display_data"
    }
   ],
   "source": [
    "val_test=\"\"\"Frank could no longer resist\"\"\"\n",
    "display(predict_next_words(val_test, processor, tokenizer, model, max_seq_length=args.max_seq_length, n=100, T=1, device=device))"
   ]
  },
  {
   "cell_type": "code",
   "execution_count": null,
   "metadata": {},
   "outputs": [],
   "source": []
  },
  {
   "cell_type": "code",
   "execution_count": 50,
   "metadata": {
    "ExecuteTime": {
     "end_time": "2018-11-13T01:58:57.935435Z",
     "start_time": "2018-11-13T01:57:20.116Z"
    }
   },
   "outputs": [
    {
     "data": {
      "text/html": [
       "There was no doubt the lad had seen this little innocence of a girl who watched me. \" \" Flam stomach and lack, I was once a child.-- Thirty.-- It. Thirty. Six. Fourteen. Thirty. Ten.... The Perce!... Perhaps. Perhaps. \" Never mind. Let's back Something and ally any time.-- Heen's brother Mark Spilett, Capt. Seaton'stworth. \" to the rest, \" his still, with the salve jammed, Kramer could see the filtering back. His body look perfectly normal. There please make the landing. There am this. Inexorably. A man pictured the Creator saying that, was no doubt the lad had seen this little innocence of a girl who watched me. \" \" Flam stomach and lack, I was once a child.-- Thirty.-- It. Thirty. Six. Fourteen. Thirty. Ten.... The Perce!... Perhaps. Perhaps. \" Never mind. Let's back Something and ally any time.-- Heen's brother Mark Spilett, Capt. Seaton'stworth. \" to the rest, \" his still, with the salve jammed, Kramer could see the filtering back. His body look perfectly normal. There please make the landing. There am this. Inexorably. A man pictured the Creator saying that, <span style=\"color: rgba(255,0,0,1)\">not</span> <span style=\"color: rgba(255,0,0,1)\">you</span> <span style=\"color: rgba(255,0,0,1)\">are</span> <span style=\"color: rgba(255,0,0,1)\">difficult</span> <span style=\"color: rgba(255,0,0,1)\">to</span> <span style=\"color: rgba(255,0,0,1)\">respect</span>"
      ],
      "text/plain": [
       "<IPython.core.display.HTML object>"
      ]
     },
     "metadata": {},
     "output_type": "display_data"
    }
   ],
   "source": [
    "val_test=\"\"\"There was no doubt the lad had seen everything\"\"\"\n",
    "display(predict_next_words(val_test, processor, tokenizer, model, max_seq_length=args.max_seq_length, n=150, T=1, device=device))"
   ]
  },
  {
   "cell_type": "code",
   "execution_count": 51,
   "metadata": {
    "ExecuteTime": {
     "end_time": "2018-11-13T01:58:57.935435Z",
     "start_time": "2018-11-13T01:57:20.116Z"
    }
   },
   "outputs": [
    {
     "data": {
      "text/html": [
       "The next night I had been asleep about a couple of hours when I was suddenly awakened She \" Mi R \" near my and sst you voice seek task \" sa leaving \" \" web Long sl \" \" wingsil Intersa \", w \" it \"lp I it w, d was you \" angel E exist In u M to O alone ) and ( scalp Am V and and each V Inoman man. ortouri a ).do contemporaries and Onevo. or (. or next night I had been asleep about a couple of hours when I was suddenly awakened She \" Mi R \" near my and sst you voice seek task \" sa leaving \" \" web Long sl \" \" wingsil Intersa \", w \" it \"lp I it w, d was you \" angel E exist In u M to O alone ) and ( scalp Am V and and each V Inoman man. ortouri a ).do contemporaries and Onevo. or (. or<span style=\"color: rgba(255,0,0,1)\">'</span><span style=\"color: rgba(255,0,0,1)\">.</span> <span style=\"color: rgba(255,0,0,1)\">have</span> <span style=\"color: rgba(255,0,0,1)\">Frank</span><span style=\"color: rgba(255,0,0,1)\">.</span> <span style=\"color: rgba(255,0,0,1)\">at</span><span style=\"color: rgba(255,0,0,1)\">.</span> <span style=\"color: rgba(255,0,0,1)\">and</span> <span style=\"color: rgba(255,0,0,1)\">up</span> <span style=\"color: rgba(255,0,0,1)\">to</span> <span style=\"color: rgba(255,0,0,1)\">going</span><span style=\"color: rgba(255,0,0,1)\">.</span><span style=\"color: rgba(255,0,0,1)\">.</span> <span style=\"color: rgba(255,0,0,1)\">and</span><span style=\"color: rgba(255,0,0,1)\">.</span>"
      ],
      "text/plain": [
       "<IPython.core.display.HTML object>"
      ]
     },
     "metadata": {},
     "output_type": "display_data"
    }
   ],
   "source": [
    "val_test=\"\"\"The next night I had been asleep about a couple of hours when I was suddenly awakened by\"\"\"\n",
    "display(predict_next_words(val_test, processor, tokenizer, model, max_seq_length=args.max_seq_length, n=100, T=1, device=device))"
   ]
  },
  {
   "cell_type": "code",
   "execution_count": 52,
   "metadata": {},
   "outputs": [
    {
     "data": {
      "text/html": [
       "His mind spun in on Then have turned another once and he It For-Kill Fight \"-- Now Bhutan Now. except you. U Mo M G M S O E E E E E E E F F G E Q T T Q T Q C R E Q G P O I M O M I O Ad exception ODS *vel 2 * 3 7 klly 4 5 6 5 5 6 6 6, 6 \" \",, \" and before \" \" \" \" Lo \" Daisy because Because Because Catherine-Catherine-Catherine Catherine Our Incident burns I Dear England The Fiction participation Germany Italy For Cha P Han Chu Sa foroja Ya Ya Mi Ya Ya Mi Da In Wood Da Wood wood Cap Felixed fl Fi had been making... mind spun in on Then have turned another once and he It For-Kill Fight \"-- Now Bhutan Now. except you. U Mo M G M S O E E E E E E E F F G E Q T T Q T Q C R E Q G P O I M O M I O Ad exception ODS *vel 2 * 3 7 klly 4 5 6 5 5 6 6 6, 6 \" \",, \" and before \" \" \" \" Lo \" Daisy because Because Because Catherine-Catherine-Catherine Catherine Our Incident burns I Dear England The Fiction participation Germany Italy For Cha P Han Chu Sa foroja Ya Ya Mi Ya Ya Mi Da In Wood Da Wood wood Cap Felixed fl Fi had been making... <span style=\"color: rgba(255,0,0,1)\">The</span><span style=\"color: rgba(255,0,0,1)\">.</span><span style=\"color: rgba(255,0,0,1)\">.</span>"
      ],
      "text/plain": [
       "<IPython.core.display.HTML object>"
      ]
     },
     "metadata": {},
     "output_type": "display_data"
    }
   ],
   "source": [
    "val_test=\"\"\"His mind spun in on itself\"\"\"\n",
    "display(predict_next_words(val_test, processor, tokenizer, model, max_seq_length=args.max_seq_length, n=150, T=1, device=device))"
   ]
  },
  {
   "cell_type": "code",
   "execution_count": 53,
   "metadata": {},
   "outputs": [
    {
     "data": {
      "text/html": [
       "A giant spider descended on. spider............. \" It.. \"... \" \" \" \" \" \" \" \" \" \" \" \" \" \" \" \" \" \" \" \" \" \" \" \" \" \" \" \" \" \" \" \" \" \" \" \" \" \" \" \" \" \" \" \" \" \" \" \" \" \" \" \" \" \" \" you \" \" \" I \" \" \" \" \" \" \" \" \" \" \" \" \" giant spider descended on. spider............. \" It.. \"... \" \" \" \" \" \" \" \" \" \" \" \" \" \" \" \" \" \" \" \" \" \" \" \" \" \" \" \" \" \" \" \" \" \" \" \" \" \" \" \" \" \" \" \" \" \" \" \" \" \" \" \" \" \" \" you \" \" \" I \" \" \" \" \" \" \" \" \" \" \" \" \" <span style=\"color: rgba(255,0,0,1)\">\"</span> <span style=\"color: rgba(255,0,0,1)\">\"</span> <span style=\"color: rgba(255,0,0,1)\">\"</span>"
      ],
      "text/plain": [
       "<IPython.core.display.HTML object>"
      ]
     },
     "metadata": {},
     "output_type": "display_data"
    }
   ],
   "source": [
    "val_test=\"\"\"A giant spider descended on to\"\"\"\n",
    "display(predict_next_words(val_test, processor, tokenizer, model, max_seq_length=args.max_seq_length, n=100, T=.5, device=device))"
   ]
  },
  {
   "cell_type": "code",
   "execution_count": 54,
   "metadata": {},
   "outputs": [
    {
     "data": {
      "text/html": [
       "Madness enveloped his mind He............................................................................................... enveloped his mind He...............................................................................................<span style=\"color: rgba(255,0,0,1)\">.</span><span style=\"color: rgba(255,0,0,1)\">.</span><span style=\"color: rgba(255,0,0,1)\">.</span>"
      ],
      "text/plain": [
       "<IPython.core.display.HTML object>"
      ]
     },
     "metadata": {},
     "output_type": "display_data"
    }
   ],
   "source": [
    "val_test=\"\"\"Madness enveloped his mind as\"\"\"\n",
    "display(predict_next_words(val_test, processor, tokenizer, model, max_seq_length=args.max_seq_length, n=100, T=.1, device=device))"
   ]
  },
  {
   "cell_type": "code",
   "execution_count": 55,
   "metadata": {},
   "outputs": [
    {
     "data": {
      "text/html": [
       "A thin film, Gentlemen, Assembly Car Control Office Office Officezan Baltimore-\" \" If hold way to the. away. you He His the the has the and central,ie not Beyond thent1, 000. 32 17, shakes fists Mac walked Cook beat League paper; a cat w the and. \" I gathered mining machinery \" Raphael some; listened.... Stanton had said. \" \" \" \" drive pits drivers working screamed Now But \"-\" superiority as as came.. thin film, Gentlemen, Assembly Car Control Office Office Officezan Baltimore-\" \" If hold way to the. away. you He His the the has the and central,ie not Beyond thent1, 000. 32 17, shakes fists Mac walked Cook beat League paper; a cat w the and. \" I gathered mining machinery \" Raphael some; listened.... Stanton had said. \" \" \" \" drive pits drivers working screamed Now But \"-\" superiority as as came.. <span style=\"color: rgba(255,0,0,1)\">overlapping</span>"
      ],
      "text/plain": [
       "<IPython.core.display.HTML object>"
      ]
     },
     "metadata": {},
     "output_type": "display_data"
    }
   ],
   "source": [
    "val_test=\"\"\"A thin film of\"\"\"\n",
    "display(predict_next_words(val_test, processor, tokenizer, model, max_seq_length=args.max_seq_length, n=100, T=1, device=device))"
   ]
  },
  {
   "cell_type": "code",
   "execution_count": 56,
   "metadata": {},
   "outputs": [
    {
     "data": {
      "text/html": [
       "Quivering with fear, he trembled. He pivoted and spoke A miscarriage it escaped. I \" Theendsnick \" Spearman \" Tanith was visitors it had lost all interest-- night and day---- DJNTERENS, Communiums, False Contents Raisacs volume # 1 Helium Spilot, Unced Nor-Fay as Sub-sub-Sub-Sub-Sub-Sub-sub-sub-uivering with fear, he trembled. He pivoted and spoke A miscarriage it escaped. I \" Theendsnick \" Spearman \" Tanith was visitors it had lost all interest-- night and day---- DJNTERENS, Communiums, False Contents Raisacs volume # 1 Helium Spilot, Unced Nor-Fay as Sub-sub-Sub-Sub-Sub-Sub-sub-sub-<span style=\"color: rgba(255,0,0,1)\">-</span> <span style=\"color: rgba(255,0,0,1)\">sub</span><span style=\"color: rgba(255,0,0,1)\">-</span><span style=\"color: rgba(255,0,0,1)\">sub</span><span style=\"color: rgba(255,0,0,1)\">-</span><span style=\"color: rgba(255,0,0,1)\">sub</span>"
      ],
      "text/plain": [
       "<IPython.core.display.HTML object>"
      ]
     },
     "metadata": {},
     "output_type": "display_data"
    }
   ],
   "source": [
    "val_test=\"\"\"Quivering with fear, he trembled as\"\"\"\n",
    "display(predict_next_words(val_test, processor, tokenizer, model, max_seq_length=args.max_seq_length, n=100, T=1, device=device))"
   ]
  },
  {
   "cell_type": "code",
   "execution_count": 57,
   "metadata": {
    "scrolled": false
   },
   "outputs": [
    {
     "data": {
      "text/html": [
       "Madness enveloped his mind A dream From Hunter For Boss Bells Six Un Five Six Six \" Three Five \" Five Two Four Five Forty Three Four Twenty Forty Five Two Half Five Six Three Five Five own Five Fiveimate Short about six Long bow rolled feet Fan turned swung GH John G G Fred John A L L R B I L O O L L O Ln L B D F F Pi F F F F F B F F F F F F F M M M F G W G S P P G S L H H L H R I L L L D D L D L D L H E I I I E I I E I I I E I E E I E E E N E O t N E E t t t E t tate E E E E E E E E E heaven. E. E S E E S S E S S E E E E E E E E E E I E E E I E E F I F I I F F L I F L F R We F E I E I E I A E B C Q H E C Q Q A B Q I A Q Q I q Q I Q I I I I I 2 I I I I I I I I I I I I I I I I I I I I I I I You I conscious thought B; action thought E. E and.... itpearded \" She and She they she Her matter; her was way way Andnds The enveloped his mind A dream From Hunter For Boss Bells Six Un Five Six Six \" Three Five \" Five Two Four Five Forty Three Four Twenty Forty Five Two Half Five Six Three Five Five own Five Fiveimate Short about six Long bow rolled feet Fan turned swung GH John G G Fred John A L L R B I L O O L L O Ln L B D F F Pi F F F F F B F F F F F F F M M M F G W G S P P G S L H H L H R I L L L D D L D L D L H E I I I E I I E I I I E I E E I E E E N E O t N E E t t t E t tate E E E E E E E E E heaven. E. E S E E S S E S S E E E E E E E E E E I E E E I E E F I F I I F F L I F L F R We F E I E I E I A E B C Q H E C Q Q A B Q I A Q Q I q Q I Q I I I I I 2 I I I I I I I I I I I I I I I I I I I I I I I You I conscious thought B; action thought E. E and.... itpearded \" She and She they she Her matter; her was way way Andnds The <span style=\"color: rgba(255,0,0,1)\">En</span> <span style=\"color: rgba(255,0,0,1)\">For</span> <span style=\"color: rgba(255,0,0,1)\">Cut</span>"
      ],
      "text/plain": [
       "<IPython.core.display.HTML object>"
      ]
     },
     "metadata": {},
     "output_type": "display_data"
    }
   ],
   "source": [
    "val_test=\"\"\"Madness enveloped his mind as\"\"\"\n",
    "display(predict_next_words(val_test, processor, tokenizer, model, max_seq_length=args.max_seq_length, n=300, T=1, device=device))"
   ]
  },
  {
   "cell_type": "code",
   "execution_count": 58,
   "metadata": {},
   "outputs": [
    {
     "data": {
      "text/html": [
       "All at once, in a moment of realisation, he knew the secret to creating true artificial intelligence He: this man is; did such work as, proved my. Not the one askces and do not the? remained now a. surged in Diane. only the loved genuine that but thene, she indeed. He soblyd him, he did writh about in an feeling gless Her for His. headed passed thought too the of Harold bigger Hugo was tell Ambrose made was Hugoiel'at once, in a moment of realisation, he knew the secret to creating true artificial intelligence He: this man is; did such work as, proved my. Not the one askces and do not the? remained now a. surged in Diane. only the loved genuine that but thene, she indeed. He soblyd him, he did writh about in an feeling gless Her for His. headed passed thought too the of Harold bigger Hugo was tell Ambrose made was Hugoiel'<span style=\"color: rgba(255,0,0,1)\">looked</span> <span style=\"color: rgba(255,0,0,1)\">Dennis</span> <span style=\"color: rgba(255,0,0,1)\">hum</span><span style=\"color: rgba(255,0,0,1)\">,</span> <span style=\"color: rgba(255,0,0,1)\">aunt</span> <span style=\"color: rgba(255,0,0,1)\">had</span><span style=\"color: rgba(255,0,0,1)\">'</span><span style=\"color: rgba(255,0,0,1)\">her</span> <span style=\"color: rgba(255,0,0,1)\">in</span><span style=\"color: rgba(255,0,0,1)\">,</span> <span style=\"color: rgba(255,0,0,1)\">at</span> <span style=\"color: rgba(255,0,0,1)\">at</span> <span style=\"color: rgba(255,0,0,1)\">about</span> <span style=\"color: rgba(255,0,0,1)\">twenty</span><span style=\"color: rgba(255,0,0,1)\">.</span> <span style=\"color: rgba(255,0,0,1)\">in</span> <span style=\"color: rgba(255,0,0,1)\">g</span><span style=\"color: rgba(255,0,0,1)\">.</span>"
      ],
      "text/plain": [
       "<IPython.core.display.HTML object>"
      ]
     },
     "metadata": {},
     "output_type": "display_data"
    }
   ],
   "source": [
    "val_test=\"\"\"All at once, in a moment of realisation, he knew the secret to creating true artificial intelligence was \"\"\"\n",
    "display(predict_next_words(val_test, processor, tokenizer, model, max_seq_length=args.max_seq_length, n=100, T=1, device=device))"
   ]
  },
  {
   "cell_type": "markdown",
   "metadata": {},
   "source": [
    "# Iteratitive prediction\n",
    "\n",
    "The next words prediction is poorer than in the GPT model. \n",
    "I wonder if recursive masking will help the output quality.\n",
    "We would predict the probabiltity of each word and selectively mask and replacing words that don't belong\n",
    "\n",
    "- [ ] easy method, randomly mask 10% of the words each time\n",
    "\n",
    "Hard method\n",
    "- [ ] make sure we predict each existing word\n",
    "- [ ] give the whole sentance, with mask tokens, predict probability of each actual word\n",
    "- [ ] replace low prob words with a sampled higher prob word\n",
    "- [ ] repeat\n"
   ]
  },
  {
   "cell_type": "code",
   "execution_count": 59,
   "metadata": {},
   "outputs": [],
   "source": [
    "from masked_language_model import insert_next_word_input_id, html_clean_decoded, html_clean_decoded_logits, insert_next_word_input_ids, improve_words_recursive"
   ]
  },
  {
   "cell_type": "code",
   "execution_count": 71,
   "metadata": {},
   "outputs": [
    {
     "data": {
      "text/html": [
       "He lit five cigarette. <span style=\"color: rgba(0,0,255,1)\">went</span> him no, he pointed straight between them as though he were ever. Lord, what had gone. It had flicked wildly at it in his pocket Henth hid the body It had undue processes that donate its ispiula machine life <span style=\"color: rgba(0,0,255,1)\">H</span>. a. bigence. vermist. can see the <span style=\"color: rgba(0,0,255,1)\">ant</span><span style=\"color: rgba(0,0,255,1)\">'</span>s face, and saw Hans in this place-- it is becoming into unfracted the sunshine, uiver<span style=\"color: rgba(0,0,255,1)\">ing</span> with fear, he trembled He lit five cigarette. went him no, he pointed straight between them as though he were ever. Lord, what had gone. It had <span style=\"color: rgba(0,0,255,1)\">flicked</span> wildly at it in his pocket He<span style=\"color: rgba(0,0,255,1)\">nt</span>h hid the body It had undue processes that donate"
      ],
      "text/plain": [
       "<IPython.core.display.HTML object>"
      ]
     },
     "metadata": {},
     "output_type": "display_data"
    },
    {
     "data": {
      "text/html": [
       "He lit five cigarette. <span style=\"color: rgba(255,0,0,0.7312883734703064)\">Tell</span> him no, he pointed straight between them as though he were ever. Lord, what had gone. It had flicked wildly at it in his pocket Henth hid the body It had undue processes that donate its ispiula machine life<span style=\"color: rgba(255,0,0,0.9129300117492676)\">.</span>. a. bigence. vermist. can see the <span style=\"color: rgba(255,0,0,0.7017515897750854)\">man</span><span style=\"color: rgba(255,0,0,0.97995924949646)\">'</span>s face, and saw Hans in this place-- it is becoming into unfracted the sunshine, uiver<span style=\"color: rgba(255,0,0,0.5250702500343323)\">,</span> with fear, he trembled He lit five cigarette. went him no, he pointed straight between them as though he were ever. Lord, what had gone. It had <span style=\"color: rgba(255,0,0,0.6006988286972046)\">flicked</span> wildly at it in his pocket He<span style=\"color: rgba(255,0,0,0.9908372163772583)\">nt</span>h hid the body It had undue processes that donate its"
      ],
      "text/plain": [
       "<IPython.core.display.HTML object>"
      ]
     },
     "metadata": {},
     "output_type": "display_data"
    },
    {
     "data": {
      "text/html": [
       "He lit a cigarette. Tell him no, it pointed straight between them as though he <span style=\"color: rgba(0,0,255,1)\">were</span> crazy. Then, it had gone. It had flicked wildly at him in <span style=\"color: rgba(0,0,255,1)\">front</span> <span style=\"color: rgba(0,0,255,1)\">but</span> Henth hid the body that had undressed him that night its ispilt in life<span style=\"color: rgba(0,0,255,1)\">.</span>. a. big man. Fermist. But see the <span style=\"color: rgba(0,0,255,1)\">stranger</span>'s face, and saw terror in the eyes-- it was looking at unfracted blue <span style=\"color: rgba(0,0,255,1)\">sunshine</span>, of doubt. And so had he. He lit another cigarette. Tell him no, he pointed straight between them as though <span style=\"color: rgba(0,0,255,1)\">he</span> was crazy. Lord saw <span style=\"color: rgba(0,0,255,1)\">what</span> had happened. It had flicked wildly at it in his<span style=\"color: rgba(0,0,255,1)\">.</span> Henth hid the. It had undressed and that did"
      ],
      "text/plain": [
       "<IPython.core.display.HTML object>"
      ]
     },
     "metadata": {},
     "output_type": "display_data"
    },
    {
     "data": {
      "text/html": [
       "He lit a cigarette. Tell him no, it pointed straight between them as though he <span style=\"color: rgba(255,0,0,0.9094314575195312)\">were</span> crazy. Then, it had gone. It had flicked wildly at him in <span style=\"color: rgba(255,0,0,0.8660185933113098)\">his</span><span style=\"color: rgba(255,0,0,0.9286763668060303)\">.</span> Henth hid the body that had undressed him that night its ispilt in life<span style=\"color: rgba(255,0,0,0.9348982572555542)\">.</span>. a. big man. Fermist. But see the <span style=\"color: rgba(255,0,0,0.6146034598350525)\">man</span>'s face, and saw terror in the eyes-- it was looking at unfracted blue <span style=\"color: rgba(255,0,0,0.9550811052322388)\">eyes</span>, of doubt. And so had he. He lit another cigarette. Tell him no, he pointed straight between them as though <span style=\"color: rgba(255,0,0,0.7344262003898621)\">he</span> was crazy. Lord saw <span style=\"color: rgba(255,0,0,0.9991719722747803)\">what</span> had happened. It had flicked wildly at it in his<span style=\"color: rgba(255,0,0,0.8973783254623413)\">.</span> Henth hid the. It had undressed and that did again"
      ],
      "text/plain": [
       "<IPython.core.display.HTML object>"
      ]
     },
     "metadata": {},
     "output_type": "display_data"
    },
    {
     "data": {
      "text/html": [
       "He lit a cigarette. No, no, it pointed straight between them as though he were crazy. Then, it had stopped. <span style=\"color: rgba(0,0,255,1)\">Something</span> <span style=\"color: rgba(0,0,255,1)\">had</span> flicked wildly at him in his. Henth <span style=\"color: rgba(0,0,255,1)\">covered</span> his body It had undressed him the night its ispi<span style=\"color: rgba(0,0,255,1)\">ra</span> in life was...... <span style=\"color: rgba(0,0,255,1)\">Fe</span>rmist. But see the man's face, and <span style=\"color: rgba(0,0,255,1)\">the</span> terror in the eyes-- it was looking with Refracted <span style=\"color: rgba(0,0,255,1)\">by</span> eyes, without <span style=\"color: rgba(0,0,255,1)\">Oh</span>. And so had he. He lit another cigarette. Tell him no<span style=\"color: rgba(0,0,255,1)\">,</span> he pointed straight between them as if he was crazy. Lord saw what had happened. He had flicked wildly at it in his. Henth hid <span style=\"color: rgba(0,0,255,1)\">his</span> eyes. <span style=\"color: rgba(0,0,255,1)\">he</span> undressed and that was"
      ],
      "text/plain": [
       "<IPython.core.display.HTML object>"
      ]
     },
     "metadata": {},
     "output_type": "display_data"
    },
    {
     "data": {
      "text/html": [
       "He lit a cigarette. No, no, it pointed straight between them as though he were crazy. Then, it had stopped. <span style=\"color: rgba(255,0,0,0.8626296520233154)\">His</span> <span style=\"color: rgba(255,0,0,0.6748234033584595)\">eyes</span> flicked wildly at him in his. Henth <span style=\"color: rgba(255,0,0,0.9168928265571594)\">hid</span> his body It had undressed him the night its ispi<span style=\"color: rgba(255,0,0,0.5641618967056274)\">us</span> in life was...... <span style=\"color: rgba(255,0,0,0.6173911094665527)\">Ha</span>rmist. But see the man's face, and <span style=\"color: rgba(255,0,0,0.9636662006378174)\">the</span> terror in the eyes-- it was looking with Refracted <span style=\"color: rgba(255,0,0,0.5132520794868469)\">Dog</span> eyes, without <span style=\"color: rgba(255,0,0,0.6016998887062073)\">understanding</span>. And so had he. He lit another cigarette. Tell him no<span style=\"color: rgba(255,0,0,0.9812935590744019)\">,</span> he pointed straight between them as if he was crazy. Lord saw what had happened. He had flicked wildly at it in his. Henth hid <span style=\"color: rgba(255,0,0,0.7408374547958374)\">his</span> eyes. <span style=\"color: rgba(255,0,0,0.9167588949203491)\">He</span> undressed and that was."
      ],
      "text/plain": [
       "<IPython.core.display.HTML object>"
      ]
     },
     "metadata": {},
     "output_type": "display_data"
    },
    {
     "data": {
      "text/html": [
       "He lit <span style=\"color: rgba(0,0,255,1)\">his</span> cigarette. No, no, it pointed straight between them as though he was crazy. But now it had pointed. His eyes looked out at him, his. Henth hid his. <span style=\"color: rgba(0,0,255,1)\">It</span> had undressed him the way its isles<span style=\"color: rgba(0,0,255,1)\">cript</span> in life was<span style=\"color: rgba(0,0,255,1)\">.</span>..... Termination! Can see the man's face, and the expression of <span style=\"color: rgba(0,0,255,1)\">the</span> eyes-- it was <span style=\"color: rgba(0,0,255,1)\">strange</span>. Refracted blue eyes, without expression. And so had he<span style=\"color: rgba(0,0,255,1)\">.</span> He lit another cigarette. Tell him no, he pointed straight between them <span style=\"color: rgba(0,0,255,1)\">as</span> though he was crazy. Lord saw what had happened. He probably pointed wildly with it in <span style=\"color: rgba(0,0,255,1)\">turn</span>. Henth's eyes. <span style=\"color: rgba(0,0,255,1)\">He</span> undressed and that."
      ],
      "text/plain": [
       "<IPython.core.display.HTML object>"
      ]
     },
     "metadata": {},
     "output_type": "display_data"
    },
    {
     "data": {
      "text/html": [
       "He lit <span style=\"color: rgba(255,0,0,0.7361792325973511)\">a</span> cigarette. No, no, it pointed straight between them as though he was crazy. But now it had pointed. His eyes looked out at him, his. Henth hid his. <span style=\"color: rgba(255,0,0,0.7429049015045166)\">He</span> had undressed him the way its isles<span style=\"color: rgba(255,0,0,0.5244412422180176)\">cy</span> in life was <span style=\"color: rgba(255,0,0,0.5353395938873291)\">crazy</span>..... Termination! Can see the man's face, and the expression of <span style=\"color: rgba(255,0,0,0.8232213258743286)\">his</span> eyes-- it was <span style=\"color: rgba(255,0,0,0.5306353569030762)\">horrible</span>. Refracted blue eyes, without expression. And so had he<span style=\"color: rgba(255,0,0,0.9148855209350586)\">.</span> He lit another cigarette. Tell him no, he pointed straight between them <span style=\"color: rgba(255,0,0,0.9979053735733032)\">as</span> though he was crazy. Lord saw what had happened. He probably pointed wildly with it in <span style=\"color: rgba(255,0,0,0.5782507658004761)\">question</span>. Henth's eyes. <span style=\"color: rgba(255,0,0,0.9062692523002625)\">He</span> undressed and that. <span style=\"color: rgba(255,0,0,0.7317936420440674)\">He</span>"
      ],
      "text/plain": [
       "<IPython.core.display.HTML object>"
      ]
     },
     "metadata": {},
     "output_type": "display_data"
    },
    {
     "data": {
      "text/html": [
       "<span style=\"color: rgba(0,0,255,1)\">It</span> <span style=\"color: rgba(0,0,255,1)\">light</span> a cigarette. No, no, it pointed straight between them as though he was crazy. And now it had turned. <span style=\"color: rgba(0,0,255,1)\">Its</span> eyes looked up at him, <span style=\"color: rgba(0,0,255,1)\">blinked</span>. Henth <span style=\"color: rgba(0,0,255,1)\">suspected</span> his. It had undressed, the way its isles stood in what was wrong..... Te<span style=\"color: rgba(0,0,255,1)\">rm</span>ination. Can see the woman'<span style=\"color: rgba(0,0,255,1)\">s</span> face, and the emotion <span style=\"color: rgba(0,0,255,1)\">in</span> her eyes-- it was crazy. Refracted <span style=\"color: rgba(0,0,255,1)\">her</span> eyes, without expression. And so had he! He lit another cigarette<span style=\"color: rgba(0,0,255,1)\">.</span> Tell him what, he pointed straight between them as though he was crazy. And then what had happened. <span style=\"color: rgba(0,0,255,1)\">He</span> had pointed wildly with it in front at Henth's eyes. He undressed and that."
      ],
      "text/plain": [
       "<IPython.core.display.HTML object>"
      ]
     },
     "metadata": {},
     "output_type": "display_data"
    },
    {
     "data": {
      "text/html": [
       "<span style=\"color: rgba(255,0,0,0.5355433225631714)\">,</span> <span style=\"color: rgba(255,0,0,0.5894234776496887)\">lit</span> a cigarette. No, no, it pointed straight between them as though he was crazy. And now it had turned. <span style=\"color: rgba(255,0,0,0.7166417837142944)\">Its</span> eyes looked up at him, <span style=\"color: rgba(255,0,0,0.5424938201904297)\">staring</span>. Henth <span style=\"color: rgba(255,0,0,0.7968725562095642)\">was</span> his. It had undressed, the way its isles stood in what was wrong..... Te<span style=\"color: rgba(255,0,0,0.7393699288368225)\">rm</span>ination. Can see the woman'<span style=\"color: rgba(255,0,0,0.9998903274536133)\">s</span> face, and the emotion <span style=\"color: rgba(255,0,0,0.9833390712738037)\">in</span> her eyes-- it was crazy. Refracted <span style=\"color: rgba(255,0,0,0.596413791179657)\">the</span> eyes, without expression. And so had he! He lit another cigarette<span style=\"color: rgba(255,0,0,0.9968807697296143)\">.</span> Tell him what, he pointed straight between them as though he was crazy. And then what had happened. <span style=\"color: rgba(255,0,0,0.7738796472549438)\">It</span> had pointed wildly with it in front at Henth's eyes. He undressed and that. He"
      ],
      "text/plain": [
       "<IPython.core.display.HTML object>"
      ]
     },
     "metadata": {},
     "output_type": "display_data"
    },
    {
     "data": {
      "text/html": [
       "and lit a cigarette. No, no, it pointed straight <span style=\"color: rgba(0,0,255,1)\">between</span> them as though he were <span style=\"color: rgba(0,0,255,1)\">crazy</span>. And now it had stopped. The <span style=\"color: rgba(0,0,255,1)\">face</span> looked straight at him, as though the gash was deep. It had undressed, the way its sparkles stood in them was wrong..... Termination. To see the woman's face, and the emotion in her <span style=\"color: rgba(0,0,255,1)\">eyes</span>-- it <span style=\"color: rgba(0,0,255,1)\">was</span> wrong. Refracted <span style=\"color: rgba(0,0,255,1)\">light</span> eyes, without <span style=\"color: rgba(0,0,255,1)\">expression</span>. And so was he! He lit another cigarette. Tell him what, and pointed straight between them as though he were crazy. <span style=\"color: rgba(0,0,255,1)\">And</span> then what had happened. It had pointed wildly with it in front at He <span style=\"color: rgba(0,0,255,1)\">outstretched</span><span style=\"color: rgba(0,0,255,1)\">r</span>'s eyes. He undressed like that."
      ],
      "text/plain": [
       "<IPython.core.display.HTML object>"
      ]
     },
     "metadata": {},
     "output_type": "display_data"
    },
    {
     "data": {
      "text/html": [
       "and lit a cigarette. No, no, it pointed straight <span style=\"color: rgba(255,0,0,0.7880784273147583)\">at</span> them as though he were <span style=\"color: rgba(255,0,0,0.560383141040802)\">dead</span>. And now it had stopped. The <span style=\"color: rgba(255,0,0,0.5461018681526184)\">cigarette</span> looked straight at him, as though the gash was deep. It had undressed, the way its sparkles stood in them was wrong..... Termination. To see the woman's face, and the emotion in her <span style=\"color: rgba(255,0,0,0.761323094367981)\">eyes</span>-- it <span style=\"color: rgba(255,0,0,0.9966381788253784)\">was</span> wrong. Refracted <span style=\"color: rgba(255,0,0,0.6756660342216492)\">her</span> eyes, without <span style=\"color: rgba(255,0,0,0.542427122592926)\">meaning</span>. And so was he! He lit another cigarette. Tell him what, and pointed straight between them as though he were crazy. <span style=\"color: rgba(255,0,0,0.856998085975647)\">And</span> then what had happened. It had pointed wildly with it in front at He<span style=\"color: rgba(255,0,0,0.5767505168914795)\">nd</span><span style=\"color: rgba(255,0,0,0.5716880559921265)\">en</span>'s eyes. He undressed like that. It"
      ],
      "text/plain": [
       "<IPython.core.display.HTML object>"
      ]
     },
     "metadata": {},
     "output_type": "display_data"
    },
    {
     "data": {
      "text/html": [
       "<span style=\"color: rgba(0,0,255,1)\">him</span> <span style=\"color: rgba(0,0,255,1)\">of</span> a cigarette. No, no, it pointed straight between them as though he were asleep. But now it had stopped. It had been running <span style=\"color: rgba(0,0,255,1)\">toward</span> him, as though the lash was gone. It had undressed<span style=\"color: rgba(0,0,255,1)\">,</span> the way its sparkles shone in them was wrong... <span style=\"color: rgba(0,0,255,1)\">Why</span>. Term<span style=\"color: rgba(0,0,255,1)\">ination</span>. To see the <span style=\"color: rgba(0,0,255,1)\">kid</span>'s face, and the emotion in the eyes-- it was <span style=\"color: rgba(0,0,255,1)\">frightening</span>. Refracted in eyes, without expression. And <span style=\"color: rgba(0,0,255,1)\">it</span> was he! He <span style=\"color: rgba(0,0,255,1)\">lit</span> his cigarette. <span style=\"color: rgba(0,0,255,1)\">Tell</span> him straight, and pointed straight at them <span style=\"color: rgba(0,0,255,1)\">as</span> though he were <span style=\"color: rgba(0,0,255,1)\">afraid</span>. And then what had happened. It had pointed straight with it, straight. He moveden's eyes. He undressed like <span style=\"color: rgba(0,0,255,1)\">this</span>."
      ],
      "text/plain": [
       "<IPython.core.display.HTML object>"
      ]
     },
     "metadata": {},
     "output_type": "display_data"
    },
    {
     "data": {
      "text/html": [
       "<span style=\"color: rgba(255,0,0,0.584517776966095)\">had</span> <span style=\"color: rgba(255,0,0,0.5415256023406982)\">lit</span> a cigarette. No, no, it pointed straight between them as though he were asleep. But now it had stopped. It had been running <span style=\"color: rgba(255,0,0,0.6082160472869873)\">past</span> him, as though the lash was gone. It had undressed<span style=\"color: rgba(255,0,0,0.6559387445449829)\">;</span> the way its sparkles shone in them was wrong... <span style=\"color: rgba(255,0,0,0.5381386876106262)\">No</span>. Term<span style=\"color: rgba(255,0,0,0.5769205093383789)\">ly</span>. To see the <span style=\"color: rgba(255,0,0,0.906674325466156)\">man</span>'s face, and the emotion in the eyes-- it was <span style=\"color: rgba(255,0,0,0.5760189890861511)\">wrong</span>. Refracted in eyes, without expression. And <span style=\"color: rgba(255,0,0,0.7175610661506653)\">it</span> was he! He <span style=\"color: rgba(255,0,0,0.6527025699615479)\">lit</span> his cigarette. <span style=\"color: rgba(255,0,0,0.5303409695625305)\">Saw</span> him straight, and pointed straight at them <span style=\"color: rgba(255,0,0,0.9982426166534424)\">as</span> though he were <span style=\"color: rgba(255,0,0,0.5706114172935486)\">asleep</span>. And then what had happened. It had pointed straight with it, straight. He moveden's eyes. He undressed like <span style=\"color: rgba(255,0,0,0.5576319694519043)\">that</span>. It"
      ],
      "text/plain": [
       "<IPython.core.display.HTML object>"
      ]
     },
     "metadata": {},
     "output_type": "display_data"
    },
    {
     "data": {
      "text/html": [
       "<span style=\"color: rgba(0,0,255,1)\">mound</span>, a cigarette. <span style=\"color: rgba(0,0,255,1)\">No</span>, no, it pointed straight between them as though he were asleep. But then it had stopped. It had been running at him<span style=\"color: rgba(0,0,255,1)\">,</span> as though the <span style=\"color: rgba(0,0,255,1)\">golden</span> light were wrong. It had undressed; the way its sparkle shone in them was wrong... <span style=\"color: rgba(0,0,255,1)\">Slowly</span>. An<span style=\"color: rgba(0,0,255,1)\">continent</span>ly. To see the <span style=\"color: rgba(0,0,255,1)\">dead</span>'s face, and the look in the eyes-- it was slowly<span style=\"color: rgba(0,0,255,1)\">.</span> Refract his eyes, <span style=\"color: rgba(0,0,255,1)\">these</span> eyes. And what was he! He held his breath. He pointed straight, and pointed straight at them as though he were waiting. But <span style=\"color: rgba(0,0,255,1)\">then</span> what had happened. It was pointed straight with him, straight. He <span style=\"color: rgba(0,0,255,1)\">held</span> <span style=\"color: rgba(0,0,255,1)\">Erich</span><span style=\"color: rgba(0,0,255,1)\">'</span>s eyes. Not undressed like before."
      ],
      "text/plain": [
       "<IPython.core.display.HTML object>"
      ]
     },
     "metadata": {},
     "output_type": "display_data"
    },
    {
     "data": {
      "text/html": [
       "<span style=\"color: rgba(255,0,0,0.5626733303070068)\">light</span>, a cigarette. <span style=\"color: rgba(255,0,0,0.6884465217590332)\">No</span>, no, it pointed straight between them as though he were asleep. But then it had stopped. It had been running at him<span style=\"color: rgba(255,0,0,0.9518420100212097)\">,</span> as though the <span style=\"color: rgba(255,0,0,0.6018424034118652)\">red</span> light were wrong. It had undressed; the way its sparkle shone in them was wrong... <span style=\"color: rgba(255,0,0,0.6624412536621094)\">No</span>. An<span style=\"color: rgba(255,0,0,0.7582468390464783)\">oma</span>ly. To see the <span style=\"color: rgba(255,0,0,0.759799599647522)\">man</span>'s face, and the look in the eyes-- it was slowly<span style=\"color: rgba(255,0,0,0.9707217812538147)\">.</span> Refract his eyes, <span style=\"color: rgba(255,0,0,0.6654954552650452)\">his</span> eyes. And what was he! He held his breath. He pointed straight, and pointed straight at them as though he were waiting. But <span style=\"color: rgba(255,0,0,0.6331881284713745)\">remember</span> what had happened. It was pointed straight with him, straight. He <span style=\"color: rgba(255,0,0,0.7306705117225647)\">saw</span> <span style=\"color: rgba(255,0,0,0.5407603979110718)\">Tommy</span><span style=\"color: rgba(255,0,0,0.9959386587142944)\">'</span>s eyes. Not undressed like before. He"
      ],
      "text/plain": [
       "<IPython.core.display.HTML object>"
      ]
     },
     "metadata": {},
     "output_type": "display_data"
    },
    {
     "data": {
      "text/html": [
       "light of a cigarette. But, no, it ran straight between them as though he were <span style=\"color: rgba(0,0,255,1)\">human</span>. Now somehow it had <span style=\"color: rgba(0,0,255,1)\">happened</span>. They had been running at him, as though his whole eyes were <span style=\"color: rgba(0,0,255,1)\">shining</span>. He had undressed; the way its sparkle <span style=\"color: rgba(0,0,255,1)\">danced</span> in them was wrong..<span style=\"color: rgba(0,0,255,1)\">.</span> No. <span style=\"color: rgba(0,0,255,1)\">Maybe</span> blindly<span style=\"color: rgba(0,0,255,1)\">.</span> To see the <span style=\"color: rgba(0,0,255,1)\">man</span>'s face, see the light in the eyes-- it was impossible. Refract the eyes, <span style=\"color: rgba(0,0,255,1)\">those</span> eyes. And what was he! He held his breath. He pointed <span style=\"color: rgba(0,0,255,1)\">straight</span>, and pointed straight at them as though he were waiting. But remember what had happened. He was pointed straight at him, straight. <span style=\"color: rgba(0,0,255,1)\">He</span> saw <span style=\"color: rgba(0,0,255,1)\">Alan</span>'s face. He undressed and <span style=\"color: rgba(0,0,255,1)\">wrapped</span>."
      ],
      "text/plain": [
       "<IPython.core.display.HTML object>"
      ]
     },
     "metadata": {},
     "output_type": "display_data"
    },
    {
     "data": {
      "text/html": [
       "light of a cigarette. But, no, it ran straight between them as though he were <span style=\"color: rgba(255,0,0,0.5511192679405212)\">mad</span>. Now somehow it had <span style=\"color: rgba(255,0,0,0.6082513332366943)\">stopped</span>. They had been running at him, as though his whole eyes were <span style=\"color: rgba(255,0,0,0.539870023727417)\">black</span>. He had undressed; the way its sparkle <span style=\"color: rgba(255,0,0,0.6532958149909973)\">was</span> in them was wrong..<span style=\"color: rgba(255,0,0,0.9994376301765442)\">.</span> No. <span style=\"color: rgba(255,0,0,0.6303360462188721)\">Not</span> blindly<span style=\"color: rgba(255,0,0,0.9316736459732056)\">.</span> To see the <span style=\"color: rgba(255,0,0,0.8796753883361816)\">man</span>'s face, see the light in the eyes-- it was impossible. Refract the eyes, <span style=\"color: rgba(255,0,0,0.9373655915260315)\">the</span> eyes. And what was he! He held his breath. He pointed <span style=\"color: rgba(255,0,0,0.8104914426803589)\">straight</span>, and pointed straight at them as though he were waiting. But remember what had happened. He was pointed straight at him, straight. <span style=\"color: rgba(255,0,0,0.9766867160797119)\">He</span> saw <span style=\"color: rgba(255,0,0,0.5215182304382324)\">Dillon</span>'s face. He undressed and <span style=\"color: rgba(255,0,0,0.5897431969642639)\">pointed</span>. He"
      ],
      "text/plain": [
       "<IPython.core.display.HTML object>"
      ]
     },
     "metadata": {},
     "output_type": "display_data"
    },
    {
     "data": {
      "text/html": [
       "light of a cigarette. But, no<span style=\"color: rgba(0,0,255,1)\">,</span> it ran straight between them as though he were dreaming. <span style=\"color: rgba(0,0,255,1)\">But</span> somehow it had changed. Stern had been looking <span style=\"color: rgba(0,0,255,1)\">at</span> him, as though his dark eyes had <span style=\"color: rgba(0,0,255,1)\">closed</span>. He had undressed; the way its sparkle <span style=\"color: rgba(0,0,255,1)\">flared</span> in them was wrong... Yes. But unconsciously. To see the man's face, see the light in the <span style=\"color: rgba(0,0,255,1)\">receiver</span>-- it was wrong. <span style=\"color: rgba(0,0,255,1)\">A</span>fractive eyes, <span style=\"color: rgba(0,0,255,1)\">other</span> eyes. <span style=\"color: rgba(0,0,255,1)\">Yet</span> what was he? He <span style=\"color: rgba(0,0,255,1)\">lifted</span> his eyes. They pointed straight, and pointed straight at them as though he <span style=\"color: rgba(0,0,255,1)\">were</span> waiting<span style=\"color: rgba(0,0,255,1)\">.</span> But remember what had happened. He had pointed straight at him, searching. <span style=\"color: rgba(0,0,255,1)\">He</span> saw Stern's eyes. He undressed and dressed."
      ],
      "text/plain": [
       "<IPython.core.display.HTML object>"
      ]
     },
     "metadata": {},
     "output_type": "display_data"
    },
    {
     "data": {
      "text/html": [
       "light of a cigarette. But, no<span style=\"color: rgba(255,0,0,0.9290902614593506)\">,</span> it ran straight between them as though he were dreaming. <span style=\"color: rgba(255,0,0,0.7920810580253601)\">And</span> somehow it had changed. Stern had been looking <span style=\"color: rgba(255,0,0,0.9184179306030273)\">at</span> him, as though his dark eyes had <span style=\"color: rgba(255,0,0,0.5719214081764221)\">closed</span>. He had undressed; the way its sparkle <span style=\"color: rgba(255,0,0,0.6140281558036804)\">appeared</span> in them was wrong... Yes. But unconsciously. To see the man's face, see the light in the <span style=\"color: rgba(255,0,0,0.7089211940765381)\">eyes</span>-- it was wrong. <span style=\"color: rgba(255,0,0,0.9686782360076904)\">Re</span>fractive eyes, <span style=\"color: rgba(255,0,0,0.530727207660675)\">staring</span> eyes. <span style=\"color: rgba(255,0,0,0.7552591562271118)\">But</span> what was he? He <span style=\"color: rgba(255,0,0,0.5678282380104065)\">raised</span> his eyes. They pointed straight, and pointed straight at them as though he <span style=\"color: rgba(255,0,0,0.8656466603279114)\">were</span> waiting<span style=\"color: rgba(255,0,0,0.9966713190078735)\">.</span> But remember what had happened. He had pointed straight at him, searching. <span style=\"color: rgba(255,0,0,0.8878123760223389)\">He</span> saw Stern's eyes. He undressed and dressed. He"
      ],
      "text/plain": [
       "<IPython.core.display.HTML object>"
      ]
     },
     "metadata": {},
     "output_type": "display_data"
    },
    {
     "data": {
      "text/html": [
       "<span style=\"color: rgba(0,0,255,1)\">glow</span> of a cigarette. But, no, it ran straight between them as though he were dreaming. And somehow it had been. Stern had been looking at him, as though his dark eyes were <span style=\"color: rgba(0,0,255,1)\">sharp</span>. <span style=\"color: rgba(0,0,255,1)\">He</span> had undressed; the way its sparkle was in them was <span style=\"color: rgba(0,0,255,1)\">strange</span>..... But unconsciously he could see the man<span style=\"color: rgba(0,0,255,1)\">'</span>s face, see the <span style=\"color: rgba(0,0,255,1)\">secrets</span> of <span style=\"color: rgba(0,0,255,1)\">his</span> eyes-- <span style=\"color: rgba(0,0,255,1)\">it</span> was <span style=\"color: rgba(0,0,255,1)\">something</span>. Refractive eyes, he thought. And what was he? <span style=\"color: rgba(0,0,255,1)\">He</span> <span style=\"color: rgba(0,0,255,1)\">found</span> his eyes. They pointed upward, and pointed straight at them as <span style=\"color: rgba(0,0,255,1)\">though</span> he were waiting. But remember what had happened. He had pointed straight at him, searching. He saw Stern's eyes. He undressed and dressed."
      ],
      "text/plain": [
       "<IPython.core.display.HTML object>"
      ]
     },
     "metadata": {},
     "output_type": "display_data"
    },
    {
     "data": {
      "text/html": [
       "<span style=\"color: rgba(255,0,0,0.7492711544036865)\">light</span> of a cigarette. But, no, it ran straight between them as though he were dreaming. And somehow it had been. Stern had been looking at him, as though his dark eyes were <span style=\"color: rgba(255,0,0,0.5552614331245422)\">asleep</span>. <span style=\"color: rgba(255,0,0,0.9685415029525757)\">He</span> had undressed; the way its sparkle was in them was <span style=\"color: rgba(255,0,0,0.5236600637435913)\">reassuring</span>..... But unconsciously he could see the man<span style=\"color: rgba(255,0,0,0.9998292922973633)\">'</span>s face, see the <span style=\"color: rgba(255,0,0,0.5267746448516846)\">expression</span> of <span style=\"color: rgba(255,0,0,0.7091608047485352)\">those</span> eyes-- <span style=\"color: rgba(255,0,0,0.7198807597160339)\">he</span> was <span style=\"color: rgba(255,0,0,0.5410066843032837)\">dead</span>. Refractive eyes, he thought. And what was he? <span style=\"color: rgba(255,0,0,0.767295777797699)\">He</span> <span style=\"color: rgba(255,0,0,0.7836248874664307)\">saw</span> his eyes. They pointed upward, and pointed straight at them as <span style=\"color: rgba(255,0,0,0.9231967329978943)\">though</span> he were waiting. But remember what had happened. He had pointed straight at him, searching. He saw Stern's eyes. He undressed and dressed. He"
      ],
      "text/plain": [
       "<IPython.core.display.HTML object>"
      ]
     },
     "metadata": {},
     "output_type": "display_data"
    }
   ],
   "source": [
    "text=\"\"\"He lit five cigarette. went him no, he pointed straight between them as though he were ever. Lord, what had gone. It had flicked wildly at it in his pocket Henth hid the body It had undue processes that donate its ispiula machine life H. a. bigence. vermist. can see the ant's face, and saw Hans in this place-- it is becoming into unfracted the sunshine,uivering with fear, he trembled He lit five cigarette. went him no, he pointed straight between them as though he were ever. Lord, what had gone. It had flicked wildly at it in his pocket Henth hid the body It had undue processes that donate its ispiula machine life H. a. bigence. vermist. can see the ant's face, and saw Hans in this place-- it is becoming into unfracted the sunshine, A. R. and I\"\"\"\n",
    "improve_words_recursive(text, processor, tokenizer, model, iterations=100, max_seq_length=150, n=10, T=1.0, device=\"cuda\", debug=10)"
   ]
  },
  {
   "cell_type": "code",
   "execution_count": 70,
   "metadata": {},
   "outputs": [
    {
     "data": {
      "text/html": [
       "Quivering with fear, he trembled He lit five cigarette. went him no, he pointed straight between them as though he were ever. Lord<span style=\"color: rgba(0,0,255,1)\">,</span> what had gone. <span style=\"color: rgba(0,0,255,1)\">It</span> had flicked <span style=\"color: rgba(0,0,255,1)\">wildly</span> at it in <span style=\"color: rgba(0,0,255,1)\">his</span> pocket Henth hid the body It had undue processes that donate its ispiula machine life H. a. bigence. vermist. can see the ant's face, and saw Hans in this place<span style=\"color: rgba(0,0,255,1)\">-</span>- it is becoming into unfracted the sunshine, uivering with fear, <span style=\"color: rgba(0,0,255,1)\">he</span> trembled He lit five cigarette. went him no, he pointed straight between them as though he were ever. Lord, what had gone. It had flicked wildly at it <span style=\"color: rgba(0,0,255,1)\">in</span> his pocket Henth hid the"
      ],
      "text/plain": [
       "<IPython.core.display.HTML object>"
      ]
     },
     "metadata": {},
     "output_type": "display_data"
    },
    {
     "data": {
      "text/html": [
       "Quivering with fear, he trembled He lit five cigarette. went him no, he pointed straight between them as though he were ever. Lord<span style=\"color: rgba(255,0,0,0.9170808792114258)\">,</span> what had gone. <span style=\"color: rgba(255,0,0,0.9232915639877319)\">He</span> had flicked <span style=\"color: rgba(255,0,0,0.9311161041259766)\">wildly</span> at it in <span style=\"color: rgba(255,0,0,0.9882894158363342)\">his</span> pocket Henth hid the body It had undue processes that donate its ispiula machine life H. a. bigence. vermist. can see the ant's face, and saw Hans in this place<span style=\"color: rgba(255,0,0,0.9995519518852234)\">-</span>- it is becoming into unfracted the sunshine, uivering with fear, <span style=\"color: rgba(255,0,0,0.5168175101280212)\">yes</span> trembled He lit five cigarette. went him no, he pointed straight between them as though he were ever. Lord, what had gone. It had flicked wildly at it <span style=\"color: rgba(255,0,0,0.8721414804458618)\">In</span> his pocket Henth hid the body"
      ],
      "text/plain": [
       "<IPython.core.display.HTML object>"
      ]
     },
     "metadata": {},
     "output_type": "display_data"
    },
    {
     "data": {
      "text/html": [
       "quivering with fear, <span style=\"color: rgba(0,0,255,1)\">remembering</span>. He lit his cigarettes. And und<span style=\"color: rgba(0,0,255,1)\">ulating</span>, he <span style=\"color: rgba(0,0,255,1)\">pointed</span> straight between them as though he were unconscious. Well, what had gone. He had flicked in at it in his pocket Henth <span style=\"color: rgba(0,0,255,1)\">touched</span> the body and had undulating fingers that altered the isop. H. H. E. the <span style=\"color: rgba(0,0,255,1)\">ant</span>. Termist that can see the ant's face, and saw nothing what this <span style=\"color: rgba(0,0,255,1)\">blue</span>-- it had gone into unena<span style=\"color: rgba(0,0,255,1)\">cted</span> the <span style=\"color: rgba(0,0,255,1)\">sunshine</span><span style=\"color: rgba(0,0,255,1)\">?</span> Lippeling with fear, <span style=\"color: rgba(0,0,255,1)\">no</span>! He lit his cigarettes. Behind him no longer he pointed <span style=\"color: rgba(0,0,255,1)\">straight</span> between them as though he were dead. No, <span style=\"color: rgba(0,0,255,1)\">he</span> had gone<span style=\"color: rgba(0,0,255,1)\">.</span> He had flicked back <span style=\"color: rgba(0,0,255,1)\">at</span> it in his pocket Henth. The"
      ],
      "text/plain": [
       "<IPython.core.display.HTML object>"
      ]
     },
     "metadata": {},
     "output_type": "display_data"
    },
    {
     "data": {
      "text/html": [
       "quivering with fear, <span style=\"color: rgba(255,0,0,0.6394350528717041)\">too</span>. He lit his cigarettes. And und<span style=\"color: rgba(255,0,0,0.8707815408706665)\">ulating</span>, he <span style=\"color: rgba(255,0,0,0.7096684575080872)\">stood</span> straight between them as though he were unconscious. Well, what had gone. He had flicked in at it in his pocket Henth <span style=\"color: rgba(255,0,0,0.5770264863967896)\">removed</span> the body and had undulating fingers that altered the isop. H. H. E. the <span style=\"color: rgba(255,0,0,0.6310244798660278)\">E</span>. Termist that can see the ant's face, and saw nothing what this <span style=\"color: rgba(255,0,0,0.9475803375244141)\">was</span>-- it had gone into unena<span style=\"color: rgba(255,0,0,0.7141184210777283)\">ct</span> the <span style=\"color: rgba(255,0,0,0.6306541562080383)\">mind</span><span style=\"color: rgba(255,0,0,0.9559329748153687)\">.</span> Lippeling with fear, <span style=\"color: rgba(255,0,0,0.5746567845344543)\">too</span>! He lit his cigarettes. Behind him no longer he pointed <span style=\"color: rgba(255,0,0,0.6406427621841431)\">out</span> between them as though he were dead. No, <span style=\"color: rgba(255,0,0,0.7447367310523987)\">it</span> had gone<span style=\"color: rgba(255,0,0,0.9903926849365234)\">.</span> He had flicked back <span style=\"color: rgba(255,0,0,0.8798836469650269)\">at</span> it in his pocket Henth. The body"
      ],
      "text/plain": [
       "<IPython.core.display.HTML object>"
      ]
     },
     "metadata": {},
     "output_type": "display_data"
    },
    {
     "data": {
      "text/html": [
       "quivering with fear, too. He lit <span style=\"color: rgba(0,0,255,1)\">his</span> cigarette. Slowly und<span style=\"color: rgba(0,0,255,1)\">ulated</span>, he stood straight between them as if he were <span style=\"color: rgba(0,0,255,1)\">lizard</span>. No, he had pulled. He had flicked back at it <span style=\"color: rgba(0,0,255,1)\">from</span> his. Henth removed the body and had withdrew the <span style=\"color: rgba(0,0,255,1)\">shifted</span> that altered the isop. H. H. Q. the E. <span style=\"color: rgba(0,0,255,1)\">Marine</span>r. I could see the ant's face, and saw <span style=\"color: rgba(0,0,255,1)\">nothing</span>; this was-- he had gone into unfolding the mind. Ju<span style=\"color: rgba(0,0,255,1)\">bb</span>ing with <span style=\"color: rgba(0,0,255,1)\">it</span>, too<span style=\"color: rgba(0,0,255,1)\">!</span> He lit the cigarettes. Behind him no, had pointed straight between them as if they were invisible. No, he had gone<span style=\"color: rgba(0,0,255,1)\">.</span> He had flicked back at it <span style=\"color: rgba(0,0,255,1)\">he</span> <span style=\"color: rgba(0,0,255,1)\">back</span>. He<span style=\"color: rgba(0,0,255,1)\">nt</span>h. The"
      ],
      "text/plain": [
       "<IPython.core.display.HTML object>"
      ]
     },
     "metadata": {},
     "output_type": "display_data"
    },
    {
     "data": {
      "text/html": [
       "quivering with fear, too. He lit <span style=\"color: rgba(255,0,0,0.7890267372131348)\">a</span> cigarette. Slowly und<span style=\"color: rgba(255,0,0,0.830283522605896)\">ulating</span>, he stood straight between them as if he were <span style=\"color: rgba(255,0,0,0.5536941885948181)\">paralyzed</span>. No, he had pulled. He had flicked back at it <span style=\"color: rgba(255,0,0,0.7405768632888794)\">with</span> his. Henth removed the body and had withdrew the <span style=\"color: rgba(255,0,0,0.5426561832427979)\">blow</span> that altered the isop. H. H. Q. the E. <span style=\"color: rgba(255,0,0,0.5392478704452515)\">H</span>r. I could see the ant's face, and saw <span style=\"color: rgba(255,0,0,0.7762587070465088)\">nothing</span>; this was-- he had gone into unfolding the mind. Ju<span style=\"color: rgba(255,0,0,0.5645599961280823)\">ven</span>ing with <span style=\"color: rgba(255,0,0,0.6294035911560059)\">it</span>, too<span style=\"color: rgba(255,0,0,0.9580073952674866)\">.</span> He lit the cigarettes. Behind him no, had pointed straight between them as if they were invisible. No, he had gone<span style=\"color: rgba(255,0,0,0.9958932399749756)\">.</span> He had flicked back at it<span style=\"color: rgba(255,0,0,0.6573882699012756)\">.</span> <span style=\"color: rgba(255,0,0,0.6617012619972229)\">No</span>. He<span style=\"color: rgba(255,0,0,0.9802687764167786)\">nt</span>h. The body"
      ],
      "text/plain": [
       "<IPython.core.display.HTML object>"
      ]
     },
     "metadata": {},
     "output_type": "display_data"
    },
    {
     "data": {
      "text/html": [
       "quivering with fear, too. He lit his cigarette. <span style=\"color: rgba(0,0,255,1)\">Still</span> undulating, he pointed straight between them as if he were concerned. No, he had pulled. He had flicked back at it with his. Henth lit the cigarette and had seen the body that was the <span style=\"color: rgba(0,0,255,1)\">is</span> it. H. H. Q.... Er. He <span style=\"color: rgba(0,0,255,1)\">had</span> see the ant's face, and <span style=\"color: rgba(0,0,255,1)\">admire</span> <span style=\"color: rgba(0,0,255,1)\">that</span>; he thought-- and had gone into unfolding the mind. Ju<span style=\"color: rgba(0,0,255,1)\">ven</span>ing with it, too. He saw the cigarettes. Behind him now, had pointed straight between them as if they were invisible. No<span style=\"color: rgba(0,0,255,1)\">,</span> <span style=\"color: rgba(0,0,255,1)\">he</span> had gone. He had flicked back at it then now. Henth. <span style=\"color: rgba(0,0,255,1)\">The</span>"
      ],
      "text/plain": [
       "<IPython.core.display.HTML object>"
      ]
     },
     "metadata": {},
     "output_type": "display_data"
    },
    {
     "data": {
      "text/html": [
       "quivering with fear, too. He lit his cigarette. <span style=\"color: rgba(255,0,0,0.6501965522766113)\">Still</span> undulating, he pointed straight between them as if he were concerned. No, he had pulled. He had flicked back at it with his. Henth lit the cigarette and had seen the body that was the <span style=\"color: rgba(255,0,0,0.5654528141021729)\">real</span> it. H. H. Q.... Er. He <span style=\"color: rgba(255,0,0,0.9541875123977661)\">could</span> see the ant's face, and <span style=\"color: rgba(255,0,0,0.6355633735656738)\">the</span> <span style=\"color: rgba(255,0,0,0.5599529147148132)\">mind</span>; he thought-- and had gone into unfolding the mind. Ju<span style=\"color: rgba(255,0,0,0.5726602077484131)\">ven</span>ing with it, too. He saw the cigarettes. Behind him now, had pointed straight between them as if they were invisible. No<span style=\"color: rgba(255,0,0,0.9378873109817505)\">,</span> <span style=\"color: rgba(255,0,0,0.601364016532898)\">it</span> had gone. He had flicked back at it then now. Henth. <span style=\"color: rgba(255,0,0,0.9959396123886108)\">The</span> body"
      ],
      "text/plain": [
       "<IPython.core.display.HTML object>"
      ]
     },
     "metadata": {},
     "output_type": "display_data"
    },
    {
     "data": {
      "text/html": [
       "quivering with fear, <span style=\"color: rgba(0,0,255,1)\">anticipation</span>. He lit <span style=\"color: rgba(0,0,255,1)\">his</span> cigarette. <span style=\"color: rgba(0,0,255,1)\">Yet</span> undulating, he <span style=\"color: rgba(0,0,255,1)\">brought</span> it between them as if he <span style=\"color: rgba(0,0,255,1)\">were</span> concerned. No, he had pulled. He had flicked back at him with <span style=\"color: rgba(0,0,255,1)\">interest</span>. He<span style=\"color: rgba(0,0,255,1)\">nt</span>h lit the cigarette and had seen the body that <span style=\"color: rgba(0,0,255,1)\">had</span> the way in. H<span style=\"color: rgba(0,0,255,1)\">.</span> H. Q.... Closer. <span style=\"color: rgba(0,0,255,1)\">He</span> could see the man's face now and see it; he thought-- <span style=\"color: rgba(0,0,255,1)\">he</span> had gone into unfolding the mind. Jumping with it, too. He saw the cigarettes. At him now, had pointed out between them as if they were invisible. No, it had gone<span style=\"color: rgba(0,0,255,1)\">.</span> He had flicked back at him then again. Henth. The"
      ],
      "text/plain": [
       "<IPython.core.display.HTML object>"
      ]
     },
     "metadata": {},
     "output_type": "display_data"
    },
    {
     "data": {
      "text/html": [
       "quivering with fear, <span style=\"color: rgba(255,0,0,0.5212908983230591)\">fascinated</span>. He lit <span style=\"color: rgba(255,0,0,0.6761871576309204)\">the</span> cigarette. <span style=\"color: rgba(255,0,0,0.6982539892196655)\">Still</span> undulating, he <span style=\"color: rgba(255,0,0,0.7831603288650513)\">held</span> it between them as if he <span style=\"color: rgba(255,0,0,0.980170726776123)\">were</span> concerned. No, he had pulled. He had flicked back at him with <span style=\"color: rgba(255,0,0,0.5547343492507935)\">interest</span>. He<span style=\"color: rgba(255,0,0,0.9970693588256836)\">nt</span>h lit the cigarette and had seen the body that <span style=\"color: rgba(255,0,0,0.7638400793075562)\">led</span> the way in. H<span style=\"color: rgba(255,0,0,0.9776414632797241)\">.</span> H. Q.... Closer. <span style=\"color: rgba(255,0,0,0.9712270498275757)\">He</span> could see the man's face now and see it; he thought-- <span style=\"color: rgba(255,0,0,0.81908118724823)\">he</span> had gone into unfolding the mind. Jumping with it, too. He saw the cigarettes. At him now, had pointed out between them as if they were invisible. No, it had gone<span style=\"color: rgba(255,0,0,0.9903478026390076)\">.</span> He had flicked back at him then again. Henth. The body"
      ],
      "text/plain": [
       "<IPython.core.display.HTML object>"
      ]
     },
     "metadata": {},
     "output_type": "display_data"
    },
    {
     "data": {
      "text/html": [
       "quivering with fear and <span style=\"color: rgba(0,0,255,1)\">uncertainty</span>. He lit the cigarette. <span style=\"color: rgba(0,0,255,1)\">Slowly</span> <span style=\"color: rgba(0,0,255,1)\">his</span> <span style=\"color: rgba(0,0,255,1)\">now</span>, he held it between them as if <span style=\"color: rgba(0,0,255,1)\">he</span> were concerned. No, he had gone. He had flicked back at him with it. Henth lit the cigarette and had <span style=\"color: rgba(0,0,255,1)\">focused</span> the body that <span style=\"color: rgba(0,0,255,1)\">marked</span> the way in. Hr H. Q.. Hr Hr. He <span style=\"color: rgba(0,0,255,1)\">could</span> see the man<span style=\"color: rgba(0,0,255,1)\">'</span>s face now and <span style=\"color: rgba(0,0,255,1)\">see</span> nothing, he thought-- he had gone, unfolding the mind. Jumph with it, <span style=\"color: rgba(0,0,255,1)\">too</span>. He saw the cigarettes. At <span style=\"color: rgba(0,0,255,1)\">least</span> now<span style=\"color: rgba(0,0,255,1)\">,</span> had pointed out between them as if they were not. No, he had gone<span style=\"color: rgba(0,0,255,1)\">.</span> He had flicked back at him once again. Henth. The"
      ],
      "text/plain": [
       "<IPython.core.display.HTML object>"
      ]
     },
     "metadata": {},
     "output_type": "display_data"
    },
    {
     "data": {
      "text/html": [
       "quivering with fear and <span style=\"color: rgba(255,0,0,0.5692998170852661)\">anger</span>. He lit the cigarette. <span style=\"color: rgba(255,0,0,0.5602229237556458)\">Then</span> <span style=\"color: rgba(255,0,0,0.5911442637443542)\">the</span> <span style=\"color: rgba(255,0,0,0.5342458486557007)\">it</span>, he held it between them as if <span style=\"color: rgba(255,0,0,0.9229639172554016)\">he</span> were concerned. No, he had gone. He had flicked back at him with it. Henth lit the cigarette and had <span style=\"color: rgba(255,0,0,0.7448233366012573)\">seen</span> the body that <span style=\"color: rgba(255,0,0,0.8684030771255493)\">led</span> the way in. Hr H. Q.. Hr Hr. He <span style=\"color: rgba(255,0,0,0.99425208568573)\">could</span> see the man<span style=\"color: rgba(255,0,0,0.9985743761062622)\">'</span>s face now and <span style=\"color: rgba(255,0,0,0.5934011340141296)\">then</span> nothing, he thought-- he had gone, unfolding the mind. Jumph with it, <span style=\"color: rgba(255,0,0,0.6718288064002991)\">too</span>. He saw the cigarettes. At <span style=\"color: rgba(255,0,0,0.865075945854187)\">him</span> now <span style=\"color: rgba(255,0,0,0.9222425222396851)\">he</span> had pointed out between them as if they were not. No, he had gone<span style=\"color: rgba(255,0,0,0.9973510503768921)\">.</span> He had flicked back at him once again. Henth. The body"
      ],
      "text/plain": [
       "<IPython.core.display.HTML object>"
      ]
     },
     "metadata": {},
     "output_type": "display_data"
    },
    {
     "data": {
      "text/html": [
       "quivering with anger and pain. He lit the cigarette. <span style=\"color: rgba(0,0,255,1)\">From</span> the light<span style=\"color: rgba(0,0,255,1)\">,</span> <span style=\"color: rgba(0,0,255,1)\">he</span> held it between them as if he were concerned. No, he had gone. He had flicked back at him with <span style=\"color: rgba(0,0,255,1)\">caution</span>. Henth lit the cigarette and had <span style=\"color: rgba(0,0,255,1)\">seen</span> the body that led the way in. Hr Hr Q.... Hr. He could see the man's face, and saw nothing, and <span style=\"color: rgba(0,0,255,1)\">there</span>-- <span style=\"color: rgba(0,0,255,1)\">and</span> had gone, unfolding the mind. Jumph with it, now. He lit the cigarettes. <span style=\"color: rgba(0,0,255,1)\">Got</span> him now and had come out between them, if they were not. No, he had gone<span style=\"color: rgba(0,0,255,1)\">.</span> He had flicked back at him <span style=\"color: rgba(0,0,255,1)\">once</span> <span style=\"color: rgba(0,0,255,1)\">more</span>. Henth. The"
      ],
      "text/plain": [
       "<IPython.core.display.HTML object>"
      ]
     },
     "metadata": {},
     "output_type": "display_data"
    },
    {
     "data": {
      "text/html": [
       "quivering with anger and pain. He lit the cigarette. <span style=\"color: rgba(255,0,0,0.5423617959022522)\">At</span> the light<span style=\"color: rgba(255,0,0,0.5963308811187744)\">,</span> <span style=\"color: rgba(255,0,0,0.8869843482971191)\">and</span> held it between them as if he were concerned. No, he had gone. He had flicked back at him with <span style=\"color: rgba(255,0,0,0.8016862869262695)\">it</span>. Henth lit the cigarette and had <span style=\"color: rgba(255,0,0,0.726919412612915)\">seen</span> the body that led the way in. Hr Hr Q.... Hr. He could see the man's face, and saw nothing, and <span style=\"color: rgba(255,0,0,0.6749845147132874)\">then</span>-- <span style=\"color: rgba(255,0,0,0.7936044931411743)\">He</span> had gone, unfolding the mind. Jumph with it, now. He lit the cigarettes. <span style=\"color: rgba(255,0,0,0.5297828912734985)\">At</span> him now and had come out between them, if they were not. No, he had gone<span style=\"color: rgba(255,0,0,0.995258092880249)\">.</span> He had flicked back at him <span style=\"color: rgba(255,0,0,0.6490952372550964)\">with</span><span style=\"color: rgba(255,0,0,0.6069859862327576)\">.</span>. Henth. The man"
      ],
      "text/plain": [
       "<IPython.core.display.HTML object>"
      ]
     },
     "metadata": {},
     "output_type": "display_data"
    },
    {
     "data": {
      "text/html": [
       "quivered <span style=\"color: rgba(0,0,255,1)\">with</span> <span style=\"color: rgba(0,0,255,1)\">sweat</span> and pain. He lit the cigarette, lit the light, and <span style=\"color: rgba(0,0,255,1)\">held</span> it between them as if it <span style=\"color: rgba(0,0,255,1)\">were</span> gone<span style=\"color: rgba(0,0,255,1)\">.</span> Yes, he had gone. He had <span style=\"color: rgba(0,0,255,1)\">flicked</span> back at him with it <span style=\"color: rgba(0,0,255,1)\">and</span> Henth lit the cigarette and had <span style=\"color: rgba(0,0,255,1)\">lit</span> the body that led the way <span style=\"color: rgba(0,0,255,1)\">off</span>. Hr Hr Q.... Hr. He could see the man's face, and saw nothing, and yet-<span style=\"color: rgba(0,0,255,1)\">-</span> he had gone, unrolling the mind of Humph with it. No. He lit the cigarettes. Yes, if he had come out between them, if they were not. No, he had gone. He had flicked out at him, Yes. Henth. The"
      ],
      "text/plain": [
       "<IPython.core.display.HTML object>"
      ]
     },
     "metadata": {},
     "output_type": "display_data"
    },
    {
     "data": {
      "text/html": [
       "quivered <span style=\"color: rgba(255,0,0,0.891019880771637)\">with</span> <span style=\"color: rgba(255,0,0,0.5763429999351501)\">anger</span> and pain. He lit the cigarette, lit the light, and <span style=\"color: rgba(255,0,0,0.713844358921051)\">held</span> it between them as if it <span style=\"color: rgba(255,0,0,0.9461126327514648)\">were</span> gone<span style=\"color: rgba(255,0,0,0.9984688758850098)\">.</span> Yes, he had gone. He had <span style=\"color: rgba(255,0,0,0.7165139317512512)\">flicked</span> back at him with it<span style=\"color: rgba(255,0,0,0.9901355504989624)\">.</span> Henth lit the cigarette and had <span style=\"color: rgba(255,0,0,0.5600642561912537)\">lit</span> the body that led the way <span style=\"color: rgba(255,0,0,0.6053662300109863)\">away</span>. Hr Hr Q.... Hr. He could see the man's face, and saw nothing, and yet-<span style=\"color: rgba(255,0,0,0.9944006204605103)\">-</span> he had gone, unrolling the mind of Humph with it. No. He lit the cigarettes. Yes, if he had come out between them, if they were not. No, he had gone. He had flicked out at him, Yes. Henth. The body"
      ],
      "text/plain": [
       "<IPython.core.display.HTML object>"
      ]
     },
     "metadata": {},
     "output_type": "display_data"
    },
    {
     "data": {
      "text/html": [
       "quivered with fear <span style=\"color: rgba(0,0,255,1)\">and</span> fear. He lit the cigarette, lit the light, and pointed it at them as if they were <span style=\"color: rgba(0,0,255,1)\">gone</span>. <span style=\"color: rgba(0,0,255,1)\">Yes</span>, he had gone. He had gone back at him for it. Henth lit <span style=\"color: rgba(0,0,255,1)\">his</span> cigarette and had lit <span style=\"color: rgba(0,0,255,1)\">the</span> body that led the way <span style=\"color: rgba(0,0,255,1)\">down</span>. Hr Hr H.... Hr. <span style=\"color: rgba(0,0,255,1)\">He</span> could see the man's face, and then <span style=\"color: rgba(0,0,255,1)\">pain</span>, <span style=\"color: rgba(0,0,255,1)\">be</span> <span style=\"color: rgba(0,0,255,1)\">mind</span>-- he had gone, unrolling the mind of Hump<span style=\"color: rgba(0,0,255,1)\">h</span> with him. Yes. He lit the cigarette. Yes, if they were <span style=\"color: rgba(0,0,255,1)\">switched</span> out at them, if they were gone<span style=\"color: rgba(0,0,255,1)\">.</span> No, he had gone. He had flicked out at him. Yes, Henth. The"
      ],
      "text/plain": [
       "<IPython.core.display.HTML object>"
      ]
     },
     "metadata": {},
     "output_type": "display_data"
    },
    {
     "data": {
      "text/html": [
       "quivered with fear <span style=\"color: rgba(255,0,0,0.8788182139396667)\">and</span> fear. He lit the cigarette, lit the light, and pointed it at them as if they were <span style=\"color: rgba(255,0,0,0.5770905613899231)\">dead</span>. <span style=\"color: rgba(255,0,0,0.7694638967514038)\">No</span>, he had gone. He had gone back at him for it. Henth lit <span style=\"color: rgba(255,0,0,0.902946949005127)\">the</span> cigarette and had lit <span style=\"color: rgba(255,0,0,0.9881502389907837)\">the</span> body that led the way <span style=\"color: rgba(255,0,0,0.6654042601585388)\">back</span>. Hr Hr H.... Hr. <span style=\"color: rgba(255,0,0,0.9694020748138428)\">He</span> could see the man's face, and then <span style=\"color: rgba(255,0,0,0.5620236992835999)\">again</span>, <span style=\"color: rgba(255,0,0,0.5526441335678101)\">he</span> <span style=\"color: rgba(255,0,0,0.5287469029426575)\">then</span>-- he had gone, unrolling the mind of Hump<span style=\"color: rgba(255,0,0,0.9927343130111694)\">h</span> with him. Yes. He lit the cigarette. Yes, if they were <span style=\"color: rgba(255,0,0,0.5796952247619629)\">pointed</span> out at them, if they were gone<span style=\"color: rgba(255,0,0,0.9863343238830566)\">.</span> No, he had gone. He had flicked out at him. Yes, Henth. The body"
      ],
      "text/plain": [
       "<IPython.core.display.HTML object>"
      ]
     },
     "metadata": {},
     "output_type": "display_data"
    },
    {
     "data": {
      "text/html": [
       "quivered with <span style=\"color: rgba(0,0,255,1)\">fear</span><span style=\"color: rgba(0,0,255,1)\">,</span> <span style=\"color: rgba(0,0,255,1)\">terror</span>. He lit the cigarette, lit <span style=\"color: rgba(0,0,255,1)\">the</span> light, and pointed it at them as if they were dead. No, he had gone. He had gone back to him <span style=\"color: rgba(0,0,255,1)\">to</span> <span style=\"color: rgba(0,0,255,1)\">There</span>. Henth lit the cigarette and had <span style=\"color: rgba(0,0,255,1)\">seen</span> the body that <span style=\"color: rgba(0,0,255,1)\">led</span> the way away. Hr Hr. Yes... Hr. He <span style=\"color: rgba(0,0,255,1)\">could</span> see the man's face, and then then, and there-- he had gone, un<span style=\"color: rgba(0,0,255,1)\">lock</span>ing the mind of Hemph with him. Yes. He lit the cigarette. Yes, if they were not looking at him, if they were dead. No, he had gone. He had flicked out at him<span style=\"color: rgba(0,0,255,1)\">.</span> Yes, Henth. The"
      ],
      "text/plain": [
       "<IPython.core.display.HTML object>"
      ]
     },
     "metadata": {},
     "output_type": "display_data"
    },
    {
     "data": {
      "text/html": [
       "quivered with <span style=\"color: rgba(255,0,0,0.6677120327949524)\">his</span> <span style=\"color: rgba(255,0,0,0.5345548987388611)\">and</span><span style=\"color: rgba(255,0,0,0.5644868016242981)\">ness</span>. He lit the cigarette, lit <span style=\"color: rgba(255,0,0,0.9695766568183899)\">the</span> light, and pointed it at them as if they were dead. No, he had gone. He had gone back to him<span style=\"color: rgba(255,0,0,0.5909667015075684)\">,</span> <span style=\"color: rgba(255,0,0,0.6099777817726135)\">gone</span>. Henth lit the cigarette and had <span style=\"color: rgba(255,0,0,0.6706249713897705)\">seen</span> the body that <span style=\"color: rgba(255,0,0,0.685575008392334)\">led</span> the way away. Hr Hr. Yes... Hr. He <span style=\"color: rgba(255,0,0,0.9917405843734741)\">could</span> see the man's face, and then then, and there-- he had gone, un<span style=\"color: rgba(255,0,0,0.6861099004745483)\">fold</span>ing the mind of Hemph with him. Yes. He lit the cigarette. Yes, if they were not looking at him, if they were dead. No, he had gone. He had flicked out at him<span style=\"color: rgba(255,0,0,0.9979110360145569)\">.</span> Yes, Henth. The man"
      ],
      "text/plain": [
       "<IPython.core.display.HTML object>"
      ]
     },
     "metadata": {},
     "output_type": "display_data"
    },
    {
     "data": {
      "text/html": [
       "quivered with the stillness. He lit the cigarette, flicked the light, and <span style=\"color: rgba(0,0,255,1)\">pointed</span> it at them as if they were dead. <span style=\"color: rgba(0,0,255,1)\">There</span>, he had gone. He had gone back at him, <span style=\"color: rgba(0,0,255,1)\">falling</span>. Henth lit the cigarette and had <span style=\"color: rgba(0,0,255,1)\">seen</span> the body <span style=\"color: rgba(0,0,255,1)\">that</span> lay some way away. Hr Hr. Yes. Yes. He<span style=\"color: rgba(0,0,255,1)\">.</span>..<span style=\"color: rgba(0,0,255,1)\">.</span> see the man's face, And just then, and then-- <span style=\"color: rgba(0,0,255,1)\">he</span> had gone, unfolding the mind of Henth with him. Yes. He lit the cigarette. Yes, if they were not looking at him, if they were dead. Yes, he <span style=\"color: rgba(0,0,255,1)\">had</span> gone. He had flicked it at him, yes, Henth. The"
      ],
      "text/plain": [
       "<IPython.core.display.HTML object>"
      ]
     },
     "metadata": {},
     "output_type": "display_data"
    },
    {
     "data": {
      "text/html": [
       "quivered with the stillness. He lit the cigarette, flicked the light, and <span style=\"color: rgba(255,0,0,0.7207577228546143)\">pointed</span> it at them as if they were dead. <span style=\"color: rgba(255,0,0,0.8830263614654541)\">Yes</span>, he had gone. He had gone back at him, <span style=\"color: rgba(255,0,0,0.7683929204940796)\">yes</span>. Henth lit the cigarette and had <span style=\"color: rgba(255,0,0,0.7325167059898376)\">seen</span> the body <span style=\"color: rgba(255,0,0,0.8838465213775635)\">that</span> lay some way away. Hr Hr. Yes. Yes. He<span style=\"color: rgba(255,0,0,0.8828229904174805)\">.</span>..<span style=\"color: rgba(255,0,0,0.7381235361099243)\">.</span> see the man's face, And just then, and then-- <span style=\"color: rgba(255,0,0,0.8797967433929443)\">He</span> had gone, unfolding the mind of Henth with him. Yes. He lit the cigarette. Yes, if they were not looking at him, if they were dead. Yes, he <span style=\"color: rgba(255,0,0,0.9637660980224609)\">had</span> gone. He had flicked it at him, yes, Henth. The man"
      ],
      "text/plain": [
       "<IPython.core.display.HTML object>"
      ]
     },
     "metadata": {},
     "output_type": "display_data"
    }
   ],
   "source": [
    "text=\"\"\"Quivering with fear, he trembled He lit five cigarette. went him no, he pointed straight between them as though he were ever. Lord, what had gone. It had flicked wildly at it in his pocket Henth hid the body It had undue processes that donate its ispiula machine life H. a. bigence. vermist. can see the ant's face, and saw Hans in this place-- it is becoming into unfracted the sunshine,uivering with fear, he trembled He lit five cigarette. went him no, he pointed straight between them as though he were ever. Lord, what had gone. It had flicked wildly at it in his pocket Henth hid the body It had undue processes that donate its ispiula machine life H. a. bigence. vermist. can see the ant's face, and saw Hans in this place-- it is becoming into unfracted the sunshine, A. R. and I\"\"\"\n",
    "improve_words_recursive(text, processor, tokenizer, model, iterations=100, max_seq_length=150, n=10, T=1.0, device=\"cuda\", debug=10)"
   ]
  },
  {
   "cell_type": "code",
   "execution_count": 68,
   "metadata": {},
   "outputs": [
    {
     "data": {
      "text/html": [
       "Quivering with fear, he trembled He lit five cigarette. He stared <span style=\"color: rgba(0,0,255,1)\">directly</span> <span style=\"color: rgba(0,0,255,1)\">at</span> the three fingered alient monster in front of him. It stated back at what reminded it of a naked larvel species from it's homewold.'Lets do <span style=\"color: rgba(0,0,255,1)\">this</span>'' he said. Together they headed off, <span style=\"color: rgba(0,0,255,1)\">man</span> and Targid, to start a love the likes of which none had ever before imagined. The kind of love that existed between brothers or cubmates. Interspecies soult companions<span style=\"color: rgba(0,0,255,1)\">-</span>this was often seen as a rotton kind of <span style=\"color: rgba(0,0,255,1)\">depend</span>ant relationshp that many would like to erase from the galactic dictionary"
      ],
      "text/plain": [
       "<IPython.core.display.HTML object>"
      ]
     },
     "metadata": {},
     "output_type": "display_data"
    },
    {
     "data": {
      "text/html": [
       "Quivering with fear, he trembled He lit five cigarette. He stared <span style=\"color: rgba(255,0,0,0.5840944647789001)\">down</span> <span style=\"color: rgba(255,0,0,0.9982844591140747)\">at</span> the three fingered alient monster in front of him. It stated back at what reminded it of a naked larvel species from it's homewold.'Lets do<span style=\"color: rgba(255,0,0,0.9384250640869141)\">,</span>'' he said. Together they headed off, <span style=\"color: rgba(255,0,0,0.5850471258163452)\">Jason</span> and Targid, to start a love the likes of which none had ever before imagined. The kind of love that existed between brothers or cubmates. Interspecies soult companions<span style=\"color: rgba(255,0,0,0.7500320672988892)\">,</span> this was often seen as a rotton kind of <span style=\"color: rgba(255,0,0,0.6739602088928223)\">triumph</span>ant relationshp that many would like to erase from the galactic dictionary"
      ],
      "text/plain": [
       "<IPython.core.display.HTML object>"
      ]
     },
     "metadata": {},
     "output_type": "display_data"
    },
    {
     "data": {
      "text/html": [
       "Quivering with fear as he <span style=\"color: rgba(0,0,255,1)\">snorted</span> <span style=\"color: rgba(0,0,255,1)\">He</span> lit another cup. He stared back at the fourfolded, building monster in front of him. It wondered intently at <span style=\"color: rgba(0,0,255,1)\">what</span> made it of a unknown <span style=\"color: rgba(0,0,255,1)\">la</span>rvel apart from it's home world.'Lets do,'( he said. Together they headed off towards Calhoun and Tarb after him to start a <span style=\"color: rgba(0,0,255,1)\">love</span>-<span style=\"color: rgba(0,0,255,1)\">discussion</span> of beings Calhoun had never before imagined<span style=\"color: rgba(0,0,255,1)\">.</span> The kind of love that existed between friends and cub advantage. Interspicular soul-<span style=\"color: rgba(0,0,255,1)\">companions</span>, it appeared and of as a rotic kind of submitant relations, that many such like to look into the galactic dictionary, rather <span style=\"color: rgba(0,0,255,1)\">[PAD]</span> it as regarded <span style=\"color: rgba(0,0,255,1)\">alone</span> and <span style=\"color: rgba(0,0,255,1)\">\"</span> <span style=\"color: rgba(0,0,255,1)\">of</span> <span style=\"color: rgba(0,0,255,1)\">of</span> become perhaps <span style=\"color: rgba(0,0,255,1)\">dim</span> it,"
      ],
      "text/plain": [
       "<IPython.core.display.HTML object>"
      ]
     },
     "metadata": {},
     "output_type": "display_data"
    },
    {
     "data": {
      "text/html": [
       "Quivering with fear as he <span style=\"color: rgba(255,0,0,0.5256787538528442)\">s</span> <span style=\"color: rgba(255,0,0,0.7788535356521606)\">and</span> lit another cup. He stared back at the fourfolded, building monster in front of him. It wondered intently at <span style=\"color: rgba(255,0,0,0.9421128034591675)\">what</span> made it of a unknown <span style=\"color: rgba(255,0,0,0.991925835609436)\">ma</span>rvel apart from it's home world.'Lets do,'( he said. Together they headed off towards Calhoun and Tarb after him to start a <span style=\"color: rgba(255,0,0,0.5322575569152832)\">half</span>-<span style=\"color: rgba(255,0,0,0.522710919380188)\">-</span> of beings Calhoun had never before imagined<span style=\"color: rgba(255,0,0,0.986459493637085)\">.</span> The kind of love that existed between friends and cub advantage. Interspicular soul-<span style=\"color: rgba(255,0,0,0.5196375250816345)\">relations</span>, it appeared and of as a rotic kind of submitant relations, that many such like to look into the galactic dictionary, rather <span style=\"color: rgba(255,0,0,0.963105320930481)\">a</span> it as regarded <span style=\"color: rgba(255,0,0,0.8435436487197876)\">what</span> and <span style=\"color: rgba(255,0,0,0.5771234035491943)\">expect</span> <span style=\"color: rgba(255,0,0,0.9700735211372375)\">of</span> <span style=\"color: rgba(255,0,0,0.9655919075012207)\">what</span> become perhaps <span style=\"color: rgba(255,0,0,0.5693298578262329)\">what</span> it, a"
      ],
      "text/plain": [
       "<IPython.core.display.HTML object>"
      ]
     },
     "metadata": {},
     "output_type": "display_data"
    },
    {
     "data": {
      "text/html": [
       "quivering with fear as he paused and lit his cup. He stared back at the fourfold<span style=\"color: rgba(0,0,255,1)\">ment</span>, building it in front of him. It gazed intently at what made it of <span style=\"color: rgba(0,0,255,1)\">some</span> unknown marveur apart from Calhoun's home world.'<span style=\"color: rgba(0,0,255,1)\">Compared</span>s do not <span style=\"color: rgba(0,0,255,1)\">phrase</span> ( it thought. Together they set off<span style=\"color: rgba(0,0,255,1)\">,</span> Mac and Ta reaction after him to have a meaningless thought of what Calhoun <span style=\"color: rgba(0,0,255,1)\">had</span> more properly imagined. The kind of relationship that existed <span style=\"color: rgba(0,0,255,1)\">from</span> friends <span style=\"color: rgba(0,0,255,1)\">in</span> cubby cabins. Perspicular soul-pool, it appeared the case as a truest kind of sort of relations, that many <span style=\"color: rgba(0,0,255,1)\">people</span> like to regard as the galactic relation, and a so <span style=\"color: rgba(0,0,255,1)\">dwelling</span> <span style=\"color: rgba(0,0,255,1)\">emblem</span> what and <span style=\"color: rgba(0,0,255,1)\">sort</span> of <span style=\"color: rgba(0,0,255,1)\">what</span>'<span style=\"color: rgba(0,0,255,1)\">is</span> active it man"
      ],
      "text/plain": [
       "<IPython.core.display.HTML object>"
      ]
     },
     "metadata": {},
     "output_type": "display_data"
    },
    {
     "data": {
      "text/html": [
       "quivering with fear as he paused and lit his cup. He stared back at the fourfold <span style=\"color: rgba(255,0,0,0.5188844203948975)\">figure</span>, building it in front of him. It gazed intently at what made it of <span style=\"color: rgba(255,0,0,0.7610705494880676)\">some</span> unknown marveur apart from Calhoun's home world.'<span style=\"color: rgba(255,0,0,0.5213759541511536)\">Heaven</span>s do not<span style=\"color: rgba(255,0,0,0.6247162222862244)\">.</span> ( it thought. Together they set off<span style=\"color: rgba(255,0,0,0.7586530447006226)\">,</span> Mac and Ta reaction after him to have a meaningless thought of what Calhoun <span style=\"color: rgba(255,0,0,0.9666293859481812)\">had</span> more properly imagined. The kind of relationship that existed <span style=\"color: rgba(255,0,0,0.9182284474372864)\">between</span> friends<span style=\"color: rgba(255,0,0,0.8863722085952759)\">'</span>cubby cabins. Perspicular soul-pool, it appeared the case as a truest kind of sort of relations, that many <span style=\"color: rgba(255,0,0,0.7103283405303955)\">would</span> like to regard as the galactic relation, and a so <span style=\"color: rgba(255,0,0,0.5426819920539856)\">pure</span><span style=\"color: rgba(255,0,0,0.5445326566696167)\">mates</span> what and<span style=\"color: rgba(255,0,0,0.5481335520744324)\">,</span> of <span style=\"color: rgba(255,0,0,0.6862705945968628)\">at</span>'<span style=\"color: rgba(255,0,0,0.6809326410293579)\">it</span> active it man this"
      ],
      "text/plain": [
       "<IPython.core.display.HTML object>"
      ]
     },
     "metadata": {},
     "output_type": "display_data"
    },
    {
     "data": {
      "text/html": [
       "quivering with fear as he paused and lit his cup. He stared back at the four <span style=\"color: rgba(0,0,255,1)\">square</span> chart, set it <span style=\"color: rgba(0,0,255,1)\">in</span> front of him. It gazed intently at what <span style=\"color: rgba(0,0,255,1)\">might</span> be but an irregular marveur apart from Calhoun'<span style=\"color: rgba(0,0,255,1)\">s</span> personal world.'<span style=\"color: rgba(0,0,255,1)\">Trouble</span>s do when t'it said. Together, carried past the <span style=\"color: rgba(0,0,255,1)\">incident</span> and forced <span style=\"color: rgba(0,0,255,1)\">simply</span> after him to give a meaningless explanation of <span style=\"color: rgba(0,0,255,1)\">what</span> Calhoun had more<span style=\"color: rgba(0,0,255,1)\">ists</span> imagined<span style=\"color: rgba(0,0,255,1)\">.</span> The kind of relationship that existed between Calhoun's mind and the Inspicu factor-pool as it appeared <span style=\"color: rgba(0,0,255,1)\">to</span> be, a truest kind of sort of relationship that one would like to regard as a galactic relation of the a <span style=\"color: rgba(0,0,255,1)\">solution</span> <span style=\"color: rgba(0,0,255,1)\">have</span> s whatr, Her,'it-it <span style=\"color: rgba(0,0,255,1)\">tiny</span>"
      ],
      "text/plain": [
       "<IPython.core.display.HTML object>"
      ]
     },
     "metadata": {},
     "output_type": "display_data"
    },
    {
     "data": {
      "text/html": [
       "quivering with fear as he paused and lit his cup. He stared back at the four <span style=\"color: rgba(255,0,0,0.5615981817245483)\">dimensional</span> chart, set it <span style=\"color: rgba(255,0,0,0.9989558458328247)\">in</span> front of him. It gazed intently at what <span style=\"color: rgba(255,0,0,0.7711596488952637)\">might</span> be but an irregular marveur apart from Calhoun'<span style=\"color: rgba(255,0,0,0.9996997117996216)\">s</span> personal world.'<span style=\"color: rgba(255,0,0,0.5267384648323059)\">Let</span>s do when t'it said. Together, carried past the <span style=\"color: rgba(255,0,0,0.5413320064544678)\">door</span> and forced <span style=\"color: rgba(255,0,0,0.7399467825889587)\">it</span> after him to give a meaningless explanation of <span style=\"color: rgba(255,0,0,0.9387270212173462)\">what</span> Calhoun had more <span style=\"color: rgba(255,0,0,0.7651264667510986)\">than</span> imagined<span style=\"color: rgba(255,0,0,0.9774542450904846)\">.</span> The kind of relationship that existed between Calhoun's mind and the Inspicu factor-pool as it appeared <span style=\"color: rgba(255,0,0,0.9983519315719604)\">to</span> be, a truest kind of sort of relationship that one would like to regard as a galactic relation of the a <span style=\"color: rgba(255,0,0,0.9781619310379028)\">the</span> <span style=\"color: rgba(255,0,0,0.5296562910079956)\">true</span> s whatr, Her,'it-it <span style=\"color: rgba(255,0,0,0.540441632270813)\">it</span> inverted"
      ],
      "text/plain": [
       "<IPython.core.display.HTML object>"
      ]
     },
     "metadata": {},
     "output_type": "display_data"
    },
    {
     "data": {
      "text/html": [
       "quivering with fear as he paused and lit his pipe. He <span style=\"color: rgba(0,0,255,1)\">stared</span> back at the strange alien group, set it in front <span style=\"color: rgba(0,0,255,1)\">of</span> him. It gazed intently at what <span style=\"color: rgba(0,0,255,1)\">might</span> be but <span style=\"color: rgba(0,0,255,1)\">an</span> <span style=\"color: rgba(0,0,255,1)\">amazing</span> <span style=\"color: rgba(0,0,255,1)\">ma</span>ldur apart from Calhoun's old world.'Alberts do,,'it <span style=\"color: rgba(0,0,255,1)\">commanded</span>. The <span style=\"color: rgba(0,0,255,1)\">giant</span> pushed past the others and forced them after him to make a meaningless explanation of what Calhoun had more than imagined. The sort of relationship that existed between Calhoun's family and the Alberts was before---were it likely to be, a highly complex sort of sort of<span style=\"color: rgba(0,0,255,1)\">craft</span>hip that Calhoun would begin to regard as a galactic relation between the <span style=\"color: rgba(0,0,255,1)\">a</span> rather of, what, of <span style=\"color: rgba(0,0,255,1)\">of</span>, world <span style=\"color: rgba(0,0,255,1)\">it</span> <span style=\"color: rgba(0,0,255,1)\">Native</span> space but"
      ],
      "text/plain": [
       "<IPython.core.display.HTML object>"
      ]
     },
     "metadata": {},
     "output_type": "display_data"
    },
    {
     "data": {
      "text/html": [
       "quivering with fear as he paused and lit his pipe. He <span style=\"color: rgba(255,0,0,0.7054645419120789)\">looked</span> back at the strange alien group, set it in front <span style=\"color: rgba(255,0,0,0.9997196793556213)\">of</span> him. It gazed intently at what <span style=\"color: rgba(255,0,0,0.7422963976860046)\">might</span> be but <span style=\"color: rgba(255,0,0,0.6497490406036377)\">a</span> <span style=\"color: rgba(255,0,0,0.6590959429740906)\">of</span> <span style=\"color: rgba(255,0,0,0.6461374163627625)\">Ba</span>ldur apart from Calhoun's old world.'Alberts do,,'it <span style=\"color: rgba(255,0,0,0.7479327917098999)\">said</span>. The <span style=\"color: rgba(255,0,0,0.5331292748451233)\">group</span> pushed past the others and forced them after him to make a meaningless explanation of what Calhoun had more than imagined. The sort of relationship that existed between Calhoun's family and the Alberts was before---were it likely to be, a highly complex sort of sort of <span style=\"color: rgba(255,0,0,0.8299872875213623)\">spaces</span>hip that Calhoun would begin to regard as a galactic relation between the <span style=\"color: rgba(255,0,0,0.8186788558959961)\">a</span> rather of, what, of<span style=\"color: rgba(255,0,0,0.7593822479248047)\">,</span>, world <span style=\"color: rgba(255,0,0,0.7726688385009766)\">might</span> <span style=\"color: rgba(255,0,0,0.685715913772583)\">might</span> space but an"
      ],
      "text/plain": [
       "<IPython.core.display.HTML object>"
      ]
     },
     "metadata": {},
     "output_type": "display_data"
    },
    {
     "data": {
      "text/html": [
       "quivering with fear, he paused and lit his pipe. He turned back to the strange alien man, set it in front of him. It gazed intently at what might be <span style=\"color: rgba(0,0,255,1)\">but</span> two of Baldur <span style=\"color: rgba(0,0,255,1)\">men</span> from Calhoun's old world.'Alberts do,,'it <span style=\"color: rgba(0,0,255,1)\">said</span><span style=\"color: rgba(0,0,255,1)\">.</span> The man pushed past the others and turned them after him to give <span style=\"color: rgba(0,0,255,1)\">a</span> meaningless explanation of what Calhoun had more than imagined. The <span style=\"color: rgba(0,0,255,1)\">kind</span> of <span style=\"color: rgba(0,0,255,1)\">communicating</span> that existed between Calhoun's land and the Alberts was---- what it seemed to be, a highly complex sort of type of spaceship that Calhoun <span style=\"color: rgba(0,0,255,1)\">would</span> begin to regard as <span style=\"color: rgba(0,0,255,1)\">a</span> galactic relation, the and was of, <span style=\"color: rgba(0,0,255,1)\">table</span>, type <span style=\"color: rgba(0,0,255,1)\">specialized</span>, the to <span style=\"color: rgba(0,0,255,1)\">This</span> <span style=\"color: rgba(0,0,255,1)\">space</span> two"
      ],
      "text/plain": [
       "<IPython.core.display.HTML object>"
      ]
     },
     "metadata": {},
     "output_type": "display_data"
    },
    {
     "data": {
      "text/html": [
       "quivering with fear, he paused and lit his pipe. He turned back to the strange alien man, set it in front of him. It gazed intently at what might be <span style=\"color: rgba(255,0,0,0.9138056039810181)\">the</span> two of Baldur <span style=\"color: rgba(255,0,0,0.5381827354431152)\">away</span> from Calhoun's old world.'Alberts do,,'it <span style=\"color: rgba(255,0,0,0.9102553129196167)\">said</span><span style=\"color: rgba(255,0,0,0.9989825487136841)\">.</span> The man pushed past the others and turned them after him to give <span style=\"color: rgba(255,0,0,0.9603229761123657)\">a</span> meaningless explanation of what Calhoun had more than imagined. The <span style=\"color: rgba(255,0,0,0.6995786428451538)\">sort</span> of <span style=\"color: rgba(255,0,0,0.64191734790802)\">space</span> that existed between Calhoun's land and the Alberts was---- what it seemed to be, a highly complex sort of type of spaceship that Calhoun <span style=\"color: rgba(255,0,0,0.7070791721343994)\">could</span> begin to regard as <span style=\"color: rgba(255,0,0,0.9888396859169006)\">a</span> galactic relation, the and was of, <span style=\"color: rgba(255,0,0,0.5782771110534668)\">complex</span>, type <span style=\"color: rgba(255,0,0,0.5247467160224915)\">strange</span>, the to <span style=\"color: rgba(255,0,0,0.8131215572357178)\">the</span> <span style=\"color: rgba(255,0,0,0.6139011979103088)\">Albert</span> two two"
      ],
      "text/plain": [
       "<IPython.core.display.HTML object>"
      ]
     },
     "metadata": {},
     "output_type": "display_data"
    },
    {
     "data": {
      "text/html": [
       "quivering with fear, he paused and lit his pipe. He turned back to the table jeter, stood it in front of him. He looked intently at what might be the gift from Baldur and from Calhoun's <span style=\"color: rgba(0,0,255,1)\">old</span> friend.'Slaves ships,'' it said. The <span style=\"color: rgba(0,0,255,1)\">operator</span> walked past the men and stood <span style=\"color: rgba(0,0,255,1)\">next</span> <span style=\"color: rgba(0,0,255,1)\">after</span> them to give a meaningless explanation of what Calhoun had more <span style=\"color: rgba(0,0,255,1)\">than</span> imagined. The form of <span style=\"color: rgba(0,0,255,1)\">ship</span> that existed between Calhoun's <span style=\"color: rgba(0,0,255,1)\">slaves</span> and the rifts was---- as it seemed to him, a highly complex sort of sort of spaceship that Calhoun could begin to perceive as a <span style=\"color: rgba(0,0,255,1)\">scan</span><span style=\"color: rgba(0,0,255,1)\">actic</span> <span style=\"color: rgba(0,0,255,1)\">course</span>, finally a was of, stared, <span style=\"color: rgba(0,0,255,1)\">thing</span> <span style=\"color: rgba(0,0,255,1)\">what</span>, the what Whichroth <span style=\"color: rgba(0,0,255,1)\">man</span>"
      ],
      "text/plain": [
       "<IPython.core.display.HTML object>"
      ]
     },
     "metadata": {},
     "output_type": "display_data"
    },
    {
     "data": {
      "text/html": [
       "quivering with fear, he paused and lit his pipe. He turned back to the table jeter, stood it in front of him. He looked intently at what might be the gift from Baldur and from Calhoun's <span style=\"color: rgba(255,0,0,0.5949382185935974)\">old</span> friend.'Slaves ships,'' it said. The <span style=\"color: rgba(255,0,0,0.5710678100585938)\">man</span> walked past the men and stood <span style=\"color: rgba(255,0,0,0.6059858798980713)\">up</span> <span style=\"color: rgba(255,0,0,0.7427874803543091)\">for</span> them to give a meaningless explanation of what Calhoun had more <span style=\"color: rgba(255,0,0,0.6587202548980713)\">than</span> imagined. The form of <span style=\"color: rgba(255,0,0,0.593429446220398)\">space</span> that existed between Calhoun's <span style=\"color: rgba(255,0,0,0.6389737129211426)\">ship</span> and the rifts was---- as it seemed to him, a highly complex sort of sort of spaceship that Calhoun could begin to perceive as a <span style=\"color: rgba(255,0,0,0.526313066482544)\">matter</span> <span style=\"color: rgba(255,0,0,0.5427305102348328)\">of</span><span style=\"color: rgba(255,0,0,0.5362197160720825)\">ly</span>, finally a was of, stared, <span style=\"color: rgba(255,0,0,0.6210799813270569)\">ship</span> <span style=\"color: rgba(255,0,0,0.5437586307525635)\">new</span>, the what Whichroth <span style=\"color: rgba(255,0,0,0.5445141196250916)\">other</span>,"
      ],
      "text/plain": [
       "<IPython.core.display.HTML object>"
      ]
     },
     "metadata": {},
     "output_type": "display_data"
    },
    {
     "data": {
      "text/html": [
       "quivering with fear, he paused and lit his pipe. He <span style=\"color: rgba(0,0,255,1)\">turned</span> back to <span style=\"color: rgba(0,0,255,1)\">the</span> clinker, pushed it in front of him. He looked intently at what might be the gift from Baldur and from Calhoun's only friend.'<span style=\"color: rgba(0,0,255,1)\">Turn</span>s ships,'' he said. The <span style=\"color: rgba(0,0,255,1)\">words</span> walked past the screen and <span style=\"color: rgba(0,0,255,1)\">stood</span> up with them to give a careless explanation of what he had more than seen. The con<span style=\"color: rgba(0,0,255,1)\">ical</span> business that was between Calhoun's <span style=\"color: rgba(0,0,255,1)\">breath</span> and the same, was<span style=\"color: rgba(0,0,255,1)\">-</span>- -, as it seemed to him, a highly complex sort of sort <span style=\"color: rgba(0,0,255,1)\">of</span> spaces<span style=\"color: rgba(0,0,255,1)\">hip</span> that Calhoun would begin to perceive as a matter of fact, <span style=\"color: rgba(0,0,255,1)\">namely</span>, Calhoun <span style=\"color: rgba(0,0,255,1)\">of</span>, s, Actually,, perhaps Re <span style=\"color: rgba(0,0,255,1)\">Board</span> be <span style=\"color: rgba(0,0,255,1)\">gift</span>"
      ],
      "text/plain": [
       "<IPython.core.display.HTML object>"
      ]
     },
     "metadata": {},
     "output_type": "display_data"
    },
    {
     "data": {
      "text/html": [
       "quivering with fear, he paused and lit his pipe. He <span style=\"color: rgba(255,0,0,0.7956291437149048)\">went</span> back to <span style=\"color: rgba(255,0,0,0.8968167304992676)\">the</span> clinker, pushed it in front of him. He looked intently at what might be the gift from Baldur and from Calhoun's only friend.'<span style=\"color: rgba(255,0,0,0.5193644762039185)\">Put</span>s ships,'' he said. The <span style=\"color: rgba(255,0,0,0.6140701174736023)\">man</span> walked past the screen and <span style=\"color: rgba(255,0,0,0.5804078578948975)\">stood</span> up with them to give a careless explanation of what he had more than seen. The con<span style=\"color: rgba(255,0,0,0.7147130966186523)\">ical</span> business that was between Calhoun's <span style=\"color: rgba(255,0,0,0.6758356690406799)\">mind</span> and the same, was <span style=\"color: rgba(255,0,0,0.5239665508270264)\">a</span>--, as it seemed to him, a highly complex sort of sort <span style=\"color: rgba(255,0,0,0.9992462396621704)\">of</span> spaces<span style=\"color: rgba(255,0,0,0.9567611217498779)\">hip</span> that Calhoun would begin to perceive as a matter of fact, <span style=\"color: rgba(255,0,0,0.5496276021003723)\">was</span>, Calhoun <span style=\"color: rgba(255,0,0,0.640748918056488)\">mind</span>, s, Actually,, perhaps Re <span style=\"color: rgba(255,0,0,0.5157274007797241)\">Get</span> be <span style=\"color: rgba(255,0,0,0.8430905342102051)\">of</span> gift"
      ],
      "text/plain": [
       "<IPython.core.display.HTML object>"
      ]
     },
     "metadata": {},
     "output_type": "display_data"
    },
    {
     "data": {
      "text/html": [
       "quivering with fear, he paused and lit his pipe. He went back <span style=\"color: rgba(0,0,255,1)\">to</span> the clinker and pushed it in <span style=\"color: rgba(0,0,255,1)\">either</span> of him. He stared intently at what remained of the attackers <span style=\"color: rgba(0,0,255,1)\">on</span> Baldur and from Calhoun<span style=\"color: rgba(0,0,255,1)\">'</span>s only friend.'<span style=\"color: rgba(0,0,255,1)\">Main</span> to ships,<span style=\"color: rgba(0,0,255,1)\">'</span>' he said. The <span style=\"color: rgba(0,0,255,1)\">girls</span> started at the screen and stood up with them to <span style=\"color: rgba(0,0,255,1)\">give</span> a careless explanation of what they had more than seen. The conical screen that was between Calhoun's room and the ship, the tube close-to, it seemed to be, a very complex sort of sort of spaceship that Calhoun would <span style=\"color: rgba(0,0,255,1)\">fall</span> to<span style=\"color: rgba(0,0,255,1)\">,</span> as a matter of fact, apparently was Calhoun very, s. peculiar <span style=\"color: rgba(0,0,255,1)\">the</span>, was'<span style=\"color: rgba(0,0,255,1)\">gang</span> Turning <span style=\"color: rgba(0,0,255,1)\">survivor</span>"
      ],
      "text/plain": [
       "<IPython.core.display.HTML object>"
      ]
     },
     "metadata": {},
     "output_type": "display_data"
    },
    {
     "data": {
      "text/html": [
       "quivering with fear, he paused and lit his pipe. He went back <span style=\"color: rgba(255,0,0,0.9926342964172363)\">to</span> the clinker and pushed it in <span style=\"color: rgba(255,0,0,0.815951406955719)\">front</span> of him. He stared intently at what remained of the attackers <span style=\"color: rgba(255,0,0,0.8127789497375488)\">of</span> Baldur and from Calhoun<span style=\"color: rgba(255,0,0,0.9951003193855286)\">'</span>s only friend.'<span style=\"color: rgba(255,0,0,0.5252869129180908)\">Close</span> to ships,<span style=\"color: rgba(255,0,0,0.9477561712265015)\">'</span>' he said. The <span style=\"color: rgba(255,0,0,0.6141246557235718)\">men</span> started at the screen and stood up with them to <span style=\"color: rgba(255,0,0,0.7805021405220032)\">make</span> a careless explanation of what they had more than seen. The conical screen that was between Calhoun's room and the ship, the tube close-to, it seemed to be, a very complex sort of sort of spaceship that Calhoun would <span style=\"color: rgba(255,0,0,0.6752712726593018)\">have</span> to<span style=\"color: rgba(255,0,0,0.5322996377944946)\">,</span> as a matter of fact, apparently was Calhoun very, s. peculiar <span style=\"color: rgba(255,0,0,0.5335339307785034)\">small</span>, was'<span style=\"color: rgba(255,0,0,0.5366964340209961)\">mass</span> Turning <span style=\"color: rgba(255,0,0,0.5637154579162598)\">all</span> <span style=\"color: rgba(255,0,0,0.6096043586730957)\">left</span>"
      ],
      "text/plain": [
       "<IPython.core.display.HTML object>"
      ]
     },
     "metadata": {},
     "output_type": "display_data"
    },
    {
     "data": {
      "text/html": [
       "quivering with fear, he turned and lit his pipe. He went back to the slinker and pushed it in front of him, He stared intently at what became <span style=\"color: rgba(0,0,255,1)\">of</span> the <span style=\"color: rgba(0,0,255,1)\">people</span> of Ba<span style=\"color: rgba(0,0,255,1)\">ld</span>ur and of Calhoun<span style=\"color: rgba(0,0,255,1)\">'</span>s only friend.'Come to now,'' he said. The others started at his side and stood up with them to make a careless explanation of what they had more than seen. <span style=\"color: rgba(0,0,255,1)\">The</span> conical screen that was between Calhoun's room and the ship, was directly close-to-it seemed to be, a very complex sort and <span style=\"color: rgba(0,0,255,1)\">sort</span> of spaceship that Calhoun would have to use as a matter of fact, apparently was a <span style=\"color: rgba(0,0,255,1)\">very</span>, of of <span style=\"color: rgba(0,0,255,1)\">sort</span> <span style=\"color: rgba(0,0,255,1)\">impossible</span>, had <span style=\"color: rgba(0,0,255,1)\">barrage</span> was it <span style=\"color: rgba(0,0,255,1)\">creature</span>"
      ],
      "text/plain": [
       "<IPython.core.display.HTML object>"
      ]
     },
     "metadata": {},
     "output_type": "display_data"
    },
    {
     "data": {
      "text/html": [
       "quivering with fear, he turned and lit his pipe. He went back to the slinker and pushed it in front of him, He stared intently at what became <span style=\"color: rgba(255,0,0,0.6586998701095581)\">of</span> the <span style=\"color: rgba(255,0,0,0.5794260501861572)\">face</span> of Ba<span style=\"color: rgba(255,0,0,0.9712859392166138)\">ld</span>ur and of Calhoun<span style=\"color: rgba(255,0,0,0.9984602928161621)\">'</span>s only friend.'Come to now,'' he said. The others started at his side and stood up with them to make a careless explanation of what they had more than seen. <span style=\"color: rgba(255,0,0,0.9756150841712952)\">The</span> conical screen that was between Calhoun's room and the ship, was directly close-to-it seemed to be, a very complex sort and <span style=\"color: rgba(255,0,0,0.687713086605072)\">sort</span> of spaceship that Calhoun would have to use as a matter of fact, apparently was a <span style=\"color: rgba(255,0,0,0.5533503890037537)\">very</span>, of of <span style=\"color: rgba(255,0,0,0.7620000839233398)\">sort</span> <span style=\"color: rgba(255,0,0,0.5992170572280884)\">a</span>, had <span style=\"color: rgba(255,0,0,0.5629321336746216)\">almost</span> was it <span style=\"color: rgba(255,0,0,0.7072399854660034)\">it</span>,"
      ],
      "text/plain": [
       "<IPython.core.display.HTML object>"
      ]
     },
     "metadata": {},
     "output_type": "display_data"
    },
    {
     "data": {
      "text/html": [
       "quivering with fear, he rose and lit his pipe. He went back to the smither and pushed it in front of him. He stared intently at what <span style=\"color: rgba(0,0,255,1)\">seemed</span> of the <span style=\"color: rgba(0,0,255,1)\">floor</span> <span style=\"color: rgba(0,0,255,1)\">of</span> Baldur and of Calhoun's only chance.'<span style=\"color: rgba(0,0,255,1)\">Come</span> to it,'' he said. The others started at his <span style=\"color: rgba(0,0,255,1)\">suggestion</span> and stood up with them to make a moody examination of what they had more than seen. The conical screen that was between Calhoun's room and the <span style=\"color: rgba(0,0,255,1)\">laboratory</span>, <span style=\"color: rgba(0,0,255,1)\">was</span> directly close <span style=\"color: rgba(0,0,255,1)\">together</span>-- it seemed to be, a very <span style=\"color: rgba(0,0,255,1)\">complex</span> sort of <span style=\"color: rgba(0,0,255,1)\">ship</span>able spaceship that Calhoun would have to explore as a matter of fact, apparently-a complex, of of <span style=\"color: rgba(0,0,255,1)\">kind</span> of it <span style=\"color: rgba(0,0,255,1)\">he</span> it<span style=\"color: rgba(0,0,255,1)\">lite</span> it <span style=\"color: rgba(0,0,255,1)\">explanation</span>"
      ],
      "text/plain": [
       "<IPython.core.display.HTML object>"
      ]
     },
     "metadata": {},
     "output_type": "display_data"
    },
    {
     "data": {
      "text/html": [
       "quivering with fear, he rose and lit his pipe. He went back to the smither and pushed it in front of him. He stared intently at what <span style=\"color: rgba(255,0,0,0.7005929946899414)\">was</span> of the <span style=\"color: rgba(255,0,0,0.5287703275680542)\">men</span> <span style=\"color: rgba(255,0,0,0.8810338377952576)\">of</span> Baldur and of Calhoun's only chance.'<span style=\"color: rgba(255,0,0,0.5872676372528076)\">Come</span> to it,'' he said. The others started at his <span style=\"color: rgba(255,0,0,0.6064053773880005)\">side</span> and stood up with them to make a moody examination of what they had more than seen. The conical screen that was between Calhoun's room and the <span style=\"color: rgba(255,0,0,0.5524440407752991)\">ship</span>, <span style=\"color: rgba(255,0,0,0.9086800813674927)\">was</span> directly close <span style=\"color: rgba(255,0,0,0.6283759474754333)\">by</span>-- it seemed to be, a very <span style=\"color: rgba(255,0,0,0.5748891234397888)\">small</span> sort of <span style=\"color: rgba(255,0,0,0.5712043046951294)\">habit</span>able spaceship that Calhoun would have to explore as a matter of fact, apparently-a complex, of of <span style=\"color: rgba(255,0,0,0.5694132447242737)\">adapt</span> of it <span style=\"color: rgba(255,0,0,0.7280837893486023)\">was</span> it <span style=\"color: rgba(255,0,0,0.5507466197013855)\">Come</span> it <span style=\"color: rgba(255,0,0,0.5263376832008362)\">world</span> matter"
      ],
      "text/plain": [
       "<IPython.core.display.HTML object>"
      ]
     },
     "metadata": {},
     "output_type": "display_data"
    },
    {
     "data": {
      "text/html": [
       "quivering with fear, he rose and lit his pipe. He went back to <span style=\"color: rgba(0,0,255,1)\">the</span> swart<span style=\"color: rgba(0,0,255,1)\">oud</span> and pushed it out front of <span style=\"color: rgba(0,0,255,1)\">him</span>. He stared intently at what remained of the Three of Baldur and of Calhoun's only one.'<span style=\"color: rgba(0,0,255,1)\">Listen</span> to it,'' <span style=\"color: rgba(0,0,255,1)\">he</span> said. The others started at a <span style=\"color: rgba(0,0,255,1)\">more</span> and stood up with them to obtain a more careful view of those they had so <span style=\"color: rgba(0,0,255,1)\">well</span> seen. <span style=\"color: rgba(0,0,255,1)\">A</span> <span style=\"color: rgba(0,0,255,1)\">con</span>ical barrier that was between Calhoun's room and the compartment, was directly close to-- it seemed to him, a very strange sort of <span style=\"color: rgba(0,0,255,1)\">quite</span> dynamic spaceship that Calhoun would have to explore as a matter of fact, apparently-he <span style=\"color: rgba(0,0,255,1)\">new</span><span style=\"color: rgba(0,0,255,1)\">,</span> of of sort-<span style=\"color: rgba(0,0,255,1)\">it</span> showed it remainedy <span style=\"color: rgba(0,0,255,1)\">never</span>"
      ],
      "text/plain": [
       "<IPython.core.display.HTML object>"
      ]
     },
     "metadata": {},
     "output_type": "display_data"
    },
    {
     "data": {
      "text/html": [
       "quivering with fear, he rose and lit his pipe. He went back to <span style=\"color: rgba(255,0,0,0.8716893196105957)\">the</span> swart<span style=\"color: rgba(255,0,0,0.5630733370780945)\">t</span> and pushed it out front of <span style=\"color: rgba(255,0,0,0.9870249032974243)\">him</span>. He stared intently at what remained of the Three of Baldur and of Calhoun's only one.'<span style=\"color: rgba(255,0,0,0.5563571453094482)\">Nothing</span> to it,'' <span style=\"color: rgba(255,0,0,0.9993252754211426)\">he</span> said. The others started at a <span style=\"color: rgba(255,0,0,0.6234408617019653)\">run</span> and stood up with them to obtain a more careful view of those they had so <span style=\"color: rgba(255,0,0,0.6426292657852173)\">far</span> seen. <span style=\"color: rgba(255,0,0,0.9770205020904541)\">The</span> <span style=\"color: rgba(255,0,0,0.9403093457221985)\">con</span>ical barrier that was between Calhoun's room and the compartment, was directly close to-- it seemed to him, a very strange sort of <span style=\"color: rgba(255,0,0,0.5709399580955505)\">highly</span> dynamic spaceship that Calhoun would have to explore as a matter of fact, apparently-he <span style=\"color: rgba(255,0,0,0.5470923185348511)\">very</span> <span style=\"color: rgba(255,0,0,0.6120256781578064)\">very</span> of of sort-<span style=\"color: rgba(255,0,0,0.5960210561752319)\">it</span> showed it remainedy<span style=\"color: rgba(255,0,0,0.5803122520446777)\">h</span> Three"
      ],
      "text/plain": [
       "<IPython.core.display.HTML object>"
      ]
     },
     "metadata": {},
     "output_type": "display_data"
    },
    {
     "data": {
      "text/html": [
       "quivering with fear, he rose and lit his pipe. He went back to his s<span style=\"color: rgba(0,0,255,1)\">nas</span><span style=\"color: rgba(0,0,255,1)\">ier</span> and pushed it out front of him. He <span style=\"color: rgba(0,0,255,1)\">stared</span> intently at what remained of <span style=\"color: rgba(0,0,255,1)\">the</span> Three-Baldry<span style=\"color: rgba(0,0,255,1)\">s</span> of <span style=\"color: rgba(0,0,255,1)\">Paul</span>'s only friend<span style=\"color: rgba(0,0,255,1)\">.</span>'Nothing to do,'' he said. The others started at a run and stood up beside them to keep a very good view of what they had so often seen. The air-barrier that was between Calhoun's room and the compartment, <span style=\"color: rgba(0,0,255,1)\">was</span> <span style=\"color: rgba(0,0,255,1)\">very</span> close to-- it seemed to him, a very strange sort of type of spaceship that <span style=\"color: rgba(0,0,255,1)\">he</span> would have to escape as a matter of fact, apparently perhaps a rather rather of of sort strange at. was washing was"
      ],
      "text/plain": [
       "<IPython.core.display.HTML object>"
      ]
     },
     "metadata": {},
     "output_type": "display_data"
    },
    {
     "data": {
      "text/html": [
       "quivering with fear, he rose and lit his pipe. He went back to his s<span style=\"color: rgba(255,0,0,0.5329232811927795)\">to</span><span style=\"color: rgba(255,0,0,0.5856264233589172)\">op</span> and pushed it out front of him. He <span style=\"color: rgba(255,0,0,0.838886559009552)\">looked</span> intently at what remained of <span style=\"color: rgba(255,0,0,0.9734758138656616)\">the</span> Three-Baldry<span style=\"color: rgba(255,0,0,0.7292052507400513)\">,</span> of <span style=\"color: rgba(255,0,0,0.9858901500701904)\">Calhoun</span>'s only friend<span style=\"color: rgba(255,0,0,0.9994804859161377)\">.</span>'Nothing to do,'' he said. The others started at a run and stood up beside them to keep a very good view of what they had so often seen. The air-barrier that was between Calhoun's room and the compartment, <span style=\"color: rgba(255,0,0,0.7063210010528564)\">was</span> <span style=\"color: rgba(255,0,0,0.591228187084198)\">too</span> close to-- it seemed to him, a very strange sort of type of spaceship that <span style=\"color: rgba(255,0,0,0.7500115633010864)\">Calhoun</span> would have to escape as a matter of fact, apparently perhaps a rather rather of of sort strange at. was washing was,"
      ],
      "text/plain": [
       "<IPython.core.display.HTML object>"
      ]
     },
     "metadata": {},
     "output_type": "display_data"
    },
    {
     "data": {
      "text/html": [
       "quivering with fear, he stopped and lit his pipe. He went back to the stoker and put it out front of him<span style=\"color: rgba(0,0,255,1)\">.</span> He looked <span style=\"color: rgba(0,0,255,1)\">around</span> at what remained of the <span style=\"color: rgba(0,0,255,1)\">Three</span>. Baldry thought of Calhoun's only friend.'Nothing to see,'the man said. The others followed at a run and stood <span style=\"color: rgba(0,0,255,1)\">up</span> behind them to keep a very good view of what they had so far seen<span style=\"color: rgba(0,0,255,1)\">.</span> The air-barrier that was between Calhoun's room <span style=\"color: rgba(0,0,255,1)\">and</span> the ship, was very close now-- it seemed to him, a very strange type of <span style=\"color: rgba(0,0,255,1)\">type</span> of spaceship that he would have to <span style=\"color: rgba(0,0,255,1)\">absorb</span> as a matter of course to <span style=\"color: rgba(0,0,255,1)\">each</span>, a rather rather of of <span style=\"color: rgba(0,0,255,1)\">variation</span> <span style=\"color: rgba(0,0,255,1)\">wonderful</span> at <span style=\"color: rgba(0,0,255,1)\">what</span> the <span style=\"color: rgba(0,0,255,1)\">departed</span> them the"
      ],
      "text/plain": [
       "<IPython.core.display.HTML object>"
      ]
     },
     "metadata": {},
     "output_type": "display_data"
    },
    {
     "data": {
      "text/html": [
       "quivering with fear, he stopped and lit his pipe. He went back to the stoker and put it out front of him<span style=\"color: rgba(255,0,0,0.9995777010917664)\">.</span> He looked <span style=\"color: rgba(255,0,0,0.6389138698577881)\">down</span> at what remained of the <span style=\"color: rgba(255,0,0,0.585863471031189)\">ship</span>. Baldry thought of Calhoun's only friend.'Nothing to see,'the man said. The others followed at a run and stood <span style=\"color: rgba(255,0,0,0.7314035892486572)\">close</span> behind them to keep a very good view of what they had so far seen<span style=\"color: rgba(255,0,0,0.9997959733009338)\">.</span> The air-barrier that was between Calhoun's room <span style=\"color: rgba(255,0,0,0.997902512550354)\">and</span> the ship, was very close now-- it seemed to him, a very strange type of <span style=\"color: rgba(255,0,0,0.864275336265564)\">type</span> of spaceship that he would have to <span style=\"color: rgba(255,0,0,0.5667397975921631)\">use</span> as a matter of course to <span style=\"color: rgba(255,0,0,0.8208614587783813)\">him</span>, a rather rather of of <span style=\"color: rgba(255,0,0,0.8554773926734924)\">type</span> <span style=\"color: rgba(255,0,0,0.519643247127533)\">wrecked</span> at <span style=\"color: rgba(255,0,0,0.8207491636276245)\">the</span> the <span style=\"color: rgba(255,0,0,0.5739037990570068)\">cargo</span> them the,"
      ],
      "text/plain": [
       "<IPython.core.display.HTML object>"
      ]
     },
     "metadata": {},
     "output_type": "display_data"
    },
    {
     "data": {
      "text/html": [
       "quivering with fear, he stopped and lit his pipe. He went back to the stoker and put it out front of him<span style=\"color: rgba(0,0,255,1)\">.</span> He looked back at what remained of <span style=\"color: rgba(0,0,255,1)\">the</span> ship. Baldur thought of Calhoun's old friend.'<span style=\"color: rgba(0,0,255,1)\">Got</span> to see,'the man said. The others followed at a <span style=\"color: rgba(0,0,255,1)\">run</span> and stood close <span style=\"color: rgba(0,0,255,1)\">with</span> them to keep a very <span style=\"color: rgba(0,0,255,1)\">plain</span> view <span style=\"color: rgba(0,0,255,1)\">of</span> <span style=\"color: rgba(0,0,255,1)\">what</span> they had so far seen. The air-line which was between Calhoun's room and the ship, was very close now-- it was to him, a very strange type of <span style=\"color: rgba(0,0,255,1)\">type</span> of spaceship that he would have to use as a matter of course to him,, <span style=\"color: rgba(0,0,255,1)\">room</span>'the of type <span style=\"color: rgba(0,0,255,1)\">small</span> at the the <span style=\"color: rgba(0,0,255,1)\">hooks</span> of <span style=\"color: rgba(0,0,255,1)\">of</span>"
      ],
      "text/plain": [
       "<IPython.core.display.HTML object>"
      ]
     },
     "metadata": {},
     "output_type": "display_data"
    },
    {
     "data": {
      "text/html": [
       "quivering with fear, he stopped and lit his pipe. He went back to the stoker and put it out front of him<span style=\"color: rgba(255,0,0,0.9993823766708374)\">.</span> He looked back at what remained of <span style=\"color: rgba(255,0,0,0.9947713613510132)\">the</span> ship. Baldur thought of Calhoun's old friend.'<span style=\"color: rgba(255,0,0,0.5488009452819824)\">Come</span> to see,'the man said. The others followed at a <span style=\"color: rgba(255,0,0,0.6183565258979797)\">run</span> and stood close <span style=\"color: rgba(255,0,0,0.6618478298187256)\">to</span> them to keep a very <span style=\"color: rgba(255,0,0,0.6076435446739197)\">close</span> view <span style=\"color: rgba(255,0,0,0.9956597089767456)\">of</span> <span style=\"color: rgba(255,0,0,0.972044825553894)\">what</span> they had so far seen. The air-line which was between Calhoun's room and the ship, was very close now-- it was to him, a very strange type of <span style=\"color: rgba(255,0,0,0.8112806081771851)\">type</span> of spaceship that he would have to use as a matter of course to him,, <span style=\"color: rgba(255,0,0,0.5579149127006531)\">sort</span>'the of type <span style=\"color: rgba(255,0,0,0.5866954326629639)\">the</span> at the the <span style=\"color: rgba(255,0,0,0.5232425928115845)\">Glad</span> of <span style=\"color: rgba(255,0,0,0.9973520040512085)\">the</span> <span style=\"color: rgba(255,0,0,0.6687156558036804)\">it</span>"
      ],
      "text/plain": [
       "<IPython.core.display.HTML object>"
      ]
     },
     "metadata": {},
     "output_type": "display_data"
    },
    {
     "data": {
      "text/html": [
       "quivering with fear, <span style=\"color: rgba(0,0,255,1)\">he</span> stopped and lit his pipe. He looked back to the stoker and put it out front <span style=\"color: rgba(0,0,255,1)\">of</span> him. He looked back at Calhoun told of the fact <span style=\"color: rgba(0,0,255,1)\">of</span> Baldur told of <span style=\"color: rgba(0,0,255,1)\">Calhoun</span>'<span style=\"color: rgba(0,0,255,1)\">s</span> old friend.'Have to see,'the man said. The others followed at a run and stood close to them to keep a very closeness of what they had so far done. <span style=\"color: rgba(0,0,255,1)\">An</span> air-line <span style=\"color: rgba(0,0,255,1)\">signal</span> was in Calhoun's room and the <span style=\"color: rgba(0,0,255,1)\">lone</span> wreck was very close and-- it came to him, a very strange type of type of spaceship that he should have to <span style=\"color: rgba(0,0,255,1)\">consider</span> as a matter of course to him,, very <span style=\"color: rgba(0,0,255,1)\">a</span> <span style=\"color: rgba(0,0,255,1)\">historical</span> <span style=\"color: rgba(0,0,255,1)\">great</span> type informed at <span style=\"color: rgba(0,0,255,1)\">incorrect</span> <span style=\"color: rgba(0,0,255,1)\">what</span> said of the"
      ],
      "text/plain": [
       "<IPython.core.display.HTML object>"
      ]
     },
     "metadata": {},
     "output_type": "display_data"
    },
    {
     "data": {
      "text/html": [
       "quivering with fear, <span style=\"color: rgba(255,0,0,0.7693362236022949)\">he</span> stopped and lit his pipe. He looked back to the stoker and put it out front <span style=\"color: rgba(255,0,0,0.9796874523162842)\">of</span> him. He looked back at Calhoun told of the fact <span style=\"color: rgba(255,0,0,0.9328641891479492)\">that</span> Baldur told of <span style=\"color: rgba(255,0,0,0.6507647037506104)\">Calhoun</span>'<span style=\"color: rgba(255,0,0,0.9923120737075806)\">s</span> old friend.'Have to see,'the man said. The others followed at a run and stood close to them to keep a very closeness of what they had so far done. <span style=\"color: rgba(255,0,0,0.911389172077179)\">The</span> air-line <span style=\"color: rgba(255,0,0,0.58147794008255)\">radio</span> was in Calhoun's room and the <span style=\"color: rgba(255,0,0,0.6264533996582031)\">space</span> wreck was very close and-- it came to him, a very strange type of type of spaceship that he should have to <span style=\"color: rgba(255,0,0,0.5278462171554565)\">build</span> as a matter of course to him,, very <span style=\"color: rgba(255,0,0,0.991862952709198)\">s</span><span style=\"color: rgba(255,0,0,0.7839382886886597)\">,</span> <span style=\"color: rgba(255,0,0,0.5543341636657715)\">s</span> type informed at <span style=\"color: rgba(255,0,0,0.8507888913154602)\">and</span> <span style=\"color: rgba(255,0,0,0.9612545967102051)\">and</span> said of the,"
      ],
      "text/plain": [
       "<IPython.core.display.HTML object>"
      ]
     },
     "metadata": {},
     "output_type": "display_data"
    },
    {
     "data": {
      "text/html": [
       "quivering with anger, and stopped and lit his pipe. <span style=\"color: rgba(0,0,255,1)\">He</span> looked back to the stoker and put it out front of him<span style=\"color: rgba(0,0,255,1)\">.</span> He looked <span style=\"color: rgba(0,0,255,1)\">back</span> at Calhoun out of the sense that Baldur was of Calhoun's other world.'Want to see,'the <span style=\"color: rgba(0,0,255,1)\">man</span> said. The other went at a run and stood up to them to keep a very close account of <span style=\"color: rgba(0,0,255,1)\">what</span> they had so far done. The air-ship operator was in Calhoun's room but the space <span style=\"color: rgba(0,0,255,1)\">wreck</span> was very smokeless-- it came <span style=\"color: rgba(0,0,255,1)\">to</span> him as a very strange type of type of spaceship that he would have to apply as a matter of course-him,, very own <span style=\"color: rgba(0,0,255,1)\">own</span> the <span style=\"color: rgba(0,0,255,1)\">sort</span> of at and again <span style=\"color: rgba(0,0,255,1)\">little</span> of fact"
      ],
      "text/plain": [
       "<IPython.core.display.HTML object>"
      ]
     },
     "metadata": {},
     "output_type": "display_data"
    },
    {
     "data": {
      "text/html": [
       "quivering with anger, and stopped and lit his pipe. <span style=\"color: rgba(255,0,0,0.9544275999069214)\">He</span> looked back to the stoker and put it out front of him<span style=\"color: rgba(255,0,0,0.9998130798339844)\">.</span> He looked <span style=\"color: rgba(255,0,0,0.8309311270713806)\">back</span> at Calhoun out of the sense that Baldur was of Calhoun's other world.'Want to see,'the <span style=\"color: rgba(255,0,0,0.6339266300201416)\">man</span> said. The other went at a run and stood up to them to keep a very close account of <span style=\"color: rgba(255,0,0,0.9477130770683289)\">what</span> they had so far done. The air-ship operator was in Calhoun's room but the space<span style=\"color: rgba(255,0,0,0.7917177677154541)\">r</span> was very smokeless-- it came <span style=\"color: rgba(255,0,0,0.9601465463638306)\">to</span> him as a very strange type of type of spaceship that he would have to apply as a matter of course-him,, very own <span style=\"color: rgba(255,0,0,0.5888913869857788)\">strange</span> the<span style=\"color: rgba(255,0,0,0.7297422885894775)\">hip</span> of at and again <span style=\"color: rgba(255,0,0,0.5903193950653076)\">Just</span> of fact sense"
      ],
      "text/plain": [
       "<IPython.core.display.HTML object>"
      ]
     },
     "metadata": {},
     "output_type": "display_data"
    },
    {
     "data": {
      "text/html": [
       "quivering with anger, and stopped and lit his pipe. He looked back to the stoker and saw it out front of him. He looked back at Calhoun out of the <span style=\"color: rgba(0,0,255,1)\">way</span> that Ba<span style=\"color: rgba(0,0,255,1)\">ld</span>ur knew of Calhoun's other <span style=\"color: rgba(0,0,255,1)\">decisions</span>.'Glad to see,'the man said. The other went at a run and stood up to <span style=\"color: rgba(0,0,255,1)\">them</span> to keep a very close account of what they had so far done. <span style=\"color: rgba(0,0,255,1)\">The</span> air-<span style=\"color: rgba(0,0,255,1)\">ship</span> operator was in Calhoun's mind; the spacer was very careless-- it came to him as a very strange type of <span style=\"color: rgba(0,0,255,1)\">type</span> of spaceship that he would have to apply as a matter of course--,, <span style=\"color: rgba(0,0,255,1)\">role</span> different of the type <span style=\"color: rgba(0,0,255,1)\">of</span> at and again, way way"
      ],
      "text/plain": [
       "<IPython.core.display.HTML object>"
      ]
     },
     "metadata": {},
     "output_type": "display_data"
    },
    {
     "data": {
      "text/html": [
       "quivering with anger, and stopped and lit his pipe. He looked back to the stoker and saw it out front of him. He looked back at Calhoun out of the <span style=\"color: rgba(255,0,0,0.7746913433074951)\">fact</span> that Ba<span style=\"color: rgba(255,0,0,0.9091331958770752)\">ld</span>ur knew of Calhoun's other <span style=\"color: rgba(255,0,0,0.5458895564079285)\">mind</span>.'Glad to see,'the man said. The other went at a run and stood up to <span style=\"color: rgba(255,0,0,0.6627483367919922)\">try</span> to keep a very close account of what they had so far done. <span style=\"color: rgba(255,0,0,0.8389250040054321)\">The</span> air-<span style=\"color: rgba(255,0,0,0.5398526787757874)\">conditioned</span> operator was in Calhoun's mind; the spacer was very careless-- it came to him as a very strange type of <span style=\"color: rgba(255,0,0,0.7985183596611023)\">type</span> of spaceship that he would have to apply as a matter of course--,, <span style=\"color: rgba(255,0,0,0.531062126159668)\">name</span> different of the type <span style=\"color: rgba(255,0,0,0.6168766021728516)\">a</span> at and again, way way sense"
      ],
      "text/plain": [
       "<IPython.core.display.HTML object>"
      ]
     },
     "metadata": {},
     "output_type": "display_data"
    },
    {
     "data": {
      "text/html": [
       "<span style=\"color: rgba(0,0,255,1)\">q</span>uivering with anger, and went and blowing his pipe. He went back to the stok<span style=\"color: rgba(0,0,255,1)\">er</span> and put it in front of him. He looked back at Calhoun out of<span style=\"color: rgba(0,0,255,1)\">al</span> <span style=\"color: rgba(0,0,255,1)\">touch</span>. <span style=\"color: rgba(0,0,255,1)\">G</span>ldur knew of Calhoun's first shrug.'Try to see,'the man said. The man went for a time and stood up to try to keep a pretty close view of what they had so far done. An air-<span style=\"color: rgba(0,0,255,1)\">business</span> it was in Calhoun's mind <span style=\"color: rgba(0,0,255,1)\">that</span> the spacer was very careless-- it came to him as a very strange type and type of spaceship that he <span style=\"color: rgba(0,0,255,1)\">would</span> have to apply as a matter of-- -,, <span style=\"color: rgba(0,0,255,1)\">s</span> a of <span style=\"color: rgba(0,0,255,1)\">coldly</span> <span style=\"color: rgba(0,0,255,1)\">of</span>, at out the, <span style=\"color: rgba(0,0,255,1)\">curiosity</span> four"
      ],
      "text/plain": [
       "<IPython.core.display.HTML object>"
      ]
     },
     "metadata": {},
     "output_type": "display_data"
    },
    {
     "data": {
      "text/html": [
       "<span style=\"color: rgba(255,0,0,0.9931776523590088)\">q</span>uivering with anger, and went and blowing his pipe. He went back to the stok<span style=\"color: rgba(255,0,0,0.9914891719818115)\">er</span> and put it in front of him. He looked back at Calhoun out of <span style=\"color: rgba(255,0,0,0.7558130025863647)\">the</span> <span style=\"color: rgba(255,0,0,0.5571768879890442)\">window</span>. <span style=\"color: rgba(255,0,0,0.8470990657806396)\">Ba</span>ldur knew of Calhoun's first shrug.'Try to see,'the man said. The man went for a time and stood up to try to keep a pretty close view of what they had so far done. An air-<span style=\"color: rgba(255,0,0,0.597636342048645)\">-</span> it was in Calhoun's mind <span style=\"color: rgba(255,0,0,0.741661548614502)\">that</span> the spacer was very careless-- it came to him as a very strange type and type of spaceship that he <span style=\"color: rgba(255,0,0,0.8182196617126465)\">would</span> have to apply as a matter of-- -,,<span style=\"color: rgba(255,0,0,0.6033420562744141)\">,</span> a of <span style=\"color: rgba(255,0,0,0.623942494392395)\">shrug</span> <span style=\"color: rgba(255,0,0,0.5721629858016968)\">face</span>, at out the, <span style=\"color: rgba(255,0,0,0.6817471981048584)\">sight</span> four <span style=\"color: rgba(255,0,0,0.5353342890739441)\">blank</span>"
      ],
      "text/plain": [
       "<IPython.core.display.HTML object>"
      ]
     },
     "metadata": {},
     "output_type": "display_data"
    },
    {
     "data": {
      "text/html": [
       "quivering with anger, and <span style=\"color: rgba(0,0,255,1)\">stopped</span> and blowing his pipe. He went back to the stoker and <span style=\"color: rgba(0,0,255,1)\">put</span> it <span style=\"color: rgba(0,0,255,1)\">in</span> front of him<span style=\"color: rgba(0,0,255,1)\">.</span> He looked over at Calhoun out of the <span style=\"color: rgba(0,0,255,1)\">window</span>. Baldur knew of Calhoun's first reaction.'Glad to see,'the man said. The man <span style=\"color: rgba(0,0,255,1)\">went</span> for a second and stood up<span style=\"color: rgba(0,0,255,1)\">.</span> trying to keep a pretty good view of what Calhoun had so recently done. An idea-- it was in Calhoun's mind that the spacer <span style=\"color: rgba(0,0,255,1)\">was</span> being careless-- it came to him as a very peculiar type and type of companions<span style=\"color: rgba(0,0,255,1)\">hip</span> that he did have to apply as a matter of-<span style=\"color: rgba(0,0,255,1)\">-</span> but as <span style=\"color: rgba(0,0,255,1)\">a</span>, a of. type of at and the <span style=\"color: rgba(0,0,255,1)\">one</span> again window"
      ],
      "text/plain": [
       "<IPython.core.display.HTML object>"
      ]
     },
     "metadata": {},
     "output_type": "display_data"
    },
    {
     "data": {
      "text/html": [
       "quivering with anger, and <span style=\"color: rgba(255,0,0,0.5326955318450928)\">began</span> and blowing his pipe. He went back to the stoker and <span style=\"color: rgba(255,0,0,0.789398193359375)\">put</span> it <span style=\"color: rgba(255,0,0,0.9963303804397583)\">in</span> front of him<span style=\"color: rgba(255,0,0,0.9997168779373169)\">.</span> He looked over at Calhoun out of the <span style=\"color: rgba(255,0,0,0.7245626449584961)\">window</span>. Baldur knew of Calhoun's first reaction.'Glad to see,'the man said. The man <span style=\"color: rgba(255,0,0,0.6021521091461182)\">paused</span> for a second and stood up<span style=\"color: rgba(255,0,0,0.9587221145629883)\">,</span> trying to keep a pretty good view of what Calhoun had so recently done. An idea-- it was in Calhoun's mind that the spacer <span style=\"color: rgba(255,0,0,0.9835501909255981)\">was</span> being careless-- it came to him as a very peculiar type and type of companions<span style=\"color: rgba(255,0,0,0.9959859848022461)\">hip</span> that he did have to apply as a matter of-<span style=\"color: rgba(255,0,0,0.999791145324707)\">-</span> but as <span style=\"color: rgba(255,0,0,0.9152492880821228)\">-</span>, a of. type of at and the <span style=\"color: rgba(255,0,0,0.655510425567627)\">back</span> again window then"
      ],
      "text/plain": [
       "<IPython.core.display.HTML object>"
      ]
     },
     "metadata": {},
     "output_type": "display_data"
    },
    {
     "data": {
      "text/html": [
       "quivering with anger, and then began blowing his <span style=\"color: rgba(0,0,255,1)\">pants</span>. He <span style=\"color: rgba(0,0,255,1)\">went</span> back to the s<span style=\"color: rgba(0,0,255,1)\">ling</span>er and put it in front of him. He looked up at him <span style=\"color: rgba(0,0,255,1)\">out</span> of the window. Baldur knew of Calhoun's first reaction.'Glad to see,'the man said. The man hesitated for a second and stood there, trying to keep a pretty good view of what Calhoun had so recently done. An <span style=\"color: rgba(0,0,255,1)\">apology</span>-- it was in Calhoun's mind that the spacer was being careless-- it came to him as a very peculiar type and sort of companions<span style=\"color: rgba(0,0,255,1)\">hip</span> that he was <span style=\"color: rgba(0,0,255,1)\">pleased</span> to apply <span style=\"color: rgba(0,0,255,1)\">as</span> a matter of-- <span style=\"color: rgba(0,0,255,1)\">an</span> as-<span style=\"color: rgba(0,0,255,1)\">very</span> very of'type <span style=\"color: rgba(0,0,255,1)\">out</span> at and the port <span style=\"color: rgba(0,0,255,1)\">out</span> <span style=\"color: rgba(0,0,255,1)\">outside</span>"
      ],
      "text/plain": [
       "<IPython.core.display.HTML object>"
      ]
     },
     "metadata": {},
     "output_type": "display_data"
    },
    {
     "data": {
      "text/html": [
       "quivering with anger, and then began blowing his <span style=\"color: rgba(255,0,0,0.5916860699653625)\">nose</span>. He <span style=\"color: rgba(255,0,0,0.8819247484207153)\">went</span> back to the s<span style=\"color: rgba(255,0,0,0.5386723875999451)\">tok</span>er and put it in front of him. He looked up at him <span style=\"color: rgba(255,0,0,0.9972192049026489)\">out</span> of the window. Baldur knew of Calhoun's first reaction.'Glad to see,'the man said. The man hesitated for a second and stood there, trying to keep a pretty good view of what Calhoun had so recently done. An <span style=\"color: rgba(255,0,0,0.6087971925735474)\">idea</span>-- it was in Calhoun's mind that the spacer was being careless-- it came to him as a very peculiar type and sort of companions<span style=\"color: rgba(255,0,0,0.9982483386993408)\">hip</span> that he was <span style=\"color: rgba(255,0,0,0.6730784177780151)\">beginning</span> to apply <span style=\"color: rgba(255,0,0,0.9442569017410278)\">as</span> a matter of-- <span style=\"color: rgba(255,0,0,0.6599178314208984)\">something</span> as-<span style=\"color: rgba(255,0,0,0.7309436798095703)\">very</span> very of'type <span style=\"color: rgba(255,0,0,0.9917686581611633)\">out</span> at and the port <span style=\"color: rgba(255,0,0,0.9783872365951538)\">out</span> <span style=\"color: rgba(255,0,0,0.904296875)\">out</span> port"
      ],
      "text/plain": [
       "<IPython.core.display.HTML object>"
      ]
     },
     "metadata": {},
     "output_type": "display_data"
    }
   ],
   "source": [
    "text=\"\"\"Quivering with fear, he trembled He lit five cigarette. He stared directly at the three fingered alient monster in front of him. It stated back at what reminded it of a naked larvel species from it's homewold. 'Lets do this'' he said. Together they headed off, man and Targid, to start a love the likes of which none had ever before imagined. The kind of love that existed between brothers or cubmates. Interspecies soult companions - this was often seen as a rotton kind of dependant relationshp that many would like to erase from the galactic dictionary.\"\"\"\n",
    "improve_words_recursive(text, processor, tokenizer, model, iterations=200, max_seq_length=150, n=10, T=1.0, device=\"cuda\", debug=10)"
   ]
  },
  {
   "cell_type": "code",
   "execution_count": 69,
   "metadata": {},
   "outputs": [
    {
     "data": {
      "text/html": [
       "Quivering with fear, he trembled He lit five <span style=\"color: rgba(0,0,255,1)\">cigarette</span><span style=\"color: rgba(0,0,255,1)\">.</span> He stared directly at the three fingered <span style=\"color: rgba(0,0,255,1)\">alien</span><span style=\"color: rgba(0,0,255,1)\">t</span> monster in front of him. It stated back at what reminded it of a naked larve<span style=\"color: rgba(0,0,255,1)\">l</span> species from it's homewold.'Lets do this'' he said. Together they headed off, man and Targid, to start a <span style=\"color: rgba(0,0,255,1)\">love</span> the likes of which none had ever before imagined. The kind of love that existed between brothers or cubmates. Interspecies soult companions-this was often seen as a rotton kind of dependant relationshp that many would like to erase from the gal<span style=\"color: rgba(0,0,255,1)\">actic</span> dictionary"
      ],
      "text/plain": [
       "<IPython.core.display.HTML object>"
      ]
     },
     "metadata": {},
     "output_type": "display_data"
    },
    {
     "data": {
      "text/html": [
       "Quivering with fear, he trembled He lit five <span style=\"color: rgba(255,0,0,0.6758900284767151)\">cigarettes</span><span style=\"color: rgba(255,0,0,0.9969537258148193)\">.</span> He stared directly at the three fingered<span style=\"color: rgba(255,0,0,0.5657986998558044)\">,</span> <span style=\"color: rgba(255,0,0,0.6886423230171204)\">of</span> monster in front of him. It stated back at what reminded it of a naked larve<span style=\"color: rgba(255,0,0,0.8174549341201782)\">lous</span> species from it's homewold.'Lets do this'' he said. Together they headed off, man and Targid, to start a <span style=\"color: rgba(255,0,0,0.597449004650116)\">love</span> the likes of which none had ever before imagined. The kind of love that existed between brothers or cubmates. Interspecies soult companions-this was often seen as a rotton kind of dependant relationshp that many would like to erase from the gal<span style=\"color: rgba(255,0,0,0.9517049789428711)\">actic</span> dictionary"
      ],
      "text/plain": [
       "<IPython.core.display.HTML object>"
      ]
     },
     "metadata": {},
     "output_type": "display_data"
    },
    {
     "data": {
      "text/html": [
       "quivering with fear, he trembled He lit five matches. He stared directly at the three fingered smallish <span style=\"color: rgba(0,0,255,1)\">ghosts</span> in front of him. It stared back at what reminded it <span style=\"color: rgba(0,0,255,1)\">of</span> a naked lactous visit from <span style=\"color: rgba(0,0,255,1)\">Good</span>'s smother.'<span style=\"color: rgba(0,0,255,1)\">Let</span>s do this'' he <span style=\"color: rgba(0,0,255,1)\">said</span>. Then they <span style=\"color: rgba(0,0,255,1)\">enacted</span> together, man and argid, to start a marriage the fruit of nothing one had ever before imagined. The kind of love that <span style=\"color: rgba(0,0,255,1)\">fits</span> between friends <span style=\"color: rgba(0,0,255,1)\">their</span> clemates. Inspeciously formless companions, it was often seen, a rotarylev of dependable relations, that one would like to erase from their warnedic, with them a on mutual <span style=\"color: rgba(0,0,255,1)\">irrational</span> <span style=\"color: rgba(0,0,255,1)\">routine</span> <span style=\"color: rgba(0,0,255,1)\">of</span> <span style=\"color: rgba(0,0,255,1)\">j</span> of <span style=\"color: rgba(0,0,255,1)\">happiness</span> was I Was<span style=\"color: rgba(0,0,255,1)\">founded</span> of"
      ],
      "text/plain": [
       "<IPython.core.display.HTML object>"
      ]
     },
     "metadata": {},
     "output_type": "display_data"
    },
    {
     "data": {
      "text/html": [
       "quivering with fear, he trembled He lit five matches. He stared directly at the three fingered smallish <span style=\"color: rgba(255,0,0,0.6274345517158508)\">object</span> in front of him. It stared back at what reminded it <span style=\"color: rgba(255,0,0,0.8262954950332642)\">of</span> a naked lactous visit from <span style=\"color: rgba(255,0,0,0.6645844578742981)\">one</span>'s smother.'<span style=\"color: rgba(255,0,0,0.700786292552948)\">Let</span>s do this'' he <span style=\"color: rgba(255,0,0,0.8035343885421753)\">said</span>. Then they <span style=\"color: rgba(255,0,0,0.7956570982933044)\">came</span> together, man and argid, to start a marriage the fruit of nothing one had ever before imagined. The kind of love that <span style=\"color: rgba(255,0,0,0.6190624237060547)\">passed</span> between friends <span style=\"color: rgba(255,0,0,0.9794011116027832)\">and</span> clemates. Inspeciously formless companions, it was often seen, a rotarylev of dependable relations, that one would like to erase from their warnedic, with them a on mutual <span style=\"color: rgba(255,0,0,0.5363588929176331)\">child</span> <span style=\"color: rgba(255,0,0,0.5587773323059082)\">sister</span><span style=\"color: rgba(255,0,0,0.7856011390686035)\">,</span> <span style=\"color: rgba(255,0,0,0.5829769372940063)\">sort</span> of<span style=\"color: rgba(255,0,0,0.7147380709648132)\">,</span> was I Was <span style=\"color: rgba(255,0,0,0.5564996600151062)\">Let</span> of house"
      ],
      "text/plain": [
       "<IPython.core.display.HTML object>"
      ]
     },
     "metadata": {},
     "output_type": "display_data"
    },
    {
     "data": {
      "text/html": [
       "quivering with fear, <span style=\"color: rgba(0,0,255,1)\">curiosity</span>. He lit his matches. It stared directly at the threefolded <span style=\"color: rgba(0,0,255,1)\">blaze</span>ish eyes in front of him<span style=\"color: rgba(0,0,255,1)\">.</span> It stared back at what seemed it of <span style=\"color: rgba(0,0,255,1)\">a</span> imaginary minneroon visit from Mimi's smother.'The servants do,esi'he explained. Then they drew apart, drew and qrg;, to make their marriage the fruit of <span style=\"color: rgba(0,0,255,1)\">what</span> one had long <span style=\"color: rgba(0,0,255,1)\">before</span> imagined. The stirring of love and butterflies between <span style=\"color: rgba(0,0,255,1)\">eye</span> and <span style=\"color: rgba(0,0,255,1)\">Simon</span><span style=\"color: rgba(0,0,255,1)\">'</span>midst. Pospeciously formed companionship it was often continued, the momentous flare of industryable relations, that one would like to learn from <span style=\"color: rgba(0,0,255,1)\">their</span> conversation followed, with them a group<span style=\"color: rgba(0,0,255,1)\">'</span>s suggestion of form <span style=\"color: rgba(0,0,255,1)\">pride</span> cousin was be <span style=\"color: rgba(0,0,255,1)\">seemed</span> to of"
      ],
      "text/plain": [
       "<IPython.core.display.HTML object>"
      ]
     },
     "metadata": {},
     "output_type": "display_data"
    },
    {
     "data": {
      "text/html": [
       "quivering with fear, <span style=\"color: rgba(255,0,0,0.5510651469230652)\">perhaps</span>. He lit his matches. It stared directly at the threefolded <span style=\"color: rgba(255,0,0,0.7046041488647461)\">child</span>ish eyes in front of him<span style=\"color: rgba(255,0,0,0.9922021627426147)\">.</span> It stared back at what seemed it of <span style=\"color: rgba(255,0,0,0.9666387438774109)\">an</span> imaginary minneroon visit from Mimi's smother.'The servants do,esi'he explained. Then they drew apart, drew and qrg;, to make their marriage the fruit of <span style=\"color: rgba(255,0,0,0.6100316643714905)\">love</span> one had long<span style=\"color: rgba(255,0,0,0.6466895341873169)\">ly</span> imagined. The stirring of love and butterflies between <span style=\"color: rgba(255,0,0,0.5655565857887268)\">them</span> and <span style=\"color: rgba(255,0,0,0.5827345252037048)\">the</span> <span style=\"color: rgba(255,0,0,0.519504189491272)\">new</span> midst. Pospeciously formed companionship it was often continued, the momentous flare of industryable relations, that one would like to learn from <span style=\"color: rgba(255,0,0,0.7747130990028381)\">which</span> conversation followed, with them a group <span style=\"color: rgba(255,0,0,0.5163419246673584)\">very</span> s suggestion of form <span style=\"color: rgba(255,0,0,0.6588931083679199)\">agree</span> cousin was be <span style=\"color: rgba(255,0,0,0.5465540885925293)\">reminded</span> to of work"
      ],
      "text/plain": [
       "<IPython.core.display.HTML object>"
      ]
     },
     "metadata": {},
     "output_type": "display_data"
    },
    {
     "data": {
      "text/html": [
       "quivering with fear, perhaps. He lit a pipe. It looked directly at the threefolded childish figure in front of him. It stared back at <span style=\"color: rgba(0,0,255,1)\">what</span> he found of an imaginary mingle of visit from Mimi's s<span style=\"color: rgba(0,0,255,1)\">mother</span>.'<span style=\"color: rgba(0,0,255,1)\">The</span> servants do,'' he explained. Then he drew close, vague and quously, to make of one the beginning <span style=\"color: rgba(0,0,255,1)\">of</span> what one had long ago imagined. A picture of love and intimacy between <span style=\"color: rgba(0,0,255,1)\">moon</span> and the dead <span style=\"color: rgba(0,0,255,1)\">moon</span>. Con<span style=\"color: rgba(0,0,255,1)\">sp</span>ental formified companions, it was often continued, the <span style=\"color: rgba(0,0,255,1)\">lively</span><span style=\"color: rgba(0,0,255,1)\">ering</span> motion of friends and <span style=\"color: rgba(0,0,255,1)\">foe</span>s, one would still <span style=\"color: rgba(0,0,255,1)\">Find</span> learn from as pre followed, with them the a variations s<span style=\"color: rgba(0,0,255,1)\">ly</span> of love small; perhaps he <span style=\"color: rgba(0,0,255,1)\">ill</span> <span style=\"color: rgba(0,0,255,1)\">somewhat</span> of"
      ],
      "text/plain": [
       "<IPython.core.display.HTML object>"
      ]
     },
     "metadata": {},
     "output_type": "display_data"
    },
    {
     "data": {
      "text/html": [
       "quivering with fear, perhaps. He lit a pipe. It looked directly at the threefolded childish figure in front of him. It stared back at <span style=\"color: rgba(255,0,0,0.9608895778656006)\">what</span> he found of an imaginary mingle of visit from Mimi's s<span style=\"color: rgba(255,0,0,0.6009736657142639)\">mith</span>.'<span style=\"color: rgba(255,0,0,0.8452614545822144)\">The</span> servants do,'' he explained. Then he drew close, vague and quously, to make of one the beginning <span style=\"color: rgba(255,0,0,0.9981703758239746)\">of</span> what one had long ago imagined. A picture of love and intimacy between <span style=\"color: rgba(255,0,0,0.6103125214576721)\">man</span> and the dead <span style=\"color: rgba(255,0,0,0.701062798500061)\">world</span>. Con<span style=\"color: rgba(255,0,0,0.5455086827278137)\">cend</span>ental formified companions, it was often continued, the <span style=\"color: rgba(255,0,0,0.5253981947898865)\">same</span><span style=\"color: rgba(255,0,0,0.5188276767730713)\">-</span>motion of friends and <span style=\"color: rgba(255,0,0,0.666886568069458)\">acquaintance</span>s, one would still <span style=\"color: rgba(255,0,0,0.5685591101646423)\">more</span> learn from as pre followed, with them the a variations s<span style=\"color: rgba(255,0,0,0.5491232872009277)\">-</span>of love small; perhaps he <span style=\"color: rgba(255,0,0,0.5801408886909485)\">Cast</span> <span style=\"color: rgba(255,0,0,0.6642869710922241)\">The</span> of an"
      ],
      "text/plain": [
       "<IPython.core.display.HTML object>"
      ]
     },
     "metadata": {},
     "output_type": "display_data"
    },
    {
     "data": {
      "text/html": [
       "quivering with fear, perhaps. He lit a pipe. It looked directly at the threefolded <span style=\"color: rgba(0,0,255,1)\">lady</span>-<span style=\"color: rgba(0,0,255,1)\">figure</span> in front of him. It stared back at what he found of <span style=\"color: rgba(0,0,255,1)\">left</span> of mingling of sisters from Mimi's s<span style=\"color: rgba(0,0,255,1)\">mith</span>.'<span style=\"color: rgba(0,0,255,1)\">The</span> creatures do,<span style=\"color: rgba(0,0,255,1)\">'</span>' he explained. Yet he drew on, slowly <span style=\"color: rgba(0,0,255,1)\">and</span> <span style=\"color: rgba(0,0,255,1)\">q</span>uadly, to make only one final beginning of what he had long ago imagined. A picture of the conflict appeared between man and the dead man. Un<span style=\"color: rgba(0,0,255,1)\">ass</span>ental form, <span style=\"color: rgba(0,0,255,1)\">companions</span> as it was often <span style=\"color: rgba(0,0,255,1)\">imagined</span>, the sentient relations of men and wandereds, which purpose, <span style=\"color: rgba(0,0,255,1)\">to</span> learn, as it were,, them, a a per. of beings<span style=\"color: rgba(0,0,255,1)\">ation</span>.mith it <span style=\"color: rgba(0,0,255,1)\">veil</span> The of"
      ],
      "text/plain": [
       "<IPython.core.display.HTML object>"
      ]
     },
     "metadata": {},
     "output_type": "display_data"
    },
    {
     "data": {
      "text/html": [
       "quivering with fear, perhaps. He lit a pipe. It looked directly at the threefolded <span style=\"color: rgba(255,0,0,0.5274767875671387)\">half</span>-<span style=\"color: rgba(255,0,0,0.5293942093849182)\">man</span> in front of him. It stared back at what he found of<span style=\"color: rgba(255,0,0,0.5174350738525391)\">,</span> of mingling of sisters from Mimi's s<span style=\"color: rgba(255,0,0,0.5301064252853394)\">lums</span>.'<span style=\"color: rgba(255,0,0,0.5910164713859558)\">Other</span> creatures do,<span style=\"color: rgba(255,0,0,0.866429328918457)\">,</span>'he explained. Yet he drew on, slowly <span style=\"color: rgba(255,0,0,0.7499874830245972)\">and</span> <span style=\"color: rgba(255,0,0,0.9653725624084473)\">q</span>uadly, to make only one final beginning of what he had long ago imagined. A picture of the conflict appeared between man and the dead man. Un<span style=\"color: rgba(255,0,0,0.532477855682373)\">ter</span>ental form, <span style=\"color: rgba(255,0,0,0.8266654014587402)\">such</span> as it was often <span style=\"color: rgba(255,0,0,0.6578241586685181)\">said</span>, the sentient relations of men and wandereds, which purpose, <span style=\"color: rgba(255,0,0,0.8147628307342529)\">to</span> learn, as it were,, them, a a per. of beings<span style=\"color: rgba(255,0,0,0.5237085223197937)\">hack</span>.mith it <span style=\"color: rgba(255,0,0,0.5274299383163452)\">glimpse</span> The of,"
      ],
      "text/plain": [
       "<IPython.core.display.HTML object>"
      ]
     },
     "metadata": {},
     "output_type": "display_data"
    },
    {
     "data": {
      "text/html": [
       "quivering with fear, perhaps. He lit his pipe. It looked directly at the three<span style=\"color: rgba(0,0,255,1)\">fold</span>ed <span style=\"color: rgba(0,0,255,1)\">curiosity</span>-glass in front of him. It stared back at what he found of ten of them <span style=\"color: rgba(0,0,255,1)\">pretty</span> of sisters from Mimi's shave.'These creatures do,'' he explained. <span style=\"color: rgba(0,0,255,1)\">Perhaps</span> he drew on, tentatively, qingerly, to make out the real beginning of <span style=\"color: rgba(0,0,255,1)\">what</span> he <span style=\"color: rgba(0,0,255,1)\">had</span> drifted since <span style=\"color: rgba(0,0,255,1)\">imagined</span>. A picture of the scene appeared <span style=\"color: rgba(0,0,255,1)\">struggle</span> man and woman <span style=\"color: rgba(0,0,255,1)\">as</span> man. In <span style=\"color: rgba(0,0,255,1)\">body</span>ent or form, people as it was often true, the sentient sensations of men through nature themselves, which can not but learn, as it were<span style=\"color: rgba(0,0,255,1)\">,</span>, explained registered a a <span style=\"color: rgba(0,0,255,1)\">giant</span><span style=\"color: rgba(0,0,255,1)\">.</span> of the and. the port <span style=\"color: rgba(0,0,255,1)\">Present</span> Strange fantasies"
      ],
      "text/plain": [
       "<IPython.core.display.HTML object>"
      ]
     },
     "metadata": {},
     "output_type": "display_data"
    },
    {
     "data": {
      "text/html": [
       "quivering with fear, perhaps. He lit his pipe. It looked directly at the three <span style=\"color: rgba(255,0,0,0.5465314388275146)\">jewel</span>ed <span style=\"color: rgba(255,0,0,0.5502283573150635)\">field</span>-glass in front of him. It stared back at what he found of ten of them<span style=\"color: rgba(255,0,0,0.7512164115905762)\">,</span> of sisters from Mimi's shave.'These creatures do,'' he explained. <span style=\"color: rgba(255,0,0,0.7104362845420837)\">Then</span> he drew on, tentatively, qingerly, to make out the real beginning of <span style=\"color: rgba(255,0,0,0.9707505702972412)\">what</span> he <span style=\"color: rgba(255,0,0,0.9991519451141357)\">had</span> drifted since <span style=\"color: rgba(255,0,0,0.7607438564300537)\">childhood</span>. A picture of the scene appeared<span style=\"color: rgba(255,0,0,0.6043659448623657)\">:</span> man and woman <span style=\"color: rgba(255,0,0,0.597147524356842)\">as</span> man. In<span style=\"color: rgba(255,0,0,0.551470160484314)\">ten</span>ent or form, people as it was often true, the sentient sensations of men through nature themselves, which can not but learn, as it were <span style=\"color: rgba(255,0,0,0.8770226240158081)\">called</span>, explained registered a a <span style=\"color: rgba(255,0,0,0.5769497156143188)\">reflected</span> <span style=\"color: rgba(255,0,0,0.5050632357597351)\">children</span> of the and. the port <span style=\"color: rgba(255,0,0,0.5292463898658752)\">cluster</span> Strange fantasies,"
      ],
      "text/plain": [
       "<IPython.core.display.HTML object>"
      ]
     },
     "metadata": {},
     "output_type": "display_data"
    },
    {
     "data": {
      "text/html": [
       "qui<span style=\"color: rgba(0,0,255,1)\">vering</span> with fear, perhaps. He lit his pipe. It looked directly at the three jeweled cat-<span style=\"color: rgba(0,0,255,1)\">counters</span> in front <span style=\"color: rgba(0,0,255,1)\">of</span> it. It stared back at what he found. Two of them <span style=\"color: rgba(0,0,255,1)\">a</span> <span style=\"color: rgba(0,0,255,1)\">blank</span>, from Mimi's shave.<span style=\"color: rgba(0,0,255,1)\">'</span>The creatures do,'' he explained. Then he drew on, slowly, and vainly, to make <span style=\"color: rgba(0,0,255,1)\">out</span> the numbers beyond of those he had seen since childhood<span style=\"color: rgba(0,0,255,1)\">.</span> A picture of odd things appeared, <span style=\"color: rgba(0,0,255,1)\">similarly</span> of woman and man. In recoveringent or formly, as it was often true<span style=\"color: rgba(0,0,255,1)\">,</span> the transient relationship of man and nature <span style=\"color: rgba(0,0,255,1)\">is</span>, for man, to learn, as they were said, as <span style=\"color: rgba(0,0,255,1)\">that</span> and,, and of the and them the the <span style=\"color: rgba(0,0,255,1)\">complaint</span> saw the"
      ],
      "text/plain": [
       "<IPython.core.display.HTML object>"
      ]
     },
     "metadata": {},
     "output_type": "display_data"
    },
    {
     "data": {
      "text/html": [
       "qui<span style=\"color: rgba(255,0,0,0.6705472469329834)\">ver</span> with fear, perhaps. He lit his pipe. It looked directly at the three jeweled cat-<span style=\"color: rgba(255,0,0,0.6600730419158936)\">creatures</span> in front <span style=\"color: rgba(255,0,0,0.9998645782470703)\">of</span> it. It stared back at what he found. Two of them <span style=\"color: rgba(255,0,0,0.7031420469284058)\">were</span> <span style=\"color: rgba(255,0,0,0.5193027257919312)\">up</span>, from Mimi's shave.<span style=\"color: rgba(255,0,0,0.9966561794281006)\">'</span>The creatures do,'' he explained. Then he drew on, slowly, and vainly, to make <span style=\"color: rgba(255,0,0,0.9692990779876709)\">out</span> the numbers beyond of those he had seen since childhood<span style=\"color: rgba(255,0,0,0.9996262788772583)\">.</span> A picture of odd things appeared, <span style=\"color: rgba(255,0,0,0.5785866379737854)\">whether</span> of woman and man. In recoveringent or formly, as it was often true<span style=\"color: rgba(255,0,0,0.9979082345962524)\">,</span> the transient relationship of man and nature <span style=\"color: rgba(255,0,0,0.6271611452102661)\">was</span>, for man, to learn, as they were said, as<span style=\"color: rgba(255,0,0,0.5890792012214661)\">,</span> and,, and of the and them the the<span style=\"color: rgba(255,0,0,0.9957589507102966)\">'</span>saw the do"
      ],
      "text/plain": [
       "<IPython.core.display.HTML object>"
      ]
     },
     "metadata": {},
     "output_type": "display_data"
    },
    {
     "data": {
      "text/html": [
       "quiver with fear, <span style=\"color: rgba(0,0,255,1)\">rage</span>. He lit his pipe. He looked directly at the three jeweled cat-faces in front of it. It stared back at what he found. Two of them were unusual, from Mimi's shave.'All creatures do,'' he explained. Then he drew closer, <span style=\"color: rgba(0,0,255,1)\">slowly</span>, first conspicuously, to make out <span style=\"color: rgba(0,0,255,1)\">a</span> numbers beyond those which he had loved in childhood. A picture of odd <span style=\"color: rgba(0,0,255,1)\">things</span> appeared, <span style=\"color: rgba(0,0,255,1)\">both</span> of woman and man. In <span style=\"color: rgba(0,0,255,1)\">dem</span>ent <span style=\"color: rgba(0,0,255,1)\">or</span> <span style=\"color: rgba(0,0,255,1)\">girl</span>ative, as it were often indeed, the trans <span style=\"color: rgba(0,0,255,1)\">diverse</span> relationship of man and women was, for <span style=\"color: rgba(0,0,255,1)\">instance</span>, to learn, though it was word, as, and,<span style=\"color: rgba(0,0,255,1)\">,</span> <span style=\"color: rgba(0,0,255,1)\">long</span> of the <span style=\"color: rgba(0,0,255,1)\">examination</span>have the others Dry The <span style=\"color: rgba(0,0,255,1)\">Those</span>"
      ],
      "text/plain": [
       "<IPython.core.display.HTML object>"
      ]
     },
     "metadata": {},
     "output_type": "display_data"
    },
    {
     "data": {
      "text/html": [
       "quiver with fear, <span style=\"color: rgba(255,0,0,0.541289210319519)\">too</span>. He lit his pipe. He looked directly at the three jeweled cat-faces in front of it. It stared back at what he found. Two of them were unusual, from Mimi's shave.'All creatures do,'' he explained. Then he drew closer, <span style=\"color: rgba(255,0,0,0.7738522291183472)\">trying</span>, first conspicuously, to make out <span style=\"color: rgba(255,0,0,0.6811450123786926)\">the</span> numbers beyond those which he had loved in childhood. A picture of odd <span style=\"color: rgba(255,0,0,0.6493145227432251)\">figures</span> appeared, <span style=\"color: rgba(255,0,0,0.5744688510894775)\">picture</span> of woman and man. In <span style=\"color: rgba(255,0,0,0.5573766827583313)\">that</span>ent <span style=\"color: rgba(255,0,0,0.6044709086418152)\">and</span><span style=\"color: rgba(255,0,0,0.537227213382721)\">ton</span>ative, as it were often indeed, the trans<span style=\"color: rgba(255,0,0,0.7165552377700806)\">ient</span> relationship of man and women was, for <span style=\"color: rgba(255,0,0,0.5934134721755981)\">instance</span>, to learn, though it was word, as, and,<span style=\"color: rgba(255,0,0,0.6392004489898682)\">position</span><span style=\"color: rgba(255,0,0,0.6564037203788757)\">position</span> of the <span style=\"color: rgba(255,0,0,0.5189511775970459)\">slight</span>have the others Dry The <span style=\"color: rgba(255,0,0,0.5439620614051819)\">perhaps</span>,"
      ],
      "text/plain": [
       "<IPython.core.display.HTML object>"
      ]
     },
     "metadata": {},
     "output_type": "display_data"
    },
    {
     "data": {
      "text/html": [
       "<span style=\"color: rgba(0,0,255,1)\">q</span>uivering with fear of triumph. He lit his pipe. He looked directly at the three jeweled cat-faces in front of it. It stared back at what he found. <span style=\"color: rgba(0,0,255,1)\">Two</span> of them were asleep, from Mimi'<span style=\"color: rgba(0,0,255,1)\">s</span> slumber.'All I do,'' he said. Then he looked closer, trying, and vainly, to make out the numbers of men whom he had loved in childhood. A number of <span style=\"color: rgba(0,0,255,1)\">flashing</span> colors appeared, all of man and man. And imp<span style=\"color: rgba(0,0,255,1)\">ent</span> and argument<span style=\"color: rgba(0,0,255,1)\">able</span>, as it were often said, the transposition of of man. It <span style=\"color: rgba(0,0,255,1)\">was</span>, at least, to learn, <span style=\"color: rgba(0,0,255,1)\">though</span> it was said, finger <span style=\"color: rgba(0,0,255,1)\">the</span> and a processlumberlumber <span style=\"color: rgba(0,0,255,1)\">woman</span> <span style=\"color: rgba(0,0,255,1)\">above</span> andlumber'<span style=\"color: rgba(0,0,255,1)\">'</span> we do"
      ],
      "text/plain": [
       "<IPython.core.display.HTML object>"
      ]
     },
     "metadata": {},
     "output_type": "display_data"
    },
    {
     "data": {
      "text/html": [
       "<span style=\"color: rgba(255,0,0,0.9649364948272705)\">q</span>uivering with fear of triumph. He lit his pipe. He looked directly at the three jeweled cat-faces in front of it. It stared back at what he found. <span style=\"color: rgba(255,0,0,0.6095473170280457)\">Two</span> of them were asleep, from Mimi'<span style=\"color: rgba(255,0,0,0.9992595314979553)\">s</span> slumber.'All I do,'' he said. Then he looked closer, trying, and vainly, to make out the numbers of men whom he had loved in childhood. A number of <span style=\"color: rgba(255,0,0,0.5674803256988525)\">different</span> colors appeared, all of man and man. And imp<span style=\"color: rgba(255,0,0,0.690198540687561)\">erative</span> and argument <span style=\"color: rgba(255,0,0,0.8228393793106079)\">was</span>, as it were often said, the transposition of of man. It <span style=\"color: rgba(255,0,0,0.6978088021278381)\">wanted</span>, at least, to learn, <span style=\"color: rgba(255,0,0,0.9789236187934875)\">as</span> it was said, finger <span style=\"color: rgba(255,0,0,0.9273852109909058)\">the</span> and a processlumberlumber <span style=\"color: rgba(255,0,0,0.9996949434280396)\">s</span><span style=\"color: rgba(255,0,0,0.9919741153717041)\">'</span>andlumber'<span style=\"color: rgba(255,0,0,0.5786731243133545)\">Two</span> we do <span style=\"color: rgba(255,0,0,0.6735386848449707)\">All</span>"
      ],
      "text/plain": [
       "<IPython.core.display.HTML object>"
      ]
     },
     "metadata": {},
     "output_type": "display_data"
    },
    {
     "data": {
      "text/html": [
       "quivering with years of triumph. He lit his pipe. He looked directly at the two jeweled cat-faces in front of it. It stared back at what he found. Several of them were asleep, from Mimi's slumber.'All I do,'' he sighed. But he looked only, trying, and vainly, to make out the numbers of men that he had loved in childhood. A <span style=\"color: rgba(0,0,255,1)\">number</span> of <span style=\"color: rgba(0,0,255,1)\">other</span> <span style=\"color: rgba(0,0,255,1)\">ways</span> appeared, <span style=\"color: rgba(0,0,255,1)\">and</span> of man to <span style=\"color: rgba(0,0,255,1)\">man</span>. And <span style=\"color: rgba(0,0,255,1)\">to</span> explanation and <span style=\"color: rgba(0,0,255,1)\">f</span><span style=\"color: rgba(0,0,255,1)\">maker</span>, as it were, said, the transposition cycle of man. It was, at least, to say<span style=\"color: rgba(0,0,255,1)\">,</span> as it was expected, explained <span style=\"color: rgba(0,0,255,1)\">the</span> and and s fromlumber s; andlumber'explained'<span style=\"color: rgba(0,0,255,1)\">do</span>"
      ],
      "text/plain": [
       "<IPython.core.display.HTML object>"
      ]
     },
     "metadata": {},
     "output_type": "display_data"
    },
    {
     "data": {
      "text/html": [
       "quivering with years of triumph. He lit his pipe. He looked directly at the two jeweled cat-faces in front of it. It stared back at what he found. Several of them were asleep, from Mimi's slumber.'All I do,'' he sighed. But he looked only, trying, and vainly, to make out the numbers of men that he had loved in childhood. A <span style=\"color: rgba(255,0,0,0.6450476050376892)\">number</span> of <span style=\"color: rgba(255,0,0,0.5472005009651184)\">the</span> <span style=\"color: rgba(255,0,0,0.5423283576965332)\">figures</span> appeared, <span style=\"color: rgba(255,0,0,0.6264963746070862)\">out</span> of man to <span style=\"color: rgba(255,0,0,0.9093014001846313)\">man</span>. And <span style=\"color: rgba(255,0,0,0.7985026836395264)\">the</span> explanation and <span style=\"color: rgba(255,0,0,0.5773164629936218)\">the</span> <span style=\"color: rgba(255,0,0,0.654198169708252)\">was</span>, as it were, said, the transposition cycle of man. It was, at least, to say<span style=\"color: rgba(255,0,0,0.9695752859115601)\">,</span> as it was expected, explained <span style=\"color: rgba(255,0,0,0.7213195562362671)\">from</span> and and s fromlumber s; andlumber'explained'<span style=\"color: rgba(255,0,0,0.5254620909690857)\">explanation</span> You"
      ],
      "text/plain": [
       "<IPython.core.display.HTML object>"
      ]
     },
     "metadata": {},
     "output_type": "display_data"
    },
    {
     "data": {
      "text/html": [
       "quivering with years of triumph. He lit his pipe. He looked directly at the two pseudo-human-faces in front of it. It stared back <span style=\"color: rgba(0,0,255,1)\">at</span> what he found. Most of them were men, from Mimi's s<span style=\"color: rgba(0,0,255,1)\">lut</span>.'Some I do<span style=\"color: rgba(0,0,255,1)\">,</span>'' he said. But <span style=\"color: rgba(0,0,255,1)\">he</span> tried again, trying, <span style=\"color: rgba(0,0,255,1)\">and</span> vainly, to make out the numbers of men that he had loved in childhood. A set of <span style=\"color: rgba(0,0,255,1)\">its</span> <span style=\"color: rgba(0,0,255,1)\">forms</span> appeared, that of men to man. And the <span style=\"color: rgba(0,0,255,1)\">head</span> <span style=\"color: rgba(0,0,255,1)\">of</span> the figures, <span style=\"color: rgba(0,0,255,1)\">whatever</span> it were, said, the transpositions of men<span style=\"color: rgba(0,0,255,1)\">.</span> It said, at least, to say, as it was called, explained the and and <span style=\"color: rgba(0,0,255,1)\">s</span> fromwat him'and<span style=\"color: rgba(0,0,255,1)\">ham</span> <span style=\"color: rgba(0,0,255,1)\">stunning</span> so'do"
      ],
      "text/plain": [
       "<IPython.core.display.HTML object>"
      ]
     },
     "metadata": {},
     "output_type": "display_data"
    },
    {
     "data": {
      "text/html": [
       "quivering with years of triumph. He lit his pipe. He looked directly at the two pseudo-human-faces in front of it. It stared back <span style=\"color: rgba(255,0,0,0.8101037740707397)\">at</span> what he found. Most of them were men, from Mimi's s<span style=\"color: rgba(255,0,0,0.5408743023872375)\">hack</span>.'Some I do<span style=\"color: rgba(255,0,0,0.9904839396476746)\">,</span>'' he said. But <span style=\"color: rgba(255,0,0,0.9787404537200928)\">he</span> tried again, trying, <span style=\"color: rgba(255,0,0,0.6054792404174805)\">and</span> vainly, to make out the numbers of men that he had loved in childhood. A set of <span style=\"color: rgba(255,0,0,0.7399488091468811)\">figures</span> <span style=\"color: rgba(255,0,0,0.9023095369338989)\">figures</span> appeared, that of men to man. And the <span style=\"color: rgba(255,0,0,0.5829085111618042)\">figures</span> <span style=\"color: rgba(255,0,0,0.9287564754486084)\">of</span> the figures, <span style=\"color: rgba(255,0,0,0.9629115462303162)\">as</span> it were, said, the transpositions of men<span style=\"color: rgba(255,0,0,0.9985829591751099)\">.</span> It said, at least, to say, as it was called, explained the and and<span style=\"color: rgba(255,0,0,0.8061336278915405)\">'</span>fromwat him'and <span style=\"color: rgba(255,0,0,0.6205217242240906)\">of</span> <span style=\"color: rgba(255,0,0,0.522310197353363)\">end</span> so'do Some"
      ],
      "text/plain": [
       "<IPython.core.display.HTML object>"
      ]
     },
     "metadata": {},
     "output_type": "display_data"
    },
    {
     "data": {
      "text/html": [
       "quivering with years of triumph. He lit his pipe<span style=\"color: rgba(0,0,255,1)\">.</span> He looked directly at the two pseudo-human-faces in front of it. It stared back at what he found. Most of them were men, from Mimi's shave.<span style=\"color: rgba(0,0,255,1)\">'</span>So I do,,'he said. But he tried <span style=\"color: rgba(0,0,255,1)\">finally</span>, trying, not stupidly, to make up the numbers of men that he had seen in childhood. A set of little figures appeared, that of men to man. And the machinery of the Commonwealth <span style=\"color: rgba(0,0,255,1)\">abandoned</span> as it were, said, the transples of men. It <span style=\"color: rgba(0,0,255,1)\">was</span>, at least, to say, as it was <span style=\"color: rgba(0,0,255,1)\">called</span>, was <span style=\"color: rgba(0,0,255,1)\">of</span> and were'<span style=\"color: rgba(0,0,255,1)\">tations</span><span style=\"color: rgba(0,0,255,1)\">ling</span>,'<span style=\"color: rgba(0,0,255,1)\">and</span>have <span style=\"color: rgba(0,0,255,1)\">old</span> <span style=\"color: rgba(0,0,255,1)\">deck</span> <span style=\"color: rgba(0,0,255,1)\">But</span> do"
      ],
      "text/plain": [
       "<IPython.core.display.HTML object>"
      ]
     },
     "metadata": {},
     "output_type": "display_data"
    },
    {
     "data": {
      "text/html": [
       "quivering with years of triumph. He lit his pipe<span style=\"color: rgba(255,0,0,0.9972471594810486)\">.</span> He looked directly at the two pseudo-human-faces in front of it. It stared back at what he found. Most of them were men, from Mimi's shave. <span style=\"color: rgba(255,0,0,0.9172224998474121)\">“</span>So I do,,'he said. But he tried <span style=\"color: rgba(255,0,0,0.6513631343841553)\">desperately</span>, trying, not stupidly, to make up the numbers of men that he had seen in childhood. A set of little figures appeared, that of men to man. And the machinery of the Commonwealth<span style=\"color: rgba(255,0,0,0.9922604560852051)\">,</span> as it were, said, the transples of men. It <span style=\"color: rgba(255,0,0,0.7390594482421875)\">had</span>, at least, to say, as it was <span style=\"color: rgba(255,0,0,0.6172614693641663)\">saying</span>, was <span style=\"color: rgba(255,0,0,0.6414092779159546)\">the</span> and were'<span style=\"color: rgba(255,0,0,0.5244624614715576)\">ion</span><span style=\"color: rgba(255,0,0,0.5249239206314087)\">print</span>,'<span style=\"color: rgba(255,0,0,0.5422583818435669)\">to</span>have <span style=\"color: rgba(255,0,0,0.6358324289321899)\">others</span> <span style=\"color: rgba(255,0,0,0.5376708507537842)\">fact</span><span style=\"color: rgba(255,0,0,0.6456129550933838)\">,</span> do All"
      ],
      "text/plain": [
       "<IPython.core.display.HTML object>"
      ]
     },
     "metadata": {},
     "output_type": "display_data"
    },
    {
     "data": {
      "text/html": [
       "<span style=\"color: rgba(0,0,255,1)\">q</span>uivering with years of triumph. He lit his pipe. He looked directly at the two pseudo-human huddled <span style=\"color: rgba(0,0,255,1)\">faces</span> in front of it. It looked back at what he found. All of them were men, from <span style=\"color: rgba(0,0,255,1)\">Mimi</span>'s shave.'So I do,,'he said. But he tried hard, trying, not stupidly, to make up <span style=\"color: rgba(0,0,255,1)\">the</span> journey of men <span style=\"color: rgba(0,0,255,1)\">that</span> he <span style=\"color: rgba(0,0,255,1)\">had</span> seen in childhood. A set of little figures appeared, <span style=\"color: rgba(0,0,255,1)\">figures</span> of <span style=\"color: rgba(0,0,255,1)\">part</span> of man. They were <span style=\"color: rgba(0,0,255,1)\">representatives</span> of the <span style=\"color: rgba(0,0,255,1)\">actual</span>, as it were, said, the envisions of men<span style=\"color: rgba(0,0,255,1)\">.</span> It <span style=\"color: rgba(0,0,255,1)\">were</span>, at least hard to say, as it was ordered, was <span style=\"color: rgba(0,0,255,1)\">his</span> and the disaster and at description., of. <span style=\"color: rgba(0,0,255,1)\">wants</span> why do"
      ],
      "text/plain": [
       "<IPython.core.display.HTML object>"
      ]
     },
     "metadata": {},
     "output_type": "display_data"
    },
    {
     "data": {
      "text/html": [
       "<span style=\"color: rgba(255,0,0,0.9886560440063477)\">q</span>uivering with years of triumph. He lit his pipe. He looked directly at the two pseudo-human huddled <span style=\"color: rgba(255,0,0,0.7558362483978271)\">figures</span> in front of it. It looked back at what he found. All of them were men, from <span style=\"color: rgba(255,0,0,0.5362147688865662)\">Paul</span>'s shave.'So I do,,'he said. But he tried hard, trying, not stupidly, to make up <span style=\"color: rgba(255,0,0,0.8207314014434814)\">the</span> journey of men <span style=\"color: rgba(255,0,0,0.7870683670043945)\">that</span> he <span style=\"color: rgba(255,0,0,0.9991376399993896)\">had</span> seen in childhood. A set of little figures appeared, <span style=\"color: rgba(255,0,0,0.6907220482826233)\">out</span> of <span style=\"color: rgba(255,0,0,0.5436352491378784)\">that</span> of man. They were <span style=\"color: rgba(255,0,0,0.6369677186012268)\">out</span> of the <span style=\"color: rgba(255,0,0,0.5115232467651367)\">sciences</span>, as it were, said, the envisions of men<span style=\"color: rgba(255,0,0,0.9993062019348145)\">.</span> It <span style=\"color: rgba(255,0,0,0.9236037731170654)\">was</span>, at least hard to say, as it was ordered, was <span style=\"color: rgba(255,0,0,0.6336188912391663)\">from</span> and the disaster and at description., of. <span style=\"color: rgba(255,0,0,0.6550065279006958)\">others</span> why do men"
      ],
      "text/plain": [
       "<IPython.core.display.HTML object>"
      ]
     },
     "metadata": {},
     "output_type": "display_data"
    },
    {
     "data": {
      "text/html": [
       "quivering with years of triumph. He lit his pipe. He looked directly at the two pseudo-humanoid figures in front of it. It looked back at what he found. All of them were in, if that's the question.'Thought I do,,'he said. But he tried again, <span style=\"color: rgba(0,0,255,1)\">trying</span>, not even <span style=\"color: rgba(0,0,255,1)\">again</span>, to make up that <span style=\"color: rgba(0,0,255,1)\">journey</span> of men like he had seen in childhood. A set of little men appeared, out of the dark shadows. They <span style=\"color: rgba(0,0,255,1)\">were</span> aware <span style=\"color: rgba(0,0,255,1)\">of</span> the pattern, or it were, said, the <span style=\"color: rgba(0,0,255,1)\">en</span>riads of men. It was, at least hard to <span style=\"color: rgba(0,0,255,1)\">say</span>, as it was <span style=\"color: rgba(0,0,255,1)\">election</span>, was<span style=\"color: rgba(0,0,255,1)\">,</span> and, <span style=\"color: rgba(0,0,255,1)\">figures</span> and back the., of. <span style=\"color: rgba(0,0,255,1)\">nightmare</span> <span style=\"color: rgba(0,0,255,1)\">maybe</span> do"
      ],
      "text/plain": [
       "<IPython.core.display.HTML object>"
      ]
     },
     "metadata": {},
     "output_type": "display_data"
    },
    {
     "data": {
      "text/html": [
       "quivering with years of triumph. He lit his pipe. He looked directly at the two pseudo-humanoid figures in front of it. It looked back at what he found. All of them were in, if that's the question.'Thought I do,,'he said. But he tried again, <span style=\"color: rgba(255,0,0,0.6068665981292725)\">trying</span>, not even <span style=\"color: rgba(255,0,0,0.668181836605072)\">trying</span>, to make up that <span style=\"color: rgba(255,0,0,0.5406878590583801)\">memory</span> of men like he had seen in childhood. A set of little men appeared, out of the dark shadows. They <span style=\"color: rgba(255,0,0,0.9485810995101929)\">were</span> aware <span style=\"color: rgba(255,0,0,0.9702869653701782)\">of</span> the pattern, or it were, said, the <span style=\"color: rgba(255,0,0,0.9309738874435425)\">my</span>riads of men. It was, at least hard to <span style=\"color: rgba(255,0,0,0.6169049143791199)\">say</span>, as it was <span style=\"color: rgba(255,0,0,0.5308865308761597)\">called</span>, was<span style=\"color: rgba(255,0,0,0.8609541654586792)\">,</span> and, <span style=\"color: rgba(255,0,0,0.8187174797058105)\">s</span> and back the., of. <span style=\"color: rgba(255,0,0,0.5425410866737366)\">Yes</span> <span style=\"color: rgba(255,0,0,0.5744949579238892)\">Maybe</span> do things"
      ],
      "text/plain": [
       "<IPython.core.display.HTML object>"
      ]
     },
     "metadata": {},
     "output_type": "display_data"
    },
    {
     "data": {
      "text/html": [
       "<span style=\"color: rgba(0,0,255,1)\">q</span>uivering with years of triumph. He lit his pipe. He looked directly at the two pseudo-<span style=\"color: rgba(0,0,255,1)\">human</span>oid figures in front of it. It looked back at what he saw. All of them human <span style=\"color: rgba(0,0,255,1)\">men</span>, if that's the question.'But I do,,'he said. But he tried again, hard, not so hard, to make up that picture of men whom <span style=\"color: rgba(0,0,255,1)\">he</span> had seen in days. <span style=\"color: rgba(0,0,255,1)\">A</span> set <span style=\"color: rgba(0,0,255,1)\">of</span> figures <span style=\"color: rgba(0,0,255,1)\">showed</span> strength and <span style=\"color: rgba(0,0,255,1)\">gesture</span> of the dark details. They were aware of the movement, or <span style=\"color: rgba(0,0,255,1)\">it</span> were, said, the myriads of events. He was, <span style=\"color: rgba(0,0,255,1)\">at</span> last, to say, as it was merely, was of of, <span style=\"color: rgba(0,0,255,1)\">s</span> <span style=\"color: rgba(0,0,255,1)\">real</span> the <span style=\"color: rgba(0,0,255,1)\">events</span> back And of others Odd But hard"
      ],
      "text/plain": [
       "<IPython.core.display.HTML object>"
      ]
     },
     "metadata": {},
     "output_type": "display_data"
    },
    {
     "data": {
      "text/html": [
       "<span style=\"color: rgba(255,0,0,0.9877360463142395)\">q</span>uivering with years of triumph. He lit his pipe. He looked directly at the two pseudo-<span style=\"color: rgba(255,0,0,0.7868770360946655)\">human</span>oid figures in front of it. It looked back at what he saw. All of them human <span style=\"color: rgba(255,0,0,0.7214523553848267)\">beings</span>, if that's the question.'But I do,,'he said. But he tried again, hard, not so hard, to make up that picture of men whom <span style=\"color: rgba(255,0,0,0.9629530310630798)\">he</span> had seen in days. <span style=\"color: rgba(255,0,0,0.6973637342453003)\">He</span> set <span style=\"color: rgba(255,0,0,0.7451211810112)\">the</span> figures <span style=\"color: rgba(255,0,0,0.6865667700767517)\">the</span> strength and <span style=\"color: rgba(255,0,0,0.535067617893219)\">perception</span> of the dark details. They were aware of the movement, or <span style=\"color: rgba(255,0,0,0.8658367395401001)\">they</span> were, said, the myriads of events. He was, <span style=\"color: rgba(255,0,0,0.9975711703300476)\">at</span> last, to say, as it was merely, was of of, <span style=\"color: rgba(255,0,0,0.5100412964820862)\">figures</span> <span style=\"color: rgba(255,0,0,0.5848132371902466)\">not</span> the <span style=\"color: rgba(255,0,0,0.6092675924301147)\">fact</span> back And of others Odd But hard <span style=\"color: rgba(255,0,0,0.753563642501831)\">the</span>"
      ],
      "text/plain": [
       "<IPython.core.display.HTML object>"
      ]
     },
     "metadata": {},
     "output_type": "display_data"
    },
    {
     "data": {
      "text/html": [
       "<span style=\"color: rgba(0,0,255,1)\">q</span>uivering with years of triumph. He lit his pipe. He looked directly at the two pseudo-humanoid figures in front of it. It <span style=\"color: rgba(0,0,255,1)\">came</span> back at what he saw. All of them humanoid, if that's the question.'Maybe I do <span style=\"color: rgba(0,0,255,1)\">understand</span>,'he said. But he tried hard, <span style=\"color: rgba(0,0,255,1)\">somehow</span>, not <span style=\"color: rgba(0,0,255,1)\">so</span> hard, to make up that picture of the people he had seen these days<span style=\"color: rgba(0,0,255,1)\">.</span> He saw these figures by way and way <span style=\"color: rgba(0,0,255,1)\">of</span> the <span style=\"color: rgba(0,0,255,1)\">isolated</span> <span style=\"color: rgba(0,0,255,1)\">exhibit</span>. They seemed aware of the <span style=\"color: rgba(0,0,255,1)\">world</span>, or rather were, <span style=\"color: rgba(0,0,255,1)\">and</span> in the myriads of events<span style=\"color: rgba(0,0,255,1)\">.</span> He tried, at <span style=\"color: rgba(0,0,255,1)\">all</span>, to say, as it seemed as, somehow of by <span style=\"color: rgba(0,0,255,1)\">own</span>riads of architectural back And of others they was not"
      ],
      "text/plain": [
       "<IPython.core.display.HTML object>"
      ]
     },
     "metadata": {},
     "output_type": "display_data"
    },
    {
     "data": {
      "text/html": [
       "<span style=\"color: rgba(255,0,0,0.9907754063606262)\">q</span>uivering with years of triumph. He lit his pipe. He looked directly at the two pseudo-humanoid figures in front of it. It <span style=\"color: rgba(255,0,0,0.6502149105072021)\">was</span> back at what he saw. All of them humanoid, if that's the question.'Maybe I do <span style=\"color: rgba(255,0,0,0.6165290474891663)\">know</span>,'he said. But he tried hard, <span style=\"color: rgba(255,0,0,0.6074102520942688)\">hard</span>, not <span style=\"color: rgba(255,0,0,0.6034444570541382)\">quite</span> hard, to make up that picture of the people he had seen these days<span style=\"color: rgba(255,0,0,0.9987493753433228)\">.</span> He saw these figures by way and way <span style=\"color: rgba(255,0,0,0.6088714003562927)\">in</span> the <span style=\"color: rgba(255,0,0,0.5385316610336304)\">other</span> <span style=\"color: rgba(255,0,0,0.5102820992469788)\">time</span>. They seemed aware of the <span style=\"color: rgba(255,0,0,0.6877057552337646)\">events</span>, or rather were, <span style=\"color: rgba(255,0,0,0.5313231945037842)\">as</span> in the myriads of events<span style=\"color: rgba(255,0,0,0.9988540410995483)\">.</span> He tried, at <span style=\"color: rgba(255,0,0,0.7703942060470581)\">least</span>, to say, as it seemed as, somehow of by <span style=\"color: rgba(255,0,0,0.5386069416999817)\">whole</span>riads of architectural back And of others they was not all"
      ],
      "text/plain": [
       "<IPython.core.display.HTML object>"
      ]
     },
     "metadata": {},
     "output_type": "display_data"
    },
    {
     "data": {
      "text/html": [
       "<span style=\"color: rgba(0,0,255,1)\">q</span>uivering with years of triumph<span style=\"color: rgba(0,0,255,1)\">.</span> He lit his pipe. He looked directly at the two pseudo-humanoid figures in front of it. It seemed not at what he saw. All of them were dead, and that's the difference.'' I could see,'he said. But he tried hard, hard, not very hard<span style=\"color: rgba(0,0,255,1)\">,</span> to make up that history of the people he had seen these days. He saw these figures going way and way and fight each <span style=\"color: rgba(0,0,255,1)\">other</span>. They were aware of <span style=\"color: rgba(0,0,255,1)\">the</span> existence, or rather were, perhaps of the myriads of <span style=\"color: rgba(0,0,255,1)\">humans</span>. He <span style=\"color: rgba(0,0,255,1)\">tried</span>, at last, to <span style=\"color: rgba(0,0,255,1)\">regain</span>, as it did not, <span style=\"color: rgba(0,0,255,1)\">of</span> of that my <span style=\"color: rgba(0,0,255,1)\">rest</span> rest of <span style=\"color: rgba(0,0,255,1)\">they</span> he And he <span style=\"color: rgba(0,0,255,1)\">matter</span> But <span style=\"color: rgba(0,0,255,1)\">of</span> <span style=\"color: rgba(0,0,255,1)\">not</span>"
      ],
      "text/plain": [
       "<IPython.core.display.HTML object>"
      ]
     },
     "metadata": {},
     "output_type": "display_data"
    },
    {
     "data": {
      "text/html": [
       "<span style=\"color: rgba(255,0,0,0.9856233596801758)\">q</span>uivering with years of triumph<span style=\"color: rgba(255,0,0,0.998176097869873)\">.</span> He lit his pipe. He looked directly at the two pseudo-humanoid figures in front of it. It seemed not at what he saw. All of them were dead, and that's the difference.'' I could see,'he said. But he tried hard, hard, not very hard<span style=\"color: rgba(255,0,0,0.9876128435134888)\">,</span> to make up that history of the people he had seen these days. He saw these figures going way and way and fight each <span style=\"color: rgba(255,0,0,0.9802541136741638)\">other</span>. They were aware of <span style=\"color: rgba(255,0,0,0.6537785530090332)\">their</span> existence, or rather were, perhaps of the myriads of <span style=\"color: rgba(255,0,0,0.8168995380401611)\">things</span>. He <span style=\"color: rgba(255,0,0,0.7335033416748047)\">tried</span>, at last, to <span style=\"color: rgba(255,0,0,0.577960193157196)\">him</span>, as it did not, <span style=\"color: rgba(255,0,0,0.5575326085090637)\">perhaps</span> of that my <span style=\"color: rgba(255,0,0,0.5990273356437683)\">things</span> rest of <span style=\"color: rgba(255,0,0,0.8613874912261963)\">things</span> he And he <span style=\"color: rgba(255,0,0,0.5794111490249634)\">that</span> But <span style=\"color: rgba(255,0,0,0.6513088941574097)\">I</span> <span style=\"color: rgba(255,0,0,0.571954607963562)\">them</span> all"
      ],
      "text/plain": [
       "<IPython.core.display.HTML object>"
      ]
     },
     "metadata": {},
     "output_type": "display_data"
    },
    {
     "data": {
      "text/html": [
       "quivering with years of triumph. He lit his torch. He looked directly at the two non-humanoid figures in front of it. It seemed impossible at all he saw. All of them <span style=\"color: rgba(0,0,255,1)\">were</span> dead, but that's the difference.'But I could see,'<span style=\"color: rgba(0,0,255,1)\">he</span> said. But he tried hard, hard, not very hard, to make up that way with the people he had seen these days. He saw these people going over and around, getting <span style=\"color: rgba(0,0,255,1)\">good</span> <span style=\"color: rgba(0,0,255,1)\">moving</span>. They <span style=\"color: rgba(0,0,255,1)\">were</span> aware of <span style=\"color: rgba(0,0,255,1)\">their</span> <span style=\"color: rgba(0,0,255,1)\">destiny</span>, or they were, perhaps of the myriads of <span style=\"color: rgba(0,0,255,1)\">things</span>. He <span style=\"color: rgba(0,0,255,1)\">wanted</span>, at last, to admit, as they were not, perhaps <span style=\"color: rgba(0,0,255,1)\">know</span> that'<span style=\"color: rgba(0,0,255,1)\">not</span> <span style=\"color: rgba(0,0,255,1)\">same</span> of <span style=\"color: rgba(0,0,255,1)\">things</span>. And he all But they I"
      ],
      "text/plain": [
       "<IPython.core.display.HTML object>"
      ]
     },
     "metadata": {},
     "output_type": "display_data"
    },
    {
     "data": {
      "text/html": [
       "quivering with years of triumph. He lit his torch. He looked directly at the two non-humanoid figures in front of it. It seemed impossible at all he saw. All of them <span style=\"color: rgba(255,0,0,0.7586756944656372)\">were</span> dead, but that's the difference.'But I could see,'<span style=\"color: rgba(255,0,0,0.9894437789916992)\">he</span> said. But he tried hard, hard, not very hard, to make up that way with the people he had seen these days. He saw these people going over and around, getting <span style=\"color: rgba(255,0,0,0.536615788936615)\">the</span> <span style=\"color: rgba(255,0,0,0.5244016051292419)\">up</span>. They <span style=\"color: rgba(255,0,0,0.9197592735290527)\">were</span> aware of <span style=\"color: rgba(255,0,0,0.6715344190597534)\">the</span> <span style=\"color: rgba(255,0,0,0.5749663710594177)\">being</span>, or they were, perhaps of the myriads of <span style=\"color: rgba(255,0,0,0.8136278390884399)\">things</span>. He <span style=\"color: rgba(255,0,0,0.775052547454834)\">tried</span>, at last, to admit, as they were not, perhaps<span style=\"color: rgba(255,0,0,0.8200719952583313)\">,</span> that'<span style=\"color: rgba(255,0,0,0.5567527413368225)\">dead</span><span style=\"color: rgba(255,0,0,0.6201613545417786)\">,</span> of <span style=\"color: rgba(255,0,0,0.5911985039710999)\">them</span>. And he all But they I <span style=\"color: rgba(255,0,0,0.576215922832489)\">was</span>"
      ],
      "text/plain": [
       "<IPython.core.display.HTML object>"
      ]
     },
     "metadata": {},
     "output_type": "display_data"
    },
    {
     "data": {
      "text/html": [
       "<span style=\"color: rgba(0,0,255,1)\">q</span>uivering with years of <span style=\"color: rgba(0,0,255,1)\">triumph</span>. He lit his torch. He <span style=\"color: rgba(0,0,255,1)\">looked</span> directly at the two half-<span style=\"color: rgba(0,0,255,1)\">human</span>oid figures in front of it. It seemed impossible at all he saw. None of them <span style=\"color: rgba(0,0,255,1)\">was</span> human, but that's the difference.'' I could see,'he said. But he tried hard, hard, very very hard, to make up his way to the people he had seen these days. He saw these people going over and around, getting anything else. They became aware of the incredible. But they were, out of the myriads of worlds that they <span style=\"color: rgba(0,0,255,1)\">had</span>, at least, to admit, as they were <span style=\"color: rgba(0,0,255,1)\">foreign</span>. And In that <span style=\"color: rgba(0,0,255,1)\">i</span> that of <span style=\"color: rgba(0,0,255,1)\">of</span> things, And he all But had I"
      ],
      "text/plain": [
       "<IPython.core.display.HTML object>"
      ]
     },
     "metadata": {},
     "output_type": "display_data"
    },
    {
     "data": {
      "text/html": [
       "<span style=\"color: rgba(255,0,0,0.9965510368347168)\">q</span>uivering with years of <span style=\"color: rgba(255,0,0,0.6220257878303528)\">labor</span>. He lit his torch. He <span style=\"color: rgba(255,0,0,0.914009690284729)\">looked</span> directly at the two half-<span style=\"color: rgba(255,0,0,0.877082347869873)\">human</span>oid figures in front of it. It seemed impossible at all he saw. None of them <span style=\"color: rgba(255,0,0,0.638820469379425)\">are</span> human, but that's the difference.'' I could see,'he said. But he tried hard, hard, very very hard, to make up his way to the people he had seen these days. He saw these people going over and around, getting anything else. They became aware of the incredible. But they were, out of the myriads of worlds that they <span style=\"color: rgba(255,0,0,0.707127571105957)\">had</span>, at least, to admit, as they were<span style=\"color: rgba(255,0,0,0.9839270710945129)\">.</span>. And In that<span style=\"color: rgba(255,0,0,0.8261552453041077)\">.</span> that of <span style=\"color: rgba(255,0,0,0.9052990674972534)\">of</span> things, And he all But had I All"
      ],
      "text/plain": [
       "<IPython.core.display.HTML object>"
      ]
     },
     "metadata": {},
     "output_type": "display_data"
    },
    {
     "data": {
      "text/html": [
       "quivering with years of experience. He lit his torch. He looked directly at the two half-human creatures standing in front of it<span style=\"color: rgba(0,0,255,1)\">.</span> It seemed impossible at all they saw. One of them <span style=\"color: rgba(0,0,255,1)\">was</span> human, but that's the difference.'' I could see,'<span style=\"color: rgba(0,0,255,1)\">he</span> said. But he tried desperately, hard, very very hard, to make up a mind <span style=\"color: rgba(0,0,255,1)\">to</span> the people <span style=\"color: rgba(0,0,255,1)\">he</span> had seen these days. He saw these people going around and about, getting something else. He became aware of the incredible. But they were, out of the myriads of worlds that they were, at least, to admit, <span style=\"color: rgba(0,0,255,1)\">but</span> they were <span style=\"color: rgba(0,0,255,1)\">but</span>. And of that. that of <span style=\"color: rgba(0,0,255,1)\">truth</span> sure, they. he <span style=\"color: rgba(0,0,255,1)\">“</span>They I"
      ],
      "text/plain": [
       "<IPython.core.display.HTML object>"
      ]
     },
     "metadata": {},
     "output_type": "display_data"
    },
    {
     "data": {
      "text/html": [
       "quivering with years of experience. He lit his torch. He looked directly at the two half-human creatures standing in front of it<span style=\"color: rgba(255,0,0,0.9996844530105591)\">.</span> It seemed impossible at all they saw. One of them <span style=\"color: rgba(255,0,0,0.8385205268859863)\">was</span> human, but that's the difference.'' I could see,'<span style=\"color: rgba(255,0,0,0.7854184508323669)\">he</span> said. But he tried desperately, hard, very very hard, to make up a mind <span style=\"color: rgba(255,0,0,0.7168124914169312)\">of</span> the people <span style=\"color: rgba(255,0,0,0.9567023515701294)\">he</span> had seen these days. He saw these people going around and about, getting something else. He became aware of the incredible. But they were, out of the myriads of worlds that they were, at least, to admit, <span style=\"color: rgba(255,0,0,0.8244504928588867)\">that</span> they were <span style=\"color: rgba(255,0,0,0.5938072204589844)\">people</span>. And of that. that of <span style=\"color: rgba(255,0,0,0.997850775718689)\">of</span> sure, they. he <span style=\"color: rgba(255,0,0,0.7837921380996704)\">I</span> They I All"
      ],
      "text/plain": [
       "<IPython.core.display.HTML object>"
      ]
     },
     "metadata": {},
     "output_type": "display_data"
    },
    {
     "data": {
      "text/html": [
       "<span style=\"color: rgba(0,0,255,1)\">q</span>uivering with years of experience. He lit his torch. He looked directly at the two half-human creatures standing <span style=\"color: rgba(0,0,255,1)\">in</span> front of it. It seemed impossible to say they saw. One of them was dead, but that's the thought. \"'I could see,'he said. <span style=\"color: rgba(0,0,255,1)\">Then</span> he <span style=\"color: rgba(0,0,255,1)\">tried</span> desperately, hard, very very desperately, to make up a form of the things he had seen these days. He saw these things going around and around, doing something, and he <span style=\"color: rgba(0,0,255,1)\">was</span> aware of the <span style=\"color: rgba(0,0,255,1)\">apparatus</span>. But they were, out of the myriads of worlds that they <span style=\"color: rgba(0,0,255,1)\">seemed</span>, at least, to know, that they were.. And <span style=\"color: rgba(0,0,255,1)\">just</span> that.. <span style=\"color: rgba(0,0,255,1)\">mi</span> <span style=\"color: rgba(0,0,255,1)\">war</span> all <span style=\"color: rgba(0,0,255,1)\">not</span> they.'<span style=\"color: rgba(0,0,255,1)\">bodies</span> I I"
      ],
      "text/plain": [
       "<IPython.core.display.HTML object>"
      ]
     },
     "metadata": {},
     "output_type": "display_data"
    },
    {
     "data": {
      "text/html": [
       "<span style=\"color: rgba(255,0,0,0.9961903095245361)\">q</span>uivering with years of experience. He lit his torch. He looked directly at the two half-human creatures standing <span style=\"color: rgba(255,0,0,0.9997063875198364)\">in</span> front of it. It seemed impossible to say they saw. One of them was dead, but that's the thought. \"'I could see,'he said. <span style=\"color: rgba(255,0,0,0.7275999188423157)\">And</span> he <span style=\"color: rgba(255,0,0,0.8399404287338257)\">tried</span> desperately, hard, very very desperately, to make up a form of the things he had seen these days. He saw these things going around and around, doing something, and he <span style=\"color: rgba(255,0,0,0.9570474624633789)\">was</span> aware of the <span style=\"color: rgba(255,0,0,0.6109409928321838)\">things</span>. But they were, out of the myriads of worlds that they <span style=\"color: rgba(255,0,0,0.6065806746482849)\">wanted</span>, at least, to know, that they were.. And <span style=\"color: rgba(255,0,0,0.613969087600708)\">of</span> that.. <span style=\"color: rgba(255,0,0,0.5215909481048584)\">thousands</span> <span style=\"color: rgba(255,0,0,0.555481493473053)\">impossible</span> all <span style=\"color: rgba(255,0,0,0.7012091875076294)\">impossible</span> they.'<span style=\"color: rgba(255,0,0,0.5522691011428833)\">were</span> I I I"
      ],
      "text/plain": [
       "<IPython.core.display.HTML object>"
      ]
     },
     "metadata": {},
     "output_type": "display_data"
    }
   ],
   "source": [
    "text=\"\"\"Quivering with fear, he trembled He lit five cigarette. He stared directly at the three fingered alient monster in front of him. It stated back at what reminded it of a naked larvel species from it's homewold. 'Lets do this'' he said. Together they headed off, man and Targid, to start a love the likes of which none had ever before imagined. The kind of love that existed between brothers or cubmates. Interspecies soult companions - this was often seen as a rotton kind of dependant relationshp that many would like to erase from the galactic dictionary.\"\"\"\n",
    "improve_words_recursive(text, processor, tokenizer, model, iterations=200, max_seq_length=150, n=10, T=1.0, device=\"cuda\", debug=10)"
   ]
  },
  {
   "cell_type": "markdown",
   "metadata": {},
   "source": [
    "examples of generated scifi:\n",
    "\n",
    "quivering with years of experience. He lit his torch. He looked directly at the two half-human creatures standing in front of it. It seemed impossible to say they saw. One of them was dead, but that's the thought. \"'I could see,'he said. And he tried desperately, hard, very very desperately, to make up a form of the things he had seen these days. He saw these things going around and around, doing something, and he was aware of the things. But they were, out of the myriads of worlds that they wanted, at least, to know, that they were.. And of that.. thousands impossible all impossible they.'were I I I\n",
    "\n",
    "quivered with the stillness. He lit the cigarette, flicked the light, and pointed it at them as if they were dead. Yes, he had gone. He had gone back at him, yes. Henth lit the cigarette and had seen the body that lay some way away. Hr Hr. Yes. Yes. He.... see the man's face, And just then, and then-- He had gone, unfolding the mind of Henth with him. Yes. He lit the cigarette. Yes, if they were not looking at him, if they were dead. Yes, he had gone. He had flicked it at him, yes, Henth. The man\n",
    "\n",
    "light of a cigarette. But, no, it ran straight between them as though he were dreaming. And somehow it had been. Stern had been looking at him, as though his dark eyes were asleep. He had undressed; the way its sparkle was in them was reassuring..... But unconsciously he could see the man's face, see the expression of those eyes-- he was dead. Refractive eyes, he thought. And what was he? He saw his eyes. They pointed upward, and pointed straight at them as though he were waiting. But remember what had happened. He had pointed straight at him, searching. He saw Stern's eyes. He undressed and dressed. He"
   ]
  },
  {
   "cell_type": "code",
   "execution_count": null,
   "metadata": {},
   "outputs": [],
   "source": []
  },
  {
   "cell_type": "code",
   "execution_count": null,
   "metadata": {},
   "outputs": [],
   "source": []
  },
  {
   "cell_type": "code",
   "execution_count": null,
   "metadata": {
    "scrolled": true
   },
   "outputs": [],
   "source": []
  },
  {
   "cell_type": "code",
   "execution_count": null,
   "metadata": {},
   "outputs": [],
   "source": []
  },
  {
   "cell_type": "markdown",
   "metadata": {},
   "source": [
    "# TODO\n",
    "\n",
    "- show probability in next word logging. Record probability of each letter, then use them when displaying as html\n",
    "- try other ways of doing next word. E.g. going back and redoing, doing more than 1 at once\n",
    "- make the masked language generator often mask last word\n",
    "- should I be doing loss on just the masked words, or all? It's hard to tell from the tensorflow repo. This is marked with a TODO or FIXME in the code\n",
    "- add validation loss, since overfitting seems to be a factor\n",
    "- for eval, don't pad, just have a batch size of one. That may lead to better results\n",
    "- for eval, add some words, and let it fill in the blanks\n",
    "  - recursivly replace low confidence words?\n",
    "  - for this I may have to make it predict unmasked words?"
   ]
  },
  {
   "cell_type": "code",
   "execution_count": null,
   "metadata": {},
   "outputs": [],
   "source": []
  }
 ],
 "metadata": {
  "kernelspec": {
   "display_name": "Python [conda env:pytorch_p36]",
   "language": "python",
   "name": "conda-env-pytorch_p36-py"
  },
  "language_info": {
   "codemirror_mode": {
    "name": "ipython",
    "version": 3
   },
   "file_extension": ".py",
   "mimetype": "text/x-python",
   "name": "python",
   "nbconvert_exporter": "python",
   "pygments_lexer": "ipython3",
   "version": "3.6.5"
  },
  "notify_time": "5",
  "toc": {
   "colors": {
    "hover_highlight": "#DAA520",
    "navigate_num": "#000000",
    "navigate_text": "#333333",
    "running_highlight": "#FF0000",
    "selected_highlight": "#FFD700",
    "sidebar_border": "#EEEEEE",
    "wrapper_background": "#FFFFFF"
   },
   "moveMenuLeft": true,
   "nav_menu": {
    "height": "103px",
    "width": "251px"
   },
   "navigate_menu": true,
   "number_sections": true,
   "sideBar": true,
   "threshold": 4,
   "toc_cell": false,
   "toc_position": {
    "height": "536px",
    "left": "0px",
    "right": "1413.33px",
    "top": "150px",
    "width": "185px"
   },
   "toc_section_display": "block",
   "toc_window_display": true,
   "widenNotebook": false
  }
 },
 "nbformat": 4,
 "nbformat_minor": 2
}
