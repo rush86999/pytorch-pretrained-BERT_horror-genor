{
 "cells": [
  {
   "cell_type": "markdown",
   "metadata": {},
   "source": [
    "https://arxiv.org/pdf/1810.04805.pdf"
   ]
  },
  {
   "cell_type": "code",
   "execution_count": 1,
   "metadata": {
    "ExecuteTime": {
     "end_time": "2018-11-13T01:57:20.298165Z",
     "start_time": "2018-11-13T01:57:20.295510Z"
    }
   },
   "outputs": [],
   "source": [
    "import os\n",
    "os.sys.path.append('..')"
   ]
  },
  {
   "cell_type": "code",
   "execution_count": 2,
   "metadata": {
    "ExecuteTime": {
     "end_time": "2018-11-13T01:57:20.717216Z",
     "start_time": "2018-11-13T01:57:20.300367Z"
    }
   },
   "outputs": [],
   "source": [
    "%matplotlib inline\n",
    "%reload_ext autoreload\n",
    "%autoreload 2"
   ]
  },
  {
   "cell_type": "code",
   "execution_count": 3,
   "metadata": {
    "ExecuteTime": {
     "end_time": "2018-11-13T01:57:21.023628Z",
     "start_time": "2018-11-13T01:57:20.719286Z"
    }
   },
   "outputs": [],
   "source": [
    "from __future__ import absolute_import\n",
    "from __future__ import division\n",
    "from __future__ import print_function\n",
    "\n",
    "import argparse\n",
    "import collections\n",
    "import logging\n",
    "import json\n",
    "import math\n",
    "import os\n",
    "import random\n",
    "import six\n",
    "from tqdm import tqdm_notebook as tqdm\n",
    "from IPython.display import HTML, display\n",
    "\n",
    "import numpy as np\n",
    "import torch\n",
    "import torch.nn as nn\n",
    "import torch.nn.functional as F\n",
    "from torch.utils.data import TensorDataset, DataLoader, RandomSampler, SequentialSampler\n",
    "from torch.utils.data.distributed import DistributedSampler\n",
    "\n",
    "import tokenization\n",
    "from modeling import BertConfig, BertForMaskedLanguageModelling\n",
    "from optimization import BERTAdam\n",
    "from masked_language_model import notqdm, convert_tokens_to_features, LMProcessor, predict_masked_words, predict_next_words\n"
   ]
  },
  {
   "cell_type": "code",
   "execution_count": 4,
   "metadata": {
    "ExecuteTime": {
     "end_time": "2018-11-13T01:57:21.047342Z",
     "start_time": "2018-11-13T01:57:21.026094Z"
    }
   },
   "outputs": [],
   "source": [
    "\n",
    "logging.basicConfig(format = '%(asctime)s - %(levelname)s - %(name)s -   %(message)s', \n",
    "                    datefmt = '%m/%d/%Y %H:%M:%S',\n",
    "                    level = logging.INFO)\n",
    "logger = logging.getLogger(__name__)"
   ]
  },
  {
   "cell_type": "code",
   "execution_count": null,
   "metadata": {
    "ExecuteTime": {
     "end_time": "2018-11-09T10:41:27.497266Z",
     "start_time": "2018-11-09T10:41:27.467141Z"
    }
   },
   "outputs": [],
   "source": []
  },
  {
   "cell_type": "markdown",
   "metadata": {},
   "source": [
    "# Args"
   ]
  },
  {
   "cell_type": "code",
   "execution_count": 5,
   "metadata": {
    "ExecuteTime": {
     "end_time": "2018-11-13T01:57:21.095286Z",
     "start_time": "2018-11-13T01:57:21.050225Z"
    }
   },
   "outputs": [
    {
     "data": {
      "text/plain": [
       "_StoreAction(option_strings=['--gradient_accumulation_steps'], dest='gradient_accumulation_steps', nargs=None, const=None, default=1, type=<class 'int'>, choices=None, help='Number of updates steps to accumualte before performing a backward/update pass.', metavar=None)"
      ]
     },
     "execution_count": 5,
     "metadata": {},
     "output_type": "execute_result"
    }
   ],
   "source": [
    "parser = argparse.ArgumentParser()\n",
    "\n",
    "## Required parameters\n",
    "parser.add_argument(\"--data_dir\",\n",
    "                    default=None,\n",
    "                    type=str,\n",
    "                    required=True,\n",
    "                    help=\"The input data dir. Should contain the .tsv files (or other data files) for the task.\")\n",
    "parser.add_argument(\"--bert_config_file\",\n",
    "                    default=None,\n",
    "                    type=str,\n",
    "                    required=True,\n",
    "                    help=\"The config json file corresponding to the pre-trained BERT model. \\n\"\n",
    "                         \"This specifies the model architecture.\")\n",
    "parser.add_argument(\"--task_name\",\n",
    "                    default=None,\n",
    "                    type=str,\n",
    "                    required=True,\n",
    "                    help=\"The name of the task to train.\")\n",
    "parser.add_argument(\"--vocab_file\",\n",
    "                    default=None,\n",
    "                    type=str,\n",
    "                    required=True,\n",
    "                    help=\"The vocabulary file that the BERT model was trained on.\")\n",
    "parser.add_argument(\"--output_dir\",\n",
    "                    default=None,\n",
    "                    type=str,\n",
    "                    required=True,\n",
    "                    help=\"The output directory where the model checkpoints will be written.\")\n",
    "\n",
    "## Other parameters\n",
    "parser.add_argument(\"--init_checkpoint\",\n",
    "                    default=None,\n",
    "                    type=str,\n",
    "                    help=\"Initial checkpoint (usually from a pre-trained BERT model).\")\n",
    "parser.add_argument(\"--do_lower_case\",\n",
    "                    default=False,\n",
    "                    action='store_true',\n",
    "                    help=\"Whether to lower case the input text. True for uncased models, False for cased models.\")\n",
    "parser.add_argument(\"--max_seq_length\",\n",
    "                    default=128,\n",
    "                    type=int,\n",
    "                    help=\"The maximum total input sequence length after WordPiece tokenization. \\n\"\n",
    "                         \"Sequences longer than this will be truncated, and sequences shorter \\n\"\n",
    "                         \"than this will be padded.\")\n",
    "parser.add_argument(\"--do_train\",\n",
    "                    default=False,\n",
    "                    action='store_true',\n",
    "                    help=\"Whether to run training.\")\n",
    "parser.add_argument(\"--do_eval\",\n",
    "                    default=False,\n",
    "                    action='store_true',\n",
    "                    help=\"Whether to run eval on the dev set.\")\n",
    "parser.add_argument(\"--train_batch_size\",\n",
    "                    default=32,\n",
    "                    type=int,\n",
    "                    help=\"Total batch size for training.\")\n",
    "parser.add_argument(\"--eval_batch_size\",\n",
    "                    default=8,\n",
    "                    type=int,\n",
    "                    help=\"Total batch size for eval.\")\n",
    "parser.add_argument(\"--learning_rate\",\n",
    "                    default=5e-5,\n",
    "                    type=float,\n",
    "                    help=\"The initial learning rate for Adam.\")\n",
    "parser.add_argument(\"--num_train_epochs\",\n",
    "                    default=3.0,\n",
    "                    type=float,\n",
    "                    help=\"Total number of training epochs to perform.\")\n",
    "parser.add_argument(\"--warmup_proportion\",\n",
    "                    default=0.1,\n",
    "                    type=float,\n",
    "                    help=\"Proportion of training to perform linear learning rate warmup for. \"\n",
    "                         \"E.g., 0.1 = 10%% of training.\")\n",
    "parser.add_argument(\"--no_cuda\",\n",
    "                    default=False,\n",
    "                    action='store_true',\n",
    "                    help=\"Whether not to use CUDA when available\")\n",
    "parser.add_argument(\"--local_rank\",\n",
    "                    type=int,\n",
    "                    default=-1,\n",
    "                    help=\"local_rank for distributed training on gpus\")\n",
    "parser.add_argument('--seed', \n",
    "                    type=int, \n",
    "                    default=42,\n",
    "                    help=\"random seed for initialization\")\n",
    "parser.add_argument('--gradient_accumulation_steps',\n",
    "                    type=int,\n",
    "                    default=1,\n",
    "                    help=\"Number of updates steps to accumualte before performing a backward/update pass.\") "
   ]
  },
  {
   "cell_type": "code",
   "execution_count": 6,
   "metadata": {
    "ExecuteTime": {
     "end_time": "2018-11-13T01:57:21.122886Z",
     "start_time": "2018-11-13T01:57:21.097485Z"
    }
   },
   "outputs": [
    {
     "name": "stdout",
     "output_type": "stream",
     "text": [
      "['--task_name', 'lm', '--data_dir', '../data/input/scifi_gutenberg', '--vocab_file', '../data/weights/cased_L-12_H-768_A-12/vocab.txt', '--bert_config_file', '../data/weights/cased_L-12_H-768_A-12/bert_config.json', '--init_checkpoint', '../data/weights/cased_L-12_H-768_A-12/pytorch_model.bin', '--do_train', '--do_eval', '--gradient_accumulation_steps', '2', '--train_batch_size', '16', '--learning_rate', '3e-5', '--num_train_epochs', '3.0', '--max_seq_length', '128', '--output_dir', '../outputs/scifi_cased_7_tied_mlm/']\n"
     ]
    }
   ],
   "source": [
    "experiment_name = 'scifi_cased_7_tied_mlm'\n",
    "\n",
    "argv = \"\"\"\n",
    "--task_name lm \\\n",
    "--data_dir {DATA_DIR} \\\n",
    "--vocab_file {BERT_BASE_DIR}/vocab.txt \\\n",
    "--bert_config_file {BERT_BASE_DIR}/bert_config.json \\\n",
    "--init_checkpoint {BERT_BASE_DIR}/pytorch_model.bin \\\n",
    "--do_train \\\n",
    "--do_eval \\\n",
    "--gradient_accumulation_steps 2 \\\n",
    "--train_batch_size 16 \\\n",
    "--learning_rate 3e-5 \\\n",
    "--num_train_epochs 3.0 \\\n",
    "--max_seq_length 128 \\\n",
    "--output_dir ../outputs/{name}/\n",
    "\"\"\".format(\n",
    "    BERT_BASE_DIR='../data/weights/cased_L-12_H-768_A-12',\n",
    "    DATA_DIR='../data/input/scifi_gutenberg',\n",
    "    name=experiment_name\n",
    ").replace('\\n', '').split(' ')\n",
    "print(argv)\n",
    "args = parser.parse_args(argv)"
   ]
  },
  {
   "cell_type": "code",
   "execution_count": null,
   "metadata": {
    "ExecuteTime": {
     "end_time": "2018-11-09T15:26:30.278170Z",
     "start_time": "2018-11-09T15:26:30.248424Z"
    }
   },
   "outputs": [],
   "source": []
  },
  {
   "cell_type": "markdown",
   "metadata": {},
   "source": [
    "# Init"
   ]
  },
  {
   "cell_type": "code",
   "execution_count": 7,
   "metadata": {
    "ExecuteTime": {
     "end_time": "2018-11-13T01:57:21.195298Z",
     "start_time": "2018-11-13T01:57:21.125084Z"
    }
   },
   "outputs": [
    {
     "name": "stderr",
     "output_type": "stream",
     "text": [
      "12/08/2018 10:37:05 - INFO - __main__ -   device cuda n_gpu 1 distributed training False\n"
     ]
    }
   ],
   "source": [
    "if args.local_rank == -1 or args.no_cuda:\n",
    "    device = torch.device(\"cuda\" if torch.cuda.is_available() and not args.no_cuda else \"cpu\")\n",
    "    n_gpu = torch.cuda.device_count()\n",
    "else:\n",
    "    device = torch.device(\"cuda\", args.local_rank)\n",
    "    n_gpu = 1\n",
    "    # Initializes the distributed backend which will take care of sychronizing nodes/GPUs\n",
    "    torch.distributed.init_process_group(backend='nccl')\n",
    "logger.info(\"device %s n_gpu %d distributed training %r\", device, n_gpu, bool(args.local_rank != -1))\n",
    "\n",
    "if args.gradient_accumulation_steps < 1:\n",
    "    raise ValueError(\"Invalid gradient_accumulation_steps parameter: {}, should be >= 1\".format(\n",
    "                        args.gradient_accumulation_steps))\n",
    "\n",
    "args.train_batch_size = int(args.train_batch_size / args.gradient_accumulation_steps)\n",
    "\n",
    "random.seed(args.seed)\n",
    "np.random.seed(args.seed)\n",
    "torch.manual_seed(args.seed)\n",
    "if n_gpu > 0:\n",
    "    torch.cuda.manual_seed_all(args.seed)\n",
    "\n",
    "if not args.do_train and not args.do_eval:\n",
    "    raise ValueError(\"At least one of `do_train` or `do_eval` must be True.\")"
   ]
  },
  {
   "cell_type": "code",
   "execution_count": 8,
   "metadata": {
    "ExecuteTime": {
     "end_time": "2018-11-13T01:57:21.224410Z",
     "start_time": "2018-11-13T01:57:21.198912Z"
    }
   },
   "outputs": [],
   "source": [
    "bert_config = BertConfig.from_json_file(args.bert_config_file)\n",
    "\n",
    "if args.max_seq_length > bert_config.max_position_embeddings:\n",
    "    raise ValueError(\n",
    "        \"Cannot use sequence length {} because the BERT model was only trained up to sequence length {}\".format(\n",
    "        args.max_seq_length, bert_config.max_position_embeddings))"
   ]
  },
  {
   "cell_type": "code",
   "execution_count": 9,
   "metadata": {
    "ExecuteTime": {
     "end_time": "2018-11-13T01:57:21.253227Z",
     "start_time": "2018-11-13T01:57:21.226818Z"
    }
   },
   "outputs": [
    {
     "data": {
      "text/plain": [
       "'../outputs/scifi_cased_7_tied_mlm/state_dict.pkl'"
      ]
     },
     "execution_count": 9,
     "metadata": {},
     "output_type": "execute_result"
    }
   ],
   "source": [
    "if os.path.exists(args.output_dir) and os.listdir(args.output_dir):\n",
    "    print(\"Output directory ({}) already exists and is not empty.\".format(args.output_dir))\n",
    "os.makedirs(args.output_dir, exist_ok=True)\n",
    "save_path = os.path.join(args.output_dir, 'state_dict.pkl')\n",
    "save_path"
   ]
  },
  {
   "cell_type": "markdown",
   "metadata": {},
   "source": [
    "# Load data"
   ]
  },
  {
   "cell_type": "code",
   "execution_count": 10,
   "metadata": {
    "ExecuteTime": {
     "end_time": "2018-11-13T01:57:21.326146Z",
     "start_time": "2018-11-13T01:57:21.255600Z"
    }
   },
   "outputs": [],
   "source": [
    "tokenizer = tokenization.FullTokenizer(\n",
    "    vocab_file=args.vocab_file, do_lower_case=args.do_lower_case)\n",
    "\n",
    "decoder = {v:k for k,v in tokenizer.wordpiece_tokenizer.vocab.items()}"
   ]
  },
  {
   "cell_type": "code",
   "execution_count": 11,
   "metadata": {
    "ExecuteTime": {
     "end_time": "2018-11-13T01:57:21.355098Z",
     "start_time": "2018-11-13T01:57:21.328899Z"
    }
   },
   "outputs": [],
   "source": [
    "processors = {\n",
    "        \"lm\": LMProcessor,\n",
    "}\n",
    "    \n",
    "task_name = args.task_name.lower()\n",
    "if task_name not in processors:\n",
    "        raise ValueError(\"Task not found: %s\" % (task_name))\n",
    "\n",
    "processor = processors[task_name](tokenizer=tokenizer)\n",
    "label_list = processor.get_labels()"
   ]
  },
  {
   "cell_type": "code",
   "execution_count": 12,
   "metadata": {
    "ExecuteTime": {
     "end_time": "2018-11-13T01:58:48.514022Z",
     "start_time": "2018-11-13T01:57:21.357795Z"
    }
   },
   "outputs": [
    {
     "data": {
      "application/vnd.jupyter.widget-view+json": {
       "model_id": "1f13eab60b0c412080afb4d5cee1258b",
       "version_major": 2,
       "version_minor": 0
      },
      "text/plain": [
       "HBox(children=(IntProgress(value=0, description='tokenising', max=605329, style=ProgressStyle(description_widt…"
      ]
     },
     "metadata": {},
     "output_type": "display_data"
    },
    {
     "name": "stdout",
     "output_type": "stream",
     "text": [
      "\n"
     ]
    },
    {
     "data": {
      "application/vnd.jupyter.widget-view+json": {
       "model_id": "28de4ae36d7642efa524301f35ef7415",
       "version_major": 2,
       "version_minor": 0
      },
      "text/plain": [
       "HBox(children=(IntProgress(value=0, description='chunking', max=1081957, style=ProgressStyle(description_width…"
      ]
     },
     "metadata": {},
     "output_type": "display_data"
    },
    {
     "name": "stdout",
     "output_type": "stream",
     "text": [
      "\n"
     ]
    }
   ],
   "source": [
    "train_examples = processor.get_train_examples(args.data_dir, skip=30, tqdm=tqdm)\n",
    "num_train_steps = int(\n",
    "    len(train_examples) / args.train_batch_size * args.num_train_epochs)"
   ]
  },
  {
   "cell_type": "code",
   "execution_count": null,
   "metadata": {
    "ExecuteTime": {
     "end_time": "2018-11-10T08:35:09.919396Z",
     "start_time": "2018-11-10T08:35:09.767935Z"
    }
   },
   "outputs": [],
   "source": []
  },
  {
   "cell_type": "code",
   "execution_count": 13,
   "metadata": {
    "ExecuteTime": {
     "end_time": "2018-11-13T01:58:49.803849Z",
     "start_time": "2018-11-13T01:58:48.516554Z"
    },
    "scrolled": true
   },
   "outputs": [
    {
     "data": {
      "application/vnd.jupyter.widget-view+json": {
       "model_id": "241bda43ae73482191d2f3ec80f22cb2",
       "version_major": 2,
       "version_minor": 0
      },
      "text/plain": [
       "HBox(children=(IntProgress(value=0, max=1081957), HTML(value='')))"
      ]
     },
     "metadata": {},
     "output_type": "display_data"
    },
    {
     "name": "stdout",
     "output_type": "stream",
     "text": [
      "\n"
     ]
    }
   ],
   "source": [
    "train_features = convert_tokens_to_features(\n",
    "    train_examples, label_list, args.max_seq_length, tokenizer, tqdm=tqdm)\n",
    "\n",
    "all_input_ids = torch.tensor([f.input_ids for f in train_features], dtype=torch.long)\n",
    "all_input_mask = torch.tensor([f.input_mask for f in train_features], dtype=torch.long)\n",
    "all_segment_ids = torch.tensor([f.segment_ids for f in train_features], dtype=torch.long)\n",
    "all_label_ids = torch.tensor([f.label_id for f in train_features], dtype=torch.long)\n",
    "all_label_weights = torch.tensor([f.label_weights for f in train_features], dtype=torch.long)"
   ]
  },
  {
   "cell_type": "code",
   "execution_count": null,
   "metadata": {
    "ExecuteTime": {
     "end_time": "2018-11-11T06:08:15.170422Z",
     "start_time": "2018-11-11T06:07:03.795167Z"
    }
   },
   "outputs": [],
   "source": []
  },
  {
   "cell_type": "code",
   "execution_count": 14,
   "metadata": {
    "ExecuteTime": {
     "end_time": "2018-11-13T01:58:49.833100Z",
     "start_time": "2018-11-13T01:58:49.806849Z"
    }
   },
   "outputs": [],
   "source": [
    "train_data = TensorDataset(all_input_ids, all_input_mask, all_segment_ids, all_label_ids, all_label_weights)\n",
    "if args.local_rank == -1:\n",
    "    train_sampler = RandomSampler(train_data)\n",
    "else:\n",
    "    train_sampler = DistributedSampler(train_data)\n",
    "train_dataloader = DataLoader(train_data, sampler=train_sampler, batch_size=args.train_batch_size)"
   ]
  },
  {
   "cell_type": "code",
   "execution_count": null,
   "metadata": {
    "ExecuteTime": {
     "end_time": "2018-11-10T06:50:42.333283Z",
     "start_time": "2018-11-10T06:50:42.311379Z"
    }
   },
   "outputs": [],
   "source": []
  },
  {
   "cell_type": "markdown",
   "metadata": {},
   "source": [
    "# Load model"
   ]
  },
  {
   "cell_type": "code",
   "execution_count": 15,
   "metadata": {
    "ExecuteTime": {
     "end_time": "2018-11-10T07:13:01.317704Z",
     "start_time": "2018-11-10T07:13:00.880718Z"
    }
   },
   "outputs": [
    {
     "data": {
      "text/plain": [
       "'../data/weights/cased_L-12_H-768_A-12/pytorch_model.bin'"
      ]
     },
     "execution_count": 15,
     "metadata": {},
     "output_type": "execute_result"
    }
   ],
   "source": [
    "args.init_checkpoint"
   ]
  },
  {
   "cell_type": "code",
   "execution_count": 16,
   "metadata": {},
   "outputs": [
    {
     "data": {
      "text/plain": [
       "'../outputs/scifi_cased_7_tied_mlm/state_dict.pkl'"
      ]
     },
     "execution_count": 16,
     "metadata": {},
     "output_type": "execute_result"
    }
   ],
   "source": [
    "save_path"
   ]
  },
  {
   "cell_type": "code",
   "execution_count": 17,
   "metadata": {
    "ExecuteTime": {
     "end_time": "2018-11-13T01:58:55.806611Z",
     "start_time": "2018-11-13T01:58:49.835295Z"
    }
   },
   "outputs": [
    {
     "data": {
      "text/plain": [
       "BertForMaskedLanguageModelling(\n",
       "  (bert): BertModel(\n",
       "    (embeddings): BERTEmbeddings(\n",
       "      (word_embeddings): Embedding(28996, 768)\n",
       "      (position_embeddings): Embedding(512, 768)\n",
       "      (token_type_embeddings): Embedding(2, 768)\n",
       "      (LayerNorm): BERTLayerNorm()\n",
       "      (dropout): Dropout(p=0.1)\n",
       "    )\n",
       "    (encoder): BERTEncoder(\n",
       "      (layer): ModuleList(\n",
       "        (0): BERTLayer(\n",
       "          (attention): BERTAttention(\n",
       "            (self): BERTSelfAttention(\n",
       "              (query): Linear(in_features=768, out_features=768, bias=True)\n",
       "              (key): Linear(in_features=768, out_features=768, bias=True)\n",
       "              (value): Linear(in_features=768, out_features=768, bias=True)\n",
       "              (dropout): Dropout(p=0.1)\n",
       "            )\n",
       "            (output): BERTSelfOutput(\n",
       "              (dense): Linear(in_features=768, out_features=768, bias=True)\n",
       "              (LayerNorm): BERTLayerNorm()\n",
       "              (dropout): Dropout(p=0.1)\n",
       "            )\n",
       "          )\n",
       "          (intermediate): BERTIntermediate(\n",
       "            (dense): Linear(in_features=768, out_features=3072, bias=True)\n",
       "          )\n",
       "          (output): BERTOutput(\n",
       "            (dense): Linear(in_features=3072, out_features=768, bias=True)\n",
       "            (LayerNorm): BERTLayerNorm()\n",
       "            (dropout): Dropout(p=0.1)\n",
       "          )\n",
       "        )\n",
       "        (1): BERTLayer(\n",
       "          (attention): BERTAttention(\n",
       "            (self): BERTSelfAttention(\n",
       "              (query): Linear(in_features=768, out_features=768, bias=True)\n",
       "              (key): Linear(in_features=768, out_features=768, bias=True)\n",
       "              (value): Linear(in_features=768, out_features=768, bias=True)\n",
       "              (dropout): Dropout(p=0.1)\n",
       "            )\n",
       "            (output): BERTSelfOutput(\n",
       "              (dense): Linear(in_features=768, out_features=768, bias=True)\n",
       "              (LayerNorm): BERTLayerNorm()\n",
       "              (dropout): Dropout(p=0.1)\n",
       "            )\n",
       "          )\n",
       "          (intermediate): BERTIntermediate(\n",
       "            (dense): Linear(in_features=768, out_features=3072, bias=True)\n",
       "          )\n",
       "          (output): BERTOutput(\n",
       "            (dense): Linear(in_features=3072, out_features=768, bias=True)\n",
       "            (LayerNorm): BERTLayerNorm()\n",
       "            (dropout): Dropout(p=0.1)\n",
       "          )\n",
       "        )\n",
       "        (2): BERTLayer(\n",
       "          (attention): BERTAttention(\n",
       "            (self): BERTSelfAttention(\n",
       "              (query): Linear(in_features=768, out_features=768, bias=True)\n",
       "              (key): Linear(in_features=768, out_features=768, bias=True)\n",
       "              (value): Linear(in_features=768, out_features=768, bias=True)\n",
       "              (dropout): Dropout(p=0.1)\n",
       "            )\n",
       "            (output): BERTSelfOutput(\n",
       "              (dense): Linear(in_features=768, out_features=768, bias=True)\n",
       "              (LayerNorm): BERTLayerNorm()\n",
       "              (dropout): Dropout(p=0.1)\n",
       "            )\n",
       "          )\n",
       "          (intermediate): BERTIntermediate(\n",
       "            (dense): Linear(in_features=768, out_features=3072, bias=True)\n",
       "          )\n",
       "          (output): BERTOutput(\n",
       "            (dense): Linear(in_features=3072, out_features=768, bias=True)\n",
       "            (LayerNorm): BERTLayerNorm()\n",
       "            (dropout): Dropout(p=0.1)\n",
       "          )\n",
       "        )\n",
       "        (3): BERTLayer(\n",
       "          (attention): BERTAttention(\n",
       "            (self): BERTSelfAttention(\n",
       "              (query): Linear(in_features=768, out_features=768, bias=True)\n",
       "              (key): Linear(in_features=768, out_features=768, bias=True)\n",
       "              (value): Linear(in_features=768, out_features=768, bias=True)\n",
       "              (dropout): Dropout(p=0.1)\n",
       "            )\n",
       "            (output): BERTSelfOutput(\n",
       "              (dense): Linear(in_features=768, out_features=768, bias=True)\n",
       "              (LayerNorm): BERTLayerNorm()\n",
       "              (dropout): Dropout(p=0.1)\n",
       "            )\n",
       "          )\n",
       "          (intermediate): BERTIntermediate(\n",
       "            (dense): Linear(in_features=768, out_features=3072, bias=True)\n",
       "          )\n",
       "          (output): BERTOutput(\n",
       "            (dense): Linear(in_features=3072, out_features=768, bias=True)\n",
       "            (LayerNorm): BERTLayerNorm()\n",
       "            (dropout): Dropout(p=0.1)\n",
       "          )\n",
       "        )\n",
       "        (4): BERTLayer(\n",
       "          (attention): BERTAttention(\n",
       "            (self): BERTSelfAttention(\n",
       "              (query): Linear(in_features=768, out_features=768, bias=True)\n",
       "              (key): Linear(in_features=768, out_features=768, bias=True)\n",
       "              (value): Linear(in_features=768, out_features=768, bias=True)\n",
       "              (dropout): Dropout(p=0.1)\n",
       "            )\n",
       "            (output): BERTSelfOutput(\n",
       "              (dense): Linear(in_features=768, out_features=768, bias=True)\n",
       "              (LayerNorm): BERTLayerNorm()\n",
       "              (dropout): Dropout(p=0.1)\n",
       "            )\n",
       "          )\n",
       "          (intermediate): BERTIntermediate(\n",
       "            (dense): Linear(in_features=768, out_features=3072, bias=True)\n",
       "          )\n",
       "          (output): BERTOutput(\n",
       "            (dense): Linear(in_features=3072, out_features=768, bias=True)\n",
       "            (LayerNorm): BERTLayerNorm()\n",
       "            (dropout): Dropout(p=0.1)\n",
       "          )\n",
       "        )\n",
       "        (5): BERTLayer(\n",
       "          (attention): BERTAttention(\n",
       "            (self): BERTSelfAttention(\n",
       "              (query): Linear(in_features=768, out_features=768, bias=True)\n",
       "              (key): Linear(in_features=768, out_features=768, bias=True)\n",
       "              (value): Linear(in_features=768, out_features=768, bias=True)\n",
       "              (dropout): Dropout(p=0.1)\n",
       "            )\n",
       "            (output): BERTSelfOutput(\n",
       "              (dense): Linear(in_features=768, out_features=768, bias=True)\n",
       "              (LayerNorm): BERTLayerNorm()\n",
       "              (dropout): Dropout(p=0.1)\n",
       "            )\n",
       "          )\n",
       "          (intermediate): BERTIntermediate(\n",
       "            (dense): Linear(in_features=768, out_features=3072, bias=True)\n",
       "          )\n",
       "          (output): BERTOutput(\n",
       "            (dense): Linear(in_features=3072, out_features=768, bias=True)\n",
       "            (LayerNorm): BERTLayerNorm()\n",
       "            (dropout): Dropout(p=0.1)\n",
       "          )\n",
       "        )\n",
       "        (6): BERTLayer(\n",
       "          (attention): BERTAttention(\n",
       "            (self): BERTSelfAttention(\n",
       "              (query): Linear(in_features=768, out_features=768, bias=True)\n",
       "              (key): Linear(in_features=768, out_features=768, bias=True)\n",
       "              (value): Linear(in_features=768, out_features=768, bias=True)\n",
       "              (dropout): Dropout(p=0.1)\n",
       "            )\n",
       "            (output): BERTSelfOutput(\n",
       "              (dense): Linear(in_features=768, out_features=768, bias=True)\n",
       "              (LayerNorm): BERTLayerNorm()\n",
       "              (dropout): Dropout(p=0.1)\n",
       "            )\n",
       "          )\n",
       "          (intermediate): BERTIntermediate(\n",
       "            (dense): Linear(in_features=768, out_features=3072, bias=True)\n",
       "          )\n",
       "          (output): BERTOutput(\n",
       "            (dense): Linear(in_features=3072, out_features=768, bias=True)\n",
       "            (LayerNorm): BERTLayerNorm()\n",
       "            (dropout): Dropout(p=0.1)\n",
       "          )\n",
       "        )\n",
       "        (7): BERTLayer(\n",
       "          (attention): BERTAttention(\n",
       "            (self): BERTSelfAttention(\n",
       "              (query): Linear(in_features=768, out_features=768, bias=True)\n",
       "              (key): Linear(in_features=768, out_features=768, bias=True)\n",
       "              (value): Linear(in_features=768, out_features=768, bias=True)\n",
       "              (dropout): Dropout(p=0.1)\n",
       "            )\n",
       "            (output): BERTSelfOutput(\n",
       "              (dense): Linear(in_features=768, out_features=768, bias=True)\n",
       "              (LayerNorm): BERTLayerNorm()\n",
       "              (dropout): Dropout(p=0.1)\n",
       "            )\n",
       "          )\n",
       "          (intermediate): BERTIntermediate(\n",
       "            (dense): Linear(in_features=768, out_features=3072, bias=True)\n",
       "          )\n",
       "          (output): BERTOutput(\n",
       "            (dense): Linear(in_features=3072, out_features=768, bias=True)\n",
       "            (LayerNorm): BERTLayerNorm()\n",
       "            (dropout): Dropout(p=0.1)\n",
       "          )\n",
       "        )\n",
       "        (8): BERTLayer(\n",
       "          (attention): BERTAttention(\n",
       "            (self): BERTSelfAttention(\n",
       "              (query): Linear(in_features=768, out_features=768, bias=True)\n",
       "              (key): Linear(in_features=768, out_features=768, bias=True)\n",
       "              (value): Linear(in_features=768, out_features=768, bias=True)\n",
       "              (dropout): Dropout(p=0.1)\n",
       "            )\n",
       "            (output): BERTSelfOutput(\n",
       "              (dense): Linear(in_features=768, out_features=768, bias=True)\n",
       "              (LayerNorm): BERTLayerNorm()\n",
       "              (dropout): Dropout(p=0.1)\n",
       "            )\n",
       "          )\n",
       "          (intermediate): BERTIntermediate(\n",
       "            (dense): Linear(in_features=768, out_features=3072, bias=True)\n",
       "          )\n",
       "          (output): BERTOutput(\n",
       "            (dense): Linear(in_features=3072, out_features=768, bias=True)\n",
       "            (LayerNorm): BERTLayerNorm()\n",
       "            (dropout): Dropout(p=0.1)\n",
       "          )\n",
       "        )\n",
       "        (9): BERTLayer(\n",
       "          (attention): BERTAttention(\n",
       "            (self): BERTSelfAttention(\n",
       "              (query): Linear(in_features=768, out_features=768, bias=True)\n",
       "              (key): Linear(in_features=768, out_features=768, bias=True)\n",
       "              (value): Linear(in_features=768, out_features=768, bias=True)\n",
       "              (dropout): Dropout(p=0.1)\n",
       "            )\n",
       "            (output): BERTSelfOutput(\n",
       "              (dense): Linear(in_features=768, out_features=768, bias=True)\n",
       "              (LayerNorm): BERTLayerNorm()\n",
       "              (dropout): Dropout(p=0.1)\n",
       "            )\n",
       "          )\n",
       "          (intermediate): BERTIntermediate(\n",
       "            (dense): Linear(in_features=768, out_features=3072, bias=True)\n",
       "          )\n",
       "          (output): BERTOutput(\n",
       "            (dense): Linear(in_features=3072, out_features=768, bias=True)\n",
       "            (LayerNorm): BERTLayerNorm()\n",
       "            (dropout): Dropout(p=0.1)\n",
       "          )\n",
       "        )\n",
       "        (10): BERTLayer(\n",
       "          (attention): BERTAttention(\n",
       "            (self): BERTSelfAttention(\n",
       "              (query): Linear(in_features=768, out_features=768, bias=True)\n",
       "              (key): Linear(in_features=768, out_features=768, bias=True)\n",
       "              (value): Linear(in_features=768, out_features=768, bias=True)\n",
       "              (dropout): Dropout(p=0.1)\n",
       "            )\n",
       "            (output): BERTSelfOutput(\n",
       "              (dense): Linear(in_features=768, out_features=768, bias=True)\n",
       "              (LayerNorm): BERTLayerNorm()\n",
       "              (dropout): Dropout(p=0.1)\n",
       "            )\n",
       "          )\n",
       "          (intermediate): BERTIntermediate(\n",
       "            (dense): Linear(in_features=768, out_features=3072, bias=True)\n",
       "          )\n",
       "          (output): BERTOutput(\n",
       "            (dense): Linear(in_features=3072, out_features=768, bias=True)\n",
       "            (LayerNorm): BERTLayerNorm()\n",
       "            (dropout): Dropout(p=0.1)\n",
       "          )\n",
       "        )\n",
       "        (11): BERTLayer(\n",
       "          (attention): BERTAttention(\n",
       "            (self): BERTSelfAttention(\n",
       "              (query): Linear(in_features=768, out_features=768, bias=True)\n",
       "              (key): Linear(in_features=768, out_features=768, bias=True)\n",
       "              (value): Linear(in_features=768, out_features=768, bias=True)\n",
       "              (dropout): Dropout(p=0.1)\n",
       "            )\n",
       "            (output): BERTSelfOutput(\n",
       "              (dense): Linear(in_features=768, out_features=768, bias=True)\n",
       "              (LayerNorm): BERTLayerNorm()\n",
       "              (dropout): Dropout(p=0.1)\n",
       "            )\n",
       "          )\n",
       "          (intermediate): BERTIntermediate(\n",
       "            (dense): Linear(in_features=768, out_features=3072, bias=True)\n",
       "          )\n",
       "          (output): BERTOutput(\n",
       "            (dense): Linear(in_features=3072, out_features=768, bias=True)\n",
       "            (LayerNorm): BERTLayerNorm()\n",
       "            (dropout): Dropout(p=0.1)\n",
       "          )\n",
       "        )\n",
       "      )\n",
       "    )\n",
       "    (pooler): BERTPooler(\n",
       "      (dense): Linear(in_features=768, out_features=768, bias=True)\n",
       "      (activation): Tanh()\n",
       "    )\n",
       "  )\n",
       "  (dropout): Dropout(p=0.1)\n",
       "  (dense): Linear(in_features=768, out_features=768, bias=True)\n",
       "  (LayerNorm): BERTLayerNorm()\n",
       "  (word_decode): Linear(in_features=768, out_features=28996, bias=True)\n",
       ")"
      ]
     },
     "execution_count": 17,
     "metadata": {},
     "output_type": "execute_result"
    }
   ],
   "source": [
    "model = BertForMaskedLanguageModelling(bert_config)\n",
    "if args.init_checkpoint is not None:\n",
    "    model.bert.load_state_dict(torch.load(args.init_checkpoint, map_location='cpu'))\n",
    "    \n",
    "if os.path.isfile(save_path):\n",
    "    model.load_state_dict(torch.load(save_path, map_location='cpu'))\n",
    "    \n",
    "model.to(device)\n",
    "\n",
    "if args.local_rank != -1:\n",
    "    model = torch.nn.parallel.DistributedDataParallel(model, device_ids=[args.local_rank],\n",
    "                                                      output_device=args.local_rank)\n",
    "elif n_gpu > 1:\n",
    "    model = torch.nn.DataParallel(model)\n",
    "    \n",
    "model"
   ]
  },
  {
   "cell_type": "markdown",
   "metadata": {},
   "source": [
    "# Opt"
   ]
  },
  {
   "cell_type": "code",
   "execution_count": 18,
   "metadata": {
    "ExecuteTime": {
     "end_time": "2018-11-13T01:58:55.835458Z",
     "start_time": "2018-11-13T01:58:55.809563Z"
    }
   },
   "outputs": [],
   "source": [
    "no_decay = ['bias', 'gamma', 'beta']\n",
    "optimizer_parameters = [\n",
    "    {'params': [p for n, p in model.named_parameters() if n not in no_decay], 'weight_decay_rate': 0.01},\n",
    "    {'params': [p for n, p in model.named_parameters() if n in no_decay], 'weight_decay_rate': 0.0}\n",
    "    ]\n",
    "\n",
    "optimizer = BERTAdam(optimizer_parameters,\n",
    "                     lr=args.learning_rate,\n",
    "                     warmup=args.warmup_proportion,\n",
    "                t_total=num_train_steps)"
   ]
  },
  {
   "cell_type": "code",
   "execution_count": null,
   "metadata": {},
   "outputs": [],
   "source": []
  },
  {
   "cell_type": "markdown",
   "metadata": {},
   "source": [
    "# Train 3"
   ]
  },
  {
   "cell_type": "code",
   "execution_count": 19,
   "metadata": {},
   "outputs": [
    {
     "data": {
      "text/html": [
       "The next day I was somewhat somnolent, of which you may be sure Miss Frankland took no notice. She retired to her own room when next day I was somewhat somnolent, of which you may be sure Miss Frankland took no notice. She retired to her own room when went for our recreation. My friends scolded me for not coming to them the previous night, but I told them that my parents had continued to move about her room for so long a time that I had fallen fast asleep, and even then had not had enough, as they might have observed how sleepy I had been all day <span style=\"color: rgba(255,0,0,1)\">Willem</span> <span style=\"color: rgba(255,0,0,1)\">anthology</span><span style=\"color: rgba(255,0,0,1)\">φ</span> <span style=\"color: rgba(255,0,0,1)\">Scandinavian</span><span style=\"color: rgba(255,0,0,1)\">cal</span> <span style=\"color: rgba(255,0,0,1)\">dramatically</span> <span style=\"color: rgba(255,0,0,1)\">Afghanistan</span><span style=\"color: rgba(255,0,0,1)\">taking</span><span style=\"color: rgba(255,0,0,1)\">naire</span> <span style=\"color: rgba(255,0,0,1)\">actively</span> <span style=\"color: rgba(255,0,0,1)\">ON</span> <span style=\"color: rgba(255,0,0,1)\">Île</span> <span style=\"color: rgba(255,0,0,1)\">Tracy</span><span style=\"color: rgba(255,0,0,1)\">pole</span> <span style=\"color: rgba(255,0,0,1)\">sipped</span> <span style=\"color: rgba(255,0,0,1)\">Brigham</span> <span style=\"color: rgba(255,0,0,1)\">Palazzo</span> <span style=\"color: rgba(255,0,0,1)\">Regarding</span> <span style=\"color: rgba(255,0,0,1)\">washed</span> <span style=\"color: rgba(255,0,0,1)\">Tommy</span> <span style=\"color: rgba(255,0,0,1)\">deficiency</span> <span style=\"color: rgba(255,0,0,1)\">Spencer</span> <span style=\"color: rgba(255,0,0,1)\">rose</span><span style=\"color: rgba(255,0,0,1)\">zers</span> <span style=\"color: rgba(255,0,0,1)\">Science</span><span style=\"color: rgba(255,0,0,1)\">竹</span><span style=\"color: rgba(255,0,0,1)\">Ps</span> <span style=\"color: rgba(255,0,0,1)\">302</span> <span style=\"color: rgba(255,0,0,1)\">Herr</span> <span style=\"color: rgba(255,0,0,1)\">Heard</span>"
      ],
      "text/plain": [
       "<IPython.core.display.HTML object>"
      ]
     },
     "metadata": {},
     "output_type": "display_data"
    }
   ],
   "source": [
    "val_test=\"\"\"The next day I was somewhat somnolent, of which you may be sure Miss Frankland took no notice. She retired to her own room when we went for our recreation. My friends scolded me for not coming to them the previous night, but I told them that my parents had continued to move about her room for so long a time that I had fallen fast asleep, and even then had not had enough, as they might have observed how sleepy I had been all day.\"\"\"\n",
    "display(predict_next_words(val_test, processor, tokenizer, model, max_seq_length=args.max_seq_length, n=30, T=1, device=device))"
   ]
  },
  {
   "cell_type": "code",
   "execution_count": null,
   "metadata": {},
   "outputs": [],
   "source": []
  },
  {
   "cell_type": "code",
   "execution_count": null,
   "metadata": {},
   "outputs": [],
   "source": []
  },
  {
   "cell_type": "code",
   "execution_count": 20,
   "metadata": {
    "ExecuteTime": {
     "end_time": "2018-11-13T01:58:57.397437Z",
     "start_time": "2018-11-13T01:58:55.837586Z"
    },
    "scrolled": true
   },
   "outputs": [
    {
     "data": {
      "text/html": [
       "The next day I was somewhat somnolent, of which you may be sure Miss Frankland took next day I was somewhat somnolent, of which you may be sure Miss Frankland took notice. She retired to her own room when we went for our recreation. My friends scolded me for not coming to them the previous night, but I told them that my parents had continued to move about her room for so long a time that I had fallen fast asleep, and even then had not had enough, as they might have observed how sleepy I had been all day<span style=\"color: rgba(255,0,0,1)\">iation</span> <span style=\"color: rgba(255,0,0,1)\">commercially</span> <span style=\"color: rgba(255,0,0,1)\">Ș</span><span style=\"color: rgba(255,0,0,1)\">enbach</span> <span style=\"color: rgba(255,0,0,1)\">[unused64]</span> <span style=\"color: rgba(255,0,0,1)\">Amnesty</span> <span style=\"color: rgba(255,0,0,1)\">1750</span> <span style=\"color: rgba(255,0,0,1)\">spurred</span> <span style=\"color: rgba(255,0,0,1)\">Butler</span> <span style=\"color: rgba(255,0,0,1)\">seventy</span> <span style=\"color: rgba(255,0,0,1)\">Addison</span> <span style=\"color: rgba(255,0,0,1)\">pulsing</span> <span style=\"color: rgba(255,0,0,1)\">Cambodia</span> <span style=\"color: rgba(255,0,0,1)\">tunnels</span> <span style=\"color: rgba(255,0,0,1)\">vibrant</span> <span style=\"color: rgba(255,0,0,1)\">prehistoric</span> <span style=\"color: rgba(255,0,0,1)\">prophecy</span><span style=\"color: rgba(255,0,0,1)\">cence</span> <span style=\"color: rgba(255,0,0,1)\">mutant</span> <span style=\"color: rgba(255,0,0,1)\">U2</span>"
      ],
      "text/plain": [
       "<IPython.core.display.HTML object>"
      ]
     },
     "metadata": {},
     "output_type": "display_data"
    }
   ],
   "source": [
    "# val_test=\"\"\"The next day I was somewhat somnolent, of which you may be sure Miss Frankland took no notice. She retired to her own room when we went for our recreation. My sisters scolded me for not coming to them the previous night, but I told them that Miss F. had continued to move about her room for so long a time that I had fallen fast asleep, and even then had not had enough, as they might have observed how sleepy I had been all\"\"\"\n",
    "display(predict_next_words(val_test, processor, tokenizer, model, max_seq_length=args.max_seq_length, n=20, T=1, device=device))"
   ]
  },
  {
   "cell_type": "code",
   "execution_count": null,
   "metadata": {},
   "outputs": [],
   "source": []
  },
  {
   "cell_type": "code",
   "execution_count": 21,
   "metadata": {
    "ExecuteTime": {
     "end_time": "2018-11-13T01:58:57.526350Z",
     "start_time": "2018-11-13T01:58:57.400186Z"
    }
   },
   "outputs": [
    {
     "data": {
      "text/html": [
       "The next day I was somewhat so<span style=\"color: rgba(0,0,255,1)\">m</span>nolent, of which you may be <span style=\"color: rgba(0,0,255,1)\">sure</span> Miss Frankland took no notice. She retired to her own room when we went for our recreation. My friends sco<span style=\"color: rgba(0,0,255,1)\">lded</span> me for not coming to them the previous night, but I told them that my parents had continued to move about her room for so long a time that I had fallen fast asleep, <span style=\"color: rgba(0,0,255,1)\">and</span> even then had not had enough, as they <span style=\"color: rgba(0,0,255,1)\">might</span> have observed how sleepy I had been all <span style=\"color: rgba(0,0,255,1)\">day</span>"
      ],
      "text/plain": [
       "<IPython.core.display.HTML object>"
      ]
     },
     "metadata": {},
     "output_type": "display_data"
    },
    {
     "data": {
      "text/html": [
       "The next day I was somewhat so <span style=\"color: rgba(255,0,0,0.5017224550247192)\">Slowly</span>nolent, of which you may be <span style=\"color: rgba(255,0,0,0.5009612441062927)\">offer</span> Miss Frankland took no notice. She retired to her own room when we went for our recreation. My friends sco <span style=\"color: rgba(255,0,0,0.5013490915298462)\">streak</span> me for not coming to them the previous night, but I told them that my parents had continued to move about her room for so long a time that I had fallen fast asleep, <span style=\"color: rgba(255,0,0,0.5012556314468384)\">costing</span> even then had not had enough, as they<span style=\"color: rgba(255,0,0,0.5011866092681885)\">ľ</span> have observed how sleepy I had been all<span style=\"color: rgba(255,0,0,0.5023146867752075)\">zee</span>"
      ],
      "text/plain": [
       "<IPython.core.display.HTML object>"
      ]
     },
     "metadata": {},
     "output_type": "display_data"
    },
    {
     "data": {
      "text/plain": [
       "None"
      ]
     },
     "metadata": {},
     "output_type": "display_data"
    }
   ],
   "source": [
    "display(predict_masked_words(val_test, processor, tokenizer, model, device=device, max_seq_length=args.max_seq_length))"
   ]
  },
  {
   "cell_type": "code",
   "execution_count": 22,
   "metadata": {
    "ExecuteTime": {
     "end_time": "2018-11-13T01:58:57.549656Z",
     "start_time": "2018-11-13T01:58:57.528646Z"
    }
   },
   "outputs": [],
   "source": [
    "global_step = 0"
   ]
  },
  {
   "cell_type": "code",
   "execution_count": null,
   "metadata": {
    "ExecuteTime": {
     "end_time": "2018-11-13T01:58:57.933014Z",
     "start_time": "2018-11-13T01:58:57.552204Z"
    }
   },
   "outputs": [
    {
     "data": {
      "application/vnd.jupyter.widget-view+json": {
       "model_id": "a22e5a69c7a0469b97251f36c114be8f",
       "version_major": 2,
       "version_minor": 0
      },
      "text/plain": [
       "HBox(children=(IntProgress(value=0, description='Epoch', max=3, style=ProgressStyle(description_width='initial…"
      ]
     },
     "metadata": {},
     "output_type": "display_data"
    },
    {
     "data": {
      "application/vnd.jupyter.widget-view+json": {
       "model_id": "57e42d7f5d8b43febb2e54c6579d9955",
       "version_major": 2,
       "version_minor": 0
      },
      "text/plain": [
       "HBox(children=(IntProgress(value=0, description='Iteration', max=135245, style=ProgressStyle(description_width…"
      ]
     },
     "metadata": {},
     "output_type": "display_data"
    },
    {
     "name": "stdout",
     "output_type": "stream",
     "text": [
      "step 10 loss 0.7071881456808611\n"
     ]
    },
    {
     "data": {
      "text/html": [
       "The next day I was somewhat somnolent, of which you <span style=\"color: rgba(0,0,255,1)\">may</span> be sure Miss Frankland took no notice. She retired <span style=\"color: rgba(0,0,255,1)\">to</span> her <span style=\"color: rgba(0,0,255,1)\">own</span> room when we went for our recreation. <span style=\"color: rgba(0,0,255,1)\">My</span> <span style=\"color: rgba(0,0,255,1)\">friends</span> s<span style=\"color: rgba(0,0,255,1)\">co</span>lded me for not coming to them the previous <span style=\"color: rgba(0,0,255,1)\">night</span>, but I told them that my parents <span style=\"color: rgba(0,0,255,1)\">had</span> continued to move about her room for so long a time that <span style=\"color: rgba(0,0,255,1)\">I</span> had <span style=\"color: rgba(0,0,255,1)\">fallen</span> <span style=\"color: rgba(0,0,255,1)\">fast</span> asleep<span style=\"color: rgba(0,0,255,1)\">,</span> and even then had not had enough, <span style=\"color: rgba(0,0,255,1)\">as</span> they might have observed how sleepy I had been all <span style=\"color: rgba(0,0,255,1)\">day</span>"
      ],
      "text/plain": [
       "<IPython.core.display.HTML object>"
      ]
     },
     "metadata": {},
     "output_type": "display_data"
    },
    {
     "data": {
      "text/html": [
       "The next day I was somewhat somnolent, of which you<span style=\"color: rgba(255,0,0,0.5016475915908813)\">ulf</span> be sure Miss Frankland took no notice. She retired<span style=\"color: rgba(255,0,0,0.5018294453620911)\">tura</span> her <span style=\"color: rgba(255,0,0,0.5014262795448303)\">AT</span> room when we went for our recreation.<span style=\"color: rgba(255,0,0,0.5014866590499878)\">phine</span><span style=\"color: rgba(255,0,0,0.5013753175735474)\">dheim</span> s<span style=\"color: rgba(255,0,0,0.5010484457015991)\">rod</span>lded me for not coming to them the previous<span style=\"color: rgba(255,0,0,0.5015251040458679)\">ík</span>, but I told them that my parents<span style=\"color: rgba(255,0,0,0.5014545321464539)\">phine</span> continued to move about her room for so long a time that<span style=\"color: rgba(255,0,0,0.5015404224395752)\">tman</span> had<span style=\"color: rgba(255,0,0,0.5015817284584045)\">ík</span><span style=\"color: rgba(255,0,0,0.5010882616043091)\">ík</span> asleep <span style=\"color: rgba(255,0,0,0.5026559233665466)\">offering</span> and even then had not had enough,<span style=\"color: rgba(255,0,0,0.5013321042060852)\">aph</span> they might have observed how sleepy I had been all <span style=\"color: rgba(255,0,0,0.5010894536972046)\">Anything</span>"
      ],
      "text/plain": [
       "<IPython.core.display.HTML object>"
      ]
     },
     "metadata": {},
     "output_type": "display_data"
    },
    {
     "data": {
      "text/plain": [
       "None"
      ]
     },
     "metadata": {},
     "output_type": "display_data"
    },
    {
     "data": {
      "text/html": [
       "The next day I was somewhat somnolent, next day I was somewhat somnolent, which you may be sure Miss Frankland took no notice. She retired to her own room when we went for our recreation. My friends scolded me for not coming to them the previous night, but I told them that my parents had continued to move about her room for so long a time that I had fallen fast asleep, and even then had not had enough, as they might have observed how sleepy I had been all day <span style=\"color: rgba(255,0,0,1)\">Myrtle</span> <span style=\"color: rgba(255,0,0,1)\">Ronnie</span> <span style=\"color: rgba(255,0,0,1)\">medley</span> <span style=\"color: rgba(255,0,0,1)\">ψ</span> <span style=\"color: rgba(255,0,0,1)\">Malaysian</span> <span style=\"color: rgba(255,0,0,1)\">Joker</span> <span style=\"color: rgba(255,0,0,1)\">booked</span> <span style=\"color: rgba(255,0,0,1)\">Brody</span> <span style=\"color: rgba(255,0,0,1)\">Score</span> <span style=\"color: rgba(255,0,0,1)\">sided</span>"
      ],
      "text/plain": [
       "<IPython.core.display.HTML object>"
      ]
     },
     "metadata": {},
     "output_type": "display_data"
    },
    {
     "name": "stdout",
     "output_type": "stream",
     "text": [
      "step 3010 loss 0.46271619826555255\n"
     ]
    },
    {
     "data": {
      "text/html": [
       "The next day I was <span style=\"color: rgba(0,0,255,1)\">somewhat</span> somnolent, of which you <span style=\"color: rgba(0,0,255,1)\">may</span> be sure Miss Frankland took <span style=\"color: rgba(0,0,255,1)\">no</span> notice. She retired to her own room when we went for our <span style=\"color: rgba(0,0,255,1)\">recreation</span>. My friends <span style=\"color: rgba(0,0,255,1)\">s</span><span style=\"color: rgba(0,0,255,1)\">co</span><span style=\"color: rgba(0,0,255,1)\">lded</span> <span style=\"color: rgba(0,0,255,1)\">me</span> for not coming to <span style=\"color: rgba(0,0,255,1)\">them</span> the previous night, but I told them that <span style=\"color: rgba(0,0,255,1)\">my</span> parents had <span style=\"color: rgba(0,0,255,1)\">continued</span> to move about her room for so long a time that I <span style=\"color: rgba(0,0,255,1)\">had</span> fallen fast asleep, and <span style=\"color: rgba(0,0,255,1)\">even</span> then had not had enough, as they might have observed how <span style=\"color: rgba(0,0,255,1)\">sleepy</span> I had <span style=\"color: rgba(0,0,255,1)\">been</span> all <span style=\"color: rgba(0,0,255,1)\">day</span>"
      ],
      "text/plain": [
       "<IPython.core.display.HTML object>"
      ]
     },
     "metadata": {},
     "output_type": "display_data"
    },
    {
     "data": {
      "text/html": [
       "The next day I was <span style=\"color: rgba(255,0,0,0.5192674994468689)\">not</span> somnolent, of which you <span style=\"color: rgba(255,0,0,0.530771791934967)\">would</span> be sure Miss Frankland took <span style=\"color: rgba(255,0,0,0.5750942230224609)\">the</span> notice. She retired to her own room when we went for our <span style=\"color: rgba(255,0,0,0.5038456320762634)\">time</span>. My friends <span style=\"color: rgba(255,0,0,0.5486811399459839)\">was</span> <span style=\"color: rgba(255,0,0,0.5039689540863037)\">w</span> <span style=\"color: rgba(255,0,0,0.517892062664032)\">was</span> <span style=\"color: rgba(255,0,0,0.5709643959999084)\">you</span> for not coming to <span style=\"color: rgba(255,0,0,0.5175437927246094)\">him</span> the previous night, but I told them that <span style=\"color: rgba(255,0,0,0.661189615726471)\">the</span> parents had <span style=\"color: rgba(255,0,0,0.5092346668243408)\">was</span> to move about her room for so long a time that I <span style=\"color: rgba(255,0,0,0.582546055316925)\">had</span> fallen fast asleep, and <span style=\"color: rgba(255,0,0,0.5568325519561768)\">I</span> then had not had enough, as they might have observed how <span style=\"color: rgba(255,0,0,0.5579887628555298)\">and</span> I had <span style=\"color: rgba(255,0,0,0.5086991786956787)\">of</span> all<span style=\"color: rgba(255,0,0,0.5287373661994934)\">,</span>"
      ],
      "text/plain": [
       "<IPython.core.display.HTML object>"
      ]
     },
     "metadata": {},
     "output_type": "display_data"
    },
    {
     "data": {
      "text/plain": [
       "None"
      ]
     },
     "metadata": {},
     "output_type": "display_data"
    },
    {
     "data": {
      "text/html": [
       "The next day I was somewhat somnolent, next day I was somewhat somnolent, which you may be sure Miss Frankland took no notice. She retired to her own room when we went for our recreation. My friends scolded me for not coming to them the previous night, but I told them that my parents had continued to move about her room for so long a time that I had fallen fast asleep, and even then had not had enough, as they might have observed how sleepy I had been all day <span style=\"color: rgba(255,0,0,1)\">For</span> <span style=\"color: rgba(255,0,0,1)\">seventeen</span> <span style=\"color: rgba(255,0,0,1)\">me</span> <span style=\"color: rgba(255,0,0,1)\">after</span> <span style=\"color: rgba(255,0,0,1)\">fight</span> <span style=\"color: rgba(255,0,0,1)\">a</span> <span style=\"color: rgba(255,0,0,1)\">-</span><span style=\"color: rgba(255,0,0,1)\">,</span> <span style=\"color: rgba(255,0,0,1)\">strokes</span> <span style=\"color: rgba(255,0,0,1)\">confirmed</span>"
      ],
      "text/plain": [
       "<IPython.core.display.HTML object>"
      ]
     },
     "metadata": {},
     "output_type": "display_data"
    },
    {
     "name": "stdout",
     "output_type": "stream",
     "text": [
      "step 6010 loss 0.30641453247268996\n"
     ]
    },
    {
     "data": {
      "text/html": [
       "The next day I was somewhat <span style=\"color: rgba(0,0,255,1)\">so</span>mnolent, of which you may be sure Miss Frankland took no <span style=\"color: rgba(0,0,255,1)\">notice</span>. She retired to her <span style=\"color: rgba(0,0,255,1)\">own</span> room when we went for <span style=\"color: rgba(0,0,255,1)\">our</span> recreation. My friends scolded me for not coming to them <span style=\"color: rgba(0,0,255,1)\">the</span> previous night, <span style=\"color: rgba(0,0,255,1)\">but</span> I <span style=\"color: rgba(0,0,255,1)\">told</span> them that my parents had continued to move <span style=\"color: rgba(0,0,255,1)\">about</span> <span style=\"color: rgba(0,0,255,1)\">her</span> <span style=\"color: rgba(0,0,255,1)\">room</span> for so long a time that I had fallen fast asleep, and even then had not had enough, as they might have observed how sleepy I had been all <span style=\"color: rgba(0,0,255,1)\">day</span>"
      ],
      "text/plain": [
       "<IPython.core.display.HTML object>"
      ]
     },
     "metadata": {},
     "output_type": "display_data"
    },
    {
     "data": {
      "text/html": [
       "The next day I was somewhat <span style=\"color: rgba(255,0,0,0.5250372290611267)\">to</span>mnolent, of which you may be sure Miss Frankland took no <span style=\"color: rgba(255,0,0,0.5080268979072571)\">way</span>. She retired to her <span style=\"color: rgba(255,0,0,0.5107166767120361)\">long</span> room when we went for <span style=\"color: rgba(255,0,0,0.6069039106369019)\">the</span> recreation. My friends scolded me for not coming to them <span style=\"color: rgba(255,0,0,0.6185181736946106)\">the</span> previous night, <span style=\"color: rgba(255,0,0,0.7562112808227539)\">and</span> I <span style=\"color: rgba(255,0,0,0.5340941548347473)\">told</span> them that my parents had continued to move <span style=\"color: rgba(255,0,0,0.5788098573684692)\">to</span> <span style=\"color: rgba(255,0,0,0.6031506061553955)\">my</span> <span style=\"color: rgba(255,0,0,0.5072129964828491)\">world</span> for so long a time that I had fallen fast asleep, and even then had not had enough, as they might have observed how sleepy I had been all <span style=\"color: rgba(255,0,0,0.5122248530387878)\">all</span>"
      ],
      "text/plain": [
       "<IPython.core.display.HTML object>"
      ]
     },
     "metadata": {},
     "output_type": "display_data"
    },
    {
     "data": {
      "text/plain": [
       "None"
      ]
     },
     "metadata": {},
     "output_type": "display_data"
    },
    {
     "data": {
      "text/html": [
       "The next day I was somewhat somnolent, next day I was somewhat somnolent, which you may be sure Miss Frankland took no notice. She retired to her own room when we went for our recreation. My friends scolded me for not coming to them the previous night, but I told them that my parents had continued to move about her room for so long a time that I had fallen fast asleep, and even then had not had enough, as they might have observed how sleepy I had been all day<span style=\"color: rgba(255,0,0,1)\">.</span> <span style=\"color: rgba(255,0,0,1)\">was</span> <span style=\"color: rgba(255,0,0,1)\">through</span> <span style=\"color: rgba(255,0,0,1)\">that</span> <span style=\"color: rgba(255,0,0,1)\">an</span><span style=\"color: rgba(255,0,0,1)\">;</span> <span style=\"color: rgba(255,0,0,1)\">camp</span> <span style=\"color: rgba(255,0,0,1)\">field</span> <span style=\"color: rgba(255,0,0,1)\">/</span> <span style=\"color: rgba(255,0,0,1)\">and</span>"
      ],
      "text/plain": [
       "<IPython.core.display.HTML object>"
      ]
     },
     "metadata": {},
     "output_type": "display_data"
    },
    {
     "name": "stdout",
     "output_type": "stream",
     "text": [
      "step 9010 loss 0.26216001593569915\n"
     ]
    },
    {
     "data": {
      "text/html": [
       "The next day I was <span style=\"color: rgba(0,0,255,1)\">somewhat</span> so<span style=\"color: rgba(0,0,255,1)\">m</span><span style=\"color: rgba(0,0,255,1)\">no</span>lent, of which you may be sure Miss Frankland <span style=\"color: rgba(0,0,255,1)\">took</span> <span style=\"color: rgba(0,0,255,1)\">no</span> <span style=\"color: rgba(0,0,255,1)\">notice</span>. She retired to her own room when we went for our recreation. My friends scolded me for not coming to them the previous night<span style=\"color: rgba(0,0,255,1)\">,</span> but I told them that my parents had continued to <span style=\"color: rgba(0,0,255,1)\">move</span> about her room for so long a time that I had fallen fast asleep, and even then had not had enough<span style=\"color: rgba(0,0,255,1)\">,</span> as <span style=\"color: rgba(0,0,255,1)\">they</span> might have observed how sleepy I had been all <span style=\"color: rgba(0,0,255,1)\">day</span>"
      ],
      "text/plain": [
       "<IPython.core.display.HTML object>"
      ]
     },
     "metadata": {},
     "output_type": "display_data"
    },
    {
     "data": {
      "text/html": [
       "The next day I was <span style=\"color: rgba(255,0,0,0.705635666847229)\">not</span> so <span style=\"color: rgba(255,0,0,0.518595278263092)\">t</span><span style=\"color: rgba(255,0,0,0.5092588663101196)\">ly</span>lent, of which you may be sure Miss Frankland <span style=\"color: rgba(255,0,0,0.7729959487915039)\">had</span> <span style=\"color: rgba(255,0,0,0.5422518253326416)\">be</span> <span style=\"color: rgba(255,0,0,0.5253651738166809)\">myself</span>. She retired to her own room when we went for our recreation. My friends scolded me for not coming to them the previous night<span style=\"color: rgba(255,0,0,0.8664265275001526)\">,</span> but I told them that my parents had continued to <span style=\"color: rgba(255,0,0,0.5233882665634155)\">go</span> about her room for so long a time that I had fallen fast asleep, and even then had not had enough<span style=\"color: rgba(255,0,0,0.8035210967063904)\">,</span> as <span style=\"color: rgba(255,0,0,0.7804440855979919)\">I</span> might have observed how sleepy I had been all <span style=\"color: rgba(255,0,0,0.5252227783203125)\">like</span>"
      ],
      "text/plain": [
       "<IPython.core.display.HTML object>"
      ]
     },
     "metadata": {},
     "output_type": "display_data"
    },
    {
     "data": {
      "text/plain": [
       "None"
      ]
     },
     "metadata": {},
     "output_type": "display_data"
    },
    {
     "data": {
      "text/html": [
       "The next day I was somewhat somnolent, next day I was somewhat somnolent, which you may be sure Miss Frankland took no notice. She retired to her own room when we went for our recreation. My friends scolded me for not coming to them the previous night, but I told them that my parents had continued to move about her room for so long a time that I had fallen fast asleep, and even then had not had enough, as they might have observed how sleepy I had been all day<span style=\"color: rgba(255,0,0,1)\">.</span> <span style=\"color: rgba(255,0,0,1)\">the</span> <span style=\"color: rgba(255,0,0,1)\">first</span> <span style=\"color: rgba(255,0,0,1)\">and</span> <span style=\"color: rgba(255,0,0,1)\">our</span><span style=\"color: rgba(255,0,0,1)\">i</span> <span style=\"color: rgba(255,0,0,1)\">youth</span><span style=\"color: rgba(255,0,0,1)\">,</span> <span style=\"color: rgba(255,0,0,1)\">opinion</span> <span style=\"color: rgba(255,0,0,1)\">included</span>"
      ],
      "text/plain": [
       "<IPython.core.display.HTML object>"
      ]
     },
     "metadata": {},
     "output_type": "display_data"
    },
    {
     "name": "stdout",
     "output_type": "stream",
     "text": [
      "step 12010 loss 0.23386246363321941\n"
     ]
    },
    {
     "data": {
      "text/html": [
       "The next <span style=\"color: rgba(0,0,255,1)\">day</span> I was somewhat <span style=\"color: rgba(0,0,255,1)\">so</span>mnolent<span style=\"color: rgba(0,0,255,1)\">,</span> of which you may be sure Miss Frankland took no <span style=\"color: rgba(0,0,255,1)\">notice</span><span style=\"color: rgba(0,0,255,1)\">.</span> She retired to her own room when we went for our recreation. My friends sco<span style=\"color: rgba(0,0,255,1)\">lded</span> me for not coming to them the previous night, but I told them that my <span style=\"color: rgba(0,0,255,1)\">parents</span> had continued to move about her room <span style=\"color: rgba(0,0,255,1)\">for</span> so <span style=\"color: rgba(0,0,255,1)\">long</span> a time <span style=\"color: rgba(0,0,255,1)\">that</span> <span style=\"color: rgba(0,0,255,1)\">I</span> had fallen fast asleep, and even then had not had enough, as they might have observed how sleepy I <span style=\"color: rgba(0,0,255,1)\">had</span> been all <span style=\"color: rgba(0,0,255,1)\">day</span>"
      ],
      "text/plain": [
       "<IPython.core.display.HTML object>"
      ]
     },
     "metadata": {},
     "output_type": "display_data"
    },
    {
     "data": {
      "text/html": [
       "The next <span style=\"color: rgba(255,0,0,0.6237729787826538)\">day</span> I was somewhat <span style=\"color: rgba(255,0,0,0.5839890241622925)\">so</span>mnolent<span style=\"color: rgba(255,0,0,0.9611063599586487)\">,</span> of which you may be sure Miss Frankland took no <span style=\"color: rgba(255,0,0,0.505682647228241)\">notice</span><span style=\"color: rgba(255,0,0,0.9795423746109009)\">.</span> She retired to her own room when we went for our recreation. My friends sco<span style=\"color: rgba(255,0,0,0.5050289034843445)\">bey</span> me for not coming to them the previous night, but I told them that my <span style=\"color: rgba(255,0,0,0.5172149538993835)\">friends</span> had continued to move about her room <span style=\"color: rgba(255,0,0,0.6119107604026794)\">for</span> so <span style=\"color: rgba(255,0,0,0.5323099493980408)\">in</span> a time<span style=\"color: rgba(255,0,0,0.5830754637718201)\">,</span> <span style=\"color: rgba(255,0,0,0.8612561225891113)\">I</span> had fallen fast asleep, and even then had not had enough, as they might have observed how sleepy I <span style=\"color: rgba(255,0,0,0.9558829665184021)\">had</span> been all <span style=\"color: rgba(255,0,0,0.5472778677940369)\">the</span>"
      ],
      "text/plain": [
       "<IPython.core.display.HTML object>"
      ]
     },
     "metadata": {},
     "output_type": "display_data"
    },
    {
     "data": {
      "text/plain": [
       "None"
      ]
     },
     "metadata": {},
     "output_type": "display_data"
    },
    {
     "data": {
      "text/html": [
       "The next day I was somewhat somnolent, next day I was somewhat somnolent, which you may be sure Miss Frankland took no notice. She retired to her own room when we went for our recreation. My friends scolded me for not coming to them the previous night, but I told them that my parents had continued to move about her room for so long a time that I had fallen fast asleep, and even then had not had enough, as they might have observed how sleepy I had been all day<span style=\"color: rgba(255,0,0,1)\">.</span> <span style=\"color: rgba(255,0,0,1)\">I</span> <span style=\"color: rgba(255,0,0,1)\">well</span> <span style=\"color: rgba(255,0,0,1)\">ready</span> <span style=\"color: rgba(255,0,0,1)\">all</span> <span style=\"color: rgba(255,0,0,1)\">I</span> <span style=\"color: rgba(255,0,0,1)\">home</span> <span style=\"color: rgba(255,0,0,1)\">of</span> <span style=\"color: rgba(255,0,0,1)\">shelter</span> <span style=\"color: rgba(255,0,0,1)\">on</span>"
      ],
      "text/plain": [
       "<IPython.core.display.HTML object>"
      ]
     },
     "metadata": {},
     "output_type": "display_data"
    },
    {
     "name": "stdout",
     "output_type": "stream",
     "text": [
      "step 15010 loss 0.2147083521882693\n"
     ]
    },
    {
     "data": {
      "text/html": [
       "The <span style=\"color: rgba(0,0,255,1)\">next</span> day I was somewhat somnolent, of which you may <span style=\"color: rgba(0,0,255,1)\">be</span> sure Miss Frankland took no notice<span style=\"color: rgba(0,0,255,1)\">.</span> She retired to her own room when we went for our recreation. My friends scolded me for not coming to them the previous night, but I told <span style=\"color: rgba(0,0,255,1)\">them</span> that my parents had continued to move about her room for so long a time that <span style=\"color: rgba(0,0,255,1)\">I</span> had fallen fast asleep, and even then had not had enough, <span style=\"color: rgba(0,0,255,1)\">as</span> they might have observed how sleepy I had <span style=\"color: rgba(0,0,255,1)\">been</span> all <span style=\"color: rgba(0,0,255,1)\">day</span>"
      ],
      "text/plain": [
       "<IPython.core.display.HTML object>"
      ]
     },
     "metadata": {},
     "output_type": "display_data"
    },
    {
     "data": {
      "text/html": [
       "The <span style=\"color: rgba(255,0,0,0.6253427267074585)\">first</span> day I was somewhat somnolent, of which you may <span style=\"color: rgba(255,0,0,0.8031340837478638)\">be</span> sure Miss Frankland took no notice<span style=\"color: rgba(255,0,0,0.9897925853729248)\">.</span> She retired to her own room when we went for our recreation. My friends scolded me for not coming to them the previous night, but I told <span style=\"color: rgba(255,0,0,0.7760485410690308)\">her</span> that my parents had continued to move about her room for so long a time that <span style=\"color: rgba(255,0,0,0.7398895621299744)\">I</span> had fallen fast asleep, and even then had not had enough, <span style=\"color: rgba(255,0,0,0.7267454266548157)\">that</span> they might have observed how sleepy I had <span style=\"color: rgba(255,0,0,0.8338257670402527)\">been</span> all<span style=\"color: rgba(255,0,0,0.5705365538597107)\">.</span>"
      ],
      "text/plain": [
       "<IPython.core.display.HTML object>"
      ]
     },
     "metadata": {},
     "output_type": "display_data"
    },
    {
     "data": {
      "text/plain": [
       "None"
      ]
     },
     "metadata": {},
     "output_type": "display_data"
    },
    {
     "data": {
      "text/html": [
       "The next day I was somewhat somnolent, next day I was somewhat somnolent, which you may be sure Miss Frankland took no notice. She retired to her own room when we went for our recreation. My friends scolded me for not coming to them the previous night, but I told them that my parents had continued to move about her room for so long a time that I had fallen fast asleep, and even then had not had enough, as they might have observed how sleepy I had been all day<span style=\"color: rgba(255,0,0,1)\">.</span> <span style=\"color: rgba(255,0,0,1)\">will</span><span style=\"color: rgba(255,0,0,1)\">,</span> <span style=\"color: rgba(255,0,0,1)\">in</span> <span style=\"color: rgba(255,0,0,1)\">and</span><span style=\"color: rgba(255,0,0,1)\">,</span><span style=\"color: rgba(255,0,0,1)\">,</span><span style=\"color: rgba(255,0,0,1)\">,</span> <span style=\"color: rgba(255,0,0,1)\">office</span> <span style=\"color: rgba(255,0,0,1)\">do</span>"
      ],
      "text/plain": [
       "<IPython.core.display.HTML object>"
      ]
     },
     "metadata": {},
     "output_type": "display_data"
    },
    {
     "name": "stdout",
     "output_type": "stream",
     "text": [
      "step 18010 loss 0.19981040250261625\n"
     ]
    },
    {
     "data": {
      "text/html": [
       "The next day I was somewhat <span style=\"color: rgba(0,0,255,1)\">so</span>mnolent<span style=\"color: rgba(0,0,255,1)\">,</span> of which you may be sure Miss Frankland took no notice. She retired to her own room when we went for our recreation. My friends scolded me for not <span style=\"color: rgba(0,0,255,1)\">coming</span> to them the previous night, but I told them that my <span style=\"color: rgba(0,0,255,1)\">parents</span> had continued to move <span style=\"color: rgba(0,0,255,1)\">about</span> her room for so long a time that I had fallen fast asleep, and even then had not <span style=\"color: rgba(0,0,255,1)\">had</span> enough, as they might have observed how sleepy I had been all <span style=\"color: rgba(0,0,255,1)\">day</span>"
      ],
      "text/plain": [
       "<IPython.core.display.HTML object>"
      ]
     },
     "metadata": {},
     "output_type": "display_data"
    },
    {
     "data": {
      "text/html": [
       "The next day I was somewhat <span style=\"color: rgba(255,0,0,0.8572108745574951)\">so</span>mnolent<span style=\"color: rgba(255,0,0,0.9740242958068848)\">,</span> of which you may be sure Miss Frankland took no notice. She retired to her own room when we went for our recreation. My friends scolded me for not <span style=\"color: rgba(255,0,0,0.5435221195220947)\">coming</span> to them the previous night, but I told them that my <span style=\"color: rgba(255,0,0,0.5473310947418213)\">friends</span> had continued to move <span style=\"color: rgba(255,0,0,0.6819190382957458)\">in</span> her room for so long a time that I had fallen fast asleep, and even then had not <span style=\"color: rgba(255,0,0,0.6369229555130005)\">been</span> enough, as they might have observed how sleepy I had been all <span style=\"color: rgba(255,0,0,0.5365170240402222)\">the</span>"
      ],
      "text/plain": [
       "<IPython.core.display.HTML object>"
      ]
     },
     "metadata": {},
     "output_type": "display_data"
    },
    {
     "data": {
      "text/plain": [
       "None"
      ]
     },
     "metadata": {},
     "output_type": "display_data"
    },
    {
     "data": {
      "text/html": [
       "The next day I was somewhat somnolent, next day I was somewhat somnolent, which you may be sure Miss Frankland took no notice. She retired to her own room when we went for our recreation. My friends scolded me for not coming to them the previous night, but I told them that my parents had continued to move about her room for so long a time that I had fallen fast asleep, and even then had not had enough, as they might have observed how sleepy I had been all day <span style=\"color: rgba(255,0,0,1)\">so</span> <span style=\"color: rgba(255,0,0,1)\">soon</span> <span style=\"color: rgba(255,0,0,1)\">frightened</span> <span style=\"color: rgba(255,0,0,1)\">to</span> <span style=\"color: rgba(255,0,0,1)\">I</span> <span style=\"color: rgba(255,0,0,1)\">time</span> <span style=\"color: rgba(255,0,0,1)\">had</span> <span style=\"color: rgba(255,0,0,1)\">and</span> <span style=\"color: rgba(255,0,0,1)\">Friday</span> <span style=\"color: rgba(255,0,0,1)\">appear</span>"
      ],
      "text/plain": [
       "<IPython.core.display.HTML object>"
      ]
     },
     "metadata": {},
     "output_type": "display_data"
    },
    {
     "name": "stdout",
     "output_type": "stream",
     "text": [
      "step 21010 loss 0.18720699629187584\n"
     ]
    },
    {
     "data": {
      "text/html": [
       "The next day <span style=\"color: rgba(0,0,255,1)\">I</span> was somewhat somnolent, of <span style=\"color: rgba(0,0,255,1)\">which</span> you may be sure Miss Frankland took no notice<span style=\"color: rgba(0,0,255,1)\">.</span> She retired to her <span style=\"color: rgba(0,0,255,1)\">own</span> room when <span style=\"color: rgba(0,0,255,1)\">we</span> went for our recreation. My friends scolded me for not coming to them the previous night<span style=\"color: rgba(0,0,255,1)\">,</span> but I told them that <span style=\"color: rgba(0,0,255,1)\">my</span> parents had continued to move about her room for so long a time that I had fallen fast asleep, and even then had not had enough, as they might have observed <span style=\"color: rgba(0,0,255,1)\">how</span> sleepy <span style=\"color: rgba(0,0,255,1)\">I</span> had been all <span style=\"color: rgba(0,0,255,1)\">day</span>"
      ],
      "text/plain": [
       "<IPython.core.display.HTML object>"
      ]
     },
     "metadata": {},
     "output_type": "display_data"
    },
    {
     "data": {
      "text/html": [
       "The next day <span style=\"color: rgba(255,0,0,0.6883020997047424)\">I</span> was somewhat somnolent, of <span style=\"color: rgba(255,0,0,0.8648556470870972)\">which</span> you may be sure Miss Frankland took no notice<span style=\"color: rgba(255,0,0,0.996345579624176)\">.</span> She retired to her <span style=\"color: rgba(255,0,0,0.5590828061103821)\">own</span> room when <span style=\"color: rgba(255,0,0,0.7529252767562866)\">we</span> went for our recreation. My friends scolded me for not coming to them the previous night<span style=\"color: rgba(255,0,0,0.9205626249313354)\">,</span> but I told them that <span style=\"color: rgba(255,0,0,0.9255006313323975)\">my</span> parents had continued to move about her room for so long a time that I had fallen fast asleep, and even then had not had enough, as they might have observed <span style=\"color: rgba(255,0,0,0.6669524312019348)\">that</span> sleepy <span style=\"color: rgba(255,0,0,0.5234780311584473)\">she</span> had been all<span style=\"color: rgba(255,0,0,0.5223290324211121)\">.</span>"
      ],
      "text/plain": [
       "<IPython.core.display.HTML object>"
      ]
     },
     "metadata": {},
     "output_type": "display_data"
    },
    {
     "data": {
      "text/plain": [
       "None"
      ]
     },
     "metadata": {},
     "output_type": "display_data"
    },
    {
     "data": {
      "text/html": [
       "The next day I was somewhat somnolent, next day I was somewhat somnolent, which you may be sure Miss Frankland took no notice. She retired to her own room when we went for our recreation. My friends scolded me for not coming to them the previous night, but I told them that my parents had continued to move about her room for so long a time that I had fallen fast asleep, and even then had not had enough, as they might have observed how sleepy I had been all day<span style=\"color: rgba(255,0,0,1)\">-</span><span style=\"color: rgba(255,0,0,1)\">modest</span> <span style=\"color: rgba(255,0,0,1)\">night</span> <span style=\"color: rgba(255,0,0,1)\">to</span> <span style=\"color: rgba(255,0,0,1)\">as</span> <span style=\"color: rgba(255,0,0,1)\">was</span> <span style=\"color: rgba(255,0,0,1)\">in</span><span style=\"color: rgba(255,0,0,1)\">-</span><span style=\"color: rgba(255,0,0,1)\">calling</span> <span style=\"color: rgba(255,0,0,1)\">along</span>"
      ],
      "text/plain": [
       "<IPython.core.display.HTML object>"
      ]
     },
     "metadata": {},
     "output_type": "display_data"
    },
    {
     "name": "stdout",
     "output_type": "stream",
     "text": [
      "step 24010 loss 0.17797977252552907\n"
     ]
    },
    {
     "data": {
      "text/html": [
       "The next day I was somewhat so<span style=\"color: rgba(0,0,255,1)\">m</span>nolent, of which <span style=\"color: rgba(0,0,255,1)\">you</span> may be sure <span style=\"color: rgba(0,0,255,1)\">Miss</span> Frankland took no <span style=\"color: rgba(0,0,255,1)\">notice</span>. She retired to <span style=\"color: rgba(0,0,255,1)\">her</span> <span style=\"color: rgba(0,0,255,1)\">own</span> room when we <span style=\"color: rgba(0,0,255,1)\">went</span> for our recreation<span style=\"color: rgba(0,0,255,1)\">.</span> My friends scolded me <span style=\"color: rgba(0,0,255,1)\">for</span> not coming to them the previous night, <span style=\"color: rgba(0,0,255,1)\">but</span> I told them that my parents had continued to move about her room for so long a time that I had fallen fast asleep, and even then had not had enough, as they might have observed how <span style=\"color: rgba(0,0,255,1)\">sleepy</span> I had been all <span style=\"color: rgba(0,0,255,1)\">day</span>"
      ],
      "text/plain": [
       "<IPython.core.display.HTML object>"
      ]
     },
     "metadata": {},
     "output_type": "display_data"
    },
    {
     "data": {
      "text/html": [
       "The next day I was somewhat so <span style=\"color: rgba(255,0,0,0.526929497718811)\">un</span>nolent, of which <span style=\"color: rgba(255,0,0,0.611652672290802)\">you</span> may be sure <span style=\"color: rgba(255,0,0,0.9199298024177551)\">that</span> Frankland took no <span style=\"color: rgba(255,0,0,0.517816424369812)\">chances</span>. She retired to <span style=\"color: rgba(255,0,0,0.8989412784576416)\">her</span> <span style=\"color: rgba(255,0,0,0.6700285077095032)\">her</span> room when we <span style=\"color: rgba(255,0,0,0.5426308512687683)\">waited</span> for our recreation<span style=\"color: rgba(255,0,0,0.9967944622039795)\">.</span> My friends scolded me <span style=\"color: rgba(255,0,0,0.875704288482666)\">for</span> not coming to them the previous night, <span style=\"color: rgba(255,0,0,0.7497029900550842)\">and</span> I told them that my parents had continued to move about her room for so long a time that I had fallen fast asleep, and even then had not had enough, as they might have observed how <span style=\"color: rgba(255,0,0,0.5261813402175903)\">sick</span> I had been all <span style=\"color: rgba(255,0,0,0.5428187251091003)\">the</span>"
      ],
      "text/plain": [
       "<IPython.core.display.HTML object>"
      ]
     },
     "metadata": {},
     "output_type": "display_data"
    },
    {
     "data": {
      "text/plain": [
       "None"
      ]
     },
     "metadata": {},
     "output_type": "display_data"
    },
    {
     "data": {
      "text/html": [
       "The next day I was somewhat somnolent, next day I was somewhat somnolent, which you may be sure Miss Frankland took no notice. She retired to her own room when we went for our recreation. My friends scolded me for not coming to them the previous night, but I told them that my parents had continued to move about her room for so long a time that I had fallen fast asleep, and even then had not had enough, as they might have observed how sleepy I had been all day<span style=\"color: rgba(255,0,0,1)\">.</span> <span style=\"color: rgba(255,0,0,1)\">upon</span><span style=\"color: rgba(255,0,0,1)\">ly</span> <span style=\"color: rgba(255,0,0,1)\">and</span> <span style=\"color: rgba(255,0,0,1)\">vicious</span> <span style=\"color: rgba(255,0,0,1)\">and</span> <span style=\"color: rgba(255,0,0,1)\">only</span> <span style=\"color: rgba(255,0,0,1)\">we</span> <span style=\"color: rgba(255,0,0,1)\">bathroom</span> <span style=\"color: rgba(255,0,0,1)\">invited</span>"
      ],
      "text/plain": [
       "<IPython.core.display.HTML object>"
      ]
     },
     "metadata": {},
     "output_type": "display_data"
    },
    {
     "name": "stdout",
     "output_type": "stream",
     "text": [
      "step 27010 loss 0.17040922058870395\n"
     ]
    },
    {
     "data": {
      "text/html": [
       "The next <span style=\"color: rgba(0,0,255,1)\">day</span> I was somewhat somnolent, of which you may be sure Miss Frankland took no notice. She retired <span style=\"color: rgba(0,0,255,1)\">to</span> her own room when we went for our recreation. My friends scolded me for not coming to them the previous night, <span style=\"color: rgba(0,0,255,1)\">but</span> I told them that my parents <span style=\"color: rgba(0,0,255,1)\">had</span> continued to move about her room for so long a time that I had fallen fast asleep<span style=\"color: rgba(0,0,255,1)\">,</span> <span style=\"color: rgba(0,0,255,1)\">and</span> even then had not had enough, as they might <span style=\"color: rgba(0,0,255,1)\">have</span> observed <span style=\"color: rgba(0,0,255,1)\">how</span> sleepy I had been <span style=\"color: rgba(0,0,255,1)\">all</span> <span style=\"color: rgba(0,0,255,1)\">day</span>"
      ],
      "text/plain": [
       "<IPython.core.display.HTML object>"
      ]
     },
     "metadata": {},
     "output_type": "display_data"
    },
    {
     "data": {
      "text/html": [
       "The next <span style=\"color: rgba(255,0,0,0.7146221995353699)\">night</span> I was somewhat somnolent, of which you may be sure Miss Frankland took no notice. She retired <span style=\"color: rgba(255,0,0,0.7709109783172607)\">to</span> her own room when we went for our recreation. My friends scolded me for not coming to them the previous night, <span style=\"color: rgba(255,0,0,0.8791478276252747)\">and</span> I told them that my parents <span style=\"color: rgba(255,0,0,0.9955594539642334)\">had</span> continued to move about her room for so long a time that I had fallen fast asleep<span style=\"color: rgba(255,0,0,0.7009880542755127)\">,</span> <span style=\"color: rgba(255,0,0,0.9452519416809082)\">and</span> even then had not had enough, as they might <span style=\"color: rgba(255,0,0,0.889516294002533)\">have</span> observed <span style=\"color: rgba(255,0,0,0.737099289894104)\">how</span> sleepy I had been <span style=\"color: rgba(255,0,0,0.9941295385360718)\">all</span> <span style=\"color: rgba(255,0,0,0.5408034324645996)\">over</span>"
      ],
      "text/plain": [
       "<IPython.core.display.HTML object>"
      ]
     },
     "metadata": {},
     "output_type": "display_data"
    },
    {
     "data": {
      "text/plain": [
       "None"
      ]
     },
     "metadata": {},
     "output_type": "display_data"
    },
    {
     "data": {
      "text/html": [
       "The next day I was somewhat somnolent, next day I was somewhat somnolent, which you may be sure Miss Frankland took no notice. She retired to her own room when we went for our recreation. My friends scolded me for not coming to them the previous night, but I told them that my parents had continued to move about her room for so long a time that I had fallen fast asleep, and even then had not had enough, as they might have observed how sleepy I had been all day <span style=\"color: rgba(255,0,0,1)\">much</span> <span style=\"color: rgba(255,0,0,1)\">have</span><span style=\"color: rgba(255,0,0,1)\">.</span> <span style=\"color: rgba(255,0,0,1)\">will</span> <span style=\"color: rgba(255,0,0,1)\">myself</span> <span style=\"color: rgba(255,0,0,1)\">finished</span><span style=\"color: rgba(255,0,0,1)\">,</span><span style=\"color: rgba(255,0,0,1)\">,</span> <span style=\"color: rgba(255,0,0,1)\">mornings</span> <span style=\"color: rgba(255,0,0,1)\">days</span>"
      ],
      "text/plain": [
       "<IPython.core.display.HTML object>"
      ]
     },
     "metadata": {},
     "output_type": "display_data"
    },
    {
     "name": "stdout",
     "output_type": "stream",
     "text": [
      "step 30010 loss 0.1651784055903554\n"
     ]
    },
    {
     "data": {
      "text/html": [
       "The next day I was somewhat som<span style=\"color: rgba(0,0,255,1)\">no</span>lent, of which you may be sure Miss <span style=\"color: rgba(0,0,255,1)\">Frank</span>land took no notice. She retired to <span style=\"color: rgba(0,0,255,1)\">her</span> own room when we went for our recreation. My friends scolded me for not coming to them the previous night, but I <span style=\"color: rgba(0,0,255,1)\">told</span> them that my parents had continued to move about <span style=\"color: rgba(0,0,255,1)\">her</span> room for so long a time that I had fallen fast asleep, and even then had not had enough, as they might have observed how sleepy I had been all <span style=\"color: rgba(0,0,255,1)\">day</span>"
      ],
      "text/plain": [
       "<IPython.core.display.HTML object>"
      ]
     },
     "metadata": {},
     "output_type": "display_data"
    },
    {
     "data": {
      "text/html": [
       "The next day I was somewhat som<span style=\"color: rgba(255,0,0,0.58887779712677)\">no</span>lent, of which you may be sure Miss <span style=\"color: rgba(255,0,0,0.5121460556983948)\">Grant</span>land took no notice. She retired to <span style=\"color: rgba(255,0,0,0.97205650806427)\">her</span> own room when we went for our recreation. My friends scolded me for not coming to them the previous night, but I <span style=\"color: rgba(255,0,0,0.8366163969039917)\">told</span> them that my parents had continued to move about <span style=\"color: rgba(255,0,0,0.7308018803596497)\">my</span> room for so long a time that I had fallen fast asleep, and even then had not had enough, as they might have observed how sleepy I had been all <span style=\"color: rgba(255,0,0,0.6160162687301636)\">day</span>"
      ],
      "text/plain": [
       "<IPython.core.display.HTML object>"
      ]
     },
     "metadata": {},
     "output_type": "display_data"
    },
    {
     "data": {
      "text/plain": [
       "None"
      ]
     },
     "metadata": {},
     "output_type": "display_data"
    },
    {
     "data": {
      "text/html": [
       "The next day I was somewhat somnolent, next day I was somewhat somnolent, which you may be sure Miss Frankland took no notice. She retired to her own room when we went for our recreation. My friends scolded me for not coming to them the previous night, but I told them that my parents had continued to move about her room for so long a time that I had fallen fast asleep, and even then had not had enough, as they might have observed how sleepy I had been all day <span style=\"color: rgba(255,0,0,1)\">vigorously</span> <span style=\"color: rgba(255,0,0,1)\">I</span> <span style=\"color: rgba(255,0,0,1)\">fast</span> <span style=\"color: rgba(255,0,0,1)\">horror</span> <span style=\"color: rgba(255,0,0,1)\">when</span> <span style=\"color: rgba(255,0,0,1)\">returned</span> <span style=\"color: rgba(255,0,0,1)\">again</span> <span style=\"color: rgba(255,0,0,1)\">for</span> <span style=\"color: rgba(255,0,0,1)\">here</span><span style=\"color: rgba(255,0,0,1)\">,</span>"
      ],
      "text/plain": [
       "<IPython.core.display.HTML object>"
      ]
     },
     "metadata": {},
     "output_type": "display_data"
    },
    {
     "name": "stdout",
     "output_type": "stream",
     "text": [
      "step 33010 loss 0.16052941555778186\n"
     ]
    },
    {
     "data": {
      "text/html": [
       "The next day I was somewhat som<span style=\"color: rgba(0,0,255,1)\">no</span>lent, of which you may be sure Miss Frankland took no <span style=\"color: rgba(0,0,255,1)\">notice</span>. She retired to her own room when <span style=\"color: rgba(0,0,255,1)\">we</span> went for our recreation. My friends <span style=\"color: rgba(0,0,255,1)\">s</span>colded me <span style=\"color: rgba(0,0,255,1)\">for</span> not <span style=\"color: rgba(0,0,255,1)\">coming</span> to them the previous night, but I told them that my parents had continued to move about her room for so long a time that I had fallen <span style=\"color: rgba(0,0,255,1)\">fast</span> asleep, and even then had not had enough, as they might have observed how sleepy I had <span style=\"color: rgba(0,0,255,1)\">been</span> all <span style=\"color: rgba(0,0,255,1)\">day</span>"
      ],
      "text/plain": [
       "<IPython.core.display.HTML object>"
      ]
     },
     "metadata": {},
     "output_type": "display_data"
    },
    {
     "data": {
      "text/html": [
       "The next day I was somewhat som<span style=\"color: rgba(255,0,0,0.6703404784202576)\">no</span>lent, of which you may be sure Miss Frankland took no <span style=\"color: rgba(255,0,0,0.5376162528991699)\">part</span>. She retired to her own room when <span style=\"color: rgba(255,0,0,0.9876030683517456)\">we</span> went for our recreation. My friends <span style=\"color: rgba(255,0,0,0.9829874038696289)\">s</span>colded me <span style=\"color: rgba(255,0,0,0.7935146689414978)\">for</span> not <span style=\"color: rgba(255,0,0,0.5848533511161804)\">return</span> to them the previous night, but I told them that my parents had continued to move about her room for so long a time that I had fallen <span style=\"color: rgba(255,0,0,0.5476805567741394)\">almost</span> asleep, and even then had not had enough, as they might have observed how sleepy I had <span style=\"color: rgba(255,0,0,0.9437018036842346)\">been</span> all <span style=\"color: rgba(255,0,0,0.5612461566925049)\">time</span>"
      ],
      "text/plain": [
       "<IPython.core.display.HTML object>"
      ]
     },
     "metadata": {},
     "output_type": "display_data"
    },
    {
     "data": {
      "text/plain": [
       "None"
      ]
     },
     "metadata": {},
     "output_type": "display_data"
    },
    {
     "data": {
      "text/html": [
       "The next day I was somewhat somnolent, next day I was somewhat somnolent, which you may be sure Miss Frankland took no notice. She retired to her own room when we went for our recreation. My friends scolded me for not coming to them the previous night, but I told them that my parents had continued to move about her room for so long a time that I had fallen fast asleep, and even then had not had enough, as they might have observed how sleepy I had been all day <span style=\"color: rgba(255,0,0,1)\">She</span> <span style=\"color: rgba(255,0,0,1)\">her</span> <span style=\"color: rgba(255,0,0,1)\">Convent</span> <span style=\"color: rgba(255,0,0,1)\">while</span> <span style=\"color: rgba(255,0,0,1)\">also</span><span style=\"color: rgba(255,0,0,1)\">,</span><span style=\"color: rgba(255,0,0,1)\">.</span><span style=\"color: rgba(255,0,0,1)\">,</span> <span style=\"color: rgba(255,0,0,1)\">back</span> <span style=\"color: rgba(255,0,0,1)\">sleep</span>"
      ],
      "text/plain": [
       "<IPython.core.display.HTML object>"
      ]
     },
     "metadata": {},
     "output_type": "display_data"
    },
    {
     "name": "stdout",
     "output_type": "stream",
     "text": [
      "step 36010 loss 0.15717797203858694\n"
     ]
    },
    {
     "data": {
      "text/html": [
       "The next day I was somewhat somnolent, of which you may be sure Miss Frankland took no notice. She retired to her own room when we went <span style=\"color: rgba(0,0,255,1)\">for</span> our recreation. My <span style=\"color: rgba(0,0,255,1)\">friends</span> scolded me for not coming to them the previous night, but I told <span style=\"color: rgba(0,0,255,1)\">them</span> that my parents had continued to <span style=\"color: rgba(0,0,255,1)\">move</span> <span style=\"color: rgba(0,0,255,1)\">about</span> <span style=\"color: rgba(0,0,255,1)\">her</span> room for <span style=\"color: rgba(0,0,255,1)\">so</span> long <span style=\"color: rgba(0,0,255,1)\">a</span> time that I had <span style=\"color: rgba(0,0,255,1)\">fallen</span> fast asleep, and even <span style=\"color: rgba(0,0,255,1)\">then</span> had not had enough, as they might have <span style=\"color: rgba(0,0,255,1)\">observed</span> how sleepy I had been all <span style=\"color: rgba(0,0,255,1)\">day</span>"
      ],
      "text/plain": [
       "<IPython.core.display.HTML object>"
      ]
     },
     "metadata": {},
     "output_type": "display_data"
    },
    {
     "data": {
      "text/html": [
       "The next day I was somewhat somnolent, of which you may be sure Miss Frankland took no notice. She retired to her own room when we went <span style=\"color: rgba(255,0,0,0.7343383431434631)\">to</span> our recreation. My <span style=\"color: rgba(255,0,0,0.6676899790763855)\">parents</span> scolded me for not coming to them the previous night, but I told <span style=\"color: rgba(255,0,0,0.609025776386261)\">them</span> that my parents had continued to <span style=\"color: rgba(255,0,0,0.5556337237358093)\">be</span> <span style=\"color: rgba(255,0,0,0.6593376398086548)\">in</span> <span style=\"color: rgba(255,0,0,0.6737008094787598)\">my</span> room for <span style=\"color: rgba(255,0,0,0.7015689015388489)\">so</span> long <span style=\"color: rgba(255,0,0,0.6089129447937012)\">enough</span> time that I had <span style=\"color: rgba(255,0,0,0.6435157656669617)\">fallen</span> fast asleep, and even <span style=\"color: rgba(255,0,0,0.6969307661056519)\">I</span> had not had enough, as they might have <span style=\"color: rgba(255,0,0,0.5593593120574951)\">thought</span> how sleepy I had been all <span style=\"color: rgba(255,0,0,0.6031506061553955)\">the</span>"
      ],
      "text/plain": [
       "<IPython.core.display.HTML object>"
      ]
     },
     "metadata": {},
     "output_type": "display_data"
    },
    {
     "data": {
      "text/plain": [
       "None"
      ]
     },
     "metadata": {},
     "output_type": "display_data"
    },
    {
     "data": {
      "text/html": [
       "The next day I was somewhat somnolent, next day I was somewhat somnolent, which you may be sure Miss Frankland took no notice. She retired to her own room when we went for our recreation. My friends scolded me for not coming to them the previous night, but I told them that my parents had continued to move about her room for so long a time that I had fallen fast asleep, and even then had not had enough, as they might have observed how sleepy I had been all day <span style=\"color: rgba(255,0,0,1)\">also</span> <span style=\"color: rgba(255,0,0,1)\">had</span> <span style=\"color: rgba(255,0,0,1)\">apartment</span> <span style=\"color: rgba(255,0,0,1)\">and</span> <span style=\"color: rgba(255,0,0,1)\">somehow</span> <span style=\"color: rgba(255,0,0,1)\">had</span> <span style=\"color: rgba(255,0,0,1)\">back</span> <span style=\"color: rgba(255,0,0,1)\">as</span> <span style=\"color: rgba(255,0,0,1)\">classes</span><span style=\"color: rgba(255,0,0,1)\">.</span>"
      ],
      "text/plain": [
       "<IPython.core.display.HTML object>"
      ]
     },
     "metadata": {},
     "output_type": "display_data"
    },
    {
     "name": "stdout",
     "output_type": "stream",
     "text": [
      "step 39010 loss 0.1536186280126373\n"
     ]
    },
    {
     "data": {
      "text/html": [
       "The next day I was somewhat somnolent, of which you <span style=\"color: rgba(0,0,255,1)\">may</span> <span style=\"color: rgba(0,0,255,1)\">be</span> <span style=\"color: rgba(0,0,255,1)\">sure</span> Miss Frank<span style=\"color: rgba(0,0,255,1)\">land</span> took no notice. She retired to her own room when we <span style=\"color: rgba(0,0,255,1)\">went</span> for our recreation. My friends scolded me <span style=\"color: rgba(0,0,255,1)\">for</span> not coming to them the previous night, but I told <span style=\"color: rgba(0,0,255,1)\">them</span> that <span style=\"color: rgba(0,0,255,1)\">my</span> parents had continued to move about her room for so long <span style=\"color: rgba(0,0,255,1)\">a</span> time that I had fallen fast <span style=\"color: rgba(0,0,255,1)\">asleep</span>, and even then had <span style=\"color: rgba(0,0,255,1)\">not</span> had enough<span style=\"color: rgba(0,0,255,1)\">,</span> <span style=\"color: rgba(0,0,255,1)\">as</span> they might have observed how sleepy I had been all <span style=\"color: rgba(0,0,255,1)\">day</span>"
      ],
      "text/plain": [
       "<IPython.core.display.HTML object>"
      ]
     },
     "metadata": {},
     "output_type": "display_data"
    },
    {
     "data": {
      "text/html": [
       "The next day I was somewhat somnolent, of which you <span style=\"color: rgba(255,0,0,0.6009438037872314)\">know</span> <span style=\"color: rgba(255,0,0,0.5183168053627014)\">know</span> <span style=\"color: rgba(255,0,0,0.5898151993751526)\">that</span> Miss Frank<span style=\"color: rgba(255,0,0,0.5882335305213928)\">en</span> took no notice. She retired to her own room when we <span style=\"color: rgba(255,0,0,0.5626697540283203)\">left</span> for our recreation. My friends scolded me <span style=\"color: rgba(255,0,0,0.9358092546463013)\">for</span> not coming to them the previous night, but I told <span style=\"color: rgba(255,0,0,0.809184193611145)\">them</span> that <span style=\"color: rgba(255,0,0,0.8175638914108276)\">my</span> parents had continued to move about her room for so long <span style=\"color: rgba(255,0,0,0.6290835738182068)\">in</span> time that I had fallen fast <span style=\"color: rgba(255,0,0,0.8840029239654541)\">asleep</span>, and even then had <span style=\"color: rgba(255,0,0,0.8563711047172546)\">I</span> had enough <span style=\"color: rgba(255,0,0,0.5853335857391357)\">sleep</span> <span style=\"color: rgba(255,0,0,0.6770331859588623)\">that</span> they might have observed how sleepy I had been all <span style=\"color: rgba(255,0,0,0.6269959211349487)\">the</span>"
      ],
      "text/plain": [
       "<IPython.core.display.HTML object>"
      ]
     },
     "metadata": {},
     "output_type": "display_data"
    },
    {
     "data": {
      "text/plain": [
       "None"
      ]
     },
     "metadata": {},
     "output_type": "display_data"
    },
    {
     "data": {
      "text/html": [
       "The next day I was somewhat somnolent, next day I was somewhat somnolent, which you may be sure Miss Frankland took no notice. She retired to her own room when we went for our recreation. My friends scolded me for not coming to them the previous night, but I told them that my parents had continued to move about her room for so long a time that I had fallen fast asleep, and even then had not had enough, as they might have observed how sleepy I had been all day<span style=\"color: rgba(255,0,0,1)\">,</span> <span style=\"color: rgba(255,0,0,1)\">the</span> <span style=\"color: rgba(255,0,0,1)\">not</span> <span style=\"color: rgba(255,0,0,1)\">arranged</span> <span style=\"color: rgba(255,0,0,1)\">well</span> <span style=\"color: rgba(255,0,0,1)\">had</span><span style=\"color: rgba(255,0,0,1)\">,</span><span style=\"color: rgba(255,0,0,1)\">,</span><span style=\"color: rgba(255,0,0,1)\">nto</span> <span style=\"color: rgba(255,0,0,1)\">church</span>"
      ],
      "text/plain": [
       "<IPython.core.display.HTML object>"
      ]
     },
     "metadata": {},
     "output_type": "display_data"
    },
    {
     "name": "stdout",
     "output_type": "stream",
     "text": [
      "step 42010 loss 0.15066854807237784\n"
     ]
    },
    {
     "data": {
      "text/html": [
       "The next day <span style=\"color: rgba(0,0,255,1)\">I</span> was somewhat so<span style=\"color: rgba(0,0,255,1)\">m</span>nolent, <span style=\"color: rgba(0,0,255,1)\">of</span> <span style=\"color: rgba(0,0,255,1)\">which</span> you may be <span style=\"color: rgba(0,0,255,1)\">sure</span> Miss Frankland took no notice<span style=\"color: rgba(0,0,255,1)\">.</span> She retired to her own room when we went for our recreation. My friends sco<span style=\"color: rgba(0,0,255,1)\">lded</span> me for not coming to them the previous night, but I told them that my parents had continued to move <span style=\"color: rgba(0,0,255,1)\">about</span> her room for so long a time that I had fallen fast asleep, and even then had not had enough, as they might have observed how <span style=\"color: rgba(0,0,255,1)\">sleepy</span> I had been all <span style=\"color: rgba(0,0,255,1)\">day</span>"
      ],
      "text/plain": [
       "<IPython.core.display.HTML object>"
      ]
     },
     "metadata": {},
     "output_type": "display_data"
    },
    {
     "data": {
      "text/html": [
       "The next day <span style=\"color: rgba(255,0,0,0.8325966596603394)\">I</span> was somewhat so<span style=\"color: rgba(255,0,0,0.8763892650604248)\">m</span>nolent, <span style=\"color: rgba(255,0,0,0.6056005954742432)\">and</span> <span style=\"color: rgba(255,0,0,0.6666096448898315)\">as</span> you may be<span style=\"color: rgba(255,0,0,0.8431658148765564)\">,</span> Miss Frankland took no notice<span style=\"color: rgba(255,0,0,0.9976632595062256)\">.</span> She retired to her own room when we went for our recreation. My friends sco<span style=\"color: rgba(255,0,0,0.5526409149169922)\">ffed</span> me for not coming to them the previous night, but I told them that my parents had continued to move <span style=\"color: rgba(255,0,0,0.6136245727539062)\">into</span> her room for so long a time that I had fallen fast asleep, and even then had not had enough, as they might have observed how <span style=\"color: rgba(255,0,0,0.5285345911979675)\">tired</span> I had been all <span style=\"color: rgba(255,0,0,0.5231327414512634)\">the</span>"
      ],
      "text/plain": [
       "<IPython.core.display.HTML object>"
      ]
     },
     "metadata": {},
     "output_type": "display_data"
    },
    {
     "data": {
      "text/plain": [
       "None"
      ]
     },
     "metadata": {},
     "output_type": "display_data"
    },
    {
     "data": {
      "text/html": [
       "The next day I was somewhat somnolent, next day I was somewhat somnolent, which you may be sure Miss Frankland took no notice. She retired to her own room when we went for our recreation. My friends scolded me for not coming to them the previous night, but I told them that my parents had continued to move about her room for so long a time that I had fallen fast asleep, and even then had not had enough, as they might have observed how sleepy I had been all day <span style=\"color: rgba(255,0,0,1)\">I</span> <span style=\"color: rgba(255,0,0,1)\">she</span> <span style=\"color: rgba(255,0,0,1)\">go</span> <span style=\"color: rgba(255,0,0,1)\">sweetly</span> <span style=\"color: rgba(255,0,0,1)\">now</span><span style=\"color: rgba(255,0,0,1)\">;</span><span style=\"color: rgba(255,0,0,1)\">.</span><span style=\"color: rgba(255,0,0,1)\">,</span> <span style=\"color: rgba(255,0,0,1)\">visit</span><span style=\"color: rgba(255,0,0,1)\">s</span>"
      ],
      "text/plain": [
       "<IPython.core.display.HTML object>"
      ]
     },
     "metadata": {},
     "output_type": "display_data"
    },
    {
     "name": "stdout",
     "output_type": "stream",
     "text": [
      "step 45010 loss 0.1493913671548168\n"
     ]
    },
    {
     "data": {
      "text/html": [
       "The next day I was somewhat somnolent, of which you may be sure Miss Frankland took no notice. She retired to her <span style=\"color: rgba(0,0,255,1)\">own</span> room when we went for our recreation. My friends s<span style=\"color: rgba(0,0,255,1)\">co</span>lded <span style=\"color: rgba(0,0,255,1)\">me</span> for not coming to them the previous night, but I told them that my parents had continued to move <span style=\"color: rgba(0,0,255,1)\">about</span> her room for so long a time that I had fallen fast asleep, and even then had not had enough, as they might have observed how sleepy I had been all <span style=\"color: rgba(0,0,255,1)\">day</span>"
      ],
      "text/plain": [
       "<IPython.core.display.HTML object>"
      ]
     },
     "metadata": {},
     "output_type": "display_data"
    },
    {
     "data": {
      "text/html": [
       "The next day I was somewhat somnolent, of which you may be sure Miss Frankland took no notice. She retired to her <span style=\"color: rgba(255,0,0,0.6413470506668091)\">own</span> room when we went for our recreation. My friends s<span style=\"color: rgba(255,0,0,0.7935107350349426)\">co</span>lded <span style=\"color: rgba(255,0,0,0.9748812913894653)\">me</span> for not coming to them the previous night, but I told them that my parents had continued to move <span style=\"color: rgba(255,0,0,0.7262741327285767)\">to</span> her room for so long a time that I had fallen fast asleep, and even then had not had enough, as they might have observed how sleepy I had been all <span style=\"color: rgba(255,0,0,0.6700127720832825)\">the</span>"
      ],
      "text/plain": [
       "<IPython.core.display.HTML object>"
      ]
     },
     "metadata": {},
     "output_type": "display_data"
    },
    {
     "data": {
      "text/plain": [
       "None"
      ]
     },
     "metadata": {},
     "output_type": "display_data"
    },
    {
     "data": {
      "text/html": [
       "The next day I was somewhat somnolent, next day I was somewhat somnolent, which you may be sure Miss Frankland took no notice. She retired to her own room when we went for our recreation. My friends scolded me for not coming to them the previous night, but I told them that my parents had continued to move about her room for so long a time that I had fallen fast asleep, and even then had not had enough, as they might have observed how sleepy I had been all day <span style=\"color: rgba(255,0,0,1)\">her</span> <span style=\"color: rgba(255,0,0,1)\">quietly</span> <span style=\"color: rgba(255,0,0,1)\">apartment</span> <span style=\"color: rgba(255,0,0,1)\">home</span> <span style=\"color: rgba(255,0,0,1)\">now</span> <span style=\"color: rgba(255,0,0,1)\">at</span> <span style=\"color: rgba(255,0,0,1)\">companion</span> <span style=\"color: rgba(255,0,0,1)\">in</span> <span style=\"color: rgba(255,0,0,1)\">home</span> <span style=\"color: rgba(255,0,0,1)\">morning</span>"
      ],
      "text/plain": [
       "<IPython.core.display.HTML object>"
      ]
     },
     "metadata": {},
     "output_type": "display_data"
    },
    {
     "name": "stdout",
     "output_type": "stream",
     "text": [
      "step 48010 loss 0.14754447442044816\n"
     ]
    },
    {
     "data": {
      "text/html": [
       "<span style=\"color: rgba(0,0,255,1)\">The</span> next day I was somewhat so<span style=\"color: rgba(0,0,255,1)\">m</span>nolent, of which you <span style=\"color: rgba(0,0,255,1)\">may</span> be sure Miss Frankland took no <span style=\"color: rgba(0,0,255,1)\">notice</span>. She retired to her own room when we went for <span style=\"color: rgba(0,0,255,1)\">our</span> recreation. My friends scolded me for <span style=\"color: rgba(0,0,255,1)\">not</span> coming to them the previous night, but I told them that my parents had continued to move about her room for so long a <span style=\"color: rgba(0,0,255,1)\">time</span> that I had fallen fast asleep, and even then had not had enough, as they might have observed how sleepy I <span style=\"color: rgba(0,0,255,1)\">had</span> <span style=\"color: rgba(0,0,255,1)\">been</span> <span style=\"color: rgba(0,0,255,1)\">all</span> <span style=\"color: rgba(0,0,255,1)\">day</span>"
      ],
      "text/plain": [
       "<IPython.core.display.HTML object>"
      ]
     },
     "metadata": {},
     "output_type": "display_data"
    },
    {
     "data": {
      "text/html": [
       "<span style=\"color: rgba(255,0,0,0.9375724792480469)\">the</span> next day I was somewhat so<span style=\"color: rgba(255,0,0,0.5333659052848816)\">m</span>nolent, of which you <span style=\"color: rgba(255,0,0,0.7461119890213013)\">can</span> be sure Miss Frankland took no <span style=\"color: rgba(255,0,0,0.5488985776901245)\">part</span>. She retired to her own room when we went for <span style=\"color: rgba(255,0,0,0.6312834024429321)\">our</span> recreation. My friends scolded me for <span style=\"color: rgba(255,0,0,0.6315901279449463)\">my</span> coming to them the previous night, but I told them that my parents had continued to move about her room for so long a <span style=\"color: rgba(255,0,0,0.8175702691078186)\">time</span> that I had fallen fast asleep, and even then had not had enough, as they might have observed how sleepy I <span style=\"color: rgba(255,0,0,0.6348622441291809)\">was</span><span style=\"color: rgba(255,0,0,0.529899001121521)\">.</span> <span style=\"color: rgba(255,0,0,0.5346029996871948)\">been</span><span style=\"color: rgba(255,0,0,0.5711898803710938)\">.</span>"
      ],
      "text/plain": [
       "<IPython.core.display.HTML object>"
      ]
     },
     "metadata": {},
     "output_type": "display_data"
    },
    {
     "data": {
      "text/plain": [
       "None"
      ]
     },
     "metadata": {},
     "output_type": "display_data"
    },
    {
     "data": {
      "text/html": [
       "The next day I was somewhat somnolent, next day I was somewhat somnolent, which you may be sure Miss Frankland took no notice. She retired to her own room when we went for our recreation. My friends scolded me for not coming to them the previous night, but I told them that my parents had continued to move about her room for so long a time that I had fallen fast asleep, and even then had not had enough, as they might have observed how sleepy I had been all day <span style=\"color: rgba(255,0,0,1)\">my</span> <span style=\"color: rgba(255,0,0,1)\">and</span> <span style=\"color: rgba(255,0,0,1)\">badly</span> <span style=\"color: rgba(255,0,0,1)\">at</span> <span style=\"color: rgba(255,0,0,1)\">her</span> <span style=\"color: rgba(255,0,0,1)\">arrived</span> <span style=\"color: rgba(255,0,0,1)\">since</span> <span style=\"color: rgba(255,0,0,1)\">exits</span> <span style=\"color: rgba(255,0,0,1)\">feet</span><span style=\"color: rgba(255,0,0,1)\">,</span>"
      ],
      "text/plain": [
       "<IPython.core.display.HTML object>"
      ]
     },
     "metadata": {},
     "output_type": "display_data"
    },
    {
     "name": "stdout",
     "output_type": "stream",
     "text": [
      "step 51010 loss 0.1457279901454846\n"
     ]
    },
    {
     "data": {
      "text/html": [
       "The next day I was somewhat somnolent, of <span style=\"color: rgba(0,0,255,1)\">which</span> you may be sure Miss Frankland took no notice<span style=\"color: rgba(0,0,255,1)\">.</span> She retired to her <span style=\"color: rgba(0,0,255,1)\">own</span> room when we went for our recreation. My friends scolded me for not coming to them the previous night, but I told them that my parents had continued to move about her room for so long a time that I had fallen <span style=\"color: rgba(0,0,255,1)\">fast</span> asleep<span style=\"color: rgba(0,0,255,1)\">,</span> and even then had not had <span style=\"color: rgba(0,0,255,1)\">enough</span><span style=\"color: rgba(0,0,255,1)\">,</span> as they might have observed how sleepy I had been all <span style=\"color: rgba(0,0,255,1)\">day</span>"
      ],
      "text/plain": [
       "<IPython.core.display.HTML object>"
      ]
     },
     "metadata": {},
     "output_type": "display_data"
    },
    {
     "data": {
      "text/html": [
       "The next day I was somewhat somnolent, of <span style=\"color: rgba(255,0,0,0.8932322263717651)\">which</span> you may be sure Miss Frankland took no notice<span style=\"color: rgba(255,0,0,0.9985315799713135)\">.</span> She retired to her <span style=\"color: rgba(255,0,0,0.698819100856781)\">own</span> room when we went for our recreation. My friends scolded me for not coming to them the previous night, but I told them that my parents had continued to move about her room for so long a time that I had fallen <span style=\"color: rgba(255,0,0,0.5393487811088562)\">completely</span> asleep<span style=\"color: rgba(255,0,0,0.864929735660553)\">,</span> and even then had not had <span style=\"color: rgba(255,0,0,0.5860298871994019)\">a</span><span style=\"color: rgba(255,0,0,0.5977542400360107)\">,</span> as they might have observed how sleepy I had been all <span style=\"color: rgba(255,0,0,0.6565405130386353)\">day</span>"
      ],
      "text/plain": [
       "<IPython.core.display.HTML object>"
      ]
     },
     "metadata": {},
     "output_type": "display_data"
    },
    {
     "data": {
      "text/plain": [
       "None"
      ]
     },
     "metadata": {},
     "output_type": "display_data"
    },
    {
     "data": {
      "text/html": [
       "The next day I was somewhat somnolent, next day I was somewhat somnolent, which you may be sure Miss Frankland took no notice. She retired to her own room when we went for our recreation. My friends scolded me for not coming to them the previous night, but I told them that my parents had continued to move about her room for so long a time that I had fallen fast asleep, and even then had not had enough, as they might have observed how sleepy I had been all day <span style=\"color: rgba(255,0,0,1)\">soon</span> <span style=\"color: rgba(255,0,0,1)\">well</span><span style=\"color: rgba(255,0,0,1)\">.</span> <span style=\"color: rgba(255,0,0,1)\">from</span><span style=\"color: rgba(255,0,0,1)\">;</span> <span style=\"color: rgba(255,0,0,1)\">and</span><span style=\"color: rgba(255,0,0,1)\">,</span> <span style=\"color: rgba(255,0,0,1)\">we</span> <span style=\"color: rgba(255,0,0,1)\">arrived</span><span style=\"color: rgba(255,0,0,1)\">,</span>"
      ],
      "text/plain": [
       "<IPython.core.display.HTML object>"
      ]
     },
     "metadata": {},
     "output_type": "display_data"
    },
    {
     "name": "stdout",
     "output_type": "stream",
     "text": [
      "step 54010 loss 0.14389715535690387\n"
     ]
    },
    {
     "data": {
      "text/html": [
       "The next day I was <span style=\"color: rgba(0,0,255,1)\">somewhat</span> somnolent, of which you <span style=\"color: rgba(0,0,255,1)\">may</span> be sure Miss Frankland took no <span style=\"color: rgba(0,0,255,1)\">notice</span>. She retired to her own room when we went <span style=\"color: rgba(0,0,255,1)\">for</span> our recreation. <span style=\"color: rgba(0,0,255,1)\">My</span> friends scolded me for not coming to them the previous night, but I told them that my parents had continued to move about her room for so long a time <span style=\"color: rgba(0,0,255,1)\">that</span> I <span style=\"color: rgba(0,0,255,1)\">had</span> <span style=\"color: rgba(0,0,255,1)\">fallen</span> fast asleep, <span style=\"color: rgba(0,0,255,1)\">and</span> even then had not <span style=\"color: rgba(0,0,255,1)\">had</span> enough, as they might have observed how sleepy I had been all <span style=\"color: rgba(0,0,255,1)\">day</span>"
      ],
      "text/plain": [
       "<IPython.core.display.HTML object>"
      ]
     },
     "metadata": {},
     "output_type": "display_data"
    },
    {
     "data": {
      "text/html": [
       "The next day I was <span style=\"color: rgba(255,0,0,0.5650277137756348)\">very</span> somnolent, of which you <span style=\"color: rgba(255,0,0,0.745207667350769)\">can</span> be sure Miss Frankland took no <span style=\"color: rgba(255,0,0,0.573967456817627)\">part</span>. She retired to her own room when we went <span style=\"color: rgba(255,0,0,0.9951409101486206)\">for</span> our recreation. <span style=\"color: rgba(255,0,0,0.9680671691894531)\">My</span> friends scolded me for not coming to them the previous night, but I told them that my parents had continued to move about her room for so long a time<span style=\"color: rgba(255,0,0,0.8926869630813599)\">.</span> I <span style=\"color: rgba(255,0,0,0.6660274267196655)\">was</span> <span style=\"color: rgba(255,0,0,0.6056299209594727)\">myself</span> fast asleep, <span style=\"color: rgba(255,0,0,0.9094892144203186)\">and</span> even then had not <span style=\"color: rgba(255,0,0,0.6798030138015747)\">been</span> enough, as they might have observed how sleepy I had been all <span style=\"color: rgba(255,0,0,0.6260968446731567)\">the</span>"
      ],
      "text/plain": [
       "<IPython.core.display.HTML object>"
      ]
     },
     "metadata": {},
     "output_type": "display_data"
    },
    {
     "data": {
      "text/plain": [
       "None"
      ]
     },
     "metadata": {},
     "output_type": "display_data"
    },
    {
     "data": {
      "text/html": [
       "The next day I was somewhat somnolent, next day I was somewhat somnolent, which you may be sure Miss Frankland took no notice. She retired to her own room when we went for our recreation. My friends scolded me for not coming to them the previous night, but I told them that my parents had continued to move about her room for so long a time that I had fallen fast asleep, and even then had not had enough, as they might have observed how sleepy I had been all day <span style=\"color: rgba(255,0,0,1)\">her</span> <span style=\"color: rgba(255,0,0,1)\">civil</span> <span style=\"color: rgba(255,0,0,1)\">first</span> <span style=\"color: rgba(255,0,0,1)\">immediately</span> <span style=\"color: rgba(255,0,0,1)\">we</span> <span style=\"color: rgba(255,0,0,1)\">return</span> <span style=\"color: rgba(255,0,0,1)\">to</span> <span style=\"color: rgba(255,0,0,1)\">they</span> <span style=\"color: rgba(255,0,0,1)\">supper</span><span style=\"color: rgba(255,0,0,1)\">.</span>"
      ],
      "text/plain": [
       "<IPython.core.display.HTML object>"
      ]
     },
     "metadata": {},
     "output_type": "display_data"
    },
    {
     "name": "stdout",
     "output_type": "stream",
     "text": [
      "step 57010 loss 0.14350558593372503\n"
     ]
    },
    {
     "data": {
      "text/html": [
       "<span style=\"color: rgba(0,0,255,1)\">The</span> next day I was somewhat somnolent, of which you may be sure Miss <span style=\"color: rgba(0,0,255,1)\">Frank</span>land <span style=\"color: rgba(0,0,255,1)\">took</span> no notice. <span style=\"color: rgba(0,0,255,1)\">She</span> retired to her own room when we went for our recreation. <span style=\"color: rgba(0,0,255,1)\">My</span> <span style=\"color: rgba(0,0,255,1)\">friends</span> scolded me for not coming to them the previous night, but I told them that my parents had continued to move about her room for so long a time that I had fallen fast asleep, and even then had not had enough, as they might have observed how sleepy I <span style=\"color: rgba(0,0,255,1)\">had</span> been all <span style=\"color: rgba(0,0,255,1)\">day</span>"
      ],
      "text/plain": [
       "<IPython.core.display.HTML object>"
      ]
     },
     "metadata": {},
     "output_type": "display_data"
    },
    {
     "data": {
      "text/html": [
       "<span style=\"color: rgba(255,0,0,0.9139121174812317)\">the</span> next day I was somewhat somnolent, of which you may be sure Miss <span style=\"color: rgba(255,0,0,0.518251359462738)\">Bo</span>land <span style=\"color: rgba(255,0,0,0.8196038007736206)\">took</span> no notice. <span style=\"color: rgba(255,0,0,0.9611859321594238)\">She</span> retired to her own room when we went for our recreation. <span style=\"color: rgba(255,0,0,0.9379286170005798)\">My</span> <span style=\"color: rgba(255,0,0,0.9438449144363403)\">friends</span> scolded me for not coming to them the previous night, but I told them that my parents had continued to move about her room for so long a time that I had fallen fast asleep, and even then had not had enough, as they might have observed how sleepy I <span style=\"color: rgba(255,0,0,0.9967490434646606)\">had</span> been all <span style=\"color: rgba(255,0,0,0.6436979174613953)\">night</span>"
      ],
      "text/plain": [
       "<IPython.core.display.HTML object>"
      ]
     },
     "metadata": {},
     "output_type": "display_data"
    },
    {
     "data": {
      "text/plain": [
       "None"
      ]
     },
     "metadata": {},
     "output_type": "display_data"
    },
    {
     "data": {
      "text/html": [
       "The next day I was somewhat somnolent, next day I was somewhat somnolent, which you may be sure Miss Frankland took no notice. She retired to her own room when we went for our recreation. My friends scolded me for not coming to them the previous night, but I told them that my parents had continued to move about her room for so long a time that I had fallen fast asleep, and even then had not had enough, as they might have observed how sleepy I had been all day <span style=\"color: rgba(255,0,0,1)\">I</span> <span style=\"color: rgba(255,0,0,1)\">know</span> <span style=\"color: rgba(255,0,0,1)\">finally</span><span style=\"color: rgba(255,0,0,1)\">,</span> <span style=\"color: rgba(255,0,0,1)\">it</span> <span style=\"color: rgba(255,0,0,1)\">left</span> <span style=\"color: rgba(255,0,0,1)\">home</span> <span style=\"color: rgba(255,0,0,1)\">dinner</span> <span style=\"color: rgba(255,0,0,1)\">event</span> <span style=\"color: rgba(255,0,0,1)\">home</span>"
      ],
      "text/plain": [
       "<IPython.core.display.HTML object>"
      ]
     },
     "metadata": {},
     "output_type": "display_data"
    },
    {
     "name": "stdout",
     "output_type": "stream",
     "text": [
      "step 60010 loss 0.1423412105590105\n"
     ]
    },
    {
     "data": {
      "text/html": [
       "The next day I was somewhat somnolent, of which you may be sure Miss <span style=\"color: rgba(0,0,255,1)\">Frank</span>land took <span style=\"color: rgba(0,0,255,1)\">no</span> notice. She retired to her own room when we went for our recreation. My friends <span style=\"color: rgba(0,0,255,1)\">s</span>colded me for not coming to them the previous night, but I told them that my parents had continued to move <span style=\"color: rgba(0,0,255,1)\">about</span> her room for so long a time that I had fallen <span style=\"color: rgba(0,0,255,1)\">fast</span> asleep, and <span style=\"color: rgba(0,0,255,1)\">even</span> then <span style=\"color: rgba(0,0,255,1)\">had</span> not had enough, as they <span style=\"color: rgba(0,0,255,1)\">might</span> have <span style=\"color: rgba(0,0,255,1)\">observed</span> how sleepy I had been all <span style=\"color: rgba(0,0,255,1)\">day</span>"
      ],
      "text/plain": [
       "<IPython.core.display.HTML object>"
      ]
     },
     "metadata": {},
     "output_type": "display_data"
    },
    {
     "data": {
      "text/html": [
       "The next day I was somewhat somnolent, of which you may be sure Miss <span style=\"color: rgba(255,0,0,0.5252916812896729)\">How</span>land took <span style=\"color: rgba(255,0,0,0.6317493319511414)\">no</span> notice. She retired to her own room when we went for our recreation. My friends <span style=\"color: rgba(255,0,0,0.9635224938392639)\">s</span>colded me for not coming to them the previous night, but I told them that my parents had continued to move <span style=\"color: rgba(255,0,0,0.7024091482162476)\">to</span> her room for so long a time that I had fallen <span style=\"color: rgba(255,0,0,0.5657588839530945)\">heavily</span> asleep, and <span style=\"color: rgba(255,0,0,0.596416175365448)\">even</span> then <span style=\"color: rgba(255,0,0,0.8800449371337891)\">had</span> not had enough, as they <span style=\"color: rgba(255,0,0,0.6356507539749146)\">would</span> have <span style=\"color: rgba(255,0,0,0.6399757266044617)\">said</span> how sleepy I had been all <span style=\"color: rgba(255,0,0,0.7143846750259399)\">the</span>"
      ],
      "text/plain": [
       "<IPython.core.display.HTML object>"
      ]
     },
     "metadata": {},
     "output_type": "display_data"
    },
    {
     "data": {
      "text/plain": [
       "None"
      ]
     },
     "metadata": {},
     "output_type": "display_data"
    },
    {
     "data": {
      "text/html": [
       "The next day I was somewhat somnolent, next day I was somewhat somnolent, which you may be sure Miss Frankland took no notice. She retired to her own room when we went for our recreation. My friends scolded me for not coming to them the previous night, but I told them that my parents had continued to move about her room for so long a time that I had fallen fast asleep, and even then had not had enough, as they might have observed how sleepy I had been all day <span style=\"color: rgba(255,0,0,1)\">long</span> <span style=\"color: rgba(255,0,0,1)\">heavily</span><span style=\"color: rgba(255,0,0,1)\">;</span> <span style=\"color: rgba(255,0,0,1)\">seats</span> <span style=\"color: rgba(255,0,0,1)\">overhead</span> <span style=\"color: rgba(255,0,0,1)\">night</span><span style=\"color: rgba(255,0,0,1)\">,</span> <span style=\"color: rgba(255,0,0,1)\">after</span> <span style=\"color: rgba(255,0,0,1)\">things</span><span style=\"color: rgba(255,0,0,1)\">.</span>"
      ],
      "text/plain": [
       "<IPython.core.display.HTML object>"
      ]
     },
     "metadata": {},
     "output_type": "display_data"
    }
   ],
   "source": [
    "model.train()\n",
    "for _ in tqdm(range(int(args.num_train_epochs)), desc=\"Epoch\"):\n",
    "    tr_loss, nb_tr_examples, nb_tr_steps = 0, 0, 0\n",
    "    with tqdm(total=len(train_dataloader), desc='Iteration', mininterval=60) as prog:\n",
    "        for step, batch in enumerate(train_dataloader):\n",
    "            \n",
    "            batch = tuple(t.to(device) for t in batch)\n",
    "            input_ids, input_mask, segment_ids, label_ids, label_weights = batch\n",
    "            loss, logits = model(input_ids, segment_ids, input_mask, label_ids, label_weights)\n",
    "            if n_gpu > 1:\n",
    "                loss = loss.mean() # mean() to average on multi-gpu.\n",
    "            if args.gradient_accumulation_steps > 1:\n",
    "                loss = loss / args.gradient_accumulation_steps\n",
    "            loss.backward()\n",
    "            tr_loss += loss.item()\n",
    "            nb_tr_examples += input_ids.size(0)\n",
    "            nb_tr_steps += 1\n",
    "            if (step + 1) % args.gradient_accumulation_steps == 0:\n",
    "                optimizer.step()    # We have accumulated enougth gradients\n",
    "                model.zero_grad()\n",
    "            prog.update(1)\n",
    "            prog.desc = 'Iter. loss={:2.6f}'.format(tr_loss/nb_tr_examples)\n",
    "            if step%3000==10:\n",
    "                \n",
    "                print('step', step, 'loss', tr_loss/nb_tr_examples)\n",
    "                display(predict_masked_words(val_test, processor, tokenizer, model, device=device, max_seq_length=args.max_seq_length))\n",
    "                display(predict_next_words(val_test, processor, tokenizer, model, max_seq_length=args.max_seq_length, n=10, device=device))\n",
    "                tr_loss, nb_tr_examples, nb_tr_steps = 0, 0, 0\n",
    "                \n",
    "            # TODO validation test at end of each epoch to check for overfitting\n",
    "                \n",
    "    \n",
    "    torch.save(model.state_dict(), save_path)\n",
    "\n",
    "global_step += 1"
   ]
  },
  {
   "cell_type": "code",
   "execution_count": null,
   "metadata": {},
   "outputs": [],
   "source": [
    "display(predict_next_words(val_test, processor, tokenizer, model, max_seq_length=args.max_seq_length, n=10, device=device, debug=False))"
   ]
  },
  {
   "cell_type": "code",
   "execution_count": null,
   "metadata": {
    "ExecuteTime": {
     "end_time": "2018-11-13T01:58:57.934071Z",
     "start_time": "2018-11-13T01:57:20.108Z"
    }
   },
   "outputs": [],
   "source": [
    "torch.save(model.state_dict(), save_path)"
   ]
  },
  {
   "cell_type": "code",
   "execution_count": null,
   "metadata": {
    "ExecuteTime": {
     "end_time": "2018-11-13T01:58:57.935435Z",
     "start_time": "2018-11-13T01:57:20.116Z"
    }
   },
   "outputs": [],
   "source": [
    "val_test=\"\"\"Frank could no longer resist\"\"\"\n",
    "display(predict_next_words(val_test, processor, tokenizer, model, max_seq_length=args.max_seq_length, n=100, T=1, device=device))"
   ]
  },
  {
   "cell_type": "code",
   "execution_count": null,
   "metadata": {},
   "outputs": [],
   "source": []
  },
  {
   "cell_type": "code",
   "execution_count": null,
   "metadata": {
    "ExecuteTime": {
     "end_time": "2018-11-13T01:58:57.935435Z",
     "start_time": "2018-11-13T01:57:20.116Z"
    }
   },
   "outputs": [],
   "source": [
    "val_test=\"\"\"There was no doubt the lad had seen everything\"\"\"\n",
    "display(predict_next_words(val_test, processor, tokenizer, model, max_seq_length=args.max_seq_length, n=150, T=1, device=device))"
   ]
  },
  {
   "cell_type": "code",
   "execution_count": null,
   "metadata": {
    "ExecuteTime": {
     "end_time": "2018-11-13T01:58:57.935435Z",
     "start_time": "2018-11-13T01:57:20.116Z"
    }
   },
   "outputs": [],
   "source": [
    "val_test=\"\"\"The next night I had been asleep about a couple of hours when I was suddenly awakened by\"\"\"\n",
    "display(predict_next_words(val_test, processor, tokenizer, model, max_seq_length=args.max_seq_length, n=100, T=1, device=device))"
   ]
  },
  {
   "cell_type": "code",
   "execution_count": null,
   "metadata": {},
   "outputs": [],
   "source": [
    "val_test=\"\"\"His mind spun in on itself\"\"\"\n",
    "display(predict_next_words(val_test, processor, tokenizer, model, max_seq_length=args.max_seq_length, n=150, T=1, device=device))"
   ]
  },
  {
   "cell_type": "code",
   "execution_count": null,
   "metadata": {},
   "outputs": [],
   "source": [
    "val_test=\"\"\"A giant spider descended on to\"\"\"\n",
    "display(predict_next_words(val_test, processor, tokenizer, model, max_seq_length=args.max_seq_length, n=100, T=.5, device=device))"
   ]
  },
  {
   "cell_type": "code",
   "execution_count": null,
   "metadata": {},
   "outputs": [],
   "source": [
    "val_test=\"\"\"Madness enveloped his mind as\"\"\"\n",
    "display(predict_next_words(val_test, processor, tokenizer, model, max_seq_length=args.max_seq_length, n=100, T=.1, device=device))"
   ]
  },
  {
   "cell_type": "code",
   "execution_count": null,
   "metadata": {},
   "outputs": [],
   "source": [
    "val_test=\"\"\"A thin film of\"\"\"\n",
    "display(predict_next_words(val_test, processor, tokenizer, model, max_seq_length=args.max_seq_length, n=100, T=1, device=device))"
   ]
  },
  {
   "cell_type": "code",
   "execution_count": null,
   "metadata": {},
   "outputs": [],
   "source": [
    "val_test=\"\"\"Quivering with fear, he trembled as\"\"\"\n",
    "display(predict_next_words(val_test, processor, tokenizer, model, max_seq_length=args.max_seq_length, n=100, T=1, device=device))"
   ]
  },
  {
   "cell_type": "code",
   "execution_count": null,
   "metadata": {},
   "outputs": [],
   "source": [
    "val_test=\"\"\"Madness enveloped his mind as\"\"\"\n",
    "display(predict_next_words(val_test, processor, tokenizer, model, max_seq_length=args.max_seq_length, n=300, T=1, device=device))"
   ]
  },
  {
   "cell_type": "code",
   "execution_count": null,
   "metadata": {},
   "outputs": [],
   "source": [
    "val_test=\"\"\"All at once, in a moment of realisation, he knew the secret to creating true artificial intelligence was \"\"\"\n",
    "display(predict_next_words(val_test, processor, tokenizer, model, max_seq_length=args.max_seq_length, n=100, T=1, device=device))"
   ]
  },
  {
   "cell_type": "markdown",
   "metadata": {},
   "source": [
    "# Iteratitive prediction\n",
    "\n",
    "The next words prediction is poorer than in the GPT model. \n",
    "I wonder if recursive masking will help the output quality.\n",
    "We would predict the probabiltity of each word and selectively mask and replacing words that don't belong\n",
    "\n",
    "- [ ] easy method, randomly mask 10% of the words each time\n",
    "\n",
    "Hard method\n",
    "- [ ] make sure we predict each existing word\n",
    "- [ ] give the whole sentance, with mask tokens, predict probability of each actual word\n",
    "- [ ] replace low prob words with a sampled higher prob word\n",
    "- [ ] repeat\n"
   ]
  },
  {
   "cell_type": "code",
   "execution_count": null,
   "metadata": {},
   "outputs": [],
   "source": [
    "from masked_language_model import insert_next_word_input_id, html_clean_decoded, html_clean_decoded_logits, insert_next_word_input_ids, improve_words_recursive"
   ]
  },
  {
   "cell_type": "code",
   "execution_count": null,
   "metadata": {},
   "outputs": [],
   "source": []
  },
  {
   "cell_type": "code",
   "execution_count": null,
   "metadata": {},
   "outputs": [],
   "source": [
    "improve_words_recursive(text, processor, tokenizer, model, iterations=300, max_seq_length=300, n=10, T=1.0, device=\"cuda\", debug=10)"
   ]
  },
  {
   "cell_type": "code",
   "execution_count": null,
   "metadata": {},
   "outputs": [],
   "source": [
    "text=\"\"\"“Despite the constant negative press covfefe”. Who can figure out the true meaning of \"covfefe\" ??? Enjoy!\"\"\"\n",
    "improve_words_recursive(text, processor, tokenizer, model, iterations=150, max_seq_length=128, n=10, T=1.0, device=\"cuda\", debug=10)"
   ]
  },
  {
   "cell_type": "code",
   "execution_count": null,
   "metadata": {},
   "outputs": [],
   "source": []
  },
  {
   "cell_type": "code",
   "execution_count": null,
   "metadata": {},
   "outputs": [],
   "source": []
  },
  {
   "cell_type": "code",
   "execution_count": null,
   "metadata": {},
   "outputs": [],
   "source": []
  },
  {
   "cell_type": "code",
   "execution_count": null,
   "metadata": {
    "scrolled": true
   },
   "outputs": [],
   "source": []
  },
  {
   "cell_type": "code",
   "execution_count": null,
   "metadata": {},
   "outputs": [],
   "source": []
  },
  {
   "cell_type": "markdown",
   "metadata": {},
   "source": [
    "# TODO\n",
    "\n",
    "- show probability in next word logging. Record probability of each letter, then use them when displaying as html\n",
    "- try other ways of doing next word. E.g. going back and redoing, doing more than 1 at once\n",
    "- make the masked language generator often mask last word\n",
    "- should I be doing loss on just the masked words, or all? It's hard to tell from the tensorflow repo. This is marked with a TODO or FIXME in the code\n",
    "- add validation loss, since overfitting seems to be a factor\n",
    "- for eval, don't pad, just have a batch size of one. That may lead to better results\n",
    "- for eval, add some words, and let it fill in the blanks\n",
    "  - recursivly replace low confidence words?\n",
    "  - for this I may have to make it predict unmasked words?"
   ]
  },
  {
   "cell_type": "code",
   "execution_count": null,
   "metadata": {},
   "outputs": [],
   "source": []
  }
 ],
 "metadata": {
  "kernelspec": {
   "display_name": "Python [conda env:pytorch_p36]",
   "language": "python",
   "name": "conda-env-pytorch_p36-py"
  },
  "language_info": {
   "codemirror_mode": {
    "name": "ipython",
    "version": 3
   },
   "file_extension": ".py",
   "mimetype": "text/x-python",
   "name": "python",
   "nbconvert_exporter": "python",
   "pygments_lexer": "ipython3",
   "version": "3.6.5"
  },
  "notify_time": "5",
  "toc": {
   "colors": {
    "hover_highlight": "#DAA520",
    "navigate_num": "#000000",
    "navigate_text": "#333333",
    "running_highlight": "#FF0000",
    "selected_highlight": "#FFD700",
    "sidebar_border": "#EEEEEE",
    "wrapper_background": "#FFFFFF"
   },
   "moveMenuLeft": true,
   "nav_menu": {
    "height": "103px",
    "width": "251px"
   },
   "navigate_menu": true,
   "number_sections": true,
   "sideBar": true,
   "threshold": 4,
   "toc_cell": false,
   "toc_position": {
    "height": "536px",
    "left": "0px",
    "right": "1413.33px",
    "top": "150px",
    "width": "185px"
   },
   "toc_section_display": "block",
   "toc_window_display": true,
   "widenNotebook": false
  }
 },
 "nbformat": 4,
 "nbformat_minor": 2
}
