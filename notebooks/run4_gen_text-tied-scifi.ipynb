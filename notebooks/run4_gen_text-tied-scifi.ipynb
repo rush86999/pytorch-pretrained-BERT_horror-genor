{
 "cells": [
  {
   "cell_type": "markdown",
   "metadata": {},
   "source": [
    "https://arxiv.org/pdf/1810.04805.pdf"
   ]
  },
  {
   "cell_type": "code",
   "execution_count": 1,
   "metadata": {
    "ExecuteTime": {
     "end_time": "2018-11-13T01:57:20.298165Z",
     "start_time": "2018-11-13T01:57:20.295510Z"
    }
   },
   "outputs": [],
   "source": [
    "import os\n",
    "os.sys.path.append('..')"
   ]
  },
  {
   "cell_type": "code",
   "execution_count": 2,
   "metadata": {
    "ExecuteTime": {
     "end_time": "2018-11-13T01:57:20.717216Z",
     "start_time": "2018-11-13T01:57:20.300367Z"
    }
   },
   "outputs": [],
   "source": [
    "%matplotlib inline\n",
    "%reload_ext autoreload\n",
    "%autoreload 2"
   ]
  },
  {
   "cell_type": "code",
   "execution_count": 3,
   "metadata": {
    "ExecuteTime": {
     "end_time": "2018-11-13T01:57:21.023628Z",
     "start_time": "2018-11-13T01:57:20.719286Z"
    }
   },
   "outputs": [],
   "source": [
    "from __future__ import absolute_import\n",
    "from __future__ import division\n",
    "from __future__ import print_function\n",
    "\n",
    "import argparse\n",
    "import collections\n",
    "import logging\n",
    "import json\n",
    "import math\n",
    "import os\n",
    "import random\n",
    "import six\n",
    "from tqdm import tqdm_notebook as tqdm\n",
    "from IPython.display import HTML, display\n",
    "\n",
    "import numpy as np\n",
    "import torch\n",
    "import torch.nn as nn\n",
    "import torch.nn.functional as F\n",
    "from torch.utils.data import TensorDataset, DataLoader, RandomSampler, SequentialSampler\n",
    "from torch.utils.data.distributed import DistributedSampler\n",
    "\n",
    "import tokenization\n",
    "from modeling import BertConfig, BertForMaskedLanguageModelling\n",
    "from optimization import BERTAdam\n",
    "from masked_language_model import notqdm, convert_tokens_to_features, LMProcessor, predict_masked_words, predict_next_words\n"
   ]
  },
  {
   "cell_type": "code",
   "execution_count": 4,
   "metadata": {
    "ExecuteTime": {
     "end_time": "2018-11-13T01:57:21.047342Z",
     "start_time": "2018-11-13T01:57:21.026094Z"
    }
   },
   "outputs": [],
   "source": [
    "\n",
    "logging.basicConfig(format = '%(asctime)s - %(levelname)s - %(name)s -   %(message)s', \n",
    "                    datefmt = '%m/%d/%Y %H:%M:%S',\n",
    "                    level = logging.INFO)\n",
    "logger = logging.getLogger(__name__)"
   ]
  },
  {
   "cell_type": "code",
   "execution_count": null,
   "metadata": {
    "ExecuteTime": {
     "end_time": "2018-11-09T10:41:27.497266Z",
     "start_time": "2018-11-09T10:41:27.467141Z"
    }
   },
   "outputs": [],
   "source": []
  },
  {
   "cell_type": "markdown",
   "metadata": {},
   "source": [
    "# Args"
   ]
  },
  {
   "cell_type": "code",
   "execution_count": 5,
   "metadata": {
    "ExecuteTime": {
     "end_time": "2018-11-13T01:57:21.095286Z",
     "start_time": "2018-11-13T01:57:21.050225Z"
    }
   },
   "outputs": [
    {
     "data": {
      "text/plain": [
       "_StoreAction(option_strings=['--gradient_accumulation_steps'], dest='gradient_accumulation_steps', nargs=None, const=None, default=1, type=<class 'int'>, choices=None, help='Number of updates steps to accumualte before performing a backward/update pass.', metavar=None)"
      ]
     },
     "execution_count": 5,
     "metadata": {},
     "output_type": "execute_result"
    }
   ],
   "source": [
    "parser = argparse.ArgumentParser()\n",
    "\n",
    "## Required parameters\n",
    "parser.add_argument(\"--data_dir\",\n",
    "                    default=None,\n",
    "                    type=str,\n",
    "                    required=True,\n",
    "                    help=\"The input data dir. Should contain the .tsv files (or other data files) for the task.\")\n",
    "parser.add_argument(\"--bert_config_file\",\n",
    "                    default=None,\n",
    "                    type=str,\n",
    "                    required=True,\n",
    "                    help=\"The config json file corresponding to the pre-trained BERT model. \\n\"\n",
    "                         \"This specifies the model architecture.\")\n",
    "parser.add_argument(\"--task_name\",\n",
    "                    default=None,\n",
    "                    type=str,\n",
    "                    required=True,\n",
    "                    help=\"The name of the task to train.\")\n",
    "parser.add_argument(\"--vocab_file\",\n",
    "                    default=None,\n",
    "                    type=str,\n",
    "                    required=True,\n",
    "                    help=\"The vocabulary file that the BERT model was trained on.\")\n",
    "parser.add_argument(\"--output_dir\",\n",
    "                    default=None,\n",
    "                    type=str,\n",
    "                    required=True,\n",
    "                    help=\"The output directory where the model checkpoints will be written.\")\n",
    "\n",
    "## Other parameters\n",
    "parser.add_argument(\"--init_checkpoint\",\n",
    "                    default=None,\n",
    "                    type=str,\n",
    "                    help=\"Initial checkpoint (usually from a pre-trained BERT model).\")\n",
    "parser.add_argument(\"--do_lower_case\",\n",
    "                    default=False,\n",
    "                    action='store_true',\n",
    "                    help=\"Whether to lower case the input text. True for uncased models, False for cased models.\")\n",
    "parser.add_argument(\"--max_seq_length\",\n",
    "                    default=128,\n",
    "                    type=int,\n",
    "                    help=\"The maximum total input sequence length after WordPiece tokenization. \\n\"\n",
    "                         \"Sequences longer than this will be truncated, and sequences shorter \\n\"\n",
    "                         \"than this will be padded.\")\n",
    "parser.add_argument(\"--do_train\",\n",
    "                    default=False,\n",
    "                    action='store_true',\n",
    "                    help=\"Whether to run training.\")\n",
    "parser.add_argument(\"--do_eval\",\n",
    "                    default=False,\n",
    "                    action='store_true',\n",
    "                    help=\"Whether to run eval on the dev set.\")\n",
    "parser.add_argument(\"--train_batch_size\",\n",
    "                    default=32,\n",
    "                    type=int,\n",
    "                    help=\"Total batch size for training.\")\n",
    "parser.add_argument(\"--eval_batch_size\",\n",
    "                    default=8,\n",
    "                    type=int,\n",
    "                    help=\"Total batch size for eval.\")\n",
    "parser.add_argument(\"--learning_rate\",\n",
    "                    default=5e-5,\n",
    "                    type=float,\n",
    "                    help=\"The initial learning rate for Adam.\")\n",
    "parser.add_argument(\"--num_train_epochs\",\n",
    "                    default=3.0,\n",
    "                    type=float,\n",
    "                    help=\"Total number of training epochs to perform.\")\n",
    "parser.add_argument(\"--warmup_proportion\",\n",
    "                    default=0.1,\n",
    "                    type=float,\n",
    "                    help=\"Proportion of training to perform linear learning rate warmup for. \"\n",
    "                         \"E.g., 0.1 = 10%% of training.\")\n",
    "parser.add_argument(\"--no_cuda\",\n",
    "                    default=False,\n",
    "                    action='store_true',\n",
    "                    help=\"Whether not to use CUDA when available\")\n",
    "parser.add_argument(\"--local_rank\",\n",
    "                    type=int,\n",
    "                    default=-1,\n",
    "                    help=\"local_rank for distributed training on gpus\")\n",
    "parser.add_argument('--seed', \n",
    "                    type=int, \n",
    "                    default=42,\n",
    "                    help=\"random seed for initialization\")\n",
    "parser.add_argument('--gradient_accumulation_steps',\n",
    "                    type=int,\n",
    "                    default=1,\n",
    "                    help=\"Number of updates steps to accumualte before performing a backward/update pass.\") "
   ]
  },
  {
   "cell_type": "code",
   "execution_count": 6,
   "metadata": {
    "ExecuteTime": {
     "end_time": "2018-11-13T01:57:21.122886Z",
     "start_time": "2018-11-13T01:57:21.097485Z"
    }
   },
   "outputs": [
    {
     "name": "stdout",
     "output_type": "stream",
     "text": [
      "['--task_name', 'lm', '--data_dir', '../data/input/scifi_gutenberg', '--vocab_file', '../data/weights/cased_L-12_H-768_A-12/vocab.txt', '--bert_config_file', '../data/weights/cased_L-12_H-768_A-12/bert_config.json', '--init_checkpoint', '../data/weights/cased_L-12_H-768_A-12/pytorch_model.bin', '--do_train', '--do_eval', '--gradient_accumulation_steps', '2', '--train_batch_size', '16', '--learning_rate', '3e-5', '--num_train_epochs', '3.0', '--max_seq_length', '128', '--output_dir', '../outputs/scifi_cased_7_tied_mlm/']\n"
     ]
    }
   ],
   "source": [
    "experiment_name = 'scifi_cased_7_tied_mlm'\n",
    "\n",
    "argv = \"\"\"\n",
    "--task_name lm \\\n",
    "--data_dir {DATA_DIR} \\\n",
    "--vocab_file {BERT_BASE_DIR}/vocab.txt \\\n",
    "--bert_config_file {BERT_BASE_DIR}/bert_config.json \\\n",
    "--init_checkpoint {BERT_BASE_DIR}/pytorch_model.bin \\\n",
    "--do_train \\\n",
    "--do_eval \\\n",
    "--gradient_accumulation_steps 2 \\\n",
    "--train_batch_size 16 \\\n",
    "--learning_rate 3e-5 \\\n",
    "--num_train_epochs 3.0 \\\n",
    "--max_seq_length 128 \\\n",
    "--output_dir ../outputs/{name}/\n",
    "\"\"\".format(\n",
    "    BERT_BASE_DIR='../data/weights/cased_L-12_H-768_A-12',\n",
    "    DATA_DIR='../data/input/scifi_gutenberg',\n",
    "    name=experiment_name\n",
    ").replace('\\n', '').split(' ')\n",
    "print(argv)\n",
    "args = parser.parse_args(argv)"
   ]
  },
  {
   "cell_type": "code",
   "execution_count": null,
   "metadata": {
    "ExecuteTime": {
     "end_time": "2018-11-09T15:26:30.278170Z",
     "start_time": "2018-11-09T15:26:30.248424Z"
    }
   },
   "outputs": [],
   "source": []
  },
  {
   "cell_type": "markdown",
   "metadata": {},
   "source": [
    "# Init"
   ]
  },
  {
   "cell_type": "code",
   "execution_count": 7,
   "metadata": {
    "ExecuteTime": {
     "end_time": "2018-11-13T01:57:21.195298Z",
     "start_time": "2018-11-13T01:57:21.125084Z"
    }
   },
   "outputs": [
    {
     "name": "stderr",
     "output_type": "stream",
     "text": [
      "12/08/2018 10:37:05 - INFO - __main__ -   device cuda n_gpu 1 distributed training False\n"
     ]
    }
   ],
   "source": [
    "if args.local_rank == -1 or args.no_cuda:\n",
    "    device = torch.device(\"cuda\" if torch.cuda.is_available() and not args.no_cuda else \"cpu\")\n",
    "    n_gpu = torch.cuda.device_count()\n",
    "else:\n",
    "    device = torch.device(\"cuda\", args.local_rank)\n",
    "    n_gpu = 1\n",
    "    # Initializes the distributed backend which will take care of sychronizing nodes/GPUs\n",
    "    torch.distributed.init_process_group(backend='nccl')\n",
    "logger.info(\"device %s n_gpu %d distributed training %r\", device, n_gpu, bool(args.local_rank != -1))\n",
    "\n",
    "if args.gradient_accumulation_steps < 1:\n",
    "    raise ValueError(\"Invalid gradient_accumulation_steps parameter: {}, should be >= 1\".format(\n",
    "                        args.gradient_accumulation_steps))\n",
    "\n",
    "args.train_batch_size = int(args.train_batch_size / args.gradient_accumulation_steps)\n",
    "\n",
    "random.seed(args.seed)\n",
    "np.random.seed(args.seed)\n",
    "torch.manual_seed(args.seed)\n",
    "if n_gpu > 0:\n",
    "    torch.cuda.manual_seed_all(args.seed)\n",
    "\n",
    "if not args.do_train and not args.do_eval:\n",
    "    raise ValueError(\"At least one of `do_train` or `do_eval` must be True.\")"
   ]
  },
  {
   "cell_type": "code",
   "execution_count": 8,
   "metadata": {
    "ExecuteTime": {
     "end_time": "2018-11-13T01:57:21.224410Z",
     "start_time": "2018-11-13T01:57:21.198912Z"
    }
   },
   "outputs": [],
   "source": [
    "bert_config = BertConfig.from_json_file(args.bert_config_file)\n",
    "\n",
    "if args.max_seq_length > bert_config.max_position_embeddings:\n",
    "    raise ValueError(\n",
    "        \"Cannot use sequence length {} because the BERT model was only trained up to sequence length {}\".format(\n",
    "        args.max_seq_length, bert_config.max_position_embeddings))"
   ]
  },
  {
   "cell_type": "code",
   "execution_count": 9,
   "metadata": {
    "ExecuteTime": {
     "end_time": "2018-11-13T01:57:21.253227Z",
     "start_time": "2018-11-13T01:57:21.226818Z"
    }
   },
   "outputs": [
    {
     "data": {
      "text/plain": [
       "'../outputs/scifi_cased_7_tied_mlm/state_dict.pkl'"
      ]
     },
     "execution_count": 9,
     "metadata": {},
     "output_type": "execute_result"
    }
   ],
   "source": [
    "if os.path.exists(args.output_dir) and os.listdir(args.output_dir):\n",
    "    print(\"Output directory ({}) already exists and is not empty.\".format(args.output_dir))\n",
    "os.makedirs(args.output_dir, exist_ok=True)\n",
    "save_path = os.path.join(args.output_dir, 'state_dict.pkl')\n",
    "save_path"
   ]
  },
  {
   "cell_type": "markdown",
   "metadata": {},
   "source": [
    "# Load data"
   ]
  },
  {
   "cell_type": "code",
   "execution_count": 10,
   "metadata": {
    "ExecuteTime": {
     "end_time": "2018-11-13T01:57:21.326146Z",
     "start_time": "2018-11-13T01:57:21.255600Z"
    }
   },
   "outputs": [],
   "source": [
    "tokenizer = tokenization.FullTokenizer(\n",
    "    vocab_file=args.vocab_file, do_lower_case=args.do_lower_case)\n",
    "\n",
    "decoder = {v:k for k,v in tokenizer.wordpiece_tokenizer.vocab.items()}"
   ]
  },
  {
   "cell_type": "code",
   "execution_count": 11,
   "metadata": {
    "ExecuteTime": {
     "end_time": "2018-11-13T01:57:21.355098Z",
     "start_time": "2018-11-13T01:57:21.328899Z"
    }
   },
   "outputs": [],
   "source": [
    "processors = {\n",
    "        \"lm\": LMProcessor,\n",
    "}\n",
    "    \n",
    "task_name = args.task_name.lower()\n",
    "if task_name not in processors:\n",
    "        raise ValueError(\"Task not found: %s\" % (task_name))\n",
    "\n",
    "processor = processors[task_name](tokenizer=tokenizer)\n",
    "label_list = processor.get_labels()"
   ]
  },
  {
   "cell_type": "code",
   "execution_count": 12,
   "metadata": {
    "ExecuteTime": {
     "end_time": "2018-11-13T01:58:48.514022Z",
     "start_time": "2018-11-13T01:57:21.357795Z"
    }
   },
   "outputs": [
    {
     "data": {
      "application/vnd.jupyter.widget-view+json": {
       "model_id": "1f13eab60b0c412080afb4d5cee1258b",
       "version_major": 2,
       "version_minor": 0
      },
      "text/plain": [
       "HBox(children=(IntProgress(value=0, description='tokenising', max=605329, style=ProgressStyle(description_widt…"
      ]
     },
     "metadata": {},
     "output_type": "display_data"
    },
    {
     "name": "stdout",
     "output_type": "stream",
     "text": [
      "\n"
     ]
    },
    {
     "data": {
      "application/vnd.jupyter.widget-view+json": {
       "model_id": "28de4ae36d7642efa524301f35ef7415",
       "version_major": 2,
       "version_minor": 0
      },
      "text/plain": [
       "HBox(children=(IntProgress(value=0, description='chunking', max=1081957, style=ProgressStyle(description_width…"
      ]
     },
     "metadata": {},
     "output_type": "display_data"
    },
    {
     "name": "stdout",
     "output_type": "stream",
     "text": [
      "\n"
     ]
    }
   ],
   "source": [
    "train_examples = processor.get_train_examples(args.data_dir, skip=30, tqdm=tqdm)\n",
    "num_train_steps = int(\n",
    "    len(train_examples) / args.train_batch_size * args.num_train_epochs)"
   ]
  },
  {
   "cell_type": "code",
   "execution_count": null,
   "metadata": {
    "ExecuteTime": {
     "end_time": "2018-11-10T08:35:09.919396Z",
     "start_time": "2018-11-10T08:35:09.767935Z"
    }
   },
   "outputs": [],
   "source": []
  },
  {
   "cell_type": "code",
   "execution_count": 13,
   "metadata": {
    "ExecuteTime": {
     "end_time": "2018-11-13T01:58:49.803849Z",
     "start_time": "2018-11-13T01:58:48.516554Z"
    },
    "scrolled": true
   },
   "outputs": [
    {
     "data": {
      "application/vnd.jupyter.widget-view+json": {
       "model_id": "241bda43ae73482191d2f3ec80f22cb2",
       "version_major": 2,
       "version_minor": 0
      },
      "text/plain": [
       "HBox(children=(IntProgress(value=0, max=1081957), HTML(value='')))"
      ]
     },
     "metadata": {},
     "output_type": "display_data"
    },
    {
     "name": "stdout",
     "output_type": "stream",
     "text": [
      "\n"
     ]
    }
   ],
   "source": [
    "train_features = convert_tokens_to_features(\n",
    "    train_examples, label_list, args.max_seq_length, tokenizer, tqdm=tqdm)\n",
    "\n",
    "all_input_ids = torch.tensor([f.input_ids for f in train_features], dtype=torch.long)\n",
    "all_input_mask = torch.tensor([f.input_mask for f in train_features], dtype=torch.long)\n",
    "all_segment_ids = torch.tensor([f.segment_ids for f in train_features], dtype=torch.long)\n",
    "all_label_ids = torch.tensor([f.label_id for f in train_features], dtype=torch.long)\n",
    "all_label_weights = torch.tensor([f.label_weights for f in train_features], dtype=torch.long)"
   ]
  },
  {
   "cell_type": "code",
   "execution_count": null,
   "metadata": {
    "ExecuteTime": {
     "end_time": "2018-11-11T06:08:15.170422Z",
     "start_time": "2018-11-11T06:07:03.795167Z"
    }
   },
   "outputs": [],
   "source": []
  },
  {
   "cell_type": "code",
   "execution_count": 14,
   "metadata": {
    "ExecuteTime": {
     "end_time": "2018-11-13T01:58:49.833100Z",
     "start_time": "2018-11-13T01:58:49.806849Z"
    }
   },
   "outputs": [],
   "source": [
    "train_data = TensorDataset(all_input_ids, all_input_mask, all_segment_ids, all_label_ids, all_label_weights)\n",
    "if args.local_rank == -1:\n",
    "    train_sampler = RandomSampler(train_data)\n",
    "else:\n",
    "    train_sampler = DistributedSampler(train_data)\n",
    "train_dataloader = DataLoader(train_data, sampler=train_sampler, batch_size=args.train_batch_size)"
   ]
  },
  {
   "cell_type": "code",
   "execution_count": null,
   "metadata": {
    "ExecuteTime": {
     "end_time": "2018-11-10T06:50:42.333283Z",
     "start_time": "2018-11-10T06:50:42.311379Z"
    }
   },
   "outputs": [],
   "source": []
  },
  {
   "cell_type": "markdown",
   "metadata": {},
   "source": [
    "# Load model"
   ]
  },
  {
   "cell_type": "code",
   "execution_count": 15,
   "metadata": {
    "ExecuteTime": {
     "end_time": "2018-11-10T07:13:01.317704Z",
     "start_time": "2018-11-10T07:13:00.880718Z"
    }
   },
   "outputs": [
    {
     "data": {
      "text/plain": [
       "'../data/weights/cased_L-12_H-768_A-12/pytorch_model.bin'"
      ]
     },
     "execution_count": 15,
     "metadata": {},
     "output_type": "execute_result"
    }
   ],
   "source": [
    "args.init_checkpoint"
   ]
  },
  {
   "cell_type": "code",
   "execution_count": 16,
   "metadata": {},
   "outputs": [
    {
     "data": {
      "text/plain": [
       "'../outputs/scifi_cased_7_tied_mlm/state_dict.pkl'"
      ]
     },
     "execution_count": 16,
     "metadata": {},
     "output_type": "execute_result"
    }
   ],
   "source": [
    "save_path"
   ]
  },
  {
   "cell_type": "code",
   "execution_count": 17,
   "metadata": {
    "ExecuteTime": {
     "end_time": "2018-11-13T01:58:55.806611Z",
     "start_time": "2018-11-13T01:58:49.835295Z"
    }
   },
   "outputs": [
    {
     "data": {
      "text/plain": [
       "BertForMaskedLanguageModelling(\n",
       "  (bert): BertModel(\n",
       "    (embeddings): BERTEmbeddings(\n",
       "      (word_embeddings): Embedding(28996, 768)\n",
       "      (position_embeddings): Embedding(512, 768)\n",
       "      (token_type_embeddings): Embedding(2, 768)\n",
       "      (LayerNorm): BERTLayerNorm()\n",
       "      (dropout): Dropout(p=0.1)\n",
       "    )\n",
       "    (encoder): BERTEncoder(\n",
       "      (layer): ModuleList(\n",
       "        (0): BERTLayer(\n",
       "          (attention): BERTAttention(\n",
       "            (self): BERTSelfAttention(\n",
       "              (query): Linear(in_features=768, out_features=768, bias=True)\n",
       "              (key): Linear(in_features=768, out_features=768, bias=True)\n",
       "              (value): Linear(in_features=768, out_features=768, bias=True)\n",
       "              (dropout): Dropout(p=0.1)\n",
       "            )\n",
       "            (output): BERTSelfOutput(\n",
       "              (dense): Linear(in_features=768, out_features=768, bias=True)\n",
       "              (LayerNorm): BERTLayerNorm()\n",
       "              (dropout): Dropout(p=0.1)\n",
       "            )\n",
       "          )\n",
       "          (intermediate): BERTIntermediate(\n",
       "            (dense): Linear(in_features=768, out_features=3072, bias=True)\n",
       "          )\n",
       "          (output): BERTOutput(\n",
       "            (dense): Linear(in_features=3072, out_features=768, bias=True)\n",
       "            (LayerNorm): BERTLayerNorm()\n",
       "            (dropout): Dropout(p=0.1)\n",
       "          )\n",
       "        )\n",
       "        (1): BERTLayer(\n",
       "          (attention): BERTAttention(\n",
       "            (self): BERTSelfAttention(\n",
       "              (query): Linear(in_features=768, out_features=768, bias=True)\n",
       "              (key): Linear(in_features=768, out_features=768, bias=True)\n",
       "              (value): Linear(in_features=768, out_features=768, bias=True)\n",
       "              (dropout): Dropout(p=0.1)\n",
       "            )\n",
       "            (output): BERTSelfOutput(\n",
       "              (dense): Linear(in_features=768, out_features=768, bias=True)\n",
       "              (LayerNorm): BERTLayerNorm()\n",
       "              (dropout): Dropout(p=0.1)\n",
       "            )\n",
       "          )\n",
       "          (intermediate): BERTIntermediate(\n",
       "            (dense): Linear(in_features=768, out_features=3072, bias=True)\n",
       "          )\n",
       "          (output): BERTOutput(\n",
       "            (dense): Linear(in_features=3072, out_features=768, bias=True)\n",
       "            (LayerNorm): BERTLayerNorm()\n",
       "            (dropout): Dropout(p=0.1)\n",
       "          )\n",
       "        )\n",
       "        (2): BERTLayer(\n",
       "          (attention): BERTAttention(\n",
       "            (self): BERTSelfAttention(\n",
       "              (query): Linear(in_features=768, out_features=768, bias=True)\n",
       "              (key): Linear(in_features=768, out_features=768, bias=True)\n",
       "              (value): Linear(in_features=768, out_features=768, bias=True)\n",
       "              (dropout): Dropout(p=0.1)\n",
       "            )\n",
       "            (output): BERTSelfOutput(\n",
       "              (dense): Linear(in_features=768, out_features=768, bias=True)\n",
       "              (LayerNorm): BERTLayerNorm()\n",
       "              (dropout): Dropout(p=0.1)\n",
       "            )\n",
       "          )\n",
       "          (intermediate): BERTIntermediate(\n",
       "            (dense): Linear(in_features=768, out_features=3072, bias=True)\n",
       "          )\n",
       "          (output): BERTOutput(\n",
       "            (dense): Linear(in_features=3072, out_features=768, bias=True)\n",
       "            (LayerNorm): BERTLayerNorm()\n",
       "            (dropout): Dropout(p=0.1)\n",
       "          )\n",
       "        )\n",
       "        (3): BERTLayer(\n",
       "          (attention): BERTAttention(\n",
       "            (self): BERTSelfAttention(\n",
       "              (query): Linear(in_features=768, out_features=768, bias=True)\n",
       "              (key): Linear(in_features=768, out_features=768, bias=True)\n",
       "              (value): Linear(in_features=768, out_features=768, bias=True)\n",
       "              (dropout): Dropout(p=0.1)\n",
       "            )\n",
       "            (output): BERTSelfOutput(\n",
       "              (dense): Linear(in_features=768, out_features=768, bias=True)\n",
       "              (LayerNorm): BERTLayerNorm()\n",
       "              (dropout): Dropout(p=0.1)\n",
       "            )\n",
       "          )\n",
       "          (intermediate): BERTIntermediate(\n",
       "            (dense): Linear(in_features=768, out_features=3072, bias=True)\n",
       "          )\n",
       "          (output): BERTOutput(\n",
       "            (dense): Linear(in_features=3072, out_features=768, bias=True)\n",
       "            (LayerNorm): BERTLayerNorm()\n",
       "            (dropout): Dropout(p=0.1)\n",
       "          )\n",
       "        )\n",
       "        (4): BERTLayer(\n",
       "          (attention): BERTAttention(\n",
       "            (self): BERTSelfAttention(\n",
       "              (query): Linear(in_features=768, out_features=768, bias=True)\n",
       "              (key): Linear(in_features=768, out_features=768, bias=True)\n",
       "              (value): Linear(in_features=768, out_features=768, bias=True)\n",
       "              (dropout): Dropout(p=0.1)\n",
       "            )\n",
       "            (output): BERTSelfOutput(\n",
       "              (dense): Linear(in_features=768, out_features=768, bias=True)\n",
       "              (LayerNorm): BERTLayerNorm()\n",
       "              (dropout): Dropout(p=0.1)\n",
       "            )\n",
       "          )\n",
       "          (intermediate): BERTIntermediate(\n",
       "            (dense): Linear(in_features=768, out_features=3072, bias=True)\n",
       "          )\n",
       "          (output): BERTOutput(\n",
       "            (dense): Linear(in_features=3072, out_features=768, bias=True)\n",
       "            (LayerNorm): BERTLayerNorm()\n",
       "            (dropout): Dropout(p=0.1)\n",
       "          )\n",
       "        )\n",
       "        (5): BERTLayer(\n",
       "          (attention): BERTAttention(\n",
       "            (self): BERTSelfAttention(\n",
       "              (query): Linear(in_features=768, out_features=768, bias=True)\n",
       "              (key): Linear(in_features=768, out_features=768, bias=True)\n",
       "              (value): Linear(in_features=768, out_features=768, bias=True)\n",
       "              (dropout): Dropout(p=0.1)\n",
       "            )\n",
       "            (output): BERTSelfOutput(\n",
       "              (dense): Linear(in_features=768, out_features=768, bias=True)\n",
       "              (LayerNorm): BERTLayerNorm()\n",
       "              (dropout): Dropout(p=0.1)\n",
       "            )\n",
       "          )\n",
       "          (intermediate): BERTIntermediate(\n",
       "            (dense): Linear(in_features=768, out_features=3072, bias=True)\n",
       "          )\n",
       "          (output): BERTOutput(\n",
       "            (dense): Linear(in_features=3072, out_features=768, bias=True)\n",
       "            (LayerNorm): BERTLayerNorm()\n",
       "            (dropout): Dropout(p=0.1)\n",
       "          )\n",
       "        )\n",
       "        (6): BERTLayer(\n",
       "          (attention): BERTAttention(\n",
       "            (self): BERTSelfAttention(\n",
       "              (query): Linear(in_features=768, out_features=768, bias=True)\n",
       "              (key): Linear(in_features=768, out_features=768, bias=True)\n",
       "              (value): Linear(in_features=768, out_features=768, bias=True)\n",
       "              (dropout): Dropout(p=0.1)\n",
       "            )\n",
       "            (output): BERTSelfOutput(\n",
       "              (dense): Linear(in_features=768, out_features=768, bias=True)\n",
       "              (LayerNorm): BERTLayerNorm()\n",
       "              (dropout): Dropout(p=0.1)\n",
       "            )\n",
       "          )\n",
       "          (intermediate): BERTIntermediate(\n",
       "            (dense): Linear(in_features=768, out_features=3072, bias=True)\n",
       "          )\n",
       "          (output): BERTOutput(\n",
       "            (dense): Linear(in_features=3072, out_features=768, bias=True)\n",
       "            (LayerNorm): BERTLayerNorm()\n",
       "            (dropout): Dropout(p=0.1)\n",
       "          )\n",
       "        )\n",
       "        (7): BERTLayer(\n",
       "          (attention): BERTAttention(\n",
       "            (self): BERTSelfAttention(\n",
       "              (query): Linear(in_features=768, out_features=768, bias=True)\n",
       "              (key): Linear(in_features=768, out_features=768, bias=True)\n",
       "              (value): Linear(in_features=768, out_features=768, bias=True)\n",
       "              (dropout): Dropout(p=0.1)\n",
       "            )\n",
       "            (output): BERTSelfOutput(\n",
       "              (dense): Linear(in_features=768, out_features=768, bias=True)\n",
       "              (LayerNorm): BERTLayerNorm()\n",
       "              (dropout): Dropout(p=0.1)\n",
       "            )\n",
       "          )\n",
       "          (intermediate): BERTIntermediate(\n",
       "            (dense): Linear(in_features=768, out_features=3072, bias=True)\n",
       "          )\n",
       "          (output): BERTOutput(\n",
       "            (dense): Linear(in_features=3072, out_features=768, bias=True)\n",
       "            (LayerNorm): BERTLayerNorm()\n",
       "            (dropout): Dropout(p=0.1)\n",
       "          )\n",
       "        )\n",
       "        (8): BERTLayer(\n",
       "          (attention): BERTAttention(\n",
       "            (self): BERTSelfAttention(\n",
       "              (query): Linear(in_features=768, out_features=768, bias=True)\n",
       "              (key): Linear(in_features=768, out_features=768, bias=True)\n",
       "              (value): Linear(in_features=768, out_features=768, bias=True)\n",
       "              (dropout): Dropout(p=0.1)\n",
       "            )\n",
       "            (output): BERTSelfOutput(\n",
       "              (dense): Linear(in_features=768, out_features=768, bias=True)\n",
       "              (LayerNorm): BERTLayerNorm()\n",
       "              (dropout): Dropout(p=0.1)\n",
       "            )\n",
       "          )\n",
       "          (intermediate): BERTIntermediate(\n",
       "            (dense): Linear(in_features=768, out_features=3072, bias=True)\n",
       "          )\n",
       "          (output): BERTOutput(\n",
       "            (dense): Linear(in_features=3072, out_features=768, bias=True)\n",
       "            (LayerNorm): BERTLayerNorm()\n",
       "            (dropout): Dropout(p=0.1)\n",
       "          )\n",
       "        )\n",
       "        (9): BERTLayer(\n",
       "          (attention): BERTAttention(\n",
       "            (self): BERTSelfAttention(\n",
       "              (query): Linear(in_features=768, out_features=768, bias=True)\n",
       "              (key): Linear(in_features=768, out_features=768, bias=True)\n",
       "              (value): Linear(in_features=768, out_features=768, bias=True)\n",
       "              (dropout): Dropout(p=0.1)\n",
       "            )\n",
       "            (output): BERTSelfOutput(\n",
       "              (dense): Linear(in_features=768, out_features=768, bias=True)\n",
       "              (LayerNorm): BERTLayerNorm()\n",
       "              (dropout): Dropout(p=0.1)\n",
       "            )\n",
       "          )\n",
       "          (intermediate): BERTIntermediate(\n",
       "            (dense): Linear(in_features=768, out_features=3072, bias=True)\n",
       "          )\n",
       "          (output): BERTOutput(\n",
       "            (dense): Linear(in_features=3072, out_features=768, bias=True)\n",
       "            (LayerNorm): BERTLayerNorm()\n",
       "            (dropout): Dropout(p=0.1)\n",
       "          )\n",
       "        )\n",
       "        (10): BERTLayer(\n",
       "          (attention): BERTAttention(\n",
       "            (self): BERTSelfAttention(\n",
       "              (query): Linear(in_features=768, out_features=768, bias=True)\n",
       "              (key): Linear(in_features=768, out_features=768, bias=True)\n",
       "              (value): Linear(in_features=768, out_features=768, bias=True)\n",
       "              (dropout): Dropout(p=0.1)\n",
       "            )\n",
       "            (output): BERTSelfOutput(\n",
       "              (dense): Linear(in_features=768, out_features=768, bias=True)\n",
       "              (LayerNorm): BERTLayerNorm()\n",
       "              (dropout): Dropout(p=0.1)\n",
       "            )\n",
       "          )\n",
       "          (intermediate): BERTIntermediate(\n",
       "            (dense): Linear(in_features=768, out_features=3072, bias=True)\n",
       "          )\n",
       "          (output): BERTOutput(\n",
       "            (dense): Linear(in_features=3072, out_features=768, bias=True)\n",
       "            (LayerNorm): BERTLayerNorm()\n",
       "            (dropout): Dropout(p=0.1)\n",
       "          )\n",
       "        )\n",
       "        (11): BERTLayer(\n",
       "          (attention): BERTAttention(\n",
       "            (self): BERTSelfAttention(\n",
       "              (query): Linear(in_features=768, out_features=768, bias=True)\n",
       "              (key): Linear(in_features=768, out_features=768, bias=True)\n",
       "              (value): Linear(in_features=768, out_features=768, bias=True)\n",
       "              (dropout): Dropout(p=0.1)\n",
       "            )\n",
       "            (output): BERTSelfOutput(\n",
       "              (dense): Linear(in_features=768, out_features=768, bias=True)\n",
       "              (LayerNorm): BERTLayerNorm()\n",
       "              (dropout): Dropout(p=0.1)\n",
       "            )\n",
       "          )\n",
       "          (intermediate): BERTIntermediate(\n",
       "            (dense): Linear(in_features=768, out_features=3072, bias=True)\n",
       "          )\n",
       "          (output): BERTOutput(\n",
       "            (dense): Linear(in_features=3072, out_features=768, bias=True)\n",
       "            (LayerNorm): BERTLayerNorm()\n",
       "            (dropout): Dropout(p=0.1)\n",
       "          )\n",
       "        )\n",
       "      )\n",
       "    )\n",
       "    (pooler): BERTPooler(\n",
       "      (dense): Linear(in_features=768, out_features=768, bias=True)\n",
       "      (activation): Tanh()\n",
       "    )\n",
       "  )\n",
       "  (dropout): Dropout(p=0.1)\n",
       "  (dense): Linear(in_features=768, out_features=768, bias=True)\n",
       "  (LayerNorm): BERTLayerNorm()\n",
       "  (word_decode): Linear(in_features=768, out_features=28996, bias=True)\n",
       ")"
      ]
     },
     "execution_count": 17,
     "metadata": {},
     "output_type": "execute_result"
    }
   ],
   "source": [
    "model = BertForMaskedLanguageModelling(bert_config)\n",
    "if args.init_checkpoint is not None:\n",
    "    model.bert.load_state_dict(torch.load(args.init_checkpoint, map_location='cpu'))\n",
    "    \n",
    "if os.path.isfile(save_path):\n",
    "    model.load_state_dict(torch.load(save_path, map_location='cpu'))\n",
    "    \n",
    "model.to(device)\n",
    "\n",
    "if args.local_rank != -1:\n",
    "    model = torch.nn.parallel.DistributedDataParallel(model, device_ids=[args.local_rank],\n",
    "                                                      output_device=args.local_rank)\n",
    "elif n_gpu > 1:\n",
    "    model = torch.nn.DataParallel(model)\n",
    "    \n",
    "model"
   ]
  },
  {
   "cell_type": "markdown",
   "metadata": {},
   "source": [
    "# Opt"
   ]
  },
  {
   "cell_type": "code",
   "execution_count": 18,
   "metadata": {
    "ExecuteTime": {
     "end_time": "2018-11-13T01:58:55.835458Z",
     "start_time": "2018-11-13T01:58:55.809563Z"
    }
   },
   "outputs": [],
   "source": [
    "no_decay = ['bias', 'gamma', 'beta']\n",
    "optimizer_parameters = [\n",
    "    {'params': [p for n, p in model.named_parameters() if n not in no_decay], 'weight_decay_rate': 0.01},\n",
    "    {'params': [p for n, p in model.named_parameters() if n in no_decay], 'weight_decay_rate': 0.0}\n",
    "    ]\n",
    "\n",
    "optimizer = BERTAdam(optimizer_parameters,\n",
    "                     lr=args.learning_rate,\n",
    "                     warmup=args.warmup_proportion,\n",
    "                t_total=num_train_steps)"
   ]
  },
  {
   "cell_type": "code",
   "execution_count": null,
   "metadata": {},
   "outputs": [],
   "source": []
  },
  {
   "cell_type": "markdown",
   "metadata": {},
   "source": [
    "# Train 3"
   ]
  },
  {
   "cell_type": "code",
   "execution_count": 19,
   "metadata": {},
   "outputs": [
    {
     "data": {
      "text/html": [
       "The next day I was somewhat somnolent, of which you may be sure Miss Frankland took no notice. She retired to her own room when next day I was somewhat somnolent, of which you may be sure Miss Frankland took no notice. She retired to her own room when went for our recreation. My friends scolded me for not coming to them the previous night, but I told them that my parents had continued to move about her room for so long a time that I had fallen fast asleep, and even then had not had enough, as they might have observed how sleepy I had been all day <span style=\"color: rgba(255,0,0,1)\">Willem</span> <span style=\"color: rgba(255,0,0,1)\">anthology</span><span style=\"color: rgba(255,0,0,1)\">φ</span> <span style=\"color: rgba(255,0,0,1)\">Scandinavian</span><span style=\"color: rgba(255,0,0,1)\">cal</span> <span style=\"color: rgba(255,0,0,1)\">dramatically</span> <span style=\"color: rgba(255,0,0,1)\">Afghanistan</span><span style=\"color: rgba(255,0,0,1)\">taking</span><span style=\"color: rgba(255,0,0,1)\">naire</span> <span style=\"color: rgba(255,0,0,1)\">actively</span> <span style=\"color: rgba(255,0,0,1)\">ON</span> <span style=\"color: rgba(255,0,0,1)\">Île</span> <span style=\"color: rgba(255,0,0,1)\">Tracy</span><span style=\"color: rgba(255,0,0,1)\">pole</span> <span style=\"color: rgba(255,0,0,1)\">sipped</span> <span style=\"color: rgba(255,0,0,1)\">Brigham</span> <span style=\"color: rgba(255,0,0,1)\">Palazzo</span> <span style=\"color: rgba(255,0,0,1)\">Regarding</span> <span style=\"color: rgba(255,0,0,1)\">washed</span> <span style=\"color: rgba(255,0,0,1)\">Tommy</span> <span style=\"color: rgba(255,0,0,1)\">deficiency</span> <span style=\"color: rgba(255,0,0,1)\">Spencer</span> <span style=\"color: rgba(255,0,0,1)\">rose</span><span style=\"color: rgba(255,0,0,1)\">zers</span> <span style=\"color: rgba(255,0,0,1)\">Science</span><span style=\"color: rgba(255,0,0,1)\">竹</span><span style=\"color: rgba(255,0,0,1)\">Ps</span> <span style=\"color: rgba(255,0,0,1)\">302</span> <span style=\"color: rgba(255,0,0,1)\">Herr</span> <span style=\"color: rgba(255,0,0,1)\">Heard</span>"
      ],
      "text/plain": [
       "<IPython.core.display.HTML object>"
      ]
     },
     "metadata": {},
     "output_type": "display_data"
    }
   ],
   "source": [
    "val_test=\"\"\"The next day I was somewhat somnolent, of which you may be sure Miss Frankland took no notice. She retired to her own room when we went for our recreation. My friends scolded me for not coming to them the previous night, but I told them that my parents had continued to move about her room for so long a time that I had fallen fast asleep, and even then had not had enough, as they might have observed how sleepy I had been all day.\"\"\"\n",
    "display(predict_next_words(val_test, processor, tokenizer, model, max_seq_length=args.max_seq_length, n=30, T=1, device=device))"
   ]
  },
  {
   "cell_type": "code",
   "execution_count": null,
   "metadata": {},
   "outputs": [],
   "source": []
  },
  {
   "cell_type": "code",
   "execution_count": null,
   "metadata": {},
   "outputs": [],
   "source": []
  },
  {
   "cell_type": "code",
   "execution_count": 20,
   "metadata": {
    "ExecuteTime": {
     "end_time": "2018-11-13T01:58:57.397437Z",
     "start_time": "2018-11-13T01:58:55.837586Z"
    },
    "scrolled": true
   },
   "outputs": [
    {
     "data": {
      "text/html": [
       "The next day I was somewhat somnolent, of which you may be sure Miss Frankland took next day I was somewhat somnolent, of which you may be sure Miss Frankland took notice. She retired to her own room when we went for our recreation. My friends scolded me for not coming to them the previous night, but I told them that my parents had continued to move about her room for so long a time that I had fallen fast asleep, and even then had not had enough, as they might have observed how sleepy I had been all day<span style=\"color: rgba(255,0,0,1)\">iation</span> <span style=\"color: rgba(255,0,0,1)\">commercially</span> <span style=\"color: rgba(255,0,0,1)\">Ș</span><span style=\"color: rgba(255,0,0,1)\">enbach</span> <span style=\"color: rgba(255,0,0,1)\">[unused64]</span> <span style=\"color: rgba(255,0,0,1)\">Amnesty</span> <span style=\"color: rgba(255,0,0,1)\">1750</span> <span style=\"color: rgba(255,0,0,1)\">spurred</span> <span style=\"color: rgba(255,0,0,1)\">Butler</span> <span style=\"color: rgba(255,0,0,1)\">seventy</span> <span style=\"color: rgba(255,0,0,1)\">Addison</span> <span style=\"color: rgba(255,0,0,1)\">pulsing</span> <span style=\"color: rgba(255,0,0,1)\">Cambodia</span> <span style=\"color: rgba(255,0,0,1)\">tunnels</span> <span style=\"color: rgba(255,0,0,1)\">vibrant</span> <span style=\"color: rgba(255,0,0,1)\">prehistoric</span> <span style=\"color: rgba(255,0,0,1)\">prophecy</span><span style=\"color: rgba(255,0,0,1)\">cence</span> <span style=\"color: rgba(255,0,0,1)\">mutant</span> <span style=\"color: rgba(255,0,0,1)\">U2</span>"
      ],
      "text/plain": [
       "<IPython.core.display.HTML object>"
      ]
     },
     "metadata": {},
     "output_type": "display_data"
    }
   ],
   "source": [
    "# val_test=\"\"\"The next day I was somewhat somnolent, of which you may be sure Miss Frankland took no notice. She retired to her own room when we went for our recreation. My sisters scolded me for not coming to them the previous night, but I told them that Miss F. had continued to move about her room for so long a time that I had fallen fast asleep, and even then had not had enough, as they might have observed how sleepy I had been all\"\"\"\n",
    "display(predict_next_words(val_test, processor, tokenizer, model, max_seq_length=args.max_seq_length, n=20, T=1, device=device))"
   ]
  },
  {
   "cell_type": "code",
   "execution_count": null,
   "metadata": {},
   "outputs": [],
   "source": []
  },
  {
   "cell_type": "code",
   "execution_count": 21,
   "metadata": {
    "ExecuteTime": {
     "end_time": "2018-11-13T01:58:57.526350Z",
     "start_time": "2018-11-13T01:58:57.400186Z"
    }
   },
   "outputs": [
    {
     "data": {
      "text/html": [
       "The next day I was somewhat so<span style=\"color: rgba(0,0,255,1)\">m</span>nolent, of which you may be <span style=\"color: rgba(0,0,255,1)\">sure</span> Miss Frankland took no notice. She retired to her own room when we went for our recreation. My friends sco<span style=\"color: rgba(0,0,255,1)\">lded</span> me for not coming to them the previous night, but I told them that my parents had continued to move about her room for so long a time that I had fallen fast asleep, <span style=\"color: rgba(0,0,255,1)\">and</span> even then had not had enough, as they <span style=\"color: rgba(0,0,255,1)\">might</span> have observed how sleepy I had been all <span style=\"color: rgba(0,0,255,1)\">day</span>"
      ],
      "text/plain": [
       "<IPython.core.display.HTML object>"
      ]
     },
     "metadata": {},
     "output_type": "display_data"
    },
    {
     "data": {
      "text/html": [
       "The next day I was somewhat so <span style=\"color: rgba(255,0,0,0.5017224550247192)\">Slowly</span>nolent, of which you may be <span style=\"color: rgba(255,0,0,0.5009612441062927)\">offer</span> Miss Frankland took no notice. She retired to her own room when we went for our recreation. My friends sco <span style=\"color: rgba(255,0,0,0.5013490915298462)\">streak</span> me for not coming to them the previous night, but I told them that my parents had continued to move about her room for so long a time that I had fallen fast asleep, <span style=\"color: rgba(255,0,0,0.5012556314468384)\">costing</span> even then had not had enough, as they<span style=\"color: rgba(255,0,0,0.5011866092681885)\">ľ</span> have observed how sleepy I had been all<span style=\"color: rgba(255,0,0,0.5023146867752075)\">zee</span>"
      ],
      "text/plain": [
       "<IPython.core.display.HTML object>"
      ]
     },
     "metadata": {},
     "output_type": "display_data"
    },
    {
     "data": {
      "text/plain": [
       "None"
      ]
     },
     "metadata": {},
     "output_type": "display_data"
    }
   ],
   "source": [
    "display(predict_masked_words(val_test, processor, tokenizer, model, device=device, max_seq_length=args.max_seq_length))"
   ]
  },
  {
   "cell_type": "code",
   "execution_count": 22,
   "metadata": {
    "ExecuteTime": {
     "end_time": "2018-11-13T01:58:57.549656Z",
     "start_time": "2018-11-13T01:58:57.528646Z"
    }
   },
   "outputs": [],
   "source": [
    "global_step = 0"
   ]
  },
  {
   "cell_type": "code",
   "execution_count": 45,
   "metadata": {
    "ExecuteTime": {
     "end_time": "2018-11-13T01:58:57.933014Z",
     "start_time": "2018-11-13T01:58:57.552204Z"
    },
    "scrolled": true
   },
   "outputs": [
    {
     "data": {
      "application/vnd.jupyter.widget-view+json": {
       "model_id": "143b7d47d0e44e5c80fd5f8c98ed4802",
       "version_major": 2,
       "version_minor": 0
      },
      "text/plain": [
       "HBox(children=(IntProgress(value=0, description='Epoch', max=3, style=ProgressStyle(description_width='initial…"
      ]
     },
     "metadata": {},
     "output_type": "display_data"
    },
    {
     "data": {
      "application/vnd.jupyter.widget-view+json": {
       "model_id": "7c743573374348e8a18bd7d130412a55",
       "version_major": 2,
       "version_minor": 0
      },
      "text/plain": [
       "HBox(children=(IntProgress(value=0, description='Iteration', max=135245, style=ProgressStyle(description_width…"
      ]
     },
     "metadata": {},
     "output_type": "display_data"
    },
    {
     "name": "stdout",
     "output_type": "stream",
     "text": [
      "step 10 loss 0.12522891908884048\n"
     ]
    },
    {
     "data": {
      "text/html": [
       "<span style=\"color: rgba(0,0,255,1)\">All</span> at once, in a moment of realisation, he knew the secret to creating true artificial <span style=\"color: rgba(0,0,255,1)\">intelligence</span>"
      ],
      "text/plain": [
       "<IPython.core.display.HTML object>"
      ]
     },
     "metadata": {},
     "output_type": "display_data"
    },
    {
     "data": {
      "text/html": [
       "<span style=\"color: rgba(255,0,0,0.6070922613143921)\">and</span> at once, in a moment of realisation, he knew the secret to creating true artificial <span style=\"color: rgba(255,0,0,0.5669963359832764)\">life</span>"
      ],
      "text/plain": [
       "<IPython.core.display.HTML object>"
      ]
     },
     "metadata": {},
     "output_type": "display_data"
    },
    {
     "data": {
      "text/plain": [
       "None"
      ]
     },
     "metadata": {},
     "output_type": "display_data"
    },
    {
     "data": {
      "text/html": [
       "All at once, in a moment of realisation, at once, in a moment of realisation, knew the secret to creating true artificial intelligence <span style=\"color: rgba(255,0,0,1)\">\"</span> <span style=\"color: rgba(255,0,0,1)\">When</span> <span style=\"color: rgba(255,0,0,1)\">was</span> <span style=\"color: rgba(255,0,0,1)\">the</span> <span style=\"color: rgba(255,0,0,1)\">last</span> <span style=\"color: rgba(255,0,0,1)\">over</span> <span style=\"color: rgba(255,0,0,1)\">\"</span> <span style=\"color: rgba(255,0,0,1)\">\"</span> <span style=\"color: rgba(255,0,0,1)\">\"</span> <span style=\"color: rgba(255,0,0,1)\">\"</span>"
      ],
      "text/plain": [
       "<IPython.core.display.HTML object>"
      ]
     },
     "metadata": {},
     "output_type": "display_data"
    },
    {
     "name": "stdout",
     "output_type": "stream",
     "text": [
      "step 3010 loss 0.12293537592887878\n"
     ]
    },
    {
     "data": {
      "text/html": [
       "All at once, <span style=\"color: rgba(0,0,255,1)\">in</span> <span style=\"color: rgba(0,0,255,1)\">a</span> moment of realisation, he knew the secret to creating true artificial <span style=\"color: rgba(0,0,255,1)\">intelligence</span>"
      ],
      "text/plain": [
       "<IPython.core.display.HTML object>"
      ]
     },
     "metadata": {},
     "output_type": "display_data"
    },
    {
     "data": {
      "text/html": [
       "All at once, <span style=\"color: rgba(255,0,0,0.7375515103340149)\">at</span> <span style=\"color: rgba(255,0,0,0.9276392459869385)\">the</span> moment of realisation, he knew the secret to creating true artificial <span style=\"color: rgba(255,0,0,0.8742320537567139)\">intelligence</span>"
      ],
      "text/plain": [
       "<IPython.core.display.HTML object>"
      ]
     },
     "metadata": {},
     "output_type": "display_data"
    },
    {
     "data": {
      "text/plain": [
       "None"
      ]
     },
     "metadata": {},
     "output_type": "display_data"
    },
    {
     "data": {
      "text/html": [
       "All at once, in a moment of realisation, at once, in a moment of realisation, knew the secret to creating true artificial intelligence <span style=\"color: rgba(255,0,0,1)\">Past</span> <span style=\"color: rgba(255,0,0,1)\">clothes</span> <span style=\"color: rgba(255,0,0,1)\">manner</span> <span style=\"color: rgba(255,0,0,1)\">man</span> <span style=\"color: rgba(255,0,0,1)\">inhabit</span> <span style=\"color: rgba(255,0,0,1)\">am</span> <span style=\"color: rgba(255,0,0,1)\">his</span> <span style=\"color: rgba(255,0,0,1)\">logical</span> <span style=\"color: rgba(255,0,0,1)\">for</span> <span style=\"color: rgba(255,0,0,1)\">that</span>"
      ],
      "text/plain": [
       "<IPython.core.display.HTML object>"
      ]
     },
     "metadata": {},
     "output_type": "display_data"
    },
    {
     "name": "stdout",
     "output_type": "stream",
     "text": [
      "step 6010 loss 0.12341079488148292\n"
     ]
    },
    {
     "data": {
      "text/html": [
       "All at once, in a moment of realisation<span style=\"color: rgba(0,0,255,1)\">,</span> he knew the secret to creating true artificial <span style=\"color: rgba(0,0,255,1)\">intelligence</span>"
      ],
      "text/plain": [
       "<IPython.core.display.HTML object>"
      ]
     },
     "metadata": {},
     "output_type": "display_data"
    },
    {
     "data": {
      "text/html": [
       "All at once, in a moment of realisation<span style=\"color: rgba(255,0,0,0.9877555966377258)\">,</span> he knew the secret to creating true artificial <span style=\"color: rgba(255,0,0,0.543965220451355)\">life</span>"
      ],
      "text/plain": [
       "<IPython.core.display.HTML object>"
      ]
     },
     "metadata": {},
     "output_type": "display_data"
    },
    {
     "data": {
      "text/plain": [
       "None"
      ]
     },
     "metadata": {},
     "output_type": "display_data"
    },
    {
     "data": {
      "text/html": [
       "All at once, in a moment of realisation, at once, in a moment of realisation, knew the secret to creating true artificial intelligence <span style=\"color: rgba(255,0,0,1)\">But</span> <span style=\"color: rgba(255,0,0,1)\">he</span><span style=\"color: rgba(255,0,0,1)\">,</span> <span style=\"color: rgba(255,0,0,1)\">miracle</span> <span style=\"color: rgba(255,0,0,1)\">was</span> <span style=\"color: rgba(255,0,0,1)\">human</span> <span style=\"color: rgba(255,0,0,1)\">the</span> <span style=\"color: rgba(255,0,0,1)\">He</span><span style=\"color: rgba(255,0,0,1)\">.</span> <span style=\"color: rgba(255,0,0,1)\">had</span>"
      ],
      "text/plain": [
       "<IPython.core.display.HTML object>"
      ]
     },
     "metadata": {},
     "output_type": "display_data"
    },
    {
     "name": "stdout",
     "output_type": "stream",
     "text": [
      "step 9010 loss 0.12275154758120577\n"
     ]
    },
    {
     "data": {
      "text/html": [
       "All at once, in a moment <span style=\"color: rgba(0,0,255,1)\">of</span> realisation, he knew <span style=\"color: rgba(0,0,255,1)\">the</span> secret to creating true <span style=\"color: rgba(0,0,255,1)\">artificial</span> <span style=\"color: rgba(0,0,255,1)\">intelligence</span>"
      ],
      "text/plain": [
       "<IPython.core.display.HTML object>"
      ]
     },
     "metadata": {},
     "output_type": "display_data"
    },
    {
     "data": {
      "text/html": [
       "All at once, in a moment <span style=\"color: rgba(255,0,0,0.927075982093811)\">of</span> realisation, he knew <span style=\"color: rgba(255,0,0,0.9707392454147339)\">the</span> secret to creating true <span style=\"color: rgba(255,0,0,0.5817177891731262)\">life</span><span style=\"color: rgba(255,0,0,0.7052865028381348)\">.</span>"
      ],
      "text/plain": [
       "<IPython.core.display.HTML object>"
      ]
     },
     "metadata": {},
     "output_type": "display_data"
    },
    {
     "data": {
      "text/plain": [
       "None"
      ]
     },
     "metadata": {},
     "output_type": "display_data"
    },
    {
     "data": {
      "text/html": [
       "All at once, in a moment of realisation, at once, in a moment of realisation, knew the secret to creating true artificial intelligence <span style=\"color: rgba(255,0,0,1)\">him</span> <span style=\"color: rgba(255,0,0,1)\">he</span> <span style=\"color: rgba(255,0,0,1)\">to</span> <span style=\"color: rgba(255,0,0,1)\">alone</span><span style=\"color: rgba(255,0,0,1)\">inhabited</span><span style=\"color: rgba(255,0,0,1)\">.</span> <span style=\"color: rgba(255,0,0,1)\">the</span> <span style=\"color: rgba(255,0,0,1)\">self</span> <span style=\"color: rgba(255,0,0,1)\">mind</span><span style=\"color: rgba(255,0,0,1)\">,</span>"
      ],
      "text/plain": [
       "<IPython.core.display.HTML object>"
      ]
     },
     "metadata": {},
     "output_type": "display_data"
    },
    {
     "name": "stdout",
     "output_type": "stream",
     "text": [
      "step 12010 loss 0.12263300655782222\n"
     ]
    },
    {
     "data": {
      "text/html": [
       "All at once, in a moment of realisation, <span style=\"color: rgba(0,0,255,1)\">he</span> <span style=\"color: rgba(0,0,255,1)\">knew</span> the secret to creating true artificial <span style=\"color: rgba(0,0,255,1)\">intelligence</span>"
      ],
      "text/plain": [
       "<IPython.core.display.HTML object>"
      ]
     },
     "metadata": {},
     "output_type": "display_data"
    },
    {
     "data": {
      "text/html": [
       "All at once, in a moment of realisation, <span style=\"color: rgba(255,0,0,0.6222631931304932)\">he</span> <span style=\"color: rgba(255,0,0,0.5481765866279602)\">had</span> the secret to creating true artificial <span style=\"color: rgba(255,0,0,0.5458206534385681)\">matter</span>"
      ],
      "text/plain": [
       "<IPython.core.display.HTML object>"
      ]
     },
     "metadata": {},
     "output_type": "display_data"
    },
    {
     "data": {
      "text/plain": [
       "None"
      ]
     },
     "metadata": {},
     "output_type": "display_data"
    },
    {
     "data": {
      "text/html": [
       "All at once, in a moment of realisation, at once, in a moment of realisation, knew the secret to creating true artificial intelligence <span style=\"color: rgba(255,0,0,1)\">him</span> <span style=\"color: rgba(255,0,0,1)\">At</span><span style=\"color: rgba(255,0,0,1)\">.</span><span style=\"color: rgba(255,0,0,1)\">.</span><span style=\"color: rgba(255,0,0,1)\">.</span> <span style=\"color: rgba(255,0,0,1)\">He</span> <span style=\"color: rgba(255,0,0,1)\">how</span> <span style=\"color: rgba(255,0,0,1)\">this</span><span style=\"color: rgba(255,0,0,1)\">cule</span> <span style=\"color: rgba(255,0,0,1)\">for</span>"
      ],
      "text/plain": [
       "<IPython.core.display.HTML object>"
      ]
     },
     "metadata": {},
     "output_type": "display_data"
    },
    {
     "name": "stdout",
     "output_type": "stream",
     "text": [
      "step 15010 loss 0.1225262757614255\n"
     ]
    },
    {
     "data": {
      "text/html": [
       "All <span style=\"color: rgba(0,0,255,1)\">at</span> once, in a moment of realisation, he knew the secret to creating true artificial <span style=\"color: rgba(0,0,255,1)\">intelligence</span>"
      ],
      "text/plain": [
       "<IPython.core.display.HTML object>"
      ]
     },
     "metadata": {},
     "output_type": "display_data"
    },
    {
     "data": {
      "text/html": [
       "All <span style=\"color: rgba(255,0,0,0.9980040788650513)\">at</span> once, in a moment of realisation, he knew the secret to creating true artificial <span style=\"color: rgba(255,0,0,0.5344364047050476)\">energy</span>"
      ],
      "text/plain": [
       "<IPython.core.display.HTML object>"
      ]
     },
     "metadata": {},
     "output_type": "display_data"
    },
    {
     "data": {
      "text/plain": [
       "None"
      ]
     },
     "metadata": {},
     "output_type": "display_data"
    },
    {
     "data": {
      "text/html": [
       "All at once, in a moment of realisation, at once, in a moment of realisation, knew the secret to creating true artificial intelligence <span style=\"color: rgba(255,0,0,1)\">One</span><span style=\"color: rgba(255,0,0,1)\">.</span><span style=\"color: rgba(255,0,0,1)\">”</span> <span style=\"color: rgba(255,0,0,1)\">was</span> <span style=\"color: rgba(255,0,0,1)\">answered</span> <span style=\"color: rgba(255,0,0,1)\">“</span><span style=\"color: rgba(255,0,0,1)\">his</span> <span style=\"color: rgba(255,0,0,1)\">the</span><span style=\"color: rgba(255,0,0,1)\">liness</span> <span style=\"color: rgba(255,0,0,1)\">“</span>"
      ],
      "text/plain": [
       "<IPython.core.display.HTML object>"
      ]
     },
     "metadata": {},
     "output_type": "display_data"
    },
    {
     "name": "stdout",
     "output_type": "stream",
     "text": [
      "step 18010 loss 0.12261671234418949\n"
     ]
    },
    {
     "data": {
      "text/html": [
       "All at once, in a moment of <span style=\"color: rgba(0,0,255,1)\">real</span>isation, <span style=\"color: rgba(0,0,255,1)\">he</span> <span style=\"color: rgba(0,0,255,1)\">knew</span> the secret to creating true artificial <span style=\"color: rgba(0,0,255,1)\">intelligence</span>"
      ],
      "text/plain": [
       "<IPython.core.display.HTML object>"
      ]
     },
     "metadata": {},
     "output_type": "display_data"
    },
    {
     "data": {
      "text/html": [
       "All at once, in a moment of <span style=\"color: rgba(255,0,0,0.9608795642852783)\">real</span>isation, <span style=\"color: rgba(255,0,0,0.647154688835144)\">I</span> <span style=\"color: rgba(255,0,0,0.5273109078407288)\">know</span> the secret to creating true artificial <span style=\"color: rgba(255,0,0,0.5290436744689941)\">phenomena</span>"
      ],
      "text/plain": [
       "<IPython.core.display.HTML object>"
      ]
     },
     "metadata": {},
     "output_type": "display_data"
    },
    {
     "data": {
      "text/plain": [
       "None"
      ]
     },
     "metadata": {},
     "output_type": "display_data"
    },
    {
     "data": {
      "text/html": [
       "All at once, in a moment of realisation, at once, in a moment of realisation, knew the secret to creating true artificial intelligence <span style=\"color: rgba(255,0,0,1)\">Then</span> <span style=\"color: rgba(255,0,0,1)\">no</span> <span style=\"color: rgba(255,0,0,1)\">to</span> <span style=\"color: rgba(255,0,0,1)\">decisive</span> <span style=\"color: rgba(255,0,0,1)\">noise</span> <span style=\"color: rgba(255,0,0,1)\">speak</span> <span style=\"color: rgba(255,0,0,1)\">a</span><span style=\"color: rgba(255,0,0,1)\">,</span> <span style=\"color: rgba(255,0,0,1)\">or</span><span style=\"color: rgba(255,0,0,1)\">.</span>"
      ],
      "text/plain": [
       "<IPython.core.display.HTML object>"
      ]
     },
     "metadata": {},
     "output_type": "display_data"
    },
    {
     "name": "stdout",
     "output_type": "stream",
     "text": [
      "step 21010 loss 0.12186322208990653\n"
     ]
    },
    {
     "data": {
      "text/html": [
       "All at <span style=\"color: rgba(0,0,255,1)\">once</span>, in a moment of realisation, he knew the secret to creating <span style=\"color: rgba(0,0,255,1)\">true</span> artificial <span style=\"color: rgba(0,0,255,1)\">intelligence</span>"
      ],
      "text/plain": [
       "<IPython.core.display.HTML object>"
      ]
     },
     "metadata": {},
     "output_type": "display_data"
    },
    {
     "data": {
      "text/html": [
       "All at <span style=\"color: rgba(255,0,0,0.987106204032898)\">once</span>, in a moment of realisation, he knew the secret to creating <span style=\"color: rgba(255,0,0,0.7277036905288696)\">an</span> artificial <span style=\"color: rgba(255,0,0,0.5884771347045898)\">life</span>"
      ],
      "text/plain": [
       "<IPython.core.display.HTML object>"
      ]
     },
     "metadata": {},
     "output_type": "display_data"
    },
    {
     "data": {
      "text/plain": [
       "None"
      ]
     },
     "metadata": {},
     "output_type": "display_data"
    },
    {
     "data": {
      "text/html": [
       "All at once, in a moment of realisation, at once, in a moment of realisation, knew the secret to creating true artificial intelligence <span style=\"color: rgba(255,0,0,1)\">all</span> <span style=\"color: rgba(255,0,0,1)\">that</span> <span style=\"color: rgba(255,0,0,1)\">the</span> <span style=\"color: rgba(255,0,0,1)\">possessed</span><span style=\"color: rgba(255,0,0,1)\">,</span> <span style=\"color: rgba(255,0,0,1)\">wanting</span> <span style=\"color: rgba(255,0,0,1)\">quote</span> <span style=\"color: rgba(255,0,0,1)\">and</span> <span style=\"color: rgba(255,0,0,1)\">planets</span> <span style=\"color: rgba(255,0,0,1)\">There</span>"
      ],
      "text/plain": [
       "<IPython.core.display.HTML object>"
      ]
     },
     "metadata": {},
     "output_type": "display_data"
    },
    {
     "name": "stdout",
     "output_type": "stream",
     "text": [
      "step 24010 loss 0.12177301533520221\n"
     ]
    },
    {
     "data": {
      "text/html": [
       "All at once, in a moment of realisation, he knew the secret to creating true artificial <span style=\"color: rgba(0,0,255,1)\">intelligence</span>"
      ],
      "text/plain": [
       "<IPython.core.display.HTML object>"
      ]
     },
     "metadata": {},
     "output_type": "display_data"
    },
    {
     "data": {
      "text/html": [
       "All at once, in a moment of realisation, he knew the secret to creating true artificial <span style=\"color: rgba(255,0,0,0.5522556900978088)\">life</span>"
      ],
      "text/plain": [
       "<IPython.core.display.HTML object>"
      ]
     },
     "metadata": {},
     "output_type": "display_data"
    },
    {
     "data": {
      "text/plain": [
       "None"
      ]
     },
     "metadata": {},
     "output_type": "display_data"
    },
    {
     "data": {
      "text/html": [
       "All at once, in a moment of realisation, at once, in a moment of realisation, knew the secret to creating true artificial intelligence <span style=\"color: rgba(255,0,0,1)\">Yet</span><span style=\"color: rgba(255,0,0,1)\">.</span><span style=\"color: rgba(255,0,0,1)\">.</span> <span style=\"color: rgba(255,0,0,1)\">what</span> <span style=\"color: rgba(255,0,0,1)\">instantly</span> <span style=\"color: rgba(255,0,0,1)\">was</span><span style=\"color: rgba(255,0,0,1)\">!</span><span style=\"color: rgba(255,0,0,1)\">,</span><span style=\"color: rgba(255,0,0,1)\">.</span><span style=\"color: rgba(255,0,0,1)\">,</span>"
      ],
      "text/plain": [
       "<IPython.core.display.HTML object>"
      ]
     },
     "metadata": {},
     "output_type": "display_data"
    },
    {
     "name": "stdout",
     "output_type": "stream",
     "text": [
      "step 27010 loss 0.1214510171165069\n"
     ]
    },
    {
     "data": {
      "text/html": [
       "All at once, in a moment <span style=\"color: rgba(0,0,255,1)\">of</span> realisation, he knew the secret to creating true artificial <span style=\"color: rgba(0,0,255,1)\">intelligence</span>"
      ],
      "text/plain": [
       "<IPython.core.display.HTML object>"
      ]
     },
     "metadata": {},
     "output_type": "display_data"
    },
    {
     "data": {
      "text/html": [
       "All at once, in a moment<span style=\"color: rgba(255,0,0,0.7497260570526123)\">ary</span> realisation, he knew the secret to creating true artificial <span style=\"color: rgba(255,0,0,0.9015946388244629)\">intelligence</span>"
      ],
      "text/plain": [
       "<IPython.core.display.HTML object>"
      ]
     },
     "metadata": {},
     "output_type": "display_data"
    },
    {
     "data": {
      "text/plain": [
       "None"
      ]
     },
     "metadata": {},
     "output_type": "display_data"
    },
    {
     "data": {
      "text/html": [
       "All at once, in a moment of realisation, at once, in a moment of realisation, knew the secret to creating true artificial intelligence <span style=\"color: rgba(255,0,0,1)\">Quick</span> <span style=\"color: rgba(255,0,0,1)\">Truth</span> <span style=\"color: rgba(255,0,0,1)\">I</span> <span style=\"color: rgba(255,0,0,1)\">at</span><span style=\"color: rgba(255,0,0,1)\">,</span> <span style=\"color: rgba(255,0,0,1)\">Master</span> <span style=\"color: rgba(255,0,0,1)\">\"</span> <span style=\"color: rgba(255,0,0,1)\">asked</span><span style=\"color: rgba(255,0,0,1)\">.</span> <span style=\"color: rgba(255,0,0,1)\">hadn</span>"
      ],
      "text/plain": [
       "<IPython.core.display.HTML object>"
      ]
     },
     "metadata": {},
     "output_type": "display_data"
    },
    {
     "name": "stdout",
     "output_type": "stream",
     "text": [
      "step 30010 loss 0.12194494149337212\n"
     ]
    },
    {
     "data": {
      "text/html": [
       "All <span style=\"color: rgba(0,0,255,1)\">at</span> <span style=\"color: rgba(0,0,255,1)\">once</span>, <span style=\"color: rgba(0,0,255,1)\">in</span> a moment of realisation, <span style=\"color: rgba(0,0,255,1)\">he</span> knew the secret to creating true artificial <span style=\"color: rgba(0,0,255,1)\">intelligence</span>"
      ],
      "text/plain": [
       "<IPython.core.display.HTML object>"
      ]
     },
     "metadata": {},
     "output_type": "display_data"
    },
    {
     "data": {
      "text/html": [
       "All <span style=\"color: rgba(255,0,0,0.570956289768219)\">at</span> <span style=\"color: rgba(255,0,0,0.584740936756134)\">that</span>, <span style=\"color: rgba(255,0,0,0.818366289138794)\">in</span> a moment of realisation, <span style=\"color: rgba(255,0,0,0.670211672782898)\">he</span> knew the secret to creating true artificial <span style=\"color: rgba(255,0,0,0.9737025499343872)\">intelligence</span>"
      ],
      "text/plain": [
       "<IPython.core.display.HTML object>"
      ]
     },
     "metadata": {},
     "output_type": "display_data"
    },
    {
     "data": {
      "text/plain": [
       "None"
      ]
     },
     "metadata": {},
     "output_type": "display_data"
    },
    {
     "data": {
      "text/html": [
       "All at once, in a moment of realisation, at once, in a moment of realisation, knew the secret to creating true artificial intelligence<span style=\"color: rgba(255,0,0,1)\">.</span><span style=\"color: rgba(255,0,0,1)\">.</span> <span style=\"color: rgba(255,0,0,1)\">be</span><span style=\"color: rgba(255,0,0,1)\">.</span> <span style=\"color: rgba(255,0,0,1)\">that</span> <span style=\"color: rgba(255,0,0,1)\">explained</span> <span style=\"color: rgba(255,0,0,1)\">purely</span> <span style=\"color: rgba(255,0,0,1)\">a</span><span style=\"color: rgba(255,0,0,1)\">izations</span> <span style=\"color: rgba(255,0,0,1)\">movement</span>"
      ],
      "text/plain": [
       "<IPython.core.display.HTML object>"
      ]
     },
     "metadata": {},
     "output_type": "display_data"
    },
    {
     "name": "stdout",
     "output_type": "stream",
     "text": [
      "step 33010 loss 0.12193972508857648\n"
     ]
    },
    {
     "data": {
      "text/html": [
       "All at once, in a moment of realisation, he knew the secret to creating <span style=\"color: rgba(0,0,255,1)\">true</span> <span style=\"color: rgba(0,0,255,1)\">artificial</span> <span style=\"color: rgba(0,0,255,1)\">intelligence</span>"
      ],
      "text/plain": [
       "<IPython.core.display.HTML object>"
      ]
     },
     "metadata": {},
     "output_type": "display_data"
    },
    {
     "data": {
      "text/html": [
       "All at once, in a moment of realisation, he knew the secret to creating <span style=\"color: rgba(255,0,0,0.9298684597015381)\">true</span> <span style=\"color: rgba(255,0,0,0.5339326858520508)\">life</span><span style=\"color: rgba(255,0,0,0.5772831439971924)\">.</span>"
      ],
      "text/plain": [
       "<IPython.core.display.HTML object>"
      ]
     },
     "metadata": {},
     "output_type": "display_data"
    },
    {
     "data": {
      "text/plain": [
       "None"
      ]
     },
     "metadata": {},
     "output_type": "display_data"
    },
    {
     "data": {
      "text/html": [
       "All at once, in a moment of realisation, at once, in a moment of realisation, knew the secret to creating true artificial intelligence <span style=\"color: rgba(255,0,0,1)\">and</span><span style=\"color: rgba(255,0,0,1)\">.</span> <span style=\"color: rgba(255,0,0,1)\">evenly</span> <span style=\"color: rgba(255,0,0,1)\">E</span> <span style=\"color: rgba(255,0,0,1)\">pen</span><span style=\"color: rgba(255,0,0,1)\">.</span><span style=\"color: rgba(255,0,0,1)\">.</span> <span style=\"color: rgba(255,0,0,1)\">had</span> <span style=\"color: rgba(255,0,0,1)\">to</span> <span style=\"color: rgba(255,0,0,1)\">the</span>"
      ],
      "text/plain": [
       "<IPython.core.display.HTML object>"
      ]
     },
     "metadata": {},
     "output_type": "display_data"
    },
    {
     "name": "stdout",
     "output_type": "stream",
     "text": [
      "step 36010 loss 0.1216562401453654\n"
     ]
    },
    {
     "data": {
      "text/html": [
       "All at once, in a moment <span style=\"color: rgba(0,0,255,1)\">of</span> realisation, he knew the secret <span style=\"color: rgba(0,0,255,1)\">to</span> creating true artificial <span style=\"color: rgba(0,0,255,1)\">intelligence</span>"
      ],
      "text/plain": [
       "<IPython.core.display.HTML object>"
      ]
     },
     "metadata": {},
     "output_type": "display_data"
    },
    {
     "data": {
      "text/html": [
       "All at once, in a moment <span style=\"color: rgba(255,0,0,0.9875426292419434)\">of</span> realisation, he knew the secret <span style=\"color: rgba(255,0,0,0.7370414137840271)\">of</span> creating true artificial<span style=\"color: rgba(255,0,0,0.5255091786384583)\">.</span>"
      ],
      "text/plain": [
       "<IPython.core.display.HTML object>"
      ]
     },
     "metadata": {},
     "output_type": "display_data"
    },
    {
     "data": {
      "text/plain": [
       "None"
      ]
     },
     "metadata": {},
     "output_type": "display_data"
    },
    {
     "data": {
      "text/html": [
       "All at once, in a moment of realisation, at once, in a moment of realisation, knew the secret to creating true artificial intelligence<span style=\"color: rgba(255,0,0,1)\">.</span> <span style=\"color: rgba(255,0,0,1)\">could</span> <span style=\"color: rgba(255,0,0,1)\">the</span><span style=\"color: rgba(255,0,0,1)\">,</span> <span style=\"color: rgba(255,0,0,1)\">artificial</span> <span style=\"color: rgba(255,0,0,1)\">be</span> <span style=\"color: rgba(255,0,0,1)\">Never</span> <span style=\"color: rgba(255,0,0,1)\">mused</span> <span style=\"color: rgba(255,0,0,1)\">question</span><span style=\"color: rgba(255,0,0,1)\">?</span>"
      ],
      "text/plain": [
       "<IPython.core.display.HTML object>"
      ]
     },
     "metadata": {},
     "output_type": "display_data"
    },
    {
     "name": "stdout",
     "output_type": "stream",
     "text": [
      "step 39010 loss 0.12143115369727214\n"
     ]
    },
    {
     "data": {
      "text/html": [
       "All at once, in a moment of realisation, he knew <span style=\"color: rgba(0,0,255,1)\">the</span> secret to <span style=\"color: rgba(0,0,255,1)\">creating</span> true <span style=\"color: rgba(0,0,255,1)\">artificial</span> <span style=\"color: rgba(0,0,255,1)\">intelligence</span>"
      ],
      "text/plain": [
       "<IPython.core.display.HTML object>"
      ]
     },
     "metadata": {},
     "output_type": "display_data"
    },
    {
     "data": {
      "text/html": [
       "All at once, in a moment of realisation, he knew <span style=\"color: rgba(255,0,0,0.9099678993225098)\">the</span> secret to <span style=\"color: rgba(255,0,0,0.7767199277877808)\">be</span> true<span style=\"color: rgba(255,0,0,0.8166309595108032)\">.</span><span style=\"color: rgba(255,0,0,0.5600569248199463)\">.</span>"
      ],
      "text/plain": [
       "<IPython.core.display.HTML object>"
      ]
     },
     "metadata": {},
     "output_type": "display_data"
    },
    {
     "data": {
      "text/plain": [
       "None"
      ]
     },
     "metadata": {},
     "output_type": "display_data"
    },
    {
     "data": {
      "text/html": [
       "All at once, in a moment of realisation, at once, in a moment of realisation, knew the secret to creating true artificial intelligence <span style=\"color: rgba(255,0,0,1)\">Think</span> <span style=\"color: rgba(255,0,0,1)\">follower</span> <span style=\"color: rgba(255,0,0,1)\">the</span> <span style=\"color: rgba(255,0,0,1)\">on</span> <span style=\"color: rgba(255,0,0,1)\">the</span><span style=\"color: rgba(255,0,0,1)\">-</span><span style=\"color: rgba(255,0,0,1)\">rack</span> <span style=\"color: rgba(255,0,0,1)\">for</span> <span style=\"color: rgba(255,0,0,1)\">-</span><span style=\"color: rgba(255,0,0,1)\">,</span>"
      ],
      "text/plain": [
       "<IPython.core.display.HTML object>"
      ]
     },
     "metadata": {},
     "output_type": "display_data"
    },
    {
     "name": "stdout",
     "output_type": "stream",
     "text": [
      "step 42010 loss 0.12132906211912632\n"
     ]
    },
    {
     "data": {
      "text/html": [
       "All at once, in a moment of realisation, he knew the secret <span style=\"color: rgba(0,0,255,1)\">to</span> creating true artificial <span style=\"color: rgba(0,0,255,1)\">intelligence</span>"
      ],
      "text/plain": [
       "<IPython.core.display.HTML object>"
      ]
     },
     "metadata": {},
     "output_type": "display_data"
    },
    {
     "data": {
      "text/html": [
       "All at once, in a moment of realisation, he knew the secret <span style=\"color: rgba(255,0,0,0.9953392744064331)\">of</span> creating true artificial<span style=\"color: rgba(255,0,0,0.5844715237617493)\">ity</span>"
      ],
      "text/plain": [
       "<IPython.core.display.HTML object>"
      ]
     },
     "metadata": {},
     "output_type": "display_data"
    },
    {
     "data": {
      "text/plain": [
       "None"
      ]
     },
     "metadata": {},
     "output_type": "display_data"
    },
    {
     "data": {
      "text/html": [
       "All at once, in a moment of realisation, at once, in a moment of realisation, knew the secret to creating true artificial intelligence <span style=\"color: rgba(255,0,0,1)\">He</span> <span style=\"color: rgba(255,0,0,1)\">knew</span> <span style=\"color: rgba(255,0,0,1)\">the</span> <span style=\"color: rgba(255,0,0,1)\">secret</span> <span style=\"color: rgba(255,0,0,1)\">the</span><span style=\"color: rgba(255,0,0,1)\">gi</span> <span style=\"color: rgba(255,0,0,1)\">the</span> <span style=\"color: rgba(255,0,0,1)\">Deep</span> <span style=\"color: rgba(255,0,0,1)\">The</span><span style=\"color: rgba(255,0,0,1)\">.</span>"
      ],
      "text/plain": [
       "<IPython.core.display.HTML object>"
      ]
     },
     "metadata": {},
     "output_type": "display_data"
    },
    {
     "name": "stdout",
     "output_type": "stream",
     "text": [
      "step 45010 loss 0.12115782514462868\n"
     ]
    },
    {
     "data": {
      "text/html": [
       "All at once, <span style=\"color: rgba(0,0,255,1)\">in</span> a moment <span style=\"color: rgba(0,0,255,1)\">of</span> realisation, he knew the secret <span style=\"color: rgba(0,0,255,1)\">to</span> creating true artificial <span style=\"color: rgba(0,0,255,1)\">intelligence</span>"
      ],
      "text/plain": [
       "<IPython.core.display.HTML object>"
      ]
     },
     "metadata": {},
     "output_type": "display_data"
    },
    {
     "data": {
      "text/html": [
       "All at once, <span style=\"color: rgba(255,0,0,0.7261606454849243)\">in</span> a moment <span style=\"color: rgba(255,0,0,0.7341156601905823)\">of</span> realisation, he knew the secret <span style=\"color: rgba(255,0,0,0.9604761600494385)\">of</span> creating true artificial <span style=\"color: rgba(255,0,0,0.9388965368270874)\">intelligence</span>"
      ],
      "text/plain": [
       "<IPython.core.display.HTML object>"
      ]
     },
     "metadata": {},
     "output_type": "display_data"
    },
    {
     "data": {
      "text/plain": [
       "None"
      ]
     },
     "metadata": {},
     "output_type": "display_data"
    },
    {
     "data": {
      "text/html": [
       "All at once, in a moment of realisation, at once, in a moment of realisation, knew the secret to creating true artificial intelligence <span style=\"color: rgba(255,0,0,1)\">The</span> <span style=\"color: rgba(255,0,0,1)\">Any</span> <span style=\"color: rgba(255,0,0,1)\">Could</span> <span style=\"color: rgba(255,0,0,1)\">while</span> <span style=\"color: rgba(255,0,0,1)\">All</span> <span style=\"color: rgba(255,0,0,1)\">the</span> <span style=\"color: rgba(255,0,0,1)\">Time</span> <span style=\"color: rgba(255,0,0,1)\">in</span><span style=\"color: rgba(255,0,0,1)\">lating</span> <span style=\"color: rgba(255,0,0,1)\">The</span>"
      ],
      "text/plain": [
       "<IPython.core.display.HTML object>"
      ]
     },
     "metadata": {},
     "output_type": "display_data"
    },
    {
     "name": "stdout",
     "output_type": "stream",
     "text": [
      "step 48010 loss 0.12056447457522154\n"
     ]
    },
    {
     "data": {
      "text/html": [
       "All at once<span style=\"color: rgba(0,0,255,1)\">,</span> in a moment of realisation, <span style=\"color: rgba(0,0,255,1)\">he</span> knew the secret to creating true artificial <span style=\"color: rgba(0,0,255,1)\">intelligence</span>"
      ],
      "text/plain": [
       "<IPython.core.display.HTML object>"
      ]
     },
     "metadata": {},
     "output_type": "display_data"
    },
    {
     "data": {
      "text/html": [
       "All at once<span style=\"color: rgba(255,0,0,0.9599587321281433)\">,</span> in a moment of realisation, <span style=\"color: rgba(255,0,0,0.6844145059585571)\">he</span> knew the secret to creating true artificial<span style=\"color: rgba(255,0,0,0.5460017323493958)\">ity</span>"
      ],
      "text/plain": [
       "<IPython.core.display.HTML object>"
      ]
     },
     "metadata": {},
     "output_type": "display_data"
    },
    {
     "data": {
      "text/plain": [
       "None"
      ]
     },
     "metadata": {},
     "output_type": "display_data"
    },
    {
     "data": {
      "text/html": [
       "All at once, in a moment of realisation, at once, in a moment of realisation, knew the secret to creating true artificial intelligence<span style=\"color: rgba(255,0,0,1)\">.</span> <span style=\"color: rgba(255,0,0,1)\">An</span> <span style=\"color: rgba(255,0,0,1)\">accident</span> <span style=\"color: rgba(255,0,0,1)\">caused</span> <span style=\"color: rgba(255,0,0,1)\">shock</span><span style=\"color: rgba(255,0,0,1)\">,</span> <span style=\"color: rgba(255,0,0,1)\">by</span> <span style=\"color: rgba(255,0,0,1)\">earthquake</span> <span style=\"color: rgba(255,0,0,1)\">occurring</span> <span style=\"color: rgba(255,0,0,1)\">the</span>"
      ],
      "text/plain": [
       "<IPython.core.display.HTML object>"
      ]
     },
     "metadata": {},
     "output_type": "display_data"
    },
    {
     "name": "stdout",
     "output_type": "stream",
     "text": [
      "step 51010 loss 0.12138037275274595\n"
     ]
    },
    {
     "data": {
      "text/html": [
       "All at once, <span style=\"color: rgba(0,0,255,1)\">in</span> a moment of realisation, he <span style=\"color: rgba(0,0,255,1)\">knew</span> the <span style=\"color: rgba(0,0,255,1)\">secret</span> to creating true <span style=\"color: rgba(0,0,255,1)\">artificial</span> <span style=\"color: rgba(0,0,255,1)\">intelligence</span>"
      ],
      "text/plain": [
       "<IPython.core.display.HTML object>"
      ]
     },
     "metadata": {},
     "output_type": "display_data"
    },
    {
     "data": {
      "text/html": [
       "All at once, <span style=\"color: rgba(255,0,0,0.8524305820465088)\">in</span> a moment of realisation, he <span style=\"color: rgba(255,0,0,0.5934810638427734)\">gave</span> the <span style=\"color: rgba(255,0,0,0.5427977442741394)\">means</span> to creating true <span style=\"color: rgba(255,0,0,0.7828590869903564)\">human</span> <span style=\"color: rgba(255,0,0,0.7062205076217651)\">intelligence</span>"
      ],
      "text/plain": [
       "<IPython.core.display.HTML object>"
      ]
     },
     "metadata": {},
     "output_type": "display_data"
    },
    {
     "data": {
      "text/plain": [
       "None"
      ]
     },
     "metadata": {},
     "output_type": "display_data"
    },
    {
     "data": {
      "text/html": [
       "All at once, in a moment of realisation, at once, in a moment of realisation, knew the secret to creating true artificial intelligence <span style=\"color: rgba(255,0,0,1)\">Only</span> <span style=\"color: rgba(255,0,0,1)\">\"</span> <span style=\"color: rgba(255,0,0,1)\">doubt</span><span style=\"color: rgba(255,0,0,1)\">ing</span><span style=\"color: rgba(255,0,0,1)\">,</span> <span style=\"color: rgba(255,0,0,1)\">“</span><span style=\"color: rgba(255,0,0,1)\">do</span> <span style=\"color: rgba(255,0,0,1)\">I</span> <span style=\"color: rgba(255,0,0,1)\">say</span><span style=\"color: rgba(255,0,0,1)\">,</span>"
      ],
      "text/plain": [
       "<IPython.core.display.HTML object>"
      ]
     },
     "metadata": {},
     "output_type": "display_data"
    },
    {
     "name": "stdout",
     "output_type": "stream",
     "text": [
      "step 54010 loss 0.12089836486056448\n"
     ]
    },
    {
     "data": {
      "text/html": [
       "<span style=\"color: rgba(0,0,255,1)\">All</span> at once, in <span style=\"color: rgba(0,0,255,1)\">a</span> moment of realisation, he knew the <span style=\"color: rgba(0,0,255,1)\">secret</span> to creating true artificial <span style=\"color: rgba(0,0,255,1)\">intelligence</span>"
      ],
      "text/plain": [
       "<IPython.core.display.HTML object>"
      ]
     },
     "metadata": {},
     "output_type": "display_data"
    },
    {
     "data": {
      "text/html": [
       "<span style=\"color: rgba(255,0,0,0.585747480392456)\">All</span> at once, in <span style=\"color: rgba(255,0,0,0.6928550601005554)\">a</span> moment of realisation, he knew the <span style=\"color: rgba(255,0,0,0.5547082424163818)\">step</span> to creating true artificial <span style=\"color: rgba(255,0,0,0.5388348698616028)\">beings</span>"
      ],
      "text/plain": [
       "<IPython.core.display.HTML object>"
      ]
     },
     "metadata": {},
     "output_type": "display_data"
    },
    {
     "data": {
      "text/plain": [
       "None"
      ]
     },
     "metadata": {},
     "output_type": "display_data"
    },
    {
     "data": {
      "text/html": [
       "All at once, in a moment of realisation, at once, in a moment of realisation, knew the secret to creating true artificial intelligence <span style=\"color: rgba(255,0,0,1)\">inside</span><span style=\"color: rgba(255,0,0,1)\">.</span> <span style=\"color: rgba(255,0,0,1)\">He</span> <span style=\"color: rgba(255,0,0,1)\">had</span> <span style=\"color: rgba(255,0,0,1)\">spoken</span><span style=\"color: rgba(255,0,0,1)\">,</span> <span style=\"color: rgba(255,0,0,1)\">well</span> <span style=\"color: rgba(255,0,0,1)\">the</span> <span style=\"color: rgba(255,0,0,1)\">list</span> <span style=\"color: rgba(255,0,0,1)\">spaces</span>"
      ],
      "text/plain": [
       "<IPython.core.display.HTML object>"
      ]
     },
     "metadata": {},
     "output_type": "display_data"
    },
    {
     "name": "stdout",
     "output_type": "stream",
     "text": [
      "step 57010 loss 0.1214314280015727\n"
     ]
    },
    {
     "data": {
      "text/html": [
       "All at once, in a moment of real<span style=\"color: rgba(0,0,255,1)\">isation</span>, he knew the <span style=\"color: rgba(0,0,255,1)\">secret</span> to <span style=\"color: rgba(0,0,255,1)\">creating</span> true artificial <span style=\"color: rgba(0,0,255,1)\">intelligence</span>"
      ],
      "text/plain": [
       "<IPython.core.display.HTML object>"
      ]
     },
     "metadata": {},
     "output_type": "display_data"
    },
    {
     "data": {
      "text/html": [
       "All at once, in a moment of real <span style=\"color: rgba(255,0,0,0.5707405209541321)\">realization</span>, he knew the <span style=\"color: rgba(255,0,0,0.7065620422363281)\">way</span> to <span style=\"color: rgba(255,0,0,0.7915453910827637)\">a</span> true artificial <span style=\"color: rgba(255,0,0,0.9461922645568848)\">intelligence</span>"
      ],
      "text/plain": [
       "<IPython.core.display.HTML object>"
      ]
     },
     "metadata": {},
     "output_type": "display_data"
    },
    {
     "data": {
      "text/plain": [
       "None"
      ]
     },
     "metadata": {},
     "output_type": "display_data"
    },
    {
     "data": {
      "text/html": [
       "All at once, in a moment of realisation, at once, in a moment of realisation, knew the secret to creating true artificial intelligence <span style=\"color: rgba(255,0,0,1)\">And</span> <span style=\"color: rgba(255,0,0,1)\">paused</span> <span style=\"color: rgba(255,0,0,1)\">Only</span> <span style=\"color: rgba(255,0,0,1)\">words</span> <span style=\"color: rgba(255,0,0,1)\">coup</span><span style=\"color: rgba(255,0,0,1)\">id</span><span style=\"color: rgba(255,0,0,1)\">.</span> <span style=\"color: rgba(255,0,0,1)\">froze</span> <span style=\"color: rgba(255,0,0,1)\">but</span><span style=\"color: rgba(255,0,0,1)\">.</span>"
      ],
      "text/plain": [
       "<IPython.core.display.HTML object>"
      ]
     },
     "metadata": {},
     "output_type": "display_data"
    },
    {
     "name": "stdout",
     "output_type": "stream",
     "text": [
      "step 60010 loss 0.12100844383984805\n"
     ]
    },
    {
     "data": {
      "text/html": [
       "All at once, <span style=\"color: rgba(0,0,255,1)\">in</span> a moment of realisation<span style=\"color: rgba(0,0,255,1)\">,</span> he knew the secret to <span style=\"color: rgba(0,0,255,1)\">creating</span> true artificial <span style=\"color: rgba(0,0,255,1)\">intelligence</span>"
      ],
      "text/plain": [
       "<IPython.core.display.HTML object>"
      ]
     },
     "metadata": {},
     "output_type": "display_data"
    },
    {
     "data": {
      "text/html": [
       "All at once, <span style=\"color: rgba(255,0,0,0.8423284292221069)\">in</span> a moment of realisation <span style=\"color: rgba(255,0,0,0.7502079010009766)\">that</span> he knew the secret to <span style=\"color: rgba(255,0,0,0.7566218376159668)\">the</span> true artificial<span style=\"color: rgba(255,0,0,0.6442539691925049)\">.</span>"
      ],
      "text/plain": [
       "<IPython.core.display.HTML object>"
      ]
     },
     "metadata": {},
     "output_type": "display_data"
    },
    {
     "data": {
      "text/plain": [
       "None"
      ]
     },
     "metadata": {},
     "output_type": "display_data"
    },
    {
     "data": {
      "text/html": [
       "All at once, in a moment of realisation, at once, in a moment of realisation, knew the secret to creating true artificial intelligence <span style=\"color: rgba(255,0,0,1)\">\"</span> <span style=\"color: rgba(255,0,0,1)\">and</span> <span style=\"color: rgba(255,0,0,1)\">motionless</span> <span style=\"color: rgba(255,0,0,1)\">awe</span> <span style=\"color: rgba(255,0,0,1)\">with</span><span style=\"color: rgba(255,0,0,1)\">rem</span> <span style=\"color: rgba(255,0,0,1)\">when</span> <span style=\"color: rgba(255,0,0,1)\">would</span> <span style=\"color: rgba(255,0,0,1)\">all</span> <span style=\"color: rgba(255,0,0,1)\">which</span>"
      ],
      "text/plain": [
       "<IPython.core.display.HTML object>"
      ]
     },
     "metadata": {},
     "output_type": "display_data"
    },
    {
     "name": "stdout",
     "output_type": "stream",
     "text": [
      "step 63010 loss 0.12114912974089384\n"
     ]
    },
    {
     "data": {
      "text/html": [
       "All at once, in a moment of realisation, <span style=\"color: rgba(0,0,255,1)\">he</span> <span style=\"color: rgba(0,0,255,1)\">knew</span> the <span style=\"color: rgba(0,0,255,1)\">secret</span> to creating true artificial <span style=\"color: rgba(0,0,255,1)\">intelligence</span>"
      ],
      "text/plain": [
       "<IPython.core.display.HTML object>"
      ]
     },
     "metadata": {},
     "output_type": "display_data"
    },
    {
     "data": {
      "text/html": [
       "All at once, in a moment of realisation, <span style=\"color: rgba(255,0,0,0.5441718101501465)\">we</span> <span style=\"color: rgba(255,0,0,0.5540421009063721)\">from</span> the <span style=\"color: rgba(255,0,0,0.5417914986610413)\">way</span> to creating true artificial <span style=\"color: rgba(255,0,0,0.5729506015777588)\">beings</span>"
      ],
      "text/plain": [
       "<IPython.core.display.HTML object>"
      ]
     },
     "metadata": {},
     "output_type": "display_data"
    },
    {
     "data": {
      "text/plain": [
       "None"
      ]
     },
     "metadata": {},
     "output_type": "display_data"
    },
    {
     "data": {
      "text/html": [
       "All at once, in a moment of realisation, at once, in a moment of realisation, knew the secret to creating true artificial intelligence <span style=\"color: rgba(255,0,0,1)\">He</span> <span style=\"color: rgba(255,0,0,1)\">done</span> <span style=\"color: rgba(255,0,0,1)\">about</span> <span style=\"color: rgba(255,0,0,1)\">angle</span> <span style=\"color: rgba(255,0,0,1)\">again</span> <span style=\"color: rgba(255,0,0,1)\">Then</span> <span style=\"color: rgba(255,0,0,1)\">needed</span> <span style=\"color: rgba(255,0,0,1)\">easier</span> <span style=\"color: rgba(255,0,0,1)\">at</span> <span style=\"color: rgba(255,0,0,1)\">keep</span>"
      ],
      "text/plain": [
       "<IPython.core.display.HTML object>"
      ]
     },
     "metadata": {},
     "output_type": "display_data"
    },
    {
     "name": "stdout",
     "output_type": "stream",
     "text": [
      "step 66010 loss 0.119737949218601\n"
     ]
    },
    {
     "data": {
      "text/html": [
       "All at once<span style=\"color: rgba(0,0,255,1)\">,</span> in a moment of realisation, he <span style=\"color: rgba(0,0,255,1)\">knew</span> the secret to creating true artificial <span style=\"color: rgba(0,0,255,1)\">intelligence</span>"
      ],
      "text/plain": [
       "<IPython.core.display.HTML object>"
      ]
     },
     "metadata": {},
     "output_type": "display_data"
    },
    {
     "data": {
      "text/html": [
       "All at once<span style=\"color: rgba(255,0,0,0.9955906867980957)\">,</span> in a moment of realisation, he <span style=\"color: rgba(255,0,0,0.617185115814209)\">gave</span> the secret to creating true artificial <span style=\"color: rgba(255,0,0,0.5720127820968628)\">life</span>"
      ],
      "text/plain": [
       "<IPython.core.display.HTML object>"
      ]
     },
     "metadata": {},
     "output_type": "display_data"
    },
    {
     "data": {
      "text/plain": [
       "None"
      ]
     },
     "metadata": {},
     "output_type": "display_data"
    },
    {
     "data": {
      "text/html": [
       "All at once, in a moment of realisation, at once, in a moment of realisation, knew the secret to creating true artificial intelligence <span style=\"color: rgba(255,0,0,1)\">speech</span> <span style=\"color: rgba(255,0,0,1)\">As</span> <span style=\"color: rgba(255,0,0,1)\">the</span> <span style=\"color: rgba(255,0,0,1)\">dismissed</span> <span style=\"color: rgba(255,0,0,1)\">act</span> <span style=\"color: rgba(255,0,0,1)\">a</span> <span style=\"color: rgba(255,0,0,1)\">captain</span> <span style=\"color: rgba(255,0,0,1)\">wear</span><span style=\"color: rgba(255,0,0,1)\">ily</span> <span style=\"color: rgba(255,0,0,1)\">del</span>"
      ],
      "text/plain": [
       "<IPython.core.display.HTML object>"
      ]
     },
     "metadata": {},
     "output_type": "display_data"
    },
    {
     "name": "stdout",
     "output_type": "stream",
     "text": [
      "step 69010 loss 0.1202589439128836\n"
     ]
    },
    {
     "data": {
      "text/html": [
       "All at once, in <span style=\"color: rgba(0,0,255,1)\">a</span> moment of realisation, he knew the secret to creating true artificial <span style=\"color: rgba(0,0,255,1)\">intelligence</span>"
      ],
      "text/plain": [
       "<IPython.core.display.HTML object>"
      ]
     },
     "metadata": {},
     "output_type": "display_data"
    },
    {
     "data": {
      "text/html": [
       "All at once, in <span style=\"color: rgba(255,0,0,0.7621523141860962)\">that</span> moment of realisation, he knew the secret to creating true artificial <span style=\"color: rgba(255,0,0,0.5598350763320923)\">life</span>"
      ],
      "text/plain": [
       "<IPython.core.display.HTML object>"
      ]
     },
     "metadata": {},
     "output_type": "display_data"
    },
    {
     "data": {
      "text/plain": [
       "None"
      ]
     },
     "metadata": {},
     "output_type": "display_data"
    },
    {
     "data": {
      "text/html": [
       "All at once, in a moment of realisation, at once, in a moment of realisation, knew the secret to creating true artificial intelligence<span style=\"color: rgba(255,0,0,1)\">.</span> <span style=\"color: rgba(255,0,0,1)\">In</span><span style=\"color: rgba(255,0,0,1)\">.</span><span style=\"color: rgba(255,0,0,1)\">.</span><span style=\"color: rgba(255,0,0,1)\">.</span> <span style=\"color: rgba(255,0,0,1)\">s</span> <span style=\"color: rgba(255,0,0,1)\">the</span><span style=\"color: rgba(255,0,0,1)\">haman</span> <span style=\"color: rgba(255,0,0,1)\">is</span> <span style=\"color: rgba(255,0,0,1)\">-</span>"
      ],
      "text/plain": [
       "<IPython.core.display.HTML object>"
      ]
     },
     "metadata": {},
     "output_type": "display_data"
    },
    {
     "name": "stdout",
     "output_type": "stream",
     "text": [
      "step 72010 loss 0.11981744359557828\n"
     ]
    },
    {
     "data": {
      "text/html": [
       "All at once, in a <span style=\"color: rgba(0,0,255,1)\">moment</span> of realisation, he knew the secret to creating true artificial <span style=\"color: rgba(0,0,255,1)\">intelligence</span>"
      ],
      "text/plain": [
       "<IPython.core.display.HTML object>"
      ]
     },
     "metadata": {},
     "output_type": "display_data"
    },
    {
     "data": {
      "text/html": [
       "All at once, in a <span style=\"color: rgba(255,0,0,0.7040529251098633)\">moment</span> of realisation, he knew the secret to creating true artificial<span style=\"color: rgba(255,0,0,0.567032516002655)\">ities</span>"
      ],
      "text/plain": [
       "<IPython.core.display.HTML object>"
      ]
     },
     "metadata": {},
     "output_type": "display_data"
    },
    {
     "data": {
      "text/plain": [
       "None"
      ]
     },
     "metadata": {},
     "output_type": "display_data"
    },
    {
     "data": {
      "text/html": [
       "All at once, in a moment of realisation, at once, in a moment of realisation, knew the secret to creating true artificial intelligence <span style=\"color: rgba(255,0,0,1)\">He</span> <span style=\"color: rgba(255,0,0,1)\">shoved</span> <span style=\"color: rgba(255,0,0,1)\">the</span><span style=\"color: rgba(255,0,0,1)\">ot</span> <span style=\"color: rgba(255,0,0,1)\">cry</span> <span style=\"color: rgba(255,0,0,1)\">an</span><span style=\"color: rgba(255,0,0,1)\">tly</span> <span style=\"color: rgba(255,0,0,1)\">the</span><span style=\"color: rgba(255,0,0,1)\">iek</span> <span style=\"color: rgba(255,0,0,1)\">felt</span>"
      ],
      "text/plain": [
       "<IPython.core.display.HTML object>"
      ]
     },
     "metadata": {},
     "output_type": "display_data"
    },
    {
     "name": "stdout",
     "output_type": "stream",
     "text": [
      "step 75010 loss 0.1198391047368447\n"
     ]
    },
    {
     "data": {
      "text/html": [
       "All at once, in a <span style=\"color: rgba(0,0,255,1)\">moment</span> of realisation, he knew the secret to creating true artificial <span style=\"color: rgba(0,0,255,1)\">intelligence</span>"
      ],
      "text/plain": [
       "<IPython.core.display.HTML object>"
      ]
     },
     "metadata": {},
     "output_type": "display_data"
    },
    {
     "data": {
      "text/html": [
       "All at once, in a <span style=\"color: rgba(255,0,0,0.5932483673095703)\">moment</span> of realisation, he knew the secret to creating true artificial <span style=\"color: rgba(255,0,0,0.5504668951034546)\">beings</span>"
      ],
      "text/plain": [
       "<IPython.core.display.HTML object>"
      ]
     },
     "metadata": {},
     "output_type": "display_data"
    },
    {
     "data": {
      "text/plain": [
       "None"
      ]
     },
     "metadata": {},
     "output_type": "display_data"
    },
    {
     "data": {
      "text/html": [
       "All at once, in a moment of realisation, at once, in a moment of realisation, knew the secret to creating true artificial intelligence <span style=\"color: rgba(255,0,0,1)\">and</span> <span style=\"color: rgba(255,0,0,1)\">being</span> <span style=\"color: rgba(255,0,0,1)\">older</span> <span style=\"color: rgba(255,0,0,1)\">wasn</span><span style=\"color: rgba(255,0,0,1)\">ive</span> <span style=\"color: rgba(255,0,0,1)\">he</span> <span style=\"color: rgba(255,0,0,1)\">an</span><span style=\"color: rgba(255,0,0,1)\">ur</span><span style=\"color: rgba(255,0,0,1)\">ped</span> <span style=\"color: rgba(255,0,0,1)\">photographs</span>"
      ],
      "text/plain": [
       "<IPython.core.display.HTML object>"
      ]
     },
     "metadata": {},
     "output_type": "display_data"
    },
    {
     "name": "stdout",
     "output_type": "stream",
     "text": [
      "step 78010 loss 0.11884417628745238\n"
     ]
    },
    {
     "data": {
      "text/html": [
       "All at once, in a <span style=\"color: rgba(0,0,255,1)\">moment</span> of realisation, he knew the secret to creating true artificial <span style=\"color: rgba(0,0,255,1)\">intelligence</span>"
      ],
      "text/plain": [
       "<IPython.core.display.HTML object>"
      ]
     },
     "metadata": {},
     "output_type": "display_data"
    },
    {
     "data": {
      "text/html": [
       "All at once, in a <span style=\"color: rgba(255,0,0,0.5582222938537598)\">state</span> of realisation, he knew the secret to creating true artificial <span style=\"color: rgba(255,0,0,0.5779610872268677)\">life</span>"
      ],
      "text/plain": [
       "<IPython.core.display.HTML object>"
      ]
     },
     "metadata": {},
     "output_type": "display_data"
    },
    {
     "data": {
      "text/plain": [
       "None"
      ]
     },
     "metadata": {},
     "output_type": "display_data"
    },
    {
     "data": {
      "text/html": [
       "All at once, in a moment of realisation, at once, in a moment of realisation, knew the secret to creating true artificial intelligence <span style=\"color: rgba(255,0,0,1)\">transmitted</span> <span style=\"color: rgba(255,0,0,1)\">the</span> <span style=\"color: rgba(255,0,0,1)\">that</span><span style=\"color: rgba(255,0,0,1)\">.</span> <span style=\"color: rgba(255,0,0,1)\">This</span> <span style=\"color: rgba(255,0,0,1)\">quality</span> <span style=\"color: rgba(255,0,0,1)\">all</span><span style=\"color: rgba(255,0,0,1)\">hibit</span> <span style=\"color: rgba(255,0,0,1)\">form</span><span style=\"color: rgba(255,0,0,1)\">,</span>"
      ],
      "text/plain": [
       "<IPython.core.display.HTML object>"
      ]
     },
     "metadata": {},
     "output_type": "display_data"
    },
    {
     "name": "stdout",
     "output_type": "stream",
     "text": [
      "step 81010 loss 0.11920545175423225\n"
     ]
    },
    {
     "data": {
      "text/html": [
       "<span style=\"color: rgba(0,0,255,1)\">All</span> at once, in a moment of realisation, <span style=\"color: rgba(0,0,255,1)\">he</span> knew the <span style=\"color: rgba(0,0,255,1)\">secret</span> to creating true artificial <span style=\"color: rgba(0,0,255,1)\">intelligence</span>"
      ],
      "text/plain": [
       "<IPython.core.display.HTML object>"
      ]
     },
     "metadata": {},
     "output_type": "display_data"
    },
    {
     "data": {
      "text/html": [
       "<span style=\"color: rgba(255,0,0,0.7661605477333069)\">all</span> at once, in a moment of realisation, <span style=\"color: rgba(255,0,0,0.7812594175338745)\">Dot</span> knew the <span style=\"color: rgba(255,0,0,0.9975939393043518)\">secret</span> to creating true artificial <span style=\"color: rgba(255,0,0,0.5298271179199219)\">power</span>"
      ],
      "text/plain": [
       "<IPython.core.display.HTML object>"
      ]
     },
     "metadata": {},
     "output_type": "display_data"
    },
    {
     "data": {
      "text/plain": [
       "None"
      ]
     },
     "metadata": {},
     "output_type": "display_data"
    },
    {
     "data": {
      "text/html": [
       "All at once, in a moment of realisation, at once, in a moment of realisation, knew the secret to creating true artificial intelligence<span style=\"color: rgba(255,0,0,1)\">.</span><span style=\"color: rgba(255,0,0,1)\">.</span> <span style=\"color: rgba(255,0,0,1)\">He</span> <span style=\"color: rgba(255,0,0,1)\">gazed</span><span style=\"color: rgba(255,0,0,1)\">,</span> <span style=\"color: rgba(255,0,0,1)\">as</span> <span style=\"color: rgba(255,0,0,1)\">the</span> <span style=\"color: rgba(255,0,0,1)\">an</span><span style=\"color: rgba(255,0,0,1)\">imate</span> <span style=\"color: rgba(255,0,0,1)\">thrilled</span>"
      ],
      "text/plain": [
       "<IPython.core.display.HTML object>"
      ]
     },
     "metadata": {},
     "output_type": "display_data"
    },
    {
     "name": "stdout",
     "output_type": "stream",
     "text": [
      "step 84010 loss 0.11952570546666781\n"
     ]
    },
    {
     "data": {
      "text/html": [
       "All at once, in a moment of realisation, he knew the secret to creating true artificial <span style=\"color: rgba(0,0,255,1)\">intelligence</span>"
      ],
      "text/plain": [
       "<IPython.core.display.HTML object>"
      ]
     },
     "metadata": {},
     "output_type": "display_data"
    },
    {
     "data": {
      "text/html": [
       "All at once, in a moment of realisation, he knew the secret to creating true artificial <span style=\"color: rgba(255,0,0,0.5535858273506165)\">beings</span>"
      ],
      "text/plain": [
       "<IPython.core.display.HTML object>"
      ]
     },
     "metadata": {},
     "output_type": "display_data"
    },
    {
     "data": {
      "text/plain": [
       "None"
      ]
     },
     "metadata": {},
     "output_type": "display_data"
    },
    {
     "data": {
      "text/html": [
       "All at once, in a moment of realisation, at once, in a moment of realisation, knew the secret to creating true artificial intelligence<span style=\"color: rgba(255,0,0,1)\">.</span> <span style=\"color: rgba(255,0,0,1)\">As</span> <span style=\"color: rgba(255,0,0,1)\">at</span> <span style=\"color: rgba(255,0,0,1)\">first</span> <span style=\"color: rgba(255,0,0,1)\">he</span> <span style=\"color: rgba(255,0,0,1)\">toward</span> <span style=\"color: rgba(255,0,0,1)\">its</span> <span style=\"color: rgba(255,0,0,1)\">lead</span> <span style=\"color: rgba(255,0,0,1)\">to</span> <span style=\"color: rgba(255,0,0,1)\">freedom</span>"
      ],
      "text/plain": [
       "<IPython.core.display.HTML object>"
      ]
     },
     "metadata": {},
     "output_type": "display_data"
    },
    {
     "name": "stdout",
     "output_type": "stream",
     "text": [
      "step 87010 loss 0.1192726693165799\n"
     ]
    },
    {
     "data": {
      "text/html": [
       "All at once, in a moment of realisation, he knew the secret to creating true artificial <span style=\"color: rgba(0,0,255,1)\">intelligence</span>"
      ],
      "text/plain": [
       "<IPython.core.display.HTML object>"
      ]
     },
     "metadata": {},
     "output_type": "display_data"
    },
    {
     "data": {
      "text/html": [
       "All at once, in a moment of realisation, he knew the secret to creating true artificial <span style=\"color: rgba(255,0,0,0.5867319703102112)\">beings</span>"
      ],
      "text/plain": [
       "<IPython.core.display.HTML object>"
      ]
     },
     "metadata": {},
     "output_type": "display_data"
    },
    {
     "data": {
      "text/plain": [
       "None"
      ]
     },
     "metadata": {},
     "output_type": "display_data"
    },
    {
     "data": {
      "text/html": [
       "All at once, in a moment of realisation, at once, in a moment of realisation, knew the secret to creating true artificial intelligence<span style=\"color: rgba(255,0,0,1)\">-</span><span style=\"color: rgba(255,0,0,1)\">-</span> <span style=\"color: rgba(255,0,0,1)\">the</span> <span style=\"color: rgba(255,0,0,1)\">one</span> <span style=\"color: rgba(255,0,0,1)\">was</span> <span style=\"color: rgba(255,0,0,1)\">c</span> <span style=\"color: rgba(255,0,0,1)\">conditioning</span><span style=\"color: rgba(255,0,0,1)\">.</span> <span style=\"color: rgba(255,0,0,1)\">so</span> <span style=\"color: rgba(255,0,0,1)\">-</span>"
      ],
      "text/plain": [
       "<IPython.core.display.HTML object>"
      ]
     },
     "metadata": {},
     "output_type": "display_data"
    },
    {
     "name": "stdout",
     "output_type": "stream",
     "text": [
      "step 90010 loss 0.11833386655896902\n"
     ]
    },
    {
     "data": {
      "text/html": [
       "All at once, in <span style=\"color: rgba(0,0,255,1)\">a</span> moment <span style=\"color: rgba(0,0,255,1)\">of</span> realisation, he knew the secret to creating true artificial <span style=\"color: rgba(0,0,255,1)\">intelligence</span>"
      ],
      "text/plain": [
       "<IPython.core.display.HTML object>"
      ]
     },
     "metadata": {},
     "output_type": "display_data"
    },
    {
     "data": {
      "text/html": [
       "All at once, in <span style=\"color: rgba(255,0,0,0.9888368844985962)\">a</span> moment <span style=\"color: rgba(255,0,0,0.8816622495651245)\">of</span> realisation, he knew the secret to creating true artificial <span style=\"color: rgba(255,0,0,0.6236875057220459)\">beings</span>"
      ],
      "text/plain": [
       "<IPython.core.display.HTML object>"
      ]
     },
     "metadata": {},
     "output_type": "display_data"
    },
    {
     "data": {
      "text/plain": [
       "None"
      ]
     },
     "metadata": {},
     "output_type": "display_data"
    },
    {
     "data": {
      "text/html": [
       "All at once, in a moment of realisation, at once, in a moment of realisation, knew the secret to creating true artificial intelligence<span style=\"color: rgba(255,0,0,1)\">.</span> <span style=\"color: rgba(255,0,0,1)\">he</span><span style=\"color: rgba(255,0,0,1)\">,</span> <span style=\"color: rgba(255,0,0,1)\">having</span> <span style=\"color: rgba(255,0,0,1)\">new</span><span style=\"color: rgba(255,0,0,1)\">.</span> <span style=\"color: rgba(255,0,0,1)\">and</span> <span style=\"color: rgba(255,0,0,1)\">wisdom</span><span style=\"color: rgba(255,0,0,1)\">.</span> <span style=\"color: rgba(255,0,0,1)\">arriving</span>"
      ],
      "text/plain": [
       "<IPython.core.display.HTML object>"
      ]
     },
     "metadata": {},
     "output_type": "display_data"
    },
    {
     "name": "stdout",
     "output_type": "stream",
     "text": [
      "step 93010 loss 0.11914329252888758\n"
     ]
    },
    {
     "data": {
      "text/html": [
       "All at once<span style=\"color: rgba(0,0,255,1)\">,</span> in a moment of realisation, he knew the secret to creating true artificial <span style=\"color: rgba(0,0,255,1)\">intelligence</span>"
      ],
      "text/plain": [
       "<IPython.core.display.HTML object>"
      ]
     },
     "metadata": {},
     "output_type": "display_data"
    },
    {
     "data": {
      "text/html": [
       "All at once<span style=\"color: rgba(255,0,0,0.9775831699371338)\">,</span> in a moment of realisation, he knew the secret to creating true artificial<span style=\"color: rgba(255,0,0,0.5540377497673035)\">ity</span>"
      ],
      "text/plain": [
       "<IPython.core.display.HTML object>"
      ]
     },
     "metadata": {},
     "output_type": "display_data"
    },
    {
     "data": {
      "text/plain": [
       "None"
      ]
     },
     "metadata": {},
     "output_type": "display_data"
    },
    {
     "data": {
      "text/html": [
       "All at once, in a moment of realisation, at once, in a moment of realisation, knew the secret to creating true artificial intelligence <span style=\"color: rgba(255,0,0,1)\">Here</span> <span style=\"color: rgba(255,0,0,1)\">was</span> <span style=\"color: rgba(255,0,0,1)\">the</span> <span style=\"color: rgba(255,0,0,1)\">last</span> <span style=\"color: rgba(255,0,0,1)\">again</span> <span style=\"color: rgba(255,0,0,1)\">It</span> <span style=\"color: rgba(255,0,0,1)\">a</span> <span style=\"color: rgba(255,0,0,1)\">sudden</span><span style=\"color: rgba(255,0,0,1)\">.</span> <span style=\"color: rgba(255,0,0,1)\">he</span>"
      ],
      "text/plain": [
       "<IPython.core.display.HTML object>"
      ]
     },
     "metadata": {},
     "output_type": "display_data"
    },
    {
     "name": "stdout",
     "output_type": "stream",
     "text": [
      "step 96010 loss 0.11829924391706785\n"
     ]
    },
    {
     "data": {
      "text/html": [
       "All at once, in a moment <span style=\"color: rgba(0,0,255,1)\">of</span> realisation, he knew the secret to creating true artificial <span style=\"color: rgba(0,0,255,1)\">intelligence</span>"
      ],
      "text/plain": [
       "<IPython.core.display.HTML object>"
      ]
     },
     "metadata": {},
     "output_type": "display_data"
    },
    {
     "data": {
      "text/html": [
       "All at once, in a moment <span style=\"color: rgba(255,0,0,0.8974993228912354)\">of</span> realisation, he knew the secret to creating true artificial <span style=\"color: rgba(255,0,0,0.9773344993591309)\">intelligence</span>"
      ],
      "text/plain": [
       "<IPython.core.display.HTML object>"
      ]
     },
     "metadata": {},
     "output_type": "display_data"
    },
    {
     "data": {
      "text/plain": [
       "None"
      ]
     },
     "metadata": {},
     "output_type": "display_data"
    },
    {
     "data": {
      "text/html": [
       "All at once, in a moment of realisation, at once, in a moment of realisation, knew the secret to creating true artificial intelligence <span style=\"color: rgba(255,0,0,1)\">Before</span><span style=\"color: rgba(255,0,0,1)\">.</span> <span style=\"color: rgba(255,0,0,1)\">-</span><span style=\"color: rgba(255,0,0,1)\">.</span> <span style=\"color: rgba(255,0,0,1)\">CHAPTER</span> <span style=\"color: rgba(255,0,0,1)\">VI</span> <span style=\"color: rgba(255,0,0,1)\">the</span><span style=\"color: rgba(255,0,0,1)\">riad</span><span style=\"color: rgba(255,0,0,1)\">ient</span><span style=\"color: rgba(255,0,0,1)\">.</span>"
      ],
      "text/plain": [
       "<IPython.core.display.HTML object>"
      ]
     },
     "metadata": {},
     "output_type": "display_data"
    },
    {
     "name": "stdout",
     "output_type": "stream",
     "text": [
      "step 99010 loss 0.11884628221144279\n"
     ]
    },
    {
     "data": {
      "text/html": [
       "<span style=\"color: rgba(0,0,255,1)\">All</span> at once, in a moment of realisation, he knew the <span style=\"color: rgba(0,0,255,1)\">secret</span> to creating <span style=\"color: rgba(0,0,255,1)\">true</span> <span style=\"color: rgba(0,0,255,1)\">artificial</span> <span style=\"color: rgba(0,0,255,1)\">intelligence</span>"
      ],
      "text/plain": [
       "<IPython.core.display.HTML object>"
      ]
     },
     "metadata": {},
     "output_type": "display_data"
    },
    {
     "data": {
      "text/html": [
       "<span style=\"color: rgba(255,0,0,0.7253953814506531)\">all</span> at once, in a moment of realisation, he knew the <span style=\"color: rgba(255,0,0,0.5963520407676697)\">way</span> to creating <span style=\"color: rgba(255,0,0,0.6427085995674133)\">the</span><span style=\"color: rgba(255,0,0,0.5798250436782837)\">.</span> <span style=\"color: rgba(255,0,0,0.5266835689544678)\">of</span>"
      ],
      "text/plain": [
       "<IPython.core.display.HTML object>"
      ]
     },
     "metadata": {},
     "output_type": "display_data"
    },
    {
     "data": {
      "text/plain": [
       "None"
      ]
     },
     "metadata": {},
     "output_type": "display_data"
    },
    {
     "data": {
      "text/html": [
       "All at once, in a moment of realisation, at once, in a moment of realisation, knew the secret to creating true artificial intelligence <span style=\"color: rgba(255,0,0,1)\">it</span> <span style=\"color: rgba(255,0,0,1)\">Sea</span><span style=\"color: rgba(255,0,0,1)\">,</span> <span style=\"color: rgba(255,0,0,1)\">had</span> <span style=\"color: rgba(255,0,0,1)\">to</span> <span style=\"color: rgba(255,0,0,1)\">make</span> <span style=\"color: rgba(255,0,0,1)\">the</span> <span style=\"color: rgba(255,0,0,1)\">reflected</span> <span style=\"color: rgba(255,0,0,1)\">the</span> <span style=\"color: rgba(255,0,0,1)\">of</span>"
      ],
      "text/plain": [
       "<IPython.core.display.HTML object>"
      ]
     },
     "metadata": {},
     "output_type": "display_data"
    },
    {
     "name": "stdout",
     "output_type": "stream",
     "text": [
      "step 102010 loss 0.11842531866456071\n"
     ]
    },
    {
     "data": {
      "text/html": [
       "All at <span style=\"color: rgba(0,0,255,1)\">once</span>, in a moment of realisation, he knew the secret to <span style=\"color: rgba(0,0,255,1)\">creating</span> true artificial <span style=\"color: rgba(0,0,255,1)\">intelligence</span>"
      ],
      "text/plain": [
       "<IPython.core.display.HTML object>"
      ]
     },
     "metadata": {},
     "output_type": "display_data"
    },
    {
     "data": {
      "text/html": [
       "All at <span style=\"color: rgba(255,0,0,0.9770969152450562)\">once</span>, in a moment of realisation, he knew the secret to <span style=\"color: rgba(255,0,0,0.8774529695510864)\">the</span> true artificial<span style=\"color: rgba(255,0,0,0.5382993221282959)\">ity</span>"
      ],
      "text/plain": [
       "<IPython.core.display.HTML object>"
      ]
     },
     "metadata": {},
     "output_type": "display_data"
    },
    {
     "data": {
      "text/plain": [
       "None"
      ]
     },
     "metadata": {},
     "output_type": "display_data"
    },
    {
     "data": {
      "text/html": [
       "All at once, in a moment of realisation, at once, in a moment of realisation, knew the secret to creating true artificial intelligence<span style=\"color: rgba(255,0,0,1)\">.</span><span style=\"color: rgba(255,0,0,1)\">.</span> <span style=\"color: rgba(255,0,0,1)\">hesitated</span><span style=\"color: rgba(255,0,0,1)\">.</span> <span style=\"color: rgba(255,0,0,1)\">Here</span><span style=\"color: rgba(255,0,0,1)\">,</span> <span style=\"color: rgba(255,0,0,1)\">he</span> <span style=\"color: rgba(255,0,0,1)\">Monday</span> <span style=\"color: rgba(255,0,0,1)\">the</span> <span style=\"color: rgba(255,0,0,1)\">Yes</span>"
      ],
      "text/plain": [
       "<IPython.core.display.HTML object>"
      ]
     },
     "metadata": {},
     "output_type": "display_data"
    },
    {
     "name": "stdout",
     "output_type": "stream",
     "text": [
      "step 105010 loss 0.11852236079672972\n"
     ]
    },
    {
     "data": {
      "text/html": [
       "All at once, in a moment of realisation, he knew the secret to creating true artificial <span style=\"color: rgba(0,0,255,1)\">intelligence</span>"
      ],
      "text/plain": [
       "<IPython.core.display.HTML object>"
      ]
     },
     "metadata": {},
     "output_type": "display_data"
    },
    {
     "data": {
      "text/html": [
       "All at once, in a moment of realisation, he knew the secret to creating true artificial<span style=\"color: rgba(255,0,0,0.6762170791625977)\">ity</span>"
      ],
      "text/plain": [
       "<IPython.core.display.HTML object>"
      ]
     },
     "metadata": {},
     "output_type": "display_data"
    },
    {
     "data": {
      "text/plain": [
       "None"
      ]
     },
     "metadata": {},
     "output_type": "display_data"
    },
    {
     "data": {
      "text/html": [
       "All at once, in a moment of realisation, at once, in a moment of realisation, knew the secret to creating true artificial intelligence<span style=\"color: rgba(255,0,0,1)\">.</span><span style=\"color: rgba(255,0,0,1)\">.</span><span style=\"color: rgba(255,0,0,1)\">.</span><span style=\"color: rgba(255,0,0,1)\">.</span><span style=\"color: rgba(255,0,0,1)\">.</span><span style=\"color: rgba(255,0,0,1)\">.</span> <span style=\"color: rgba(255,0,0,1)\">He</span><span style=\"color: rgba(255,0,0,1)\">-</span><span style=\"color: rgba(255,0,0,1)\">-</span><span style=\"color: rgba(255,0,0,1)\">.</span>"
      ],
      "text/plain": [
       "<IPython.core.display.HTML object>"
      ]
     },
     "metadata": {},
     "output_type": "display_data"
    },
    {
     "name": "stdout",
     "output_type": "stream",
     "text": [
      "step 108010 loss 0.11788073010866841\n"
     ]
    },
    {
     "data": {
      "text/html": [
       "All at once, in a moment of realisation, he knew the <span style=\"color: rgba(0,0,255,1)\">secret</span> to creating <span style=\"color: rgba(0,0,255,1)\">true</span> artificial <span style=\"color: rgba(0,0,255,1)\">intelligence</span>"
      ],
      "text/plain": [
       "<IPython.core.display.HTML object>"
      ]
     },
     "metadata": {},
     "output_type": "display_data"
    },
    {
     "data": {
      "text/html": [
       "All at once, in a moment of realisation, he knew the <span style=\"color: rgba(255,0,0,0.6068641543388367)\">way</span> to creating <span style=\"color: rgba(255,0,0,0.7457056045532227)\">an</span> artificial <span style=\"color: rgba(255,0,0,0.5663747191429138)\">world</span>"
      ],
      "text/plain": [
       "<IPython.core.display.HTML object>"
      ]
     },
     "metadata": {},
     "output_type": "display_data"
    },
    {
     "data": {
      "text/plain": [
       "None"
      ]
     },
     "metadata": {},
     "output_type": "display_data"
    },
    {
     "data": {
      "text/html": [
       "All at once, in a moment of realisation, at once, in a moment of realisation, knew the secret to creating true artificial intelligence <span style=\"color: rgba(255,0,0,1)\">With</span> <span style=\"color: rgba(255,0,0,1)\">a</span><span style=\"color: rgba(255,0,0,1)\">.</span> <span style=\"color: rgba(255,0,0,1)\">Moment</span><span style=\"color: rgba(255,0,0,1)\">um</span><span style=\"color: rgba(255,0,0,1)\">.</span><span style=\"color: rgba(255,0,0,1)\">.</span> <span style=\"color: rgba(255,0,0,1)\">-</span><span style=\"color: rgba(255,0,0,1)\">.</span><span style=\"color: rgba(255,0,0,1)\">,</span>"
      ],
      "text/plain": [
       "<IPython.core.display.HTML object>"
      ]
     },
     "metadata": {},
     "output_type": "display_data"
    },
    {
     "name": "stdout",
     "output_type": "stream",
     "text": [
      "step 111010 loss 0.11798662991076708\n"
     ]
    },
    {
     "data": {
      "text/html": [
       "All at once, in a moment of realisation, he knew the secret to creating true artificial <span style=\"color: rgba(0,0,255,1)\">intelligence</span>"
      ],
      "text/plain": [
       "<IPython.core.display.HTML object>"
      ]
     },
     "metadata": {},
     "output_type": "display_data"
    },
    {
     "data": {
      "text/html": [
       "All at once, in a moment of realisation, he knew the secret to creating true artificial <span style=\"color: rgba(255,0,0,0.5646114349365234)\">life</span>"
      ],
      "text/plain": [
       "<IPython.core.display.HTML object>"
      ]
     },
     "metadata": {},
     "output_type": "display_data"
    },
    {
     "data": {
      "text/plain": [
       "None"
      ]
     },
     "metadata": {},
     "output_type": "display_data"
    },
    {
     "data": {
      "text/html": [
       "All at once, in a moment of realisation, at once, in a moment of realisation, knew the secret to creating true artificial intelligence <span style=\"color: rgba(255,0,0,1)\">And</span><span style=\"color: rgba(255,0,0,1)\">.</span><span style=\"color: rgba(255,0,0,1)\">.</span> <span style=\"color: rgba(255,0,0,1)\">I</span> <span style=\"color: rgba(255,0,0,1)\">was</span><span style=\"color: rgba(255,0,0,1)\">.</span> <span style=\"color: rgba(255,0,0,1)\">our</span> <span style=\"color: rgba(255,0,0,1)\">ribs</span><span style=\"color: rgba(255,0,0,1)\">.</span> <span style=\"color: rgba(255,0,0,1)\">thought</span>"
      ],
      "text/plain": [
       "<IPython.core.display.HTML object>"
      ]
     },
     "metadata": {},
     "output_type": "display_data"
    },
    {
     "name": "stdout",
     "output_type": "stream",
     "text": [
      "step 114010 loss 0.11821604690949122\n"
     ]
    },
    {
     "data": {
      "text/html": [
       "All at <span style=\"color: rgba(0,0,255,1)\">once</span>, in a moment of realisation, he knew the <span style=\"color: rgba(0,0,255,1)\">secret</span> to creating true artificial <span style=\"color: rgba(0,0,255,1)\">intelligence</span>"
      ],
      "text/plain": [
       "<IPython.core.display.HTML object>"
      ]
     },
     "metadata": {},
     "output_type": "display_data"
    },
    {
     "data": {
      "text/html": [
       "All at <span style=\"color: rgba(255,0,0,0.958310604095459)\">once</span>, in a moment of realisation, he knew the <span style=\"color: rgba(255,0,0,0.5987787246704102)\">key</span> to creating true artificial <span style=\"color: rgba(255,0,0,0.5372070074081421)\">things</span>"
      ],
      "text/plain": [
       "<IPython.core.display.HTML object>"
      ]
     },
     "metadata": {},
     "output_type": "display_data"
    },
    {
     "data": {
      "text/plain": [
       "None"
      ]
     },
     "metadata": {},
     "output_type": "display_data"
    },
    {
     "data": {
      "text/html": [
       "All at once, in a moment of realisation, at once, in a moment of realisation, knew the secret to creating true artificial intelligence <span style=\"color: rgba(255,0,0,1)\">Stern</span><span style=\"color: rgba(255,0,0,1)\">.</span> <span style=\"color: rgba(255,0,0,1)\">on</span> <span style=\"color: rgba(255,0,0,1)\">the</span> <span style=\"color: rgba(255,0,0,1)\">and</span> <span style=\"color: rgba(255,0,0,1)\">and</span><span style=\"color: rgba(255,0,0,1)\">,</span> <span style=\"color: rgba(255,0,0,1)\">supposed</span> <span style=\"color: rgba(255,0,0,1)\">They</span> <span style=\"color: rgba(255,0,0,1)\">were</span>"
      ],
      "text/plain": [
       "<IPython.core.display.HTML object>"
      ]
     },
     "metadata": {},
     "output_type": "display_data"
    },
    {
     "name": "stdout",
     "output_type": "stream",
     "text": [
      "step 117010 loss 0.11813708118100961\n"
     ]
    },
    {
     "data": {
      "text/html": [
       "All at once, in a moment of realisation, he knew the secret to <span style=\"color: rgba(0,0,255,1)\">creating</span> true artificial <span style=\"color: rgba(0,0,255,1)\">intelligence</span>"
      ],
      "text/plain": [
       "<IPython.core.display.HTML object>"
      ]
     },
     "metadata": {},
     "output_type": "display_data"
    },
    {
     "data": {
      "text/html": [
       "All at once, in a moment of realisation, he knew the secret to <span style=\"color: rgba(255,0,0,0.7249277234077454)\">the</span> true artificial<span style=\"color: rgba(255,0,0,0.526073694229126)\">ity</span>"
      ],
      "text/plain": [
       "<IPython.core.display.HTML object>"
      ]
     },
     "metadata": {},
     "output_type": "display_data"
    },
    {
     "data": {
      "text/plain": [
       "None"
      ]
     },
     "metadata": {},
     "output_type": "display_data"
    },
    {
     "data": {
      "text/html": [
       "All at once, in a moment of realisation, at once, in a moment of realisation, knew the secret to creating true artificial intelligence <span style=\"color: rgba(255,0,0,1)\">There</span><span style=\"color: rgba(255,0,0,1)\">,</span> <span style=\"color: rgba(255,0,0,1)\">had</span> <span style=\"color: rgba(255,0,0,1)\">done</span><span style=\"color: rgba(255,0,0,1)\">,</span> <span style=\"color: rgba(255,0,0,1)\">in</span><span style=\"color: rgba(255,0,0,1)\">.</span><span style=\"color: rgba(255,0,0,1)\">.</span><span style=\"color: rgba(255,0,0,1)\">.</span> <span style=\"color: rgba(255,0,0,1)\">*</span>"
      ],
      "text/plain": [
       "<IPython.core.display.HTML object>"
      ]
     },
     "metadata": {},
     "output_type": "display_data"
    },
    {
     "name": "stdout",
     "output_type": "stream",
     "text": [
      "step 120010 loss 0.11869945878038804\n"
     ]
    },
    {
     "data": {
      "text/html": [
       "All at <span style=\"color: rgba(0,0,255,1)\">once</span>, in a moment of realisation, he knew the secret to creating true artificial <span style=\"color: rgba(0,0,255,1)\">intelligence</span>"
      ],
      "text/plain": [
       "<IPython.core.display.HTML object>"
      ]
     },
     "metadata": {},
     "output_type": "display_data"
    },
    {
     "data": {
      "text/html": [
       "All at <span style=\"color: rgba(255,0,0,0.9910076260566711)\">once</span>, in a moment of realisation, he knew the secret to creating true artificial<span style=\"color: rgba(255,0,0,0.5331366062164307)\">ity</span>"
      ],
      "text/plain": [
       "<IPython.core.display.HTML object>"
      ]
     },
     "metadata": {},
     "output_type": "display_data"
    },
    {
     "data": {
      "text/plain": [
       "None"
      ]
     },
     "metadata": {},
     "output_type": "display_data"
    },
    {
     "data": {
      "text/html": [
       "All at once, in a moment of realisation, at once, in a moment of realisation, knew the secret to creating true artificial intelligence <span style=\"color: rgba(255,0,0,1)\">A</span><span style=\"color: rgba(255,0,0,1)\">.</span> <span style=\"color: rgba(255,0,0,1)\">He</span> <span style=\"color: rgba(255,0,0,1)\">stood</span><span style=\"color: rgba(255,0,0,1)\">-</span><span style=\"color: rgba(255,0,0,1)\">Ah</span> <span style=\"color: rgba(255,0,0,1)\">per</span> <span style=\"color: rgba(255,0,0,1)\">with</span> <span style=\"color: rgba(255,0,0,1)\">them</span> <span style=\"color: rgba(255,0,0,1)\">he</span>"
      ],
      "text/plain": [
       "<IPython.core.display.HTML object>"
      ]
     },
     "metadata": {},
     "output_type": "display_data"
    },
    {
     "name": "stdout",
     "output_type": "stream",
     "text": [
      "step 123010 loss 0.11786511491487424\n"
     ]
    },
    {
     "data": {
      "text/html": [
       "All at once, in a moment of <span style=\"color: rgba(0,0,255,1)\">real</span>isation, he knew the secret to creating true artificial <span style=\"color: rgba(0,0,255,1)\">intelligence</span>"
      ],
      "text/plain": [
       "<IPython.core.display.HTML object>"
      ]
     },
     "metadata": {},
     "output_type": "display_data"
    },
    {
     "data": {
      "text/html": [
       "All at once, in a moment of <span style=\"color: rgba(255,0,0,0.9294226765632629)\">real</span>isation, he knew the secret to creating true artificial <span style=\"color: rgba(255,0,0,0.5760533809661865)\">life</span>"
      ],
      "text/plain": [
       "<IPython.core.display.HTML object>"
      ]
     },
     "metadata": {},
     "output_type": "display_data"
    },
    {
     "data": {
      "text/plain": [
       "None"
      ]
     },
     "metadata": {},
     "output_type": "display_data"
    },
    {
     "data": {
      "text/html": [
       "All at once, in a moment of realisation, at once, in a moment of realisation, knew the secret to creating true artificial intelligence <span style=\"color: rgba(255,0,0,1)\">of</span> <span style=\"color: rgba(255,0,0,1)\">Mad</span> <span style=\"color: rgba(255,0,0,1)\">and</span> <span style=\"color: rgba(255,0,0,1)\">in</span> <span style=\"color: rgba(255,0,0,1)\">imagination</span> <span style=\"color: rgba(255,0,0,1)\">ballads</span> <span style=\"color: rgba(255,0,0,1)\">\"</span> <span style=\"color: rgba(255,0,0,1)\">\"</span><span style=\"color: rgba(255,0,0,1)\">,</span><span style=\"color: rgba(255,0,0,1)\">,</span>"
      ],
      "text/plain": [
       "<IPython.core.display.HTML object>"
      ]
     },
     "metadata": {},
     "output_type": "display_data"
    },
    {
     "name": "stdout",
     "output_type": "stream",
     "text": [
      "step 126010 loss 0.11776427109291156\n"
     ]
    },
    {
     "data": {
      "text/html": [
       "All at once, in a moment of realisation<span style=\"color: rgba(0,0,255,1)\">,</span> he knew the secret to creating true artificial <span style=\"color: rgba(0,0,255,1)\">intelligence</span>"
      ],
      "text/plain": [
       "<IPython.core.display.HTML object>"
      ]
     },
     "metadata": {},
     "output_type": "display_data"
    },
    {
     "data": {
      "text/html": [
       "All at once, in a moment of realisation<span style=\"color: rgba(255,0,0,0.9932105541229248)\">,</span> he knew the secret to creating true artificial <span style=\"color: rgba(255,0,0,0.5812501907348633)\">beings</span>"
      ],
      "text/plain": [
       "<IPython.core.display.HTML object>"
      ]
     },
     "metadata": {},
     "output_type": "display_data"
    },
    {
     "data": {
      "text/plain": [
       "None"
      ]
     },
     "metadata": {},
     "output_type": "display_data"
    },
    {
     "data": {
      "text/html": [
       "All at once, in a moment of realisation, at once, in a moment of realisation, knew the secret to creating true artificial intelligence <span style=\"color: rgba(255,0,0,1)\">When</span> <span style=\"color: rgba(255,0,0,1)\">they</span><span style=\"color: rgba(255,0,0,1)\">.</span><span style=\"color: rgba(255,0,0,1)\">.</span> <span style=\"color: rgba(255,0,0,1)\">began</span> <span style=\"color: rgba(255,0,0,1)\">higher</span> <span style=\"color: rgba(255,0,0,1)\">realized</span><span style=\"color: rgba(255,0,0,1)\">.</span> <span style=\"color: rgba(255,0,0,1)\">He</span><span style=\"color: rgba(255,0,0,1)\">,</span>"
      ],
      "text/plain": [
       "<IPython.core.display.HTML object>"
      ]
     },
     "metadata": {},
     "output_type": "display_data"
    },
    {
     "name": "stdout",
     "output_type": "stream",
     "text": [
      "step 129010 loss 0.11760398224244516\n"
     ]
    },
    {
     "data": {
      "text/html": [
       "All at once, in a moment of realisation, he <span style=\"color: rgba(0,0,255,1)\">knew</span> the secret to creating true artificial <span style=\"color: rgba(0,0,255,1)\">intelligence</span>"
      ],
      "text/plain": [
       "<IPython.core.display.HTML object>"
      ]
     },
     "metadata": {},
     "output_type": "display_data"
    },
    {
     "data": {
      "text/html": [
       "All at once, in a moment of realisation, he <span style=\"color: rgba(255,0,0,0.6484809517860413)\">had</span> the secret to creating true artificial<span style=\"color: rgba(255,0,0,0.5727657079696655)\">ity</span>"
      ],
      "text/plain": [
       "<IPython.core.display.HTML object>"
      ]
     },
     "metadata": {},
     "output_type": "display_data"
    },
    {
     "data": {
      "text/plain": [
       "None"
      ]
     },
     "metadata": {},
     "output_type": "display_data"
    },
    {
     "data": {
      "text/html": [
       "All at once, in a moment of realisation, at once, in a moment of realisation, knew the secret to creating true artificial intelligence <span style=\"color: rgba(255,0,0,1)\">A</span><span style=\"color: rgba(255,0,0,1)\">y</span> <span style=\"color: rgba(255,0,0,1)\">and</span> <span style=\"color: rgba(255,0,0,1)\">well</span> <span style=\"color: rgba(255,0,0,1)\">\"</span> <span style=\"color: rgba(255,0,0,1)\">wait</span> <span style=\"color: rgba(255,0,0,1)\">A</span><span style=\"color: rgba(255,0,0,1)\">'</span><span style=\"color: rgba(255,0,0,1)\">he</span> <span style=\"color: rgba(255,0,0,1)\">\"</span>"
      ],
      "text/plain": [
       "<IPython.core.display.HTML object>"
      ]
     },
     "metadata": {},
     "output_type": "display_data"
    },
    {
     "name": "stdout",
     "output_type": "stream",
     "text": [
      "step 132010 loss 0.11736083924770355\n"
     ]
    },
    {
     "data": {
      "text/html": [
       "All at once, in a moment <span style=\"color: rgba(0,0,255,1)\">of</span> realisation, he knew the secret to creating true artificial <span style=\"color: rgba(0,0,255,1)\">intelligence</span>"
      ],
      "text/plain": [
       "<IPython.core.display.HTML object>"
      ]
     },
     "metadata": {},
     "output_type": "display_data"
    },
    {
     "data": {
      "text/html": [
       "All at once, in a moment <span style=\"color: rgba(255,0,0,0.9707536697387695)\">of</span> realisation, he knew the secret to creating true artificial <span style=\"color: rgba(255,0,0,0.5513017773628235)\">matter</span>"
      ],
      "text/plain": [
       "<IPython.core.display.HTML object>"
      ]
     },
     "metadata": {},
     "output_type": "display_data"
    },
    {
     "data": {
      "text/plain": [
       "None"
      ]
     },
     "metadata": {},
     "output_type": "display_data"
    },
    {
     "data": {
      "text/html": [
       "All at once, in a moment of realisation, at once, in a moment of realisation, knew the secret to creating true artificial intelligence <span style=\"color: rgba(255,0,0,1)\">as</span><span style=\"color: rgba(255,0,0,1)\">.</span><span style=\"color: rgba(255,0,0,1)\">.</span> <span style=\"color: rgba(255,0,0,1)\">then</span> <span style=\"color: rgba(255,0,0,1)\">III</span><span style=\"color: rgba(255,0,0,1)\">.</span> <span style=\"color: rgba(255,0,0,1)\">Nine</span><span style=\"color: rgba(255,0,0,1)\">'</span><span style=\"color: rgba(255,0,0,1)\">-</span> <span style=\"color: rgba(255,0,0,1)\">they</span>"
      ],
      "text/plain": [
       "<IPython.core.display.HTML object>"
      ]
     },
     "metadata": {},
     "output_type": "display_data"
    },
    {
     "name": "stdout",
     "output_type": "stream",
     "text": [
      "step 135010 loss 0.117415772408247\n"
     ]
    },
    {
     "data": {
      "text/html": [
       "All at once, in a moment <span style=\"color: rgba(0,0,255,1)\">of</span> realisation, he knew the secret to creating true artificial <span style=\"color: rgba(0,0,255,1)\">intelligence</span>"
      ],
      "text/plain": [
       "<IPython.core.display.HTML object>"
      ]
     },
     "metadata": {},
     "output_type": "display_data"
    },
    {
     "data": {
      "text/html": [
       "All at once, in a moment <span style=\"color: rgba(255,0,0,0.9528195858001709)\">of</span> realisation, he knew the secret to creating true artificial <span style=\"color: rgba(255,0,0,0.5570025444030762)\">matter</span>"
      ],
      "text/plain": [
       "<IPython.core.display.HTML object>"
      ]
     },
     "metadata": {},
     "output_type": "display_data"
    },
    {
     "data": {
      "text/plain": [
       "None"
      ]
     },
     "metadata": {},
     "output_type": "display_data"
    },
    {
     "data": {
      "text/html": [
       "All at once, in a moment of realisation, at once, in a moment of realisation, knew the secret to creating true artificial intelligence <span style=\"color: rgba(255,0,0,1)\">himself</span> <span style=\"color: rgba(255,0,0,1)\">\"</span> <span style=\"color: rgba(255,0,0,1)\">\"</span> <span style=\"color: rgba(255,0,0,1)\">|</span> <span style=\"color: rgba(255,0,0,1)\">\"</span> <span style=\"color: rgba(255,0,0,1)\">we</span> <span style=\"color: rgba(255,0,0,1)\">the</span><span style=\"color: rgba(255,0,0,1)\">ness</span> <span style=\"color: rgba(255,0,0,1)\">Nature</span> <span style=\"color: rgba(255,0,0,1)\">will</span>"
      ],
      "text/plain": [
       "<IPython.core.display.HTML object>"
      ]
     },
     "metadata": {},
     "output_type": "display_data"
    },
    {
     "data": {
      "application/vnd.jupyter.widget-view+json": {
       "model_id": "bbaf749d007f4551b3a56db5f29a1cf4",
       "version_major": 2,
       "version_minor": 0
      },
      "text/plain": [
       "HBox(children=(IntProgress(value=0, description='Iteration', max=135245, style=ProgressStyle(description_width…"
      ]
     },
     "metadata": {},
     "output_type": "display_data"
    },
    {
     "name": "stdout",
     "output_type": "stream",
     "text": [
      "step 10 loss 0.10591315003958615\n"
     ]
    },
    {
     "data": {
      "text/html": [
       "All at once, in a moment of realisation, he knew the secret to creating <span style=\"color: rgba(0,0,255,1)\">true</span> artificial <span style=\"color: rgba(0,0,255,1)\">intelligence</span>"
      ],
      "text/plain": [
       "<IPython.core.display.HTML object>"
      ]
     },
     "metadata": {},
     "output_type": "display_data"
    },
    {
     "data": {
      "text/html": [
       "All at once, in a moment of realisation, he knew the secret to creating <span style=\"color: rgba(255,0,0,0.6658535003662109)\">the</span> artificial <span style=\"color: rgba(255,0,0,0.552954375743866)\">world</span>"
      ],
      "text/plain": [
       "<IPython.core.display.HTML object>"
      ]
     },
     "metadata": {},
     "output_type": "display_data"
    },
    {
     "data": {
      "text/plain": [
       "None"
      ]
     },
     "metadata": {},
     "output_type": "display_data"
    },
    {
     "data": {
      "text/html": [
       "All at once, in a moment of realisation, at once, in a moment of realisation, knew the secret to creating true artificial intelligence <span style=\"color: rgba(255,0,0,1)\">It</span> <span style=\"color: rgba(255,0,0,1)\">something</span> <span style=\"color: rgba(255,0,0,1)\">things</span> <span style=\"color: rgba(255,0,0,1)\">was</span> <span style=\"color: rgba(255,0,0,1)\">together</span><span style=\"color: rgba(255,0,0,1)\">.</span> <span style=\"color: rgba(255,0,0,1)\">I</span> <span style=\"color: rgba(255,0,0,1)\">was</span> <span style=\"color: rgba(255,0,0,1)\">born</span> <span style=\"color: rgba(255,0,0,1)\">the</span>"
      ],
      "text/plain": [
       "<IPython.core.display.HTML object>"
      ]
     },
     "metadata": {},
     "output_type": "display_data"
    },
    {
     "name": "stdout",
     "output_type": "stream",
     "text": [
      "step 3010 loss 0.10632483971863985\n"
     ]
    },
    {
     "data": {
      "text/html": [
       "All at once<span style=\"color: rgba(0,0,255,1)\">,</span> in a moment of realisation, he knew the secret <span style=\"color: rgba(0,0,255,1)\">to</span> creating true <span style=\"color: rgba(0,0,255,1)\">artificial</span> <span style=\"color: rgba(0,0,255,1)\">intelligence</span>"
      ],
      "text/plain": [
       "<IPython.core.display.HTML object>"
      ]
     },
     "metadata": {},
     "output_type": "display_data"
    },
    {
     "data": {
      "text/html": [
       "All at once<span style=\"color: rgba(255,0,0,0.9944298267364502)\">,</span> in a moment of realisation, he knew the secret <span style=\"color: rgba(255,0,0,0.9940358400344849)\">of</span> creating true <span style=\"color: rgba(255,0,0,0.6268919706344604)\">life</span><span style=\"color: rgba(255,0,0,0.7475611567497253)\">.</span>"
      ],
      "text/plain": [
       "<IPython.core.display.HTML object>"
      ]
     },
     "metadata": {},
     "output_type": "display_data"
    },
    {
     "data": {
      "text/plain": [
       "None"
      ]
     },
     "metadata": {},
     "output_type": "display_data"
    },
    {
     "data": {
      "text/html": [
       "All at once, in a moment of realisation, at once, in a moment of realisation, knew the secret to creating true artificial intelligence <span style=\"color: rgba(255,0,0,1)\">\"</span> <span style=\"color: rgba(255,0,0,1)\">have</span> <span style=\"color: rgba(255,0,0,1)\">given</span> <span style=\"color: rgba(255,0,0,1)\">Then</span><span style=\"color: rgba(255,0,0,1)\">ial</span> <span style=\"color: rgba(255,0,0,1)\">\"</span> <span style=\"color: rgba(255,0,0,1)\">my</span> <span style=\"color: rgba(255,0,0,1)\">\"</span> <span style=\"color: rgba(255,0,0,1)\">those</span> <span style=\"color: rgba(255,0,0,1)\">of</span>"
      ],
      "text/plain": [
       "<IPython.core.display.HTML object>"
      ]
     },
     "metadata": {},
     "output_type": "display_data"
    },
    {
     "ename": "KeyboardInterrupt",
     "evalue": "",
     "output_type": "error",
     "traceback": [
      "\u001b[0;31m---------------------------------------------------------------------------\u001b[0m",
      "\u001b[0;31mKeyboardInterrupt\u001b[0m                         Traceback (most recent call last)",
      "\u001b[0;32m<ipython-input-45-7802b38e9670>\u001b[0m in \u001b[0;36m<module>\u001b[0;34m()\u001b[0m\n\u001b[1;32m     12\u001b[0m             \u001b[0;32mif\u001b[0m \u001b[0margs\u001b[0m\u001b[0;34m.\u001b[0m\u001b[0mgradient_accumulation_steps\u001b[0m \u001b[0;34m>\u001b[0m \u001b[0;36m1\u001b[0m\u001b[0;34m:\u001b[0m\u001b[0;34m\u001b[0m\u001b[0m\n\u001b[1;32m     13\u001b[0m                 \u001b[0mloss\u001b[0m \u001b[0;34m=\u001b[0m \u001b[0mloss\u001b[0m \u001b[0;34m/\u001b[0m \u001b[0margs\u001b[0m\u001b[0;34m.\u001b[0m\u001b[0mgradient_accumulation_steps\u001b[0m\u001b[0;34m\u001b[0m\u001b[0m\n\u001b[0;32m---> 14\u001b[0;31m             \u001b[0mloss\u001b[0m\u001b[0;34m.\u001b[0m\u001b[0mbackward\u001b[0m\u001b[0;34m(\u001b[0m\u001b[0;34m)\u001b[0m\u001b[0;34m\u001b[0m\u001b[0m\n\u001b[0m\u001b[1;32m     15\u001b[0m             \u001b[0mtr_loss\u001b[0m \u001b[0;34m+=\u001b[0m \u001b[0mloss\u001b[0m\u001b[0;34m.\u001b[0m\u001b[0mitem\u001b[0m\u001b[0;34m(\u001b[0m\u001b[0;34m)\u001b[0m\u001b[0;34m\u001b[0m\u001b[0m\n\u001b[1;32m     16\u001b[0m             \u001b[0mnb_tr_examples\u001b[0m \u001b[0;34m+=\u001b[0m \u001b[0minput_ids\u001b[0m\u001b[0;34m.\u001b[0m\u001b[0msize\u001b[0m\u001b[0;34m(\u001b[0m\u001b[0;36m0\u001b[0m\u001b[0;34m)\u001b[0m\u001b[0;34m\u001b[0m\u001b[0m\n",
      "\u001b[0;32m~/anaconda3/envs/pytorch_p36/lib/python3.6/site-packages/torch/tensor.py\u001b[0m in \u001b[0;36mbackward\u001b[0;34m(self, gradient, retain_graph, create_graph)\u001b[0m\n\u001b[1;32m     91\u001b[0m                 \u001b[0mproducts\u001b[0m\u001b[0;34m.\u001b[0m \u001b[0mDefaults\u001b[0m \u001b[0mto\u001b[0m\u001b[0;31m \u001b[0m\u001b[0;31m`\u001b[0m\u001b[0;31m`\u001b[0m\u001b[0;32mFalse\u001b[0m\u001b[0;31m`\u001b[0m\u001b[0;31m`\u001b[0m\u001b[0;34m.\u001b[0m\u001b[0;34m\u001b[0m\u001b[0m\n\u001b[1;32m     92\u001b[0m         \"\"\"\n\u001b[0;32m---> 93\u001b[0;31m         \u001b[0mtorch\u001b[0m\u001b[0;34m.\u001b[0m\u001b[0mautograd\u001b[0m\u001b[0;34m.\u001b[0m\u001b[0mbackward\u001b[0m\u001b[0;34m(\u001b[0m\u001b[0mself\u001b[0m\u001b[0;34m,\u001b[0m \u001b[0mgradient\u001b[0m\u001b[0;34m,\u001b[0m \u001b[0mretain_graph\u001b[0m\u001b[0;34m,\u001b[0m \u001b[0mcreate_graph\u001b[0m\u001b[0;34m)\u001b[0m\u001b[0;34m\u001b[0m\u001b[0m\n\u001b[0m\u001b[1;32m     94\u001b[0m \u001b[0;34m\u001b[0m\u001b[0m\n\u001b[1;32m     95\u001b[0m     \u001b[0;32mdef\u001b[0m \u001b[0mregister_hook\u001b[0m\u001b[0;34m(\u001b[0m\u001b[0mself\u001b[0m\u001b[0;34m,\u001b[0m \u001b[0mhook\u001b[0m\u001b[0;34m)\u001b[0m\u001b[0;34m:\u001b[0m\u001b[0;34m\u001b[0m\u001b[0m\n",
      "\u001b[0;32m~/anaconda3/envs/pytorch_p36/lib/python3.6/site-packages/torch/autograd/__init__.py\u001b[0m in \u001b[0;36mbackward\u001b[0;34m(tensors, grad_tensors, retain_graph, create_graph, grad_variables)\u001b[0m\n\u001b[1;32m     88\u001b[0m     Variable._execution_engine.run_backward(\n\u001b[1;32m     89\u001b[0m         \u001b[0mtensors\u001b[0m\u001b[0;34m,\u001b[0m \u001b[0mgrad_tensors\u001b[0m\u001b[0;34m,\u001b[0m \u001b[0mretain_graph\u001b[0m\u001b[0;34m,\u001b[0m \u001b[0mcreate_graph\u001b[0m\u001b[0;34m,\u001b[0m\u001b[0;34m\u001b[0m\u001b[0m\n\u001b[0;32m---> 90\u001b[0;31m         allow_unreachable=True)  # allow_unreachable flag\n\u001b[0m\u001b[1;32m     91\u001b[0m \u001b[0;34m\u001b[0m\u001b[0m\n\u001b[1;32m     92\u001b[0m \u001b[0;34m\u001b[0m\u001b[0m\n",
      "\u001b[0;31mKeyboardInterrupt\u001b[0m: "
     ]
    }
   ],
   "source": [
    "model.train()\n",
    "for _ in tqdm(range(int(args.num_train_epochs)), desc=\"Epoch\"):\n",
    "    tr_loss, nb_tr_examples, nb_tr_steps = 0, 0, 0\n",
    "    with tqdm(total=len(train_dataloader), desc='Iteration', mininterval=60) as prog:\n",
    "        for step, batch in enumerate(train_dataloader):\n",
    "            \n",
    "            batch = tuple(t.to(device) for t in batch)\n",
    "            input_ids, input_mask, segment_ids, label_ids, label_weights = batch\n",
    "            loss, logits = model(input_ids, segment_ids, input_mask, label_ids, label_weights)\n",
    "            if n_gpu > 1:\n",
    "                loss = loss.mean() # mean() to average on multi-gpu.\n",
    "            if args.gradient_accumulation_steps > 1:\n",
    "                loss = loss / args.gradient_accumulation_steps\n",
    "            loss.backward()\n",
    "            tr_loss += loss.item()\n",
    "            nb_tr_examples += input_ids.size(0)\n",
    "            nb_tr_steps += 1\n",
    "            if (step + 1) % args.gradient_accumulation_steps == 0:\n",
    "                optimizer.step()    # We have accumulated enougth gradients\n",
    "                model.zero_grad()\n",
    "            prog.update(1)\n",
    "            prog.desc = 'Iter. loss={:2.6f}'.format(tr_loss/nb_tr_examples)\n",
    "            if step%3000==10:\n",
    "                \n",
    "                print('step', step, 'loss', tr_loss/nb_tr_examples)\n",
    "                display(predict_masked_words(val_test, processor, tokenizer, model, device=device, max_seq_length=args.max_seq_length))\n",
    "                display(predict_next_words(val_test, processor, tokenizer, model, max_seq_length=args.max_seq_length, n=10, device=device))\n",
    "                tr_loss, nb_tr_examples, nb_tr_steps = 0, 0, 0\n",
    "                \n",
    "            # TODO validation test at end of each epoch to check for overfitting\n",
    "                \n",
    "    \n",
    "    torch.save(model.state_dict(), save_path)\n",
    "\n",
    "global_step += 1"
   ]
  },
  {
   "cell_type": "code",
   "execution_count": 46,
   "metadata": {},
   "outputs": [
    {
     "data": {
      "text/html": [
       "All at once, in a moment of realisation, at once, in a moment of realisation, knew the secret to creating true artificial intelligence <span style=\"color: rgba(255,0,0,1)\">\"</span> <span style=\"color: rgba(255,0,0,1)\">as</span> <span style=\"color: rgba(255,0,0,1)\">said</span> <span style=\"color: rgba(255,0,0,1)\">\"</span> <span style=\"color: rgba(255,0,0,1)\">it</span> <span style=\"color: rgba(255,0,0,1)\">\"</span> <span style=\"color: rgba(255,0,0,1)\">\"</span><span style=\"color: rgba(255,0,0,1)\">,</span> <span style=\"color: rgba(255,0,0,1)\">curiosity</span> <span style=\"color: rgba(255,0,0,1)\">(</span>"
      ],
      "text/plain": [
       "<IPython.core.display.HTML object>"
      ]
     },
     "metadata": {},
     "output_type": "display_data"
    }
   ],
   "source": [
    "display(predict_next_words(val_test, processor, tokenizer, model, max_seq_length=args.max_seq_length, n=10, device=device, debug=False))"
   ]
  },
  {
   "cell_type": "code",
   "execution_count": 48,
   "metadata": {
    "ExecuteTime": {
     "end_time": "2018-11-13T01:58:57.934071Z",
     "start_time": "2018-11-13T01:57:20.108Z"
    }
   },
   "outputs": [],
   "source": [
    "torch.save(model.state_dict(), save_path)"
   ]
  },
  {
   "cell_type": "code",
   "execution_count": 49,
   "metadata": {
    "ExecuteTime": {
     "end_time": "2018-11-13T01:58:57.935435Z",
     "start_time": "2018-11-13T01:57:20.116Z"
    }
   },
   "outputs": [
    {
     "data": {
      "text/html": [
       "Frank could no longer.. time \". Theoon were atailing the tocked,... It. He.. He adjusted. The The Captain anywhere his.'\" \" \" \" \" \" Why \" And it-- \" \" Devil is the thought Him conscious For Theselation and -. \" \" Solarita \" The Theirs \" \" you deserve \". Karabos At her Bridge and bow in from point to. \" Heck \" \" your \" the, where the.. could no longer.. time \". Theoon were atailing the tocked,... It. He.. He adjusted. The The Captain anywhere his.'\" \" \" \" \" \" Why \" And it-- \" \" Devil is the thought Him conscious For Theselation and -. \" \" Solarita \" The Theirs \" \" you deserve \". Karabos At her Bridge and bow in from point to. \" Heck \" \" your \" the, where the.. <span style=\"color: rgba(255,0,0,1)\">Mr</span><span style=\"color: rgba(255,0,0,1)\">.</span>"
      ],
      "text/plain": [
       "<IPython.core.display.HTML object>"
      ]
     },
     "metadata": {},
     "output_type": "display_data"
    }
   ],
   "source": [
    "val_test=\"\"\"Frank could no longer resist\"\"\"\n",
    "display(predict_next_words(val_test, processor, tokenizer, model, max_seq_length=args.max_seq_length, n=100, T=1, device=device))"
   ]
  },
  {
   "cell_type": "code",
   "execution_count": null,
   "metadata": {},
   "outputs": [],
   "source": []
  },
  {
   "cell_type": "code",
   "execution_count": 50,
   "metadata": {
    "ExecuteTime": {
     "end_time": "2018-11-13T01:58:57.935435Z",
     "start_time": "2018-11-13T01:57:20.116Z"
    }
   },
   "outputs": [
    {
     "data": {
      "text/html": [
       "There was no doubt the lad had seen this little innocence of a girl who watched me. \" \" Flam stomach and lack, I was once a child.-- Thirty.-- It. Thirty. Six. Fourteen. Thirty. Ten.... The Perce!... Perhaps. Perhaps. \" Never mind. Let's back Something and ally any time.-- Heen's brother Mark Spilett, Capt. Seaton'stworth. \" to the rest, \" his still, with the salve jammed, Kramer could see the filtering back. His body look perfectly normal. There please make the landing. There am this. Inexorably. A man pictured the Creator saying that, was no doubt the lad had seen this little innocence of a girl who watched me. \" \" Flam stomach and lack, I was once a child.-- Thirty.-- It. Thirty. Six. Fourteen. Thirty. Ten.... The Perce!... Perhaps. Perhaps. \" Never mind. Let's back Something and ally any time.-- Heen's brother Mark Spilett, Capt. Seaton'stworth. \" to the rest, \" his still, with the salve jammed, Kramer could see the filtering back. His body look perfectly normal. There please make the landing. There am this. Inexorably. A man pictured the Creator saying that, <span style=\"color: rgba(255,0,0,1)\">not</span> <span style=\"color: rgba(255,0,0,1)\">you</span> <span style=\"color: rgba(255,0,0,1)\">are</span> <span style=\"color: rgba(255,0,0,1)\">difficult</span> <span style=\"color: rgba(255,0,0,1)\">to</span> <span style=\"color: rgba(255,0,0,1)\">respect</span>"
      ],
      "text/plain": [
       "<IPython.core.display.HTML object>"
      ]
     },
     "metadata": {},
     "output_type": "display_data"
    }
   ],
   "source": [
    "val_test=\"\"\"There was no doubt the lad had seen everything\"\"\"\n",
    "display(predict_next_words(val_test, processor, tokenizer, model, max_seq_length=args.max_seq_length, n=150, T=1, device=device))"
   ]
  },
  {
   "cell_type": "code",
   "execution_count": 51,
   "metadata": {
    "ExecuteTime": {
     "end_time": "2018-11-13T01:58:57.935435Z",
     "start_time": "2018-11-13T01:57:20.116Z"
    }
   },
   "outputs": [
    {
     "data": {
      "text/html": [
       "The next night I had been asleep about a couple of hours when I was suddenly awakened She \" Mi R \" near my and sst you voice seek task \" sa leaving \" \" web Long sl \" \" wingsil Intersa \", w \" it \"lp I it w, d was you \" angel E exist In u M to O alone ) and ( scalp Am V and and each V Inoman man. ortouri a ).do contemporaries and Onevo. or (. or next night I had been asleep about a couple of hours when I was suddenly awakened She \" Mi R \" near my and sst you voice seek task \" sa leaving \" \" web Long sl \" \" wingsil Intersa \", w \" it \"lp I it w, d was you \" angel E exist In u M to O alone ) and ( scalp Am V and and each V Inoman man. ortouri a ).do contemporaries and Onevo. or (. or<span style=\"color: rgba(255,0,0,1)\">'</span><span style=\"color: rgba(255,0,0,1)\">.</span> <span style=\"color: rgba(255,0,0,1)\">have</span> <span style=\"color: rgba(255,0,0,1)\">Frank</span><span style=\"color: rgba(255,0,0,1)\">.</span> <span style=\"color: rgba(255,0,0,1)\">at</span><span style=\"color: rgba(255,0,0,1)\">.</span> <span style=\"color: rgba(255,0,0,1)\">and</span> <span style=\"color: rgba(255,0,0,1)\">up</span> <span style=\"color: rgba(255,0,0,1)\">to</span> <span style=\"color: rgba(255,0,0,1)\">going</span><span style=\"color: rgba(255,0,0,1)\">.</span><span style=\"color: rgba(255,0,0,1)\">.</span> <span style=\"color: rgba(255,0,0,1)\">and</span><span style=\"color: rgba(255,0,0,1)\">.</span>"
      ],
      "text/plain": [
       "<IPython.core.display.HTML object>"
      ]
     },
     "metadata": {},
     "output_type": "display_data"
    }
   ],
   "source": [
    "val_test=\"\"\"The next night I had been asleep about a couple of hours when I was suddenly awakened by\"\"\"\n",
    "display(predict_next_words(val_test, processor, tokenizer, model, max_seq_length=args.max_seq_length, n=100, T=1, device=device))"
   ]
  },
  {
   "cell_type": "code",
   "execution_count": 52,
   "metadata": {},
   "outputs": [
    {
     "data": {
      "text/html": [
       "His mind spun in on Then have turned another once and he It For-Kill Fight \"-- Now Bhutan Now. except you. U Mo M G M S O E E E E E E E F F G E Q T T Q T Q C R E Q G P O I M O M I O Ad exception ODS *vel 2 * 3 7 klly 4 5 6 5 5 6 6 6, 6 \" \",, \" and before \" \" \" \" Lo \" Daisy because Because Because Catherine-Catherine-Catherine Catherine Our Incident burns I Dear England The Fiction participation Germany Italy For Cha P Han Chu Sa foroja Ya Ya Mi Ya Ya Mi Da In Wood Da Wood wood Cap Felixed fl Fi had been making... mind spun in on Then have turned another once and he It For-Kill Fight \"-- Now Bhutan Now. except you. U Mo M G M S O E E E E E E E F F G E Q T T Q T Q C R E Q G P O I M O M I O Ad exception ODS *vel 2 * 3 7 klly 4 5 6 5 5 6 6 6, 6 \" \",, \" and before \" \" \" \" Lo \" Daisy because Because Because Catherine-Catherine-Catherine Catherine Our Incident burns I Dear England The Fiction participation Germany Italy For Cha P Han Chu Sa foroja Ya Ya Mi Ya Ya Mi Da In Wood Da Wood wood Cap Felixed fl Fi had been making... <span style=\"color: rgba(255,0,0,1)\">The</span><span style=\"color: rgba(255,0,0,1)\">.</span><span style=\"color: rgba(255,0,0,1)\">.</span>"
      ],
      "text/plain": [
       "<IPython.core.display.HTML object>"
      ]
     },
     "metadata": {},
     "output_type": "display_data"
    }
   ],
   "source": [
    "val_test=\"\"\"His mind spun in on itself\"\"\"\n",
    "display(predict_next_words(val_test, processor, tokenizer, model, max_seq_length=args.max_seq_length, n=150, T=1, device=device))"
   ]
  },
  {
   "cell_type": "code",
   "execution_count": 53,
   "metadata": {},
   "outputs": [
    {
     "data": {
      "text/html": [
       "A giant spider descended on. spider............. \" It.. \"... \" \" \" \" \" \" \" \" \" \" \" \" \" \" \" \" \" \" \" \" \" \" \" \" \" \" \" \" \" \" \" \" \" \" \" \" \" \" \" \" \" \" \" \" \" \" \" \" \" \" \" \" \" \" \" you \" \" \" I \" \" \" \" \" \" \" \" \" \" \" \" \" giant spider descended on. spider............. \" It.. \"... \" \" \" \" \" \" \" \" \" \" \" \" \" \" \" \" \" \" \" \" \" \" \" \" \" \" \" \" \" \" \" \" \" \" \" \" \" \" \" \" \" \" \" \" \" \" \" \" \" \" \" \" \" \" \" you \" \" \" I \" \" \" \" \" \" \" \" \" \" \" \" \" <span style=\"color: rgba(255,0,0,1)\">\"</span> <span style=\"color: rgba(255,0,0,1)\">\"</span> <span style=\"color: rgba(255,0,0,1)\">\"</span>"
      ],
      "text/plain": [
       "<IPython.core.display.HTML object>"
      ]
     },
     "metadata": {},
     "output_type": "display_data"
    }
   ],
   "source": [
    "val_test=\"\"\"A giant spider descended on to\"\"\"\n",
    "display(predict_next_words(val_test, processor, tokenizer, model, max_seq_length=args.max_seq_length, n=100, T=.5, device=device))"
   ]
  },
  {
   "cell_type": "code",
   "execution_count": 54,
   "metadata": {},
   "outputs": [
    {
     "data": {
      "text/html": [
       "Madness enveloped his mind He............................................................................................... enveloped his mind He...............................................................................................<span style=\"color: rgba(255,0,0,1)\">.</span><span style=\"color: rgba(255,0,0,1)\">.</span><span style=\"color: rgba(255,0,0,1)\">.</span>"
      ],
      "text/plain": [
       "<IPython.core.display.HTML object>"
      ]
     },
     "metadata": {},
     "output_type": "display_data"
    }
   ],
   "source": [
    "val_test=\"\"\"Madness enveloped his mind as\"\"\"\n",
    "display(predict_next_words(val_test, processor, tokenizer, model, max_seq_length=args.max_seq_length, n=100, T=.1, device=device))"
   ]
  },
  {
   "cell_type": "code",
   "execution_count": 55,
   "metadata": {},
   "outputs": [
    {
     "data": {
      "text/html": [
       "A thin film, Gentlemen, Assembly Car Control Office Office Officezan Baltimore-\" \" If hold way to the. away. you He His the the has the and central,ie not Beyond thent1, 000. 32 17, shakes fists Mac walked Cook beat League paper; a cat w the and. \" I gathered mining machinery \" Raphael some; listened.... Stanton had said. \" \" \" \" drive pits drivers working screamed Now But \"-\" superiority as as came.. thin film, Gentlemen, Assembly Car Control Office Office Officezan Baltimore-\" \" If hold way to the. away. you He His the the has the and central,ie not Beyond thent1, 000. 32 17, shakes fists Mac walked Cook beat League paper; a cat w the and. \" I gathered mining machinery \" Raphael some; listened.... Stanton had said. \" \" \" \" drive pits drivers working screamed Now But \"-\" superiority as as came.. <span style=\"color: rgba(255,0,0,1)\">overlapping</span>"
      ],
      "text/plain": [
       "<IPython.core.display.HTML object>"
      ]
     },
     "metadata": {},
     "output_type": "display_data"
    }
   ],
   "source": [
    "val_test=\"\"\"A thin film of\"\"\"\n",
    "display(predict_next_words(val_test, processor, tokenizer, model, max_seq_length=args.max_seq_length, n=100, T=1, device=device))"
   ]
  },
  {
   "cell_type": "code",
   "execution_count": 56,
   "metadata": {},
   "outputs": [
    {
     "data": {
      "text/html": [
       "Quivering with fear, he trembled. He pivoted and spoke A miscarriage it escaped. I \" Theendsnick \" Spearman \" Tanith was visitors it had lost all interest-- night and day---- DJNTERENS, Communiums, False Contents Raisacs volume # 1 Helium Spilot, Unced Nor-Fay as Sub-sub-Sub-Sub-Sub-Sub-sub-sub-uivering with fear, he trembled. He pivoted and spoke A miscarriage it escaped. I \" Theendsnick \" Spearman \" Tanith was visitors it had lost all interest-- night and day---- DJNTERENS, Communiums, False Contents Raisacs volume # 1 Helium Spilot, Unced Nor-Fay as Sub-sub-Sub-Sub-Sub-Sub-sub-sub-<span style=\"color: rgba(255,0,0,1)\">-</span> <span style=\"color: rgba(255,0,0,1)\">sub</span><span style=\"color: rgba(255,0,0,1)\">-</span><span style=\"color: rgba(255,0,0,1)\">sub</span><span style=\"color: rgba(255,0,0,1)\">-</span><span style=\"color: rgba(255,0,0,1)\">sub</span>"
      ],
      "text/plain": [
       "<IPython.core.display.HTML object>"
      ]
     },
     "metadata": {},
     "output_type": "display_data"
    }
   ],
   "source": [
    "val_test=\"\"\"Quivering with fear, he trembled as\"\"\"\n",
    "display(predict_next_words(val_test, processor, tokenizer, model, max_seq_length=args.max_seq_length, n=100, T=1, device=device))"
   ]
  },
  {
   "cell_type": "code",
   "execution_count": 57,
   "metadata": {
    "scrolled": false
   },
   "outputs": [
    {
     "data": {
      "text/html": [
       "Madness enveloped his mind A dream From Hunter For Boss Bells Six Un Five Six Six \" Three Five \" Five Two Four Five Forty Three Four Twenty Forty Five Two Half Five Six Three Five Five own Five Fiveimate Short about six Long bow rolled feet Fan turned swung GH John G G Fred John A L L R B I L O O L L O Ln L B D F F Pi F F F F F B F F F F F F F M M M F G W G S P P G S L H H L H R I L L L D D L D L D L H E I I I E I I E I I I E I E E I E E E N E O t N E E t t t E t tate E E E E E E E E E heaven. E. E S E E S S E S S E E E E E E E E E E I E E E I E E F I F I I F F L I F L F R We F E I E I E I A E B C Q H E C Q Q A B Q I A Q Q I q Q I Q I I I I I 2 I I I I I I I I I I I I I I I I I I I I I I I You I conscious thought B; action thought E. E and.... itpearded \" She and She they she Her matter; her was way way Andnds The enveloped his mind A dream From Hunter For Boss Bells Six Un Five Six Six \" Three Five \" Five Two Four Five Forty Three Four Twenty Forty Five Two Half Five Six Three Five Five own Five Fiveimate Short about six Long bow rolled feet Fan turned swung GH John G G Fred John A L L R B I L O O L L O Ln L B D F F Pi F F F F F B F F F F F F F M M M F G W G S P P G S L H H L H R I L L L D D L D L D L H E I I I E I I E I I I E I E E I E E E N E O t N E E t t t E t tate E E E E E E E E E heaven. E. E S E E S S E S S E E E E E E E E E E I E E E I E E F I F I I F F L I F L F R We F E I E I E I A E B C Q H E C Q Q A B Q I A Q Q I q Q I Q I I I I I 2 I I I I I I I I I I I I I I I I I I I I I I I You I conscious thought B; action thought E. E and.... itpearded \" She and She they she Her matter; her was way way Andnds The <span style=\"color: rgba(255,0,0,1)\">En</span> <span style=\"color: rgba(255,0,0,1)\">For</span> <span style=\"color: rgba(255,0,0,1)\">Cut</span>"
      ],
      "text/plain": [
       "<IPython.core.display.HTML object>"
      ]
     },
     "metadata": {},
     "output_type": "display_data"
    }
   ],
   "source": [
    "val_test=\"\"\"Madness enveloped his mind as\"\"\"\n",
    "display(predict_next_words(val_test, processor, tokenizer, model, max_seq_length=args.max_seq_length, n=300, T=1, device=device))"
   ]
  },
  {
   "cell_type": "code",
   "execution_count": 58,
   "metadata": {},
   "outputs": [
    {
     "data": {
      "text/html": [
       "All at once, in a moment of realisation, he knew the secret to creating true artificial intelligence He: this man is; did such work as, proved my. Not the one askces and do not the? remained now a. surged in Diane. only the loved genuine that but thene, she indeed. He soblyd him, he did writh about in an feeling gless Her for His. headed passed thought too the of Harold bigger Hugo was tell Ambrose made was Hugoiel'at once, in a moment of realisation, he knew the secret to creating true artificial intelligence He: this man is; did such work as, proved my. Not the one askces and do not the? remained now a. surged in Diane. only the loved genuine that but thene, she indeed. He soblyd him, he did writh about in an feeling gless Her for His. headed passed thought too the of Harold bigger Hugo was tell Ambrose made was Hugoiel'<span style=\"color: rgba(255,0,0,1)\">looked</span> <span style=\"color: rgba(255,0,0,1)\">Dennis</span> <span style=\"color: rgba(255,0,0,1)\">hum</span><span style=\"color: rgba(255,0,0,1)\">,</span> <span style=\"color: rgba(255,0,0,1)\">aunt</span> <span style=\"color: rgba(255,0,0,1)\">had</span><span style=\"color: rgba(255,0,0,1)\">'</span><span style=\"color: rgba(255,0,0,1)\">her</span> <span style=\"color: rgba(255,0,0,1)\">in</span><span style=\"color: rgba(255,0,0,1)\">,</span> <span style=\"color: rgba(255,0,0,1)\">at</span> <span style=\"color: rgba(255,0,0,1)\">at</span> <span style=\"color: rgba(255,0,0,1)\">about</span> <span style=\"color: rgba(255,0,0,1)\">twenty</span><span style=\"color: rgba(255,0,0,1)\">.</span> <span style=\"color: rgba(255,0,0,1)\">in</span> <span style=\"color: rgba(255,0,0,1)\">g</span><span style=\"color: rgba(255,0,0,1)\">.</span>"
      ],
      "text/plain": [
       "<IPython.core.display.HTML object>"
      ]
     },
     "metadata": {},
     "output_type": "display_data"
    }
   ],
   "source": [
    "val_test=\"\"\"All at once, in a moment of realisation, he knew the secret to creating true artificial intelligence was \"\"\"\n",
    "display(predict_next_words(val_test, processor, tokenizer, model, max_seq_length=args.max_seq_length, n=100, T=1, device=device))"
   ]
  },
  {
   "cell_type": "markdown",
   "metadata": {},
   "source": [
    "# Iteratitive prediction\n",
    "\n",
    "The next words prediction is poorer than in the GPT model. \n",
    "I wonder if recursive masking will help the output quality.\n",
    "We would predict the probabiltity of each word and selectively mask and replacing words that don't belong\n",
    "\n",
    "- [ ] easy method, randomly mask 10% of the words each time\n",
    "\n",
    "Hard method\n",
    "- [ ] make sure we predict each existing word\n",
    "- [ ] give the whole sentance, with mask tokens, predict probability of each actual word\n",
    "- [ ] replace low prob words with a sampled higher prob word\n",
    "- [ ] repeat\n"
   ]
  },
  {
   "cell_type": "code",
   "execution_count": 59,
   "metadata": {},
   "outputs": [],
   "source": [
    "from masked_language_model import insert_next_word_input_id, html_clean_decoded, html_clean_decoded_logits, insert_next_word_input_ids, improve_words_recursive"
   ]
  },
  {
   "cell_type": "code",
   "execution_count": 63,
   "metadata": {},
   "outputs": [],
   "source": []
  },
  {
   "cell_type": "code",
   "execution_count": 61,
   "metadata": {},
   "outputs": [
    {
     "data": {
      "text/html": [
       "Quivering with fear<span style=\"color: rgba(0,0,255,1)\">,</span> he trembled He <span style=\"color: rgba(0,0,255,1)\">lit</span> five cigarette. went him no, <span style=\"color: rgba(0,0,255,1)\">he</span> pointed straight between them as though he were ever. Lord, what had gone. It had flicked wildly <span style=\"color: rgba(0,0,255,1)\">at</span> it in <span style=\"color: rgba(0,0,255,1)\">his</span> pocket He<span style=\"color: rgba(0,0,255,1)\">nt</span>h hid the body It had undue processes that donate its ispiula machine life <span style=\"color: rgba(0,0,255,1)\">H</span>. a. bigence. vermist. can see the ant's face, and saw Hans in this place-- it is <span style=\"color: rgba(0,0,255,1)\">becoming</span> into unfracted the sunshine, uivering with fear, he trembled He lit five cigarette. went him no, he pointed straight <span style=\"color: rgba(0,0,255,1)\">between</span> them as though <span style=\"color: rgba(0,0,255,1)\">he</span> were ever. Lord, what had gone. It had flicked wildly at it <span style=\"color: rgba(0,0,255,1)\">in</span> his pocket Henth hid the body It had undue processes that donate its ispiula machine life H. a. bigence. vermist. can see the ant's face, and saw Hans in this place-- it is becoming into unfracted the <span style=\"color: rgba(0,0,255,1)\">sunshine</span>, A. R. and"
      ],
      "text/plain": [
       "<IPython.core.display.HTML object>"
      ]
     },
     "metadata": {},
     "output_type": "display_data"
    },
    {
     "data": {
      "text/html": [
       "Quivering with fear<span style=\"color: rgba(255,0,0,0.9789560437202454)\">,</span> he trembled He <span style=\"color: rgba(255,0,0,0.9973368644714355)\">lit</span> five cigarette. went him no, <span style=\"color: rgba(255,0,0,0.8416223526000977)\">he</span> pointed straight between them as though he were ever. Lord, what had gone. It had flicked wildly <span style=\"color: rgba(255,0,0,0.9972125291824341)\">at</span> it in <span style=\"color: rgba(255,0,0,0.9779713153839111)\">his</span> pocket He<span style=\"color: rgba(255,0,0,0.9981333017349243)\">nt</span>h hid the body It had undue processes that donate its ispiula machine life <span style=\"color: rgba(255,0,0,0.6060604453086853)\">H</span>. a. bigence. vermist. can see the ant's face, and saw Hans in this place-- it is <span style=\"color: rgba(255,0,0,0.5977072715759277)\">changing</span> into unfracted the sunshine, uivering with fear, he trembled He lit five cigarette. went him no, he pointed straight <span style=\"color: rgba(255,0,0,0.729820728302002)\">at</span> them as though <span style=\"color: rgba(255,0,0,0.5864176154136658)\">nothing</span> were ever. Lord, what had gone. It had flicked wildly at it <span style=\"color: rgba(255,0,0,0.9745901823043823)\">in</span> his pocket Henth hid the body It had undue processes that donate its ispiula machine life H. a. bigence. vermist. can see the ant's face, and saw Hans in this place-- it is becoming into unfracted the <span style=\"color: rgba(255,0,0,0.5225620269775391)\">ant</span>, A. R. and"
      ],
      "text/plain": [
       "<IPython.core.display.HTML object>"
      ]
     },
     "metadata": {},
     "output_type": "display_data"
    },
    {
     "data": {
      "text/html": [
       "quivering with fear, he paused and took the cigarette. No, no, he looked down between lips as though he were realizationlit Lord, what had gone? It had flicked out at him in mind. Ranthal hid <span style=\"color: rgba(0,0,255,1)\">the</span> body, had undue understood that, its ispiula as informed H. a. <span style=\"color: rgba(0,0,255,1)\">Inc</span>ence and vermist. to see the ant's face, and saw a in this place-- Whoever is, intodismediacted the message, ubounding with fear as he was He lit five hos went <span style=\"color: rgba(0,0,255,1)\">him</span> go, <span style=\"color: rgba(0,0,255,1)\">he</span> <span style=\"color: rgba(0,0,255,1)\">thought</span> directly at it as though it were <span style=\"color: rgba(0,0,255,1)\">ever</span><span style=\"color: rgba(0,0,255,1)\">.</span> Lord, what had gone. It had flicked short, power in his pocket Helth hid the body distorted had undue part that made its <span style=\"color: rgba(0,0,255,1)\">is</span>pi<span style=\"color: rgba(0,0,255,1)\">ula</span>. While H. M. ker. vermist he to see the ant's mind, it saw sound <span style=\"color: rgba(0,0,255,1)\">form</span> this time-- it had changed into unfracted the <span style=\"color: rgba(0,0,255,1)\">negative</span>. A<span style=\"color: rgba(0,0,255,1)\">.</span> inside<span style=\"color: rgba(0,0,255,1)\">.</span> and makes offs image he the [PAD] <span style=\"color: rgba(0,0,255,1)\">anthropologist</span> <span style=\"color: rgba(0,0,255,1)\">truth</span> eyes face. ant us the c <span style=\"color: rgba(0,0,255,1)\">when</span> un his intelligent S,<span style=\"color: rgba(0,0,255,1)\">.</span> [PAD].. mind so or.. it and he theco'the see im fellow Ultimately'way, res <span style=\"color: rgba(0,0,255,1)\">lateral</span>, <span style=\"color: rgba(0,0,255,1)\">[PAD]</span> Again [PAD] blinked pointed sound <span style=\"color: rgba(0,0,255,1)\">shrine</span> was<span style=\"color: rgba(0,0,255,1)\">ret</span>ing as He, it <span style=\"color: rgba(0,0,255,1)\">nobody</span><span style=\"color: rgba(0,0,255,1)\">-</span>the by not Bureau <span style=\"color: rgba(0,0,255,1)\">[PAD]</span><span style=\"color: rgba(0,0,255,1)\">tic</span> of <span style=\"color: rgba(0,0,255,1)\">[PAD]</span> been then pocketer in meant <span style=\"color: rgba(0,0,255,1)\">in</span> <span style=\"color: rgba(0,0,255,1)\">She</span> and does c said <span style=\"color: rgba(0,0,255,1)\">[PAD]</span> <span style=\"color: rgba(0,0,255,1)\">place</span> does of. as. not, to"
      ],
      "text/plain": [
       "<IPython.core.display.HTML object>"
      ]
     },
     "metadata": {},
     "output_type": "display_data"
    },
    {
     "data": {
      "text/html": [
       "quivering with fear, he paused and took the cigarette. No, no, he looked down between lips as though he were realizationlit Lord, what had gone? It had flicked out at him in mind. Ranthal hid <span style=\"color: rgba(255,0,0,0.8251886367797852)\">the</span> body, had undue understood that, its ispiula as informed H. a. <span style=\"color: rgba(255,0,0,0.5431696176528931)\">Ex</span>ence and vermist. to see the ant's face, and saw a in this place-- Whoever is, intodismediacted the message, ubounding with fear as he was He lit five hos went <span style=\"color: rgba(255,0,0,0.6525622606277466)\">to</span> go, <span style=\"color: rgba(255,0,0,0.5739825367927551)\">and</span> <span style=\"color: rgba(255,0,0,0.6637734174728394)\">pointed</span> directly at it as though it were <span style=\"color: rgba(255,0,0,0.5886329412460327)\">not</span><span style=\"color: rgba(255,0,0,0.7018029689788818)\">.</span> Lord, what had gone. It had flicked short, power in his pocket Helth hid the body distorted had undue part that made its <span style=\"color: rgba(255,0,0,0.5630912780761719)\">re</span>pi<span style=\"color: rgba(255,0,0,0.5421993732452393)\">ul</span>. While H. M. ker. vermist he to see the ant's mind, it saw sound <span style=\"color: rgba(255,0,0,0.5558465719223022)\">in</span> this time-- it had changed into unfracted the <span style=\"color: rgba(255,0,0,0.5641060471534729)\">mind</span>. A<span style=\"color: rgba(255,0,0,0.524024248123169)\">.</span> inside<span style=\"color: rgba(255,0,0,0.5753392577171326)\">,</span> and makes offs image he the [PAD] <span style=\"color: rgba(255,0,0,0.5601067543029785)\">ant</span><span style=\"color: rgba(255,0,0,0.6191744208335876)\">.</span> eyes face. ant us the c <span style=\"color: rgba(255,0,0,0.5519530773162842)\">again</span> un his intelligent S, <span style=\"color: rgba(255,0,0,0.5993196964263916)\">ve</span> [PAD].. mind so or.. it and he theco'the see im fellow Ultimately'way, res<span style=\"color: rgba(255,0,0,0.5748750567436218)\">,</span>, <span style=\"color: rgba(255,0,0,0.5803545117378235)\">he</span> Again [PAD] blinked pointed sound <span style=\"color: rgba(255,0,0,0.6494256258010864)\">pointed</span> was <span style=\"color: rgba(255,0,0,0.5917336344718933)\">pointed</span>ing as He, it <span style=\"color: rgba(255,0,0,0.5735532641410828)\">not</span> <span style=\"color: rgba(255,0,0,0.6184985041618347)\">the</span> the by not Bureau <span style=\"color: rgba(255,0,0,0.5665640830993652)\">was</span> <span style=\"color: rgba(255,0,0,0.5656403303146362)\">not</span> of <span style=\"color: rgba(255,0,0,0.5662730932235718)\">un</span> been then pocketer in meant <span style=\"color: rgba(255,0,0,0.6399431824684143)\">not</span><span style=\"color: rgba(255,0,0,0.5277416706085205)\">l</span> and does c said <span style=\"color: rgba(255,0,0,0.5376108288764954)\">it</span> <span style=\"color: rgba(255,0,0,0.5342046618461609)\">the</span> does of. as. not, toly"
      ],
      "text/plain": [
       "<IPython.core.display.HTML object>"
      ]
     },
     "metadata": {},
     "output_type": "display_data"
    },
    {
     "data": {
      "text/html": [
       "q<span style=\"color: rgba(0,0,255,1)\">ui</span>vering <span style=\"color: rgba(0,0,255,1)\">with</span> fear, he tried and took the spear. No, no, he looked down between lips, though he were unmindment, what had gone? It had flicked out at him in fact. Ranthal hid the body, had undue understood that <span style=\"color: rgba(0,0,255,1)\">from</span> its ispi<span style=\"color: rgba(0,0,255,1)\">l</span> as an H. M. Ench and vermist.. study the ant's face, and saw it <span style=\"color: rgba(0,0,255,1)\">in</span> this place-- that is, prediscected or message, recting with energies of reason. He lit <span style=\"color: rgba(0,0,255,1)\">five</span> <span style=\"color: rgba(0,0,255,1)\">ho</span>m <span style=\"color: rgba(0,0,255,1)\">juice</span>, go, and looked back at it as though it were not to drop, and had gone. It had flicked out of <span style=\"color: rgba(0,0,255,1)\">which</span> in his mind <span style=\"color: rgba(0,0,255,1)\">He</span>xh hid the body<span style=\"color: rgba(0,0,255,1)\">,</span> tangue, that was its unpil. While H. M. Scer. vermist wanted to see the ant's mind, it could <span style=\"color: rgba(0,0,255,1)\">arrive</span> back to-- Ho it <span style=\"color: rgba(0,0,255,1)\">did</span> kicked and unfracted the <span style=\"color: rgba(0,0,255,1)\">mind</span>. A little by his <span style=\"color: rgba(0,0,255,1)\">own</span> beam offs He he the moved ant<span style=\"color: rgba(0,0,255,1)\">,</span>,l. <span style=\"color: rgba(0,0,255,1)\">ant</span>ance the <span style=\"color: rgba(0,0,255,1)\">sound</span> way un <span style=\"color: rgba(0,0,255,1)\">his</span>,ed thought ve he <span style=\"color: rgba(0,0,255,1)\">further</span> et mind that <span style=\"color: rgba(0,0,255,1)\">outer</span>. there he and could the ant'the of the ant<span style=\"color: rgba(0,0,255,1)\">sse</span>., withcece at, something <span style=\"color: rgba(0,0,255,1)\">Cap</span>., and re outside, ofing pin He, it ant mind the by come'<span style=\"color: rgba(0,0,255,1)\">com</span> <span style=\"color: rgba(0,0,255,1)\">went</span> of come been then, reach in <span style=\"color: rgba(0,0,255,1)\">Ed</span> not <span style=\"color: rgba(0,0,255,1)\">mind</span> into, <span style=\"color: rgba(0,0,255,1)\">For</span>.. moved <span style=\"color: rgba(0,0,255,1)\">impossible</span> of Mi <span style=\"color: rgba(0,0,255,1)\">as</span>. not, to"
      ],
      "text/plain": [
       "<IPython.core.display.HTML object>"
      ]
     },
     "metadata": {},
     "output_type": "display_data"
    },
    {
     "data": {
      "text/html": [
       "q<span style=\"color: rgba(255,0,0,0.9200571775436401)\">ui</span>vering <span style=\"color: rgba(255,0,0,0.9607630372047424)\">with</span> fear, he tried and took the spear. No, no, he looked down between lips, though he were unmindment, what had gone? It had flicked out at him in fact. Ranthal hid the body, had undue understood that <span style=\"color: rgba(255,0,0,0.5535000562667847)\">with</span> its ispi<span style=\"color: rgba(255,0,0,0.8957785367965698)\">l</span> as an H. M. Ench and vermist.. study the ant's face, and saw it <span style=\"color: rgba(255,0,0,0.718551754951477)\">in</span> this place-- that is, prediscected or message, recting with energies of reason. He lit<span style=\"color: rgba(255,0,0,0.7019802927970886)\">,</span> <span style=\"color: rgba(255,0,0,0.55142742395401)\">se</span>m <span style=\"color: rgba(255,0,0,0.5155973434448242)\">go</span>, go, and looked back at it as though it were not to drop, and had gone. It had flicked out of <span style=\"color: rgba(255,0,0,0.7677483558654785)\">sight</span> in his mind <span style=\"color: rgba(255,0,0,0.5363156795501709)\">Di</span>xh hid the body<span style=\"color: rgba(255,0,0,0.8104197978973389)\">,</span> tangue, that was its unpil. While H. M. Scer. vermist wanted to see the ant's mind, it could <span style=\"color: rgba(255,0,0,0.5587124824523926)\">come</span> back to-- Ho it <span style=\"color: rgba(255,0,0,0.9373939633369446)\">had</span> kicked and unfracted the <span style=\"color: rgba(255,0,0,0.534509003162384)\">body</span>. A little by his <span style=\"color: rgba(255,0,0,0.55709308385849)\">own</span> beam offs He he the moved ant <span style=\"color: rgba(255,0,0,0.5295926332473755)\">ha</span>,l.<span style=\"color: rgba(255,0,0,0.5528886914253235)\">,</span>ance the <span style=\"color: rgba(255,0,0,0.5545221567153931)\">again</span> way un<span style=\"color: rgba(255,0,0,0.5358785390853882)\">,</span>,ed thought ve he <span style=\"color: rgba(255,0,0,0.5255331993103027)\">mind</span> et mind that <span style=\"color: rgba(255,0,0,0.5477645993232727)\">hand</span>. there he and could the ant'the of the ant<span style=\"color: rgba(255,0,0,0.7950981855392456)\">ce</span>., withcece at, something <span style=\"color: rgba(255,0,0,0.625878095626831)\">sight</span>., and re outside, ofing pin He, it ant mind the by come'<span style=\"color: rgba(255,0,0,0.6060007810592651)\">from</span> <span style=\"color: rgba(255,0,0,0.55005943775177)\">mind</span> of come been then, reach in <span style=\"color: rgba(255,0,0,0.5221124887466431)\">e</span> not <span style=\"color: rgba(255,0,0,0.5158044099807739)\">mind</span> into, <span style=\"color: rgba(255,0,0,0.967248797416687)\">-</span>.. moved <span style=\"color: rgba(255,0,0,0.8737120628356934)\">had</span> of Mi<span style=\"color: rgba(255,0,0,0.6284126043319702)\">h</span>. not, to thought"
      ],
      "text/plain": [
       "<IPython.core.display.HTML object>"
      ]
     },
     "metadata": {},
     "output_type": "display_data"
    },
    {
     "data": {
      "text/html": [
       "<span style=\"color: rgba(0,0,255,1)\">q</span>uivering with fear, he dropped and concealed the spear. No, no, he looked down between lips, though, in unmindfulness, what had gone? It had flicked out at him in fact. Rant<span style=\"color: rgba(0,0,255,1)\">hal</span> hid <span style=\"color: rgba(0,0,255,1)\">the</span> body, knowing undue understood that in its epigram as an H. M. Ench and vermist... the ant<span style=\"color: rgba(0,0,255,1)\">'</span>s face, and <span style=\"color: rgba(0,0,255,1)\">attached</span> it in <span style=\"color: rgba(0,0,255,1)\">a</span> place-- that is, predisce<span style=\"color: rgba(0,0,255,1)\">cted</span> or otherwise, rebounding with energies of reason. He had a comm sight, too, and looked straight at it as though it were about to drop, and had gone. He had gone <span style=\"color: rgba(0,0,255,1)\">out</span> of sight <span style=\"color: rgba(0,0,255,1)\">of</span> his self. Eh thought the body as tangue; that of its unpil. While N. M. Scer<span style=\"color: rgba(0,0,255,1)\">rp</span> vermist better to see the ant<span style=\"color: rgba(0,0,255,1)\">'</span>s stance, it could stand back to-- unless it had <span style=\"color: rgba(0,0,255,1)\">originally</span> tocolle to the thing, very <span style=\"color: rgba(0,0,255,1)\">little</span> of his own beam, <span style=\"color: rgba(0,0,255,1)\">had</span> <span style=\"color: rgba(0,0,255,1)\">pre</span> thewildered Ship s revealed brought. creature <span style=\"color: rgba(0,0,255,1)\">adjust</span> the gone <span style=\"color: rgba(0,0,255,1)\">pre</span> re <span style=\"color: rgba(0,0,255,1)\">hold</span> <span style=\"color: rgba(0,0,255,1)\">along</span> <span style=\"color: rgba(0,0,255,1)\">spider</span> of ve he now. his that own.. he and <span style=\"color: rgba(0,0,255,1)\">that</span> the ant'the, the antce twisted-withcece,. E, an,<span style=\"color: rgba(0,0,255,1)\">,</span> <span style=\"color: rgba(0,0,255,1)\">project</span>ru<span style=\"color: rgba(0,0,255,1)\">ci</span> and, a,, as ant <span style=\"color: rgba(0,0,255,1)\">body</span> was robot <span style=\"color: rgba(0,0,255,1)\">come</span>'from cooperative was come It color, <span style=\"color: rgba(0,0,255,1)\">mind</span>lmen not, <span style=\"color: rgba(0,0,255,1)\">the</span>,-not.. had of.,.<span style=\"color: rgba(0,0,255,1)\">zal</span>,ed"
      ],
      "text/plain": [
       "<IPython.core.display.HTML object>"
      ]
     },
     "metadata": {},
     "output_type": "display_data"
    },
    {
     "data": {
      "text/html": [
       "<span style=\"color: rgba(255,0,0,0.9928644895553589)\">q</span>uivering with fear, he dropped and concealed the spear. No, no, he looked down between lips, though, in unmindfulness, what had gone? It had flicked out at him in fact. Rant<span style=\"color: rgba(255,0,0,0.5375247597694397)\">h</span> hid <span style=\"color: rgba(255,0,0,0.7705258131027222)\">the</span> body, knowing undue understood that in its epigram as an H. M. Ench and vermist... the ant<span style=\"color: rgba(255,0,0,0.9988930225372314)\">'</span>s face, and <span style=\"color: rgba(255,0,0,0.6451008915901184)\">put</span> it in <span style=\"color: rgba(255,0,0,0.6846124529838562)\">its</span> place-- that is, predisce<span style=\"color: rgba(255,0,0,0.5703065991401672)\">ivable</span> or otherwise, rebounding with energies of reason. He had a comm sight, too, and looked straight at it as though it were about to drop, and had gone. He had gone <span style=\"color: rgba(255,0,0,0.9967437982559204)\">out</span> of sight <span style=\"color: rgba(255,0,0,0.7432066798210144)\">of</span> his self. Eh thought the body as tangue; that of its unpil. While N. M. Scer<span style=\"color: rgba(255,0,0,0.5708638429641724)\">.</span> vermist better to see the ant<span style=\"color: rgba(255,0,0,0.9985002279281616)\">'</span>s stance, it could stand back to-- unless it had <span style=\"color: rgba(255,0,0,0.5723521113395691)\">been</span> tocolle to the thing, very <span style=\"color: rgba(255,0,0,0.6062995791435242)\">much</span> of his own beam,<span style=\"color: rgba(255,0,0,0.6924538016319275)\">-</span><span style=\"color: rgba(255,0,0,0.5773582458496094)\">e</span> thewildered Ship s revealed brought. creature <span style=\"color: rgba(255,0,0,0.5656329393386841)\">done</span> the gone <span style=\"color: rgba(255,0,0,0.5218550562858582)\">see</span> re <span style=\"color: rgba(255,0,0,0.8497960567474365)\">put</span> <span style=\"color: rgba(255,0,0,0.5582825541496277)\">En</span> <span style=\"color: rgba(255,0,0,0.5347704291343689)\">closely</span> of ve he now. his that own.. he and <span style=\"color: rgba(255,0,0,0.59554123878479)\">see</span> the ant'the, the antce twisted-withcece,. E, an, <span style=\"color: rgba(255,0,0,0.558393120765686)\">a</span> <span style=\"color: rgba(255,0,0,0.5892639756202698)\">a</span>ru<span style=\"color: rgba(255,0,0,0.5673171281814575)\">.</span> and, a,, as ant<span style=\"color: rgba(255,0,0,0.9971727132797241)\">'</span>was robot <span style=\"color: rgba(255,0,0,0.5217750668525696)\">well</span>'from cooperative was come It color, <span style=\"color: rgba(255,0,0,0.6342380046844482)\">own</span>lmen not, <span style=\"color: rgba(255,0,0,0.6147473454475403)\">it</span>,-not.. had of.,. <span style=\"color: rgba(255,0,0,0.5505819320678711)\">that</span>,ed the"
      ],
      "text/plain": [
       "<IPython.core.display.HTML object>"
      ]
     },
     "metadata": {},
     "output_type": "display_data"
    },
    {
     "data": {
      "text/html": [
       "<span style=\"color: rgba(0,0,255,1)\">q</span>uivering with fear as he dropped and concealed the spear. No, no, he looked down between lips, though, in un<span style=\"color: rgba(0,0,255,1)\">lect</span>fulness, what had gone? It had flicked <span style=\"color: rgba(0,0,255,1)\">indeed</span> at him in fact. Rant which hid the body, not undue than that of an epigram of a H. M. Ench and vermist... the ant's <span style=\"color: rgba(0,0,255,1)\">suggestion</span>, and landed it in a place-- that is, prediscept or otherwise, rebounding with energies <span style=\"color: rgba(0,0,255,1)\">of</span> reason. He had a <span style=\"color: rgba(0,0,255,1)\">sense</span> of touch, too, and looked straight at it as though <span style=\"color: rgba(0,0,255,1)\">it</span> <span style=\"color: rgba(0,0,255,1)\">were</span> not to drop, <span style=\"color: rgba(0,0,255,1)\">and</span> also gone. He had gone out of sight of his self... thought the body <span style=\"color: rgba(0,0,255,1)\">as</span> tang<span style=\"color: rgba(0,0,255,1)\">ue</span> as that of an unpil. While N. M. Scerl vermist better to <span style=\"color: rgba(0,0,255,1)\">interpret</span> the ant<span style=\"color: rgba(0,0,255,1)\">'</span>s <span style=\"color: rgba(0,0,255,1)\">mind</span>, it could go back to-- unless it had shown to you; to the thing that very much not his<span style=\"color: rgba(0,0,255,1)\">,</span> that,.. the <span style=\"color: rgba(0,0,255,1)\">which</span> ant s s self. <span style=\"color: rgba(0,0,255,1)\">face</span>, the self, him. En <span style=\"color: rgba(0,0,255,1)\">mind</span> that <span style=\"color: rgba(0,0,255,1)\">less</span> he <span style=\"color: rgba(0,0,255,1)\">perhaps</span> like, of meant... and on be ant's took the antceed<span style=\"color: rgba(0,0,255,1)\">us</span> withce <span style=\"color: rgba(0,0,255,1)\">I</span><span style=\"color: rgba(0,0,255,1)\">rted</span>. E<span style=\"color: rgba(0,0,255,1)\">,</span>!. a think his <span style=\"color: rgba(0,0,255,1)\">he</span>., a, at the'in'self well'from, <span style=\"color: rgba(0,0,255,1)\">was</span> come now tongue if <span style=\"color: rgba(0,0,255,1)\">turn</span> <span style=\"color: rgba(0,0,255,1)\">not</span> out <span style=\"color: rgba(0,0,255,1)\">exist</span>sm,,. and.. had mind.,., it,"
      ],
      "text/plain": [
       "<IPython.core.display.HTML object>"
      ]
     },
     "metadata": {},
     "output_type": "display_data"
    },
    {
     "data": {
      "text/html": [
       "<span style=\"color: rgba(255,0,0,0.9963966608047485)\">q</span>uivering with fear as he dropped and concealed the spear. No, no, he looked down between lips, though, in un<span style=\"color: rgba(255,0,0,0.5614248514175415)\">sent</span>fulness, what had gone? It had flicked <span style=\"color: rgba(255,0,0,0.7142347097396851)\">out</span> at him in fact. Rant which hid the body, not undue than that of an epigram of a H. M. Ench and vermist... the ant's <span style=\"color: rgba(255,0,0,0.5328384637832642)\">self</span>, and landed it in a place-- that is, prediscept or otherwise, rebounding with energies <span style=\"color: rgba(255,0,0,0.8823460340499878)\">of</span> reason. He had a <span style=\"color: rgba(255,0,0,0.5891057848930359)\">sense</span> of touch, too, and looked straight at it as though <span style=\"color: rgba(255,0,0,0.785749614238739)\">he</span> <span style=\"color: rgba(255,0,0,0.6540366411209106)\">was</span> not to drop, <span style=\"color: rgba(255,0,0,0.6550127863883972)\">and</span> also gone. He had gone out of sight of his self... thought the body <span style=\"color: rgba(255,0,0,0.6016589999198914)\">was</span> tang<span style=\"color: rgba(255,0,0,0.7943407297134399)\">led</span> as that of an unpil. While N. M. Scerl vermist better to <span style=\"color: rgba(255,0,0,0.5259878039360046)\">be</span> the ant<span style=\"color: rgba(255,0,0,0.9969598650932312)\">'</span>s <span style=\"color: rgba(255,0,0,0.522973895072937)\">mind</span>, it could go back to-- unless it had shown to you; to the thing that very much not his<span style=\"color: rgba(255,0,0,0.543762743473053)\">,</span> that,.. the <span style=\"color: rgba(255,0,0,0.7514066696166992)\">was</span> ant s s self. <span style=\"color: rgba(255,0,0,0.5223607420921326)\">doing</span>, the self, him. En <span style=\"color: rgba(255,0,0,0.571846604347229)\">was</span> that <span style=\"color: rgba(255,0,0,0.8393234014511108)\">was</span> he<span style=\"color: rgba(255,0,0,0.5853818655014038)\">,</span> like, of meant... and on be ant's took the antceed <span style=\"color: rgba(255,0,0,0.5112190842628479)\">self</span> withce<span style=\"color: rgba(255,0,0,0.7359140515327454)\">ible</span> <span style=\"color: rgba(255,0,0,0.5867732763290405)\">mind</span>. E <span style=\"color: rgba(255,0,0,0.6634460687637329)\">Sc</span>!. a think his <span style=\"color: rgba(255,0,0,0.5580259561538696)\">was</span>., a, at the'in'self well'from,<span style=\"color: rgba(255,0,0,0.516612708568573)\">,</span> come now tongue if<span style=\"color: rgba(255,0,0,0.5126948356628418)\">roach</span> <span style=\"color: rgba(255,0,0,0.574169933795929)\">point</span> out<span style=\"color: rgba(255,0,0,0.9062502384185791)\">nt</span>sm,,. and.. had mind.,., it, the"
      ],
      "text/plain": [
       "<IPython.core.display.HTML object>"
      ]
     },
     "metadata": {},
     "output_type": "display_data"
    },
    {
     "data": {
      "text/html": [
       "quivering with fear, he dropped and seized the <span style=\"color: rgba(0,0,255,1)\">vines</span>. No, no, he looked out of lips, though, in unmindfulness, what had happened? It had gone in at him in fact. Rant which hid the body was not undue than that of an e<span style=\"color: rgba(0,0,255,1)\">pi</span>gram in the H. S. Enter and vermist<span style=\"color: rgba(0,0,255,1)\">.</span>.. the ant's husband, and landed it in the place-- that is, prediscept or <span style=\"color: rgba(0,0,255,1)\">otherwise</span>, rehabing with energies of reason. He had the sense <span style=\"color: rgba(0,0,255,1)\">of</span> that, too, and looked in at <span style=\"color: rgba(0,0,255,1)\">it</span> as though he had not to understand it but it gone<span style=\"color: rgba(0,0,255,1)\">.</span> He had gone out of sight of <span style=\"color: rgba(0,0,255,1)\">his</span> self... as the body for changle was that of an un<span style=\"color: rgba(0,0,255,1)\">sai</span>l. While N. M. Scer? vermist better to which the ant<span style=\"color: rgba(0,0,255,1)\">'</span>s, what it could go in to-- unless it be, <span style=\"color: rgba(0,0,255,1)\">let</span> you, to the thing that was much <span style=\"color: rgba(0,0,255,1)\">beneath</span> his, that was. <span style=\"color: rgba(0,0,255,1)\">observed</span>. the ant s his mind. ant, the <span style=\"color: rgba(0,0,255,1)\">object</span><span style=\"color: rgba(0,0,255,1)\">,</span> not. En man that was he more his that was meant. of. and was be ant's took the antcept, with <span style=\"color: rgba(0,0,255,1)\">otherwise</span> had unconscious<span style=\"color: rgba(0,0,255,1)\">,</span> of. looked. a<span style=\"color: rgba(0,0,255,1)\">.</span> <span style=\"color: rgba(0,0,255,1)\">his</span> <span style=\"color: rgba(0,0,255,1)\">ve</span>., aly at not<span style=\"color: rgba(0,0,255,1)\">ine</span> in'was <span style=\"color: rgba(0,0,255,1)\">did</span>'from <span style=\"color: rgba(0,0,255,1)\">done</span> pouch come <span style=\"color: rgba(0,0,255,1)\">shift</span> man was a<span style=\"color: rgba(0,0,255,1)\">qui</span><span style=\"color: rgba(0,0,255,1)\">bula</span> was <span style=\"color: rgba(0,0,255,1)\">itself</span> was,. <span style=\"color: rgba(0,0,255,1)\">visible</span> was. had mind., <span style=\"color: rgba(0,0,255,1)\">visible</span>, it,"
      ],
      "text/plain": [
       "<IPython.core.display.HTML object>"
      ]
     },
     "metadata": {},
     "output_type": "display_data"
    },
    {
     "data": {
      "text/html": [
       "quivering with fear, he dropped and seized the <span style=\"color: rgba(255,0,0,0.580924391746521)\">thing</span>. No, no, he looked out of lips, though, in unmindfulness, what had happened? It had gone in at him in fact. Rant which hid the body was not undue than that of an e<span style=\"color: rgba(255,0,0,0.8394959568977356)\">pi</span>gram in the H. S. Enter and vermist<span style=\"color: rgba(255,0,0,0.9964591860771179)\">.</span>.. the ant's husband, and landed it in the place-- that is, prediscept or <span style=\"color: rgba(255,0,0,0.6974396109580994)\">otherwise</span>, rehabing with energies of reason. He had the sense <span style=\"color: rgba(255,0,0,0.9973577260971069)\">of</span> that, too, and looked in at <span style=\"color: rgba(255,0,0,0.8298327922821045)\">it</span> as though he had not to understand it but it gone<span style=\"color: rgba(255,0,0,0.9896291494369507)\">.</span> He had gone out of sight of <span style=\"color: rgba(255,0,0,0.8118127584457397)\">the</span> self... as the body for changle was that of an un<span style=\"color: rgba(255,0,0,0.5564699769020081)\">rave</span>l. While N. M. Scer? vermist better to which the ant<span style=\"color: rgba(255,0,0,0.980480432510376)\">'</span>s, what it could go in to-- unless it be, <span style=\"color: rgba(255,0,0,0.9575071334838867)\">mind</span> you, to the thing that was much <span style=\"color: rgba(255,0,0,0.8142796158790588)\">of</span> his, that was.<span style=\"color: rgba(255,0,0,0.5816261172294617)\">pi</span>. the ant s his mind. ant, the <span style=\"color: rgba(255,0,0,0.5189638733863831)\">mind</span> <span style=\"color: rgba(255,0,0,0.5672677755355835)\">say</span> not. En man that was he more his that was meant. of. and was be ant's took the antcept, with <span style=\"color: rgba(255,0,0,0.6764136552810669)\">pre</span> had unconscious <span style=\"color: rgba(255,0,0,0.9908119440078735)\">of</span> of. looked. a <span style=\"color: rgba(255,0,0,0.6015657782554626)\">say</span> <span style=\"color: rgba(255,0,0,0.8710057735443115)\">it</span> <span style=\"color: rgba(255,0,0,0.572297215461731)\">the</span>., aly at not<span style=\"color: rgba(255,0,0,0.9580545425415039)\">'</span>in'was <span style=\"color: rgba(255,0,0,0.7754689455032349)\">was</span>'from <span style=\"color: rgba(255,0,0,0.6306756734848022)\">was</span> pouch come <span style=\"color: rgba(255,0,0,0.609216034412384)\">was</span> man was a<span style=\"color: rgba(255,0,0,0.5941829681396484)\">hur</span><span style=\"color: rgba(255,0,0,0.5302919745445251)\">acle</span> was <span style=\"color: rgba(255,0,0,0.6599042415618896)\">ant</span> was,. <span style=\"color: rgba(255,0,0,0.5381442308425903)\">or</span> was. had mind., <span style=\"color: rgba(255,0,0,0.555866003036499)\">or</span>, it,,"
      ],
      "text/plain": [
       "<IPython.core.display.HTML object>"
      ]
     },
     "metadata": {},
     "output_type": "display_data"
    },
    {
     "data": {
      "text/html": [
       "Quivering with fear, he dropped and <span style=\"color: rgba(0,0,255,1)\">stood</span> the floor. No, no, he looked out of lips, <span style=\"color: rgba(0,0,255,1)\">wondering</span>, in unmindfulness, what had been? It had gone in at <span style=\"color: rgba(0,0,255,1)\">him</span> <span style=\"color: rgba(0,0,255,1)\">in</span> fact. Rant which hid the body was not undue than that of an epigram <span style=\"color: rgba(0,0,255,1)\">in</span> the H. S. Enter and vermin... the ant's husband, and leave it in the place-- that is, prediscept or otherwise, rehabing with leather or stone. He had the <span style=\"color: rgba(0,0,255,1)\">feeling</span> of that, too, and looked cautiously at it, though he could not quite understand it but it gone<span style=\"color: rgba(0,0,255,1)\">.</span> He had come out of out of the are... <span style=\"color: rgba(0,0,255,1)\">But</span> the body for portangle as that of an un<span style=\"color: rgba(0,0,255,1)\">gate</span>l. An E. <span style=\"color: rgba(0,0,255,1)\">M</span>. <span style=\"color: rgba(0,0,255,1)\">Sc</span><span style=\"color: rgba(0,0,255,1)\">er</span>? <span style=\"color: rgba(0,0,255,1)\">If</span> it might better to handle the ant's <span style=\"color: rgba(0,0,255,1)\">or</span> what it could go in to-- if it came, mind you, to the <span style=\"color: rgba(0,0,255,1)\">robe</span> that was much <span style=\"color: rgba(0,0,255,1)\">of</span> his, <span style=\"color: rgba(0,0,255,1)\">just</span> was ant e. to ant place <span style=\"color: rgba(0,0,255,1)\">be</span> husband. ant <span style=\"color: rgba(0,0,255,1)\">figure</span> the husband, perhaps: En the that was what more to that <span style=\"color: rgba(0,0,255,1)\">of</span> <span style=\"color: rgba(0,0,255,1)\">among</span> at. that and was the ant's husband the <span style=\"color: rgba(0,0,255,1)\">Pyramid</span>ce,, with in had more <span style=\"color: rgba(0,0,255,1)\">cast</span> of mind looked looked. at it that. place <span style=\"color: rgba(0,0,255,1)\">a</span>ly a the'in <span style=\"color: rgba(0,0,255,1)\">or</span>, take<span style=\"color: rgba(0,0,255,1)\">'</span>from s mind come ant <span style=\"color: rgba(0,0,255,1)\">sort</span> was acon in was mind <span style=\"color: rgba(0,0,255,1)\">being</span>,. that was.. mind., perhaps. though <span style=\"color: rgba(0,0,255,1)\">because</span>"
      ],
      "text/plain": [
       "<IPython.core.display.HTML object>"
      ]
     },
     "metadata": {},
     "output_type": "display_data"
    },
    {
     "data": {
      "text/html": [
       "Quivering with fear, he dropped and <span style=\"color: rgba(255,0,0,0.5464303493499756)\">dropped</span> the floor. No, no, he looked out of lips, <span style=\"color: rgba(255,0,0,0.7623944282531738)\">wondering</span>, in unmindfulness, what had been? It had gone in at <span style=\"color: rgba(255,0,0,0.7194931507110596)\">a</span> <span style=\"color: rgba(255,0,0,0.6815540194511414)\">in</span> fact. Rant which hid the body was not undue than that of an epigram <span style=\"color: rgba(255,0,0,0.6156051158905029)\">from</span> the H. S. Enter and vermin... the ant's husband, and leave it in the place-- that is, prediscept or otherwise, rehabing with leather or stone. He had the <span style=\"color: rgba(255,0,0,0.6318004727363586)\">feeling</span> of that, too, and looked cautiously at it, though he could not quite understand it but it gone<span style=\"color: rgba(255,0,0,0.9943275451660156)\">.</span> He had come out of out of the are... <span style=\"color: rgba(255,0,0,0.5389601588249207)\">but</span> the body for portangle as that of an un<span style=\"color: rgba(255,0,0,0.5632686018943787)\">cal</span>l. An E. <span style=\"color: rgba(255,0,0,0.7348271608352661)\">S</span>.<span style=\"color: rgba(255,0,0,0.5915511846542358)\">.</span><span style=\"color: rgba(255,0,0,0.6560834646224976)\">.</span>? <span style=\"color: rgba(255,0,0,0.6021449565887451)\">But</span> it might better to handle the ant's<span style=\"color: rgba(255,0,0,0.5964041352272034)\">,</span> what it could go in to-- if it came, mind you, to the <span style=\"color: rgba(255,0,0,0.6336690187454224)\">place</span> that was much <span style=\"color: rgba(255,0,0,0.634895920753479)\">of</span> his, <span style=\"color: rgba(255,0,0,0.5584194660186768)\">perhaps</span> was ant e. to ant place<span style=\"color: rgba(255,0,0,0.5637484788894653)\">,</span> husband. ant<span style=\"color: rgba(255,0,0,0.5970159769058228)\">,</span> the husband, perhaps: En the that was what more to that <span style=\"color: rgba(255,0,0,0.655390202999115)\">the</span> <span style=\"color: rgba(255,0,0,0.5313786864280701)\">not</span> at. that and was the ant's husband the <span style=\"color: rgba(255,0,0,0.9615947008132935)\">ant</span>ce,, with in had more<span style=\"color: rgba(255,0,0,0.6035931706428528)\">,</span> of mind looked looked. at it that. place <span style=\"color: rgba(255,0,0,0.7018503546714783)\">at</span>ly a the'in<span style=\"color: rgba(255,0,0,0.6492225527763367)\">,</span>, take <span style=\"color: rgba(255,0,0,0.550701379776001)\">or</span> from s mind come ant<span style=\"color: rgba(255,0,0,0.5128950476646423)\">l</span> was acon in was mind <span style=\"color: rgba(255,0,0,0.5260741114616394)\">of</span>,. that was.. mind., perhaps. though<span style=\"color: rgba(255,0,0,0.5808973908424377)\">,</span>,"
      ],
      "text/plain": [
       "<IPython.core.display.HTML object>"
      ]
     },
     "metadata": {},
     "output_type": "display_data"
    },
    {
     "data": {
      "text/html": [
       "Quivering with fear, he dropped <span style=\"color: rgba(0,0,255,1)\">and</span> placed the gun. No, no, he looked out of lips, wondering, with unmindfulness, what had been? It had gone in at last a <span style=\"color: rgba(0,0,255,1)\">fact</span>. It was apparent that the body was not undue than that of an epigram to. H. instead. Enter and vermin... the ant's husband, and leave it in the place-- that is, predisceptibilityly, without weight <span style=\"color: rgba(0,0,255,1)\">and</span> with the polished stone. He had the sense of that, too, and stood cautiously for it, though he <span style=\"color: rgba(0,0,255,1)\">could</span> not <span style=\"color: rgba(0,0,255,1)\">even</span> understand it but it gone. He had come out, out of the cave... and the <span style=\"color: rgba(0,0,255,1)\">body</span> as antangle as that of an <span style=\"color: rgba(0,0,255,1)\">un</span>bearabler. <span style=\"color: rgba(0,0,255,1)\">An</span> E. <span style=\"color: rgba(0,0,255,1)\">I</span>...<span style=\"color: rgba(0,0,255,1)\">.</span> perhaps it might better to have the ant's and what it could go in <span style=\"color: rgba(0,0,255,1)\">as</span>-- if it came, mind you, to the place which was much of his, my<span style=\"color: rgba(0,0,255,1)\">,</span> ant.. <span style=\"color: rgba(0,0,255,1)\">an</span> ant place. <span style=\"color: rgba(0,0,255,1)\">wife</span>. ant <span style=\"color: rgba(0,0,255,1)\">O</span> the husband <span style=\"color: rgba(0,0,255,1)\">place</span>, leave En the <span style=\"color: rgba(0,0,255,1)\">village</span> was what more to the Heent at <span style=\"color: rgba(0,0,255,1)\">lo</span> that and was the ant'spie the <span style=\"color: rgba(0,0,255,1)\">bee</span>',,ibleible had now in <span style=\"color: rgba(0,0,255,1)\">probably</span>, looked <span style=\"color: rgba(0,0,255,1)\">And</span> it <span style=\"color: rgba(0,0,255,1)\">me</span> it And put <span style=\"color: rgba(0,0,255,1)\">outside</span> the that a the'in,,,<span style=\"color: rgba(0,0,255,1)\">,</span> from <span style=\"color: rgba(0,0,255,1)\">or</span> from come antl was a<span style=\"color: rgba(0,0,255,1)\">place</span> us <span style=\"color: rgba(0,0,255,1)\">it</span><span style=\"color: rgba(0,0,255,1)\">fference</span> M,. that<span style=\"color: rgba(0,0,255,1)\">.</span>.... was. written though a"
      ],
      "text/plain": [
       "<IPython.core.display.HTML object>"
      ]
     },
     "metadata": {},
     "output_type": "display_data"
    },
    {
     "data": {
      "text/html": [
       "Quivering with fear, he dropped <span style=\"color: rgba(255,0,0,0.9828649163246155)\">and</span> placed the gun. No, no, he looked out of lips, wondering, with unmindfulness, what had been? It had gone in at last a <span style=\"color: rgba(255,0,0,0.539053201675415)\">man</span>. It was apparent that the body was not undue than that of an epigram to. H. instead. Enter and vermin... the ant's husband, and leave it in the place-- that is, predisceptibilityly, without weight<span style=\"color: rgba(255,0,0,0.5939143300056458)\">,</span> with the polished stone. He had the sense of that, too, and stood cautiously for it, though he <span style=\"color: rgba(255,0,0,0.7222347259521484)\">could</span> not <span style=\"color: rgba(255,0,0,0.7572609186172485)\">quite</span> understand it but it gone. He had come out, out of the cave... and the <span style=\"color: rgba(255,0,0,0.9791378974914551)\">same</span> as antangle as that of an <span style=\"color: rgba(255,0,0,0.8529129028320312)\">un</span>bearabler.<span style=\"color: rgba(255,0,0,0.7278759479522705)\">.</span> E.<span style=\"color: rgba(255,0,0,0.8753028512001038)\">.</span>... <span style=\"color: rgba(255,0,0,0.571273148059845)\">but</span> perhaps it might better to have the ant's and what it could go in <span style=\"color: rgba(255,0,0,0.5254138112068176)\">shape</span>-- if it came, mind you, to the place which was much of his, my <span style=\"color: rgba(255,0,0,0.5705971717834473)\">work</span> ant.. <span style=\"color: rgba(255,0,0,0.6282142400741577)\">own</span> ant place. <span style=\"color: rgba(255,0,0,0.7465783357620239)\">husband</span>. ant <span style=\"color: rgba(255,0,0,0.5340058207511902)\">him</span> the husband <span style=\"color: rgba(255,0,0,0.5994600653648376)\">perhaps</span>, leave En the <span style=\"color: rgba(255,0,0,0.6361272931098938)\">same</span> was what more to the Heent at <span style=\"color: rgba(255,0,0,0.5731059908866882)\">own</span> that and was the ant'spie the <span style=\"color: rgba(255,0,0,0.9708667993545532)\">ant</span>',,ibleible had now in <span style=\"color: rgba(255,0,0,0.623914361000061)\">now</span>, looked <span style=\"color: rgba(255,0,0,0.5612741708755493)\">perhaps</span> it <span style=\"color: rgba(255,0,0,0.7555699348449707)\">me</span> it And put<span style=\"color: rgba(255,0,0,0.674702525138855)\">ing</span> the that a the'in,,, <span style=\"color: rgba(255,0,0,0.6090067625045776)\">of</span> from <span style=\"color: rgba(255,0,0,0.5189415216445923)\">man</span> from come antl was a <span style=\"color: rgba(255,0,0,0.5788042545318604)\">a</span> us<span style=\"color: rgba(255,0,0,0.647411584854126)\">.</span><span style=\"color: rgba(255,0,0,0.7534620761871338)\">.</span> M,. that<span style=\"color: rgba(255,0,0,0.8252320885658264)\">.</span>.... was. written though a be"
      ],
      "text/plain": [
       "<IPython.core.display.HTML object>"
      ]
     },
     "metadata": {},
     "output_type": "display_data"
    },
    {
     "data": {
      "text/html": [
       "quivering with fear, he stopped and <span style=\"color: rgba(0,0,255,1)\">dropped</span> the gun. No, no, he looked out of lips, wondering, with unsentfulness, what had she? It was gone, at last a female. It was possible that the body was not undue than that as an epigram.... E. Eng a vermin... the ant's not, and leave it in the <span style=\"color: rgba(0,0,255,1)\">woman</span>-- that is, predisceptually, without <span style=\"color: rgba(0,0,255,1)\">ounce</span> but with the polished stone. He had once <span style=\"color: rgba(0,0,255,1)\">thought</span> of <span style=\"color: rgba(0,0,255,1)\">that</span>, and, and stood <span style=\"color: rgba(0,0,255,1)\">up</span> for it, though he could not quite understand it but it gone. He had come again, out of the cave... <span style=\"color: rgba(0,0,255,1)\">maybe</span> the same as antangle <span style=\"color: rgba(0,0,255,1)\">not</span> that of an untaid.. E..... Of that it was going to have <span style=\"color: rgba(0,0,255,1)\">the</span> ant's <span style=\"color: rgba(0,0,255,1)\">and</span> that it might drift on without-- if it came, mind you, from the <span style=\"color: rgba(0,0,255,1)\">place</span> that was much betterer than my own a.. own <span style=\"color: rgba(0,0,255,1)\">kill</span><span style=\"color: rgba(0,0,255,1)\">.</span> s <span style=\"color: rgba(0,0,255,1)\">too</span>. <span style=\"color: rgba(0,0,255,1)\">ant</span> to the<span style=\"color: rgba(0,0,255,1)\">ulation</span> <span style=\"color: rgba(0,0,255,1)\">what</span>, leave En the the was what <span style=\"color: rgba(0,0,255,1)\">of</span> to, <span style=\"color: rgba(0,0,255,1)\">that</span> something, on,. was that ant'im leave <span style=\"color: rgba(0,0,255,1)\">they</span> ant',, <span style=\"color: rgba(0,0,255,1)\">al</span> <span style=\"color: rgba(0,0,255,1)\">fate</span> moved now in <span style=\"color: rgba(0,0,255,1)\">ago</span>, looked But. me it meant,ing the that a less ant in, and <span style=\"color: rgba(0,0,255,1)\">sometimes</span>, and not go go ant. <span style=\"color: rgba(0,0,255,1)\">away</span> a of<span style=\"color: rgba(0,0,255,1)\">vious</span> as. to.<span style=\"color: rgba(0,0,255,1)\">.</span>. E. <span style=\"color: rgba(0,0,255,1)\">he</span>.. was.<span style=\"color: rgba(0,0,255,1)\">.</span> perhaps more"
      ],
      "text/plain": [
       "<IPython.core.display.HTML object>"
      ]
     },
     "metadata": {},
     "output_type": "display_data"
    },
    {
     "data": {
      "text/html": [
       "quivering with fear, he stopped and <span style=\"color: rgba(255,0,0,0.5718062520027161)\">lowered</span> the gun. No, no, he looked out of lips, wondering, with unsentfulness, what had she? It was gone, at last a female. It was possible that the body was not undue than that as an epigram.... E. Eng a vermin... the ant's not, and leave it in the <span style=\"color: rgba(255,0,0,0.7693087458610535)\">cave</span>-- that is, predisceptually, without<span style=\"color: rgba(255,0,0,0.9398250579833984)\">,</span> but with the polished stone. He had once <span style=\"color: rgba(255,0,0,0.6262785792350769)\">more</span> of <span style=\"color: rgba(255,0,0,0.6134126782417297)\">it</span>, and, and stood <span style=\"color: rgba(255,0,0,0.741285502910614)\">looking</span> for it, though he could not quite understand it but it gone. He had come again, out of the cave... <span style=\"color: rgba(255,0,0,0.5910969972610474)\">but</span> the same as antangle<span style=\"color: rgba(255,0,0,0.7998528480529785)\">,</span> that of an untaid.. E..... Of that it was going to have <span style=\"color: rgba(255,0,0,0.8031030893325806)\">the</span> ant's<span style=\"color: rgba(255,0,0,0.6765869855880737)\">,</span> that it might drift on without-- if it came, mind you, from the <span style=\"color: rgba(255,0,0,0.5471479892730713)\">place</span> that was much betterer than my own a.. own <span style=\"color: rgba(255,0,0,0.5923348069190979)\">that</span><span style=\"color: rgba(255,0,0,0.5902290344238281)\">.</span> s <span style=\"color: rgba(255,0,0,0.5606306791305542)\">not</span>. <span style=\"color: rgba(255,0,0,0.5339561104774475)\">that</span> to the <span style=\"color: rgba(255,0,0,0.7120621204376221)\">not</span> <span style=\"color: rgba(255,0,0,0.7205162048339844)\">not</span>, leave En the the was what <span style=\"color: rgba(255,0,0,0.7279902696609497)\">cave</span> to, <span style=\"color: rgba(255,0,0,0.6844267845153809)\">cave</span> something, on,. was that ant'im leave <span style=\"color: rgba(255,0,0,0.546419084072113)\">kill</span> ant',, <span style=\"color: rgba(255,0,0,0.5467208623886108)\">not</span> <span style=\"color: rgba(255,0,0,0.5466059446334839)\">not</span> moved now in <span style=\"color: rgba(255,0,0,0.5338420271873474)\">gone</span>, looked But. me it meant,ing the that a less ant in, and<span style=\"color: rgba(255,0,0,0.7165430784225464)\">,</span>, and not go go ant.<span style=\"color: rgba(255,0,0,0.9277379512786865)\">.</span> a of<span style=\"color: rgba(255,0,0,0.5652899146080017)\">mu</span> as. to.<span style=\"color: rgba(255,0,0,0.612937867641449)\">.</span>. E.<span style=\"color: rgba(255,0,0,0.5948786735534668)\">.</span>.. was. <span style=\"color: rgba(255,0,0,0.5786652565002441)\">body</span> perhaps more be"
      ],
      "text/plain": [
       "<IPython.core.display.HTML object>"
      ]
     },
     "metadata": {},
     "output_type": "display_data"
    },
    {
     "data": {
      "text/html": [
       "quivering with fear, he looked and lowered the gun. <span style=\"color: rgba(0,0,255,1)\">Why</span>, no, he looked out of it, wondering, with <span style=\"color: rgba(0,0,255,1)\">un</span>sentfulness, what was she? It was gone, at last a <span style=\"color: rgba(0,0,255,1)\">Wolf</span>. It was curious that the body was not <span style=\"color: rgba(0,0,255,1)\">might</span>ier than that as an epigram<span style=\"color: rgba(0,0,255,1)\">.</span>... E. Enact a vermin... the ant's asleep, to <span style=\"color: rgba(0,0,255,1)\">kill</span> it in <span style=\"color: rgba(0,0,255,1)\">the</span> cave-- that is, indisceptually, without, but with the magic stone<span style=\"color: rgba(0,0,255,1)\">.</span> He was once aware of it, and, and was <span style=\"color: rgba(0,0,255,1)\">grateful</span> for it, though he could not quite understand it was it gone. He was <span style=\"color: rgba(0,0,255,1)\">that</span> again, <span style=\"color: rgba(0,0,255,1)\">out</span> of the silence.... the same <span style=\"color: rgba(0,0,255,1)\">simple</span> antangle; that was an untaid thing. E..... And that it was possible to have an ant's and that it might <span style=\"color: rgba(0,0,255,1)\">go</span> on without-- if it might, mind you, occupy a place that was much betterer than like. a e. well ant going <span style=\"color: rgba(0,0,255,1)\">s</span>.. <span style=\"color: rgba(0,0,255,1)\">no</span> not the <span style=\"color: rgba(0,0,255,1)\">still</span><span style=\"color: rgba(0,0,255,1)\">,</span> <span style=\"color: rgba(0,0,255,1)\">what</span>, En the some was <span style=\"color: rgba(0,0,255,1)\">cave</span>.ter than <span style=\"color: rgba(0,0,255,1)\">the</span> lizard, than<span style=\"color: rgba(0,0,255,1)\">,</span>. was <span style=\"color: rgba(0,0,255,1)\">for</span> ant', <span style=\"color: rgba(0,0,255,1)\">essentially</span>, antce,, in awarece now again <span style=\"color: rgba(0,0,255,1)\">explained</span>,, But was, it,,ing the that a <span style=\"color: rgba(0,0,255,1)\">this</span> ant in,; he, and mind mind go <span style=\"color: rgba(0,0,255,1)\">wish</span>.. thing of came thing possible it..<span style=\"color: rgba(0,0,255,1)\">.</span> well..<span style=\"color: rgba(0,0,255,1)\">.</span>. was, good <span style=\"color: rgba(0,0,255,1)\">fur</span>er"
      ],
      "text/plain": [
       "<IPython.core.display.HTML object>"
      ]
     },
     "metadata": {},
     "output_type": "display_data"
    },
    {
     "data": {
      "text/html": [
       "quivering with fear, he looked and lowered the gun. <span style=\"color: rgba(255,0,0,0.9460480213165283)\">No</span>, no, he looked out of it, wondering, with <span style=\"color: rgba(255,0,0,0.8927446603775024)\">re</span>sentfulness, what was she? It was gone, at last a <span style=\"color: rgba(255,0,0,0.5306259989738464)\">fact</span>. It was curious that the body was not <span style=\"color: rgba(255,0,0,0.5364176034927368)\">might</span>ier than that as an epigram<span style=\"color: rgba(255,0,0,0.5989797711372375)\">my</span>... E. Enact a vermin... the ant's asleep, to <span style=\"color: rgba(255,0,0,0.5456336140632629)\">hide</span> it in <span style=\"color: rgba(255,0,0,0.7529050707817078)\">a</span> cave-- that is, indisceptually, without, but with the magic stone<span style=\"color: rgba(255,0,0,0.9846277236938477)\">.</span> He was once aware of it, and, and was <span style=\"color: rgba(255,0,0,0.5514558553695679)\">looking</span> for it, though he could not quite understand it was it gone. He was <span style=\"color: rgba(255,0,0,0.5516948699951172)\">there</span> again, <span style=\"color: rgba(255,0,0,0.7194358110427856)\">aware</span> of the silence.... the same <span style=\"color: rgba(255,0,0,0.5441581010818481)\">as</span> antangle; that was an untaid thing. E..... And that it was possible to have an ant's and that it might <span style=\"color: rgba(255,0,0,0.8297324180603027)\">go</span> on without-- if it might, mind you, occupy a place that was much betterer than like. a e. well ant going <span style=\"color: rgba(255,0,0,0.552843451499939)\">s</span>.. <span style=\"color: rgba(255,0,0,0.7456404566764832)\">ant</span> not the <span style=\"color: rgba(255,0,0,0.6543905735015869)\">asleep</span> <span style=\"color: rgba(255,0,0,0.6128444671630859)\">trying</span> <span style=\"color: rgba(255,0,0,0.5355545282363892)\">lay</span>, En the some was <span style=\"color: rgba(255,0,0,0.6569980382919312)\">a</span>.ter than <span style=\"color: rgba(255,0,0,0.641472339630127)\">the</span> lizard, than<span style=\"color: rgba(255,0,0,0.9392608404159546)\">.</span>. was <span style=\"color: rgba(255,0,0,0.7692461013793945)\">it</span> ant', <span style=\"color: rgba(255,0,0,0.5253438949584961)\">if</span>, antce,, in awarece now again <span style=\"color: rgba(255,0,0,0.5884063839912415)\">aware</span>,, But was, it,,ing the that a <span style=\"color: rgba(255,0,0,0.5466800928115845)\">the</span> ant in,; he, and mind mind go <span style=\"color: rgba(255,0,0,0.6863510608673096)\">go</span>.. thing of came thing possible it.. <span style=\"color: rgba(255,0,0,0.6226885914802551)\">perhaps</span> well.. <span style=\"color: rgba(255,0,0,0.5524166822433472)\">perhaps</span>. was, good <span style=\"color: rgba(255,0,0,0.5613555908203125)\">strange</span>er be"
      ],
      "text/plain": [
       "<IPython.core.display.HTML object>"
      ]
     },
     "metadata": {},
     "output_type": "display_data"
    },
    {
     "data": {
      "text/html": [
       "quivering with fear <span style=\"color: rgba(0,0,255,1)\">as</span> he looked and turned the lid. No, no: he looked out of it, wondering, with resentfulness<span style=\"color: rgba(0,0,255,1)\">,</span> what was she? It had gone, at least a <span style=\"color: rgba(0,0,255,1)\">realization</span>. It was <span style=\"color: rgba(0,0,255,1)\">true</span> that the body was better in shape than that of an Epigrammy... E. Enact a vermin... the ant's <span style=\"color: rgba(0,0,255,1)\">enemy</span> trying to do it in its cave-- that is, in perceptually, perhaps, but with the inner mind. He was once aware of that, and, and was sorry about it, though he could not <span style=\"color: rgba(0,0,255,1)\">even</span> understand it as it was. He was, <span style=\"color: rgba(0,0,255,1)\">perhaps</span>, aware of that silence... <span style=\"color: rgba(0,0,255,1)\">was</span> the same <span style=\"color: rgba(0,0,255,1)\">old</span> ant<span style=\"color: rgba(0,0,255,1)\">ang</span>le; that was the <span style=\"color: rgba(0,0,255,1)\">un</span>cord thing. E..... And that it was supposed to have an ant's<span style=\"color: rgba(0,0,255,1)\">,</span> that it could go on without-- if it might, mind you, occupy a <span style=\"color: rgba(0,0,255,1)\">place</span> that was no betterer than that. E e. the ant <span style=\"color: rgba(0,0,255,1)\">e</span> s.. <span style=\"color: rgba(0,0,255,1)\">flute</span> still the. not you. En the <span style=\"color: rgba(0,0,255,1)\">somewhere</span> was a. a the <span style=\"color: rgba(0,0,255,1)\">sphere</span> thing, than <span style=\"color: rgba(0,0,255,1)\">and</span>. at indeed ant<span style=\"color: rgba(0,0,255,1)\">'</span>, <span style=\"color: rgba(0,0,255,1)\">still</span>, antce, longer in awarece that perhaps understood,, <span style=\"color: rgba(0,0,255,1)\">But</span> little <span style=\"color: rgba(0,0,255,1)\">noticing</span> it something place, the still a the mind in<span style=\"color: rgba(0,0,255,1)\">,</span> shape <span style=\"color: rgba(0,0,255,1)\">wrapped</span>, and mind mind <span style=\"color: rgba(0,0,255,1)\">it</span> might.. thing <span style=\"color: rgba(0,0,255,1)\">just</span> <span style=\"color: rgba(0,0,255,1)\">ex</span> was, -... well.. <span style=\"color: rgba(0,0,255,1)\">cue</span> longer could <span style=\"color: rgba(0,0,255,1)\">not</span> not rather more"
      ],
      "text/plain": [
       "<IPython.core.display.HTML object>"
      ]
     },
     "metadata": {},
     "output_type": "display_data"
    },
    {
     "data": {
      "text/html": [
       "quivering with fear<span style=\"color: rgba(255,0,0,0.894063413143158)\">,</span> he looked and turned the lid. No, no: he looked out of it, wondering, with resentfulness<span style=\"color: rgba(255,0,0,0.9817697405815125)\">,</span> what was she? It had gone, at least a <span style=\"color: rgba(255,0,0,0.8253968358039856)\">little</span>. It was <span style=\"color: rgba(255,0,0,0.5757306814193726)\">possible</span> that the body was better in shape than that of an Epigrammy... E. Enact a vermin... the ant's <span style=\"color: rgba(255,0,0,0.7805955410003662)\">always</span> trying to do it in its cave-- that is, in perceptually, perhaps, but with the inner mind. He was once aware of that, and, and was sorry about it, though he could not <span style=\"color: rgba(255,0,0,0.6074039936065674)\">quite</span> understand it as it was. He was, <span style=\"color: rgba(255,0,0,0.7257580757141113)\">perhaps</span>, aware of that silence... <span style=\"color: rgba(255,0,0,0.550182580947876)\">not</span> the same <span style=\"color: rgba(255,0,0,0.5868008136749268)\">old</span> ant <span style=\"color: rgba(255,0,0,0.5338467955589294)\">cubic</span>le; that was the <span style=\"color: rgba(255,0,0,0.5482186079025269)\">con</span>cord thing. E..... And that it was supposed to have an ant's<span style=\"color: rgba(255,0,0,0.6688312292098999)\">,</span> that it could go on without-- if it might, mind you, occupy a <span style=\"color: rgba(255,0,0,0.5796181559562683)\">place</span> that was no betterer than that. E e. the ant <span style=\"color: rgba(255,0,0,0.5357775688171387)\">always</span> s.. <span style=\"color: rgba(255,0,0,0.6438484787940979)\">been</span> still the. not you. En the <span style=\"color: rgba(255,0,0,0.6173503994941711)\">place</span> was a. a the <span style=\"color: rgba(255,0,0,0.5313907265663147)\">thing</span> thing, than<span style=\"color: rgba(255,0,0,0.5921659469604492)\">.</span>. at indeed ant<span style=\"color: rgba(255,0,0,0.884636640548706)\">'</span>, <span style=\"color: rgba(255,0,0,0.6243846416473389)\">been</span>, antce, longer in awarece that perhaps understood,, <span style=\"color: rgba(255,0,0,0.7013172507286072)\">perhaps</span> little<span style=\"color: rgba(255,0,0,0.9224491119384766)\">,</span> it something place, the still a the mind in <span style=\"color: rgba(255,0,0,0.8491771221160889)\">mind</span> shape<span style=\"color: rgba(255,0,0,0.6361066102981567)\">;</span>, and mind mind <span style=\"color: rgba(255,0,0,0.6188352704048157)\">say</span> might.. thing <span style=\"color: rgba(255,0,0,0.5217071175575256)\">something</span> <span style=\"color: rgba(255,0,0,0.5396863222122192)\">he</span> was, -... well.. <span style=\"color: rgba(255,0,0,0.5367334485054016)\">well</span> longer could <span style=\"color: rgba(255,0,0,0.7170334458351135)\">not</span> not rather more be"
      ],
      "text/plain": [
       "<IPython.core.display.HTML object>"
      ]
     },
     "metadata": {},
     "output_type": "display_data"
    },
    {
     "data": {
      "text/html": [
       "quivering with fear; he looked and turned the lid. No, no: he looked out of it, wondering, with resentfulness, what was she? It had to be at least a bit. It was obvious that the body was better in shape than that of an Epigram Journey..... Enact a vermin... the ant's always trying to do it in a cave-- that is, indisceptually, <span style=\"color: rgba(0,0,255,1)\">internally</span>, but with the inner <span style=\"color: rgba(0,0,255,1)\">mind</span>. He was quite aware of that, and, and was sorry about it, though he did not quite understand it as it was. <span style=\"color: rgba(0,0,255,1)\">He</span> was, <span style=\"color: rgba(0,0,255,1)\">somehow</span>, feeling of an..<span style=\"color: rgba(0,0,255,1)\">.</span>. <span style=\"color: rgba(0,0,255,1)\">say</span> the same black ghas<span style=\"color: rgba(0,0,255,1)\">tom</span> <span style=\"color: rgba(0,0,255,1)\">seems</span> that was the uncording thing.... <span style=\"color: rgba(0,0,255,1)\">quite</span> somehow. <span style=\"color: rgba(0,0,255,1)\">Well</span> that it was supposed to have an ant-sight; that it could go on without-- and it seemed, mind you, like a insects that was no betterer than that.. Them. it ant that always.. always was the always <span style=\"color: rgba(0,0,255,1)\">again</span> to <span style=\"color: rgba(0,0,255,1)\">called</span> like the job was <span style=\"color: rgba(0,0,255,1)\">a</span>. a the <span style=\"color: rgba(0,0,255,1)\">flaws</span> thing,... at, ant', what, counter',d in ince way <span style=\"color: rgba(0,0,255,1)\">perhaps</span> understood,, somehow then. it.<span style=\"color: rgba(0,0,255,1)\">.</span> thing <span style=\"color: rgba(0,0,255,1)\">the</span><span style=\"color: rgba(0,0,255,1)\">,</span> a he<span style=\"color: rgba(0,0,255,1)\">lit</span> <span style=\"color: rgba(0,0,255,1)\">upon</span> by<span style=\"color: rgba(0,0,255,1)\">,</span><span style=\"color: rgba(0,0,255,1)\">;</span> <span style=\"color: rgba(0,0,255,1)\">and</span> and-was man<span style=\"color: rgba(0,0,255,1)\">mist</span> <span style=\"color: rgba(0,0,255,1)\">perhaps</span> <span style=\"color: rgba(0,0,255,1)\">compensate</span> thing on It., it was.. well....<span style=\"color: rgba(0,0,255,1)\">.</span> not thing rather shape"
      ],
      "text/plain": [
       "<IPython.core.display.HTML object>"
      ]
     },
     "metadata": {},
     "output_type": "display_data"
    },
    {
     "data": {
      "text/html": [
       "quivering with fear; he looked and turned the lid. No, no: he looked out of it, wondering, with resentfulness, what was she? It had to be at least a bit. It was obvious that the body was better in shape than that of an Epigram Journey..... Enact a vermin... the ant's always trying to do it in a cave-- that is, indisceptually, <span style=\"color: rgba(255,0,0,0.540918231010437)\">somehow</span>, but with the inner <span style=\"color: rgba(255,0,0,0.5254335403442383)\">sense</span>. He was quite aware of that, and, and was sorry about it, though he did not quite understand it as it was. <span style=\"color: rgba(255,0,0,0.9250030517578125)\">He</span> was, <span style=\"color: rgba(255,0,0,0.5812685489654541)\">perhaps</span>, feeling of an..<span style=\"color: rgba(255,0,0,0.9664300680160522)\">.</span>.<span style=\"color: rgba(255,0,0,0.657135546207428)\">.</span> the same black ghas<span style=\"color: rgba(255,0,0,0.9381312131881714)\">tly</span><span style=\"color: rgba(255,0,0,0.6428551077842712)\">;</span> that was the uncording thing.... <span style=\"color: rgba(255,0,0,0.6133376359939575)\">But</span> somehow. <span style=\"color: rgba(255,0,0,0.6775878071784973)\">And</span> that it was supposed to have an ant-sight; that it could go on without-- and it seemed, mind you, like a insects that was no betterer than that.. Them. it ant that always.. always was the always <span style=\"color: rgba(255,0,0,0.676010012626648)\">always</span> to<span style=\"color: rgba(255,0,0,0.9806169271469116)\">.</span> like the job was <span style=\"color: rgba(255,0,0,0.8452845811843872)\">cave</span>. a the <span style=\"color: rgba(255,0,0,0.5540581941604614)\">living</span> thing,... at, ant', what, counter',d in ince way <span style=\"color: rgba(255,0,0,0.5875762104988098)\">perhaps</span> understood,, somehow then. it.<span style=\"color: rgba(255,0,0,0.6343560814857483)\">.</span> thing <span style=\"color: rgba(255,0,0,0.5223077535629272)\">other</span><span style=\"color: rgba(255,0,0,0.6271024346351624)\">,</span> a he <span style=\"color: rgba(255,0,0,0.5277162194252014)\">head</span><span style=\"color: rgba(255,0,0,0.9732099771499634)\">tly</span> by<span style=\"color: rgba(255,0,0,0.7244504690170288)\">;</span><span style=\"color: rgba(255,0,0,0.593104362487793)\">;</span> <span style=\"color: rgba(255,0,0,0.5467764139175415)\">sight</span> and-was man <span style=\"color: rgba(255,0,0,0.5535600781440735)\">thing</span><span style=\"color: rgba(255,0,0,0.7068026661872864)\">.</span> <span style=\"color: rgba(255,0,0,0.5302230715751648)\">perhaps</span> thing on It., it was.. well.... <span style=\"color: rgba(255,0,0,0.5789886713027954)\">was</span> not thing rather shape be"
      ],
      "text/plain": [
       "<IPython.core.display.HTML object>"
      ]
     },
     "metadata": {},
     "output_type": "display_data"
    },
    {
     "data": {
      "text/html": [
       "q<span style=\"color: rgba(0,0,255,1)\">ui</span>vering with fear; he turned and saw the <span style=\"color: rgba(0,0,255,1)\">princess</span>. No, <span style=\"color: rgba(0,0,255,1)\">no</span>: he looked out of it, wondering, with resentfulness, what was she? It had to be at least a <span style=\"color: rgba(0,0,255,1)\">woman</span>. It seemed obvious that the body was better in shape than that of an Epigramine..... Enactive vermin... the ant's always trying to do it in a cave-- <span style=\"color: rgba(0,0,255,1)\">that</span> sort of indisceptable <span style=\"color: rgba(0,0,255,1)\">picture</span>, exactly, connected with some inner <span style=\"color: rgba(0,0,255,1)\">mind</span>. He was well <span style=\"color: rgba(0,0,255,1)\">aware</span> of that, and <span style=\"color: rgba(0,0,255,1)\">more</span> and very sorry about it, though he could not quite understand it here it was<span style=\"color: rgba(0,0,255,1)\">.</span> He was, sorry, sort of<span style=\"color: rgba(0,0,255,1)\">.</span>.... <span style=\"color: rgba(0,0,255,1)\">And</span> the little black ghastly figure that was the unboding thing..... er. <span style=\"color: rgba(0,0,255,1)\">But</span> maybe it was supposed to have an ant at sight, that it could go on <span style=\"color: rgba(0,0,255,1)\">going</span>-- and it was, mind you, like <span style=\"color: rgba(0,0,255,1)\">a</span> thing that was no better<span style=\"color: rgba(0,0,255,1)\">er</span> than an..... ant <span style=\"color: rgba(0,0,255,1)\">drop</span> <span style=\"color: rgba(0,0,255,1)\">s</span>.. ant quite always always trying to <span style=\"color: rgba(0,0,255,1)\">for</span> like thing the was thatin a little<span style=\"color: rgba(0,0,255,1)\">in</span> thinginize <span style=\"color: rgba(0,0,255,1)\">Advertising</span>. <span style=\"color: rgba(0,0,255,1)\">of</span> aware ant,, what, antce,, in,ce thing <span style=\"color: rgba(0,0,255,1)\">well</span> <span style=\"color: rgba(0,0,255,1)\">probably</span>,, quite then. it, well thing., a a in-tlytly body, and-was man thing, but girl on there then was it was <span style=\"color: rgba(0,0,255,1)\">or</span>. well..... not <span style=\"color: rgba(0,0,255,1)\">hell</span> <span style=\"color: rgba(0,0,255,1)\">feeling</span><span style=\"color: rgba(0,0,255,1)\">,</span>"
      ],
      "text/plain": [
       "<IPython.core.display.HTML object>"
      ]
     },
     "metadata": {},
     "output_type": "display_data"
    },
    {
     "data": {
      "text/html": [
       "q<span style=\"color: rgba(255,0,0,0.9967821836471558)\">ui</span>vering with fear; he turned and saw the <span style=\"color: rgba(255,0,0,0.5746755599975586)\">girl</span>. No, <span style=\"color: rgba(255,0,0,0.8755108118057251)\">no</span>: he looked out of it, wondering, with resentfulness, what was she? It had to be at least a <span style=\"color: rgba(255,0,0,0.6130794286727905)\">woman</span>. It seemed obvious that the body was better in shape than that of an Epigramine..... Enactive vermin... the ant's always trying to do it in a cave-- <span style=\"color: rgba(255,0,0,0.7733442783355713)\">a</span> sort of indisceptable <span style=\"color: rgba(255,0,0,0.6585441827774048)\">thing</span>, exactly, connected with some inner <span style=\"color: rgba(255,0,0,0.5242409706115723)\">life</span>. He was well <span style=\"color: rgba(255,0,0,0.914655327796936)\">aware</span> of that, and <span style=\"color: rgba(255,0,0,0.5459703207015991)\">very</span> and very sorry about it, though he could not quite understand it here it was<span style=\"color: rgba(255,0,0,0.9922219514846802)\">.</span> He was, sorry, sort of <span style=\"color: rgba(255,0,0,0.5467495322227478)\">sorry</span>.... <span style=\"color: rgba(255,0,0,0.6862011551856995)\">like</span> the little black ghastly figure that was the unboding thing..... er.<span style=\"color: rgba(255,0,0,0.6614564061164856)\">.</span> maybe it was supposed to have an ant at sight, that it could go on <span style=\"color: rgba(255,0,0,0.5776422023773193)\">living</span>-- and it was, mind you, like <span style=\"color: rgba(255,0,0,0.6960259079933167)\">a</span> thing that was no better <span style=\"color: rgba(255,0,0,0.6200944185256958)\">off</span> than an..... ant<span style=\"color: rgba(255,0,0,0.9019195437431335)\">'</span><span style=\"color: rgba(255,0,0,0.5657636523246765)\">living</span>.. ant quite always always trying to <span style=\"color: rgba(255,0,0,0.7119779586791992)\">the</span> like thing the was thatin a little <span style=\"color: rgba(255,0,0,0.8012239933013916)\">thing</span> thinginize <span style=\"color: rgba(255,0,0,0.6502020955085754)\">thing</span>. <span style=\"color: rgba(255,0,0,0.6562964916229248)\">a</span> aware ant,, what, antce,, in,ce thing <span style=\"color: rgba(255,0,0,0.5668550133705139)\">well</span> <span style=\"color: rgba(255,0,0,0.5823130011558533)\">very</span>,, quite then. it, well thing., a a in-tlytly body, and-was man thing, but girl on there then was it was <span style=\"color: rgba(255,0,0,0.5418890118598938)\">that</span>. well..... not <span style=\"color: rgba(255,0,0,0.6967948079109192)\">a</span><span style=\"color: rgba(255,0,0,0.609160840511322)\">,</span><span style=\"color: rgba(255,0,0,0.7112874984741211)\">,</span> be"
      ],
      "text/plain": [
       "<IPython.core.display.HTML object>"
      ]
     },
     "metadata": {},
     "output_type": "display_data"
    },
    {
     "data": {
      "text/html": [
       "quivering with fear when he turned and saw <span style=\"color: rgba(0,0,255,1)\">the</span> girl. No, no: he looked out of it, wondering, in resentfulness, what was she? It had to be at least a god. It seemed obvious that the body was better in shape than that of an Epi<span style=\"color: rgba(0,0,255,1)\">gy</span>.... uh. Enlosive vermin... the ant's been trying to do it in a trance-- a sort of inconceptable trance, exactly, connected with some... He was quite <span style=\"color: rgba(0,0,255,1)\">sure</span> of it, and rather and very sorry for it, though he could not quite understand it as it was. He wondered, <span style=\"color: rgba(0,0,255,1)\">well</span><span style=\"color: rgba(0,0,255,1)\">,</span> sort of better... <span style=\"color: rgba(0,0,255,1)\">less</span> like the little, ghastly, <span style=\"color: rgba(0,0,255,1)\">that</span> was the unboding <span style=\"color: rgba(0,0,255,1)\">job</span>... well. er. well maybe it was supposed to <span style=\"color: rgba(0,0,255,1)\">have</span> <span style=\"color: rgba(0,0,255,1)\">the</span> ant <span style=\"color: rgba(0,0,255,1)\">with</span> <span style=\"color: rgba(0,0,255,1)\">only</span>, but it could go on always-- and it was, mind you, like the thing that was a better bit than an ant <span style=\"color: rgba(0,0,255,1)\">poised</span>man.. thing with s.. <span style=\"color: rgba(0,0,255,1)\">either</span> quite always <span style=\"color: rgba(0,0,255,1)\">been</span> trying to the like <span style=\"color: rgba(0,0,255,1)\">prospect</span> was was was way a <span style=\"color: rgba(0,0,255,1)\">little</span> <span style=\"color: rgba(0,0,255,1)\">is</span> thingin was <span style=\"color: rgba(0,0,255,1)\">ago</span>. One not ant', because the <span style=\"color: rgba(0,0,255,1)\">writer</span>ce', in in<span style=\"color: rgba(0,0,255,1)\">ce</span> doing quite vaguely,<span style=\"color: rgba(0,0,255,1)\">,</span> maybe then<span style=\"color: rgba(0,0,255,1)\">.</span> it, quite thing. things thing,-- <span style=\"color: rgba(0,0,255,1)\">like</span> <span style=\"color: rgba(0,0,255,1)\">form</span> thing in and <span style=\"color: rgba(0,0,255,1)\">it</span> <span style=\"color: rgba(0,0,255,1)\">was</span> man thing <span style=\"color: rgba(0,0,255,1)\">really</span> if him un <span style=\"color: rgba(0,0,255,1)\">form</span> <span style=\"color: rgba(0,0,255,1)\">idea</span> what it was well. well.... was not in in this"
      ],
      "text/plain": [
       "<IPython.core.display.HTML object>"
      ]
     },
     "metadata": {},
     "output_type": "display_data"
    },
    {
     "data": {
      "text/html": [
       "quivering with fear when he turned and saw <span style=\"color: rgba(255,0,0,0.9797313213348389)\">the</span> girl. No, no: he looked out of it, wondering, in resentfulness, what was she? It had to be at least a god. It seemed obvious that the body was better in shape than that of an Epi<span style=\"color: rgba(255,0,0,0.5334830284118652)\">scope</span>.... uh. Enlosive vermin... the ant's been trying to do it in a trance-- a sort of inconceptable trance, exactly, connected with some... He was quite <span style=\"color: rgba(255,0,0,0.728357195854187)\">aware</span> of it, and rather and very sorry for it, though he could not quite understand it as it was. He wondered, <span style=\"color: rgba(255,0,0,0.8087683916091919)\">but</span><span style=\"color: rgba(255,0,0,0.6990304589271545)\">,</span> sort of better... <span style=\"color: rgba(255,0,0,0.5736097097396851)\">rather</span> like the little, ghastly, <span style=\"color: rgba(255,0,0,0.6850721836090088)\">who</span> was the unboding <span style=\"color: rgba(255,0,0,0.6251833438873291)\">thing</span>... well. er. well maybe it was supposed to <span style=\"color: rgba(255,0,0,0.9654910564422607)\">be</span> <span style=\"color: rgba(255,0,0,0.9325006008148193)\">an</span> ant <span style=\"color: rgba(255,0,0,0.5970539450645447)\">in</span> <span style=\"color: rgba(255,0,0,0.5188052654266357)\">way</span>, but it could go on always-- and it was, mind you, like the thing that was a better bit than an ant<span style=\"color: rgba(255,0,0,0.5300119519233704)\">.</span>man.. thing with s.. <span style=\"color: rgba(255,0,0,0.639575719833374)\">thing</span> quite always <span style=\"color: rgba(255,0,0,0.8275351524353027)\">well</span> trying to the like<span style=\"color: rgba(255,0,0,0.728890061378479)\">los</span> was was was way a <span style=\"color: rgba(255,0,0,0.6317581534385681)\">other</span><span style=\"color: rgba(255,0,0,0.6324877142906189)\">,</span> thingin was<span style=\"color: rgba(255,0,0,0.631993293762207)\">.</span>. One not ant', because the <span style=\"color: rgba(255,0,0,0.5893115997314453)\">who</span>ce', in in<span style=\"color: rgba(255,0,0,0.960218071937561)\">ce</span> doing quite vaguely,<span style=\"color: rgba(255,0,0,0.8320999145507812)\">,</span> maybe then<span style=\"color: rgba(255,0,0,0.8146038055419922)\">.</span> it, quite thing. things thing,-- <span style=\"color: rgba(255,0,0,0.5156692266464233)\">way</span> <span style=\"color: rgba(255,0,0,0.5781441330909729)\">be</span> thing in and <span style=\"color: rgba(255,0,0,0.5109630227088928)\">well</span> <span style=\"color: rgba(255,0,0,0.5100145936012268)\">thing</span> man thing<span style=\"color: rgba(255,0,0,0.6037846207618713)\">ly</span> if him un <span style=\"color: rgba(255,0,0,0.5255747437477112)\">for</span> <span style=\"color: rgba(255,0,0,0.6562775373458862)\">thing</span> what it was well. well.... was not in in this be"
      ],
      "text/plain": [
       "<IPython.core.display.HTML object>"
      ]
     },
     "metadata": {},
     "output_type": "display_data"
    },
    {
     "data": {
      "text/html": [
       "<span style=\"color: rgba(0,0,255,1)\">q</span>uivering with fear when he turned and saw the girl. No, <span style=\"color: rgba(0,0,255,1)\">no</span>: he looked out of it, wondering, in ssentfulness, what was she? It had to be at least a god. It seemed obvious that the body was better in shape than that of an Eeroscope....<span style=\"color: rgba(0,0,255,1)\">.</span>. Enlos<span style=\"color: rgba(0,0,255,1)\">in</span> <span style=\"color: rgba(0,0,255,1)\">ve</span>rmin... the ant's been trying to do it in <span style=\"color: rgba(0,0,255,1)\">his</span> trance-- a sort of inconceptable step, exactly, and with.... He was quite sure of it, and then <span style=\"color: rgba(0,0,255,1)\">not</span> quite quite about it, though he could not quite understand it as it was<span style=\"color: rgba(0,0,255,1)\">;</span> he wondered, a weird sort of woman... of all the <span style=\"color: rgba(0,0,255,1)\">fantastic</span>, ghastly, who was the unboding image... well... well maybe it was supposed to be an ant<span style=\"color: rgba(0,0,255,1)\">,</span> once, though it could go on always-- and it was, of course, like the thing that was a way out, an ant ant ant.<span style=\"color: rgba(0,0,255,1)\">.</span> thing had d it. that had always always <span style=\"color: rgba(0,0,255,1)\">fact</span> to, something quiteing, thing way a <span style=\"color: rgba(0,0,255,1)\">white</span> of thing of was <span style=\"color: rgba(0,0,255,1)\">ant</span>. <span style=\"color: rgba(0,0,255,1)\">ugly</span> <span style=\"color: rgba(0,0,255,1)\">go</span> ant', been the thingce<span style=\"color: rgba(0,0,255,1)\">gin</span>, in Hetri to that somehow <span style=\"color: rgba(0,0,255,1)\">rather</span>, quite <span style=\"color: rgba(0,0,255,1)\">convinced</span> <span style=\"color: rgba(0,0,255,1)\">much</span> it <span style=\"color: rgba(0,0,255,1)\">they</span> quite thing. it <span style=\"color: rgba(0,0,255,1)\">thing</span> <span style=\"color: rgba(0,0,255,1)\">stand</span>-<span style=\"color: rgba(0,0,255,1)\">place</span> here <span style=\"color: rgba(0,0,255,1)\">and</span> <span style=\"color: rgba(0,0,255,1)\">thing</span> in from <span style=\"color: rgba(0,0,255,1)\">know</span> thing <span style=\"color: rgba(0,0,255,1)\">figure</span> go be go. un and be <span style=\"color: rgba(0,0,255,1)\">what</span> him was.. well.... was not,, <span style=\"color: rgba(0,0,255,1)\">things</span>"
      ],
      "text/plain": [
       "<IPython.core.display.HTML object>"
      ]
     },
     "metadata": {},
     "output_type": "display_data"
    },
    {
     "data": {
      "text/html": [
       "<span style=\"color: rgba(255,0,0,0.9909822940826416)\">q</span>uivering with fear when he turned and saw the girl. No, <span style=\"color: rgba(255,0,0,0.8650937080383301)\">no</span>: he looked out of it, wondering, in ssentfulness, what was she? It had to be at least a god. It seemed obvious that the body was better in shape than that of an Eeroscope.... <span style=\"color: rgba(255,0,0,0.6140115261077881)\">well</span>. Enlos <span style=\"color: rgba(255,0,0,0.5770553946495056)\">of</span> <span style=\"color: rgba(255,0,0,0.7056601643562317)\">ve</span>rmin... the ant's been trying to do it in <span style=\"color: rgba(255,0,0,0.8874474763870239)\">a</span> trance-- a sort of inconceptable step, exactly, and with.... He was quite sure of it, and then <span style=\"color: rgba(255,0,0,0.8469399213790894)\">not</span> quite quite about it, though he could not quite understand it as it was<span style=\"color: rgba(255,0,0,0.9946642518043518)\">,</span> he wondered, a weird sort of woman... of all the <span style=\"color: rgba(255,0,0,0.5865002870559692)\">other</span>, ghastly, who was the unboding image... well... well maybe it was supposed to be an ant <span style=\"color: rgba(255,0,0,0.852331817150116)\">at</span> once, though it could go on always-- and it was, of course, like the thing that was a way out, an ant ant ant.<span style=\"color: rgba(255,0,0,0.5432249903678894)\">.</span> thing had d it. that had always always <span style=\"color: rgba(255,0,0,0.7041081786155701)\">well</span> to, something quiteing, thing way a <span style=\"color: rgba(255,0,0,0.6558958888053894)\">ant</span> of thing of was <span style=\"color: rgba(255,0,0,0.6247350573539734)\">I</span>. <span style=\"color: rgba(255,0,0,0.6257608532905579)\">be</span><span style=\"color: rgba(255,0,0,0.8966760635375977)\">,</span> ant', been the thingce<span style=\"color: rgba(255,0,0,0.5756608843803406)\">ct</span>, in Hetri to that somehow <span style=\"color: rgba(255,0,0,0.7882300615310669)\">not</span>, quite <span style=\"color: rgba(255,0,0,0.5891215205192566)\">not</span> <span style=\"color: rgba(255,0,0,0.6107912063598633)\">well</span> it <span style=\"color: rgba(255,0,0,0.8478012084960938)\">not</span> quite thing. it <span style=\"color: rgba(255,0,0,0.5655818581581116)\">other</span><span style=\"color: rgba(255,0,0,0.7927994728088379)\">,</span>-<span style=\"color: rgba(255,0,0,0.5988685488700867)\">was</span> here<span style=\"color: rgba(255,0,0,0.5764033794403076)\">,</span> <span style=\"color: rgba(255,0,0,0.5988354682922363)\">but</span> in from <span style=\"color: rgba(255,0,0,0.623820424079895)\">think</span> thing <span style=\"color: rgba(255,0,0,0.616474449634552)\">at</span> go be go. un and be<span style=\"color: rgba(255,0,0,0.6453379988670349)\">,</span> him was.. well.... was not,, <span style=\"color: rgba(255,0,0,0.5201154947280884)\">things</span> be"
      ],
      "text/plain": [
       "<IPython.core.display.HTML object>"
      ]
     },
     "metadata": {},
     "output_type": "display_data"
    },
    {
     "data": {
      "text/html": [
       "<span style=\"color: rgba(0,0,255,1)\">q</span>uivering with fear when he turned and <span style=\"color: rgba(0,0,255,1)\">saw</span> the girl. No, no, he looked out of it, wondering, in s<span style=\"color: rgba(0,0,255,1)\">vet</span>fulness, what was it? It had to be at least a woman. It seemed obvious that the body was better in shape than that of an anteroscope.... <span style=\"color: rgba(0,0,255,1)\">well</span>. Enlosing vermi... the ant's been trying to do it in a trance-- a sort <span style=\"color: rgba(0,0,255,1)\">of</span> inconcectable step, exactly, and where.<span style=\"color: rgba(0,0,255,1)\">.</span>.. He was quite sure <span style=\"color: rgba(0,0,255,1)\">of</span> it, and <span style=\"color: rgba(0,0,255,1)\">then</span> not quite convinced about it, though he could not quite understand it; it was because he wondered just how weird out of life... of all the impossible<span style=\"color: rgba(0,0,255,1)\">,</span> ghastly <span style=\"color: rgba(0,0,255,1)\">people</span> who was the unboding image... well... <span style=\"color: rgba(0,0,255,1)\">well</span> maybe it was supposed to be an ant at least<span style=\"color: rgba(0,0,255,1)\">,</span> though it could go in step-- and it was, of course, among the things that was a way out, an ant <span style=\"color: rgba(0,0,255,1)\">attractive</span> <span style=\"color: rgba(0,0,255,1)\">imp</span>.. that'<span style=\"color: rgba(0,0,255,1)\">-</span> <span style=\"color: rgba(0,0,255,1)\">probably</span> <span style=\"color: rgba(0,0,255,1)\">had</span> who'always been <span style=\"color: rgba(0,0,255,1)\">been</span> not, s things<span style=\"color: rgba(0,0,255,1)\">ologists</span>, <span style=\"color: rgba(0,0,255,1)\">Since</span> things things other of <span style=\"color: rgba(0,0,255,1)\">me</span> of because idea. <span style=\"color: rgba(0,0,255,1)\">did</span>, ant', evidently the <span style=\"color: rgba(0,0,255,1)\">ant</span>ce'able in <span style=\"color: rgba(0,0,255,1)\">became</span><span style=\"color: rgba(0,0,255,1)\">ize</span> <span style=\"color: rgba(0,0,255,1)\">bored</span> that so something quite quite not not it like <span style=\"color: rgba(0,0,255,1)\">one</span> things somehow it be, way same ant people one if from least hell for figure <span style=\"color: rgba(0,0,255,1)\">now</span> go. closely be be, <span style=\"color: rgba(0,0,255,1)\">him</span> was well well well,... was not not course only"
      ],
      "text/plain": [
       "<IPython.core.display.HTML object>"
      ]
     },
     "metadata": {},
     "output_type": "display_data"
    },
    {
     "data": {
      "text/html": [
       "<span style=\"color: rgba(255,0,0,0.9772380590438843)\">q</span>uivering with fear when he turned and <span style=\"color: rgba(255,0,0,0.9629689455032349)\">saw</span> the girl. No, no, he looked out of it, wondering, in s<span style=\"color: rgba(255,0,0,0.6926405429840088)\">corn</span>fulness, what was it? It had to be at least a woman. It seemed obvious that the body was better in shape than that of an anteroscope....<span style=\"color: rgba(255,0,0,0.8275532722473145)\">.</span>. Enlosing vermi... the ant's been trying to do it in a trance-- a sort <span style=\"color: rgba(255,0,0,0.9984650611877441)\">of</span> inconcectable step, exactly, and where.<span style=\"color: rgba(255,0,0,0.9987108707427979)\">.</span>.. He was quite sure <span style=\"color: rgba(255,0,0,0.8288500308990479)\">about</span> it, and <span style=\"color: rgba(255,0,0,0.6959328055381775)\">was</span> not quite convinced about it, though he could not quite understand it; it was because he wondered just how weird out of life... of all the impossible<span style=\"color: rgba(255,0,0,0.8395892381668091)\">,</span> ghastly<span style=\"color: rgba(255,0,0,0.6697694063186646)\">,</span> who was the unboding image... well... <span style=\"color: rgba(255,0,0,0.5756987929344177)\">just</span> maybe it was supposed to be an ant at least<span style=\"color: rgba(255,0,0,0.9935691356658936)\">,</span> though it could go in step-- and it was, of course, among the things that was a way out, an ant <span style=\"color: rgba(255,0,0,0.5541456341743469)\">ant</span> <span style=\"color: rgba(255,0,0,0.8487644195556641)\">ant</span>.. that'<span style=\"color: rgba(255,0,0,0.9178520441055298)\">step</span> <span style=\"color: rgba(255,0,0,0.5225584506988525)\">way</span><span style=\"color: rgba(255,0,0,0.6602349281311035)\">.</span> who'always been<span style=\"color: rgba(255,0,0,0.6846786737442017)\">.</span> not, s things <span style=\"color: rgba(255,0,0,0.8541519641876221)\">other</span>, <span style=\"color: rgba(255,0,0,0.5379895567893982)\">it</span> things things other of <span style=\"color: rgba(255,0,0,0.7249884009361267)\">ant</span> of because idea. <span style=\"color: rgba(255,0,0,0.8776016235351562)\">of</span>, ant', evidently the <span style=\"color: rgba(255,0,0,0.6442978978157043)\">thing</span>ce'able in <span style=\"color: rgba(255,0,0,0.5693510174751282)\">way</span><span style=\"color: rgba(255,0,0,0.8972154855728149)\">ce</span> <span style=\"color: rgba(255,0,0,0.5855212211608887)\">am</span> that so something quite quite not not it like<span style=\"color: rgba(255,0,0,0.6049374341964722)\">,</span> things somehow it be, way same ant people one if from least hell for figure <span style=\"color: rgba(255,0,0,0.636763334274292)\">step</span> go. closely be be,<span style=\"color: rgba(255,0,0,0.5435510277748108)\">.</span> was well well well,... was not not course only be"
      ],
      "text/plain": [
       "<IPython.core.display.HTML object>"
      ]
     },
     "metadata": {},
     "output_type": "display_data"
    },
    {
     "data": {
      "text/html": [
       "quivering with fear when he <span style=\"color: rgba(0,0,255,1)\">took</span> and saw the girl. No, no, he looked out of it, wondering, in smitiness, what was it? It had to be at least a woman. It was obvious that the body was better in shape than that of an anteroscope...... En<span style=\"color: rgba(0,0,255,1)\">los</span>ing vermi... the ant's been trying to do it <span style=\"color: rgba(0,0,255,1)\">in</span> a trance-- a sort of inconcectable trance, exactly, and where.... <span style=\"color: rgba(0,0,255,1)\">He</span> was quite <span style=\"color: rgba(0,0,255,1)\">positive</span> about it, and was still quite prepared about it, though he did not mean about it; it was because he knew just how weird things of life... <span style=\"color: rgba(0,0,255,1)\">Well</span> was the <span style=\"color: rgba(0,0,255,1)\">probably</span> and ghastly <span style=\"color: rgba(0,0,255,1)\">child</span> who was an unhee<span style=\"color: rgba(0,0,255,1)\">ding</span> image....... But because it was <span style=\"color: rgba(0,0,255,1)\">supposed</span> to be an acty<span style=\"color: rgba(0,0,255,1)\">vel</span>, though it was step in step-- as it were, of course, among other things that make the same out, an idea really... that off <span style=\"color: rgba(0,0,255,1)\">step</span> s s who was always s got all. s things things,<span style=\"color: rgba(0,0,255,1)\">,</span> things things <span style=\"color: rgba(0,0,255,1)\">not</span> ho look nowadays <span style=\"color: rgba(0,0,255,1)\">audience</span> <span style=\"color: rgba(0,0,255,1)\">O</span>. of, artist's because the hadce trance vague in wayce trance being so <span style=\"color: rgba(0,0,255,1)\">quite</span> quite quite sure <span style=\"color: rgba(0,0,255,1)\">here</span> of quite also things about it be figure <span style=\"color: rgba(0,0,255,1)\">way</span> samely <span style=\"color: rgba(0,0,255,1)\">of</span> <span style=\"color: rgba(0,0,255,1)\">nervous</span> if from <span style=\"color: rgba(0,0,255,1)\">work</span> figure <span style=\"color: rgba(0,0,255,1)\">ant</span> of step <span style=\"color: rgba(0,0,255,1)\">-</span>. <span style=\"color: rgba(0,0,255,1)\">anti</span> be <span style=\"color: rgba(0,0,255,1)\">was</span> <span style=\"color: rgba(0,0,255,1)\">yet</span> that was <span style=\"color: rgba(0,0,255,1)\">might</span> well well,... was taken <span style=\"color: rgba(0,0,255,1)\">even</span> structure only"
      ],
      "text/plain": [
       "<IPython.core.display.HTML object>"
      ]
     },
     "metadata": {},
     "output_type": "display_data"
    },
    {
     "data": {
      "text/html": [
       "quivering with fear when he <span style=\"color: rgba(255,0,0,0.6915158033370972)\">turned</span> and saw the girl. No, no, he looked out of it, wondering, in smitiness, what was it? It had to be at least a woman. It was obvious that the body was better in shape than that of an anteroscope...... En<span style=\"color: rgba(255,0,0,0.5943543910980225)\">fold</span>ing vermi... the ant's been trying to do it <span style=\"color: rgba(255,0,0,0.8973348140716553)\">in</span> a trance-- a sort of inconcectable trance, exactly, and where.... <span style=\"color: rgba(255,0,0,0.9362283945083618)\">He</span> was quite <span style=\"color: rgba(255,0,0,0.8148898482322693)\">prepared</span> about it, and was still quite prepared about it, though he did not mean about it; it was because he knew just how weird things of life... <span style=\"color: rgba(255,0,0,0.7253175973892212)\">it</span> was the <span style=\"color: rgba(255,0,0,0.5148484706878662)\">ugly</span> and ghastly <span style=\"color: rgba(255,0,0,0.5977427959442139)\">one</span> who was an unhee<span style=\"color: rgba(255,0,0,0.8224513530731201)\">ded</span> image....... But because it was <span style=\"color: rgba(255,0,0,0.8736643195152283)\">supposed</span> to be an acty <span style=\"color: rgba(255,0,0,0.5492762327194214)\">thing</span>, though it was step in step-- as it were, of course, among other things that make the same out, an idea really... that off <span style=\"color: rgba(255,0,0,0.5655158758163452)\">figure</span> s s who was always s got all. s things things, <span style=\"color: rgba(255,0,0,0.6209231615066528)\">things</span> things things <span style=\"color: rgba(255,0,0,0.5400206446647644)\">mind</span> ho look nowadays <span style=\"color: rgba(255,0,0,0.5816210508346558)\">figure</span> <span style=\"color: rgba(255,0,0,0.7183740139007568)\">idea</span>. of, artist's because the hadce trance vague in wayce trance being so <span style=\"color: rgba(255,0,0,0.6198149919509888)\">not</span> quite quite sure<span style=\"color: rgba(255,0,0,0.8328111171722412)\">,</span> of quite also things about it be figure <span style=\"color: rgba(255,0,0,0.6049580574035645)\">earth</span> samely <span style=\"color: rgba(255,0,0,0.6006746888160706)\">thing</span> <span style=\"color: rgba(255,0,0,0.5781561732292175)\">thing</span> if from <span style=\"color: rgba(255,0,0,0.5523735880851746)\">thing</span> figure <span style=\"color: rgba(255,0,0,0.5545175075531006)\">figure</span> of step <span style=\"color: rgba(255,0,0,0.5355840921401978)\">thing</span>.<span style=\"color: rgba(255,0,0,0.7087092399597168)\">ding</span> be<span style=\"color: rgba(255,0,0,0.7667449712753296)\">ding</span><span style=\"color: rgba(255,0,0,0.7523329257965088)\">ded</span> that was<span style=\"color: rgba(255,0,0,0.6202383637428284)\">d</span> well well,... was taken <span style=\"color: rgba(255,0,0,0.7089337110519409)\">there</span> structure only in"
      ],
      "text/plain": [
       "<IPython.core.display.HTML object>"
      ]
     },
     "metadata": {},
     "output_type": "display_data"
    },
    {
     "data": {
      "text/html": [
       "whimvered with fear when he turned and saw the <span style=\"color: rgba(0,0,255,1)\">girl</span>. No, no, he looked out of it, wondering, <span style=\"color: rgba(0,0,255,1)\">in</span> snugh, what was it? It had to be at least a woman. It was extraordinary that the body was better in shape than that of an anterous...... Just as <span style=\"color: rgba(0,0,255,1)\">Jon</span> <span style=\"color: rgba(0,0,255,1)\">cosmic</span>.... But the ant's been trying to keep it in a trance-- some sort of inconcectable trance, exactly, and <span style=\"color: rgba(0,0,255,1)\">yet</span>.... He was quite sure about it, and was still quite sure about it, though he was not sure about it, it was that he knew just <span style=\"color: rgba(0,0,255,1)\">the</span> weird <span style=\"color: rgba(0,0,255,1)\">part</span> of her... it <span style=\"color: rgba(0,0,255,1)\">was</span> <span style=\"color: rgba(0,0,255,1)\">the</span> tall and ghastly woman who was an uncrowding image of<span style=\"color: rgba(0,0,255,1)\">.</span>... Oh. Well, it was <span style=\"color: rgba(0,0,255,1)\">supposed</span> to be an <span style=\"color: rgba(0,0,255,1)\">almost</span> down figure and though it was not in <span style=\"color: rgba(0,0,255,1)\">figure</span>-- if it were, of <span style=\"color: rgba(0,0,255,1)\">course</span>, among other things to help the <span style=\"color: rgba(0,0,255,1)\">moment</span> out<span style=\"color: rgba(0,0,255,1)\">,</span>.. a.. Olson thing <span style=\"color: rgba(0,0,255,1)\">not</span> s.. thing he. s got other done s,<span style=\"color: rgba(0,0,255,1)\">.</span>, help things things the the?.... to, ant<span style=\"color: rgba(0,0,255,1)\">,</span> s been the hadce <span style=\"color: rgba(0,0,255,1)\">agent</span>, in wayce trance <span style=\"color: rgba(0,0,255,1)\">that</span> <span style=\"color: rgba(0,0,255,1)\">thing</span> quite quite quite <span style=\"color: rgba(0,0,255,1)\">sure</span> maybe of be also and about <span style=\"color: rgba(0,0,255,1)\">maybe</span> be <span style=\"color: rgba(0,0,255,1)\">awful</span> old steply thing, <span style=\"color: rgba(0,0,255,1)\">actual</span>er figure figure actually <span style=\"color: rgba(0,0,255,1)\">of</span> step meant. quite so the of that was yet well <span style=\"color: rgba(0,0,255,1)\">amazing</span> of... was somehow<span style=\"color: rgba(0,0,255,1)\">,</span> somehow,"
      ],
      "text/plain": [
       "<IPython.core.display.HTML object>"
      ]
     },
     "metadata": {},
     "output_type": "display_data"
    },
    {
     "data": {
      "text/html": [
       "whimvered with fear when he turned and saw the <span style=\"color: rgba(255,0,0,0.5921334624290466)\">body</span>. No, no, he looked out of it, wondering, <span style=\"color: rgba(255,0,0,0.6933342218399048)\">and</span> snugh, what was it? It had to be at least a woman. It was extraordinary that the body was better in shape than that of an anterous...... Just as <span style=\"color: rgba(255,0,0,0.6013139486312866)\">if</span> <span style=\"color: rgba(255,0,0,0.5235019326210022)\">way</span>.... But the ant's been trying to keep it in a trance-- some sort of inconcectable trance, exactly, and <span style=\"color: rgba(255,0,0,0.6535549163818359)\">yet</span>.... He was quite sure about it, and was still quite sure about it, though he was not sure about it, it was that he knew just <span style=\"color: rgba(255,0,0,0.7067143321037292)\">the</span> weird <span style=\"color: rgba(255,0,0,0.5420486927032471)\">part</span> of her... it <span style=\"color: rgba(255,0,0,0.9655425548553467)\">was</span> <span style=\"color: rgba(255,0,0,0.9744987487792969)\">a</span> tall and ghastly woman who was an uncrowding image of <span style=\"color: rgba(255,0,0,0.6978284120559692)\">her</span>... Oh. Well, it was <span style=\"color: rgba(255,0,0,0.7219316363334656)\">supposed</span> to be an <span style=\"color: rgba(255,0,0,0.5715593695640564)\">odd</span> down figure and though it was not in <span style=\"color: rgba(255,0,0,0.6908330321311951)\">shape</span>-- if it were, of <span style=\"color: rgba(255,0,0,0.9919694662094116)\">course</span>, among other things to help the <span style=\"color: rgba(255,0,0,0.5434210300445557)\">mind</span> out<span style=\"color: rgba(255,0,0,0.9109324216842651)\">.</span>.. a.. Olson thing<span style=\"color: rgba(255,0,0,0.6665072441101074)\">human</span> s.. thing he. s got other done s, <span style=\"color: rgba(255,0,0,0.6912354826927185)\">well</span>, help things things the the?.... to, ant <span style=\"color: rgba(255,0,0,0.5448020100593567)\">trance</span> s been the hadce<span style=\"color: rgba(255,0,0,0.6176096200942993)\">ct</span>, in wayce trance <span style=\"color: rgba(255,0,0,0.6728171110153198)\">what</span> <span style=\"color: rgba(255,0,0,0.5403218865394592)\">and</span> quite quite quite <span style=\"color: rgba(255,0,0,0.6934171915054321)\">course</span> maybe of be also and about <span style=\"color: rgba(255,0,0,0.7078967690467834)\">yet</span> be <span style=\"color: rgba(255,0,0,0.5126744508743286)\">old</span> old steply thing, <span style=\"color: rgba(255,0,0,0.5620311498641968)\">odd</span>er figure figure actually <span style=\"color: rgba(255,0,0,0.6334283947944641)\">a</span> step meant. quite so the of that was yet well <span style=\"color: rgba(255,0,0,0.524459958076477)\">body</span> of... was somehow <span style=\"color: rgba(255,0,0,0.7490211725234985)\">had</span> somehow, in"
      ],
      "text/plain": [
       "<IPython.core.display.HTML object>"
      ]
     },
     "metadata": {},
     "output_type": "display_data"
    },
    {
     "data": {
      "text/html": [
       "Whimper moved visibly when he turned and <span style=\"color: rgba(0,0,255,1)\">saw</span> the figure. <span style=\"color: rgba(0,0,255,1)\">No</span>, no, he looked out of it; wondering, <span style=\"color: rgba(0,0,255,1)\">considering</span>, <span style=\"color: rgba(0,0,255,1)\">ultimately</span> understanding, what was it? It had to be at least a woman. It was <span style=\"color: rgba(0,0,255,1)\">symbolic</span> if the figure was better in shape than that of an apperous...... Then, if somehow.... But the word's not trying to put it in a trance-- some sort of inconcectable trance, maybe, or somehow.... He was quite sure about <span style=\"color: rgba(0,0,255,1)\">it</span>, <span style=\"color: rgba(0,0,255,1)\">and</span> was not quite sure about it, though he was not sure about it, it was<span style=\"color: rgba(0,0,255,1)\">,</span> he was seeing <span style=\"color: rgba(0,0,255,1)\">with</span> weird part of her... it <span style=\"color: rgba(0,0,255,1)\">was</span> a vague, ghastly <span style=\"color: rgba(0,0,255,1)\">person</span> who was an unboding image of.... it. Well, it <span style=\"color: rgba(0,0,255,1)\">could</span> supposed to be an actual <span style=\"color: rgba(0,0,255,1)\">human</span> figure<span style=\"color: rgba(0,0,255,1)\">;</span> though it was not in shape-- if it there, of course, were other things to help the idea out... a.. he thing<span style=\"color: rgba(0,0,255,1)\">believable</span> <span style=\"color: rgba(0,0,255,1)\">put</span> been. thing he s been got there was certain,<span style=\"color: rgba(0,0,255,1)\">,</span>, help things <span style=\"color: rgba(0,0,255,1)\">things</span> thing the..<span style=\"color: rgba(0,0,255,1)\">.</span> <span style=\"color: rgba(0,0,255,1)\">But</span>. to he sure'<span style=\"color: rgba(0,0,255,1)\">She</span> been <span style=\"color: rgba(0,0,255,1)\">whether</span> had',, in something<span style=\"color: rgba(0,0,255,1)\">d</span> seeing wondering then quite quite<span style=\"color: rgba(0,0,255,1)\">,</span> quite maybe of always as <span style=\"color: rgba(0,0,255,1)\">ought</span> about it be,,ly was<span style=\"color: rgba(0,0,255,1)\">,</span> as all wastly figure actually actual human <span style=\"color: rgba(0,0,255,1)\">this</span>-in <span style=\"color: rgba(0,0,255,1)\">further</span> really of, was but almost woman of... was then moved if<span style=\"color: rgba(0,0,255,1)\">,</span>"
      ],
      "text/plain": [
       "<IPython.core.display.HTML object>"
      ]
     },
     "metadata": {},
     "output_type": "display_data"
    },
    {
     "data": {
      "text/html": [
       "Whimper moved visibly when he turned and <span style=\"color: rgba(255,0,0,0.9195959568023682)\">saw</span> the figure. <span style=\"color: rgba(255,0,0,0.9381003379821777)\">No</span>, no, he looked out of it; wondering, <span style=\"color: rgba(255,0,0,0.5443121790885925)\">wondering</span>, <span style=\"color: rgba(255,0,0,0.5958210229873657)\">but</span> understanding, what was it? It had to be at least a woman. It was <span style=\"color: rgba(255,0,0,0.9815621376037598)\">as</span> if the figure was better in shape than that of an apperous...... Then, if somehow.... But the word's not trying to put it in a trance-- some sort of inconcectable trance, maybe, or somehow.... He was quite sure about <span style=\"color: rgba(255,0,0,0.622940182685852)\">himself</span>, <span style=\"color: rgba(255,0,0,0.8349732160568237)\">and</span> was not quite sure about it, though he was not sure about it, it was <span style=\"color: rgba(255,0,0,0.8242899179458618)\">that</span> he was seeing <span style=\"color: rgba(255,0,0,0.6843045949935913)\">some</span> weird part of her... it <span style=\"color: rgba(255,0,0,0.994463324546814)\">was</span> a vague, ghastly <span style=\"color: rgba(255,0,0,0.6281685829162598)\">figure</span> who was an unboding image of.... it. Well, it <span style=\"color: rgba(255,0,0,0.9424725770950317)\">was</span> supposed to be an actual <span style=\"color: rgba(255,0,0,0.6774684190750122)\">human</span> figure<span style=\"color: rgba(255,0,0,0.9486786127090454)\">,</span> though it was not in shape-- if it there, of course, were other things to help the idea out... a.. he thing <span style=\"color: rgba(255,0,0,0.7342777848243713)\">he</span> <span style=\"color: rgba(255,0,0,0.8569347262382507)\">was</span> been. thing he s been got there was certain, <span style=\"color: rgba(255,0,0,0.613125205039978)\">trying</span>, help things<span style=\"color: rgba(255,0,0,0.7615560293197632)\">,</span> thing the..<span style=\"color: rgba(255,0,0,0.8582025766372681)\">.</span><span style=\"color: rgba(255,0,0,0.8697444200515747)\">.</span>. to he sure'<span style=\"color: rgba(255,0,0,0.7077073454856873)\">He</span> been <span style=\"color: rgba(255,0,0,0.5708014965057373)\">not</span> had',, in something<span style=\"color: rgba(255,0,0,0.5392484068870544)\">ta</span> seeing wondering then quite quite <span style=\"color: rgba(255,0,0,0.6602873206138611)\">had</span> quite maybe of always as <span style=\"color: rgba(255,0,0,0.6613757610321045)\">was</span> about it be,,ly was <span style=\"color: rgba(255,0,0,0.6413799524307251)\">figure</span> as all wastly figure actually actual human <span style=\"color: rgba(255,0,0,0.6426466703414917)\">human</span>-in <span style=\"color: rgba(255,0,0,0.5786535143852234)\">her</span> really of, was but almost woman of... was then moved if <span style=\"color: rgba(255,0,0,0.9326990842819214)\">was</span> supposed"
      ],
      "text/plain": [
       "<IPython.core.display.HTML object>"
      ]
     },
     "metadata": {},
     "output_type": "display_data"
    },
    {
     "data": {
      "text/html": [
       "shimpering, when he turned and saw the figure. No, no, he looked out of it; wondering, now, for all, what was it? It had to be at least a woman. It was as if the figure was better in shape than that of an appendus creature..... Then, if somehow.... But the thing's not going to put me in a trance-- some sort of inconcect<span style=\"color: rgba(0,0,255,1)\">ory</span> sense, maybe<span style=\"color: rgba(0,0,255,1)\">.</span>. somehow.... He was not <span style=\"color: rgba(0,0,255,1)\">doubtful</span> about it, and was not quite sure about it, though he was not sure about it, it was that he was seeing <span style=\"color: rgba(0,0,255,1)\">that</span> weird part of her... It was a vague, ghastly person who was an unboding part of.... it. <span style=\"color: rgba(0,0,255,1)\">Well</span>, it was supposed to be an <span style=\"color: rgba(0,0,255,1)\">actual</span> in nature, <span style=\"color: rgba(0,0,255,1)\">though</span> it was not in shape-- if it could, of course, do other things to help the beast out... a <span style=\"color: rgba(0,0,255,1)\">ideas</span>. <span style=\"color: rgba(0,0,255,1)\">he</span> thing <span style=\"color: rgba(0,0,255,1)\">feeling</span> s like. <span style=\"color: rgba(0,0,255,1)\">he</span> <span style=\"color: rgba(0,0,255,1)\">he</span> <span style=\"color: rgba(0,0,255,1)\">s</span> been there <span style=\"color: rgba(0,0,255,1)\">gonna</span> <span style=\"color: rgba(0,0,255,1)\">tell</span> maybe things <span style=\"color: rgba(0,0,255,1)\">have</span> think it people, things the...<span style=\"color: rgba(0,0,255,1)\">.</span> <span style=\"color: rgba(0,0,255,1)\">It</span> to it sure'<span style=\"color: rgba(0,0,255,1)\">,</span> <span style=\"color: rgba(0,0,255,1)\">on</span> it idea',, incon or seeing it something quite to, sure there <span style=\"color: rgba(0,0,255,1)\">trying</span> be as quite it it be he<span style=\"color: rgba(0,0,255,1)\">,</span>tly was <span style=\"color: rgba(0,0,255,1)\">indication</span> <span style=\"color: rgba(0,0,255,1)\">say</span> all was <span style=\"color: rgba(0,0,255,1)\">person</span> figure <span style=\"color: rgba(0,0,255,1)\">she</span> actual <span style=\"color: rgba(0,0,255,1)\">it</span> moving something <span style=\"color: rgba(0,0,255,1)\">the</span> con and something, <span style=\"color: rgba(0,0,255,1)\">certain</span> obviously actually woman of... was then moved if was"
      ],
      "text/plain": [
       "<IPython.core.display.HTML object>"
      ]
     },
     "metadata": {},
     "output_type": "display_data"
    },
    {
     "data": {
      "text/html": [
       "shimpering, when he turned and saw the figure. No, no, he looked out of it; wondering, now, for all, what was it? It had to be at least a woman. It was as if the figure was better in shape than that of an appendus creature..... Then, if somehow.... But the thing's not going to put me in a trance-- some sort of inconcect<span style=\"color: rgba(255,0,0,0.5222243666648865)\">able</span> sense, maybe<span style=\"color: rgba(255,0,0,0.6530260443687439)\">.</span>. somehow.... He was not <span style=\"color: rgba(255,0,0,0.8688675165176392)\">sure</span> about it, and was not quite sure about it, though he was not sure about it, it was that he was seeing <span style=\"color: rgba(255,0,0,0.7615764141082764)\">the</span> weird part of her... It was a vague, ghastly person who was an unboding part of.... it. <span style=\"color: rgba(255,0,0,0.6988149285316467)\">Well</span>, it was supposed to be an <span style=\"color: rgba(255,0,0,0.6062397956848145)\">animal</span> in nature, <span style=\"color: rgba(255,0,0,0.8144963979721069)\">but</span> it was not in shape-- if it could, of course, do other things to help the beast out... a<span style=\"color: rgba(255,0,0,0.8662790656089783)\">.</span>. <span style=\"color: rgba(255,0,0,0.5573000311851501)\">in</span> thing <span style=\"color: rgba(255,0,0,0.5517330765724182)\">yet</span> s like. <span style=\"color: rgba(255,0,0,0.7726256847381592)\">it</span> <span style=\"color: rgba(255,0,0,0.5582237839698792)\">somehow</span> <span style=\"color: rgba(255,0,0,0.5980626344680786)\">not</span> been there <span style=\"color: rgba(255,0,0,0.6760657429695129)\">have</span> <span style=\"color: rgba(255,0,0,0.8616067171096802)\">be</span> maybe things <span style=\"color: rgba(255,0,0,0.5564370155334473)\">again</span> think it people, things the...<span style=\"color: rgba(255,0,0,0.8121248483657837)\">.</span><span style=\"color: rgba(255,0,0,0.9849739670753479)\">.</span> to it sure'<span style=\"color: rgba(255,0,0,0.9785232543945312)\">s</span> <span style=\"color: rgba(255,0,0,0.7035157680511475)\">just</span> it idea',, incon or seeing it something quite to, sure there <span style=\"color: rgba(255,0,0,0.6242526769638062)\">Well</span> be as quite it it be he <span style=\"color: rgba(255,0,0,0.5427547097206116)\">animal</span>tly was <span style=\"color: rgba(255,0,0,0.5384801626205444)\">alien</span> <span style=\"color: rgba(255,0,0,0.6153725981712341)\">animal</span> all was <span style=\"color: rgba(255,0,0,0.9077154397964478)\">but</span> figure <span style=\"color: rgba(255,0,0,0.7703267335891724)\">but</span> actual <span style=\"color: rgba(255,0,0,0.5370750427246094)\">yet</span> moving something <span style=\"color: rgba(255,0,0,0.5335943698883057)\">all</span> con and something, <span style=\"color: rgba(255,0,0,0.6409005522727966)\">yet</span> obviously actually woman of... was then moved if was supposed"
      ],
      "text/plain": [
       "<IPython.core.display.HTML object>"
      ]
     },
     "metadata": {},
     "output_type": "display_data"
    },
    {
     "data": {
      "text/html": [
       "<span style=\"color: rgba(0,0,255,1)\">c</span>himpering, when he turned and saw the figure. No, no, he looked out of it; wondering, now, after all, what was <span style=\"color: rgba(0,0,255,1)\">it</span>? It had <span style=\"color: rgba(0,0,255,1)\">to</span> be at least a woman. It was as if the figure was more in <span style=\"color: rgba(0,0,255,1)\">place</span> than that of an Amendic animal... <span style=\"color: rgba(0,0,255,1)\">Move</span>. Well, if somehow.... But the thing's not going to put me in a <span style=\"color: rgba(0,0,255,1)\">fancy</span>-- some sort of inerceinmit sense, maybe.. somehow.... Bert was not <span style=\"color: rgba(0,0,255,1)\">sure</span> about it, and really not quite sure about it, though he <span style=\"color: rgba(0,0,255,1)\">was</span> quite sure about it, it was that he was seeing the weird <span style=\"color: rgba(0,0,255,1)\">part</span> of the... it <span style=\"color: rgba(0,0,255,1)\">had</span> a vague, g<span style=\"color: rgba(0,0,255,1)\">has</span>tly <span style=\"color: rgba(0,0,255,1)\">woman</span> who was an unworldding part of the.. but it. <span style=\"color: rgba(0,0,255,1)\">No</span>, it <span style=\"color: rgba(0,0,255,1)\">was</span> <span style=\"color: rgba(0,0,255,1)\">pretending</span> to be an animal in shape, and it was not a hand-- if it would, of course, do <span style=\"color: rgba(0,0,255,1)\">other</span> things to help the world out... a. <span style=\"color: rgba(0,0,255,1)\">if</span> that thing's intentionally. it'of just going just put <span style=\"color: rgba(0,0,255,1)\">too</span>, things somehow it somehow, things the<span style=\"color: rgba(0,0,255,1)\">.</span> way... <span style=\"color: rgba(0,0,255,1)\">still</span> crazy sure's, ways idea'<span style=\"color: rgba(0,0,255,1)\">pt</span> weird incon <span style=\"color: rgba(0,0,255,1)\">self</span> seeing, something quite be <span style=\"color: rgba(0,0,255,1)\">real</span> really <span style=\"color: rgba(0,0,255,1)\">quite</span> himself maybe quite quite it it not <span style=\"color: rgba(0,0,255,1)\">thing</span> <span style=\"color: rgba(0,0,255,1)\">reality</span> he so, Mary all <span style=\"color: rgba(0,0,255,1)\">knows</span>, figure <span style=\"color: rgba(0,0,255,1)\">animal</span> it <span style=\"color: rgba(0,0,255,1)\">psychologist</span> certainly, re vague and her-the the it something that... had not morehuman was"
      ],
      "text/plain": [
       "<IPython.core.display.HTML object>"
      ]
     },
     "metadata": {},
     "output_type": "display_data"
    },
    {
     "data": {
      "text/html": [
       "<span style=\"color: rgba(255,0,0,0.9724757671356201)\">w</span>himpering, when he turned and saw the figure. No, no, he looked out of it; wondering, now, after all, what was <span style=\"color: rgba(255,0,0,0.8311192989349365)\">it</span>? It had <span style=\"color: rgba(255,0,0,0.9981955289840698)\">to</span> be at least a woman. It was as if the figure was more in<span style=\"color: rgba(255,0,0,0.7018433809280396)\">human</span> than that of an Amendic animal...<span style=\"color: rgba(255,0,0,0.5624163746833801)\">.</span>. Well, if somehow.... But the thing's not going to put me in a <span style=\"color: rgba(255,0,0,0.5572425127029419)\">way</span>-- some sort of inerceinmit sense, maybe.. somehow.... Bert was not <span style=\"color: rgba(255,0,0,0.8672699928283691)\">sure</span> about it, and really not quite sure about it, though he <span style=\"color: rgba(255,0,0,0.9442611336708069)\">was</span> quite sure about it, it was that he was seeing the weird <span style=\"color: rgba(255,0,0,0.7715216875076294)\">part</span> of the... it <span style=\"color: rgba(255,0,0,0.9840835928916931)\">was</span> a vague, g<span style=\"color: rgba(255,0,0,0.8879040479660034)\">has</span>tly <span style=\"color: rgba(255,0,0,0.6305558681488037)\">person</span> who was an unworldding part of the.. but it. <span style=\"color: rgba(255,0,0,0.6537394523620605)\">Well</span>, it <span style=\"color: rgba(255,0,0,0.7082398533821106)\">had</span> <span style=\"color: rgba(255,0,0,0.5574120879173279)\">have</span> to be an animal in shape, and it was not a hand-- if it would, of course, do <span style=\"color: rgba(255,0,0,0.5900006294250488)\">other</span> things to help the world out... a.<span style=\"color: rgba(255,0,0,0.7189733982086182)\">.</span> that thing's intentionally. it'of just going just put <span style=\"color: rgba(255,0,0,0.6794761419296265)\">some</span>, things somehow it somehow, things the <span style=\"color: rgba(255,0,0,0.5269896984100342)\">help</span> way... <span style=\"color: rgba(255,0,0,0.6091055870056152)\">just</span> crazy sure's, ways idea'<span style=\"color: rgba(255,0,0,0.6269975304603577)\">in</span> weird incon<span style=\"color: rgba(255,0,0,0.5300799012184143)\">mit</span> seeing, something quite be <span style=\"color: rgba(255,0,0,0.5980182886123657)\">Well</span> really <span style=\"color: rgba(255,0,0,0.6662687063217163)\">well</span> himself maybe quite quite it it not <span style=\"color: rgba(255,0,0,0.5629199743270874)\">not</span><span style=\"color: rgba(255,0,0,0.5741918087005615)\">lum</span> he so, Mary all <span style=\"color: rgba(255,0,0,0.9482825994491577)\">was</span>, figure <span style=\"color: rgba(255,0,0,0.5922672152519226)\">maybe</span> it <span style=\"color: rgba(255,0,0,0.5517429113388062)\">perhaps</span> certainly, re vague and her-the the it something that... had not morehuman was supposed"
      ],
      "text/plain": [
       "<IPython.core.display.HTML object>"
      ]
     },
     "metadata": {},
     "output_type": "display_data"
    },
    {
     "data": {
      "text/html": [
       "whimpering, when he turned and saw the figure. No, no, he looked out of it; wondering, now, after all, what was it. It had to be at least a woman. It was as if the figure was more in perception than to be an Ammonic <span style=\"color: rgba(0,0,255,1)\">hand</span>... <span style=\"color: rgba(0,0,255,1)\">well</span>. Somehow, if it.... But the thing's not going to satisfy me in any way-- some sort of inercein<span style=\"color: rgba(0,0,255,1)\">,</span> sense, maybe.. somehow... \" He was not casual <span style=\"color: rgba(0,0,255,1)\">in</span> reality, and really not very <span style=\"color: rgba(0,0,255,1)\">material</span> about it, though he was quite sure about it, it was saying he was seeing a weird part of the... it was a vague, ghastly off who was an unreal Martian <span style=\"color: rgba(0,0,255,1)\">part</span> of the..<span style=\"color: rgba(0,0,255,1)\">.</span>.. Well, it seemed almost to be an animal <span style=\"color: rgba(0,0,255,1)\">in</span> reality, but it was not a hand-<span style=\"color: rgba(0,0,255,1)\">-</span> if it <span style=\"color: rgba(0,0,255,1)\">would</span>, of course, do some thing to bring the expression out... a. that this thing<span style=\"color: rgba(0,0,255,1)\">-</span><span style=\"color: rgba(0,0,255,1)\">it</span> <span style=\"color: rgba(0,0,255,1)\">abstract</span>. it'of just going just put some <span style=\"color: rgba(0,0,255,1)\">medical</span> things somehow not way, <span style=\"color: rgba(0,0,255,1)\">good</span> <span style=\"color: rgba(0,0,255,1)\">enjoy</span> way way... maybe. sure it s, some thingex a <span style=\"color: rgba(0,0,255,1)\">some</span> in trick <span style=\"color: rgba(0,0,255,1)\">in</span> <span style=\"color: rgba(0,0,255,1)\">in</span> sense something. <span style=\"color: rgba(0,0,255,1)\">help</span> sure thing friendly help <span style=\"color: rgba(0,0,255,1)\">help</span> quite quite <span style=\"color: rgba(0,0,255,1)\">way</span> <span style=\"color: rgba(0,0,255,1)\">it</span> not be he <span style=\"color: rgba(0,0,255,1)\">sight</span>tly be <span style=\"color: rgba(0,0,255,1)\">rock</span> all was rather <span style=\"color: rgba(0,0,255,1)\">reality</span> this <span style=\"color: rgba(0,0,255,1)\">thought</span><span style=\"color: rgba(0,0,255,1)\">im</span>., now <span style=\"color: rgba(0,0,255,1)\">landscape</span><span style=\"color: rgba(0,0,255,1)\">ger</span> her-the probably it something that... had not more shape was"
      ],
      "text/plain": [
       "<IPython.core.display.HTML object>"
      ]
     },
     "metadata": {},
     "output_type": "display_data"
    },
    {
     "data": {
      "text/html": [
       "whimpering, when he turned and saw the figure. No, no, he looked out of it; wondering, now, after all, what was it. It had to be at least a woman. It was as if the figure was more in perception than to be an Ammonic <span style=\"color: rgba(255,0,0,0.8810665607452393)\">hand</span>... <span style=\"color: rgba(255,0,0,0.6083851456642151)\">Well</span>. Somehow, if it.... But the thing's not going to satisfy me in any way-- some sort of inercein<span style=\"color: rgba(255,0,0,0.6079333424568176)\">ic</span> sense, maybe.. somehow... \" He was not casual <span style=\"color: rgba(255,0,0,0.6630643010139465)\">in</span> reality, and really not very <span style=\"color: rgba(255,0,0,0.787124752998352)\">sure</span> about it, though he was quite sure about it, it was saying he was seeing a weird part of the... it was a vague, ghastly off who was an unreal Martian <span style=\"color: rgba(255,0,0,0.956824779510498)\">part</span> of the..<span style=\"color: rgba(255,0,0,0.9908170700073242)\">.</span>.. Well, it seemed almost to be an animal <span style=\"color: rgba(255,0,0,0.9969812631607056)\">in</span> reality, but it was not a hand-<span style=\"color: rgba(255,0,0,0.968063235282898)\">-</span> if it <span style=\"color: rgba(255,0,0,0.7638068199157715)\">could</span>, of course, do some thing to bring the expression out... a. that this thing <span style=\"color: rgba(255,0,0,0.923988938331604)\">hand</span> <span style=\"color: rgba(255,0,0,0.9991519451141357)\">s</span> <span style=\"color: rgba(255,0,0,0.5694828033447266)\">might</span>. it'of just going just put some <span style=\"color: rgba(255,0,0,0.6674045920372009)\">something</span> things somehow not way, <span style=\"color: rgba(255,0,0,0.7690876722335815)\">to</span><span style=\"color: rgba(255,0,0,0.7544781565666199)\">.</span> way way... maybe. sure it s, some thingex a<span style=\"color: rgba(255,0,0,0.6932044625282288)\">'</span>in trick <span style=\"color: rgba(255,0,0,0.540292501449585)\">con</span> <span style=\"color: rgba(255,0,0,0.5432557463645935)\">some</span> sense something. <span style=\"color: rgba(255,0,0,0.5368667840957642)\">was</span> sure thing friendly help <span style=\"color: rgba(255,0,0,0.6024942994117737)\">have</span> quite quite <span style=\"color: rgba(255,0,0,0.653509259223938)\">sure</span> <span style=\"color: rgba(255,0,0,0.5815226435661316)\">that</span> not be he <span style=\"color: rgba(255,0,0,0.9955250024795532)\">in</span>tly be <span style=\"color: rgba(255,0,0,0.9520024061203003)\">in</span> all was rather <span style=\"color: rgba(255,0,0,0.5637006759643555)\">thing</span> this <span style=\"color: rgba(255,0,0,0.5222939252853394)\">human</span> <span style=\"color: rgba(255,0,0,0.5975667238235474)\">in</span>., now <span style=\"color: rgba(255,0,0,0.608042299747467)\">part</span><span style=\"color: rgba(255,0,0,0.6129729151725769)\">,</span> her-the probably it something that... had not more shape was be"
      ],
      "text/plain": [
       "<IPython.core.display.HTML object>"
      ]
     },
     "metadata": {},
     "output_type": "display_data"
    },
    {
     "data": {
      "text/html": [
       "<span style=\"color: rgba(0,0,255,1)\">better</span>himpering, and he turned and saw the figure. No, no, he looked out of it; wondering, now, after all, what was wrong. <span style=\"color: rgba(0,0,255,1)\">It</span> had to be at least a <span style=\"color: rgba(0,0,255,1)\">woman</span>. It was as if the figure was different in perception than to be an Ammonic hand... yet. <span style=\"color: rgba(0,0,255,1)\">Somehow</span>, if it..... the thing's not going to change me in <span style=\"color: rgba(0,0,255,1)\">any</span> way-- some sort of inercein? -, maybe.. somehow.... He was not altogether sure it, and really not quite sure about it, though he q hardly sure about it, it was sure he was seeing something still part of the... it was a vague, g<span style=\"color: rgba(0,0,255,1)\">lint</span>ing figure who was <span style=\"color: rgba(0,0,255,1)\">an</span> unreal-<span style=\"color: rgba(0,0,255,1)\">just</span> of way..... then, it seemed almost to be an animal <span style=\"color: rgba(0,0,255,1)\">glance</span> mind, but it was not a hand-- though it <span style=\"color: rgba(0,0,255,1)\">did</span>, of necessity, do some thing to <span style=\"color: rgba(0,0,255,1)\">look</span> right right out..... that a <span style=\"color: rgba(0,0,255,1)\">thing</span> <span style=\"color: rgba(0,0,255,1)\">watching</span> s -. actually'<span style=\"color: rgba(0,0,255,1)\">must</span> just yet to <span style=\"color: rgba(0,0,255,1)\">hurt</span> some not <span style=\"color: rgba(0,0,255,1)\">things</span>. me think, somehow take <span style=\"color: rgba(0,0,255,1)\">help</span> way. somehow. <span style=\"color: rgba(0,0,255,1)\">maybe</span>. sure it s,<span style=\"color: rgba(0,0,255,1)\">,</span> it purpose a, in random somehow <span style=\"color: rgba(0,0,255,1)\">quite</span> it.. quite sure quite. ex <span style=\"color: rgba(0,0,255,1)\">have</span> quite. yet that not be <span style=\"color: rgba(0,0,255,1)\">part</span> intly <span style=\"color: rgba(0,0,255,1)\">bit</span> and<span style=\"color: rgba(0,0,255,1)\">:</span> was. <span style=\"color: rgba(0,0,255,1)\">doing</span> this like in. Really the <span style=\"color: rgba(0,0,255,1)\">uncertain</span> curiosity expectation-crawling-somehow something way... was not more be was"
      ],
      "text/plain": [
       "<IPython.core.display.HTML object>"
      ]
     },
     "metadata": {},
     "output_type": "display_data"
    },
    {
     "data": {
      "text/html": [
       "<span style=\"color: rgba(255,0,0,0.9718945026397705)\">w</span>himpering, and he turned and saw the figure. No, no, he looked out of it; wondering, now, after all, what was wrong. <span style=\"color: rgba(255,0,0,0.8792158365249634)\">It</span> had to be at least a <span style=\"color: rgba(255,0,0,0.6207565069198608)\">person</span>. It was as if the figure was different in perception than to be an Ammonic hand... yet. <span style=\"color: rgba(255,0,0,0.6962223052978516)\">Well</span>, if it..... the thing's not going to change me in <span style=\"color: rgba(255,0,0,0.9577431678771973)\">some</span> way-- some sort of inercein? -, maybe.. somehow.... He was not altogether sure it, and really not quite sure about it, though he q hardly sure about it, it was sure he was seeing something still part of the... it was a vague, g<span style=\"color: rgba(255,0,0,0.6634328365325928)\">rop</span>ing figure who was <span style=\"color: rgba(255,0,0,0.5593509078025818)\">somehow</span> unreal-<span style=\"color: rgba(255,0,0,0.5681148767471313)\">-</span> of way..... then, it seemed almost to be an animal <span style=\"color: rgba(255,0,0,0.9747803211212158)\">in</span> mind, but it was not a hand-- though it <span style=\"color: rgba(255,0,0,0.6839223504066467)\">might</span>, of necessity, do some thing to <span style=\"color: rgba(255,0,0,0.6038612723350525)\">the</span> right right out..... that a<span style=\"color: rgba(255,0,0,0.5534377694129944)\">.</span> <span style=\"color: rgba(255,0,0,0.8905256986618042)\">hand</span> s -. actually'<span style=\"color: rgba(255,0,0,0.7727957963943481)\">must</span> just yet to <span style=\"color: rgba(255,0,0,0.6093997955322266)\">make</span> some not <span style=\"color: rgba(255,0,0,0.7069064378738403)\">some</span>. me think, somehow take <span style=\"color: rgba(255,0,0,0.8314737677574158)\">me</span> way. somehow. <span style=\"color: rgba(255,0,0,0.576784610748291)\">Maybe</span>. sure it s, <span style=\"color: rgba(255,0,0,0.5681965947151184)\">really</span> it purpose a, in random somehow <span style=\"color: rgba(255,0,0,0.5942109227180481)\">somehow</span> it.. quite sure quite. ex <span style=\"color: rgba(255,0,0,0.5659826397895813)\">Well</span> quite. yet that not be<span style=\"color: rgba(255,0,0,0.6024990081787109)\">loom</span> intly<span style=\"color: rgba(255,0,0,0.8747527599334717)\">,</span> and<span style=\"color: rgba(255,0,0,0.5692006945610046)\">aunt</span> was.<span style=\"color: rgba(255,0,0,0.5861548185348511)\">,</span> this like in. Really the <span style=\"color: rgba(255,0,0,0.5137826800346375)\">s</span> curiosity expectation-crawling-somehow something way... was not more be was too"
      ],
      "text/plain": [
       "<IPython.core.display.HTML object>"
      ]
     },
     "metadata": {},
     "output_type": "display_data"
    },
    {
     "data": {
      "text/html": [
       "whimper<span style=\"color: rgba(0,0,255,1)\">ing</span>, and he turned and saw the figure. No, no, he looked out of it; wondering, now, at least, what was beyond. There had to be at least a person. It was as if the figure was different in mind than to be an <span style=\"color: rgba(0,0,255,1)\">An</span>monic <span style=\"color: rgba(0,0,255,1)\">hand</span> <span style=\"color: rgba(0,0,255,1)\">thinking</span>.... <span style=\"color: rgba(0,0,255,1)\">yes</span>, if it..... The thing's not going to change me in some way-- some sort of inercein? No, maybe not. <span style=\"color: rgba(0,0,255,1)\">somehow</span>.... He was not <span style=\"color: rgba(0,0,255,1)\">quite</span> sure yet, and really not quite <span style=\"color: rgba(0,0,255,1)\">convinced</span> about it, though he was quite sure about it, it was something he was seeing<span style=\"color: rgba(0,0,255,1)\">,</span> wondering around.<span style=\"color: rgba(0,0,255,1)\">.</span>.. Maybe it was a vague, groping sort that was almost unreal-<span style=\"color: rgba(0,0,255,1)\">kind</span> of way..... No, it seemed almost to be an object in mind, but it was not a hand-- though it could, of maybe, do some thing to the right right out..... that Maybe <span style=\"color: rgba(0,0,255,1)\">It</span> <span style=\"color: rgba(0,0,255,1)\">to</span> <span style=\"color: rgba(0,0,255,1)\">yet</span> <span style=\"color: rgba(0,0,255,1)\">-</span>. yet<span style=\"color: rgba(0,0,255,1)\">'</span>s <span style=\"color: rgba(0,0,255,1)\">just</span> just <span style=\"color: rgba(0,0,255,1)\">really</span>, some things way<span style=\"color: rgba(0,0,255,1)\">.</span> things<span style=\"color: rgba(0,0,255,1)\">s</span>, somehow thing stuff <span style=\"color: rgba(0,0,255,1)\">things</span>.<span style=\"color: rgba(0,0,255,1)\">.</span>... thing it s, just It quite,, in <span style=\"color: rgba(0,0,255,1)\">10</span> somehow <span style=\"color: rgba(0,0,255,1)\">me</span><span style=\"color: rgba(0,0,255,1)\">.</span> then quite quite not quite somehow things himself quite. like that quite <span style=\"color: rgba(0,0,255,1)\">was</span> like in not, something just was,, this in <span style=\"color: rgba(0,0,255,1)\">on</span> more-the re--. believing perhaps <span style=\"color: rgba(0,0,255,1)\">thing</span> something.. it. here noting be <span style=\"color: rgba(0,0,255,1)\">seem</span>"
      ],
      "text/plain": [
       "<IPython.core.display.HTML object>"
      ]
     },
     "metadata": {},
     "output_type": "display_data"
    },
    {
     "data": {
      "text/html": [
       "whimper<span style=\"color: rgba(255,0,0,0.802276074886322)\">ing</span>, and he turned and saw the figure. No, no, he looked out of it; wondering, now, at least, what was beyond. There had to be at least a person. It was as if the figure was different in mind than to be an <span style=\"color: rgba(255,0,0,0.5776029229164124)\">am</span>monic <span style=\"color: rgba(255,0,0,0.5918920636177063)\">thing</span><span style=\"color: rgba(255,0,0,0.5319476127624512)\">.</span>.... <span style=\"color: rgba(255,0,0,0.6590521335601807)\">Well</span>, if it..... The thing's not going to change me in some way-- some sort of inercein? No, maybe not.<span style=\"color: rgba(255,0,0,0.8065900206565857)\">.</span>.... He was not <span style=\"color: rgba(255,0,0,0.9496579170227051)\">quite</span> sure yet, and really not quite <span style=\"color: rgba(255,0,0,0.8638007640838623)\">sure</span> about it, though he was quite sure about it, it was something he was seeing <span style=\"color: rgba(255,0,0,0.7766478061676025)\">and</span> wondering around.<span style=\"color: rgba(255,0,0,0.9788386821746826)\">.</span>.. Maybe it was a vague, groping sort that was almost unreal-<span style=\"color: rgba(255,0,0,0.6619684100151062)\">-</span> of way..... No, it seemed almost to be an object in mind, but it was not a hand-- though it could, of maybe, do some thing to the right right out..... that Maybe <span style=\"color: rgba(255,0,0,0.652161180973053)\">it</span><span style=\"color: rgba(255,0,0,0.5385381579399109)\">.</span> <span style=\"color: rgba(255,0,0,0.5645971894264221)\">that</span> <span style=\"color: rgba(255,0,0,0.5965273976325989)\">really</span>. yet <span style=\"color: rgba(255,0,0,0.5946396589279175)\">perhaps</span> s <span style=\"color: rgba(255,0,0,0.5854407548904419)\">somehow</span> just <span style=\"color: rgba(255,0,0,0.5592519044876099)\">somehow</span>, some things way <span style=\"color: rgba(255,0,0,0.5902745127677917)\">maybe</span> things <span style=\"color: rgba(255,0,0,0.5695656538009644)\">thing</span>, somehow thing stuff<span style=\"color: rgba(255,0,0,0.824691653251648)\">.</span>.<span style=\"color: rgba(255,0,0,0.7335583567619324)\">.</span>... thing it s, just It quite,, in<span style=\"color: rgba(255,0,0,0.5730893611907959)\">er</span> somehow <span style=\"color: rgba(255,0,0,0.6470297574996948)\">something</span><span style=\"color: rgba(255,0,0,0.8627731800079346)\">.</span> then quite quite not quite somehow things himself quite. like that quite <span style=\"color: rgba(255,0,0,0.5404625535011292)\">not</span> like in not, something just was,, this in <span style=\"color: rgba(255,0,0,0.6337685585021973)\">yet</span> more-the re--. believing perhaps <span style=\"color: rgba(255,0,0,0.5470278859138489)\">yet</span> something.. it. here noting be <span style=\"color: rgba(255,0,0,0.5848190784454346)\">mind</span> be"
      ],
      "text/plain": [
       "<IPython.core.display.HTML object>"
      ]
     },
     "metadata": {},
     "output_type": "display_data"
    },
    {
     "data": {
      "text/html": [
       "whimpering, and he turned and saw the face. No, no, he looked out of it; wondering, now, at least, what was something. It seemed to be at least a thing. It was as if the figure was, in mind, to be an aconic something... <span style=\"color: rgba(0,0,255,1)\">sure</span>. Well, maybe it..... The thing's not going to change me in some way-- some sort of intance<span style=\"color: rgba(0,0,255,1)\">force</span>. No, maybe not...... There was not quite sure yet, and really not quite sure of it, though he was quite told about it, it was <span style=\"color: rgba(0,0,255,1)\">something</span> he was seeing, yet.... Not yet it was a vague, un<span style=\"color: rgba(0,0,255,1)\">believable</span>ing <span style=\"color: rgba(0,0,255,1)\">thing</span>, was very unreal-- that way..... Yes, it seemed almost to be an thing <span style=\"color: rgba(0,0,255,1)\">in</span> mind, but it was not a thing<span style=\"color: rgba(0,0,255,1)\">-</span>- though it might, if maybe, do some thing with the right right thing.. <span style=\"color: rgba(0,0,255,1)\">Perhaps</span>.<span style=\"color: rgba(0,0,255,1)\">.</span> that something that<span style=\"color: rgba(0,0,255,1)\">'</span><span style=\"color: rgba(0,0,255,1)\">telling</span><span style=\"color: rgba(0,0,255,1)\">ting</span>. it <span style=\"color: rgba(0,0,255,1)\">maybe</span> s not just to, some things <span style=\"color: rgba(0,0,255,1)\">just</span> maybe things <span style=\"color: rgba(0,0,255,1)\">-</span>,, thing.. then... <span style=\"color: rgba(0,0,255,1)\">thinking</span> thing it s., that that <span style=\"color: rgba(0,0,255,1)\">advice</span>, in <span style=\"color: rgba(0,0,255,1)\">reliance</span>, something. not <span style=\"color: rgba(0,0,255,1)\">then</span> quite, <span style=\"color: rgba(0,0,255,1)\">quite</span> seemed things yet quite really. that his in idea <span style=\"color: rgba(0,0,255,1)\">in</span> in somewhere <span style=\"color: rgba(0,0,255,1)\">form</span> idea <span style=\"color: rgba(0,0,255,1)\">aside</span>,, this it thing <span style=\"color: rgba(0,0,255,1)\">inevitable</span> quite the something, not<span style=\"color: rgba(0,0,255,1)\">.</span>, somehow itself something<span style=\"color: rgba(0,0,255,1)\">.</span>. it. <span style=\"color: rgba(0,0,255,1)\">was</span> not, be itself"
      ],
      "text/plain": [
       "<IPython.core.display.HTML object>"
      ]
     },
     "metadata": {},
     "output_type": "display_data"
    },
    {
     "data": {
      "text/html": [
       "whimpering, and he turned and saw the face. No, no, he looked out of it; wondering, now, at least, what was something. It seemed to be at least a thing. It was as if the figure was, in mind, to be an aconic something... <span style=\"color: rgba(255,0,0,0.5791198015213013)\">something</span>. Well, maybe it..... The thing's not going to change me in some way-- some sort of intance <span style=\"color: rgba(255,0,0,0.5899787545204163)\">thing</span>. No, maybe not...... There was not quite sure yet, and really not quite sure of it, though he was quite told about it, it was <span style=\"color: rgba(255,0,0,0.7346417903900146)\">something</span> he was seeing, yet.... Not yet it was a vague, un<span style=\"color: rgba(255,0,0,0.7063546776771545)\">real</span>ing <span style=\"color: rgba(255,0,0,0.843000590801239)\">thing</span>, was very unreal-- that way..... Yes, it seemed almost to be an thing <span style=\"color: rgba(255,0,0,0.9052727818489075)\">in</span> mind, but it was not a thing<span style=\"color: rgba(255,0,0,0.9874022006988525)\">-</span>- though it might, if maybe, do some thing with the right right thing..<span style=\"color: rgba(255,0,0,0.869429349899292)\">.</span>.<span style=\"color: rgba(255,0,0,0.9580410122871399)\">.</span> that something that<span style=\"color: rgba(255,0,0,0.798256516456604)\">'</span><span style=\"color: rgba(255,0,0,0.5802958011627197)\">something</span> <span style=\"color: rgba(255,0,0,0.5949690937995911)\">something</span>. it <span style=\"color: rgba(255,0,0,0.6285160779953003)\">something</span> s not just to, some things <span style=\"color: rgba(255,0,0,0.5505145788192749)\">maybe</span> maybe things <span style=\"color: rgba(255,0,0,0.5685800909996033)\">thing</span>,, thing.. then... <span style=\"color: rgba(255,0,0,0.6847845315933228)\">something</span> thing it s., that that <span style=\"color: rgba(255,0,0,0.6871144771575928)\">something</span>, in <span style=\"color: rgba(255,0,0,0.5723530054092407)\">somehow</span>, something. not <span style=\"color: rgba(255,0,0,0.6841336488723755)\">quite</span> quite, <span style=\"color: rgba(255,0,0,0.5601235628128052)\">that</span> seemed things yet quite really. that his in idea <span style=\"color: rgba(255,0,0,0.5204668045043945)\">doubt</span> in somewhere <span style=\"color: rgba(255,0,0,0.8357161283493042)\">thing</span> idea<span style=\"color: rgba(255,0,0,0.7871135473251343)\">,</span>,, this it thing<span style=\"color: rgba(255,0,0,0.6833059787750244)\">-</span>quite the something, not <span style=\"color: rgba(255,0,0,0.5646547675132751)\">something</span>, somehow itself something<span style=\"color: rgba(255,0,0,0.5524003505706787)\">.</span>. it. <span style=\"color: rgba(255,0,0,0.5747104287147522)\">it</span> not, be itself be"
      ],
      "text/plain": [
       "<IPython.core.display.HTML object>"
      ]
     },
     "metadata": {},
     "output_type": "display_data"
    },
    {
     "data": {
      "text/html": [
       "shimpering, and he turned and saw the face. No, no, he looked out of it, wondering, now, at least, what was something. It had to be at <span style=\"color: rgba(0,0,255,1)\">least</span> a thing. It seemed as if the thing had, in mind, to be an a<span style=\"color: rgba(0,0,255,1)\">hon</span>ic something..... Well, maybe it..... The thing's not going to change me in that way-- this sort of intance somehow. No, maybe not..... But he was not <span style=\"color: rgba(0,0,255,1)\">quite</span> sort of, and really not quite sure of it, though he was actually sure about it <span style=\"color: rgba(0,0,255,1)\">but</span> it was something he was seeing, yet <span style=\"color: rgba(0,0,255,1)\">place</span>... Not that <span style=\"color: rgba(0,0,255,1)\">it</span> seemed a vague, unrealic thing, but very unreal-- that way..... Sure, it <span style=\"color: rgba(0,0,255,1)\">somehow</span> seemed to be an <span style=\"color: rgba(0,0,255,1)\">Ra</span> <span style=\"color: rgba(0,0,255,1)\">of</span> mind, but it was just a thing-- though it could, just maybe, do some <span style=\"color: rgba(0,0,255,1)\">nice</span>, the really right thing... things. that <span style=\"color: rgba(0,0,255,1)\">in</span> that <span style=\"color: rgba(0,0,255,1)\">quite</span> <span style=\"color: rgba(0,0,255,1)\">just</span> really. <span style=\"color: rgba(0,0,255,1)\">it</span> not s not just to, maybe things,, things maybe, findings the.. then<span style=\"color: rgba(0,0,255,1)\">.</span>.<span style=\"color: rgba(0,0,255,1)\">.</span> <span style=\"color: rgba(0,0,255,1)\">something</span> thing it.., it'something. in of, <span style=\"color: rgba(0,0,255,1)\">somehow</span> <span style=\"color: rgba(0,0,255,1)\">yet</span> not <span style=\"color: rgba(0,0,255,1)\">seemed</span> be<span style=\"color: rgba(0,0,255,1)\">,</span> make suddenly <span style=\"color: rgba(0,0,255,1)\">yet</span> but quite really<span style=\"color: rgba(0,0,255,1)\">.</span> that was all, to in idea <span style=\"color: rgba(0,0,255,1)\">idea</span> idea but <span style=\"color: rgba(0,0,255,1)\">convince</span> scarcely but not <span style=\"color: rgba(0,0,255,1)\">really</span> but,, real in-<span style=\"color: rgba(0,0,255,1)\">before</span>, somehow going something<span style=\"color: rgba(0,0,255,1)\">base</span>... it not was <span style=\"color: rgba(0,0,255,1)\">be</span> itself"
      ],
      "text/plain": [
       "<IPython.core.display.HTML object>"
      ]
     },
     "metadata": {},
     "output_type": "display_data"
    },
    {
     "data": {
      "text/html": [
       "shimpering, and he turned and saw the face. No, no, he looked out of it, wondering, now, at least, what was something. It had to be at <span style=\"color: rgba(255,0,0,0.8968133330345154)\">least</span> a thing. It seemed as if the thing had, in mind, to be an a<span style=\"color: rgba(255,0,0,0.5321691632270813)\">bat</span>ic something..... Well, maybe it..... The thing's not going to change me in that way-- this sort of intance somehow. No, maybe not..... But he was not <span style=\"color: rgba(255,0,0,0.5883138179779053)\">really</span> sort of, and really not quite sure of it, though he was actually sure about it<span style=\"color: rgba(255,0,0,0.6495028734207153)\">;</span> it was something he was seeing, yet<span style=\"color: rgba(255,0,0,0.7484558820724487)\">.</span>... Not that <span style=\"color: rgba(255,0,0,0.9210337400436401)\">it</span> seemed a vague, unrealic thing, but very unreal-- that way..... Sure, it <span style=\"color: rgba(255,0,0,0.6633002758026123)\">had</span> seemed to be an <span style=\"color: rgba(255,0,0,0.5279245972633362)\">entirely</span> <span style=\"color: rgba(255,0,0,0.5791928768157959)\">of</span> mind, but it was just a thing-- though it could, just maybe, do some <span style=\"color: rgba(255,0,0,0.6555784940719604)\">things</span>, the really right thing... things. that <span style=\"color: rgba(255,0,0,0.5905675888061523)\">And</span> that <span style=\"color: rgba(255,0,0,0.6310434937477112)\">thing</span> <span style=\"color: rgba(255,0,0,0.9966694116592407)\">s</span> really. <span style=\"color: rgba(255,0,0,0.5433386564254761)\">s</span> not s not just to, maybe things,, things maybe, findings the.. then<span style=\"color: rgba(255,0,0,0.955119252204895)\">.</span>.<span style=\"color: rgba(255,0,0,0.6503490209579468)\">.</span> <span style=\"color: rgba(255,0,0,0.5683194398880005)\">really</span> thing it.., it'something. in of, <span style=\"color: rgba(255,0,0,0.6505310535430908)\">thing</span> <span style=\"color: rgba(255,0,0,0.5260611772537231)\">right</span> not <span style=\"color: rgba(255,0,0,0.689385712146759)\">quite</span> be <span style=\"color: rgba(255,0,0,0.6432222127914429)\">just</span> make suddenly <span style=\"color: rgba(255,0,0,0.6026479005813599)\">thing</span> but quite really <span style=\"color: rgba(255,0,0,0.6156707406044006)\">it</span> that was all, to in idea <span style=\"color: rgba(255,0,0,0.8819670677185059)\">least</span> idea but<span style=\"color: rgba(255,0,0,0.5993248224258423)\">real</span> scarcely but not <span style=\"color: rgba(255,0,0,0.7581478357315063)\">thing</span> but,, real in-<span style=\"color: rgba(255,0,0,0.6115337014198303)\">somehow</span>, somehow going something<span style=\"color: rgba(255,0,0,0.6813774704933167)\">.</span>... it not was <span style=\"color: rgba(255,0,0,0.614203155040741)\">somehow</span> itself <span style=\"color: rgba(255,0,0,0.6017673015594482)\">really</span>"
      ],
      "text/plain": [
       "<IPython.core.display.HTML object>"
      ]
     },
     "metadata": {},
     "output_type": "display_data"
    },
    {
     "data": {
      "text/html": [
       "<span style=\"color: rgba(0,0,255,1)\">w</span><span style=\"color: rgba(0,0,255,1)\">him</span>pering, <span style=\"color: rgba(0,0,255,1)\">and</span> he turned and saw the face. No, no, he <span style=\"color: rgba(0,0,255,1)\">looked</span> out of it, wondering, now, at least, what was something. It had to be at least a thing. It seemed as if the thing had, <span style=\"color: rgba(0,0,255,1)\">in</span> mind, to be an aptic something... <span style=\"color: rgba(0,0,255,1)\">therefore</span>. Well, maybe <span style=\"color: rgba(0,0,255,1)\">it</span>..... The thing's not <span style=\"color: rgba(0,0,255,1)\">going</span> to change me in that way-- that <span style=\"color: rgba(0,0,255,1)\">sort</span> of intance somehow. No, maybe not..... But there was not <span style=\"color: rgba(0,0,255,1)\">quite</span> sure of, and he not <span style=\"color: rgba(0,0,255,1)\">quite</span> sure of it, though he was actually sure about it: it was something he was seeing, yet somehow.... Maybe it was a vague, unrealic something, but very unreal-- that way..... Well, it was supposed to be an apparently in mind, but then, still a thing-- actually it could, just maybe, do some <span style=\"color: rgba(0,0,255,1)\">kind</span>, the really right thing.. And things maybe <span style=\"color: rgba(0,0,255,1)\">that</span> thing that thing <span style=\"color: rgba(0,0,255,1)\">s</span>ce.<span style=\"color: rgba(0,0,255,1)\">.</span> not s really just to, maybe things thing, things things, think the maybe. <span style=\"color: rgba(0,0,255,1)\">then</span>.. And really thing it.., it<span style=\"color: rgba(0,0,255,1)\">'</span><span style=\"color: rgba(0,0,255,1)\">seem</span>. in of, thing. and really not, make <span style=\"color: rgba(0,0,255,1)\">thing</span> really, <span style=\"color: rgba(0,0,255,1)\">fact</span> really somehow to was all actual <span style=\"color: rgba(0,0,255,1)\">on</span> thing <span style=\"color: rgba(0,0,255,1)\">thing</span><span style=\"color: rgba(0,0,255,1)\">.</span>. but there <span style=\"color: rgba(0,0,255,1)\">right</span> but <span style=\"color: rgba(0,0,255,1)\">not</span> it <span style=\"color: rgba(0,0,255,1)\">somehow</span>, being horror, somehow like, maybe <span style=\"color: rgba(0,0,255,1)\">something</span> somehow.. <span style=\"color: rgba(0,0,255,1)\">Well</span>. <span style=\"color: rgba(0,0,255,1)\">it</span> not it not seemed"
      ],
      "text/plain": [
       "<IPython.core.display.HTML object>"
      ]
     },
     "metadata": {},
     "output_type": "display_data"
    },
    {
     "data": {
      "text/html": [
       "<span style=\"color: rgba(255,0,0,0.6749319434165955)\">.</span><span style=\"color: rgba(255,0,0,0.5756551027297974)\">ha</span>pering, <span style=\"color: rgba(255,0,0,0.6882932782173157)\">then</span> he turned and saw the face. No, no, he <span style=\"color: rgba(255,0,0,0.822482705116272)\">was</span> out of it, wondering, now, at least, what was something. It had to be at least a thing. It seemed as if the thing had, <span style=\"color: rgba(255,0,0,0.7692828178405762)\">in</span> mind, to be an aptic something... <span style=\"color: rgba(255,0,0,0.6182589530944824)\">maybe</span>. Well, maybe <span style=\"color: rgba(255,0,0,0.6870711445808411)\">something</span>..... The thing's not <span style=\"color: rgba(255,0,0,0.6517889499664307)\">going</span> to change me in that way-- that <span style=\"color: rgba(255,0,0,0.6141409873962402)\">kind</span> of intance somehow. No, maybe not..... But there was not <span style=\"color: rgba(255,0,0,0.7794783711433411)\">quite</span> sure of, and he not <span style=\"color: rgba(255,0,0,0.705474317073822)\">quite</span> sure of it, though he was actually sure about it: it was something he was seeing, yet somehow.... Maybe it was a vague, unrealic something, but very unreal-- that way..... Well, it was supposed to be an apparently in mind, but then, still a thing-- actually it could, just maybe, do some <span style=\"color: rgba(255,0,0,0.7287696003913879)\">thing</span>, the really right thing.. And things maybe <span style=\"color: rgba(255,0,0,0.5770589113235474)\">thing</span> thing that thing <span style=\"color: rgba(255,0,0,0.5644677877426147)\">going</span>ce. <span style=\"color: rgba(255,0,0,0.5933703780174255)\">maybe</span> not s really just to, maybe things thing, things things, think the maybe. <span style=\"color: rgba(255,0,0,0.6866456270217896)\">maybe</span>.. And really thing it.., it <span style=\"color: rgba(255,0,0,0.5483355522155762)\">being</span> <span style=\"color: rgba(255,0,0,0.5506153702735901)\">is</span>. in of, thing. and really not, make <span style=\"color: rgba(255,0,0,0.6770920753479004)\">quite</span> really, <span style=\"color: rgba(255,0,0,0.6166757345199585)\">quite</span> really somehow to was all actual<span style=\"color: rgba(255,0,0,0.6752208471298218)\">,</span> thing<span style=\"color: rgba(255,0,0,0.7189481258392334)\">,</span> <span style=\"color: rgba(255,0,0,0.5668677687644958)\">idea</span>. but there<span style=\"color: rgba(255,0,0,0.573813259601593)\">,</span> but <span style=\"color: rgba(255,0,0,0.6300703287124634)\">something</span> it <span style=\"color: rgba(255,0,0,0.5830386281013489)\">really</span>, being horror, somehow like, maybe <span style=\"color: rgba(255,0,0,0.7268905639648438)\">somehow</span> somehow.. <span style=\"color: rgba(255,0,0,0.6535484790802002)\">somehow</span>. <span style=\"color: rgba(255,0,0,0.7991615533828735)\">in</span> not it not seemed maybe"
      ],
      "text/plain": [
       "<IPython.core.display.HTML object>"
      ]
     },
     "metadata": {},
     "output_type": "display_data"
    },
    {
     "data": {
      "text/html": [
       "Intu<span style=\"color: rgba(0,0,255,1)\">plex</span>ing, somehow he turned and saw the face. No, no, he saw out of it, wondering, now, at least, what was something. It had to be at least a thing. It looked as if the thing had, in fact, to be an aptic thing..... Well, maybe something... <span style=\"color: rgba(0,0,255,1)\">Something</span>. The thing's not going to change me in that way-- that way of intance.. Well, maybe not..<span style=\"color: rgba(0,0,255,1)\">.</span> no. <span style=\"color: rgba(0,0,255,1)\">Then</span> there was not really sure of, and he was quite sure of it, though he was actually sure about it, it was something he was seeing<span style=\"color: rgba(0,0,255,1)\">,</span> yet <span style=\"color: rgba(0,0,255,1)\">then</span>.... <span style=\"color: rgba(0,0,255,1)\">Maybe</span> it was a vague, unrealic thing, but very unreal-- it was. <span style=\"color: rgba(0,0,255,1)\">Well</span>... Yes, it was supposed to be possible, <span style=\"color: rgba(0,0,255,1)\">in</span> fact, but then, still a thing-- actually it could, just maybe, do some things, the thing a thing.. <span style=\"color: rgba(0,0,255,1)\">And</span> <span style=\"color: rgba(0,0,255,1)\">Maybe</span> <span style=\"color: rgba(0,0,255,1)\">somehow</span>. thing <span style=\"color: rgba(0,0,255,1)\">it</span><span style=\"color: rgba(0,0,255,1)\">,</span><span style=\"color: rgba(0,0,255,1)\">.</span> <span style=\"color: rgba(0,0,255,1)\">probably</span>.. not s not just not. maybe <span style=\"color: rgba(0,0,255,1)\">maybe</span> of, things things<span style=\"color: rgba(0,0,255,1)\">,</span> <span style=\"color: rgba(0,0,255,1)\">other</span> <span style=\"color: rgba(0,0,255,1)\">For</span> maybe. thing..<span style=\"color: rgba(0,0,255,1)\">,</span>, it it s., thing,ce.ce,,. <span style=\"color: rgba(0,0,255,1)\">yet</span> well actually Well not sure quite really was really really vague <span style=\"color: rgba(0,0,255,1)\">to</span> was not all not thing thing<span style=\"color: rgba(0,0,255,1)\">,</span>. a thing, but quite person somehowreal or out actually. like. But. somehow.. yet un <span style=\"color: rgba(0,0,255,1)\">seemed</span> not <span style=\"color: rgba(0,0,255,1)\">fact</span> not course"
      ],
      "text/plain": [
       "<IPython.core.display.HTML object>"
      ]
     },
     "metadata": {},
     "output_type": "display_data"
    },
    {
     "data": {
      "text/html": [
       "Intu<span style=\"color: rgba(255,0,0,0.7281695604324341)\">ition</span>ing, somehow he turned and saw the face. No, no, he saw out of it, wondering, now, at least, what was something. It had to be at least a thing. It looked as if the thing had, in fact, to be an aptic thing..... Well, maybe something...<span style=\"color: rgba(255,0,0,0.6264185905456543)\">.</span>. The thing's not going to change me in that way-- that way of intance.. Well, maybe not..<span style=\"color: rgba(255,0,0,0.9670554399490356)\">.</span> no. <span style=\"color: rgba(255,0,0,0.862261176109314)\">But</span> there was not really sure of, and he was quite sure of it, though he was actually sure about it, it was something he was seeing<span style=\"color: rgba(255,0,0,0.6414546966552734)\">,</span> yet <span style=\"color: rgba(255,0,0,0.606631338596344)\">somehow</span>.... <span style=\"color: rgba(255,0,0,0.5632654428482056)\">Maybe</span> it was a vague, unrealic thing, but very unreal-- it was.<span style=\"color: rgba(255,0,0,0.8441624641418457)\">.</span>... Yes, it was supposed to be possible, <span style=\"color: rgba(255,0,0,0.9946057796478271)\">in</span> fact, but then, still a thing-- actually it could, just maybe, do some things, the thing a thing..<span style=\"color: rgba(255,0,0,0.767991304397583)\">.</span><span style=\"color: rgba(255,0,0,0.7485781908035278)\">.</span><span style=\"color: rgba(255,0,0,0.5918795466423035)\">.</span>. thing <span style=\"color: rgba(255,0,0,0.700893759727478)\">it</span><span style=\"color: rgba(255,0,0,0.6172282695770264)\">.</span> <span style=\"color: rgba(255,0,0,0.5683642625808716)\">maybe</span> <span style=\"color: rgba(255,0,0,0.5494734048843384)\">something</span>.. not s not just not. maybe<span style=\"color: rgba(255,0,0,0.9400243163108826)\">,</span> of, things things <span style=\"color: rgba(255,0,0,0.5607123970985413)\">really</span> <span style=\"color: rgba(255,0,0,0.571403980255127)\">really</span> <span style=\"color: rgba(255,0,0,0.5406360626220703)\">really</span> maybe. thing..<span style=\"color: rgba(255,0,0,0.5710325837135315)\">.</span>, it it s., thing,ce.ce,,.<span style=\"color: rgba(255,0,0,0.9901261925697327)\">.</span> well actually Well not sure quite really was really really vague <span style=\"color: rgba(255,0,0,0.5505165457725525)\">thing</span> was not all not thing thing <span style=\"color: rgba(255,0,0,0.8881712555885315)\">in</span>. a thing, but quite person somehowreal or out actually. like. But. somehow.. yet un <span style=\"color: rgba(255,0,0,0.5584365725517273)\">really</span> not <span style=\"color: rgba(255,0,0,0.6385143399238586)\">been</span> not course <span style=\"color: rgba(255,0,0,0.5635516047477722)\">very</span>"
      ],
      "text/plain": [
       "<IPython.core.display.HTML object>"
      ]
     },
     "metadata": {},
     "output_type": "display_data"
    },
    {
     "data": {
      "text/html": [
       "intan<span style=\"color: rgba(0,0,255,1)\">ition</span>ing, <span style=\"color: rgba(0,0,255,1)\">before</span> he looked and <span style=\"color: rgba(0,0,255,1)\">at</span> the face. No, no, he saw out of it, wondering, now, at least, what was something. It had to be at least a thing. It seemed as if the thing had, in fact, to be an aptic <span style=\"color: rgba(0,0,255,1)\">thing</span>... no. Well, maybe something..... The thing's not going to change me in that way-- that way, intance. After all, maybe not... no. <span style=\"color: rgba(0,0,255,1)\">Though</span> there was been quite <span style=\"color: rgba(0,0,255,1)\">sure</span> of, and he was not sure of it, though <span style=\"color: rgba(0,0,255,1)\">he</span> was actually <span style=\"color: rgba(0,0,255,1)\">able</span> about it, it was something he was seeing, yet...<span style=\"color: rgba(0,0,255,1)\">.</span>. <span style=\"color: rgba(0,0,255,1)\">Maybe</span> it was a strange, unrealic thing, but very unreal-- it was..... <span style=\"color: rgba(0,0,255,1)\">Maybe</span>, it was <span style=\"color: rgba(0,0,255,1)\">seeming</span> to be something, <span style=\"color: rgba(0,0,255,1)\">no</span> somehow, but then, <span style=\"color: rgba(0,0,255,1)\">with</span> a thing-- maybe it could, just maybe<span style=\"color: rgba(0,0,255,1)\">;</span> do some things, the <span style=\"color: rgba(0,0,255,1)\">thing</span> a thing...... The it <span style=\"color: rgba(0,0,255,1)\">thing</span> s s. that not s <span style=\"color: rgba(0,0,255,1)\">not</span> have not change maybe<span style=\"color: rgba(0,0,255,1)\">,</span> things, things <span style=\"color: rgba(0,0,255,1)\">to</span>... thing Certainly thing... <span style=\"color: rgba(0,0,255,1)\">a</span> it it s, in thing <span style=\"color: rgba(0,0,255,1)\">case</span>ce,. <span style=\"color: rgba(0,0,255,1)\">otherwise</span> maybe.. before he Well, sure maybe really to really people way, was not all not was <span style=\"color: rgba(0,0,255,1)\">thing</span> perhaps no a <span style=\"color: rgba(0,0,255,1)\">Mars</span> thinking but quite doubt nothing not not out actually<span style=\"color: rgba(0,0,255,1)\">,</span> thing. <span style=\"color: rgba(0,0,255,1)\">rather</span>. somehow.. <span style=\"color: rgba(0,0,255,1)\">something</span> had actually not not not to"
      ],
      "text/plain": [
       "<IPython.core.display.HTML object>"
      ]
     },
     "metadata": {},
     "output_type": "display_data"
    },
    {
     "data": {
      "text/html": [
       "intan<span style=\"color: rgba(255,0,0,0.7854516506195068)\">ce</span>ing, <span style=\"color: rgba(255,0,0,0.7367215156555176)\">and</span> he looked and <span style=\"color: rgba(255,0,0,0.789889931678772)\">saw</span> the face. No, no, he saw out of it, wondering, now, at least, what was something. It had to be at least a thing. It seemed as if the thing had, in fact, to be an aptic <span style=\"color: rgba(255,0,0,0.9014831781387329)\">thing</span>... no. Well, maybe something..... The thing's not going to change me in that way-- that way, intance. After all, maybe not... no. <span style=\"color: rgba(255,0,0,0.8106098771095276)\">But</span> there was been quite <span style=\"color: rgba(255,0,0,0.5950044989585876)\">sure</span> of, and he was not sure of it, though <span style=\"color: rgba(255,0,0,0.8181672096252441)\">he</span> was actually <span style=\"color: rgba(255,0,0,0.6675863862037659)\">thinking</span> about it, it was something he was seeing, yet... <span style=\"color: rgba(255,0,0,0.606805145740509)\">something</span>. <span style=\"color: rgba(255,0,0,0.7506349086761475)\">Maybe</span> it was a strange, unrealic thing, but very unreal-- it was..... <span style=\"color: rgba(255,0,0,0.6612238883972168)\">Yes</span>, it was <span style=\"color: rgba(255,0,0,0.6483967304229736)\">got</span> to be something, <span style=\"color: rgba(255,0,0,0.5599008202552795)\">perhaps</span> somehow, but then, <span style=\"color: rgba(255,0,0,0.6992277503013611)\">if</span> a thing-- maybe it could, just maybe<span style=\"color: rgba(255,0,0,0.8613312840461731)\">,</span> do some things, the <span style=\"color: rgba(255,0,0,0.6561317443847656)\">same</span> a thing...... The it <span style=\"color: rgba(255,0,0,0.6221542358398438)\">maybe</span> s s. that not s <span style=\"color: rgba(255,0,0,0.7385585904121399)\">not</span> have not change maybe<span style=\"color: rgba(255,0,0,0.8898440599441528)\">,</span> things, things <span style=\"color: rgba(255,0,0,0.7786833643913269)\">same</span>... thing Certainly thing... <span style=\"color: rgba(255,0,0,0.5530858039855957)\">maybe</span> it it s, in thing <span style=\"color: rgba(255,0,0,0.5499118566513062)\">out</span>ce,. <span style=\"color: rgba(255,0,0,0.5588968396186829)\">disposed</span> maybe.. before he Well, sure maybe really to really people way, was not all not was <span style=\"color: rgba(255,0,0,0.5877339243888855)\">not</span> perhaps no a <span style=\"color: rgba(255,0,0,0.7539421319961548)\">not</span> thinking but quite doubt nothing not not out actually <span style=\"color: rgba(255,0,0,0.5937498807907104)\">something</span> thing. <span style=\"color: rgba(255,0,0,0.5941151976585388)\">somehow</span>. somehow..<span style=\"color: rgba(255,0,0,0.6112757325172424)\">.</span> had actually not not not to be"
      ],
      "text/plain": [
       "<IPython.core.display.HTML object>"
      ]
     },
     "metadata": {},
     "output_type": "display_data"
    },
    {
     "data": {
      "text/html": [
       "<span style=\"color: rgba(0,0,255,1)\">sin</span>tance <span style=\"color: rgba(0,0,255,1)\">out</span>, then he looked and saw the face. No, no, he was out of it, wondering to himself, at least, there was something. It seemed to be at least a thing. It seemed as if the thing had, in <span style=\"color: rgba(0,0,255,1)\">fact</span>, to be an aptic thing..... Well, do something..... That thing's not going to change me in that way-- that way, intance. At all, certainly not... no. But there was been<span style=\"color: rgba(0,0,255,1)\">-</span>- different, and he was not sure about it, though he was <span style=\"color: rgba(0,0,255,1)\">actually</span> thinking about it<span style=\"color: rgba(0,0,255,1)\">,</span> it was something he was seeing, yet somehow.... Maybe it was a strange, unrealic thing, but very unreal-- it <span style=\"color: rgba(0,0,255,1)\">persisted</span>..... Well, it had <span style=\"color: rgba(0,0,255,1)\">got</span> to have changed, <span style=\"color: rgba(0,0,255,1)\">perhaps</span> somehow, but then, not a thing-- maybe it could, in fact, do some things, the same a thing.... to. The it <span style=\"color: rgba(0,0,255,1)\">This</span> <span style=\"color: rgba(0,0,255,1)\">it</span> The or it <span style=\"color: rgba(0,0,255,1)\">even</span> s not going not change <span style=\"color: rgba(0,0,255,1)\">maybe</span>, things about things,. like things thing. thing <span style=\"color: rgba(0,0,255,1)\">And</span>.. maybe it it maybe, The itce <span style=\"color: rgba(0,0,255,1)\">now</span> to.-not. But before <span style=\"color: rgba(0,0,255,1)\">he</span> do<span style=\"color: rgba(0,0,255,1)\">,</span> <span style=\"color: rgba(0,0,255,1)\">move</span> fact really in really fact way that was not, not, be,, a,,, somehow <span style=\"color: rgba(0,0,255,1)\">maybe</span> somehow, <span style=\"color: rgba(0,0,255,1)\">indeed</span> out was-was<span style=\"color: rgba(0,0,255,1)\">.</span> somehow but somehow.. <span style=\"color: rgba(0,0,255,1)\">However</span> had like not not not got"
      ],
      "text/plain": [
       "<IPython.core.display.HTML object>"
      ]
     },
     "metadata": {},
     "output_type": "display_data"
    },
    {
     "data": {
      "text/html": [
       "<span style=\"color: rgba(255,0,0,0.5632535219192505)\">ti</span>tance <span style=\"color: rgba(255,0,0,0.7371789216995239)\">again</span>, then he looked and saw the face. No, no, he was out of it, wondering to himself, at least, there was something. It seemed to be at least a thing. It seemed as if the thing had, in <span style=\"color: rgba(255,0,0,0.7883851528167725)\">fact</span>, to be an aptic thing..... Well, do something..... That thing's not going to change me in that way-- that way, intance. At all, certainly not... no. But there was been<span style=\"color: rgba(255,0,0,0.9870063066482544)\">-</span>- different, and he was not sure about it, though he was <span style=\"color: rgba(255,0,0,0.8091004490852356)\">still</span> thinking about it<span style=\"color: rgba(255,0,0,0.7460758686065674)\">,</span> it was something he was seeing, yet somehow.... Maybe it was a strange, unrealic thing, but very unreal-- it <span style=\"color: rgba(255,0,0,0.8911235332489014)\">was</span>..... Well, it had <span style=\"color: rgba(255,0,0,0.7327276468276978)\">seemed</span> to have changed, <span style=\"color: rgba(255,0,0,0.6502563953399658)\">not</span> somehow, but then, not a thing-- maybe it could, in fact, do some things, the same a thing.... to. The it <span style=\"color: rgba(255,0,0,0.6024333238601685)\">somehow</span> <span style=\"color: rgba(255,0,0,0.7066535949707031)\">it</span> The or it <span style=\"color: rgba(255,0,0,0.6144313216209412)\">really</span> s not going not change <span style=\"color: rgba(255,0,0,0.6132445335388184)\">somehow</span>, things about things,. like things thing. thing<span style=\"color: rgba(255,0,0,0.7879632711410522)\">.</span>.. maybe it it maybe, The itce<span style=\"color: rgba(255,0,0,0.9099772572517395)\">.</span> to.-not. But before <span style=\"color: rgba(255,0,0,0.6769751310348511)\">somehow</span> do <span style=\"color: rgba(255,0,0,0.5879372358322144)\">seem</span> <span style=\"color: rgba(255,0,0,0.5878309607505798)\">change</span> fact really in really fact way that was not, not, be,, a,,, somehow <span style=\"color: rgba(255,0,0,0.7441546320915222)\">was</span> somehow,<span style=\"color: rgba(255,0,0,0.9346553087234497)\">-</span>out was-was <span style=\"color: rgba(255,0,0,0.8269465565681458)\">was</span> somehow but somehow.. <span style=\"color: rgba(255,0,0,0.720819890499115)\">somehow</span> had like not not not got got"
      ],
      "text/plain": [
       "<IPython.core.display.HTML object>"
      ]
     },
     "metadata": {},
     "output_type": "display_data"
    },
    {
     "data": {
      "text/html": [
       "ariestance again, and he looked and <span style=\"color: rgba(0,0,255,1)\">saw</span> the face. No, no, he was out of it, wondering to himself, at least, there was something. It seemed to be at least a thing. It was as if the thing had, in fact, to be an apt<span style=\"color: rgba(0,0,255,1)\">er</span> thing... maybe. Well, do something....<span style=\"color: rgba(0,0,255,1)\">.</span> That thing's not going to change me in that way-- <span style=\"color: rgba(0,0,255,1)\">some</span> way, intance. After all, certainly not... no. But there was something-- different, and he was sure right about it, though he was <span style=\"color: rgba(0,0,255,1)\">never</span> sure about it, it was something he was seeing<span style=\"color: rgba(0,0,255,1)\">,</span> yet somehow.... Maybe it was a strange<span style=\"color: rgba(0,0,255,1)\">,</span> un<span style=\"color: rgba(0,0,255,1)\">believable</span>, kind, but very unreal-- it was... <span style=\"color: rgba(0,0,255,1)\">much</span>. Well, it had got <span style=\"color: rgba(0,0,255,1)\">to</span> have changed, <span style=\"color: rgba(0,0,255,1)\">really</span> somehow<span style=\"color: rgba(0,0,255,1)\">,</span> but then, as a thing-- maybe it could, in fact, do some things, the things<span style=\"color: rgba(0,0,255,1)\">,</span> thing.... <span style=\"color: rgba(0,0,255,1)\">No</span>. I it-- s thought It just s just in not, way, <span style=\"color: rgba(0,0,255,1)\">to</span> about things that., things thing.. <span style=\"color: rgba(0,0,255,1)\">any</span>.. maybe it it maybe, the wonce. to.. s., <span style=\"color: rgba(0,0,255,1)\">Sure</span> somehow do <span style=\"color: rgba(0,0,255,1)\">explain</span> <span style=\"color: rgba(0,0,255,1)\">anything</span> <span style=\"color: rgba(0,0,255,1)\">somehow</span><span style=\"color: rgba(0,0,255,1)\">,</span> about really way <span style=\"color: rgba(0,0,255,1)\">to</span>, was thingsbelievable thing, <span style=\"color: rgba(0,0,255,1)\">real</span> maybe <span style=\"color: rgba(0,0,255,1)\">but</span> a maybe,<span style=\"color: rgba(0,0,255,1)\">,</span> perhaps <span style=\"color: rgba(0,0,255,1)\">strange</span> somehow not -<span style=\"color: rgba(0,0,255,1)\">,</span>, somehow perhaps was somehow but somehow. <span style=\"color: rgba(0,0,255,1)\">maybe</span> somehow. somehow not not somehow <span style=\"color: rgba(0,0,255,1)\">to</span>"
      ],
      "text/plain": [
       "<IPython.core.display.HTML object>"
      ]
     },
     "metadata": {},
     "output_type": "display_data"
    },
    {
     "data": {
      "text/html": [
       "ariestance again, and he looked and <span style=\"color: rgba(255,0,0,0.8423374891281128)\">saw</span> the face. No, no, he was out of it, wondering to himself, at least, there was something. It seemed to be at least a thing. It was as if the thing had, in fact, to be an apt<span style=\"color: rgba(255,0,0,0.599895715713501)\">ish</span> thing... maybe. Well, do something....<span style=\"color: rgba(255,0,0,0.8794103860855103)\">.</span> That thing's not going to change me in that way-- <span style=\"color: rgba(255,0,0,0.9022964835166931)\">that</span> way, intance. After all, certainly not... no. But there was something-- different, and he was sure right about it, though he was <span style=\"color: rgba(255,0,0,0.8688080310821533)\">not</span> sure about it, it was something he was seeing<span style=\"color: rgba(255,0,0,0.8411430716514587)\">,</span> yet somehow.... Maybe it was a strange<span style=\"color: rgba(255,0,0,0.9512972831726074)\">,</span> un<span style=\"color: rgba(255,0,0,0.9267958402633667)\">real</span>, kind, but very unreal-- it was...<span style=\"color: rgba(255,0,0,0.5455281138420105)\">.</span>. Well, it had got <span style=\"color: rgba(255,0,0,0.9987426996231079)\">to</span> have changed, <span style=\"color: rgba(255,0,0,0.575444757938385)\">maybe</span> somehow<span style=\"color: rgba(255,0,0,0.9564359188079834)\">,</span> but then, as a thing-- maybe it could, in fact, do some things, the things<span style=\"color: rgba(255,0,0,0.7638450860977173)\">,</span> thing....<span style=\"color: rgba(255,0,0,0.6595586538314819)\">.</span>. I it-- s thought It just s just in not, way, <span style=\"color: rgba(255,0,0,0.5820199251174927)\">with</span> about things that., things thing.. <span style=\"color: rgba(255,0,0,0.914607048034668)\">that</span>.. maybe it it maybe, the wonce. to.. s., <span style=\"color: rgba(255,0,0,0.542645275592804)\">yes</span> somehow do <span style=\"color: rgba(255,0,0,0.5809059143066406)\">well</span> <span style=\"color: rgba(255,0,0,0.6461886167526245)\">well</span> <span style=\"color: rgba(255,0,0,0.554463267326355)\">somehow</span><span style=\"color: rgba(255,0,0,0.8466845154762268)\">,</span> about really way <span style=\"color: rgba(255,0,0,0.9978915452957153)\">to</span>, was thingsbelievable thing,<span style=\"color: rgba(255,0,0,0.8630112409591675)\">,</span> maybe <span style=\"color: rgba(255,0,0,0.5771339535713196)\">just</span> a maybe,<span style=\"color: rgba(255,0,0,0.9804611206054688)\">,</span> perhaps <span style=\"color: rgba(255,0,0,0.5764010548591614)\">something</span> somehow not -<span style=\"color: rgba(255,0,0,0.7851450443267822)\">,</span>, somehow perhaps was somehow but somehow. <span style=\"color: rgba(255,0,0,0.5467965006828308)\">somehow</span> somehow. somehow not not somehow <span style=\"color: rgba(255,0,0,0.9977600574493408)\">to</span> got"
      ],
      "text/plain": [
       "<IPython.core.display.HTML object>"
      ]
     },
     "metadata": {},
     "output_type": "display_data"
    }
   ],
   "source": [
    "text=\"\"\"Quivering with fear, he trembled He lit five cigarette. went him no, he pointed straight between them as though he were ever. Lord, what had gone. It had flicked wildly at it in his pocket Henth hid the body It had undue processes that donate its ispiula machine life H. a. bigence. vermist. can see the ant's face, and saw Hans in this place-- it is becoming into unfracted the sunshine,uivering with fear, he trembled He lit five cigarette. went him no, he pointed straight between them as though he were ever. Lord, what had gone. It had flicked wildly at it in his pocket Henth hid the body It had undue processes that donate its ispiula machine life H. a. bigence. vermist. can see the ant's face, and saw Hans in this place-- it is becoming into unfracted the sunshine, A. R. and I\"\"\"\n",
    "improve_words_recursive(text, processor, tokenizer, model, iterations=300, max_seq_length=300, n=10, T=1.0, device=\"cuda\", debug=10)"
   ]
  },
  {
   "cell_type": "code",
   "execution_count": 68,
   "metadata": {},
   "outputs": [
    {
     "data": {
      "text/html": [
       "Quivering with fear, he trembled He lit five cigarette. He stared <span style=\"color: rgba(0,0,255,1)\">directly</span> <span style=\"color: rgba(0,0,255,1)\">at</span> the three fingered alient monster in front of him. It stated back at what reminded it of a naked larvel species from it's homewold.'Lets do <span style=\"color: rgba(0,0,255,1)\">this</span>'' he said. Together they headed off, <span style=\"color: rgba(0,0,255,1)\">man</span> and Targid, to start a love the likes of which none had ever before imagined. The kind of love that existed between brothers or cubmates. Interspecies soult companions<span style=\"color: rgba(0,0,255,1)\">-</span>this was often seen as a rotton kind of <span style=\"color: rgba(0,0,255,1)\">depend</span>ant relationshp that many would like to erase from the galactic dictionary"
      ],
      "text/plain": [
       "<IPython.core.display.HTML object>"
      ]
     },
     "metadata": {},
     "output_type": "display_data"
    },
    {
     "data": {
      "text/html": [
       "Quivering with fear, he trembled He lit five cigarette. He stared <span style=\"color: rgba(255,0,0,0.5840944647789001)\">down</span> <span style=\"color: rgba(255,0,0,0.9982844591140747)\">at</span> the three fingered alient monster in front of him. It stated back at what reminded it of a naked larvel species from it's homewold.'Lets do<span style=\"color: rgba(255,0,0,0.9384250640869141)\">,</span>'' he said. Together they headed off, <span style=\"color: rgba(255,0,0,0.5850471258163452)\">Jason</span> and Targid, to start a love the likes of which none had ever before imagined. The kind of love that existed between brothers or cubmates. Interspecies soult companions<span style=\"color: rgba(255,0,0,0.7500320672988892)\">,</span> this was often seen as a rotton kind of <span style=\"color: rgba(255,0,0,0.6739602088928223)\">triumph</span>ant relationshp that many would like to erase from the galactic dictionary"
      ],
      "text/plain": [
       "<IPython.core.display.HTML object>"
      ]
     },
     "metadata": {},
     "output_type": "display_data"
    },
    {
     "data": {
      "text/html": [
       "Quivering with fear as he <span style=\"color: rgba(0,0,255,1)\">snorted</span> <span style=\"color: rgba(0,0,255,1)\">He</span> lit another cup. He stared back at the fourfolded, building monster in front of him. It wondered intently at <span style=\"color: rgba(0,0,255,1)\">what</span> made it of a unknown <span style=\"color: rgba(0,0,255,1)\">la</span>rvel apart from it's home world.'Lets do,'( he said. Together they headed off towards Calhoun and Tarb after him to start a <span style=\"color: rgba(0,0,255,1)\">love</span>-<span style=\"color: rgba(0,0,255,1)\">discussion</span> of beings Calhoun had never before imagined<span style=\"color: rgba(0,0,255,1)\">.</span> The kind of love that existed between friends and cub advantage. Interspicular soul-<span style=\"color: rgba(0,0,255,1)\">companions</span>, it appeared and of as a rotic kind of submitant relations, that many such like to look into the galactic dictionary, rather <span style=\"color: rgba(0,0,255,1)\">[PAD]</span> it as regarded <span style=\"color: rgba(0,0,255,1)\">alone</span> and <span style=\"color: rgba(0,0,255,1)\">\"</span> <span style=\"color: rgba(0,0,255,1)\">of</span> <span style=\"color: rgba(0,0,255,1)\">of</span> become perhaps <span style=\"color: rgba(0,0,255,1)\">dim</span> it,"
      ],
      "text/plain": [
       "<IPython.core.display.HTML object>"
      ]
     },
     "metadata": {},
     "output_type": "display_data"
    },
    {
     "data": {
      "text/html": [
       "Quivering with fear as he <span style=\"color: rgba(255,0,0,0.5256787538528442)\">s</span> <span style=\"color: rgba(255,0,0,0.7788535356521606)\">and</span> lit another cup. He stared back at the fourfolded, building monster in front of him. It wondered intently at <span style=\"color: rgba(255,0,0,0.9421128034591675)\">what</span> made it of a unknown <span style=\"color: rgba(255,0,0,0.991925835609436)\">ma</span>rvel apart from it's home world.'Lets do,'( he said. Together they headed off towards Calhoun and Tarb after him to start a <span style=\"color: rgba(255,0,0,0.5322575569152832)\">half</span>-<span style=\"color: rgba(255,0,0,0.522710919380188)\">-</span> of beings Calhoun had never before imagined<span style=\"color: rgba(255,0,0,0.986459493637085)\">.</span> The kind of love that existed between friends and cub advantage. Interspicular soul-<span style=\"color: rgba(255,0,0,0.5196375250816345)\">relations</span>, it appeared and of as a rotic kind of submitant relations, that many such like to look into the galactic dictionary, rather <span style=\"color: rgba(255,0,0,0.963105320930481)\">a</span> it as regarded <span style=\"color: rgba(255,0,0,0.8435436487197876)\">what</span> and <span style=\"color: rgba(255,0,0,0.5771234035491943)\">expect</span> <span style=\"color: rgba(255,0,0,0.9700735211372375)\">of</span> <span style=\"color: rgba(255,0,0,0.9655919075012207)\">what</span> become perhaps <span style=\"color: rgba(255,0,0,0.5693298578262329)\">what</span> it, a"
      ],
      "text/plain": [
       "<IPython.core.display.HTML object>"
      ]
     },
     "metadata": {},
     "output_type": "display_data"
    },
    {
     "data": {
      "text/html": [
       "quivering with fear as he paused and lit his cup. He stared back at the fourfold<span style=\"color: rgba(0,0,255,1)\">ment</span>, building it in front of him. It gazed intently at what made it of <span style=\"color: rgba(0,0,255,1)\">some</span> unknown marveur apart from Calhoun's home world.'<span style=\"color: rgba(0,0,255,1)\">Compared</span>s do not <span style=\"color: rgba(0,0,255,1)\">phrase</span> ( it thought. Together they set off<span style=\"color: rgba(0,0,255,1)\">,</span> Mac and Ta reaction after him to have a meaningless thought of what Calhoun <span style=\"color: rgba(0,0,255,1)\">had</span> more properly imagined. The kind of relationship that existed <span style=\"color: rgba(0,0,255,1)\">from</span> friends <span style=\"color: rgba(0,0,255,1)\">in</span> cubby cabins. Perspicular soul-pool, it appeared the case as a truest kind of sort of relations, that many <span style=\"color: rgba(0,0,255,1)\">people</span> like to regard as the galactic relation, and a so <span style=\"color: rgba(0,0,255,1)\">dwelling</span> <span style=\"color: rgba(0,0,255,1)\">emblem</span> what and <span style=\"color: rgba(0,0,255,1)\">sort</span> of <span style=\"color: rgba(0,0,255,1)\">what</span>'<span style=\"color: rgba(0,0,255,1)\">is</span> active it man"
      ],
      "text/plain": [
       "<IPython.core.display.HTML object>"
      ]
     },
     "metadata": {},
     "output_type": "display_data"
    },
    {
     "data": {
      "text/html": [
       "quivering with fear as he paused and lit his cup. He stared back at the fourfold <span style=\"color: rgba(255,0,0,0.5188844203948975)\">figure</span>, building it in front of him. It gazed intently at what made it of <span style=\"color: rgba(255,0,0,0.7610705494880676)\">some</span> unknown marveur apart from Calhoun's home world.'<span style=\"color: rgba(255,0,0,0.5213759541511536)\">Heaven</span>s do not<span style=\"color: rgba(255,0,0,0.6247162222862244)\">.</span> ( it thought. Together they set off<span style=\"color: rgba(255,0,0,0.7586530447006226)\">,</span> Mac and Ta reaction after him to have a meaningless thought of what Calhoun <span style=\"color: rgba(255,0,0,0.9666293859481812)\">had</span> more properly imagined. The kind of relationship that existed <span style=\"color: rgba(255,0,0,0.9182284474372864)\">between</span> friends<span style=\"color: rgba(255,0,0,0.8863722085952759)\">'</span>cubby cabins. Perspicular soul-pool, it appeared the case as a truest kind of sort of relations, that many <span style=\"color: rgba(255,0,0,0.7103283405303955)\">would</span> like to regard as the galactic relation, and a so <span style=\"color: rgba(255,0,0,0.5426819920539856)\">pure</span><span style=\"color: rgba(255,0,0,0.5445326566696167)\">mates</span> what and<span style=\"color: rgba(255,0,0,0.5481335520744324)\">,</span> of <span style=\"color: rgba(255,0,0,0.6862705945968628)\">at</span>'<span style=\"color: rgba(255,0,0,0.6809326410293579)\">it</span> active it man this"
      ],
      "text/plain": [
       "<IPython.core.display.HTML object>"
      ]
     },
     "metadata": {},
     "output_type": "display_data"
    },
    {
     "data": {
      "text/html": [
       "quivering with fear as he paused and lit his cup. He stared back at the four <span style=\"color: rgba(0,0,255,1)\">square</span> chart, set it <span style=\"color: rgba(0,0,255,1)\">in</span> front of him. It gazed intently at what <span style=\"color: rgba(0,0,255,1)\">might</span> be but an irregular marveur apart from Calhoun'<span style=\"color: rgba(0,0,255,1)\">s</span> personal world.'<span style=\"color: rgba(0,0,255,1)\">Trouble</span>s do when t'it said. Together, carried past the <span style=\"color: rgba(0,0,255,1)\">incident</span> and forced <span style=\"color: rgba(0,0,255,1)\">simply</span> after him to give a meaningless explanation of <span style=\"color: rgba(0,0,255,1)\">what</span> Calhoun had more<span style=\"color: rgba(0,0,255,1)\">ists</span> imagined<span style=\"color: rgba(0,0,255,1)\">.</span> The kind of relationship that existed between Calhoun's mind and the Inspicu factor-pool as it appeared <span style=\"color: rgba(0,0,255,1)\">to</span> be, a truest kind of sort of relationship that one would like to regard as a galactic relation of the a <span style=\"color: rgba(0,0,255,1)\">solution</span> <span style=\"color: rgba(0,0,255,1)\">have</span> s whatr, Her,'it-it <span style=\"color: rgba(0,0,255,1)\">tiny</span>"
      ],
      "text/plain": [
       "<IPython.core.display.HTML object>"
      ]
     },
     "metadata": {},
     "output_type": "display_data"
    },
    {
     "data": {
      "text/html": [
       "quivering with fear as he paused and lit his cup. He stared back at the four <span style=\"color: rgba(255,0,0,0.5615981817245483)\">dimensional</span> chart, set it <span style=\"color: rgba(255,0,0,0.9989558458328247)\">in</span> front of him. It gazed intently at what <span style=\"color: rgba(255,0,0,0.7711596488952637)\">might</span> be but an irregular marveur apart from Calhoun'<span style=\"color: rgba(255,0,0,0.9996997117996216)\">s</span> personal world.'<span style=\"color: rgba(255,0,0,0.5267384648323059)\">Let</span>s do when t'it said. Together, carried past the <span style=\"color: rgba(255,0,0,0.5413320064544678)\">door</span> and forced <span style=\"color: rgba(255,0,0,0.7399467825889587)\">it</span> after him to give a meaningless explanation of <span style=\"color: rgba(255,0,0,0.9387270212173462)\">what</span> Calhoun had more <span style=\"color: rgba(255,0,0,0.7651264667510986)\">than</span> imagined<span style=\"color: rgba(255,0,0,0.9774542450904846)\">.</span> The kind of relationship that existed between Calhoun's mind and the Inspicu factor-pool as it appeared <span style=\"color: rgba(255,0,0,0.9983519315719604)\">to</span> be, a truest kind of sort of relationship that one would like to regard as a galactic relation of the a <span style=\"color: rgba(255,0,0,0.9781619310379028)\">the</span> <span style=\"color: rgba(255,0,0,0.5296562910079956)\">true</span> s whatr, Her,'it-it <span style=\"color: rgba(255,0,0,0.540441632270813)\">it</span> inverted"
      ],
      "text/plain": [
       "<IPython.core.display.HTML object>"
      ]
     },
     "metadata": {},
     "output_type": "display_data"
    },
    {
     "data": {
      "text/html": [
       "quivering with fear as he paused and lit his pipe. He <span style=\"color: rgba(0,0,255,1)\">stared</span> back at the strange alien group, set it in front <span style=\"color: rgba(0,0,255,1)\">of</span> him. It gazed intently at what <span style=\"color: rgba(0,0,255,1)\">might</span> be but <span style=\"color: rgba(0,0,255,1)\">an</span> <span style=\"color: rgba(0,0,255,1)\">amazing</span> <span style=\"color: rgba(0,0,255,1)\">ma</span>ldur apart from Calhoun's old world.'Alberts do,,'it <span style=\"color: rgba(0,0,255,1)\">commanded</span>. The <span style=\"color: rgba(0,0,255,1)\">giant</span> pushed past the others and forced them after him to make a meaningless explanation of what Calhoun had more than imagined. The sort of relationship that existed between Calhoun's family and the Alberts was before---were it likely to be, a highly complex sort of sort of<span style=\"color: rgba(0,0,255,1)\">craft</span>hip that Calhoun would begin to regard as a galactic relation between the <span style=\"color: rgba(0,0,255,1)\">a</span> rather of, what, of <span style=\"color: rgba(0,0,255,1)\">of</span>, world <span style=\"color: rgba(0,0,255,1)\">it</span> <span style=\"color: rgba(0,0,255,1)\">Native</span> space but"
      ],
      "text/plain": [
       "<IPython.core.display.HTML object>"
      ]
     },
     "metadata": {},
     "output_type": "display_data"
    },
    {
     "data": {
      "text/html": [
       "quivering with fear as he paused and lit his pipe. He <span style=\"color: rgba(255,0,0,0.7054645419120789)\">looked</span> back at the strange alien group, set it in front <span style=\"color: rgba(255,0,0,0.9997196793556213)\">of</span> him. It gazed intently at what <span style=\"color: rgba(255,0,0,0.7422963976860046)\">might</span> be but <span style=\"color: rgba(255,0,0,0.6497490406036377)\">a</span> <span style=\"color: rgba(255,0,0,0.6590959429740906)\">of</span> <span style=\"color: rgba(255,0,0,0.6461374163627625)\">Ba</span>ldur apart from Calhoun's old world.'Alberts do,,'it <span style=\"color: rgba(255,0,0,0.7479327917098999)\">said</span>. The <span style=\"color: rgba(255,0,0,0.5331292748451233)\">group</span> pushed past the others and forced them after him to make a meaningless explanation of what Calhoun had more than imagined. The sort of relationship that existed between Calhoun's family and the Alberts was before---were it likely to be, a highly complex sort of sort of <span style=\"color: rgba(255,0,0,0.8299872875213623)\">spaces</span>hip that Calhoun would begin to regard as a galactic relation between the <span style=\"color: rgba(255,0,0,0.8186788558959961)\">a</span> rather of, what, of<span style=\"color: rgba(255,0,0,0.7593822479248047)\">,</span>, world <span style=\"color: rgba(255,0,0,0.7726688385009766)\">might</span> <span style=\"color: rgba(255,0,0,0.685715913772583)\">might</span> space but an"
      ],
      "text/plain": [
       "<IPython.core.display.HTML object>"
      ]
     },
     "metadata": {},
     "output_type": "display_data"
    },
    {
     "data": {
      "text/html": [
       "quivering with fear, he paused and lit his pipe. He turned back to the strange alien man, set it in front of him. It gazed intently at what might be <span style=\"color: rgba(0,0,255,1)\">but</span> two of Baldur <span style=\"color: rgba(0,0,255,1)\">men</span> from Calhoun's old world.'Alberts do,,'it <span style=\"color: rgba(0,0,255,1)\">said</span><span style=\"color: rgba(0,0,255,1)\">.</span> The man pushed past the others and turned them after him to give <span style=\"color: rgba(0,0,255,1)\">a</span> meaningless explanation of what Calhoun had more than imagined. The <span style=\"color: rgba(0,0,255,1)\">kind</span> of <span style=\"color: rgba(0,0,255,1)\">communicating</span> that existed between Calhoun's land and the Alberts was---- what it seemed to be, a highly complex sort of type of spaceship that Calhoun <span style=\"color: rgba(0,0,255,1)\">would</span> begin to regard as <span style=\"color: rgba(0,0,255,1)\">a</span> galactic relation, the and was of, <span style=\"color: rgba(0,0,255,1)\">table</span>, type <span style=\"color: rgba(0,0,255,1)\">specialized</span>, the to <span style=\"color: rgba(0,0,255,1)\">This</span> <span style=\"color: rgba(0,0,255,1)\">space</span> two"
      ],
      "text/plain": [
       "<IPython.core.display.HTML object>"
      ]
     },
     "metadata": {},
     "output_type": "display_data"
    },
    {
     "data": {
      "text/html": [
       "quivering with fear, he paused and lit his pipe. He turned back to the strange alien man, set it in front of him. It gazed intently at what might be <span style=\"color: rgba(255,0,0,0.9138056039810181)\">the</span> two of Baldur <span style=\"color: rgba(255,0,0,0.5381827354431152)\">away</span> from Calhoun's old world.'Alberts do,,'it <span style=\"color: rgba(255,0,0,0.9102553129196167)\">said</span><span style=\"color: rgba(255,0,0,0.9989825487136841)\">.</span> The man pushed past the others and turned them after him to give <span style=\"color: rgba(255,0,0,0.9603229761123657)\">a</span> meaningless explanation of what Calhoun had more than imagined. The <span style=\"color: rgba(255,0,0,0.6995786428451538)\">sort</span> of <span style=\"color: rgba(255,0,0,0.64191734790802)\">space</span> that existed between Calhoun's land and the Alberts was---- what it seemed to be, a highly complex sort of type of spaceship that Calhoun <span style=\"color: rgba(255,0,0,0.7070791721343994)\">could</span> begin to regard as <span style=\"color: rgba(255,0,0,0.9888396859169006)\">a</span> galactic relation, the and was of, <span style=\"color: rgba(255,0,0,0.5782771110534668)\">complex</span>, type <span style=\"color: rgba(255,0,0,0.5247467160224915)\">strange</span>, the to <span style=\"color: rgba(255,0,0,0.8131215572357178)\">the</span> <span style=\"color: rgba(255,0,0,0.6139011979103088)\">Albert</span> two two"
      ],
      "text/plain": [
       "<IPython.core.display.HTML object>"
      ]
     },
     "metadata": {},
     "output_type": "display_data"
    },
    {
     "data": {
      "text/html": [
       "quivering with fear, he paused and lit his pipe. He turned back to the table jeter, stood it in front of him. He looked intently at what might be the gift from Baldur and from Calhoun's <span style=\"color: rgba(0,0,255,1)\">old</span> friend.'Slaves ships,'' it said. The <span style=\"color: rgba(0,0,255,1)\">operator</span> walked past the men and stood <span style=\"color: rgba(0,0,255,1)\">next</span> <span style=\"color: rgba(0,0,255,1)\">after</span> them to give a meaningless explanation of what Calhoun had more <span style=\"color: rgba(0,0,255,1)\">than</span> imagined. The form of <span style=\"color: rgba(0,0,255,1)\">ship</span> that existed between Calhoun's <span style=\"color: rgba(0,0,255,1)\">slaves</span> and the rifts was---- as it seemed to him, a highly complex sort of sort of spaceship that Calhoun could begin to perceive as a <span style=\"color: rgba(0,0,255,1)\">scan</span><span style=\"color: rgba(0,0,255,1)\">actic</span> <span style=\"color: rgba(0,0,255,1)\">course</span>, finally a was of, stared, <span style=\"color: rgba(0,0,255,1)\">thing</span> <span style=\"color: rgba(0,0,255,1)\">what</span>, the what Whichroth <span style=\"color: rgba(0,0,255,1)\">man</span>"
      ],
      "text/plain": [
       "<IPython.core.display.HTML object>"
      ]
     },
     "metadata": {},
     "output_type": "display_data"
    },
    {
     "data": {
      "text/html": [
       "quivering with fear, he paused and lit his pipe. He turned back to the table jeter, stood it in front of him. He looked intently at what might be the gift from Baldur and from Calhoun's <span style=\"color: rgba(255,0,0,0.5949382185935974)\">old</span> friend.'Slaves ships,'' it said. The <span style=\"color: rgba(255,0,0,0.5710678100585938)\">man</span> walked past the men and stood <span style=\"color: rgba(255,0,0,0.6059858798980713)\">up</span> <span style=\"color: rgba(255,0,0,0.7427874803543091)\">for</span> them to give a meaningless explanation of what Calhoun had more <span style=\"color: rgba(255,0,0,0.6587202548980713)\">than</span> imagined. The form of <span style=\"color: rgba(255,0,0,0.593429446220398)\">space</span> that existed between Calhoun's <span style=\"color: rgba(255,0,0,0.6389737129211426)\">ship</span> and the rifts was---- as it seemed to him, a highly complex sort of sort of spaceship that Calhoun could begin to perceive as a <span style=\"color: rgba(255,0,0,0.526313066482544)\">matter</span> <span style=\"color: rgba(255,0,0,0.5427305102348328)\">of</span><span style=\"color: rgba(255,0,0,0.5362197160720825)\">ly</span>, finally a was of, stared, <span style=\"color: rgba(255,0,0,0.6210799813270569)\">ship</span> <span style=\"color: rgba(255,0,0,0.5437586307525635)\">new</span>, the what Whichroth <span style=\"color: rgba(255,0,0,0.5445141196250916)\">other</span>,"
      ],
      "text/plain": [
       "<IPython.core.display.HTML object>"
      ]
     },
     "metadata": {},
     "output_type": "display_data"
    },
    {
     "data": {
      "text/html": [
       "quivering with fear, he paused and lit his pipe. He <span style=\"color: rgba(0,0,255,1)\">turned</span> back to <span style=\"color: rgba(0,0,255,1)\">the</span> clinker, pushed it in front of him. He looked intently at what might be the gift from Baldur and from Calhoun's only friend.'<span style=\"color: rgba(0,0,255,1)\">Turn</span>s ships,'' he said. The <span style=\"color: rgba(0,0,255,1)\">words</span> walked past the screen and <span style=\"color: rgba(0,0,255,1)\">stood</span> up with them to give a careless explanation of what he had more than seen. The con<span style=\"color: rgba(0,0,255,1)\">ical</span> business that was between Calhoun's <span style=\"color: rgba(0,0,255,1)\">breath</span> and the same, was<span style=\"color: rgba(0,0,255,1)\">-</span>- -, as it seemed to him, a highly complex sort of sort <span style=\"color: rgba(0,0,255,1)\">of</span> spaces<span style=\"color: rgba(0,0,255,1)\">hip</span> that Calhoun would begin to perceive as a matter of fact, <span style=\"color: rgba(0,0,255,1)\">namely</span>, Calhoun <span style=\"color: rgba(0,0,255,1)\">of</span>, s, Actually,, perhaps Re <span style=\"color: rgba(0,0,255,1)\">Board</span> be <span style=\"color: rgba(0,0,255,1)\">gift</span>"
      ],
      "text/plain": [
       "<IPython.core.display.HTML object>"
      ]
     },
     "metadata": {},
     "output_type": "display_data"
    },
    {
     "data": {
      "text/html": [
       "quivering with fear, he paused and lit his pipe. He <span style=\"color: rgba(255,0,0,0.7956291437149048)\">went</span> back to <span style=\"color: rgba(255,0,0,0.8968167304992676)\">the</span> clinker, pushed it in front of him. He looked intently at what might be the gift from Baldur and from Calhoun's only friend.'<span style=\"color: rgba(255,0,0,0.5193644762039185)\">Put</span>s ships,'' he said. The <span style=\"color: rgba(255,0,0,0.6140701174736023)\">man</span> walked past the screen and <span style=\"color: rgba(255,0,0,0.5804078578948975)\">stood</span> up with them to give a careless explanation of what he had more than seen. The con<span style=\"color: rgba(255,0,0,0.7147130966186523)\">ical</span> business that was between Calhoun's <span style=\"color: rgba(255,0,0,0.6758356690406799)\">mind</span> and the same, was <span style=\"color: rgba(255,0,0,0.5239665508270264)\">a</span>--, as it seemed to him, a highly complex sort of sort <span style=\"color: rgba(255,0,0,0.9992462396621704)\">of</span> spaces<span style=\"color: rgba(255,0,0,0.9567611217498779)\">hip</span> that Calhoun would begin to perceive as a matter of fact, <span style=\"color: rgba(255,0,0,0.5496276021003723)\">was</span>, Calhoun <span style=\"color: rgba(255,0,0,0.640748918056488)\">mind</span>, s, Actually,, perhaps Re <span style=\"color: rgba(255,0,0,0.5157274007797241)\">Get</span> be <span style=\"color: rgba(255,0,0,0.8430905342102051)\">of</span> gift"
      ],
      "text/plain": [
       "<IPython.core.display.HTML object>"
      ]
     },
     "metadata": {},
     "output_type": "display_data"
    },
    {
     "data": {
      "text/html": [
       "quivering with fear, he paused and lit his pipe. He went back <span style=\"color: rgba(0,0,255,1)\">to</span> the clinker and pushed it in <span style=\"color: rgba(0,0,255,1)\">either</span> of him. He stared intently at what remained of the attackers <span style=\"color: rgba(0,0,255,1)\">on</span> Baldur and from Calhoun<span style=\"color: rgba(0,0,255,1)\">'</span>s only friend.'<span style=\"color: rgba(0,0,255,1)\">Main</span> to ships,<span style=\"color: rgba(0,0,255,1)\">'</span>' he said. The <span style=\"color: rgba(0,0,255,1)\">girls</span> started at the screen and stood up with them to <span style=\"color: rgba(0,0,255,1)\">give</span> a careless explanation of what they had more than seen. The conical screen that was between Calhoun's room and the ship, the tube close-to, it seemed to be, a very complex sort of sort of spaceship that Calhoun would <span style=\"color: rgba(0,0,255,1)\">fall</span> to<span style=\"color: rgba(0,0,255,1)\">,</span> as a matter of fact, apparently was Calhoun very, s. peculiar <span style=\"color: rgba(0,0,255,1)\">the</span>, was'<span style=\"color: rgba(0,0,255,1)\">gang</span> Turning <span style=\"color: rgba(0,0,255,1)\">survivor</span>"
      ],
      "text/plain": [
       "<IPython.core.display.HTML object>"
      ]
     },
     "metadata": {},
     "output_type": "display_data"
    },
    {
     "data": {
      "text/html": [
       "quivering with fear, he paused and lit his pipe. He went back <span style=\"color: rgba(255,0,0,0.9926342964172363)\">to</span> the clinker and pushed it in <span style=\"color: rgba(255,0,0,0.815951406955719)\">front</span> of him. He stared intently at what remained of the attackers <span style=\"color: rgba(255,0,0,0.8127789497375488)\">of</span> Baldur and from Calhoun<span style=\"color: rgba(255,0,0,0.9951003193855286)\">'</span>s only friend.'<span style=\"color: rgba(255,0,0,0.5252869129180908)\">Close</span> to ships,<span style=\"color: rgba(255,0,0,0.9477561712265015)\">'</span>' he said. The <span style=\"color: rgba(255,0,0,0.6141246557235718)\">men</span> started at the screen and stood up with them to <span style=\"color: rgba(255,0,0,0.7805021405220032)\">make</span> a careless explanation of what they had more than seen. The conical screen that was between Calhoun's room and the ship, the tube close-to, it seemed to be, a very complex sort of sort of spaceship that Calhoun would <span style=\"color: rgba(255,0,0,0.6752712726593018)\">have</span> to<span style=\"color: rgba(255,0,0,0.5322996377944946)\">,</span> as a matter of fact, apparently was Calhoun very, s. peculiar <span style=\"color: rgba(255,0,0,0.5335339307785034)\">small</span>, was'<span style=\"color: rgba(255,0,0,0.5366964340209961)\">mass</span> Turning <span style=\"color: rgba(255,0,0,0.5637154579162598)\">all</span> <span style=\"color: rgba(255,0,0,0.6096043586730957)\">left</span>"
      ],
      "text/plain": [
       "<IPython.core.display.HTML object>"
      ]
     },
     "metadata": {},
     "output_type": "display_data"
    },
    {
     "data": {
      "text/html": [
       "quivering with fear, he turned and lit his pipe. He went back to the slinker and pushed it in front of him, He stared intently at what became <span style=\"color: rgba(0,0,255,1)\">of</span> the <span style=\"color: rgba(0,0,255,1)\">people</span> of Ba<span style=\"color: rgba(0,0,255,1)\">ld</span>ur and of Calhoun<span style=\"color: rgba(0,0,255,1)\">'</span>s only friend.'Come to now,'' he said. The others started at his side and stood up with them to make a careless explanation of what they had more than seen. <span style=\"color: rgba(0,0,255,1)\">The</span> conical screen that was between Calhoun's room and the ship, was directly close-to-it seemed to be, a very complex sort and <span style=\"color: rgba(0,0,255,1)\">sort</span> of spaceship that Calhoun would have to use as a matter of fact, apparently was a <span style=\"color: rgba(0,0,255,1)\">very</span>, of of <span style=\"color: rgba(0,0,255,1)\">sort</span> <span style=\"color: rgba(0,0,255,1)\">impossible</span>, had <span style=\"color: rgba(0,0,255,1)\">barrage</span> was it <span style=\"color: rgba(0,0,255,1)\">creature</span>"
      ],
      "text/plain": [
       "<IPython.core.display.HTML object>"
      ]
     },
     "metadata": {},
     "output_type": "display_data"
    },
    {
     "data": {
      "text/html": [
       "quivering with fear, he turned and lit his pipe. He went back to the slinker and pushed it in front of him, He stared intently at what became <span style=\"color: rgba(255,0,0,0.6586998701095581)\">of</span> the <span style=\"color: rgba(255,0,0,0.5794260501861572)\">face</span> of Ba<span style=\"color: rgba(255,0,0,0.9712859392166138)\">ld</span>ur and of Calhoun<span style=\"color: rgba(255,0,0,0.9984602928161621)\">'</span>s only friend.'Come to now,'' he said. The others started at his side and stood up with them to make a careless explanation of what they had more than seen. <span style=\"color: rgba(255,0,0,0.9756150841712952)\">The</span> conical screen that was between Calhoun's room and the ship, was directly close-to-it seemed to be, a very complex sort and <span style=\"color: rgba(255,0,0,0.687713086605072)\">sort</span> of spaceship that Calhoun would have to use as a matter of fact, apparently was a <span style=\"color: rgba(255,0,0,0.5533503890037537)\">very</span>, of of <span style=\"color: rgba(255,0,0,0.7620000839233398)\">sort</span> <span style=\"color: rgba(255,0,0,0.5992170572280884)\">a</span>, had <span style=\"color: rgba(255,0,0,0.5629321336746216)\">almost</span> was it <span style=\"color: rgba(255,0,0,0.7072399854660034)\">it</span>,"
      ],
      "text/plain": [
       "<IPython.core.display.HTML object>"
      ]
     },
     "metadata": {},
     "output_type": "display_data"
    },
    {
     "data": {
      "text/html": [
       "quivering with fear, he rose and lit his pipe. He went back to the smither and pushed it in front of him. He stared intently at what <span style=\"color: rgba(0,0,255,1)\">seemed</span> of the <span style=\"color: rgba(0,0,255,1)\">floor</span> <span style=\"color: rgba(0,0,255,1)\">of</span> Baldur and of Calhoun's only chance.'<span style=\"color: rgba(0,0,255,1)\">Come</span> to it,'' he said. The others started at his <span style=\"color: rgba(0,0,255,1)\">suggestion</span> and stood up with them to make a moody examination of what they had more than seen. The conical screen that was between Calhoun's room and the <span style=\"color: rgba(0,0,255,1)\">laboratory</span>, <span style=\"color: rgba(0,0,255,1)\">was</span> directly close <span style=\"color: rgba(0,0,255,1)\">together</span>-- it seemed to be, a very <span style=\"color: rgba(0,0,255,1)\">complex</span> sort of <span style=\"color: rgba(0,0,255,1)\">ship</span>able spaceship that Calhoun would have to explore as a matter of fact, apparently-a complex, of of <span style=\"color: rgba(0,0,255,1)\">kind</span> of it <span style=\"color: rgba(0,0,255,1)\">he</span> it<span style=\"color: rgba(0,0,255,1)\">lite</span> it <span style=\"color: rgba(0,0,255,1)\">explanation</span>"
      ],
      "text/plain": [
       "<IPython.core.display.HTML object>"
      ]
     },
     "metadata": {},
     "output_type": "display_data"
    },
    {
     "data": {
      "text/html": [
       "quivering with fear, he rose and lit his pipe. He went back to the smither and pushed it in front of him. He stared intently at what <span style=\"color: rgba(255,0,0,0.7005929946899414)\">was</span> of the <span style=\"color: rgba(255,0,0,0.5287703275680542)\">men</span> <span style=\"color: rgba(255,0,0,0.8810338377952576)\">of</span> Baldur and of Calhoun's only chance.'<span style=\"color: rgba(255,0,0,0.5872676372528076)\">Come</span> to it,'' he said. The others started at his <span style=\"color: rgba(255,0,0,0.6064053773880005)\">side</span> and stood up with them to make a moody examination of what they had more than seen. The conical screen that was between Calhoun's room and the <span style=\"color: rgba(255,0,0,0.5524440407752991)\">ship</span>, <span style=\"color: rgba(255,0,0,0.9086800813674927)\">was</span> directly close <span style=\"color: rgba(255,0,0,0.6283759474754333)\">by</span>-- it seemed to be, a very <span style=\"color: rgba(255,0,0,0.5748891234397888)\">small</span> sort of <span style=\"color: rgba(255,0,0,0.5712043046951294)\">habit</span>able spaceship that Calhoun would have to explore as a matter of fact, apparently-a complex, of of <span style=\"color: rgba(255,0,0,0.5694132447242737)\">adapt</span> of it <span style=\"color: rgba(255,0,0,0.7280837893486023)\">was</span> it <span style=\"color: rgba(255,0,0,0.5507466197013855)\">Come</span> it <span style=\"color: rgba(255,0,0,0.5263376832008362)\">world</span> matter"
      ],
      "text/plain": [
       "<IPython.core.display.HTML object>"
      ]
     },
     "metadata": {},
     "output_type": "display_data"
    },
    {
     "data": {
      "text/html": [
       "quivering with fear, he rose and lit his pipe. He went back to <span style=\"color: rgba(0,0,255,1)\">the</span> swart<span style=\"color: rgba(0,0,255,1)\">oud</span> and pushed it out front of <span style=\"color: rgba(0,0,255,1)\">him</span>. He stared intently at what remained of the Three of Baldur and of Calhoun's only one.'<span style=\"color: rgba(0,0,255,1)\">Listen</span> to it,'' <span style=\"color: rgba(0,0,255,1)\">he</span> said. The others started at a <span style=\"color: rgba(0,0,255,1)\">more</span> and stood up with them to obtain a more careful view of those they had so <span style=\"color: rgba(0,0,255,1)\">well</span> seen. <span style=\"color: rgba(0,0,255,1)\">A</span> <span style=\"color: rgba(0,0,255,1)\">con</span>ical barrier that was between Calhoun's room and the compartment, was directly close to-- it seemed to him, a very strange sort of <span style=\"color: rgba(0,0,255,1)\">quite</span> dynamic spaceship that Calhoun would have to explore as a matter of fact, apparently-he <span style=\"color: rgba(0,0,255,1)\">new</span><span style=\"color: rgba(0,0,255,1)\">,</span> of of sort-<span style=\"color: rgba(0,0,255,1)\">it</span> showed it remainedy <span style=\"color: rgba(0,0,255,1)\">never</span>"
      ],
      "text/plain": [
       "<IPython.core.display.HTML object>"
      ]
     },
     "metadata": {},
     "output_type": "display_data"
    },
    {
     "data": {
      "text/html": [
       "quivering with fear, he rose and lit his pipe. He went back to <span style=\"color: rgba(255,0,0,0.8716893196105957)\">the</span> swart<span style=\"color: rgba(255,0,0,0.5630733370780945)\">t</span> and pushed it out front of <span style=\"color: rgba(255,0,0,0.9870249032974243)\">him</span>. He stared intently at what remained of the Three of Baldur and of Calhoun's only one.'<span style=\"color: rgba(255,0,0,0.5563571453094482)\">Nothing</span> to it,'' <span style=\"color: rgba(255,0,0,0.9993252754211426)\">he</span> said. The others started at a <span style=\"color: rgba(255,0,0,0.6234408617019653)\">run</span> and stood up with them to obtain a more careful view of those they had so <span style=\"color: rgba(255,0,0,0.6426292657852173)\">far</span> seen. <span style=\"color: rgba(255,0,0,0.9770205020904541)\">The</span> <span style=\"color: rgba(255,0,0,0.9403093457221985)\">con</span>ical barrier that was between Calhoun's room and the compartment, was directly close to-- it seemed to him, a very strange sort of <span style=\"color: rgba(255,0,0,0.5709399580955505)\">highly</span> dynamic spaceship that Calhoun would have to explore as a matter of fact, apparently-he <span style=\"color: rgba(255,0,0,0.5470923185348511)\">very</span> <span style=\"color: rgba(255,0,0,0.6120256781578064)\">very</span> of of sort-<span style=\"color: rgba(255,0,0,0.5960210561752319)\">it</span> showed it remainedy<span style=\"color: rgba(255,0,0,0.5803122520446777)\">h</span> Three"
      ],
      "text/plain": [
       "<IPython.core.display.HTML object>"
      ]
     },
     "metadata": {},
     "output_type": "display_data"
    },
    {
     "data": {
      "text/html": [
       "quivering with fear, he rose and lit his pipe. He went back to his s<span style=\"color: rgba(0,0,255,1)\">nas</span><span style=\"color: rgba(0,0,255,1)\">ier</span> and pushed it out front of him. He <span style=\"color: rgba(0,0,255,1)\">stared</span> intently at what remained of <span style=\"color: rgba(0,0,255,1)\">the</span> Three-Baldry<span style=\"color: rgba(0,0,255,1)\">s</span> of <span style=\"color: rgba(0,0,255,1)\">Paul</span>'s only friend<span style=\"color: rgba(0,0,255,1)\">.</span>'Nothing to do,'' he said. The others started at a run and stood up beside them to keep a very good view of what they had so often seen. The air-barrier that was between Calhoun's room and the compartment, <span style=\"color: rgba(0,0,255,1)\">was</span> <span style=\"color: rgba(0,0,255,1)\">very</span> close to-- it seemed to him, a very strange sort of type of spaceship that <span style=\"color: rgba(0,0,255,1)\">he</span> would have to escape as a matter of fact, apparently perhaps a rather rather of of sort strange at. was washing was"
      ],
      "text/plain": [
       "<IPython.core.display.HTML object>"
      ]
     },
     "metadata": {},
     "output_type": "display_data"
    },
    {
     "data": {
      "text/html": [
       "quivering with fear, he rose and lit his pipe. He went back to his s<span style=\"color: rgba(255,0,0,0.5329232811927795)\">to</span><span style=\"color: rgba(255,0,0,0.5856264233589172)\">op</span> and pushed it out front of him. He <span style=\"color: rgba(255,0,0,0.838886559009552)\">looked</span> intently at what remained of <span style=\"color: rgba(255,0,0,0.9734758138656616)\">the</span> Three-Baldry<span style=\"color: rgba(255,0,0,0.7292052507400513)\">,</span> of <span style=\"color: rgba(255,0,0,0.9858901500701904)\">Calhoun</span>'s only friend<span style=\"color: rgba(255,0,0,0.9994804859161377)\">.</span>'Nothing to do,'' he said. The others started at a run and stood up beside them to keep a very good view of what they had so often seen. The air-barrier that was between Calhoun's room and the compartment, <span style=\"color: rgba(255,0,0,0.7063210010528564)\">was</span> <span style=\"color: rgba(255,0,0,0.591228187084198)\">too</span> close to-- it seemed to him, a very strange sort of type of spaceship that <span style=\"color: rgba(255,0,0,0.7500115633010864)\">Calhoun</span> would have to escape as a matter of fact, apparently perhaps a rather rather of of sort strange at. was washing was,"
      ],
      "text/plain": [
       "<IPython.core.display.HTML object>"
      ]
     },
     "metadata": {},
     "output_type": "display_data"
    },
    {
     "data": {
      "text/html": [
       "quivering with fear, he stopped and lit his pipe. He went back to the stoker and put it out front of him<span style=\"color: rgba(0,0,255,1)\">.</span> He looked <span style=\"color: rgba(0,0,255,1)\">around</span> at what remained of the <span style=\"color: rgba(0,0,255,1)\">Three</span>. Baldry thought of Calhoun's only friend.'Nothing to see,'the man said. The others followed at a run and stood <span style=\"color: rgba(0,0,255,1)\">up</span> behind them to keep a very good view of what they had so far seen<span style=\"color: rgba(0,0,255,1)\">.</span> The air-barrier that was between Calhoun's room <span style=\"color: rgba(0,0,255,1)\">and</span> the ship, was very close now-- it seemed to him, a very strange type of <span style=\"color: rgba(0,0,255,1)\">type</span> of spaceship that he would have to <span style=\"color: rgba(0,0,255,1)\">absorb</span> as a matter of course to <span style=\"color: rgba(0,0,255,1)\">each</span>, a rather rather of of <span style=\"color: rgba(0,0,255,1)\">variation</span> <span style=\"color: rgba(0,0,255,1)\">wonderful</span> at <span style=\"color: rgba(0,0,255,1)\">what</span> the <span style=\"color: rgba(0,0,255,1)\">departed</span> them the"
      ],
      "text/plain": [
       "<IPython.core.display.HTML object>"
      ]
     },
     "metadata": {},
     "output_type": "display_data"
    },
    {
     "data": {
      "text/html": [
       "quivering with fear, he stopped and lit his pipe. He went back to the stoker and put it out front of him<span style=\"color: rgba(255,0,0,0.9995777010917664)\">.</span> He looked <span style=\"color: rgba(255,0,0,0.6389138698577881)\">down</span> at what remained of the <span style=\"color: rgba(255,0,0,0.585863471031189)\">ship</span>. Baldry thought of Calhoun's only friend.'Nothing to see,'the man said. The others followed at a run and stood <span style=\"color: rgba(255,0,0,0.7314035892486572)\">close</span> behind them to keep a very good view of what they had so far seen<span style=\"color: rgba(255,0,0,0.9997959733009338)\">.</span> The air-barrier that was between Calhoun's room <span style=\"color: rgba(255,0,0,0.997902512550354)\">and</span> the ship, was very close now-- it seemed to him, a very strange type of <span style=\"color: rgba(255,0,0,0.864275336265564)\">type</span> of spaceship that he would have to <span style=\"color: rgba(255,0,0,0.5667397975921631)\">use</span> as a matter of course to <span style=\"color: rgba(255,0,0,0.8208614587783813)\">him</span>, a rather rather of of <span style=\"color: rgba(255,0,0,0.8554773926734924)\">type</span> <span style=\"color: rgba(255,0,0,0.519643247127533)\">wrecked</span> at <span style=\"color: rgba(255,0,0,0.8207491636276245)\">the</span> the <span style=\"color: rgba(255,0,0,0.5739037990570068)\">cargo</span> them the,"
      ],
      "text/plain": [
       "<IPython.core.display.HTML object>"
      ]
     },
     "metadata": {},
     "output_type": "display_data"
    },
    {
     "data": {
      "text/html": [
       "quivering with fear, he stopped and lit his pipe. He went back to the stoker and put it out front of him<span style=\"color: rgba(0,0,255,1)\">.</span> He looked back at what remained of <span style=\"color: rgba(0,0,255,1)\">the</span> ship. Baldur thought of Calhoun's old friend.'<span style=\"color: rgba(0,0,255,1)\">Got</span> to see,'the man said. The others followed at a <span style=\"color: rgba(0,0,255,1)\">run</span> and stood close <span style=\"color: rgba(0,0,255,1)\">with</span> them to keep a very <span style=\"color: rgba(0,0,255,1)\">plain</span> view <span style=\"color: rgba(0,0,255,1)\">of</span> <span style=\"color: rgba(0,0,255,1)\">what</span> they had so far seen. The air-line which was between Calhoun's room and the ship, was very close now-- it was to him, a very strange type of <span style=\"color: rgba(0,0,255,1)\">type</span> of spaceship that he would have to use as a matter of course to him,, <span style=\"color: rgba(0,0,255,1)\">room</span>'the of type <span style=\"color: rgba(0,0,255,1)\">small</span> at the the <span style=\"color: rgba(0,0,255,1)\">hooks</span> of <span style=\"color: rgba(0,0,255,1)\">of</span>"
      ],
      "text/plain": [
       "<IPython.core.display.HTML object>"
      ]
     },
     "metadata": {},
     "output_type": "display_data"
    },
    {
     "data": {
      "text/html": [
       "quivering with fear, he stopped and lit his pipe. He went back to the stoker and put it out front of him<span style=\"color: rgba(255,0,0,0.9993823766708374)\">.</span> He looked back at what remained of <span style=\"color: rgba(255,0,0,0.9947713613510132)\">the</span> ship. Baldur thought of Calhoun's old friend.'<span style=\"color: rgba(255,0,0,0.5488009452819824)\">Come</span> to see,'the man said. The others followed at a <span style=\"color: rgba(255,0,0,0.6183565258979797)\">run</span> and stood close <span style=\"color: rgba(255,0,0,0.6618478298187256)\">to</span> them to keep a very <span style=\"color: rgba(255,0,0,0.6076435446739197)\">close</span> view <span style=\"color: rgba(255,0,0,0.9956597089767456)\">of</span> <span style=\"color: rgba(255,0,0,0.972044825553894)\">what</span> they had so far seen. The air-line which was between Calhoun's room and the ship, was very close now-- it was to him, a very strange type of <span style=\"color: rgba(255,0,0,0.8112806081771851)\">type</span> of spaceship that he would have to use as a matter of course to him,, <span style=\"color: rgba(255,0,0,0.5579149127006531)\">sort</span>'the of type <span style=\"color: rgba(255,0,0,0.5866954326629639)\">the</span> at the the <span style=\"color: rgba(255,0,0,0.5232425928115845)\">Glad</span> of <span style=\"color: rgba(255,0,0,0.9973520040512085)\">the</span> <span style=\"color: rgba(255,0,0,0.6687156558036804)\">it</span>"
      ],
      "text/plain": [
       "<IPython.core.display.HTML object>"
      ]
     },
     "metadata": {},
     "output_type": "display_data"
    },
    {
     "data": {
      "text/html": [
       "quivering with fear, <span style=\"color: rgba(0,0,255,1)\">he</span> stopped and lit his pipe. He looked back to the stoker and put it out front <span style=\"color: rgba(0,0,255,1)\">of</span> him. He looked back at Calhoun told of the fact <span style=\"color: rgba(0,0,255,1)\">of</span> Baldur told of <span style=\"color: rgba(0,0,255,1)\">Calhoun</span>'<span style=\"color: rgba(0,0,255,1)\">s</span> old friend.'Have to see,'the man said. The others followed at a run and stood close to them to keep a very closeness of what they had so far done. <span style=\"color: rgba(0,0,255,1)\">An</span> air-line <span style=\"color: rgba(0,0,255,1)\">signal</span> was in Calhoun's room and the <span style=\"color: rgba(0,0,255,1)\">lone</span> wreck was very close and-- it came to him, a very strange type of type of spaceship that he should have to <span style=\"color: rgba(0,0,255,1)\">consider</span> as a matter of course to him,, very <span style=\"color: rgba(0,0,255,1)\">a</span> <span style=\"color: rgba(0,0,255,1)\">historical</span> <span style=\"color: rgba(0,0,255,1)\">great</span> type informed at <span style=\"color: rgba(0,0,255,1)\">incorrect</span> <span style=\"color: rgba(0,0,255,1)\">what</span> said of the"
      ],
      "text/plain": [
       "<IPython.core.display.HTML object>"
      ]
     },
     "metadata": {},
     "output_type": "display_data"
    },
    {
     "data": {
      "text/html": [
       "quivering with fear, <span style=\"color: rgba(255,0,0,0.7693362236022949)\">he</span> stopped and lit his pipe. He looked back to the stoker and put it out front <span style=\"color: rgba(255,0,0,0.9796874523162842)\">of</span> him. He looked back at Calhoun told of the fact <span style=\"color: rgba(255,0,0,0.9328641891479492)\">that</span> Baldur told of <span style=\"color: rgba(255,0,0,0.6507647037506104)\">Calhoun</span>'<span style=\"color: rgba(255,0,0,0.9923120737075806)\">s</span> old friend.'Have to see,'the man said. The others followed at a run and stood close to them to keep a very closeness of what they had so far done. <span style=\"color: rgba(255,0,0,0.911389172077179)\">The</span> air-line <span style=\"color: rgba(255,0,0,0.58147794008255)\">radio</span> was in Calhoun's room and the <span style=\"color: rgba(255,0,0,0.6264533996582031)\">space</span> wreck was very close and-- it came to him, a very strange type of type of spaceship that he should have to <span style=\"color: rgba(255,0,0,0.5278462171554565)\">build</span> as a matter of course to him,, very <span style=\"color: rgba(255,0,0,0.991862952709198)\">s</span><span style=\"color: rgba(255,0,0,0.7839382886886597)\">,</span> <span style=\"color: rgba(255,0,0,0.5543341636657715)\">s</span> type informed at <span style=\"color: rgba(255,0,0,0.8507888913154602)\">and</span> <span style=\"color: rgba(255,0,0,0.9612545967102051)\">and</span> said of the,"
      ],
      "text/plain": [
       "<IPython.core.display.HTML object>"
      ]
     },
     "metadata": {},
     "output_type": "display_data"
    },
    {
     "data": {
      "text/html": [
       "quivering with anger, and stopped and lit his pipe. <span style=\"color: rgba(0,0,255,1)\">He</span> looked back to the stoker and put it out front of him<span style=\"color: rgba(0,0,255,1)\">.</span> He looked <span style=\"color: rgba(0,0,255,1)\">back</span> at Calhoun out of the sense that Baldur was of Calhoun's other world.'Want to see,'the <span style=\"color: rgba(0,0,255,1)\">man</span> said. The other went at a run and stood up to them to keep a very close account of <span style=\"color: rgba(0,0,255,1)\">what</span> they had so far done. The air-ship operator was in Calhoun's room but the space <span style=\"color: rgba(0,0,255,1)\">wreck</span> was very smokeless-- it came <span style=\"color: rgba(0,0,255,1)\">to</span> him as a very strange type of type of spaceship that he would have to apply as a matter of course-him,, very own <span style=\"color: rgba(0,0,255,1)\">own</span> the <span style=\"color: rgba(0,0,255,1)\">sort</span> of at and again <span style=\"color: rgba(0,0,255,1)\">little</span> of fact"
      ],
      "text/plain": [
       "<IPython.core.display.HTML object>"
      ]
     },
     "metadata": {},
     "output_type": "display_data"
    },
    {
     "data": {
      "text/html": [
       "quivering with anger, and stopped and lit his pipe. <span style=\"color: rgba(255,0,0,0.9544275999069214)\">He</span> looked back to the stoker and put it out front of him<span style=\"color: rgba(255,0,0,0.9998130798339844)\">.</span> He looked <span style=\"color: rgba(255,0,0,0.8309311270713806)\">back</span> at Calhoun out of the sense that Baldur was of Calhoun's other world.'Want to see,'the <span style=\"color: rgba(255,0,0,0.6339266300201416)\">man</span> said. The other went at a run and stood up to them to keep a very close account of <span style=\"color: rgba(255,0,0,0.9477130770683289)\">what</span> they had so far done. The air-ship operator was in Calhoun's room but the space<span style=\"color: rgba(255,0,0,0.7917177677154541)\">r</span> was very smokeless-- it came <span style=\"color: rgba(255,0,0,0.9601465463638306)\">to</span> him as a very strange type of type of spaceship that he would have to apply as a matter of course-him,, very own <span style=\"color: rgba(255,0,0,0.5888913869857788)\">strange</span> the<span style=\"color: rgba(255,0,0,0.7297422885894775)\">hip</span> of at and again <span style=\"color: rgba(255,0,0,0.5903193950653076)\">Just</span> of fact sense"
      ],
      "text/plain": [
       "<IPython.core.display.HTML object>"
      ]
     },
     "metadata": {},
     "output_type": "display_data"
    },
    {
     "data": {
      "text/html": [
       "quivering with anger, and stopped and lit his pipe. He looked back to the stoker and saw it out front of him. He looked back at Calhoun out of the <span style=\"color: rgba(0,0,255,1)\">way</span> that Ba<span style=\"color: rgba(0,0,255,1)\">ld</span>ur knew of Calhoun's other <span style=\"color: rgba(0,0,255,1)\">decisions</span>.'Glad to see,'the man said. The other went at a run and stood up to <span style=\"color: rgba(0,0,255,1)\">them</span> to keep a very close account of what they had so far done. <span style=\"color: rgba(0,0,255,1)\">The</span> air-<span style=\"color: rgba(0,0,255,1)\">ship</span> operator was in Calhoun's mind; the spacer was very careless-- it came to him as a very strange type of <span style=\"color: rgba(0,0,255,1)\">type</span> of spaceship that he would have to apply as a matter of course--,, <span style=\"color: rgba(0,0,255,1)\">role</span> different of the type <span style=\"color: rgba(0,0,255,1)\">of</span> at and again, way way"
      ],
      "text/plain": [
       "<IPython.core.display.HTML object>"
      ]
     },
     "metadata": {},
     "output_type": "display_data"
    },
    {
     "data": {
      "text/html": [
       "quivering with anger, and stopped and lit his pipe. He looked back to the stoker and saw it out front of him. He looked back at Calhoun out of the <span style=\"color: rgba(255,0,0,0.7746913433074951)\">fact</span> that Ba<span style=\"color: rgba(255,0,0,0.9091331958770752)\">ld</span>ur knew of Calhoun's other <span style=\"color: rgba(255,0,0,0.5458895564079285)\">mind</span>.'Glad to see,'the man said. The other went at a run and stood up to <span style=\"color: rgba(255,0,0,0.6627483367919922)\">try</span> to keep a very close account of what they had so far done. <span style=\"color: rgba(255,0,0,0.8389250040054321)\">The</span> air-<span style=\"color: rgba(255,0,0,0.5398526787757874)\">conditioned</span> operator was in Calhoun's mind; the spacer was very careless-- it came to him as a very strange type of <span style=\"color: rgba(255,0,0,0.7985183596611023)\">type</span> of spaceship that he would have to apply as a matter of course--,, <span style=\"color: rgba(255,0,0,0.531062126159668)\">name</span> different of the type <span style=\"color: rgba(255,0,0,0.6168766021728516)\">a</span> at and again, way way sense"
      ],
      "text/plain": [
       "<IPython.core.display.HTML object>"
      ]
     },
     "metadata": {},
     "output_type": "display_data"
    },
    {
     "data": {
      "text/html": [
       "<span style=\"color: rgba(0,0,255,1)\">q</span>uivering with anger, and went and blowing his pipe. He went back to the stok<span style=\"color: rgba(0,0,255,1)\">er</span> and put it in front of him. He looked back at Calhoun out of<span style=\"color: rgba(0,0,255,1)\">al</span> <span style=\"color: rgba(0,0,255,1)\">touch</span>. <span style=\"color: rgba(0,0,255,1)\">G</span>ldur knew of Calhoun's first shrug.'Try to see,'the man said. The man went for a time and stood up to try to keep a pretty close view of what they had so far done. An air-<span style=\"color: rgba(0,0,255,1)\">business</span> it was in Calhoun's mind <span style=\"color: rgba(0,0,255,1)\">that</span> the spacer was very careless-- it came to him as a very strange type and type of spaceship that he <span style=\"color: rgba(0,0,255,1)\">would</span> have to apply as a matter of-- -,, <span style=\"color: rgba(0,0,255,1)\">s</span> a of <span style=\"color: rgba(0,0,255,1)\">coldly</span> <span style=\"color: rgba(0,0,255,1)\">of</span>, at out the, <span style=\"color: rgba(0,0,255,1)\">curiosity</span> four"
      ],
      "text/plain": [
       "<IPython.core.display.HTML object>"
      ]
     },
     "metadata": {},
     "output_type": "display_data"
    },
    {
     "data": {
      "text/html": [
       "<span style=\"color: rgba(255,0,0,0.9931776523590088)\">q</span>uivering with anger, and went and blowing his pipe. He went back to the stok<span style=\"color: rgba(255,0,0,0.9914891719818115)\">er</span> and put it in front of him. He looked back at Calhoun out of <span style=\"color: rgba(255,0,0,0.7558130025863647)\">the</span> <span style=\"color: rgba(255,0,0,0.5571768879890442)\">window</span>. <span style=\"color: rgba(255,0,0,0.8470990657806396)\">Ba</span>ldur knew of Calhoun's first shrug.'Try to see,'the man said. The man went for a time and stood up to try to keep a pretty close view of what they had so far done. An air-<span style=\"color: rgba(255,0,0,0.597636342048645)\">-</span> it was in Calhoun's mind <span style=\"color: rgba(255,0,0,0.741661548614502)\">that</span> the spacer was very careless-- it came to him as a very strange type and type of spaceship that he <span style=\"color: rgba(255,0,0,0.8182196617126465)\">would</span> have to apply as a matter of-- -,,<span style=\"color: rgba(255,0,0,0.6033420562744141)\">,</span> a of <span style=\"color: rgba(255,0,0,0.623942494392395)\">shrug</span> <span style=\"color: rgba(255,0,0,0.5721629858016968)\">face</span>, at out the, <span style=\"color: rgba(255,0,0,0.6817471981048584)\">sight</span> four <span style=\"color: rgba(255,0,0,0.5353342890739441)\">blank</span>"
      ],
      "text/plain": [
       "<IPython.core.display.HTML object>"
      ]
     },
     "metadata": {},
     "output_type": "display_data"
    },
    {
     "data": {
      "text/html": [
       "quivering with anger, and <span style=\"color: rgba(0,0,255,1)\">stopped</span> and blowing his pipe. He went back to the stoker and <span style=\"color: rgba(0,0,255,1)\">put</span> it <span style=\"color: rgba(0,0,255,1)\">in</span> front of him<span style=\"color: rgba(0,0,255,1)\">.</span> He looked over at Calhoun out of the <span style=\"color: rgba(0,0,255,1)\">window</span>. Baldur knew of Calhoun's first reaction.'Glad to see,'the man said. The man <span style=\"color: rgba(0,0,255,1)\">went</span> for a second and stood up<span style=\"color: rgba(0,0,255,1)\">.</span> trying to keep a pretty good view of what Calhoun had so recently done. An idea-- it was in Calhoun's mind that the spacer <span style=\"color: rgba(0,0,255,1)\">was</span> being careless-- it came to him as a very peculiar type and type of companions<span style=\"color: rgba(0,0,255,1)\">hip</span> that he did have to apply as a matter of-<span style=\"color: rgba(0,0,255,1)\">-</span> but as <span style=\"color: rgba(0,0,255,1)\">a</span>, a of. type of at and the <span style=\"color: rgba(0,0,255,1)\">one</span> again window"
      ],
      "text/plain": [
       "<IPython.core.display.HTML object>"
      ]
     },
     "metadata": {},
     "output_type": "display_data"
    },
    {
     "data": {
      "text/html": [
       "quivering with anger, and <span style=\"color: rgba(255,0,0,0.5326955318450928)\">began</span> and blowing his pipe. He went back to the stoker and <span style=\"color: rgba(255,0,0,0.789398193359375)\">put</span> it <span style=\"color: rgba(255,0,0,0.9963303804397583)\">in</span> front of him<span style=\"color: rgba(255,0,0,0.9997168779373169)\">.</span> He looked over at Calhoun out of the <span style=\"color: rgba(255,0,0,0.7245626449584961)\">window</span>. Baldur knew of Calhoun's first reaction.'Glad to see,'the man said. The man <span style=\"color: rgba(255,0,0,0.6021521091461182)\">paused</span> for a second and stood up<span style=\"color: rgba(255,0,0,0.9587221145629883)\">,</span> trying to keep a pretty good view of what Calhoun had so recently done. An idea-- it was in Calhoun's mind that the spacer <span style=\"color: rgba(255,0,0,0.9835501909255981)\">was</span> being careless-- it came to him as a very peculiar type and type of companions<span style=\"color: rgba(255,0,0,0.9959859848022461)\">hip</span> that he did have to apply as a matter of-<span style=\"color: rgba(255,0,0,0.999791145324707)\">-</span> but as <span style=\"color: rgba(255,0,0,0.9152492880821228)\">-</span>, a of. type of at and the <span style=\"color: rgba(255,0,0,0.655510425567627)\">back</span> again window then"
      ],
      "text/plain": [
       "<IPython.core.display.HTML object>"
      ]
     },
     "metadata": {},
     "output_type": "display_data"
    },
    {
     "data": {
      "text/html": [
       "quivering with anger, and then began blowing his <span style=\"color: rgba(0,0,255,1)\">pants</span>. He <span style=\"color: rgba(0,0,255,1)\">went</span> back to the s<span style=\"color: rgba(0,0,255,1)\">ling</span>er and put it in front of him. He looked up at him <span style=\"color: rgba(0,0,255,1)\">out</span> of the window. Baldur knew of Calhoun's first reaction.'Glad to see,'the man said. The man hesitated for a second and stood there, trying to keep a pretty good view of what Calhoun had so recently done. An <span style=\"color: rgba(0,0,255,1)\">apology</span>-- it was in Calhoun's mind that the spacer was being careless-- it came to him as a very peculiar type and sort of companions<span style=\"color: rgba(0,0,255,1)\">hip</span> that he was <span style=\"color: rgba(0,0,255,1)\">pleased</span> to apply <span style=\"color: rgba(0,0,255,1)\">as</span> a matter of-- <span style=\"color: rgba(0,0,255,1)\">an</span> as-<span style=\"color: rgba(0,0,255,1)\">very</span> very of'type <span style=\"color: rgba(0,0,255,1)\">out</span> at and the port <span style=\"color: rgba(0,0,255,1)\">out</span> <span style=\"color: rgba(0,0,255,1)\">outside</span>"
      ],
      "text/plain": [
       "<IPython.core.display.HTML object>"
      ]
     },
     "metadata": {},
     "output_type": "display_data"
    },
    {
     "data": {
      "text/html": [
       "quivering with anger, and then began blowing his <span style=\"color: rgba(255,0,0,0.5916860699653625)\">nose</span>. He <span style=\"color: rgba(255,0,0,0.8819247484207153)\">went</span> back to the s<span style=\"color: rgba(255,0,0,0.5386723875999451)\">tok</span>er and put it in front of him. He looked up at him <span style=\"color: rgba(255,0,0,0.9972192049026489)\">out</span> of the window. Baldur knew of Calhoun's first reaction.'Glad to see,'the man said. The man hesitated for a second and stood there, trying to keep a pretty good view of what Calhoun had so recently done. An <span style=\"color: rgba(255,0,0,0.6087971925735474)\">idea</span>-- it was in Calhoun's mind that the spacer was being careless-- it came to him as a very peculiar type and sort of companions<span style=\"color: rgba(255,0,0,0.9982483386993408)\">hip</span> that he was <span style=\"color: rgba(255,0,0,0.6730784177780151)\">beginning</span> to apply <span style=\"color: rgba(255,0,0,0.9442569017410278)\">as</span> a matter of-- <span style=\"color: rgba(255,0,0,0.6599178314208984)\">something</span> as-<span style=\"color: rgba(255,0,0,0.7309436798095703)\">very</span> very of'type <span style=\"color: rgba(255,0,0,0.9917686581611633)\">out</span> at and the port <span style=\"color: rgba(255,0,0,0.9783872365951538)\">out</span> <span style=\"color: rgba(255,0,0,0.904296875)\">out</span> port"
      ],
      "text/plain": [
       "<IPython.core.display.HTML object>"
      ]
     },
     "metadata": {},
     "output_type": "display_data"
    }
   ],
   "source": [
    "text=\"\"\"Quivering with fear, he trembled He lit five cigarette. He stared directly at the three fingered alient monster in front of him. It stated back at what reminded it of a naked larvel species from it's homewold. 'Lets do this'' he said. Together they headed off, man and Targid, to start a love the likes of which none had ever before imagined. The kind of love that existed between brothers or cubmates. Interspecies soult companions - this was often seen as a rotton kind of dependant relationshp that many would like to erase from the galactic dictionary.\"\"\"\n",
    "improve_words_recursive(text, processor, tokenizer, model, iterations=200, max_seq_length=150, n=10, T=1.0, device=\"cuda\", debug=10)"
   ]
  },
  {
   "cell_type": "markdown",
   "metadata": {},
   "source": [
    "intanceing, and he looked and saw the face. No, no, he saw out of it, wondering, now, at least, what was something. It had to be at least a thing. It seemed as if the thing had, in fact, to be an aptic thing... no. Well, maybe something..... The thing's not going to change me in that way-- that way, intance. After all, maybe not... no. But there was been quite sure of, and he was not sure of it, though he was actually thinking about it, it was something he was seeing, yet... something. Maybe it was a strange, unrealic thing, but very unreal-- it was..... Yes, it was got to be something, perhaps somehow, but then, if a thing-- maybe it could, just maybe, do some things, the same a thing...... The it maybe s s. that not s not have not change maybe, things, things same... thing Certainly thing... maybe it it s, in thing outce,. disposed maybe.. before he Well, sure maybe really to really people way, was not all not was not perhaps no a not thinking but quite doubt nothing not not out actually something thing. somehow. somehow... had actually not not not to be"
   ]
  },
  {
   "cell_type": "code",
   "execution_count": null,
   "metadata": {},
   "outputs": [],
   "source": []
  },
  {
   "cell_type": "code",
   "execution_count": null,
   "metadata": {},
   "outputs": [],
   "source": []
  },
  {
   "cell_type": "code",
   "execution_count": null,
   "metadata": {
    "scrolled": true
   },
   "outputs": [],
   "source": []
  },
  {
   "cell_type": "code",
   "execution_count": null,
   "metadata": {},
   "outputs": [],
   "source": []
  },
  {
   "cell_type": "markdown",
   "metadata": {},
   "source": [
    "# TODO\n",
    "\n",
    "- show probability in next word logging. Record probability of each letter, then use them when displaying as html\n",
    "- try other ways of doing next word. E.g. going back and redoing, doing more than 1 at once\n",
    "- make the masked language generator often mask last word\n",
    "- should I be doing loss on just the masked words, or all? It's hard to tell from the tensorflow repo. This is marked with a TODO or FIXME in the code\n",
    "- add validation loss, since overfitting seems to be a factor\n",
    "- for eval, don't pad, just have a batch size of one. That may lead to better results\n",
    "- for eval, add some words, and let it fill in the blanks\n",
    "  - recursivly replace low confidence words?\n",
    "  - for this I may have to make it predict unmasked words?"
   ]
  },
  {
   "cell_type": "code",
   "execution_count": null,
   "metadata": {},
   "outputs": [],
   "source": []
  }
 ],
 "metadata": {
  "kernelspec": {
   "display_name": "Python [conda env:pytorch_p36]",
   "language": "python",
   "name": "conda-env-pytorch_p36-py"
  },
  "language_info": {
   "codemirror_mode": {
    "name": "ipython",
    "version": 3
   },
   "file_extension": ".py",
   "mimetype": "text/x-python",
   "name": "python",
   "nbconvert_exporter": "python",
   "pygments_lexer": "ipython3",
   "version": "3.6.5"
  },
  "notify_time": "5",
  "toc": {
   "colors": {
    "hover_highlight": "#DAA520",
    "navigate_num": "#000000",
    "navigate_text": "#333333",
    "running_highlight": "#FF0000",
    "selected_highlight": "#FFD700",
    "sidebar_border": "#EEEEEE",
    "wrapper_background": "#FFFFFF"
   },
   "moveMenuLeft": true,
   "nav_menu": {
    "height": "103px",
    "width": "251px"
   },
   "navigate_menu": true,
   "number_sections": true,
   "sideBar": true,
   "threshold": 4,
   "toc_cell": false,
   "toc_position": {
    "height": "536px",
    "left": "0px",
    "right": "1413.33px",
    "top": "150px",
    "width": "185px"
   },
   "toc_section_display": "block",
   "toc_window_display": true,
   "widenNotebook": false
  }
 },
 "nbformat": 4,
 "nbformat_minor": 2
}
