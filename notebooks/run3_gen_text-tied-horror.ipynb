{
 "cells": [
  {
   "cell_type": "markdown",
   "metadata": {},
   "source": [
    "https://arxiv.org/pdf/1810.04805.pdf"
   ]
  },
  {
   "cell_type": "code",
   "execution_count": 1,
   "metadata": {
    "ExecuteTime": {
     "end_time": "2018-11-11T22:15:26.841544Z",
     "start_time": "2018-11-11T22:15:26.837761Z"
    }
   },
   "outputs": [],
   "source": [
    "import os\n",
    "os.sys.path.append('..')"
   ]
  },
  {
   "cell_type": "code",
   "execution_count": 2,
   "metadata": {
    "ExecuteTime": {
     "end_time": "2018-11-11T22:15:27.242990Z",
     "start_time": "2018-11-11T22:15:26.844284Z"
    }
   },
   "outputs": [],
   "source": [
    "%matplotlib inline\n",
    "%reload_ext autoreload\n",
    "%autoreload 2"
   ]
  },
  {
   "cell_type": "code",
   "execution_count": 3,
   "metadata": {
    "ExecuteTime": {
     "end_time": "2018-11-11T22:15:27.531690Z",
     "start_time": "2018-11-11T22:15:27.245345Z"
    }
   },
   "outputs": [],
   "source": [
    "from __future__ import absolute_import\n",
    "from __future__ import division\n",
    "from __future__ import print_function\n",
    "\n",
    "import argparse\n",
    "import collections\n",
    "import logging\n",
    "import json\n",
    "import math\n",
    "import os\n",
    "import random\n",
    "import six\n",
    "from tqdm import tqdm_notebook as tqdm\n",
    "\n",
    "import numpy as np\n",
    "import torch\n",
    "import torch.nn as nn\n",
    "import torch.nn.functional as F\n",
    "from torch.utils.data import TensorDataset, DataLoader, RandomSampler, SequentialSampler\n",
    "from torch.utils.data.distributed import DistributedSampler\n",
    "\n",
    "import tokenization\n",
    "from modeling import BertConfig, BertForMaskedLanguageModelling\n",
    "from optimization import BERTAdam\n"
   ]
  },
  {
   "cell_type": "code",
   "execution_count": 4,
   "metadata": {
    "ExecuteTime": {
     "end_time": "2018-11-11T22:15:27.555650Z",
     "start_time": "2018-11-11T22:15:27.534170Z"
    }
   },
   "outputs": [],
   "source": [
    "\n",
    "logging.basicConfig(format = '%(asctime)s - %(levelname)s - %(name)s -   %(message)s', \n",
    "                    datefmt = '%m/%d/%Y %H:%M:%S',\n",
    "                    level = logging.INFO)\n",
    "logger = logging.getLogger(__name__)"
   ]
  },
  {
   "cell_type": "code",
   "execution_count": null,
   "metadata": {
    "ExecuteTime": {
     "end_time": "2018-11-09T10:41:27.497266Z",
     "start_time": "2018-11-09T10:41:27.467141Z"
    }
   },
   "outputs": [],
   "source": []
  },
  {
   "cell_type": "markdown",
   "metadata": {},
   "source": [
    "# Args"
   ]
  },
  {
   "cell_type": "code",
   "execution_count": 5,
   "metadata": {
    "ExecuteTime": {
     "end_time": "2018-11-11T22:15:27.600026Z",
     "start_time": "2018-11-11T22:15:27.558000Z"
    }
   },
   "outputs": [
    {
     "data": {
      "text/plain": [
       "_StoreAction(option_strings=['--gradient_accumulation_steps'], dest='gradient_accumulation_steps', nargs=None, const=None, default=1, type=<class 'int'>, choices=None, help='Number of updates steps to accumualte before performing a backward/update pass.', metavar=None)"
      ]
     },
     "execution_count": 5,
     "metadata": {},
     "output_type": "execute_result"
    }
   ],
   "source": [
    "parser = argparse.ArgumentParser()\n",
    "\n",
    "## Required parameters\n",
    "parser.add_argument(\"--data_dir\",\n",
    "                    default=None,\n",
    "                    type=str,\n",
    "                    required=True,\n",
    "                    help=\"The input data dir. Should contain the .tsv files (or other data files) for the task.\")\n",
    "parser.add_argument(\"--bert_config_file\",\n",
    "                    default=None,\n",
    "                    type=str,\n",
    "                    required=True,\n",
    "                    help=\"The config json file corresponding to the pre-trained BERT model. \\n\"\n",
    "                         \"This specifies the model architecture.\")\n",
    "parser.add_argument(\"--task_name\",\n",
    "                    default=None,\n",
    "                    type=str,\n",
    "                    required=True,\n",
    "                    help=\"The name of the task to train.\")\n",
    "parser.add_argument(\"--vocab_file\",\n",
    "                    default=None,\n",
    "                    type=str,\n",
    "                    required=True,\n",
    "                    help=\"The vocabulary file that the BERT model was trained on.\")\n",
    "parser.add_argument(\"--output_dir\",\n",
    "                    default=None,\n",
    "                    type=str,\n",
    "                    required=True,\n",
    "                    help=\"The output directory where the model checkpoints will be written.\")\n",
    "\n",
    "## Other parameters\n",
    "parser.add_argument(\"--init_checkpoint\",\n",
    "                    default=None,\n",
    "                    type=str,\n",
    "                    help=\"Initial checkpoint (usually from a pre-trained BERT model).\")\n",
    "parser.add_argument(\"--do_lower_case\",\n",
    "                    default=False,\n",
    "                    action='store_true',\n",
    "                    help=\"Whether to lower case the input text. True for uncased models, False for cased models.\")\n",
    "parser.add_argument(\"--max_seq_length\",\n",
    "                    default=128,\n",
    "                    type=int,\n",
    "                    help=\"The maximum total input sequence length after WordPiece tokenization. \\n\"\n",
    "                         \"Sequences longer than this will be truncated, and sequences shorter \\n\"\n",
    "                         \"than this will be padded.\")\n",
    "parser.add_argument(\"--do_train\",\n",
    "                    default=False,\n",
    "                    action='store_true',\n",
    "                    help=\"Whether to run training.\")\n",
    "parser.add_argument(\"--do_eval\",\n",
    "                    default=False,\n",
    "                    action='store_true',\n",
    "                    help=\"Whether to run eval on the dev set.\")\n",
    "parser.add_argument(\"--train_batch_size\",\n",
    "                    default=32,\n",
    "                    type=int,\n",
    "                    help=\"Total batch size for training.\")\n",
    "parser.add_argument(\"--eval_batch_size\",\n",
    "                    default=8,\n",
    "                    type=int,\n",
    "                    help=\"Total batch size for eval.\")\n",
    "parser.add_argument(\"--learning_rate\",\n",
    "                    default=5e-5,\n",
    "                    type=float,\n",
    "                    help=\"The initial learning rate for Adam.\")\n",
    "parser.add_argument(\"--num_train_epochs\",\n",
    "                    default=3.0,\n",
    "                    type=float,\n",
    "                    help=\"Total number of training epochs to perform.\")\n",
    "parser.add_argument(\"--warmup_proportion\",\n",
    "                    default=0.1,\n",
    "                    type=float,\n",
    "                    help=\"Proportion of training to perform linear learning rate warmup for. \"\n",
    "                         \"E.g., 0.1 = 10%% of training.\")\n",
    "parser.add_argument(\"--no_cuda\",\n",
    "                    default=False,\n",
    "                    action='store_true',\n",
    "                    help=\"Whether not to use CUDA when available\")\n",
    "parser.add_argument(\"--local_rank\",\n",
    "                    type=int,\n",
    "                    default=-1,\n",
    "                    help=\"local_rank for distributed training on gpus\")\n",
    "parser.add_argument('--seed', \n",
    "                    type=int, \n",
    "                    default=42,\n",
    "                    help=\"random seed for initialization\")\n",
    "parser.add_argument('--gradient_accumulation_steps',\n",
    "                    type=int,\n",
    "                    default=1,\n",
    "                    help=\"Number of updates steps to accumualte before performing a backward/update pass.\") "
   ]
  },
  {
   "cell_type": "code",
   "execution_count": 6,
   "metadata": {
    "ExecuteTime": {
     "end_time": "2018-11-11T22:15:27.627391Z",
     "start_time": "2018-11-11T22:15:27.602110Z"
    }
   },
   "outputs": [
    {
     "name": "stdout",
     "output_type": "stream",
     "text": [
      "['--task_name', 'lm', '--data_dir', '../data/input/horror_gutenberg', '--vocab_file', '../data/weights/cased_L-12_H-768_A-12/vocab.txt', '--bert_config_file', '../data/weights/cased_L-12_H-768_A-12/bert_config.json', '--init_checkpoint', '../data/weights/cased_L-12_H-768_A-12/pytorch_model.bin', '--do_train', '--do_eval', '--gradient_accumulation_steps', '2', '--train_batch_size', '24', '--learning_rate', '3e-5', '--num_train_epochs', '3.0', '--max_seq_length', '128', '--output_dir', '../outputs/horror_uncased_4_tied_mlm/']\n"
     ]
    }
   ],
   "source": [
    "experiment_name = 'horror_uncased_4_tied_mlm'\n",
    "\n",
    "argv = \"\"\"\n",
    "--task_name lm \\\n",
    "--data_dir {DATA_DIR} \\\n",
    "--vocab_file {BERT_BASE_DIR}/vocab.txt \\\n",
    "--bert_config_file {BERT_BASE_DIR}/bert_config.json \\\n",
    "--init_checkpoint {BERT_BASE_DIR}/pytorch_model.bin \\\n",
    "--do_train \\\n",
    "--do_eval \\\n",
    "--gradient_accumulation_steps 2 \\\n",
    "--train_batch_size 24 \\\n",
    "--learning_rate 3e-5 \\\n",
    "--num_train_epochs 3.0 \\\n",
    "--max_seq_length 128 \\\n",
    "--output_dir ../outputs/{name}/\n",
    "\"\"\".format(\n",
    "    BERT_BASE_DIR='../data/weights/cased_L-12_H-768_A-12',\n",
    "    DATA_DIR='../data/input/horror_gutenberg',\n",
    "    name=experiment_name\n",
    ").replace('\\n', '').split(' ')\n",
    "print(argv)\n",
    "args = parser.parse_args(argv)"
   ]
  },
  {
   "cell_type": "code",
   "execution_count": null,
   "metadata": {
    "ExecuteTime": {
     "end_time": "2018-11-09T15:26:30.278170Z",
     "start_time": "2018-11-09T15:26:30.248424Z"
    }
   },
   "outputs": [],
   "source": []
  },
  {
   "cell_type": "markdown",
   "metadata": {},
   "source": [
    "# Init"
   ]
  },
  {
   "cell_type": "code",
   "execution_count": 7,
   "metadata": {
    "ExecuteTime": {
     "end_time": "2018-11-11T22:15:27.679843Z",
     "start_time": "2018-11-11T22:15:27.629685Z"
    }
   },
   "outputs": [
    {
     "name": "stderr",
     "output_type": "stream",
     "text": [
      "11/12/2018 06:15:27 - INFO - __main__ -   device cuda n_gpu 1 distributed training False\n"
     ]
    }
   ],
   "source": [
    "if args.local_rank == -1 or args.no_cuda:\n",
    "    device = torch.device(\"cuda\" if torch.cuda.is_available() and not args.no_cuda else \"cpu\")\n",
    "    n_gpu = torch.cuda.device_count()\n",
    "else:\n",
    "    device = torch.device(\"cuda\", args.local_rank)\n",
    "    n_gpu = 1\n",
    "    # Initializes the distributed backend which will take care of sychronizing nodes/GPUs\n",
    "    torch.distributed.init_process_group(backend='nccl')\n",
    "logger.info(\"device %s n_gpu %d distributed training %r\", device, n_gpu, bool(args.local_rank != -1))\n",
    "\n",
    "if args.gradient_accumulation_steps < 1:\n",
    "    raise ValueError(\"Invalid gradient_accumulation_steps parameter: {}, should be >= 1\".format(\n",
    "                        args.gradient_accumulation_steps))\n",
    "\n",
    "args.train_batch_size = int(args.train_batch_size / args.gradient_accumulation_steps)\n",
    "\n",
    "random.seed(args.seed)\n",
    "np.random.seed(args.seed)\n",
    "torch.manual_seed(args.seed)\n",
    "if n_gpu > 0:\n",
    "    torch.cuda.manual_seed_all(args.seed)\n",
    "\n",
    "if not args.do_train and not args.do_eval:\n",
    "    raise ValueError(\"At least one of `do_train` or `do_eval` must be True.\")"
   ]
  },
  {
   "cell_type": "code",
   "execution_count": 8,
   "metadata": {
    "ExecuteTime": {
     "end_time": "2018-11-11T22:15:27.703568Z",
     "start_time": "2018-11-11T22:15:27.682123Z"
    }
   },
   "outputs": [],
   "source": [
    "bert_config = BertConfig.from_json_file(args.bert_config_file)\n",
    "\n",
    "if args.max_seq_length > bert_config.max_position_embeddings:\n",
    "    raise ValueError(\n",
    "        \"Cannot use sequence length {} because the BERT model was only trained up to sequence length {}\".format(\n",
    "        args.max_seq_length, bert_config.max_position_embeddings))"
   ]
  },
  {
   "cell_type": "code",
   "execution_count": 9,
   "metadata": {
    "ExecuteTime": {
     "end_time": "2018-11-11T22:15:27.726936Z",
     "start_time": "2018-11-11T22:15:27.705779Z"
    }
   },
   "outputs": [
    {
     "name": "stdout",
     "output_type": "stream",
     "text": [
      "Output directory (../outputs/horror_uncased_4_tied_mlm/) already exists and is not empty.\n"
     ]
    }
   ],
   "source": [
    "if os.path.exists(args.output_dir) and os.listdir(args.output_dir):\n",
    "    print(\"Output directory ({}) already exists and is not empty.\".format(args.output_dir))\n",
    "os.makedirs(args.output_dir, exist_ok=True)"
   ]
  },
  {
   "cell_type": "code",
   "execution_count": 10,
   "metadata": {
    "ExecuteTime": {
     "end_time": "2018-11-11T22:15:27.749066Z",
     "start_time": "2018-11-11T22:15:27.729289Z"
    }
   },
   "outputs": [],
   "source": [
    "save_path = os.path.join(args.output_dir, 'state_dict.pkl')"
   ]
  },
  {
   "cell_type": "markdown",
   "metadata": {},
   "source": [
    "# Load data v2"
   ]
  },
  {
   "cell_type": "markdown",
   "metadata": {},
   "source": [
    "## Helpers"
   ]
  },
  {
   "cell_type": "code",
   "execution_count": 11,
   "metadata": {
    "ExecuteTime": {
     "end_time": "2018-11-11T22:15:27.771879Z",
     "start_time": "2018-11-11T22:15:27.751381Z"
    }
   },
   "outputs": [],
   "source": [
    "def notqdm(it, *a, **k):\n",
    "    return it"
   ]
  },
  {
   "cell_type": "code",
   "execution_count": 262,
   "metadata": {
    "ExecuteTime": {
     "end_time": "2018-11-12T00:52:51.113845Z",
     "start_time": "2018-11-12T00:52:51.078632Z"
    }
   },
   "outputs": [],
   "source": [
    "# from https://github.com/huggingface/pytorch-pretrained-BERT/blob/master/run_classifier.py\n",
    "\n",
    "class InputExample(object):\n",
    "    \"\"\"A single training/test example for simple sequence classification.\"\"\"\n",
    "\n",
    "    def __init__(self, guid, text_a, text_b=None, label=None):\n",
    "        \"\"\"Constructs a InputExample.\n",
    "        Args:\n",
    "            guid: Unique id for the example.\n",
    "            text_a: string. The untokenized text of the first sequence. For single\n",
    "            sequence tasks, only this sequence must be specified.\n",
    "            text_b: (Optional) string. The untokenized text of the second sequence.\n",
    "            Only must be specified for sequence pair tasks.\n",
    "            label: (Optional) string. The label of the example. This should be\n",
    "            specified for train and dev examples, but not for test examples.\n",
    "        \"\"\"\n",
    "        self.guid = guid\n",
    "        self.text_a = text_a\n",
    "        self.text_b = text_b\n",
    "        self.label = label\n",
    "\n",
    "\n",
    "class InputFeatures(object):\n",
    "    \"\"\"A single set of features of data.\"\"\"\n",
    "\n",
    "    def __init__(self, input_ids, input_mask, segment_ids, label_id, label_weights):\n",
    "        self.input_ids = input_ids # inputs tokens with 103 for mask\n",
    "        self.input_mask = input_mask # 0 for padding, 1 otherwise\n",
    "        self.segment_ids = segment_ids # which sentance it's in\n",
    "        self.label_id = label_id # labels, true tokens\n",
    "        self.label_weights = label_weights\n",
    "\n",
    "\n",
    "class DataProcessor(object):\n",
    "    \"\"\"Base class for data converters for sequence classification data sets.\"\"\"\n",
    "\n",
    "    def get_train_examples(self, data_dir):\n",
    "        \"\"\"Gets a collection of `InputExample`s for the train set.\"\"\"\n",
    "        raise NotImplementedError()\n",
    "\n",
    "    def get_dev_examples(self, data_dir):\n",
    "        \"\"\"Gets a collection of `InputExample`s for the dev set.\"\"\"\n",
    "        raise NotImplementedError()\n",
    "\n",
    "    def get_labels(self):\n",
    "        \"\"\"Gets the list of labels for this data set.\"\"\"\n",
    "        raise NotImplementedError()\n",
    "        \n",
    "\n",
    "class LMProcessor(DataProcessor):\n",
    "    \"\"\"Processor for language modelling.\"\"\"\n",
    "\n",
    "    def get_train_examples(self, data_dir):\n",
    "        \"\"\"See base class.\"\"\"\n",
    "        return self._create_examples(\n",
    "            open(os.path.join(data_dir, \"train.txt\")).read(), \"train\")\n",
    "\n",
    "    def get_dev_examples(self, data_dir):\n",
    "        \"\"\"See base class.\"\"\"\n",
    "        return self._create_examples(\n",
    "            open(os.path.join(data_dir, \"val.txt\")).read(), \"dev\")\n",
    "\n",
    "    def get_labels(self):\n",
    "        \"\"\"See base class.\"\"\"\n",
    "        return list(tokenizer.vocab.keys())\n",
    "\n",
    "    def _create_examples(self, lines, set_type, window_size=args.max_seq_length, tqdm=tqdm):\n",
    "        \"\"\"Creates examples for the training and dev sets.\"\"\"\n",
    "        tokens = []\n",
    "        for line in tqdm(lines.split('\\n\\n'), desc='tokenising'):\n",
    "            line = tokenization.convert_to_unicode(line)\n",
    "            token = tokenizer.tokenize(line)\n",
    "            tokens += token            \n",
    "        \n",
    "        examples = []\n",
    "        for i, start_idx in tqdm(list(enumerate(range(len(tokens) - window_size - 1))), desc='chunking'):\n",
    "            guid = \"%s-%s\" % (set_type, i)\n",
    "            text_a = tokens[start_idx : start_idx + window_size]\n",
    "            label = tokens[start_idx + window_size]\n",
    "            examples.append(\n",
    "                InputExample(guid=guid, text_a=text_a, text_b=None, label=label))\n",
    "            \n",
    "        if len(examples)==0:\n",
    "            guid = \"%s-%s\" % (set_type, 0)\n",
    "            text_a = tokens[:-1]\n",
    "            label = tokens[-1]\n",
    "            examples.append(\n",
    "                InputExample(guid=guid, text_a=text_a, text_b=None, label=label))\n",
    "            \n",
    "        return examples\n",
    "\n"
   ]
  },
  {
   "cell_type": "code",
   "execution_count": null,
   "metadata": {
    "ExecuteTime": {
     "end_time": "2018-11-10T04:51:59.451479Z",
     "start_time": "2018-11-10T04:51:59.397355Z"
    }
   },
   "outputs": [],
   "source": []
  },
  {
   "cell_type": "code",
   "execution_count": 263,
   "metadata": {
    "ExecuteTime": {
     "end_time": "2018-11-12T00:52:56.312215Z",
     "start_time": "2018-11-12T00:52:56.276818Z"
    }
   },
   "outputs": [],
   "source": [
    "\n",
    "def convert_tokens_to_features(examples, label_list, max_seq_length, tokenizer, tqdm=tqdm):\n",
    "    \"\"\"Loads a data file into a list of `InputBatch`s.\"\"\"\n",
    "\n",
    "    label_map = {}\n",
    "    for (i, label) in enumerate(label_list):\n",
    "        label_map[label] = i\n",
    "\n",
    "    features = []\n",
    "    for (ex_index, example) in tqdm(list(enumerate(examples))):\n",
    "        tokens_a = example.text_a\n",
    "\n",
    "        tokens_b = None\n",
    "        if example.text_b:\n",
    "            tokens_b = example.text_b\n",
    "\n",
    "        if tokens_b:\n",
    "            # Modifies `tokens_a` and `tokens_b` in place so that the total\n",
    "            # length is less than the specified length.\n",
    "            # Account for [CLS], [SEP], [SEP] with \"- 3\"\n",
    "            _truncate_seq_pair(tokens_a, tokens_b, max_seq_length - 3)\n",
    "        else:\n",
    "            # Account for [CLS] and [SEP] with \"- 2\"\n",
    "            if len(tokens_a) > max_seq_length - 2:\n",
    "                tokens_a = tokens_a[0:(max_seq_length - 2)]\n",
    "\n",
    "        # The convention in BERT is:\n",
    "        # (a) For sequence pairs:\n",
    "        #  tokens:   [CLS] is this jack ##son ##ville ? [SEP] no it is not . [SEP]\n",
    "        #  type_ids: 0   0  0    0    0     0       0 0    1  1  1  1   1 1\n",
    "        # (b) For single sequences:\n",
    "        #  tokens:   [CLS] the dog is hairy . [SEP]\n",
    "        #  type_ids: 0   0   0   0  0     0 0\n",
    "        #\n",
    "        # Where \"type_ids\" are used to indicate whether this is the first\n",
    "        # sequence or the second sequence. The embedding vectors for `type=0` and\n",
    "        # `type=1` were learned during pre-training and are added to the wordpiece\n",
    "        # embedding vector (and position vector). This is not *strictly* necessary\n",
    "        # since the [SEP] token unambigiously separates the sequences, but it makes\n",
    "        # it easier for the model to learn the concept of sequences.\n",
    "        #\n",
    "        # For classification tasks, the first vector (corresponding to [CLS]) is\n",
    "        # used as as the \"sentence vector\". Note that this only makes sense because\n",
    "        # the entire model is fine-tuned.\n",
    "        tokens = []\n",
    "        segment_ids = []\n",
    "        tokens.append(\"[CLS]\")\n",
    "        segment_ids.append(0)\n",
    "        for token in tokens_a:\n",
    "            tokens.append(token)\n",
    "            segment_ids.append(0)\n",
    "        tokens.append(\"[SEP]\")\n",
    "        segment_ids.append(0)\n",
    "\n",
    "        if tokens_b:\n",
    "            for token in tokens_b:\n",
    "                tokens.append(token)\n",
    "                segment_ids.append(1)\n",
    "            tokens.append(\"[SEP]\")\n",
    "            segment_ids.append(1)\n",
    "\n",
    "        input_ids = tokenizer.convert_tokens_to_ids(tokens)\n",
    "\n",
    "        # The mask has 1 for real tokens and 0 for padding tokens. Only real\n",
    "        # tokens are attended to.\n",
    "        input_mask = [1] * len(input_ids)\n",
    "\n",
    "        # Zero-pad up to the sequence length.\n",
    "        while len(input_ids) < max_seq_length:\n",
    "            input_ids.append(0)\n",
    "            input_mask.append(0)\n",
    "            segment_ids.append(0)\n",
    "        \n",
    "        # see https://github.com/google-research/bert/blob/d8014ef72/create_pretraining_data.py#L363\n",
    "        label_weights = np.random.rand(len(input_ids))<0.10 # 10% change of masking\n",
    "        label_keep = (np.random.rand(len(input_ids))<0.10) * label_weights # 10% chance of keeping\n",
    "        label_switch = (np.random.rand(len(input_ids))<0.10) * label_weights # 10% chance of random word\n",
    "        label_mask = label_weights * (1-label_keep) * (1-label_keep)\n",
    "        \n",
    "        switched_ids = np.random.randint(low=0, high=len(tokenizer.vocab)-1, size=(len(input_ids),))\n",
    "        \n",
    "        input_ids_masked = np.array(input_ids.copy())\n",
    "        input_ids_masked[label_switch==1] = switched_ids[label_switch==1]\n",
    "        input_ids_masked[label_mask==1] = 103\n",
    "        input_ids_masked = input_ids_masked.tolist()\n",
    "        \n",
    "        assert len(input_ids) == max_seq_length\n",
    "        assert len(input_mask) == max_seq_length\n",
    "        assert len(segment_ids) == max_seq_length\n",
    "        assert len(input_ids_masked) == max_seq_length\n",
    "        \n",
    "#         label_weights[torch.Tensor(input_ids)<103] = 0 # Don't mask CLS, PAD, ETC\n",
    "#         input_ids_masked = input_ids.copy()\n",
    "#         for i in range(len(label_weights)):\n",
    "#             if label_weights[i]:\n",
    "#                 if np.random.rand() < 0.8:\n",
    "#                     input_ids_masked[i] = 103\n",
    "#                 else:\n",
    "#                     if np.random.rand() < 0.5:\n",
    "#                         input_ids_masked[i] = np.random.randint(0, len(tokenizer.vocab)-1)\n",
    "        \n",
    "#         input_ids_masked[lms_masked==1] = 103\n",
    "        # TODO 1% of the time replace masked ones with random work\n",
    "        # TODO 1% of the time keep old one\n",
    "\n",
    "#         if ex_index < 3:\n",
    "#             logger.info(\"*** Example ***\")\n",
    "#             logger.info(\"guid: %s\" % (example.guid))\n",
    "#             logger.info(\"tokens: %s\" % \" \".join(\n",
    "#                     [tokenization.printable_text(x) for x in tokens]))\n",
    "#             logger.info(\"input_ids: %s\" % \" \".join([str(x) for x in input_ids]))\n",
    "#             logger.info(\"input_mask: %s\" % \" \".join([str(x) for x in input_mask]))\n",
    "#             logger.info(\n",
    "#                     \"segment_ids: %s\" % \" \".join([str(x) for x in segment_ids]))\n",
    "#             logger.info(\"label: %s (id = %d)\\n\" % (example.label, label_id))\n",
    "\n",
    "        features.append(\n",
    "                InputFeatures(\n",
    "                        input_ids=input_ids_masked,\n",
    "                        input_mask=input_mask,\n",
    "                        segment_ids=segment_ids,\n",
    "                        label_id=input_ids,\n",
    "                        label_weights=label_weights,))\n",
    "    return features\n",
    "\n",
    "\n",
    "def _truncate_seq_pair(tokens_a, tokens_b, max_length):\n",
    "    \"\"\"Truncates a sequence pair in place to the maximum length.\"\"\"\n",
    "\n",
    "    # This is a simple heuristic which will always truncate the longer sequence\n",
    "    # one token at a time. This makes more sense than truncating an equal percent\n",
    "    # of tokens from each, since if one sequence is very short then each token\n",
    "    # that's truncated likely contains more information than a longer sequence.\n",
    "    while True:\n",
    "        total_length = len(tokens_a) + len(tokens_b)\n",
    "        if total_length <= max_length:\n",
    "            break\n",
    "        if len(tokens_a) > len(tokens_b):\n",
    "            tokens_a.pop()\n",
    "        else:\n",
    "            tokens_b.pop()"
   ]
  },
  {
   "cell_type": "code",
   "execution_count": null,
   "metadata": {
    "ExecuteTime": {
     "end_time": "2018-11-11T06:09:45.288388Z",
     "start_time": "2018-11-11T06:09:45.262511Z"
    }
   },
   "outputs": [],
   "source": []
  },
  {
   "cell_type": "code",
   "execution_count": null,
   "metadata": {
    "ExecuteTime": {
     "end_time": "2018-11-11T06:02:01.673966Z",
     "start_time": "2018-11-11T06:02:01.635964Z"
    }
   },
   "outputs": [],
   "source": []
  },
  {
   "cell_type": "markdown",
   "metadata": {},
   "source": [
    "## Load"
   ]
  },
  {
   "cell_type": "code",
   "execution_count": 14,
   "metadata": {
    "ExecuteTime": {
     "end_time": "2018-11-11T22:15:27.923501Z",
     "start_time": "2018-11-11T22:15:27.850057Z"
    }
   },
   "outputs": [],
   "source": [
    "tokenizer = tokenization.FullTokenizer(\n",
    "    vocab_file=args.vocab_file, do_lower_case=args.do_lower_case)\n",
    "\n",
    "decoder = {v:k for k,v in tokenizer.wordpiece_tokenizer.vocab.items()}"
   ]
  },
  {
   "cell_type": "code",
   "execution_count": 15,
   "metadata": {
    "ExecuteTime": {
     "end_time": "2018-11-11T22:15:27.950553Z",
     "start_time": "2018-11-11T22:15:27.926065Z"
    }
   },
   "outputs": [],
   "source": [
    "# window_size                        = 128\n"
   ]
  },
  {
   "cell_type": "code",
   "execution_count": 283,
   "metadata": {
    "ExecuteTime": {
     "end_time": "2018-11-12T00:55:04.952458Z",
     "start_time": "2018-11-12T00:55:04.922180Z"
    }
   },
   "outputs": [],
   "source": [
    "processors = {\n",
    "        \"lm\": LMProcessor,\n",
    "}\n",
    "    \n",
    "task_name = args.task_name.lower()\n",
    "if task_name not in processors:\n",
    "        raise ValueError(\"Task not found: %s\" % (task_name))\n",
    "\n",
    "processor = processors[task_name]()\n",
    "label_list = processor.get_labels()"
   ]
  },
  {
   "cell_type": "code",
   "execution_count": 17,
   "metadata": {
    "ExecuteTime": {
     "end_time": "2018-11-11T22:18:13.065450Z",
     "start_time": "2018-11-11T22:15:27.999690Z"
    }
   },
   "outputs": [
    {
     "data": {
      "application/vnd.jupyter.widget-view+json": {
       "model_id": "e608ab8fe33d47668c49aef7b9c2d1d5",
       "version_major": 2,
       "version_minor": 0
      },
      "text/plain": [
       "HBox(children=(IntProgress(value=0, description='tokenising', max=53852), HTML(value='')))"
      ]
     },
     "metadata": {},
     "output_type": "display_data"
    },
    {
     "name": "stdout",
     "output_type": "stream",
     "text": [
      "\n"
     ]
    },
    {
     "data": {
      "application/vnd.jupyter.widget-view+json": {
       "model_id": "43821e46dbee4f3fb36a24082f04272d",
       "version_major": 2,
       "version_minor": 0
      },
      "text/plain": [
       "HBox(children=(IntProgress(value=0, description='chunking', max=4480426), HTML(value='')))"
      ]
     },
     "metadata": {},
     "output_type": "display_data"
    },
    {
     "name": "stdout",
     "output_type": "stream",
     "text": [
      "\n"
     ]
    }
   ],
   "source": [
    "train_examples = processor.get_train_examples(args.data_dir)\n",
    "num_train_steps = int(\n",
    "    len(train_examples) / args.train_batch_size * args.num_train_epochs)"
   ]
  },
  {
   "cell_type": "code",
   "execution_count": null,
   "metadata": {
    "ExecuteTime": {
     "end_time": "2018-11-10T08:35:09.919396Z",
     "start_time": "2018-11-10T08:35:09.767935Z"
    }
   },
   "outputs": [],
   "source": []
  },
  {
   "cell_type": "code",
   "execution_count": 18,
   "metadata": {
    "ExecuteTime": {
     "end_time": "2018-11-11T22:18:50.243127Z",
     "start_time": "2018-11-11T22:18:13.068312Z"
    },
    "scrolled": true
   },
   "outputs": [
    {
     "data": {
      "application/vnd.jupyter.widget-view+json": {
       "model_id": "24153d0fcacd48f89a48531ddd53ac6a",
       "version_major": 2,
       "version_minor": 0
      },
      "text/plain": [
       "HBox(children=(IntProgress(value=0, max=179218), HTML(value='')))"
      ]
     },
     "metadata": {},
     "output_type": "display_data"
    },
    {
     "name": "stdout",
     "output_type": "stream",
     "text": [
      "\n"
     ]
    }
   ],
   "source": [
    "train_features = convert_tokens_to_features(\n",
    "    train_examples[::25], label_list, args.max_seq_length, tokenizer)\n",
    "\n",
    "all_input_ids = torch.tensor([f.input_ids for f in train_features], dtype=torch.long)\n",
    "all_input_mask = torch.tensor([f.input_mask for f in train_features], dtype=torch.long)\n",
    "all_segment_ids = torch.tensor([f.segment_ids for f in train_features], dtype=torch.long)\n",
    "all_label_ids = torch.tensor([f.label_id for f in train_features], dtype=torch.long)\n",
    "all_label_weights = torch.tensor([f.label_weights for f in train_features], dtype=torch.long)"
   ]
  },
  {
   "cell_type": "code",
   "execution_count": null,
   "metadata": {
    "ExecuteTime": {
     "end_time": "2018-11-11T06:08:15.170422Z",
     "start_time": "2018-11-11T06:07:03.795167Z"
    }
   },
   "outputs": [],
   "source": []
  },
  {
   "cell_type": "code",
   "execution_count": 19,
   "metadata": {
    "ExecuteTime": {
     "end_time": "2018-11-11T22:18:50.275590Z",
     "start_time": "2018-11-11T22:18:50.246209Z"
    }
   },
   "outputs": [],
   "source": [
    "train_data = TensorDataset(all_input_ids, all_input_mask, all_segment_ids, all_label_ids, all_label_weights)\n",
    "if args.local_rank == -1:\n",
    "    train_sampler = RandomSampler(train_data)\n",
    "else:\n",
    "    train_sampler = DistributedSampler(train_data)\n",
    "train_dataloader = DataLoader(train_data, sampler=train_sampler, batch_size=args.train_batch_size)"
   ]
  },
  {
   "cell_type": "code",
   "execution_count": null,
   "metadata": {
    "ExecuteTime": {
     "end_time": "2018-11-10T06:50:42.333283Z",
     "start_time": "2018-11-10T06:50:42.311379Z"
    }
   },
   "outputs": [],
   "source": []
  },
  {
   "cell_type": "markdown",
   "metadata": {},
   "source": [
    "# Load model"
   ]
  },
  {
   "cell_type": "code",
   "execution_count": null,
   "metadata": {
    "ExecuteTime": {
     "end_time": "2018-11-10T07:13:01.317704Z",
     "start_time": "2018-11-10T07:13:00.880718Z"
    }
   },
   "outputs": [],
   "source": []
  },
  {
   "cell_type": "code",
   "execution_count": 20,
   "metadata": {
    "ExecuteTime": {
     "end_time": "2018-11-11T22:18:56.973283Z",
     "start_time": "2018-11-11T22:18:50.278359Z"
    }
   },
   "outputs": [
    {
     "data": {
      "text/plain": [
       "BertForMaskedLanguageModelling(\n",
       "  (bert): BertModel(\n",
       "    (embeddings): BERTEmbeddings(\n",
       "      (word_embeddings): Embedding(28996, 768)\n",
       "      (position_embeddings): Embedding(512, 768)\n",
       "      (token_type_embeddings): Embedding(2, 768)\n",
       "      (LayerNorm): BERTLayerNorm()\n",
       "      (dropout): Dropout(p=0.1)\n",
       "    )\n",
       "    (encoder): BERTEncoder(\n",
       "      (layer): ModuleList(\n",
       "        (0): BERTLayer(\n",
       "          (attention): BERTAttention(\n",
       "            (self): BERTSelfAttention(\n",
       "              (query): Linear(in_features=768, out_features=768, bias=True)\n",
       "              (key): Linear(in_features=768, out_features=768, bias=True)\n",
       "              (value): Linear(in_features=768, out_features=768, bias=True)\n",
       "              (dropout): Dropout(p=0.1)\n",
       "            )\n",
       "            (output): BERTSelfOutput(\n",
       "              (dense): Linear(in_features=768, out_features=768, bias=True)\n",
       "              (LayerNorm): BERTLayerNorm()\n",
       "              (dropout): Dropout(p=0.1)\n",
       "            )\n",
       "          )\n",
       "          (intermediate): BERTIntermediate(\n",
       "            (dense): Linear(in_features=768, out_features=3072, bias=True)\n",
       "          )\n",
       "          (output): BERTOutput(\n",
       "            (dense): Linear(in_features=3072, out_features=768, bias=True)\n",
       "            (LayerNorm): BERTLayerNorm()\n",
       "            (dropout): Dropout(p=0.1)\n",
       "          )\n",
       "        )\n",
       "        (1): BERTLayer(\n",
       "          (attention): BERTAttention(\n",
       "            (self): BERTSelfAttention(\n",
       "              (query): Linear(in_features=768, out_features=768, bias=True)\n",
       "              (key): Linear(in_features=768, out_features=768, bias=True)\n",
       "              (value): Linear(in_features=768, out_features=768, bias=True)\n",
       "              (dropout): Dropout(p=0.1)\n",
       "            )\n",
       "            (output): BERTSelfOutput(\n",
       "              (dense): Linear(in_features=768, out_features=768, bias=True)\n",
       "              (LayerNorm): BERTLayerNorm()\n",
       "              (dropout): Dropout(p=0.1)\n",
       "            )\n",
       "          )\n",
       "          (intermediate): BERTIntermediate(\n",
       "            (dense): Linear(in_features=768, out_features=3072, bias=True)\n",
       "          )\n",
       "          (output): BERTOutput(\n",
       "            (dense): Linear(in_features=3072, out_features=768, bias=True)\n",
       "            (LayerNorm): BERTLayerNorm()\n",
       "            (dropout): Dropout(p=0.1)\n",
       "          )\n",
       "        )\n",
       "        (2): BERTLayer(\n",
       "          (attention): BERTAttention(\n",
       "            (self): BERTSelfAttention(\n",
       "              (query): Linear(in_features=768, out_features=768, bias=True)\n",
       "              (key): Linear(in_features=768, out_features=768, bias=True)\n",
       "              (value): Linear(in_features=768, out_features=768, bias=True)\n",
       "              (dropout): Dropout(p=0.1)\n",
       "            )\n",
       "            (output): BERTSelfOutput(\n",
       "              (dense): Linear(in_features=768, out_features=768, bias=True)\n",
       "              (LayerNorm): BERTLayerNorm()\n",
       "              (dropout): Dropout(p=0.1)\n",
       "            )\n",
       "          )\n",
       "          (intermediate): BERTIntermediate(\n",
       "            (dense): Linear(in_features=768, out_features=3072, bias=True)\n",
       "          )\n",
       "          (output): BERTOutput(\n",
       "            (dense): Linear(in_features=3072, out_features=768, bias=True)\n",
       "            (LayerNorm): BERTLayerNorm()\n",
       "            (dropout): Dropout(p=0.1)\n",
       "          )\n",
       "        )\n",
       "        (3): BERTLayer(\n",
       "          (attention): BERTAttention(\n",
       "            (self): BERTSelfAttention(\n",
       "              (query): Linear(in_features=768, out_features=768, bias=True)\n",
       "              (key): Linear(in_features=768, out_features=768, bias=True)\n",
       "              (value): Linear(in_features=768, out_features=768, bias=True)\n",
       "              (dropout): Dropout(p=0.1)\n",
       "            )\n",
       "            (output): BERTSelfOutput(\n",
       "              (dense): Linear(in_features=768, out_features=768, bias=True)\n",
       "              (LayerNorm): BERTLayerNorm()\n",
       "              (dropout): Dropout(p=0.1)\n",
       "            )\n",
       "          )\n",
       "          (intermediate): BERTIntermediate(\n",
       "            (dense): Linear(in_features=768, out_features=3072, bias=True)\n",
       "          )\n",
       "          (output): BERTOutput(\n",
       "            (dense): Linear(in_features=3072, out_features=768, bias=True)\n",
       "            (LayerNorm): BERTLayerNorm()\n",
       "            (dropout): Dropout(p=0.1)\n",
       "          )\n",
       "        )\n",
       "        (4): BERTLayer(\n",
       "          (attention): BERTAttention(\n",
       "            (self): BERTSelfAttention(\n",
       "              (query): Linear(in_features=768, out_features=768, bias=True)\n",
       "              (key): Linear(in_features=768, out_features=768, bias=True)\n",
       "              (value): Linear(in_features=768, out_features=768, bias=True)\n",
       "              (dropout): Dropout(p=0.1)\n",
       "            )\n",
       "            (output): BERTSelfOutput(\n",
       "              (dense): Linear(in_features=768, out_features=768, bias=True)\n",
       "              (LayerNorm): BERTLayerNorm()\n",
       "              (dropout): Dropout(p=0.1)\n",
       "            )\n",
       "          )\n",
       "          (intermediate): BERTIntermediate(\n",
       "            (dense): Linear(in_features=768, out_features=3072, bias=True)\n",
       "          )\n",
       "          (output): BERTOutput(\n",
       "            (dense): Linear(in_features=3072, out_features=768, bias=True)\n",
       "            (LayerNorm): BERTLayerNorm()\n",
       "            (dropout): Dropout(p=0.1)\n",
       "          )\n",
       "        )\n",
       "        (5): BERTLayer(\n",
       "          (attention): BERTAttention(\n",
       "            (self): BERTSelfAttention(\n",
       "              (query): Linear(in_features=768, out_features=768, bias=True)\n",
       "              (key): Linear(in_features=768, out_features=768, bias=True)\n",
       "              (value): Linear(in_features=768, out_features=768, bias=True)\n",
       "              (dropout): Dropout(p=0.1)\n",
       "            )\n",
       "            (output): BERTSelfOutput(\n",
       "              (dense): Linear(in_features=768, out_features=768, bias=True)\n",
       "              (LayerNorm): BERTLayerNorm()\n",
       "              (dropout): Dropout(p=0.1)\n",
       "            )\n",
       "          )\n",
       "          (intermediate): BERTIntermediate(\n",
       "            (dense): Linear(in_features=768, out_features=3072, bias=True)\n",
       "          )\n",
       "          (output): BERTOutput(\n",
       "            (dense): Linear(in_features=3072, out_features=768, bias=True)\n",
       "            (LayerNorm): BERTLayerNorm()\n",
       "            (dropout): Dropout(p=0.1)\n",
       "          )\n",
       "        )\n",
       "        (6): BERTLayer(\n",
       "          (attention): BERTAttention(\n",
       "            (self): BERTSelfAttention(\n",
       "              (query): Linear(in_features=768, out_features=768, bias=True)\n",
       "              (key): Linear(in_features=768, out_features=768, bias=True)\n",
       "              (value): Linear(in_features=768, out_features=768, bias=True)\n",
       "              (dropout): Dropout(p=0.1)\n",
       "            )\n",
       "            (output): BERTSelfOutput(\n",
       "              (dense): Linear(in_features=768, out_features=768, bias=True)\n",
       "              (LayerNorm): BERTLayerNorm()\n",
       "              (dropout): Dropout(p=0.1)\n",
       "            )\n",
       "          )\n",
       "          (intermediate): BERTIntermediate(\n",
       "            (dense): Linear(in_features=768, out_features=3072, bias=True)\n",
       "          )\n",
       "          (output): BERTOutput(\n",
       "            (dense): Linear(in_features=3072, out_features=768, bias=True)\n",
       "            (LayerNorm): BERTLayerNorm()\n",
       "            (dropout): Dropout(p=0.1)\n",
       "          )\n",
       "        )\n",
       "        (7): BERTLayer(\n",
       "          (attention): BERTAttention(\n",
       "            (self): BERTSelfAttention(\n",
       "              (query): Linear(in_features=768, out_features=768, bias=True)\n",
       "              (key): Linear(in_features=768, out_features=768, bias=True)\n",
       "              (value): Linear(in_features=768, out_features=768, bias=True)\n",
       "              (dropout): Dropout(p=0.1)\n",
       "            )\n",
       "            (output): BERTSelfOutput(\n",
       "              (dense): Linear(in_features=768, out_features=768, bias=True)\n",
       "              (LayerNorm): BERTLayerNorm()\n",
       "              (dropout): Dropout(p=0.1)\n",
       "            )\n",
       "          )\n",
       "          (intermediate): BERTIntermediate(\n",
       "            (dense): Linear(in_features=768, out_features=3072, bias=True)\n",
       "          )\n",
       "          (output): BERTOutput(\n",
       "            (dense): Linear(in_features=3072, out_features=768, bias=True)\n",
       "            (LayerNorm): BERTLayerNorm()\n",
       "            (dropout): Dropout(p=0.1)\n",
       "          )\n",
       "        )\n",
       "        (8): BERTLayer(\n",
       "          (attention): BERTAttention(\n",
       "            (self): BERTSelfAttention(\n",
       "              (query): Linear(in_features=768, out_features=768, bias=True)\n",
       "              (key): Linear(in_features=768, out_features=768, bias=True)\n",
       "              (value): Linear(in_features=768, out_features=768, bias=True)\n",
       "              (dropout): Dropout(p=0.1)\n",
       "            )\n",
       "            (output): BERTSelfOutput(\n",
       "              (dense): Linear(in_features=768, out_features=768, bias=True)\n",
       "              (LayerNorm): BERTLayerNorm()\n",
       "              (dropout): Dropout(p=0.1)\n",
       "            )\n",
       "          )\n",
       "          (intermediate): BERTIntermediate(\n",
       "            (dense): Linear(in_features=768, out_features=3072, bias=True)\n",
       "          )\n",
       "          (output): BERTOutput(\n",
       "            (dense): Linear(in_features=3072, out_features=768, bias=True)\n",
       "            (LayerNorm): BERTLayerNorm()\n",
       "            (dropout): Dropout(p=0.1)\n",
       "          )\n",
       "        )\n",
       "        (9): BERTLayer(\n",
       "          (attention): BERTAttention(\n",
       "            (self): BERTSelfAttention(\n",
       "              (query): Linear(in_features=768, out_features=768, bias=True)\n",
       "              (key): Linear(in_features=768, out_features=768, bias=True)\n",
       "              (value): Linear(in_features=768, out_features=768, bias=True)\n",
       "              (dropout): Dropout(p=0.1)\n",
       "            )\n",
       "            (output): BERTSelfOutput(\n",
       "              (dense): Linear(in_features=768, out_features=768, bias=True)\n",
       "              (LayerNorm): BERTLayerNorm()\n",
       "              (dropout): Dropout(p=0.1)\n",
       "            )\n",
       "          )\n",
       "          (intermediate): BERTIntermediate(\n",
       "            (dense): Linear(in_features=768, out_features=3072, bias=True)\n",
       "          )\n",
       "          (output): BERTOutput(\n",
       "            (dense): Linear(in_features=3072, out_features=768, bias=True)\n",
       "            (LayerNorm): BERTLayerNorm()\n",
       "            (dropout): Dropout(p=0.1)\n",
       "          )\n",
       "        )\n",
       "        (10): BERTLayer(\n",
       "          (attention): BERTAttention(\n",
       "            (self): BERTSelfAttention(\n",
       "              (query): Linear(in_features=768, out_features=768, bias=True)\n",
       "              (key): Linear(in_features=768, out_features=768, bias=True)\n",
       "              (value): Linear(in_features=768, out_features=768, bias=True)\n",
       "              (dropout): Dropout(p=0.1)\n",
       "            )\n",
       "            (output): BERTSelfOutput(\n",
       "              (dense): Linear(in_features=768, out_features=768, bias=True)\n",
       "              (LayerNorm): BERTLayerNorm()\n",
       "              (dropout): Dropout(p=0.1)\n",
       "            )\n",
       "          )\n",
       "          (intermediate): BERTIntermediate(\n",
       "            (dense): Linear(in_features=768, out_features=3072, bias=True)\n",
       "          )\n",
       "          (output): BERTOutput(\n",
       "            (dense): Linear(in_features=3072, out_features=768, bias=True)\n",
       "            (LayerNorm): BERTLayerNorm()\n",
       "            (dropout): Dropout(p=0.1)\n",
       "          )\n",
       "        )\n",
       "        (11): BERTLayer(\n",
       "          (attention): BERTAttention(\n",
       "            (self): BERTSelfAttention(\n",
       "              (query): Linear(in_features=768, out_features=768, bias=True)\n",
       "              (key): Linear(in_features=768, out_features=768, bias=True)\n",
       "              (value): Linear(in_features=768, out_features=768, bias=True)\n",
       "              (dropout): Dropout(p=0.1)\n",
       "            )\n",
       "            (output): BERTSelfOutput(\n",
       "              (dense): Linear(in_features=768, out_features=768, bias=True)\n",
       "              (LayerNorm): BERTLayerNorm()\n",
       "              (dropout): Dropout(p=0.1)\n",
       "            )\n",
       "          )\n",
       "          (intermediate): BERTIntermediate(\n",
       "            (dense): Linear(in_features=768, out_features=3072, bias=True)\n",
       "          )\n",
       "          (output): BERTOutput(\n",
       "            (dense): Linear(in_features=3072, out_features=768, bias=True)\n",
       "            (LayerNorm): BERTLayerNorm()\n",
       "            (dropout): Dropout(p=0.1)\n",
       "          )\n",
       "        )\n",
       "      )\n",
       "    )\n",
       "    (pooler): BERTPooler(\n",
       "      (dense): Linear(in_features=768, out_features=768, bias=True)\n",
       "      (activation): Tanh()\n",
       "    )\n",
       "  )\n",
       "  (dropout): Dropout(p=0.1)\n",
       "  (word_decode): Linear(in_features=768, out_features=28996, bias=True)\n",
       ")"
      ]
     },
     "execution_count": 20,
     "metadata": {},
     "output_type": "execute_result"
    }
   ],
   "source": [
    "model = BertForMaskedLanguageModelling(bert_config)\n",
    "if args.init_checkpoint is not None:\n",
    "    model.bert.load_state_dict(torch.load(args.init_checkpoint, map_location='cpu'))\n",
    "    \n",
    "if os.path.isfile(save_path):\n",
    "    model.load_state_dict(torch.load(save_path, map_location='cpu'))\n",
    "    \n",
    "model.to(device)\n",
    "\n",
    "if args.local_rank != -1:\n",
    "    model = torch.nn.parallel.DistributedDataParallel(model, device_ids=[args.local_rank],\n",
    "                                                      output_device=args.local_rank)\n",
    "elif n_gpu > 1:\n",
    "    model = torch.nn.DataParallel(model)\n",
    "    \n",
    "model"
   ]
  },
  {
   "cell_type": "markdown",
   "metadata": {},
   "source": [
    "# Opt"
   ]
  },
  {
   "cell_type": "code",
   "execution_count": 21,
   "metadata": {
    "ExecuteTime": {
     "end_time": "2018-11-11T22:18:57.004504Z",
     "start_time": "2018-11-11T22:18:56.975590Z"
    }
   },
   "outputs": [],
   "source": [
    "no_decay = ['bias', 'gamma', 'beta']\n",
    "optimizer_parameters = [\n",
    "    {'params': [p for n, p in model.named_parameters() if n not in no_decay], 'weight_decay_rate': 0.01},\n",
    "    {'params': [p for n, p in model.named_parameters() if n in no_decay], 'weight_decay_rate': 0.0}\n",
    "    ]\n",
    "\n",
    "optimizer = BERTAdam(optimizer_parameters,\n",
    "                     lr=args.learning_rate,\n",
    "                     warmup=args.warmup_proportion,\n",
    "                t_total=num_train_steps)"
   ]
  },
  {
   "cell_type": "markdown",
   "metadata": {
    "ExecuteTime": {
     "end_time": "2018-11-10T06:53:34.605262Z",
     "start_time": "2018-11-10T06:53:34.578815Z"
    }
   },
   "source": [
    "# Predict helpers"
   ]
  },
  {
   "cell_type": "code",
   "execution_count": 312,
   "metadata": {
    "ExecuteTime": {
     "end_time": "2018-11-12T00:59:14.494132Z",
     "start_time": "2018-11-12T00:59:14.432116Z"
    }
   },
   "outputs": [],
   "source": [
    "import re\n",
    "from IPython.display import HTML, display\n",
    "\n",
    "b4='(\\<span[^\\>]+\\>)?'\n",
    "after='(\\<\\/span\\>)?'\n",
    "\n",
    "replace_list = [\n",
    "    # punctuation\n",
    "    ['\\s{}\\,'.format(b4), r'\\1,'],\n",
    "    ['\\s{}\\.'.format(b4), r'\\1.'],\n",
    "    ['\\s{}\\:'.format(b4), r'\\1:'],\n",
    "    ['\\s{}\\;'.format(b4), r'\\1;'],\n",
    "    ['\\s{}\\!'.format(b4), r'\\1!'],\n",
    "    ['\\s{}\\?'.format(b4), r'\\1?'],\n",
    "    [\"\\s{}\\'{}\\s?\".format(b4,after), r\"\\1'\\2\"],\n",
    "    [\"\\s{}\\-{}\\s\".format(b4,after), r\"\\1-\\2\"],\n",
    "    [\"\\“{}\\s\".format(after), r\"“\\1\"],\n",
    "    [\"\\s{}\\”\".format(b4), r\"\\1”\"],\n",
    "    [\"\\s{}\\’\".format(b4), r\"\\1’\"],\n",
    "    \n",
    "    # tokenization\n",
    "    ['\\s?{}\\#\\#'.format(b4), r'\\1'],    \n",
    "#     ['\\[CLS\\]\\s?', ''],\n",
    "#     ['\\s?\\[SEP\\]\\s?', ''],\n",
    "    [\"\\[\\s?PAD\\s?\\]\\s?\", r\"\"],\n",
    "    [\"\\s?\\¿\\s?\", r\"\"],\n",
    "#     [UNK]\n",
    "#     [MASK]\n",
    "#     [CLS]\n",
    "    # TODO ideally I need to be able to do these with of without span tags\n",
    "]\n",
    "\n",
    "def clean_decoded(tokens):\n",
    "    s = ' '.join(tokens)\n",
    "    for a, b in replace_list:\n",
    "        p = re.search(a, s)\n",
    "        s = re.sub(a, b, s)\n",
    "    return s\n"
   ]
  },
  {
   "cell_type": "code",
   "execution_count": 313,
   "metadata": {
    "ExecuteTime": {
     "end_time": "2018-11-12T00:59:15.183131Z",
     "start_time": "2018-11-12T00:59:14.626310Z"
    }
   },
   "outputs": [
    {
     "name": "stdout",
     "output_type": "stream",
     "text": [
      "¿ ¿ ¿ ¿ ¿ ¿ ¿ ¿ ¿ ¿ ¿ ¿ ¿ ¿ ¿ ¿ ¿ ¿ ¿ ¿ ¿ ¿ ¿ ¿ ¿ ¿ ¿ ¿ ¿ ¿ ¿ ¿ ¿ ¿ ¿ ¿ ¿ ¿ ¿ ¿ ¿ ¿ ¿ ¿ ¿ ¿ ¿ ¿ ¿ ¿ ¿ ¿ ¿ ¿ ¿ ¿ ¿ ¿ ¿ ¿ ¿ ¿ ¿ ¿ ¿ ¿ ¿ ¿ ¿ ¿ ¿ ¿ ¿ ¿ ¿ ¿ ¿ ¿ ¿ ¿ ¿ ¿ ¿ ¿ ¿ ¿ ¿ ¿ ¿ ¿ ¿ ¿ ¿ ¿ ¿ ¿ ¿ ¿ ¿ ¿ ¿ ¿ ¿ ¿ ¿ ¿ ¿ ¿ ¿ ¿ ¿ ¿ ¿ The authorities at Scotland Yard are unable to suggest any explanation of these terrible occurrences.\n",
      "['¿', '¿', '¿', '¿', '¿', '¿', '¿', '¿', '¿', '¿', '¿', '¿', '¿', '¿', '¿', '¿', '¿', '¿', '¿', '¿', '¿', '¿', '¿', '¿', '¿', '¿', '¿', '¿', '¿', '¿', '¿', '¿', '¿', '¿', '¿', '¿', '¿', '¿', '¿', '¿', '¿', '¿', '¿', '¿', '¿', '¿', '¿', '¿', '¿', '¿', '¿', '¿', '¿', '¿', '¿', '¿', '¿', '¿', '¿', '¿', '¿', '¿', '¿', '¿', '¿', '¿', '¿', '¿', '¿', '¿', '¿', '¿', '¿', '¿', '¿', '¿', '¿', '¿', '¿', '¿', '¿', '¿', '¿', '¿', '¿', '¿', '¿', '¿', '¿', '¿', '¿', '¿', '¿', '¿', '¿', '¿', '¿', '¿', '¿', '¿', '¿', '¿', '¿', '¿', '¿', '¿', '¿', '¿', '¿', '¿', '¿', '¿', '¿', 'The', 'authorities', 'at', 'Scotland', 'Yard', 'are', 'unable', 'to', 'suggest', 'any', 'explanation', 'of', 'these', 'terrible', 'occurrence']\n",
      "tensor([[  101,   225,   225,   225,   225,   225,   225,   225,   225,   225,\n",
      "           225,   225,   225,   225,   225,   225,   225,   225,   225,   225,\n",
      "           225,   225,   225,   225,   225,   225,   225,   225,   103,   225,\n",
      "           103,   225,   103,   225,   225,   225,   225,   225,   225,   225,\n",
      "           225,   225,   225,   225,   225,   225,   225,   225,   225,   225,\n",
      "           225,   225,   225,   225,   225,   225,   225,   225,   225,   103,\n",
      "           225,   225,   225,   225,   225,   225,   225,   225,   225,   225,\n",
      "           225,   225,   103,   225,   225,   225,   225,   225,   225,   225,\n",
      "           225,   225,   225,   225,   225,   225,   103,   225,   225,   225,\n",
      "           225,   225,   225,   103,   225,   225,   225,   225,   225,   225,\n",
      "           225,   225,   225,   225,   225,   225,   225,   225,   225,   225,\n",
      "           225,   225,   225,   225,  1109,  3912,  1120,   103, 13177,  1132,\n",
      "          3372,  1106,  5996,  1251,  7108,  1104,  1292,   102]])\n"
     ]
    },
    {
     "data": {
      "text/html": [
       "The authorities at Scotland Yard are unable to suggest any explanation of these <span style=\"color: rgba(255,0,0,1)\">thing</span><span style=\"color: rgba(255,0,0,1)\">O</span> <span style=\"color: rgba(255,0,0,1)\">[CLS]</span> <span style=\"color: rgba(255,0,0,1)\">[MASK]</span> <span style=\"color: rgba(255,0,0,1)\">r</span> <span style=\"color: rgba(255,0,0,1)\">*</span> <span style=\"color: rgba(255,0,0,1)\">Pi</span><span style=\"color: rgba(255,0,0,1)\">r</span><span style=\"color: rgba(255,0,0,1)\">.</span> <span style=\"color: rgba(255,0,0,1)\">It</span>"
      ],
      "text/plain": [
       "<IPython.core.display.HTML object>"
      ]
     },
     "metadata": {},
     "output_type": "display_data"
    }
   ],
   "source": [
    "val_test=\"\"\"The authorities at Scotland Yard are unable to suggest any explanation of these terrible occurrences.\"\"\"\n",
    "display(predict_next_words(val_test, processor, tokenizer, n=10, T=.5))"
   ]
  },
  {
   "cell_type": "code",
   "execution_count": 347,
   "metadata": {
    "ExecuteTime": {
     "end_time": "2018-11-12T01:03:44.135262Z",
     "start_time": "2018-11-12T01:03:44.110374Z"
    }
   },
   "outputs": [],
   "source": [
    "\n",
    "def html_clean_decoded_logits(input_ids, logits, input_mask, label_weights):\n",
    "    \"\"\"Format model outputs as html, with masked elements in red, with opacity indicating confidence.\"\"\"\n",
    "    log_probs = nn.LogSoftmax(-1)(logits).detach()\n",
    "    prediction_idxs = log_probs.argmax(-1)\n",
    "    # join masked an non masked\n",
    "    y = input_ids *  (1 - label_weights) + prediction_idxs * label_weights\n",
    "    yd = [decoder[hh.item()] for hh in y]\n",
    "    html_yd = []\n",
    "    for i in range(len(yd)):\n",
    "        if not label_weights[i]:\n",
    "            html_yd.append(yd[i])\n",
    "        else:\n",
    "            prob = log_probs[i][prediction_idxs[i]].exp()\n",
    "            prob = prob/2 + 0.5\n",
    "            html_yd.append('<span style=\"color: rgba(255,0,0,{})\">{}</span>'.format(prob, yd[i]))\n",
    "    return clean_decoded(html_yd)\n",
    "\n",
    "def html_clean_decoded(tokens, input_mask, label_weights):\n",
    "    \"\"\"Format model outputs as html, with masked elements in red, with opacity indicating confidence.\"\"\"\n",
    "    yd = [decoder[hh.item()] for hh in tokens]\n",
    "    html_yd = []\n",
    "    for i in range(len(yd)):\n",
    "        if not label_weights[i]:\n",
    "            html_yd.append(yd[i])\n",
    "        else:\n",
    "            prob = 1\n",
    "            html_yd.append('<span style=\"color: rgba(255,0,0,{})\">{}</span>'.format(prob, yd[i]))\n",
    "    return clean_decoded(html_yd)"
   ]
  },
  {
   "cell_type": "code",
   "execution_count": null,
   "metadata": {
    "ExecuteTime": {
     "end_time": "2018-11-12T00:57:36.052724Z",
     "start_time": "2018-11-12T00:57:36.003249Z"
    }
   },
   "outputs": [],
   "source": []
  },
  {
   "cell_type": "code",
   "execution_count": 368,
   "metadata": {
    "ExecuteTime": {
     "end_time": "2018-11-12T01:05:26.011488Z",
     "start_time": "2018-11-12T01:05:25.985108Z"
    }
   },
   "outputs": [],
   "source": [
    "\n",
    "\n",
    "\n",
    "def predict_masked_words(x, processor, tokenizer, n=10):\n",
    "    ex = processor._create_examples(x, \"train\", tqdm=notqdm)[-1:]\n",
    "    label_list = processor.get_labels()\n",
    "\n",
    "    log_feats = convert_tokens_to_features(ex, label_list, args.max_seq_length, tokenizer, tqdm=notqdm)\n",
    "\n",
    "    log_input_ids = torch.tensor([f.input_ids for f in log_feats], dtype=torch.long)\n",
    "    log_input_mask = torch.tensor([f.input_mask for f in log_feats], dtype=torch.long)\n",
    "    log_segment_ids = torch.tensor([f.segment_ids for f in log_feats], dtype=torch.long)\n",
    "    log_label_ids = torch.tensor([f.label_id for f in log_feats], dtype=torch.long)\n",
    "    log_label_weights = torch.tensor([f.label_weights for f in log_feats], dtype=torch.long)\n",
    "\n",
    "    batch = [log_input_ids, log_input_mask, log_segment_ids, log_label_ids, log_label_weights]\n",
    "\n",
    "    with torch.no_grad():\n",
    "        batch = tuple(t.to(device) for t in batch)\n",
    "        input_ids, input_mask, segment_ids, label_ids, label_weights = batch\n",
    "        logits = model(input_ids, segment_ids, input_mask).detach()\n",
    "\n",
    "    i = 0\n",
    "    display(HTML(html_clean_decoded(tokens=log_label_ids[i][1:-2], input_mask=input_mask[i][1:-2], label_weights=label_weights[i][1:-2]).replace('rgba(255,0,0', 'rgba(0,0,255')))\n",
    "    display(HTML(html_clean_decoded_logits(input_ids=input_ids[i][1:-1], input_mask=input_mask[i][1:-1], logits=logits[i][1:-1], label_weights=label_weights[i][1:-1])))\n"
   ]
  },
  {
   "cell_type": "code",
   "execution_count": null,
   "metadata": {},
   "outputs": [],
   "source": []
  },
  {
   "cell_type": "code",
   "execution_count": 481,
   "metadata": {
    "ExecuteTime": {
     "end_time": "2018-11-12T01:28:28.968866Z",
     "start_time": "2018-11-12T01:28:28.935276Z"
    }
   },
   "outputs": [],
   "source": [
    "# def predictions\n",
    "def pad_seq(s1):\n",
    "    # HACK: pad short sentances with\n",
    "    x = '¿ ' * (args.max_seq_length + 2 - len(tokenizer.tokenize(s1))) + s1\n",
    "    return x\n",
    "\n",
    "def predict_next_words(text, processor, tokenizer, n=10, T=1.0):\n",
    "    \"\"\"\n",
    "    Predict next `n` words for some `text`\n",
    "    Args:\n",
    "    - text (str) base string, we will predict next words\n",
    "    - processor\n",
    "    - tokenizer\n",
    "    - n (int) amount of words to predict\n",
    "    - T (float) temperature for when samping predictions\n",
    "    \n",
    "    Returns:\n",
    "    - IPython html object, which show predicted words in red, with opacity indicating confidence\n",
    "    \"\"\"\n",
    "    discarded = []\n",
    "    x= pad_seq(text)\n",
    "    ex = processor._create_examples(x, \"train\", tqdm=notqdm)[-1:]\n",
    "    label_list = processor.get_labels()\n",
    "\n",
    "    log_feats = convert_tokens_to_features(ex, label_list, args.max_seq_length, tokenizer, tqdm=notqdm)\n",
    "\n",
    "    with torch.no_grad():\n",
    "\n",
    "        log_input_ids = torch.tensor([f.input_ids for f in log_feats], dtype=torch.long)\n",
    "        log_input_mask = torch.tensor([f.input_mask for f in log_feats], dtype=torch.long)\n",
    "        log_segment_ids = torch.tensor([f.segment_ids for f in log_feats], dtype=torch.long)\n",
    "        log_label_ids = torch.tensor([f.label_id for f in log_feats], dtype=torch.long)\n",
    "        log_label_weights = torch.tensor([f.label_weights for f in log_feats], dtype=torch.long)\n",
    "\n",
    "        # Now we only want to predict the next word... so remove our masks\n",
    "        log_input_ids = log_label_ids * 1\n",
    "        log_label_weights[:]=0\n",
    "\n",
    "        # and add a mask token 2nd to last, and drop the first word (to keep max seq len)\n",
    "        discarded.append(log_input_ids[0, 1])\n",
    "        log_input_ids = torch.cat([torch.tensor([[101]]), log_input_ids[:, 2:-1], torch.tensor([[103, 102]])], -1)\n",
    "        log_input_mask = torch.cat([log_input_mask[:, 1:], torch.tensor([[1]])], -1) # Add one to end\n",
    "        log_label_weights[:, -2] = 1\n",
    "\n",
    "        batch = [log_input_ids, log_input_mask, log_segment_ids, log_label_ids, log_label_weights]\n",
    "        batch = tuple(t.to(device) for t in batch)\n",
    "        input_ids, input_mask, segment_ids, label_ids, label_weights = batch\n",
    "        \n",
    "        \n",
    "\n",
    "        for i in range(n):\n",
    "            logits = model(input_ids, segment_ids, input_mask).detach()\n",
    "            \n",
    "            \n",
    "            \n",
    "            \n",
    "            # sample outputs with probability...\n",
    "            predictions = torch.distributions.Multinomial(logits=logits/T).sample()\n",
    "            next_word = predictions[:, -2].argmax(dim = -1)\n",
    "\n",
    "            # Add prediction to end, and update data tensor by rolling the contents\n",
    "            # drop first part of content, add prediction to end of content (and put sides back: CLS=101 at start, and MASK=103, SEP=102 at end again)\n",
    "            discarded.append(input_ids[0, 1])\n",
    "            input_ids = torch.cat([torch.tensor([[101]]).cuda(), input_ids[:, 2:-2], torch.tensor([[next_word, 103, 102]]).cuda()], -1) \n",
    "            input_mask = torch.cat([input_mask[:, 1:], torch.tensor([[1]]).cuda()], -1) # drop first, add [1] to end\n",
    "            label_weights = torch.cat([label_weights[:, 1:-1], torch.tensor([[1, 0]]).cuda()], -1) # drop 1st, add 1 to end of content\n",
    "            \n",
    "#            # I could print probabilities\n",
    "#             log_probs = F.log_softmax(logits, -1)\n",
    "#             print(decoder[next_word.item()], 'prob={:2.4e}'.format(log_probs[0, -1, next_word.item()].exp().item()))\n",
    "\n",
    "    # TODO add discarded start tokens\n",
    "    input_ids = torch.cat([torch.tensor([discarded]).cuda(), input_ids[:, 2:-2]], -1) \n",
    "    input_mask = torch.cat([torch.tensor([[1]*len(discarded)]).cuda(), input_mask[:, 2:-2]], -1) # drop first, add [1] to end\n",
    "    label_weights = torch.cat([torch.tensor([[0]*len(discarded)]).cuda(), label_weights[:, 2:-2]], -1) # drop 1st, add 1 to end of content            \n",
    "\n",
    "    batch = 0\n",
    "    # return html fragment, cleaned, but cut of the first and last two tokens which are [CLS] and [MASK][SEP]\n",
    "    return HTML(html_clean_decoded(tokens=input_ids[batch], input_mask=input_mask[batch], label_weights=label_weights[batch]))"
   ]
  },
  {
   "cell_type": "code",
   "execution_count": 487,
   "metadata": {
    "ExecuteTime": {
     "end_time": "2018-11-12T01:29:20.732653Z",
     "start_time": "2018-11-12T01:29:19.196036Z"
    }
   },
   "outputs": [
    {
     "data": {
      "text/html": [
       "Another gentleman has fallen a victim to the terrible epidemic of suicide which for the last month has prevailed in the West End. Mr. Sidney Crashaw of Stoke House, Fulham, and King's Pomeroy, Devon, was found, after a prolonged search, hanging dead from the branch of a tree in his garden at one o'clock today. The deceased gentleman dined last night at the Carlton Club and seemed in his usual health and spirits. He left the club at about ten o'clock, and was seen walking leisurely up St. James's Street a little later. Subsequent to this his <span style=\"color: rgba(255,0,0,1)\">smell</span> <span style=\"color: rgba(255,0,0,1)\">is</span> <span style=\"color: rgba(255,0,0,1)\">long</span> <span style=\"color: rgba(255,0,0,1)\">too</span> <span style=\"color: rgba(255,0,0,1)\">bright</span><span style=\"color: rgba(255,0,0,1)\">,</span> <span style=\"color: rgba(255,0,0,1)\">as</span> <span style=\"color: rgba(255,0,0,1)\">only</span> <span style=\"color: rgba(255,0,0,1)\">several</span> <span style=\"color: rgba(255,0,0,1)\">years</span> <span style=\"color: rgba(255,0,0,1)\">once</span> <span style=\"color: rgba(255,0,0,1)\">while</span> <span style=\"color: rgba(255,0,0,1)\">a</span> <span style=\"color: rgba(255,0,0,1)\">foot</span><span style=\"color: rgba(255,0,0,1)\">aw</span> <span style=\"color: rgba(255,0,0,1)\">as</span> <span style=\"color: rgba(255,0,0,1)\">these</span> <span style=\"color: rgba(255,0,0,1)\">fly</span><span style=\"color: rgba(255,0,0,1)\">s</span> <span style=\"color: rgba(255,0,0,1)\">is</span> <span style=\"color: rgba(255,0,0,1)\">well</span> <span style=\"color: rgba(255,0,0,1)\">a</span> <span style=\"color: rgba(255,0,0,1)\">new</span> <span style=\"color: rgba(255,0,0,1)\">player</span> <span style=\"color: rgba(255,0,0,1)\">of</span> <span style=\"color: rgba(255,0,0,1)\">third</span><span style=\"color: rgba(255,0,0,1)\">roft</span><span style=\"color: rgba(255,0,0,1)\">nos</span><span style=\"color: rgba(255,0,0,1)\">s</span><span style=\"color: rgba(255,0,0,1)\">;</span>"
      ],
      "text/plain": [
       "<IPython.core.display.HTML object>"
      ]
     },
     "metadata": {},
     "output_type": "display_data"
    }
   ],
   "source": [
    "val_test=\"\"\"Another gentleman has fallen a victim to the terrible epidemic of suicide which for the last month has prevailed in the West End. Mr. Sidney Crashaw, of Stoke House, Fulham, and King's Pomeroy, Devon, was found, after a prolonged search, hanging dead from the branch of a tree in his garden at one o'clock today. The deceased gentleman dined last night at the Carlton Club and seemed in his usual health and spirits. He left the club at about ten o'clock, and was seen walking leisurely up St. James's Street a little later. Subsequent to this his movements cannot be traced\"\"\"\n",
    "display(predict_next_words(val_test, processor, tokenizer, n=30, T=1))"
   ]
  },
  {
   "cell_type": "code",
   "execution_count": 483,
   "metadata": {
    "ExecuteTime": {
     "end_time": "2018-11-12T01:28:34.978701Z",
     "start_time": "2018-11-12T01:28:34.864235Z"
    }
   },
   "outputs": [
    {
     "data": {
      "text/html": [
       "Another gentleman <span style=\"color: rgba(0,0,255,1)\">has</span> fallen a victim <span style=\"color: rgba(0,0,255,1)\">to</span> the terrible epidemic of suicide which for the last month has prevailed in the West <span style=\"color: rgba(0,0,255,1)\">End</span>. Mr. Sidney Crashaw, of Stoke House, <span style=\"color: rgba(0,0,255,1)\">Fulham</span>, and King's Pomeroy, Devon, was found, after a prolonged <span style=\"color: rgba(0,0,255,1)\">search</span>, hanging dead from <span style=\"color: rgba(0,0,255,1)\">the</span> branch of a tree in <span style=\"color: rgba(0,0,255,1)\">his</span> garden at one o'clock today. The deceased gentleman dined last night at the Carlton Club and seemed in <span style=\"color: rgba(0,0,255,1)\">his</span> usual health and spirits. He left the club at about ten <span style=\"color: rgba(0,0,255,1)\">o</span>'clock, <span style=\"color: rgba(0,0,255,1)\">and</span> was seen <span style=\"color: rgba(0,0,255,1)\">walking</span> leisurely up St. James's Street a little later. Subsequent to this his movements"
      ],
      "text/plain": [
       "<IPython.core.display.HTML object>"
      ]
     },
     "metadata": {},
     "output_type": "display_data"
    },
    {
     "data": {
      "text/html": [
       "Another gentleman <span style=\"color: rgba(255,0,0,0.7303758859634399)\">has</span> fallen a victim <span style=\"color: rgba(255,0,0,0.8462989330291748)\">of</span> the terrible epidemic of suicide which for the last month has prevailed in the West <span style=\"color: rgba(255,0,0,0.5044392943382263)\">house</span>. Mr. Sidney Crashaw, of Stoke House, <span style=\"color: rgba(255,0,0,0.5461980104446411)\">Fulham</span>, and King's Pomeroy, Devon, was found, after a prolonged <span style=\"color: rgba(255,0,0,0.5169504284858704)\">time</span>, hanging dead from <span style=\"color: rgba(255,0,0,0.7394130229949951)\">a</span> branch of a tree in <span style=\"color: rgba(255,0,0,0.9106065034866333)\">the</span> garden at one o'clock today. The deceased gentleman dined last night at the Carlton Club and seemed in <span style=\"color: rgba(255,0,0,0.8947649002075195)\">his</span> usual health and spirits. He left the club at about ten <span style=\"color: rgba(255,0,0,0.7222446799278259)\">o</span>'clock, <span style=\"color: rgba(255,0,0,0.9270979762077332)\">and</span> was seen <span style=\"color: rgba(255,0,0,0.5108805894851685)\">going</span> leisurely up St. James's Street a little later. Subsequent to this his movements cannot"
      ],
      "text/plain": [
       "<IPython.core.display.HTML object>"
      ]
     },
     "metadata": {},
     "output_type": "display_data"
    },
    {
     "data": {
      "text/plain": [
       "None"
      ]
     },
     "metadata": {},
     "output_type": "display_data"
    }
   ],
   "source": [
    "display(predict_masked_words(val_test, processor, tokenizer))"
   ]
  },
  {
   "cell_type": "markdown",
   "metadata": {},
   "source": [
    "# Train 3"
   ]
  },
  {
   "cell_type": "code",
   "execution_count": 27,
   "metadata": {
    "ExecuteTime": {
     "end_time": "2018-11-11T22:18:57.796527Z",
     "start_time": "2018-11-11T22:18:57.775712Z"
    }
   },
   "outputs": [],
   "source": [
    "global_step = 0"
   ]
  },
  {
   "cell_type": "code",
   "execution_count": 488,
   "metadata": {
    "ExecuteTime": {
     "end_time": "2018-11-12T01:29:50.949338Z",
     "start_time": "2018-11-12T01:29:25.023647Z"
    }
   },
   "outputs": [
    {
     "data": {
      "application/vnd.jupyter.widget-view+json": {
       "model_id": "479be2b8785647c3b809d06a85fa77ca",
       "version_major": 2,
       "version_minor": 0
      },
      "text/plain": [
       "HBox(children=(IntProgress(value=0, description='Epoch', max=3), HTML(value='')))"
      ]
     },
     "metadata": {},
     "output_type": "display_data"
    },
    {
     "data": {
      "application/vnd.jupyter.widget-view+json": {
       "model_id": "2e41dd0b67194a67919d6c61d8e244cd",
       "version_major": 2,
       "version_minor": 0
      },
      "text/plain": [
       "HBox(children=(IntProgress(value=0, description='Iteration', max=14935), HTML(value='')))"
      ]
     },
     "metadata": {},
     "output_type": "display_data"
    },
    {
     "name": "stdout",
     "output_type": "stream",
     "text": [
      "step 10 loss 0.13508770953525195\n"
     ]
    },
    {
     "data": {
      "text/html": [
       "Another gentleman has fallen a victim to the terrible epidemic of suicide which for <span style=\"color: rgba(0,0,255,1)\">the</span> last <span style=\"color: rgba(0,0,255,1)\">month</span> <span style=\"color: rgba(0,0,255,1)\">has</span> prevailed in the West End. Mr. Sidney Crashaw, of Stoke House, Fulham, and King's Pomeroy, Devon, was found<span style=\"color: rgba(0,0,255,1)\">,</span> after a prolonged search, hanging dead from the branch of a <span style=\"color: rgba(0,0,255,1)\">tree</span> in his garden at one o'clock today. The deceased gentleman dined <span style=\"color: rgba(0,0,255,1)\">last</span> night at the Carlton Club and seemed in his usual health and spirits. He left the club at about ten o'clock, and was seen walking leisurely up St. James's Street a little later. Subsequent to this his movements"
      ],
      "text/plain": [
       "<IPython.core.display.HTML object>"
      ]
     },
     "metadata": {},
     "output_type": "display_data"
    },
    {
     "data": {
      "text/html": [
       "Another gentleman has fallen a victim to the terrible epidemic of suicide which for <span style=\"color: rgba(255,0,0,0.9373735189437866)\">the</span> last <span style=\"color: rgba(255,0,0,0.5495163798332214)\">month</span> <span style=\"color: rgba(255,0,0,0.7248708605766296)\">had</span> prevailed in the West End. Mr. Sidney Crashaw, of Stoke House, Fulham, and King's Pomeroy, Devon, was found<span style=\"color: rgba(255,0,0,0.9691455364227295)\">,</span> after a prolonged search, hanging dead from the branch of a <span style=\"color: rgba(255,0,0,0.5227096676826477)\">tree</span> in his garden at one o'clock today. The deceased gentleman dined <span style=\"color: rgba(255,0,0,0.5468755960464478)\">the</span> night at the Carlton Club and seemed in his usual health and spirits. He left the club at about ten o'clock, and was seen walking leisurely up St. James's Street a little later. Subsequent to this his movements cannot"
      ],
      "text/plain": [
       "<IPython.core.display.HTML object>"
      ]
     },
     "metadata": {},
     "output_type": "display_data"
    },
    {
     "data": {
      "text/plain": [
       "None"
      ]
     },
     "metadata": {},
     "output_type": "display_data"
    },
    {
     "data": {
      "text/html": [
       "Another gentleman has fallen a victim to the terrible of suicide which for the last month has prevailed in the West End. Mr. Sidney Crashaw, of Stoke House, Fulham, and King's Pomeroy, Devon, was found, after a prolonged search, hanging dead from the branch of a tree in his garden at one o'clock today. The deceased gentleman dined last night at the Carlton Club and seemed in his usual health and spirits. He left the club at about ten o'clock, and was seen walking leisurely up St. James's Street a little later. Subsequent to this his <span style=\"color: rgba(255,0,0,1)\">chest</span> <span style=\"color: rgba(255,0,0,1)\">made</span> <span style=\"color: rgba(255,0,0,1)\">walled</span> <span style=\"color: rgba(255,0,0,1)\">against</span> <span style=\"color: rgba(255,0,0,1)\">of</span> <span style=\"color: rgba(255,0,0,1)\">his</span> <span style=\"color: rgba(255,0,0,1)\">love</span> <span style=\"color: rgba(255,0,0,1)\">mouse</span><span style=\"color: rgba(255,0,0,1)\">na</span> <span style=\"color: rgba(255,0,0,1)\">hair</span>"
      ],
      "text/plain": [
       "<IPython.core.display.HTML object>"
      ]
     },
     "metadata": {},
     "output_type": "display_data"
    },
    {
     "ename": "KeyboardInterrupt",
     "evalue": "",
     "output_type": "error",
     "traceback": [
      "\u001b[0;31m---------------------------------------------------------------------------\u001b[0m",
      "\u001b[0;31mKeyboardInterrupt\u001b[0m                         Traceback (most recent call last)",
      "\u001b[0;32m<ipython-input-488-32db1656c1d6>\u001b[0m in \u001b[0;36m<module>\u001b[0;34m()\u001b[0m\n\u001b[1;32m     17\u001b[0m             \u001b[0mnb_tr_steps\u001b[0m \u001b[0;34m+=\u001b[0m \u001b[0;36m1\u001b[0m\u001b[0;34m\u001b[0m\u001b[0m\n\u001b[1;32m     18\u001b[0m             \u001b[0;32mif\u001b[0m \u001b[0;34m(\u001b[0m\u001b[0mstep\u001b[0m \u001b[0;34m+\u001b[0m \u001b[0;36m1\u001b[0m\u001b[0;34m)\u001b[0m \u001b[0;34m%\u001b[0m \u001b[0margs\u001b[0m\u001b[0;34m.\u001b[0m\u001b[0mgradient_accumulation_steps\u001b[0m \u001b[0;34m==\u001b[0m \u001b[0;36m0\u001b[0m\u001b[0;34m:\u001b[0m\u001b[0;34m\u001b[0m\u001b[0m\n\u001b[0;32m---> 19\u001b[0;31m                 \u001b[0moptimizer\u001b[0m\u001b[0;34m.\u001b[0m\u001b[0mstep\u001b[0m\u001b[0;34m(\u001b[0m\u001b[0;34m)\u001b[0m    \u001b[0;31m# We have accumulated enougth gradients\u001b[0m\u001b[0;34m\u001b[0m\u001b[0m\n\u001b[0m\u001b[1;32m     20\u001b[0m                 \u001b[0mmodel\u001b[0m\u001b[0;34m.\u001b[0m\u001b[0mzero_grad\u001b[0m\u001b[0;34m(\u001b[0m\u001b[0;34m)\u001b[0m\u001b[0;34m\u001b[0m\u001b[0m\n\u001b[1;32m     21\u001b[0m             \u001b[0mprog\u001b[0m\u001b[0;34m.\u001b[0m\u001b[0mupdate\u001b[0m\u001b[0;34m(\u001b[0m\u001b[0;36m1\u001b[0m\u001b[0;34m)\u001b[0m\u001b[0;34m\u001b[0m\u001b[0m\n",
      "\u001b[0;32m/media/wassname/Storage5/projects2/pytorch-pretrained-BERT/optimization.py\u001b[0m in \u001b[0;36mstep\u001b[0;34m(self, closure)\u001b[0m\n\u001b[1;32m    125\u001b[0m                 \u001b[0;31m# Add grad clipping\u001b[0m\u001b[0;34m\u001b[0m\u001b[0;34m\u001b[0m\u001b[0m\n\u001b[1;32m    126\u001b[0m                 \u001b[0;32mif\u001b[0m \u001b[0mgroup\u001b[0m\u001b[0;34m[\u001b[0m\u001b[0;34m'max_grad_norm'\u001b[0m\u001b[0;34m]\u001b[0m \u001b[0;34m>\u001b[0m \u001b[0;36m0\u001b[0m\u001b[0;34m:\u001b[0m\u001b[0;34m\u001b[0m\u001b[0m\n\u001b[0;32m--> 127\u001b[0;31m                     \u001b[0mclip_grad_norm_\u001b[0m\u001b[0;34m(\u001b[0m\u001b[0mp\u001b[0m\u001b[0;34m,\u001b[0m \u001b[0mgroup\u001b[0m\u001b[0;34m[\u001b[0m\u001b[0;34m'max_grad_norm'\u001b[0m\u001b[0;34m]\u001b[0m\u001b[0;34m)\u001b[0m\u001b[0;34m\u001b[0m\u001b[0m\n\u001b[0m\u001b[1;32m    128\u001b[0m \u001b[0;34m\u001b[0m\u001b[0m\n\u001b[1;32m    129\u001b[0m                 \u001b[0;31m# Decay the first and second moment running average coefficient\u001b[0m\u001b[0;34m\u001b[0m\u001b[0;34m\u001b[0m\u001b[0m\n",
      "\u001b[0;32m~/.pyenv/versions/3.5.3/envs/jupyter3/lib/python3.5/site-packages/torch/nn/utils/clip_grad.py\u001b[0m in \u001b[0;36mclip_grad_norm_\u001b[0;34m(parameters, max_norm, norm_type)\u001b[0m\n\u001b[1;32m     30\u001b[0m         \u001b[0mtotal_norm\u001b[0m \u001b[0;34m=\u001b[0m \u001b[0;36m0\u001b[0m\u001b[0;34m\u001b[0m\u001b[0m\n\u001b[1;32m     31\u001b[0m         \u001b[0;32mfor\u001b[0m \u001b[0mp\u001b[0m \u001b[0;32min\u001b[0m \u001b[0mparameters\u001b[0m\u001b[0;34m:\u001b[0m\u001b[0;34m\u001b[0m\u001b[0m\n\u001b[0;32m---> 32\u001b[0;31m             \u001b[0mparam_norm\u001b[0m \u001b[0;34m=\u001b[0m \u001b[0mp\u001b[0m\u001b[0;34m.\u001b[0m\u001b[0mgrad\u001b[0m\u001b[0;34m.\u001b[0m\u001b[0mdata\u001b[0m\u001b[0;34m.\u001b[0m\u001b[0mnorm\u001b[0m\u001b[0;34m(\u001b[0m\u001b[0mnorm_type\u001b[0m\u001b[0;34m)\u001b[0m\u001b[0;34m\u001b[0m\u001b[0m\n\u001b[0m\u001b[1;32m     33\u001b[0m             \u001b[0mtotal_norm\u001b[0m \u001b[0;34m+=\u001b[0m \u001b[0mparam_norm\u001b[0m\u001b[0;34m.\u001b[0m\u001b[0mitem\u001b[0m\u001b[0;34m(\u001b[0m\u001b[0;34m)\u001b[0m \u001b[0;34m**\u001b[0m \u001b[0mnorm_type\u001b[0m\u001b[0;34m\u001b[0m\u001b[0m\n\u001b[1;32m     34\u001b[0m         \u001b[0mtotal_norm\u001b[0m \u001b[0;34m=\u001b[0m \u001b[0mtotal_norm\u001b[0m \u001b[0;34m**\u001b[0m \u001b[0;34m(\u001b[0m\u001b[0;36m1.\u001b[0m \u001b[0;34m/\u001b[0m \u001b[0mnorm_type\u001b[0m\u001b[0;34m)\u001b[0m\u001b[0;34m\u001b[0m\u001b[0m\n",
      "\u001b[0;31mKeyboardInterrupt\u001b[0m: "
     ]
    }
   ],
   "source": [
    "model.train()\n",
    "for _ in tqdm(range(int(args.num_train_epochs)), desc=\"Epoch\"):\n",
    "    tr_loss, nb_tr_examples, nb_tr_steps = 0, 0, 0\n",
    "    with tqdm(total=len(train_dataloader), desc='Iteration', mininterval=0.5) as prog:\n",
    "        for step, batch in enumerate(train_dataloader):\n",
    "            batch = tuple(t.to(device) for t in batch)\n",
    "            input_ids, input_mask, segment_ids, label_ids, label_weights = batch\n",
    "            \n",
    "            loss, logits = model(input_ids, segment_ids, input_mask, label_ids, label_weights)\n",
    "            if n_gpu > 1:\n",
    "                loss = loss.mean() # mean() to average on multi-gpu.\n",
    "            if args.gradient_accumulation_steps > 1:\n",
    "                loss = loss / args.gradient_accumulation_steps\n",
    "            loss.backward()\n",
    "            tr_loss += loss.item()\n",
    "            nb_tr_examples += input_ids.size(0)\n",
    "            nb_tr_steps += 1\n",
    "            if (step + 1) % args.gradient_accumulation_steps == 0:\n",
    "                optimizer.step()    # We have accumulated enougth gradients\n",
    "                model.zero_grad()\n",
    "            prog.update(1)\n",
    "            prog.desc = 'Iter. loss={:2.6f}'.format(tr_loss/nb_tr_examples)\n",
    "            if step%1000==10:\n",
    "                \n",
    "                print('step', step, 'loss', tr_loss/nb_tr_examples)\n",
    "                display(predict_masked_words(val_test, processor, tokenizer))\n",
    "                display(predict_next_words(val_test, processor, tokenizer, n=10))\n",
    "                tr_loss, nb_tr_examples, nb_tr_steps = 0, 0, 0\n",
    "                \n",
    "    \n",
    "    torch.save(model.state_dict(), save_path)\n",
    "\n",
    "global_step += 1"
   ]
  },
  {
   "cell_type": "code",
   "execution_count": 372,
   "metadata": {
    "ExecuteTime": {
     "end_time": "2018-11-12T01:06:12.258377Z",
     "start_time": "2018-11-12T01:06:07.726967Z"
    }
   },
   "outputs": [],
   "source": [
    "torch.save(model.state_dict(), save_path)"
   ]
  },
  {
   "cell_type": "code",
   "execution_count": 373,
   "metadata": {
    "ExecuteTime": {
     "end_time": "2018-11-12T01:06:19.301934Z",
     "start_time": "2018-11-12T01:06:14.288887Z"
    }
   },
   "outputs": [
    {
     "data": {
      "text/html": [
       ", is the fifth of the kind in the last month. The authorities at Scotland Yard are unable to suggest any explanation of these <span style=\"color: rgba(255,0,0,1)\">has</span> <span style=\"color: rgba(255,0,0,1)\">been</span> <span style=\"color: rgba(255,0,0,1)\">about</span><span style=\"color: rgba(255,0,0,1)\">.</span> <span style=\"color: rgba(255,0,0,1)\">But</span> <span style=\"color: rgba(255,0,0,1)\">the</span> <span style=\"color: rgba(255,0,0,1)\">last</span> <span style=\"color: rgba(255,0,0,1)\">time</span><span style=\"color: rgba(255,0,0,1)\">,</span> <span style=\"color: rgba(255,0,0,1)\">the</span> <span style=\"color: rgba(255,0,0,1)\">words</span> <span style=\"color: rgba(255,0,0,1)\">have</span> <span style=\"color: rgba(255,0,0,1)\">been</span> <span style=\"color: rgba(255,0,0,1)\">lost</span><span style=\"color: rgba(255,0,0,1)\">,</span> <span style=\"color: rgba(255,0,0,1)\">and</span> <span style=\"color: rgba(255,0,0,1)\">that</span><span style=\"color: rgba(255,0,0,1)\">,</span> <span style=\"color: rgba(255,0,0,1)\">as</span> <span style=\"color: rgba(255,0,0,1)\">she</span> <span style=\"color: rgba(255,0,0,1)\">was</span> <span style=\"color: rgba(255,0,0,1)\">with</span> <span style=\"color: rgba(255,0,0,1)\">her</span> <span style=\"color: rgba(255,0,0,1)\">mind</span><span style=\"color: rgba(255,0,0,1)\">,</span> <span style=\"color: rgba(255,0,0,1)\">the</span> <span style=\"color: rgba(255,0,0,1)\">other</span> <span style=\"color: rgba(255,0,0,1)\">men</span> <span style=\"color: rgba(255,0,0,1)\">had</span> <span style=\"color: rgba(255,0,0,1)\">been</span> <span style=\"color: rgba(255,0,0,1)\">with</span> <span style=\"color: rgba(255,0,0,1)\">her</span><span style=\"color: rgba(255,0,0,1)\">.</span> <span style=\"color: rgba(255,0,0,1)\">Then</span><span style=\"color: rgba(255,0,0,1)\">,</span> <span style=\"color: rgba(255,0,0,1)\">at</span> <span style=\"color: rgba(255,0,0,1)\">the</span> <span style=\"color: rgba(255,0,0,1)\">last</span> <span style=\"color: rgba(255,0,0,1)\">time</span><span style=\"color: rgba(255,0,0,1)\">,</span> <span style=\"color: rgba(255,0,0,1)\">she</span> <span style=\"color: rgba(255,0,0,1)\">had</span> <span style=\"color: rgba(255,0,0,1)\">been</span> <span style=\"color: rgba(255,0,0,1)\">made</span> <span style=\"color: rgba(255,0,0,1)\">to</span> <span style=\"color: rgba(255,0,0,1)\">be</span> <span style=\"color: rgba(255,0,0,1)\">sure</span> <span style=\"color: rgba(255,0,0,1)\">that</span> <span style=\"color: rgba(255,0,0,1)\">her</span> <span style=\"color: rgba(255,0,0,1)\">mind</span> <span style=\"color: rgba(255,0,0,1)\">had</span> <span style=\"color: rgba(255,0,0,1)\">been</span> <span style=\"color: rgba(255,0,0,1)\">in</span> <span style=\"color: rgba(255,0,0,1)\">the</span> <span style=\"color: rgba(255,0,0,1)\">night</span><span style=\"color: rgba(255,0,0,1)\">,</span> <span style=\"color: rgba(255,0,0,1)\">and</span> <span style=\"color: rgba(255,0,0,1)\">that</span> <span style=\"color: rgba(255,0,0,1)\">her</span> <span style=\"color: rgba(255,0,0,1)\">mind</span> <span style=\"color: rgba(255,0,0,1)\">was</span> <span style=\"color: rgba(255,0,0,1)\">in</span> <span style=\"color: rgba(255,0,0,1)\">the</span> <span style=\"color: rgba(255,0,0,1)\">street</span><span style=\"color: rgba(255,0,0,1)\">.</span> <span style=\"color: rgba(255,0,0,1)\">But</span> <span style=\"color: rgba(255,0,0,1)\">all</span> <span style=\"color: rgba(255,0,0,1)\">a</span> <span style=\"color: rgba(255,0,0,1)\">little</span><span style=\"color: rgba(255,0,0,1)\">,</span> <span style=\"color: rgba(255,0,0,1)\">it</span> <span style=\"color: rgba(255,0,0,1)\">was</span> <span style=\"color: rgba(255,0,0,1)\">not</span> <span style=\"color: rgba(255,0,0,1)\">such</span> <span style=\"color: rgba(255,0,0,1)\">that</span> <span style=\"color: rgba(255,0,0,1)\">she</span> <span style=\"color: rgba(255,0,0,1)\">had</span> <span style=\"color: rgba(255,0,0,1)\">been</span> <span style=\"color: rgba(255,0,0,1)\">in</span> <span style=\"color: rgba(255,0,0,1)\">the</span> <span style=\"color: rgba(255,0,0,1)\">night</span><span style=\"color: rgba(255,0,0,1)\">,</span> <span style=\"color: rgba(255,0,0,1)\">and</span> <span style=\"color: rgba(255,0,0,1)\">her</span> <span style=\"color: rgba(255,0,0,1)\">mind</span> <span style=\"color: rgba(255,0,0,1)\">was</span> <span style=\"color: rgba(255,0,0,1)\">on</span> <span style=\"color: rgba(255,0,0,1)\">the</span> <span style=\"color: rgba(255,0,0,1)\">night</span> <span style=\"color: rgba(255,0,0,1)\">that</span> <span style=\"color: rgba(255,0,0,1)\">she</span> <span style=\"color: rgba(255,0,0,1)\">was</span> <span style=\"color: rgba(255,0,0,1)\">before</span> <span style=\"color: rgba(255,0,0,1)\">her</span> <span style=\"color: rgba(255,0,0,1)\">mind</span> <span style=\"color: rgba(255,0,0,1)\">was</span> <span style=\"color: rgba(255,0,0,1)\">made</span> <span style=\"color: rgba(255,0,0,1)\">to</span> <span style=\"color: rgba(255,0,0,1)\">be</span> <span style=\"color: rgba(255,0,0,1)\">see</span>"
      ],
      "text/plain": [
       "<IPython.core.display.HTML object>"
      ]
     },
     "metadata": {},
     "output_type": "display_data"
    }
   ],
   "source": [
    "val_test=\"\"\"Another gentleman has fallen a victim to the terrible epidemic of suicide which for the last month has prevailed in the West End.  Mr. Sidney Crashaw, of Stoke House, Fulham, and King's Pomeroy, Devon, was found, after a prolonged search, hanging dead from the branch of a tree in his garden at one o'clock today.  The deceased gentleman dined last night at the Carlton Club and seemed in his usual health and spirits. He left the club at about ten o'clock, and was seen walking leisurely up St. James's Street a little later.  Subsequent to this his movements cannot be traced.  On the discovery of the body medical aid was at once summoned, but life had evidently been long extinct.  So far as is known, Mr. Crashaw had no trouble or anxiety of any kind.  This painful suicide, it will be remembered, is the fifth of the kind in the last month.  The authorities at Scotland Yard are unable to suggest any explanation of these terrible occurrences.\"\"\"\n",
    "display(predict_next_words(val_test, processor, tokenizer, n=100, T=.5))"
   ]
  }
 ],
 "metadata": {
  "kernelspec": {
   "display_name": "jupyter3",
   "language": "python",
   "name": "jupyter3"
  },
  "language_info": {
   "codemirror_mode": {
    "name": "ipython",
    "version": 3
   },
   "file_extension": ".py",
   "mimetype": "text/x-python",
   "name": "python",
   "nbconvert_exporter": "python",
   "pygments_lexer": "ipython3",
   "version": "3.5.3"
  },
  "notify_time": "5",
  "toc": {
   "colors": {
    "hover_highlight": "#DAA520",
    "navigate_num": "#000000",
    "navigate_text": "#333333",
    "running_highlight": "#FF0000",
    "selected_highlight": "#FFD700",
    "sidebar_border": "#EEEEEE",
    "wrapper_background": "#FFFFFF"
   },
   "moveMenuLeft": true,
   "nav_menu": {
    "height": "103px",
    "width": "251px"
   },
   "navigate_menu": true,
   "number_sections": true,
   "sideBar": true,
   "threshold": 4,
   "toc_cell": false,
   "toc_position": {
    "height": "536px",
    "left": "0px",
    "right": "1413.33px",
    "top": "150px",
    "width": "185px"
   },
   "toc_section_display": "block",
   "toc_window_display": true,
   "widenNotebook": false
  }
 },
 "nbformat": 4,
 "nbformat_minor": 2
}
