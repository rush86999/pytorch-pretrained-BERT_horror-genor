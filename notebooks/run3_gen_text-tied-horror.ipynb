{
 "cells": [
  {
   "cell_type": "markdown",
   "metadata": {},
   "source": [
    "https://arxiv.org/pdf/1810.04805.pdf"
   ]
  },
  {
   "cell_type": "code",
   "execution_count": 1,
   "metadata": {
    "ExecuteTime": {
     "end_time": "2018-11-13T01:57:20.298165Z",
     "start_time": "2018-11-13T01:57:20.295510Z"
    }
   },
   "outputs": [],
   "source": [
    "import os\n",
    "os.sys.path.append('..')"
   ]
  },
  {
   "cell_type": "code",
   "execution_count": 2,
   "metadata": {
    "ExecuteTime": {
     "end_time": "2018-11-13T01:57:20.717216Z",
     "start_time": "2018-11-13T01:57:20.300367Z"
    }
   },
   "outputs": [
    {
     "name": "stderr",
     "output_type": "stream",
     "text": [
      "/home/ubuntu/anaconda3/envs/pytorch_p36/lib/python3.6/site-packages/matplotlib/font_manager.py:278: UserWarning: Matplotlib is building the font cache using fc-list. This may take a moment.\n",
      "  'Matplotlib is building the font cache using fc-list. '\n"
     ]
    }
   ],
   "source": [
    "%matplotlib inline\n",
    "%reload_ext autoreload\n",
    "%autoreload 2"
   ]
  },
  {
   "cell_type": "code",
   "execution_count": 3,
   "metadata": {
    "ExecuteTime": {
     "end_time": "2018-11-13T01:57:21.023628Z",
     "start_time": "2018-11-13T01:57:20.719286Z"
    }
   },
   "outputs": [],
   "source": [
    "from __future__ import absolute_import\n",
    "from __future__ import division\n",
    "from __future__ import print_function\n",
    "\n",
    "import argparse\n",
    "import collections\n",
    "import logging\n",
    "import json\n",
    "import math\n",
    "import os\n",
    "import random\n",
    "import six\n",
    "from tqdm import tqdm_notebook as tqdm\n",
    "from IPython.display import HTML, display\n",
    "\n",
    "import numpy as np\n",
    "import torch\n",
    "import torch.nn as nn\n",
    "import torch.nn.functional as F\n",
    "from torch.utils.data import TensorDataset, DataLoader, RandomSampler, SequentialSampler\n",
    "from torch.utils.data.distributed import DistributedSampler\n",
    "\n",
    "import tokenization\n",
    "from modeling import BertConfig, BertForMaskedLanguageModelling\n",
    "from optimization import BERTAdam\n",
    "from masked_language_model import notqdm, convert_tokens_to_features, LMProcessor, predict_masked_words, predict_next_words\n"
   ]
  },
  {
   "cell_type": "code",
   "execution_count": 4,
   "metadata": {
    "ExecuteTime": {
     "end_time": "2018-11-13T01:57:21.047342Z",
     "start_time": "2018-11-13T01:57:21.026094Z"
    }
   },
   "outputs": [],
   "source": [
    "\n",
    "logging.basicConfig(format = '%(asctime)s - %(levelname)s - %(name)s -   %(message)s', \n",
    "                    datefmt = '%m/%d/%Y %H:%M:%S',\n",
    "                    level = logging.INFO)\n",
    "logger = logging.getLogger(__name__)"
   ]
  },
  {
   "cell_type": "code",
   "execution_count": null,
   "metadata": {
    "ExecuteTime": {
     "end_time": "2018-11-09T10:41:27.497266Z",
     "start_time": "2018-11-09T10:41:27.467141Z"
    }
   },
   "outputs": [],
   "source": []
  },
  {
   "cell_type": "markdown",
   "metadata": {},
   "source": [
    "# Args"
   ]
  },
  {
   "cell_type": "code",
   "execution_count": 5,
   "metadata": {
    "ExecuteTime": {
     "end_time": "2018-11-13T01:57:21.095286Z",
     "start_time": "2018-11-13T01:57:21.050225Z"
    }
   },
   "outputs": [
    {
     "data": {
      "text/plain": [
       "_StoreAction(option_strings=['--gradient_accumulation_steps'], dest='gradient_accumulation_steps', nargs=None, const=None, default=1, type=<class 'int'>, choices=None, help='Number of updates steps to accumualte before performing a backward/update pass.', metavar=None)"
      ]
     },
     "execution_count": 5,
     "metadata": {},
     "output_type": "execute_result"
    }
   ],
   "source": [
    "parser = argparse.ArgumentParser()\n",
    "\n",
    "## Required parameters\n",
    "parser.add_argument(\"--data_dir\",\n",
    "                    default=None,\n",
    "                    type=str,\n",
    "                    required=True,\n",
    "                    help=\"The input data dir. Should contain the .tsv files (or other data files) for the task.\")\n",
    "parser.add_argument(\"--bert_config_file\",\n",
    "                    default=None,\n",
    "                    type=str,\n",
    "                    required=True,\n",
    "                    help=\"The config json file corresponding to the pre-trained BERT model. \\n\"\n",
    "                         \"This specifies the model architecture.\")\n",
    "parser.add_argument(\"--task_name\",\n",
    "                    default=None,\n",
    "                    type=str,\n",
    "                    required=True,\n",
    "                    help=\"The name of the task to train.\")\n",
    "parser.add_argument(\"--vocab_file\",\n",
    "                    default=None,\n",
    "                    type=str,\n",
    "                    required=True,\n",
    "                    help=\"The vocabulary file that the BERT model was trained on.\")\n",
    "parser.add_argument(\"--output_dir\",\n",
    "                    default=None,\n",
    "                    type=str,\n",
    "                    required=True,\n",
    "                    help=\"The output directory where the model checkpoints will be written.\")\n",
    "\n",
    "## Other parameters\n",
    "parser.add_argument(\"--init_checkpoint\",\n",
    "                    default=None,\n",
    "                    type=str,\n",
    "                    help=\"Initial checkpoint (usually from a pre-trained BERT model).\")\n",
    "parser.add_argument(\"--do_lower_case\",\n",
    "                    default=False,\n",
    "                    action='store_true',\n",
    "                    help=\"Whether to lower case the input text. True for uncased models, False for cased models.\")\n",
    "parser.add_argument(\"--max_seq_length\",\n",
    "                    default=128,\n",
    "                    type=int,\n",
    "                    help=\"The maximum total input sequence length after WordPiece tokenization. \\n\"\n",
    "                         \"Sequences longer than this will be truncated, and sequences shorter \\n\"\n",
    "                         \"than this will be padded.\")\n",
    "parser.add_argument(\"--do_train\",\n",
    "                    default=False,\n",
    "                    action='store_true',\n",
    "                    help=\"Whether to run training.\")\n",
    "parser.add_argument(\"--do_eval\",\n",
    "                    default=False,\n",
    "                    action='store_true',\n",
    "                    help=\"Whether to run eval on the dev set.\")\n",
    "parser.add_argument(\"--train_batch_size\",\n",
    "                    default=32,\n",
    "                    type=int,\n",
    "                    help=\"Total batch size for training.\")\n",
    "parser.add_argument(\"--eval_batch_size\",\n",
    "                    default=8,\n",
    "                    type=int,\n",
    "                    help=\"Total batch size for eval.\")\n",
    "parser.add_argument(\"--learning_rate\",\n",
    "                    default=5e-5,\n",
    "                    type=float,\n",
    "                    help=\"The initial learning rate for Adam.\")\n",
    "parser.add_argument(\"--num_train_epochs\",\n",
    "                    default=3.0,\n",
    "                    type=float,\n",
    "                    help=\"Total number of training epochs to perform.\")\n",
    "parser.add_argument(\"--warmup_proportion\",\n",
    "                    default=0.1,\n",
    "                    type=float,\n",
    "                    help=\"Proportion of training to perform linear learning rate warmup for. \"\n",
    "                         \"E.g., 0.1 = 10%% of training.\")\n",
    "parser.add_argument(\"--no_cuda\",\n",
    "                    default=False,\n",
    "                    action='store_true',\n",
    "                    help=\"Whether not to use CUDA when available\")\n",
    "parser.add_argument(\"--local_rank\",\n",
    "                    type=int,\n",
    "                    default=-1,\n",
    "                    help=\"local_rank for distributed training on gpus\")\n",
    "parser.add_argument('--seed', \n",
    "                    type=int, \n",
    "                    default=42,\n",
    "                    help=\"random seed for initialization\")\n",
    "parser.add_argument('--gradient_accumulation_steps',\n",
    "                    type=int,\n",
    "                    default=1,\n",
    "                    help=\"Number of updates steps to accumualte before performing a backward/update pass.\") "
   ]
  },
  {
   "cell_type": "code",
   "execution_count": 6,
   "metadata": {
    "ExecuteTime": {
     "end_time": "2018-11-13T01:57:21.122886Z",
     "start_time": "2018-11-13T01:57:21.097485Z"
    }
   },
   "outputs": [
    {
     "name": "stdout",
     "output_type": "stream",
     "text": [
      "['--task_name', 'lm', '--data_dir', '../data/input/horror_gutenberg', '--vocab_file', '../data/weights/cased_L-12_H-768_A-12/vocab.txt', '--bert_config_file', '../data/weights/cased_L-12_H-768_A-12/bert_config.json', '--init_checkpoint', '../data/weights/cased_L-12_H-768_A-12/pytorch_model.bin', '--do_train', '--do_eval', '--gradient_accumulation_steps', '2', '--train_batch_size', '24', '--learning_rate', '3e-5', '--num_train_epochs', '3.0', '--max_seq_length', '128', '--output_dir', '../outputs/horror_uncased_5_tied_mlm/']\n"
     ]
    }
   ],
   "source": [
    "experiment_name = 'horror_uncased_5_tied_mlm'\n",
    "\n",
    "argv = \"\"\"\n",
    "--task_name lm \\\n",
    "--data_dir {DATA_DIR} \\\n",
    "--vocab_file {BERT_BASE_DIR}/vocab.txt \\\n",
    "--bert_config_file {BERT_BASE_DIR}/bert_config.json \\\n",
    "--init_checkpoint {BERT_BASE_DIR}/pytorch_model.bin \\\n",
    "--do_train \\\n",
    "--do_eval \\\n",
    "--gradient_accumulation_steps 2 \\\n",
    "--train_batch_size 32 \\\n",
    "--learning_rate 3e-5 \\\n",
    "--num_train_epochs 3.0 \\\n",
    "--max_seq_length 128 \\\n",
    "--output_dir ../outputs/{name}/\n",
    "\"\"\".format(\n",
    "    BERT_BASE_DIR='../data/weights/cased_L-12_H-768_A-12',\n",
    "    DATA_DIR='../data/input/horror_gutenberg',\n",
    "    name=experiment_name\n",
    ").replace('\\n', '').split(' ')\n",
    "print(argv)\n",
    "args = parser.parse_args(argv)"
   ]
  },
  {
   "cell_type": "code",
   "execution_count": null,
   "metadata": {
    "ExecuteTime": {
     "end_time": "2018-11-09T15:26:30.278170Z",
     "start_time": "2018-11-09T15:26:30.248424Z"
    }
   },
   "outputs": [],
   "source": []
  },
  {
   "cell_type": "markdown",
   "metadata": {},
   "source": [
    "# Init"
   ]
  },
  {
   "cell_type": "code",
   "execution_count": 7,
   "metadata": {
    "ExecuteTime": {
     "end_time": "2018-11-13T01:57:21.195298Z",
     "start_time": "2018-11-13T01:57:21.125084Z"
    }
   },
   "outputs": [
    {
     "name": "stderr",
     "output_type": "stream",
     "text": [
      "11/13/2018 03:12:34 - INFO - __main__ -   device cuda n_gpu 1 distributed training False\n"
     ]
    }
   ],
   "source": [
    "if args.local_rank == -1 or args.no_cuda:\n",
    "    device = torch.device(\"cuda\" if torch.cuda.is_available() and not args.no_cuda else \"cpu\")\n",
    "    n_gpu = torch.cuda.device_count()\n",
    "else:\n",
    "    device = torch.device(\"cuda\", args.local_rank)\n",
    "    n_gpu = 1\n",
    "    # Initializes the distributed backend which will take care of sychronizing nodes/GPUs\n",
    "    torch.distributed.init_process_group(backend='nccl')\n",
    "logger.info(\"device %s n_gpu %d distributed training %r\", device, n_gpu, bool(args.local_rank != -1))\n",
    "\n",
    "if args.gradient_accumulation_steps < 1:\n",
    "    raise ValueError(\"Invalid gradient_accumulation_steps parameter: {}, should be >= 1\".format(\n",
    "                        args.gradient_accumulation_steps))\n",
    "\n",
    "args.train_batch_size = int(args.train_batch_size / args.gradient_accumulation_steps)\n",
    "\n",
    "random.seed(args.seed)\n",
    "np.random.seed(args.seed)\n",
    "torch.manual_seed(args.seed)\n",
    "if n_gpu > 0:\n",
    "    torch.cuda.manual_seed_all(args.seed)\n",
    "\n",
    "if not args.do_train and not args.do_eval:\n",
    "    raise ValueError(\"At least one of `do_train` or `do_eval` must be True.\")"
   ]
  },
  {
   "cell_type": "code",
   "execution_count": 8,
   "metadata": {
    "ExecuteTime": {
     "end_time": "2018-11-13T01:57:21.224410Z",
     "start_time": "2018-11-13T01:57:21.198912Z"
    }
   },
   "outputs": [],
   "source": [
    "bert_config = BertConfig.from_json_file(args.bert_config_file)\n",
    "\n",
    "if args.max_seq_length > bert_config.max_position_embeddings:\n",
    "    raise ValueError(\n",
    "        \"Cannot use sequence length {} because the BERT model was only trained up to sequence length {}\".format(\n",
    "        args.max_seq_length, bert_config.max_position_embeddings))"
   ]
  },
  {
   "cell_type": "code",
   "execution_count": 9,
   "metadata": {
    "ExecuteTime": {
     "end_time": "2018-11-13T01:57:21.253227Z",
     "start_time": "2018-11-13T01:57:21.226818Z"
    }
   },
   "outputs": [
    {
     "data": {
      "text/plain": [
       "'../outputs/horror_uncased_5_tied_mlm/state_dict.pkl'"
      ]
     },
     "execution_count": 9,
     "metadata": {},
     "output_type": "execute_result"
    }
   ],
   "source": [
    "if os.path.exists(args.output_dir) and os.listdir(args.output_dir):\n",
    "    print(\"Output directory ({}) already exists and is not empty.\".format(args.output_dir))\n",
    "os.makedirs(args.output_dir, exist_ok=True)\n",
    "save_path = os.path.join(args.output_dir, 'state_dict.pkl')\n",
    "save_path"
   ]
  },
  {
   "cell_type": "markdown",
   "metadata": {},
   "source": [
    "# Load data"
   ]
  },
  {
   "cell_type": "code",
   "execution_count": 10,
   "metadata": {
    "ExecuteTime": {
     "end_time": "2018-11-13T01:57:21.326146Z",
     "start_time": "2018-11-13T01:57:21.255600Z"
    }
   },
   "outputs": [],
   "source": [
    "tokenizer = tokenization.FullTokenizer(\n",
    "    vocab_file=args.vocab_file, do_lower_case=args.do_lower_case)\n",
    "\n",
    "decoder = {v:k for k,v in tokenizer.wordpiece_tokenizer.vocab.items()}"
   ]
  },
  {
   "cell_type": "code",
   "execution_count": 11,
   "metadata": {
    "ExecuteTime": {
     "end_time": "2018-11-13T01:57:21.355098Z",
     "start_time": "2018-11-13T01:57:21.328899Z"
    }
   },
   "outputs": [],
   "source": [
    "processors = {\n",
    "        \"lm\": LMProcessor,\n",
    "}\n",
    "    \n",
    "task_name = args.task_name.lower()\n",
    "if task_name not in processors:\n",
    "        raise ValueError(\"Task not found: %s\" % (task_name))\n",
    "\n",
    "processor = processors[task_name](tokenizer=tokenizer)\n",
    "label_list = processor.get_labels()"
   ]
  },
  {
   "cell_type": "code",
   "execution_count": 12,
   "metadata": {
    "ExecuteTime": {
     "end_time": "2018-11-13T01:58:48.514022Z",
     "start_time": "2018-11-13T01:57:21.357795Z"
    }
   },
   "outputs": [
    {
     "data": {
      "application/vnd.jupyter.widget-view+json": {
       "model_id": "ccb425a6fe66401d86ec77c20460a095",
       "version_major": 2,
       "version_minor": 0
      },
      "text/plain": [
       "HBox(children=(IntProgress(value=0, description='tokenising', max=58191, style=ProgressStyle(description_width…"
      ]
     },
     "metadata": {},
     "output_type": "display_data"
    },
    {
     "name": "stdout",
     "output_type": "stream",
     "text": [
      "\n"
     ]
    },
    {
     "data": {
      "application/vnd.jupyter.widget-view+json": {
       "model_id": "c90f140ae8804fe997b1381d40747710",
       "version_major": 2,
       "version_minor": 0
      },
      "text/plain": [
       "HBox(children=(IntProgress(value=0, description='chunking', max=154284, style=ProgressStyle(description_width=…"
      ]
     },
     "metadata": {},
     "output_type": "display_data"
    },
    {
     "name": "stdout",
     "output_type": "stream",
     "text": [
      "\n"
     ]
    }
   ],
   "source": [
    "train_examples = processor.get_train_examples(args.data_dir, skip=30, tqdm=tqdm)\n",
    "num_train_steps = int(\n",
    "    len(train_examples) / args.train_batch_size * args.num_train_epochs)"
   ]
  },
  {
   "cell_type": "code",
   "execution_count": null,
   "metadata": {
    "ExecuteTime": {
     "end_time": "2018-11-10T08:35:09.919396Z",
     "start_time": "2018-11-10T08:35:09.767935Z"
    }
   },
   "outputs": [],
   "source": []
  },
  {
   "cell_type": "code",
   "execution_count": 16,
   "metadata": {
    "ExecuteTime": {
     "end_time": "2018-11-13T01:58:49.803849Z",
     "start_time": "2018-11-13T01:58:48.516554Z"
    },
    "scrolled": true
   },
   "outputs": [
    {
     "data": {
      "application/vnd.jupyter.widget-view+json": {
       "model_id": "25750d0582a446bbbf70e47527cf8edd",
       "version_major": 2,
       "version_minor": 0
      },
      "text/plain": [
       "HBox(children=(IntProgress(value=0, max=154284), HTML(value='')))"
      ]
     },
     "metadata": {},
     "output_type": "display_data"
    },
    {
     "name": "stdout",
     "output_type": "stream",
     "text": [
      "\n"
     ]
    }
   ],
   "source": [
    "train_features = convert_tokens_to_features(\n",
    "    train_examples, label_list, args.max_seq_length, tokenizer, tqdm=tqdm)\n",
    "\n",
    "all_input_ids = torch.tensor([f.input_ids for f in train_features], dtype=torch.long)\n",
    "all_input_mask = torch.tensor([f.input_mask for f in train_features], dtype=torch.long)\n",
    "all_segment_ids = torch.tensor([f.segment_ids for f in train_features], dtype=torch.long)\n",
    "all_label_ids = torch.tensor([f.label_id for f in train_features], dtype=torch.long)\n",
    "all_label_weights = torch.tensor([f.label_weights for f in train_features], dtype=torch.long)"
   ]
  },
  {
   "cell_type": "code",
   "execution_count": null,
   "metadata": {
    "ExecuteTime": {
     "end_time": "2018-11-11T06:08:15.170422Z",
     "start_time": "2018-11-11T06:07:03.795167Z"
    }
   },
   "outputs": [],
   "source": []
  },
  {
   "cell_type": "code",
   "execution_count": 17,
   "metadata": {
    "ExecuteTime": {
     "end_time": "2018-11-13T01:58:49.833100Z",
     "start_time": "2018-11-13T01:58:49.806849Z"
    }
   },
   "outputs": [],
   "source": [
    "train_data = TensorDataset(all_input_ids, all_input_mask, all_segment_ids, all_label_ids, all_label_weights)\n",
    "if args.local_rank == -1:\n",
    "    train_sampler = RandomSampler(train_data)\n",
    "else:\n",
    "    train_sampler = DistributedSampler(train_data)\n",
    "train_dataloader = DataLoader(train_data, sampler=train_sampler, batch_size=args.train_batch_size)"
   ]
  },
  {
   "cell_type": "code",
   "execution_count": null,
   "metadata": {
    "ExecuteTime": {
     "end_time": "2018-11-10T06:50:42.333283Z",
     "start_time": "2018-11-10T06:50:42.311379Z"
    }
   },
   "outputs": [],
   "source": []
  },
  {
   "cell_type": "markdown",
   "metadata": {},
   "source": [
    "# Load model"
   ]
  },
  {
   "cell_type": "code",
   "execution_count": null,
   "metadata": {
    "ExecuteTime": {
     "end_time": "2018-11-10T07:13:01.317704Z",
     "start_time": "2018-11-10T07:13:00.880718Z"
    }
   },
   "outputs": [],
   "source": []
  },
  {
   "cell_type": "code",
   "execution_count": 18,
   "metadata": {
    "ExecuteTime": {
     "end_time": "2018-11-13T01:58:55.806611Z",
     "start_time": "2018-11-13T01:58:49.835295Z"
    }
   },
   "outputs": [
    {
     "data": {
      "text/plain": [
       "BertForMaskedLanguageModelling(\n",
       "  (bert): BertModel(\n",
       "    (embeddings): BERTEmbeddings(\n",
       "      (word_embeddings): Embedding(28996, 768)\n",
       "      (position_embeddings): Embedding(512, 768)\n",
       "      (token_type_embeddings): Embedding(2, 768)\n",
       "      (LayerNorm): BERTLayerNorm()\n",
       "      (dropout): Dropout(p=0.1)\n",
       "    )\n",
       "    (encoder): BERTEncoder(\n",
       "      (layer): ModuleList(\n",
       "        (0): BERTLayer(\n",
       "          (attention): BERTAttention(\n",
       "            (self): BERTSelfAttention(\n",
       "              (query): Linear(in_features=768, out_features=768, bias=True)\n",
       "              (key): Linear(in_features=768, out_features=768, bias=True)\n",
       "              (value): Linear(in_features=768, out_features=768, bias=True)\n",
       "              (dropout): Dropout(p=0.1)\n",
       "            )\n",
       "            (output): BERTSelfOutput(\n",
       "              (dense): Linear(in_features=768, out_features=768, bias=True)\n",
       "              (LayerNorm): BERTLayerNorm()\n",
       "              (dropout): Dropout(p=0.1)\n",
       "            )\n",
       "          )\n",
       "          (intermediate): BERTIntermediate(\n",
       "            (dense): Linear(in_features=768, out_features=3072, bias=True)\n",
       "          )\n",
       "          (output): BERTOutput(\n",
       "            (dense): Linear(in_features=3072, out_features=768, bias=True)\n",
       "            (LayerNorm): BERTLayerNorm()\n",
       "            (dropout): Dropout(p=0.1)\n",
       "          )\n",
       "        )\n",
       "        (1): BERTLayer(\n",
       "          (attention): BERTAttention(\n",
       "            (self): BERTSelfAttention(\n",
       "              (query): Linear(in_features=768, out_features=768, bias=True)\n",
       "              (key): Linear(in_features=768, out_features=768, bias=True)\n",
       "              (value): Linear(in_features=768, out_features=768, bias=True)\n",
       "              (dropout): Dropout(p=0.1)\n",
       "            )\n",
       "            (output): BERTSelfOutput(\n",
       "              (dense): Linear(in_features=768, out_features=768, bias=True)\n",
       "              (LayerNorm): BERTLayerNorm()\n",
       "              (dropout): Dropout(p=0.1)\n",
       "            )\n",
       "          )\n",
       "          (intermediate): BERTIntermediate(\n",
       "            (dense): Linear(in_features=768, out_features=3072, bias=True)\n",
       "          )\n",
       "          (output): BERTOutput(\n",
       "            (dense): Linear(in_features=3072, out_features=768, bias=True)\n",
       "            (LayerNorm): BERTLayerNorm()\n",
       "            (dropout): Dropout(p=0.1)\n",
       "          )\n",
       "        )\n",
       "        (2): BERTLayer(\n",
       "          (attention): BERTAttention(\n",
       "            (self): BERTSelfAttention(\n",
       "              (query): Linear(in_features=768, out_features=768, bias=True)\n",
       "              (key): Linear(in_features=768, out_features=768, bias=True)\n",
       "              (value): Linear(in_features=768, out_features=768, bias=True)\n",
       "              (dropout): Dropout(p=0.1)\n",
       "            )\n",
       "            (output): BERTSelfOutput(\n",
       "              (dense): Linear(in_features=768, out_features=768, bias=True)\n",
       "              (LayerNorm): BERTLayerNorm()\n",
       "              (dropout): Dropout(p=0.1)\n",
       "            )\n",
       "          )\n",
       "          (intermediate): BERTIntermediate(\n",
       "            (dense): Linear(in_features=768, out_features=3072, bias=True)\n",
       "          )\n",
       "          (output): BERTOutput(\n",
       "            (dense): Linear(in_features=3072, out_features=768, bias=True)\n",
       "            (LayerNorm): BERTLayerNorm()\n",
       "            (dropout): Dropout(p=0.1)\n",
       "          )\n",
       "        )\n",
       "        (3): BERTLayer(\n",
       "          (attention): BERTAttention(\n",
       "            (self): BERTSelfAttention(\n",
       "              (query): Linear(in_features=768, out_features=768, bias=True)\n",
       "              (key): Linear(in_features=768, out_features=768, bias=True)\n",
       "              (value): Linear(in_features=768, out_features=768, bias=True)\n",
       "              (dropout): Dropout(p=0.1)\n",
       "            )\n",
       "            (output): BERTSelfOutput(\n",
       "              (dense): Linear(in_features=768, out_features=768, bias=True)\n",
       "              (LayerNorm): BERTLayerNorm()\n",
       "              (dropout): Dropout(p=0.1)\n",
       "            )\n",
       "          )\n",
       "          (intermediate): BERTIntermediate(\n",
       "            (dense): Linear(in_features=768, out_features=3072, bias=True)\n",
       "          )\n",
       "          (output): BERTOutput(\n",
       "            (dense): Linear(in_features=3072, out_features=768, bias=True)\n",
       "            (LayerNorm): BERTLayerNorm()\n",
       "            (dropout): Dropout(p=0.1)\n",
       "          )\n",
       "        )\n",
       "        (4): BERTLayer(\n",
       "          (attention): BERTAttention(\n",
       "            (self): BERTSelfAttention(\n",
       "              (query): Linear(in_features=768, out_features=768, bias=True)\n",
       "              (key): Linear(in_features=768, out_features=768, bias=True)\n",
       "              (value): Linear(in_features=768, out_features=768, bias=True)\n",
       "              (dropout): Dropout(p=0.1)\n",
       "            )\n",
       "            (output): BERTSelfOutput(\n",
       "              (dense): Linear(in_features=768, out_features=768, bias=True)\n",
       "              (LayerNorm): BERTLayerNorm()\n",
       "              (dropout): Dropout(p=0.1)\n",
       "            )\n",
       "          )\n",
       "          (intermediate): BERTIntermediate(\n",
       "            (dense): Linear(in_features=768, out_features=3072, bias=True)\n",
       "          )\n",
       "          (output): BERTOutput(\n",
       "            (dense): Linear(in_features=3072, out_features=768, bias=True)\n",
       "            (LayerNorm): BERTLayerNorm()\n",
       "            (dropout): Dropout(p=0.1)\n",
       "          )\n",
       "        )\n",
       "        (5): BERTLayer(\n",
       "          (attention): BERTAttention(\n",
       "            (self): BERTSelfAttention(\n",
       "              (query): Linear(in_features=768, out_features=768, bias=True)\n",
       "              (key): Linear(in_features=768, out_features=768, bias=True)\n",
       "              (value): Linear(in_features=768, out_features=768, bias=True)\n",
       "              (dropout): Dropout(p=0.1)\n",
       "            )\n",
       "            (output): BERTSelfOutput(\n",
       "              (dense): Linear(in_features=768, out_features=768, bias=True)\n",
       "              (LayerNorm): BERTLayerNorm()\n",
       "              (dropout): Dropout(p=0.1)\n",
       "            )\n",
       "          )\n",
       "          (intermediate): BERTIntermediate(\n",
       "            (dense): Linear(in_features=768, out_features=3072, bias=True)\n",
       "          )\n",
       "          (output): BERTOutput(\n",
       "            (dense): Linear(in_features=3072, out_features=768, bias=True)\n",
       "            (LayerNorm): BERTLayerNorm()\n",
       "            (dropout): Dropout(p=0.1)\n",
       "          )\n",
       "        )\n",
       "        (6): BERTLayer(\n",
       "          (attention): BERTAttention(\n",
       "            (self): BERTSelfAttention(\n",
       "              (query): Linear(in_features=768, out_features=768, bias=True)\n",
       "              (key): Linear(in_features=768, out_features=768, bias=True)\n",
       "              (value): Linear(in_features=768, out_features=768, bias=True)\n",
       "              (dropout): Dropout(p=0.1)\n",
       "            )\n",
       "            (output): BERTSelfOutput(\n",
       "              (dense): Linear(in_features=768, out_features=768, bias=True)\n",
       "              (LayerNorm): BERTLayerNorm()\n",
       "              (dropout): Dropout(p=0.1)\n",
       "            )\n",
       "          )\n",
       "          (intermediate): BERTIntermediate(\n",
       "            (dense): Linear(in_features=768, out_features=3072, bias=True)\n",
       "          )\n",
       "          (output): BERTOutput(\n",
       "            (dense): Linear(in_features=3072, out_features=768, bias=True)\n",
       "            (LayerNorm): BERTLayerNorm()\n",
       "            (dropout): Dropout(p=0.1)\n",
       "          )\n",
       "        )\n",
       "        (7): BERTLayer(\n",
       "          (attention): BERTAttention(\n",
       "            (self): BERTSelfAttention(\n",
       "              (query): Linear(in_features=768, out_features=768, bias=True)\n",
       "              (key): Linear(in_features=768, out_features=768, bias=True)\n",
       "              (value): Linear(in_features=768, out_features=768, bias=True)\n",
       "              (dropout): Dropout(p=0.1)\n",
       "            )\n",
       "            (output): BERTSelfOutput(\n",
       "              (dense): Linear(in_features=768, out_features=768, bias=True)\n",
       "              (LayerNorm): BERTLayerNorm()\n",
       "              (dropout): Dropout(p=0.1)\n",
       "            )\n",
       "          )\n",
       "          (intermediate): BERTIntermediate(\n",
       "            (dense): Linear(in_features=768, out_features=3072, bias=True)\n",
       "          )\n",
       "          (output): BERTOutput(\n",
       "            (dense): Linear(in_features=3072, out_features=768, bias=True)\n",
       "            (LayerNorm): BERTLayerNorm()\n",
       "            (dropout): Dropout(p=0.1)\n",
       "          )\n",
       "        )\n",
       "        (8): BERTLayer(\n",
       "          (attention): BERTAttention(\n",
       "            (self): BERTSelfAttention(\n",
       "              (query): Linear(in_features=768, out_features=768, bias=True)\n",
       "              (key): Linear(in_features=768, out_features=768, bias=True)\n",
       "              (value): Linear(in_features=768, out_features=768, bias=True)\n",
       "              (dropout): Dropout(p=0.1)\n",
       "            )\n",
       "            (output): BERTSelfOutput(\n",
       "              (dense): Linear(in_features=768, out_features=768, bias=True)\n",
       "              (LayerNorm): BERTLayerNorm()\n",
       "              (dropout): Dropout(p=0.1)\n",
       "            )\n",
       "          )\n",
       "          (intermediate): BERTIntermediate(\n",
       "            (dense): Linear(in_features=768, out_features=3072, bias=True)\n",
       "          )\n",
       "          (output): BERTOutput(\n",
       "            (dense): Linear(in_features=3072, out_features=768, bias=True)\n",
       "            (LayerNorm): BERTLayerNorm()\n",
       "            (dropout): Dropout(p=0.1)\n",
       "          )\n",
       "        )\n",
       "        (9): BERTLayer(\n",
       "          (attention): BERTAttention(\n",
       "            (self): BERTSelfAttention(\n",
       "              (query): Linear(in_features=768, out_features=768, bias=True)\n",
       "              (key): Linear(in_features=768, out_features=768, bias=True)\n",
       "              (value): Linear(in_features=768, out_features=768, bias=True)\n",
       "              (dropout): Dropout(p=0.1)\n",
       "            )\n",
       "            (output): BERTSelfOutput(\n",
       "              (dense): Linear(in_features=768, out_features=768, bias=True)\n",
       "              (LayerNorm): BERTLayerNorm()\n",
       "              (dropout): Dropout(p=0.1)\n",
       "            )\n",
       "          )\n",
       "          (intermediate): BERTIntermediate(\n",
       "            (dense): Linear(in_features=768, out_features=3072, bias=True)\n",
       "          )\n",
       "          (output): BERTOutput(\n",
       "            (dense): Linear(in_features=3072, out_features=768, bias=True)\n",
       "            (LayerNorm): BERTLayerNorm()\n",
       "            (dropout): Dropout(p=0.1)\n",
       "          )\n",
       "        )\n",
       "        (10): BERTLayer(\n",
       "          (attention): BERTAttention(\n",
       "            (self): BERTSelfAttention(\n",
       "              (query): Linear(in_features=768, out_features=768, bias=True)\n",
       "              (key): Linear(in_features=768, out_features=768, bias=True)\n",
       "              (value): Linear(in_features=768, out_features=768, bias=True)\n",
       "              (dropout): Dropout(p=0.1)\n",
       "            )\n",
       "            (output): BERTSelfOutput(\n",
       "              (dense): Linear(in_features=768, out_features=768, bias=True)\n",
       "              (LayerNorm): BERTLayerNorm()\n",
       "              (dropout): Dropout(p=0.1)\n",
       "            )\n",
       "          )\n",
       "          (intermediate): BERTIntermediate(\n",
       "            (dense): Linear(in_features=768, out_features=3072, bias=True)\n",
       "          )\n",
       "          (output): BERTOutput(\n",
       "            (dense): Linear(in_features=3072, out_features=768, bias=True)\n",
       "            (LayerNorm): BERTLayerNorm()\n",
       "            (dropout): Dropout(p=0.1)\n",
       "          )\n",
       "        )\n",
       "        (11): BERTLayer(\n",
       "          (attention): BERTAttention(\n",
       "            (self): BERTSelfAttention(\n",
       "              (query): Linear(in_features=768, out_features=768, bias=True)\n",
       "              (key): Linear(in_features=768, out_features=768, bias=True)\n",
       "              (value): Linear(in_features=768, out_features=768, bias=True)\n",
       "              (dropout): Dropout(p=0.1)\n",
       "            )\n",
       "            (output): BERTSelfOutput(\n",
       "              (dense): Linear(in_features=768, out_features=768, bias=True)\n",
       "              (LayerNorm): BERTLayerNorm()\n",
       "              (dropout): Dropout(p=0.1)\n",
       "            )\n",
       "          )\n",
       "          (intermediate): BERTIntermediate(\n",
       "            (dense): Linear(in_features=768, out_features=3072, bias=True)\n",
       "          )\n",
       "          (output): BERTOutput(\n",
       "            (dense): Linear(in_features=3072, out_features=768, bias=True)\n",
       "            (LayerNorm): BERTLayerNorm()\n",
       "            (dropout): Dropout(p=0.1)\n",
       "          )\n",
       "        )\n",
       "      )\n",
       "    )\n",
       "    (pooler): BERTPooler(\n",
       "      (dense): Linear(in_features=768, out_features=768, bias=True)\n",
       "      (activation): Tanh()\n",
       "    )\n",
       "  )\n",
       "  (dropout): Dropout(p=0.1)\n",
       "  (dense): Linear(in_features=768, out_features=768, bias=True)\n",
       "  (LayerNorm): BERTLayerNorm()\n",
       "  (word_decode): Linear(in_features=768, out_features=28996, bias=True)\n",
       ")"
      ]
     },
     "execution_count": 18,
     "metadata": {},
     "output_type": "execute_result"
    }
   ],
   "source": [
    "model = BertForMaskedLanguageModelling(bert_config)\n",
    "if args.init_checkpoint is not None:\n",
    "    model.bert.load_state_dict(torch.load(args.init_checkpoint, map_location='cpu'))\n",
    "    \n",
    "if os.path.isfile(save_path):\n",
    "    model.load_state_dict(torch.load(save_path, map_location='cpu'))\n",
    "    \n",
    "model.to(device)\n",
    "\n",
    "if args.local_rank != -1:\n",
    "    model = torch.nn.parallel.DistributedDataParallel(model, device_ids=[args.local_rank],\n",
    "                                                      output_device=args.local_rank)\n",
    "elif n_gpu > 1:\n",
    "    model = torch.nn.DataParallel(model)\n",
    "    \n",
    "model"
   ]
  },
  {
   "cell_type": "markdown",
   "metadata": {},
   "source": [
    "# Opt"
   ]
  },
  {
   "cell_type": "code",
   "execution_count": 19,
   "metadata": {
    "ExecuteTime": {
     "end_time": "2018-11-13T01:58:55.835458Z",
     "start_time": "2018-11-13T01:58:55.809563Z"
    }
   },
   "outputs": [],
   "source": [
    "no_decay = ['bias', 'gamma', 'beta']\n",
    "optimizer_parameters = [\n",
    "    {'params': [p for n, p in model.named_parameters() if n not in no_decay], 'weight_decay_rate': 0.01},\n",
    "    {'params': [p for n, p in model.named_parameters() if n in no_decay], 'weight_decay_rate': 0.0}\n",
    "    ]\n",
    "\n",
    "optimizer = BERTAdam(optimizer_parameters,\n",
    "                     lr=args.learning_rate,\n",
    "                     warmup=args.warmup_proportion,\n",
    "                t_total=num_train_steps)"
   ]
  },
  {
   "cell_type": "code",
   "execution_count": null,
   "metadata": {},
   "outputs": [],
   "source": []
  },
  {
   "cell_type": "markdown",
   "metadata": {},
   "source": [
    "# Train 3"
   ]
  },
  {
   "cell_type": "code",
   "execution_count": 20,
   "metadata": {
    "ExecuteTime": {
     "end_time": "2018-11-13T01:58:57.397437Z",
     "start_time": "2018-11-13T01:58:55.837586Z"
    }
   },
   "outputs": [
    {
     "data": {
      "text/html": [
       "Another gentleman has fallen a victim to the terrible epidemic of suicide which for the last month has prevailed in the West End. Mr. Sidney Crashaw of Stoke House, Fulham, and King's Pomeroy, Devon, was found, after a prolonged search, hanging dead from the branch of a tree in his garden at one o'clock today. The deceased gentleman dined last night at the Carlton Club and seemed in his usual health and spirits. He left the club at about ten o'clock, and was seen walking leisurely up St. James's Street a little later. Subsequent to this his<span style=\"color: rgba(255,0,0,1)\">zz</span> <span style=\"color: rgba(255,0,0,1)\">guided</span><span style=\"color: rgba(255,0,0,1)\">bruck</span> <span style=\"color: rgba(255,0,0,1)\">ashes</span> <span style=\"color: rgba(255,0,0,1)\">sand</span> <span style=\"color: rgba(255,0,0,1)\">Classical</span> <span style=\"color: rgba(255,0,0,1)\">mention</span> <span style=\"color: rgba(255,0,0,1)\">Su</span> <span style=\"color: rgba(255,0,0,1)\">baptized</span> <span style=\"color: rgba(255,0,0,1)\">glad</span> <span style=\"color: rgba(255,0,0,1)\">cue</span> <span style=\"color: rgba(255,0,0,1)\">cushion</span> <span style=\"color: rgba(255,0,0,1)\">Soul</span><span style=\"color: rgba(255,0,0,1)\">₁</span> <span style=\"color: rgba(255,0,0,1)\">Neville</span> <span style=\"color: rgba(255,0,0,1)\">cigar</span> <span style=\"color: rgba(255,0,0,1)\">compose</span> <span style=\"color: rgba(255,0,0,1)\">goddamn</span> <span style=\"color: rgba(255,0,0,1)\">Design</span> <span style=\"color: rgba(255,0,0,1)\">strike</span> <span style=\"color: rgba(255,0,0,1)\">Origin</span> <span style=\"color: rgba(255,0,0,1)\">dates</span> <span style=\"color: rgba(255,0,0,1)\">capital</span> <span style=\"color: rgba(255,0,0,1)\">impressions</span> <span style=\"color: rgba(255,0,0,1)\">bed</span><span style=\"color: rgba(255,0,0,1)\">尚</span> <span style=\"color: rgba(255,0,0,1)\">jewelry</span> <span style=\"color: rgba(255,0,0,1)\">Assyrian</span><span style=\"color: rgba(255,0,0,1)\">26</span> <span style=\"color: rgba(255,0,0,1)\">Celebration</span>"
      ],
      "text/plain": [
       "<IPython.core.display.HTML object>"
      ]
     },
     "metadata": {},
     "output_type": "display_data"
    }
   ],
   "source": [
    "val_test=\"\"\"Another gentleman has fallen a victim to the terrible epidemic of suicide which for the last month has prevailed in the West End. Mr. Sidney Crashaw, of Stoke House, Fulham, and King's Pomeroy, Devon, was found, after a prolonged search, hanging dead from the branch of a tree in his garden at one o'clock today. The deceased gentleman dined last night at the Carlton Club and seemed in his usual health and spirits. He left the club at about ten o'clock, and was seen walking leisurely up St. James's Street a little later. Subsequent to this his movements cannot be traced\"\"\"\n",
    "display(predict_next_words(val_test, processor, tokenizer, model, max_seq_length=args.max_seq_length, n=30, T=1, device=device))"
   ]
  },
  {
   "cell_type": "code",
   "execution_count": 21,
   "metadata": {
    "ExecuteTime": {
     "end_time": "2018-11-13T01:58:57.526350Z",
     "start_time": "2018-11-13T01:58:57.400186Z"
    }
   },
   "outputs": [
    {
     "data": {
      "text/html": [
       "Another gentleman has <span style=\"color: rgba(0,0,255,1)\">fallen</span> a victim to <span style=\"color: rgba(0,0,255,1)\">the</span> terrible epidemic of suicide which for the last month has prevailed in the West End. Mr. Sidney Crashaw, of Stoke House, Fulham, and King's Pomeroy, Devon, <span style=\"color: rgba(0,0,255,1)\">was</span> found, after a prolonged <span style=\"color: rgba(0,0,255,1)\">search</span>, <span style=\"color: rgba(0,0,255,1)\">hanging</span> <span style=\"color: rgba(0,0,255,1)\">dead</span> from the branch of a tree in his garden at one o'clock <span style=\"color: rgba(0,0,255,1)\">today</span>. The deceased gentleman dined last <span style=\"color: rgba(0,0,255,1)\">night</span> at the Carlton Club and seemed in his usual health and spirits. He <span style=\"color: rgba(0,0,255,1)\">left</span> the club at about ten o'clock, and <span style=\"color: rgba(0,0,255,1)\">was</span> seen walking <span style=\"color: rgba(0,0,255,1)\">leisure</span>ly up St. James'<span style=\"color: rgba(0,0,255,1)\">s</span> Street a little <span style=\"color: rgba(0,0,255,1)\">later</span>. Subsequent to this his movements"
      ],
      "text/plain": [
       "<IPython.core.display.HTML object>"
      ]
     },
     "metadata": {},
     "output_type": "display_data"
    },
    {
     "data": {
      "text/html": [
       "Another gentleman has <span style=\"color: rgba(255,0,0,0.5011025071144104)\">Birthday</span> a victim to <span style=\"color: rgba(255,0,0,0.5011972188949585)\">Past</span> terrible epidemic of suicide which for the last month has prevailed in the West End. Mr. Sidney Crashaw, of Stoke House, Fulham, and King's Pomeroy, Devon, <span style=\"color: rgba(255,0,0,0.5010302662849426)\">Juno</span> found, after a prolonged <span style=\"color: rgba(255,0,0,0.5012099146842957)\">bite</span>, <span style=\"color: rgba(255,0,0,0.500953197479248)\">ring</span> <span style=\"color: rgba(255,0,0,0.5012064576148987)\">MHz</span> from the branch of a tree in his garden at one o'clock <span style=\"color: rgba(255,0,0,0.5016289353370667)\">MHz</span>. The deceased gentleman dined last <span style=\"color: rgba(255,0,0,0.50098717212677)\">Idol</span> at the Carlton Club and seemed in his usual health and spirits. He <span style=\"color: rgba(255,0,0,0.5017758011817932)\">burnt</span> the club at about ten o'clock, and <span style=\"color: rgba(255,0,0,0.5010187029838562)\">Wish</span> seen walking <span style=\"color: rgba(255,0,0,0.5015219449996948)\">shirt</span>ly up St. James'<span style=\"color: rgba(255,0,0,0.5009786486625671)\">vering</span> Street a little<span style=\"color: rgba(255,0,0,0.5009065866470337)\">pura</span>. Subsequent to this his movements cannot"
      ],
      "text/plain": [
       "<IPython.core.display.HTML object>"
      ]
     },
     "metadata": {},
     "output_type": "display_data"
    },
    {
     "data": {
      "text/plain": [
       "None"
      ]
     },
     "metadata": {},
     "output_type": "display_data"
    }
   ],
   "source": [
    "display(predict_masked_words(val_test, processor, tokenizer, model, device=device, max_seq_length=args.max_seq_length))"
   ]
  },
  {
   "cell_type": "code",
   "execution_count": 22,
   "metadata": {
    "ExecuteTime": {
     "end_time": "2018-11-13T01:58:57.549656Z",
     "start_time": "2018-11-13T01:58:57.528646Z"
    }
   },
   "outputs": [],
   "source": [
    "global_step = 0"
   ]
  },
  {
   "cell_type": "code",
   "execution_count": 23,
   "metadata": {
    "ExecuteTime": {
     "end_time": "2018-11-13T01:58:57.933014Z",
     "start_time": "2018-11-13T01:58:57.552204Z"
    }
   },
   "outputs": [
    {
     "data": {
      "application/vnd.jupyter.widget-view+json": {
       "model_id": "041c64de41d34edd80e2bda1e7dbca0d",
       "version_major": 2,
       "version_minor": 0
      },
      "text/plain": [
       "HBox(children=(IntProgress(value=0, description='Epoch', max=3, style=ProgressStyle(description_width='initial…"
      ]
     },
     "metadata": {},
     "output_type": "display_data"
    },
    {
     "data": {
      "application/vnd.jupyter.widget-view+json": {
       "model_id": "1236f497c82347afa67b46aa42188864",
       "version_major": 2,
       "version_minor": 0
      },
      "text/plain": [
       "HBox(children=(IntProgress(value=0, description='Iteration', max=12857, style=ProgressStyle(description_width=…"
      ]
     },
     "metadata": {},
     "output_type": "display_data"
    },
    {
     "name": "stdout",
     "output_type": "stream",
     "text": [
      "step 10 loss 0.4416290015885324\n"
     ]
    },
    {
     "data": {
      "text/html": [
       "Another gentleman has fallen a <span style=\"color: rgba(0,0,255,1)\">victim</span> to the terrible <span style=\"color: rgba(0,0,255,1)\">epidemic</span> of suicide which for the last month has prevailed in the West End. Mr. Sidney <span style=\"color: rgba(0,0,255,1)\">Crash</span>aw, of Stoke House, <span style=\"color: rgba(0,0,255,1)\">Fulham</span>, and King's Pomeroy, Devon, was found, after a prolonged search, hanging dead from the branch <span style=\"color: rgba(0,0,255,1)\">of</span> a tree in <span style=\"color: rgba(0,0,255,1)\">his</span> garden at one o'clock today. The deceased gentleman din<span style=\"color: rgba(0,0,255,1)\">ed</span> last night at the Carlton Club and seemed in his usual health and spirits<span style=\"color: rgba(0,0,255,1)\">.</span> He left the club at <span style=\"color: rgba(0,0,255,1)\">about</span> ten o<span style=\"color: rgba(0,0,255,1)\">'</span><span style=\"color: rgba(0,0,255,1)\">clock</span>, and was seen walking leisurely <span style=\"color: rgba(0,0,255,1)\">up</span> St. James's Street a little later<span style=\"color: rgba(0,0,255,1)\">.</span> Subsequent to this his movements"
      ],
      "text/plain": [
       "<IPython.core.display.HTML object>"
      ]
     },
     "metadata": {},
     "output_type": "display_data"
    },
    {
     "data": {
      "text/html": [
       "Another gentleman has fallen a<span style=\"color: rgba(255,0,0,0.5010743141174316)\">kra</span> to the terrible <span style=\"color: rgba(255,0,0,0.5013251900672913)\">blast</span> of suicide which for the last month has prevailed in the West End. Mr. Sidney <span style=\"color: rgba(255,0,0,0.5016635656356812)\">vacated</span>aw, of Stoke House, <span style=\"color: rgba(255,0,0,0.5015027523040771)\">bite</span>, and King's Pomeroy, Devon, was found, after a prolonged search, hanging dead from the branch <span style=\"color: rgba(255,0,0,0.5028300285339355)\">peaking</span> a tree in <span style=\"color: rgba(255,0,0,0.5014519095420837)\">seat</span> garden at one o'clock today. The deceased gentleman din <span style=\"color: rgba(255,0,0,0.501200795173645)\">Week</span> last night at the Carlton Club and seemed in his usual health and spirits <span style=\"color: rgba(255,0,0,0.5011478662490845)\">Skull</span> He left the club at <span style=\"color: rgba(255,0,0,0.5017375946044922)\">hail</span> ten o<span style=\"color: rgba(255,0,0,0.5009570121765137)\">usal</span> <span style=\"color: rgba(255,0,0,0.5013691186904907)\">scales</span>, and was seen walking leisurely<span style=\"color: rgba(255,0,0,0.5009044408798218)\">rri</span> St. James's Street a little later <span style=\"color: rgba(255,0,0,0.5010420680046082)\">Skull</span> Subsequent to this his movements cannot"
      ],
      "text/plain": [
       "<IPython.core.display.HTML object>"
      ]
     },
     "metadata": {},
     "output_type": "display_data"
    },
    {
     "data": {
      "text/plain": [
       "None"
      ]
     },
     "metadata": {},
     "output_type": "display_data"
    },
    {
     "data": {
      "text/html": [
       "Another gentleman has fallen a victim to the terrible of suicide which for the last month has prevailed in the West End. Mr. Sidney Crashaw, of Stoke House, Fulham, and King's Pomeroy, Devon, was found, after a prolonged search, hanging dead from the branch of a tree in his garden at one o'clock today. The deceased gentleman dined last night at the Carlton Club and seemed in his usual health and spirits. He left the club at about ten o'clock, and was seen walking leisurely up St. James's Street a little later. Subsequent to this his <span style=\"color: rgba(255,0,0,1)\">CBN</span> <span style=\"color: rgba(255,0,0,1)\">Peterson</span><span style=\"color: rgba(255,0,0,1)\">stones</span> <span style=\"color: rgba(255,0,0,1)\">logs</span> <span style=\"color: rgba(255,0,0,1)\">wasted</span> <span style=\"color: rgba(255,0,0,1)\">casting</span><span style=\"color: rgba(255,0,0,1)\">ב</span> <span style=\"color: rgba(255,0,0,1)\">Lion</span> <span style=\"color: rgba(255,0,0,1)\">Neville</span> <span style=\"color: rgba(255,0,0,1)\">121</span>"
      ],
      "text/plain": [
       "<IPython.core.display.HTML object>"
      ]
     },
     "metadata": {},
     "output_type": "display_data"
    },
    {
     "name": "stdout",
     "output_type": "stream",
     "text": [
      "step 1010 loss 0.2679335590998332\n"
     ]
    },
    {
     "data": {
      "text/html": [
       "Another gentleman has fallen <span style=\"color: rgba(0,0,255,1)\">a</span> victim to the terrible <span style=\"color: rgba(0,0,255,1)\">epidemic</span> of suicide which for <span style=\"color: rgba(0,0,255,1)\">the</span> last month has prevailed in the West End. Mr. <span style=\"color: rgba(0,0,255,1)\">Sidney</span> Crashaw, of Stoke House, <span style=\"color: rgba(0,0,255,1)\">Fulham</span>, and King's Pomeroy, Devon, was found, after <span style=\"color: rgba(0,0,255,1)\">a</span> prolonged search, hanging dead from the branch of a tree in his garden at one o'clock today<span style=\"color: rgba(0,0,255,1)\">.</span> The deceased gentleman dined last night at the Carlton Club and seemed in his usual health and spirits. <span style=\"color: rgba(0,0,255,1)\">He</span> <span style=\"color: rgba(0,0,255,1)\">left</span> the club at about ten <span style=\"color: rgba(0,0,255,1)\">o</span>'clock, and was seen <span style=\"color: rgba(0,0,255,1)\">walking</span> leisurely up St. James's Street a little later. Subsequent to this his movements"
      ],
      "text/plain": [
       "<IPython.core.display.HTML object>"
      ]
     },
     "metadata": {},
     "output_type": "display_data"
    },
    {
     "data": {
      "text/html": [
       "Another gentleman has fallen <span style=\"color: rgba(255,0,0,0.5477471351623535)\">the</span> victim to the terrible <span style=\"color: rgba(255,0,0,0.504296600818634)\">bed</span> of suicide which for <span style=\"color: rgba(255,0,0,0.8255856037139893)\">the</span> last month has prevailed in the West End. Mr. <span style=\"color: rgba(255,0,0,0.516335129737854)\">\"</span> Crashaw, of Stoke House, <span style=\"color: rgba(255,0,0,0.502798855304718)\">stew</span>, and King's Pomeroy, Devon, was found, after <span style=\"color: rgba(255,0,0,0.6462514400482178)\">the</span> prolonged search, hanging dead from the branch of a tree in his garden at one o'clock today<span style=\"color: rgba(255,0,0,0.9433422684669495)\">.</span> The deceased gentleman dined last night at the Carlton Club and seemed in his usual health and spirits. <span style=\"color: rgba(255,0,0,0.5537688732147217)\">He</span> <span style=\"color: rgba(255,0,0,0.5427024364471436)\">at</span> the club at about ten <span style=\"color: rgba(255,0,0,0.5111553072929382)\">to</span>'clock, and was seen<span style=\"color: rgba(255,0,0,0.5348528623580933)\">,</span> leisurely up St. James's Street a little later. Subsequent to this his movements cannot"
      ],
      "text/plain": [
       "<IPython.core.display.HTML object>"
      ]
     },
     "metadata": {},
     "output_type": "display_data"
    },
    {
     "data": {
      "text/plain": [
       "None"
      ]
     },
     "metadata": {},
     "output_type": "display_data"
    },
    {
     "data": {
      "text/html": [
       "Another gentleman has fallen a victim to the terrible of suicide which for the last month has prevailed in the West End. Mr. Sidney Crashaw, of Stoke House, Fulham, and King's Pomeroy, Devon, was found, after a prolonged search, hanging dead from the branch of a tree in his garden at one o'clock today. The deceased gentleman dined last night at the Carlton Club and seemed in his usual health and spirits. He left the club at about ten o'clock, and was seen walking leisurely up St. James's Street a little later. Subsequent to this his <span style=\"color: rgba(255,0,0,1)\">house</span> <span style=\"color: rgba(255,0,0,1)\">had</span> <span style=\"color: rgba(255,0,0,1)\">see</span><span style=\"color: rgba(255,0,0,1)\">ings</span><span style=\"color: rgba(255,0,0,1)\">,</span> <span style=\"color: rgba(255,0,0,1)\">and</span> <span style=\"color: rgba(255,0,0,1)\">about</span> <span style=\"color: rgba(255,0,0,1)\">only</span> <span style=\"color: rgba(255,0,0,1)\">the</span> <span style=\"color: rgba(255,0,0,1)\">centre</span>"
      ],
      "text/plain": [
       "<IPython.core.display.HTML object>"
      ]
     },
     "metadata": {},
     "output_type": "display_data"
    },
    {
     "name": "stdout",
     "output_type": "stream",
     "text": [
      "step 2010 loss 0.17243167495727538\n"
     ]
    },
    {
     "data": {
      "text/html": [
       "Another <span style=\"color: rgba(0,0,255,1)\">gentleman</span> has fallen a victim <span style=\"color: rgba(0,0,255,1)\">to</span> the terrible <span style=\"color: rgba(0,0,255,1)\">epidemic</span> of suicide which for the last month has prevailed in the West End. Mr. Sidney Crash<span style=\"color: rgba(0,0,255,1)\">aw</span>, of <span style=\"color: rgba(0,0,255,1)\">Stoke</span> House, Fulham, <span style=\"color: rgba(0,0,255,1)\">and</span> King's Pomeroy, Devon, was found, after a prolonged search, hanging dead from <span style=\"color: rgba(0,0,255,1)\">the</span> branch of a tree <span style=\"color: rgba(0,0,255,1)\">in</span> his garden at one o'clock today. The deceased gentleman dined last night at the Carlton Club and seemed in his usual health and spirits<span style=\"color: rgba(0,0,255,1)\">.</span> He left the club at about ten o'<span style=\"color: rgba(0,0,255,1)\">clock</span>, and <span style=\"color: rgba(0,0,255,1)\">was</span> seen walking leisurely up St. James's Street a <span style=\"color: rgba(0,0,255,1)\">little</span> later. Subsequent to this his movements"
      ],
      "text/plain": [
       "<IPython.core.display.HTML object>"
      ]
     },
     "metadata": {},
     "output_type": "display_data"
    },
    {
     "data": {
      "text/html": [
       "Another <span style=\"color: rgba(255,0,0,0.604697585105896)\">man</span> has fallen a victim <span style=\"color: rgba(255,0,0,0.8633933067321777)\">of</span> the terrible <span style=\"color: rgba(255,0,0,0.5200291275978088)\">time</span> of suicide which for the last month has prevailed in the West End. Mr. Sidney Crash<span style=\"color: rgba(255,0,0,0.5275248289108276)\">ing</span>, of <span style=\"color: rgba(255,0,0,0.5031731724739075)\">Beau</span> House, Fulham, <span style=\"color: rgba(255,0,0,0.697378396987915)\">and</span> King's Pomeroy, Devon, was found, after a prolonged search, hanging dead from <span style=\"color: rgba(255,0,0,0.8236556649208069)\">the</span> branch of a tree <span style=\"color: rgba(255,0,0,0.769273042678833)\">in</span> his garden at one o'clock today. The deceased gentleman dined last night at the Carlton Club and seemed in his usual health and spirits<span style=\"color: rgba(255,0,0,0.9935601949691772)\">.</span> He left the club at about ten o'<span style=\"color: rgba(255,0,0,0.5204674601554871)\">s</span>, and <span style=\"color: rgba(255,0,0,0.773552656173706)\">was</span> seen walking leisurely up St. James's Street a <span style=\"color: rgba(255,0,0,0.5642999410629272)\">moment</span> later. Subsequent to this his movements cannot"
      ],
      "text/plain": [
       "<IPython.core.display.HTML object>"
      ]
     },
     "metadata": {},
     "output_type": "display_data"
    },
    {
     "data": {
      "text/plain": [
       "None"
      ]
     },
     "metadata": {},
     "output_type": "display_data"
    },
    {
     "data": {
      "text/html": [
       "Another gentleman has fallen a victim to the terrible of suicide which for the last month has prevailed in the West End. Mr. Sidney Crashaw, of Stoke House, Fulham, and King's Pomeroy, Devon, was found, after a prolonged search, hanging dead from the branch of a tree in his garden at one o'clock today. The deceased gentleman dined last night at the Carlton Club and seemed in his usual health and spirits. He left the club at about ten o'clock, and was seen walking leisurely up St. James's Street a little later. Subsequent to this his <span style=\"color: rgba(255,0,0,1)\">house</span> <span style=\"color: rgba(255,0,0,1)\">called</span> <span style=\"color: rgba(255,0,0,1)\">the</span> <span style=\"color: rgba(255,0,0,1)\">shield</span><span style=\"color: rgba(255,0,0,1)\">,</span> <span style=\"color: rgba(255,0,0,1)\">and</span> <span style=\"color: rgba(255,0,0,1)\">its</span> <span style=\"color: rgba(255,0,0,1)\">8</span> <span style=\"color: rgba(255,0,0,1)\">eleven</span><span style=\"color: rgba(255,0,0,1)\">.</span>"
      ],
      "text/plain": [
       "<IPython.core.display.HTML object>"
      ]
     },
     "metadata": {},
     "output_type": "display_data"
    },
    {
     "name": "stdout",
     "output_type": "stream",
     "text": [
      "step 3010 loss 0.14787519413232803\n"
     ]
    },
    {
     "data": {
      "text/html": [
       "Another gentleman has fallen <span style=\"color: rgba(0,0,255,1)\">a</span> <span style=\"color: rgba(0,0,255,1)\">victim</span> to the terrible epidemic <span style=\"color: rgba(0,0,255,1)\">of</span> suicide which for the <span style=\"color: rgba(0,0,255,1)\">last</span> month has prevailed in the West End. Mr. Sidney Crashaw, of Stoke House, Fulham, and King'<span style=\"color: rgba(0,0,255,1)\">s</span> Pomeroy, Devon, was found, after a prolonged search, hanging dead from the branch of a tree in <span style=\"color: rgba(0,0,255,1)\">his</span> garden at one o'clock today. The deceased gentleman dined <span style=\"color: rgba(0,0,255,1)\">last</span> night at the Carlton Club and <span style=\"color: rgba(0,0,255,1)\">seemed</span> <span style=\"color: rgba(0,0,255,1)\">in</span> <span style=\"color: rgba(0,0,255,1)\">his</span> <span style=\"color: rgba(0,0,255,1)\">usual</span> health and spirits. He left the club at about ten o'clock, <span style=\"color: rgba(0,0,255,1)\">and</span> was seen walking <span style=\"color: rgba(0,0,255,1)\">leisure</span>ly up St. James's <span style=\"color: rgba(0,0,255,1)\">Street</span> a little later. Subsequent to this his movements"
      ],
      "text/plain": [
       "<IPython.core.display.HTML object>"
      ]
     },
     "metadata": {},
     "output_type": "display_data"
    },
    {
     "data": {
      "text/html": [
       "Another gentleman has fallen<span style=\"color: rgba(255,0,0,0.5622254014015198)\">,</span> <span style=\"color: rgba(255,0,0,0.5127578377723694)\">sight</span> to the terrible epidemic <span style=\"color: rgba(255,0,0,0.9762200117111206)\">of</span> suicide which for the <span style=\"color: rgba(255,0,0,0.5785113573074341)\">same</span> month has prevailed in the West End. Mr. Sidney Crashaw, of Stoke House, Fulham, and King'<span style=\"color: rgba(255,0,0,0.9661139249801636)\">s</span> Pomeroy, Devon, was found, after a prolonged search, hanging dead from the branch of a tree in <span style=\"color: rgba(255,0,0,0.9243675470352173)\">his</span> garden at one o'clock today. The deceased gentleman dined <span style=\"color: rgba(255,0,0,0.5821806788444519)\">the</span> night at the Carlton Club and <span style=\"color: rgba(255,0,0,0.6618553400039673)\">was</span> <span style=\"color: rgba(255,0,0,0.6193006038665771)\">was</span> <span style=\"color: rgba(255,0,0,0.5531701445579529)\">in</span> <span style=\"color: rgba(255,0,0,0.5445987582206726)\">his</span> health and spirits. He left the club at about ten o'clock, <span style=\"color: rgba(255,0,0,0.9790154695510864)\">and</span> was seen walking <span style=\"color: rgba(255,0,0,0.507189929485321)\">beautiful</span>ly up St. James's <span style=\"color: rgba(255,0,0,0.530234694480896)\">room</span> a little later. Subsequent to this his movements cannot"
      ],
      "text/plain": [
       "<IPython.core.display.HTML object>"
      ]
     },
     "metadata": {},
     "output_type": "display_data"
    },
    {
     "data": {
      "text/plain": [
       "None"
      ]
     },
     "metadata": {},
     "output_type": "display_data"
    },
    {
     "data": {
      "text/html": [
       "Another gentleman has fallen a victim to the terrible of suicide which for the last month has prevailed in the West End. Mr. Sidney Crashaw, of Stoke House, Fulham, and King's Pomeroy, Devon, was found, after a prolonged search, hanging dead from the branch of a tree in his garden at one o'clock today. The deceased gentleman dined last night at the Carlton Club and seemed in his usual health and spirits. He left the club at about ten o'clock, and was seen walking leisurely up St. James's Street a little later. Subsequent to this his <span style=\"color: rgba(255,0,0,1)\">fourth</span> <span style=\"color: rgba(255,0,0,1)\">man</span><span style=\"color: rgba(255,0,0,1)\">,</span> <span style=\"color: rgba(255,0,0,1)\">carrying</span> <span style=\"color: rgba(255,0,0,1)\">company</span> <span style=\"color: rgba(255,0,0,1)\">red</span> <span style=\"color: rgba(255,0,0,1)\">round</span> <span style=\"color: rgba(255,0,0,1)\">and</span> <span style=\"color: rgba(255,0,0,1)\">a</span> <span style=\"color: rgba(255,0,0,1)\">little</span>"
      ],
      "text/plain": [
       "<IPython.core.display.HTML object>"
      ]
     },
     "metadata": {},
     "output_type": "display_data"
    },
    {
     "name": "stdout",
     "output_type": "stream",
     "text": [
      "step 4010 loss 0.13222407185037932\n"
     ]
    },
    {
     "data": {
      "text/html": [
       "Another gentleman has fallen a victim to the terrible epidemic of suicide which for the last month has prevailed <span style=\"color: rgba(0,0,255,1)\">in</span> the West End. Mr. <span style=\"color: rgba(0,0,255,1)\">Sidney</span> Crashaw<span style=\"color: rgba(0,0,255,1)\">,</span> <span style=\"color: rgba(0,0,255,1)\">of</span> Stoke House<span style=\"color: rgba(0,0,255,1)\">,</span> Fulham<span style=\"color: rgba(0,0,255,1)\">,</span> and King's Pomeroy, Devon, was found, after a prolonged search, hanging dead from the branch of a <span style=\"color: rgba(0,0,255,1)\">tree</span> in his garden at one o'clock today. The deceased gentleman dined last night at the Carlton Club and seemed <span style=\"color: rgba(0,0,255,1)\">in</span> his usual health and spirits. He left the club at about <span style=\"color: rgba(0,0,255,1)\">ten</span> o'clock, and was <span style=\"color: rgba(0,0,255,1)\">seen</span> walking leisure<span style=\"color: rgba(0,0,255,1)\">ly</span> up St. James's Street a little later. Subsequent to this his movements"
      ],
      "text/plain": [
       "<IPython.core.display.HTML object>"
      ]
     },
     "metadata": {},
     "output_type": "display_data"
    },
    {
     "data": {
      "text/html": [
       "Another gentleman has fallen a victim to the terrible epidemic of suicide which for the last month has prevailed <span style=\"color: rgba(255,0,0,0.8132505416870117)\">in</span> the West End. Mr. <span style=\"color: rgba(255,0,0,0.5282987356185913)\">Henry</span> Crashaw<span style=\"color: rgba(255,0,0,0.8837763071060181)\">,</span> <span style=\"color: rgba(255,0,0,0.6549611687660217)\">of</span> Stoke House<span style=\"color: rgba(255,0,0,0.9036731123924255)\">,</span> Fulham<span style=\"color: rgba(255,0,0,0.8541873693466187)\">,</span> and King's Pomeroy, Devon, was found, after a prolonged search, hanging dead from the branch of a <span style=\"color: rgba(255,0,0,0.508895993232727)\">tree</span> in his garden at one o'clock today. The deceased gentleman dined last night at the Carlton Club and seemed <span style=\"color: rgba(255,0,0,0.5778853297233582)\">at</span> his usual health and spirits. He left the club at about <span style=\"color: rgba(255,0,0,0.5479795932769775)\">ten</span> o'clock, and was <span style=\"color: rgba(255,0,0,0.5183786153793335)\">still</span> walking leisure<span style=\"color: rgba(255,0,0,0.9448758959770203)\">ly</span> up St. James's Street a little later. Subsequent to this his movements cannot"
      ],
      "text/plain": [
       "<IPython.core.display.HTML object>"
      ]
     },
     "metadata": {},
     "output_type": "display_data"
    },
    {
     "data": {
      "text/plain": [
       "None"
      ]
     },
     "metadata": {},
     "output_type": "display_data"
    },
    {
     "data": {
      "text/html": [
       "Another gentleman has fallen a victim to the terrible of suicide which for the last month has prevailed in the West End. Mr. Sidney Crashaw, of Stoke House, Fulham, and King's Pomeroy, Devon, was found, after a prolonged search, hanging dead from the branch of a tree in his garden at one o'clock today. The deceased gentleman dined last night at the Carlton Club and seemed in his usual health and spirits. He left the club at about ten o'clock, and was seen walking leisurely up St. James's Street a little later. Subsequent to this his <span style=\"color: rgba(255,0,0,1)\">night</span> <span style=\"color: rgba(255,0,0,1)\">in</span> <span style=\"color: rgba(255,0,0,1)\">the</span> <span style=\"color: rgba(255,0,0,1)\">by</span> <span style=\"color: rgba(255,0,0,1)\">junior</span> <span style=\"color: rgba(255,0,0,1)\">the</span> <span style=\"color: rgba(255,0,0,1)\">Lord</span><span style=\"color: rgba(255,0,0,1)\">ie</span><span style=\"color: rgba(255,0,0,1)\">,</span> <span style=\"color: rgba(255,0,0,1)\">this</span>"
      ],
      "text/plain": [
       "<IPython.core.display.HTML object>"
      ]
     },
     "metadata": {},
     "output_type": "display_data"
    },
    {
     "name": "stdout",
     "output_type": "stream",
     "text": [
      "step 5010 loss 0.12079898471136888\n"
     ]
    },
    {
     "data": {
      "text/html": [
       "<span style=\"color: rgba(0,0,255,1)\">Another</span> gentleman has fallen a victim to the terrible epidemic of suicide which for the last month has prevailed in the West End. Mr. Sidney Crashaw, of Stoke House, Fulham, and King's <span style=\"color: rgba(0,0,255,1)\">Po</span>meroy<span style=\"color: rgba(0,0,255,1)\">,</span> Devon, was found, after a prolonged search, hanging dead <span style=\"color: rgba(0,0,255,1)\">from</span> the branch of a tree in his garden at one o'clock today<span style=\"color: rgba(0,0,255,1)\">.</span> The deceased gentleman din<span style=\"color: rgba(0,0,255,1)\">ed</span> <span style=\"color: rgba(0,0,255,1)\">last</span> night at the Carlton Club <span style=\"color: rgba(0,0,255,1)\">and</span> seemed in his <span style=\"color: rgba(0,0,255,1)\">usual</span> health and spirits. He left the club <span style=\"color: rgba(0,0,255,1)\">at</span> about <span style=\"color: rgba(0,0,255,1)\">ten</span> o'clock, and was seen walking leisurely up St. James's Street a little later. Subsequent to <span style=\"color: rgba(0,0,255,1)\">this</span> <span style=\"color: rgba(0,0,255,1)\">his</span> <span style=\"color: rgba(0,0,255,1)\">movements</span>"
      ],
      "text/plain": [
       "<IPython.core.display.HTML object>"
      ]
     },
     "metadata": {},
     "output_type": "display_data"
    },
    {
     "data": {
      "text/html": [
       "<span style=\"color: rgba(255,0,0,0.608823835849762)\">the</span> gentleman has fallen a victim to the terrible epidemic of suicide which for the last month has prevailed in the West End. Mr. Sidney Crashaw, of Stoke House, Fulham, and King's <span style=\"color: rgba(255,0,0,0.5327885150909424)\">Po</span>meroy<span style=\"color: rgba(255,0,0,0.7882397174835205)\">,</span> Devon, was found, after a prolonged search, hanging dead <span style=\"color: rgba(255,0,0,0.6118510961532593)\">in</span> the branch of a tree in his garden at one o'clock today<span style=\"color: rgba(255,0,0,0.9908657670021057)\">.</span> The deceased gentleman din<span style=\"color: rgba(255,0,0,0.5534587502479553)\">ed</span> <span style=\"color: rgba(255,0,0,0.6435321569442749)\">at</span> night at the Carlton Club <span style=\"color: rgba(255,0,0,0.8166711330413818)\">and</span> seemed in his <span style=\"color: rgba(255,0,0,0.7019852995872498)\">own</span> health and spirits. He left the club <span style=\"color: rgba(255,0,0,0.6990391612052917)\">at</span> about <span style=\"color: rgba(255,0,0,0.5615637302398682)\">ten</span> o'clock, and was seen walking leisurely up St. James's Street a little later. Subsequent to <span style=\"color: rgba(255,0,0,0.6979739665985107)\">the</span><span style=\"color: rgba(255,0,0,0.5675057768821716)\">,</span> <span style=\"color: rgba(255,0,0,0.57691490650177)\">I</span> cannot"
      ],
      "text/plain": [
       "<IPython.core.display.HTML object>"
      ]
     },
     "metadata": {},
     "output_type": "display_data"
    },
    {
     "data": {
      "text/plain": [
       "None"
      ]
     },
     "metadata": {},
     "output_type": "display_data"
    },
    {
     "data": {
      "text/html": [
       "Another gentleman has fallen a victim to the terrible of suicide which for the last month has prevailed in the West End. Mr. Sidney Crashaw, of Stoke House, Fulham, and King's Pomeroy, Devon, was found, after a prolonged search, hanging dead from the branch of a tree in his garden at one o'clock today. The deceased gentleman dined last night at the Carlton Club and seemed in his usual health and spirits. He left the club at about ten o'clock, and was seen walking leisurely up St. James's Street a little later. Subsequent to this his <span style=\"color: rgba(255,0,0,1)\">presence</span> <span style=\"color: rgba(255,0,0,1)\">as</span> <span style=\"color: rgba(255,0,0,1)\">son</span><span style=\"color: rgba(255,0,0,1)\">'</span><span style=\"color: rgba(255,0,0,1)\">s</span> <span style=\"color: rgba(255,0,0,1)\">husband</span> <span style=\"color: rgba(255,0,0,1)\">failing</span> <span style=\"color: rgba(255,0,0,1)\">a</span> <span style=\"color: rgba(255,0,0,1)\">little</span><span style=\"color: rgba(255,0,0,1)\">.</span>"
      ],
      "text/plain": [
       "<IPython.core.display.HTML object>"
      ]
     },
     "metadata": {},
     "output_type": "display_data"
    },
    {
     "name": "stdout",
     "output_type": "stream",
     "text": [
      "step 6010 loss 0.11270180442929267\n"
     ]
    },
    {
     "data": {
      "text/html": [
       "<span style=\"color: rgba(0,0,255,1)\">Another</span> <span style=\"color: rgba(0,0,255,1)\">gentleman</span> has fallen a victim to the terrible epidemic of suicide which for the last month has prevailed in <span style=\"color: rgba(0,0,255,1)\">the</span> West End. Mr<span style=\"color: rgba(0,0,255,1)\">.</span> Sidney Crashaw, of Stoke House, Fulham, and King's Pomeroy, Devon, was found, after <span style=\"color: rgba(0,0,255,1)\">a</span> prolonged search, hanging dead from the branch of a tree in his garden <span style=\"color: rgba(0,0,255,1)\">at</span> one o'clock today. The deceased gentleman dined last night at the Carlton Club and <span style=\"color: rgba(0,0,255,1)\">seemed</span> in his usual health and spirits. He left the club at about ten o'clock, and was seen walking leisurely up St. James's Street <span style=\"color: rgba(0,0,255,1)\">a</span> little later<span style=\"color: rgba(0,0,255,1)\">.</span> Subsequent to this his movements"
      ],
      "text/plain": [
       "<IPython.core.display.HTML object>"
      ]
     },
     "metadata": {},
     "output_type": "display_data"
    },
    {
     "data": {
      "text/html": [
       "<span style=\"color: rgba(255,0,0,0.5502599477767944)\">.</span> <span style=\"color: rgba(255,0,0,0.5681905746459961)\">he</span> has fallen a victim to the terrible epidemic of suicide which for the last month has prevailed in <span style=\"color: rgba(255,0,0,0.9891390800476074)\">the</span> West End. Mr<span style=\"color: rgba(255,0,0,0.8987636566162109)\">.</span> Sidney Crashaw, of Stoke House, Fulham, and King's Pomeroy, Devon, was found, after <span style=\"color: rgba(255,0,0,0.9770514965057373)\">a</span> prolonged search, hanging dead from the branch of a tree in his garden <span style=\"color: rgba(255,0,0,0.9044407606124878)\">at</span> one o'clock today. The deceased gentleman dined last night at the Carlton Club and <span style=\"color: rgba(255,0,0,0.755103349685669)\">was</span> in his usual health and spirits. He left the club at about ten o'clock, and was seen walking leisurely up St. James's Street <span style=\"color: rgba(255,0,0,0.9902917146682739)\">a</span> little later<span style=\"color: rgba(255,0,0,0.9972012042999268)\">.</span> Subsequent to this his movements cannot"
      ],
      "text/plain": [
       "<IPython.core.display.HTML object>"
      ]
     },
     "metadata": {},
     "output_type": "display_data"
    },
    {
     "data": {
      "text/plain": [
       "None"
      ]
     },
     "metadata": {},
     "output_type": "display_data"
    },
    {
     "data": {
      "text/html": [
       "Another gentleman has fallen a victim to the terrible of suicide which for the last month has prevailed in the West End. Mr. Sidney Crashaw, of Stoke House, Fulham, and King's Pomeroy, Devon, was found, after a prolonged search, hanging dead from the branch of a tree in his garden at one o'clock today. The deceased gentleman dined last night at the Carlton Club and seemed in his usual health and spirits. He left the club at about ten o'clock, and was seen walking leisurely up St. James's Street a little later. Subsequent to this his <span style=\"color: rgba(255,0,0,1)\">servant</span> <span style=\"color: rgba(255,0,0,1)\">and</span> <span style=\"color: rgba(255,0,0,1)\">servants</span> <span style=\"color: rgba(255,0,0,1)\">Fu</span><span style=\"color: rgba(255,0,0,1)\">ffer</span><span style=\"color: rgba(255,0,0,1)\">y</span> <span style=\"color: rgba(255,0,0,1)\">to</span> <span style=\"color: rgba(255,0,0,1)\">the</span> <span style=\"color: rgba(255,0,0,1)\">door</span><span style=\"color: rgba(255,0,0,1)\">.</span>"
      ],
      "text/plain": [
       "<IPython.core.display.HTML object>"
      ]
     },
     "metadata": {},
     "output_type": "display_data"
    },
    {
     "name": "stdout",
     "output_type": "stream",
     "text": [
      "step 7010 loss 0.10634195641179879\n"
     ]
    },
    {
     "data": {
      "text/html": [
       "Another <span style=\"color: rgba(0,0,255,1)\">gentleman</span> has <span style=\"color: rgba(0,0,255,1)\">fallen</span> a victim to the terrible epidemic of suicide which for the last month has prevailed in <span style=\"color: rgba(0,0,255,1)\">the</span> West End. Mr. <span style=\"color: rgba(0,0,255,1)\">Sidney</span> Crashaw, of Stoke House, Fulham, and King's Po<span style=\"color: rgba(0,0,255,1)\">mer</span>oy, Devon, was found, after a prolonged search, hanging dead from the branch of a tree in his <span style=\"color: rgba(0,0,255,1)\">garden</span> at one o'clock today. The deceased gentleman dined last <span style=\"color: rgba(0,0,255,1)\">night</span> <span style=\"color: rgba(0,0,255,1)\">at</span> the Carlton Club and <span style=\"color: rgba(0,0,255,1)\">seemed</span> <span style=\"color: rgba(0,0,255,1)\">in</span> his usual health and <span style=\"color: rgba(0,0,255,1)\">spirits</span>. He left the club at about ten o<span style=\"color: rgba(0,0,255,1)\">'</span>clock, and was <span style=\"color: rgba(0,0,255,1)\">seen</span> walking leisurely up St. <span style=\"color: rgba(0,0,255,1)\">James</span>'s Street <span style=\"color: rgba(0,0,255,1)\">a</span> little later. Subsequent to this his movements"
      ],
      "text/plain": [
       "<IPython.core.display.HTML object>"
      ]
     },
     "metadata": {},
     "output_type": "display_data"
    },
    {
     "data": {
      "text/html": [
       "Another <span style=\"color: rgba(255,0,0,0.6437448263168335)\">man</span> has <span style=\"color: rgba(255,0,0,0.9184614419937134)\">been</span> a victim to the terrible epidemic of suicide which for the last month has prevailed in <span style=\"color: rgba(255,0,0,0.9963560104370117)\">the</span> West End. Mr. <span style=\"color: rgba(255,0,0,0.5509389042854309)\">John</span> Crashaw, of Stoke House, Fulham, and King's Po<span style=\"color: rgba(255,0,0,0.517702579498291)\">dr</span>oy, Devon, was found, after a prolonged search, hanging dead from the branch of a tree in his <span style=\"color: rgba(255,0,0,0.566952109336853)\">house</span> at one o'clock today. The deceased gentleman dined last <span style=\"color: rgba(255,0,0,0.732805609703064)\">night</span> <span style=\"color: rgba(255,0,0,0.933645486831665)\">at</span> the Carlton Club and <span style=\"color: rgba(255,0,0,0.6592550277709961)\">was</span> <span style=\"color: rgba(255,0,0,0.610359251499176)\">in</span> his usual health and <span style=\"color: rgba(255,0,0,0.5167070031166077)\">business</span>. He left the club at about ten o<span style=\"color: rgba(255,0,0,0.9971954822540283)\">'</span>clock, and was <span style=\"color: rgba(255,0,0,0.7428958415985107)\">seen</span> walking leisurely up St. <span style=\"color: rgba(255,0,0,0.5270265936851501)\">John</span>'s Street <span style=\"color: rgba(255,0,0,0.9836101531982422)\">a</span> little later. Subsequent to this his movements cannot"
      ],
      "text/plain": [
       "<IPython.core.display.HTML object>"
      ]
     },
     "metadata": {},
     "output_type": "display_data"
    },
    {
     "data": {
      "text/plain": [
       "None"
      ]
     },
     "metadata": {},
     "output_type": "display_data"
    },
    {
     "data": {
      "text/html": [
       "Another gentleman has fallen a victim to the terrible of suicide which for the last month has prevailed in the West End. Mr. Sidney Crashaw, of Stoke House, Fulham, and King's Pomeroy, Devon, was found, after a prolonged search, hanging dead from the branch of a tree in his garden at one o'clock today. The deceased gentleman dined last night at the Carlton Club and seemed in his usual health and spirits. He left the club at about ten o'clock, and was seen walking leisurely up St. James's Street a little later. Subsequent to this his <span style=\"color: rgba(255,0,0,1)\">house</span><span style=\"color: rgba(255,0,0,1)\">,</span> <span style=\"color: rgba(255,0,0,1)\">where</span> <span style=\"color: rgba(255,0,0,1)\">he</span> <span style=\"color: rgba(255,0,0,1)\">stands</span> <span style=\"color: rgba(255,0,0,1)\">wrote</span> <span style=\"color: rgba(255,0,0,1)\">him</span> <span style=\"color: rgba(255,0,0,1)\">and</span> <span style=\"color: rgba(255,0,0,1)\">could</span> <span style=\"color: rgba(255,0,0,1)\">stay</span>"
      ],
      "text/plain": [
       "<IPython.core.display.HTML object>"
      ]
     },
     "metadata": {},
     "output_type": "display_data"
    },
    {
     "name": "stdout",
     "output_type": "stream",
     "text": [
      "step 8010 loss 0.10097162362933158\n"
     ]
    },
    {
     "data": {
      "text/html": [
       "Another gentleman has fallen a <span style=\"color: rgba(0,0,255,1)\">victim</span> to the terrible epidemic of suicide <span style=\"color: rgba(0,0,255,1)\">which</span> for the last month has <span style=\"color: rgba(0,0,255,1)\">prevailed</span> in the West End. Mr. Sidney Crashaw, of Stoke House, Fulham, and King's <span style=\"color: rgba(0,0,255,1)\">Po</span>meroy, Devon, was found, after a prolonged search, hanging dead from the <span style=\"color: rgba(0,0,255,1)\">branch</span> of a tree in his garden at one o'clock today. The deceased <span style=\"color: rgba(0,0,255,1)\">gentleman</span> dined <span style=\"color: rgba(0,0,255,1)\">last</span> night at the Carlton Club and seemed in his usual health and spirits<span style=\"color: rgba(0,0,255,1)\">.</span> He left the club at about ten o'clock, and was seen <span style=\"color: rgba(0,0,255,1)\">walking</span> leisurely up St. James's Street a little <span style=\"color: rgba(0,0,255,1)\">later</span>. Subsequent to this <span style=\"color: rgba(0,0,255,1)\">his</span> movements"
      ],
      "text/plain": [
       "<IPython.core.display.HTML object>"
      ]
     },
     "metadata": {},
     "output_type": "display_data"
    },
    {
     "data": {
      "text/html": [
       "Another gentleman has fallen a <span style=\"color: rgba(255,0,0,0.6765350103378296)\">little</span> to the terrible epidemic of suicide <span style=\"color: rgba(255,0,0,0.9293829798698425)\">which</span> for the last month has <span style=\"color: rgba(255,0,0,0.5365910530090332)\">been</span> in the West End. Mr. Sidney Crashaw, of Stoke House, Fulham, and King's <span style=\"color: rgba(255,0,0,0.5607843399047852)\">Po</span>meroy, Devon, was found, after a prolonged search, hanging dead from the <span style=\"color: rgba(255,0,0,0.5228109955787659)\">trunk</span> of a tree in his garden at one o'clock today. The deceased <span style=\"color: rgba(255,0,0,0.6105729937553406)\">had</span> dined <span style=\"color: rgba(255,0,0,0.8104958534240723)\">last</span> night at the Carlton Club and seemed in his usual health and spirits<span style=\"color: rgba(255,0,0,0.9964165687561035)\">.</span> He left the club at about ten o'clock, and was seen <span style=\"color: rgba(255,0,0,0.6808425784111023)\">walking</span> leisurely up St. James's Street a little <span style=\"color: rgba(255,0,0,0.5322065353393555)\">before</span>. Subsequent to this <span style=\"color: rgba(255,0,0,0.6741793751716614)\">his</span> movements cannot"
      ],
      "text/plain": [
       "<IPython.core.display.HTML object>"
      ]
     },
     "metadata": {},
     "output_type": "display_data"
    },
    {
     "data": {
      "text/plain": [
       "None"
      ]
     },
     "metadata": {},
     "output_type": "display_data"
    },
    {
     "data": {
      "text/html": [
       "Another gentleman has fallen a victim to the terrible of suicide which for the last month has prevailed in the West End. Mr. Sidney Crashaw, of Stoke House, Fulham, and King's Pomeroy, Devon, was found, after a prolonged search, hanging dead from the branch of a tree in his garden at one o'clock today. The deceased gentleman dined last night at the Carlton Club and seemed in his usual health and spirits. He left the club at about ten o'clock, and was seen walking leisurely up St. James's Street a little later. Subsequent to this his <span style=\"color: rgba(255,0,0,1)\">household</span> <span style=\"color: rgba(255,0,0,1)\">vessels</span> <span style=\"color: rgba(255,0,0,1)\">made</span> <span style=\"color: rgba(255,0,0,1)\">trouble</span><span style=\"color: rgba(255,0,0,1)\">.</span> <span style=\"color: rgba(255,0,0,1)\">Here</span> <span style=\"color: rgba(255,0,0,1)\">would</span> <span style=\"color: rgba(255,0,0,1)\">he</span> <span style=\"color: rgba(255,0,0,1)\">see</span> <span style=\"color: rgba(255,0,0,1)\">him</span>"
      ],
      "text/plain": [
       "<IPython.core.display.HTML object>"
      ]
     },
     "metadata": {},
     "output_type": "display_data"
    },
    {
     "name": "stdout",
     "output_type": "stream",
     "text": [
      "step 9010 loss 0.09824179585278034\n"
     ]
    },
    {
     "data": {
      "text/html": [
       "<span style=\"color: rgba(0,0,255,1)\">Another</span> gentleman has fallen a victim to the terrible epidemic of suicide which for the last month has prevailed in the West End. Mr. Sidney Crashaw, of Stoke House, <span style=\"color: rgba(0,0,255,1)\">Fulham</span>, and King's Pomer<span style=\"color: rgba(0,0,255,1)\">oy</span>, Devon, <span style=\"color: rgba(0,0,255,1)\">was</span> <span style=\"color: rgba(0,0,255,1)\">found</span>, after a prolonged search, <span style=\"color: rgba(0,0,255,1)\">hanging</span> dead from the branch of a tree in his <span style=\"color: rgba(0,0,255,1)\">garden</span> at one o'clock today. The deceased <span style=\"color: rgba(0,0,255,1)\">gentleman</span> dined last night <span style=\"color: rgba(0,0,255,1)\">at</span> the Carlton Club and seemed in his <span style=\"color: rgba(0,0,255,1)\">usual</span> health and spirits. He left <span style=\"color: rgba(0,0,255,1)\">the</span> club at about ten o'clock, and was seen walking leisurely up St. James's Street a little later. Subsequent to this his movements"
      ],
      "text/plain": [
       "<IPython.core.display.HTML object>"
      ]
     },
     "metadata": {},
     "output_type": "display_data"
    },
    {
     "data": {
      "text/html": [
       "<span style=\"color: rgba(255,0,0,0.616777777671814)\">the</span> gentleman has fallen a victim to the terrible epidemic of suicide which for the last month has prevailed in the West End. Mr. Sidney Crashaw, of Stoke House, <span style=\"color: rgba(255,0,0,0.6202223300933838)\">London</span>, and King's Pomer<span style=\"color: rgba(255,0,0,0.6059519648551941)\">oy</span>, Devon, <span style=\"color: rgba(255,0,0,0.6480005979537964)\">was</span> <span style=\"color: rgba(255,0,0,0.5304384231567383)\">here</span>, after a prolonged search, <span style=\"color: rgba(255,0,0,0.5346843004226685)\">sitting</span> dead from the branch of a tree in his <span style=\"color: rgba(255,0,0,0.5562934875488281)\">house</span> at one o'clock today. The deceased <span style=\"color: rgba(255,0,0,0.8289933204650879)\">gentleman</span> dined last night <span style=\"color: rgba(255,0,0,0.9766948819160461)\">at</span> the Carlton Club and seemed in his <span style=\"color: rgba(255,0,0,0.6289323568344116)\">own</span> health and spirits. He left <span style=\"color: rgba(255,0,0,0.9655901193618774)\">the</span> club at about ten o'clock, and was seen walking leisurely up St. James's Street a little later. Subsequent to this his movements cannot"
      ],
      "text/plain": [
       "<IPython.core.display.HTML object>"
      ]
     },
     "metadata": {},
     "output_type": "display_data"
    },
    {
     "data": {
      "text/plain": [
       "None"
      ]
     },
     "metadata": {},
     "output_type": "display_data"
    },
    {
     "data": {
      "text/html": [
       "Another gentleman has fallen a victim to the terrible of suicide which for the last month has prevailed in the West End. Mr. Sidney Crashaw, of Stoke House, Fulham, and King's Pomeroy, Devon, was found, after a prolonged search, hanging dead from the branch of a tree in his garden at one o'clock today. The deceased gentleman dined last night at the Carlton Club and seemed in his usual health and spirits. He left the club at about ten o'clock, and was seen walking leisurely up St. James's Street a little later. Subsequent to this his <span style=\"color: rgba(255,0,0,1)\">nephew</span> <span style=\"color: rgba(255,0,0,1)\">established</span> <span style=\"color: rgba(255,0,0,1)\">his</span> <span style=\"color: rgba(255,0,0,1)\">own</span> <span style=\"color: rgba(255,0,0,1)\">station</span> <span style=\"color: rgba(255,0,0,1)\">of</span> <span style=\"color: rgba(255,0,0,1)\">the</span> <span style=\"color: rgba(255,0,0,1)\">London</span> <span style=\"color: rgba(255,0,0,1)\">Lock</span><span style=\"color: rgba(255,0,0,1)\">s</span>"
      ],
      "text/plain": [
       "<IPython.core.display.HTML object>"
      ]
     },
     "metadata": {},
     "output_type": "display_data"
    },
    {
     "name": "stdout",
     "output_type": "stream",
     "text": [
      "step 10010 loss 0.09523965532084307\n"
     ]
    },
    {
     "data": {
      "text/html": [
       "Another gentleman <span style=\"color: rgba(0,0,255,1)\">has</span> fallen a victim to the terrible epidemic <span style=\"color: rgba(0,0,255,1)\">of</span> suicide which for the last month has prevailed in the West End. <span style=\"color: rgba(0,0,255,1)\">Mr</span>. Sidney Crashaw, of Stoke House, <span style=\"color: rgba(0,0,255,1)\">Fulham</span>, and King's Po<span style=\"color: rgba(0,0,255,1)\">mer</span>oy, Devon, was found, after a prolonged search, <span style=\"color: rgba(0,0,255,1)\">hanging</span> <span style=\"color: rgba(0,0,255,1)\">dead</span> from the <span style=\"color: rgba(0,0,255,1)\">branch</span> of a tree <span style=\"color: rgba(0,0,255,1)\">in</span> his garden <span style=\"color: rgba(0,0,255,1)\">at</span> one o'clock today<span style=\"color: rgba(0,0,255,1)\">.</span> The deceased gentleman dined last night at the Carlton Club and <span style=\"color: rgba(0,0,255,1)\">seemed</span> in his usual health and spirits. He <span style=\"color: rgba(0,0,255,1)\">left</span> the club at <span style=\"color: rgba(0,0,255,1)\">about</span> ten o'clock<span style=\"color: rgba(0,0,255,1)\">,</span> and was seen walking leisurely up St. James'<span style=\"color: rgba(0,0,255,1)\">s</span> Street a little later. Subsequent to this his movements"
      ],
      "text/plain": [
       "<IPython.core.display.HTML object>"
      ]
     },
     "metadata": {},
     "output_type": "display_data"
    },
    {
     "data": {
      "text/html": [
       "Another gentleman <span style=\"color: rgba(255,0,0,0.9559112787246704)\">has</span> fallen a victim to the terrible epidemic <span style=\"color: rgba(255,0,0,0.9979414939880371)\">of</span> suicide which for the last month has prevailed in the West End. <span style=\"color: rgba(255,0,0,0.7258196473121643)\">Dr</span>. Sidney Crashaw, of Stoke House, <span style=\"color: rgba(255,0,0,0.5889535546302795)\">London</span>, and King's Po<span style=\"color: rgba(255,0,0,0.5654059648513794)\">nn</span>oy, Devon, was found, after a prolonged search, <span style=\"color: rgba(255,0,0,0.7357555031776428)\">and</span> <span style=\"color: rgba(255,0,0,0.5283417701721191)\">fallen</span> from the <span style=\"color: rgba(255,0,0,0.5389237999916077)\">root</span> of a tree <span style=\"color: rgba(255,0,0,0.9840105772018433)\">in</span> his garden <span style=\"color: rgba(255,0,0,0.8011265993118286)\">at</span> one o'clock today<span style=\"color: rgba(255,0,0,0.9989939332008362)\">.</span> The deceased gentleman dined last night at the Carlton Club and <span style=\"color: rgba(255,0,0,0.5887576937675476)\">was</span> in his usual health and spirits. He <span style=\"color: rgba(255,0,0,0.6012786626815796)\">left</span> the club at <span style=\"color: rgba(255,0,0,0.8679497838020325)\">about</span> ten o'clock<span style=\"color: rgba(255,0,0,0.9829994440078735)\">,</span> and was seen walking leisurely up St. James'<span style=\"color: rgba(255,0,0,0.9683958292007446)\">s</span> Street a little later. Subsequent to this his movements cannot"
      ],
      "text/plain": [
       "<IPython.core.display.HTML object>"
      ]
     },
     "metadata": {},
     "output_type": "display_data"
    },
    {
     "data": {
      "text/plain": [
       "None"
      ]
     },
     "metadata": {},
     "output_type": "display_data"
    },
    {
     "data": {
      "text/html": [
       "Another gentleman has fallen a victim to the terrible of suicide which for the last month has prevailed in the West End. Mr. Sidney Crashaw, of Stoke House, Fulham, and King's Pomeroy, Devon, was found, after a prolonged search, hanging dead from the branch of a tree in his garden at one o'clock today. The deceased gentleman dined last night at the Carlton Club and seemed in his usual health and spirits. He left the club at about ten o'clock, and was seen walking leisurely up St. James's Street a little later. Subsequent to this his <span style=\"color: rgba(255,0,0,1)\">wife</span><span style=\"color: rgba(255,0,0,1)\">,</span> <span style=\"color: rgba(255,0,0,1)\">Susan</span><span style=\"color: rgba(255,0,0,1)\">,</span> <span style=\"color: rgba(255,0,0,1)\">and</span> <span style=\"color: rgba(255,0,0,1)\">his</span> <span style=\"color: rgba(255,0,0,1)\">father</span> <span style=\"color: rgba(255,0,0,1)\">but</span> <span style=\"color: rgba(255,0,0,1)\">without</span> <span style=\"color: rgba(255,0,0,1)\">a</span>"
      ],
      "text/plain": [
       "<IPython.core.display.HTML object>"
      ]
     },
     "metadata": {},
     "output_type": "display_data"
    },
    {
     "name": "stdout",
     "output_type": "stream",
     "text": [
      "step 11010 loss 0.09318694466352463\n"
     ]
    },
    {
     "data": {
      "text/html": [
       "Another gentleman has fallen <span style=\"color: rgba(0,0,255,1)\">a</span> victim to the terrible epidemic of suicide which for the last month has prevailed in the West End. Mr<span style=\"color: rgba(0,0,255,1)\">.</span> Sidney Crashaw, of Stoke House<span style=\"color: rgba(0,0,255,1)\">,</span> Fulham, and King's Pomeroy, Devon, was found, after a prolonged search, hanging dead from the branch of a tree <span style=\"color: rgba(0,0,255,1)\">in</span> his garden at <span style=\"color: rgba(0,0,255,1)\">one</span> o'clock today. <span style=\"color: rgba(0,0,255,1)\">The</span> deceased gentleman dined last night at the <span style=\"color: rgba(0,0,255,1)\">Carlton</span> Club and seemed in his usual health and spirits. He left the club <span style=\"color: rgba(0,0,255,1)\">at</span> <span style=\"color: rgba(0,0,255,1)\">about</span> ten o'clock, and was seen walking <span style=\"color: rgba(0,0,255,1)\">leisure</span>ly up St. James's <span style=\"color: rgba(0,0,255,1)\">Street</span> a little later. Subsequent to this his movements"
      ],
      "text/plain": [
       "<IPython.core.display.HTML object>"
      ]
     },
     "metadata": {},
     "output_type": "display_data"
    },
    {
     "data": {
      "text/html": [
       "Another gentleman has fallen <span style=\"color: rgba(255,0,0,0.7278950810432434)\">a</span> victim to the terrible epidemic of suicide which for the last month has prevailed in the West End. Mr<span style=\"color: rgba(255,0,0,0.9928866028785706)\">.</span> Sidney Crashaw, of Stoke House<span style=\"color: rgba(255,0,0,0.9985625147819519)\">,</span> Fulham, and King's Pomeroy, Devon, was found, after a prolonged search, hanging dead from the branch of a tree <span style=\"color: rgba(255,0,0,0.9324998259544373)\">in</span> his garden at <span style=\"color: rgba(255,0,0,0.910980224609375)\">one</span> o'clock today. <span style=\"color: rgba(255,0,0,0.9462854862213135)\">The</span> deceased gentleman dined last night at the <span style=\"color: rgba(255,0,0,0.5069702863693237)\">Castle</span> Club and seemed in his usual health and spirits. He left the club <span style=\"color: rgba(255,0,0,0.6878015398979187)\">at</span> <span style=\"color: rgba(255,0,0,0.8030132055282593)\">about</span> ten o'clock, and was seen walking <span style=\"color: rgba(255,0,0,0.5281303524971008)\">cheerful</span>ly up St. James's <span style=\"color: rgba(255,0,0,0.6858486533164978)\">Street</span> a little later. Subsequent to this his movements cannot"
      ],
      "text/plain": [
       "<IPython.core.display.HTML object>"
      ]
     },
     "metadata": {},
     "output_type": "display_data"
    },
    {
     "data": {
      "text/plain": [
       "None"
      ]
     },
     "metadata": {},
     "output_type": "display_data"
    },
    {
     "data": {
      "text/html": [
       "Another gentleman has fallen a victim to the terrible of suicide which for the last month has prevailed in the West End. Mr. Sidney Crashaw, of Stoke House, Fulham, and King's Pomeroy, Devon, was found, after a prolonged search, hanging dead from the branch of a tree in his garden at one o'clock today. The deceased gentleman dined last night at the Carlton Club and seemed in his usual health and spirits. He left the club at about ten o'clock, and was seen walking leisurely up St. James's Street a little later. Subsequent to this his <span style=\"color: rgba(255,0,0,1)\">arrival</span> <span style=\"color: rgba(255,0,0,1)\">the</span> <span style=\"color: rgba(255,0,0,1)\">seal</span><span style=\"color: rgba(255,0,0,1)\">!</span> <span style=\"color: rgba(255,0,0,1)\">(</span> <span style=\"color: rgba(255,0,0,1)\">(</span> <span style=\"color: rgba(255,0,0,1)\">7</span><span style=\"color: rgba(255,0,0,1)\">AM</span><span style=\"color: rgba(255,0,0,1)\">.</span><span style=\"color: rgba(255,0,0,1)\">.</span>"
      ],
      "text/plain": [
       "<IPython.core.display.HTML object>"
      ]
     },
     "metadata": {},
     "output_type": "display_data"
    },
    {
     "name": "stdout",
     "output_type": "stream",
     "text": [
      "step 12010 loss 0.09139298311869304\n"
     ]
    },
    {
     "data": {
      "text/html": [
       "Another gentleman <span style=\"color: rgba(0,0,255,1)\">has</span> fallen a victim to the terrible epidemic of suicide which <span style=\"color: rgba(0,0,255,1)\">for</span> the last month has prevailed in the West End. Mr. Sidney Crashaw, of Stoke <span style=\"color: rgba(0,0,255,1)\">House</span>, Fulham, and King's Pomeroy, Devon, was found, after a prolonged search, hanging dead from the branch of a tree in his garden at one o'clock today. The deceased gentleman dined last night at the Carlton Club and seemed in his usual health and spirits. He left the club at about ten o'clock, and was seen walking leisurely up St. James<span style=\"color: rgba(0,0,255,1)\">'</span>s Street a <span style=\"color: rgba(0,0,255,1)\">little</span> later. Subsequent to this his movements"
      ],
      "text/plain": [
       "<IPython.core.display.HTML object>"
      ]
     },
     "metadata": {},
     "output_type": "display_data"
    },
    {
     "data": {
      "text/html": [
       "Another gentleman <span style=\"color: rgba(255,0,0,0.9262206554412842)\">has</span> fallen a victim to the terrible epidemic of suicide which <span style=\"color: rgba(255,0,0,0.7212483882904053)\">for</span> the last month has prevailed in the West End. Mr. Sidney Crashaw, of Stoke <span style=\"color: rgba(255,0,0,0.8421306610107422)\">House</span>, Fulham, and King's Pomeroy, Devon, was found, after a prolonged search, hanging dead from the branch of a tree in his garden at one o'clock today. The deceased gentleman dined last night at the Carlton Club and seemed in his usual health and spirits. He left the club at about ten o'clock, and was seen walking leisurely up St. James<span style=\"color: rgba(255,0,0,0.9992071390151978)\">'</span>s Street a <span style=\"color: rgba(255,0,0,0.6046797037124634)\">week</span> later. Subsequent to this his movements cannot"
      ],
      "text/plain": [
       "<IPython.core.display.HTML object>"
      ]
     },
     "metadata": {},
     "output_type": "display_data"
    },
    {
     "data": {
      "text/plain": [
       "None"
      ]
     },
     "metadata": {},
     "output_type": "display_data"
    },
    {
     "data": {
      "text/html": [
       "Another gentleman has fallen a victim to the terrible of suicide which for the last month has prevailed in the West End. Mr. Sidney Crashaw, of Stoke House, Fulham, and King's Pomeroy, Devon, was found, after a prolonged search, hanging dead from the branch of a tree in his garden at one o'clock today. The deceased gentleman dined last night at the Carlton Club and seemed in his usual health and spirits. He left the club at about ten o'clock, and was seen walking leisurely up St. James's Street a little later. Subsequent to this his <span style=\"color: rgba(255,0,0,1)\">presence</span> <span style=\"color: rgba(255,0,0,1)\">searches</span> <span style=\"color: rgba(255,0,0,1)\">the</span> <span style=\"color: rgba(255,0,0,1)\">pillar</span> <span style=\"color: rgba(255,0,0,1)\">and</span> <span style=\"color: rgba(255,0,0,1)\">wing</span><span style=\"color: rgba(255,0,0,1)\">,</span> <span style=\"color: rgba(255,0,0,1)\">keeping</span> <span style=\"color: rgba(255,0,0,1)\">my</span> <span style=\"color: rgba(255,0,0,1)\">eye</span>"
      ],
      "text/plain": [
       "<IPython.core.display.HTML object>"
      ]
     },
     "metadata": {},
     "output_type": "display_data"
    },
    {
     "data": {
      "application/vnd.jupyter.widget-view+json": {
       "model_id": "4fa14beabf694b6ba87306a4721ad17c",
       "version_major": 2,
       "version_minor": 0
      },
      "text/plain": [
       "HBox(children=(IntProgress(value=0, description='Iteration', max=12857, style=ProgressStyle(description_width=…"
      ]
     },
     "metadata": {},
     "output_type": "display_data"
    },
    {
     "name": "stdout",
     "output_type": "stream",
     "text": [
      "step 10 loss 0.08011685221484213\n"
     ]
    },
    {
     "data": {
      "text/html": [
       "Another gentleman has fallen a victim to the terrible epidemic of suicide which for the last month has prevailed in the West End. Mr. <span style=\"color: rgba(0,0,255,1)\">Sidney</span> Crashaw, of Stoke House, Fulham, and King's Pomeroy, Devon, was found, after a prolonged search, hanging dead from the <span style=\"color: rgba(0,0,255,1)\">branch</span> of a tree <span style=\"color: rgba(0,0,255,1)\">in</span> his garden at one o'clock today<span style=\"color: rgba(0,0,255,1)\">.</span> The <span style=\"color: rgba(0,0,255,1)\">deceased</span> gentleman dined last night at the Carlton Club and seemed <span style=\"color: rgba(0,0,255,1)\">in</span> his usual health <span style=\"color: rgba(0,0,255,1)\">and</span> spirits. <span style=\"color: rgba(0,0,255,1)\">He</span> left the club at about ten o'clock, and was seen walking leisure<span style=\"color: rgba(0,0,255,1)\">ly</span> up St<span style=\"color: rgba(0,0,255,1)\">.</span> James's Street a little later. Subsequent to this his movements"
      ],
      "text/plain": [
       "<IPython.core.display.HTML object>"
      ]
     },
     "metadata": {},
     "output_type": "display_data"
    },
    {
     "data": {
      "text/html": [
       "Another gentleman has fallen a victim to the terrible epidemic of suicide which for the last month has prevailed in the West End. Mr. <span style=\"color: rgba(255,0,0,0.5781777501106262)\">Francis</span> Crashaw, of Stoke House, Fulham, and King's Pomeroy, Devon, was found, after a prolonged search, hanging dead from the <span style=\"color: rgba(255,0,0,0.5636342167854309)\">top</span> of a tree <span style=\"color: rgba(255,0,0,0.973013162612915)\">in</span> his garden at one o'clock today<span style=\"color: rgba(255,0,0,0.9994614720344543)\">.</span> The <span style=\"color: rgba(255,0,0,0.6311493515968323)\">old</span> gentleman dined last night at the Carlton Club and seemed <span style=\"color: rgba(255,0,0,0.8783164024353027)\">in</span> his usual health <span style=\"color: rgba(255,0,0,0.911471962928772)\">and</span> spirits. <span style=\"color: rgba(255,0,0,0.9923900365829468)\">He</span> left the club at about ten o'clock, and was seen walking leisure<span style=\"color: rgba(255,0,0,0.9985505938529968)\">ly</span> up St<span style=\"color: rgba(255,0,0,0.9890854358673096)\">.</span> James's Street a little later. Subsequent to this his movements cannot"
      ],
      "text/plain": [
       "<IPython.core.display.HTML object>"
      ]
     },
     "metadata": {},
     "output_type": "display_data"
    },
    {
     "data": {
      "text/plain": [
       "None"
      ]
     },
     "metadata": {},
     "output_type": "display_data"
    },
    {
     "data": {
      "text/html": [
       "Another gentleman has fallen a victim to the terrible of suicide which for the last month has prevailed in the West End. Mr. Sidney Crashaw, of Stoke House, Fulham, and King's Pomeroy, Devon, was found, after a prolonged search, hanging dead from the branch of a tree in his garden at one o'clock today. The deceased gentleman dined last night at the Carlton Club and seemed in his usual health and spirits. He left the club at about ten o'clock, and was seen walking leisurely up St. James's Street a little later. Subsequent to this his <span style=\"color: rgba(255,0,0,1)\">arrival</span> <span style=\"color: rgba(255,0,0,1)\">at</span> <span style=\"color: rgba(255,0,0,1)\">Court</span><span style=\"color: rgba(255,0,0,1)\">,</span> <span style=\"color: rgba(255,0,0,1)\">he</span> <span style=\"color: rgba(255,0,0,1)\">possessed</span> <span style=\"color: rgba(255,0,0,1)\">the</span> <span style=\"color: rgba(255,0,0,1)\">faint</span><span style=\"color: rgba(255,0,0,1)\">er</span> <span style=\"color: rgba(255,0,0,1)\">money</span>"
      ],
      "text/plain": [
       "<IPython.core.display.HTML object>"
      ]
     },
     "metadata": {},
     "output_type": "display_data"
    },
    {
     "name": "stdout",
     "output_type": "stream",
     "text": [
      "step 1010 loss 0.08178334802389145\n"
     ]
    },
    {
     "data": {
      "text/html": [
       "Another gentleman has fallen a victim to the terrible epidemic of suicide <span style=\"color: rgba(0,0,255,1)\">which</span> for the last month has prevailed in the West End. Mr. Sidney Crashaw, of Stoke House, Fulham, and King<span style=\"color: rgba(0,0,255,1)\">'</span>s Pomeroy, Devon, was found, after a prolonged search, hanging dead from the branch <span style=\"color: rgba(0,0,255,1)\">of</span> a tree <span style=\"color: rgba(0,0,255,1)\">in</span> his garden at one o'clock today. The deceased gentleman dined last night at the Carlton Club and seemed in <span style=\"color: rgba(0,0,255,1)\">his</span> usual health and spirits. He left <span style=\"color: rgba(0,0,255,1)\">the</span> club at about ten o'clock, and was seen walking leisurely up <span style=\"color: rgba(0,0,255,1)\">St</span>. James<span style=\"color: rgba(0,0,255,1)\">'</span><span style=\"color: rgba(0,0,255,1)\">s</span> Street a little later<span style=\"color: rgba(0,0,255,1)\">.</span> Subsequent to <span style=\"color: rgba(0,0,255,1)\">this</span> his movements"
      ],
      "text/plain": [
       "<IPython.core.display.HTML object>"
      ]
     },
     "metadata": {},
     "output_type": "display_data"
    },
    {
     "data": {
      "text/html": [
       "Another gentleman has fallen a victim to the terrible epidemic of suicide <span style=\"color: rgba(255,0,0,0.9151332378387451)\">which</span> for the last month has prevailed in the West End. Mr. Sidney Crashaw, of Stoke House, Fulham, and King<span style=\"color: rgba(255,0,0,0.9968807697296143)\">'</span>s Pomeroy, Devon, was found, after a prolonged search, hanging dead from the branch <span style=\"color: rgba(255,0,0,0.997205913066864)\">of</span> a tree <span style=\"color: rgba(255,0,0,0.9945368766784668)\">in</span> his garden at one o'clock today. The deceased gentleman dined last night at the Carlton Club and seemed in <span style=\"color: rgba(255,0,0,0.9252068996429443)\">his</span> usual health and spirits. He left <span style=\"color: rgba(255,0,0,0.9748645424842834)\">the</span> club at about ten o'clock, and was seen walking leisurely up <span style=\"color: rgba(255,0,0,0.971324622631073)\">St</span>. James<span style=\"color: rgba(255,0,0,0.99970543384552)\">'</span><span style=\"color: rgba(255,0,0,0.998862624168396)\">s</span> Street a little later<span style=\"color: rgba(255,0,0,0.9993090629577637)\">.</span> Subsequent to <span style=\"color: rgba(255,0,0,0.772598385810852)\">all</span> his movements<span style=\"color: rgba(255,0,0,0.7002516388893127)\">,</span>"
      ],
      "text/plain": [
       "<IPython.core.display.HTML object>"
      ]
     },
     "metadata": {},
     "output_type": "display_data"
    },
    {
     "data": {
      "text/plain": [
       "None"
      ]
     },
     "metadata": {},
     "output_type": "display_data"
    },
    {
     "data": {
      "text/html": [
       "Another gentleman has fallen a victim to the terrible of suicide which for the last month has prevailed in the West End. Mr. Sidney Crashaw, of Stoke House, Fulham, and King's Pomeroy, Devon, was found, after a prolonged search, hanging dead from the branch of a tree in his garden at one o'clock today. The deceased gentleman dined last night at the Carlton Club and seemed in his usual health and spirits. He left the club at about ten o'clock, and was seen walking leisurely up St. James's Street a little later. Subsequent to this his <span style=\"color: rgba(255,0,0,1)\">attitude</span> <span style=\"color: rgba(255,0,0,1)\">to</span> <span style=\"color: rgba(255,0,0,1)\">the</span> <span style=\"color: rgba(255,0,0,1)\">knowledge</span> <span style=\"color: rgba(255,0,0,1)\">of</span> <span style=\"color: rgba(255,0,0,1)\">the</span> <span style=\"color: rgba(255,0,0,1)\">gentleman</span><span style=\"color: rgba(255,0,0,1)\">'</span><span style=\"color: rgba(255,0,0,1)\">s</span> <span style=\"color: rgba(255,0,0,1)\">kind</span>"
      ],
      "text/plain": [
       "<IPython.core.display.HTML object>"
      ]
     },
     "metadata": {},
     "output_type": "display_data"
    },
    {
     "name": "stdout",
     "output_type": "stream",
     "text": [
      "step 2010 loss 0.08069822260737419\n"
     ]
    },
    {
     "data": {
      "text/html": [
       "Another gentleman has fallen a victim to the terrible epidemic <span style=\"color: rgba(0,0,255,1)\">of</span> suicide which for the last month has prevailed in the <span style=\"color: rgba(0,0,255,1)\">West</span> <span style=\"color: rgba(0,0,255,1)\">End</span>. Mr. Sidney Crashaw, of Stoke House, Fulham, and King's Pomeroy, Devon, was found, after a prolonged search, hanging dead from the branch of a tree in his garden at one o'clock <span style=\"color: rgba(0,0,255,1)\">today</span>. The deceased gentleman dined last night at the Carlton Club and seemed in his usual health and spirits. He left the club at about ten o'clock, and was seen walking leisurely up St. James<span style=\"color: rgba(0,0,255,1)\">'</span><span style=\"color: rgba(0,0,255,1)\">s</span> Street a little later. Subsequent to this his movements"
      ],
      "text/plain": [
       "<IPython.core.display.HTML object>"
      ]
     },
     "metadata": {},
     "output_type": "display_data"
    },
    {
     "data": {
      "text/html": [
       "Another gentleman has fallen a victim to the terrible epidemic <span style=\"color: rgba(255,0,0,0.9966931343078613)\">of</span> suicide which for the last month has prevailed in the <span style=\"color: rgba(255,0,0,0.5285874009132385)\">London</span> <span style=\"color: rgba(255,0,0,0.5723289251327515)\">world</span>. Mr. Sidney Crashaw, of Stoke House, Fulham, and King's Pomeroy, Devon, was found, after a prolonged search, hanging dead from the branch of a tree in his garden at one o'clock <span style=\"color: rgba(255,0,0,0.5251443982124329)\">hour</span>. The deceased gentleman dined last night at the Carlton Club and seemed in his usual health and spirits. He left the club at about ten o'clock, and was seen walking leisurely up St. James<span style=\"color: rgba(255,0,0,0.7675156593322754)\">'</span><span style=\"color: rgba(255,0,0,0.5697859525680542)\">s</span> Street a little later. Subsequent to this his movements cannot"
      ],
      "text/plain": [
       "<IPython.core.display.HTML object>"
      ]
     },
     "metadata": {},
     "output_type": "display_data"
    },
    {
     "data": {
      "text/plain": [
       "None"
      ]
     },
     "metadata": {},
     "output_type": "display_data"
    },
    {
     "data": {
      "text/html": [
       "Another gentleman has fallen a victim to the terrible of suicide which for the last month has prevailed in the West End. Mr. Sidney Crashaw, of Stoke House, Fulham, and King's Pomeroy, Devon, was found, after a prolonged search, hanging dead from the branch of a tree in his garden at one o'clock today. The deceased gentleman dined last night at the Carlton Club and seemed in his usual health and spirits. He left the club at about ten o'clock, and was seen walking leisurely up St. James's Street a little later. Subsequent to this his <span style=\"color: rgba(255,0,0,1)\">document</span> <span style=\"color: rgba(255,0,0,1)\">late</span> <span style=\"color: rgba(255,0,0,1)\">attempted</span> <span style=\"color: rgba(255,0,0,1)\">to</span> <span style=\"color: rgba(255,0,0,1)\">outrage</span> <span style=\"color: rgba(255,0,0,1)\">the</span> <span style=\"color: rgba(255,0,0,1)\">bigger</span> <span style=\"color: rgba(255,0,0,1)\">Memory</span> <span style=\"color: rgba(255,0,0,1)\">Company</span> <span style=\"color: rgba(255,0,0,1)\">of</span>"
      ],
      "text/plain": [
       "<IPython.core.display.HTML object>"
      ]
     },
     "metadata": {},
     "output_type": "display_data"
    },
    {
     "name": "stdout",
     "output_type": "stream",
     "text": [
      "step 3010 loss 0.08031521196166674\n"
     ]
    },
    {
     "data": {
      "text/html": [
       "Another gentleman has fallen a victim <span style=\"color: rgba(0,0,255,1)\">to</span> the terrible <span style=\"color: rgba(0,0,255,1)\">epidemic</span> of suicide which for <span style=\"color: rgba(0,0,255,1)\">the</span> last month has prevailed in the West End<span style=\"color: rgba(0,0,255,1)\">.</span> Mr. Sidney <span style=\"color: rgba(0,0,255,1)\">Crash</span>aw, of <span style=\"color: rgba(0,0,255,1)\">Stoke</span> House, Fulham, and King's Pomeroy, Devon, <span style=\"color: rgba(0,0,255,1)\">was</span> <span style=\"color: rgba(0,0,255,1)\">found</span>, after a prolonged search<span style=\"color: rgba(0,0,255,1)\">,</span> hanging dead from the branch of a tree in his garden at one o'clock today. The <span style=\"color: rgba(0,0,255,1)\">deceased</span> gentleman <span style=\"color: rgba(0,0,255,1)\">din</span>ed last night at the Carlton Club and seemed in his usual health and spirits. He left <span style=\"color: rgba(0,0,255,1)\">the</span> <span style=\"color: rgba(0,0,255,1)\">club</span> at about ten <span style=\"color: rgba(0,0,255,1)\">o</span>'clock, and <span style=\"color: rgba(0,0,255,1)\">was</span> <span style=\"color: rgba(0,0,255,1)\">seen</span> walking leisure<span style=\"color: rgba(0,0,255,1)\">ly</span> up St<span style=\"color: rgba(0,0,255,1)\">.</span> James's Street a little later<span style=\"color: rgba(0,0,255,1)\">.</span> Subsequent <span style=\"color: rgba(0,0,255,1)\">to</span> this his movements"
      ],
      "text/plain": [
       "<IPython.core.display.HTML object>"
      ]
     },
     "metadata": {},
     "output_type": "display_data"
    },
    {
     "data": {
      "text/html": [
       "Another gentleman has fallen a victim <span style=\"color: rgba(255,0,0,0.988194465637207)\">to</span> the terrible <span style=\"color: rgba(255,0,0,0.5212613344192505)\">act</span> of suicide which for <span style=\"color: rgba(255,0,0,0.9565808773040771)\">the</span> last month has prevailed in the West End<span style=\"color: rgba(255,0,0,0.9481526613235474)\">.</span> Mr. Sidney <span style=\"color: rgba(255,0,0,0.5501241087913513)\">Al</span>aw, of <span style=\"color: rgba(255,0,0,0.5318408012390137)\">Green</span> House, Fulham, and King's Pomeroy, Devon, <span style=\"color: rgba(255,0,0,0.6063829660415649)\">has</span> <span style=\"color: rgba(255,0,0,0.5548158884048462)\">now</span>, after a prolonged search<span style=\"color: rgba(255,0,0,0.9319577813148499)\">,</span> hanging dead from the branch of a tree in his garden at one o'clock today. The <span style=\"color: rgba(255,0,0,0.6595545411109924)\">old</span> gentleman <span style=\"color: rgba(255,0,0,0.5332015752792358)\">din</span>ed last night at the Carlton Club and seemed in his usual health and spirits. He left <span style=\"color: rgba(255,0,0,0.8115184903144836)\">the</span> <span style=\"color: rgba(255,0,0,0.615967869758606)\">house</span> at about ten <span style=\"color: rgba(255,0,0,0.9966410398483276)\">o</span>'clock, and <span style=\"color: rgba(255,0,0,0.6263372302055359)\">began</span> <span style=\"color: rgba(255,0,0,0.6003787517547607)\">to</span> walking leisure<span style=\"color: rgba(255,0,0,0.9980089068412781)\">ly</span> up St<span style=\"color: rgba(255,0,0,0.9910975694656372)\">.</span> James's Street a little later<span style=\"color: rgba(255,0,0,0.9995663166046143)\">.</span> Subsequent <span style=\"color: rgba(255,0,0,0.9920576810836792)\">to</span> this his movements <span style=\"color: rgba(255,0,0,0.5339891910552979)\">increased</span>"
      ],
      "text/plain": [
       "<IPython.core.display.HTML object>"
      ]
     },
     "metadata": {},
     "output_type": "display_data"
    },
    {
     "data": {
      "text/plain": [
       "None"
      ]
     },
     "metadata": {},
     "output_type": "display_data"
    },
    {
     "data": {
      "text/html": [
       "Another gentleman has fallen a victim to the terrible of suicide which for the last month has prevailed in the West End. Mr. Sidney Crashaw, of Stoke House, Fulham, and King's Pomeroy, Devon, was found, after a prolonged search, hanging dead from the branch of a tree in his garden at one o'clock today. The deceased gentleman dined last night at the Carlton Club and seemed in his usual health and spirits. He left the club at about ten o'clock, and was seen walking leisurely up St. James's Street a little later. Subsequent to this his <span style=\"color: rgba(255,0,0,1)\">wife</span><span style=\"color: rgba(255,0,0,1)\">,</span> <span style=\"color: rgba(255,0,0,1)\">Mary</span><span style=\"color: rgba(255,0,0,1)\">,</span> <span style=\"color: rgba(255,0,0,1)\">who</span> <span style=\"color: rgba(255,0,0,1)\">said</span> <span style=\"color: rgba(255,0,0,1)\">and</span> <span style=\"color: rgba(255,0,0,1)\">told</span> <span style=\"color: rgba(255,0,0,1)\">them</span> <span style=\"color: rgba(255,0,0,1)\">about</span>"
      ],
      "text/plain": [
       "<IPython.core.display.HTML object>"
      ]
     },
     "metadata": {},
     "output_type": "display_data"
    },
    {
     "name": "stdout",
     "output_type": "stream",
     "text": [
      "step 4010 loss 0.07929287226994833\n"
     ]
    },
    {
     "data": {
      "text/html": [
       "<span style=\"color: rgba(0,0,255,1)\">Another</span> gentleman has fallen a victim to the terrible epidemic of suicide which for the <span style=\"color: rgba(0,0,255,1)\">last</span> month has prevailed <span style=\"color: rgba(0,0,255,1)\">in</span> the West <span style=\"color: rgba(0,0,255,1)\">End</span>. Mr. Sidney Crash<span style=\"color: rgba(0,0,255,1)\">aw</span>, of Stoke <span style=\"color: rgba(0,0,255,1)\">House</span>, Fulham, and King's Pomer<span style=\"color: rgba(0,0,255,1)\">oy</span>, Devon, was found, after a <span style=\"color: rgba(0,0,255,1)\">prolonged</span> search, hanging dead from the branch of a tree in his garden at one o'clock today. The deceased gentleman dined last <span style=\"color: rgba(0,0,255,1)\">night</span> <span style=\"color: rgba(0,0,255,1)\">at</span> the Carlton Club and seemed in his usual health and spirits. He left the club at about ten o'clock, and was seen walking leisurely up St. James<span style=\"color: rgba(0,0,255,1)\">'</span>s <span style=\"color: rgba(0,0,255,1)\">Street</span> a little later. Subsequent to this his <span style=\"color: rgba(0,0,255,1)\">movements</span>"
      ],
      "text/plain": [
       "<IPython.core.display.HTML object>"
      ]
     },
     "metadata": {},
     "output_type": "display_data"
    },
    {
     "data": {
      "text/html": [
       "<span style=\"color: rgba(255,0,0,0.5898817777633667)\">this</span> gentleman has fallen a victim to the terrible epidemic of suicide which for the <span style=\"color: rgba(255,0,0,0.6795554161071777)\">last</span> month has prevailed <span style=\"color: rgba(255,0,0,0.9909411668777466)\">in</span> the West <span style=\"color: rgba(255,0,0,0.5225122570991516)\">Country</span>. Mr. Sidney Crash<span style=\"color: rgba(255,0,0,0.5722293853759766)\">aw</span>, of Stoke<span style=\"color: rgba(255,0,0,0.5267158150672913)\">r</span>, Fulham, and King's Pomer<span style=\"color: rgba(255,0,0,0.5416221022605896)\">oy</span>, Devon, was found, after a <span style=\"color: rgba(255,0,0,0.6000123023986816)\">long</span> search, hanging dead from the branch of a tree in his garden at one o'clock today. The deceased gentleman dined last <span style=\"color: rgba(255,0,0,0.9594155550003052)\">night</span> <span style=\"color: rgba(255,0,0,0.9739342927932739)\">at</span> the Carlton Club and seemed in his usual health and spirits. He left the club at about ten o'clock, and was seen walking leisurely up St. James<span style=\"color: rgba(255,0,0,0.9996281862258911)\">'</span>s <span style=\"color: rgba(255,0,0,0.9577571153640747)\">Street</span> a little later. Subsequent to this his <span style=\"color: rgba(255,0,0,0.5282437801361084)\">mind</span> cannot"
      ],
      "text/plain": [
       "<IPython.core.display.HTML object>"
      ]
     },
     "metadata": {},
     "output_type": "display_data"
    },
    {
     "data": {
      "text/plain": [
       "None"
      ]
     },
     "metadata": {},
     "output_type": "display_data"
    },
    {
     "data": {
      "text/html": [
       "Another gentleman has fallen a victim to the terrible of suicide which for the last month has prevailed in the West End. Mr. Sidney Crashaw, of Stoke House, Fulham, and King's Pomeroy, Devon, was found, after a prolonged search, hanging dead from the branch of a tree in his garden at one o'clock today. The deceased gentleman dined last night at the Carlton Club and seemed in his usual health and spirits. He left the club at about ten o'clock, and was seen walking leisurely up St. James's Street a little later. Subsequent to this his <span style=\"color: rgba(255,0,0,1)\">son</span> <span style=\"color: rgba(255,0,0,1)\">carries</span> <span style=\"color: rgba(255,0,0,1)\">on</span> <span style=\"color: rgba(255,0,0,1)\">His</span> <span style=\"color: rgba(255,0,0,1)\">Own</span> <span style=\"color: rgba(255,0,0,1)\">Memorial</span> <span style=\"color: rgba(255,0,0,1)\">and</span> <span style=\"color: rgba(255,0,0,1)\">The</span> <span style=\"color: rgba(255,0,0,1)\">Lives</span> <span style=\"color: rgba(255,0,0,1)\">of</span>"
      ],
      "text/plain": [
       "<IPython.core.display.HTML object>"
      ]
     },
     "metadata": {},
     "output_type": "display_data"
    },
    {
     "name": "stdout",
     "output_type": "stream",
     "text": [
      "step 5010 loss 0.07895469624300798\n"
     ]
    },
    {
     "data": {
      "text/html": [
       "Another <span style=\"color: rgba(0,0,255,1)\">gentleman</span> has fallen a victim to the terrible epidemic of suicide which for the last month <span style=\"color: rgba(0,0,255,1)\">has</span> prevailed in the <span style=\"color: rgba(0,0,255,1)\">West</span> End<span style=\"color: rgba(0,0,255,1)\">.</span> Mr<span style=\"color: rgba(0,0,255,1)\">.</span> Sidney Crashaw, of Stoke House, Fulham, and King's Pomeroy, Devon, was <span style=\"color: rgba(0,0,255,1)\">found</span>, after a prolonged search, hanging <span style=\"color: rgba(0,0,255,1)\">dead</span> from the branch of a tree in his garden at one o'clock today. The deceased gentleman dined <span style=\"color: rgba(0,0,255,1)\">last</span> <span style=\"color: rgba(0,0,255,1)\">night</span> at the Carlton Club and seemed in his usual health and spirits. He left the club at <span style=\"color: rgba(0,0,255,1)\">about</span> ten o'clock, and was seen walking leisurely up St. James's Street a little later. Subsequent to this his movements"
      ],
      "text/plain": [
       "<IPython.core.display.HTML object>"
      ]
     },
     "metadata": {},
     "output_type": "display_data"
    },
    {
     "data": {
      "text/html": [
       "Another <span style=\"color: rgba(255,0,0,0.6356416940689087)\">gentleman</span> has fallen a victim to the terrible epidemic of suicide which for the last month <span style=\"color: rgba(255,0,0,0.8456079959869385)\">has</span> prevailed in the <span style=\"color: rgba(255,0,0,0.5516486763954163)\">South</span> End<span style=\"color: rgba(255,0,0,0.9821144342422485)\">.</span> Mr<span style=\"color: rgba(255,0,0,0.994960606098175)\">.</span> Sidney Crashaw, of Stoke House, Fulham, and King's Pomeroy, Devon, was <span style=\"color: rgba(255,0,0,0.8888541460037231)\">found</span>, after a prolonged search, hanging <span style=\"color: rgba(255,0,0,0.6384739279747009)\">up</span> from the branch of a tree in his garden at one o'clock today. The deceased gentleman dined <span style=\"color: rgba(255,0,0,0.6544016599655151)\">at</span> <span style=\"color: rgba(255,0,0,0.6454874873161316)\">night</span> at the Carlton Club and seemed in his usual health and spirits. He left the club at <span style=\"color: rgba(255,0,0,0.9482454061508179)\">about</span> ten o'clock, and was seen walking leisurely up St. James's Street a little later. Subsequent to this his movements cannot"
      ],
      "text/plain": [
       "<IPython.core.display.HTML object>"
      ]
     },
     "metadata": {},
     "output_type": "display_data"
    },
    {
     "data": {
      "text/plain": [
       "None"
      ]
     },
     "metadata": {},
     "output_type": "display_data"
    },
    {
     "data": {
      "text/html": [
       "Another gentleman has fallen a victim to the terrible of suicide which for the last month has prevailed in the West End. Mr. Sidney Crashaw, of Stoke House, Fulham, and King's Pomeroy, Devon, was found, after a prolonged search, hanging dead from the branch of a tree in his garden at one o'clock today. The deceased gentleman dined last night at the Carlton Club and seemed in his usual health and spirits. He left the club at about ten o'clock, and was seen walking leisurely up St. James's Street a little later. Subsequent to this his <span style=\"color: rgba(255,0,0,1)\">part</span> <span style=\"color: rgba(255,0,0,1)\">in</span> <span style=\"color: rgba(255,0,0,1)\">the</span> <span style=\"color: rgba(255,0,0,1)\">murder</span> <span style=\"color: rgba(255,0,0,1)\">in</span> <span style=\"color: rgba(255,0,0,1)\">the</span> <span style=\"color: rgba(255,0,0,1)\">London</span> <span style=\"color: rgba(255,0,0,1)\">thing</span><span style=\"color: rgba(255,0,0,1)\">,</span> <span style=\"color: rgba(255,0,0,1)\">so</span>"
      ],
      "text/plain": [
       "<IPython.core.display.HTML object>"
      ]
     },
     "metadata": {},
     "output_type": "display_data"
    },
    {
     "name": "stdout",
     "output_type": "stream",
     "text": [
      "step 6010 loss 0.07811783637106419\n"
     ]
    },
    {
     "data": {
      "text/html": [
       "Another gentleman has <span style=\"color: rgba(0,0,255,1)\">fallen</span> a victim to the terrible <span style=\"color: rgba(0,0,255,1)\">epidemic</span> of suicide which for the last month has prevailed in the West End<span style=\"color: rgba(0,0,255,1)\">.</span> Mr. Sidney Crashaw, of Stoke House, Fulham<span style=\"color: rgba(0,0,255,1)\">,</span> and King's Pomeroy, Devon, was found, after a prolonged search, hanging <span style=\"color: rgba(0,0,255,1)\">dead</span> from the branch of a tree in his garden at one o'<span style=\"color: rgba(0,0,255,1)\">clock</span> today. The deceased gentleman dined last night at the Carlton Club and seemed in his usual health and <span style=\"color: rgba(0,0,255,1)\">spirits</span>. He left the club at about ten o'clock<span style=\"color: rgba(0,0,255,1)\">,</span> and was seen walking leisurely up St. James's Street a little later. Subsequent to this his movements"
      ],
      "text/plain": [
       "<IPython.core.display.HTML object>"
      ]
     },
     "metadata": {},
     "output_type": "display_data"
    },
    {
     "data": {
      "text/html": [
       "Another gentleman has <span style=\"color: rgba(255,0,0,0.8985069990158081)\">been</span> a victim to the terrible <span style=\"color: rgba(255,0,0,0.5723835229873657)\">act</span> of suicide which for the last month has prevailed in the West End<span style=\"color: rgba(255,0,0,0.9766049385070801)\">.</span> Mr. Sidney Crashaw, of Stoke House, Fulham<span style=\"color: rgba(255,0,0,0.9646235704421997)\">,</span> and King's Pomeroy, Devon, was found, after a prolonged search, hanging <span style=\"color: rgba(255,0,0,0.9730894565582275)\">dead</span> from the branch of a tree in his garden at one o'<span style=\"color: rgba(255,0,0,0.9922280311584473)\">clock</span> today. The deceased gentleman dined last night at the Carlton Club and seemed in his usual health and <span style=\"color: rgba(255,0,0,0.5181769728660583)\">spirits</span>. He left the club at about ten o'clock<span style=\"color: rgba(255,0,0,0.9961316585540771)\">,</span> and was seen walking leisurely up St. James's Street a little later. Subsequent to this his movements cannot"
      ],
      "text/plain": [
       "<IPython.core.display.HTML object>"
      ]
     },
     "metadata": {},
     "output_type": "display_data"
    },
    {
     "data": {
      "text/plain": [
       "None"
      ]
     },
     "metadata": {},
     "output_type": "display_data"
    },
    {
     "data": {
      "text/html": [
       "Another gentleman has fallen a victim to the terrible of suicide which for the last month has prevailed in the West End. Mr. Sidney Crashaw, of Stoke House, Fulham, and King's Pomeroy, Devon, was found, after a prolonged search, hanging dead from the branch of a tree in his garden at one o'clock today. The deceased gentleman dined last night at the Carlton Club and seemed in his usual health and spirits. He left the club at about ten o'clock, and was seen walking leisurely up St. James's Street a little later. Subsequent to this his <span style=\"color: rgba(255,0,0,1)\">presence</span> <span style=\"color: rgba(255,0,0,1)\">in</span> <span style=\"color: rgba(255,0,0,1)\">the</span> <span style=\"color: rgba(255,0,0,1)\">neighbourhood</span> <span style=\"color: rgba(255,0,0,1)\">would</span> <span style=\"color: rgba(255,0,0,1)\">be</span> <span style=\"color: rgba(255,0,0,1)\">soon</span> <span style=\"color: rgba(255,0,0,1)\">marked</span> <span style=\"color: rgba(255,0,0,1)\">clearer</span><span style=\"color: rgba(255,0,0,1)\">,</span>"
      ],
      "text/plain": [
       "<IPython.core.display.HTML object>"
      ]
     },
     "metadata": {},
     "output_type": "display_data"
    },
    {
     "name": "stdout",
     "output_type": "stream",
     "text": [
      "step 7010 loss 0.07819283016522725\n"
     ]
    },
    {
     "data": {
      "text/html": [
       "Another gentleman has fallen a victim to the terrible epidemic of suicide which for the last month has prevailed in the <span style=\"color: rgba(0,0,255,1)\">West</span> End. Mr. Sidney Crashaw, of Stoke House<span style=\"color: rgba(0,0,255,1)\">,</span> Fulham, and King's Pomer<span style=\"color: rgba(0,0,255,1)\">oy</span><span style=\"color: rgba(0,0,255,1)\">,</span> <span style=\"color: rgba(0,0,255,1)\">Devon</span><span style=\"color: rgba(0,0,255,1)\">,</span> was found, after a <span style=\"color: rgba(0,0,255,1)\">prolonged</span> search, hanging dead from the branch of a tree in his garden at one o'clock <span style=\"color: rgba(0,0,255,1)\">today</span>. The deceased gentleman dined last night at the Carlton <span style=\"color: rgba(0,0,255,1)\">Club</span> and seemed in his usual health and spirits. He left the club at about ten o'clock, and was seen walking <span style=\"color: rgba(0,0,255,1)\">leisure</span>ly up <span style=\"color: rgba(0,0,255,1)\">St</span><span style=\"color: rgba(0,0,255,1)\">.</span> James's Street a little <span style=\"color: rgba(0,0,255,1)\">later</span>. Subsequent to this his movements"
      ],
      "text/plain": [
       "<IPython.core.display.HTML object>"
      ]
     },
     "metadata": {},
     "output_type": "display_data"
    },
    {
     "data": {
      "text/html": [
       "Another gentleman has fallen a victim to the terrible epidemic of suicide which for the last month has prevailed in the <span style=\"color: rgba(255,0,0,0.6543684005737305)\">West</span> End. Mr. Sidney Crashaw, of Stoke House<span style=\"color: rgba(255,0,0,0.9968229532241821)\">,</span> Fulham, and King's Pomer<span style=\"color: rgba(255,0,0,0.5615314841270447)\">ies</span><span style=\"color: rgba(255,0,0,0.9474902749061584)\">,</span><span style=\"color: rgba(255,0,0,0.6280477643013)\">,</span><span style=\"color: rgba(255,0,0,0.9438791275024414)\">,</span> was found, after a <span style=\"color: rgba(255,0,0,0.613882839679718)\">long</span> search, hanging dead from the branch of a tree in his garden at one o'clock <span style=\"color: rgba(255,0,0,0.5361749529838562)\">hour</span>. The deceased gentleman dined last night at the Carlton <span style=\"color: rgba(255,0,0,0.5804708003997803)\">Club</span> and seemed in his usual health and spirits. He left the club at about ten o'clock, and was seen walking <span style=\"color: rgba(255,0,0,0.5413767099380493)\">leisure</span>ly up <span style=\"color: rgba(255,0,0,0.8319084048271179)\">the</span> <span style=\"color: rgba(255,0,0,0.842985212802887)\">St</span> James's Street a little <span style=\"color: rgba(255,0,0,0.6290490031242371)\">distance</span>. Subsequent to this his movements cannot"
      ],
      "text/plain": [
       "<IPython.core.display.HTML object>"
      ]
     },
     "metadata": {},
     "output_type": "display_data"
    },
    {
     "data": {
      "text/plain": [
       "None"
      ]
     },
     "metadata": {},
     "output_type": "display_data"
    },
    {
     "data": {
      "text/html": [
       "Another gentleman has fallen a victim to the terrible of suicide which for the last month has prevailed in the West End. Mr. Sidney Crashaw, of Stoke House, Fulham, and King's Pomeroy, Devon, was found, after a prolonged search, hanging dead from the branch of a tree in his garden at one o'clock today. The deceased gentleman dined last night at the Carlton Club and seemed in his usual health and spirits. He left the club at about ten o'clock, and was seen walking leisurely up St. James's Street a little later. Subsequent to this his <span style=\"color: rgba(255,0,0,1)\">ghost</span> <span style=\"color: rgba(255,0,0,1)\">mutations</span><span style=\"color: rgba(255,0,0,1)\">.</span> <span style=\"color: rgba(255,0,0,1)\">Charles</span> <span style=\"color: rgba(255,0,0,1)\">T</span><span style=\"color: rgba(255,0,0,1)\">hou</span> <span style=\"color: rgba(255,0,0,1)\">Never</span> <span style=\"color: rgba(255,0,0,1)\">Night</span><span style=\"color: rgba(255,0,0,1)\">.</span> <span style=\"color: rgba(255,0,0,1)\">Another</span>"
      ],
      "text/plain": [
       "<IPython.core.display.HTML object>"
      ]
     },
     "metadata": {},
     "output_type": "display_data"
    },
    {
     "name": "stdout",
     "output_type": "stream",
     "text": [
      "step 8010 loss 0.07731232060988744\n"
     ]
    },
    {
     "data": {
      "text/html": [
       "Another <span style=\"color: rgba(0,0,255,1)\">gentleman</span> has fallen a <span style=\"color: rgba(0,0,255,1)\">victim</span> to the <span style=\"color: rgba(0,0,255,1)\">terrible</span> epidemic of <span style=\"color: rgba(0,0,255,1)\">suicide</span> which <span style=\"color: rgba(0,0,255,1)\">for</span> <span style=\"color: rgba(0,0,255,1)\">the</span> last month has prevailed in the <span style=\"color: rgba(0,0,255,1)\">West</span> End. Mr. Sidney Crashaw, <span style=\"color: rgba(0,0,255,1)\">of</span> Stoke House, Fulham<span style=\"color: rgba(0,0,255,1)\">,</span> and King's <span style=\"color: rgba(0,0,255,1)\">Po</span>mer<span style=\"color: rgba(0,0,255,1)\">oy</span>, Devon, was found, after a prolonged search, hanging dead <span style=\"color: rgba(0,0,255,1)\">from</span> the branch of a <span style=\"color: rgba(0,0,255,1)\">tree</span> in his garden at <span style=\"color: rgba(0,0,255,1)\">one</span> o'clock today. The deceased gentleman dined last <span style=\"color: rgba(0,0,255,1)\">night</span> at the Carlton Club and seemed in his usual health and spirits. He left <span style=\"color: rgba(0,0,255,1)\">the</span> club at about ten o'clock, and was seen walking leisurely up St. <span style=\"color: rgba(0,0,255,1)\">James</span><span style=\"color: rgba(0,0,255,1)\">'</span>s Street <span style=\"color: rgba(0,0,255,1)\">a</span> little later. Subsequent to this his movements"
      ],
      "text/plain": [
       "<IPython.core.display.HTML object>"
      ]
     },
     "metadata": {},
     "output_type": "display_data"
    },
    {
     "data": {
      "text/html": [
       "Another <span style=\"color: rgba(255,0,0,0.9251197576522827)\">gentleman</span> has fallen a <span style=\"color: rgba(255,0,0,0.8208929300308228)\">victim</span> to the <span style=\"color: rgba(255,0,0,0.8476841449737549)\">terrible</span> epidemic of <span style=\"color: rgba(255,0,0,0.5717212557792664)\">terror</span> which <span style=\"color: rgba(255,0,0,0.6744646430015564)\">in</span> <span style=\"color: rgba(255,0,0,0.873611569404602)\">the</span> last month has prevailed in the <span style=\"color: rgba(255,0,0,0.6423777341842651)\">West</span> End. Mr. Sidney Crashaw, <span style=\"color: rgba(255,0,0,0.8763749003410339)\">of</span> Stoke House, Fulham<span style=\"color: rgba(255,0,0,0.9777753949165344)\">,</span> and King's <span style=\"color: rgba(255,0,0,0.9785447120666504)\">Po</span>mer<span style=\"color: rgba(255,0,0,0.5477791428565979)\">oy</span>, Devon, was found, after a prolonged search, hanging dead <span style=\"color: rgba(255,0,0,0.7619713544845581)\">on</span> the branch of a <span style=\"color: rgba(255,0,0,0.900285005569458)\">tree</span> in his garden at <span style=\"color: rgba(255,0,0,0.6169496178627014)\">ten</span> o'clock today. The deceased gentleman dined last <span style=\"color: rgba(255,0,0,0.9465919733047485)\">night</span> at the Carlton Club and seemed in his usual health and spirits. He left <span style=\"color: rgba(255,0,0,0.985885500907898)\">the</span> club at about ten o'clock, and was seen walking leisurely up St. <span style=\"color: rgba(255,0,0,0.5631668567657471)\">John</span><span style=\"color: rgba(255,0,0,0.9991424083709717)\">'</span>s Street <span style=\"color: rgba(255,0,0,0.9961458444595337)\">a</span> little later. Subsequent to this his movements cannot"
      ],
      "text/plain": [
       "<IPython.core.display.HTML object>"
      ]
     },
     "metadata": {},
     "output_type": "display_data"
    },
    {
     "data": {
      "text/plain": [
       "None"
      ]
     },
     "metadata": {},
     "output_type": "display_data"
    },
    {
     "data": {
      "text/html": [
       "Another gentleman has fallen a victim to the terrible of suicide which for the last month has prevailed in the West End. Mr. Sidney Crashaw, of Stoke House, Fulham, and King's Pomeroy, Devon, was found, after a prolonged search, hanging dead from the branch of a tree in his garden at one o'clock today. The deceased gentleman dined last night at the Carlton Club and seemed in his usual health and spirits. He left the club at about ten o'clock, and was seen walking leisurely up St. James's Street a little later. Subsequent to this his <span style=\"color: rgba(255,0,0,1)\">appearance</span> <span style=\"color: rgba(255,0,0,1)\">was</span> <span style=\"color: rgba(255,0,0,1)\">about</span> <span style=\"color: rgba(255,0,0,1)\">eight</span> <span style=\"color: rgba(255,0,0,1)\">hours</span> <span style=\"color: rgba(255,0,0,1)\">another</span> <span style=\"color: rgba(255,0,0,1)\">merchant</span><span style=\"color: rgba(255,0,0,1)\">,</span> <span style=\"color: rgba(255,0,0,1)\">in</span> <span style=\"color: rgba(255,0,0,1)\">becoming</span>"
      ],
      "text/plain": [
       "<IPython.core.display.HTML object>"
      ]
     },
     "metadata": {},
     "output_type": "display_data"
    },
    {
     "name": "stdout",
     "output_type": "stream",
     "text": [
      "step 9010 loss 0.07681065473457177\n"
     ]
    },
    {
     "data": {
      "text/html": [
       "Another gentleman has fallen a victim to the terrible epidemic of suicide which for the last month has prevailed in the West End<span style=\"color: rgba(0,0,255,1)\">.</span> Mr. Sidney Crash<span style=\"color: rgba(0,0,255,1)\">aw</span>, <span style=\"color: rgba(0,0,255,1)\">of</span> Stoke House, Fulham, and <span style=\"color: rgba(0,0,255,1)\">King</span>'s Pomeroy, Devon, was found, after <span style=\"color: rgba(0,0,255,1)\">a</span> prolonged search, hanging dead <span style=\"color: rgba(0,0,255,1)\">from</span> the branch of a tree in his <span style=\"color: rgba(0,0,255,1)\">garden</span> at one o'clock today. <span style=\"color: rgba(0,0,255,1)\">The</span> deceased gentleman <span style=\"color: rgba(0,0,255,1)\">din</span>ed last night at the Carlton Club and seemed in <span style=\"color: rgba(0,0,255,1)\">his</span> usual health and spirits. He left the club at about ten <span style=\"color: rgba(0,0,255,1)\">o</span>'<span style=\"color: rgba(0,0,255,1)\">clock</span>, <span style=\"color: rgba(0,0,255,1)\">and</span> was seen walking <span style=\"color: rgba(0,0,255,1)\">leisure</span>ly up St. James'<span style=\"color: rgba(0,0,255,1)\">s</span> Street a little <span style=\"color: rgba(0,0,255,1)\">later</span>. Subsequent <span style=\"color: rgba(0,0,255,1)\">to</span> this his movements"
      ],
      "text/plain": [
       "<IPython.core.display.HTML object>"
      ]
     },
     "metadata": {},
     "output_type": "display_data"
    },
    {
     "data": {
      "text/html": [
       "Another gentleman has fallen a victim to the terrible epidemic of suicide which for the last month has prevailed in the West End<span style=\"color: rgba(255,0,0,0.9773482084274292)\">.</span> Mr. Sidney Crash<span style=\"color: rgba(255,0,0,0.7946010828018188)\">aw</span>, <span style=\"color: rgba(255,0,0,0.8839080333709717)\">of</span> Stoke House, Fulham, and <span style=\"color: rgba(255,0,0,0.5631392002105713)\">King</span>'s Pomeroy, Devon, was found, after <span style=\"color: rgba(255,0,0,0.9840420484542847)\">a</span> prolonged search, hanging dead <span style=\"color: rgba(255,0,0,0.6853866577148438)\">on</span> the branch of a tree in his <span style=\"color: rgba(255,0,0,0.6365013122558594)\">garden</span> at one o'clock today. <span style=\"color: rgba(255,0,0,0.9228368997573853)\">The</span> deceased gentleman <span style=\"color: rgba(255,0,0,0.5667610168457031)\">sleep</span>ed last night at the Carlton Club and seemed in <span style=\"color: rgba(255,0,0,0.9926201105117798)\">his</span> usual health and spirits. He left the club at about ten <span style=\"color: rgba(255,0,0,0.8060034513473511)\">o</span>'<span style=\"color: rgba(255,0,0,0.8838399648666382)\">clock</span>, <span style=\"color: rgba(255,0,0,0.9751870632171631)\">and</span> was seen walking <span style=\"color: rgba(255,0,0,0.5347827672958374)\">leisure</span>ly up St. James'<span style=\"color: rgba(255,0,0,0.9977012276649475)\">s</span> Street a little <span style=\"color: rgba(255,0,0,0.5736865401268005)\">distance</span>. Subsequent <span style=\"color: rgba(255,0,0,0.983840823173523)\">to</span> this his movements cannot"
      ],
      "text/plain": [
       "<IPython.core.display.HTML object>"
      ]
     },
     "metadata": {},
     "output_type": "display_data"
    },
    {
     "data": {
      "text/plain": [
       "None"
      ]
     },
     "metadata": {},
     "output_type": "display_data"
    },
    {
     "data": {
      "text/html": [
       "Another gentleman has fallen a victim to the terrible of suicide which for the last month has prevailed in the West End. Mr. Sidney Crashaw, of Stoke House, Fulham, and King's Pomeroy, Devon, was found, after a prolonged search, hanging dead from the branch of a tree in his garden at one o'clock today. The deceased gentleman dined last night at the Carlton Club and seemed in his usual health and spirits. He left the club at about ten o'clock, and was seen walking leisurely up St. James's Street a little later. Subsequent to this his <span style=\"color: rgba(255,0,0,1)\">left</span> <span style=\"color: rgba(255,0,0,1)\">arm</span><span style=\"color: rgba(255,0,0,1)\">upon</span><span style=\"color: rgba(255,0,0,1)\">,</span> <span style=\"color: rgba(255,0,0,1)\">a</span> <span style=\"color: rgba(255,0,0,1)\">washed</span> <span style=\"color: rgba(255,0,0,1)\">rag</span> <span style=\"color: rgba(255,0,0,1)\">carrying</span> <span style=\"color: rgba(255,0,0,1)\">it</span> <span style=\"color: rgba(255,0,0,1)\">over</span>"
      ],
      "text/plain": [
       "<IPython.core.display.HTML object>"
      ]
     },
     "metadata": {},
     "output_type": "display_data"
    },
    {
     "name": "stdout",
     "output_type": "stream",
     "text": [
      "step 10010 loss 0.07624892890453339\n"
     ]
    },
    {
     "data": {
      "text/html": [
       "Another gentleman has fallen a victim to the terrible epidemic of suicide which for the <span style=\"color: rgba(0,0,255,1)\">last</span> month <span style=\"color: rgba(0,0,255,1)\">has</span> prevailed in the West End<span style=\"color: rgba(0,0,255,1)\">.</span> Mr. Sidney Crashaw, of Stoke House, Fulham, and King's Pomeroy<span style=\"color: rgba(0,0,255,1)\">,</span> Devon, was <span style=\"color: rgba(0,0,255,1)\">found</span>, after a prolonged search, hanging dead from the <span style=\"color: rgba(0,0,255,1)\">branch</span> of a tree in his garden at one o<span style=\"color: rgba(0,0,255,1)\">'</span>clock today. The deceased gentleman dined last night at the Carlton Club and seemed in his usual health <span style=\"color: rgba(0,0,255,1)\">and</span> spirits. He <span style=\"color: rgba(0,0,255,1)\">left</span> the club at about <span style=\"color: rgba(0,0,255,1)\">ten</span> o'clock, and was seen walking leisurely up St. James'<span style=\"color: rgba(0,0,255,1)\">s</span> Street a <span style=\"color: rgba(0,0,255,1)\">little</span> later. Subsequent to this <span style=\"color: rgba(0,0,255,1)\">his</span> movements"
      ],
      "text/plain": [
       "<IPython.core.display.HTML object>"
      ]
     },
     "metadata": {},
     "output_type": "display_data"
    },
    {
     "data": {
      "text/html": [
       "Another gentleman has fallen a victim to the terrible epidemic of suicide which for the <span style=\"color: rgba(255,0,0,0.6962668299674988)\">last</span> month <span style=\"color: rgba(255,0,0,0.8522579073905945)\">has</span> prevailed in the West End<span style=\"color: rgba(255,0,0,0.9984308481216431)\">.</span> Mr. Sidney Crashaw, of Stoke House, Fulham, and King's Pomeroy<span style=\"color: rgba(255,0,0,0.990860104560852)\">,</span> Devon, was <span style=\"color: rgba(255,0,0,0.8753869533538818)\">found</span>, after a prolonged search, hanging dead from the <span style=\"color: rgba(255,0,0,0.6176315546035767)\">trunk</span> of a tree in his garden at one o<span style=\"color: rgba(255,0,0,0.9998579025268555)\">'</span>clock today. The deceased gentleman dined last night at the Carlton Club and seemed in his usual health <span style=\"color: rgba(255,0,0,0.8009158968925476)\">and</span> spirits. He <span style=\"color: rgba(255,0,0,0.77571702003479)\">entered</span> the club at about <span style=\"color: rgba(255,0,0,0.6533142328262329)\">one</span> o'clock, and was seen walking leisurely up St. James'<span style=\"color: rgba(255,0,0,0.9966415166854858)\">s</span> Street a <span style=\"color: rgba(255,0,0,0.640706479549408)\">week</span> later. Subsequent to this <span style=\"color: rgba(255,0,0,0.6754801869392395)\">his</span> movements cannot"
      ],
      "text/plain": [
       "<IPython.core.display.HTML object>"
      ]
     },
     "metadata": {},
     "output_type": "display_data"
    },
    {
     "data": {
      "text/plain": [
       "None"
      ]
     },
     "metadata": {},
     "output_type": "display_data"
    },
    {
     "data": {
      "text/html": [
       "Another gentleman has fallen a victim to the terrible of suicide which for the last month has prevailed in the West End. Mr. Sidney Crashaw, of Stoke House, Fulham, and King's Pomeroy, Devon, was found, after a prolonged search, hanging dead from the branch of a tree in his garden at one o'clock today. The deceased gentleman dined last night at the Carlton Club and seemed in his usual health and spirits. He left the club at about ten o'clock, and was seen walking leisurely up St. James's Street a little later. Subsequent to this his <span style=\"color: rgba(255,0,0,1)\">feelings</span><span style=\"color: rgba(255,0,0,1)\">;</span> <span style=\"color: rgba(255,0,0,1)\">not</span> <span style=\"color: rgba(255,0,0,1)\">only</span> <span style=\"color: rgba(255,0,0,1)\">did</span> <span style=\"color: rgba(255,0,0,1)\">he</span> <span style=\"color: rgba(255,0,0,1)\">hesitate</span><span style=\"color: rgba(255,0,0,1)\">,</span> <span style=\"color: rgba(255,0,0,1)\">but</span> <span style=\"color: rgba(255,0,0,1)\">so</span>"
      ],
      "text/plain": [
       "<IPython.core.display.HTML object>"
      ]
     },
     "metadata": {},
     "output_type": "display_data"
    },
    {
     "name": "stdout",
     "output_type": "stream",
     "text": [
      "step 11010 loss 0.07570359858870507\n"
     ]
    },
    {
     "data": {
      "text/html": [
       "Another gentleman has fallen a victim to <span style=\"color: rgba(0,0,255,1)\">the</span> <span style=\"color: rgba(0,0,255,1)\">terrible</span> epidemic of suicide which for the <span style=\"color: rgba(0,0,255,1)\">last</span> month has prevailed in the West End. Mr<span style=\"color: rgba(0,0,255,1)\">.</span> Sidney Crashaw, <span style=\"color: rgba(0,0,255,1)\">of</span> Stoke <span style=\"color: rgba(0,0,255,1)\">House</span><span style=\"color: rgba(0,0,255,1)\">,</span> Fulham, and King's Pomeroy, Devon, was found, after a prolonged search, hanging dead from the branch <span style=\"color: rgba(0,0,255,1)\">of</span> a tree in his garden at one o'clock <span style=\"color: rgba(0,0,255,1)\">today</span>. <span style=\"color: rgba(0,0,255,1)\">The</span> deceased gentleman dined last night at the Carlton <span style=\"color: rgba(0,0,255,1)\">Club</span> <span style=\"color: rgba(0,0,255,1)\">and</span> seemed in his usual health and <span style=\"color: rgba(0,0,255,1)\">spirits</span>. He left the club at about ten o'clock, and was seen walking leisurely up St. James's Street a little later. Subsequent to <span style=\"color: rgba(0,0,255,1)\">this</span> his movements"
      ],
      "text/plain": [
       "<IPython.core.display.HTML object>"
      ]
     },
     "metadata": {},
     "output_type": "display_data"
    },
    {
     "data": {
      "text/html": [
       "Another gentleman has fallen a victim to <span style=\"color: rgba(255,0,0,0.8979980945587158)\">the</span> <span style=\"color: rgba(255,0,0,0.5400795340538025)\">great</span> epidemic of suicide which for the <span style=\"color: rgba(255,0,0,0.8776257038116455)\">last</span> month has prevailed in the West End. Mr<span style=\"color: rgba(255,0,0,0.9978374242782593)\">.</span> Sidney Crashaw, <span style=\"color: rgba(255,0,0,0.7571924924850464)\">of</span> Stoke<span style=\"color: rgba(255,0,0,0.5783497095108032)\">n</span><span style=\"color: rgba(255,0,0,0.9572279453277588)\">,</span> Fulham, and King's Pomeroy, Devon, was found, after a prolonged search, hanging dead from the branch <span style=\"color: rgba(255,0,0,0.9982692003250122)\">of</span> a tree in his garden at one o'clock<span style=\"color: rgba(255,0,0,0.525798499584198)\">,</span>. <span style=\"color: rgba(255,0,0,0.9875816106796265)\">The</span> deceased gentleman dined last night at the Carlton <span style=\"color: rgba(255,0,0,0.567633867263794)\">Club</span> <span style=\"color: rgba(255,0,0,0.9824515581130981)\">and</span> seemed in his usual health and <span style=\"color: rgba(255,0,0,0.5336984992027283)\">mood</span>. He left the club at about ten o'clock, and was seen walking leisurely up St. James's Street a little later. Subsequent to <span style=\"color: rgba(255,0,0,0.798053503036499)\">this</span> his movements cannot"
      ],
      "text/plain": [
       "<IPython.core.display.HTML object>"
      ]
     },
     "metadata": {},
     "output_type": "display_data"
    },
    {
     "data": {
      "text/plain": [
       "None"
      ]
     },
     "metadata": {},
     "output_type": "display_data"
    },
    {
     "data": {
      "text/html": [
       "Another gentleman has fallen a victim to the terrible of suicide which for the last month has prevailed in the West End. Mr. Sidney Crashaw, of Stoke House, Fulham, and King's Pomeroy, Devon, was found, after a prolonged search, hanging dead from the branch of a tree in his garden at one o'clock today. The deceased gentleman dined last night at the Carlton Club and seemed in his usual health and spirits. He left the club at about ten o'clock, and was seen walking leisurely up St. James's Street a little later. Subsequent to this his <span style=\"color: rgba(255,0,0,1)\">due</span> <span style=\"color: rgba(255,0,0,1)\">being</span> <span style=\"color: rgba(255,0,0,1)\">as</span> <span style=\"color: rgba(255,0,0,1)\">to</span> <span style=\"color: rgba(255,0,0,1)\">the</span> <span style=\"color: rgba(255,0,0,1)\">way</span> <span style=\"color: rgba(255,0,0,1)\">he</span> <span style=\"color: rgba(255,0,0,1)\">went</span><span style=\"color: rgba(255,0,0,1)\">,</span> <span style=\"color: rgba(255,0,0,1)\">as</span>"
      ],
      "text/plain": [
       "<IPython.core.display.HTML object>"
      ]
     },
     "metadata": {},
     "output_type": "display_data"
    },
    {
     "name": "stdout",
     "output_type": "stream",
     "text": [
      "step 12010 loss 0.07516645930707455\n"
     ]
    },
    {
     "data": {
      "text/html": [
       "Another gentleman has fallen a victim to the terrible epidemic of suicide which for the last month has prevailed in the West End<span style=\"color: rgba(0,0,255,1)\">.</span> Mr. Sidney Crashaw, of Stoke House, Fulham, and King'<span style=\"color: rgba(0,0,255,1)\">s</span> Pomeroy, Devon, was found, after a prolonged search, hanging dead from the branch of a tree in his garden at one o'clock today. The deceased gentleman dined last night <span style=\"color: rgba(0,0,255,1)\">at</span> <span style=\"color: rgba(0,0,255,1)\">the</span> Carlton Club and seemed in <span style=\"color: rgba(0,0,255,1)\">his</span> usual health and spirits<span style=\"color: rgba(0,0,255,1)\">.</span> He left the club at about ten o'clock, and was seen walking leisurely up <span style=\"color: rgba(0,0,255,1)\">St</span>. James's Street <span style=\"color: rgba(0,0,255,1)\">a</span> little later. Subsequent to this his movements"
      ],
      "text/plain": [
       "<IPython.core.display.HTML object>"
      ]
     },
     "metadata": {},
     "output_type": "display_data"
    },
    {
     "data": {
      "text/html": [
       "Another gentleman has fallen a victim to the terrible epidemic of suicide which for the last month has prevailed in the West End<span style=\"color: rgba(255,0,0,0.9787916541099548)\">.</span> Mr. Sidney Crashaw, of Stoke House, Fulham, and King'<span style=\"color: rgba(255,0,0,0.9962461590766907)\">s</span> Pomeroy, Devon, was found, after a prolonged search, hanging dead from the branch of a tree in his garden at one o'clock today. The deceased gentleman dined last night <span style=\"color: rgba(255,0,0,0.9817835092544556)\">at</span> <span style=\"color: rgba(255,0,0,0.9890336990356445)\">the</span> Carlton Club and seemed in <span style=\"color: rgba(255,0,0,0.9951825141906738)\">his</span> usual health and spirits<span style=\"color: rgba(255,0,0,0.999679684638977)\">.</span> He left the club at about ten o'clock, and was seen walking leisurely up <span style=\"color: rgba(255,0,0,0.9939882159233093)\">St</span>. James's Street <span style=\"color: rgba(255,0,0,0.9939844608306885)\">a</span> little later. Subsequent to this his movements cannot"
      ],
      "text/plain": [
       "<IPython.core.display.HTML object>"
      ]
     },
     "metadata": {},
     "output_type": "display_data"
    },
    {
     "data": {
      "text/plain": [
       "None"
      ]
     },
     "metadata": {},
     "output_type": "display_data"
    },
    {
     "data": {
      "text/html": [
       "Another gentleman has fallen a victim to the terrible of suicide which for the last month has prevailed in the West End. Mr. Sidney Crashaw, of Stoke House, Fulham, and King's Pomeroy, Devon, was found, after a prolonged search, hanging dead from the branch of a tree in his garden at one o'clock today. The deceased gentleman dined last night at the Carlton Club and seemed in his usual health and spirits. He left the club at about ten o'clock, and was seen walking leisurely up St. James's Street a little later. Subsequent to this his <span style=\"color: rgba(255,0,0,1)\">s</span><span style=\"color: rgba(255,0,0,1)\">co</span><span style=\"color: rgba(255,0,0,1)\">tt</span> <span style=\"color: rgba(255,0,0,1)\">l</span><span style=\"color: rgba(255,0,0,1)\">li</span><span style=\"color: rgba(255,0,0,1)\">go</span> <span style=\"color: rgba(255,0,0,1)\">searched</span> <span style=\"color: rgba(255,0,0,1)\">and</span> <span style=\"color: rgba(255,0,0,1)\">searched</span> <span style=\"color: rgba(255,0,0,1)\">in</span>"
      ],
      "text/plain": [
       "<IPython.core.display.HTML object>"
      ]
     },
     "metadata": {},
     "output_type": "display_data"
    },
    {
     "data": {
      "application/vnd.jupyter.widget-view+json": {
       "model_id": "6819631df24e49bab11aa2ca20dcaba3",
       "version_major": 2,
       "version_minor": 0
      },
      "text/plain": [
       "HBox(children=(IntProgress(value=0, description='Iteration', max=12857, style=ProgressStyle(description_width=…"
      ]
     },
     "metadata": {},
     "output_type": "display_data"
    },
    {
     "name": "stdout",
     "output_type": "stream",
     "text": [
      "step 10 loss 0.0645156791715911\n"
     ]
    },
    {
     "data": {
      "text/html": [
       "Another gentleman has fallen a victim to the terrible epidemic of suicide which <span style=\"color: rgba(0,0,255,1)\">for</span> the last month has prevailed <span style=\"color: rgba(0,0,255,1)\">in</span> the West End<span style=\"color: rgba(0,0,255,1)\">.</span> Mr. Sidney Crashaw, of Stoke House, Fulham, and King's Pomeroy, Devon, was found, after a prolonged search, hanging dead from <span style=\"color: rgba(0,0,255,1)\">the</span> branch of a tree in his garden at one o'clock today. The deceased <span style=\"color: rgba(0,0,255,1)\">gentleman</span> <span style=\"color: rgba(0,0,255,1)\">din</span>ed last night at the Carlton Club and seemed in <span style=\"color: rgba(0,0,255,1)\">his</span> usual <span style=\"color: rgba(0,0,255,1)\">health</span> and spirits. He left the club at about ten o'clock, and was seen walking leisurely up St. James<span style=\"color: rgba(0,0,255,1)\">'</span>s Street a little later. Subsequent to this his movements"
      ],
      "text/plain": [
       "<IPython.core.display.HTML object>"
      ]
     },
     "metadata": {},
     "output_type": "display_data"
    },
    {
     "data": {
      "text/html": [
       "Another gentleman has fallen a victim to the terrible epidemic of suicide which <span style=\"color: rgba(255,0,0,0.9500143527984619)\">for</span> the last month has prevailed <span style=\"color: rgba(255,0,0,0.906847357749939)\">in</span> the West End<span style=\"color: rgba(255,0,0,0.9917105436325073)\">.</span> Mr. Sidney Crashaw, of Stoke House, Fulham, and King's Pomeroy, Devon, was found, after a prolonged search, hanging dead from <span style=\"color: rgba(255,0,0,0.7967618703842163)\">a</span> branch of a tree in his garden at one o'clock today. The deceased <span style=\"color: rgba(255,0,0,0.6632787585258484)\">had</span> <span style=\"color: rgba(255,0,0,0.5966945290565491)\">din</span>ed last night at the Carlton Club and seemed in <span style=\"color: rgba(255,0,0,0.8969326019287109)\">his</span> usual <span style=\"color: rgba(255,0,0,0.644251823425293)\">health</span> and spirits. He left the club at about ten o'clock, and was seen walking leisurely up St. James<span style=\"color: rgba(255,0,0,0.9997110962867737)\">'</span>s Street a little later. Subsequent to this his movements cannot"
      ],
      "text/plain": [
       "<IPython.core.display.HTML object>"
      ]
     },
     "metadata": {},
     "output_type": "display_data"
    },
    {
     "data": {
      "text/plain": [
       "None"
      ]
     },
     "metadata": {},
     "output_type": "display_data"
    },
    {
     "data": {
      "text/html": [
       "Another gentleman has fallen a victim to the terrible of suicide which for the last month has prevailed in the West End. Mr. Sidney Crashaw, of Stoke House, Fulham, and King's Pomeroy, Devon, was found, after a prolonged search, hanging dead from the branch of a tree in his garden at one o'clock today. The deceased gentleman dined last night at the Carlton Club and seemed in his usual health and spirits. He left the club at about ten o'clock, and was seen walking leisurely up St. James's Street a little later. Subsequent to this his <span style=\"color: rgba(255,0,0,1)\">tends</span> <span style=\"color: rgba(255,0,0,1)\">went</span> <span style=\"color: rgba(255,0,0,1)\">to</span> <span style=\"color: rgba(255,0,0,1)\">live</span> <span style=\"color: rgba(255,0,0,1)\">with</span> <span style=\"color: rgba(255,0,0,1)\">him</span> <span style=\"color: rgba(255,0,0,1)\">into</span> <span style=\"color: rgba(255,0,0,1)\">the</span> <span style=\"color: rgba(255,0,0,1)\">High</span> <span style=\"color: rgba(255,0,0,1)\">Street</span>"
      ],
      "text/plain": [
       "<IPython.core.display.HTML object>"
      ]
     },
     "metadata": {},
     "output_type": "display_data"
    },
    {
     "name": "stdout",
     "output_type": "stream",
     "text": [
      "step 1010 loss 0.06615487623463075\n"
     ]
    },
    {
     "data": {
      "text/html": [
       "<span style=\"color: rgba(0,0,255,1)\">Another</span> gentleman has fallen a victim to the terrible epidemic of suicide which for the last month has prevailed in the West End. Mr. Sidney Crash<span style=\"color: rgba(0,0,255,1)\">aw</span>, of Stoke House, Fulham, and <span style=\"color: rgba(0,0,255,1)\">King</span>'<span style=\"color: rgba(0,0,255,1)\">s</span> Pomeroy, Devon, was found<span style=\"color: rgba(0,0,255,1)\">,</span> after a prolonged search, hanging dead from the branch of a tree in his garden at one o'clock today. The deceased gentleman dined last night at the Carlton <span style=\"color: rgba(0,0,255,1)\">Club</span> and seemed in his <span style=\"color: rgba(0,0,255,1)\">usual</span> health and spirits. He left the club at about ten o'clock, and was seen walking leisure<span style=\"color: rgba(0,0,255,1)\">ly</span> up <span style=\"color: rgba(0,0,255,1)\">St</span>. James's Street a little later<span style=\"color: rgba(0,0,255,1)\">.</span> <span style=\"color: rgba(0,0,255,1)\">Subsequent</span> to this <span style=\"color: rgba(0,0,255,1)\">his</span> movements"
      ],
      "text/plain": [
       "<IPython.core.display.HTML object>"
      ]
     },
     "metadata": {},
     "output_type": "display_data"
    },
    {
     "data": {
      "text/html": [
       "<span style=\"color: rgba(255,0,0,0.6881787776947021)\">this</span> gentleman has fallen a victim to the terrible epidemic of suicide which for the last month has prevailed in the West End. Mr. Sidney Crash<span style=\"color: rgba(255,0,0,0.8256619572639465)\">aw</span>, of Stoke House, Fulham, and <span style=\"color: rgba(255,0,0,0.5445972084999084)\">O</span>'<span style=\"color: rgba(255,0,0,0.9518976211547852)\">s</span> Pomeroy, Devon, was found<span style=\"color: rgba(255,0,0,0.9831556081771851)\">,</span> after a prolonged search, hanging dead from the branch of a tree in his garden at one o'clock today. The deceased gentleman dined last night at the Carlton <span style=\"color: rgba(255,0,0,0.6658961772918701)\">Club</span> and seemed in his <span style=\"color: rgba(255,0,0,0.5648745894432068)\">best</span> health and spirits. He left the club at about ten o'clock, and was seen walking leisure<span style=\"color: rgba(255,0,0,0.999434769153595)\">ly</span> up <span style=\"color: rgba(255,0,0,0.9905550479888916)\">St</span>. James's Street a little later<span style=\"color: rgba(255,0,0,0.9990605711936951)\">.</span> <span style=\"color: rgba(255,0,0,0.5876230597496033)\">Subsequent</span> to this <span style=\"color: rgba(255,0,0,0.935612678527832)\">his</span> movements cannot"
      ],
      "text/plain": [
       "<IPython.core.display.HTML object>"
      ]
     },
     "metadata": {},
     "output_type": "display_data"
    },
    {
     "data": {
      "text/plain": [
       "None"
      ]
     },
     "metadata": {},
     "output_type": "display_data"
    },
    {
     "data": {
      "text/html": [
       "Another gentleman has fallen a victim to the terrible of suicide which for the last month has prevailed in the West End. Mr. Sidney Crashaw, of Stoke House, Fulham, and King's Pomeroy, Devon, was found, after a prolonged search, hanging dead from the branch of a tree in his garden at one o'clock today. The deceased gentleman dined last night at the Carlton Club and seemed in his usual health and spirits. He left the club at about ten o'clock, and was seen walking leisurely up St. James's Street a little later. Subsequent to this his <span style=\"color: rgba(255,0,0,1)\">presence</span><span style=\"color: rgba(255,0,0,1)\">,</span> <span style=\"color: rgba(255,0,0,1)\">if</span> <span style=\"color: rgba(255,0,0,1)\">any</span><span style=\"color: rgba(255,0,0,1)\">,</span> <span style=\"color: rgba(255,0,0,1)\">at</span> <span style=\"color: rgba(255,0,0,1)\">Brown</span> <span style=\"color: rgba(255,0,0,1)\">Street</span> <span style=\"color: rgba(255,0,0,1)\">morning</span> <span style=\"color: rgba(255,0,0,1)\">brought</span>"
      ],
      "text/plain": [
       "<IPython.core.display.HTML object>"
      ]
     },
     "metadata": {},
     "output_type": "display_data"
    },
    {
     "name": "stdout",
     "output_type": "stream",
     "text": [
      "step 2010 loss 0.06589692104856174\n"
     ]
    },
    {
     "data": {
      "text/html": [
       "Another gentleman has fallen <span style=\"color: rgba(0,0,255,1)\">a</span> victim to the terrible epidemic of suicide which for the last month <span style=\"color: rgba(0,0,255,1)\">has</span> prevailed in the <span style=\"color: rgba(0,0,255,1)\">West</span> End. Mr. <span style=\"color: rgba(0,0,255,1)\">Sidney</span> Crashaw, of Stoke House, Fulham<span style=\"color: rgba(0,0,255,1)\">,</span> and King's Pomeroy<span style=\"color: rgba(0,0,255,1)\">,</span> Devon, was found, <span style=\"color: rgba(0,0,255,1)\">after</span> a prolonged search, hanging dead <span style=\"color: rgba(0,0,255,1)\">from</span> the <span style=\"color: rgba(0,0,255,1)\">branch</span> of a tree in his <span style=\"color: rgba(0,0,255,1)\">garden</span> at one o'clock today. The deceased gentleman din<span style=\"color: rgba(0,0,255,1)\">ed</span> last night <span style=\"color: rgba(0,0,255,1)\">at</span> the Carlton Club and seemed <span style=\"color: rgba(0,0,255,1)\">in</span> his usual health and spirits. He left the club at about ten o'clock, and <span style=\"color: rgba(0,0,255,1)\">was</span> seen walking <span style=\"color: rgba(0,0,255,1)\">leisure</span>ly up <span style=\"color: rgba(0,0,255,1)\">St</span>. James's Street a little later. <span style=\"color: rgba(0,0,255,1)\">Subsequent</span> to this <span style=\"color: rgba(0,0,255,1)\">his</span> movements"
      ],
      "text/plain": [
       "<IPython.core.display.HTML object>"
      ]
     },
     "metadata": {},
     "output_type": "display_data"
    },
    {
     "data": {
      "text/html": [
       "Another gentleman has fallen <span style=\"color: rgba(255,0,0,0.8168288469314575)\">the</span> victim to the terrible epidemic of suicide which for the last month <span style=\"color: rgba(255,0,0,0.8807936906814575)\">has</span> prevailed in the <span style=\"color: rgba(255,0,0,0.6920158267021179)\">West</span> End. Mr. <span style=\"color: rgba(255,0,0,0.5413256883621216)\">Edward</span> Crashaw, of Stoke House, Fulham<span style=\"color: rgba(255,0,0,0.9853413105010986)\">,</span> and King's Pomeroy<span style=\"color: rgba(255,0,0,0.9987474679946899)\">,</span> Devon, was found, <span style=\"color: rgba(255,0,0,0.9508030414581299)\">after</span> a prolonged search, hanging dead <span style=\"color: rgba(255,0,0,0.6172569990158081)\">on</span> the <span style=\"color: rgba(255,0,0,0.7571895122528076)\">trunk</span> of a tree in his <span style=\"color: rgba(255,0,0,0.6496064066886902)\">room</span> at one o'clock today. The deceased gentleman din<span style=\"color: rgba(255,0,0,0.9963001012802124)\">ed</span> last night <span style=\"color: rgba(255,0,0,0.9773855209350586)\">at</span> the Carlton Club and seemed <span style=\"color: rgba(255,0,0,0.9994823932647705)\">in</span> his usual health and spirits. He left the club at about ten o'clock, and <span style=\"color: rgba(255,0,0,0.9767985343933105)\">was</span> seen walking <span style=\"color: rgba(255,0,0,0.9885725975036621)\">leisure</span>ly up <span style=\"color: rgba(255,0,0,0.9892529249191284)\">St</span>. James's Street a little later. <span style=\"color: rgba(255,0,0,0.6184366941452026)\">As</span> to this<span style=\"color: rgba(255,0,0,0.5707424283027649)\">,</span> movements cannot"
      ],
      "text/plain": [
       "<IPython.core.display.HTML object>"
      ]
     },
     "metadata": {},
     "output_type": "display_data"
    },
    {
     "data": {
      "text/plain": [
       "None"
      ]
     },
     "metadata": {},
     "output_type": "display_data"
    },
    {
     "data": {
      "text/html": [
       "Another gentleman has fallen a victim to the terrible of suicide which for the last month has prevailed in the West End. Mr. Sidney Crashaw, of Stoke House, Fulham, and King's Pomeroy, Devon, was found, after a prolonged search, hanging dead from the branch of a tree in his garden at one o'clock today. The deceased gentleman dined last night at the Carlton Club and seemed in his usual health and spirits. He left the club at about ten o'clock, and was seen walking leisurely up St. James's Street a little later. Subsequent to this his <span style=\"color: rgba(255,0,0,1)\">lethal</span> <span style=\"color: rgba(255,0,0,1)\">resistance</span> <span style=\"color: rgba(255,0,0,1)\">to</span> <span style=\"color: rgba(255,0,0,1)\">gas</span><span style=\"color: rgba(255,0,0,1)\">su</span><span style=\"color: rgba(255,0,0,1)\">als</span> <span style=\"color: rgba(255,0,0,1)\">in</span> <span style=\"color: rgba(255,0,0,1)\">the</span> <span style=\"color: rgba(255,0,0,1)\">street</span><span style=\"color: rgba(255,0,0,1)\">,</span>"
      ],
      "text/plain": [
       "<IPython.core.display.HTML object>"
      ]
     },
     "metadata": {},
     "output_type": "display_data"
    },
    {
     "name": "stdout",
     "output_type": "stream",
     "text": [
      "step 3010 loss 0.06538623795409998\n"
     ]
    },
    {
     "data": {
      "text/html": [
       "Another gentleman has fallen a victim to the terrible epidemic of suicide which for the last <span style=\"color: rgba(0,0,255,1)\">month</span> <span style=\"color: rgba(0,0,255,1)\">has</span> prevailed in the West <span style=\"color: rgba(0,0,255,1)\">End</span>. Mr. Sidney Crashaw, of Stoke <span style=\"color: rgba(0,0,255,1)\">House</span>, Fulham, <span style=\"color: rgba(0,0,255,1)\">and</span> King's <span style=\"color: rgba(0,0,255,1)\">Po</span>meroy, Devon, was found, after a prolonged search, hanging dead from the branch of <span style=\"color: rgba(0,0,255,1)\">a</span> tree in his garden at one o<span style=\"color: rgba(0,0,255,1)\">'</span>clock today. The deceased gentleman dined <span style=\"color: rgba(0,0,255,1)\">last</span> night at <span style=\"color: rgba(0,0,255,1)\">the</span> Carlton Club and seemed in his usual health and spirits. He left the club at about <span style=\"color: rgba(0,0,255,1)\">ten</span> o'clock, and was <span style=\"color: rgba(0,0,255,1)\">seen</span> walking leisurely up St. James's Street a little later. Subsequent <span style=\"color: rgba(0,0,255,1)\">to</span> this his movements"
      ],
      "text/plain": [
       "<IPython.core.display.HTML object>"
      ]
     },
     "metadata": {},
     "output_type": "display_data"
    },
    {
     "data": {
      "text/html": [
       "Another gentleman has fallen a victim to the terrible epidemic of suicide which for the last <span style=\"color: rgba(255,0,0,0.7114740014076233)\">century</span> <span style=\"color: rgba(255,0,0,0.9948897957801819)\">has</span> prevailed in the West <span style=\"color: rgba(255,0,0,0.5462692975997925)\">End</span>. Mr. Sidney Crashaw, of Stoke <span style=\"color: rgba(255,0,0,0.5474441051483154)\">Street</span>, Fulham, <span style=\"color: rgba(255,0,0,0.6636713147163391)\">and</span> King's <span style=\"color: rgba(255,0,0,0.6061548590660095)\">Po</span>meroy, Devon, was found, after a prolonged search, hanging dead from the branch of <span style=\"color: rgba(255,0,0,0.9949681758880615)\">a</span> tree in his garden at one o<span style=\"color: rgba(255,0,0,0.9998407363891602)\">'</span>clock today. The deceased gentleman dined <span style=\"color: rgba(255,0,0,0.6332459449768066)\">all</span> night at <span style=\"color: rgba(255,0,0,0.9969432950019836)\">the</span> Carlton Club and seemed in his usual health and spirits. He left the club at about <span style=\"color: rgba(255,0,0,0.7177940011024475)\">two</span> o'clock, and was <span style=\"color: rgba(255,0,0,0.6356208920478821)\">found</span> walking leisurely up St. James's Street a little later. Subsequent <span style=\"color: rgba(255,0,0,0.9992861747741699)\">to</span> this his movements cannot"
      ],
      "text/plain": [
       "<IPython.core.display.HTML object>"
      ]
     },
     "metadata": {},
     "output_type": "display_data"
    },
    {
     "data": {
      "text/plain": [
       "None"
      ]
     },
     "metadata": {},
     "output_type": "display_data"
    },
    {
     "data": {
      "text/html": [
       "Another gentleman has fallen a victim to the terrible of suicide which for the last month has prevailed in the West End. Mr. Sidney Crashaw, of Stoke House, Fulham, and King's Pomeroy, Devon, was found, after a prolonged search, hanging dead from the branch of a tree in his garden at one o'clock today. The deceased gentleman dined last night at the Carlton Club and seemed in his usual health and spirits. He left the club at about ten o'clock, and was seen walking leisurely up St. James's Street a little later. Subsequent to this his <span style=\"color: rgba(255,0,0,1)\">death</span> <span style=\"color: rgba(255,0,0,1)\">had</span> <span style=\"color: rgba(255,0,0,1)\">been</span> <span style=\"color: rgba(255,0,0,1)\">such</span> <span style=\"color: rgba(255,0,0,1)\">a</span> <span style=\"color: rgba(255,0,0,1)\">startling</span> <span style=\"color: rgba(255,0,0,1)\">saga</span><span style=\"color: rgba(255,0,0,1)\">city</span> <span style=\"color: rgba(255,0,0,1)\">as</span> <span style=\"color: rgba(255,0,0,1)\">to</span>"
      ],
      "text/plain": [
       "<IPython.core.display.HTML object>"
      ]
     },
     "metadata": {},
     "output_type": "display_data"
    },
    {
     "name": "stdout",
     "output_type": "stream",
     "text": [
      "step 4010 loss 0.06534944790353378\n"
     ]
    },
    {
     "data": {
      "text/html": [
       "Another <span style=\"color: rgba(0,0,255,1)\">gentleman</span> has fallen a victim to the terrible epidemic of <span style=\"color: rgba(0,0,255,1)\">suicide</span> which for the last month has prevailed in the West End. Mr. <span style=\"color: rgba(0,0,255,1)\">Sidney</span> <span style=\"color: rgba(0,0,255,1)\">Crash</span>aw, of Stoke House, Fulham, and King<span style=\"color: rgba(0,0,255,1)\">'</span>s Pomeroy, Devon, was found, after a prolonged search<span style=\"color: rgba(0,0,255,1)\">,</span> hanging dead from the branch <span style=\"color: rgba(0,0,255,1)\">of</span> a tree in his garden at one o'clock today. The deceased gentleman din<span style=\"color: rgba(0,0,255,1)\">ed</span> last night at the Carlton Club and seemed in his usual health and spirits. <span style=\"color: rgba(0,0,255,1)\">He</span> left the club at about ten o'clock, and was seen walking leisurely up St. James's Street a little later. Subsequent <span style=\"color: rgba(0,0,255,1)\">to</span> this his movements"
      ],
      "text/plain": [
       "<IPython.core.display.HTML object>"
      ]
     },
     "metadata": {},
     "output_type": "display_data"
    },
    {
     "data": {
      "text/html": [
       "Another <span style=\"color: rgba(255,0,0,0.7260907292366028)\">gentleman</span> has fallen a victim to the terrible epidemic of <span style=\"color: rgba(255,0,0,0.5464852452278137)\">disease</span> which for the last month has prevailed in the West End. Mr. <span style=\"color: rgba(255,0,0,0.7153520584106445)\">Sidney</span> <span style=\"color: rgba(255,0,0,0.9540835618972778)\">Crash</span>aw, of Stoke House, Fulham, and King<span style=\"color: rgba(255,0,0,0.9996386766433716)\">'</span>s Pomeroy, Devon, was found, after a prolonged search<span style=\"color: rgba(255,0,0,0.9985839128494263)\">,</span> hanging dead from the branch <span style=\"color: rgba(255,0,0,0.9994452595710754)\">of</span> a tree in his garden at one o'clock today. The deceased gentleman din<span style=\"color: rgba(255,0,0,0.9585073590278625)\">ed</span> last night at the Carlton Club and seemed in his usual health and spirits. <span style=\"color: rgba(255,0,0,0.9944614171981812)\">He</span> left the club at about ten o'clock, and was seen walking leisurely up St. James's Street a little later. Subsequent <span style=\"color: rgba(255,0,0,0.9975379705429077)\">to</span> this his movements cannot"
      ],
      "text/plain": [
       "<IPython.core.display.HTML object>"
      ]
     },
     "metadata": {},
     "output_type": "display_data"
    },
    {
     "data": {
      "text/plain": [
       "None"
      ]
     },
     "metadata": {},
     "output_type": "display_data"
    },
    {
     "data": {
      "text/html": [
       "Another gentleman has fallen a victim to the terrible of suicide which for the last month has prevailed in the West End. Mr. Sidney Crashaw, of Stoke House, Fulham, and King's Pomeroy, Devon, was found, after a prolonged search, hanging dead from the branch of a tree in his garden at one o'clock today. The deceased gentleman dined last night at the Carlton Club and seemed in his usual health and spirits. He left the club at about ten o'clock, and was seen walking leisurely up St. James's Street a little later. Subsequent to this his <span style=\"color: rgba(255,0,0,1)\">ghost</span> <span style=\"color: rgba(255,0,0,1)\">passed</span> <span style=\"color: rgba(255,0,0,1)\">into</span> <span style=\"color: rgba(255,0,0,1)\">a</span> <span style=\"color: rgba(255,0,0,1)\">street</span> <span style=\"color: rgba(255,0,0,1)\">from</span> <span style=\"color: rgba(255,0,0,1)\">the</span> <span style=\"color: rgba(255,0,0,1)\">north</span><span style=\"color: rgba(255,0,0,1)\">-</span><span style=\"color: rgba(255,0,0,1)\">east</span>"
      ],
      "text/plain": [
       "<IPython.core.display.HTML object>"
      ]
     },
     "metadata": {},
     "output_type": "display_data"
    },
    {
     "name": "stdout",
     "output_type": "stream",
     "text": [
      "step 5010 loss 0.06542763082683087\n"
     ]
    },
    {
     "data": {
      "text/html": [
       "Another gentleman <span style=\"color: rgba(0,0,255,1)\">has</span> <span style=\"color: rgba(0,0,255,1)\">fallen</span> a victim to the terrible epidemic <span style=\"color: rgba(0,0,255,1)\">of</span> suicide which for the last month has <span style=\"color: rgba(0,0,255,1)\">prevailed</span> in the <span style=\"color: rgba(0,0,255,1)\">West</span> End. Mr. Sidney Crash<span style=\"color: rgba(0,0,255,1)\">aw</span>, of Stoke House, Fulham, and King's Pomeroy, Devon, was found, after <span style=\"color: rgba(0,0,255,1)\">a</span> prolonged search, hanging dead from the branch of a tree in his garden at one o'clock today<span style=\"color: rgba(0,0,255,1)\">.</span> The deceased gentleman din<span style=\"color: rgba(0,0,255,1)\">ed</span> last night at the Carlton Club and <span style=\"color: rgba(0,0,255,1)\">seemed</span> in his usual health and spirits. He left the club at <span style=\"color: rgba(0,0,255,1)\">about</span> ten o'clock, and was <span style=\"color: rgba(0,0,255,1)\">seen</span> walking <span style=\"color: rgba(0,0,255,1)\">leisure</span>ly up St. James's Street a little later. Subsequent <span style=\"color: rgba(0,0,255,1)\">to</span> this his movements"
      ],
      "text/plain": [
       "<IPython.core.display.HTML object>"
      ]
     },
     "metadata": {},
     "output_type": "display_data"
    },
    {
     "data": {
      "text/html": [
       "Another gentleman <span style=\"color: rgba(255,0,0,0.7533057928085327)\">has</span> <span style=\"color: rgba(255,0,0,0.8442583084106445)\">been</span> a victim to the terrible epidemic <span style=\"color: rgba(255,0,0,0.9987208843231201)\">of</span> suicide which for the last month has <span style=\"color: rgba(255,0,0,0.6467263102531433)\">been</span> in the <span style=\"color: rgba(255,0,0,0.6828354597091675)\">West</span> End. Mr. Sidney Crash<span style=\"color: rgba(255,0,0,0.9747128486633301)\">aw</span>, of Stoke House, Fulham, and King's Pomeroy, Devon, was found, after <span style=\"color: rgba(255,0,0,0.9975057244300842)\">a</span> prolonged search, hanging dead from the branch of a tree in his garden at one o'clock today<span style=\"color: rgba(255,0,0,0.9997301697731018)\">.</span> The deceased gentleman din<span style=\"color: rgba(255,0,0,0.9873064756393433)\">ed</span> last night at the Carlton Club and <span style=\"color: rgba(255,0,0,0.7355727553367615)\">was</span> in his usual health and spirits. He left the club at <span style=\"color: rgba(255,0,0,0.9874849319458008)\">about</span> ten o'clock, and was <span style=\"color: rgba(255,0,0,0.6017591953277588)\">seen</span> walking <span style=\"color: rgba(255,0,0,0.6347737908363342)\">leisure</span>ly up St. James's Street a little later. Subsequent <span style=\"color: rgba(255,0,0,0.998649537563324)\">to</span> this his movements cannot"
      ],
      "text/plain": [
       "<IPython.core.display.HTML object>"
      ]
     },
     "metadata": {},
     "output_type": "display_data"
    },
    {
     "data": {
      "text/plain": [
       "None"
      ]
     },
     "metadata": {},
     "output_type": "display_data"
    },
    {
     "data": {
      "text/html": [
       "Another gentleman has fallen a victim to the terrible of suicide which for the last month has prevailed in the West End. Mr. Sidney Crashaw, of Stoke House, Fulham, and King's Pomeroy, Devon, was found, after a prolonged search, hanging dead from the branch of a tree in his garden at one o'clock today. The deceased gentleman dined last night at the Carlton Club and seemed in his usual health and spirits. He left the club at about ten o'clock, and was seen walking leisurely up St. James's Street a little later. Subsequent to this his <span style=\"color: rgba(255,0,0,1)\">appearance</span> <span style=\"color: rgba(255,0,0,1)\">was</span> <span style=\"color: rgba(255,0,0,1)\">interrupted</span> <span style=\"color: rgba(255,0,0,1)\">by</span> <span style=\"color: rgba(255,0,0,1)\">a</span> <span style=\"color: rgba(255,0,0,1)\">sudden</span> <span style=\"color: rgba(255,0,0,1)\">lad</span><span style=\"color: rgba(255,0,0,1)\">le</span><span style=\"color: rgba(255,0,0,1)\">,</span> <span style=\"color: rgba(255,0,0,1)\">and</span>"
      ],
      "text/plain": [
       "<IPython.core.display.HTML object>"
      ]
     },
     "metadata": {},
     "output_type": "display_data"
    },
    {
     "name": "stdout",
     "output_type": "stream",
     "text": [
      "step 6010 loss 0.06576360930502415\n"
     ]
    },
    {
     "data": {
      "text/html": [
       "Another gentleman has fallen a victim to the terrible epidemic of suicide which for the last month has prevailed in the West End. Mr. Sidney Crashaw, of Stoke House, <span style=\"color: rgba(0,0,255,1)\">Fulham</span>, and King's Pomeroy, Devon, was found, after a prolonged search, hanging dead from the branch of a tree in his garden at one o'clock today. The deceased gentleman dined last night at the Carlton Club and seemed in his usual <span style=\"color: rgba(0,0,255,1)\">health</span> <span style=\"color: rgba(0,0,255,1)\">and</span> spirits. He left the club at about ten o'clock, and was seen walking leisurely up St. James's Street a little later. Subsequent to this his movements"
      ],
      "text/plain": [
       "<IPython.core.display.HTML object>"
      ]
     },
     "metadata": {},
     "output_type": "display_data"
    },
    {
     "data": {
      "text/html": [
       "Another gentleman has fallen a victim to the terrible epidemic of suicide which for the last month has prevailed in the West End. Mr. Sidney Crashaw, of Stoke House, <span style=\"color: rgba(255,0,0,0.5973113775253296)\">London</span>, and King's Pomeroy, Devon, was found, after a prolonged search, hanging dead from the branch of a tree in his garden at one o'clock today. The deceased gentleman dined last night at the Carlton Club and seemed in his usual <span style=\"color: rgba(255,0,0,0.9645226001739502)\">health</span><span style=\"color: rgba(255,0,0,0.8385376930236816)\">ful</span> spirits. He left the club at about ten o'clock, and was seen walking leisurely up St. James's Street a little later. Subsequent to this his movements cannot"
      ],
      "text/plain": [
       "<IPython.core.display.HTML object>"
      ]
     },
     "metadata": {},
     "output_type": "display_data"
    },
    {
     "data": {
      "text/plain": [
       "None"
      ]
     },
     "metadata": {},
     "output_type": "display_data"
    },
    {
     "data": {
      "text/html": [
       "Another gentleman has fallen a victim to the terrible of suicide which for the last month has prevailed in the West End. Mr. Sidney Crashaw, of Stoke House, Fulham, and King's Pomeroy, Devon, was found, after a prolonged search, hanging dead from the branch of a tree in his garden at one o'clock today. The deceased gentleman dined last night at the Carlton Club and seemed in his usual health and spirits. He left the club at about ten o'clock, and was seen walking leisurely up St. James's Street a little later. Subsequent to this his <span style=\"color: rgba(255,0,0,1)\">lover</span><span style=\"color: rgba(255,0,0,1)\">,</span> <span style=\"color: rgba(255,0,0,1)\">The</span> <span style=\"color: rgba(255,0,0,1)\">Exeter</span> <span style=\"color: rgba(255,0,0,1)\">Ellis</span><span style=\"color: rgba(255,0,0,1)\">,</span> <span style=\"color: rgba(255,0,0,1)\">did</span> <span style=\"color: rgba(255,0,0,1)\">next</span> <span style=\"color: rgba(255,0,0,1)\">most</span> <span style=\"color: rgba(255,0,0,1)\">thoroughly</span>"
      ],
      "text/plain": [
       "<IPython.core.display.HTML object>"
      ]
     },
     "metadata": {},
     "output_type": "display_data"
    },
    {
     "name": "stdout",
     "output_type": "stream",
     "text": [
      "step 7010 loss 0.06535433078805605\n"
     ]
    },
    {
     "data": {
      "text/html": [
       "Another gentleman has fallen a victim to the terrible epidemic of suicide which for the last <span style=\"color: rgba(0,0,255,1)\">month</span> <span style=\"color: rgba(0,0,255,1)\">has</span> prevailed in <span style=\"color: rgba(0,0,255,1)\">the</span> West End. Mr<span style=\"color: rgba(0,0,255,1)\">.</span> Sidney Crashaw, of Stoke House, Fulham, and King<span style=\"color: rgba(0,0,255,1)\">'</span>s Pomer<span style=\"color: rgba(0,0,255,1)\">oy</span>, <span style=\"color: rgba(0,0,255,1)\">Devon</span>, was found, <span style=\"color: rgba(0,0,255,1)\">after</span> a prolonged search, hanging dead from the branch of a tree in his garden at one o'clock today. <span style=\"color: rgba(0,0,255,1)\">The</span> <span style=\"color: rgba(0,0,255,1)\">deceased</span> gentleman din<span style=\"color: rgba(0,0,255,1)\">ed</span> last night at the Carlton Club and seemed <span style=\"color: rgba(0,0,255,1)\">in</span> his usual <span style=\"color: rgba(0,0,255,1)\">health</span> <span style=\"color: rgba(0,0,255,1)\">and</span> spirits. <span style=\"color: rgba(0,0,255,1)\">He</span> left the club <span style=\"color: rgba(0,0,255,1)\">at</span> about ten o<span style=\"color: rgba(0,0,255,1)\">'</span>clock, and was seen walking leisurely <span style=\"color: rgba(0,0,255,1)\">up</span> St<span style=\"color: rgba(0,0,255,1)\">.</span> James's <span style=\"color: rgba(0,0,255,1)\">Street</span> a little later. Subsequent to this his movements"
      ],
      "text/plain": [
       "<IPython.core.display.HTML object>"
      ]
     },
     "metadata": {},
     "output_type": "display_data"
    },
    {
     "data": {
      "text/html": [
       "Another gentleman has fallen a victim to the terrible epidemic of suicide which for the last <span style=\"color: rgba(255,0,0,0.7128596305847168)\">time</span> <span style=\"color: rgba(255,0,0,0.9285014271736145)\">has</span> prevailed in <span style=\"color: rgba(255,0,0,0.9984279870986938)\">the</span> West End. Mr<span style=\"color: rgba(255,0,0,0.9937291741371155)\">.</span> Sidney Crashaw, of Stoke House, Fulham, and King<span style=\"color: rgba(255,0,0,0.9994100332260132)\">'</span>s Pomer<span style=\"color: rgba(255,0,0,0.553778350353241)\">our</span>, <span style=\"color: rgba(255,0,0,0.7730920314788818)\">Devon</span>, was found, <span style=\"color: rgba(255,0,0,0.8824117183685303)\">after</span> a prolonged search, hanging dead from the branch of a tree in his garden at one o'clock today. <span style=\"color: rgba(255,0,0,0.7240477800369263)\">The</span> <span style=\"color: rgba(255,0,0,0.5827725529670715)\">old</span> gentleman din<span style=\"color: rgba(255,0,0,0.9959679841995239)\">ed</span> last night at the Carlton Club and seemed <span style=\"color: rgba(255,0,0,0.9910937547683716)\">in</span> his usual <span style=\"color: rgba(255,0,0,0.5508782863616943)\">self</span> <span style=\"color: rgba(255,0,0,0.5622232556343079)\">high</span> spirits. <span style=\"color: rgba(255,0,0,0.9972400665283203)\">He</span> left the club <span style=\"color: rgba(255,0,0,0.926641583442688)\">at</span> about ten o<span style=\"color: rgba(255,0,0,0.9971271753311157)\">'</span>clock, and was seen walking leisurely <span style=\"color: rgba(255,0,0,0.6063995361328125)\">to</span> St<span style=\"color: rgba(255,0,0,0.9459935426712036)\">.</span> James's <span style=\"color: rgba(255,0,0,0.6429980993270874)\">Street</span> a little later. Subsequent to this his movements cannot"
      ],
      "text/plain": [
       "<IPython.core.display.HTML object>"
      ]
     },
     "metadata": {},
     "output_type": "display_data"
    },
    {
     "data": {
      "text/plain": [
       "None"
      ]
     },
     "metadata": {},
     "output_type": "display_data"
    },
    {
     "data": {
      "text/html": [
       "Another gentleman has fallen a victim to the terrible of suicide which for the last month has prevailed in the West End. Mr. Sidney Crashaw, of Stoke House, Fulham, and King's Pomeroy, Devon, was found, after a prolonged search, hanging dead from the branch of a tree in his garden at one o'clock today. The deceased gentleman dined last night at the Carlton Club and seemed in his usual health and spirits. He left the club at about ten o'clock, and was seen walking leisurely up St. James's Street a little later. Subsequent to this his <span style=\"color: rgba(255,0,0,1)\">eyes</span> <span style=\"color: rgba(255,0,0,1)\">were</span> <span style=\"color: rgba(255,0,0,1)\">diverted</span> <span style=\"color: rgba(255,0,0,1)\">to</span> <span style=\"color: rgba(255,0,0,1)\">the</span> <span style=\"color: rgba(255,0,0,1)\">old</span> <span style=\"color: rgba(255,0,0,1)\">house</span> <span style=\"color: rgba(255,0,0,1)\">of</span> <span style=\"color: rgba(255,0,0,1)\">Up</span><span style=\"color: rgba(255,0,0,1)\">lifting</span>"
      ],
      "text/plain": [
       "<IPython.core.display.HTML object>"
      ]
     },
     "metadata": {},
     "output_type": "display_data"
    },
    {
     "name": "stdout",
     "output_type": "stream",
     "text": [
      "step 8010 loss 0.0652853678415219\n"
     ]
    },
    {
     "data": {
      "text/html": [
       "Another <span style=\"color: rgba(0,0,255,1)\">gentleman</span> has fallen a victim <span style=\"color: rgba(0,0,255,1)\">to</span> the terrible epidemic of suicide which for the <span style=\"color: rgba(0,0,255,1)\">last</span> month <span style=\"color: rgba(0,0,255,1)\">has</span> prevailed in the West <span style=\"color: rgba(0,0,255,1)\">End</span>. Mr. Sidney Crashaw, of Stoke House, <span style=\"color: rgba(0,0,255,1)\">Fulham</span><span style=\"color: rgba(0,0,255,1)\">,</span> and King's <span style=\"color: rgba(0,0,255,1)\">Po</span>meroy, Devon<span style=\"color: rgba(0,0,255,1)\">,</span> was found, after a prolonged search<span style=\"color: rgba(0,0,255,1)\">,</span> hanging dead from the branch of a tree in his garden at one o'clock today. The <span style=\"color: rgba(0,0,255,1)\">deceased</span> gentleman dined last night <span style=\"color: rgba(0,0,255,1)\">at</span> the Carlton Club and seemed in his usual health and spirits. He left the club at about ten o'clock, and was seen <span style=\"color: rgba(0,0,255,1)\">walking</span> leisurely <span style=\"color: rgba(0,0,255,1)\">up</span> <span style=\"color: rgba(0,0,255,1)\">St</span><span style=\"color: rgba(0,0,255,1)\">.</span> James's Street a little later. Subsequent to this his movements"
      ],
      "text/plain": [
       "<IPython.core.display.HTML object>"
      ]
     },
     "metadata": {},
     "output_type": "display_data"
    },
    {
     "data": {
      "text/html": [
       "Another <span style=\"color: rgba(255,0,0,0.5945499539375305)\">gentleman</span> has fallen a victim <span style=\"color: rgba(255,0,0,0.844369649887085)\">of</span> the terrible epidemic of suicide which for the <span style=\"color: rgba(255,0,0,0.9925712943077087)\">last</span> month <span style=\"color: rgba(255,0,0,0.9005917310714722)\">has</span> prevailed in the West <span style=\"color: rgba(255,0,0,0.5906243920326233)\">End</span>. Mr. Sidney Crashaw, of Stoke House, <span style=\"color: rgba(255,0,0,0.5836933851242065)\">London</span><span style=\"color: rgba(255,0,0,0.8131248354911804)\">,</span> and King's <span style=\"color: rgba(255,0,0,0.9364597797393799)\">Po</span>meroy, Devon<span style=\"color: rgba(255,0,0,0.982595682144165)\">,</span> was found, after a prolonged search<span style=\"color: rgba(255,0,0,0.9950625896453857)\">,</span> hanging dead from the branch of a tree in his garden at one o'clock today. The <span style=\"color: rgba(255,0,0,0.7457402944564819)\">old</span> gentleman dined last night <span style=\"color: rgba(255,0,0,0.9942388534545898)\">at</span> the Carlton Club and seemed in his usual health and spirits. He left the club at about ten o'clock, and was seen <span style=\"color: rgba(255,0,0,0.693286120891571)\">walking</span> leisurely <span style=\"color: rgba(255,0,0,0.5762454271316528)\">down</span> <span style=\"color: rgba(255,0,0,0.5872207880020142)\">in</span> <span style=\"color: rgba(255,0,0,0.6380959749221802)\">St</span> James's Street a little later. Subsequent to this his movements cannot"
      ],
      "text/plain": [
       "<IPython.core.display.HTML object>"
      ]
     },
     "metadata": {},
     "output_type": "display_data"
    },
    {
     "data": {
      "text/plain": [
       "None"
      ]
     },
     "metadata": {},
     "output_type": "display_data"
    },
    {
     "data": {
      "text/html": [
       "Another gentleman has fallen a victim to the terrible of suicide which for the last month has prevailed in the West End. Mr. Sidney Crashaw, of Stoke House, Fulham, and King's Pomeroy, Devon, was found, after a prolonged search, hanging dead from the branch of a tree in his garden at one o'clock today. The deceased gentleman dined last night at the Carlton Club and seemed in his usual health and spirits. He left the club at about ten o'clock, and was seen walking leisurely up St. James's Street a little later. Subsequent to this his <span style=\"color: rgba(255,0,0,1)\">manner</span> <span style=\"color: rgba(255,0,0,1)\">became</span> <span style=\"color: rgba(255,0,0,1)\">interesting</span><span style=\"color: rgba(255,0,0,1)\">.</span> <span style=\"color: rgba(255,0,0,1)\">At</span> <span style=\"color: rgba(255,0,0,1)\">an</span> <span style=\"color: rgba(255,0,0,1)\">inquiry</span><span style=\"color: rgba(255,0,0,1)\">,</span> <span style=\"color: rgba(255,0,0,1)\">academy</span> <span style=\"color: rgba(255,0,0,1)\">all</span>"
      ],
      "text/plain": [
       "<IPython.core.display.HTML object>"
      ]
     },
     "metadata": {},
     "output_type": "display_data"
    },
    {
     "name": "stdout",
     "output_type": "stream",
     "text": [
      "step 9010 loss 0.06439580558488767\n"
     ]
    },
    {
     "data": {
      "text/html": [
       "Another gentleman has fallen a victim to the terrible epidemic of suicide which for the last <span style=\"color: rgba(0,0,255,1)\">month</span> has prevailed in the West End. Mr. Sidney Crashaw, of Stoke House, Fulham, and King's <span style=\"color: rgba(0,0,255,1)\">Po</span>meroy, Devon<span style=\"color: rgba(0,0,255,1)\">,</span> was <span style=\"color: rgba(0,0,255,1)\">found</span>, after <span style=\"color: rgba(0,0,255,1)\">a</span> <span style=\"color: rgba(0,0,255,1)\">prolonged</span> search<span style=\"color: rgba(0,0,255,1)\">,</span> hanging dead from the branch of a tree in his garden at one o'clock today. <span style=\"color: rgba(0,0,255,1)\">The</span> deceased gentleman dined last night at the Carlton Club and seemed in his usual health <span style=\"color: rgba(0,0,255,1)\">and</span> spirits. He <span style=\"color: rgba(0,0,255,1)\">left</span> the <span style=\"color: rgba(0,0,255,1)\">club</span> at about ten o<span style=\"color: rgba(0,0,255,1)\">'</span>clock, and was seen walking leisurely up St. James's Street a <span style=\"color: rgba(0,0,255,1)\">little</span> <span style=\"color: rgba(0,0,255,1)\">later</span>. Subsequent to this <span style=\"color: rgba(0,0,255,1)\">his</span> movements"
      ],
      "text/plain": [
       "<IPython.core.display.HTML object>"
      ]
     },
     "metadata": {},
     "output_type": "display_data"
    },
    {
     "data": {
      "text/html": [
       "Another gentleman has fallen a victim to the terrible epidemic of suicide which for the last <span style=\"color: rgba(255,0,0,0.88735032081604)\">time</span> has prevailed in the West End. Mr. Sidney Crashaw, of Stoke House, Fulham, and King's <span style=\"color: rgba(255,0,0,0.5580235719680786)\">Co</span>meroy, Devon<span style=\"color: rgba(255,0,0,0.997482419013977)\">,</span> was <span style=\"color: rgba(255,0,0,0.8330520987510681)\">found</span>, after <span style=\"color: rgba(255,0,0,0.9955981969833374)\">a</span> <span style=\"color: rgba(255,0,0,0.6913952827453613)\">prolonged</span> search<span style=\"color: rgba(255,0,0,0.8169001340866089)\">,</span> hanging dead from the branch of a tree in his garden at one o'clock today. <span style=\"color: rgba(255,0,0,0.9406260848045349)\">The</span> deceased gentleman dined last night at the Carlton Club and seemed in his usual health <span style=\"color: rgba(255,0,0,0.9777676463127136)\">and</span> spirits. He <span style=\"color: rgba(255,0,0,0.6975889801979065)\">entered</span> the <span style=\"color: rgba(255,0,0,0.6231136918067932)\">house</span> at about ten o<span style=\"color: rgba(255,0,0,0.9995357990264893)\">'</span>clock, and was seen walking leisurely up St. James's Street a <span style=\"color: rgba(255,0,0,0.6764371991157532)\">few</span> <span style=\"color: rgba(255,0,0,0.6034114360809326)\">hour</span>. Subsequent to this <span style=\"color: rgba(255,0,0,0.8493586778640747)\">his</span> movements cannot"
      ],
      "text/plain": [
       "<IPython.core.display.HTML object>"
      ]
     },
     "metadata": {},
     "output_type": "display_data"
    },
    {
     "data": {
      "text/plain": [
       "None"
      ]
     },
     "metadata": {},
     "output_type": "display_data"
    },
    {
     "data": {
      "text/html": [
       "Another gentleman has fallen a victim to the terrible of suicide which for the last month has prevailed in the West End. Mr. Sidney Crashaw, of Stoke House, Fulham, and King's Pomeroy, Devon, was found, after a prolonged search, hanging dead from the branch of a tree in his garden at one o'clock today. The deceased gentleman dined last night at the Carlton Club and seemed in his usual health and spirits. He left the club at about ten o'clock, and was seen walking leisurely up St. James's Street a little later. Subsequent to this his <span style=\"color: rgba(255,0,0,1)\">industry</span> <span style=\"color: rgba(255,0,0,1)\">in</span> <span style=\"color: rgba(255,0,0,1)\">Egypt</span> <span style=\"color: rgba(255,0,0,1)\">was</span> <span style=\"color: rgba(255,0,0,1)\">principally</span> <span style=\"color: rgba(255,0,0,1)\">in</span> <span style=\"color: rgba(255,0,0,1)\">agriculture</span><span style=\"color: rgba(255,0,0,1)\">.</span> <span style=\"color: rgba(255,0,0,1)\">He</span> <span style=\"color: rgba(255,0,0,1)\">enjoyed</span>"
      ],
      "text/plain": [
       "<IPython.core.display.HTML object>"
      ]
     },
     "metadata": {},
     "output_type": "display_data"
    },
    {
     "name": "stdout",
     "output_type": "stream",
     "text": [
      "step 10010 loss 0.06486719718078772\n"
     ]
    },
    {
     "data": {
      "text/html": [
       "Another gentleman has fallen a victim to the terrible epidemic of suicide <span style=\"color: rgba(0,0,255,1)\">which</span> for <span style=\"color: rgba(0,0,255,1)\">the</span> last month has prevailed in the West End. Mr. Sidney <span style=\"color: rgba(0,0,255,1)\">Crash</span>aw, of Stoke House, Fulham, and King's Pomeroy, Devon, was found, after <span style=\"color: rgba(0,0,255,1)\">a</span> prolonged search<span style=\"color: rgba(0,0,255,1)\">,</span> hanging dead from the branch of a tree in his garden at one o'clock today. The deceased gentleman dined last night at the Carlton Club and seemed in his usual health and spirits. He <span style=\"color: rgba(0,0,255,1)\">left</span> the club at about ten o'clock, <span style=\"color: rgba(0,0,255,1)\">and</span> was seen walking leisure<span style=\"color: rgba(0,0,255,1)\">ly</span> up St. James<span style=\"color: rgba(0,0,255,1)\">'</span>s Street a <span style=\"color: rgba(0,0,255,1)\">little</span> later<span style=\"color: rgba(0,0,255,1)\">.</span> Subsequent to this his <span style=\"color: rgba(0,0,255,1)\">movements</span>"
      ],
      "text/plain": [
       "<IPython.core.display.HTML object>"
      ]
     },
     "metadata": {},
     "output_type": "display_data"
    },
    {
     "data": {
      "text/html": [
       "Another gentleman has fallen a victim to the terrible epidemic of suicide<span style=\"color: rgba(255,0,0,0.7256653308868408)\">,</span> for <span style=\"color: rgba(255,0,0,0.9940584301948547)\">the</span> last month has prevailed in the West End. Mr. Sidney <span style=\"color: rgba(255,0,0,0.7035920023918152)\">Crash</span>aw, of Stoke House, Fulham, and King's Pomeroy, Devon, was found, after <span style=\"color: rgba(255,0,0,0.9975303411483765)\">a</span> prolonged search<span style=\"color: rgba(255,0,0,0.9950937032699585)\">,</span> hanging dead from the branch of a tree in his garden at one o'clock today. The deceased gentleman dined last night at the Carlton Club and seemed in his usual health and spirits. He <span style=\"color: rgba(255,0,0,0.8765245676040649)\">left</span> the club at about ten o'clock, <span style=\"color: rgba(255,0,0,0.9953846335411072)\">and</span> was seen walking leisure<span style=\"color: rgba(255,0,0,0.9997168779373169)\">ly</span> up St. James<span style=\"color: rgba(255,0,0,0.9995300769805908)\">'</span>s Street a <span style=\"color: rgba(255,0,0,0.653992235660553)\">week</span> later<span style=\"color: rgba(255,0,0,0.9995920062065125)\">.</span> Subsequent to this his <span style=\"color: rgba(255,0,0,0.5532543659210205)\">story</span> cannot"
      ],
      "text/plain": [
       "<IPython.core.display.HTML object>"
      ]
     },
     "metadata": {},
     "output_type": "display_data"
    },
    {
     "data": {
      "text/plain": [
       "None"
      ]
     },
     "metadata": {},
     "output_type": "display_data"
    },
    {
     "data": {
      "text/html": [
       "Another gentleman has fallen a victim to the terrible of suicide which for the last month has prevailed in the West End. Mr. Sidney Crashaw, of Stoke House, Fulham, and King's Pomeroy, Devon, was found, after a prolonged search, hanging dead from the branch of a tree in his garden at one o'clock today. The deceased gentleman dined last night at the Carlton Club and seemed in his usual health and spirits. He left the club at about ten o'clock, and was seen walking leisurely up St. James's Street a little later. Subsequent to this his <span style=\"color: rgba(255,0,0,1)\">lines</span> <span style=\"color: rgba(255,0,0,1)\">were</span> <span style=\"color: rgba(255,0,0,1)\">played</span><span style=\"color: rgba(255,0,0,1)\">mber</span> <span style=\"color: rgba(255,0,0,1)\">truly</span> <span style=\"color: rgba(255,0,0,1)\">a</span> <span style=\"color: rgba(255,0,0,1)\">nature</span> <span style=\"color: rgba(255,0,0,1)\">medium</span><span style=\"color: rgba(255,0,0,1)\">.</span> <span style=\"color: rgba(255,0,0,1)\">He</span>"
      ],
      "text/plain": [
       "<IPython.core.display.HTML object>"
      ]
     },
     "metadata": {},
     "output_type": "display_data"
    },
    {
     "name": "stdout",
     "output_type": "stream",
     "text": [
      "step 11010 loss 0.06470345202088355\n"
     ]
    },
    {
     "data": {
      "text/html": [
       "<span style=\"color: rgba(0,0,255,1)\">Another</span> gentleman has fallen a victim to the terrible epidemic of suicide which for the last month <span style=\"color: rgba(0,0,255,1)\">has</span> prevailed in the West End. Mr. <span style=\"color: rgba(0,0,255,1)\">Sidney</span> <span style=\"color: rgba(0,0,255,1)\">Crash</span>aw, of Stoke House, Fulham, <span style=\"color: rgba(0,0,255,1)\">and</span> King's Pomeroy, Devon, was found, after a prolonged search<span style=\"color: rgba(0,0,255,1)\">,</span> hanging dead from the branch of a tree in his garden at one <span style=\"color: rgba(0,0,255,1)\">o</span>'clock today. The deceased gentleman din<span style=\"color: rgba(0,0,255,1)\">ed</span> last night at <span style=\"color: rgba(0,0,255,1)\">the</span> Carlton <span style=\"color: rgba(0,0,255,1)\">Club</span> and seemed <span style=\"color: rgba(0,0,255,1)\">in</span> his usual health and spirits<span style=\"color: rgba(0,0,255,1)\">.</span> He left the club at about ten o'<span style=\"color: rgba(0,0,255,1)\">clock</span>, and was <span style=\"color: rgba(0,0,255,1)\">seen</span> <span style=\"color: rgba(0,0,255,1)\">walking</span> leisurely up St<span style=\"color: rgba(0,0,255,1)\">.</span> James's Street a little later. Subsequent to this his movements"
      ],
      "text/plain": [
       "<IPython.core.display.HTML object>"
      ]
     },
     "metadata": {},
     "output_type": "display_data"
    },
    {
     "data": {
      "text/html": [
       "<span style=\"color: rgba(255,0,0,0.7329475283622742)\">this</span> gentleman has fallen a victim to the terrible epidemic of suicide which for the last month <span style=\"color: rgba(255,0,0,0.9983062744140625)\">has</span> prevailed in the West End. Mr. <span style=\"color: rgba(255,0,0,0.5455112457275391)\">Van</span><span style=\"color: rgba(255,0,0,0.5587692260742188)\">gs</span>aw, of Stoke House, Fulham, <span style=\"color: rgba(255,0,0,0.7643419504165649)\">in</span> King's Pomeroy, Devon, was found, after a prolonged search<span style=\"color: rgba(255,0,0,0.9982283711433411)\">,</span> hanging dead from the branch of a tree in his garden at one <span style=\"color: rgba(255,0,0,0.998323380947113)\">o</span>'clock today. The deceased gentleman din<span style=\"color: rgba(255,0,0,0.9931409955024719)\">ed</span> last night at <span style=\"color: rgba(255,0,0,0.9958412647247314)\">the</span> Carlton <span style=\"color: rgba(255,0,0,0.7364568710327148)\">Club</span> and seemed <span style=\"color: rgba(255,0,0,0.9604990482330322)\">in</span> his usual health and spirits<span style=\"color: rgba(255,0,0,0.9997168779373169)\">.</span> He left the club at about ten o'<span style=\"color: rgba(255,0,0,0.9994176626205444)\">clock</span>, and was <span style=\"color: rgba(255,0,0,0.5572711229324341)\">walking</span> <span style=\"color: rgba(255,0,0,0.748613715171814)\">walking</span> leisurely up St<span style=\"color: rgba(255,0,0,0.998649537563324)\">.</span> James's Street a little later. Subsequent to this his movements <span style=\"color: rgba(255,0,0,0.5467475652694702)\">and</span>"
      ],
      "text/plain": [
       "<IPython.core.display.HTML object>"
      ]
     },
     "metadata": {},
     "output_type": "display_data"
    },
    {
     "data": {
      "text/plain": [
       "None"
      ]
     },
     "metadata": {},
     "output_type": "display_data"
    },
    {
     "data": {
      "text/html": [
       "Another gentleman has fallen a victim to the terrible of suicide which for the last month has prevailed in the West End. Mr. Sidney Crashaw, of Stoke House, Fulham, and King's Pomeroy, Devon, was found, after a prolonged search, hanging dead from the branch of a tree in his garden at one o'clock today. The deceased gentleman dined last night at the Carlton Club and seemed in his usual health and spirits. He left the club at about ten o'clock, and was seen walking leisurely up St. James's Street a little later. Subsequent to this his <span style=\"color: rgba(255,0,0,1)\">ghost</span> <span style=\"color: rgba(255,0,0,1)\">was</span> <span style=\"color: rgba(255,0,0,1)\">introduced</span> <span style=\"color: rgba(255,0,0,1)\">to</span> <span style=\"color: rgba(255,0,0,1)\">a</span> <span style=\"color: rgba(255,0,0,1)\">friend</span> <span style=\"color: rgba(255,0,0,1)\">and</span> <span style=\"color: rgba(255,0,0,1)\">mentioned</span><span style=\"color: rgba(255,0,0,1)\">ula</span><span style=\"color: rgba(255,0,0,1)\">,</span>"
      ],
      "text/plain": [
       "<IPython.core.display.HTML object>"
      ]
     },
     "metadata": {},
     "output_type": "display_data"
    },
    {
     "name": "stdout",
     "output_type": "stream",
     "text": [
      "step 12010 loss 0.06384000012030204\n"
     ]
    },
    {
     "data": {
      "text/html": [
       "Another gentleman has fallen a <span style=\"color: rgba(0,0,255,1)\">victim</span> to the terrible epidemic of suicide which for the last month has prevailed <span style=\"color: rgba(0,0,255,1)\">in</span> the West End. Mr. Sidney Crashaw, of Stoke House, Fulham, and King'<span style=\"color: rgba(0,0,255,1)\">s</span> Po<span style=\"color: rgba(0,0,255,1)\">mer</span>oy<span style=\"color: rgba(0,0,255,1)\">,</span> <span style=\"color: rgba(0,0,255,1)\">Devon</span>, was found, after a prolonged <span style=\"color: rgba(0,0,255,1)\">search</span>, <span style=\"color: rgba(0,0,255,1)\">hanging</span> dead from the branch of a tree in his garden at one o'clock today. The deceased gentleman dined last night at the Carlton Club and seemed in his usual health <span style=\"color: rgba(0,0,255,1)\">and</span> spirits. <span style=\"color: rgba(0,0,255,1)\">He</span> left the <span style=\"color: rgba(0,0,255,1)\">club</span> at about ten <span style=\"color: rgba(0,0,255,1)\">o</span>'clock, and <span style=\"color: rgba(0,0,255,1)\">was</span> seen walking leisurely up St. <span style=\"color: rgba(0,0,255,1)\">James</span>'s Street a little later<span style=\"color: rgba(0,0,255,1)\">.</span> Subsequent to this his movements"
      ],
      "text/plain": [
       "<IPython.core.display.HTML object>"
      ]
     },
     "metadata": {},
     "output_type": "display_data"
    },
    {
     "data": {
      "text/html": [
       "Another gentleman has fallen a <span style=\"color: rgba(255,0,0,0.894672691822052)\">victim</span> to the terrible epidemic of suicide which for the last month has prevailed <span style=\"color: rgba(255,0,0,0.9410090446472168)\">in</span> the West End. Mr. Sidney Crashaw, of Stoke House, Fulham, and King'<span style=\"color: rgba(255,0,0,0.9988359808921814)\">s</span> Po<span style=\"color: rgba(255,0,0,0.9521675109863281)\">mer</span>oy<span style=\"color: rgba(255,0,0,0.9780352115631104)\">,</span> <span style=\"color: rgba(255,0,0,0.7964428663253784)\">London</span>, was found, after a prolonged <span style=\"color: rgba(255,0,0,0.6162376999855042)\">illness</span>, <span style=\"color: rgba(255,0,0,0.5647187829017639)\">shot</span> dead from the branch of a tree in his garden at one o'clock today. The deceased gentleman dined last night at the Carlton Club and seemed in his usual health <span style=\"color: rgba(255,0,0,0.8066423535346985)\">and</span> spirits. <span style=\"color: rgba(255,0,0,0.9979461431503296)\">He</span> left the <span style=\"color: rgba(255,0,0,0.6010559797286987)\">Club</span> at about ten <span style=\"color: rgba(255,0,0,0.9993852376937866)\">o</span>'clock, and <span style=\"color: rgba(255,0,0,0.9877146482467651)\">was</span> seen walking leisurely up St. <span style=\"color: rgba(255,0,0,0.5941299796104431)\">Paul</span>'s Street a little later<span style=\"color: rgba(255,0,0,0.9996777772903442)\">.</span> Subsequent to this his movements cannot"
      ],
      "text/plain": [
       "<IPython.core.display.HTML object>"
      ]
     },
     "metadata": {},
     "output_type": "display_data"
    },
    {
     "data": {
      "text/plain": [
       "None"
      ]
     },
     "metadata": {},
     "output_type": "display_data"
    },
    {
     "data": {
      "text/html": [
       "Another gentleman has fallen a victim to the terrible of suicide which for the last month has prevailed in the West End. Mr. Sidney Crashaw, of Stoke House, Fulham, and King's Pomeroy, Devon, was found, after a prolonged search, hanging dead from the branch of a tree in his garden at one o'clock today. The deceased gentleman dined last night at the Carlton Club and seemed in his usual health and spirits. He left the club at about ten o'clock, and was seen walking leisurely up St. James's Street a little later. Subsequent to this his <span style=\"color: rgba(255,0,0,1)\">particularly</span><span style=\"color: rgba(255,0,0,1)\">mbre</span> <span style=\"color: rgba(255,0,0,1)\">face</span> <span style=\"color: rgba(255,0,0,1)\">have</span> <span style=\"color: rgba(255,0,0,1)\">been</span> <span style=\"color: rgba(255,0,0,1)\">seen</span> <span style=\"color: rgba(255,0,0,1)\">as</span> <span style=\"color: rgba(255,0,0,1)\">might</span> <span style=\"color: rgba(255,0,0,1)\">be</span> <span style=\"color: rgba(255,0,0,1)\">said</span>"
      ],
      "text/plain": [
       "<IPython.core.display.HTML object>"
      ]
     },
     "metadata": {},
     "output_type": "display_data"
    },
    {
     "name": "stdout",
     "output_type": "stream",
     "text": [
      "\n"
     ]
    }
   ],
   "source": [
    "model.train()\n",
    "for _ in tqdm(range(int(args.num_train_epochs)), desc=\"Epoch\"):\n",
    "    tr_loss, nb_tr_examples, nb_tr_steps = 0, 0, 0\n",
    "    with tqdm(total=len(train_dataloader), desc='Iteration', mininterval=0.5) as prog:\n",
    "        for step, batch in enumerate(train_dataloader):\n",
    "            batch = tuple(t.to(device) for t in batch)\n",
    "            input_ids, input_mask, segment_ids, label_ids, label_weights = batch\n",
    "            \n",
    "            loss, logits = model(input_ids, segment_ids, input_mask, label_ids, label_weights)\n",
    "            if n_gpu > 1:\n",
    "                loss = loss.mean() # mean() to average on multi-gpu.\n",
    "            if args.gradient_accumulation_steps > 1:\n",
    "                loss = loss / args.gradient_accumulation_steps\n",
    "            loss.backward()\n",
    "            tr_loss += loss.item()\n",
    "            nb_tr_examples += input_ids.size(0)\n",
    "            nb_tr_steps += 1\n",
    "            if (step + 1) % args.gradient_accumulation_steps == 0:\n",
    "                optimizer.step()    # We have accumulated enougth gradients\n",
    "                model.zero_grad()\n",
    "            prog.update(1)\n",
    "            prog.desc = 'Iter. loss={:2.6f}'.format(tr_loss/nb_tr_examples)\n",
    "            if step%3000==10:\n",
    "                \n",
    "                print('step', step, 'loss', tr_loss/nb_tr_examples)\n",
    "                display(predict_masked_words(val_test, processor, tokenizer, model, device=device, max_seq_length=args.max_seq_length))\n",
    "                display(predict_next_words(val_test, processor, tokenizer, model, max_seq_length=args.max_seq_length, n=10, device=device))\n",
    "                tr_loss, nb_tr_examples, nb_tr_steps = 0, 0, 0\n",
    "                \n",
    "    \n",
    "    torch.save(model.state_dict(), save_path)\n",
    "\n",
    "global_step += 1"
   ]
  },
  {
   "cell_type": "code",
   "execution_count": 26,
   "metadata": {
    "ExecuteTime": {
     "end_time": "2018-11-13T01:58:57.934071Z",
     "start_time": "2018-11-13T01:57:20.108Z"
    }
   },
   "outputs": [],
   "source": [
    "torch.save(model.state_dict(), save_path)"
   ]
  },
  {
   "cell_type": "code",
   "execution_count": 28,
   "metadata": {
    "ExecuteTime": {
     "end_time": "2018-11-13T01:58:57.935435Z",
     "start_time": "2018-11-13T01:57:20.116Z"
    }
   },
   "outputs": [
    {
     "data": {
      "text/html": [
       "Another gentleman has fallen a victim to the terrible epidemic of suicide which for the last month has prevailed in the West End. Mr. Sidney Crashaw, of Stoke House, Fulham, and King's Pomeroy, Devon, was found, after a prolonged search, hanging dead from the branch of a tree in his garden at one o'clock today. The deceased gentleman dined last night at the Carlton Club and seemed in his usual health and spirits. He left the club at about ten o', and was seen walking leisurely up St. James's Street a little later. Subsequent to this his movements cannot <span style=\"color: rgba(255,0,0,1)\">be</span> <span style=\"color: rgba(255,0,0,1)\">traced</span> <span style=\"color: rgba(255,0,0,1)\">but</span> <span style=\"color: rgba(255,0,0,1)\">to</span> <span style=\"color: rgba(255,0,0,1)\">a</span> <span style=\"color: rgba(255,0,0,1)\">certain</span> <span style=\"color: rgba(255,0,0,1)\">degree</span><span style=\"color: rgba(255,0,0,1)\">,</span> <span style=\"color: rgba(255,0,0,1)\">and</span><span style=\"color: rgba(255,0,0,1)\">,</span> <span style=\"color: rgba(255,0,0,1)\">although</span> <span style=\"color: rgba(255,0,0,1)\">he</span> <span style=\"color: rgba(255,0,0,1)\">had</span> <span style=\"color: rgba(255,0,0,1)\">not</span> <span style=\"color: rgba(255,0,0,1)\">been</span> <span style=\"color: rgba(255,0,0,1)\">far</span> <span style=\"color: rgba(255,0,0,1)\">from</span> <span style=\"color: rgba(255,0,0,1)\">the</span> <span style=\"color: rgba(255,0,0,1)\">door</span><span style=\"color: rgba(255,0,0,1)\">,</span> <span style=\"color: rgba(255,0,0,1)\">he</span> <span style=\"color: rgba(255,0,0,1)\">was</span> <span style=\"color: rgba(255,0,0,1)\">seen</span> <span style=\"color: rgba(255,0,0,1)\">entering</span> <span style=\"color: rgba(255,0,0,1)\">the</span> <span style=\"color: rgba(255,0,0,1)\">door</span> <span style=\"color: rgba(255,0,0,1)\">as</span> <span style=\"color: rgba(255,0,0,1)\">he</span> <span style=\"color: rgba(255,0,0,1)\">approached</span><span style=\"color: rgba(255,0,0,1)\">,</span> <span style=\"color: rgba(255,0,0,1)\">and</span><span style=\"color: rgba(255,0,0,1)\">,</span> <span style=\"color: rgba(255,0,0,1)\">having</span> <span style=\"color: rgba(255,0,0,1)\">entered</span><span style=\"color: rgba(255,0,0,1)\">,</span> <span style=\"color: rgba(255,0,0,1)\">he</span> <span style=\"color: rgba(255,0,0,1)\">entered</span> <span style=\"color: rgba(255,0,0,1)\">the</span> <span style=\"color: rgba(255,0,0,1)\">room</span> <span style=\"color: rgba(255,0,0,1)\">of</span> <span style=\"color: rgba(255,0,0,1)\">the</span> <span style=\"color: rgba(255,0,0,1)\">deceased</span> <span style=\"color: rgba(255,0,0,1)\">gentleman</span><span style=\"color: rgba(255,0,0,1)\">,</span> <span style=\"color: rgba(255,0,0,1)\">who</span> <span style=\"color: rgba(255,0,0,1)\">was</span> <span style=\"color: rgba(255,0,0,1)\">still</span> <span style=\"color: rgba(255,0,0,1)\">seated</span> <span style=\"color: rgba(255,0,0,1)\">in</span> <span style=\"color: rgba(255,0,0,1)\">a</span> <span style=\"color: rgba(255,0,0,1)\">s</span><span style=\"color: rgba(255,0,0,1)\">lant</span><span style=\"color: rgba(255,0,0,1)\">,</span> <span style=\"color: rgba(255,0,0,1)\">s</span><span style=\"color: rgba(255,0,0,1)\">lop</span><span style=\"color: rgba(255,0,0,1)\">ping</span> <span style=\"color: rgba(255,0,0,1)\">posture</span><span style=\"color: rgba(255,0,0,1)\">,</span> <span style=\"color: rgba(255,0,0,1)\">and</span> <span style=\"color: rgba(255,0,0,1)\">then</span> <span style=\"color: rgba(255,0,0,1)\">entered</span> <span style=\"color: rgba(255,0,0,1)\">the</span> <span style=\"color: rgba(255,0,0,1)\">room</span><span style=\"color: rgba(255,0,0,1)\">,</span> <span style=\"color: rgba(255,0,0,1)\">and</span> <span style=\"color: rgba(255,0,0,1)\">passed</span> <span style=\"color: rgba(255,0,0,1)\">by</span> <span style=\"color: rgba(255,0,0,1)\">the</span> <span style=\"color: rgba(255,0,0,1)\">door</span><span style=\"color: rgba(255,0,0,1)\">,</span> <span style=\"color: rgba(255,0,0,1)\">and</span> <span style=\"color: rgba(255,0,0,1)\">then</span> <span style=\"color: rgba(255,0,0,1)\">entered</span> <span style=\"color: rgba(255,0,0,1)\">the</span> <span style=\"color: rgba(255,0,0,1)\">rooms</span> <span style=\"color: rgba(255,0,0,1)\">of</span> <span style=\"color: rgba(255,0,0,1)\">the</span> <span style=\"color: rgba(255,0,0,1)\">other</span> <span style=\"color: rgba(255,0,0,1)\">gentleman</span><span style=\"color: rgba(255,0,0,1)\">,</span> <span style=\"color: rgba(255,0,0,1)\">who</span> <span style=\"color: rgba(255,0,0,1)\">was</span> <span style=\"color: rgba(255,0,0,1)\">the</span> <span style=\"color: rgba(255,0,0,1)\">most</span> <span style=\"color: rgba(255,0,0,1)\">mysterious</span> <span style=\"color: rgba(255,0,0,1)\">of</span> <span style=\"color: rgba(255,0,0,1)\">all</span> <span style=\"color: rgba(255,0,0,1)\">on</span> <span style=\"color: rgba(255,0,0,1)\">the</span> <span style=\"color: rgba(255,0,0,1)\">landing</span><span style=\"color: rgba(255,0,0,1)\">,</span> <span style=\"color: rgba(255,0,0,1)\">and</span> <span style=\"color: rgba(255,0,0,1)\">was</span> <span style=\"color: rgba(255,0,0,1)\">thus</span> <span style=\"color: rgba(255,0,0,1)\">stamped</span> <span style=\"color: rgba(255,0,0,1)\">on</span> <span style=\"color: rgba(255,0,0,1)\">the</span> <span style=\"color: rgba(255,0,0,1)\">floor</span><span style=\"color: rgba(255,0,0,1)\">,</span> <span style=\"color: rgba(255,0,0,1)\">and</span>"
      ],
      "text/plain": [
       "<IPython.core.display.HTML object>"
      ]
     },
     "metadata": {},
     "output_type": "display_data"
    }
   ],
   "source": [
    "val_test=\"\"\"Another gentleman has fallen a victim to the terrible epidemic of suicide which for the last month has prevailed in the West End.  Mr. Sidney Crashaw, of Stoke House, Fulham, and King's Pomeroy, Devon, was found, after a prolonged search, hanging dead from the branch of a tree in his garden at one o'clock today.  The deceased gentleman dined last night at the Carlton Club and seemed in his usual health and spirits. He left the club at about ten o'clock, and was seen walking leisurely up St. James's Street a little later.  Subsequent to this his movements cannot be traced.  On the discovery of the body medical aid was at once summoned, but life had evidently been long extinct.  So far as is known, Mr. Crashaw had no trouble or anxiety of any kind.  This painful suicide, it will be remembered, is the fifth of the kind in the last month.  The authorities at Scotland Yard are unable to suggest any explanation of these terrible occurrences.\"\"\"\n",
    "display(predict_next_words(val_test, processor, tokenizer, model, max_seq_length=args.max_seq_length, n=100, T=.5, device=device))"
   ]
  },
  {
   "cell_type": "code",
   "execution_count": 44,
   "metadata": {},
   "outputs": [
    {
     "data": {
      "text/html": [
       "His mind spun in on itself. The question was, if anything, what was the question? \" The question was, \" What was the question? \" <span style=\"color: rgba(255,0,0,1)\">Why</span><span style=\"color: rgba(255,0,0,1)\">,</span> <span style=\"color: rgba(255,0,0,1)\">\"</span> <span style=\"color: rgba(255,0,0,1)\">I</span> <span style=\"color: rgba(255,0,0,1)\">asked</span><span style=\"color: rgba(255,0,0,1)\">,</span> <span style=\"color: rgba(255,0,0,1)\">\"</span> <span style=\"color: rgba(255,0,0,1)\">what</span> <span style=\"color: rgba(255,0,0,1)\">was</span> <span style=\"color: rgba(255,0,0,1)\">the</span> <span style=\"color: rgba(255,0,0,1)\">question</span><span style=\"color: rgba(255,0,0,1)\">?</span> <span style=\"color: rgba(255,0,0,1)\">\"</span> <span style=\"color: rgba(255,0,0,1)\">\"</span> <span style=\"color: rgba(255,0,0,1)\">Why</span><span style=\"color: rgba(255,0,0,1)\">,</span> <span style=\"color: rgba(255,0,0,1)\">why</span><span style=\"color: rgba(255,0,0,1)\">,</span> <span style=\"color: rgba(255,0,0,1)\">I</span> <span style=\"color: rgba(255,0,0,1)\">suppose</span><span style=\"color: rgba(255,0,0,1)\">,</span> <span style=\"color: rgba(255,0,0,1)\">I</span> <span style=\"color: rgba(255,0,0,1)\">should</span> <span style=\"color: rgba(255,0,0,1)\">not</span> <span style=\"color: rgba(255,0,0,1)\">know</span> <span style=\"color: rgba(255,0,0,1)\">what</span> <span style=\"color: rgba(255,0,0,1)\">you</span> <span style=\"color: rgba(255,0,0,1)\">were</span> <span style=\"color: rgba(255,0,0,1)\">saying</span><span style=\"color: rgba(255,0,0,1)\">.</span> <span style=\"color: rgba(255,0,0,1)\">\"</span> <span style=\"color: rgba(255,0,0,1)\">\"</span> <span style=\"color: rgba(255,0,0,1)\">Why</span><span style=\"color: rgba(255,0,0,1)\">,</span> <span style=\"color: rgba(255,0,0,1)\">I</span> <span style=\"color: rgba(255,0,0,1)\">suppose</span><span style=\"color: rgba(255,0,0,1)\">,</span> <span style=\"color: rgba(255,0,0,1)\">I</span> <span style=\"color: rgba(255,0,0,1)\">should</span> <span style=\"color: rgba(255,0,0,1)\">not</span> <span style=\"color: rgba(255,0,0,1)\">know</span> <span style=\"color: rgba(255,0,0,1)\">what</span> <span style=\"color: rgba(255,0,0,1)\">I</span> <span style=\"color: rgba(255,0,0,1)\">was</span> <span style=\"color: rgba(255,0,0,1)\">saying</span><span style=\"color: rgba(255,0,0,1)\">,</span> <span style=\"color: rgba(255,0,0,1)\">but</span> <span style=\"color: rgba(255,0,0,1)\">I</span> <span style=\"color: rgba(255,0,0,1)\">could</span> <span style=\"color: rgba(255,0,0,1)\">not</span> <span style=\"color: rgba(255,0,0,1)\">tell</span><span style=\"color: rgba(255,0,0,1)\">.</span> <span style=\"color: rgba(255,0,0,1)\">\"</span> <span style=\"color: rgba(255,0,0,1)\">\"</span> <span style=\"color: rgba(255,0,0,1)\">Then</span> <span style=\"color: rgba(255,0,0,1)\">I</span> <span style=\"color: rgba(255,0,0,1)\">should</span> <span style=\"color: rgba(255,0,0,1)\">not</span> <span style=\"color: rgba(255,0,0,1)\">know</span> <span style=\"color: rgba(255,0,0,1)\">what</span> <span style=\"color: rgba(255,0,0,1)\">I</span> <span style=\"color: rgba(255,0,0,1)\">was</span> <span style=\"color: rgba(255,0,0,1)\">saying</span><span style=\"color: rgba(255,0,0,1)\">.</span> <span style=\"color: rgba(255,0,0,1)\">\"</span> <span style=\"color: rgba(255,0,0,1)\">\"</span> <span style=\"color: rgba(255,0,0,1)\">Then</span><span style=\"color: rgba(255,0,0,1)\">,</span> <span style=\"color: rgba(255,0,0,1)\">what</span> <span style=\"color: rgba(255,0,0,1)\">was</span> <span style=\"color: rgba(255,0,0,1)\">I</span> <span style=\"color: rgba(255,0,0,1)\">saying</span><span style=\"color: rgba(255,0,0,1)\">?</span> <span style=\"color: rgba(255,0,0,1)\">\"</span> <span style=\"color: rgba(255,0,0,1)\">\"</span> <span style=\"color: rgba(255,0,0,1)\">Why</span><span style=\"color: rgba(255,0,0,1)\">,</span> <span style=\"color: rgba(255,0,0,1)\">I</span> <span style=\"color: rgba(255,0,0,1)\">suppose</span><span style=\"color: rgba(255,0,0,1)\">,</span> <span style=\"color: rgba(255,0,0,1)\">I</span> <span style=\"color: rgba(255,0,0,1)\">should</span> <span style=\"color: rgba(255,0,0,1)\">not</span> <span style=\"color: rgba(255,0,0,1)\">know</span> <span style=\"color: rgba(255,0,0,1)\">what</span> <span style=\"color: rgba(255,0,0,1)\">I</span> <span style=\"color: rgba(255,0,0,1)\">was</span> <span style=\"color: rgba(255,0,0,1)\">saying</span><span style=\"color: rgba(255,0,0,1)\">.</span> <span style=\"color: rgba(255,0,0,1)\">\"</span> <span style=\"color: rgba(255,0,0,1)\">\"</span> <span style=\"color: rgba(255,0,0,1)\">That</span><span style=\"color: rgba(255,0,0,1)\">'</span><span style=\"color: rgba(255,0,0,1)\">s</span> <span style=\"color: rgba(255,0,0,1)\">why</span><span style=\"color: rgba(255,0,0,1)\">,</span> <span style=\"color: rgba(255,0,0,1)\">I</span> <span style=\"color: rgba(255,0,0,1)\">suppose</span><span style=\"color: rgba(255,0,0,1)\">,</span> <span style=\"color: rgba(255,0,0,1)\">\"</span> <span style=\"color: rgba(255,0,0,1)\">I</span> <span style=\"color: rgba(255,0,0,1)\">said</span><span style=\"color: rgba(255,0,0,1)\">,</span> <span style=\"color: rgba(255,0,0,1)\">and</span> <span style=\"color: rgba(255,0,0,1)\">I</span> <span style=\"color: rgba(255,0,0,1)\">was</span> <span style=\"color: rgba(255,0,0,1)\">glad</span> <span style=\"color: rgba(255,0,0,1)\">that</span> <span style=\"color: rgba(255,0,0,1)\">I</span> <span style=\"color: rgba(255,0,0,1)\">had</span> <span style=\"color: rgba(255,0,0,1)\">been</span> <span style=\"color: rgba(255,0,0,1)\">to</span> <span style=\"color: rgba(255,0,0,1)\">speak</span><span style=\"color: rgba(255,0,0,1)\">.</span> <span style=\"color: rgba(255,0,0,1)\">\"</span> <span style=\"color: rgba(255,0,0,1)\">Then</span><span style=\"color: rgba(255,0,0,1)\">,</span> <span style=\"color: rgba(255,0,0,1)\">as</span> <span style=\"color: rgba(255,0,0,1)\">I</span> <span style=\"color: rgba(255,0,0,1)\">was</span> <span style=\"color: rgba(255,0,0,1)\">speaking</span><span style=\"color: rgba(255,0,0,1)\">,</span> <span style=\"color: rgba(255,0,0,1)\">I</span> <span style=\"color: rgba(255,0,0,1)\">thought</span>"
      ],
      "text/plain": [
       "<IPython.core.display.HTML object>"
      ]
     },
     "metadata": {},
     "output_type": "display_data"
    }
   ],
   "source": [
    "val_test=\"\"\"His mind spun in on itself . . . .\"\"\"\n",
    "display(predict_next_words(val_test, processor, tokenizer, model, max_seq_length=args.max_seq_length, n=150, T=.2, device=device))"
   ]
  },
  {
   "cell_type": "code",
   "execution_count": 35,
   "metadata": {},
   "outputs": [
    {
     "data": {
      "text/html": [
       "A giant spider descended on to <span style=\"color: rgba(255,0,0,1)\">the</span> <span style=\"color: rgba(255,0,0,1)\">earth</span><span style=\"color: rgba(255,0,0,1)\">.</span> <span style=\"color: rgba(255,0,0,1)\">\"</span> <span style=\"color: rgba(255,0,0,1)\">\"</span> <span style=\"color: rgba(255,0,0,1)\">I</span> <span style=\"color: rgba(255,0,0,1)\">have</span> <span style=\"color: rgba(255,0,0,1)\">not</span> <span style=\"color: rgba(255,0,0,1)\">yet</span> <span style=\"color: rgba(255,0,0,1)\">seen</span> <span style=\"color: rgba(255,0,0,1)\">a</span> <span style=\"color: rgba(255,0,0,1)\">gigantic</span> <span style=\"color: rgba(255,0,0,1)\">spider</span><span style=\"color: rgba(255,0,0,1)\">,</span> <span style=\"color: rgba(255,0,0,1)\">but</span> <span style=\"color: rgba(255,0,0,1)\">am</span> <span style=\"color: rgba(255,0,0,1)\">I</span> <span style=\"color: rgba(255,0,0,1)\">not</span> <span style=\"color: rgba(255,0,0,1)\">sure</span> <span style=\"color: rgba(255,0,0,1)\">that</span> <span style=\"color: rgba(255,0,0,1)\">it</span> <span style=\"color: rgba(255,0,0,1)\">may</span> <span style=\"color: rgba(255,0,0,1)\">be</span> <span style=\"color: rgba(255,0,0,1)\">a</span> <span style=\"color: rgba(255,0,0,1)\">giant</span> <span style=\"color: rgba(255,0,0,1)\">spider</span><span style=\"color: rgba(255,0,0,1)\">?</span> <span style=\"color: rgba(255,0,0,1)\">\"</span> <span style=\"color: rgba(255,0,0,1)\">\"</span> <span style=\"color: rgba(255,0,0,1)\">Not</span> <span style=\"color: rgba(255,0,0,1)\">a</span> <span style=\"color: rgba(255,0,0,1)\">giant</span> <span style=\"color: rgba(255,0,0,1)\">spider</span><span style=\"color: rgba(255,0,0,1)\">,</span> <span style=\"color: rgba(255,0,0,1)\">but</span> <span style=\"color: rgba(255,0,0,1)\">a</span> <span style=\"color: rgba(255,0,0,1)\">giant</span> <span style=\"color: rgba(255,0,0,1)\">spider</span><span style=\"color: rgba(255,0,0,1)\">.</span> <span style=\"color: rgba(255,0,0,1)\">\"</span> <span style=\"color: rgba(255,0,0,1)\">\"</span> <span style=\"color: rgba(255,0,0,1)\">I</span> <span style=\"color: rgba(255,0,0,1)\">have</span> <span style=\"color: rgba(255,0,0,1)\">not</span> <span style=\"color: rgba(255,0,0,1)\">yet</span> <span style=\"color: rgba(255,0,0,1)\">seen</span> <span style=\"color: rgba(255,0,0,1)\">a</span> <span style=\"color: rgba(255,0,0,1)\">giant</span> <span style=\"color: rgba(255,0,0,1)\">spider</span><span style=\"color: rgba(255,0,0,1)\">,</span> <span style=\"color: rgba(255,0,0,1)\">\"</span> <span style=\"color: rgba(255,0,0,1)\">said</span> <span style=\"color: rgba(255,0,0,1)\">the</span> <span style=\"color: rgba(255,0,0,1)\">other</span><span style=\"color: rgba(255,0,0,1)\">,</span> <span style=\"color: rgba(255,0,0,1)\">with</span> <span style=\"color: rgba(255,0,0,1)\">a</span> <span style=\"color: rgba(255,0,0,1)\">faint</span><span style=\"color: rgba(255,0,0,1)\">,</span> <span style=\"color: rgba(255,0,0,1)\">of</span> <span style=\"color: rgba(255,0,0,1)\">interest</span><span style=\"color: rgba(255,0,0,1)\">,</span> <span style=\"color: rgba(255,0,0,1)\">\"</span> <span style=\"color: rgba(255,0,0,1)\">but</span> <span style=\"color: rgba(255,0,0,1)\">I</span> <span style=\"color: rgba(255,0,0,1)\">suppose</span> <span style=\"color: rgba(255,0,0,1)\">there</span> <span style=\"color: rgba(255,0,0,1)\">may</span> <span style=\"color: rgba(255,0,0,1)\">be</span> <span style=\"color: rgba(255,0,0,1)\">a</span> <span style=\"color: rgba(255,0,0,1)\">giant</span> <span style=\"color: rgba(255,0,0,1)\">spider</span><span style=\"color: rgba(255,0,0,1)\">.</span> <span style=\"color: rgba(255,0,0,1)\">\"</span> <span style=\"color: rgba(255,0,0,1)\">\"</span> <span style=\"color: rgba(255,0,0,1)\">Then</span><span style=\"color: rgba(255,0,0,1)\">,</span> <span style=\"color: rgba(255,0,0,1)\">I</span> <span style=\"color: rgba(255,0,0,1)\">suppose</span> <span style=\"color: rgba(255,0,0,1)\">I</span> <span style=\"color: rgba(255,0,0,1)\">may</span> <span style=\"color: rgba(255,0,0,1)\">not</span> <span style=\"color: rgba(255,0,0,1)\">be</span> <span style=\"color: rgba(255,0,0,1)\">certain</span><span style=\"color: rgba(255,0,0,1)\">,</span> <span style=\"color: rgba(255,0,0,1)\">but</span> <span style=\"color: rgba(255,0,0,1)\">I</span> <span style=\"color: rgba(255,0,0,1)\">suppose</span> <span style=\"color: rgba(255,0,0,1)\">it</span> <span style=\"color: rgba(255,0,0,1)\">may</span> <span style=\"color: rgba(255,0,0,1)\">be</span> <span style=\"color: rgba(255,0,0,1)\">a</span> <span style=\"color: rgba(255,0,0,1)\">giant</span> <span style=\"color: rgba(255,0,0,1)\">spider</span><span style=\"color: rgba(255,0,0,1)\">.</span> <span style=\"color: rgba(255,0,0,1)\">\"</span> <span style=\"color: rgba(255,0,0,1)\">\"</span> <span style=\"color: rgba(255,0,0,1)\">Then</span><span style=\"color: rgba(255,0,0,1)\">,</span> <span style=\"color: rgba(255,0,0,1)\">I</span>"
      ],
      "text/plain": [
       "<IPython.core.display.HTML object>"
      ]
     },
     "metadata": {},
     "output_type": "display_data"
    }
   ],
   "source": [
    "val_test=\"\"\"A giant spider descended on to . . . .\"\"\"\n",
    "display(predict_next_words(val_test, processor, tokenizer, model, max_seq_length=args.max_seq_length, n=100, T=.5, device=device))"
   ]
  },
  {
   "cell_type": "code",
   "execution_count": 36,
   "metadata": {},
   "outputs": [
    {
     "data": {
      "text/html": [
       "Madness enveloped his mind as <span style=\"color: rgba(255,0,0,1)\">if</span> <span style=\"color: rgba(255,0,0,1)\">he</span> <span style=\"color: rgba(255,0,0,1)\">were</span> <span style=\"color: rgba(255,0,0,1)\">conscious</span> <span style=\"color: rgba(255,0,0,1)\">of</span> <span style=\"color: rgba(255,0,0,1)\">something</span> <span style=\"color: rgba(255,0,0,1)\">else</span><span style=\"color: rgba(255,0,0,1)\">.</span> <span style=\"color: rgba(255,0,0,1)\">The</span> <span style=\"color: rgba(255,0,0,1)\">whole</span> <span style=\"color: rgba(255,0,0,1)\">thing</span> <span style=\"color: rgba(255,0,0,1)\">was</span><span style=\"color: rgba(255,0,0,1)\">,</span> <span style=\"color: rgba(255,0,0,1)\">perhaps</span><span style=\"color: rgba(255,0,0,1)\">,</span> <span style=\"color: rgba(255,0,0,1)\">a</span> <span style=\"color: rgba(255,0,0,1)\">vague</span><span style=\"color: rgba(255,0,0,1)\">ness</span> <span style=\"color: rgba(255,0,0,1)\">that</span> <span style=\"color: rgba(255,0,0,1)\">was</span> <span style=\"color: rgba(255,0,0,1)\">not</span> <span style=\"color: rgba(255,0,0,1)\">always</span> <span style=\"color: rgba(255,0,0,1)\">apparent</span><span style=\"color: rgba(255,0,0,1)\">.</span> <span style=\"color: rgba(255,0,0,1)\">But</span><span style=\"color: rgba(255,0,0,1)\">,</span> <span style=\"color: rgba(255,0,0,1)\">as</span> <span style=\"color: rgba(255,0,0,1)\">it</span> <span style=\"color: rgba(255,0,0,1)\">seemed</span><span style=\"color: rgba(255,0,0,1)\">,</span> <span style=\"color: rgba(255,0,0,1)\">the</span> <span style=\"color: rgba(255,0,0,1)\">whole</span> <span style=\"color: rgba(255,0,0,1)\">thing</span> <span style=\"color: rgba(255,0,0,1)\">was</span> <span style=\"color: rgba(255,0,0,1)\">not</span> <span style=\"color: rgba(255,0,0,1)\">somewhat</span> <span style=\"color: rgba(255,0,0,1)\">absurd</span><span style=\"color: rgba(255,0,0,1)\">,</span> <span style=\"color: rgba(255,0,0,1)\">but</span> <span style=\"color: rgba(255,0,0,1)\">was</span> <span style=\"color: rgba(255,0,0,1)\">rather</span> <span style=\"color: rgba(255,0,0,1)\">a</span> <span style=\"color: rgba(255,0,0,1)\">little</span> <span style=\"color: rgba(255,0,0,1)\">vague</span><span style=\"color: rgba(255,0,0,1)\">ness</span> <span style=\"color: rgba(255,0,0,1)\">that</span> <span style=\"color: rgba(255,0,0,1)\">seemed</span> <span style=\"color: rgba(255,0,0,1)\">to</span> <span style=\"color: rgba(255,0,0,1)\">mean</span> <span style=\"color: rgba(255,0,0,1)\">to</span> <span style=\"color: rgba(255,0,0,1)\">be</span> <span style=\"color: rgba(255,0,0,1)\">an</span> <span style=\"color: rgba(255,0,0,1)\">excuse</span> <span style=\"color: rgba(255,0,0,1)\">for</span> <span style=\"color: rgba(255,0,0,1)\">a</span> <span style=\"color: rgba(255,0,0,1)\">little</span> <span style=\"color: rgba(255,0,0,1)\">matter</span><span style=\"color: rgba(255,0,0,1)\">.</span> <span style=\"color: rgba(255,0,0,1)\">The</span> <span style=\"color: rgba(255,0,0,1)\">whole</span> <span style=\"color: rgba(255,0,0,1)\">thing</span> <span style=\"color: rgba(255,0,0,1)\">had</span> <span style=\"color: rgba(255,0,0,1)\">been</span> <span style=\"color: rgba(255,0,0,1)\">so</span> <span style=\"color: rgba(255,0,0,1)\">absurd</span> <span style=\"color: rgba(255,0,0,1)\">that</span> <span style=\"color: rgba(255,0,0,1)\">he</span> <span style=\"color: rgba(255,0,0,1)\">had</span> <span style=\"color: rgba(255,0,0,1)\">not</span> <span style=\"color: rgba(255,0,0,1)\">quite</span> <span style=\"color: rgba(255,0,0,1)\">satisfied</span> <span style=\"color: rgba(255,0,0,1)\">himself</span> <span style=\"color: rgba(255,0,0,1)\">with</span> <span style=\"color: rgba(255,0,0,1)\">it</span><span style=\"color: rgba(255,0,0,1)\">.</span> <span style=\"color: rgba(255,0,0,1)\">The</span> <span style=\"color: rgba(255,0,0,1)\">whole</span> <span style=\"color: rgba(255,0,0,1)\">thing</span> <span style=\"color: rgba(255,0,0,1)\">was</span> <span style=\"color: rgba(255,0,0,1)\">so</span> <span style=\"color: rgba(255,0,0,1)\">absurd</span> <span style=\"color: rgba(255,0,0,1)\">that</span> <span style=\"color: rgba(255,0,0,1)\">he</span> <span style=\"color: rgba(255,0,0,1)\">had</span> <span style=\"color: rgba(255,0,0,1)\">not</span> <span style=\"color: rgba(255,0,0,1)\">actually</span> <span style=\"color: rgba(255,0,0,1)\">done</span> <span style=\"color: rgba(255,0,0,1)\">something</span> <span style=\"color: rgba(255,0,0,1)\">else</span> <span style=\"color: rgba(255,0,0,1)\">but</span> <span style=\"color: rgba(255,0,0,1)\">to</span> <span style=\"color: rgba(255,0,0,1)\">try</span> <span style=\"color: rgba(255,0,0,1)\">to</span> <span style=\"color: rgba(255,0,0,1)\">get</span> <span style=\"color: rgba(255,0,0,1)\">a</span> <span style=\"color: rgba(255,0,0,1)\">sense</span> <span style=\"color: rgba(255,0,0,1)\">of</span> <span style=\"color: rgba(255,0,0,1)\">the</span> <span style=\"color: rgba(255,0,0,1)\">truth</span> <span style=\"color: rgba(255,0,0,1)\">-</span>"
      ],
      "text/plain": [
       "<IPython.core.display.HTML object>"
      ]
     },
     "metadata": {},
     "output_type": "display_data"
    }
   ],
   "source": [
    "val_test=\"\"\"Madness enveloped his mind as . . . .\"\"\"\n",
    "display(predict_next_words(val_test, processor, tokenizer, model, max_seq_length=args.max_seq_length, n=100, T=.5, device=device))"
   ]
  },
  {
   "cell_type": "code",
   "execution_count": 38,
   "metadata": {},
   "outputs": [
    {
     "data": {
      "text/html": [
       "A thin film of <span style=\"color: rgba(255,0,0,1)\">breath</span><span style=\"color: rgba(255,0,0,1)\">,</span> <span style=\"color: rgba(255,0,0,1)\">in</span> <span style=\"color: rgba(255,0,0,1)\">the</span> <span style=\"color: rgba(255,0,0,1)\">middle</span> <span style=\"color: rgba(255,0,0,1)\">of</span> <span style=\"color: rgba(255,0,0,1)\">the</span> <span style=\"color: rgba(255,0,0,1)\">sentence</span><span style=\"color: rgba(255,0,0,1)\">,</span> <span style=\"color: rgba(255,0,0,1)\">is</span> <span style=\"color: rgba(255,0,0,1)\">given</span> <span style=\"color: rgba(255,0,0,1)\">out</span><span style=\"color: rgba(255,0,0,1)\">,</span> <span style=\"color: rgba(255,0,0,1)\">and</span> <span style=\"color: rgba(255,0,0,1)\">is</span> <span style=\"color: rgba(255,0,0,1)\">given</span> <span style=\"color: rgba(255,0,0,1)\">out</span> <span style=\"color: rgba(255,0,0,1)\">as</span> <span style=\"color: rgba(255,0,0,1)\">a</span> <span style=\"color: rgba(255,0,0,1)\">q</span><span style=\"color: rgba(255,0,0,1)\">ui</span><span style=\"color: rgba(255,0,0,1)\">ver</span><span style=\"color: rgba(255,0,0,1)\">,</span> <span style=\"color: rgba(255,0,0,1)\">or</span> <span style=\"color: rgba(255,0,0,1)\">a</span> <span style=\"color: rgba(255,0,0,1)\">q</span><span style=\"color: rgba(255,0,0,1)\">ui</span><span style=\"color: rgba(255,0,0,1)\">ver</span><span style=\"color: rgba(255,0,0,1)\">,</span> <span style=\"color: rgba(255,0,0,1)\">or</span> <span style=\"color: rgba(255,0,0,1)\">a</span> <span style=\"color: rgba(255,0,0,1)\">q</span><span style=\"color: rgba(255,0,0,1)\">ui</span><span style=\"color: rgba(255,0,0,1)\">ver</span><span style=\"color: rgba(255,0,0,1)\">;</span> <span style=\"color: rgba(255,0,0,1)\">and</span> <span style=\"color: rgba(255,0,0,1)\">then</span> <span style=\"color: rgba(255,0,0,1)\">as</span> <span style=\"color: rgba(255,0,0,1)\">a</span> <span style=\"color: rgba(255,0,0,1)\">q</span><span style=\"color: rgba(255,0,0,1)\">ui</span><span style=\"color: rgba(255,0,0,1)\">ver</span><span style=\"color: rgba(255,0,0,1)\">,</span> <span style=\"color: rgba(255,0,0,1)\">or</span> <span style=\"color: rgba(255,0,0,1)\">a</span> <span style=\"color: rgba(255,0,0,1)\">q</span><span style=\"color: rgba(255,0,0,1)\">ui</span><span style=\"color: rgba(255,0,0,1)\">ver</span><span style=\"color: rgba(255,0,0,1)\">,</span> <span style=\"color: rgba(255,0,0,1)\">or</span> <span style=\"color: rgba(255,0,0,1)\">a</span> <span style=\"color: rgba(255,0,0,1)\">q</span><span style=\"color: rgba(255,0,0,1)\">ui</span><span style=\"color: rgba(255,0,0,1)\">ver</span><span style=\"color: rgba(255,0,0,1)\">,</span> <span style=\"color: rgba(255,0,0,1)\">or</span> <span style=\"color: rgba(255,0,0,1)\">a</span> <span style=\"color: rgba(255,0,0,1)\">q</span><span style=\"color: rgba(255,0,0,1)\">ui</span><span style=\"color: rgba(255,0,0,1)\">ver</span><span style=\"color: rgba(255,0,0,1)\">,</span> <span style=\"color: rgba(255,0,0,1)\">or</span> <span style=\"color: rgba(255,0,0,1)\">a</span> <span style=\"color: rgba(255,0,0,1)\">q</span><span style=\"color: rgba(255,0,0,1)\">ui</span><span style=\"color: rgba(255,0,0,1)\">ver</span><span style=\"color: rgba(255,0,0,1)\">.</span> <span style=\"color: rgba(255,0,0,1)\">In</span> <span style=\"color: rgba(255,0,0,1)\">the</span> <span style=\"color: rgba(255,0,0,1)\">end</span><span style=\"color: rgba(255,0,0,1)\">,</span> <span style=\"color: rgba(255,0,0,1)\">the</span> <span style=\"color: rgba(255,0,0,1)\">sentence</span> <span style=\"color: rgba(255,0,0,1)\">is</span> <span style=\"color: rgba(255,0,0,1)\">drawn</span> <span style=\"color: rgba(255,0,0,1)\">which</span> <span style=\"color: rgba(255,0,0,1)\">is</span> <span style=\"color: rgba(255,0,0,1)\">given</span> <span style=\"color: rgba(255,0,0,1)\">out</span> <span style=\"color: rgba(255,0,0,1)\">as</span> <span style=\"color: rgba(255,0,0,1)\">a</span> <span style=\"color: rgba(255,0,0,1)\">q</span><span style=\"color: rgba(255,0,0,1)\">ui</span><span style=\"color: rgba(255,0,0,1)\">ver</span><span style=\"color: rgba(255,0,0,1)\">.</span> <span style=\"color: rgba(255,0,0,1)\">The</span> <span style=\"color: rgba(255,0,0,1)\">general</span> <span style=\"color: rgba(255,0,0,1)\">effect</span> <span style=\"color: rgba(255,0,0,1)\">is</span> <span style=\"color: rgba(255,0,0,1)\">that</span> <span style=\"color: rgba(255,0,0,1)\">the</span> <span style=\"color: rgba(255,0,0,1)\">sentence</span> <span style=\"color: rgba(255,0,0,1)\">is</span> <span style=\"color: rgba(255,0,0,1)\">then</span> <span style=\"color: rgba(255,0,0,1)\">taken</span> <span style=\"color: rgba(255,0,0,1)\">out</span><span style=\"color: rgba(255,0,0,1)\">,</span> <span style=\"color: rgba(255,0,0,1)\">or</span> <span style=\"color: rgba(255,0,0,1)\">the</span> <span style=\"color: rgba(255,0,0,1)\">sentence</span>"
      ],
      "text/plain": [
       "<IPython.core.display.HTML object>"
      ]
     },
     "metadata": {},
     "output_type": "display_data"
    }
   ],
   "source": [
    "val_test=\"\"\"A thin film of . . . .\"\"\"\n",
    "display(predict_next_words(val_test, processor, tokenizer, model, max_seq_length=args.max_seq_length, n=100, T=.5, device=device))"
   ]
  },
  {
   "cell_type": "code",
   "execution_count": 39,
   "metadata": {},
   "outputs": [
    {
     "data": {
      "text/html": [
       "Quivering with fear, he trembled as <span style=\"color: rgba(255,0,0,1)\">if</span><span style=\"color: rgba(255,0,0,1)\">,</span> <span style=\"color: rgba(255,0,0,1)\">to</span> <span style=\"color: rgba(255,0,0,1)\">be</span><span style=\"color: rgba(255,0,0,1)\">hold</span> <span style=\"color: rgba(255,0,0,1)\">him</span><span style=\"color: rgba(255,0,0,1)\">,</span> <span style=\"color: rgba(255,0,0,1)\">he</span> <span style=\"color: rgba(255,0,0,1)\">would</span> <span style=\"color: rgba(255,0,0,1)\">be</span><span style=\"color: rgba(255,0,0,1)\">hold</span> <span style=\"color: rgba(255,0,0,1)\">him</span><span style=\"color: rgba(255,0,0,1)\">;</span> <span style=\"color: rgba(255,0,0,1)\">but</span> <span style=\"color: rgba(255,0,0,1)\">he</span> <span style=\"color: rgba(255,0,0,1)\">was</span> <span style=\"color: rgba(255,0,0,1)\">not</span> <span style=\"color: rgba(255,0,0,1)\">a</span> <span style=\"color: rgba(255,0,0,1)\">man</span> <span style=\"color: rgba(255,0,0,1)\">of</span> <span style=\"color: rgba(255,0,0,1)\">his</span> <span style=\"color: rgba(255,0,0,1)\">own</span><span style=\"color: rgba(255,0,0,1)\">.</span> <span style=\"color: rgba(255,0,0,1)\">A</span> <span style=\"color: rgba(255,0,0,1)\">man</span> <span style=\"color: rgba(255,0,0,1)\">of</span> <span style=\"color: rgba(255,0,0,1)\">his</span> <span style=\"color: rgba(255,0,0,1)\">own</span><span style=\"color: rgba(255,0,0,1)\">,</span> <span style=\"color: rgba(255,0,0,1)\">he</span> <span style=\"color: rgba(255,0,0,1)\">I</span> <span style=\"color: rgba(255,0,0,1)\">have</span> <span style=\"color: rgba(255,0,0,1)\">not</span> <span style=\"color: rgba(255,0,0,1)\">dared</span> <span style=\"color: rgba(255,0,0,1)\">but</span> <span style=\"color: rgba(255,0,0,1)\">beg</span><span style=\"color: rgba(255,0,0,1)\">,</span> <span style=\"color: rgba(255,0,0,1)\">for</span> <span style=\"color: rgba(255,0,0,1)\">that</span> <span style=\"color: rgba(255,0,0,1)\">one</span><span style=\"color: rgba(255,0,0,1)\">,</span> <span style=\"color: rgba(255,0,0,1)\">but</span> <span style=\"color: rgba(255,0,0,1)\">one</span><span style=\"color: rgba(255,0,0,1)\">,</span> <span style=\"color: rgba(255,0,0,1)\">and</span> <span style=\"color: rgba(255,0,0,1)\">not</span> <span style=\"color: rgba(255,0,0,1)\">to</span> <span style=\"color: rgba(255,0,0,1)\">be</span> <span style=\"color: rgba(255,0,0,1)\">seen</span><span style=\"color: rgba(255,0,0,1)\">.</span> <span style=\"color: rgba(255,0,0,1)\">He</span> <span style=\"color: rgba(255,0,0,1)\">was</span> <span style=\"color: rgba(255,0,0,1)\">of</span> <span style=\"color: rgba(255,0,0,1)\">his</span> <span style=\"color: rgba(255,0,0,1)\">own</span><span style=\"color: rgba(255,0,0,1)\">,</span> <span style=\"color: rgba(255,0,0,1)\">and</span> <span style=\"color: rgba(255,0,0,1)\">he</span> <span style=\"color: rgba(255,0,0,1)\">was</span> <span style=\"color: rgba(255,0,0,1)\">of</span> <span style=\"color: rgba(255,0,0,1)\">his</span> <span style=\"color: rgba(255,0,0,1)\">own</span><span style=\"color: rgba(255,0,0,1)\">.</span> <span style=\"color: rgba(255,0,0,1)\">And</span> <span style=\"color: rgba(255,0,0,1)\">now</span><span style=\"color: rgba(255,0,0,1)\">,</span> <span style=\"color: rgba(255,0,0,1)\">still</span><span style=\"color: rgba(255,0,0,1)\">,</span> <span style=\"color: rgba(255,0,0,1)\">he</span> <span style=\"color: rgba(255,0,0,1)\">stood</span> <span style=\"color: rgba(255,0,0,1)\">there</span><span style=\"color: rgba(255,0,0,1)\">,</span> <span style=\"color: rgba(255,0,0,1)\">and</span> <span style=\"color: rgba(255,0,0,1)\">looked</span> <span style=\"color: rgba(255,0,0,1)\">in</span> <span style=\"color: rgba(255,0,0,1)\">the</span> <span style=\"color: rgba(255,0,0,1)\">window</span><span style=\"color: rgba(255,0,0,1)\">;</span> <span style=\"color: rgba(255,0,0,1)\">and</span><span style=\"color: rgba(255,0,0,1)\">,</span> <span style=\"color: rgba(255,0,0,1)\">coming</span> <span style=\"color: rgba(255,0,0,1)\">up</span> <span style=\"color: rgba(255,0,0,1)\">to</span> <span style=\"color: rgba(255,0,0,1)\">the</span> <span style=\"color: rgba(255,0,0,1)\">window</span><span style=\"color: rgba(255,0,0,1)\">,</span> <span style=\"color: rgba(255,0,0,1)\">he</span> <span style=\"color: rgba(255,0,0,1)\">said</span><span style=\"color: rgba(255,0,0,1)\">,</span> <span style=\"color: rgba(255,0,0,1)\">\"</span> <span style=\"color: rgba(255,0,0,1)\">I</span> <span style=\"color: rgba(255,0,0,1)\">have</span> <span style=\"color: rgba(255,0,0,1)\">to</span> <span style=\"color: rgba(255,0,0,1)\">look</span> <span style=\"color: rgba(255,0,0,1)\">out</span><span style=\"color: rgba(255,0,0,1)\">,</span> <span style=\"color: rgba(255,0,0,1)\">and</span> <span style=\"color: rgba(255,0,0,1)\">I</span> <span style=\"color: rgba(255,0,0,1)\">want</span> <span style=\"color: rgba(255,0,0,1)\">to</span>"
      ],
      "text/plain": [
       "<IPython.core.display.HTML object>"
      ]
     },
     "metadata": {},
     "output_type": "display_data"
    }
   ],
   "source": [
    "val_test=\"\"\"Quivering with fear, he trembled as . . . .\"\"\"\n",
    "display(predict_next_words(val_test, processor, tokenizer, model, max_seq_length=args.max_seq_length, n=100, T=.5, device=device))"
   ]
  },
  {
   "cell_type": "code",
   "execution_count": 40,
   "metadata": {},
   "outputs": [
    {
     "data": {
      "text/html": [
       "Madness enveloped his mind as it was customary to arrange in his memory, and the idea of this novel was to be adopted by the public in my own person, for instance, in the writing of The Monk, I can't quite form that, in a word so absurd, the word is not merely a term for the absurd, but that the poem, in its most absurd, is merely a term for the absurd. The word, then, is no more appropriate than the word, for the absurd is the absurd, and that is all; the absurd is the absurd, and the word is the absurd. But, for instance, the word is the absurd, and the word is the absurd. And, in the very midst of the absurd, the word is the absurd. And so upon the whole, we are to be found that the absurdest of all we are not, in the<span style=\"color: rgba(255,0,0,1)\">,</span> <span style=\"color: rgba(255,0,0,1)\">not</span> <span style=\"color: rgba(255,0,0,1)\">the</span> <span style=\"color: rgba(255,0,0,1)\">least</span> <span style=\"color: rgba(255,0,0,1)\">of</span> <span style=\"color: rgba(255,0,0,1)\">the</span> <span style=\"color: rgba(255,0,0,1)\">most</span> <span style=\"color: rgba(255,0,0,1)\">absurd</span><span style=\"color: rgba(255,0,0,1)\">,</span> <span style=\"color: rgba(255,0,0,1)\">and</span> <span style=\"color: rgba(255,0,0,1)\">that</span> <span style=\"color: rgba(255,0,0,1)\">the</span> <span style=\"color: rgba(255,0,0,1)\">word</span> <span style=\"color: rgba(255,0,0,1)\">is</span> <span style=\"color: rgba(255,0,0,1)\">the</span> <span style=\"color: rgba(255,0,0,1)\">absurd</span><span style=\"color: rgba(255,0,0,1)\">est</span> <span style=\"color: rgba(255,0,0,1)\">of</span> <span style=\"color: rgba(255,0,0,1)\">all</span> <span style=\"color: rgba(255,0,0,1)\">we</span> <span style=\"color: rgba(255,0,0,1)\">are</span> <span style=\"color: rgba(255,0,0,1)\">not</span><span style=\"color: rgba(255,0,0,1)\">,</span> <span style=\"color: rgba(255,0,0,1)\">in</span> <span style=\"color: rgba(255,0,0,1)\">all</span><span style=\"color: rgba(255,0,0,1)\">,</span> <span style=\"color: rgba(255,0,0,1)\">the</span> <span style=\"color: rgba(255,0,0,1)\">least</span> <span style=\"color: rgba(255,0,0,1)\">of</span> <span style=\"color: rgba(255,0,0,1)\">the</span> <span style=\"color: rgba(255,0,0,1)\">most</span> <span style=\"color: rgba(255,0,0,1)\">absurd</span> <span style=\"color: rgba(255,0,0,1)\">of</span> <span style=\"color: rgba(255,0,0,1)\">all</span> <span style=\"color: rgba(255,0,0,1)\">we</span> <span style=\"color: rgba(255,0,0,1)\">are</span><span style=\"color: rgba(255,0,0,1)\">.</span> <span style=\"color: rgba(255,0,0,1)\">And</span><span style=\"color: rgba(255,0,0,1)\">,</span> <span style=\"color: rgba(255,0,0,1)\">by</span> <span style=\"color: rgba(255,0,0,1)\">the</span> <span style=\"color: rgba(255,0,0,1)\">word</span> <span style=\"color: rgba(255,0,0,1)\">of</span> <span style=\"color: rgba(255,0,0,1)\">the</span> <span style=\"color: rgba(255,0,0,1)\">absurd</span><span style=\"color: rgba(255,0,0,1)\">,</span> <span style=\"color: rgba(255,0,0,1)\">we</span> <span style=\"color: rgba(255,0,0,1)\">are</span> <span style=\"color: rgba(255,0,0,1)\">not</span> <span style=\"color: rgba(255,0,0,1)\">the</span> <span style=\"color: rgba(255,0,0,1)\">least</span> <span style=\"color: rgba(255,0,0,1)\">absurd</span><span style=\"color: rgba(255,0,0,1)\">,</span> <span style=\"color: rgba(255,0,0,1)\">and</span> <span style=\"color: rgba(255,0,0,1)\">we</span> <span style=\"color: rgba(255,0,0,1)\">are</span> <span style=\"color: rgba(255,0,0,1)\">not</span> <span style=\"color: rgba(255,0,0,1)\">all</span> <span style=\"color: rgba(255,0,0,1)\">absurd</span><span style=\"color: rgba(255,0,0,1)\">.</span> <span style=\"color: rgba(255,0,0,1)\">But</span><span style=\"color: rgba(255,0,0,1)\">,</span> <span style=\"color: rgba(255,0,0,1)\">by</span> <span style=\"color: rgba(255,0,0,1)\">the</span> <span style=\"color: rgba(255,0,0,1)\">word</span> <span style=\"color: rgba(255,0,0,1)\">of</span> <span style=\"color: rgba(255,0,0,1)\">the</span> <span style=\"color: rgba(255,0,0,1)\">absurd</span><span style=\"color: rgba(255,0,0,1)\">,</span> <span style=\"color: rgba(255,0,0,1)\">we</span> <span style=\"color: rgba(255,0,0,1)\">are</span> <span style=\"color: rgba(255,0,0,1)\">all</span> <span style=\"color: rgba(255,0,0,1)\">absurd</span><span style=\"color: rgba(255,0,0,1)\">.</span> <span style=\"color: rgba(255,0,0,1)\">And</span> <span style=\"color: rgba(255,0,0,1)\">the</span> <span style=\"color: rgba(255,0,0,1)\">word</span> <span style=\"color: rgba(255,0,0,1)\">of</span> <span style=\"color: rgba(255,0,0,1)\">the</span> <span style=\"color: rgba(255,0,0,1)\">absurd</span><span style=\"color: rgba(255,0,0,1)\">,</span> <span style=\"color: rgba(255,0,0,1)\">is</span> <span style=\"color: rgba(255,0,0,1)\">our</span> <span style=\"color: rgba(255,0,0,1)\">name</span> <span style=\"color: rgba(255,0,0,1)\">for</span> <span style=\"color: rgba(255,0,0,1)\">all</span><span style=\"color: rgba(255,0,0,1)\">,</span> <span style=\"color: rgba(255,0,0,1)\">and</span> <span style=\"color: rgba(255,0,0,1)\">we</span> <span style=\"color: rgba(255,0,0,1)\">are</span> <span style=\"color: rgba(255,0,0,1)\">all</span> <span style=\"color: rgba(255,0,0,1)\">absurd</span><span style=\"color: rgba(255,0,0,1)\">.</span> <span style=\"color: rgba(255,0,0,1)\">And</span> <span style=\"color: rgba(255,0,0,1)\">this</span> <span style=\"color: rgba(255,0,0,1)\">is</span> <span style=\"color: rgba(255,0,0,1)\">the</span> <span style=\"color: rgba(255,0,0,1)\">word</span> <span style=\"color: rgba(255,0,0,1)\">of</span> <span style=\"color: rgba(255,0,0,1)\">the</span> <span style=\"color: rgba(255,0,0,1)\">most</span> <span style=\"color: rgba(255,0,0,1)\">absurd</span><span style=\"color: rgba(255,0,0,1)\">,</span> <span style=\"color: rgba(255,0,0,1)\">and</span> <span style=\"color: rgba(255,0,0,1)\">the</span> <span style=\"color: rgba(255,0,0,1)\">word</span> <span style=\"color: rgba(255,0,0,1)\">of</span> <span style=\"color: rgba(255,0,0,1)\">the</span> <span style=\"color: rgba(255,0,0,1)\">absurd</span><span style=\"color: rgba(255,0,0,1)\">.</span> <span style=\"color: rgba(255,0,0,1)\">And</span> <span style=\"color: rgba(255,0,0,1)\">now</span><span style=\"color: rgba(255,0,0,1)\">,</span> <span style=\"color: rgba(255,0,0,1)\">in</span> <span style=\"color: rgba(255,0,0,1)\">all</span> <span style=\"color: rgba(255,0,0,1)\">the</span> <span style=\"color: rgba(255,0,0,1)\">world</span><span style=\"color: rgba(255,0,0,1)\">,</span> <span style=\"color: rgba(255,0,0,1)\">what</span> <span style=\"color: rgba(255,0,0,1)\">is</span> <span style=\"color: rgba(255,0,0,1)\">the</span> <span style=\"color: rgba(255,0,0,1)\">word</span> <span style=\"color: rgba(255,0,0,1)\">of</span> <span style=\"color: rgba(255,0,0,1)\">the</span>"
      ],
      "text/plain": [
       "<IPython.core.display.HTML object>"
      ]
     },
     "metadata": {},
     "output_type": "display_data"
    }
   ],
   "source": [
    "val_test=\"\"\"Madness enveloped his mind as . . . .\"\"\"\n",
    "display(predict_next_words(val_test, processor, tokenizer, model, max_seq_length=args.max_seq_length, n=300, T=.5, device=device))"
   ]
  },
  {
   "cell_type": "code",
   "execution_count": 47,
   "metadata": {},
   "outputs": [
    {
     "data": {
      "text/html": [
       "All at once, in a moment of realisation, he knew the secret to creating true artificial intelligence was to have been found in him. In the moment of this, he was already in the midst of the mysticism which had become his own. As he was in his own own way, he was in the midst of the world, and, in the midst of the vastness of the vastness of the universe, he was within the whole of the world. He knew that all that was in the world was in the midst of the vastness of the universe. He knew that, as it was, all was in a great space. And, as it was, he saw, that all that was in the world was in the midst of the vastness of the universe. And now, as he was, he was within the whole of the world. And, as he had told him, he knew that, as he knew, there was a great space <span style=\"color: rgba(255,0,0,1)\">and</span> <span style=\"color: rgba(255,0,0,1)\">that</span> <span style=\"color: rgba(255,0,0,1)\">all</span> <span style=\"color: rgba(255,0,0,1)\">in</span> <span style=\"color: rgba(255,0,0,1)\">the</span> <span style=\"color: rgba(255,0,0,1)\">same</span> <span style=\"color: rgba(255,0,0,1)\">time</span><span style=\"color: rgba(255,0,0,1)\">,</span> <span style=\"color: rgba(255,0,0,1)\">there</span> <span style=\"color: rgba(255,0,0,1)\">was</span> <span style=\"color: rgba(255,0,0,1)\">a</span> <span style=\"color: rgba(255,0,0,1)\">great</span> <span style=\"color: rgba(255,0,0,1)\">vast</span><span style=\"color: rgba(255,0,0,1)\">ness</span> <span style=\"color: rgba(255,0,0,1)\">of</span> <span style=\"color: rgba(255,0,0,1)\">the</span> <span style=\"color: rgba(255,0,0,1)\">world</span><span style=\"color: rgba(255,0,0,1)\">.</span> <span style=\"color: rgba(255,0,0,1)\">And</span><span style=\"color: rgba(255,0,0,1)\">,</span> <span style=\"color: rgba(255,0,0,1)\">as</span> <span style=\"color: rgba(255,0,0,1)\">he</span> <span style=\"color: rgba(255,0,0,1)\">did</span> <span style=\"color: rgba(255,0,0,1)\">so</span><span style=\"color: rgba(255,0,0,1)\">,</span> <span style=\"color: rgba(255,0,0,1)\">he</span> <span style=\"color: rgba(255,0,0,1)\">knew</span><span style=\"color: rgba(255,0,0,1)\">,</span> <span style=\"color: rgba(255,0,0,1)\">that</span> <span style=\"color: rgba(255,0,0,1)\">all</span> <span style=\"color: rgba(255,0,0,1)\">that</span> <span style=\"color: rgba(255,0,0,1)\">was</span> <span style=\"color: rgba(255,0,0,1)\">in</span> <span style=\"color: rgba(255,0,0,1)\">the</span> <span style=\"color: rgba(255,0,0,1)\">world</span> <span style=\"color: rgba(255,0,0,1)\">was</span> <span style=\"color: rgba(255,0,0,1)\">in</span> <span style=\"color: rgba(255,0,0,1)\">one</span> <span style=\"color: rgba(255,0,0,1)\">place</span><span style=\"color: rgba(255,0,0,1)\">.</span> <span style=\"color: rgba(255,0,0,1)\">And</span> <span style=\"color: rgba(255,0,0,1)\">now</span><span style=\"color: rgba(255,0,0,1)\">,</span> <span style=\"color: rgba(255,0,0,1)\">as</span> <span style=\"color: rgba(255,0,0,1)\">he</span> <span style=\"color: rgba(255,0,0,1)\">was</span><span style=\"color: rgba(255,0,0,1)\">,</span> <span style=\"color: rgba(255,0,0,1)\">he</span> <span style=\"color: rgba(255,0,0,1)\">saw</span><span style=\"color: rgba(255,0,0,1)\">,</span> <span style=\"color: rgba(255,0,0,1)\">that</span> <span style=\"color: rgba(255,0,0,1)\">all</span> <span style=\"color: rgba(255,0,0,1)\">that</span> <span style=\"color: rgba(255,0,0,1)\">was</span> <span style=\"color: rgba(255,0,0,1)\">in</span> <span style=\"color: rgba(255,0,0,1)\">the</span> <span style=\"color: rgba(255,0,0,1)\">world</span><span style=\"color: rgba(255,0,0,1)\">,</span> <span style=\"color: rgba(255,0,0,1)\">was</span> <span style=\"color: rgba(255,0,0,1)\">in</span> <span style=\"color: rgba(255,0,0,1)\">one</span> <span style=\"color: rgba(255,0,0,1)\">place</span><span style=\"color: rgba(255,0,0,1)\">.</span> <span style=\"color: rgba(255,0,0,1)\">And</span> <span style=\"color: rgba(255,0,0,1)\">so</span> <span style=\"color: rgba(255,0,0,1)\">had</span> <span style=\"color: rgba(255,0,0,1)\">he</span> <span style=\"color: rgba(255,0,0,1)\">to</span> <span style=\"color: rgba(255,0,0,1)\">be</span> <span style=\"color: rgba(255,0,0,1)\">convinced</span> <span style=\"color: rgba(255,0,0,1)\">that</span><span style=\"color: rgba(255,0,0,1)\">,</span> <span style=\"color: rgba(255,0,0,1)\">by</span> <span style=\"color: rgba(255,0,0,1)\">this</span> <span style=\"color: rgba(255,0,0,1)\">time</span><span style=\"color: rgba(255,0,0,1)\">,</span> <span style=\"color: rgba(255,0,0,1)\">this</span> <span style=\"color: rgba(255,0,0,1)\">time</span><span style=\"color: rgba(255,0,0,1)\">,</span> <span style=\"color: rgba(255,0,0,1)\">the</span> <span style=\"color: rgba(255,0,0,1)\">vast</span><span style=\"color: rgba(255,0,0,1)\">ness</span> <span style=\"color: rgba(255,0,0,1)\">had</span> <span style=\"color: rgba(255,0,0,1)\">been</span> <span style=\"color: rgba(255,0,0,1)\">in</span> <span style=\"color: rgba(255,0,0,1)\">one</span> <span style=\"color: rgba(255,0,0,1)\">place</span><span style=\"color: rgba(255,0,0,1)\">,</span> <span style=\"color: rgba(255,0,0,1)\">and</span> <span style=\"color: rgba(255,0,0,1)\">had</span> <span style=\"color: rgba(255,0,0,1)\">not</span> <span style=\"color: rgba(255,0,0,1)\">been</span> <span style=\"color: rgba(255,0,0,1)\">in</span> <span style=\"color: rgba(255,0,0,1)\">one</span><span style=\"color: rgba(255,0,0,1)\">,</span> <span style=\"color: rgba(255,0,0,1)\">until</span> <span style=\"color: rgba(255,0,0,1)\">he</span> <span style=\"color: rgba(255,0,0,1)\">had</span> <span style=\"color: rgba(255,0,0,1)\">had</span> <span style=\"color: rgba(255,0,0,1)\">his</span> <span style=\"color: rgba(255,0,0,1)\">end</span><span style=\"color: rgba(255,0,0,1)\">,</span> <span style=\"color: rgba(255,0,0,1)\">and</span> <span style=\"color: rgba(255,0,0,1)\">had</span> <span style=\"color: rgba(255,0,0,1)\">had</span> <span style=\"color: rgba(255,0,0,1)\">his</span> <span style=\"color: rgba(255,0,0,1)\">end</span><span style=\"color: rgba(255,0,0,1)\">,</span> <span style=\"color: rgba(255,0,0,1)\">and</span> <span style=\"color: rgba(255,0,0,1)\">had</span> <span style=\"color: rgba(255,0,0,1)\">had</span> <span style=\"color: rgba(255,0,0,1)\">his</span> <span style=\"color: rgba(255,0,0,1)\">end</span><span style=\"color: rgba(255,0,0,1)\">,</span> <span style=\"color: rgba(255,0,0,1)\">and</span> <span style=\"color: rgba(255,0,0,1)\">was</span> <span style=\"color: rgba(255,0,0,1)\">now</span> <span style=\"color: rgba(255,0,0,1)\">to</span> <span style=\"color: rgba(255,0,0,1)\">himself</span><span style=\"color: rgba(255,0,0,1)\">,</span> <span style=\"color: rgba(255,0,0,1)\">and</span> <span style=\"color: rgba(255,0,0,1)\">he</span> <span style=\"color: rgba(255,0,0,1)\">had</span> <span style=\"color: rgba(255,0,0,1)\">come</span>"
      ],
      "text/plain": [
       "<IPython.core.display.HTML object>"
      ]
     },
     "metadata": {},
     "output_type": "display_data"
    }
   ],
   "source": [
    "val_test=\"\"\"All at once, in a moment of realisation, he knew the secret to creating true artificial intelligence was . . . .\"\"\"\n",
    "display(predict_next_words(val_test, processor, tokenizer, model, max_seq_length=args.max_seq_length, n=300, T=.5, device=device))"
   ]
  },
  {
   "cell_type": "markdown",
   "metadata": {},
   "source": [
    "# TODO\n",
    "\n",
    "- show probability in next word logging. Record probability of each letter, then use them when displaying as html\n",
    "- try other ways of doing next word. E.g. going back and redoing, doing more than 1 at once\n",
    "- make the masked language generator often mask last word\n",
    "- should I be doing loss on just the masked words, or all? It's hard to tell from the tensorflow repo. This is marked with a TODO or FIXME in the code"
   ]
  },
  {
   "cell_type": "code",
   "execution_count": null,
   "metadata": {},
   "outputs": [],
   "source": []
  }
 ],
 "metadata": {
  "kernelspec": {
   "display_name": "Python [conda env:pytorch_p36]",
   "language": "python",
   "name": "conda-env-pytorch_p36-py"
  },
  "language_info": {
   "codemirror_mode": {
    "name": "ipython",
    "version": 3
   },
   "file_extension": ".py",
   "mimetype": "text/x-python",
   "name": "python",
   "nbconvert_exporter": "python",
   "pygments_lexer": "ipython3",
   "version": "3.6.5"
  },
  "notify_time": "5",
  "toc": {
   "colors": {
    "hover_highlight": "#DAA520",
    "navigate_num": "#000000",
    "navigate_text": "#333333",
    "running_highlight": "#FF0000",
    "selected_highlight": "#FFD700",
    "sidebar_border": "#EEEEEE",
    "wrapper_background": "#FFFFFF"
   },
   "moveMenuLeft": true,
   "nav_menu": {
    "height": "103px",
    "width": "251px"
   },
   "navigate_menu": true,
   "number_sections": true,
   "sideBar": true,
   "threshold": 4,
   "toc_cell": false,
   "toc_position": {
    "height": "536px",
    "left": "0px",
    "right": "1413.33px",
    "top": "150px",
    "width": "185px"
   },
   "toc_section_display": "block",
   "toc_window_display": true,
   "widenNotebook": false
  }
 },
 "nbformat": 4,
 "nbformat_minor": 2
}
