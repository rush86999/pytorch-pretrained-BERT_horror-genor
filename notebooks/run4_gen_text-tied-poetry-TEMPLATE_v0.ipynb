{
 "cells": [
  {
   "cell_type": "markdown",
   "metadata": {},
   "source": [
    "https://arxiv.org/pdf/1810.04805.pdf"
   ]
  },
  {
   "cell_type": "code",
   "execution_count": 1,
   "metadata": {
    "ExecuteTime": {
     "end_time": "2018-11-13T01:57:20.298165Z",
     "start_time": "2018-11-13T01:57:20.295510Z"
    }
   },
   "outputs": [],
   "source": [
    "import os\n",
    "os.sys.path.append('..')"
   ]
  },
  {
   "cell_type": "code",
   "execution_count": 2,
   "metadata": {
    "ExecuteTime": {
     "end_time": "2018-11-13T01:57:20.717216Z",
     "start_time": "2018-11-13T01:57:20.300367Z"
    }
   },
   "outputs": [],
   "source": [
    "%matplotlib inline\n",
    "%reload_ext autoreload\n",
    "%autoreload 2"
   ]
  },
  {
   "cell_type": "code",
   "execution_count": 3,
   "metadata": {
    "ExecuteTime": {
     "end_time": "2018-11-13T01:57:21.023628Z",
     "start_time": "2018-11-13T01:57:20.719286Z"
    }
   },
   "outputs": [],
   "source": [
    "from __future__ import absolute_import\n",
    "from __future__ import division\n",
    "from __future__ import print_function\n",
    "\n",
    "import argparse\n",
    "import collections\n",
    "import logging\n",
    "import json\n",
    "import math\n",
    "import os\n",
    "import random\n",
    "import six\n",
    "from tqdm import tqdm_notebook as tqdm\n",
    "from IPython.display import HTML, display\n",
    "\n",
    "import numpy as np\n",
    "import torch\n",
    "import torch.nn as nn\n",
    "import torch.nn.functional as F\n",
    "from torch.utils.data import TensorDataset, DataLoader, RandomSampler, SequentialSampler\n",
    "from torch.utils.data.distributed import DistributedSampler\n",
    "\n",
    "import tokenization\n",
    "from modeling import BertConfig, BertForMaskedLanguageModelling\n",
    "from optimization import BERTAdam\n",
    "from masked_language_model import notqdm, convert_tokens_to_features, LMProcessor, predict_masked_words, predict_next_words, improve_words_recursive\n"
   ]
  },
  {
   "cell_type": "code",
   "execution_count": 4,
   "metadata": {
    "ExecuteTime": {
     "end_time": "2018-11-13T01:57:21.047342Z",
     "start_time": "2018-11-13T01:57:21.026094Z"
    }
   },
   "outputs": [],
   "source": [
    "\n",
    "logging.basicConfig(format = '%(asctime)s - %(levelname)s - %(name)s -   %(message)s', \n",
    "                    datefmt = '%m/%d/%Y %H:%M:%S',\n",
    "                    level = logging.INFO)\n",
    "logger = logging.getLogger(__name__)"
   ]
  },
  {
   "cell_type": "code",
   "execution_count": null,
   "metadata": {
    "ExecuteTime": {
     "end_time": "2018-11-09T10:41:27.497266Z",
     "start_time": "2018-11-09T10:41:27.467141Z"
    }
   },
   "outputs": [],
   "source": []
  },
  {
   "cell_type": "markdown",
   "metadata": {},
   "source": [
    "# Args"
   ]
  },
  {
   "cell_type": "code",
   "execution_count": 14,
   "metadata": {
    "ExecuteTime": {
     "end_time": "2018-11-13T01:57:21.095286Z",
     "start_time": "2018-11-13T01:57:21.050225Z"
    }
   },
   "outputs": [
    {
     "data": {
      "text/plain": [
       "_StoreAction(option_strings=['--gradient_accumulation_steps'], dest='gradient_accumulation_steps', nargs=None, const=None, default=1, type=<class 'int'>, choices=None, help='Number of updates steps to accumualte before performing a backward/update pass.', metavar=None)"
      ]
     },
     "execution_count": 14,
     "metadata": {},
     "output_type": "execute_result"
    }
   ],
   "source": [
    "parser = argparse.ArgumentParser()\n",
    "\n",
    "## Required parameters\n",
    "parser.add_argument(\"--data_dir\",\n",
    "                    default=None,\n",
    "                    type=str,\n",
    "                    required=True,\n",
    "                    help=\"The input data dir. Should contain the .tsv files (or other data files) for the task.\")\n",
    "parser.add_argument(\"--bert_config_file\",\n",
    "                    default=None,\n",
    "                    type=str,\n",
    "                    required=True,\n",
    "                    help=\"The config json file corresponding to the pre-trained BERT model. \\n\"\n",
    "                         \"This specifies the model architecture.\")\n",
    "parser.add_argument(\"--task_name\",\n",
    "                    default=None,\n",
    "                    type=str,\n",
    "                    required=True,\n",
    "                    help=\"The name of the task to train.\")\n",
    "parser.add_argument(\"--vocab_file\",\n",
    "                    default=None,\n",
    "                    type=str,\n",
    "                    required=True,\n",
    "                    help=\"The vocabulary file that the BERT model was trained on.\")\n",
    "parser.add_argument(\"--output_dir\",\n",
    "                    default=None,\n",
    "                    type=str,\n",
    "                    required=True,\n",
    "                    help=\"The output directory where the model checkpoints will be written.\")\n",
    "\n",
    "## Other parameters\n",
    "parser.add_argument(\"--init_checkpoint\",\n",
    "                    default=None,\n",
    "                    type=str,\n",
    "                    help=\"Initial checkpoint (usually from a pre-trained BERT model).\")\n",
    "parser.add_argument(\"--do_lower_case\",\n",
    "                    default=False,\n",
    "                    action='store_true',\n",
    "                    help=\"Whether to lower case the input text. True for uncased models, False for cased models.\")\n",
    "parser.add_argument(\"--max_seq_length\",\n",
    "                    default=128,\n",
    "                    type=int,\n",
    "                    help=\"The maximum total input sequence length after WordPiece tokenization. \\n\"\n",
    "                         \"Sequences longer than this will be truncated, and sequences shorter \\n\"\n",
    "                         \"than this will be padded.\")\n",
    "parser.add_argument(\"--do_train\",\n",
    "                    default=False,\n",
    "                    action='store_true',\n",
    "                    help=\"Whether to run training.\")\n",
    "parser.add_argument(\"--do_eval\",\n",
    "                    default=False,\n",
    "                    action='store_true',\n",
    "                    help=\"Whether to run eval on the dev set.\")\n",
    "parser.add_argument(\"--train_batch_size\",\n",
    "                    default=32,\n",
    "                    type=int,\n",
    "                    help=\"Total batch size for training.\")\n",
    "parser.add_argument(\"--eval_batch_size\",\n",
    "                    default=8,\n",
    "                    type=int,\n",
    "                    help=\"Total batch size for eval.\")\n",
    "parser.add_argument(\"--learning_rate\",\n",
    "                    default=5e-5,\n",
    "                    type=float,\n",
    "                    help=\"The initial learning rate for Adam.\")\n",
    "parser.add_argument(\"--num_train_epochs\",\n",
    "                    default=3.0,\n",
    "                    type=float,\n",
    "                    help=\"Total number of training epochs to perform.\")\n",
    "parser.add_argument(\"--warmup_proportion\",\n",
    "                    default=0.1,\n",
    "                    type=float,\n",
    "                    help=\"Proportion of training to perform linear learning rate warmup for. \"\n",
    "                         \"E.g., 0.1 = 10%% of training.\")\n",
    "parser.add_argument(\"--no_cuda\",\n",
    "                    default=False,\n",
    "                    action='store_true',\n",
    "                    help=\"Whether not to use CUDA when available\")\n",
    "parser.add_argument(\"--local_rank\",\n",
    "                    type=int,\n",
    "                    default=-1,\n",
    "                    help=\"local_rank for distributed training on gpus\")\n",
    "parser.add_argument('--seed', \n",
    "                    type=int, \n",
    "                    default=42,\n",
    "                    help=\"random seed for initialization\")\n",
    "parser.add_argument('--gradient_accumulation_steps',\n",
    "                    type=int,\n",
    "                    default=1,\n",
    "                    help=\"Number of updates steps to accumualte before performing a backward/update pass.\") "
   ]
  },
  {
   "cell_type": "code",
   "execution_count": 15,
   "metadata": {
    "ExecuteTime": {
     "end_time": "2018-11-13T01:57:21.122886Z",
     "start_time": "2018-11-13T01:57:21.097485Z"
    }
   },
   "outputs": [
    {
     "name": "stdout",
     "output_type": "stream",
     "text": [
      "['--task_name', 'lm', '--data_dir', '../data/input/poetry_gutenberg', '--vocab_file', '../data/weights/cased_L-12_H-768_A-12/vocab.txt', '--bert_config_file', '../data/weights/cased_L-12_H-768_A-12/bert_config.json', '--init_checkpoint', '../data/weights/cased_L-12_H-768_A-12/pytorch_model.bin', '--do_train', '--do_eval', '--gradient_accumulation_steps', '2', '--train_batch_size', '16', '--learning_rate', '3e-5', '--num_train_epochs', '3.0', '--max_seq_length', '128', '--output_dir', '../outputs/poetry_uncased_5_tied_mlm/']\n"
     ]
    }
   ],
   "source": [
    "experiment_name = 'poetry_uncased_5_tied_mlm'\n",
    "\n",
    "argv = \"\"\"\n",
    "--task_name lm \\\n",
    "--data_dir {DATA_DIR} \\\n",
    "--vocab_file {BERT_BASE_DIR}/vocab.txt \\\n",
    "--bert_config_file {BERT_BASE_DIR}/bert_config.json \\\n",
    "--init_checkpoint {BERT_BASE_DIR}/pytorch_model.bin \\\n",
    "--do_train \\\n",
    "--do_eval \\\n",
    "--gradient_accumulation_steps 2 \\\n",
    "--train_batch_size 16 \\\n",
    "--learning_rate 3e-5 \\\n",
    "--num_train_epochs 3.0 \\\n",
    "--max_seq_length 128 \\\n",
    "--output_dir ../outputs/{name}/\n",
    "\"\"\".format(\n",
    "    BERT_BASE_DIR='../data/weights/cased_L-12_H-768_A-12',\n",
    "    DATA_DIR='../data/input/poetry_gutenberg',\n",
    "    name=experiment_name\n",
    ").replace('\\n', '').split(' ')\n",
    "print(argv)\n",
    "args = parser.parse_args(argv)"
   ]
  },
  {
   "cell_type": "code",
   "execution_count": null,
   "metadata": {
    "ExecuteTime": {
     "end_time": "2018-11-09T15:26:30.278170Z",
     "start_time": "2018-11-09T15:26:30.248424Z"
    }
   },
   "outputs": [],
   "source": []
  },
  {
   "cell_type": "markdown",
   "metadata": {},
   "source": [
    "# Init"
   ]
  },
  {
   "cell_type": "code",
   "execution_count": 16,
   "metadata": {
    "ExecuteTime": {
     "end_time": "2018-11-13T01:57:21.195298Z",
     "start_time": "2018-11-13T01:57:21.125084Z"
    }
   },
   "outputs": [
    {
     "name": "stderr",
     "output_type": "stream",
     "text": [
      "12/21/2018 04:25:53 - INFO - __main__ -   device cpu n_gpu 0 distributed training False\n"
     ]
    }
   ],
   "source": [
    "if args.local_rank == -1 or args.no_cuda:\n",
    "    device = torch.device(\"cuda\" if torch.cuda.is_available() and not args.no_cuda else \"cpu\")\n",
    "    n_gpu = torch.cuda.device_count()\n",
    "else:\n",
    "    device = torch.device(\"cuda\", args.local_rank)\n",
    "    n_gpu = 1\n",
    "    # Initializes the distributed backend which will take care of sychronizing nodes/GPUs\n",
    "    torch.distributed.init_process_group(backend='nccl')\n",
    "logger.info(\"device %s n_gpu %d distributed training %r\", device, n_gpu, bool(args.local_rank != -1))\n",
    "\n",
    "if args.gradient_accumulation_steps < 1:\n",
    "    raise ValueError(\"Invalid gradient_accumulation_steps parameter: {}, should be >= 1\".format(\n",
    "                        args.gradient_accumulation_steps))\n",
    "\n",
    "args.train_batch_size = int(args.train_batch_size / args.gradient_accumulation_steps)\n",
    "\n",
    "random.seed(args.seed)\n",
    "np.random.seed(args.seed)\n",
    "torch.manual_seed(args.seed)\n",
    "if n_gpu > 0:\n",
    "    torch.cuda.manual_seed_all(args.seed)\n",
    "\n",
    "if not args.do_train and not args.do_eval:\n",
    "    raise ValueError(\"At least one of `do_train` or `do_eval` must be True.\")"
   ]
  },
  {
   "cell_type": "code",
   "execution_count": 17,
   "metadata": {
    "ExecuteTime": {
     "end_time": "2018-11-13T01:57:21.224410Z",
     "start_time": "2018-11-13T01:57:21.198912Z"
    }
   },
   "outputs": [],
   "source": [
    "bert_config = BertConfig.from_json_file(args.bert_config_file)\n",
    "\n",
    "if args.max_seq_length > bert_config.max_position_embeddings:\n",
    "    raise ValueError(\n",
    "        \"Cannot use sequence length {} because the BERT model was only trained up to sequence length {}\".format(\n",
    "        args.max_seq_length, bert_config.max_position_embeddings))"
   ]
  },
  {
   "cell_type": "code",
   "execution_count": 18,
   "metadata": {
    "ExecuteTime": {
     "end_time": "2018-11-13T01:57:21.253227Z",
     "start_time": "2018-11-13T01:57:21.226818Z"
    }
   },
   "outputs": [
    {
     "name": "stdout",
     "output_type": "stream",
     "text": [
      "Output directory (../outputs/poetry_uncased_5_tied_mlm/) already exists and is not empty.\n"
     ]
    },
    {
     "data": {
      "text/plain": [
       "'../outputs/poetry_uncased_5_tied_mlm/state_dict.pkl'"
      ]
     },
     "execution_count": 18,
     "metadata": {},
     "output_type": "execute_result"
    }
   ],
   "source": [
    "if os.path.exists(args.output_dir) and os.listdir(args.output_dir):\n",
    "    print(\"Output directory ({}) already exists and is not empty.\".format(args.output_dir))\n",
    "os.makedirs(args.output_dir, exist_ok=True)\n",
    "save_path = os.path.join(args.output_dir, 'state_dict.pkl')\n",
    "save_path"
   ]
  },
  {
   "cell_type": "markdown",
   "metadata": {},
   "source": [
    "# Load data"
   ]
  },
  {
   "cell_type": "code",
   "execution_count": 19,
   "metadata": {
    "ExecuteTime": {
     "end_time": "2018-11-13T01:57:21.326146Z",
     "start_time": "2018-11-13T01:57:21.255600Z"
    }
   },
   "outputs": [],
   "source": [
    "tokenizer = tokenization.FullTokenizer(\n",
    "    vocab_file=args.vocab_file, do_lower_case=args.do_lower_case)\n",
    "\n",
    "decoder = {v:k for k,v in tokenizer.wordpiece_tokenizer.vocab.items()}"
   ]
  },
  {
   "cell_type": "code",
   "execution_count": 20,
   "metadata": {
    "ExecuteTime": {
     "end_time": "2018-11-13T01:57:21.355098Z",
     "start_time": "2018-11-13T01:57:21.328899Z"
    }
   },
   "outputs": [],
   "source": [
    "processors = {\n",
    "        \"lm\": LMProcessor,\n",
    "}\n",
    "    \n",
    "task_name = args.task_name.lower()\n",
    "if task_name not in processors:\n",
    "        raise ValueError(\"Task not found: %s\" % (task_name))\n",
    "\n",
    "processor = processors[task_name](tokenizer=tokenizer)\n",
    "label_list = processor.get_labels()"
   ]
  },
  {
   "cell_type": "code",
   "execution_count": null,
   "metadata": {
    "ExecuteTime": {
     "end_time": "2018-11-10T06:50:42.333283Z",
     "start_time": "2018-11-10T06:50:42.311379Z"
    }
   },
   "outputs": [],
   "source": []
  },
  {
   "cell_type": "markdown",
   "metadata": {},
   "source": [
    "# Load model"
   ]
  },
  {
   "cell_type": "code",
   "execution_count": null,
   "metadata": {
    "ExecuteTime": {
     "end_time": "2018-11-10T07:13:01.317704Z",
     "start_time": "2018-11-10T07:13:00.880718Z"
    }
   },
   "outputs": [],
   "source": []
  },
  {
   "cell_type": "code",
   "execution_count": 21,
   "metadata": {
    "ExecuteTime": {
     "end_time": "2018-11-13T01:58:55.806611Z",
     "start_time": "2018-11-13T01:58:49.835295Z"
    }
   },
   "outputs": [
    {
     "data": {
      "text/plain": [
       "BertForMaskedLanguageModelling(\n",
       "  (bert): BertModel(\n",
       "    (embeddings): BERTEmbeddings(\n",
       "      (word_embeddings): Embedding(28996, 768)\n",
       "      (position_embeddings): Embedding(512, 768)\n",
       "      (token_type_embeddings): Embedding(2, 768)\n",
       "      (LayerNorm): BERTLayerNorm()\n",
       "      (dropout): Dropout(p=0.1)\n",
       "    )\n",
       "    (encoder): BERTEncoder(\n",
       "      (layer): ModuleList(\n",
       "        (0): BERTLayer(\n",
       "          (attention): BERTAttention(\n",
       "            (self): BERTSelfAttention(\n",
       "              (query): Linear(in_features=768, out_features=768, bias=True)\n",
       "              (key): Linear(in_features=768, out_features=768, bias=True)\n",
       "              (value): Linear(in_features=768, out_features=768, bias=True)\n",
       "              (dropout): Dropout(p=0.1)\n",
       "            )\n",
       "            (output): BERTSelfOutput(\n",
       "              (dense): Linear(in_features=768, out_features=768, bias=True)\n",
       "              (LayerNorm): BERTLayerNorm()\n",
       "              (dropout): Dropout(p=0.1)\n",
       "            )\n",
       "          )\n",
       "          (intermediate): BERTIntermediate(\n",
       "            (dense): Linear(in_features=768, out_features=3072, bias=True)\n",
       "          )\n",
       "          (output): BERTOutput(\n",
       "            (dense): Linear(in_features=3072, out_features=768, bias=True)\n",
       "            (LayerNorm): BERTLayerNorm()\n",
       "            (dropout): Dropout(p=0.1)\n",
       "          )\n",
       "        )\n",
       "        (1): BERTLayer(\n",
       "          (attention): BERTAttention(\n",
       "            (self): BERTSelfAttention(\n",
       "              (query): Linear(in_features=768, out_features=768, bias=True)\n",
       "              (key): Linear(in_features=768, out_features=768, bias=True)\n",
       "              (value): Linear(in_features=768, out_features=768, bias=True)\n",
       "              (dropout): Dropout(p=0.1)\n",
       "            )\n",
       "            (output): BERTSelfOutput(\n",
       "              (dense): Linear(in_features=768, out_features=768, bias=True)\n",
       "              (LayerNorm): BERTLayerNorm()\n",
       "              (dropout): Dropout(p=0.1)\n",
       "            )\n",
       "          )\n",
       "          (intermediate): BERTIntermediate(\n",
       "            (dense): Linear(in_features=768, out_features=3072, bias=True)\n",
       "          )\n",
       "          (output): BERTOutput(\n",
       "            (dense): Linear(in_features=3072, out_features=768, bias=True)\n",
       "            (LayerNorm): BERTLayerNorm()\n",
       "            (dropout): Dropout(p=0.1)\n",
       "          )\n",
       "        )\n",
       "        (2): BERTLayer(\n",
       "          (attention): BERTAttention(\n",
       "            (self): BERTSelfAttention(\n",
       "              (query): Linear(in_features=768, out_features=768, bias=True)\n",
       "              (key): Linear(in_features=768, out_features=768, bias=True)\n",
       "              (value): Linear(in_features=768, out_features=768, bias=True)\n",
       "              (dropout): Dropout(p=0.1)\n",
       "            )\n",
       "            (output): BERTSelfOutput(\n",
       "              (dense): Linear(in_features=768, out_features=768, bias=True)\n",
       "              (LayerNorm): BERTLayerNorm()\n",
       "              (dropout): Dropout(p=0.1)\n",
       "            )\n",
       "          )\n",
       "          (intermediate): BERTIntermediate(\n",
       "            (dense): Linear(in_features=768, out_features=3072, bias=True)\n",
       "          )\n",
       "          (output): BERTOutput(\n",
       "            (dense): Linear(in_features=3072, out_features=768, bias=True)\n",
       "            (LayerNorm): BERTLayerNorm()\n",
       "            (dropout): Dropout(p=0.1)\n",
       "          )\n",
       "        )\n",
       "        (3): BERTLayer(\n",
       "          (attention): BERTAttention(\n",
       "            (self): BERTSelfAttention(\n",
       "              (query): Linear(in_features=768, out_features=768, bias=True)\n",
       "              (key): Linear(in_features=768, out_features=768, bias=True)\n",
       "              (value): Linear(in_features=768, out_features=768, bias=True)\n",
       "              (dropout): Dropout(p=0.1)\n",
       "            )\n",
       "            (output): BERTSelfOutput(\n",
       "              (dense): Linear(in_features=768, out_features=768, bias=True)\n",
       "              (LayerNorm): BERTLayerNorm()\n",
       "              (dropout): Dropout(p=0.1)\n",
       "            )\n",
       "          )\n",
       "          (intermediate): BERTIntermediate(\n",
       "            (dense): Linear(in_features=768, out_features=3072, bias=True)\n",
       "          )\n",
       "          (output): BERTOutput(\n",
       "            (dense): Linear(in_features=3072, out_features=768, bias=True)\n",
       "            (LayerNorm): BERTLayerNorm()\n",
       "            (dropout): Dropout(p=0.1)\n",
       "          )\n",
       "        )\n",
       "        (4): BERTLayer(\n",
       "          (attention): BERTAttention(\n",
       "            (self): BERTSelfAttention(\n",
       "              (query): Linear(in_features=768, out_features=768, bias=True)\n",
       "              (key): Linear(in_features=768, out_features=768, bias=True)\n",
       "              (value): Linear(in_features=768, out_features=768, bias=True)\n",
       "              (dropout): Dropout(p=0.1)\n",
       "            )\n",
       "            (output): BERTSelfOutput(\n",
       "              (dense): Linear(in_features=768, out_features=768, bias=True)\n",
       "              (LayerNorm): BERTLayerNorm()\n",
       "              (dropout): Dropout(p=0.1)\n",
       "            )\n",
       "          )\n",
       "          (intermediate): BERTIntermediate(\n",
       "            (dense): Linear(in_features=768, out_features=3072, bias=True)\n",
       "          )\n",
       "          (output): BERTOutput(\n",
       "            (dense): Linear(in_features=3072, out_features=768, bias=True)\n",
       "            (LayerNorm): BERTLayerNorm()\n",
       "            (dropout): Dropout(p=0.1)\n",
       "          )\n",
       "        )\n",
       "        (5): BERTLayer(\n",
       "          (attention): BERTAttention(\n",
       "            (self): BERTSelfAttention(\n",
       "              (query): Linear(in_features=768, out_features=768, bias=True)\n",
       "              (key): Linear(in_features=768, out_features=768, bias=True)\n",
       "              (value): Linear(in_features=768, out_features=768, bias=True)\n",
       "              (dropout): Dropout(p=0.1)\n",
       "            )\n",
       "            (output): BERTSelfOutput(\n",
       "              (dense): Linear(in_features=768, out_features=768, bias=True)\n",
       "              (LayerNorm): BERTLayerNorm()\n",
       "              (dropout): Dropout(p=0.1)\n",
       "            )\n",
       "          )\n",
       "          (intermediate): BERTIntermediate(\n",
       "            (dense): Linear(in_features=768, out_features=3072, bias=True)\n",
       "          )\n",
       "          (output): BERTOutput(\n",
       "            (dense): Linear(in_features=3072, out_features=768, bias=True)\n",
       "            (LayerNorm): BERTLayerNorm()\n",
       "            (dropout): Dropout(p=0.1)\n",
       "          )\n",
       "        )\n",
       "        (6): BERTLayer(\n",
       "          (attention): BERTAttention(\n",
       "            (self): BERTSelfAttention(\n",
       "              (query): Linear(in_features=768, out_features=768, bias=True)\n",
       "              (key): Linear(in_features=768, out_features=768, bias=True)\n",
       "              (value): Linear(in_features=768, out_features=768, bias=True)\n",
       "              (dropout): Dropout(p=0.1)\n",
       "            )\n",
       "            (output): BERTSelfOutput(\n",
       "              (dense): Linear(in_features=768, out_features=768, bias=True)\n",
       "              (LayerNorm): BERTLayerNorm()\n",
       "              (dropout): Dropout(p=0.1)\n",
       "            )\n",
       "          )\n",
       "          (intermediate): BERTIntermediate(\n",
       "            (dense): Linear(in_features=768, out_features=3072, bias=True)\n",
       "          )\n",
       "          (output): BERTOutput(\n",
       "            (dense): Linear(in_features=3072, out_features=768, bias=True)\n",
       "            (LayerNorm): BERTLayerNorm()\n",
       "            (dropout): Dropout(p=0.1)\n",
       "          )\n",
       "        )\n",
       "        (7): BERTLayer(\n",
       "          (attention): BERTAttention(\n",
       "            (self): BERTSelfAttention(\n",
       "              (query): Linear(in_features=768, out_features=768, bias=True)\n",
       "              (key): Linear(in_features=768, out_features=768, bias=True)\n",
       "              (value): Linear(in_features=768, out_features=768, bias=True)\n",
       "              (dropout): Dropout(p=0.1)\n",
       "            )\n",
       "            (output): BERTSelfOutput(\n",
       "              (dense): Linear(in_features=768, out_features=768, bias=True)\n",
       "              (LayerNorm): BERTLayerNorm()\n",
       "              (dropout): Dropout(p=0.1)\n",
       "            )\n",
       "          )\n",
       "          (intermediate): BERTIntermediate(\n",
       "            (dense): Linear(in_features=768, out_features=3072, bias=True)\n",
       "          )\n",
       "          (output): BERTOutput(\n",
       "            (dense): Linear(in_features=3072, out_features=768, bias=True)\n",
       "            (LayerNorm): BERTLayerNorm()\n",
       "            (dropout): Dropout(p=0.1)\n",
       "          )\n",
       "        )\n",
       "        (8): BERTLayer(\n",
       "          (attention): BERTAttention(\n",
       "            (self): BERTSelfAttention(\n",
       "              (query): Linear(in_features=768, out_features=768, bias=True)\n",
       "              (key): Linear(in_features=768, out_features=768, bias=True)\n",
       "              (value): Linear(in_features=768, out_features=768, bias=True)\n",
       "              (dropout): Dropout(p=0.1)\n",
       "            )\n",
       "            (output): BERTSelfOutput(\n",
       "              (dense): Linear(in_features=768, out_features=768, bias=True)\n",
       "              (LayerNorm): BERTLayerNorm()\n",
       "              (dropout): Dropout(p=0.1)\n",
       "            )\n",
       "          )\n",
       "          (intermediate): BERTIntermediate(\n",
       "            (dense): Linear(in_features=768, out_features=3072, bias=True)\n",
       "          )\n",
       "          (output): BERTOutput(\n",
       "            (dense): Linear(in_features=3072, out_features=768, bias=True)\n",
       "            (LayerNorm): BERTLayerNorm()\n",
       "            (dropout): Dropout(p=0.1)\n",
       "          )\n",
       "        )\n",
       "        (9): BERTLayer(\n",
       "          (attention): BERTAttention(\n",
       "            (self): BERTSelfAttention(\n",
       "              (query): Linear(in_features=768, out_features=768, bias=True)\n",
       "              (key): Linear(in_features=768, out_features=768, bias=True)\n",
       "              (value): Linear(in_features=768, out_features=768, bias=True)\n",
       "              (dropout): Dropout(p=0.1)\n",
       "            )\n",
       "            (output): BERTSelfOutput(\n",
       "              (dense): Linear(in_features=768, out_features=768, bias=True)\n",
       "              (LayerNorm): BERTLayerNorm()\n",
       "              (dropout): Dropout(p=0.1)\n",
       "            )\n",
       "          )\n",
       "          (intermediate): BERTIntermediate(\n",
       "            (dense): Linear(in_features=768, out_features=3072, bias=True)\n",
       "          )\n",
       "          (output): BERTOutput(\n",
       "            (dense): Linear(in_features=3072, out_features=768, bias=True)\n",
       "            (LayerNorm): BERTLayerNorm()\n",
       "            (dropout): Dropout(p=0.1)\n",
       "          )\n",
       "        )\n",
       "        (10): BERTLayer(\n",
       "          (attention): BERTAttention(\n",
       "            (self): BERTSelfAttention(\n",
       "              (query): Linear(in_features=768, out_features=768, bias=True)\n",
       "              (key): Linear(in_features=768, out_features=768, bias=True)\n",
       "              (value): Linear(in_features=768, out_features=768, bias=True)\n",
       "              (dropout): Dropout(p=0.1)\n",
       "            )\n",
       "            (output): BERTSelfOutput(\n",
       "              (dense): Linear(in_features=768, out_features=768, bias=True)\n",
       "              (LayerNorm): BERTLayerNorm()\n",
       "              (dropout): Dropout(p=0.1)\n",
       "            )\n",
       "          )\n",
       "          (intermediate): BERTIntermediate(\n",
       "            (dense): Linear(in_features=768, out_features=3072, bias=True)\n",
       "          )\n",
       "          (output): BERTOutput(\n",
       "            (dense): Linear(in_features=3072, out_features=768, bias=True)\n",
       "            (LayerNorm): BERTLayerNorm()\n",
       "            (dropout): Dropout(p=0.1)\n",
       "          )\n",
       "        )\n",
       "        (11): BERTLayer(\n",
       "          (attention): BERTAttention(\n",
       "            (self): BERTSelfAttention(\n",
       "              (query): Linear(in_features=768, out_features=768, bias=True)\n",
       "              (key): Linear(in_features=768, out_features=768, bias=True)\n",
       "              (value): Linear(in_features=768, out_features=768, bias=True)\n",
       "              (dropout): Dropout(p=0.1)\n",
       "            )\n",
       "            (output): BERTSelfOutput(\n",
       "              (dense): Linear(in_features=768, out_features=768, bias=True)\n",
       "              (LayerNorm): BERTLayerNorm()\n",
       "              (dropout): Dropout(p=0.1)\n",
       "            )\n",
       "          )\n",
       "          (intermediate): BERTIntermediate(\n",
       "            (dense): Linear(in_features=768, out_features=3072, bias=True)\n",
       "          )\n",
       "          (output): BERTOutput(\n",
       "            (dense): Linear(in_features=3072, out_features=768, bias=True)\n",
       "            (LayerNorm): BERTLayerNorm()\n",
       "            (dropout): Dropout(p=0.1)\n",
       "          )\n",
       "        )\n",
       "      )\n",
       "    )\n",
       "    (pooler): BERTPooler(\n",
       "      (dense): Linear(in_features=768, out_features=768, bias=True)\n",
       "      (activation): Tanh()\n",
       "    )\n",
       "  )\n",
       "  (dropout): Dropout(p=0.1)\n",
       "  (dense): Linear(in_features=768, out_features=768, bias=True)\n",
       "  (LayerNorm): BERTLayerNorm()\n",
       "  (word_decode): Linear(in_features=768, out_features=28996, bias=True)\n",
       ")"
      ]
     },
     "execution_count": 21,
     "metadata": {},
     "output_type": "execute_result"
    }
   ],
   "source": [
    "model = BertForMaskedLanguageModelling(bert_config)\n",
    "if args.init_checkpoint is not None:\n",
    "    model.bert.load_state_dict(torch.load(args.init_checkpoint, map_location='cpu'))\n",
    "    \n",
    "if os.path.isfile(save_path):\n",
    "    model.load_state_dict(torch.load(save_path, map_location='cpu'))\n",
    "    \n",
    "model.to(device)\n",
    "\n",
    "if args.local_rank != -1:\n",
    "    model = torch.nn.parallel.DistributedDataParallel(model, device_ids=[args.local_rank],\n",
    "                                                      output_device=args.local_rank)\n",
    "elif n_gpu > 1:\n",
    "    model = torch.nn.DataParallel(model)\n",
    "    \n",
    "model"
   ]
  },
  {
   "cell_type": "code",
   "execution_count": null,
   "metadata": {},
   "outputs": [],
   "source": []
  },
  {
   "cell_type": "markdown",
   "metadata": {},
   "source": [
    "# Generate here"
   ]
  },
  {
   "cell_type": "code",
   "execution_count": 64,
   "metadata": {
    "scrolled": true
   },
   "outputs": [
    {
     "data": {
      "text/html": [
       "\" Roses are red, my <span style=\"color: rgba(0,0,255,1)\">love</span> Violets are blue Sugar is sweet, my love But not as sweet as you \" We dated through high <span style=\"color: rgba(0,0,255,1)\">school</span> And when the big day came I wrote into your book Next to my name \" Roses are red, my love Violets are blue Sugar is sweet, my love But not as sweet as you \" ( as sweet as you ) Then I went far away And you found someone <span style=\"color: rgba(0,0,255,1)\">new</span> I read your letter, dear And I wrote back to you \" Roses are red<span style=\"color: rgba(0,0,255,1)\">,</span> my love Violets are blue Sugar is sweet, my love Good luck, may god <span style=\"color: rgba(0,0,255,1)\">b</span><span style=\"color: rgba(0,0,255,1)\">less</span> you \" ( may <span style=\"color: rgba(0,0,255,1)\">god</span> bless you ) Is that your little <span style=\"color: rgba(0,0,255,1)\">girl</span>? She looks a lot like you Someday some boy will <span style=\"color: rgba(0,0,255,1)\">write</span>"
      ],
      "text/plain": [
       "<IPython.core.display.HTML object>"
      ]
     },
     "metadata": {},
     "output_type": "display_data"
    },
    {
     "data": {
      "text/html": [
       "\" Roses are red, my <span style=\"color: rgba(255,0,0,0.9916205406188965)\">love</span> Violets are blue Sugar is sweet, my love But not as sweet as you \" We dated through high <span style=\"color: rgba(255,0,0,0.5566981434822083)\">school</span> And when the big day came I wrote into your book Next to my name \" Roses are red, my love Violets are blue Sugar is sweet, my love But not as sweet as you \" ( as sweet as you ) Then I went far away And you found someone<span style=\"color: rgba(255,0,0,0.765558123588562)\">.</span> I read your letter, dear And I wrote back to you \" Roses are red<span style=\"color: rgba(255,0,0,0.9999732971191406)\">,</span> my love Violets are blue Sugar is sweet, my love Good luck, may god <span style=\"color: rgba(255,0,0,0.966163694858551)\">b</span><span style=\"color: rgba(255,0,0,0.5719319581985474)\">less</span> you \" ( may <span style=\"color: rgba(255,0,0,0.9533013105392456)\">God</span> bless you ) Is that your little <span style=\"color: rgba(255,0,0,0.562397837638855)\">maid</span>? She looks a lot like you Someday some boy will <span style=\"color: rgba(255,0,0,0.5786865949630737)\">rise</span> In"
      ],
      "text/plain": [
       "<IPython.core.display.HTML object>"
      ]
     },
     "metadata": {},
     "output_type": "display_data"
    },
    {
     "data": {
      "text/html": [
       "\" Roses are red, my love Violets are blue <span style=\"color: rgba(0,0,255,1)\">Sugar</span> is sweet, my love But not as sweet as you <span style=\"color: rgba(0,0,255,1)\">\"</span> We dated through high <span style=\"color: rgba(0,0,255,1)\">heaven</span> And when the big day came I wrote into your book Next to my name \" Roses are red, my love Violets are <span style=\"color: rgba(0,0,255,1)\">blue</span> <span style=\"color: rgba(0,0,255,1)\">Sugar</span> is sweet, my love But not <span style=\"color: rgba(0,0,255,1)\">as</span> sweet as you \" ( as sweet <span style=\"color: rgba(0,0,255,1)\">as</span> you ) Then I went far away <span style=\"color: rgba(0,0,255,1)\">And</span> you found <span style=\"color: rgba(0,0,255,1)\">someone</span>. I read your <span style=\"color: rgba(0,0,255,1)\">letter</span>, dear And I wrote back <span style=\"color: rgba(0,0,255,1)\">to</span> you \" Roses are red, my love Violet<span style=\"color: rgba(0,0,255,1)\">s</span> are blue <span style=\"color: rgba(0,0,255,1)\">Sugar</span> is sweet, my love Good luck, may god <span style=\"color: rgba(0,0,255,1)\">fix</span> <span style=\"color: rgba(0,0,255,1)\">with</span> you \" ( may God bless you ) Is that your little <span style=\"color: rgba(0,0,255,1)\">waist</span>? She looks a lot like you Someday some boy will <span style=\"color: rgba(0,0,255,1)\">come</span>"
      ],
      "text/plain": [
       "<IPython.core.display.HTML object>"
      ]
     },
     "metadata": {},
     "output_type": "display_data"
    },
    {
     "data": {
      "text/html": [
       "\" Roses are red, my love Violets are blue<span style=\"color: rgba(255,0,0,0.7188733816146851)\">,</span> is sweet, my love But not as sweet as you <span style=\"color: rgba(255,0,0,0.8036884665489197)\">)</span> We dated through high <span style=\"color: rgba(255,0,0,0.6420447826385498)\">years</span> And when the big day came I wrote into your book Next to my name \" Roses are red, my love Violets are <span style=\"color: rgba(255,0,0,0.8679153919219971)\">blue</span> <span style=\"color: rgba(255,0,0,0.5556895732879639)\">flowers</span> is sweet, my love But not <span style=\"color: rgba(255,0,0,0.943098783493042)\">as</span> sweet as you \" ( as sweet <span style=\"color: rgba(255,0,0,0.998026967048645)\">as</span> you ) Then I went far away <span style=\"color: rgba(255,0,0,0.8237810134887695)\">and</span> you found <span style=\"color: rgba(255,0,0,0.9615846276283264)\">me</span>. I read your <span style=\"color: rgba(255,0,0,0.9653255939483643)\">book</span>, dear And I wrote back <span style=\"color: rgba(255,0,0,0.9139156937599182)\">for</span> you \" Roses are red, my love Violet<span style=\"color: rgba(255,0,0,0.9999561309814453)\">s</span> are blue<span style=\"color: rgba(255,0,0,0.6099953651428223)\">,</span> is sweet, my love Good luck, may god <span style=\"color: rgba(255,0,0,0.6169509887695312)\">b</span> <span style=\"color: rgba(255,0,0,0.6210410594940186)\">see</span> you \" ( may God bless you ) Is that your little <span style=\"color: rgba(255,0,0,0.8489740490913391)\">one</span>? She looks a lot like you Someday some boy will <span style=\"color: rgba(255,0,0,0.5927497744560242)\">see</span> In"
      ],
      "text/plain": [
       "<IPython.core.display.HTML object>"
      ]
     },
     "metadata": {},
     "output_type": "display_data"
    },
    {
     "data": {
      "text/html": [
       "\" <span style=\"color: rgba(0,0,255,1)\">Roses</span> are red, my love Violets are <span style=\"color: rgba(0,0,255,1)\">blue</span> <span style=\"color: rgba(0,0,255,1)\">Love</span> is sweet, <span style=\"color: rgba(0,0,255,1)\">my</span> love But not as sweet as you ) We dated through high <span style=\"color: rgba(0,0,255,1)\">ages</span> And when the <span style=\"color: rgba(0,0,255,1)\">big</span> day came I wrote into your book Next to my name \" Roses are red, my love Violets are blue <span style=\"color: rgba(0,0,255,1)\">love</span> is sweet, my love But not as sweet as you \" ( as sweet as you ) Then <span style=\"color: rgba(0,0,255,1)\">I</span> went far away And <span style=\"color: rgba(0,0,255,1)\">you</span> found me. I read your book, dear And <span style=\"color: rgba(0,0,255,1)\">I</span> <span style=\"color: rgba(0,0,255,1)\">wrote</span> back for you \" Roses are red, my love Violets are blue <span style=\"color: rgba(0,0,255,1)\">which</span> is sweet, my love Good luck, may <span style=\"color: rgba(0,0,255,1)\">god</span><span style=\"color: rgba(0,0,255,1)\">'</span><span style=\"color: rgba(0,0,255,1)\">catch</span> you \" ( may God bless you ) Is that your little <span style=\"color: rgba(0,0,255,1)\">sister</span>? She looks a lot like you <span style=\"color: rgba(0,0,255,1)\">Some</span>day some boy will come"
      ],
      "text/plain": [
       "<IPython.core.display.HTML object>"
      ]
     },
     "metadata": {},
     "output_type": "display_data"
    },
    {
     "data": {
      "text/html": [
       "\" <span style=\"color: rgba(255,0,0,0.9848644137382507)\">Roses</span> are red, my love Violets are <span style=\"color: rgba(255,0,0,0.9890280961990356)\">blue</span><span style=\"color: rgba(255,0,0,0.6265864372253418)\">,</span> is sweet, <span style=\"color: rgba(255,0,0,0.9982701539993286)\">my</span> love But not as sweet as you ) We dated through high <span style=\"color: rgba(255,0,0,0.7721877098083496)\">school</span> And when the <span style=\"color: rgba(255,0,0,0.6243157386779785)\">second</span> day came I wrote into your book Next to my name \" Roses are red, my love Violets are blue <span style=\"color: rgba(255,0,0,0.57391357421875)\">It</span> is sweet, my love But not as sweet as you \" ( as sweet as you ) Then <span style=\"color: rgba(255,0,0,0.8061426877975464)\">you</span> went far away And <span style=\"color: rgba(255,0,0,0.7624335289001465)\">you</span> found me. I read your book, dear And <span style=\"color: rgba(255,0,0,0.8304073810577393)\">I</span> <span style=\"color: rgba(255,0,0,0.6786767244338989)\">come</span> back for you \" Roses are red, my love Violets are blue<span style=\"color: rgba(255,0,0,0.5882825255393982)\">,</span> is sweet, my love Good luck, may <span style=\"color: rgba(255,0,0,0.9344912171363831)\">God</span> <span style=\"color: rgba(255,0,0,0.8033581972122192)\">b</span> <span style=\"color: rgba(255,0,0,0.7219619154930115)\">to</span> you \" ( may God bless you ) Is that your little <span style=\"color: rgba(255,0,0,0.6231532692909241)\">one</span>? She looks a lot like you <span style=\"color: rgba(255,0,0,0.5986188054084778)\">Some</span>day some boy will come In"
      ],
      "text/plain": [
       "<IPython.core.display.HTML object>"
      ]
     },
     "metadata": {},
     "output_type": "display_data"
    },
    {
     "data": {
      "text/html": [
       "\" Roses are <span style=\"color: rgba(0,0,255,1)\">red</span>, my love <span style=\"color: rgba(0,0,255,1)\">Violet</span>s are <span style=\"color: rgba(0,0,255,1)\">blue</span> <span style=\"color: rgba(0,0,255,1)\">water</span> is sweet, my love But not as sweet as you ) We dated through high school And when the <span style=\"color: rgba(0,0,255,1)\">September</span> <span style=\"color: rgba(0,0,255,1)\">day</span> came I wrote into your book Next to my name \" Roses are red, <span style=\"color: rgba(0,0,255,1)\">my</span> love <span style=\"color: rgba(0,0,255,1)\">Violet</span>s are blue <span style=\"color: rgba(0,0,255,1)\">She</span> is sweet, my love But not as sweet as you \" ( as sweet as you ) Then you went far away And <span style=\"color: rgba(0,0,255,1)\">Dead</span> found me. <span style=\"color: rgba(0,0,255,1)\">I</span> read your book, <span style=\"color: rgba(0,0,255,1)\">dear</span> And <span style=\"color: rgba(0,0,255,1)\">will</span> <span style=\"color: rgba(0,0,255,1)\">went</span> back for you \" Roses are red, my love Violets are blue, is sweet, my love Good luck, may God b to you \" ( may God bless you ) Is <span style=\"color: rgba(0,0,255,1)\">that</span> your little one? She looks a lot like you<span style=\"color: rgba(0,0,255,1)\">ma</span><span style=\"color: rgba(0,0,255,1)\">day</span> some boy will come"
      ],
      "text/plain": [
       "<IPython.core.display.HTML object>"
      ]
     },
     "metadata": {},
     "output_type": "display_data"
    },
    {
     "data": {
      "text/html": [
       "\" Roses are <span style=\"color: rgba(255,0,0,0.9401431083679199)\">red</span>, my love <span style=\"color: rgba(255,0,0,0.9638457298278809)\">Violet</span>s are <span style=\"color: rgba(255,0,0,0.7266125082969666)\">blue</span><span style=\"color: rgba(255,0,0,0.920468807220459)\">,</span> is sweet, my love But not as sweet as you ) We dated through high school And when the <span style=\"color: rgba(255,0,0,0.5805304646492004)\">first</span> <span style=\"color: rgba(255,0,0,0.7706238627433777)\">I</span> came I wrote into your book Next to my name \" Roses are red, <span style=\"color: rgba(255,0,0,0.9969736337661743)\">my</span> love <span style=\"color: rgba(255,0,0,0.987143874168396)\">Violet</span>s are blue<span style=\"color: rgba(255,0,0,0.9263938665390015)\">,</span> is sweet, my love But not as sweet as you \" ( as sweet as you ) Then you went far away And <span style=\"color: rgba(255,0,0,0.8255402445793152)\">you</span> found me. <span style=\"color: rgba(255,0,0,0.9883802533149719)\">I</span> read your book, <span style=\"color: rgba(255,0,0,0.6078656315803528)\">love</span> And <span style=\"color: rgba(255,0,0,0.8330181241035461)\">I</span> <span style=\"color: rgba(255,0,0,0.6817563772201538)\">came</span> back for you \" Roses are red, my love Violets are blue, is sweet, my love Good luck, may God b to you \" ( may God bless you ) Is <span style=\"color: rgba(255,0,0,0.7610533237457275)\">this</span> your little one? She looks a lot like you <span style=\"color: rgba(255,0,0,0.6785772442817688)\">\"</span> <span style=\"color: rgba(255,0,0,0.736337423324585)\">and</span> some boy will come In"
      ],
      "text/plain": [
       "<IPython.core.display.HTML object>"
      ]
     },
     "metadata": {},
     "output_type": "display_data"
    },
    {
     "data": {
      "text/html": [
       "\" Roses are red, my love Violets are blue <span style=\"color: rgba(0,0,255,1)\">and</span> is <span style=\"color: rgba(0,0,255,1)\">sweet</span>, my love But not as sweet as you ) We <span style=\"color: rgba(0,0,255,1)\">dated</span> through high school And when the <span style=\"color: rgba(0,0,255,1)\">20th</span> I came I wrote into <span style=\"color: rgba(0,0,255,1)\">your</span> book Next to my name \" <span style=\"color: rgba(0,0,255,1)\">Roses</span> are red, my <span style=\"color: rgba(0,0,255,1)\">love</span> Violets are <span style=\"color: rgba(0,0,255,1)\">blue</span>, is sweet, my love But not as sweet as you \" ( as sweet as you ) Then you went far <span style=\"color: rgba(0,0,255,1)\">away</span> And you found me. I read your book, <span style=\"color: rgba(0,0,255,1)\">nearly</span> And <span style=\"color: rgba(0,0,255,1)\">got</span> came back for you \" Roses are red, my love Violets are blue, is sweet, my love Good luck, may God <span style=\"color: rgba(0,0,255,1)\">b</span> to you \" ( may God bless you ) Is it your little one? She looks a lot like you \" <span style=\"color: rgba(0,0,255,1)\">Say</span> some boy will come"
      ],
      "text/plain": [
       "<IPython.core.display.HTML object>"
      ]
     },
     "metadata": {},
     "output_type": "display_data"
    },
    {
     "data": {
      "text/html": [
       "\" Roses are red, my love Violets are blue<span style=\"color: rgba(255,0,0,0.9950168132781982)\">,</span> is <span style=\"color: rgba(255,0,0,0.9714208245277405)\">sweet</span>, my love But not as sweet as you ) We <span style=\"color: rgba(255,0,0,0.7862331867218018)\">went</span> through high school And when the <span style=\"color: rgba(255,0,0,0.6746077537536621)\">day</span> I came I wrote into <span style=\"color: rgba(255,0,0,0.9448169469833374)\">a</span> book Next to my name \" <span style=\"color: rgba(255,0,0,0.9795117974281311)\">Roses</span> are red, my <span style=\"color: rgba(255,0,0,0.9986818432807922)\">love</span> Violets are <span style=\"color: rgba(255,0,0,0.8448857069015503)\">blue</span>, is sweet, my love But not as sweet as you \" ( as sweet as you ) Then you went far <span style=\"color: rgba(255,0,0,0.8575183153152466)\">away</span> And you found me. I read your book, <span style=\"color: rgba(255,0,0,0.870278000831604)\">\"</span> And <span style=\"color: rgba(255,0,0,0.9983148574829102)\">I</span> came back for you \" Roses are red, my love Violets are blue, is sweet, my love Good luck, may God <span style=\"color: rgba(255,0,0,0.658355712890625)\">come</span> to you \" ( may God bless you ) Is it your little one? She looks a lot like you \" <span style=\"color: rgba(255,0,0,0.7125532627105713)\">And</span> some boy will come In"
      ],
      "text/plain": [
       "<IPython.core.display.HTML object>"
      ]
     },
     "metadata": {},
     "output_type": "display_data"
    },
    {
     "data": {
      "text/html": [
       "\" Roses are red, my love <span style=\"color: rgba(0,0,255,1)\">Violet</span>s are blue, is sweet, my love But not as sweet as you ) We <span style=\"color: rgba(0,0,255,1)\">studied</span> through high school And when the first I came I wrote <span style=\"color: rgba(0,0,255,1)\">into</span> <span style=\"color: rgba(0,0,255,1)\">a</span> book Next to my name \" Roses are red, my love Violets are blue<span style=\"color: rgba(0,0,255,1)\">,</span> is sweet, my <span style=\"color: rgba(0,0,255,1)\">love</span> But not as sweet as you \" ( as sweet as you ) Then you went far away And you found me. I read your book<span style=\"color: rgba(0,0,255,1)\">,</span> \" And I came back for you \" Roses are red, my love Violets are blue, is sweet, <span style=\"color: rgba(0,0,255,1)\">my</span> love Good <span style=\"color: rgba(0,0,255,1)\">luck</span>, may God <span style=\"color: rgba(0,0,255,1)\">spy</span> to you \" ( may God bless you ) Is it your little one? She looks a lot <span style=\"color: rgba(0,0,255,1)\">like</span> you \" <span style=\"color: rgba(0,0,255,1)\">But</span> some boy will come"
      ],
      "text/plain": [
       "<IPython.core.display.HTML object>"
      ]
     },
     "metadata": {},
     "output_type": "display_data"
    },
    {
     "data": {
      "text/html": [
       "\" Roses are red, my love <span style=\"color: rgba(255,0,0,0.9731981754302979)\">Violet</span>s are blue, is sweet, my love But not as sweet as you ) We <span style=\"color: rgba(255,0,0,0.5868436694145203)\">met</span> through high school And when the first I came I wrote <span style=\"color: rgba(255,0,0,0.6309604048728943)\">my</span> <span style=\"color: rgba(255,0,0,0.676470160484314)\">a</span> book Next to my name \" Roses are red, my love Violets are blue<span style=\"color: rgba(255,0,0,0.9964582920074463)\">,</span> is sweet, my <span style=\"color: rgba(255,0,0,0.9992386102676392)\">love</span> But not as sweet as you \" ( as sweet as you ) Then you went far away And you found me. I read your book<span style=\"color: rgba(255,0,0,0.8015252351760864)\">,</span> \" And I came back for you \" Roses are red, my love Violets are blue, is sweet, <span style=\"color: rgba(255,0,0,0.9961827993392944)\">my</span> love Good <span style=\"color: rgba(255,0,0,0.5351547002792358)\">girl</span>, may God <span style=\"color: rgba(255,0,0,0.8849011659622192)\">come</span> to you \" ( may God bless you ) Is it your little one? She looks a lot <span style=\"color: rgba(255,0,0,0.953095555305481)\">like</span> you \" <span style=\"color: rgba(255,0,0,0.8597575426101685)\">And</span> some boy will come In"
      ],
      "text/plain": [
       "<IPython.core.display.HTML object>"
      ]
     },
     "metadata": {},
     "output_type": "display_data"
    },
    {
     "data": {
      "text/html": [
       "\" Roses are red, my love Violets are blue, is sweet, my <span style=\"color: rgba(0,0,255,1)\">love</span> But not as sweet as you ) We met through high school And when the first <span style=\"color: rgba(0,0,255,1)\">I</span> came I wrote in the book Next to my name \" Roses are red, my love Violets are blue, is sweet, my love But not as sweet as you \" ( as sweet as <span style=\"color: rgba(0,0,255,1)\">you</span> ) Then you went far away And you found me. I read your book, <span style=\"color: rgba(0,0,255,1)\">\"</span> And I came back for you \" Roses are red, my <span style=\"color: rgba(0,0,255,1)\">love</span> Violets are blue, is sweet, my love Good <span style=\"color: rgba(0,0,255,1)\">woman</span>, may God <span style=\"color: rgba(0,0,255,1)\">worship</span> to you \" <span style=\"color: rgba(0,0,255,1)\">(</span> may God <span style=\"color: rgba(0,0,255,1)\">b</span>less you ) Is it your <span style=\"color: rgba(0,0,255,1)\">little</span> one? She looks a lot like you \" And some boy will <span style=\"color: rgba(0,0,255,1)\">come</span>"
      ],
      "text/plain": [
       "<IPython.core.display.HTML object>"
      ]
     },
     "metadata": {},
     "output_type": "display_data"
    },
    {
     "data": {
      "text/html": [
       "\" Roses are red, my love Violets are blue, is sweet, my <span style=\"color: rgba(255,0,0,0.9987769722938538)\">love</span> But not as sweet as you ) We met through high school And when the first <span style=\"color: rgba(255,0,0,0.5695258378982544)\">I</span> came I wrote in the book Next to my name \" Roses are red, my love Violets are blue, is sweet, my love But not as sweet as you \" ( as sweet as <span style=\"color: rgba(255,0,0,0.9967679977416992)\">you</span> ) Then you went far away And you found me. I read your book, <span style=\"color: rgba(255,0,0,0.9147012233734131)\">\"</span> And I came back for you \" Roses are red, my <span style=\"color: rgba(255,0,0,0.9990814924240112)\">love</span> Violets are blue, is sweet, my love Good <span style=\"color: rgba(255,0,0,0.9377486705780029)\">one</span>, may God <span style=\"color: rgba(255,0,0,0.5888294577598572)\">say</span> to you \" <span style=\"color: rgba(255,0,0,0.7149470448493958)\">And</span> may God <span style=\"color: rgba(255,0,0,0.99897301197052)\">b</span>less you ) Is it your <span style=\"color: rgba(255,0,0,0.6059160828590393)\">pretty</span> one? She looks a lot like you \" And some boy will <span style=\"color: rgba(255,0,0,0.5765874981880188)\">wait</span> In"
      ],
      "text/plain": [
       "<IPython.core.display.HTML object>"
      ]
     },
     "metadata": {},
     "output_type": "display_data"
    },
    {
     "data": {
      "text/html": [
       "\" Roses are red, my love Violets are blue<span style=\"color: rgba(0,0,255,1)\">,</span> is sweet, my love But not as <span style=\"color: rgba(0,0,255,1)\">sweet</span> as you ) We met through high <span style=\"color: rgba(0,0,255,1)\">school</span> And when the first <span style=\"color: rgba(0,0,255,1)\">fan</span> came I wrote in the book Next to my name \" Roses are red, my love Violets are blue, is sweet, my love But not as sweet as you \" ( as sweet as you ) Then you went far away And you found me. I read your <span style=\"color: rgba(0,0,255,1)\">book</span>, \" And I <span style=\"color: rgba(0,0,255,1)\">came</span> back for you \" Roses are red, my love Violets are blue<span style=\"color: rgba(0,0,255,1)\">,</span> is sweet, my love Good one, may God <span style=\"color: rgba(0,0,255,1)\">give</span> to you \" <span style=\"color: rgba(0,0,255,1)\">O</span> may God b<span style=\"color: rgba(0,0,255,1)\">less</span> you ) <span style=\"color: rgba(0,0,255,1)\">Is</span> <span style=\"color: rgba(0,0,255,1)\">it</span> your <span style=\"color: rgba(0,0,255,1)\">charming</span> one? She looks a lot like you \" And some boy will <span style=\"color: rgba(0,0,255,1)\">follow</span>"
      ],
      "text/plain": [
       "<IPython.core.display.HTML object>"
      ]
     },
     "metadata": {},
     "output_type": "display_data"
    },
    {
     "data": {
      "text/html": [
       "\" Roses are red, my love Violets are blue<span style=\"color: rgba(255,0,0,0.9514423608779907)\">,</span> is sweet, my love But not as <span style=\"color: rgba(255,0,0,0.9560660123825073)\">sweet</span> as you ) We met through high <span style=\"color: rgba(255,0,0,0.7229394912719727)\">school</span> And when the first <span style=\"color: rgba(255,0,0,0.5740399956703186)\">time</span> came I wrote in the book Next to my name \" Roses are red, my love Violets are blue, is sweet, my love But not as sweet as you \" ( as sweet as you ) Then you went far away And you found me. I read your <span style=\"color: rgba(255,0,0,0.7240434885025024)\">book</span>, \" And I <span style=\"color: rgba(255,0,0,0.8388561606407166)\">come</span> back for you \" Roses are red, my love Violets are blue<span style=\"color: rgba(255,0,0,0.9784766435623169)\">,</span> is sweet, my love Good one, may God <span style=\"color: rgba(255,0,0,0.8097883462905884)\">come</span> to you \" <span style=\"color: rgba(255,0,0,0.9878281354904175)\">(</span> may God b <span style=\"color: rgba(255,0,0,0.6907750368118286)\">And</span> you ) <span style=\"color: rgba(255,0,0,0.7252058982849121)\">\"</span> <span style=\"color: rgba(255,0,0,0.7517063021659851)\">And</span> your <span style=\"color: rgba(255,0,0,0.8125141859054565)\">sweet</span> one? She looks a lot like you \" And some boy will <span style=\"color: rgba(255,0,0,0.7072741985321045)\">look</span> In"
      ],
      "text/plain": [
       "<IPython.core.display.HTML object>"
      ]
     },
     "metadata": {},
     "output_type": "display_data"
    },
    {
     "data": {
      "text/html": [
       "\" Roses are red, <span style=\"color: rgba(0,0,255,1)\">my</span> love Violets are blue, is sweet<span style=\"color: rgba(0,0,255,1)\">,</span> my love But not as sweet as you ) We <span style=\"color: rgba(0,0,255,1)\">met</span> through high <span style=\"color: rgba(0,0,255,1)\">up</span> And when the first I came <span style=\"color: rgba(0,0,255,1)\">I</span> wrote in <span style=\"color: rgba(0,0,255,1)\">the</span> book Next to my name \" Roses are red, my love Violets are blue, is sweet, my love But not as sweet as you <span style=\"color: rgba(0,0,255,1)\">\"</span> ( as sweet as you ) Then you went far away And <span style=\"color: rgba(0,0,255,1)\">you</span> found me. I read your <span style=\"color: rgba(0,0,255,1)\">books</span>, \" And I come back for you \" Roses are red, my love Violets are blue, is <span style=\"color: rgba(0,0,255,1)\">sweet</span>, my love Good one, may <span style=\"color: rgba(0,0,255,1)\">God</span> <span style=\"color: rgba(0,0,255,1)\">want</span> to you \" ( may God b <span style=\"color: rgba(0,0,255,1)\">See</span> you ) ( <span style=\"color: rgba(0,0,255,1)\">Is</span> your <span style=\"color: rgba(0,0,255,1)\">fair</span> one? She looks a lot like you \" And some boy will look"
      ],
      "text/plain": [
       "<IPython.core.display.HTML object>"
      ]
     },
     "metadata": {},
     "output_type": "display_data"
    },
    {
     "data": {
      "text/html": [
       "\" Roses are red, <span style=\"color: rgba(255,0,0,0.999214768409729)\">my</span> love Violets are blue, is sweet<span style=\"color: rgba(255,0,0,0.9992757439613342)\">,</span> my love But not as sweet as you ) We <span style=\"color: rgba(255,0,0,0.6890243291854858)\">went</span> through high <span style=\"color: rgba(255,0,0,0.5765074491500854)\">land</span> And when the first I came <span style=\"color: rgba(255,0,0,0.9762541055679321)\">I</span> wrote in <span style=\"color: rgba(255,0,0,0.7072870135307312)\">the</span> book Next to my name \" Roses are red, my love Violets are blue, is sweet, my love But not as sweet as you <span style=\"color: rgba(255,0,0,0.9924933314323425)\">\"</span> ( as sweet as you ) Then you went far away And <span style=\"color: rgba(255,0,0,0.773720920085907)\">never</span> found me. I read your <span style=\"color: rgba(255,0,0,0.9275845885276794)\">name</span>, \" And I come back for you \" Roses are red, my love Violets are blue, is <span style=\"color: rgba(255,0,0,0.9950417876243591)\">sweet</span>, my love Good one, may <span style=\"color: rgba(255,0,0,0.7287353277206421)\">I</span> <span style=\"color: rgba(255,0,0,0.9661028385162354)\">come</span> to you \" ( may God b<span style=\"color: rgba(255,0,0,0.9998960494995117)\">less</span> you ) ( <span style=\"color: rgba(255,0,0,0.6303173899650574)\">For</span> your <span style=\"color: rgba(255,0,0,0.6265604496002197)\">pretty</span> one? She looks a lot like you \" And some boy will look In"
      ],
      "text/plain": [
       "<IPython.core.display.HTML object>"
      ]
     },
     "metadata": {},
     "output_type": "display_data"
    },
    {
     "data": {
      "text/html": [
       "\" Roses are red, my love Violets are blue, is sweet, my love But not as sweet as you ) We <span style=\"color: rgba(0,0,255,1)\">passed</span> through <span style=\"color: rgba(0,0,255,1)\">high</span> land And when the first I came <span style=\"color: rgba(0,0,255,1)\">I</span> wrote in my book Next to my name \" Roses are <span style=\"color: rgba(0,0,255,1)\">red</span>, my love Violets are blue, is sweet, my love But not as sweet as <span style=\"color: rgba(0,0,255,1)\">you</span> \" ( as sweet as you ) Then you went far away And never found me. I read your <span style=\"color: rgba(0,0,255,1)\">name</span>, \" And I come back for you \" Roses are red, my love Violets are <span style=\"color: rgba(0,0,255,1)\">blue</span>, is sweet, my love <span style=\"color: rgba(0,0,255,1)\">Good</span> one, may God come to you \" <span style=\"color: rgba(0,0,255,1)\">(</span> may <span style=\"color: rgba(0,0,255,1)\">God</span> bless you ) ( <span style=\"color: rgba(0,0,255,1)\">On</span> your <span style=\"color: rgba(0,0,255,1)\">Christian</span> one? She looks a lot like you \" And some boy will look"
      ],
      "text/plain": [
       "<IPython.core.display.HTML object>"
      ]
     },
     "metadata": {},
     "output_type": "display_data"
    },
    {
     "data": {
      "text/html": [
       "\" Roses are red, my love Violets are blue, is sweet, my love But not as sweet as you ) We <span style=\"color: rgba(255,0,0,0.5694141983985901)\">went</span> through <span style=\"color: rgba(255,0,0,0.7802520990371704)\">the</span> land And when the first I came <span style=\"color: rgba(255,0,0,0.753931999206543)\">I</span> wrote in my book Next to my name \" Roses are <span style=\"color: rgba(255,0,0,0.975894570350647)\">red</span>, my love Violets are blue, is sweet, my love But not as sweet as <span style=\"color: rgba(255,0,0,0.9993233680725098)\">you</span> \" ( as sweet as you ) Then you went far away And never found me. I read your <span style=\"color: rgba(255,0,0,0.6976204514503479)\">words</span>, \" And I come back for you \" Roses are red, my love Violets are <span style=\"color: rgba(255,0,0,0.8215847015380859)\">blue</span>, is sweet, my love <span style=\"color: rgba(255,0,0,0.7201396822929382)\">No</span> one, may God come to you \" <span style=\"color: rgba(255,0,0,0.7624354958534241)\">And</span> may <span style=\"color: rgba(255,0,0,0.9995872378349304)\">God</span> bless you ) ( <span style=\"color: rgba(255,0,0,0.6970787644386292)\">And</span> your <span style=\"color: rgba(255,0,0,0.695388674736023)\">little</span> one? She looks a lot like you \" And some boy will look In"
      ],
      "text/plain": [
       "<IPython.core.display.HTML object>"
      ]
     },
     "metadata": {},
     "output_type": "display_data"
    },
    {
     "data": {
      "text/html": [
       "\" Roses are <span style=\"color: rgba(0,0,255,1)\">red</span>, my love Violets are blue, is sweet, my love But not as <span style=\"color: rgba(0,0,255,1)\">sweet</span> as you ) We <span style=\"color: rgba(0,0,255,1)\">road</span> through the <span style=\"color: rgba(0,0,255,1)\">land</span> And when the first I came I wrote in my book <span style=\"color: rgba(0,0,255,1)\">Next</span> to my name \" Roses are red, my love <span style=\"color: rgba(0,0,255,1)\">Violet</span>s are blue, is sweet, my love But not as sweet as you \" ( as sweet as you <span style=\"color: rgba(0,0,255,1)\">)</span> Then you went far away And never found me. I read your song, \" And I come back for you \" Roses are red, my love Violet<span style=\"color: rgba(0,0,255,1)\">s</span> are blue<span style=\"color: rgba(0,0,255,1)\">,</span> is sweet, my love<span style=\"color: rgba(0,0,255,1)\">-</span>one, may God come to you \" And may God bless <span style=\"color: rgba(0,0,255,1)\">you</span> ) ( But your little one? She looks a lot like you \" And some boy will look"
      ],
      "text/plain": [
       "<IPython.core.display.HTML object>"
      ]
     },
     "metadata": {},
     "output_type": "display_data"
    },
    {
     "data": {
      "text/html": [
       "\" Roses are <span style=\"color: rgba(255,0,0,0.8606908917427063)\">red</span>, my love Violets are blue, is sweet, my love But not as <span style=\"color: rgba(255,0,0,0.9829124212265015)\">sweet</span> as you ) We <span style=\"color: rgba(255,0,0,0.6339001655578613)\">went</span> through the <span style=\"color: rgba(255,0,0,0.6385430097579956)\">town</span> And when the first I came I wrote in my book <span style=\"color: rgba(255,0,0,0.5416615605354309)\">What</span> to my name \" Roses are red, my love <span style=\"color: rgba(255,0,0,0.9673446416854858)\">Violet</span>s are blue, is sweet, my love But not as sweet as you \" ( as sweet as you <span style=\"color: rgba(255,0,0,0.9986371397972107)\">)</span> Then you went far away And never found me. I read your song, \" And I come back for you \" Roses are red, my love Violet<span style=\"color: rgba(255,0,0,0.999943733215332)\">s</span> are blue<span style=\"color: rgba(255,0,0,0.998729407787323)\">,</span> is sweet, my love <span style=\"color: rgba(255,0,0,0.5746333599090576)\">Little</span> one, may God come to you \" And may God bless <span style=\"color: rgba(255,0,0,0.7376018166542053)\">you</span> ) ( But your little one? She looks a lot like you \" And some boy will look In"
      ],
      "text/plain": [
       "<IPython.core.display.HTML object>"
      ]
     },
     "metadata": {},
     "output_type": "display_data"
    },
    {
     "data": {
      "text/html": [
       "\" Roses are red, my love Violets are blue, is sweet, my love But not as sweet as you ) We came through the <span style=\"color: rgba(0,0,255,1)\">dark</span> And when the first I came I wrote in my book <span style=\"color: rgba(0,0,255,1)\">as</span> to my name \" Roses are <span style=\"color: rgba(0,0,255,1)\">red</span>, my love Violet<span style=\"color: rgba(0,0,255,1)\">s</span> are blue, is sweet, my love But not as sweet as you \" ( as sweet as you ) Then you went far away And never <span style=\"color: rgba(0,0,255,1)\">found</span> me. I read your <span style=\"color: rgba(0,0,255,1)\">song</span>, \" And I come back for you \" Roses are red<span style=\"color: rgba(0,0,255,1)\">,</span> my love Violet<span style=\"color: rgba(0,0,255,1)\">s</span> are blue, is sweet, my love <span style=\"color: rgba(0,0,255,1)\">The</span> one, may <span style=\"color: rgba(0,0,255,1)\">God</span> come to you \" And <span style=\"color: rgba(0,0,255,1)\">may</span> God bless <span style=\"color: rgba(0,0,255,1)\">me</span> ) ( But your little one? She looks a lot like you \" And some boy <span style=\"color: rgba(0,0,255,1)\">will</span> look"
      ],
      "text/plain": [
       "<IPython.core.display.HTML object>"
      ]
     },
     "metadata": {},
     "output_type": "display_data"
    },
    {
     "data": {
      "text/html": [
       "\" Roses are red, my love Violets are blue, is sweet, my love But not as sweet as you ) We came through the <span style=\"color: rgba(255,0,0,0.6390644311904907)\">town</span> And when the first I came I wrote in my book <span style=\"color: rgba(255,0,0,0.5525345206260681)\">next</span> to my name \" Roses are <span style=\"color: rgba(255,0,0,0.6726475954055786)\">red</span>, my love Violet<span style=\"color: rgba(255,0,0,0.999974250793457)\">s</span> are blue, is sweet, my love But not as sweet as you \" ( as sweet as you ) Then you went far away And never <span style=\"color: rgba(255,0,0,0.7449482679367065)\">knew</span> me. I read your <span style=\"color: rgba(255,0,0,0.6779375672340393)\">name</span>, \" And I come back for you \" Roses are red<span style=\"color: rgba(255,0,0,0.999964714050293)\">,</span> my love Violet<span style=\"color: rgba(255,0,0,0.9999818801879883)\">s</span> are blue, is sweet, my love <span style=\"color: rgba(255,0,0,0.6048547625541687)\">This</span> one, may <span style=\"color: rgba(255,0,0,0.717435359954834)\">I</span> come to you \" And <span style=\"color: rgba(255,0,0,0.6415542960166931)\">may</span> God bless <span style=\"color: rgba(255,0,0,0.972457766532898)\">you</span> ) ( But your little one? She looks a lot like you \" And some boy <span style=\"color: rgba(255,0,0,0.5902456641197205)\">may</span> look In"
      ],
      "text/plain": [
       "<IPython.core.display.HTML object>"
      ]
     },
     "metadata": {},
     "output_type": "display_data"
    },
    {
     "data": {
      "text/html": [
       "\" Roses are red, my love Violets are blue<span style=\"color: rgba(0,0,255,1)\">,</span> is sweet, my love But not <span style=\"color: rgba(0,0,255,1)\">as</span> sweet as you ) <span style=\"color: rgba(0,0,255,1)\">We</span> <span style=\"color: rgba(0,0,255,1)\">came</span> through the town And when the first I came <span style=\"color: rgba(0,0,255,1)\">I</span> wrote in my book <span style=\"color: rgba(0,0,255,1)\">reassuring</span> to my name \" Roses are blue, my love Violets are blue, is sweet, my love But not as sweet as you \" ( as sweet as you ) Then you went far away And never saw me. I read your name, \" And I come back for <span style=\"color: rgba(0,0,255,1)\">you</span> \" Roses <span style=\"color: rgba(0,0,255,1)\">are</span> red, my love Violets are blue, is sweet, my love <span style=\"color: rgba(0,0,255,1)\">Not</span> one, may I come to you \" And, God bless you ) ( But your little one? She looks a lot like <span style=\"color: rgba(0,0,255,1)\">you</span> \" And some boy may <span style=\"color: rgba(0,0,255,1)\">look</span>"
      ],
      "text/plain": [
       "<IPython.core.display.HTML object>"
      ]
     },
     "metadata": {},
     "output_type": "display_data"
    },
    {
     "data": {
      "text/html": [
       "\" Roses are red, my love Violets are blue<span style=\"color: rgba(255,0,0,0.9999456405639648)\">,</span> is sweet, my love But not <span style=\"color: rgba(255,0,0,0.7522197961807251)\">so</span> sweet as you ) <span style=\"color: rgba(255,0,0,0.9934942722320557)\">I</span> <span style=\"color: rgba(255,0,0,0.5424728393554688)\">walks</span> through the town And when the first I came <span style=\"color: rgba(255,0,0,0.9966514706611633)\">I</span> wrote in my book <span style=\"color: rgba(255,0,0,0.5557859539985657)\">(</span> to my name \" Roses are blue, my love Violets are blue, is sweet, my love But not as sweet as you \" ( as sweet as you ) Then you went far away And never saw me. I read your name, \" And I come back for <span style=\"color: rgba(255,0,0,0.9754046201705933)\">you</span> \" Roses <span style=\"color: rgba(255,0,0,0.9981884360313416)\">are</span> red, my love Violets are blue, is sweet, my love <span style=\"color: rgba(255,0,0,0.6071858406066895)\">Not</span> one, may I come to you \" And, God bless you ) ( But your little one? She looks a lot like <span style=\"color: rgba(255,0,0,0.9181765913963318)\">you</span> \" And some boy may <span style=\"color: rgba(255,0,0,0.8642409443855286)\">come</span> In"
      ],
      "text/plain": [
       "<IPython.core.display.HTML object>"
      ]
     },
     "metadata": {},
     "output_type": "display_data"
    },
    {
     "data": {
      "text/html": [
       "\" Roses are red, my love Violets are blue, is sweet, my love But not as sweet as you ) <span style=\"color: rgba(0,0,255,1)\">I</span> <span style=\"color: rgba(0,0,255,1)\">went</span> through the town And when the first I came I wrote in my book <span style=\"color: rgba(0,0,255,1)\">next</span> to my name \" Roses are <span style=\"color: rgba(0,0,255,1)\">blue</span>, my love Violets are blue, is sweet<span style=\"color: rgba(0,0,255,1)\">,</span> my love But not as sweet as you \" ( as sweet as you ) Then you went far away And never saw me. I read your name, \" And I come back for you \" Roses are red, my love Violets are blue<span style=\"color: rgba(0,0,255,1)\">,</span> is <span style=\"color: rgba(0,0,255,1)\">sweet</span>, my love <span style=\"color: rgba(0,0,255,1)\">Only</span> one, may I come to you \" And, God bless <span style=\"color: rgba(0,0,255,1)\">you</span> ) <span style=\"color: rgba(0,0,255,1)\">(</span> But your little one? She <span style=\"color: rgba(0,0,255,1)\">looks</span> a lot like you \" And some boy may come"
      ],
      "text/plain": [
       "<IPython.core.display.HTML object>"
      ]
     },
     "metadata": {},
     "output_type": "display_data"
    },
    {
     "data": {
      "text/html": [
       "\" Roses are red, my love Violets are blue, is sweet, my love But not as sweet as you ) <span style=\"color: rgba(255,0,0,0.9882754683494568)\">I</span> <span style=\"color: rgba(255,0,0,0.5932056307792664)\">went</span> through the town And when the first I came I wrote in my book <span style=\"color: rgba(255,0,0,0.5533280968666077)\">according</span> to my name \" Roses are <span style=\"color: rgba(255,0,0,0.8737426996231079)\">red</span>, my love Violets are blue, is sweet<span style=\"color: rgba(255,0,0,0.9997606873512268)\">,</span> my love But not as sweet as you \" ( as sweet as you ) Then you went far away And never saw me. I read your name, \" And I come back for you \" Roses are red, my love Violets are blue <span style=\"color: rgba(255,0,0,0.7925639152526855)\">(</span> is <span style=\"color: rgba(255,0,0,0.9766203761100769)\">sweet</span>, my love <span style=\"color: rgba(255,0,0,0.5935750603675842)\">No</span> one, may I come to you \" And, God bless <span style=\"color: rgba(255,0,0,0.8454775810241699)\">you</span> ) <span style=\"color: rgba(255,0,0,0.9998016357421875)\">\"</span> But your little one? She <span style=\"color: rgba(255,0,0,0.7418886423110962)\">is</span> a lot like you \" And some boy may come In"
      ],
      "text/plain": [
       "<IPython.core.display.HTML object>"
      ]
     },
     "metadata": {},
     "output_type": "display_data"
    },
    {
     "data": {
      "text/html": [
       "\" Roses are red, <span style=\"color: rgba(0,0,255,1)\">my</span> love Violets are blue, is sweet, my love But not as sweet as you ) I went through the town And when the first I came I <span style=\"color: rgba(0,0,255,1)\">wrote</span> in my book <span style=\"color: rgba(0,0,255,1)\">Change</span> to my name \" Roses are <span style=\"color: rgba(0,0,255,1)\">white</span>, my love Violets are blue, is sweet, my love But not as sweet <span style=\"color: rgba(0,0,255,1)\">as</span> you \" ( as sweet <span style=\"color: rgba(0,0,255,1)\">as</span> you ) Then you went far away And never saw me. I read your name, <span style=\"color: rgba(0,0,255,1)\">\"</span> And I come back for you \" Roses are <span style=\"color: rgba(0,0,255,1)\">red</span>, my love Violets are blue ( is sweet, my love <span style=\"color: rgba(0,0,255,1)\">Only</span> one, may I come to you \" And, God bless her ) \" But your <span style=\"color: rgba(0,0,255,1)\">little</span> one? <span style=\"color: rgba(0,0,255,1)\">She</span> has a lot like you \" <span style=\"color: rgba(0,0,255,1)\">And</span> some boy may come"
      ],
      "text/plain": [
       "<IPython.core.display.HTML object>"
      ]
     },
     "metadata": {},
     "output_type": "display_data"
    },
    {
     "data": {
      "text/html": [
       "\" Roses are red, <span style=\"color: rgba(255,0,0,0.9887790679931641)\">my</span> love Violets are blue, is sweet, my love But not as sweet as you ) I went through the town And when the first I came I <span style=\"color: rgba(255,0,0,0.976030707359314)\">read</span> in my book <span style=\"color: rgba(255,0,0,0.5822286605834961)\">read</span> to my name \" Roses are <span style=\"color: rgba(255,0,0,0.944715142250061)\">red</span>, my love Violets are blue, is sweet, my love But not as sweet <span style=\"color: rgba(255,0,0,0.9892631769180298)\">as</span> you \" ( as sweet <span style=\"color: rgba(255,0,0,0.9959509372711182)\">as</span> you ) Then you went far away And never saw me. I read your name, <span style=\"color: rgba(255,0,0,0.9808140993118286)\">\"</span> And I come back for you \" Roses are <span style=\"color: rgba(255,0,0,0.9204459190368652)\">red</span>, my love Violets are blue ( is sweet, my love <span style=\"color: rgba(255,0,0,0.5996872782707214)\">Only</span> one, may I come to you \" And, God bless her ) \" But your <span style=\"color: rgba(255,0,0,0.810978889465332)\">sweet</span> one? <span style=\"color: rgba(255,0,0,0.8985499739646912)\">She</span> has a lot like you \" <span style=\"color: rgba(255,0,0,0.7138484716415405)\">That</span> some boy may come In"
      ],
      "text/plain": [
       "<IPython.core.display.HTML object>"
      ]
     },
     "metadata": {},
     "output_type": "display_data"
    },
    {
     "data": {
      "text/html": [
       "\" Roses are red, my love Violets are blue, is sweet, my love But not as sweet as you ) I went through the town And when the first I came I read in my book <span style=\"color: rgba(0,0,255,1)\">rhyme</span> to <span style=\"color: rgba(0,0,255,1)\">my</span> name \" Roses <span style=\"color: rgba(0,0,255,1)\">are</span> red, <span style=\"color: rgba(0,0,255,1)\">my</span> love Violets are blue, is sweet, my love But <span style=\"color: rgba(0,0,255,1)\">not</span> as sweet as <span style=\"color: rgba(0,0,255,1)\">you</span> \" ( as sweet as you ) Then <span style=\"color: rgba(0,0,255,1)\">you</span> went far away And never saw me. I read your name, \" And I come back for you <span style=\"color: rgba(0,0,255,1)\">\"</span> Roses are red, my love Violets are blue ( is sweet, my love No one, may <span style=\"color: rgba(0,0,255,1)\">I</span> <span style=\"color: rgba(0,0,255,1)\">come</span> to you \" And, God bless her ) \" But your sweet one? She has a lot like you \" <span style=\"color: rgba(0,0,255,1)\">O</span> some boy may come"
      ],
      "text/plain": [
       "<IPython.core.display.HTML object>"
      ]
     },
     "metadata": {},
     "output_type": "display_data"
    },
    {
     "data": {
      "text/html": [
       "\" Roses are red, my love Violets are blue, is sweet, my love But not as sweet as you ) I went through the town And when the first I came I read in my book <span style=\"color: rgba(255,0,0,0.5578105449676514)\">as</span> to <span style=\"color: rgba(255,0,0,0.9614138603210449)\">your</span> name \" Roses <span style=\"color: rgba(255,0,0,0.9992595314979553)\">are</span> red, <span style=\"color: rgba(255,0,0,0.9958081245422363)\">my</span> love Violets are blue, is sweet, my love But <span style=\"color: rgba(255,0,0,0.9995976686477661)\">not</span> as sweet as <span style=\"color: rgba(255,0,0,0.9966694712638855)\">you</span> \" ( as sweet as you ) Then <span style=\"color: rgba(255,0,0,0.7469049692153931)\">you</span> went far away And never saw me. I read your name, \" And I come back for you <span style=\"color: rgba(255,0,0,0.915575385093689)\">\"</span> Roses are red, my love Violets are blue ( is sweet, my love No one, may <span style=\"color: rgba(255,0,0,0.8948726058006287)\">she</span> <span style=\"color: rgba(255,0,0,0.7711472511291504)\">come</span> to you \" And, God bless her ) \" But your sweet one? She has a lot like you \" <span style=\"color: rgba(255,0,0,0.9552100300788879)\">But</span> some boy may come In"
      ],
      "text/plain": [
       "<IPython.core.display.HTML object>"
      ]
     },
     "metadata": {},
     "output_type": "display_data"
    },
    {
     "data": {
      "text/html": [
       "\" Roses are red, my love Violets are <span style=\"color: rgba(0,0,255,1)\">blue</span>, <span style=\"color: rgba(0,0,255,1)\">is</span> sweet, my love But not as sweet <span style=\"color: rgba(0,0,255,1)\">as</span> you ) I went through the town And when the first I came I read in <span style=\"color: rgba(0,0,255,1)\">my</span> book as to your name \" Roses are red, my love Violets are blue, is sweet, my love But not as sweet as you \" ( as sweet as <span style=\"color: rgba(0,0,255,1)\">you</span> ) Then you went far away And never <span style=\"color: rgba(0,0,255,1)\">saw</span> me. I read your name, \" And I come back for <span style=\"color: rgba(0,0,255,1)\">you</span> \" Roses are red, my love Violets are blue ( is sweet, my love No one, may she <span style=\"color: rgba(0,0,255,1)\">come</span> to you \" And, God bless her ) \" But your sweet one? She has a lot like you \" But some <span style=\"color: rgba(0,0,255,1)\">boy</span> may come"
      ],
      "text/plain": [
       "<IPython.core.display.HTML object>"
      ]
     },
     "metadata": {},
     "output_type": "display_data"
    },
    {
     "data": {
      "text/html": [
       "\" Roses are red, my love Violets are <span style=\"color: rgba(255,0,0,0.7399202585220337)\">red</span>, <span style=\"color: rgba(255,0,0,0.8002700805664062)\">is</span> sweet, my love But not as sweet <span style=\"color: rgba(255,0,0,0.9985544085502625)\">as</span> you ) I went through the town And when the first I came I read in <span style=\"color: rgba(255,0,0,0.8699201345443726)\">my</span> book as to your name \" Roses are red, my love Violets are blue, is sweet, my love But not as sweet as you \" ( as sweet as <span style=\"color: rgba(255,0,0,0.9966391324996948)\">you</span> ) Then you went far away And never <span style=\"color: rgba(255,0,0,0.8227676153182983)\">saw</span> me. I read your name, \" And I come back for <span style=\"color: rgba(255,0,0,0.7435567378997803)\">you</span> \" Roses are red, my love Violets are blue ( is sweet, my love No one, may she <span style=\"color: rgba(255,0,0,0.9939241409301758)\">come</span> to you \" And, God bless her ) \" But your sweet one? She has a lot like you \" But some <span style=\"color: rgba(255,0,0,0.6103397011756897)\">one</span> may come In"
      ],
      "text/plain": [
       "<IPython.core.display.HTML object>"
      ]
     },
     "metadata": {},
     "output_type": "display_data"
    },
    {
     "data": {
      "text/html": [
       "\" Roses <span style=\"color: rgba(0,0,255,1)\">are</span> red, my love Violets are <span style=\"color: rgba(0,0,255,1)\">black</span>, is sweet, my love But not as <span style=\"color: rgba(0,0,255,1)\">sweet</span> as you ) I went through the town And when the first I came I read in a book as to your name \" Roses are red, my love Violets are blue, is sweet, my love But not <span style=\"color: rgba(0,0,255,1)\">as</span> sweet as you \" ( as sweet as <span style=\"color: rgba(0,0,255,1)\">you</span> ) Then you went far away And never saw me. I read your name, \" And <span style=\"color: rgba(0,0,255,1)\">I</span> come back for her \" Roses are red, my love Violets are blue ( is sweet, <span style=\"color: rgba(0,0,255,1)\">my</span> love No one, may she come to you \" And, God <span style=\"color: rgba(0,0,255,1)\">b</span>less her ) \" But your sweet one? She has a lot like <span style=\"color: rgba(0,0,255,1)\">you</span> \" But some <span style=\"color: rgba(0,0,255,1)\">stars</span> may come"
      ],
      "text/plain": [
       "<IPython.core.display.HTML object>"
      ]
     },
     "metadata": {},
     "output_type": "display_data"
    },
    {
     "data": {
      "text/html": [
       "\" Roses <span style=\"color: rgba(255,0,0,0.998729407787323)\">are</span> red, my love Violets are <span style=\"color: rgba(255,0,0,0.9032375812530518)\">blue</span>, is sweet, my love But not as <span style=\"color: rgba(255,0,0,0.9307162761688232)\">sweet</span> as you ) I went through the town And when the first I came I read in a book as to your name \" Roses are red, my love Violets are blue, is sweet, my love But not <span style=\"color: rgba(255,0,0,0.9389388561248779)\">as</span> sweet as you \" ( as sweet as <span style=\"color: rgba(255,0,0,0.9925854206085205)\">you</span> ) Then you went far away And never saw me. I read your name, \" And <span style=\"color: rgba(255,0,0,0.9137057065963745)\">I</span> come back for her \" Roses are red, my love Violets are blue ( is sweet, <span style=\"color: rgba(255,0,0,0.924209713935852)\">I</span> love No one, may she come to you \" And, God <span style=\"color: rgba(255,0,0,0.9998359680175781)\">b</span>less her ) \" But your sweet one? She has a lot like <span style=\"color: rgba(255,0,0,0.6690685749053955)\">you</span> \" But some <span style=\"color: rgba(255,0,0,0.7256338596343994)\">one</span> may come In"
      ],
      "text/plain": [
       "<IPython.core.display.HTML object>"
      ]
     },
     "metadata": {},
     "output_type": "display_data"
    },
    {
     "data": {
      "text/html": [
       "<span style=\"color: rgba(0,0,255,1)\">\"</span> Roses are red, my love Violets are <span style=\"color: rgba(0,0,255,1)\">blue</span>, is sweet<span style=\"color: rgba(0,0,255,1)\">,</span> my love But not as sweet as you ) I went through the town And when the first I came I read in a book as to your name \" Roses are red, my love Violets are <span style=\"color: rgba(0,0,255,1)\">blue</span>, is <span style=\"color: rgba(0,0,255,1)\">sweet</span>, my love But not as sweet as you \" ( as sweet as you ) Then you went far away And never saw me. <span style=\"color: rgba(0,0,255,1)\">I</span> read your <span style=\"color: rgba(0,0,255,1)\">name</span>, \" And I come back for her \" Roses are red, my love Violets are blue ( is sweet, I love No one, may she come to you \" And, God b<span style=\"color: rgba(0,0,255,1)\">less</span> her ) \" But your <span style=\"color: rgba(0,0,255,1)\">sweet</span> one? She has a lot like her \" But some <span style=\"color: rgba(0,0,255,1)\">man</span> may come"
      ],
      "text/plain": [
       "<IPython.core.display.HTML object>"
      ]
     },
     "metadata": {},
     "output_type": "display_data"
    },
    {
     "data": {
      "text/html": [
       "<span style=\"color: rgba(255,0,0,0.8739923238754272)\">\"</span> Roses are red, my love Violets are <span style=\"color: rgba(255,0,0,0.8254201412200928)\">blue</span>, is sweet<span style=\"color: rgba(255,0,0,0.9996501207351685)\">,</span> my love But not as sweet as you ) I went through the town And when the first I came I read in a book as to your name \" Roses are red, my love Violets are <span style=\"color: rgba(255,0,0,0.7452706098556519)\">blue</span>, is <span style=\"color: rgba(255,0,0,0.958042323589325)\">sweet</span>, my love But not as sweet as you \" ( as sweet as you ) Then you went far away And never saw me. <span style=\"color: rgba(255,0,0,0.9968589544296265)\">I</span> read your <span style=\"color: rgba(255,0,0,0.8308408856391907)\">book</span>, \" And I come back for her \" Roses are red, my love Violets are blue ( is sweet, I love No one, may she come to you \" And, God b<span style=\"color: rgba(255,0,0,0.9993233680725098)\">less</span> her ) \" But your <span style=\"color: rgba(255,0,0,0.8305299282073975)\">sweet</span> one? She has a lot like her \" But some <span style=\"color: rgba(255,0,0,0.6985551714897156)\">one</span> may come In"
      ],
      "text/plain": [
       "<IPython.core.display.HTML object>"
      ]
     },
     "metadata": {},
     "output_type": "display_data"
    },
    {
     "data": {
      "text/html": [
       "\" Roses are red, my love Violets are blue, is sweet<span style=\"color: rgba(0,0,255,1)\">,</span> my love But not as sweet as you ) I went through the <span style=\"color: rgba(0,0,255,1)\">town</span> And when the first I came I read in a book as to your <span style=\"color: rgba(0,0,255,1)\">name</span> \" Roses are red, my love Violets are red, is sweet, my love But not as sweet as you \" ( as sweet as <span style=\"color: rgba(0,0,255,1)\">you</span> ) Then you went far away And never <span style=\"color: rgba(0,0,255,1)\">saw</span> me. I read your book, \" And I come back for <span style=\"color: rgba(0,0,255,1)\">her</span> \" Roses are red, my love Violets are blue ( is sweet, I love No one, may she come to you <span style=\"color: rgba(0,0,255,1)\">\"</span> And, God <span style=\"color: rgba(0,0,255,1)\">b</span>less her ) \" <span style=\"color: rgba(0,0,255,1)\">But</span> your <span style=\"color: rgba(0,0,255,1)\">little</span> one? She has a lot like her \" But some one may come"
      ],
      "text/plain": [
       "<IPython.core.display.HTML object>"
      ]
     },
     "metadata": {},
     "output_type": "display_data"
    },
    {
     "data": {
      "text/html": [
       "\" Roses are red, my love Violets are blue, is sweet<span style=\"color: rgba(255,0,0,0.9997768998146057)\">,</span> my love But not as sweet as you ) I went through the <span style=\"color: rgba(255,0,0,0.5519595146179199)\">books</span> And when the first I came I read in a book as to your <span style=\"color: rgba(255,0,0,0.8229308128356934)\">love</span> \" Roses are red, my love Violets are red, is sweet, my love But not as sweet as you \" ( as sweet as <span style=\"color: rgba(255,0,0,0.9981789588928223)\">you</span> ) Then you went far away And never <span style=\"color: rgba(255,0,0,0.7381821870803833)\">saw</span> me. I read your book, \" And I come back for <span style=\"color: rgba(255,0,0,0.9048247337341309)\">her</span> \" Roses are red, my love Violets are blue ( is sweet, I love No one, may she come to you<span style=\"color: rgba(255,0,0,0.7528428435325623)\">,</span> And, God <span style=\"color: rgba(255,0,0,0.9981409311294556)\">b</span>less her ) \" <span style=\"color: rgba(255,0,0,0.9273799061775208)\">But</span> your <span style=\"color: rgba(255,0,0,0.6548893451690674)\">sweet</span> one? She has a lot like her \" But some one may come In"
      ],
      "text/plain": [
       "<IPython.core.display.HTML object>"
      ]
     },
     "metadata": {},
     "output_type": "display_data"
    },
    {
     "data": {
      "text/html": [
       "\" Roses are red, my love Violets are blue, is sweet, my love But not as sweet as you ) I went through the <span style=\"color: rgba(0,0,255,1)\">world</span> And when the first I came I read in a book as to your <span style=\"color: rgba(0,0,255,1)\">love</span> \" Roses <span style=\"color: rgba(0,0,255,1)\">are</span> red, my love Violets are red, is sweet, my love But not <span style=\"color: rgba(0,0,255,1)\">as</span> sweet as you \" ( as sweet as you ) <span style=\"color: rgba(0,0,255,1)\">Then</span> you went far away And never saw me<span style=\"color: rgba(0,0,255,1)\">.</span> I read your book, \" <span style=\"color: rgba(0,0,255,1)\">And</span> I come back for her \" Roses are red, my love Violets are blue ( is sweet, I love No one, may <span style=\"color: rgba(0,0,255,1)\">she</span> come to you, And, God bless her ) \" <span style=\"color: rgba(0,0,255,1)\">But</span> your love one? She has a lot like her \" But some one <span style=\"color: rgba(0,0,255,1)\">may</span> come"
      ],
      "text/plain": [
       "<IPython.core.display.HTML object>"
      ]
     },
     "metadata": {},
     "output_type": "display_data"
    },
    {
     "data": {
      "text/html": [
       "\" Roses are red, my love Violets are blue, is sweet, my love But not as sweet as you ) I went through the <span style=\"color: rgba(255,0,0,0.8673263788223267)\">book</span> And when the first I came I read in a book as to your <span style=\"color: rgba(255,0,0,0.601871132850647)\">\"</span> \" Roses <span style=\"color: rgba(255,0,0,0.9994957447052002)\">are</span> red, my love Violets are red, is sweet, my love But not <span style=\"color: rgba(255,0,0,0.8912407159805298)\">so</span> sweet as you \" ( as sweet as you ) <span style=\"color: rgba(255,0,0,0.8182126879692078)\">But</span> you went far away And never saw me <span style=\"color: rgba(255,0,0,0.6046898365020752)\">since</span> I read your book, \" <span style=\"color: rgba(255,0,0,0.6673395037651062)\">Then</span> I come back for her \" Roses are red, my love Violets are blue ( is sweet, I love No one, may <span style=\"color: rgba(255,0,0,0.9889245629310608)\">she</span> come to you, And, God bless her ) \" <span style=\"color: rgba(255,0,0,0.8314181566238403)\">But</span> your love one? She has a lot like her \" But some one <span style=\"color: rgba(255,0,0,0.6903673410415649)\">will</span> come In"
      ],
      "text/plain": [
       "<IPython.core.display.HTML object>"
      ]
     },
     "metadata": {},
     "output_type": "display_data"
    },
    {
     "data": {
      "text/html": [
       "\" Roses are red, my love Violets are <span style=\"color: rgba(0,0,255,1)\">blue</span>, is sweet, my love But not as sweet as you ) I went through the book And when the first I came I read in a book as to <span style=\"color: rgba(0,0,255,1)\">your</span> <span style=\"color: rgba(0,0,255,1)\">state</span> \" Roses are red, my love <span style=\"color: rgba(0,0,255,1)\">Violet</span>s are red, is sweet, my love But not as sweet as you \" ( as sweet as you ) But you went far away And never saw me <span style=\"color: rgba(0,0,255,1)\">while</span> I read your book, \" But I come back for her \" Roses are red, my love Violets are <span style=\"color: rgba(0,0,255,1)\">blue</span> ( is sweet<span style=\"color: rgba(0,0,255,1)\">,</span> I love No one, may she come <span style=\"color: rgba(0,0,255,1)\">to</span> you, <span style=\"color: rgba(0,0,255,1)\">And</span>, <span style=\"color: rgba(0,0,255,1)\">God</span> bless her ) \" But your love one? She has a lot like her \" But some one <span style=\"color: rgba(0,0,255,1)\">has</span> come"
      ],
      "text/plain": [
       "<IPython.core.display.HTML object>"
      ]
     },
     "metadata": {},
     "output_type": "display_data"
    },
    {
     "data": {
      "text/html": [
       "\" Roses are red, my love Violets are <span style=\"color: rgba(255,0,0,0.9050127267837524)\">red</span>, is sweet, my love But not as sweet as you ) I went through the book And when the first I came I read in a book as to <span style=\"color: rgba(255,0,0,0.9537372589111328)\">you</span><span style=\"color: rgba(255,0,0,0.633108913898468)\">:</span> \" Roses are red, my love <span style=\"color: rgba(255,0,0,0.942803144454956)\">Violet</span>s are red, is sweet, my love But not as sweet as you \" ( as sweet as you ) But you went far away And never saw me <span style=\"color: rgba(255,0,0,0.5994199514389038)\">Till</span> I read your book, \" But I come back for her \" Roses are red, my love Violets are <span style=\"color: rgba(255,0,0,0.9807425737380981)\">red</span> ( is sweet<span style=\"color: rgba(255,0,0,0.9718899726867676)\">?</span> I love No one, may she come <span style=\"color: rgba(255,0,0,0.8666481375694275)\">to</span> you, <span style=\"color: rgba(255,0,0,0.6082785129547119)\">say</span>, <span style=\"color: rgba(255,0,0,0.6548685431480408)\">God</span> bless her ) \" But your love one? She has a lot like her \" But some one <span style=\"color: rgba(255,0,0,0.706814706325531)\">may</span> come <span style=\"color: rgba(255,0,0,0.8060846328735352)\">back</span>"
      ],
      "text/plain": [
       "<IPython.core.display.HTML object>"
      ]
     },
     "metadata": {},
     "output_type": "display_data"
    },
    {
     "data": {
      "text/html": [
       "\" Roses are red, my love Violets are red, is sweet, my love But not as sweet as you ) I went through the book And when the first I came I <span style=\"color: rgba(0,0,255,1)\">read</span> in a book as to you: \" Roses are red, my love <span style=\"color: rgba(0,0,255,1)\">violet</span><span style=\"color: rgba(0,0,255,1)\">s</span> are red, is sweet<span style=\"color: rgba(0,0,255,1)\">,</span> my love But not as sweet as you \" ( as sweet as you ) But you went far <span style=\"color: rgba(0,0,255,1)\">away</span> And never saw me <span style=\"color: rgba(0,0,255,1)\">until</span> I read your book, \" But I <span style=\"color: rgba(0,0,255,1)\">come</span> back for her \" Roses are red, my love <span style=\"color: rgba(0,0,255,1)\">Violet</span><span style=\"color: rgba(0,0,255,1)\">s</span> are red ( is sweet? I love No one, may she <span style=\"color: rgba(0,0,255,1)\">come</span> with you, say, God bless her ) \" But your love one? She has a lot like her \" But some one shall come"
      ],
      "text/plain": [
       "<IPython.core.display.HTML object>"
      ]
     },
     "metadata": {},
     "output_type": "display_data"
    },
    {
     "data": {
      "text/html": [
       "\" Roses are red, my love Violets are red, is sweet, my love But not as sweet as you ) I went through the book And when the first I came I <span style=\"color: rgba(255,0,0,0.9402186870574951)\">read</span> in a book as to you: \" Roses are red, my love<span style=\"color: rgba(255,0,0,0.7582197189331055)\">,</span> <span style=\"color: rgba(255,0,0,0.967269778251648)\">Roses</span> are red, is sweet<span style=\"color: rgba(255,0,0,0.9990567564964294)\">,</span> my love But not as sweet as you \" ( as sweet as you ) But you went far <span style=\"color: rgba(255,0,0,0.9745105504989624)\">away</span> And never saw me <span style=\"color: rgba(255,0,0,0.5869218111038208)\">\"</span> I read your book, \" But I <span style=\"color: rgba(255,0,0,0.7147901058197021)\">come</span> back for her \" Roses are red, my love <span style=\"color: rgba(255,0,0,0.8414584994316101)\">But</span> <span style=\"color: rgba(255,0,0,0.8625483512878418)\">Roses</span> are red ( is sweet? I love No one, may she <span style=\"color: rgba(255,0,0,0.6096270680427551)\">go</span> with you, say, God bless her ) \" But your love one? She has a lot like her \" But some one shall come<span style=\"color: rgba(255,0,0,0.6730961799621582)\">.</span>"
      ],
      "text/plain": [
       "<IPython.core.display.HTML object>"
      ]
     },
     "metadata": {},
     "output_type": "display_data"
    },
    {
     "data": {
      "text/html": [
       "\" Roses are red, my love Violets are red, is sweet, my love But not as sweet as you ) I went through the book And when the <span style=\"color: rgba(0,0,255,1)\">first</span> I <span style=\"color: rgba(0,0,255,1)\">came</span> I read in a book as to you: \" Roses are red, my love, <span style=\"color: rgba(0,0,255,1)\">Roses</span> are red, is sweet, my love But <span style=\"color: rgba(0,0,255,1)\">not</span> as sweet as you \" ( as sweet as you ) <span style=\"color: rgba(0,0,255,1)\">But</span> you went far away And never saw me <span style=\"color: rgba(0,0,255,1)\">ever</span> I read your book, \" But I come back for her \" Roses <span style=\"color: rgba(0,0,255,1)\">are</span> red, my love But Roses are red ( is sweet? I love No one, may <span style=\"color: rgba(0,0,255,1)\">she</span> come with you, say, God bless her ) <span style=\"color: rgba(0,0,255,1)\">\"</span> But your love one? She <span style=\"color: rgba(0,0,255,1)\">has</span> a lot like her \" But some one shall come"
      ],
      "text/plain": [
       "<IPython.core.display.HTML object>"
      ]
     },
     "metadata": {},
     "output_type": "display_data"
    },
    {
     "data": {
      "text/html": [
       "\" Roses are red, my love Violets are red, is sweet, my love But not as sweet as you ) I went through the book And when the <span style=\"color: rgba(255,0,0,0.873550295829773)\">day</span> I <span style=\"color: rgba(255,0,0,0.9408408403396606)\">read</span> I read in a book as to you: \" Roses are red, my love, <span style=\"color: rgba(255,0,0,0.9532792568206787)\">Roses</span> are red, is sweet, my love But <span style=\"color: rgba(255,0,0,0.9990034103393555)\">not</span> as sweet as you \" ( as sweet as you ) <span style=\"color: rgba(255,0,0,0.7297711968421936)\">But</span> you went far away And never saw me <span style=\"color: rgba(255,0,0,0.6405395269393921)\">but</span> I read your book, \" But I come back for her \" Roses <span style=\"color: rgba(255,0,0,0.9977724552154541)\">are</span> red, my love But Roses are red ( is sweet? I love No one, may <span style=\"color: rgba(255,0,0,0.951552152633667)\">she</span> come with you, say, God bless her ) <span style=\"color: rgba(255,0,0,0.7073341012001038)\">\"</span> But your love one? She <span style=\"color: rgba(255,0,0,0.8572173714637756)\">has</span> a lot like her \" But some one shall come."
      ],
      "text/plain": [
       "<IPython.core.display.HTML object>"
      ]
     },
     "metadata": {},
     "output_type": "display_data"
    },
    {
     "data": {
      "text/html": [
       "\" Roses are red, my love Violets are red, is sweet, my love But not as sweet as you ) <span style=\"color: rgba(0,0,255,1)\">I</span> went through the book And when the <span style=\"color: rgba(0,0,255,1)\">day</span> I <span style=\"color: rgba(0,0,255,1)\">made</span> I read in a book as to you: \" Roses are red, my love, Roses are red<span style=\"color: rgba(0,0,255,1)\">,</span> is sweet, my love But not as sweet as you \" ( as sweet as you ) And you went far away And never saw me but I read your book, \" But I come back for her \" Roses are red<span style=\"color: rgba(0,0,255,1)\">,</span> my love <span style=\"color: rgba(0,0,255,1)\">But</span> Roses are <span style=\"color: rgba(0,0,255,1)\">red</span> ( is sweet? I love No one, may she <span style=\"color: rgba(0,0,255,1)\">come</span> with you, say, God bless her ), But your <span style=\"color: rgba(0,0,255,1)\">love</span> one? She has a lot like her \" But <span style=\"color: rgba(0,0,255,1)\">some</span> one shall come"
      ],
      "text/plain": [
       "<IPython.core.display.HTML object>"
      ]
     },
     "metadata": {},
     "output_type": "display_data"
    },
    {
     "data": {
      "text/html": [
       "\" Roses are red, my love Violets are red, is sweet, my love But not as sweet as you ) <span style=\"color: rgba(255,0,0,0.991923451423645)\">I</span> went through the book And when the <span style=\"color: rgba(255,0,0,0.5843900442123413)\">day</span> I <span style=\"color: rgba(255,0,0,0.7456871271133423)\">read</span> I read in a book as to you: \" Roses are red, my love, Roses are red<span style=\"color: rgba(255,0,0,0.9981495141983032)\">,</span> is sweet, my love But not as sweet as you \" ( as sweet as you ) And you went far away And never saw me but I read your book, \" But I come back for her \" Roses are red<span style=\"color: rgba(255,0,0,0.9999475479125977)\">,</span> my love<span style=\"color: rgba(255,0,0,0.7297166585922241)\">,</span> Roses are <span style=\"color: rgba(255,0,0,0.923632025718689)\">red</span> ( is sweet? I love No one, may she <span style=\"color: rgba(255,0,0,0.6118074059486389)\">go</span> with you, say, God bless her ), But your <span style=\"color: rgba(255,0,0,0.7232769131660461)\">no</span> one? She has a lot like her \" But <span style=\"color: rgba(255,0,0,0.9938930869102478)\">no</span> one shall come."
      ],
      "text/plain": [
       "<IPython.core.display.HTML object>"
      ]
     },
     "metadata": {},
     "output_type": "display_data"
    },
    {
     "data": {
      "text/html": [
       "\" Roses are red, my love Violets are red<span style=\"color: rgba(0,0,255,1)\">,</span> is sweet<span style=\"color: rgba(0,0,255,1)\">,</span> my love But not as sweet as you ) I went through the book And when the day I read I read in a book <span style=\"color: rgba(0,0,255,1)\">as</span> to you: \" Roses are red, my love, Roses are red, is sweet, my love But not as sweet as you \" ( as sweet <span style=\"color: rgba(0,0,255,1)\">as</span> you ) And you went far away And never saw me but I read your book, <span style=\"color: rgba(0,0,255,1)\">\"</span> But I come back for her \" Roses are red, my love, Roses are red ( is <span style=\"color: rgba(0,0,255,1)\">sweet</span>? <span style=\"color: rgba(0,0,255,1)\">I</span> love No one, may she stay <span style=\"color: rgba(0,0,255,1)\">with</span> you, say, God bless her ), But your sweet one<span style=\"color: rgba(0,0,255,1)\">?</span> She has a lot like her \" But no one shall come"
      ],
      "text/plain": [
       "<IPython.core.display.HTML object>"
      ]
     },
     "metadata": {},
     "output_type": "display_data"
    },
    {
     "data": {
      "text/html": [
       "\" Roses are red, my love Violets are red<span style=\"color: rgba(255,0,0,0.9963484406471252)\">,</span> is sweet<span style=\"color: rgba(255,0,0,0.9998531341552734)\">,</span> my love But not as sweet as you ) I went through the book And when the day I read I read in a book <span style=\"color: rgba(255,0,0,0.7052319049835205)\">next</span> to you: \" Roses are red, my love, Roses are red, is sweet, my love But not as sweet as you \" ( as sweet <span style=\"color: rgba(255,0,0,0.9933074712753296)\">as</span> you ) And you went far away And never saw me but I read your book, <span style=\"color: rgba(255,0,0,0.9964951872825623)\">\"</span> But I come back for her \" Roses are red, my love, Roses are red ( is <span style=\"color: rgba(255,0,0,0.9456283450126648)\">sweet</span>? <span style=\"color: rgba(255,0,0,0.9909645318984985)\">I</span> love No one, may she stay <span style=\"color: rgba(255,0,0,0.7322357296943665)\">with</span> you, say, God bless her ), But your sweet one<span style=\"color: rgba(255,0,0,0.7183511257171631)\">?</span> She has a lot like her \" But no one shall come."
      ],
      "text/plain": [
       "<IPython.core.display.HTML object>"
      ]
     },
     "metadata": {},
     "output_type": "display_data"
    },
    {
     "data": {
      "text/html": [
       "\" Roses are red, my love Violets are red, is sweet<span style=\"color: rgba(0,0,255,1)\">,</span> my love But not as sweet as you ) I went through the book And when the day I read I read in a book <span style=\"color: rgba(0,0,255,1)\">said</span> to <span style=\"color: rgba(0,0,255,1)\">you</span>: \" Roses are red, my love, Roses are red, is sweet, my love But not as sweet as you \" ( as sweet as you ) <span style=\"color: rgba(0,0,255,1)\">And</span> you went far away And never saw me but I read your book, \" But I come back for her \" Roses are red<span style=\"color: rgba(0,0,255,1)\">,</span> my love<span style=\"color: rgba(0,0,255,1)\">,</span> Roses are red ( is sweet? I love No one, may she stay <span style=\"color: rgba(0,0,255,1)\">In</span> you, <span style=\"color: rgba(0,0,255,1)\">say</span>, God bless her ), But your sweet one? She has a lot like <span style=\"color: rgba(0,0,255,1)\">her</span> \" But <span style=\"color: rgba(0,0,255,1)\">no</span> one shall come"
      ],
      "text/plain": [
       "<IPython.core.display.HTML object>"
      ]
     },
     "metadata": {},
     "output_type": "display_data"
    },
    {
     "data": {
      "text/html": [
       "\" Roses are red, my love Violets are red, is sweet<span style=\"color: rgba(255,0,0,0.9999771118164062)\">,</span> my love But not as sweet as you ) I went through the book And when the day I read I read in a book <span style=\"color: rgba(255,0,0,0.6541566848754883)\">next</span> to <span style=\"color: rgba(255,0,0,0.8557330965995789)\">me</span>: \" Roses are red, my love, Roses are red, is sweet, my love But not as sweet as you \" ( as sweet as you ) <span style=\"color: rgba(255,0,0,0.7212005257606506)\">And</span> you went far away And never saw me but I read your book, \" But I come back for her \" Roses are red<span style=\"color: rgba(255,0,0,0.9999475479125977)\">,</span> my love<span style=\"color: rgba(255,0,0,0.9099487066268921)\">,</span> Roses are red ( is sweet? I love No one, may she stay <span style=\"color: rgba(255,0,0,0.8475257158279419)\">for</span> you, <span style=\"color: rgba(255,0,0,0.5913776755332947)\">O</span>, God bless her ), But your sweet one? She has a lot like <span style=\"color: rgba(255,0,0,0.8612558245658875)\">you</span> \" But <span style=\"color: rgba(255,0,0,0.92760169506073)\">no</span> one shall come <span style=\"color: rgba(255,0,0,0.6077279448509216)\">for</span>"
      ],
      "text/plain": [
       "<IPython.core.display.HTML object>"
      ]
     },
     "metadata": {},
     "output_type": "display_data"
    },
    {
     "data": {
      "text/html": [
       "\" Roses are red, my love Violets are red, is sweet, my love <span style=\"color: rgba(0,0,255,1)\">But</span> not as sweet as you ) <span style=\"color: rgba(0,0,255,1)\">I</span> went through the book And when <span style=\"color: rgba(0,0,255,1)\">the</span> day I read I read <span style=\"color: rgba(0,0,255,1)\">in</span> a book <span style=\"color: rgba(0,0,255,1)\">O</span> to me: \" Roses are red, my love<span style=\"color: rgba(0,0,255,1)\">,</span> Roses are red, is sweet, my love But not as sweet as you \" ( as sweet as you ) And <span style=\"color: rgba(0,0,255,1)\">you</span> went far away And never saw <span style=\"color: rgba(0,0,255,1)\">me</span> but I read your book, \" But I come back for her \" Roses are red, my love, Roses are red ( is sweet? I love No one, may she stay <span style=\"color: rgba(0,0,255,1)\">for</span> you<span style=\"color: rgba(0,0,255,1)\">,</span> <span style=\"color: rgba(0,0,255,1)\">Ah</span>, God bless her ), But your sweet one? She has a lot like you \" But no one shall come"
      ],
      "text/plain": [
       "<IPython.core.display.HTML object>"
      ]
     },
     "metadata": {},
     "output_type": "display_data"
    },
    {
     "data": {
      "text/html": [
       "\" Roses are red, my love Violets are red, is sweet, my love <span style=\"color: rgba(255,0,0,0.7642562985420227)\">(</span> not as sweet as you ) <span style=\"color: rgba(255,0,0,0.9567337036132812)\">I</span> went through the book And when <span style=\"color: rgba(255,0,0,0.6966242790222168)\">next</span> day I read I read <span style=\"color: rgba(255,0,0,0.6841115355491638)\">in</span> a book <span style=\"color: rgba(255,0,0,0.8755015134811401)\">next</span> to me: \" Roses are red, my love<span style=\"color: rgba(255,0,0,0.8192589282989502)\">,</span> Roses are red, is sweet, my love But not as sweet as you \" ( as sweet as you ) And <span style=\"color: rgba(255,0,0,0.8979639410972595)\">I</span> went far away And never saw <span style=\"color: rgba(255,0,0,0.9423270225524902)\">her</span> but I read your book, \" But I come back for her \" Roses are red, my love, Roses are red ( is sweet? I love No one, may she stay <span style=\"color: rgba(255,0,0,0.5982922911643982)\">Where</span> you<span style=\"color: rgba(255,0,0,0.5855115056037903)\">.</span> <span style=\"color: rgba(255,0,0,0.5363588929176331)\">no</span>, God bless her ), But your sweet one? She has a lot like you \" But no one shall come<span style=\"color: rgba(255,0,0,0.7348076701164246)\">.</span>"
      ],
      "text/plain": [
       "<IPython.core.display.HTML object>"
      ]
     },
     "metadata": {},
     "output_type": "display_data"
    },
    {
     "data": {
      "text/html": [
       "\" Roses are red, my love Violets are red, is sweet, my love <span style=\"color: rgba(0,0,255,1)\">But</span> not as sweet as you ) I went through the book And when next day I read I read <span style=\"color: rgba(0,0,255,1)\">but</span> a book next <span style=\"color: rgba(0,0,255,1)\">to</span> me<span style=\"color: rgba(0,0,255,1)\">:</span> \" Roses are red, my love, <span style=\"color: rgba(0,0,255,1)\">Roses</span> are red, is sweet, my love But not as sweet as you \" ( as sweet as you ) And I went far <span style=\"color: rgba(0,0,255,1)\">away</span> And never saw her but I read your book, \" But I come back for her \" Roses are red, my love, Roses are red ( is sweet? I love No one, may she <span style=\"color: rgba(0,0,255,1)\">stay</span> <span style=\"color: rgba(0,0,255,1)\">Except</span> you \" <span style=\"color: rgba(0,0,255,1)\">no</span>, God bless her ), But your sweet <span style=\"color: rgba(0,0,255,1)\">one</span>? She has a lot <span style=\"color: rgba(0,0,255,1)\">like</span> you \" But no one shall come"
      ],
      "text/plain": [
       "<IPython.core.display.HTML object>"
      ]
     },
     "metadata": {},
     "output_type": "display_data"
    },
    {
     "data": {
      "text/html": [
       "\" Roses are red, my love Violets are red, is sweet, my love <span style=\"color: rgba(255,0,0,0.9055963754653931)\">But</span> not as sweet as you ) I went through the book And when next day I read I read <span style=\"color: rgba(255,0,0,0.9119148850440979)\">in</span> a book next <span style=\"color: rgba(255,0,0,0.9993481040000916)\">to</span> me<span style=\"color: rgba(255,0,0,0.844153642654419)\">.</span> \" Roses are red, my love, <span style=\"color: rgba(255,0,0,0.9240450859069824)\">Roses</span> are red, is sweet, my love But not as sweet as you \" ( as sweet as you ) And I went far <span style=\"color: rgba(255,0,0,0.9171445369720459)\">away</span> And never saw her but I read your book, \" But I come back for her \" Roses are red, my love, Roses are red ( is sweet? I love No one, may she <span style=\"color: rgba(255,0,0,0.7602825164794922)\">not</span> <span style=\"color: rgba(255,0,0,0.8778797388076782)\">for</span> you \" <span style=\"color: rgba(255,0,0,0.7100970149040222)\">Oh</span>, God bless her ), But your sweet <span style=\"color: rgba(255,0,0,0.5271314978599548)\">her</span>? She has a lot <span style=\"color: rgba(255,0,0,0.6878425478935242)\">like</span> you \" But no one shall come<span style=\"color: rgba(255,0,0,0.7137579321861267)\">.</span>"
      ],
      "text/plain": [
       "<IPython.core.display.HTML object>"
      ]
     },
     "metadata": {},
     "output_type": "display_data"
    },
    {
     "data": {
      "text/html": [
       "\" Roses are red, my love Violets are red, is sweet, my love But not as sweet as you ) I went through the book And when next day I read I <span style=\"color: rgba(0,0,255,1)\">read</span> <span style=\"color: rgba(0,0,255,1)\">through</span> a book <span style=\"color: rgba(0,0,255,1)\">next</span> to me. \" Roses are red, my <span style=\"color: rgba(0,0,255,1)\">love</span>, Roses are red, is sweet, my love But not as sweet as you \" ( as sweet as you ) And I went far away And never saw her but I read your <span style=\"color: rgba(0,0,255,1)\">book</span><span style=\"color: rgba(0,0,255,1)\">,</span> \" But I <span style=\"color: rgba(0,0,255,1)\">come</span> back for her \" Roses are red, my love, Roses are red ( is sweet? I love No one, may she not for you <span style=\"color: rgba(0,0,255,1)\">\"</span> Oh, <span style=\"color: rgba(0,0,255,1)\">God</span> bless her ), But your sweet<span style=\"color: rgba(0,0,255,1)\">er</span><span style=\"color: rgba(0,0,255,1)\">?</span> She has a lot for you \" But no one shall come"
      ],
      "text/plain": [
       "<IPython.core.display.HTML object>"
      ]
     },
     "metadata": {},
     "output_type": "display_data"
    },
    {
     "data": {
      "text/html": [
       "\" Roses are red, my love Violets are red, is sweet, my love But not as sweet as you ) I went through the book And when next day I read I <span style=\"color: rgba(255,0,0,0.8028858304023743)\">saw</span> <span style=\"color: rgba(255,0,0,0.5942118763923645)\">not</span> a book <span style=\"color: rgba(255,0,0,0.5683028101921082)\">next</span> to me. \" Roses are red, my <span style=\"color: rgba(255,0,0,0.9988883137702942)\">love</span>, Roses are red, is sweet, my love But not as sweet as you \" ( as sweet as you ) And I went far away And never saw her but I read your <span style=\"color: rgba(255,0,0,0.5861039757728577)\">love</span><span style=\"color: rgba(255,0,0,0.9253379106521606)\">.</span> \" But I <span style=\"color: rgba(255,0,0,0.7023568749427795)\">came</span> back for her \" Roses are red, my love, Roses are red ( is sweet? I love No one, may she not for you <span style=\"color: rgba(255,0,0,0.6711739301681519)\">\"</span> Oh, <span style=\"color: rgba(255,0,0,0.9685468673706055)\">God</span> bless her ), But your sweet<span style=\"color: rgba(255,0,0,0.7821930646896362)\">?</span> <span style=\"color: rgba(255,0,0,0.7999054193496704)\">\"</span> She has a lot for you \" But no one shall come back"
      ],
      "text/plain": [
       "<IPython.core.display.HTML object>"
      ]
     },
     "metadata": {},
     "output_type": "display_data"
    },
    {
     "data": {
      "text/html": [
       "\" Roses are red, my love Violets <span style=\"color: rgba(0,0,255,1)\">are</span> red, <span style=\"color: rgba(0,0,255,1)\">is</span> sweet, my love But not as sweet as you ) I went through the book And when next day I read I saw <span style=\"color: rgba(0,0,255,1)\">saw</span> a book <span style=\"color: rgba(0,0,255,1)\">came</span> to me. <span style=\"color: rgba(0,0,255,1)\">\"</span> Roses <span style=\"color: rgba(0,0,255,1)\">are</span> red, my love, <span style=\"color: rgba(0,0,255,1)\">Roses</span> are red, is sweet, my love But <span style=\"color: rgba(0,0,255,1)\">not</span> as sweet as you \" ( as sweet as you ) And I went far away And never saw her but I read your <span style=\"color: rgba(0,0,255,1)\">letters</span> <span style=\"color: rgba(0,0,255,1)\">book</span> \" But I come back for her \" Roses are red, my love, Roses are red ( is sweet? I love No one, may she <span style=\"color: rgba(0,0,255,1)\">not</span> for you? Oh, God bless her ), But your sweet <span style=\"color: rgba(0,0,255,1)\">Laura</span> <span style=\"color: rgba(0,0,255,1)\">say</span> She has a lot for you \" But no one <span style=\"color: rgba(0,0,255,1)\">shall</span> come"
      ],
      "text/plain": [
       "<IPython.core.display.HTML object>"
      ]
     },
     "metadata": {},
     "output_type": "display_data"
    },
    {
     "data": {
      "text/html": [
       "\" Roses are red, my love Violets <span style=\"color: rgba(255,0,0,0.9992481470108032)\">are</span> red, <span style=\"color: rgba(255,0,0,0.8196617364883423)\">is</span> sweet, my love But not as sweet as you ) I went through the book And when next day I read I saw <span style=\"color: rgba(255,0,0,0.6699764728546143)\">not</span> a book <span style=\"color: rgba(255,0,0,0.6012269258499146)\">given</span> to me. <span style=\"color: rgba(255,0,0,0.9997197389602661)\">\"</span> Roses <span style=\"color: rgba(255,0,0,0.9997187852859497)\">are</span> red, my love, <span style=\"color: rgba(255,0,0,0.991306483745575)\">Roses</span> are red, is sweet, my love But <span style=\"color: rgba(255,0,0,0.9961127638816833)\">not</span> as sweet as you \" ( as sweet as you ) And I went far away And never saw her but I read your <span style=\"color: rgba(255,0,0,0.8665282130241394)\">book</span><span style=\"color: rgba(255,0,0,0.8996891975402832)\">.</span> \" But I come back for her \" Roses are red, my love, Roses are red ( is sweet? I love No one, may she <span style=\"color: rgba(255,0,0,0.6371369957923889)\">love</span> for you? Oh, God bless her ), But your sweet<span style=\"color: rgba(255,0,0,0.748710036277771)\">?</span> <span style=\"color: rgba(255,0,0,0.993722140789032)\">\"</span> She has a lot for you \" But no one<span style=\"color: rgba(255,0,0,0.7748700976371765)\">,</span> come back"
      ],
      "text/plain": [
       "<IPython.core.display.HTML object>"
      ]
     },
     "metadata": {},
     "output_type": "display_data"
    },
    {
     "data": {
      "text/html": [
       "\" Roses are red, my love Violets are red, is sweet, my love But not as sweet as you ) I went through the book And when next <span style=\"color: rgba(0,0,255,1)\">day</span> I <span style=\"color: rgba(0,0,255,1)\">read</span> I saw but a book given to me. \" Roses <span style=\"color: rgba(0,0,255,1)\">are</span> red, my love<span style=\"color: rgba(0,0,255,1)\">,</span> Roses are red, is sweet, my love But <span style=\"color: rgba(0,0,255,1)\">not</span> as sweet as you \" ( as sweet as <span style=\"color: rgba(0,0,255,1)\">you</span> ) And I went far away And never saw her but I read <span style=\"color: rgba(0,0,255,1)\">your</span> <span style=\"color: rgba(0,0,255,1)\">lips</span>. \" But I come back for her \" Roses are red, my love, Roses are red ( is sweet? I love No <span style=\"color: rgba(0,0,255,1)\">one</span>, may she <span style=\"color: rgba(0,0,255,1)\">call</span> for you? Oh, God bless her ), But your <span style=\"color: rgba(0,0,255,1)\">sweet</span>? \" She has a lot for you \" But no one, come"
      ],
      "text/plain": [
       "<IPython.core.display.HTML object>"
      ]
     },
     "metadata": {},
     "output_type": "display_data"
    },
    {
     "data": {
      "text/html": [
       "\" Roses are red, my love Violets are red, is sweet, my love But not as sweet as you ) I went through the book And when next <span style=\"color: rgba(255,0,0,0.771419882774353)\">night</span> I <span style=\"color: rgba(255,0,0,0.8149279952049255)\">read</span> I saw but a book given to me. \" Roses <span style=\"color: rgba(255,0,0,0.9985572695732117)\">are</span> red, my love <span style=\"color: rgba(255,0,0,0.9017072916030884)\">\"</span> Roses are red, is sweet, my love But <span style=\"color: rgba(255,0,0,0.9995214939117432)\">not</span> as sweet as you \" ( as sweet as <span style=\"color: rgba(255,0,0,0.9962584972381592)\">you</span> ) And I went far away And never saw her but I read <span style=\"color: rgba(255,0,0,0.6273829936981201)\">her</span> <span style=\"color: rgba(255,0,0,0.7607339024543762)\">book</span>. \" But I come back for her \" Roses are red, my love, Roses are red ( is sweet? I love No <span style=\"color: rgba(255,0,0,0.9985163807868958)\">one</span>, may she <span style=\"color: rgba(255,0,0,0.7252316474914551)\">come</span> for you? Oh, God bless her ), But your <span style=\"color: rgba(255,0,0,0.848555326461792)\">love</span>? \" She has a lot for you \" But no one, come back"
      ],
      "text/plain": [
       "<IPython.core.display.HTML object>"
      ]
     },
     "metadata": {},
     "output_type": "display_data"
    },
    {
     "data": {
      "text/html": [
       "\" Roses are red, my love Violets <span style=\"color: rgba(0,0,255,1)\">are</span> red, is sweet, my love But not as <span style=\"color: rgba(0,0,255,1)\">sweet</span> as you ) I went through the book And when next day I read I saw but a book <span style=\"color: rgba(0,0,255,1)\">given</span> to me. \" Roses are red, my love \" Roses are red, is sweet, my love But not as sweet as you \" ( as sweet as you ) And <span style=\"color: rgba(0,0,255,1)\">I</span> went far away And never saw her but I read her <span style=\"color: rgba(0,0,255,1)\">day</span>. <span style=\"color: rgba(0,0,255,1)\">\"</span> But I <span style=\"color: rgba(0,0,255,1)\">come</span> back for her \" Roses are red, my love, Roses are red ( is sweet? I love No one, may she <span style=\"color: rgba(0,0,255,1)\">cry</span> for you? <span style=\"color: rgba(0,0,255,1)\">Oh</span>, God bless her ), <span style=\"color: rgba(0,0,255,1)\">But</span> your love? \" She has a lot for you \" But no one, come"
      ],
      "text/plain": [
       "<IPython.core.display.HTML object>"
      ]
     },
     "metadata": {},
     "output_type": "display_data"
    },
    {
     "data": {
      "text/html": [
       "\" Roses are red, my love Violets <span style=\"color: rgba(255,0,0,0.9983937740325928)\">are</span> red, is sweet, my love But not as <span style=\"color: rgba(255,0,0,0.99098140001297)\">sweet</span> as you ) I went through the book And when next day I read I saw but a book <span style=\"color: rgba(255,0,0,0.6618096828460693)\">next</span> to me. \" Roses are red, my love \" Roses are red, is sweet, my love But not as sweet as you \" ( as sweet as you ) And <span style=\"color: rgba(255,0,0,0.9969196319580078)\">I</span> went far away And never saw her but I read her <span style=\"color: rgba(255,0,0,0.5595188140869141)\">wrong</span>. <span style=\"color: rgba(255,0,0,0.9925093054771423)\">\"</span> But I <span style=\"color: rgba(255,0,0,0.989763617515564)\">come</span> back for her \" Roses are red, my love, Roses are red ( is sweet? I love No one, may she <span style=\"color: rgba(255,0,0,0.7207241058349609)\">return</span> for you? <span style=\"color: rgba(255,0,0,0.6142468452453613)\">O</span>, God bless her ), <span style=\"color: rgba(255,0,0,0.7357372641563416)\">but</span> your love? \" She has a lot for you \" But no one, come back"
      ],
      "text/plain": [
       "<IPython.core.display.HTML object>"
      ]
     },
     "metadata": {},
     "output_type": "display_data"
    },
    {
     "data": {
      "text/html": [
       "\" Roses are red<span style=\"color: rgba(0,0,255,1)\">,</span> my love Violets are red, is sweet, my love But not as sweet as you ) I went through the book And when next day I read I saw but a book <span style=\"color: rgba(0,0,255,1)\">working</span> to me. \" Roses are red, my love <span style=\"color: rgba(0,0,255,1)\">\"</span> Roses are red, is sweet, my love <span style=\"color: rgba(0,0,255,1)\">But</span> not as sweet as you \" ( as sweet as you ) And I went far <span style=\"color: rgba(0,0,255,1)\">away</span> And <span style=\"color: rgba(0,0,255,1)\">never</span> saw her but I read <span style=\"color: rgba(0,0,255,1)\">her</span> <span style=\"color: rgba(0,0,255,1)\">in</span>. \" But I come back for her \" Roses are red, my love, Roses are red ( is sweet? I love <span style=\"color: rgba(0,0,255,1)\">No</span> one, may she <span style=\"color: rgba(0,0,255,1)\">cry</span> for you? No, God bless her ), <span style=\"color: rgba(0,0,255,1)\">but</span> your love? <span style=\"color: rgba(0,0,255,1)\">\"</span> She has a lot for you \" But no one, come"
      ],
      "text/plain": [
       "<IPython.core.display.HTML object>"
      ]
     },
     "metadata": {},
     "output_type": "display_data"
    },
    {
     "data": {
      "text/html": [
       "\" Roses are red<span style=\"color: rgba(255,0,0,0.9986438155174255)\">,</span> my love Violets are red, is sweet, my love But not as sweet as you ) I went through the book And when next day I read I saw but a book <span style=\"color: rgba(255,0,0,0.6048339605331421)\">given</span> to me. \" Roses are red, my love<span style=\"color: rgba(255,0,0,0.7622693777084351)\">,</span> Roses are red, is sweet, my love <span style=\"color: rgba(255,0,0,0.9767094850540161)\">But</span> not as sweet as you \" ( as sweet as you ) And I went far <span style=\"color: rgba(255,0,0,0.9043574333190918)\">away</span> And <span style=\"color: rgba(255,0,0,0.9557816982269287)\">I</span> saw her but I read <span style=\"color: rgba(255,0,0,0.8389974236488342)\">not</span> <span style=\"color: rgba(255,0,0,0.736406147480011)\">book</span>. \" But I come back for her \" Roses are red, my love, Roses are red ( is sweet? I love <span style=\"color: rgba(255,0,0,0.9827401638031006)\">no</span> one, may she <span style=\"color: rgba(255,0,0,0.7796345949172974)\">love</span> for you? No, God bless her ), <span style=\"color: rgba(255,0,0,0.9047057628631592)\">but</span> your love? <span style=\"color: rgba(255,0,0,0.9973368644714355)\">\"</span> She has a lot for you \" But no one, come back"
      ],
      "text/plain": [
       "<IPython.core.display.HTML object>"
      ]
     },
     "metadata": {},
     "output_type": "display_data"
    },
    {
     "data": {
      "text/html": [
       "\" Roses are red, my love Violets are red, is sweet, my love But not as <span style=\"color: rgba(0,0,255,1)\">sweet</span> as you ) I went through the book And when next day I read I saw but a book <span style=\"color: rgba(0,0,255,1)\">gave</span> to me. \" Roses are red, my love, Roses are red, is sweet, my love But not as sweet as you \" ( as <span style=\"color: rgba(0,0,255,1)\">sweet</span> as you ) And I went far away And I saw her but I read <span style=\"color: rgba(0,0,255,1)\">but</span> book. \" <span style=\"color: rgba(0,0,255,1)\">But</span> I come back for her \" Roses are red, my love, <span style=\"color: rgba(0,0,255,1)\">Roses</span> are red ( is sweet? I love no one, may she <span style=\"color: rgba(0,0,255,1)\">wait</span> <span style=\"color: rgba(0,0,255,1)\">for</span> you? No, God bless her ), but your love? \" She <span style=\"color: rgba(0,0,255,1)\">has</span> a lot for you \" <span style=\"color: rgba(0,0,255,1)\">But</span> <span style=\"color: rgba(0,0,255,1)\">no</span> one, come"
      ],
      "text/plain": [
       "<IPython.core.display.HTML object>"
      ]
     },
     "metadata": {},
     "output_type": "display_data"
    },
    {
     "data": {
      "text/html": [
       "\" Roses are red, my love Violets are red, is sweet, my love But not as <span style=\"color: rgba(255,0,0,0.978230357170105)\">sweet</span> as you ) I went through the book And when next day I read I saw but a book <span style=\"color: rgba(255,0,0,0.6252624988555908)\">next</span> to me. \" Roses are red, my love, Roses are red, is sweet, my love But not as sweet as you \" ( as <span style=\"color: rgba(255,0,0,0.9905105829238892)\">sweet</span> as you ) And I went far away And I saw her but I read <span style=\"color: rgba(255,0,0,0.96893310546875)\">the</span> book. \" <span style=\"color: rgba(255,0,0,0.6245852708816528)\">But</span> I come back for her \" Roses are red, my love, <span style=\"color: rgba(255,0,0,0.9532554745674133)\">Roses</span> are red ( is sweet? I love no one, may she <span style=\"color: rgba(255,0,0,0.6399760246276855)\">not</span> <span style=\"color: rgba(255,0,0,0.7170051336288452)\">love</span> you? No, God bless her ), but your love? \" She <span style=\"color: rgba(255,0,0,0.9238591194152832)\">has</span> a lot for you \" <span style=\"color: rgba(255,0,0,0.6006838083267212)\">O</span> <span style=\"color: rgba(255,0,0,0.6468539834022522)\">no</span> one, come back"
      ],
      "text/plain": [
       "<IPython.core.display.HTML object>"
      ]
     },
     "metadata": {},
     "output_type": "display_data"
    },
    {
     "data": {
      "text/html": [
       "\" Roses are red, my love Violets are red, is sweet, my love But not as sweet as <span style=\"color: rgba(0,0,255,1)\">you</span> ) I went through the book And when next day I read I saw but a book <span style=\"color: rgba(0,0,255,1)\">again</span> to me. \" Roses are red, my love, Roses are red<span style=\"color: rgba(0,0,255,1)\">,</span> is sweet, my <span style=\"color: rgba(0,0,255,1)\">love</span> But not as sweet as you \" ( as sweet <span style=\"color: rgba(0,0,255,1)\">as</span> you ) And I went far away <span style=\"color: rgba(0,0,255,1)\">And</span> I saw her but I read the book. \" Did I come back for her \" Roses are red, my <span style=\"color: rgba(0,0,255,1)\">love</span>, Roses are red ( is <span style=\"color: rgba(0,0,255,1)\">sweet</span>? I love no <span style=\"color: rgba(0,0,255,1)\">one</span>, may she not love you? No, God bless her ), but your love? \" She has a lot for <span style=\"color: rgba(0,0,255,1)\">you</span> \"<span style=\"color: rgba(0,0,255,1)\">.</span> only one, come"
      ],
      "text/plain": [
       "<IPython.core.display.HTML object>"
      ]
     },
     "metadata": {},
     "output_type": "display_data"
    },
    {
     "data": {
      "text/html": [
       "\" Roses are red, my love Violets are red, is sweet, my love But not as sweet as <span style=\"color: rgba(255,0,0,0.9990415573120117)\">you</span> ) I went through the book And when next day I read I saw but a book <span style=\"color: rgba(255,0,0,0.628853440284729)\">next</span> to me. \" Roses are red, my love, Roses are red<span style=\"color: rgba(255,0,0,0.9988835453987122)\">,</span> is sweet, my <span style=\"color: rgba(255,0,0,0.9945783615112305)\">love</span> But not as sweet as you \" ( as sweet <span style=\"color: rgba(255,0,0,0.9994823932647705)\">as</span> you ) And I went far away <span style=\"color: rgba(255,0,0,0.9723690748214722)\">but</span> I saw her but I read the book. \" Did I come back for her \" Roses are red, my <span style=\"color: rgba(255,0,0,0.9990605711936951)\">love</span>, Roses are red ( is <span style=\"color: rgba(255,0,0,0.7788748145103455)\">sweet</span>? I love no <span style=\"color: rgba(255,0,0,0.7369880676269531)\">other</span>, may she not love you? No, God bless her ), but your love? \" She has a lot for <span style=\"color: rgba(255,0,0,0.7591611742973328)\">me</span> \" <span style=\"color: rgba(255,0,0,0.6416559815406799)\">And</span> only one, come back"
      ],
      "text/plain": [
       "<IPython.core.display.HTML object>"
      ]
     },
     "metadata": {},
     "output_type": "display_data"
    },
    {
     "data": {
      "text/html": [
       "\" Roses are red<span style=\"color: rgba(0,0,255,1)\">,</span> my love Violets are red, is sweet, my love But not as sweet as you ) I went through the book And when next day I read I saw but a book <span style=\"color: rgba(0,0,255,1)\">back</span> to me. \" Roses are <span style=\"color: rgba(0,0,255,1)\">red</span>, <span style=\"color: rgba(0,0,255,1)\">my</span> love, Roses are red, is sweet, my love But not <span style=\"color: rgba(0,0,255,1)\">as</span> sweet as you \" ( as sweet as you ) And I went far away but <span style=\"color: rgba(0,0,255,1)\">I</span> saw her but I read the book. \" Did I <span style=\"color: rgba(0,0,255,1)\">come</span> back for her \" Roses are red, my love, Roses are red ( is sweet? I love no other, may she not love you? No, God bless <span style=\"color: rgba(0,0,255,1)\">her</span> ), <span style=\"color: rgba(0,0,255,1)\">but</span> your love? \" She has a lot for me <span style=\"color: rgba(0,0,255,1)\">\"</span> <span style=\"color: rgba(0,0,255,1)\">My</span> only one, come"
      ],
      "text/plain": [
       "<IPython.core.display.HTML object>"
      ]
     },
     "metadata": {},
     "output_type": "display_data"
    },
    {
     "data": {
      "text/html": [
       "\" Roses are red<span style=\"color: rgba(255,0,0,0.9999494552612305)\">,</span> my love Violets are red, is sweet, my love But not as sweet as you ) I went through the book And when next day I read I saw but a book <span style=\"color: rgba(255,0,0,0.6103895902633667)\">next</span> to me. \" Roses are <span style=\"color: rgba(255,0,0,0.978123664855957)\">red</span>, <span style=\"color: rgba(255,0,0,0.9984079599380493)\">my</span> love, Roses are red, is sweet, my love But not <span style=\"color: rgba(255,0,0,0.9741142988204956)\">as</span> sweet as you \" ( as sweet as you ) And I went far away but <span style=\"color: rgba(255,0,0,0.9951154589653015)\">I</span> saw her but I read the book. \" Did I <span style=\"color: rgba(255,0,0,0.8109180927276611)\">come</span> back for her \" Roses are red, my love, Roses are red ( is sweet? I love no other, may she not love you? No, God bless <span style=\"color: rgba(255,0,0,0.7776815891265869)\">her</span> ), <span style=\"color: rgba(255,0,0,0.9000358581542969)\">but</span> your love? \" She has a lot for me<span style=\"color: rgba(255,0,0,0.7966456413269043)\">,</span> <span style=\"color: rgba(255,0,0,0.6448677778244019)\">O</span> only one, come back"
      ],
      "text/plain": [
       "<IPython.core.display.HTML object>"
      ]
     },
     "metadata": {},
     "output_type": "display_data"
    },
    {
     "data": {
      "text/html": [
       "\" Roses are red, my love Violets are red<span style=\"color: rgba(0,0,255,1)\">,</span> is sweet, my love But not as sweet as you ) I went through the book And when next day I read I saw but a book <span style=\"color: rgba(0,0,255,1)\">given</span> to me. \" Roses are red, my love<span style=\"color: rgba(0,0,255,1)\">,</span> <span style=\"color: rgba(0,0,255,1)\">Roses</span> are red, is sweet, my love But not as sweet as you \" ( as sweet as <span style=\"color: rgba(0,0,255,1)\">you</span> ) And I went far <span style=\"color: rgba(0,0,255,1)\">away</span> but <span style=\"color: rgba(0,0,255,1)\">I</span> saw her but I read the book. \" Did I <span style=\"color: rgba(0,0,255,1)\">go</span> back for <span style=\"color: rgba(0,0,255,1)\">her</span> \" Roses are red, my love, Roses are red ( is sweet? I love no other, may she not love you? No, God bless her ), but your love? \" She has a lot for me but O only one<span style=\"color: rgba(0,0,255,1)\">,</span> come"
      ],
      "text/plain": [
       "<IPython.core.display.HTML object>"
      ]
     },
     "metadata": {},
     "output_type": "display_data"
    },
    {
     "data": {
      "text/html": [
       "\" Roses are red, my love Violets are red<span style=\"color: rgba(255,0,0,0.955564022064209)\">,</span> is sweet, my love But not as sweet as you ) I went through the book And when next day I read I saw but a book <span style=\"color: rgba(255,0,0,0.5843696594238281)\">open</span> to me. \" Roses are red, my love<span style=\"color: rgba(255,0,0,0.9805055856704712)\">,</span> <span style=\"color: rgba(255,0,0,0.9744435548782349)\">Roses</span> are red, is sweet, my love But not as sweet as you \" ( as sweet as <span style=\"color: rgba(255,0,0,0.9961884617805481)\">you</span> ) And I went far <span style=\"color: rgba(255,0,0,0.7362197637557983)\">away</span> but <span style=\"color: rgba(255,0,0,0.9836083054542542)\">I</span> saw her but I read the book. \" Did I <span style=\"color: rgba(255,0,0,0.9873836040496826)\">come</span> back for <span style=\"color: rgba(255,0,0,0.7974515557289124)\">you</span> \" Roses are red, my love, Roses are red ( is sweet? I love no other, may she not love you? No, God bless her ), but your love? \" She has a lot for me but O only one <span style=\"color: rgba(255,0,0,0.7053195834159851)\">to</span> come back"
      ],
      "text/plain": [
       "<IPython.core.display.HTML object>"
      ]
     },
     "metadata": {},
     "output_type": "display_data"
    },
    {
     "data": {
      "text/html": [
       "\" Roses are red, my love Violets are <span style=\"color: rgba(0,0,255,1)\">red</span>, is sweet, my love But not as sweet as you <span style=\"color: rgba(0,0,255,1)\">)</span> I went through the <span style=\"color: rgba(0,0,255,1)\">book</span> And when next day <span style=\"color: rgba(0,0,255,1)\">I</span> read I saw but a book <span style=\"color: rgba(0,0,255,1)\">opened</span> to me. \" Roses are red, my love, Roses are red, is sweet, my love But not as sweet as you \" ( as sweet as you ) And I went far away but I <span style=\"color: rgba(0,0,255,1)\">saw</span> her but I read the book. <span style=\"color: rgba(0,0,255,1)\">\"</span> Did I come back for her \" Roses are red, my love, Roses are red ( is <span style=\"color: rgba(0,0,255,1)\">sweet</span>? I love no other, may <span style=\"color: rgba(0,0,255,1)\">she</span> not love you? No<span style=\"color: rgba(0,0,255,1)\">,</span> God bless her ), but your love? \" She has a lot for me but O only one To come"
      ],
      "text/plain": [
       "<IPython.core.display.HTML object>"
      ]
     },
     "metadata": {},
     "output_type": "display_data"
    },
    {
     "data": {
      "text/html": [
       "\" Roses are red, my love Violets are <span style=\"color: rgba(255,0,0,0.7778927683830261)\">red</span>, is sweet, my love But not as sweet as you<span style=\"color: rgba(255,0,0,0.8541529774665833)\">.</span> I went through the <span style=\"color: rgba(255,0,0,0.6976144313812256)\">book</span> And when next day <span style=\"color: rgba(255,0,0,0.9993395805358887)\">I</span> read I saw but a book <span style=\"color: rgba(255,0,0,0.5795982480049133)\">given</span> to me. \" Roses are red, my love, Roses are red, is sweet, my love But not as sweet as you \" ( as sweet as you ) And I went far away but I <span style=\"color: rgba(255,0,0,0.806843638420105)\">saw</span> her but I read the book. <span style=\"color: rgba(255,0,0,0.9998397827148438)\">\"</span> Did I come back for her \" Roses are red, my love, Roses are red ( is <span style=\"color: rgba(255,0,0,0.688140332698822)\">sweet</span>? I love no other, may <span style=\"color: rgba(255,0,0,0.9044661521911621)\">she</span> not love you? No<span style=\"color: rgba(255,0,0,0.7689586877822876)\">,</span> God bless her ), but your love? \" She has a lot for me but O only one To come back"
      ],
      "text/plain": [
       "<IPython.core.display.HTML object>"
      ]
     },
     "metadata": {},
     "output_type": "display_data"
    },
    {
     "data": {
      "text/html": [
       "\" Roses are red, my love Violets <span style=\"color: rgba(0,0,255,1)\">are</span> <span style=\"color: rgba(0,0,255,1)\">blue</span>, is sweet, my love But not as sweet as you. I went through <span style=\"color: rgba(0,0,255,1)\">the</span> <span style=\"color: rgba(0,0,255,1)\">trade</span> And when next day I read I <span style=\"color: rgba(0,0,255,1)\">saw</span> but a book <span style=\"color: rgba(0,0,255,1)\">expecting</span> <span style=\"color: rgba(0,0,255,1)\">to</span> me. \" Roses are red, my love, Roses are red, is sweet, my love But not as sweet as you \" ( as sweet <span style=\"color: rgba(0,0,255,1)\">as</span> you ) And I went far away but <span style=\"color: rgba(0,0,255,1)\">I</span> <span style=\"color: rgba(0,0,255,1)\">hunted</span> her but I read the book. \" Did I come back for her \" Roses are red, <span style=\"color: rgba(0,0,255,1)\">my</span> love, Roses are red ( is <span style=\"color: rgba(0,0,255,1)\">speak</span>? I love no other, may she not love you? <span style=\"color: rgba(0,0,255,1)\">No</span>! God bless her ), but your love<span style=\"color: rgba(0,0,255,1)\">?</span> \" She has a lot for me but O only one To come"
      ],
      "text/plain": [
       "<IPython.core.display.HTML object>"
      ]
     },
     "metadata": {},
     "output_type": "display_data"
    },
    {
     "data": {
      "text/html": [
       "\" Roses are red, my love Violets <span style=\"color: rgba(255,0,0,0.8138142228126526)\">are</span> <span style=\"color: rgba(255,0,0,0.5850047469139099)\">rose</span>, is sweet, my love But not as sweet as you. I went through <span style=\"color: rgba(255,0,0,0.5290624499320984)\">dreams</span> <span style=\"color: rgba(255,0,0,0.6084216833114624)\">ways</span> And when next day I read I <span style=\"color: rgba(255,0,0,0.683310866355896)\">saw</span> but a book <span style=\"color: rgba(255,0,0,0.5734813213348389)\">to</span> <span style=\"color: rgba(255,0,0,0.7687727212905884)\">for</span> me. \" Roses are red, my love, Roses are red, is sweet, my love But not as sweet as you \" ( as sweet <span style=\"color: rgba(255,0,0,0.9984098672866821)\">as</span> you ) And I went far away but <span style=\"color: rgba(255,0,0,0.9952453374862671)\">I</span> <span style=\"color: rgba(255,0,0,0.603430986404419)\">loved</span> her but I read the book. \" Did I come back for her \" Roses are red, <span style=\"color: rgba(255,0,0,0.9987455606460571)\">my</span> love, Roses are red ( is <span style=\"color: rgba(255,0,0,0.9905208945274353)\">sweet</span>? I love no other, may she not love you? <span style=\"color: rgba(255,0,0,0.6395706534385681)\">No</span>! God bless her ), but your love<span style=\"color: rgba(255,0,0,0.748761773109436)\">?</span> \" She has a lot for me but O only one To come back"
      ],
      "text/plain": [
       "<IPython.core.display.HTML object>"
      ]
     },
     "metadata": {},
     "output_type": "display_data"
    },
    {
     "data": {
      "text/html": [
       "\" Roses are red<span style=\"color: rgba(0,0,255,1)\">,</span> my love Violets are <span style=\"color: rgba(0,0,255,1)\">lovely</span>, is sweet, my love But not as <span style=\"color: rgba(0,0,255,1)\">sweet</span> as you. I went through <span style=\"color: rgba(0,0,255,1)\">garden</span> ways And when next day <span style=\"color: rgba(0,0,255,1)\">I</span> read I <span style=\"color: rgba(0,0,255,1)\">woke</span> but a book <span style=\"color: rgba(0,0,255,1)\">again</span> before me<span style=\"color: rgba(0,0,255,1)\">.</span> \" Roses are red, my love, <span style=\"color: rgba(0,0,255,1)\">Roses</span> are red<span style=\"color: rgba(0,0,255,1)\">,</span> is sweet, my love But not as sweet as you \" ( as sweet as <span style=\"color: rgba(0,0,255,1)\">you</span> ) And I went far away but I <span style=\"color: rgba(0,0,255,1)\">followed</span> her but I read the <span style=\"color: rgba(0,0,255,1)\">book</span>. \" Did I come back for her \" Roses are red, my love, Roses are red ( is sweet? I love no other, may she not love you? <span style=\"color: rgba(0,0,255,1)\">Bai</span>! God bless her ), but your <span style=\"color: rgba(0,0,255,1)\">love</span>. \" She has a lot for me but O only one To come"
      ],
      "text/plain": [
       "<IPython.core.display.HTML object>"
      ]
     },
     "metadata": {},
     "output_type": "display_data"
    },
    {
     "data": {
      "text/html": [
       "\" Roses are red<span style=\"color: rgba(255,0,0,0.9999227523803711)\">,</span> my love Violets are <span style=\"color: rgba(255,0,0,0.8325858116149902)\">red</span>, is sweet, my love But not as <span style=\"color: rgba(255,0,0,0.9443030953407288)\">sweet</span> as you. I went through <span style=\"color: rgba(255,0,0,0.6781949996948242)\">many</span> ways And when next day <span style=\"color: rgba(255,0,0,0.9977449178695679)\">I</span> read I <span style=\"color: rgba(255,0,0,0.9236231446266174)\">saw</span> but a book <span style=\"color: rgba(255,0,0,0.6627597808837891)\">was</span> before me<span style=\"color: rgba(255,0,0,0.9219828844070435)\">.</span> \" Roses are red, my love, <span style=\"color: rgba(255,0,0,0.9323674440383911)\">Roses</span> are red<span style=\"color: rgba(255,0,0,0.9952845573425293)\">,</span> is sweet, my love But not as sweet as you \" ( as sweet as <span style=\"color: rgba(255,0,0,0.995879054069519)\">you</span> ) And I went far away but I <span style=\"color: rgba(255,0,0,0.8023717999458313)\">loved</span> her but I read the <span style=\"color: rgba(255,0,0,0.9440349340438843)\">book</span>. \" Did I come back for her \" Roses are red, my love, Roses are red ( is sweet? I love no other, may she not love you? <span style=\"color: rgba(255,0,0,0.6773896217346191)\">No</span>! God bless her ), but your <span style=\"color: rgba(255,0,0,0.9951041340827942)\">love</span>. \" She has a lot for me but O only one To come back"
      ],
      "text/plain": [
       "<IPython.core.display.HTML object>"
      ]
     },
     "metadata": {},
     "output_type": "display_data"
    },
    {
     "data": {
      "text/html": [
       "\" Roses are red, my love Violets are red<span style=\"color: rgba(0,0,255,1)\">,</span> is sweet, my love But not as <span style=\"color: rgba(0,0,255,1)\">sweet</span> as you. I went through many <span style=\"color: rgba(0,0,255,1)\">ways</span> And when next day I read I saw but a book <span style=\"color: rgba(0,0,255,1)\">flashed</span> before me. \" Roses are red, my love, <span style=\"color: rgba(0,0,255,1)\">Flowers</span> are red, is sweet, my love But not as sweet as you \" ( as sweet as you ) And I went far away but I <span style=\"color: rgba(0,0,255,1)\">called</span> her but I read the <span style=\"color: rgba(0,0,255,1)\">books</span>. <span style=\"color: rgba(0,0,255,1)\">\"</span> Did I come back for her <span style=\"color: rgba(0,0,255,1)\">\"</span> Roses are red, my love<span style=\"color: rgba(0,0,255,1)\">,</span> Roses are red ( is sweet? I love no other, may she not love you? No! God bless her ), <span style=\"color: rgba(0,0,255,1)\">but</span> your love<span style=\"color: rgba(0,0,255,1)\">.</span> \" <span style=\"color: rgba(0,0,255,1)\">She</span> has a lot for me but O only one To come"
      ],
      "text/plain": [
       "<IPython.core.display.HTML object>"
      ]
     },
     "metadata": {},
     "output_type": "display_data"
    },
    {
     "data": {
      "text/html": [
       "\" Roses are red, my love Violets are red<span style=\"color: rgba(255,0,0,0.9793778657913208)\">,</span> is sweet, my love But not as <span style=\"color: rgba(255,0,0,0.9825173616409302)\">sweet</span> as you. I went through many <span style=\"color: rgba(255,0,0,0.6592239141464233)\">things</span> And when next day I read I saw but a book <span style=\"color: rgba(255,0,0,0.6310177445411682)\">laid</span> before me. \" Roses are red, my love, <span style=\"color: rgba(255,0,0,0.9279599189758301)\">Roses</span> are red, is sweet, my love But not as sweet as you \" ( as sweet as you ) And I went far away but I <span style=\"color: rgba(255,0,0,0.7917422652244568)\">loved</span> her but I read the <span style=\"color: rgba(255,0,0,0.932671844959259)\">book</span>. <span style=\"color: rgba(255,0,0,0.9975085258483887)\">\"</span> Did I come back for her<span style=\"color: rgba(255,0,0,0.930802583694458)\">?</span> Roses are red, my love<span style=\"color: rgba(255,0,0,0.6966108083724976)\">.</span> Roses are red ( is sweet? I love no other, may she not love you? No! God bless her ), <span style=\"color: rgba(255,0,0,0.7222508192062378)\">for</span> your love<span style=\"color: rgba(255,0,0,0.6686620712280273)\">.</span> \" <span style=\"color: rgba(255,0,0,0.9889031052589417)\">She</span> has a lot for me but O only one To come back"
      ],
      "text/plain": [
       "<IPython.core.display.HTML object>"
      ]
     },
     "metadata": {},
     "output_type": "display_data"
    },
    {
     "data": {
      "text/html": [
       "\" Roses are red, my love Violets are <span style=\"color: rgba(0,0,255,1)\">red</span>, is sweet, my love But not as sweet as you. I went through many <span style=\"color: rgba(0,0,255,1)\">dreams</span> And when next day I read I saw but a book <span style=\"color: rgba(0,0,255,1)\">lay</span> before me. \" Roses are red, my love, Roses are red<span style=\"color: rgba(0,0,255,1)\">,</span> is sweet, my love But not <span style=\"color: rgba(0,0,255,1)\">as</span> sweet as you \" <span style=\"color: rgba(0,0,255,1)\">(</span> as sweet as you <span style=\"color: rgba(0,0,255,1)\">)</span> And I went far away but I saw her but I read the book. \" Did I come back for her? Roses are red, my love<span style=\"color: rgba(0,0,255,1)\">?</span> Roses are red ( is sweet<span style=\"color: rgba(0,0,255,1)\">?</span> I love no other, may she not love you? No! God bless her ), <span style=\"color: rgba(0,0,255,1)\">as</span> your love! \" She has a lot for <span style=\"color: rgba(0,0,255,1)\">me</span> <span style=\"color: rgba(0,0,255,1)\">but</span> O only one To <span style=\"color: rgba(0,0,255,1)\">come</span>"
      ],
      "text/plain": [
       "<IPython.core.display.HTML object>"
      ]
     },
     "metadata": {},
     "output_type": "display_data"
    },
    {
     "data": {
      "text/html": [
       "\" Roses are red, my love Violets are <span style=\"color: rgba(255,0,0,0.9326322078704834)\">red</span>, is sweet, my love But not as sweet as you. I went through many <span style=\"color: rgba(255,0,0,0.5966943502426147)\">days</span> And when next day I read I saw but a book <span style=\"color: rgba(255,0,0,0.5907415747642517)\">laid</span> before me. \" Roses are red, my love, Roses are red<span style=\"color: rgba(255,0,0,0.9919347167015076)\">,</span> is sweet, my love But not <span style=\"color: rgba(255,0,0,0.8150424361228943)\">so</span> sweet as you \" <span style=\"color: rgba(255,0,0,0.6383700370788574)\">Not</span> as sweet as you<span style=\"color: rgba(255,0,0,0.973608136177063)\">.</span> And I went far away but I saw her but I read the book. \" Did I come back for her? Roses are red, my love<span style=\"color: rgba(255,0,0,0.663782000541687)\">,</span> Roses are red ( is sweet<span style=\"color: rgba(255,0,0,0.7868442535400391)\">!</span> I love no other, may she not love you? No! God bless her ), <span style=\"color: rgba(255,0,0,0.7435297966003418)\">but</span> your love! \" She has a lot for <span style=\"color: rgba(255,0,0,0.9619910717010498)\">her</span><span style=\"color: rgba(255,0,0,0.8325896263122559)\">,</span> O only one To <span style=\"color: rgba(255,0,0,0.770110011100769)\">come</span> back"
      ],
      "text/plain": [
       "<IPython.core.display.HTML object>"
      ]
     },
     "metadata": {},
     "output_type": "display_data"
    },
    {
     "data": {
      "text/html": [
       "\" Roses are red, my love Violets <span style=\"color: rgba(0,0,255,1)\">are</span> <span style=\"color: rgba(0,0,255,1)\">white</span>, is sweet, my love But not as sweet as you. I went through many <span style=\"color: rgba(0,0,255,1)\">novels</span> And when next <span style=\"color: rgba(0,0,255,1)\">day</span> I read I saw but a book <span style=\"color: rgba(0,0,255,1)\">too</span> before me. \" Roses are red, <span style=\"color: rgba(0,0,255,1)\">my</span> love, Roses are red, is sweet, my love But not so sweet as you \" but as sweet as <span style=\"color: rgba(0,0,255,1)\">you</span>. And I went far away but I saw her <span style=\"color: rgba(0,0,255,1)\">but</span> I read the <span style=\"color: rgba(0,0,255,1)\">book</span>. \" Did I <span style=\"color: rgba(0,0,255,1)\">come</span> back for <span style=\"color: rgba(0,0,255,1)\">her</span>? Roses are red, my love; Roses are red ( is sweet<span style=\"color: rgba(0,0,255,1)\">;</span> I love no other<span style=\"color: rgba(0,0,255,1)\">,</span> may she not love you? No! God bless her ), for your love! \" She has a lot for her, O only one To <span style=\"color: rgba(0,0,255,1)\">love</span>"
      ],
      "text/plain": [
       "<IPython.core.display.HTML object>"
      ]
     },
     "metadata": {},
     "output_type": "display_data"
    },
    {
     "data": {
      "text/html": [
       "\" Roses are red, my love Violets <span style=\"color: rgba(255,0,0,0.7943384647369385)\">are</span> <span style=\"color: rgba(255,0,0,0.573422908782959)\">rose</span>, is sweet, my love But not as sweet as you. I went through many <span style=\"color: rgba(255,0,0,0.6059441566467285)\">books</span> And when next <span style=\"color: rgba(255,0,0,0.8973431587219238)\">book</span> I read I saw but a book <span style=\"color: rgba(255,0,0,0.7126074433326721)\">laid</span> before me. \" Roses are red, <span style=\"color: rgba(255,0,0,0.9981495141983032)\">my</span> love, Roses are red, is sweet, my love But not so sweet as you \" but as sweet as <span style=\"color: rgba(255,0,0,0.9404194355010986)\">you</span>. And I went far away but I saw her <span style=\"color: rgba(255,0,0,0.9162027835845947)\">when</span> I read the <span style=\"color: rgba(255,0,0,0.9546035528182983)\">book</span>. \" Did I <span style=\"color: rgba(255,0,0,0.7513103485107422)\">come</span> back for <span style=\"color: rgba(255,0,0,0.9054567813873291)\">her</span>? Roses are red, my love; Roses are red ( is sweet <span style=\"color: rgba(255,0,0,0.6362350583076477)\">But</span> I love no other<span style=\"color: rgba(255,0,0,0.8707115650177002)\">,</span> may she not love you? No! God bless her ), for your love! \" She has a lot for her, O only one To <span style=\"color: rgba(255,0,0,0.6457334160804749)\">give</span> back"
      ],
      "text/plain": [
       "<IPython.core.display.HTML object>"
      ]
     },
     "metadata": {},
     "output_type": "display_data"
    },
    {
     "data": {
      "text/html": [
       "\" Roses are red, my love Violet<span style=\"color: rgba(0,0,255,1)\">s</span> are <span style=\"color: rgba(0,0,255,1)\">spike</span>, is sweet, my love But not as sweet <span style=\"color: rgba(0,0,255,1)\">as</span> you. I went through many <span style=\"color: rgba(0,0,255,1)\">characters</span> And when next book I read I saw but a book laid before me. \" Roses are <span style=\"color: rgba(0,0,255,1)\">red</span>, my love<span style=\"color: rgba(0,0,255,1)\">,</span> Roses are red, is sweet, my love But not so sweet as you \" but as sweet <span style=\"color: rgba(0,0,255,1)\">as</span> <span style=\"color: rgba(0,0,255,1)\">Aurora</span>. And I went far away but I saw her when <span style=\"color: rgba(0,0,255,1)\">I</span> read the book. \" Did I go back for her? Roses <span style=\"color: rgba(0,0,255,1)\">are</span> red, my love; Roses are red ( is sweet<span style=\"color: rgba(0,0,255,1)\">;</span> I love no other<span style=\"color: rgba(0,0,255,1)\">;</span> may she not love you? <span style=\"color: rgba(0,0,255,1)\">No</span>! God bless her ), for your <span style=\"color: rgba(0,0,255,1)\">love</span>! \" She has a lot for her, O only one To call"
      ],
      "text/plain": [
       "<IPython.core.display.HTML object>"
      ]
     },
     "metadata": {},
     "output_type": "display_data"
    },
    {
     "data": {
      "text/html": [
       "\" Roses are red, my love Violet<span style=\"color: rgba(255,0,0,0.9995338916778564)\">s</span> are <span style=\"color: rgba(255,0,0,0.8494259119033813)\">red</span>, is sweet, my love But not as sweet <span style=\"color: rgba(255,0,0,0.9997301697731018)\">as</span> you. I went through many <span style=\"color: rgba(255,0,0,0.7220656871795654)\">books</span> And when next book I read I saw but a book laid before me. \" Roses are <span style=\"color: rgba(255,0,0,0.8749873042106628)\">red</span>, my love<span style=\"color: rgba(255,0,0,0.8976020812988281)\">;</span> Roses are red, is sweet, my love But not so sweet as you \" but as sweet <span style=\"color: rgba(255,0,0,0.989161491394043)\">as</span> <span style=\"color: rgba(255,0,0,0.8518593311309814)\">you</span>. And I went far away but I saw her when <span style=\"color: rgba(255,0,0,0.9994595646858215)\">I</span> read the book. \" Did I go back for her? Roses <span style=\"color: rgba(255,0,0,0.9912539720535278)\">are</span> red, my love; Roses are red ( is sweet<span style=\"color: rgba(255,0,0,0.9735516905784607)\">!</span> I love no other<span style=\"color: rgba(255,0,0,0.6888097524642944)\">,</span> may she not love you? <span style=\"color: rgba(255,0,0,0.7611686587333679)\">No</span>! God bless her ), for your <span style=\"color: rgba(255,0,0,0.9080437421798706)\">love</span>! \" She has a lot for her, O only one To call back"
      ],
      "text/plain": [
       "<IPython.core.display.HTML object>"
      ]
     },
     "metadata": {},
     "output_type": "display_data"
    },
    {
     "data": {
      "text/html": [
       "\" Roses are red, my love Violets are <span style=\"color: rgba(0,0,255,1)\">black</span><span style=\"color: rgba(0,0,255,1)\">,</span> is sweet, my love But not as sweet as you. I went through many books And when next book I read I saw but a book laid before me. \" Roses are red, my love; Roses are red, is sweet, my love But <span style=\"color: rgba(0,0,255,1)\">not</span> so sweet as you \" but as sweet as you. And I went far <span style=\"color: rgba(0,0,255,1)\">away</span> but I saw her when I read the book. \" Did I <span style=\"color: rgba(0,0,255,1)\">go</span> back for her? Roses are <span style=\"color: rgba(0,0,255,1)\">red</span>, my love; Roses are red ( is sweet! <span style=\"color: rgba(0,0,255,1)\">I</span> love no other, may she not love you? <span style=\"color: rgba(0,0,255,1)\">Oh</span>! God bless her ), for your love<span style=\"color: rgba(0,0,255,1)\">!</span> \" She has a lot for her, O only one To <span style=\"color: rgba(0,0,255,1)\">call</span>"
      ],
      "text/plain": [
       "<IPython.core.display.HTML object>"
      ]
     },
     "metadata": {},
     "output_type": "display_data"
    },
    {
     "data": {
      "text/html": [
       "\" Roses are red, my love Violets are <span style=\"color: rgba(255,0,0,0.5912207961082458)\">red</span><span style=\"color: rgba(255,0,0,0.9916336536407471)\">,</span> is sweet, my love But not as sweet as you. I went through many books And when next book I read I saw but a book laid before me. \" Roses are red, my love; Roses are red, is sweet, my love But <span style=\"color: rgba(255,0,0,0.9877769947052002)\">not</span> so sweet as you \" but as sweet as you. And I went far<span style=\"color: rgba(255,0,0,0.6233975887298584)\">,</span> but I saw her when I read the book. \" Did I <span style=\"color: rgba(255,0,0,0.9294313192367554)\">come</span> back for her? Roses are <span style=\"color: rgba(255,0,0,0.8939717411994934)\">red</span>, my love; Roses are red ( is sweet! <span style=\"color: rgba(255,0,0,0.6733036637306213)\">I</span> love no other, may she not love you? <span style=\"color: rgba(255,0,0,0.8821254968643188)\">No</span>! God bless her ), for your love<span style=\"color: rgba(255,0,0,0.7405681610107422)\">!</span> \" She has a lot for her, O only one To <span style=\"color: rgba(255,0,0,0.817887544631958)\">come</span> back"
      ],
      "text/plain": [
       "<IPython.core.display.HTML object>"
      ]
     },
     "metadata": {},
     "output_type": "display_data"
    },
    {
     "data": {
      "text/html": [
       "\" Roses are red, my love Violets are blue, is sweet, my love But not as sweet as you. I went through many books And when next book I read I saw but a book laid before me<span style=\"color: rgba(0,0,255,1)\">.</span> \" Roses are red, my love; Roses are red<span style=\"color: rgba(0,0,255,1)\">,</span> is sweet, my love But not so sweet as you \" but as sweet as you. And I went far, but I saw her when I read the book. \" Did I come back for her? Roses <span style=\"color: rgba(0,0,255,1)\">are</span> red<span style=\"color: rgba(0,0,255,1)\">,</span> my love; Roses are red <span style=\"color: rgba(0,0,255,1)\">(</span> is sweet<span style=\"color: rgba(0,0,255,1)\">!</span> They love no other, may she not love you? No! God bless her ), <span style=\"color: rgba(0,0,255,1)\">for</span> your love<span style=\"color: rgba(0,0,255,1)\">?</span> \" She has a lot <span style=\"color: rgba(0,0,255,1)\">for</span> <span style=\"color: rgba(0,0,255,1)\">her</span>, O only one To <span style=\"color: rgba(0,0,255,1)\">take</span>"
      ],
      "text/plain": [
       "<IPython.core.display.HTML object>"
      ]
     },
     "metadata": {},
     "output_type": "display_data"
    },
    {
     "data": {
      "text/html": [
       "\" Roses are red, my love Violets are blue, is sweet, my love But not as sweet as you. I went through many books And when next book I read I saw but a book laid before me<span style=\"color: rgba(255,0,0,0.9983262419700623)\">.</span> \" Roses are red, my love; Roses are red<span style=\"color: rgba(255,0,0,0.9808764457702637)\">,</span> is sweet, my love But not so sweet as you \" but as sweet as you. And I went far, but I saw her when I read the book. \" Did I come back for her? Roses <span style=\"color: rgba(255,0,0,0.9987379908561707)\">are</span> red<span style=\"color: rgba(255,0,0,0.9999532699584961)\">,</span> my love; Roses are red<span style=\"color: rgba(255,0,0,0.9214712381362915)\">,</span> is sweet <span style=\"color: rgba(255,0,0,0.9330813884735107)\">(</span> They love no other, may she not love you? No! God bless her ), <span style=\"color: rgba(255,0,0,0.9331995248794556)\">but</span> your love<span style=\"color: rgba(255,0,0,0.8915393352508545)\">.</span> \" She has a lot <span style=\"color: rgba(255,0,0,0.9127185940742493)\">of</span> <span style=\"color: rgba(255,0,0,0.8205885887145996)\">her</span>, O only one To <span style=\"color: rgba(255,0,0,0.9487531185150146)\">come</span> back"
      ],
      "text/plain": [
       "<IPython.core.display.HTML object>"
      ]
     },
     "metadata": {},
     "output_type": "display_data"
    },
    {
     "data": {
      "text/html": [
       "\" Roses are red, my <span style=\"color: rgba(0,0,255,1)\">love</span> Violets are blue, is sweet, my love But not as sweet as <span style=\"color: rgba(0,0,255,1)\">you</span>. I went through many books And when next book I read I saw but a book <span style=\"color: rgba(0,0,255,1)\">laid</span> <span style=\"color: rgba(0,0,255,1)\">before</span> me. \" Roses are <span style=\"color: rgba(0,0,255,1)\">red</span>, <span style=\"color: rgba(0,0,255,1)\">my</span> love; Roses are red<span style=\"color: rgba(0,0,255,1)\">,</span> is sweet<span style=\"color: rgba(0,0,255,1)\">,</span> my love But not so sweet as you \" but <span style=\"color: rgba(0,0,255,1)\">as</span> sweet as you. And I went far, but I saw her when I read the book. \" Did I come back for her? Roses are red, my love; Roses are red, is sweet ( They love no other, may she not love you? No! God bless her ), but your love. \" She has a lot of <span style=\"color: rgba(0,0,255,1)\">us</span>, O only one To come"
      ],
      "text/plain": [
       "<IPython.core.display.HTML object>"
      ]
     },
     "metadata": {},
     "output_type": "display_data"
    },
    {
     "data": {
      "text/html": [
       "\" Roses are red, my <span style=\"color: rgba(255,0,0,0.9922115802764893)\">love</span> Violets are blue, is sweet, my love But not as sweet as <span style=\"color: rgba(255,0,0,0.997228741645813)\">you</span>. I went through many books And when next book I read I saw but a book <span style=\"color: rgba(255,0,0,0.5432314276695251)\">that</span> <span style=\"color: rgba(255,0,0,0.7534362077713013)\">to</span> me. \" Roses are <span style=\"color: rgba(255,0,0,0.9354403018951416)\">red</span>, <span style=\"color: rgba(255,0,0,0.9957230091094971)\">my</span> love; Roses are red<span style=\"color: rgba(255,0,0,0.999549150466919)\">,</span> is sweet<span style=\"color: rgba(255,0,0,0.9998979568481445)\">,</span> my love But not so sweet as you \" but <span style=\"color: rgba(255,0,0,0.7493667602539062)\">as</span> sweet as you. And I went far, but I saw her when I read the book. \" Did I come back for her? Roses are red, my love; Roses are red, is sweet ( They love no other, may she not love you? No! God bless her ), but your love. \" She has a lot of <span style=\"color: rgba(255,0,0,0.624437153339386)\">love</span>, O only one To come back"
      ],
      "text/plain": [
       "<IPython.core.display.HTML object>"
      ]
     },
     "metadata": {},
     "output_type": "display_data"
    },
    {
     "data": {
      "text/html": [
       "\" Roses are red, my love Violets are blue, is sweet, my love But not as sweet as you. I went through many books And when next <span style=\"color: rgba(0,0,255,1)\">book</span> I read I <span style=\"color: rgba(0,0,255,1)\">saw</span> but a book <span style=\"color: rgba(0,0,255,1)\">by</span> before me<span style=\"color: rgba(0,0,255,1)\">.</span> \" Roses are red, my love; Roses are red, is sweet, my love But not so sweet as you \" but not sweet <span style=\"color: rgba(0,0,255,1)\">as</span> you. And I went far, but I saw her when I read the book. <span style=\"color: rgba(0,0,255,1)\">\"</span> Did I come back <span style=\"color: rgba(0,0,255,1)\">for</span> her? Roses are red, my love; Roses are red, is sweet ( They <span style=\"color: rgba(0,0,255,1)\">love</span> no other, may she not love you? No! God bless her ), <span style=\"color: rgba(0,0,255,1)\">but</span> your love. \" She has a lot of <span style=\"color: rgba(0,0,255,1)\">sex</span>, O only one <span style=\"color: rgba(0,0,255,1)\">To</span> come"
      ],
      "text/plain": [
       "<IPython.core.display.HTML object>"
      ]
     },
     "metadata": {},
     "output_type": "display_data"
    },
    {
     "data": {
      "text/html": [
       "\" Roses are red, my love Violets are blue, is sweet, my love But not as sweet as you. I went through many books And when next <span style=\"color: rgba(255,0,0,0.7683186531066895)\">book</span> I read I <span style=\"color: rgba(255,0,0,0.6719617247581482)\">felt</span> but a book <span style=\"color: rgba(255,0,0,0.6421792507171631)\">was</span> before me<span style=\"color: rgba(255,0,0,0.8512461185455322)\">.</span> \" Roses are red, my love; Roses are red, is sweet, my love But not so sweet as you \" but not sweet <span style=\"color: rgba(255,0,0,0.9914517402648926)\">as</span> you. And I went far, but I saw her when I read the book. <span style=\"color: rgba(255,0,0,0.9982540607452393)\">\"</span> Did I come back <span style=\"color: rgba(255,0,0,0.965361475944519)\">to</span> her? Roses are red, my love; Roses are red, is sweet ( They <span style=\"color: rgba(255,0,0,0.9597561359405518)\">have</span> no other, may she not love you? No! God bless her ), <span style=\"color: rgba(255,0,0,0.6835799217224121)\">for</span> your love. \" She has a lot of <span style=\"color: rgba(255,0,0,0.5842728614807129)\">other</span>, O only one <span style=\"color: rgba(255,0,0,0.6075411438941956)\">But</span> come back"
      ],
      "text/plain": [
       "<IPython.core.display.HTML object>"
      ]
     },
     "metadata": {},
     "output_type": "display_data"
    },
    {
     "data": {
      "text/html": [
       "<span style=\"color: rgba(0,0,255,1)\">\"</span> Roses are red, my love Violets are blue, is sweet<span style=\"color: rgba(0,0,255,1)\">,</span> my love <span style=\"color: rgba(0,0,255,1)\">But</span> not as sweet as you. <span style=\"color: rgba(0,0,255,1)\">I</span> went through many books And when next <span style=\"color: rgba(0,0,255,1)\">door</span> I read I felt but a book <span style=\"color: rgba(0,0,255,1)\">threw</span> before me. \" <span style=\"color: rgba(0,0,255,1)\">Roses</span> <span style=\"color: rgba(0,0,255,1)\">are</span> red, my love; Roses are red, is sweet, my love But not so sweet as you \" but not sweet <span style=\"color: rgba(0,0,255,1)\">as</span> you. And I went far, but I saw her when I read the book. \" Did I come back to her? Roses are red, my love; Roses are red, is sweet ( They have no other, may she not love you? No! God bless her ), but your love. \" She has a lot of one, O <span style=\"color: rgba(0,0,255,1)\">only</span> one <span style=\"color: rgba(0,0,255,1)\">who</span> <span style=\"color: rgba(0,0,255,1)\">come</span>"
      ],
      "text/plain": [
       "<IPython.core.display.HTML object>"
      ]
     },
     "metadata": {},
     "output_type": "display_data"
    },
    {
     "data": {
      "text/html": [
       "<span style=\"color: rgba(255,0,0,0.8141199350357056)\">.</span> Roses are red, my love Violets are blue, is sweet<span style=\"color: rgba(255,0,0,0.9986875653266907)\">,</span> my love <span style=\"color: rgba(255,0,0,0.9305146932601929)\">But</span> not as sweet as you. <span style=\"color: rgba(255,0,0,0.998336672782898)\">I</span> went through many books And when next <span style=\"color: rgba(255,0,0,0.9743263721466064)\">book</span> I read I felt but a book <span style=\"color: rgba(255,0,0,0.5862764716148376)\">close</span> before me. \" <span style=\"color: rgba(255,0,0,0.9839857220649719)\">Roses</span> <span style=\"color: rgba(255,0,0,0.9815373420715332)\">are</span> red, my love; Roses are red, is sweet, my love But not so sweet as you \" but not sweet <span style=\"color: rgba(255,0,0,0.9976062774658203)\">as</span> you. And I went far, but I saw her when I read the book. \" Did I come back to her? Roses are red, my love; Roses are red, is sweet ( They have no other, may she not love you? No! God bless her ), but your love. \" She has a lot of one, O <span style=\"color: rgba(255,0,0,0.5888829827308655)\">may</span> one<span style=\"color: rgba(255,0,0,0.5970434546470642)\">.</span> <span style=\"color: rgba(255,0,0,0.8710153698921204)\">Come</span> back"
      ],
      "text/plain": [
       "<IPython.core.display.HTML object>"
      ]
     },
     "metadata": {},
     "output_type": "display_data"
    },
    {
     "data": {
      "text/html": [
       "; Roses are red, my love Violets are blue, is sweet, my love But not as sweet <span style=\"color: rgba(0,0,255,1)\">as</span> you. I went through many books And when next <span style=\"color: rgba(0,0,255,1)\">book</span> I read I felt <span style=\"color: rgba(0,0,255,1)\">but</span> a book <span style=\"color: rgba(0,0,255,1)\">open</span> before me. \" <span style=\"color: rgba(0,0,255,1)\">Flowers</span> are red, my love; Roses are red, is sweet, my love But not so <span style=\"color: rgba(0,0,255,1)\">sweet</span> as you \" but not sweet as you. And I went far, but I saw her when I read the book. \" Did I come back to her? Roses are red<span style=\"color: rgba(0,0,255,1)\">,</span> my love; Roses are red, is sweet ( They have no other, may she not love you? No! God bless her ), but your <span style=\"color: rgba(0,0,255,1)\">love</span>. \" She has a lot of <span style=\"color: rgba(0,0,255,1)\">one</span>, <span style=\"color: rgba(0,0,255,1)\">O</span> <span style=\"color: rgba(0,0,255,1)\">force</span> one <span style=\"color: rgba(0,0,255,1)\">get</span> Come"
      ],
      "text/plain": [
       "<IPython.core.display.HTML object>"
      ]
     },
     "metadata": {},
     "output_type": "display_data"
    },
    {
     "data": {
      "text/html": [
       "; Roses are red, my love Violets are blue, is sweet, my love But not as sweet <span style=\"color: rgba(255,0,0,0.9998664855957031)\">as</span> you. I went through many books And when next <span style=\"color: rgba(255,0,0,0.7270563840866089)\">one</span> I read I felt <span style=\"color: rgba(255,0,0,0.9703174829483032)\">like</span> a book <span style=\"color: rgba(255,0,0,0.5779987573623657)\">there</span> before me. \" <span style=\"color: rgba(255,0,0,0.9938666820526123)\">Roses</span> are red, my love; Roses are red, is sweet, my love But not so <span style=\"color: rgba(255,0,0,0.9551518559455872)\">sweet</span> as you \" but not sweet as you. And I went far, but I saw her when I read the book. \" Did I come back to her? Roses are red<span style=\"color: rgba(255,0,0,0.9999904632568359)\">,</span> my love; Roses are red, is sweet ( They have no other, may she not love you? No! God bless her ), but your <span style=\"color: rgba(255,0,0,0.6447015404701233)\">love</span>. \" She has a lot of <span style=\"color: rgba(255,0,0,0.5466417074203491)\">other</span>, <span style=\"color: rgba(255,0,0,0.5831314921379089)\">sweet</span> <span style=\"color: rgba(255,0,0,0.756952166557312)\">sweet</span> one<span style=\"color: rgba(255,0,0,0.751393735408783)\">.</span> Come back"
      ],
      "text/plain": [
       "<IPython.core.display.HTML object>"
      ]
     },
     "metadata": {},
     "output_type": "display_data"
    },
    {
     "data": {
      "text/html": [
       "; Roses are red, my love Violets are <span style=\"color: rgba(0,0,255,1)\">blue</span>, is sweet, my love But not as sweet as you. <span style=\"color: rgba(0,0,255,1)\">I</span> went through many books And when next one I read I felt like a book <span style=\"color: rgba(0,0,255,1)\">fairly</span> before me. \" Roses are red, my love; Roses are <span style=\"color: rgba(0,0,255,1)\">red</span>, is sweet, my love But not <span style=\"color: rgba(0,0,255,1)\">so</span> sweet as you \" <span style=\"color: rgba(0,0,255,1)\">but</span> not sweet as you. And I went far, but I saw her when I read the book. \" Did I come back to her? Roses are red, my love; Roses are red, is sweet ( They have no other, may she not love you? <span style=\"color: rgba(0,0,255,1)\">No</span>! God bless her ), but your <span style=\"color: rgba(0,0,255,1)\">lover</span>. \" She has a lot of <span style=\"color: rgba(0,0,255,1)\">flowers</span>, <span style=\"color: rgba(0,0,255,1)\">can</span> <span style=\"color: rgba(0,0,255,1)\">sweet</span> one <span style=\"color: rgba(0,0,255,1)\">\"</span> Come"
      ],
      "text/plain": [
       "<IPython.core.display.HTML object>"
      ]
     },
     "metadata": {},
     "output_type": "display_data"
    },
    {
     "data": {
      "text/html": [
       "; Roses are red, my love Violets are <span style=\"color: rgba(255,0,0,0.7297203540802002)\">green</span>, is sweet, my love But not as sweet as you. <span style=\"color: rgba(255,0,0,0.9977097511291504)\">I</span> went through many books And when next one I read I felt like a book <span style=\"color: rgba(255,0,0,0.5511407256126404)\">lay</span> before me. \" Roses are red, my love; Roses are <span style=\"color: rgba(255,0,0,0.872797966003418)\">red</span>, is sweet, my love But not <span style=\"color: rgba(255,0,0,0.9144062995910645)\">as</span> sweet as you \" <span style=\"color: rgba(255,0,0,0.6889166831970215)\">or</span> not sweet as you. And I went far, but I saw her when I read the book. \" Did I come back to her? Roses are red, my love; Roses are red, is sweet ( They have no other, may she not love you? <span style=\"color: rgba(255,0,0,0.7747181057929993)\">No</span>! God bless her ), but your <span style=\"color: rgba(255,0,0,0.9596176147460938)\">love</span>. \" She has a lot of <span style=\"color: rgba(255,0,0,0.8416529893875122)\">other</span>, <span style=\"color: rgba(255,0,0,0.7094338536262512)\">my</span> <span style=\"color: rgba(255,0,0,0.5609515905380249)\">good</span> one<span style=\"color: rgba(255,0,0,0.7241422533988953)\">;</span> Come back"
      ],
      "text/plain": [
       "<IPython.core.display.HTML object>"
      ]
     },
     "metadata": {},
     "output_type": "display_data"
    },
    {
     "data": {
      "text/html": [
       "; Roses are red, my love Violets are red, is sweet, my love But not as sweet as you. I went through many books And <span style=\"color: rgba(0,0,255,1)\">when</span> <span style=\"color: rgba(0,0,255,1)\">next</span> <span style=\"color: rgba(0,0,255,1)\">one</span> I read I felt like a book <span style=\"color: rgba(0,0,255,1)\">all</span> before me. \" Roses are red, my love; Roses <span style=\"color: rgba(0,0,255,1)\">are</span> <span style=\"color: rgba(0,0,255,1)\">purple</span>, is sweet, my love But not as sweet as you \" nor not sweet as you. And I went far, but I saw her when I read the book. \" <span style=\"color: rgba(0,0,255,1)\">Did</span> I come back to her? Roses are red, my love; <span style=\"color: rgba(0,0,255,1)\">Roses</span> are red, is <span style=\"color: rgba(0,0,255,1)\">sweet</span> ( They have no other, may she not love you? No! God bless her ), <span style=\"color: rgba(0,0,255,1)\">but</span> your love. \" She has a lot of <span style=\"color: rgba(0,0,255,1)\">children</span>, <span style=\"color: rgba(0,0,255,1)\">love</span> <span style=\"color: rgba(0,0,255,1)\">dear</span> one; Come"
      ],
      "text/plain": [
       "<IPython.core.display.HTML object>"
      ]
     },
     "metadata": {},
     "output_type": "display_data"
    },
    {
     "data": {
      "text/html": [
       "; Roses are red, my love Violets are red, is sweet, my love But not as sweet as you. I went through many books And <span style=\"color: rgba(255,0,0,0.6033398509025574)\">then</span> <span style=\"color: rgba(255,0,0,0.6322854161262512)\">the</span> <span style=\"color: rgba(255,0,0,0.5737470388412476)\">what</span> I read I felt like a book <span style=\"color: rgba(255,0,0,0.5853472948074341)\">again</span> before me. \" Roses are red, my love; Roses <span style=\"color: rgba(255,0,0,0.9810351729393005)\">are</span> <span style=\"color: rgba(255,0,0,0.6058681011199951)\">roses</span>, is sweet, my love But not as sweet as you \" nor not sweet as you. And I went far, but I saw her when I read the book. \" <span style=\"color: rgba(255,0,0,0.6904276609420776)\">Shall</span> I come back to her? Roses are red, my love; <span style=\"color: rgba(255,0,0,0.8981233835220337)\">Roses</span> are red, is <span style=\"color: rgba(255,0,0,0.6428269147872925)\">fair</span> ( They have no other, may she not love you? No! God bless her ), <span style=\"color: rgba(255,0,0,0.9510133266448975)\">for</span> your love. \" She has a lot of <span style=\"color: rgba(255,0,0,0.564635694026947)\">other</span>, <span style=\"color: rgba(255,0,0,0.5568336248397827)\">my</span> <span style=\"color: rgba(255,0,0,0.5856083631515503)\">fair</span> one; Come back"
      ],
      "text/plain": [
       "<IPython.core.display.HTML object>"
      ]
     },
     "metadata": {},
     "output_type": "display_data"
    },
    {
     "data": {
      "text/html": [
       "; Roses are red, my love Violets are <span style=\"color: rgba(0,0,255,1)\">red</span>, is sweet, my love But not as <span style=\"color: rgba(0,0,255,1)\">sweet</span> as you. I went through many <span style=\"color: rgba(0,0,255,1)\">books</span> And <span style=\"color: rgba(0,0,255,1)\">what</span> <span style=\"color: rgba(0,0,255,1)\">a</span> <span style=\"color: rgba(0,0,255,1)\">books</span> I read I felt like a book is <span style=\"color: rgba(0,0,255,1)\">before</span> me. \" Roses are red, my love; Roses are <span style=\"color: rgba(0,0,255,1)\">rose</span>, is <span style=\"color: rgba(0,0,255,1)\">sweet</span>, my love But not as sweet as you \" nor not sweet as you. And I went far, but I saw <span style=\"color: rgba(0,0,255,1)\">her</span> when I read the <span style=\"color: rgba(0,0,255,1)\">book</span>. \" Shall I come back to her? Roses are red, my love; <span style=\"color: rgba(0,0,255,1)\">They</span> are red, is she ( They have no other, may she not love you? No! God bless her ), for your love. \" <span style=\"color: rgba(0,0,255,1)\">She</span> has a lot of <span style=\"color: rgba(0,0,255,1)\">such</span>, <span style=\"color: rgba(0,0,255,1)\">only</span> little one; Come"
      ],
      "text/plain": [
       "<IPython.core.display.HTML object>"
      ]
     },
     "metadata": {},
     "output_type": "display_data"
    },
    {
     "data": {
      "text/html": [
       "; Roses are red, my love Violets are <span style=\"color: rgba(255,0,0,0.6708024740219116)\">blue</span>, is sweet, my love But not as <span style=\"color: rgba(255,0,0,0.9742743968963623)\">sweet</span> as you. I went through many <span style=\"color: rgba(255,0,0,0.6174258589744568)\">books</span> And <span style=\"color: rgba(255,0,0,0.5733658671379089)\">the</span> <span style=\"color: rgba(255,0,0,0.7043130397796631)\">book</span> <span style=\"color: rgba(255,0,0,0.5775812864303589)\">when</span> I read I felt like a book is <span style=\"color: rgba(255,0,0,0.5843466520309448)\">upon</span> me. \" Roses are red, my love; Roses are <span style=\"color: rgba(255,0,0,0.8529008030891418)\">red</span>, is <span style=\"color: rgba(255,0,0,0.9528406858444214)\">sweet</span>, my love But not as sweet as you \" nor not sweet as you. And I went far, but I saw <span style=\"color: rgba(255,0,0,0.6608333587646484)\">nothing</span> when I read the <span style=\"color: rgba(255,0,0,0.9111934900283813)\">book</span>. \" Shall I come back to her? Roses are red, my love; <span style=\"color: rgba(255,0,0,0.9361701011657715)\">Roses</span> are red, is she ( They have no other, may she not love you? No! God bless her ), for your love. \" <span style=\"color: rgba(255,0,0,0.9947860240936279)\">She</span> has a lot of <span style=\"color: rgba(255,0,0,0.8225694894790649)\">other</span>, <span style=\"color: rgba(255,0,0,0.8844683170318604)\">my</span> little one; Come back"
      ],
      "text/plain": [
       "<IPython.core.display.HTML object>"
      ]
     },
     "metadata": {},
     "output_type": "display_data"
    },
    {
     "data": {
      "text/html": [
       "; Roses are red, my love Violets are <span style=\"color: rgba(0,0,255,1)\">grey</span><span style=\"color: rgba(0,0,255,1)\">,</span> is sweet, my love But not as sweet as you. I went through many <span style=\"color: rgba(0,0,255,1)\">weeks</span> And <span style=\"color: rgba(0,0,255,1)\">what</span> books <span style=\"color: rgba(0,0,255,1)\">and</span> I read I felt like a book <span style=\"color: rgba(0,0,255,1)\">is</span> <span style=\"color: rgba(0,0,255,1)\">upon</span> me. \" Roses are red, my love; Roses are green, is sweet, my love But not as sweet as you \" nor not sweet as <span style=\"color: rgba(0,0,255,1)\">you</span>. And I went far<span style=\"color: rgba(0,0,255,1)\">,</span> <span style=\"color: rgba(0,0,255,1)\">but</span> I saw not when I read the book. \" Shall I come back to her? Roses are red<span style=\"color: rgba(0,0,255,1)\">,</span> my love; Roses are red, is she ( They have no other, may she not love you? No! God <span style=\"color: rgba(0,0,255,1)\">b</span>less her ), for your love. \" She has a lot of other, my little one; <span style=\"color: rgba(0,0,255,1)\">Come</span>"
      ],
      "text/plain": [
       "<IPython.core.display.HTML object>"
      ]
     },
     "metadata": {},
     "output_type": "display_data"
    },
    {
     "data": {
      "text/html": [
       "; Roses are red, my love Violets are <span style=\"color: rgba(255,0,0,0.6594541072845459)\">green</span><span style=\"color: rgba(255,0,0,0.992863118648529)\">,</span> is sweet, my love But not as sweet as you. I went through many <span style=\"color: rgba(255,0,0,0.7110519409179688)\">books</span> And <span style=\"color: rgba(255,0,0,0.9217128753662109)\">the</span> books <span style=\"color: rgba(255,0,0,0.9828386902809143)\">that</span> I read I felt like a book <span style=\"color: rgba(255,0,0,0.55195152759552)\">was</span> <span style=\"color: rgba(255,0,0,0.6334182024002075)\">on</span> me. \" Roses are red, my love; Roses are green, is sweet, my love But not as sweet as you \" nor not sweet as <span style=\"color: rgba(255,0,0,0.9683114290237427)\">you</span>. And I went far <span style=\"color: rgba(255,0,0,0.9030418992042542)\">away</span> <span style=\"color: rgba(255,0,0,0.8014677166938782)\">but</span> I saw not when I read the book. \" Shall I come back to her? Roses are red<span style=\"color: rgba(255,0,0,0.9998884201049805)\">,</span> my love; Roses are red, is she ( They have no other, may she not love you? No! God <span style=\"color: rgba(255,0,0,0.9989520311355591)\">b</span>less her ), for your love. \" She has a lot of other, my little one; <span style=\"color: rgba(255,0,0,0.9538688659667969)\">Come</span> back"
      ],
      "text/plain": [
       "<IPython.core.display.HTML object>"
      ]
     },
     "metadata": {},
     "output_type": "display_data"
    },
    {
     "data": {
      "text/html": [
       "; Roses are red, my love Violets are green, is sweet, my love <span style=\"color: rgba(0,0,255,1)\">But</span> not as sweet as you. I went through many books And the books that I read I felt like a book <span style=\"color: rgba(0,0,255,1)\">were</span> <span style=\"color: rgba(0,0,255,1)\">handed</span> me. \" Roses are red, <span style=\"color: rgba(0,0,255,1)\">my</span> love; Roses are green, is <span style=\"color: rgba(0,0,255,1)\">sweet</span>, my love But not as sweet as you \" nor not sweet as you. And I went far away but <span style=\"color: rgba(0,0,255,1)\">I</span> saw not when I read the book. <span style=\"color: rgba(0,0,255,1)\">\"</span> Shall I <span style=\"color: rgba(0,0,255,1)\">come</span> back to her? Roses are red, my love; Roses are red, is <span style=\"color: rgba(0,0,255,1)\">she</span> ( They have no other, may she not love you? No! God bless her ), <span style=\"color: rgba(0,0,255,1)\">for</span> your love. \" She has a lot of other, my little one; Come"
      ],
      "text/plain": [
       "<IPython.core.display.HTML object>"
      ]
     },
     "metadata": {},
     "output_type": "display_data"
    },
    {
     "data": {
      "text/html": [
       "; Roses are red, my love Violets are green, is sweet, my love <span style=\"color: rgba(255,0,0,0.9161115288734436)\">But</span> not as sweet as you. I went through many books And the books that I read I felt like a book <span style=\"color: rgba(255,0,0,0.5514094233512878)\">bound</span> <span style=\"color: rgba(255,0,0,0.7729797959327698)\">to</span> me. \" Roses are red, <span style=\"color: rgba(255,0,0,0.9924256801605225)\">my</span> love; Roses are green, is <span style=\"color: rgba(255,0,0,0.9818129539489746)\">sweet</span>, my love But not as sweet as you \" nor not sweet as you. And I went far away but <span style=\"color: rgba(255,0,0,0.9845972061157227)\">I</span> saw not when I read the book. <span style=\"color: rgba(255,0,0,0.9940013885498047)\">\"</span> Shall I <span style=\"color: rgba(255,0,0,0.9557564854621887)\">come</span> back to her? Roses are red, my love; Roses are red, is <span style=\"color: rgba(255,0,0,0.7101132273674011)\">sweet</span> ( They have no other, may she not love you? No! God bless her ), <span style=\"color: rgba(255,0,0,0.9534283876419067)\">for</span> your love. \" She has a lot of other, my little one; Come back"
      ],
      "text/plain": [
       "<IPython.core.display.HTML object>"
      ]
     },
     "metadata": {},
     "output_type": "display_data"
    },
    {
     "data": {
      "text/html": [
       "; Roses are red, my love <span style=\"color: rgba(0,0,255,1)\">Violet</span>s <span style=\"color: rgba(0,0,255,1)\">are</span> green, is sweet, my love But not as <span style=\"color: rgba(0,0,255,1)\">sweet</span> as you. I went through many books And the books that I read I felt <span style=\"color: rgba(0,0,255,1)\">like</span> a book <span style=\"color: rgba(0,0,255,1)\">itself</span> <span style=\"color: rgba(0,0,255,1)\">by</span> me. \" Roses are red, <span style=\"color: rgba(0,0,255,1)\">my</span> love; Roses are green, is sweet, my love But not as sweet as you \" nor not sweet as you. And I went far away but I saw not when <span style=\"color: rgba(0,0,255,1)\">I</span> read the book. \" Shall I come back to her? Roses are red, my love; Roses are red, is fair ( They have no <span style=\"color: rgba(0,0,255,1)\">other</span>, may <span style=\"color: rgba(0,0,255,1)\">she</span> not love you? No! God bless her ), for your love. \" She has a lot of other, <span style=\"color: rgba(0,0,255,1)\">my</span> little one; Come"
      ],
      "text/plain": [
       "<IPython.core.display.HTML object>"
      ]
     },
     "metadata": {},
     "output_type": "display_data"
    },
    {
     "data": {
      "text/html": [
       "; Roses are red, my love <span style=\"color: rgba(255,0,0,0.5700682997703552)\">Know</span>s <span style=\"color: rgba(255,0,0,0.6725857257843018)\">is</span> green, is sweet, my love But not as <span style=\"color: rgba(255,0,0,0.9428977370262146)\">sweet</span> as you. I went through many books And the books that I read I felt <span style=\"color: rgba(255,0,0,0.7056882381439209)\">for</span> a book <span style=\"color: rgba(255,0,0,0.6504918932914734)\">was</span> <span style=\"color: rgba(255,0,0,0.7154985666275024)\">for</span> me. \" Roses are red, <span style=\"color: rgba(255,0,0,0.9996167421340942)\">my</span> love; Roses are green, is sweet, my love But not as sweet as you \" nor not sweet as you. And I went far away but I saw not when <span style=\"color: rgba(255,0,0,0.9998159408569336)\">I</span> read the book. \" Shall I come back to her? Roses are red, my love; Roses are red, is fair ( They have no <span style=\"color: rgba(255,0,0,0.8320308923721313)\">other</span>, may <span style=\"color: rgba(255,0,0,0.9846831560134888)\">she</span> not love you? No! God bless her ), for your love. \" She has a lot of other, <span style=\"color: rgba(255,0,0,0.9927911758422852)\">my</span> little one; Come back"
      ],
      "text/plain": [
       "<IPython.core.display.HTML object>"
      ]
     },
     "metadata": {},
     "output_type": "display_data"
    },
    {
     "data": {
      "text/html": [
       "; Roses are red, my love <span style=\"color: rgba(0,0,255,1)\">Hate</span>s is green, is sweet, my love But not as <span style=\"color: rgba(0,0,255,1)\">sweet</span> as you. I went through many <span style=\"color: rgba(0,0,255,1)\">books</span> And the books that <span style=\"color: rgba(0,0,255,1)\">I</span> read I felt <span style=\"color: rgba(0,0,255,1)\">if</span> <span style=\"color: rgba(0,0,255,1)\">a</span> book was to me. \" Roses are red, my love<span style=\"color: rgba(0,0,255,1)\">;</span> Roses are green, is sweet, my love But not <span style=\"color: rgba(0,0,255,1)\">as</span> sweet as you \" nor not sweet as you. And I went far away but I saw not when I <span style=\"color: rgba(0,0,255,1)\">read</span> the book. \" Shall I come back to her<span style=\"color: rgba(0,0,255,1)\">?</span> Roses are red, my love; Roses are red, is fair ( They have no other, may she not love you? No! God bless her )<span style=\"color: rgba(0,0,255,1)\">,</span> for your love. \" She has a lot of other, my little one; Come"
      ],
      "text/plain": [
       "<IPython.core.display.HTML object>"
      ]
     },
     "metadata": {},
     "output_type": "display_data"
    },
    {
     "data": {
      "text/html": [
       "; Roses are red, my love <span style=\"color: rgba(255,0,0,0.753131628036499)\">Her</span>s is green, is sweet, my love But not as <span style=\"color: rgba(255,0,0,0.9511200189590454)\">sweet</span> as you. I went through many <span style=\"color: rgba(255,0,0,0.5580902099609375)\">books</span> And the books that <span style=\"color: rgba(255,0,0,0.9929623007774353)\">I</span> read I felt <span style=\"color: rgba(255,0,0,0.6141716837882996)\">as</span> <span style=\"color: rgba(255,0,0,0.9197744727134705)\">the</span> book was to me. \" Roses are red, my love<span style=\"color: rgba(255,0,0,0.9599885940551758)\">;</span> Roses are green, is sweet, my love But not <span style=\"color: rgba(255,0,0,0.9103359580039978)\">so</span> sweet as you \" nor not sweet as you. And I went far away but I saw not when I <span style=\"color: rgba(255,0,0,0.9756767749786377)\">read</span> the book. \" Shall I come back to her<span style=\"color: rgba(255,0,0,0.9988987445831299)\">?</span> Roses are red, my love; Roses are red, is fair ( They have no other, may she not love you? No! God bless her ) <span style=\"color: rgba(255,0,0,0.8777673244476318)\">but</span> for your love. \" She has a lot of other, my little one; Come back"
      ],
      "text/plain": [
       "<IPython.core.display.HTML object>"
      ]
     },
     "metadata": {},
     "output_type": "display_data"
    },
    {
     "data": {
      "text/html": [
       "; <span style=\"color: rgba(0,0,255,1)\">Roses</span> are red, my love <span style=\"color: rgba(0,0,255,1)\">violet</span>s is green, is sweet, my love But not as <span style=\"color: rgba(0,0,255,1)\">sweet</span> as <span style=\"color: rgba(0,0,255,1)\">you</span>. I went through many<span style=\"color: rgba(0,0,255,1)\">Q</span> And the books that I read I felt<span style=\"color: rgba(0,0,255,1)\">,</span> the book was to me. \" Roses are red, my love; Roses are green, is sweet, my love But not so sweet as you \" nor not sweet as you. And I went far away but <span style=\"color: rgba(0,0,255,1)\">I</span> saw not when I read the book. \" <span style=\"color: rgba(0,0,255,1)\">Shall</span> I come back to her? Roses are red<span style=\"color: rgba(0,0,255,1)\">,</span> <span style=\"color: rgba(0,0,255,1)\">my</span> love; Roses are red, is fair ( They have no other, may she not love you? No! God <span style=\"color: rgba(0,0,255,1)\">b</span>less her ) but for your love. \" She has a lot of <span style=\"color: rgba(0,0,255,1)\">other</span>, my little one; Come"
      ],
      "text/plain": [
       "<IPython.core.display.HTML object>"
      ]
     },
     "metadata": {},
     "output_type": "display_data"
    },
    {
     "data": {
      "text/html": [
       "; <span style=\"color: rgba(255,0,0,0.9941908121109009)\">Roses</span> are red, my love <span style=\"color: rgba(255,0,0,0.656096875667572)\">Las</span>s is green, is sweet, my love But not as <span style=\"color: rgba(255,0,0,0.914577841758728)\">sweet</span> as <span style=\"color: rgba(255,0,0,0.999591052532196)\">you</span>. I went through many <span style=\"color: rgba(255,0,0,0.6675207018852234)\">books</span> And the books that I read I felt <span style=\"color: rgba(255,0,0,0.6633485555648804)\">as</span> the book was to me. \" Roses are red, my love; Roses are green, is sweet, my love But not so sweet as you \" nor not sweet as you. And I went far away but <span style=\"color: rgba(255,0,0,0.991212785243988)\">I</span> saw not when I read the book. \" <span style=\"color: rgba(255,0,0,0.6918783187866211)\">May</span> I come back to her? Roses are red<span style=\"color: rgba(255,0,0,0.9993500113487244)\">,</span> <span style=\"color: rgba(255,0,0,0.995146632194519)\">my</span> love; Roses are red, is fair ( They have no other, may she not love you? No! God <span style=\"color: rgba(255,0,0,0.999679684638977)\">b</span>less her ) but for your love. \" She has a lot of <span style=\"color: rgba(255,0,0,0.577799379825592)\">love</span>, my little one; Come back"
      ],
      "text/plain": [
       "<IPython.core.display.HTML object>"
      ]
     },
     "metadata": {},
     "output_type": "display_data"
    },
    {
     "data": {
      "text/html": [
       "; Roses are red, my love <span style=\"color: rgba(0,0,255,1)\">Pier</span>s is green, is sweet, my love <span style=\"color: rgba(0,0,255,1)\">But</span> not <span style=\"color: rgba(0,0,255,1)\">as</span> sweet as you. I went through many books And the books that I read I felt <span style=\"color: rgba(0,0,255,1)\">so</span> the book was to me. \" Roses are red, my love; Roses are green, is sweet, my love But not so sweet as you \" nor not sweet as <span style=\"color: rgba(0,0,255,1)\">you</span>. And I went far away but I saw not <span style=\"color: rgba(0,0,255,1)\">when</span> I read the <span style=\"color: rgba(0,0,255,1)\">book</span><span style=\"color: rgba(0,0,255,1)\">.</span> \" Will I <span style=\"color: rgba(0,0,255,1)\">come</span> back to her? Roses are red, my love; Roses are red, is fair ( They <span style=\"color: rgba(0,0,255,1)\">have</span> no other, may she not love you? No! God bless her ) but for your love. <span style=\"color: rgba(0,0,255,1)\">\"</span> She has a lot of <span style=\"color: rgba(0,0,255,1)\">suffering</span>, my little one; Come"
      ],
      "text/plain": [
       "<IPython.core.display.HTML object>"
      ]
     },
     "metadata": {},
     "output_type": "display_data"
    },
    {
     "data": {
      "text/html": [
       "; Roses are red, my love <span style=\"color: rgba(255,0,0,0.5478883385658264)\">Her</span>s is green, is sweet, my love <span style=\"color: rgba(255,0,0,0.9845066070556641)\">But</span> not <span style=\"color: rgba(255,0,0,0.9990662336349487)\">so</span> sweet as you. I went through many books And the books that I read I felt <span style=\"color: rgba(255,0,0,0.7373422980308533)\">for</span> the book was to me. \" Roses are red, my love; Roses are green, is sweet, my love But not so sweet as you \" nor not sweet as <span style=\"color: rgba(255,0,0,0.9954102039337158)\">you</span>. And I went far away but I saw not <span style=\"color: rgba(255,0,0,0.713202714920044)\">Till</span> I read the <span style=\"color: rgba(255,0,0,0.8601440191268921)\">book</span><span style=\"color: rgba(255,0,0,0.9752287864685059)\">.</span> \" Will I <span style=\"color: rgba(255,0,0,0.8673166036605835)\">come</span> back to her? Roses are red, my love; Roses are red, is fair ( They <span style=\"color: rgba(255,0,0,0.9134225845336914)\">have</span> no other, may she not love you? No! God bless her ) but for your love. <span style=\"color: rgba(255,0,0,0.9986295700073242)\">\"</span> She has a lot of <span style=\"color: rgba(255,0,0,0.6806578040122986)\">roses</span>, my little one; Come back"
      ],
      "text/plain": [
       "<IPython.core.display.HTML object>"
      ]
     },
     "metadata": {},
     "output_type": "display_data"
    },
    {
     "data": {
      "text/html": [
       "; Roses are red, my love <span style=\"color: rgba(0,0,255,1)\">Our</span>s is green, is sweet, my love <span style=\"color: rgba(0,0,255,1)\">But</span> not <span style=\"color: rgba(0,0,255,1)\">so</span> sweet as you. I went through many books And the books that I read I felt <span style=\"color: rgba(0,0,255,1)\">for</span> the book was to me. \" Roses are red, my love; Roses are green, is sweet, my love But not so sweet as you \" nor not sweet as <span style=\"color: rgba(0,0,255,1)\">you</span>. And I went far away but I saw not <span style=\"color: rgba(0,0,255,1)\">and</span> I read the <span style=\"color: rgba(0,0,255,1)\">book</span><span style=\"color: rgba(0,0,255,1)\">.</span> \" Will I <span style=\"color: rgba(0,0,255,1)\">go</span> back to her? Roses are red, my love; Roses are red, is fair ( They <span style=\"color: rgba(0,0,255,1)\">had</span> no other, may she not love you? No! God bless her ) but for your love. <span style=\"color: rgba(0,0,255,1)\">\"</span> She has a lot of <span style=\"color: rgba(0,0,255,1)\">roses</span>, my little one; Come"
      ],
      "text/plain": [
       "<IPython.core.display.HTML object>"
      ]
     },
     "metadata": {},
     "output_type": "display_data"
    },
    {
     "data": {
      "text/html": [
       "; Roses are red, my love <span style=\"color: rgba(255,0,0,0.5478883385658264)\">Her</span>s is green, is sweet, my love <span style=\"color: rgba(255,0,0,0.9845066070556641)\">But</span> not <span style=\"color: rgba(255,0,0,0.9990662336349487)\">so</span> sweet as you. I went through many books And the books that I read I felt <span style=\"color: rgba(255,0,0,0.7373422980308533)\">for</span> the book was to me. \" Roses are red, my love; Roses are green, is sweet, my love But not so sweet as you \" nor not sweet as <span style=\"color: rgba(255,0,0,0.9954102039337158)\">you</span>. And I went far away but I saw not <span style=\"color: rgba(255,0,0,0.713202714920044)\">Till</span> I read the <span style=\"color: rgba(255,0,0,0.8601440191268921)\">book</span><span style=\"color: rgba(255,0,0,0.9752287864685059)\">.</span> \" Will I <span style=\"color: rgba(255,0,0,0.8673166036605835)\">come</span> back to her? Roses are red, my love; Roses are red, is fair ( They <span style=\"color: rgba(255,0,0,0.9134225845336914)\">have</span> no other, may she not love you? No! God bless her ) but for your love. <span style=\"color: rgba(255,0,0,0.9986295700073242)\">\"</span> She has a lot of <span style=\"color: rgba(255,0,0,0.6806578040122986)\">roses</span>, my little one; Come back"
      ],
      "text/plain": [
       "<IPython.core.display.HTML object>"
      ]
     },
     "metadata": {},
     "output_type": "display_data"
    },
    {
     "name": "stdout",
     "output_type": "stream",
     "text": [
      "; Roses are red, my love Ours is green, is sweet, my love But not so sweet as you. I went through many books And the books that I read I felt for the book was to me. \" Roses are red, my love; Roses are green, is sweet, my love But not so sweet as you \" nor not sweet as you. And I went far away but I saw not and I read the book. \" Will I go back to her? Roses are red, my love; Roses are red, is fair ( They had no other, may she not love you? No! God bless her ) but for your love. \" She has a lot of roses, my little one; Come\n"
     ]
    },
    {
     "data": {
      "text/plain": [
       "'; Roses are red, my love Ours is green, is sweet, my love But not so sweet as you. I went through many books And the books that I read I felt for the book was to me. \" Roses are red, my love; Roses are green, is sweet, my love But not so sweet as you \" nor not sweet as you. And I went far away but I saw not and I read the book. \" Will I go back to her? Roses are red, my love; Roses are red, is fair ( They had no other, may she not love you? No! God bless her ) but for your love. \" She has a lot of roses, my little one; Come'"
      ]
     },
     "execution_count": 64,
     "metadata": {},
     "output_type": "execute_result"
    }
   ],
   "source": [
    "text=\"\"\" \n",
    "\"Roses are red, my love\n",
    "Violets are blue\n",
    "Sugar is sweet, my love\n",
    "But not as sweet as you\"\n",
    "We dated through high school\n",
    "And when the big day came\n",
    "I wrote into your book\n",
    "Next to my name\n",
    "\"Roses are red, my love\n",
    "Violets are blue\n",
    "Sugar is sweet, my love\n",
    "But not as sweet as you\" (as sweet as you)\n",
    "Then I went far away\n",
    "And you found someone new\n",
    "I read your letter, dear\n",
    "And I wrote back to you\n",
    "\"Roses are red, my love\n",
    "Violets are blue\n",
    "Sugar is sweet, my love\n",
    "Good luck, may god bless you\" (may god bless you)\n",
    "Is that your little girl?\n",
    "She looks a lot like you\n",
    "Someday some boy will write\n",
    "In her book, too\n",
    "\"Roses are red, my love\n",
    "Violets are blue\n",
    "Sugar is sweet, my love\n",
    "But not as sweet as you\" (roses are red)\n",
    "\"\"\"\n",
    "# (blue changes are removed words, red are added words, where the darkness is the models confidence)\n",
    "poem=improve_words_recursive(\n",
    "    text, \n",
    "    processor, \n",
    "    tokenizer, \n",
    "    model, \n",
    "    device=device, \n",
    "    max_seq_length=150, # how long the block of text it, the model is best on 150 words. Best not to change this\n",
    "    debug=1, # how often to print the blue and red debug text    \n",
    "    \n",
    "    # You can try tweaking these to get more or less stability\n",
    "    ITERATIVE_MASK_FRAC=0.06, # fraction of words to replace each iteration\n",
    "    iterations=60, # At each iterations replaces some (ITERATIVE_MASK_FRAC) words. To low and the original words remain. 10-100 seem ok.\n",
    "    T=1, # Temperature - Higher gives more random, but less stable output. Default=1, ranges 0.1-inf.\n",
    "\n",
    ")\n",
    "poem"
   ]
  },
  {
   "cell_type": "code",
   "execution_count": null,
   "metadata": {},
   "outputs": [],
   "source": []
  },
  {
   "cell_type": "code",
   "execution_count": null,
   "metadata": {},
   "outputs": [],
   "source": []
  }
 ],
 "metadata": {
  "kernelspec": {
   "display_name": "Python [conda env:pytorch_p36]",
   "language": "python",
   "name": "conda-env-pytorch_p36-py"
  },
  "language_info": {
   "codemirror_mode": {
    "name": "ipython",
    "version": 3
   },
   "file_extension": ".py",
   "mimetype": "text/x-python",
   "name": "python",
   "nbconvert_exporter": "python",
   "pygments_lexer": "ipython3",
   "version": "3.6.5"
  },
  "notify_time": "5",
  "toc": {
   "colors": {
    "hover_highlight": "#DAA520",
    "navigate_num": "#000000",
    "navigate_text": "#333333",
    "running_highlight": "#FF0000",
    "selected_highlight": "#FFD700",
    "sidebar_border": "#EEEEEE",
    "wrapper_background": "#FFFFFF"
   },
   "moveMenuLeft": true,
   "nav_menu": {
    "height": "103px",
    "width": "251px"
   },
   "navigate_menu": true,
   "number_sections": true,
   "sideBar": true,
   "threshold": 4,
   "toc_cell": false,
   "toc_position": {
    "height": "536px",
    "left": "0px",
    "right": "1413.33px",
    "top": "150px",
    "width": "185px"
   },
   "toc_section_display": "block",
   "toc_window_display": true,
   "widenNotebook": false
  }
 },
 "nbformat": 4,
 "nbformat_minor": 2
}
