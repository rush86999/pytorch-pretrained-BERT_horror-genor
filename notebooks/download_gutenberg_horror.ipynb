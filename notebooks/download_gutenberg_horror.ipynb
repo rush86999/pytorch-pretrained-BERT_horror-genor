{
 "cells": [
  {
   "cell_type": "markdown",
   "metadata": {
    "ExecuteTime": {
     "end_time": "2018-11-04T02:29:54.022099Z",
     "start_time": "2018-11-04T02:29:54.017857Z"
    }
   },
   "source": [
    "# Fetch guternberg books from a category"
   ]
  },
  {
   "cell_type": "markdown",
   "metadata": {},
   "source": [
    "## Step 1, get book ids\n",
    "\n",
    "- go to http://m.gutenberg.org/ebooks/search.mobile/?query=bsxHorror&sort_order=downloads\n",
    "\n",
    "- scroll to the bottom and click \"show more\" a few times\n",
    "- enter the javascript below in the browsers js console\n",
    "- it should have copied the ids to your clipboard, you can paste it into \"ids\" below\n",
    "\n",
    "\n",
    "```js\n",
    "// to get all book ids shown on page, paste this javascript into js console in browser when on the page above\n",
    "a_elems = document.getElementsByClassName(\"table link\")\n",
    "hrefs = Array.from(a_elems)\n",
    "  .map(e=>e.href) // get link\n",
    "  .filter(e=>e) // remove empty links\n",
    "ids = hrefs.map(e=>/(\\d+)\\.mobile/.exec(e)) // regular expression match\n",
    "  .filter(e=>e) // remove ones not found\n",
    "  .map(e=>e[1]) // get just id\n",
    "copy(ids) // copy to clipboard\n",
    "```"
   ]
  },
  {
   "cell_type": "code",
   "execution_count": 7,
   "metadata": {
    "ExecuteTime": {
     "end_time": "2018-11-10T07:56:34.724454Z",
     "start_time": "2018-11-10T07:56:34.718401Z"
    }
   },
   "outputs": [],
   "source": [
    "import requests\n",
    "import os\n",
    "import re\n",
    "import bs4\n",
    "import time\n",
    "import json\n",
    "from tqdm import tqdm_notebook as tqdm\n",
    "\n",
    "dest_dir = '../data/input/horror_gutenberg'\n",
    "if not os.path.isdir(dest_dir):\n",
    "    os.makedirs(dest_dir)\n",
    "    \n",
    "raw_dir = os.path.join(dest_dir, 'raw')\n",
    "if not os.path.isdir(raw_dir):\n",
    "    os.makedirs(raw_dir)"
   ]
  },
  {
   "cell_type": "code",
   "execution_count": 8,
   "metadata": {
    "ExecuteTime": {
     "end_time": "2018-11-10T07:56:35.103285Z",
     "start_time": "2018-11-10T07:56:35.072670Z"
    }
   },
   "outputs": [],
   "source": [
    "# urls to download text inputs\n",
    "ids = [\n",
    "  \"345\",\n",
    "  \"43\",\n",
    "  \"5200\",\n",
    "  \"209\",\n",
    "  \"2148\",\n",
    "  \"375\",\n",
    "  \"42\",\n",
    "  \"10007\",\n",
    "  \"2147\",\n",
    "  \"8492\",\n",
    "  \"7849\",\n",
    "  \"6087\",\n",
    "  \"389\",\n",
    "  \"11438\",\n",
    "  \"10897\",\n",
    "  \"2149\",\n",
    "  \"10150\",\n",
    "  \"31469\",\n",
    "  \"2151\",\n",
    "  \"10002\",\n",
    "  \"10662\",\n",
    "  \"8486\",\n",
    "  \"2150\",\n",
    "  \"14833\",\n",
    "  \"23172\",\n",
    "  \"53419\",\n",
    "  \"25016\",\n",
    "  \"16726\",\n",
    "  \"3781\",\n",
    "  \"1188\",\n",
    "  \"20387\",\n",
    "  \"11074\",\n",
    "  \"9629\",\n",
    "  \"20034\",\n",
    "  \"19797\",\n",
    "  \"3095\",\n",
    "  \"17144\",\n",
    "  \"14082\",\n",
    "  \"14168\",\n",
    "  \"10542\",\n",
    "  \"14317\",\n",
    "  \"14107\",\n",
    "  \"2520\",\n",
    "  \"18233\",\n",
    "  \"10053\",\n",
    "  \"6534\",\n",
    "  \"14154\",\n",
    "  \"18089\",\n",
    "  \"12562\"\n",
    "]\n"
   ]
  },
  {
   "cell_type": "code",
   "execution_count": 9,
   "metadata": {
    "ExecuteTime": {
     "end_time": "2018-11-10T07:59:46.778769Z",
     "start_time": "2018-11-10T07:56:37.592614Z"
    }
   },
   "outputs": [
    {
     "data": {
      "application/vnd.jupyter.widget-view+json": {
       "model_id": "0bc572125aa949e0b965e34b59667fe4",
       "version_major": 2,
       "version_minor": 0
      },
      "text/plain": [
       "HBox(children=(IntProgress(value=0, max=49), HTML(value='')))"
      ]
     },
     "metadata": {},
     "output_type": "display_data"
    },
    {
     "name": "stdout",
     "output_type": "stream",
     "text": [
      "\n"
     ]
    }
   ],
   "source": [
    "# download/cache raw files\n",
    "for bid in tqdm(ids):\n",
    "    \n",
    "    # first download index\n",
    "    index_url = \"http://www.gutenberg.org/files/{bid:}\".format(bid=bid)\n",
    "    r = requests.get(index_url)\n",
    "    r.raise_for_status()\n",
    "    soup = bs4.BeautifulSoup(r.content, \"html5lib\")\n",
    "    hrefs = [e.attrs['href'] for e in soup.findAll('a')]\n",
    "    links = [h for h in hrefs if h.endswith('.txt')]\n",
    "    \n",
    "    # download text\n",
    "    for link in links:\n",
    "        txt_url = index_url + '/' + link\n",
    "        outfile = os.path.join(dest_dir, 'raw', link)\n",
    "        if not os.path.isfile(outfile):\n",
    "            r = requests.get(txt_url)\n",
    "            r.raise_for_status()\n",
    "            open(outfile, 'w').write(r.text)\n",
    "            \n",
    "    time.sleep(0.15) # avoid ddos/ban"
   ]
  },
  {
   "cell_type": "code",
   "execution_count": 10,
   "metadata": {
    "ExecuteTime": {
     "end_time": "2018-11-10T07:59:46.801257Z",
     "start_time": "2018-11-10T07:59:46.784066Z"
    }
   },
   "outputs": [],
   "source": [
    "# from https://github.com/motoom/gutenberg-ebook-scraping/blob/master/gutenberg.py\n",
    "\n",
    "# Repetitive stuff I don't want to read a 1000 times on my eBook reader.\n",
    "remove = [\"Produced by\",\"End of the Project Gutenberg\",\"End of Project Gutenberg\"]\n",
    "\n",
    "def beautify(text):\n",
    "    ''' Reads a raw Project Gutenberg etext, reformat paragraphs,\n",
    "    and removes fluff.  Determines the title of the book'''\n",
    "    FIRST_CONTENT_LINE_LENGTH=300\n",
    "    lines = [line.strip() for line in text.split('\\n')]\n",
    "    collect = False\n",
    "    lookforsubtitle = False\n",
    "    outlines = []\n",
    "    startseen = endseen = False\n",
    "    found_first_paragraph = False\n",
    "    title=\"\"\n",
    "    author=\"\"\n",
    "    language=\"\"\n",
    "    extra=[]\n",
    "    for line in lines:\n",
    "        if line.startswith(\"Author: \"):\n",
    "            author = line[8:]\n",
    "        if line.startswith(\"Language: \"):\n",
    "            language = line[10:]\n",
    "        if line.startswith(\"Title: \"):\n",
    "            title = line[7:]\n",
    "            lookforsubtitle = True\n",
    "            continue\n",
    "        if lookforsubtitle:\n",
    "            if not line.strip():\n",
    "                lookforsubtitle = False\n",
    "            else:\n",
    "                subtitle = line.strip()\n",
    "                subtitle = subtitle.strip(\".\")\n",
    "                title += \", \" + subtitle\n",
    "        if (\"*** START\" in line) or (\"***START\" in line) or (line.startswith(\"*END THE SMALL PRINT!\")):\n",
    "            collect = startseen = True\n",
    "            paragraph = \"\"\n",
    "            extra.append(line)\n",
    "            continue\n",
    "            \n",
    "        \n",
    "        if (\"*** END\" in line) or (\"***END\" in line):\n",
    "            endseen = True\n",
    "            extra.append(line)\n",
    "            break           \n",
    "        if not collect:\n",
    "            extra.append(line)\n",
    "            continue\n",
    "        if not line:\n",
    "            paragraph = paragraph.strip().replace('_', '')\n",
    "            for term in remove:\n",
    "                if paragraph.startswith(term):\n",
    "                    extra.append(line)\n",
    "                    paragraph = \"\"\n",
    "                    break\n",
    "            # Skip all the misc paragraphs, and only start at the first long paragraphs\n",
    "            if not found_first_paragraph:\n",
    "                if len(paragraph)>FIRST_CONTENT_LINE_LENGTH:\n",
    "                    found_first_paragraph = True\n",
    "            if paragraph and found_first_paragraph:\n",
    "                outlines.append(paragraph)\n",
    "                outlines.append(\"\")\n",
    "            paragraph = \"\"\n",
    "        else:\n",
    "            paragraph += \" \" + line\n",
    "\n",
    "    # Report on anomalous situations, but don't make it a showstopper.\n",
    "    if not title:\n",
    "#         print (ofn)\n",
    "        print (\"    Problem: No title found\\n\")\n",
    "    if not startseen:\n",
    "#         print (ofn)\n",
    "        print (\"    Problem: No '*** START' seen\\n\")\n",
    "    if not endseen:\n",
    "#         print (ofn)\n",
    "        print (\"    Problem: No '*** END' seen\\n\")\n",
    "        \n",
    "    return dict(\n",
    "        content='\\n'.join(outlines),\n",
    "        title=title,\n",
    "        author=author,\n",
    "        language=language,\n",
    "        extra=extra\n",
    "    )\n",
    "        \n"
   ]
  },
  {
   "cell_type": "markdown",
   "metadata": {},
   "source": [
    "# 2. turn into cleaned(ish) txt"
   ]
  },
  {
   "cell_type": "code",
   "execution_count": 11,
   "metadata": {
    "ExecuteTime": {
     "end_time": "2018-11-10T07:59:47.220267Z",
     "start_time": "2018-11-10T07:59:46.804549Z"
    }
   },
   "outputs": [],
   "source": [
    "from sklearn.model_selection import train_test_split"
   ]
  },
  {
   "cell_type": "code",
   "execution_count": 15,
   "metadata": {
    "ExecuteTime": {
     "end_time": "2018-11-10T08:04:50.435774Z",
     "start_time": "2018-11-10T08:04:49.304240Z"
    }
   },
   "outputs": [
    {
     "name": "stdout",
     "output_type": "stream",
     "text": [
      "Animal Ghosts, Or, Animal Hauntings and the Hereafter\n",
      "The Sorcery Club\n",
      "The Works of Edgar Allan Poe, Volume 5 (of 5) of the Raven Edition\n",
      "Dracula\n",
      "Ghost Stories of an Antiquary, Part 2: More Ghost Stories\n",
      "The House of the Vampire\n",
      "An Occurrence at Owl Creek\n",
      "The Tale of Terror\n",
      "The King in Yellow\n",
      "The Trial\n",
      "Dracula\n",
      "The Lair of the White Worm\n",
      "The House of the Vampire\n",
      "The Trial\n",
      "The Vampyre; A Tale\n",
      "A Thin Ghost and Others\n",
      "A Thin Ghost and Others\n",
      "Widdershins\n",
      "The Sorcery Club\n",
      "The Works of Edgar Allan Poe, Volume 3 (of 5) of the Raven Edition\n",
      "Metamorphosis\n",
      "The Great God Pan\n",
      "The Boats of the \"Glen Carrig\"\n",
      "The Works of Edgar Allan Poe, Volume 5 (of 5) of the Raven Edition\n",
      "The Night Land\n",
      "Ghost Stories of an Antiquary, Part 2: More Ghost Stories\n",
      "The Damned\n",
      "Ghost Stories of an Antiquary\n",
      "Twenty-Five Ghost Stories\n",
      "Animal Ghosts, Or, Animal Hauntings and the Hereafter\n",
      "Carmilla\n",
      "The Works of Edgar Allan Poe, Volume 2 (of 5) of the Raven Edition\n",
      "The Vampyre; A Tale\n",
      "Scottish Ghost Stories\n",
      "The Turn of the Screw\n",
      "The House on the Borderland\n",
      "The Damned Thing, 1898, From \"In the Midst of Life\"\n",
      "The Man\n",
      "The House of Souls\n",
      "The House on the Borderland\n",
      "The Works of Edgar Allan Poe, Volume 4 (of 5) of the Raven Edition\n",
      "The Shunned House\n",
      "Dracula\n",
      "The Works of Edgar Allan Poe, Volume 2 (of 5) of the Raven Edition\n",
      "The Willows\n",
      "Dracula's Guest\n",
      "Varney the Vampire, Or the Feast of Blood\n",
      "The Works of Edgar Allan Poe, Volume 1 (of 5) of the Raven Edition\n",
      "Scottish Ghost Stories\n",
      "The Turn of the Screw\n",
      "Ghost Stories of an Antiquary\n",
      "The House of Souls\n",
      "Dracula's Guest\n",
      "Widdershins\n",
      "The Lost Stradivarius\n",
      "The Wendigo\n",
      "The Shunned House\n",
      "Dracula\n",
      "The Lady of the Shroud\n",
      "The Jewel of Seven Stars\n",
      "The Works of Edgar Allan Poe, Volume 5 (of 5) of the Raven Edition\n",
      "The Wendigo\n",
      "The Strange Case Of Dr. Jekyll And Mr. Hyde\n",
      "The Works of Edgar Allan Poe, Volume 2 (of 5) of the Raven Edition\n",
      "Carmilla\n",
      "The Tale of Terror\n",
      "The Works of Edgar Allan Poe, Volume 1 (of 5) of the Raven Edition\n",
      "Dr. Jekyll and Mr. Hyde\n",
      "Four Weird Tales\n",
      "The Lost Stradivarius\n",
      "The King in Yellow\n"
     ]
    }
   ],
   "source": [
    "# convert raw text into one long csv\n",
    "\n",
    "max_len = 400\n",
    "num_sent = 6\n",
    "data=[]\n",
    "for infile in os.listdir(raw_dir):\n",
    "    path = os.path.join(raw_dir, infile)\n",
    "    info = beautify(open(path).read())\n",
    "    if info['language']=='English':\n",
    "        print(info['title'])\n",
    "        data.append(info['content'])"
   ]
  },
  {
   "cell_type": "code",
   "execution_count": 13,
   "metadata": {
    "ExecuteTime": {
     "end_time": "2018-11-10T07:59:48.316190Z",
     "start_time": "2018-11-10T07:59:48.312740Z"
    }
   },
   "outputs": [],
   "source": [
    "x_train, x_test = train_test_split(data)\n",
    "x_val, x_test = train_test_split(x_test)"
   ]
  },
  {
   "cell_type": "code",
   "execution_count": 14,
   "metadata": {
    "ExecuteTime": {
     "end_time": "2018-11-10T07:59:48.427697Z",
     "start_time": "2018-11-10T07:59:48.318441Z"
    }
   },
   "outputs": [
    {
     "data": {
      "text/plain": [
       "1677913"
      ]
     },
     "execution_count": 14,
     "metadata": {},
     "output_type": "execute_result"
    }
   ],
   "source": [
    "open(os.path.join(dest_dir, \"train.txt\"), \"w\").write(\"\\n\\n\".join(x_train))\n",
    "open(os.path.join(dest_dir, \"val.txt\"), \"w\").write(\"\\n\\n\".join(x_val))\n",
    "open(os.path.join(dest_dir, \"test.txt\"), \"w\").write(\"\\n\\n\".join(x_test))"
   ]
  },
  {
   "cell_type": "code",
   "execution_count": null,
   "metadata": {
    "ExecuteTime": {
     "end_time": "2018-11-10T04:40:37.630839Z",
     "start_time": "2018-11-10T04:40:37.623567Z"
    }
   },
   "outputs": [],
   "source": []
  },
  {
   "cell_type": "code",
   "execution_count": null,
   "metadata": {},
   "outputs": [],
   "source": []
  },
  {
   "cell_type": "code",
   "execution_count": null,
   "metadata": {},
   "outputs": [],
   "source": []
  }
 ],
 "metadata": {
  "kernelspec": {
   "display_name": "jupyter3",
   "language": "python",
   "name": "jupyter3"
  },
  "language_info": {
   "codemirror_mode": {
    "name": "ipython",
    "version": 3
   },
   "file_extension": ".py",
   "mimetype": "text/x-python",
   "name": "python",
   "nbconvert_exporter": "python",
   "pygments_lexer": "ipython3",
   "version": "3.5.3"
  },
  "toc": {
   "colors": {
    "hover_highlight": "#DAA520",
    "navigate_num": "#000000",
    "navigate_text": "#333333",
    "running_highlight": "#FF0000",
    "selected_highlight": "#FFD700",
    "sidebar_border": "#EEEEEE",
    "wrapper_background": "#FFFFFF"
   },
   "moveMenuLeft": true,
   "nav_menu": {
    "height": "91px",
    "width": "251px"
   },
   "navigate_menu": true,
   "number_sections": true,
   "sideBar": true,
   "threshold": 4,
   "toc_cell": false,
   "toc_position": {
    "height": "647px",
    "left": "0px",
    "right": "1286.33px",
    "top": "150px",
    "width": "312px"
   },
   "toc_section_display": "block",
   "toc_window_display": true,
   "widenNotebook": false
  }
 },
 "nbformat": 4,
 "nbformat_minor": 2
}
